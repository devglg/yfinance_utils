{
 "cells": [
  {
   "cell_type": "markdown",
   "metadata": {},
   "source": [
    "Copyright 2024 Lehi Gracia"
   ]
  },
  {
   "cell_type": "code",
   "execution_count": 3,
   "metadata": {},
   "outputs": [],
   "source": [
    "STOCK = 'VRT'"
   ]
  },
  {
   "cell_type": "code",
   "execution_count": null,
   "metadata": {},
   "outputs": [
    {
     "name": "stdout",
     "output_type": "stream",
     "text": [
      "2025-08-27T14:29:00Z  ROP is riding software strength and strategic acquisitions, but high costs and debt temper the outlook.-Lehi\n",
      "2025-08-27T13:38:00Z  Vertiv, MasTec and Robinhood shine as top momentum picks amid volatile markets, each showing sharp yearly gains despite recent pullbacks.-Lehi\n",
      "2025-08-27T13:29:00Z  Zacks spotlights Broadcom and Vertiv as dividend-paying AI plays, combining growth potential with income for investors seeking exposure to next-gen infrastructure.-Lehi\n",
      "2025-08-26T21:23:12Z  We recently published Jim Cramer’s 20 Bold AI Predictions – See How They Played Out! Vertiv Holdings Co (NYSE:VRT) is one of the stocks Jim Cramer recently discussed. Vertiv Holdings Co (NYSE:VRT) is a data center equipment provider that provides power management, thermal management, project consulting, and other associated products and services. Its product portfolio […]-Lehi\n",
      "2025-08-26T15:30:00Z  Looking to generate income while also being exposed to the AI frenzy? Vertiv and Broadcom have you covered.-Lehi\n",
      "2025-08-26T14:59:00Z  Vertiv Holdings  said Tuesday it has acquired Waylay NV, a Belgium-based software maker, as the company eyes using generative artificial-intelligence to manage its power and cooling systems.  Vertiv  which makes power and cooling solutions for data centers, said it would integrate Waylay’s AI-powered software to support the monitoring and optimization of its data-center systems.  In their view, the acquisition “highlights a wider paradigm shift” within the market for Vertiv and peers.-Lehi\n",
      "2025-08-26T14:34:00Z  VRT, MTZ and HOOD stand out as momentum picks, combining strong yearly gains with recent pullbacks for potential entry points.-Lehi\n",
      "2025-08-26T14:00:00Z  FUTU, VRT and TRS made it to the Zacks Rank #1 (Strong Buy) momentum stocks list on August 26, 2025.-Lehi\n",
      "2025-08-26T13:00:53Z  Expensive stocks typically earn their valuations through superior growth rates that other companies simply can’t match. The flip side though is that these lofty expectations make them particularly susceptible to drawdowns when market sentiment shifts.-Lehi\n",
      "2025-08-26T13:00:04Z  Vertiv (VRT) has been one of the stocks most watched by Zacks.com users lately. So, it is worth exploring what lies ahead for the stock.-Lehi\n"
     ]
    }
   ],
   "source": [
    "\n",
    "import warnings\n",
    "warnings.filterwarnings('ignore')\n",
    "\n",
    "from yfinance_utils import file_utils\n",
    "from datetime import datetime\n",
    "\n",
    "t = file_utils.get_historic_data(STOCK)\n",
    "n = file_utils.get_news(STOCK)\n",
    "for i in n:\n",
    "    print(f\"{i}\")"
   ]
  },
  {
   "cell_type": "markdown",
   "metadata": {},
   "source": [
    "### Ratings UP and DOWN"
   ]
  },
  {
   "cell_type": "code",
   "execution_count": 1,
   "metadata": {},
   "outputs": [
    {
     "name": "stderr",
     "output_type": "stream",
     "text": [
      "\n",
      "KeyboardInterrupt\n",
      "\n"
     ]
    }
   ],
   "source": [
    "\n",
    "from yfinance_utils import file_utils, financials_utils\n",
    "\n",
    "ratings = financials_utils.get_ratings(t)\n",
    "for i in ratings.keys():\n",
    "    print(f\"{ratings[i]}  {i}\")\n",
    "\n"
   ]
  },
  {
   "cell_type": "markdown",
   "metadata": {},
   "source": [
    "### Total Ratings"
   ]
  },
  {
   "cell_type": "code",
   "execution_count": null,
   "metadata": {},
   "outputs": [
    {
     "data": {
      "application/vnd.plotly.v1+json": {
       "config": {
        "plotlyServerURL": "https://plot.ly"
       },
       "data": [
        {
         "domain": {
          "x": [
           0,
           1
          ],
          "y": [
           0,
           1
          ]
         },
         "hovertemplate": "label=%{label}<br>value=%{value}<extra></extra>",
         "labels": [
          "Sell",
          "Buy",
          "Equal-Weight",
          "Overweight",
          "Outperform",
          "Hold",
          "Neutral",
          "Market Perform",
          "Peer Perform"
         ],
         "legendgroup": "",
         "name": "",
         "showlegend": true,
         "type": "pie",
         "values": {
          "bdata": "ATMIDSECCgEB",
          "dtype": "i1"
         }
        }
       ],
       "layout": {
        "height": 400,
        "legend": {
         "tracegroupgap": 0
        },
        "template": {
         "data": {
          "bar": [
           {
            "error_x": {
             "color": "#2a3f5f"
            },
            "error_y": {
             "color": "#2a3f5f"
            },
            "marker": {
             "line": {
              "color": "#E5ECF6",
              "width": 0.5
             },
             "pattern": {
              "fillmode": "overlay",
              "size": 10,
              "solidity": 0.2
             }
            },
            "type": "bar"
           }
          ],
          "barpolar": [
           {
            "marker": {
             "line": {
              "color": "#E5ECF6",
              "width": 0.5
             },
             "pattern": {
              "fillmode": "overlay",
              "size": 10,
              "solidity": 0.2
             }
            },
            "type": "barpolar"
           }
          ],
          "carpet": [
           {
            "aaxis": {
             "endlinecolor": "#2a3f5f",
             "gridcolor": "white",
             "linecolor": "white",
             "minorgridcolor": "white",
             "startlinecolor": "#2a3f5f"
            },
            "baxis": {
             "endlinecolor": "#2a3f5f",
             "gridcolor": "white",
             "linecolor": "white",
             "minorgridcolor": "white",
             "startlinecolor": "#2a3f5f"
            },
            "type": "carpet"
           }
          ],
          "choropleth": [
           {
            "colorbar": {
             "outlinewidth": 0,
             "ticks": ""
            },
            "type": "choropleth"
           }
          ],
          "contour": [
           {
            "colorbar": {
             "outlinewidth": 0,
             "ticks": ""
            },
            "colorscale": [
             [
              0,
              "#0d0887"
             ],
             [
              0.1111111111111111,
              "#46039f"
             ],
             [
              0.2222222222222222,
              "#7201a8"
             ],
             [
              0.3333333333333333,
              "#9c179e"
             ],
             [
              0.4444444444444444,
              "#bd3786"
             ],
             [
              0.5555555555555556,
              "#d8576b"
             ],
             [
              0.6666666666666666,
              "#ed7953"
             ],
             [
              0.7777777777777778,
              "#fb9f3a"
             ],
             [
              0.8888888888888888,
              "#fdca26"
             ],
             [
              1,
              "#f0f921"
             ]
            ],
            "type": "contour"
           }
          ],
          "contourcarpet": [
           {
            "colorbar": {
             "outlinewidth": 0,
             "ticks": ""
            },
            "type": "contourcarpet"
           }
          ],
          "heatmap": [
           {
            "colorbar": {
             "outlinewidth": 0,
             "ticks": ""
            },
            "colorscale": [
             [
              0,
              "#0d0887"
             ],
             [
              0.1111111111111111,
              "#46039f"
             ],
             [
              0.2222222222222222,
              "#7201a8"
             ],
             [
              0.3333333333333333,
              "#9c179e"
             ],
             [
              0.4444444444444444,
              "#bd3786"
             ],
             [
              0.5555555555555556,
              "#d8576b"
             ],
             [
              0.6666666666666666,
              "#ed7953"
             ],
             [
              0.7777777777777778,
              "#fb9f3a"
             ],
             [
              0.8888888888888888,
              "#fdca26"
             ],
             [
              1,
              "#f0f921"
             ]
            ],
            "type": "heatmap"
           }
          ],
          "histogram": [
           {
            "marker": {
             "pattern": {
              "fillmode": "overlay",
              "size": 10,
              "solidity": 0.2
             }
            },
            "type": "histogram"
           }
          ],
          "histogram2d": [
           {
            "colorbar": {
             "outlinewidth": 0,
             "ticks": ""
            },
            "colorscale": [
             [
              0,
              "#0d0887"
             ],
             [
              0.1111111111111111,
              "#46039f"
             ],
             [
              0.2222222222222222,
              "#7201a8"
             ],
             [
              0.3333333333333333,
              "#9c179e"
             ],
             [
              0.4444444444444444,
              "#bd3786"
             ],
             [
              0.5555555555555556,
              "#d8576b"
             ],
             [
              0.6666666666666666,
              "#ed7953"
             ],
             [
              0.7777777777777778,
              "#fb9f3a"
             ],
             [
              0.8888888888888888,
              "#fdca26"
             ],
             [
              1,
              "#f0f921"
             ]
            ],
            "type": "histogram2d"
           }
          ],
          "histogram2dcontour": [
           {
            "colorbar": {
             "outlinewidth": 0,
             "ticks": ""
            },
            "colorscale": [
             [
              0,
              "#0d0887"
             ],
             [
              0.1111111111111111,
              "#46039f"
             ],
             [
              0.2222222222222222,
              "#7201a8"
             ],
             [
              0.3333333333333333,
              "#9c179e"
             ],
             [
              0.4444444444444444,
              "#bd3786"
             ],
             [
              0.5555555555555556,
              "#d8576b"
             ],
             [
              0.6666666666666666,
              "#ed7953"
             ],
             [
              0.7777777777777778,
              "#fb9f3a"
             ],
             [
              0.8888888888888888,
              "#fdca26"
             ],
             [
              1,
              "#f0f921"
             ]
            ],
            "type": "histogram2dcontour"
           }
          ],
          "mesh3d": [
           {
            "colorbar": {
             "outlinewidth": 0,
             "ticks": ""
            },
            "type": "mesh3d"
           }
          ],
          "parcoords": [
           {
            "line": {
             "colorbar": {
              "outlinewidth": 0,
              "ticks": ""
             }
            },
            "type": "parcoords"
           }
          ],
          "pie": [
           {
            "automargin": true,
            "type": "pie"
           }
          ],
          "scatter": [
           {
            "fillpattern": {
             "fillmode": "overlay",
             "size": 10,
             "solidity": 0.2
            },
            "type": "scatter"
           }
          ],
          "scatter3d": [
           {
            "line": {
             "colorbar": {
              "outlinewidth": 0,
              "ticks": ""
             }
            },
            "marker": {
             "colorbar": {
              "outlinewidth": 0,
              "ticks": ""
             }
            },
            "type": "scatter3d"
           }
          ],
          "scattercarpet": [
           {
            "marker": {
             "colorbar": {
              "outlinewidth": 0,
              "ticks": ""
             }
            },
            "type": "scattercarpet"
           }
          ],
          "scattergeo": [
           {
            "marker": {
             "colorbar": {
              "outlinewidth": 0,
              "ticks": ""
             }
            },
            "type": "scattergeo"
           }
          ],
          "scattergl": [
           {
            "marker": {
             "colorbar": {
              "outlinewidth": 0,
              "ticks": ""
             }
            },
            "type": "scattergl"
           }
          ],
          "scattermap": [
           {
            "marker": {
             "colorbar": {
              "outlinewidth": 0,
              "ticks": ""
             }
            },
            "type": "scattermap"
           }
          ],
          "scattermapbox": [
           {
            "marker": {
             "colorbar": {
              "outlinewidth": 0,
              "ticks": ""
             }
            },
            "type": "scattermapbox"
           }
          ],
          "scatterpolar": [
           {
            "marker": {
             "colorbar": {
              "outlinewidth": 0,
              "ticks": ""
             }
            },
            "type": "scatterpolar"
           }
          ],
          "scatterpolargl": [
           {
            "marker": {
             "colorbar": {
              "outlinewidth": 0,
              "ticks": ""
             }
            },
            "type": "scatterpolargl"
           }
          ],
          "scatterternary": [
           {
            "marker": {
             "colorbar": {
              "outlinewidth": 0,
              "ticks": ""
             }
            },
            "type": "scatterternary"
           }
          ],
          "surface": [
           {
            "colorbar": {
             "outlinewidth": 0,
             "ticks": ""
            },
            "colorscale": [
             [
              0,
              "#0d0887"
             ],
             [
              0.1111111111111111,
              "#46039f"
             ],
             [
              0.2222222222222222,
              "#7201a8"
             ],
             [
              0.3333333333333333,
              "#9c179e"
             ],
             [
              0.4444444444444444,
              "#bd3786"
             ],
             [
              0.5555555555555556,
              "#d8576b"
             ],
             [
              0.6666666666666666,
              "#ed7953"
             ],
             [
              0.7777777777777778,
              "#fb9f3a"
             ],
             [
              0.8888888888888888,
              "#fdca26"
             ],
             [
              1,
              "#f0f921"
             ]
            ],
            "type": "surface"
           }
          ],
          "table": [
           {
            "cells": {
             "fill": {
              "color": "#EBF0F8"
             },
             "line": {
              "color": "white"
             }
            },
            "header": {
             "fill": {
              "color": "#C8D4E3"
             },
             "line": {
              "color": "white"
             }
            },
            "type": "table"
           }
          ]
         },
         "layout": {
          "annotationdefaults": {
           "arrowcolor": "#2a3f5f",
           "arrowhead": 0,
           "arrowwidth": 1
          },
          "autotypenumbers": "strict",
          "coloraxis": {
           "colorbar": {
            "outlinewidth": 0,
            "ticks": ""
           }
          },
          "colorscale": {
           "diverging": [
            [
             0,
             "#8e0152"
            ],
            [
             0.1,
             "#c51b7d"
            ],
            [
             0.2,
             "#de77ae"
            ],
            [
             0.3,
             "#f1b6da"
            ],
            [
             0.4,
             "#fde0ef"
            ],
            [
             0.5,
             "#f7f7f7"
            ],
            [
             0.6,
             "#e6f5d0"
            ],
            [
             0.7,
             "#b8e186"
            ],
            [
             0.8,
             "#7fbc41"
            ],
            [
             0.9,
             "#4d9221"
            ],
            [
             1,
             "#276419"
            ]
           ],
           "sequential": [
            [
             0,
             "#0d0887"
            ],
            [
             0.1111111111111111,
             "#46039f"
            ],
            [
             0.2222222222222222,
             "#7201a8"
            ],
            [
             0.3333333333333333,
             "#9c179e"
            ],
            [
             0.4444444444444444,
             "#bd3786"
            ],
            [
             0.5555555555555556,
             "#d8576b"
            ],
            [
             0.6666666666666666,
             "#ed7953"
            ],
            [
             0.7777777777777778,
             "#fb9f3a"
            ],
            [
             0.8888888888888888,
             "#fdca26"
            ],
            [
             1,
             "#f0f921"
            ]
           ],
           "sequentialminus": [
            [
             0,
             "#0d0887"
            ],
            [
             0.1111111111111111,
             "#46039f"
            ],
            [
             0.2222222222222222,
             "#7201a8"
            ],
            [
             0.3333333333333333,
             "#9c179e"
            ],
            [
             0.4444444444444444,
             "#bd3786"
            ],
            [
             0.5555555555555556,
             "#d8576b"
            ],
            [
             0.6666666666666666,
             "#ed7953"
            ],
            [
             0.7777777777777778,
             "#fb9f3a"
            ],
            [
             0.8888888888888888,
             "#fdca26"
            ],
            [
             1,
             "#f0f921"
            ]
           ]
          },
          "colorway": [
           "#636efa",
           "#EF553B",
           "#00cc96",
           "#ab63fa",
           "#FFA15A",
           "#19d3f3",
           "#FF6692",
           "#B6E880",
           "#FF97FF",
           "#FECB52"
          ],
          "font": {
           "color": "#2a3f5f"
          },
          "geo": {
           "bgcolor": "white",
           "lakecolor": "white",
           "landcolor": "#E5ECF6",
           "showlakes": true,
           "showland": true,
           "subunitcolor": "white"
          },
          "hoverlabel": {
           "align": "left"
          },
          "hovermode": "closest",
          "mapbox": {
           "style": "light"
          },
          "paper_bgcolor": "white",
          "plot_bgcolor": "#E5ECF6",
          "polar": {
           "angularaxis": {
            "gridcolor": "white",
            "linecolor": "white",
            "ticks": ""
           },
           "bgcolor": "#E5ECF6",
           "radialaxis": {
            "gridcolor": "white",
            "linecolor": "white",
            "ticks": ""
           }
          },
          "scene": {
           "xaxis": {
            "backgroundcolor": "#E5ECF6",
            "gridcolor": "white",
            "gridwidth": 2,
            "linecolor": "white",
            "showbackground": true,
            "ticks": "",
            "zerolinecolor": "white"
           },
           "yaxis": {
            "backgroundcolor": "#E5ECF6",
            "gridcolor": "white",
            "gridwidth": 2,
            "linecolor": "white",
            "showbackground": true,
            "ticks": "",
            "zerolinecolor": "white"
           },
           "zaxis": {
            "backgroundcolor": "#E5ECF6",
            "gridcolor": "white",
            "gridwidth": 2,
            "linecolor": "white",
            "showbackground": true,
            "ticks": "",
            "zerolinecolor": "white"
           }
          },
          "shapedefaults": {
           "line": {
            "color": "#2a3f5f"
           }
          },
          "ternary": {
           "aaxis": {
            "gridcolor": "white",
            "linecolor": "white",
            "ticks": ""
           },
           "baxis": {
            "gridcolor": "white",
            "linecolor": "white",
            "ticks": ""
           },
           "bgcolor": "#E5ECF6",
           "caxis": {
            "gridcolor": "white",
            "linecolor": "white",
            "ticks": ""
           }
          },
          "title": {
           "x": 0.05
          },
          "xaxis": {
           "automargin": true,
           "gridcolor": "white",
           "linecolor": "white",
           "ticks": "",
           "title": {
            "standoff": 15
           },
           "zerolinecolor": "white",
           "zerolinewidth": 2
          },
          "yaxis": {
           "automargin": true,
           "gridcolor": "white",
           "linecolor": "white",
           "ticks": "",
           "title": {
            "standoff": 15
           },
           "zerolinecolor": "white",
           "zerolinewidth": 2
          }
         }
        },
        "title": {
         "text": "Ratings for VRT"
        },
        "width": 600
       }
      }
     },
     "metadata": {},
     "output_type": "display_data"
    }
   ],
   "source": [
    "\n",
    "import plotly.express as px\n",
    "from yfinance_utils import financials_utils\n",
    "\n",
    "grades = financials_utils.get_analysts(STOCK)\n",
    "values = grades.values()\n",
    "keys = grades.keys()\n",
    "ratigs1 = dict(zip(keys, values))\n",
    "\n",
    "fig3 = px.pie(values=values, names=keys, title=f'Ratings for {STOCK}', width=600, height=400)\n",
    "fig3.update_layout()\n",
    "\n",
    "fig3.show()"
   ]
  },
  {
   "cell_type": "code",
   "execution_count": 7,
   "metadata": {},
   "outputs": [
    {
     "data": {
      "application/vnd.plotly.v1+json": {
       "config": {
        "plotlyServerURL": "https://plot.ly"
       },
       "data": [
        {
         "close": {
          "bdata": "4XoUrkchVEB7FK5H4fpTQFK4HoXrwVRAzczMzMzMUkCkcD0K18NSQJqZmZmZyVJA4XoUrkfxUUAfhetRuJ5SQK5H4XoU3lJAKVyPwvWYVEBxPQrXo7BVQHE9CtejcFVAj8L1KFy/VUDD9Shcj9JVQArXo3A96lVApHA9CtcDV0DD9Shcj6JXQBSuR+F6BFhAKVyPwvVYWECPwvUoXC9ZQEjhehSuJ1lACtejcD2aWECPwvUoXN9YQEjhehSuZ1hAUrgeheuRWUBcj8L1KKxZQM3MzMzMTFpAH4XrUbiuWkAUrkfherRaQEjhehSuB1tArkfhehTeWkD2KFyPwvVbQArXo3A9GlxArkfhehTeWkBcj8L1KOxbQFK4HoXrkVxAAAAAAAAQXEDXo3A9CgdcQK5H4XoUHlxA16NwPQoXW0BSuB6F64FbQHsUrkfhClxA16NwPQpnXECF61G4HnVcQM3MzMzMHFxAw/UoXI9SW0CamZmZmblaQD0K16NwjVpAXI/C9SgcXEDsUbgehRteQHsUrkfhil5AAAAAAABwX0AzMzMzM7NfQKRwPQrX815AUrgeheshX0BSuB6F60FeQEjhehSuN15A4XoUrkfBXkCuR+F6FJ5hQOF6FK5HMWFASOF6FK6vYUDNzMzMzIRhQClcj8L1gGBASOF6FK53YEBcj8L1KLxfQGZmZmZm5l9AMzMzMzPDX0CF61G4HgVgQFyPwvUoXGBAw/UoXI/SYEAzMzMzM7tgQHsUrkfhil9AzczMzMxsXkD2KFyPwnVfQMP1KFyPQl9AUrgehetxX0CuR+F6FH5fQFyPwvUoLF5ASOF6FK6HXEBcj8L1KNxcQMP1KFyPAl5Aj8L1KFxvXUCPwvUoXK9dQLgehetRuF1A16NwPQrHXEAK16NwPQpdQNejcD0KZ1xAMzMzMzOTXUB7FK5H4WpfQMP1KFyPwmBAFK5H4XpUYEBxPQrXoyhgQPYoXI/CHWBAcT0K16MAX0BmZmZmZh5gQAAAAAAAgGBAexSuR+GSYEBcj8L1KPxgQFyPwvUo5GFAexSuR+GSYkBI4XoUri9jQArXo3A9SmJAZmZmZmamWUAzMzMzM6NaQD0K16NwnVtAZmZmZmamXEDhehSuR0FdQGZmZmZmJlxAAAAAAADQW0DD9Shcj8JdQKRwPQrX411AuB6F61FYXkBxPQrXo3BfQAAAAAAA0F5Aj8L1KFzPW0BSuB6F61FbQDMzMzMzA1tAPQrXo3B9W0D2KFyPwvVaQIXrUbgeNVpAj8L1KFz/V0DhehSuR8FWQJqZmZmZ+VZA16NwPQqnWEAK16NwPRpXQHsUrkfhyldACtejcD1aVUApXI/C9ZhVQClcj8L1+FVAw/UoXI+CVEDD9Shcj0JVQOF6FK5HgVNASOF6FK7HVEC4HoXrUVhVQPYoXI/CxVRAzczMzMzcVUCF61G4HkVWQArXo3A9KlVAexSuR+FKVkCF61G4HkVWQLgehetRKFZAXI/C9ShsV0CF61G4HuVWQEjhehSuZ1RAFK5H4XoUU0AAAAAAAJBSQM3MzMzMDFJA4XoUrkfRUkDXo3A9CkdTQK5H4XoU3lBAFK5H4Xq0TUApXI/C9ehPQDMzMzMzc09AFK5H4Xo0UkAfhetRuO5QQNejcD0KZ1FAFK5H4XrkUUA9CtejcC1SQJqZmZmZ6VFAPQrXo3BNUkAUrkfheuRQQBSuR+F69FFAAAAAAACAU0C4HoXrUfhUQM3MzMzMvFVAmpmZmZmJVUBcj8L1KIxVQLgehetRWFVAMzMzMzMjV0AAAAAAAMBXQIXrUbgetVdAH4XrUbheV0DhehSuR+FXQI/C9Shc71dApHA9CteDV0AzMzMzM0NZQIXrUbgeZVpAH4XrUbheW0C4HoXrUVhaQMP1KFyPglpAmpmZmZmZWkApXI/C9ZhaQNejcD0K51lAzczMzMwMWkApXI/C9QhaQMP1KFyPcltArkfhehROW0CuR+F6FB5bQOxRuB6F+1pAH4XrUbhOW0D2KFyPwhVcQGZmZmZmNlxArkfhehQOXEDXo3A9CtdcQAAAAAAAAFxArkfhehQeW0D2KFyPwqVbQAAAAAAAoFxArkfhehS+W0DNzMzMzBxdQNejcD0KJ11AhetRuB7FXUDD9Shcj6JdQMP1KFyPIl1AFK5H4XqUXkApXI/C9WheQDMzMzMz815ACtejcD3KX0CF61G4Hg1gQMP1KFyPol5AhetRuB4VX0D2KFyPwvVfQHE9CtejkF9AKVyPwvV4X0CkcD0K1wtgQK5H4XoULl5AMzMzMzPTXkCuR+F6FC5fQEjhehSu119AmpmZmZlZX0CkcD0K12NgQFK4HoXrIWBAPQrXo3CNX0DD9Shcj1JfQK5H4XoURmBApHA9CtdbYEDXo3A9Ci9hQJqZmZmZ0WFAZmZmZmbWYUA9CtejcAViQDMzMzMzM2JAexSuR+GyYUBmZmZmZoZhQLgehetRWGFAAAAAAAB4YUAUrkfhemxhQPYoXI/CfWFAw/UoXI96YUDXo3A9CvdhQM3MzMzMLGFAcT0K16OQYEAK16NwPaJgQK5H4XoU9mBAmpmZmZkhYEDD9Shcj+JfQIXrUbgepV9ArkfhehR+X0DhehSuR0FfQOxRuB6F+19AUrgehespYEA=",
          "dtype": "f8"
         },
         "high": {
          "bdata": "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",
          "dtype": "f8"
         },
         "low": {
          "bdata": "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",
          "dtype": "f8"
         },
         "name": "vrt",
         "open": {
          "bdata": "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",
          "dtype": "f8"
         },
         "type": "candlestick",
         "x": [
          "2024-08-28T00:00:00-04:00",
          "2024-08-29T00:00:00-04:00",
          "2024-08-30T00:00:00-04:00",
          "2024-09-03T00:00:00-04:00",
          "2024-09-04T00:00:00-04:00",
          "2024-09-05T00:00:00-04:00",
          "2024-09-06T00:00:00-04:00",
          "2024-09-09T00:00:00-04:00",
          "2024-09-10T00:00:00-04:00",
          "2024-09-11T00:00:00-04:00",
          "2024-09-12T00:00:00-04:00",
          "2024-09-13T00:00:00-04:00",
          "2024-09-16T00:00:00-04:00",
          "2024-09-17T00:00:00-04:00",
          "2024-09-18T00:00:00-04:00",
          "2024-09-19T00:00:00-04:00",
          "2024-09-20T00:00:00-04:00",
          "2024-09-23T00:00:00-04:00",
          "2024-09-24T00:00:00-04:00",
          "2024-09-25T00:00:00-04:00",
          "2024-09-26T00:00:00-04:00",
          "2024-09-27T00:00:00-04:00",
          "2024-09-30T00:00:00-04:00",
          "2024-10-01T00:00:00-04:00",
          "2024-10-02T00:00:00-04:00",
          "2024-10-03T00:00:00-04:00",
          "2024-10-04T00:00:00-04:00",
          "2024-10-07T00:00:00-04:00",
          "2024-10-08T00:00:00-04:00",
          "2024-10-09T00:00:00-04:00",
          "2024-10-10T00:00:00-04:00",
          "2024-10-11T00:00:00-04:00",
          "2024-10-14T00:00:00-04:00",
          "2024-10-15T00:00:00-04:00",
          "2024-10-16T00:00:00-04:00",
          "2024-10-17T00:00:00-04:00",
          "2024-10-18T00:00:00-04:00",
          "2024-10-21T00:00:00-04:00",
          "2024-10-22T00:00:00-04:00",
          "2024-10-23T00:00:00-04:00",
          "2024-10-24T00:00:00-04:00",
          "2024-10-25T00:00:00-04:00",
          "2024-10-28T00:00:00-04:00",
          "2024-10-29T00:00:00-04:00",
          "2024-10-30T00:00:00-04:00",
          "2024-10-31T00:00:00-04:00",
          "2024-11-01T00:00:00-04:00",
          "2024-11-04T00:00:00-05:00",
          "2024-11-05T00:00:00-05:00",
          "2024-11-06T00:00:00-05:00",
          "2024-11-07T00:00:00-05:00",
          "2024-11-08T00:00:00-05:00",
          "2024-11-11T00:00:00-05:00",
          "2024-11-12T00:00:00-05:00",
          "2024-11-13T00:00:00-05:00",
          "2024-11-14T00:00:00-05:00",
          "2024-11-15T00:00:00-05:00",
          "2024-11-18T00:00:00-05:00",
          "2024-11-19T00:00:00-05:00",
          "2024-11-20T00:00:00-05:00",
          "2024-11-21T00:00:00-05:00",
          "2024-11-22T00:00:00-05:00",
          "2024-11-25T00:00:00-05:00",
          "2024-11-26T00:00:00-05:00",
          "2024-11-27T00:00:00-05:00",
          "2024-11-29T00:00:00-05:00",
          "2024-12-02T00:00:00-05:00",
          "2024-12-03T00:00:00-05:00",
          "2024-12-04T00:00:00-05:00",
          "2024-12-05T00:00:00-05:00",
          "2024-12-06T00:00:00-05:00",
          "2024-12-09T00:00:00-05:00",
          "2024-12-10T00:00:00-05:00",
          "2024-12-11T00:00:00-05:00",
          "2024-12-12T00:00:00-05:00",
          "2024-12-13T00:00:00-05:00",
          "2024-12-16T00:00:00-05:00",
          "2024-12-17T00:00:00-05:00",
          "2024-12-18T00:00:00-05:00",
          "2024-12-19T00:00:00-05:00",
          "2024-12-20T00:00:00-05:00",
          "2024-12-23T00:00:00-05:00",
          "2024-12-24T00:00:00-05:00",
          "2024-12-26T00:00:00-05:00",
          "2024-12-27T00:00:00-05:00",
          "2024-12-30T00:00:00-05:00",
          "2024-12-31T00:00:00-05:00",
          "2025-01-02T00:00:00-05:00",
          "2025-01-03T00:00:00-05:00",
          "2025-01-06T00:00:00-05:00",
          "2025-01-07T00:00:00-05:00",
          "2025-01-08T00:00:00-05:00",
          "2025-01-10T00:00:00-05:00",
          "2025-01-13T00:00:00-05:00",
          "2025-01-14T00:00:00-05:00",
          "2025-01-15T00:00:00-05:00",
          "2025-01-16T00:00:00-05:00",
          "2025-01-17T00:00:00-05:00",
          "2025-01-21T00:00:00-05:00",
          "2025-01-22T00:00:00-05:00",
          "2025-01-23T00:00:00-05:00",
          "2025-01-24T00:00:00-05:00",
          "2025-01-27T00:00:00-05:00",
          "2025-01-28T00:00:00-05:00",
          "2025-01-29T00:00:00-05:00",
          "2025-01-30T00:00:00-05:00",
          "2025-01-31T00:00:00-05:00",
          "2025-02-03T00:00:00-05:00",
          "2025-02-04T00:00:00-05:00",
          "2025-02-05T00:00:00-05:00",
          "2025-02-06T00:00:00-05:00",
          "2025-02-07T00:00:00-05:00",
          "2025-02-10T00:00:00-05:00",
          "2025-02-11T00:00:00-05:00",
          "2025-02-12T00:00:00-05:00",
          "2025-02-13T00:00:00-05:00",
          "2025-02-14T00:00:00-05:00",
          "2025-02-18T00:00:00-05:00",
          "2025-02-19T00:00:00-05:00",
          "2025-02-20T00:00:00-05:00",
          "2025-02-21T00:00:00-05:00",
          "2025-02-24T00:00:00-05:00",
          "2025-02-25T00:00:00-05:00",
          "2025-02-26T00:00:00-05:00",
          "2025-02-27T00:00:00-05:00",
          "2025-02-28T00:00:00-05:00",
          "2025-03-03T00:00:00-05:00",
          "2025-03-04T00:00:00-05:00",
          "2025-03-05T00:00:00-05:00",
          "2025-03-06T00:00:00-05:00",
          "2025-03-07T00:00:00-05:00",
          "2025-03-10T00:00:00-04:00",
          "2025-03-11T00:00:00-04:00",
          "2025-03-12T00:00:00-04:00",
          "2025-03-13T00:00:00-04:00",
          "2025-03-14T00:00:00-04:00",
          "2025-03-17T00:00:00-04:00",
          "2025-03-18T00:00:00-04:00",
          "2025-03-19T00:00:00-04:00",
          "2025-03-20T00:00:00-04:00",
          "2025-03-21T00:00:00-04:00",
          "2025-03-24T00:00:00-04:00",
          "2025-03-25T00:00:00-04:00",
          "2025-03-26T00:00:00-04:00",
          "2025-03-27T00:00:00-04:00",
          "2025-03-28T00:00:00-04:00",
          "2025-03-31T00:00:00-04:00",
          "2025-04-01T00:00:00-04:00",
          "2025-04-02T00:00:00-04:00",
          "2025-04-03T00:00:00-04:00",
          "2025-04-04T00:00:00-04:00",
          "2025-04-07T00:00:00-04:00",
          "2025-04-08T00:00:00-04:00",
          "2025-04-09T00:00:00-04:00",
          "2025-04-10T00:00:00-04:00",
          "2025-04-11T00:00:00-04:00",
          "2025-04-14T00:00:00-04:00",
          "2025-04-15T00:00:00-04:00",
          "2025-04-16T00:00:00-04:00",
          "2025-04-17T00:00:00-04:00",
          "2025-04-21T00:00:00-04:00",
          "2025-04-22T00:00:00-04:00",
          "2025-04-23T00:00:00-04:00",
          "2025-04-24T00:00:00-04:00",
          "2025-04-25T00:00:00-04:00",
          "2025-04-28T00:00:00-04:00",
          "2025-04-29T00:00:00-04:00",
          "2025-04-30T00:00:00-04:00",
          "2025-05-01T00:00:00-04:00",
          "2025-05-02T00:00:00-04:00",
          "2025-05-05T00:00:00-04:00",
          "2025-05-06T00:00:00-04:00",
          "2025-05-07T00:00:00-04:00",
          "2025-05-08T00:00:00-04:00",
          "2025-05-09T00:00:00-04:00",
          "2025-05-12T00:00:00-04:00",
          "2025-05-13T00:00:00-04:00",
          "2025-05-14T00:00:00-04:00",
          "2025-05-15T00:00:00-04:00",
          "2025-05-16T00:00:00-04:00",
          "2025-05-19T00:00:00-04:00",
          "2025-05-20T00:00:00-04:00",
          "2025-05-21T00:00:00-04:00",
          "2025-05-22T00:00:00-04:00",
          "2025-05-23T00:00:00-04:00",
          "2025-05-27T00:00:00-04:00",
          "2025-05-28T00:00:00-04:00",
          "2025-05-29T00:00:00-04:00",
          "2025-05-30T00:00:00-04:00",
          "2025-06-02T00:00:00-04:00",
          "2025-06-03T00:00:00-04:00",
          "2025-06-04T00:00:00-04:00",
          "2025-06-05T00:00:00-04:00",
          "2025-06-06T00:00:00-04:00",
          "2025-06-09T00:00:00-04:00",
          "2025-06-10T00:00:00-04:00",
          "2025-06-11T00:00:00-04:00",
          "2025-06-12T00:00:00-04:00",
          "2025-06-13T00:00:00-04:00",
          "2025-06-16T00:00:00-04:00",
          "2025-06-17T00:00:00-04:00",
          "2025-06-18T00:00:00-04:00",
          "2025-06-20T00:00:00-04:00",
          "2025-06-23T00:00:00-04:00",
          "2025-06-24T00:00:00-04:00",
          "2025-06-25T00:00:00-04:00",
          "2025-06-26T00:00:00-04:00",
          "2025-06-27T00:00:00-04:00",
          "2025-06-30T00:00:00-04:00",
          "2025-07-01T00:00:00-04:00",
          "2025-07-02T00:00:00-04:00",
          "2025-07-03T00:00:00-04:00",
          "2025-07-07T00:00:00-04:00",
          "2025-07-08T00:00:00-04:00",
          "2025-07-09T00:00:00-04:00",
          "2025-07-10T00:00:00-04:00",
          "2025-07-11T00:00:00-04:00",
          "2025-07-14T00:00:00-04:00",
          "2025-07-15T00:00:00-04:00",
          "2025-07-16T00:00:00-04:00",
          "2025-07-17T00:00:00-04:00",
          "2025-07-18T00:00:00-04:00",
          "2025-07-21T00:00:00-04:00",
          "2025-07-22T00:00:00-04:00",
          "2025-07-23T00:00:00-04:00",
          "2025-07-24T00:00:00-04:00",
          "2025-07-25T00:00:00-04:00",
          "2025-07-28T00:00:00-04:00",
          "2025-07-29T00:00:00-04:00",
          "2025-07-30T00:00:00-04:00",
          "2025-07-31T00:00:00-04:00",
          "2025-08-01T00:00:00-04:00",
          "2025-08-04T00:00:00-04:00",
          "2025-08-05T00:00:00-04:00",
          "2025-08-06T00:00:00-04:00",
          "2025-08-07T00:00:00-04:00",
          "2025-08-08T00:00:00-04:00",
          "2025-08-11T00:00:00-04:00",
          "2025-08-12T00:00:00-04:00",
          "2025-08-13T00:00:00-04:00",
          "2025-08-14T00:00:00-04:00",
          "2025-08-15T00:00:00-04:00",
          "2025-08-18T00:00:00-04:00",
          "2025-08-19T00:00:00-04:00",
          "2025-08-20T00:00:00-04:00",
          "2025-08-21T00:00:00-04:00",
          "2025-08-22T00:00:00-04:00",
          "2025-08-25T00:00:00-04:00",
          "2025-08-26T00:00:00-04:00",
          "2025-08-27T00:00:00-04:00"
         ]
        },
        {
         "line": {
          "color": "blue",
          "shape": "spline",
          "width": 2
         },
         "name": "EMA 10",
         "type": "scatter",
         "x": [
          "2024-08-28T00:00:00-04:00",
          "2024-08-29T00:00:00-04:00",
          "2024-08-30T00:00:00-04:00",
          "2024-09-03T00:00:00-04:00",
          "2024-09-04T00:00:00-04:00",
          "2024-09-05T00:00:00-04:00",
          "2024-09-06T00:00:00-04:00",
          "2024-09-09T00:00:00-04:00",
          "2024-09-10T00:00:00-04:00",
          "2024-09-11T00:00:00-04:00",
          "2024-09-12T00:00:00-04:00",
          "2024-09-13T00:00:00-04:00",
          "2024-09-16T00:00:00-04:00",
          "2024-09-17T00:00:00-04:00",
          "2024-09-18T00:00:00-04:00",
          "2024-09-19T00:00:00-04:00",
          "2024-09-20T00:00:00-04:00",
          "2024-09-23T00:00:00-04:00",
          "2024-09-24T00:00:00-04:00",
          "2024-09-25T00:00:00-04:00",
          "2024-09-26T00:00:00-04:00",
          "2024-09-27T00:00:00-04:00",
          "2024-09-30T00:00:00-04:00",
          "2024-10-01T00:00:00-04:00",
          "2024-10-02T00:00:00-04:00",
          "2024-10-03T00:00:00-04:00",
          "2024-10-04T00:00:00-04:00",
          "2024-10-07T00:00:00-04:00",
          "2024-10-08T00:00:00-04:00",
          "2024-10-09T00:00:00-04:00",
          "2024-10-10T00:00:00-04:00",
          "2024-10-11T00:00:00-04:00",
          "2024-10-14T00:00:00-04:00",
          "2024-10-15T00:00:00-04:00",
          "2024-10-16T00:00:00-04:00",
          "2024-10-17T00:00:00-04:00",
          "2024-10-18T00:00:00-04:00",
          "2024-10-21T00:00:00-04:00",
          "2024-10-22T00:00:00-04:00",
          "2024-10-23T00:00:00-04:00",
          "2024-10-24T00:00:00-04:00",
          "2024-10-25T00:00:00-04:00",
          "2024-10-28T00:00:00-04:00",
          "2024-10-29T00:00:00-04:00",
          "2024-10-30T00:00:00-04:00",
          "2024-10-31T00:00:00-04:00",
          "2024-11-01T00:00:00-04:00",
          "2024-11-04T00:00:00-05:00",
          "2024-11-05T00:00:00-05:00",
          "2024-11-06T00:00:00-05:00",
          "2024-11-07T00:00:00-05:00",
          "2024-11-08T00:00:00-05:00",
          "2024-11-11T00:00:00-05:00",
          "2024-11-12T00:00:00-05:00",
          "2024-11-13T00:00:00-05:00",
          "2024-11-14T00:00:00-05:00",
          "2024-11-15T00:00:00-05:00",
          "2024-11-18T00:00:00-05:00",
          "2024-11-19T00:00:00-05:00",
          "2024-11-20T00:00:00-05:00",
          "2024-11-21T00:00:00-05:00",
          "2024-11-22T00:00:00-05:00",
          "2024-11-25T00:00:00-05:00",
          "2024-11-26T00:00:00-05:00",
          "2024-11-27T00:00:00-05:00",
          "2024-11-29T00:00:00-05:00",
          "2024-12-02T00:00:00-05:00",
          "2024-12-03T00:00:00-05:00",
          "2024-12-04T00:00:00-05:00",
          "2024-12-05T00:00:00-05:00",
          "2024-12-06T00:00:00-05:00",
          "2024-12-09T00:00:00-05:00",
          "2024-12-10T00:00:00-05:00",
          "2024-12-11T00:00:00-05:00",
          "2024-12-12T00:00:00-05:00",
          "2024-12-13T00:00:00-05:00",
          "2024-12-16T00:00:00-05:00",
          "2024-12-17T00:00:00-05:00",
          "2024-12-18T00:00:00-05:00",
          "2024-12-19T00:00:00-05:00",
          "2024-12-20T00:00:00-05:00",
          "2024-12-23T00:00:00-05:00",
          "2024-12-24T00:00:00-05:00",
          "2024-12-26T00:00:00-05:00",
          "2024-12-27T00:00:00-05:00",
          "2024-12-30T00:00:00-05:00",
          "2024-12-31T00:00:00-05:00",
          "2025-01-02T00:00:00-05:00",
          "2025-01-03T00:00:00-05:00",
          "2025-01-06T00:00:00-05:00",
          "2025-01-07T00:00:00-05:00",
          "2025-01-08T00:00:00-05:00",
          "2025-01-10T00:00:00-05:00",
          "2025-01-13T00:00:00-05:00",
          "2025-01-14T00:00:00-05:00",
          "2025-01-15T00:00:00-05:00",
          "2025-01-16T00:00:00-05:00",
          "2025-01-17T00:00:00-05:00",
          "2025-01-21T00:00:00-05:00",
          "2025-01-22T00:00:00-05:00",
          "2025-01-23T00:00:00-05:00",
          "2025-01-24T00:00:00-05:00",
          "2025-01-27T00:00:00-05:00",
          "2025-01-28T00:00:00-05:00",
          "2025-01-29T00:00:00-05:00",
          "2025-01-30T00:00:00-05:00",
          "2025-01-31T00:00:00-05:00",
          "2025-02-03T00:00:00-05:00",
          "2025-02-04T00:00:00-05:00",
          "2025-02-05T00:00:00-05:00",
          "2025-02-06T00:00:00-05:00",
          "2025-02-07T00:00:00-05:00",
          "2025-02-10T00:00:00-05:00",
          "2025-02-11T00:00:00-05:00",
          "2025-02-12T00:00:00-05:00",
          "2025-02-13T00:00:00-05:00",
          "2025-02-14T00:00:00-05:00",
          "2025-02-18T00:00:00-05:00",
          "2025-02-19T00:00:00-05:00",
          "2025-02-20T00:00:00-05:00",
          "2025-02-21T00:00:00-05:00",
          "2025-02-24T00:00:00-05:00",
          "2025-02-25T00:00:00-05:00",
          "2025-02-26T00:00:00-05:00",
          "2025-02-27T00:00:00-05:00",
          "2025-02-28T00:00:00-05:00",
          "2025-03-03T00:00:00-05:00",
          "2025-03-04T00:00:00-05:00",
          "2025-03-05T00:00:00-05:00",
          "2025-03-06T00:00:00-05:00",
          "2025-03-07T00:00:00-05:00",
          "2025-03-10T00:00:00-04:00",
          "2025-03-11T00:00:00-04:00",
          "2025-03-12T00:00:00-04:00",
          "2025-03-13T00:00:00-04:00",
          "2025-03-14T00:00:00-04:00",
          "2025-03-17T00:00:00-04:00",
          "2025-03-18T00:00:00-04:00",
          "2025-03-19T00:00:00-04:00",
          "2025-03-20T00:00:00-04:00",
          "2025-03-21T00:00:00-04:00",
          "2025-03-24T00:00:00-04:00",
          "2025-03-25T00:00:00-04:00",
          "2025-03-26T00:00:00-04:00",
          "2025-03-27T00:00:00-04:00",
          "2025-03-28T00:00:00-04:00",
          "2025-03-31T00:00:00-04:00",
          "2025-04-01T00:00:00-04:00",
          "2025-04-02T00:00:00-04:00",
          "2025-04-03T00:00:00-04:00",
          "2025-04-04T00:00:00-04:00",
          "2025-04-07T00:00:00-04:00",
          "2025-04-08T00:00:00-04:00",
          "2025-04-09T00:00:00-04:00",
          "2025-04-10T00:00:00-04:00",
          "2025-04-11T00:00:00-04:00",
          "2025-04-14T00:00:00-04:00",
          "2025-04-15T00:00:00-04:00",
          "2025-04-16T00:00:00-04:00",
          "2025-04-17T00:00:00-04:00",
          "2025-04-21T00:00:00-04:00",
          "2025-04-22T00:00:00-04:00",
          "2025-04-23T00:00:00-04:00",
          "2025-04-24T00:00:00-04:00",
          "2025-04-25T00:00:00-04:00",
          "2025-04-28T00:00:00-04:00",
          "2025-04-29T00:00:00-04:00",
          "2025-04-30T00:00:00-04:00",
          "2025-05-01T00:00:00-04:00",
          "2025-05-02T00:00:00-04:00",
          "2025-05-05T00:00:00-04:00",
          "2025-05-06T00:00:00-04:00",
          "2025-05-07T00:00:00-04:00",
          "2025-05-08T00:00:00-04:00",
          "2025-05-09T00:00:00-04:00",
          "2025-05-12T00:00:00-04:00",
          "2025-05-13T00:00:00-04:00",
          "2025-05-14T00:00:00-04:00",
          "2025-05-15T00:00:00-04:00",
          "2025-05-16T00:00:00-04:00",
          "2025-05-19T00:00:00-04:00",
          "2025-05-20T00:00:00-04:00",
          "2025-05-21T00:00:00-04:00",
          "2025-05-22T00:00:00-04:00",
          "2025-05-23T00:00:00-04:00",
          "2025-05-27T00:00:00-04:00",
          "2025-05-28T00:00:00-04:00",
          "2025-05-29T00:00:00-04:00",
          "2025-05-30T00:00:00-04:00",
          "2025-06-02T00:00:00-04:00",
          "2025-06-03T00:00:00-04:00",
          "2025-06-04T00:00:00-04:00",
          "2025-06-05T00:00:00-04:00",
          "2025-06-06T00:00:00-04:00",
          "2025-06-09T00:00:00-04:00",
          "2025-06-10T00:00:00-04:00",
          "2025-06-11T00:00:00-04:00",
          "2025-06-12T00:00:00-04:00",
          "2025-06-13T00:00:00-04:00",
          "2025-06-16T00:00:00-04:00",
          "2025-06-17T00:00:00-04:00",
          "2025-06-18T00:00:00-04:00",
          "2025-06-20T00:00:00-04:00",
          "2025-06-23T00:00:00-04:00",
          "2025-06-24T00:00:00-04:00",
          "2025-06-25T00:00:00-04:00",
          "2025-06-26T00:00:00-04:00",
          "2025-06-27T00:00:00-04:00",
          "2025-06-30T00:00:00-04:00",
          "2025-07-01T00:00:00-04:00",
          "2025-07-02T00:00:00-04:00",
          "2025-07-03T00:00:00-04:00",
          "2025-07-07T00:00:00-04:00",
          "2025-07-08T00:00:00-04:00",
          "2025-07-09T00:00:00-04:00",
          "2025-07-10T00:00:00-04:00",
          "2025-07-11T00:00:00-04:00",
          "2025-07-14T00:00:00-04:00",
          "2025-07-15T00:00:00-04:00",
          "2025-07-16T00:00:00-04:00",
          "2025-07-17T00:00:00-04:00",
          "2025-07-18T00:00:00-04:00",
          "2025-07-21T00:00:00-04:00",
          "2025-07-22T00:00:00-04:00",
          "2025-07-23T00:00:00-04:00",
          "2025-07-24T00:00:00-04:00",
          "2025-07-25T00:00:00-04:00",
          "2025-07-28T00:00:00-04:00",
          "2025-07-29T00:00:00-04:00",
          "2025-07-30T00:00:00-04:00",
          "2025-07-31T00:00:00-04:00",
          "2025-08-01T00:00:00-04:00",
          "2025-08-04T00:00:00-04:00",
          "2025-08-05T00:00:00-04:00",
          "2025-08-06T00:00:00-04:00",
          "2025-08-07T00:00:00-04:00",
          "2025-08-08T00:00:00-04:00",
          "2025-08-11T00:00:00-04:00",
          "2025-08-12T00:00:00-04:00",
          "2025-08-13T00:00:00-04:00",
          "2025-08-14T00:00:00-04:00",
          "2025-08-15T00:00:00-04:00",
          "2025-08-18T00:00:00-04:00",
          "2025-08-19T00:00:00-04:00",
          "2025-08-20T00:00:00-04:00",
          "2025-08-21T00:00:00-04:00",
          "2025-08-22T00:00:00-04:00",
          "2025-08-25T00:00:00-04:00",
          "2025-08-26T00:00:00-04:00",
          "2025-08-27T00:00:00-04:00"
         ],
         "y": {
          "bdata": "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",
          "dtype": "f8"
         }
        },
        {
         "line": {
          "color": "purple",
          "shape": "spline",
          "width": 2
         },
         "name": "SMA 30",
         "type": "scatter",
         "x": [
          "2024-08-28T00:00:00-04:00",
          "2024-08-29T00:00:00-04:00",
          "2024-08-30T00:00:00-04:00",
          "2024-09-03T00:00:00-04:00",
          "2024-09-04T00:00:00-04:00",
          "2024-09-05T00:00:00-04:00",
          "2024-09-06T00:00:00-04:00",
          "2024-09-09T00:00:00-04:00",
          "2024-09-10T00:00:00-04:00",
          "2024-09-11T00:00:00-04:00",
          "2024-09-12T00:00:00-04:00",
          "2024-09-13T00:00:00-04:00",
          "2024-09-16T00:00:00-04:00",
          "2024-09-17T00:00:00-04:00",
          "2024-09-18T00:00:00-04:00",
          "2024-09-19T00:00:00-04:00",
          "2024-09-20T00:00:00-04:00",
          "2024-09-23T00:00:00-04:00",
          "2024-09-24T00:00:00-04:00",
          "2024-09-25T00:00:00-04:00",
          "2024-09-26T00:00:00-04:00",
          "2024-09-27T00:00:00-04:00",
          "2024-09-30T00:00:00-04:00",
          "2024-10-01T00:00:00-04:00",
          "2024-10-02T00:00:00-04:00",
          "2024-10-03T00:00:00-04:00",
          "2024-10-04T00:00:00-04:00",
          "2024-10-07T00:00:00-04:00",
          "2024-10-08T00:00:00-04:00",
          "2024-10-09T00:00:00-04:00",
          "2024-10-10T00:00:00-04:00",
          "2024-10-11T00:00:00-04:00",
          "2024-10-14T00:00:00-04:00",
          "2024-10-15T00:00:00-04:00",
          "2024-10-16T00:00:00-04:00",
          "2024-10-17T00:00:00-04:00",
          "2024-10-18T00:00:00-04:00",
          "2024-10-21T00:00:00-04:00",
          "2024-10-22T00:00:00-04:00",
          "2024-10-23T00:00:00-04:00",
          "2024-10-24T00:00:00-04:00",
          "2024-10-25T00:00:00-04:00",
          "2024-10-28T00:00:00-04:00",
          "2024-10-29T00:00:00-04:00",
          "2024-10-30T00:00:00-04:00",
          "2024-10-31T00:00:00-04:00",
          "2024-11-01T00:00:00-04:00",
          "2024-11-04T00:00:00-05:00",
          "2024-11-05T00:00:00-05:00",
          "2024-11-06T00:00:00-05:00",
          "2024-11-07T00:00:00-05:00",
          "2024-11-08T00:00:00-05:00",
          "2024-11-11T00:00:00-05:00",
          "2024-11-12T00:00:00-05:00",
          "2024-11-13T00:00:00-05:00",
          "2024-11-14T00:00:00-05:00",
          "2024-11-15T00:00:00-05:00",
          "2024-11-18T00:00:00-05:00",
          "2024-11-19T00:00:00-05:00",
          "2024-11-20T00:00:00-05:00",
          "2024-11-21T00:00:00-05:00",
          "2024-11-22T00:00:00-05:00",
          "2024-11-25T00:00:00-05:00",
          "2024-11-26T00:00:00-05:00",
          "2024-11-27T00:00:00-05:00",
          "2024-11-29T00:00:00-05:00",
          "2024-12-02T00:00:00-05:00",
          "2024-12-03T00:00:00-05:00",
          "2024-12-04T00:00:00-05:00",
          "2024-12-05T00:00:00-05:00",
          "2024-12-06T00:00:00-05:00",
          "2024-12-09T00:00:00-05:00",
          "2024-12-10T00:00:00-05:00",
          "2024-12-11T00:00:00-05:00",
          "2024-12-12T00:00:00-05:00",
          "2024-12-13T00:00:00-05:00",
          "2024-12-16T00:00:00-05:00",
          "2024-12-17T00:00:00-05:00",
          "2024-12-18T00:00:00-05:00",
          "2024-12-19T00:00:00-05:00",
          "2024-12-20T00:00:00-05:00",
          "2024-12-23T00:00:00-05:00",
          "2024-12-24T00:00:00-05:00",
          "2024-12-26T00:00:00-05:00",
          "2024-12-27T00:00:00-05:00",
          "2024-12-30T00:00:00-05:00",
          "2024-12-31T00:00:00-05:00",
          "2025-01-02T00:00:00-05:00",
          "2025-01-03T00:00:00-05:00",
          "2025-01-06T00:00:00-05:00",
          "2025-01-07T00:00:00-05:00",
          "2025-01-08T00:00:00-05:00",
          "2025-01-10T00:00:00-05:00",
          "2025-01-13T00:00:00-05:00",
          "2025-01-14T00:00:00-05:00",
          "2025-01-15T00:00:00-05:00",
          "2025-01-16T00:00:00-05:00",
          "2025-01-17T00:00:00-05:00",
          "2025-01-21T00:00:00-05:00",
          "2025-01-22T00:00:00-05:00",
          "2025-01-23T00:00:00-05:00",
          "2025-01-24T00:00:00-05:00",
          "2025-01-27T00:00:00-05:00",
          "2025-01-28T00:00:00-05:00",
          "2025-01-29T00:00:00-05:00",
          "2025-01-30T00:00:00-05:00",
          "2025-01-31T00:00:00-05:00",
          "2025-02-03T00:00:00-05:00",
          "2025-02-04T00:00:00-05:00",
          "2025-02-05T00:00:00-05:00",
          "2025-02-06T00:00:00-05:00",
          "2025-02-07T00:00:00-05:00",
          "2025-02-10T00:00:00-05:00",
          "2025-02-11T00:00:00-05:00",
          "2025-02-12T00:00:00-05:00",
          "2025-02-13T00:00:00-05:00",
          "2025-02-14T00:00:00-05:00",
          "2025-02-18T00:00:00-05:00",
          "2025-02-19T00:00:00-05:00",
          "2025-02-20T00:00:00-05:00",
          "2025-02-21T00:00:00-05:00",
          "2025-02-24T00:00:00-05:00",
          "2025-02-25T00:00:00-05:00",
          "2025-02-26T00:00:00-05:00",
          "2025-02-27T00:00:00-05:00",
          "2025-02-28T00:00:00-05:00",
          "2025-03-03T00:00:00-05:00",
          "2025-03-04T00:00:00-05:00",
          "2025-03-05T00:00:00-05:00",
          "2025-03-06T00:00:00-05:00",
          "2025-03-07T00:00:00-05:00",
          "2025-03-10T00:00:00-04:00",
          "2025-03-11T00:00:00-04:00",
          "2025-03-12T00:00:00-04:00",
          "2025-03-13T00:00:00-04:00",
          "2025-03-14T00:00:00-04:00",
          "2025-03-17T00:00:00-04:00",
          "2025-03-18T00:00:00-04:00",
          "2025-03-19T00:00:00-04:00",
          "2025-03-20T00:00:00-04:00",
          "2025-03-21T00:00:00-04:00",
          "2025-03-24T00:00:00-04:00",
          "2025-03-25T00:00:00-04:00",
          "2025-03-26T00:00:00-04:00",
          "2025-03-27T00:00:00-04:00",
          "2025-03-28T00:00:00-04:00",
          "2025-03-31T00:00:00-04:00",
          "2025-04-01T00:00:00-04:00",
          "2025-04-02T00:00:00-04:00",
          "2025-04-03T00:00:00-04:00",
          "2025-04-04T00:00:00-04:00",
          "2025-04-07T00:00:00-04:00",
          "2025-04-08T00:00:00-04:00",
          "2025-04-09T00:00:00-04:00",
          "2025-04-10T00:00:00-04:00",
          "2025-04-11T00:00:00-04:00",
          "2025-04-14T00:00:00-04:00",
          "2025-04-15T00:00:00-04:00",
          "2025-04-16T00:00:00-04:00",
          "2025-04-17T00:00:00-04:00",
          "2025-04-21T00:00:00-04:00",
          "2025-04-22T00:00:00-04:00",
          "2025-04-23T00:00:00-04:00",
          "2025-04-24T00:00:00-04:00",
          "2025-04-25T00:00:00-04:00",
          "2025-04-28T00:00:00-04:00",
          "2025-04-29T00:00:00-04:00",
          "2025-04-30T00:00:00-04:00",
          "2025-05-01T00:00:00-04:00",
          "2025-05-02T00:00:00-04:00",
          "2025-05-05T00:00:00-04:00",
          "2025-05-06T00:00:00-04:00",
          "2025-05-07T00:00:00-04:00",
          "2025-05-08T00:00:00-04:00",
          "2025-05-09T00:00:00-04:00",
          "2025-05-12T00:00:00-04:00",
          "2025-05-13T00:00:00-04:00",
          "2025-05-14T00:00:00-04:00",
          "2025-05-15T00:00:00-04:00",
          "2025-05-16T00:00:00-04:00",
          "2025-05-19T00:00:00-04:00",
          "2025-05-20T00:00:00-04:00",
          "2025-05-21T00:00:00-04:00",
          "2025-05-22T00:00:00-04:00",
          "2025-05-23T00:00:00-04:00",
          "2025-05-27T00:00:00-04:00",
          "2025-05-28T00:00:00-04:00",
          "2025-05-29T00:00:00-04:00",
          "2025-05-30T00:00:00-04:00",
          "2025-06-02T00:00:00-04:00",
          "2025-06-03T00:00:00-04:00",
          "2025-06-04T00:00:00-04:00",
          "2025-06-05T00:00:00-04:00",
          "2025-06-06T00:00:00-04:00",
          "2025-06-09T00:00:00-04:00",
          "2025-06-10T00:00:00-04:00",
          "2025-06-11T00:00:00-04:00",
          "2025-06-12T00:00:00-04:00",
          "2025-06-13T00:00:00-04:00",
          "2025-06-16T00:00:00-04:00",
          "2025-06-17T00:00:00-04:00",
          "2025-06-18T00:00:00-04:00",
          "2025-06-20T00:00:00-04:00",
          "2025-06-23T00:00:00-04:00",
          "2025-06-24T00:00:00-04:00",
          "2025-06-25T00:00:00-04:00",
          "2025-06-26T00:00:00-04:00",
          "2025-06-27T00:00:00-04:00",
          "2025-06-30T00:00:00-04:00",
          "2025-07-01T00:00:00-04:00",
          "2025-07-02T00:00:00-04:00",
          "2025-07-03T00:00:00-04:00",
          "2025-07-07T00:00:00-04:00",
          "2025-07-08T00:00:00-04:00",
          "2025-07-09T00:00:00-04:00",
          "2025-07-10T00:00:00-04:00",
          "2025-07-11T00:00:00-04:00",
          "2025-07-14T00:00:00-04:00",
          "2025-07-15T00:00:00-04:00",
          "2025-07-16T00:00:00-04:00",
          "2025-07-17T00:00:00-04:00",
          "2025-07-18T00:00:00-04:00",
          "2025-07-21T00:00:00-04:00",
          "2025-07-22T00:00:00-04:00",
          "2025-07-23T00:00:00-04:00",
          "2025-07-24T00:00:00-04:00",
          "2025-07-25T00:00:00-04:00",
          "2025-07-28T00:00:00-04:00",
          "2025-07-29T00:00:00-04:00",
          "2025-07-30T00:00:00-04:00",
          "2025-07-31T00:00:00-04:00",
          "2025-08-01T00:00:00-04:00",
          "2025-08-04T00:00:00-04:00",
          "2025-08-05T00:00:00-04:00",
          "2025-08-06T00:00:00-04:00",
          "2025-08-07T00:00:00-04:00",
          "2025-08-08T00:00:00-04:00",
          "2025-08-11T00:00:00-04:00",
          "2025-08-12T00:00:00-04:00",
          "2025-08-13T00:00:00-04:00",
          "2025-08-14T00:00:00-04:00",
          "2025-08-15T00:00:00-04:00",
          "2025-08-18T00:00:00-04:00",
          "2025-08-19T00:00:00-04:00",
          "2025-08-20T00:00:00-04:00",
          "2025-08-21T00:00:00-04:00",
          "2025-08-22T00:00:00-04:00",
          "2025-08-25T00:00:00-04:00",
          "2025-08-26T00:00:00-04:00",
          "2025-08-27T00:00:00-04:00"
         ],
         "y": {
          "bdata": "AAAAAAAA+H8AAAAAAAD4fwAAAAAAAPh/AAAAAAAA+H8AAAAAAAD4fwAAAAAAAPh/AAAAAAAA+H8AAAAAAAD4fwAAAAAAAPh/AAAAAAAA+H8AAAAAAAD4fwAAAAAAAPh/AAAAAAAA+H8AAAAAAAD4fwAAAAAAAPh/AAAAAAAA+H8AAAAAAAD4fwAAAAAAAPh/AAAAAAAA+H8AAAAAAAD4fwAAAAAAAPh/AAAAAAAA+H8AAAAAAAD4fwAAAAAAAPh/AAAAAAAA+H8AAAAAAAD4fwAAAAAAAPh/AAAAAAAA+H8AAAAAAAD4f7TIdr6folZAZa2OCR7cVkDQaQOdNiBXQPkMuwLkXldAvLu7u7ujV0Bc1uqY4PFXQFBGb8taRVhAwMqhRbabWECCB/NE/etYQHH24TPsOllA9poLSVNyWUCHFtnO96NZQDsmeDBP3FlAivo3QhkVWkD/Riijt01aQLrXXEiaglpAj8L1KFynWkB9PzVeusFaQJDC9Shc11pAd3d3d3f3WkC28/3UeCFbQH2GXQFyT1tAcyFpSsWJW0B56SYxCMRbQJVDi2zn+1tADbsC5F4rXEDRItv5flJcQJE0peLsc1xAKaO3Za2WXEB3d3d3d99cQI3elrU6Hl1ADElTKs5mXUAzMzMzM6NdQJQYBFYOzV1ARbbz/dQAXkDOPnyGXSFeQPEZdgXIPV5AUUZvy1pdXkBbHRM8mH9eQP4boYzepl5ADElTKs7eXkCUirMPnxFfQHJoke18L19AWvKLJb9AX0DufD81XlpfQG2g0wY6dV9ApeLsw2eYX0AMAiuHFsFfQAQP5on6319A4TPsCpDjX0AyelvW6thfQCz5xZJf1F9AIPeaC0nDX0AsQO41F7JfQGAs+cWSp19A9W+EMnqTX0AMAiuHFolfQJqZmZmZeV9AaUrF2YdvX0Dq3whl9E5fQF8s+cWSR19AodMGOm0wX0Dwp8ZLNxlfQLnXXEiaEl9AJzEIrBwCX0BmZmZmZgZfQDCW/GLJD19A2RUg95obX0Bvy1odEyxfQJHtfD81Rl9Aa7x0kxhkX0DBg3mi/o1fQCRNqTj7uF9AzFodEzyQX0DOhaQpFWdfQAUP5on6R19A46WbxCAwX0CZJ+rfCB1fQLKd76fGC19ADnTaQKcFX0BVVVVVVQ1fQDsmeDBPDF9Ab8taHRMUX0BVnH34DCNfQC35xZJfLF9AZa2OCR4kX0A+CtejcBVfQJ6ofyOUCV9AMJb8Ysn3XkB5ME/Uv9FeQBLK6G1Zk15AvxHK6G1JXkAleDBP1PddQEW28/3UqF1Ar7mQNKVyXUDkF0t+sSRdQKQpFWcf1lxAtfP91HhxXEAZS36x5AdcQDVeukkMkltAb8taHRMEW0A1XrpJDHJaQLMPn2FX4FlAEVg5tMi2WUCUirMPn4lZQKwcWmQ7T1lAWmQ7308VWUCCThvotNlYQKo4+/AZnlhA4cE8Uf9uWEDOhaQpFS9YQIv6N0IZ7VdAOm2g0wayV0AH80T9G2lXQL0ta3VMEFdA7AqQe83FVkBPjZduEntWQDzfT42XLlZA/WLJL5bkVUBaq2OCB6NVQBbZzvdTU1VAX3MhaUoFVUAlBoGVQ8tUQEcoo7dljVRAa3VM8GBWVEB9PzVeuiFUQDMzMzMz61NACmX0tqzNU0CSplScfbBTQOLsw2fYjVNAXrpJDAJ7U0D7N0IZvVVTQI6XbhKDSFNAHKGM3pY9U0DpbVmrYzpTQLTIdr6fQlNAImlKxdk/U0CGXQFyrzlTQC4kTak4O1NA30+Nl25CU0DSlIqzD09TQD81XrpJXFNApHA9CtdbU0BJUyrOPmRTQO18PzVeglNA0WkDnTaoU0DKL5b8YuFTQHpb1uqYKFRAnqh/I5RxVEDZzvdT461UQNqHz7ArAFVAI9v5fmpkVUCsHFpkO79VQK5H4XoUFlZAGy/dJAZZVkAklNHbsqZWQCPb+X5q/FZA2/l+arxMV0AbL90kBplXQGJXgNxr5ldAJQaBlUMzWECTXyz5xZJYQPyp8dJN6lhAG+i0gU4zWUBZObTIdnZZQJVDi2znq1lA61G4HoXbWUBgLPnFkg9aQARWDi2yTVpAokW28/10WkCXbhKDwKJaQPCnxks30VpAJngwT9QHW0Aua3VM8DhbQFtkO99PZVtAmpmZmZmhW0Arzj58hs1bQCnq3whl9FtAJzEIrBwaXEAqFWcfPktcQF1ImlJxblxA5BdLfrGUXEDbQKcNdMJcQJNfLPnF8lxAFiD3mgshXUDb+X5qvFRdQHTaQKcNbF1ALEDuNReKXUDW6pjgwaxdQI3elrU61l1AXgFyr7n4XUBP1L8RyiBeQA27AuReQ15A8KfGSzdhXkBmZmZmZnZeQHKvuZA0nV5AokW28/3MXkB1kxgEVgZfQBkEVg4tQl9A3t3d3d2FX0AfPsOuAMFfQAIrhxbZ/l9A/o1QRm8XYEDHBA/miS5gQArXo3A9RmBARbbz/dRYYEA0peLsw2tgQKZUnH34fGBAUyrOPnyKYECJQWDl0JpgQKuqqqqqqmBAhqQpFWezYEAkTak4+7hgQNejcD0Kw2BA5F5zIWnGYEAqzj58hsVgQLKd76fGy2BAtMh2vp/OYEBs5/up8c5gQOZC0pSKz2BAwcqhRbbTYEA=",
          "dtype": "f8"
         }
        }
       ],
       "layout": {
        "height": 400,
        "template": {
         "data": {
          "bar": [
           {
            "error_x": {
             "color": "#2a3f5f"
            },
            "error_y": {
             "color": "#2a3f5f"
            },
            "marker": {
             "line": {
              "color": "#E5ECF6",
              "width": 0.5
             },
             "pattern": {
              "fillmode": "overlay",
              "size": 10,
              "solidity": 0.2
             }
            },
            "type": "bar"
           }
          ],
          "barpolar": [
           {
            "marker": {
             "line": {
              "color": "#E5ECF6",
              "width": 0.5
             },
             "pattern": {
              "fillmode": "overlay",
              "size": 10,
              "solidity": 0.2
             }
            },
            "type": "barpolar"
           }
          ],
          "carpet": [
           {
            "aaxis": {
             "endlinecolor": "#2a3f5f",
             "gridcolor": "white",
             "linecolor": "white",
             "minorgridcolor": "white",
             "startlinecolor": "#2a3f5f"
            },
            "baxis": {
             "endlinecolor": "#2a3f5f",
             "gridcolor": "white",
             "linecolor": "white",
             "minorgridcolor": "white",
             "startlinecolor": "#2a3f5f"
            },
            "type": "carpet"
           }
          ],
          "choropleth": [
           {
            "colorbar": {
             "outlinewidth": 0,
             "ticks": ""
            },
            "type": "choropleth"
           }
          ],
          "contour": [
           {
            "colorbar": {
             "outlinewidth": 0,
             "ticks": ""
            },
            "colorscale": [
             [
              0,
              "#0d0887"
             ],
             [
              0.1111111111111111,
              "#46039f"
             ],
             [
              0.2222222222222222,
              "#7201a8"
             ],
             [
              0.3333333333333333,
              "#9c179e"
             ],
             [
              0.4444444444444444,
              "#bd3786"
             ],
             [
              0.5555555555555556,
              "#d8576b"
             ],
             [
              0.6666666666666666,
              "#ed7953"
             ],
             [
              0.7777777777777778,
              "#fb9f3a"
             ],
             [
              0.8888888888888888,
              "#fdca26"
             ],
             [
              1,
              "#f0f921"
             ]
            ],
            "type": "contour"
           }
          ],
          "contourcarpet": [
           {
            "colorbar": {
             "outlinewidth": 0,
             "ticks": ""
            },
            "type": "contourcarpet"
           }
          ],
          "heatmap": [
           {
            "colorbar": {
             "outlinewidth": 0,
             "ticks": ""
            },
            "colorscale": [
             [
              0,
              "#0d0887"
             ],
             [
              0.1111111111111111,
              "#46039f"
             ],
             [
              0.2222222222222222,
              "#7201a8"
             ],
             [
              0.3333333333333333,
              "#9c179e"
             ],
             [
              0.4444444444444444,
              "#bd3786"
             ],
             [
              0.5555555555555556,
              "#d8576b"
             ],
             [
              0.6666666666666666,
              "#ed7953"
             ],
             [
              0.7777777777777778,
              "#fb9f3a"
             ],
             [
              0.8888888888888888,
              "#fdca26"
             ],
             [
              1,
              "#f0f921"
             ]
            ],
            "type": "heatmap"
           }
          ],
          "histogram": [
           {
            "marker": {
             "pattern": {
              "fillmode": "overlay",
              "size": 10,
              "solidity": 0.2
             }
            },
            "type": "histogram"
           }
          ],
          "histogram2d": [
           {
            "colorbar": {
             "outlinewidth": 0,
             "ticks": ""
            },
            "colorscale": [
             [
              0,
              "#0d0887"
             ],
             [
              0.1111111111111111,
              "#46039f"
             ],
             [
              0.2222222222222222,
              "#7201a8"
             ],
             [
              0.3333333333333333,
              "#9c179e"
             ],
             [
              0.4444444444444444,
              "#bd3786"
             ],
             [
              0.5555555555555556,
              "#d8576b"
             ],
             [
              0.6666666666666666,
              "#ed7953"
             ],
             [
              0.7777777777777778,
              "#fb9f3a"
             ],
             [
              0.8888888888888888,
              "#fdca26"
             ],
             [
              1,
              "#f0f921"
             ]
            ],
            "type": "histogram2d"
           }
          ],
          "histogram2dcontour": [
           {
            "colorbar": {
             "outlinewidth": 0,
             "ticks": ""
            },
            "colorscale": [
             [
              0,
              "#0d0887"
             ],
             [
              0.1111111111111111,
              "#46039f"
             ],
             [
              0.2222222222222222,
              "#7201a8"
             ],
             [
              0.3333333333333333,
              "#9c179e"
             ],
             [
              0.4444444444444444,
              "#bd3786"
             ],
             [
              0.5555555555555556,
              "#d8576b"
             ],
             [
              0.6666666666666666,
              "#ed7953"
             ],
             [
              0.7777777777777778,
              "#fb9f3a"
             ],
             [
              0.8888888888888888,
              "#fdca26"
             ],
             [
              1,
              "#f0f921"
             ]
            ],
            "type": "histogram2dcontour"
           }
          ],
          "mesh3d": [
           {
            "colorbar": {
             "outlinewidth": 0,
             "ticks": ""
            },
            "type": "mesh3d"
           }
          ],
          "parcoords": [
           {
            "line": {
             "colorbar": {
              "outlinewidth": 0,
              "ticks": ""
             }
            },
            "type": "parcoords"
           }
          ],
          "pie": [
           {
            "automargin": true,
            "type": "pie"
           }
          ],
          "scatter": [
           {
            "fillpattern": {
             "fillmode": "overlay",
             "size": 10,
             "solidity": 0.2
            },
            "type": "scatter"
           }
          ],
          "scatter3d": [
           {
            "line": {
             "colorbar": {
              "outlinewidth": 0,
              "ticks": ""
             }
            },
            "marker": {
             "colorbar": {
              "outlinewidth": 0,
              "ticks": ""
             }
            },
            "type": "scatter3d"
           }
          ],
          "scattercarpet": [
           {
            "marker": {
             "colorbar": {
              "outlinewidth": 0,
              "ticks": ""
             }
            },
            "type": "scattercarpet"
           }
          ],
          "scattergeo": [
           {
            "marker": {
             "colorbar": {
              "outlinewidth": 0,
              "ticks": ""
             }
            },
            "type": "scattergeo"
           }
          ],
          "scattergl": [
           {
            "marker": {
             "colorbar": {
              "outlinewidth": 0,
              "ticks": ""
             }
            },
            "type": "scattergl"
           }
          ],
          "scattermap": [
           {
            "marker": {
             "colorbar": {
              "outlinewidth": 0,
              "ticks": ""
             }
            },
            "type": "scattermap"
           }
          ],
          "scattermapbox": [
           {
            "marker": {
             "colorbar": {
              "outlinewidth": 0,
              "ticks": ""
             }
            },
            "type": "scattermapbox"
           }
          ],
          "scatterpolar": [
           {
            "marker": {
             "colorbar": {
              "outlinewidth": 0,
              "ticks": ""
             }
            },
            "type": "scatterpolar"
           }
          ],
          "scatterpolargl": [
           {
            "marker": {
             "colorbar": {
              "outlinewidth": 0,
              "ticks": ""
             }
            },
            "type": "scatterpolargl"
           }
          ],
          "scatterternary": [
           {
            "marker": {
             "colorbar": {
              "outlinewidth": 0,
              "ticks": ""
             }
            },
            "type": "scatterternary"
           }
          ],
          "surface": [
           {
            "colorbar": {
             "outlinewidth": 0,
             "ticks": ""
            },
            "colorscale": [
             [
              0,
              "#0d0887"
             ],
             [
              0.1111111111111111,
              "#46039f"
             ],
             [
              0.2222222222222222,
              "#7201a8"
             ],
             [
              0.3333333333333333,
              "#9c179e"
             ],
             [
              0.4444444444444444,
              "#bd3786"
             ],
             [
              0.5555555555555556,
              "#d8576b"
             ],
             [
              0.6666666666666666,
              "#ed7953"
             ],
             [
              0.7777777777777778,
              "#fb9f3a"
             ],
             [
              0.8888888888888888,
              "#fdca26"
             ],
             [
              1,
              "#f0f921"
             ]
            ],
            "type": "surface"
           }
          ],
          "table": [
           {
            "cells": {
             "fill": {
              "color": "#EBF0F8"
             },
             "line": {
              "color": "white"
             }
            },
            "header": {
             "fill": {
              "color": "#C8D4E3"
             },
             "line": {
              "color": "white"
             }
            },
            "type": "table"
           }
          ]
         },
         "layout": {
          "annotationdefaults": {
           "arrowcolor": "#2a3f5f",
           "arrowhead": 0,
           "arrowwidth": 1
          },
          "autotypenumbers": "strict",
          "coloraxis": {
           "colorbar": {
            "outlinewidth": 0,
            "ticks": ""
           }
          },
          "colorscale": {
           "diverging": [
            [
             0,
             "#8e0152"
            ],
            [
             0.1,
             "#c51b7d"
            ],
            [
             0.2,
             "#de77ae"
            ],
            [
             0.3,
             "#f1b6da"
            ],
            [
             0.4,
             "#fde0ef"
            ],
            [
             0.5,
             "#f7f7f7"
            ],
            [
             0.6,
             "#e6f5d0"
            ],
            [
             0.7,
             "#b8e186"
            ],
            [
             0.8,
             "#7fbc41"
            ],
            [
             0.9,
             "#4d9221"
            ],
            [
             1,
             "#276419"
            ]
           ],
           "sequential": [
            [
             0,
             "#0d0887"
            ],
            [
             0.1111111111111111,
             "#46039f"
            ],
            [
             0.2222222222222222,
             "#7201a8"
            ],
            [
             0.3333333333333333,
             "#9c179e"
            ],
            [
             0.4444444444444444,
             "#bd3786"
            ],
            [
             0.5555555555555556,
             "#d8576b"
            ],
            [
             0.6666666666666666,
             "#ed7953"
            ],
            [
             0.7777777777777778,
             "#fb9f3a"
            ],
            [
             0.8888888888888888,
             "#fdca26"
            ],
            [
             1,
             "#f0f921"
            ]
           ],
           "sequentialminus": [
            [
             0,
             "#0d0887"
            ],
            [
             0.1111111111111111,
             "#46039f"
            ],
            [
             0.2222222222222222,
             "#7201a8"
            ],
            [
             0.3333333333333333,
             "#9c179e"
            ],
            [
             0.4444444444444444,
             "#bd3786"
            ],
            [
             0.5555555555555556,
             "#d8576b"
            ],
            [
             0.6666666666666666,
             "#ed7953"
            ],
            [
             0.7777777777777778,
             "#fb9f3a"
            ],
            [
             0.8888888888888888,
             "#fdca26"
            ],
            [
             1,
             "#f0f921"
            ]
           ]
          },
          "colorway": [
           "#636efa",
           "#EF553B",
           "#00cc96",
           "#ab63fa",
           "#FFA15A",
           "#19d3f3",
           "#FF6692",
           "#B6E880",
           "#FF97FF",
           "#FECB52"
          ],
          "font": {
           "color": "#2a3f5f"
          },
          "geo": {
           "bgcolor": "white",
           "lakecolor": "white",
           "landcolor": "#E5ECF6",
           "showlakes": true,
           "showland": true,
           "subunitcolor": "white"
          },
          "hoverlabel": {
           "align": "left"
          },
          "hovermode": "closest",
          "mapbox": {
           "style": "light"
          },
          "paper_bgcolor": "white",
          "plot_bgcolor": "#E5ECF6",
          "polar": {
           "angularaxis": {
            "gridcolor": "white",
            "linecolor": "white",
            "ticks": ""
           },
           "bgcolor": "#E5ECF6",
           "radialaxis": {
            "gridcolor": "white",
            "linecolor": "white",
            "ticks": ""
           }
          },
          "scene": {
           "xaxis": {
            "backgroundcolor": "#E5ECF6",
            "gridcolor": "white",
            "gridwidth": 2,
            "linecolor": "white",
            "showbackground": true,
            "ticks": "",
            "zerolinecolor": "white"
           },
           "yaxis": {
            "backgroundcolor": "#E5ECF6",
            "gridcolor": "white",
            "gridwidth": 2,
            "linecolor": "white",
            "showbackground": true,
            "ticks": "",
            "zerolinecolor": "white"
           },
           "zaxis": {
            "backgroundcolor": "#E5ECF6",
            "gridcolor": "white",
            "gridwidth": 2,
            "linecolor": "white",
            "showbackground": true,
            "ticks": "",
            "zerolinecolor": "white"
           }
          },
          "shapedefaults": {
           "line": {
            "color": "#2a3f5f"
           }
          },
          "ternary": {
           "aaxis": {
            "gridcolor": "white",
            "linecolor": "white",
            "ticks": ""
           },
           "baxis": {
            "gridcolor": "white",
            "linecolor": "white",
            "ticks": ""
           },
           "bgcolor": "#E5ECF6",
           "caxis": {
            "gridcolor": "white",
            "linecolor": "white",
            "ticks": ""
           }
          },
          "title": {
           "x": 0.05
          },
          "xaxis": {
           "automargin": true,
           "gridcolor": "white",
           "linecolor": "white",
           "ticks": "",
           "title": {
            "standoff": 15
           },
           "zerolinecolor": "white",
           "zerolinewidth": 2
          },
          "yaxis": {
           "automargin": true,
           "gridcolor": "white",
           "linecolor": "white",
           "ticks": "",
           "title": {
            "standoff": 15
           },
           "zerolinecolor": "white",
           "zerolinewidth": 2
          }
         }
        },
        "title": {
         "text": "vrt"
        },
        "width": 600,
        "xaxis": {
         "rangeslider": {
          "visible": false
         }
        }
       }
      }
     },
     "metadata": {},
     "output_type": "display_data"
    },
    {
     "data": {
      "application/vnd.plotly.v1+json": {
       "config": {
        "plotlyServerURL": "https://plot.ly"
       },
       "data": [
        {
         "name": "Volume",
         "type": "bar",
         "x": [
          "2024-08-28T00:00:00-04:00",
          "2024-08-29T00:00:00-04:00",
          "2024-08-30T00:00:00-04:00",
          "2024-09-03T00:00:00-04:00",
          "2024-09-04T00:00:00-04:00",
          "2024-09-05T00:00:00-04:00",
          "2024-09-06T00:00:00-04:00",
          "2024-09-09T00:00:00-04:00",
          "2024-09-10T00:00:00-04:00",
          "2024-09-11T00:00:00-04:00",
          "2024-09-12T00:00:00-04:00",
          "2024-09-13T00:00:00-04:00",
          "2024-09-16T00:00:00-04:00",
          "2024-09-17T00:00:00-04:00",
          "2024-09-18T00:00:00-04:00",
          "2024-09-19T00:00:00-04:00",
          "2024-09-20T00:00:00-04:00",
          "2024-09-23T00:00:00-04:00",
          "2024-09-24T00:00:00-04:00",
          "2024-09-25T00:00:00-04:00",
          "2024-09-26T00:00:00-04:00",
          "2024-09-27T00:00:00-04:00",
          "2024-09-30T00:00:00-04:00",
          "2024-10-01T00:00:00-04:00",
          "2024-10-02T00:00:00-04:00",
          "2024-10-03T00:00:00-04:00",
          "2024-10-04T00:00:00-04:00",
          "2024-10-07T00:00:00-04:00",
          "2024-10-08T00:00:00-04:00",
          "2024-10-09T00:00:00-04:00",
          "2024-10-10T00:00:00-04:00",
          "2024-10-11T00:00:00-04:00",
          "2024-10-14T00:00:00-04:00",
          "2024-10-15T00:00:00-04:00",
          "2024-10-16T00:00:00-04:00",
          "2024-10-17T00:00:00-04:00",
          "2024-10-18T00:00:00-04:00",
          "2024-10-21T00:00:00-04:00",
          "2024-10-22T00:00:00-04:00",
          "2024-10-23T00:00:00-04:00",
          "2024-10-24T00:00:00-04:00",
          "2024-10-25T00:00:00-04:00",
          "2024-10-28T00:00:00-04:00",
          "2024-10-29T00:00:00-04:00",
          "2024-10-30T00:00:00-04:00",
          "2024-10-31T00:00:00-04:00",
          "2024-11-01T00:00:00-04:00",
          "2024-11-04T00:00:00-05:00",
          "2024-11-05T00:00:00-05:00",
          "2024-11-06T00:00:00-05:00",
          "2024-11-07T00:00:00-05:00",
          "2024-11-08T00:00:00-05:00",
          "2024-11-11T00:00:00-05:00",
          "2024-11-12T00:00:00-05:00",
          "2024-11-13T00:00:00-05:00",
          "2024-11-14T00:00:00-05:00",
          "2024-11-15T00:00:00-05:00",
          "2024-11-18T00:00:00-05:00",
          "2024-11-19T00:00:00-05:00",
          "2024-11-20T00:00:00-05:00",
          "2024-11-21T00:00:00-05:00",
          "2024-11-22T00:00:00-05:00",
          "2024-11-25T00:00:00-05:00",
          "2024-11-26T00:00:00-05:00",
          "2024-11-27T00:00:00-05:00",
          "2024-11-29T00:00:00-05:00",
          "2024-12-02T00:00:00-05:00",
          "2024-12-03T00:00:00-05:00",
          "2024-12-04T00:00:00-05:00",
          "2024-12-05T00:00:00-05:00",
          "2024-12-06T00:00:00-05:00",
          "2024-12-09T00:00:00-05:00",
          "2024-12-10T00:00:00-05:00",
          "2024-12-11T00:00:00-05:00",
          "2024-12-12T00:00:00-05:00",
          "2024-12-13T00:00:00-05:00",
          "2024-12-16T00:00:00-05:00",
          "2024-12-17T00:00:00-05:00",
          "2024-12-18T00:00:00-05:00",
          "2024-12-19T00:00:00-05:00",
          "2024-12-20T00:00:00-05:00",
          "2024-12-23T00:00:00-05:00",
          "2024-12-24T00:00:00-05:00",
          "2024-12-26T00:00:00-05:00",
          "2024-12-27T00:00:00-05:00",
          "2024-12-30T00:00:00-05:00",
          "2024-12-31T00:00:00-05:00",
          "2025-01-02T00:00:00-05:00",
          "2025-01-03T00:00:00-05:00",
          "2025-01-06T00:00:00-05:00",
          "2025-01-07T00:00:00-05:00",
          "2025-01-08T00:00:00-05:00",
          "2025-01-10T00:00:00-05:00",
          "2025-01-13T00:00:00-05:00",
          "2025-01-14T00:00:00-05:00",
          "2025-01-15T00:00:00-05:00",
          "2025-01-16T00:00:00-05:00",
          "2025-01-17T00:00:00-05:00",
          "2025-01-21T00:00:00-05:00",
          "2025-01-22T00:00:00-05:00",
          "2025-01-23T00:00:00-05:00",
          "2025-01-24T00:00:00-05:00",
          "2025-01-27T00:00:00-05:00",
          "2025-01-28T00:00:00-05:00",
          "2025-01-29T00:00:00-05:00",
          "2025-01-30T00:00:00-05:00",
          "2025-01-31T00:00:00-05:00",
          "2025-02-03T00:00:00-05:00",
          "2025-02-04T00:00:00-05:00",
          "2025-02-05T00:00:00-05:00",
          "2025-02-06T00:00:00-05:00",
          "2025-02-07T00:00:00-05:00",
          "2025-02-10T00:00:00-05:00",
          "2025-02-11T00:00:00-05:00",
          "2025-02-12T00:00:00-05:00",
          "2025-02-13T00:00:00-05:00",
          "2025-02-14T00:00:00-05:00",
          "2025-02-18T00:00:00-05:00",
          "2025-02-19T00:00:00-05:00",
          "2025-02-20T00:00:00-05:00",
          "2025-02-21T00:00:00-05:00",
          "2025-02-24T00:00:00-05:00",
          "2025-02-25T00:00:00-05:00",
          "2025-02-26T00:00:00-05:00",
          "2025-02-27T00:00:00-05:00",
          "2025-02-28T00:00:00-05:00",
          "2025-03-03T00:00:00-05:00",
          "2025-03-04T00:00:00-05:00",
          "2025-03-05T00:00:00-05:00",
          "2025-03-06T00:00:00-05:00",
          "2025-03-07T00:00:00-05:00",
          "2025-03-10T00:00:00-04:00",
          "2025-03-11T00:00:00-04:00",
          "2025-03-12T00:00:00-04:00",
          "2025-03-13T00:00:00-04:00",
          "2025-03-14T00:00:00-04:00",
          "2025-03-17T00:00:00-04:00",
          "2025-03-18T00:00:00-04:00",
          "2025-03-19T00:00:00-04:00",
          "2025-03-20T00:00:00-04:00",
          "2025-03-21T00:00:00-04:00",
          "2025-03-24T00:00:00-04:00",
          "2025-03-25T00:00:00-04:00",
          "2025-03-26T00:00:00-04:00",
          "2025-03-27T00:00:00-04:00",
          "2025-03-28T00:00:00-04:00",
          "2025-03-31T00:00:00-04:00",
          "2025-04-01T00:00:00-04:00",
          "2025-04-02T00:00:00-04:00",
          "2025-04-03T00:00:00-04:00",
          "2025-04-04T00:00:00-04:00",
          "2025-04-07T00:00:00-04:00",
          "2025-04-08T00:00:00-04:00",
          "2025-04-09T00:00:00-04:00",
          "2025-04-10T00:00:00-04:00",
          "2025-04-11T00:00:00-04:00",
          "2025-04-14T00:00:00-04:00",
          "2025-04-15T00:00:00-04:00",
          "2025-04-16T00:00:00-04:00",
          "2025-04-17T00:00:00-04:00",
          "2025-04-21T00:00:00-04:00",
          "2025-04-22T00:00:00-04:00",
          "2025-04-23T00:00:00-04:00",
          "2025-04-24T00:00:00-04:00",
          "2025-04-25T00:00:00-04:00",
          "2025-04-28T00:00:00-04:00",
          "2025-04-29T00:00:00-04:00",
          "2025-04-30T00:00:00-04:00",
          "2025-05-01T00:00:00-04:00",
          "2025-05-02T00:00:00-04:00",
          "2025-05-05T00:00:00-04:00",
          "2025-05-06T00:00:00-04:00",
          "2025-05-07T00:00:00-04:00",
          "2025-05-08T00:00:00-04:00",
          "2025-05-09T00:00:00-04:00",
          "2025-05-12T00:00:00-04:00",
          "2025-05-13T00:00:00-04:00",
          "2025-05-14T00:00:00-04:00",
          "2025-05-15T00:00:00-04:00",
          "2025-05-16T00:00:00-04:00",
          "2025-05-19T00:00:00-04:00",
          "2025-05-20T00:00:00-04:00",
          "2025-05-21T00:00:00-04:00",
          "2025-05-22T00:00:00-04:00",
          "2025-05-23T00:00:00-04:00",
          "2025-05-27T00:00:00-04:00",
          "2025-05-28T00:00:00-04:00",
          "2025-05-29T00:00:00-04:00",
          "2025-05-30T00:00:00-04:00",
          "2025-06-02T00:00:00-04:00",
          "2025-06-03T00:00:00-04:00",
          "2025-06-04T00:00:00-04:00",
          "2025-06-05T00:00:00-04:00",
          "2025-06-06T00:00:00-04:00",
          "2025-06-09T00:00:00-04:00",
          "2025-06-10T00:00:00-04:00",
          "2025-06-11T00:00:00-04:00",
          "2025-06-12T00:00:00-04:00",
          "2025-06-13T00:00:00-04:00",
          "2025-06-16T00:00:00-04:00",
          "2025-06-17T00:00:00-04:00",
          "2025-06-18T00:00:00-04:00",
          "2025-06-20T00:00:00-04:00",
          "2025-06-23T00:00:00-04:00",
          "2025-06-24T00:00:00-04:00",
          "2025-06-25T00:00:00-04:00",
          "2025-06-26T00:00:00-04:00",
          "2025-06-27T00:00:00-04:00",
          "2025-06-30T00:00:00-04:00",
          "2025-07-01T00:00:00-04:00",
          "2025-07-02T00:00:00-04:00",
          "2025-07-03T00:00:00-04:00",
          "2025-07-07T00:00:00-04:00",
          "2025-07-08T00:00:00-04:00",
          "2025-07-09T00:00:00-04:00",
          "2025-07-10T00:00:00-04:00",
          "2025-07-11T00:00:00-04:00",
          "2025-07-14T00:00:00-04:00",
          "2025-07-15T00:00:00-04:00",
          "2025-07-16T00:00:00-04:00",
          "2025-07-17T00:00:00-04:00",
          "2025-07-18T00:00:00-04:00",
          "2025-07-21T00:00:00-04:00",
          "2025-07-22T00:00:00-04:00",
          "2025-07-23T00:00:00-04:00",
          "2025-07-24T00:00:00-04:00",
          "2025-07-25T00:00:00-04:00",
          "2025-07-28T00:00:00-04:00",
          "2025-07-29T00:00:00-04:00",
          "2025-07-30T00:00:00-04:00",
          "2025-07-31T00:00:00-04:00",
          "2025-08-01T00:00:00-04:00",
          "2025-08-04T00:00:00-04:00",
          "2025-08-05T00:00:00-04:00",
          "2025-08-06T00:00:00-04:00",
          "2025-08-07T00:00:00-04:00",
          "2025-08-08T00:00:00-04:00",
          "2025-08-11T00:00:00-04:00",
          "2025-08-12T00:00:00-04:00",
          "2025-08-13T00:00:00-04:00",
          "2025-08-14T00:00:00-04:00",
          "2025-08-15T00:00:00-04:00",
          "2025-08-18T00:00:00-04:00",
          "2025-08-19T00:00:00-04:00",
          "2025-08-20T00:00:00-04:00",
          "2025-08-21T00:00:00-04:00",
          "2025-08-22T00:00:00-04:00",
          "2025-08-25T00:00:00-04:00",
          "2025-08-26T00:00:00-04:00",
          "2025-08-27T00:00:00-04:00"
         ],
         "y": {
          "bdata": "RIhqAMz/agBIWmwAVCGKAKzWTwBsIjoADBd9AMgbUwDsoEAAIGiaANAbtAD02G4AmDhcAERrQQAwV4IAYJ6SAHhEygCkRmoADFZNAJT5gADsoIsAfE9rAKz6SQA4k0MAHGJeAEwbXAAMl1cAELZhAAhrSwCYHVQATANHAGjeYwD8h1MAPHmVADTCXgDgE3UAeJg/ABArWwAkPpMAhLUfAShbfAD4el8AaLhIAFhWPQAc2zUApJlYAKxrTAAExEYA4BI/AKTxcwA8cXUAvIRGAFQLZADsPV0AmA1GACiaTAD46l0A1LdzAPyY4gAg1KEAcK6aAIBwSwBkgKIAhDN1ABiucAA8Di4AvFtRAPgVdACQsU8ACB+rAGx2RQDgtIgAFPllALwlQQDo0TEAIFuxAMz9SQCQjlkAkAFkAMzxZACgEYUA3H8/AGhVGgBkZiEA7C46AGDlNwCwXDQAQF1JADxxdQC01ZMAkL9uAFjNPgBgbk8AmJ9oADAWXwBEIEEAtI9DAJz/SgBIVXEAfAmYAKSmcwB8KYIA0PnOAiBAcQG0PQgBCNbLACC3qgAAF6cATIV0AMyZewBonFUADC5cAHScdgBMhIkAtPtEAUzX2wA0Nm0ABIFmAKi2WgAY4IkAZJPuANy9BQH4lzcBdMHxAFiDvwAwYZEAdMfwANg9BwEgpXsAcO2cAPSpkwB09eAA8PmcADSelgC4SXsAFCFwAICYbgDA0l0A2FVtADSHUwBE+E8AMP1eAPCIaADIQiEB2BEGAUCcyAAsQtIA0J6aAJTyfQB0UNYABFmhAcByNQG8BQYB2FYgAZjqswCc5nwATDt4ANx0XgCY6N0AdNqNAHzegQBgHp8ABBVyATiR0QD4bdoAQGCHALxlYAD0BIkAfN36AACNiwDIN18AsNlmAJgomQB8BW8ACDJhAIiZiABAIokArImSAOy8ZQBQ404AXBdGAOyAPQCUtVEAwPs5AKiJPABwh2IA9FZaAOgmWgAw1GkACBA9ALjBgACEYUwA4GxJAEwMUgDwz1gACI5zAFDYVABMb2cAOAlaAAhDcwB0H10ANJ1gAEATZgB4LosAfB9zANQ+UQBUXlIAZHuOAKihUQDc74gAQOpXABAXPQD4jEMAwFdlAGxSSwCwrXgBuDNuAJAaZACwBmwApB1cANDneQCMOVgA0JBJADitYABEqlwAtLtEAESOggD82aEApHjnAABTGgHQ8qUAWBOoAODqZgAcr00AxD4+AOToUADw+TgAvLQ+AIBiXgDAOJgAsAp8ANS4XgDInDEAtIFvALxgfgAsIjkAVMlVAPBaRgBswFoARIxhAA==",
          "dtype": "i4"
         }
        },
        {
         "name": "Average",
         "type": "scatter",
         "x": [
          "2024-08-28T00:00:00-04:00",
          "2024-08-29T00:00:00-04:00",
          "2024-08-30T00:00:00-04:00",
          "2024-09-03T00:00:00-04:00",
          "2024-09-04T00:00:00-04:00",
          "2024-09-05T00:00:00-04:00",
          "2024-09-06T00:00:00-04:00",
          "2024-09-09T00:00:00-04:00",
          "2024-09-10T00:00:00-04:00",
          "2024-09-11T00:00:00-04:00",
          "2024-09-12T00:00:00-04:00",
          "2024-09-13T00:00:00-04:00",
          "2024-09-16T00:00:00-04:00",
          "2024-09-17T00:00:00-04:00",
          "2024-09-18T00:00:00-04:00",
          "2024-09-19T00:00:00-04:00",
          "2024-09-20T00:00:00-04:00",
          "2024-09-23T00:00:00-04:00",
          "2024-09-24T00:00:00-04:00",
          "2024-09-25T00:00:00-04:00",
          "2024-09-26T00:00:00-04:00",
          "2024-09-27T00:00:00-04:00",
          "2024-09-30T00:00:00-04:00",
          "2024-10-01T00:00:00-04:00",
          "2024-10-02T00:00:00-04:00",
          "2024-10-03T00:00:00-04:00",
          "2024-10-04T00:00:00-04:00",
          "2024-10-07T00:00:00-04:00",
          "2024-10-08T00:00:00-04:00",
          "2024-10-09T00:00:00-04:00",
          "2024-10-10T00:00:00-04:00",
          "2024-10-11T00:00:00-04:00",
          "2024-10-14T00:00:00-04:00",
          "2024-10-15T00:00:00-04:00",
          "2024-10-16T00:00:00-04:00",
          "2024-10-17T00:00:00-04:00",
          "2024-10-18T00:00:00-04:00",
          "2024-10-21T00:00:00-04:00",
          "2024-10-22T00:00:00-04:00",
          "2024-10-23T00:00:00-04:00",
          "2024-10-24T00:00:00-04:00",
          "2024-10-25T00:00:00-04:00",
          "2024-10-28T00:00:00-04:00",
          "2024-10-29T00:00:00-04:00",
          "2024-10-30T00:00:00-04:00",
          "2024-10-31T00:00:00-04:00",
          "2024-11-01T00:00:00-04:00",
          "2024-11-04T00:00:00-05:00",
          "2024-11-05T00:00:00-05:00",
          "2024-11-06T00:00:00-05:00",
          "2024-11-07T00:00:00-05:00",
          "2024-11-08T00:00:00-05:00",
          "2024-11-11T00:00:00-05:00",
          "2024-11-12T00:00:00-05:00",
          "2024-11-13T00:00:00-05:00",
          "2024-11-14T00:00:00-05:00",
          "2024-11-15T00:00:00-05:00",
          "2024-11-18T00:00:00-05:00",
          "2024-11-19T00:00:00-05:00",
          "2024-11-20T00:00:00-05:00",
          "2024-11-21T00:00:00-05:00",
          "2024-11-22T00:00:00-05:00",
          "2024-11-25T00:00:00-05:00",
          "2024-11-26T00:00:00-05:00",
          "2024-11-27T00:00:00-05:00",
          "2024-11-29T00:00:00-05:00",
          "2024-12-02T00:00:00-05:00",
          "2024-12-03T00:00:00-05:00",
          "2024-12-04T00:00:00-05:00",
          "2024-12-05T00:00:00-05:00",
          "2024-12-06T00:00:00-05:00",
          "2024-12-09T00:00:00-05:00",
          "2024-12-10T00:00:00-05:00",
          "2024-12-11T00:00:00-05:00",
          "2024-12-12T00:00:00-05:00",
          "2024-12-13T00:00:00-05:00",
          "2024-12-16T00:00:00-05:00",
          "2024-12-17T00:00:00-05:00",
          "2024-12-18T00:00:00-05:00",
          "2024-12-19T00:00:00-05:00",
          "2024-12-20T00:00:00-05:00",
          "2024-12-23T00:00:00-05:00",
          "2024-12-24T00:00:00-05:00",
          "2024-12-26T00:00:00-05:00",
          "2024-12-27T00:00:00-05:00",
          "2024-12-30T00:00:00-05:00",
          "2024-12-31T00:00:00-05:00",
          "2025-01-02T00:00:00-05:00",
          "2025-01-03T00:00:00-05:00",
          "2025-01-06T00:00:00-05:00",
          "2025-01-07T00:00:00-05:00",
          "2025-01-08T00:00:00-05:00",
          "2025-01-10T00:00:00-05:00",
          "2025-01-13T00:00:00-05:00",
          "2025-01-14T00:00:00-05:00",
          "2025-01-15T00:00:00-05:00",
          "2025-01-16T00:00:00-05:00",
          "2025-01-17T00:00:00-05:00",
          "2025-01-21T00:00:00-05:00",
          "2025-01-22T00:00:00-05:00",
          "2025-01-23T00:00:00-05:00",
          "2025-01-24T00:00:00-05:00",
          "2025-01-27T00:00:00-05:00",
          "2025-01-28T00:00:00-05:00",
          "2025-01-29T00:00:00-05:00",
          "2025-01-30T00:00:00-05:00",
          "2025-01-31T00:00:00-05:00",
          "2025-02-03T00:00:00-05:00",
          "2025-02-04T00:00:00-05:00",
          "2025-02-05T00:00:00-05:00",
          "2025-02-06T00:00:00-05:00",
          "2025-02-07T00:00:00-05:00",
          "2025-02-10T00:00:00-05:00",
          "2025-02-11T00:00:00-05:00",
          "2025-02-12T00:00:00-05:00",
          "2025-02-13T00:00:00-05:00",
          "2025-02-14T00:00:00-05:00",
          "2025-02-18T00:00:00-05:00",
          "2025-02-19T00:00:00-05:00",
          "2025-02-20T00:00:00-05:00",
          "2025-02-21T00:00:00-05:00",
          "2025-02-24T00:00:00-05:00",
          "2025-02-25T00:00:00-05:00",
          "2025-02-26T00:00:00-05:00",
          "2025-02-27T00:00:00-05:00",
          "2025-02-28T00:00:00-05:00",
          "2025-03-03T00:00:00-05:00",
          "2025-03-04T00:00:00-05:00",
          "2025-03-05T00:00:00-05:00",
          "2025-03-06T00:00:00-05:00",
          "2025-03-07T00:00:00-05:00",
          "2025-03-10T00:00:00-04:00",
          "2025-03-11T00:00:00-04:00",
          "2025-03-12T00:00:00-04:00",
          "2025-03-13T00:00:00-04:00",
          "2025-03-14T00:00:00-04:00",
          "2025-03-17T00:00:00-04:00",
          "2025-03-18T00:00:00-04:00",
          "2025-03-19T00:00:00-04:00",
          "2025-03-20T00:00:00-04:00",
          "2025-03-21T00:00:00-04:00",
          "2025-03-24T00:00:00-04:00",
          "2025-03-25T00:00:00-04:00",
          "2025-03-26T00:00:00-04:00",
          "2025-03-27T00:00:00-04:00",
          "2025-03-28T00:00:00-04:00",
          "2025-03-31T00:00:00-04:00",
          "2025-04-01T00:00:00-04:00",
          "2025-04-02T00:00:00-04:00",
          "2025-04-03T00:00:00-04:00",
          "2025-04-04T00:00:00-04:00",
          "2025-04-07T00:00:00-04:00",
          "2025-04-08T00:00:00-04:00",
          "2025-04-09T00:00:00-04:00",
          "2025-04-10T00:00:00-04:00",
          "2025-04-11T00:00:00-04:00",
          "2025-04-14T00:00:00-04:00",
          "2025-04-15T00:00:00-04:00",
          "2025-04-16T00:00:00-04:00",
          "2025-04-17T00:00:00-04:00",
          "2025-04-21T00:00:00-04:00",
          "2025-04-22T00:00:00-04:00",
          "2025-04-23T00:00:00-04:00",
          "2025-04-24T00:00:00-04:00",
          "2025-04-25T00:00:00-04:00",
          "2025-04-28T00:00:00-04:00",
          "2025-04-29T00:00:00-04:00",
          "2025-04-30T00:00:00-04:00",
          "2025-05-01T00:00:00-04:00",
          "2025-05-02T00:00:00-04:00",
          "2025-05-05T00:00:00-04:00",
          "2025-05-06T00:00:00-04:00",
          "2025-05-07T00:00:00-04:00",
          "2025-05-08T00:00:00-04:00",
          "2025-05-09T00:00:00-04:00",
          "2025-05-12T00:00:00-04:00",
          "2025-05-13T00:00:00-04:00",
          "2025-05-14T00:00:00-04:00",
          "2025-05-15T00:00:00-04:00",
          "2025-05-16T00:00:00-04:00",
          "2025-05-19T00:00:00-04:00",
          "2025-05-20T00:00:00-04:00",
          "2025-05-21T00:00:00-04:00",
          "2025-05-22T00:00:00-04:00",
          "2025-05-23T00:00:00-04:00",
          "2025-05-27T00:00:00-04:00",
          "2025-05-28T00:00:00-04:00",
          "2025-05-29T00:00:00-04:00",
          "2025-05-30T00:00:00-04:00",
          "2025-06-02T00:00:00-04:00",
          "2025-06-03T00:00:00-04:00",
          "2025-06-04T00:00:00-04:00",
          "2025-06-05T00:00:00-04:00",
          "2025-06-06T00:00:00-04:00",
          "2025-06-09T00:00:00-04:00",
          "2025-06-10T00:00:00-04:00",
          "2025-06-11T00:00:00-04:00",
          "2025-06-12T00:00:00-04:00",
          "2025-06-13T00:00:00-04:00",
          "2025-06-16T00:00:00-04:00",
          "2025-06-17T00:00:00-04:00",
          "2025-06-18T00:00:00-04:00",
          "2025-06-20T00:00:00-04:00",
          "2025-06-23T00:00:00-04:00",
          "2025-06-24T00:00:00-04:00",
          "2025-06-25T00:00:00-04:00",
          "2025-06-26T00:00:00-04:00",
          "2025-06-27T00:00:00-04:00",
          "2025-06-30T00:00:00-04:00",
          "2025-07-01T00:00:00-04:00",
          "2025-07-02T00:00:00-04:00",
          "2025-07-03T00:00:00-04:00",
          "2025-07-07T00:00:00-04:00",
          "2025-07-08T00:00:00-04:00",
          "2025-07-09T00:00:00-04:00",
          "2025-07-10T00:00:00-04:00",
          "2025-07-11T00:00:00-04:00",
          "2025-07-14T00:00:00-04:00",
          "2025-07-15T00:00:00-04:00",
          "2025-07-16T00:00:00-04:00",
          "2025-07-17T00:00:00-04:00",
          "2025-07-18T00:00:00-04:00",
          "2025-07-21T00:00:00-04:00",
          "2025-07-22T00:00:00-04:00",
          "2025-07-23T00:00:00-04:00",
          "2025-07-24T00:00:00-04:00",
          "2025-07-25T00:00:00-04:00",
          "2025-07-28T00:00:00-04:00",
          "2025-07-29T00:00:00-04:00",
          "2025-07-30T00:00:00-04:00",
          "2025-07-31T00:00:00-04:00",
          "2025-08-01T00:00:00-04:00",
          "2025-08-04T00:00:00-04:00",
          "2025-08-05T00:00:00-04:00",
          "2025-08-06T00:00:00-04:00",
          "2025-08-07T00:00:00-04:00",
          "2025-08-08T00:00:00-04:00",
          "2025-08-11T00:00:00-04:00",
          "2025-08-12T00:00:00-04:00",
          "2025-08-13T00:00:00-04:00",
          "2025-08-14T00:00:00-04:00",
          "2025-08-15T00:00:00-04:00",
          "2025-08-18T00:00:00-04:00",
          "2025-08-19T00:00:00-04:00",
          "2025-08-20T00:00:00-04:00",
          "2025-08-21T00:00:00-04:00",
          "2025-08-22T00:00:00-04:00",
          "2025-08-25T00:00:00-04:00",
          "2025-08-26T00:00:00-04:00",
          "2025-08-27T00:00:00-04:00"
         ],
         "y": {
          "bdata": "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",
          "dtype": "f8"
         }
        }
       ],
       "layout": {
        "height": 400,
        "template": {
         "data": {
          "bar": [
           {
            "error_x": {
             "color": "#2a3f5f"
            },
            "error_y": {
             "color": "#2a3f5f"
            },
            "marker": {
             "line": {
              "color": "#E5ECF6",
              "width": 0.5
             },
             "pattern": {
              "fillmode": "overlay",
              "size": 10,
              "solidity": 0.2
             }
            },
            "type": "bar"
           }
          ],
          "barpolar": [
           {
            "marker": {
             "line": {
              "color": "#E5ECF6",
              "width": 0.5
             },
             "pattern": {
              "fillmode": "overlay",
              "size": 10,
              "solidity": 0.2
             }
            },
            "type": "barpolar"
           }
          ],
          "carpet": [
           {
            "aaxis": {
             "endlinecolor": "#2a3f5f",
             "gridcolor": "white",
             "linecolor": "white",
             "minorgridcolor": "white",
             "startlinecolor": "#2a3f5f"
            },
            "baxis": {
             "endlinecolor": "#2a3f5f",
             "gridcolor": "white",
             "linecolor": "white",
             "minorgridcolor": "white",
             "startlinecolor": "#2a3f5f"
            },
            "type": "carpet"
           }
          ],
          "choropleth": [
           {
            "colorbar": {
             "outlinewidth": 0,
             "ticks": ""
            },
            "type": "choropleth"
           }
          ],
          "contour": [
           {
            "colorbar": {
             "outlinewidth": 0,
             "ticks": ""
            },
            "colorscale": [
             [
              0,
              "#0d0887"
             ],
             [
              0.1111111111111111,
              "#46039f"
             ],
             [
              0.2222222222222222,
              "#7201a8"
             ],
             [
              0.3333333333333333,
              "#9c179e"
             ],
             [
              0.4444444444444444,
              "#bd3786"
             ],
             [
              0.5555555555555556,
              "#d8576b"
             ],
             [
              0.6666666666666666,
              "#ed7953"
             ],
             [
              0.7777777777777778,
              "#fb9f3a"
             ],
             [
              0.8888888888888888,
              "#fdca26"
             ],
             [
              1,
              "#f0f921"
             ]
            ],
            "type": "contour"
           }
          ],
          "contourcarpet": [
           {
            "colorbar": {
             "outlinewidth": 0,
             "ticks": ""
            },
            "type": "contourcarpet"
           }
          ],
          "heatmap": [
           {
            "colorbar": {
             "outlinewidth": 0,
             "ticks": ""
            },
            "colorscale": [
             [
              0,
              "#0d0887"
             ],
             [
              0.1111111111111111,
              "#46039f"
             ],
             [
              0.2222222222222222,
              "#7201a8"
             ],
             [
              0.3333333333333333,
              "#9c179e"
             ],
             [
              0.4444444444444444,
              "#bd3786"
             ],
             [
              0.5555555555555556,
              "#d8576b"
             ],
             [
              0.6666666666666666,
              "#ed7953"
             ],
             [
              0.7777777777777778,
              "#fb9f3a"
             ],
             [
              0.8888888888888888,
              "#fdca26"
             ],
             [
              1,
              "#f0f921"
             ]
            ],
            "type": "heatmap"
           }
          ],
          "histogram": [
           {
            "marker": {
             "pattern": {
              "fillmode": "overlay",
              "size": 10,
              "solidity": 0.2
             }
            },
            "type": "histogram"
           }
          ],
          "histogram2d": [
           {
            "colorbar": {
             "outlinewidth": 0,
             "ticks": ""
            },
            "colorscale": [
             [
              0,
              "#0d0887"
             ],
             [
              0.1111111111111111,
              "#46039f"
             ],
             [
              0.2222222222222222,
              "#7201a8"
             ],
             [
              0.3333333333333333,
              "#9c179e"
             ],
             [
              0.4444444444444444,
              "#bd3786"
             ],
             [
              0.5555555555555556,
              "#d8576b"
             ],
             [
              0.6666666666666666,
              "#ed7953"
             ],
             [
              0.7777777777777778,
              "#fb9f3a"
             ],
             [
              0.8888888888888888,
              "#fdca26"
             ],
             [
              1,
              "#f0f921"
             ]
            ],
            "type": "histogram2d"
           }
          ],
          "histogram2dcontour": [
           {
            "colorbar": {
             "outlinewidth": 0,
             "ticks": ""
            },
            "colorscale": [
             [
              0,
              "#0d0887"
             ],
             [
              0.1111111111111111,
              "#46039f"
             ],
             [
              0.2222222222222222,
              "#7201a8"
             ],
             [
              0.3333333333333333,
              "#9c179e"
             ],
             [
              0.4444444444444444,
              "#bd3786"
             ],
             [
              0.5555555555555556,
              "#d8576b"
             ],
             [
              0.6666666666666666,
              "#ed7953"
             ],
             [
              0.7777777777777778,
              "#fb9f3a"
             ],
             [
              0.8888888888888888,
              "#fdca26"
             ],
             [
              1,
              "#f0f921"
             ]
            ],
            "type": "histogram2dcontour"
           }
          ],
          "mesh3d": [
           {
            "colorbar": {
             "outlinewidth": 0,
             "ticks": ""
            },
            "type": "mesh3d"
           }
          ],
          "parcoords": [
           {
            "line": {
             "colorbar": {
              "outlinewidth": 0,
              "ticks": ""
             }
            },
            "type": "parcoords"
           }
          ],
          "pie": [
           {
            "automargin": true,
            "type": "pie"
           }
          ],
          "scatter": [
           {
            "fillpattern": {
             "fillmode": "overlay",
             "size": 10,
             "solidity": 0.2
            },
            "type": "scatter"
           }
          ],
          "scatter3d": [
           {
            "line": {
             "colorbar": {
              "outlinewidth": 0,
              "ticks": ""
             }
            },
            "marker": {
             "colorbar": {
              "outlinewidth": 0,
              "ticks": ""
             }
            },
            "type": "scatter3d"
           }
          ],
          "scattercarpet": [
           {
            "marker": {
             "colorbar": {
              "outlinewidth": 0,
              "ticks": ""
             }
            },
            "type": "scattercarpet"
           }
          ],
          "scattergeo": [
           {
            "marker": {
             "colorbar": {
              "outlinewidth": 0,
              "ticks": ""
             }
            },
            "type": "scattergeo"
           }
          ],
          "scattergl": [
           {
            "marker": {
             "colorbar": {
              "outlinewidth": 0,
              "ticks": ""
             }
            },
            "type": "scattergl"
           }
          ],
          "scattermap": [
           {
            "marker": {
             "colorbar": {
              "outlinewidth": 0,
              "ticks": ""
             }
            },
            "type": "scattermap"
           }
          ],
          "scattermapbox": [
           {
            "marker": {
             "colorbar": {
              "outlinewidth": 0,
              "ticks": ""
             }
            },
            "type": "scattermapbox"
           }
          ],
          "scatterpolar": [
           {
            "marker": {
             "colorbar": {
              "outlinewidth": 0,
              "ticks": ""
             }
            },
            "type": "scatterpolar"
           }
          ],
          "scatterpolargl": [
           {
            "marker": {
             "colorbar": {
              "outlinewidth": 0,
              "ticks": ""
             }
            },
            "type": "scatterpolargl"
           }
          ],
          "scatterternary": [
           {
            "marker": {
             "colorbar": {
              "outlinewidth": 0,
              "ticks": ""
             }
            },
            "type": "scatterternary"
           }
          ],
          "surface": [
           {
            "colorbar": {
             "outlinewidth": 0,
             "ticks": ""
            },
            "colorscale": [
             [
              0,
              "#0d0887"
             ],
             [
              0.1111111111111111,
              "#46039f"
             ],
             [
              0.2222222222222222,
              "#7201a8"
             ],
             [
              0.3333333333333333,
              "#9c179e"
             ],
             [
              0.4444444444444444,
              "#bd3786"
             ],
             [
              0.5555555555555556,
              "#d8576b"
             ],
             [
              0.6666666666666666,
              "#ed7953"
             ],
             [
              0.7777777777777778,
              "#fb9f3a"
             ],
             [
              0.8888888888888888,
              "#fdca26"
             ],
             [
              1,
              "#f0f921"
             ]
            ],
            "type": "surface"
           }
          ],
          "table": [
           {
            "cells": {
             "fill": {
              "color": "#EBF0F8"
             },
             "line": {
              "color": "white"
             }
            },
            "header": {
             "fill": {
              "color": "#C8D4E3"
             },
             "line": {
              "color": "white"
             }
            },
            "type": "table"
           }
          ]
         },
         "layout": {
          "annotationdefaults": {
           "arrowcolor": "#2a3f5f",
           "arrowhead": 0,
           "arrowwidth": 1
          },
          "autotypenumbers": "strict",
          "coloraxis": {
           "colorbar": {
            "outlinewidth": 0,
            "ticks": ""
           }
          },
          "colorscale": {
           "diverging": [
            [
             0,
             "#8e0152"
            ],
            [
             0.1,
             "#c51b7d"
            ],
            [
             0.2,
             "#de77ae"
            ],
            [
             0.3,
             "#f1b6da"
            ],
            [
             0.4,
             "#fde0ef"
            ],
            [
             0.5,
             "#f7f7f7"
            ],
            [
             0.6,
             "#e6f5d0"
            ],
            [
             0.7,
             "#b8e186"
            ],
            [
             0.8,
             "#7fbc41"
            ],
            [
             0.9,
             "#4d9221"
            ],
            [
             1,
             "#276419"
            ]
           ],
           "sequential": [
            [
             0,
             "#0d0887"
            ],
            [
             0.1111111111111111,
             "#46039f"
            ],
            [
             0.2222222222222222,
             "#7201a8"
            ],
            [
             0.3333333333333333,
             "#9c179e"
            ],
            [
             0.4444444444444444,
             "#bd3786"
            ],
            [
             0.5555555555555556,
             "#d8576b"
            ],
            [
             0.6666666666666666,
             "#ed7953"
            ],
            [
             0.7777777777777778,
             "#fb9f3a"
            ],
            [
             0.8888888888888888,
             "#fdca26"
            ],
            [
             1,
             "#f0f921"
            ]
           ],
           "sequentialminus": [
            [
             0,
             "#0d0887"
            ],
            [
             0.1111111111111111,
             "#46039f"
            ],
            [
             0.2222222222222222,
             "#7201a8"
            ],
            [
             0.3333333333333333,
             "#9c179e"
            ],
            [
             0.4444444444444444,
             "#bd3786"
            ],
            [
             0.5555555555555556,
             "#d8576b"
            ],
            [
             0.6666666666666666,
             "#ed7953"
            ],
            [
             0.7777777777777778,
             "#fb9f3a"
            ],
            [
             0.8888888888888888,
             "#fdca26"
            ],
            [
             1,
             "#f0f921"
            ]
           ]
          },
          "colorway": [
           "#636efa",
           "#EF553B",
           "#00cc96",
           "#ab63fa",
           "#FFA15A",
           "#19d3f3",
           "#FF6692",
           "#B6E880",
           "#FF97FF",
           "#FECB52"
          ],
          "font": {
           "color": "#2a3f5f"
          },
          "geo": {
           "bgcolor": "white",
           "lakecolor": "white",
           "landcolor": "#E5ECF6",
           "showlakes": true,
           "showland": true,
           "subunitcolor": "white"
          },
          "hoverlabel": {
           "align": "left"
          },
          "hovermode": "closest",
          "mapbox": {
           "style": "light"
          },
          "paper_bgcolor": "white",
          "plot_bgcolor": "#E5ECF6",
          "polar": {
           "angularaxis": {
            "gridcolor": "white",
            "linecolor": "white",
            "ticks": ""
           },
           "bgcolor": "#E5ECF6",
           "radialaxis": {
            "gridcolor": "white",
            "linecolor": "white",
            "ticks": ""
           }
          },
          "scene": {
           "xaxis": {
            "backgroundcolor": "#E5ECF6",
            "gridcolor": "white",
            "gridwidth": 2,
            "linecolor": "white",
            "showbackground": true,
            "ticks": "",
            "zerolinecolor": "white"
           },
           "yaxis": {
            "backgroundcolor": "#E5ECF6",
            "gridcolor": "white",
            "gridwidth": 2,
            "linecolor": "white",
            "showbackground": true,
            "ticks": "",
            "zerolinecolor": "white"
           },
           "zaxis": {
            "backgroundcolor": "#E5ECF6",
            "gridcolor": "white",
            "gridwidth": 2,
            "linecolor": "white",
            "showbackground": true,
            "ticks": "",
            "zerolinecolor": "white"
           }
          },
          "shapedefaults": {
           "line": {
            "color": "#2a3f5f"
           }
          },
          "ternary": {
           "aaxis": {
            "gridcolor": "white",
            "linecolor": "white",
            "ticks": ""
           },
           "baxis": {
            "gridcolor": "white",
            "linecolor": "white",
            "ticks": ""
           },
           "bgcolor": "#E5ECF6",
           "caxis": {
            "gridcolor": "white",
            "linecolor": "white",
            "ticks": ""
           }
          },
          "title": {
           "x": 0.05
          },
          "xaxis": {
           "automargin": true,
           "gridcolor": "white",
           "linecolor": "white",
           "ticks": "",
           "title": {
            "standoff": 15
           },
           "zerolinecolor": "white",
           "zerolinewidth": 2
          },
          "yaxis": {
           "automargin": true,
           "gridcolor": "white",
           "linecolor": "white",
           "ticks": "",
           "title": {
            "standoff": 15
           },
           "zerolinecolor": "white",
           "zerolinewidth": 2
          }
         }
        },
        "title": {
         "text": "vrt"
        },
        "width": 600
       }
      }
     },
     "metadata": {},
     "output_type": "display_data"
    }
   ],
   "source": [
    "\n",
    "from finta import TA\n",
    "\n",
    "data = t.history(period='1y', rounding=True, auto_adjust=False)\n",
    "data['ema10'] = TA.EMA(data, 10)\n",
    "data['sma30'] = TA.SMA(data, 30)\n",
    "\n",
    "import plotly.graph_objects as go\n",
    "\n",
    "# Stock and moving averages\n",
    "fig = go.Figure(data=[\n",
    "                go.Candlestick(\n",
    "                    x = data.index, # date values\n",
    "                    open  = data['Open'],\n",
    "                    high  = data['High'],\n",
    "                    low   = data['Low'],\n",
    "                    close = data['Close'],\n",
    "                    name = STOCK\n",
    "                ),\n",
    "         \n",
    "                go.Scatter( x=data['ema10'].index,\n",
    "                            y=data['ema10'],\n",
    "                            name='EMA 10',\n",
    "                            line=dict(color='blue',\n",
    "                                      width=2,\n",
    "                                      shape='spline'), # smooth the line\n",
    "                            ),\n",
    "        \n",
    "                go.Scatter( x=data['sma30'].index,\n",
    "                            y=data['sma30'],\n",
    "                            name='SMA 30',\n",
    "                            line=dict(color='purple',\n",
    "                                      width=2,\n",
    "                                      shape='spline'), # smooth the line\n",
    "                            ),\n",
    "                \n",
    "                ])\n",
    "fig.update_layout(xaxis_rangeslider_visible=False, title=f\"{STOCK}\", width=600, height=400)\n",
    "fig.show()\n",
    "\n",
    "# Volume\n",
    "data['vol_avg'] = data['Volume'].rolling(14).mean()\n",
    "fig1 = go.Figure(\n",
    "    data = [\n",
    "        go.Bar(x=data.index, y=data['Volume'], name='Volume'),\n",
    "        go.Scatter(x=data.index, y=data['vol_avg'], name='Average')\n",
    "    ])\n",
    "\n",
    "fig1.update_layout(title=f\"{STOCK}\", width=600, height=400)\n",
    "fig1.show()\n"
   ]
  },
  {
   "cell_type": "code",
   "execution_count": 8,
   "metadata": {},
   "outputs": [
    {
     "name": "stdout",
     "output_type": "stream",
     "text": [
      "STOCK:  vrt\n",
      "\u001b[90m ●  VIX has crossed up\n",
      "\u001b[90m ●  VIX has crossed down\n",
      "\u001b[90m ●  MACD has crossed up\n",
      "\u001b[90m ●  MACD has crossed down\n",
      "\u001b[90m ●  Stochastic has crossed up\n",
      "\u001b[90m ●  Stochastic has crossed down\n",
      "\u001b[90m ●  Moving average is bullish\n",
      "\u001b[90m ●  Moving average is reversing\n",
      "\u001b[90m ●  Moving average cross down\n",
      "\u001b[90m ●  Moving average cross up\n",
      "\u001b[92m ●  Moving average is bearish\n",
      "\u001b[90m ●  Moving average price crossed below \n",
      "\u001b[90m ●  Moving average price crossed above \n",
      "\u001b[90m ●  52 week low \n",
      "\u001b[90m ●  52 week high \n",
      "\u001b[90m ●  RSI oversold (30)\n",
      "\u001b[90m ●  RSI overbought (70)\n",
      "\u001b[90m ●  RSI 52 week low\n",
      "\u001b[90m ●  RSI 52 week high\n",
      "\u001b[90m ●  Resistance break up\n",
      "\u001b[90m ●  Support break down\n",
      "\u001b[90m ●  Close Above High Of Low Day\n",
      "\u001b[90m ●  Close Below Low Of High Day\n",
      "\u001b[90m ●  Volume high\n"
     ]
    }
   ],
   "source": [
    "\n",
    "from yfinance_utils import signals_utils\n",
    "#\n",
    "#Red = '\\033[91m'\n",
    "#Green = '\\033[92m'\n",
    "#Blue = '\\033[94m'\n",
    "#Cyan = '\\033[96m'\n",
    "#White = '\\033[97m'\n",
    "#Yellow = '\\033[93m'\n",
    "#Magenta = '\\033[95m'\n",
    "#Grey = '\\033[90m'\n",
    "#Black = '\\033[90m'\n",
    "#Default = '\\033[99m'\n",
    "\n",
    "def get_color_dot(c):\n",
    "    if c:\n",
    "        return\"\\033[92m ● \"  # Green dot\n",
    "    else:\n",
    "        return\"\\033[90m ● \"  # Grey dot\n",
    "\n",
    "print(f\"STOCK:  {STOCK}\")\n",
    "print(f\"{get_color_dot(signals_utils.is_vix_hma_cross_up(day=2))} VIX has crossed up\")\n",
    "print(f\"{get_color_dot(signals_utils.is_vix_hma_cross_down(day=2))} VIX has crossed down\")\n",
    "print(f\"{get_color_dot(signals_utils.is_macd_cross_up(data))} MACD has crossed up\")\n",
    "print(f\"{get_color_dot(signals_utils.is_macd_cross_down(data))} MACD has crossed down\")\n",
    "print(f\"{get_color_dot(signals_utils.is_stochastic_cross_up(data))} Stochastic has crossed up\")\n",
    "print(f\"{get_color_dot(signals_utils.is_stochastic_cross_down(data))} Stochastic has crossed down\")\n",
    "print(f\"{get_color_dot(signals_utils.is_ma_bullish_trend(data))} Moving average is bullish\")\n",
    "print(f\"{get_color_dot(signals_utils.is_ma_trend_reversing(data))} Moving average is reversing\")\n",
    "print(f\"{get_color_dot(signals_utils.is_ma_cross_down(data))} Moving average cross down\")\n",
    "print(f\"{get_color_dot(signals_utils.is_ma_cross_up(data))} Moving average cross up\")\n",
    "print(f\"{get_color_dot(signals_utils.is_ma_bearish_trend(data))} Moving average is bearish\")\n",
    "print(f\"{get_color_dot(signals_utils.is_ma_price_cross_down(data))} Moving average price crossed below \")\n",
    "print(f\"{get_color_dot(signals_utils.is_ma_price_cross_up(data))} Moving average price crossed above \")\n",
    "print(f\"{get_color_dot(signals_utils.is_price_year_low(data))} 52 week low \")\n",
    "print(f\"{get_color_dot(signals_utils.is_price_year_high(data))} 52 week high \")\n",
    "print(f\"{get_color_dot(signals_utils.is_rsi_oversold(data))} RSI oversold (30)\")\n",
    "print(f\"{get_color_dot(signals_utils.is_rsi_overbough(data))} RSI overbought (70)\")\n",
    "print(f\"{get_color_dot(signals_utils.is_price_year_low(data))} RSI 52 week low\")\n",
    "print(f\"{get_color_dot(signals_utils.is_price_year_high(data))} RSI 52 week high\")\n",
    "print(f\"{get_color_dot(signals_utils.is_resistance_breake_up(data))} Resistance break up\")\n",
    "print(f\"{get_color_dot(signals_utils.is_support_breake_down(data))} Support break down\")\n",
    "print(f\"{get_color_dot(signals_utils.is_cahold(data))} Close Above High Of Low Day\")\n",
    "print(f\"{get_color_dot(signals_utils.is_cblohd(data))} Close Below Low Of High Day\")\n",
    "print(f\"{get_color_dot(signals_utils.is_high_volume(data))} Volume high\")\n"
   ]
  },
  {
   "cell_type": "code",
   "execution_count": 9,
   "metadata": {},
   "outputs": [
    {
     "name": "stdout",
     "output_type": "stream",
     "text": [
      "Stock                        : vrt\n",
      "Price                        : 129.31\n",
      "Put Call Ratio               : 0.33\n",
      "Current Ratio                : 1.74\n",
      "Book Value per Share         : 8.19\n",
      "\n",
      "Records for last two periods.\n",
      "Note: periods are read right to left\n",
      "\n",
      "                              PERIOD_0  PERIOD_1                    CHANGE\n",
      "NAME                                                                      \n",
      "Revenue MM                      495.80    460.20     \u001b[92m UP 8.0% ● \u001b[97m\n",
      "Average Assets MM              8565.50   7547.10    \u001b[92m UP 13.0% ● \u001b[97m\n",
      "Average Inventory MM           1064.35    853.15    \u001b[92m UP 25.0% ● \u001b[97m\n",
      "Revenue per Share                20.74     17.77    \u001b[92m UP 17.0% ● \u001b[97m\n",
      "Earnings per Share                1.28      1.19     \u001b[92m UP 8.0% ● \u001b[97m\n",
      "Share Price to Earnings         101.02    101.02   \u001b[91m DOWN 0.0% ● \u001b[97m\n",
      "Price to Sales                    6.24      6.24   \u001b[91m DOWN 0.0% ● \u001b[97m\n",
      "Acid Test Ratio                   1.25      1.35   \u001b[91m DOWN 8.0% ● \u001b[97m\n",
      "Cash Ratio                        0.40      0.34    \u001b[92m UP 17.0% ● \u001b[97m\n",
      "Operating Cash Flow Ratio         0.43      0.39     \u001b[92m UP 9.0% ● \u001b[97m\n",
      "Debt Ratio                        0.73      0.75   \u001b[91m DOWN 2.0% ● \u001b[97m\n",
      "Debt to Equity Ratio              2.75      2.97   \u001b[91m DOWN 7.0% ● \u001b[97m\n",
      "Interest Coverage Ratio           9.19      5.09    \u001b[92m UP 81.0% ● \u001b[97m\n",
      "Service Coverage Ratio            0.44      0.29    \u001b[92m UP 50.0% ● \u001b[97m\n",
      "Asset Turnover Ratio              0.06      0.06   \u001b[91m DOWN 5.0% ● \u001b[97m\n",
      "Inventory Turnover Ratio          5.95      6.21   \u001b[91m DOWN 4.0% ● \u001b[97m\n",
      "Day Sales in Inventory Ratio      0.00      0.00  \u001b[91m DOWN 20.0% ● \u001b[97m\n",
      "Return on Assets Ratio            0.05      0.06   \u001b[91m DOWN 6.0% ● \u001b[97m\n",
      "Return on Equity Ratio            0.20      0.23  \u001b[91m DOWN 11.0% ● \u001b[97m\n"
     ]
    }
   ],
   "source": [
    "\n",
    "from yfinance_utils import ratio_utils\n",
    "import pandas as pd\n",
    "\n",
    "print(f\"Stock                        : {STOCK}\")\n",
    "print(f\"Price                        : {t.history()['Close'].iloc[-1].round(2)}\")\n",
    "print(f\"Put Call Ratio               : {ratio_utils.get_put_call_ratio(t):,.2f}\")\n",
    "print(f\"Current Ratio                : {ratio_utils.get_current_ratio(t):,.2f}\")\n",
    "print(f\"Book Value per Share         : {ratio_utils.get_book_value_per_share_ratio(t):,.2f}\")\n",
    "print(\"\")\n",
    "\n",
    "df = pd.DataFrame()\n",
    "\n",
    "ls_name = [\n",
    "    'Revenue MM'                  ,\n",
    "    'Average Assets MM'           ,\n",
    "    'Average Inventory MM'        ,\n",
    "    'Revenue per Share'           ,\n",
    "    'Earnings per Share'          ,\n",
    "    'Share Price to Earnings'     ,\n",
    "    'Price to Sales'              ,\n",
    "    'Acid Test Ratio'             ,\n",
    "    'Cash Ratio'                  ,\n",
    "    'Operating Cash Flow Ratio'   ,\n",
    "    'Debt Ratio'                  ,\n",
    "    'Debt to Equity Ratio'        ,\n",
    "    'Interest Coverage Ratio'     ,\n",
    "    'Service Coverage Ratio'      ,\n",
    "    'Asset Turnover Ratio'        ,\n",
    "    'Inventory Turnover Ratio'    ,\n",
    "    'Day Sales in Inventory Ratio',\n",
    "    'Return on Assets Ratio'      , \n",
    "    'Return on Equity Ratio'\n",
    "]\n",
    "\n",
    "for i in range(1,3):\n",
    "    name = ls_name\n",
    "    \n",
    "df['NAME'] = ls_name\n",
    "df.set_index('NAME',inplace=True)\n",
    "\n",
    "for i in range(2):\n",
    "    ls = []\n",
    "    ls.append(ratio_utils.get_net_revenue(t, period = i)/1000000)\n",
    "    ls.append(ratio_utils.get_avg_assets(t, period = i)/1000000)\n",
    "    ls.append(ratio_utils.get_avg_inventory(t, period = i)/1000000)\n",
    "    ls.append(ratio_utils.get_revenue_per_share(t, period = i))\n",
    "    ls.append(ratio_utils.get_earnings_per_share(t, period = i))\n",
    "    ls.append(ratio_utils.get_price_to_earnings(t, period = i))\n",
    "    ls.append(ratio_utils.get_price_to_sales(t, period = i))\n",
    "    ls.append(ratio_utils.get_acid_test_ratio(t, period = i))\n",
    "    ls.append(ratio_utils.get_cash_ratio(t, period = i))\n",
    "    ls.append(ratio_utils.get_operating_cash_flow_ratio(t, period = i))\n",
    "    ls.append(ratio_utils.get_debt_ratio(t, period = i))\n",
    "    ls.append(ratio_utils.get_debt_to_equity_ratio(t, period = i))\n",
    "    ls.append(ratio_utils.get_interest_coverage_ratio(t, period = i))\n",
    "    ls.append(ratio_utils.get_service_coverage_ratio(t, period = i))\n",
    "    ls.append(ratio_utils.get_asset_turnover_ratio(t, period = i))\n",
    "    ls.append(ratio_utils.get_inventory_turnover_ratio(t, period = i))\n",
    "    ls.append(ratio_utils.get_day_sales_in_inventory_ratio(t, period = i))\n",
    "    ls.append(ratio_utils.get_return_on_assets_ratio(t, period = i))\n",
    "    ls.append(ratio_utils.get_return_on_equity(t, period = i))\n",
    "    df[f\"PERIOD_{i}\"] = ls\n",
    "\n",
    "direction = []\n",
    "for i in range(len(df)):\n",
    "    if df['PERIOD_0'].iloc[i] > df['PERIOD_1'].iloc[i]:\n",
    "        pct = round(((df['PERIOD_0'].iloc[i] / df['PERIOD_1'].iloc[i]) - 1) * 100,0)\n",
    "        direction.append(f\"\\033[92m UP {abs(pct)}% ● \\033[97m\")\n",
    "    else:\n",
    "        pct = round(((1-((df['PERIOD_0'].iloc[i] / df['PERIOD_1'].iloc[i])))*100),0)\n",
    "        direction.append(f\"\\033[91m DOWN {abs(pct)}% ● \\033[97m\")\n",
    "df['CHANGE'] = direction\n",
    "\n",
    "print(\"Records for last two periods.\")\n",
    "print(\"Note: periods are read right to left\")\n",
    "print('')\n",
    "print(df.round(2))"
   ]
  }
 ],
 "metadata": {
  "kernelspec": {
   "display_name": ".venv",
   "language": "python",
   "name": "python3"
  },
  "language_info": {
   "codemirror_mode": {
    "name": "ipython",
    "version": 3
   },
   "file_extension": ".py",
   "mimetype": "text/x-python",
   "name": "python",
   "nbconvert_exporter": "python",
   "pygments_lexer": "ipython3",
   "version": "3.13.7"
  }
 },
 "nbformat": 4,
 "nbformat_minor": 2
}
