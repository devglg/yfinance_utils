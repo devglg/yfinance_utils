{
 "cells": [
  {
   "cell_type": "markdown",
   "metadata": {},
   "source": [
    "Copyright 2024 Lehi Gracia"
   ]
  },
  {
   "cell_type": "markdown",
   "metadata": {},
   "source": [
    "SELECT TICKER"
   ]
  },
  {
   "cell_type": "code",
   "execution_count": 3,
   "metadata": {},
   "outputs": [],
   "source": [
    "STOCK = 'AVGO'"
   ]
  },
  {
   "cell_type": "markdown",
   "metadata": {},
   "source": [
    "NEWS"
   ]
  },
  {
   "cell_type": "code",
   "execution_count": 4,
   "metadata": {},
   "outputs": [
    {
     "name": "stdout",
     "output_type": "stream",
     "text": [
      "Oracle boosts chip stocks, NIO plunges, Netflix & Amazon team up\n",
      "Taiwan Semiconductor Marches Higher On August Sales Report\n",
      "S&P 500 Closes at New High Ahead of Consumer Inflation Data; Oracle Surges\n",
      "Stocks Supported as Easing Price Pressures Reinforce Fed Rate Cut Hopes\n",
      "Stocks to Watch Recap: Apple, Oracle, Klarna, Synopsys\n",
      "NVIDIA (NVDA) Remains a Top Pick for Gen AI, Says KeyBanc\n",
      "Oracle Stock Finishes 36% Higher in Historic Rally\n",
      "Why Broadcom Stock Is Soaring Today\n",
      "Chip Stocks Are on the Move. Where Do AMD and Micron Go Next?\n",
      "Broadcom Is Tying CEO Compensation to AI Revenue. Does that Make AVGO Stock a Buy Here?\n"
     ]
    }
   ],
   "source": [
    "\n",
    "import warnings\n",
    "warnings.filterwarnings('ignore')\n",
    "\n",
    "from yfinance_utils import file_utils, file_utils\n",
    "from datetime import datetime\n",
    "\n",
    "t = file_utils.get_history(STOCK)\n",
    "n = file_utils.get_news(STOCK)\n",
    "for i in n:\n",
    "    print(f\"{i['content']['title']}\")"
   ]
  },
  {
   "cell_type": "markdown",
   "metadata": {},
   "source": [
    "### Ratings UP and DOWN"
   ]
  },
  {
   "cell_type": "code",
   "execution_count": 5,
   "metadata": {},
   "outputs": [
    {
     "name": "stdout",
     "output_type": "stream",
     "text": [
      "40  up\n",
      "0  down\n",
      "43  total\n",
      "3  hold\n"
     ]
    }
   ],
   "source": [
    "\n",
    "from yfinance_utils import file_utils\n",
    "\n",
    "ratings = file_utils.get_ratings(STOCK)\n",
    "for i in ratings.keys():\n",
    "    print(f\"{ratings[i]}  {i}\")\n",
    "\n"
   ]
  },
  {
   "cell_type": "markdown",
   "metadata": {},
   "source": [
    "### Total Ratings"
   ]
  },
  {
   "cell_type": "code",
   "execution_count": 6,
   "metadata": {},
   "outputs": [
    {
     "data": {
      "application/vnd.plotly.v1+json": {
       "config": {
        "plotlyServerURL": "https://plot.ly"
       },
       "data": [
        {
         "domain": {
          "x": [
           0,
           1
          ],
          "y": [
           0,
           1
          ]
         },
         "hovertemplate": "label=%{label}<br>value=%{value}<extra></extra>",
         "labels": [
          "Buy",
          "Outperform",
          "Equal-Weight",
          "Overweight",
          "Positive",
          "Market Perform",
          "Peer Perform",
          "Hold",
          "Market Outperform",
          "Neutral",
          "In-Line",
          "Top Pick",
          "",
          "Conviction Buy"
         ],
         "legendgroup": "",
         "name": "",
         "showlegend": true,
         "type": "pie",
         "values": {
          "bdata": "8QBUABMAgAASAA4AAQAGAAMAEQABAAIAAQABAA==",
          "dtype": "i2"
         }
        }
       ],
       "layout": {
        "height": 400,
        "legend": {
         "tracegroupgap": 0
        },
        "template": {
         "data": {
          "bar": [
           {
            "error_x": {
             "color": "#2a3f5f"
            },
            "error_y": {
             "color": "#2a3f5f"
            },
            "marker": {
             "line": {
              "color": "#E5ECF6",
              "width": 0.5
             },
             "pattern": {
              "fillmode": "overlay",
              "size": 10,
              "solidity": 0.2
             }
            },
            "type": "bar"
           }
          ],
          "barpolar": [
           {
            "marker": {
             "line": {
              "color": "#E5ECF6",
              "width": 0.5
             },
             "pattern": {
              "fillmode": "overlay",
              "size": 10,
              "solidity": 0.2
             }
            },
            "type": "barpolar"
           }
          ],
          "carpet": [
           {
            "aaxis": {
             "endlinecolor": "#2a3f5f",
             "gridcolor": "white",
             "linecolor": "white",
             "minorgridcolor": "white",
             "startlinecolor": "#2a3f5f"
            },
            "baxis": {
             "endlinecolor": "#2a3f5f",
             "gridcolor": "white",
             "linecolor": "white",
             "minorgridcolor": "white",
             "startlinecolor": "#2a3f5f"
            },
            "type": "carpet"
           }
          ],
          "choropleth": [
           {
            "colorbar": {
             "outlinewidth": 0,
             "ticks": ""
            },
            "type": "choropleth"
           }
          ],
          "contour": [
           {
            "colorbar": {
             "outlinewidth": 0,
             "ticks": ""
            },
            "colorscale": [
             [
              0,
              "#0d0887"
             ],
             [
              0.1111111111111111,
              "#46039f"
             ],
             [
              0.2222222222222222,
              "#7201a8"
             ],
             [
              0.3333333333333333,
              "#9c179e"
             ],
             [
              0.4444444444444444,
              "#bd3786"
             ],
             [
              0.5555555555555556,
              "#d8576b"
             ],
             [
              0.6666666666666666,
              "#ed7953"
             ],
             [
              0.7777777777777778,
              "#fb9f3a"
             ],
             [
              0.8888888888888888,
              "#fdca26"
             ],
             [
              1,
              "#f0f921"
             ]
            ],
            "type": "contour"
           }
          ],
          "contourcarpet": [
           {
            "colorbar": {
             "outlinewidth": 0,
             "ticks": ""
            },
            "type": "contourcarpet"
           }
          ],
          "heatmap": [
           {
            "colorbar": {
             "outlinewidth": 0,
             "ticks": ""
            },
            "colorscale": [
             [
              0,
              "#0d0887"
             ],
             [
              0.1111111111111111,
              "#46039f"
             ],
             [
              0.2222222222222222,
              "#7201a8"
             ],
             [
              0.3333333333333333,
              "#9c179e"
             ],
             [
              0.4444444444444444,
              "#bd3786"
             ],
             [
              0.5555555555555556,
              "#d8576b"
             ],
             [
              0.6666666666666666,
              "#ed7953"
             ],
             [
              0.7777777777777778,
              "#fb9f3a"
             ],
             [
              0.8888888888888888,
              "#fdca26"
             ],
             [
              1,
              "#f0f921"
             ]
            ],
            "type": "heatmap"
           }
          ],
          "histogram": [
           {
            "marker": {
             "pattern": {
              "fillmode": "overlay",
              "size": 10,
              "solidity": 0.2
             }
            },
            "type": "histogram"
           }
          ],
          "histogram2d": [
           {
            "colorbar": {
             "outlinewidth": 0,
             "ticks": ""
            },
            "colorscale": [
             [
              0,
              "#0d0887"
             ],
             [
              0.1111111111111111,
              "#46039f"
             ],
             [
              0.2222222222222222,
              "#7201a8"
             ],
             [
              0.3333333333333333,
              "#9c179e"
             ],
             [
              0.4444444444444444,
              "#bd3786"
             ],
             [
              0.5555555555555556,
              "#d8576b"
             ],
             [
              0.6666666666666666,
              "#ed7953"
             ],
             [
              0.7777777777777778,
              "#fb9f3a"
             ],
             [
              0.8888888888888888,
              "#fdca26"
             ],
             [
              1,
              "#f0f921"
             ]
            ],
            "type": "histogram2d"
           }
          ],
          "histogram2dcontour": [
           {
            "colorbar": {
             "outlinewidth": 0,
             "ticks": ""
            },
            "colorscale": [
             [
              0,
              "#0d0887"
             ],
             [
              0.1111111111111111,
              "#46039f"
             ],
             [
              0.2222222222222222,
              "#7201a8"
             ],
             [
              0.3333333333333333,
              "#9c179e"
             ],
             [
              0.4444444444444444,
              "#bd3786"
             ],
             [
              0.5555555555555556,
              "#d8576b"
             ],
             [
              0.6666666666666666,
              "#ed7953"
             ],
             [
              0.7777777777777778,
              "#fb9f3a"
             ],
             [
              0.8888888888888888,
              "#fdca26"
             ],
             [
              1,
              "#f0f921"
             ]
            ],
            "type": "histogram2dcontour"
           }
          ],
          "mesh3d": [
           {
            "colorbar": {
             "outlinewidth": 0,
             "ticks": ""
            },
            "type": "mesh3d"
           }
          ],
          "parcoords": [
           {
            "line": {
             "colorbar": {
              "outlinewidth": 0,
              "ticks": ""
             }
            },
            "type": "parcoords"
           }
          ],
          "pie": [
           {
            "automargin": true,
            "type": "pie"
           }
          ],
          "scatter": [
           {
            "fillpattern": {
             "fillmode": "overlay",
             "size": 10,
             "solidity": 0.2
            },
            "type": "scatter"
           }
          ],
          "scatter3d": [
           {
            "line": {
             "colorbar": {
              "outlinewidth": 0,
              "ticks": ""
             }
            },
            "marker": {
             "colorbar": {
              "outlinewidth": 0,
              "ticks": ""
             }
            },
            "type": "scatter3d"
           }
          ],
          "scattercarpet": [
           {
            "marker": {
             "colorbar": {
              "outlinewidth": 0,
              "ticks": ""
             }
            },
            "type": "scattercarpet"
           }
          ],
          "scattergeo": [
           {
            "marker": {
             "colorbar": {
              "outlinewidth": 0,
              "ticks": ""
             }
            },
            "type": "scattergeo"
           }
          ],
          "scattergl": [
           {
            "marker": {
             "colorbar": {
              "outlinewidth": 0,
              "ticks": ""
             }
            },
            "type": "scattergl"
           }
          ],
          "scattermap": [
           {
            "marker": {
             "colorbar": {
              "outlinewidth": 0,
              "ticks": ""
             }
            },
            "type": "scattermap"
           }
          ],
          "scattermapbox": [
           {
            "marker": {
             "colorbar": {
              "outlinewidth": 0,
              "ticks": ""
             }
            },
            "type": "scattermapbox"
           }
          ],
          "scatterpolar": [
           {
            "marker": {
             "colorbar": {
              "outlinewidth": 0,
              "ticks": ""
             }
            },
            "type": "scatterpolar"
           }
          ],
          "scatterpolargl": [
           {
            "marker": {
             "colorbar": {
              "outlinewidth": 0,
              "ticks": ""
             }
            },
            "type": "scatterpolargl"
           }
          ],
          "scatterternary": [
           {
            "marker": {
             "colorbar": {
              "outlinewidth": 0,
              "ticks": ""
             }
            },
            "type": "scatterternary"
           }
          ],
          "surface": [
           {
            "colorbar": {
             "outlinewidth": 0,
             "ticks": ""
            },
            "colorscale": [
             [
              0,
              "#0d0887"
             ],
             [
              0.1111111111111111,
              "#46039f"
             ],
             [
              0.2222222222222222,
              "#7201a8"
             ],
             [
              0.3333333333333333,
              "#9c179e"
             ],
             [
              0.4444444444444444,
              "#bd3786"
             ],
             [
              0.5555555555555556,
              "#d8576b"
             ],
             [
              0.6666666666666666,
              "#ed7953"
             ],
             [
              0.7777777777777778,
              "#fb9f3a"
             ],
             [
              0.8888888888888888,
              "#fdca26"
             ],
             [
              1,
              "#f0f921"
             ]
            ],
            "type": "surface"
           }
          ],
          "table": [
           {
            "cells": {
             "fill": {
              "color": "#EBF0F8"
             },
             "line": {
              "color": "white"
             }
            },
            "header": {
             "fill": {
              "color": "#C8D4E3"
             },
             "line": {
              "color": "white"
             }
            },
            "type": "table"
           }
          ]
         },
         "layout": {
          "annotationdefaults": {
           "arrowcolor": "#2a3f5f",
           "arrowhead": 0,
           "arrowwidth": 1
          },
          "autotypenumbers": "strict",
          "coloraxis": {
           "colorbar": {
            "outlinewidth": 0,
            "ticks": ""
           }
          },
          "colorscale": {
           "diverging": [
            [
             0,
             "#8e0152"
            ],
            [
             0.1,
             "#c51b7d"
            ],
            [
             0.2,
             "#de77ae"
            ],
            [
             0.3,
             "#f1b6da"
            ],
            [
             0.4,
             "#fde0ef"
            ],
            [
             0.5,
             "#f7f7f7"
            ],
            [
             0.6,
             "#e6f5d0"
            ],
            [
             0.7,
             "#b8e186"
            ],
            [
             0.8,
             "#7fbc41"
            ],
            [
             0.9,
             "#4d9221"
            ],
            [
             1,
             "#276419"
            ]
           ],
           "sequential": [
            [
             0,
             "#0d0887"
            ],
            [
             0.1111111111111111,
             "#46039f"
            ],
            [
             0.2222222222222222,
             "#7201a8"
            ],
            [
             0.3333333333333333,
             "#9c179e"
            ],
            [
             0.4444444444444444,
             "#bd3786"
            ],
            [
             0.5555555555555556,
             "#d8576b"
            ],
            [
             0.6666666666666666,
             "#ed7953"
            ],
            [
             0.7777777777777778,
             "#fb9f3a"
            ],
            [
             0.8888888888888888,
             "#fdca26"
            ],
            [
             1,
             "#f0f921"
            ]
           ],
           "sequentialminus": [
            [
             0,
             "#0d0887"
            ],
            [
             0.1111111111111111,
             "#46039f"
            ],
            [
             0.2222222222222222,
             "#7201a8"
            ],
            [
             0.3333333333333333,
             "#9c179e"
            ],
            [
             0.4444444444444444,
             "#bd3786"
            ],
            [
             0.5555555555555556,
             "#d8576b"
            ],
            [
             0.6666666666666666,
             "#ed7953"
            ],
            [
             0.7777777777777778,
             "#fb9f3a"
            ],
            [
             0.8888888888888888,
             "#fdca26"
            ],
            [
             1,
             "#f0f921"
            ]
           ]
          },
          "colorway": [
           "#636efa",
           "#EF553B",
           "#00cc96",
           "#ab63fa",
           "#FFA15A",
           "#19d3f3",
           "#FF6692",
           "#B6E880",
           "#FF97FF",
           "#FECB52"
          ],
          "font": {
           "color": "#2a3f5f"
          },
          "geo": {
           "bgcolor": "white",
           "lakecolor": "white",
           "landcolor": "#E5ECF6",
           "showlakes": true,
           "showland": true,
           "subunitcolor": "white"
          },
          "hoverlabel": {
           "align": "left"
          },
          "hovermode": "closest",
          "mapbox": {
           "style": "light"
          },
          "paper_bgcolor": "white",
          "plot_bgcolor": "#E5ECF6",
          "polar": {
           "angularaxis": {
            "gridcolor": "white",
            "linecolor": "white",
            "ticks": ""
           },
           "bgcolor": "#E5ECF6",
           "radialaxis": {
            "gridcolor": "white",
            "linecolor": "white",
            "ticks": ""
           }
          },
          "scene": {
           "xaxis": {
            "backgroundcolor": "#E5ECF6",
            "gridcolor": "white",
            "gridwidth": 2,
            "linecolor": "white",
            "showbackground": true,
            "ticks": "",
            "zerolinecolor": "white"
           },
           "yaxis": {
            "backgroundcolor": "#E5ECF6",
            "gridcolor": "white",
            "gridwidth": 2,
            "linecolor": "white",
            "showbackground": true,
            "ticks": "",
            "zerolinecolor": "white"
           },
           "zaxis": {
            "backgroundcolor": "#E5ECF6",
            "gridcolor": "white",
            "gridwidth": 2,
            "linecolor": "white",
            "showbackground": true,
            "ticks": "",
            "zerolinecolor": "white"
           }
          },
          "shapedefaults": {
           "line": {
            "color": "#2a3f5f"
           }
          },
          "ternary": {
           "aaxis": {
            "gridcolor": "white",
            "linecolor": "white",
            "ticks": ""
           },
           "baxis": {
            "gridcolor": "white",
            "linecolor": "white",
            "ticks": ""
           },
           "bgcolor": "#E5ECF6",
           "caxis": {
            "gridcolor": "white",
            "linecolor": "white",
            "ticks": ""
           }
          },
          "title": {
           "x": 0.05
          },
          "xaxis": {
           "automargin": true,
           "gridcolor": "white",
           "linecolor": "white",
           "ticks": "",
           "title": {
            "standoff": 15
           },
           "zerolinecolor": "white",
           "zerolinewidth": 2
          },
          "yaxis": {
           "automargin": true,
           "gridcolor": "white",
           "linecolor": "white",
           "ticks": "",
           "title": {
            "standoff": 15
           },
           "zerolinecolor": "white",
           "zerolinewidth": 2
          }
         }
        },
        "title": {
         "text": "Ratings for AVGO"
        },
        "width": 600
       }
      }
     },
     "metadata": {},
     "output_type": "display_data"
    }
   ],
   "source": [
    "\n",
    "import plotly.express as px\n",
    "from yfinance_utils import file_utils\n",
    "\n",
    "grades = file_utils.get_analysts(STOCK)\n",
    "values = grades.values()\n",
    "keys = grades.keys()\n",
    "ratigs1 = dict(zip(keys, values))\n",
    "\n",
    "fig3 = px.pie(values=values, names=keys, title=f'Ratings for {STOCK}', width=600, height=400)\n",
    "fig3.update_layout()\n",
    "\n",
    "fig3.show()"
   ]
  },
  {
   "cell_type": "code",
   "execution_count": 7,
   "metadata": {},
   "outputs": [
    {
     "data": {
      "application/vnd.plotly.v1+json": {
       "config": {
        "plotlyServerURL": "https://plot.ly"
       },
       "data": [
        {
         "close": {
          "bdata": "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",
          "dtype": "f8"
         },
         "high": {
          "bdata": "UrgeheuZZUB7FK5H4VpkQLgehetRMGRAZmZmZmZ+ZEBI4XoUrl9kQMP1KFyPqmRAhetRuB4tZECamZmZmTFjQMP1KFyPMmNAAAAAAABgY0DXo3A9Ci9jQMP1KFyPKmRAhetRuB7dY0AzMzMzMytiQD0K16NwLWJAhetRuB6dYkAzMzMzM8NiQHE9CtejSGJAmpmZmZmxYkBcj8L1KORiQFyPwvUojGNAAAAAAAAIZEA9CtejcNVkQHsUrkfhwmRAw/UoXI/6ZECkcD0K1wtlQNejcD0Kz2RAPQrXo3CNZUApXI/C9QhlQGZmZmZmtmRAKVyPwvVAZEApXI/C9UhkQGZmZmZmZmRASOF6FK5nZEBI4XoUrhdkQOF6FK5HuWNA7FG4HoWLY0AAAAAAAPBhQHsUrkfhsmFA7FG4HoW7YkCkcD0K19tjQArXo3A9ymRAw/UoXI8CZUAAAAAAALBkQHE9CtejwGRA16NwPQrvZEAAAAAAAEBlQHE9CtejgGVACtejcD2qZUBI4XoUrv9lQBSuR+F6JGZAAAAAAACIZkDXo3A9Ck9mQD0K16NwnWVAAAAAAACIZUB7FK5H4ZplQK5H4XoU3mVAzczMzMwcZkBSuB6F60lmQDMzMzMzs2ZAPQrXo3BNZ0BSuB6F60lnQHsUrkfh0mZAZmZmZmYeZ0BmZmZmZrZmQAAAAAAAaGZAuB6F61EwZ0AfhetRuNZmQNejcD0Kt2ZArkfhehSWZkCPwvUoXF9mQJqZmZmZyWVAmpmZmZkZZkDXo3A9Cr9lQI/C9Shch2ZArkfhehRmZkBmZmZmZs5lQMP1KFyPamVAZmZmZmaOZUDNzMzMzMxlQB+F61G4hmZApHA9CtcbZ0CamZmZmSFnQFyPwvUo9GZAUrgehetxZkB7FK5H4fJlQArXo3A98mVAFK5H4XokZUAzMzMzM8tkQJqZmZmZ2WRA4XoUrkexZEB7FK5H4cpkQIXrUbgenWRAj8L1KFznZECkcD0K18tkQGZmZmZmZmRArkfhehRWZEBcj8L1KAxlQHE9CtejCGVAFK5H4XrsZUDNzMzMzIxlQPYoXI/ClWZA4XoUrkeZZkAAAAAAAFBmQKRwPQrXG2dAAAAAAADAZkBmZmZmZpZsQFyPwvUofG9A16NwPQpPbkAzMzMzM/ttQJqZmZmZgWxA4XoUrkfJbEDNzMzMzCxtQI/C9ShcB25AKVyPwvXobkApXI/C9bhuQHE9Ctej2G1AH4XrUbiubUAAAAAAAPBtQEjhehSuj21AAAAAAAA4bkAAAAAAAPBtQNejcD0KD21Aw/UoXI96bEC4HoXrUahsQLgehetRyGxAexSuR+HKbEAzMzMzM9NtQDMzMzMzw21AAAAAAABYbkBI4XoUrt9uQM3MzMzMDG5AexSuR+Eyb0D2KFyPwk1rQGZmZmZmPmpAZmZmZmZuakAfhetRuL5rQJqZmZmZWWxArkfhehSea0ApXI/C9eBrQPYoXI/CvW1AmpmZmZlZbUDNzMzMzHRtQArXo3A9em1AFK5H4Xq8bUCPwvUoXI9tQGZmZmZmnm1ASOF6FK53bUBmZmZmZgZtQArXo3A9omxAj8L1KFyfbEAAAAAAAHhsQI/C9Shcb2tAFK5H4XoUakDhehSuR7FqQAAAAAAAaGtArkfhehQmaUBSuB6F64FpQGZmZmZmPmhAw/UoXI9CaEDD9Shcj1pnQI/C9Shcb2hAj8L1KFz/Z0CkcD0K13NoQI/C9Shc/2hACtejcD2KaEAAAAAAALBoQNejcD0Kl2hAFK5H4XocaEBxPQrXo8hoQHsUrkfhOmhACtejcD0CaECuR+F6FJZoQDMzMzMz82dAUrgeheuBZ0Bcj8L1KExmQJqZmZmZqWVArkfhehT+ZEAfhetRuBZlQPYoXI/CrWVA9ihcj8JtZECamZmZmRljQPYoXI/CDWRAKVyPwvU4ZUDD9Shcj2pnQGZmZmZmHmZAhetRuB7VZkAAAAAAAEBnQLgehetRyGZAw/UoXI8CZkAAAAAAAAhmQAAAAAAAAGVAcT0K16NQZUBmZmZmZo5mQArXo3A9kmdApHA9CtcraEAzMzMzMyNoQAAAAAAAKGhAZmZmZmYmaEDNzMzMzCxpQPYoXI/CtWlAj8L1KFxnaUCF61G4Hj1pQI/C9Shcx2lAhetRuB5lakAfhetRuD5qQJqZmZmZuWtAKVyPwvVobUAAAAAAADBtQB+F61G4Tm1AFK5H4XoUbUAAAAAAAOhsQHE9Ctej+GxAAAAAAACQbUCuR+F6FDZtQM3MzMzM1GxAj8L1KFyPbUBI4XoUrh9uQArXo3A9wm5APQrXo3BlbkAAAAAAAEBvQK5H4XoUHnBAexSuR+GWcEAK16NwPY5wQArXo3A96m9APQrXo3AFb0ApXI/C9chuQHE9Ctej2G9ACtejcD0ecEAAAAAAAMBvQK5H4XoU5m9AH4XrUbi+b0AUrkfhevRvQHE9CtejsG9AH4XrUbjGb0BSuB6F651wQFK4HoXr3XBAH4XrUbj6cECamZmZmf1wQI/C9ShcW3FAAAAAAAAocUAAAAAAAABxQM3MzMzMPHFAKVyPwvVYcUCamZmZmUVxQDMzMzMzd3FAexSuR+GScUDsUbgehUdxQPYoXI/CZXFA9ihcj8K1cUBcj8L1KJhxQBSuR+F6BHJAFK5H4Xr4cUBxPQrXoyhyQAAAAAAAAHJAAAAAAADAcUAzMzMzMzNyQD0K16NwSXJAMzMzMzN3ckDXo3A9CuNyQFyPwvUo9HJAMzMzMzMvc0AK16NwPUpyQEjhehSup3JAMzMzMzPTckApXI/C9exyQD0K16NwZXNAUrgehes9c0ApXI/C9URzQNejcD0Kl3NAmpmZmZnVc0AfhetRuKJzQAAAAAAAeHNAH4XrUbgic0BmZmZmZu5yQKRwPQrXd3JACtejcD1GckA9CtejcMFyQGZmZmZmpnJAAAAAAADEckB7FK5H4dJyQAAAAAAAcHNAXI/C9Sgwc0CPwvUoXKtyQDMzMzMzB3NAFK5H4XpMc0A9CtejcEV2QB+F61G4InZASOF6FK7vdUA=",
          "dtype": "f8"
         },
         "low": {
          "bdata": "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",
          "dtype": "f8"
         },
         "name": "AVGO",
         "open": {
          "bdata": "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",
          "dtype": "f8"
         },
         "type": "candlestick",
         "x": [
          "2024-07-16",
          "2024-07-17",
          "2024-07-18",
          "2024-07-19",
          "2024-07-22",
          "2024-07-23",
          "2024-07-24",
          "2024-07-25",
          "2024-07-26",
          "2024-07-29",
          "2024-07-30",
          "2024-07-31",
          "2024-08-01",
          "2024-08-02",
          "2024-08-05",
          "2024-08-06",
          "2024-08-07",
          "2024-08-08",
          "2024-08-09",
          "2024-08-12",
          "2024-08-13",
          "2024-08-14",
          "2024-08-15",
          "2024-08-16",
          "2024-08-19",
          "2024-08-20",
          "2024-08-21",
          "2024-08-22",
          "2024-08-23",
          "2024-08-26",
          "2024-08-27",
          "2024-08-28",
          "2024-08-29",
          "2024-08-30",
          "2024-09-03",
          "2024-09-04",
          "2024-09-05",
          "2024-09-06",
          "2024-09-09",
          "2024-09-10",
          "2024-09-11",
          "2024-09-12",
          "2024-09-13",
          "2024-09-16",
          "2024-09-17",
          "2024-09-18",
          "2024-09-19",
          "2024-09-20",
          "2024-09-23",
          "2024-09-24",
          "2024-09-25",
          "2024-09-26",
          "2024-09-27",
          "2024-09-30",
          "2024-10-01",
          "2024-10-02",
          "2024-10-03",
          "2024-10-04",
          "2024-10-07",
          "2024-10-08",
          "2024-10-09",
          "2024-10-10",
          "2024-10-11",
          "2024-10-14",
          "2024-10-15",
          "2024-10-16",
          "2024-10-17",
          "2024-10-18",
          "2024-10-21",
          "2024-10-22",
          "2024-10-23",
          "2024-10-24",
          "2024-10-25",
          "2024-10-28",
          "2024-10-29",
          "2024-10-30",
          "2024-10-31",
          "2024-11-01",
          "2024-11-04",
          "2024-11-05",
          "2024-11-06",
          "2024-11-07",
          "2024-11-08",
          "2024-11-11",
          "2024-11-12",
          "2024-11-13",
          "2024-11-14",
          "2024-11-15",
          "2024-11-18",
          "2024-11-19",
          "2024-11-20",
          "2024-11-21",
          "2024-11-22",
          "2024-11-25",
          "2024-11-26",
          "2024-11-27",
          "2024-11-29",
          "2024-12-02",
          "2024-12-03",
          "2024-12-04",
          "2024-12-05",
          "2024-12-06",
          "2024-12-09",
          "2024-12-10",
          "2024-12-11",
          "2024-12-12",
          "2024-12-13",
          "2024-12-16",
          "2024-12-17",
          "2024-12-18",
          "2024-12-19",
          "2024-12-20",
          "2024-12-23",
          "2024-12-24",
          "2024-12-26",
          "2024-12-27",
          "2024-12-30",
          "2024-12-31",
          "2025-01-02",
          "2025-01-03",
          "2025-01-06",
          "2025-01-07",
          "2025-01-08",
          "2025-01-10",
          "2025-01-13",
          "2025-01-14",
          "2025-01-15",
          "2025-01-16",
          "2025-01-17",
          "2025-01-21",
          "2025-01-22",
          "2025-01-23",
          "2025-01-24",
          "2025-01-27",
          "2025-01-28",
          "2025-01-29",
          "2025-01-30",
          "2025-01-31",
          "2025-02-03",
          "2025-02-04",
          "2025-02-05",
          "2025-02-06",
          "2025-02-07",
          "2025-02-10",
          "2025-02-11",
          "2025-02-12",
          "2025-02-13",
          "2025-02-14",
          "2025-02-18",
          "2025-02-19",
          "2025-02-20",
          "2025-02-21",
          "2025-02-24",
          "2025-02-25",
          "2025-02-26",
          "2025-02-27",
          "2025-02-28",
          "2025-03-03",
          "2025-03-04",
          "2025-03-05",
          "2025-03-06",
          "2025-03-07",
          "2025-03-10",
          "2025-03-11",
          "2025-03-12",
          "2025-03-13",
          "2025-03-14",
          "2025-03-17",
          "2025-03-18",
          "2025-03-19",
          "2025-03-20",
          "2025-03-21",
          "2025-03-24",
          "2025-03-25",
          "2025-03-26",
          "2025-03-27",
          "2025-03-28",
          "2025-03-31",
          "2025-04-01",
          "2025-04-02",
          "2025-04-03",
          "2025-04-04",
          "2025-04-07",
          "2025-04-08",
          "2025-04-09",
          "2025-04-10",
          "2025-04-11",
          "2025-04-14",
          "2025-04-15",
          "2025-04-16",
          "2025-04-17",
          "2025-04-21",
          "2025-04-22",
          "2025-04-23",
          "2025-04-24",
          "2025-04-25",
          "2025-04-28",
          "2025-04-29",
          "2025-04-30",
          "2025-05-01",
          "2025-05-02",
          "2025-05-05",
          "2025-05-06",
          "2025-05-07",
          "2025-05-08",
          "2025-05-09",
          "2025-05-12",
          "2025-05-13",
          "2025-05-14",
          "2025-05-15",
          "2025-05-16",
          "2025-05-19",
          "2025-05-20",
          "2025-05-21",
          "2025-05-22",
          "2025-05-23",
          "2025-05-27",
          "2025-05-28",
          "2025-05-29",
          "2025-05-30",
          "2025-06-02",
          "2025-06-03",
          "2025-06-04",
          "2025-06-05",
          "2025-06-06",
          "2025-06-09",
          "2025-06-10",
          "2025-06-11",
          "2025-06-12",
          "2025-06-13",
          "2025-06-16",
          "2025-06-17",
          "2025-06-18",
          "2025-06-20",
          "2025-06-23",
          "2025-06-24",
          "2025-06-25",
          "2025-06-26",
          "2025-06-27",
          "2025-06-30",
          "2025-07-01",
          "2025-07-02",
          "2025-07-03",
          "2025-07-07",
          "2025-07-08",
          "2025-07-09",
          "2025-07-10",
          "2025-07-11",
          "2025-07-14",
          "2025-07-15",
          "2025-07-16",
          "2025-07-17",
          "2025-07-18",
          "2025-07-21",
          "2025-07-22",
          "2025-07-23",
          "2025-07-24",
          "2025-07-25",
          "2025-07-28",
          "2025-07-29",
          "2025-07-30",
          "2025-07-31",
          "2025-08-01",
          "2025-08-04",
          "2025-08-05",
          "2025-08-06",
          "2025-08-07",
          "2025-08-08",
          "2025-08-11",
          "2025-08-12",
          "2025-08-13",
          "2025-08-14",
          "2025-08-15",
          "2025-08-18",
          "2025-08-19",
          "2025-08-20",
          "2025-08-21",
          "2025-08-22",
          "2025-08-25",
          "2025-08-26",
          "2025-08-27",
          "2025-08-28",
          "2025-08-29",
          "2025-09-02",
          "2025-09-03",
          "2025-09-04",
          "2025-09-05",
          "2025-09-08",
          "2025-09-09"
         ]
        },
        {
         "line": {
          "color": "blue",
          "shape": "spline",
          "width": 2
         },
         "name": "EMA 10",
         "type": "scatter",
         "x": [
          "2024-07-16",
          "2024-07-17",
          "2024-07-18",
          "2024-07-19",
          "2024-07-22",
          "2024-07-23",
          "2024-07-24",
          "2024-07-25",
          "2024-07-26",
          "2024-07-29",
          "2024-07-30",
          "2024-07-31",
          "2024-08-01",
          "2024-08-02",
          "2024-08-05",
          "2024-08-06",
          "2024-08-07",
          "2024-08-08",
          "2024-08-09",
          "2024-08-12",
          "2024-08-13",
          "2024-08-14",
          "2024-08-15",
          "2024-08-16",
          "2024-08-19",
          "2024-08-20",
          "2024-08-21",
          "2024-08-22",
          "2024-08-23",
          "2024-08-26",
          "2024-08-27",
          "2024-08-28",
          "2024-08-29",
          "2024-08-30",
          "2024-09-03",
          "2024-09-04",
          "2024-09-05",
          "2024-09-06",
          "2024-09-09",
          "2024-09-10",
          "2024-09-11",
          "2024-09-12",
          "2024-09-13",
          "2024-09-16",
          "2024-09-17",
          "2024-09-18",
          "2024-09-19",
          "2024-09-20",
          "2024-09-23",
          "2024-09-24",
          "2024-09-25",
          "2024-09-26",
          "2024-09-27",
          "2024-09-30",
          "2024-10-01",
          "2024-10-02",
          "2024-10-03",
          "2024-10-04",
          "2024-10-07",
          "2024-10-08",
          "2024-10-09",
          "2024-10-10",
          "2024-10-11",
          "2024-10-14",
          "2024-10-15",
          "2024-10-16",
          "2024-10-17",
          "2024-10-18",
          "2024-10-21",
          "2024-10-22",
          "2024-10-23",
          "2024-10-24",
          "2024-10-25",
          "2024-10-28",
          "2024-10-29",
          "2024-10-30",
          "2024-10-31",
          "2024-11-01",
          "2024-11-04",
          "2024-11-05",
          "2024-11-06",
          "2024-11-07",
          "2024-11-08",
          "2024-11-11",
          "2024-11-12",
          "2024-11-13",
          "2024-11-14",
          "2024-11-15",
          "2024-11-18",
          "2024-11-19",
          "2024-11-20",
          "2024-11-21",
          "2024-11-22",
          "2024-11-25",
          "2024-11-26",
          "2024-11-27",
          "2024-11-29",
          "2024-12-02",
          "2024-12-03",
          "2024-12-04",
          "2024-12-05",
          "2024-12-06",
          "2024-12-09",
          "2024-12-10",
          "2024-12-11",
          "2024-12-12",
          "2024-12-13",
          "2024-12-16",
          "2024-12-17",
          "2024-12-18",
          "2024-12-19",
          "2024-12-20",
          "2024-12-23",
          "2024-12-24",
          "2024-12-26",
          "2024-12-27",
          "2024-12-30",
          "2024-12-31",
          "2025-01-02",
          "2025-01-03",
          "2025-01-06",
          "2025-01-07",
          "2025-01-08",
          "2025-01-10",
          "2025-01-13",
          "2025-01-14",
          "2025-01-15",
          "2025-01-16",
          "2025-01-17",
          "2025-01-21",
          "2025-01-22",
          "2025-01-23",
          "2025-01-24",
          "2025-01-27",
          "2025-01-28",
          "2025-01-29",
          "2025-01-30",
          "2025-01-31",
          "2025-02-03",
          "2025-02-04",
          "2025-02-05",
          "2025-02-06",
          "2025-02-07",
          "2025-02-10",
          "2025-02-11",
          "2025-02-12",
          "2025-02-13",
          "2025-02-14",
          "2025-02-18",
          "2025-02-19",
          "2025-02-20",
          "2025-02-21",
          "2025-02-24",
          "2025-02-25",
          "2025-02-26",
          "2025-02-27",
          "2025-02-28",
          "2025-03-03",
          "2025-03-04",
          "2025-03-05",
          "2025-03-06",
          "2025-03-07",
          "2025-03-10",
          "2025-03-11",
          "2025-03-12",
          "2025-03-13",
          "2025-03-14",
          "2025-03-17",
          "2025-03-18",
          "2025-03-19",
          "2025-03-20",
          "2025-03-21",
          "2025-03-24",
          "2025-03-25",
          "2025-03-26",
          "2025-03-27",
          "2025-03-28",
          "2025-03-31",
          "2025-04-01",
          "2025-04-02",
          "2025-04-03",
          "2025-04-04",
          "2025-04-07",
          "2025-04-08",
          "2025-04-09",
          "2025-04-10",
          "2025-04-11",
          "2025-04-14",
          "2025-04-15",
          "2025-04-16",
          "2025-04-17",
          "2025-04-21",
          "2025-04-22",
          "2025-04-23",
          "2025-04-24",
          "2025-04-25",
          "2025-04-28",
          "2025-04-29",
          "2025-04-30",
          "2025-05-01",
          "2025-05-02",
          "2025-05-05",
          "2025-05-06",
          "2025-05-07",
          "2025-05-08",
          "2025-05-09",
          "2025-05-12",
          "2025-05-13",
          "2025-05-14",
          "2025-05-15",
          "2025-05-16",
          "2025-05-19",
          "2025-05-20",
          "2025-05-21",
          "2025-05-22",
          "2025-05-23",
          "2025-05-27",
          "2025-05-28",
          "2025-05-29",
          "2025-05-30",
          "2025-06-02",
          "2025-06-03",
          "2025-06-04",
          "2025-06-05",
          "2025-06-06",
          "2025-06-09",
          "2025-06-10",
          "2025-06-11",
          "2025-06-12",
          "2025-06-13",
          "2025-06-16",
          "2025-06-17",
          "2025-06-18",
          "2025-06-20",
          "2025-06-23",
          "2025-06-24",
          "2025-06-25",
          "2025-06-26",
          "2025-06-27",
          "2025-06-30",
          "2025-07-01",
          "2025-07-02",
          "2025-07-03",
          "2025-07-07",
          "2025-07-08",
          "2025-07-09",
          "2025-07-10",
          "2025-07-11",
          "2025-07-14",
          "2025-07-15",
          "2025-07-16",
          "2025-07-17",
          "2025-07-18",
          "2025-07-21",
          "2025-07-22",
          "2025-07-23",
          "2025-07-24",
          "2025-07-25",
          "2025-07-28",
          "2025-07-29",
          "2025-07-30",
          "2025-07-31",
          "2025-08-01",
          "2025-08-04",
          "2025-08-05",
          "2025-08-06",
          "2025-08-07",
          "2025-08-08",
          "2025-08-11",
          "2025-08-12",
          "2025-08-13",
          "2025-08-14",
          "2025-08-15",
          "2025-08-18",
          "2025-08-19",
          "2025-08-20",
          "2025-08-21",
          "2025-08-22",
          "2025-08-25",
          "2025-08-26",
          "2025-08-27",
          "2025-08-28",
          "2025-08-29",
          "2025-09-02",
          "2025-09-03",
          "2025-09-04",
          "2025-09-05",
          "2025-09-08",
          "2025-09-09"
         ],
         "y": {
          "bdata": "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",
          "dtype": "f8"
         }
        },
        {
         "line": {
          "color": "purple",
          "shape": "spline",
          "width": 2
         },
         "name": "SMA 30",
         "type": "scatter",
         "x": [
          "2024-07-16",
          "2024-07-17",
          "2024-07-18",
          "2024-07-19",
          "2024-07-22",
          "2024-07-23",
          "2024-07-24",
          "2024-07-25",
          "2024-07-26",
          "2024-07-29",
          "2024-07-30",
          "2024-07-31",
          "2024-08-01",
          "2024-08-02",
          "2024-08-05",
          "2024-08-06",
          "2024-08-07",
          "2024-08-08",
          "2024-08-09",
          "2024-08-12",
          "2024-08-13",
          "2024-08-14",
          "2024-08-15",
          "2024-08-16",
          "2024-08-19",
          "2024-08-20",
          "2024-08-21",
          "2024-08-22",
          "2024-08-23",
          "2024-08-26",
          "2024-08-27",
          "2024-08-28",
          "2024-08-29",
          "2024-08-30",
          "2024-09-03",
          "2024-09-04",
          "2024-09-05",
          "2024-09-06",
          "2024-09-09",
          "2024-09-10",
          "2024-09-11",
          "2024-09-12",
          "2024-09-13",
          "2024-09-16",
          "2024-09-17",
          "2024-09-18",
          "2024-09-19",
          "2024-09-20",
          "2024-09-23",
          "2024-09-24",
          "2024-09-25",
          "2024-09-26",
          "2024-09-27",
          "2024-09-30",
          "2024-10-01",
          "2024-10-02",
          "2024-10-03",
          "2024-10-04",
          "2024-10-07",
          "2024-10-08",
          "2024-10-09",
          "2024-10-10",
          "2024-10-11",
          "2024-10-14",
          "2024-10-15",
          "2024-10-16",
          "2024-10-17",
          "2024-10-18",
          "2024-10-21",
          "2024-10-22",
          "2024-10-23",
          "2024-10-24",
          "2024-10-25",
          "2024-10-28",
          "2024-10-29",
          "2024-10-30",
          "2024-10-31",
          "2024-11-01",
          "2024-11-04",
          "2024-11-05",
          "2024-11-06",
          "2024-11-07",
          "2024-11-08",
          "2024-11-11",
          "2024-11-12",
          "2024-11-13",
          "2024-11-14",
          "2024-11-15",
          "2024-11-18",
          "2024-11-19",
          "2024-11-20",
          "2024-11-21",
          "2024-11-22",
          "2024-11-25",
          "2024-11-26",
          "2024-11-27",
          "2024-11-29",
          "2024-12-02",
          "2024-12-03",
          "2024-12-04",
          "2024-12-05",
          "2024-12-06",
          "2024-12-09",
          "2024-12-10",
          "2024-12-11",
          "2024-12-12",
          "2024-12-13",
          "2024-12-16",
          "2024-12-17",
          "2024-12-18",
          "2024-12-19",
          "2024-12-20",
          "2024-12-23",
          "2024-12-24",
          "2024-12-26",
          "2024-12-27",
          "2024-12-30",
          "2024-12-31",
          "2025-01-02",
          "2025-01-03",
          "2025-01-06",
          "2025-01-07",
          "2025-01-08",
          "2025-01-10",
          "2025-01-13",
          "2025-01-14",
          "2025-01-15",
          "2025-01-16",
          "2025-01-17",
          "2025-01-21",
          "2025-01-22",
          "2025-01-23",
          "2025-01-24",
          "2025-01-27",
          "2025-01-28",
          "2025-01-29",
          "2025-01-30",
          "2025-01-31",
          "2025-02-03",
          "2025-02-04",
          "2025-02-05",
          "2025-02-06",
          "2025-02-07",
          "2025-02-10",
          "2025-02-11",
          "2025-02-12",
          "2025-02-13",
          "2025-02-14",
          "2025-02-18",
          "2025-02-19",
          "2025-02-20",
          "2025-02-21",
          "2025-02-24",
          "2025-02-25",
          "2025-02-26",
          "2025-02-27",
          "2025-02-28",
          "2025-03-03",
          "2025-03-04",
          "2025-03-05",
          "2025-03-06",
          "2025-03-07",
          "2025-03-10",
          "2025-03-11",
          "2025-03-12",
          "2025-03-13",
          "2025-03-14",
          "2025-03-17",
          "2025-03-18",
          "2025-03-19",
          "2025-03-20",
          "2025-03-21",
          "2025-03-24",
          "2025-03-25",
          "2025-03-26",
          "2025-03-27",
          "2025-03-28",
          "2025-03-31",
          "2025-04-01",
          "2025-04-02",
          "2025-04-03",
          "2025-04-04",
          "2025-04-07",
          "2025-04-08",
          "2025-04-09",
          "2025-04-10",
          "2025-04-11",
          "2025-04-14",
          "2025-04-15",
          "2025-04-16",
          "2025-04-17",
          "2025-04-21",
          "2025-04-22",
          "2025-04-23",
          "2025-04-24",
          "2025-04-25",
          "2025-04-28",
          "2025-04-29",
          "2025-04-30",
          "2025-05-01",
          "2025-05-02",
          "2025-05-05",
          "2025-05-06",
          "2025-05-07",
          "2025-05-08",
          "2025-05-09",
          "2025-05-12",
          "2025-05-13",
          "2025-05-14",
          "2025-05-15",
          "2025-05-16",
          "2025-05-19",
          "2025-05-20",
          "2025-05-21",
          "2025-05-22",
          "2025-05-23",
          "2025-05-27",
          "2025-05-28",
          "2025-05-29",
          "2025-05-30",
          "2025-06-02",
          "2025-06-03",
          "2025-06-04",
          "2025-06-05",
          "2025-06-06",
          "2025-06-09",
          "2025-06-10",
          "2025-06-11",
          "2025-06-12",
          "2025-06-13",
          "2025-06-16",
          "2025-06-17",
          "2025-06-18",
          "2025-06-20",
          "2025-06-23",
          "2025-06-24",
          "2025-06-25",
          "2025-06-26",
          "2025-06-27",
          "2025-06-30",
          "2025-07-01",
          "2025-07-02",
          "2025-07-03",
          "2025-07-07",
          "2025-07-08",
          "2025-07-09",
          "2025-07-10",
          "2025-07-11",
          "2025-07-14",
          "2025-07-15",
          "2025-07-16",
          "2025-07-17",
          "2025-07-18",
          "2025-07-21",
          "2025-07-22",
          "2025-07-23",
          "2025-07-24",
          "2025-07-25",
          "2025-07-28",
          "2025-07-29",
          "2025-07-30",
          "2025-07-31",
          "2025-08-01",
          "2025-08-04",
          "2025-08-05",
          "2025-08-06",
          "2025-08-07",
          "2025-08-08",
          "2025-08-11",
          "2025-08-12",
          "2025-08-13",
          "2025-08-14",
          "2025-08-15",
          "2025-08-18",
          "2025-08-19",
          "2025-08-20",
          "2025-08-21",
          "2025-08-22",
          "2025-08-25",
          "2025-08-26",
          "2025-08-27",
          "2025-08-28",
          "2025-08-29",
          "2025-09-02",
          "2025-09-03",
          "2025-09-04",
          "2025-09-05",
          "2025-09-08",
          "2025-09-09"
         ],
         "y": {
          "bdata": "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",
          "dtype": "f8"
         }
        }
       ],
       "layout": {
        "height": 400,
        "template": {
         "data": {
          "bar": [
           {
            "error_x": {
             "color": "#2a3f5f"
            },
            "error_y": {
             "color": "#2a3f5f"
            },
            "marker": {
             "line": {
              "color": "#E5ECF6",
              "width": 0.5
             },
             "pattern": {
              "fillmode": "overlay",
              "size": 10,
              "solidity": 0.2
             }
            },
            "type": "bar"
           }
          ],
          "barpolar": [
           {
            "marker": {
             "line": {
              "color": "#E5ECF6",
              "width": 0.5
             },
             "pattern": {
              "fillmode": "overlay",
              "size": 10,
              "solidity": 0.2
             }
            },
            "type": "barpolar"
           }
          ],
          "carpet": [
           {
            "aaxis": {
             "endlinecolor": "#2a3f5f",
             "gridcolor": "white",
             "linecolor": "white",
             "minorgridcolor": "white",
             "startlinecolor": "#2a3f5f"
            },
            "baxis": {
             "endlinecolor": "#2a3f5f",
             "gridcolor": "white",
             "linecolor": "white",
             "minorgridcolor": "white",
             "startlinecolor": "#2a3f5f"
            },
            "type": "carpet"
           }
          ],
          "choropleth": [
           {
            "colorbar": {
             "outlinewidth": 0,
             "ticks": ""
            },
            "type": "choropleth"
           }
          ],
          "contour": [
           {
            "colorbar": {
             "outlinewidth": 0,
             "ticks": ""
            },
            "colorscale": [
             [
              0,
              "#0d0887"
             ],
             [
              0.1111111111111111,
              "#46039f"
             ],
             [
              0.2222222222222222,
              "#7201a8"
             ],
             [
              0.3333333333333333,
              "#9c179e"
             ],
             [
              0.4444444444444444,
              "#bd3786"
             ],
             [
              0.5555555555555556,
              "#d8576b"
             ],
             [
              0.6666666666666666,
              "#ed7953"
             ],
             [
              0.7777777777777778,
              "#fb9f3a"
             ],
             [
              0.8888888888888888,
              "#fdca26"
             ],
             [
              1,
              "#f0f921"
             ]
            ],
            "type": "contour"
           }
          ],
          "contourcarpet": [
           {
            "colorbar": {
             "outlinewidth": 0,
             "ticks": ""
            },
            "type": "contourcarpet"
           }
          ],
          "heatmap": [
           {
            "colorbar": {
             "outlinewidth": 0,
             "ticks": ""
            },
            "colorscale": [
             [
              0,
              "#0d0887"
             ],
             [
              0.1111111111111111,
              "#46039f"
             ],
             [
              0.2222222222222222,
              "#7201a8"
             ],
             [
              0.3333333333333333,
              "#9c179e"
             ],
             [
              0.4444444444444444,
              "#bd3786"
             ],
             [
              0.5555555555555556,
              "#d8576b"
             ],
             [
              0.6666666666666666,
              "#ed7953"
             ],
             [
              0.7777777777777778,
              "#fb9f3a"
             ],
             [
              0.8888888888888888,
              "#fdca26"
             ],
             [
              1,
              "#f0f921"
             ]
            ],
            "type": "heatmap"
           }
          ],
          "histogram": [
           {
            "marker": {
             "pattern": {
              "fillmode": "overlay",
              "size": 10,
              "solidity": 0.2
             }
            },
            "type": "histogram"
           }
          ],
          "histogram2d": [
           {
            "colorbar": {
             "outlinewidth": 0,
             "ticks": ""
            },
            "colorscale": [
             [
              0,
              "#0d0887"
             ],
             [
              0.1111111111111111,
              "#46039f"
             ],
             [
              0.2222222222222222,
              "#7201a8"
             ],
             [
              0.3333333333333333,
              "#9c179e"
             ],
             [
              0.4444444444444444,
              "#bd3786"
             ],
             [
              0.5555555555555556,
              "#d8576b"
             ],
             [
              0.6666666666666666,
              "#ed7953"
             ],
             [
              0.7777777777777778,
              "#fb9f3a"
             ],
             [
              0.8888888888888888,
              "#fdca26"
             ],
             [
              1,
              "#f0f921"
             ]
            ],
            "type": "histogram2d"
           }
          ],
          "histogram2dcontour": [
           {
            "colorbar": {
             "outlinewidth": 0,
             "ticks": ""
            },
            "colorscale": [
             [
              0,
              "#0d0887"
             ],
             [
              0.1111111111111111,
              "#46039f"
             ],
             [
              0.2222222222222222,
              "#7201a8"
             ],
             [
              0.3333333333333333,
              "#9c179e"
             ],
             [
              0.4444444444444444,
              "#bd3786"
             ],
             [
              0.5555555555555556,
              "#d8576b"
             ],
             [
              0.6666666666666666,
              "#ed7953"
             ],
             [
              0.7777777777777778,
              "#fb9f3a"
             ],
             [
              0.8888888888888888,
              "#fdca26"
             ],
             [
              1,
              "#f0f921"
             ]
            ],
            "type": "histogram2dcontour"
           }
          ],
          "mesh3d": [
           {
            "colorbar": {
             "outlinewidth": 0,
             "ticks": ""
            },
            "type": "mesh3d"
           }
          ],
          "parcoords": [
           {
            "line": {
             "colorbar": {
              "outlinewidth": 0,
              "ticks": ""
             }
            },
            "type": "parcoords"
           }
          ],
          "pie": [
           {
            "automargin": true,
            "type": "pie"
           }
          ],
          "scatter": [
           {
            "fillpattern": {
             "fillmode": "overlay",
             "size": 10,
             "solidity": 0.2
            },
            "type": "scatter"
           }
          ],
          "scatter3d": [
           {
            "line": {
             "colorbar": {
              "outlinewidth": 0,
              "ticks": ""
             }
            },
            "marker": {
             "colorbar": {
              "outlinewidth": 0,
              "ticks": ""
             }
            },
            "type": "scatter3d"
           }
          ],
          "scattercarpet": [
           {
            "marker": {
             "colorbar": {
              "outlinewidth": 0,
              "ticks": ""
             }
            },
            "type": "scattercarpet"
           }
          ],
          "scattergeo": [
           {
            "marker": {
             "colorbar": {
              "outlinewidth": 0,
              "ticks": ""
             }
            },
            "type": "scattergeo"
           }
          ],
          "scattergl": [
           {
            "marker": {
             "colorbar": {
              "outlinewidth": 0,
              "ticks": ""
             }
            },
            "type": "scattergl"
           }
          ],
          "scattermap": [
           {
            "marker": {
             "colorbar": {
              "outlinewidth": 0,
              "ticks": ""
             }
            },
            "type": "scattermap"
           }
          ],
          "scattermapbox": [
           {
            "marker": {
             "colorbar": {
              "outlinewidth": 0,
              "ticks": ""
             }
            },
            "type": "scattermapbox"
           }
          ],
          "scatterpolar": [
           {
            "marker": {
             "colorbar": {
              "outlinewidth": 0,
              "ticks": ""
             }
            },
            "type": "scatterpolar"
           }
          ],
          "scatterpolargl": [
           {
            "marker": {
             "colorbar": {
              "outlinewidth": 0,
              "ticks": ""
             }
            },
            "type": "scatterpolargl"
           }
          ],
          "scatterternary": [
           {
            "marker": {
             "colorbar": {
              "outlinewidth": 0,
              "ticks": ""
             }
            },
            "type": "scatterternary"
           }
          ],
          "surface": [
           {
            "colorbar": {
             "outlinewidth": 0,
             "ticks": ""
            },
            "colorscale": [
             [
              0,
              "#0d0887"
             ],
             [
              0.1111111111111111,
              "#46039f"
             ],
             [
              0.2222222222222222,
              "#7201a8"
             ],
             [
              0.3333333333333333,
              "#9c179e"
             ],
             [
              0.4444444444444444,
              "#bd3786"
             ],
             [
              0.5555555555555556,
              "#d8576b"
             ],
             [
              0.6666666666666666,
              "#ed7953"
             ],
             [
              0.7777777777777778,
              "#fb9f3a"
             ],
             [
              0.8888888888888888,
              "#fdca26"
             ],
             [
              1,
              "#f0f921"
             ]
            ],
            "type": "surface"
           }
          ],
          "table": [
           {
            "cells": {
             "fill": {
              "color": "#EBF0F8"
             },
             "line": {
              "color": "white"
             }
            },
            "header": {
             "fill": {
              "color": "#C8D4E3"
             },
             "line": {
              "color": "white"
             }
            },
            "type": "table"
           }
          ]
         },
         "layout": {
          "annotationdefaults": {
           "arrowcolor": "#2a3f5f",
           "arrowhead": 0,
           "arrowwidth": 1
          },
          "autotypenumbers": "strict",
          "coloraxis": {
           "colorbar": {
            "outlinewidth": 0,
            "ticks": ""
           }
          },
          "colorscale": {
           "diverging": [
            [
             0,
             "#8e0152"
            ],
            [
             0.1,
             "#c51b7d"
            ],
            [
             0.2,
             "#de77ae"
            ],
            [
             0.3,
             "#f1b6da"
            ],
            [
             0.4,
             "#fde0ef"
            ],
            [
             0.5,
             "#f7f7f7"
            ],
            [
             0.6,
             "#e6f5d0"
            ],
            [
             0.7,
             "#b8e186"
            ],
            [
             0.8,
             "#7fbc41"
            ],
            [
             0.9,
             "#4d9221"
            ],
            [
             1,
             "#276419"
            ]
           ],
           "sequential": [
            [
             0,
             "#0d0887"
            ],
            [
             0.1111111111111111,
             "#46039f"
            ],
            [
             0.2222222222222222,
             "#7201a8"
            ],
            [
             0.3333333333333333,
             "#9c179e"
            ],
            [
             0.4444444444444444,
             "#bd3786"
            ],
            [
             0.5555555555555556,
             "#d8576b"
            ],
            [
             0.6666666666666666,
             "#ed7953"
            ],
            [
             0.7777777777777778,
             "#fb9f3a"
            ],
            [
             0.8888888888888888,
             "#fdca26"
            ],
            [
             1,
             "#f0f921"
            ]
           ],
           "sequentialminus": [
            [
             0,
             "#0d0887"
            ],
            [
             0.1111111111111111,
             "#46039f"
            ],
            [
             0.2222222222222222,
             "#7201a8"
            ],
            [
             0.3333333333333333,
             "#9c179e"
            ],
            [
             0.4444444444444444,
             "#bd3786"
            ],
            [
             0.5555555555555556,
             "#d8576b"
            ],
            [
             0.6666666666666666,
             "#ed7953"
            ],
            [
             0.7777777777777778,
             "#fb9f3a"
            ],
            [
             0.8888888888888888,
             "#fdca26"
            ],
            [
             1,
             "#f0f921"
            ]
           ]
          },
          "colorway": [
           "#636efa",
           "#EF553B",
           "#00cc96",
           "#ab63fa",
           "#FFA15A",
           "#19d3f3",
           "#FF6692",
           "#B6E880",
           "#FF97FF",
           "#FECB52"
          ],
          "font": {
           "color": "#2a3f5f"
          },
          "geo": {
           "bgcolor": "white",
           "lakecolor": "white",
           "landcolor": "#E5ECF6",
           "showlakes": true,
           "showland": true,
           "subunitcolor": "white"
          },
          "hoverlabel": {
           "align": "left"
          },
          "hovermode": "closest",
          "mapbox": {
           "style": "light"
          },
          "paper_bgcolor": "white",
          "plot_bgcolor": "#E5ECF6",
          "polar": {
           "angularaxis": {
            "gridcolor": "white",
            "linecolor": "white",
            "ticks": ""
           },
           "bgcolor": "#E5ECF6",
           "radialaxis": {
            "gridcolor": "white",
            "linecolor": "white",
            "ticks": ""
           }
          },
          "scene": {
           "xaxis": {
            "backgroundcolor": "#E5ECF6",
            "gridcolor": "white",
            "gridwidth": 2,
            "linecolor": "white",
            "showbackground": true,
            "ticks": "",
            "zerolinecolor": "white"
           },
           "yaxis": {
            "backgroundcolor": "#E5ECF6",
            "gridcolor": "white",
            "gridwidth": 2,
            "linecolor": "white",
            "showbackground": true,
            "ticks": "",
            "zerolinecolor": "white"
           },
           "zaxis": {
            "backgroundcolor": "#E5ECF6",
            "gridcolor": "white",
            "gridwidth": 2,
            "linecolor": "white",
            "showbackground": true,
            "ticks": "",
            "zerolinecolor": "white"
           }
          },
          "shapedefaults": {
           "line": {
            "color": "#2a3f5f"
           }
          },
          "ternary": {
           "aaxis": {
            "gridcolor": "white",
            "linecolor": "white",
            "ticks": ""
           },
           "baxis": {
            "gridcolor": "white",
            "linecolor": "white",
            "ticks": ""
           },
           "bgcolor": "#E5ECF6",
           "caxis": {
            "gridcolor": "white",
            "linecolor": "white",
            "ticks": ""
           }
          },
          "title": {
           "x": 0.05
          },
          "xaxis": {
           "automargin": true,
           "gridcolor": "white",
           "linecolor": "white",
           "ticks": "",
           "title": {
            "standoff": 15
           },
           "zerolinecolor": "white",
           "zerolinewidth": 2
          },
          "yaxis": {
           "automargin": true,
           "gridcolor": "white",
           "linecolor": "white",
           "ticks": "",
           "title": {
            "standoff": 15
           },
           "zerolinecolor": "white",
           "zerolinewidth": 2
          }
         }
        },
        "title": {
         "text": "AVGO"
        },
        "width": 600,
        "xaxis": {
         "rangeslider": {
          "visible": false
         }
        }
       }
      }
     },
     "metadata": {},
     "output_type": "display_data"
    },
    {
     "data": {
      "application/vnd.plotly.v1+json": {
       "config": {
        "plotlyServerURL": "https://plot.ly"
       },
       "data": [
        {
         "name": "Volume",
         "type": "bar",
         "x": [
          "2024-07-16",
          "2024-07-17",
          "2024-07-18",
          "2024-07-19",
          "2024-07-22",
          "2024-07-23",
          "2024-07-24",
          "2024-07-25",
          "2024-07-26",
          "2024-07-29",
          "2024-07-30",
          "2024-07-31",
          "2024-08-01",
          "2024-08-02",
          "2024-08-05",
          "2024-08-06",
          "2024-08-07",
          "2024-08-08",
          "2024-08-09",
          "2024-08-12",
          "2024-08-13",
          "2024-08-14",
          "2024-08-15",
          "2024-08-16",
          "2024-08-19",
          "2024-08-20",
          "2024-08-21",
          "2024-08-22",
          "2024-08-23",
          "2024-08-26",
          "2024-08-27",
          "2024-08-28",
          "2024-08-29",
          "2024-08-30",
          "2024-09-03",
          "2024-09-04",
          "2024-09-05",
          "2024-09-06",
          "2024-09-09",
          "2024-09-10",
          "2024-09-11",
          "2024-09-12",
          "2024-09-13",
          "2024-09-16",
          "2024-09-17",
          "2024-09-18",
          "2024-09-19",
          "2024-09-20",
          "2024-09-23",
          "2024-09-24",
          "2024-09-25",
          "2024-09-26",
          "2024-09-27",
          "2024-09-30",
          "2024-10-01",
          "2024-10-02",
          "2024-10-03",
          "2024-10-04",
          "2024-10-07",
          "2024-10-08",
          "2024-10-09",
          "2024-10-10",
          "2024-10-11",
          "2024-10-14",
          "2024-10-15",
          "2024-10-16",
          "2024-10-17",
          "2024-10-18",
          "2024-10-21",
          "2024-10-22",
          "2024-10-23",
          "2024-10-24",
          "2024-10-25",
          "2024-10-28",
          "2024-10-29",
          "2024-10-30",
          "2024-10-31",
          "2024-11-01",
          "2024-11-04",
          "2024-11-05",
          "2024-11-06",
          "2024-11-07",
          "2024-11-08",
          "2024-11-11",
          "2024-11-12",
          "2024-11-13",
          "2024-11-14",
          "2024-11-15",
          "2024-11-18",
          "2024-11-19",
          "2024-11-20",
          "2024-11-21",
          "2024-11-22",
          "2024-11-25",
          "2024-11-26",
          "2024-11-27",
          "2024-11-29",
          "2024-12-02",
          "2024-12-03",
          "2024-12-04",
          "2024-12-05",
          "2024-12-06",
          "2024-12-09",
          "2024-12-10",
          "2024-12-11",
          "2024-12-12",
          "2024-12-13",
          "2024-12-16",
          "2024-12-17",
          "2024-12-18",
          "2024-12-19",
          "2024-12-20",
          "2024-12-23",
          "2024-12-24",
          "2024-12-26",
          "2024-12-27",
          "2024-12-30",
          "2024-12-31",
          "2025-01-02",
          "2025-01-03",
          "2025-01-06",
          "2025-01-07",
          "2025-01-08",
          "2025-01-10",
          "2025-01-13",
          "2025-01-14",
          "2025-01-15",
          "2025-01-16",
          "2025-01-17",
          "2025-01-21",
          "2025-01-22",
          "2025-01-23",
          "2025-01-24",
          "2025-01-27",
          "2025-01-28",
          "2025-01-29",
          "2025-01-30",
          "2025-01-31",
          "2025-02-03",
          "2025-02-04",
          "2025-02-05",
          "2025-02-06",
          "2025-02-07",
          "2025-02-10",
          "2025-02-11",
          "2025-02-12",
          "2025-02-13",
          "2025-02-14",
          "2025-02-18",
          "2025-02-19",
          "2025-02-20",
          "2025-02-21",
          "2025-02-24",
          "2025-02-25",
          "2025-02-26",
          "2025-02-27",
          "2025-02-28",
          "2025-03-03",
          "2025-03-04",
          "2025-03-05",
          "2025-03-06",
          "2025-03-07",
          "2025-03-10",
          "2025-03-11",
          "2025-03-12",
          "2025-03-13",
          "2025-03-14",
          "2025-03-17",
          "2025-03-18",
          "2025-03-19",
          "2025-03-20",
          "2025-03-21",
          "2025-03-24",
          "2025-03-25",
          "2025-03-26",
          "2025-03-27",
          "2025-03-28",
          "2025-03-31",
          "2025-04-01",
          "2025-04-02",
          "2025-04-03",
          "2025-04-04",
          "2025-04-07",
          "2025-04-08",
          "2025-04-09",
          "2025-04-10",
          "2025-04-11",
          "2025-04-14",
          "2025-04-15",
          "2025-04-16",
          "2025-04-17",
          "2025-04-21",
          "2025-04-22",
          "2025-04-23",
          "2025-04-24",
          "2025-04-25",
          "2025-04-28",
          "2025-04-29",
          "2025-04-30",
          "2025-05-01",
          "2025-05-02",
          "2025-05-05",
          "2025-05-06",
          "2025-05-07",
          "2025-05-08",
          "2025-05-09",
          "2025-05-12",
          "2025-05-13",
          "2025-05-14",
          "2025-05-15",
          "2025-05-16",
          "2025-05-19",
          "2025-05-20",
          "2025-05-21",
          "2025-05-22",
          "2025-05-23",
          "2025-05-27",
          "2025-05-28",
          "2025-05-29",
          "2025-05-30",
          "2025-06-02",
          "2025-06-03",
          "2025-06-04",
          "2025-06-05",
          "2025-06-06",
          "2025-06-09",
          "2025-06-10",
          "2025-06-11",
          "2025-06-12",
          "2025-06-13",
          "2025-06-16",
          "2025-06-17",
          "2025-06-18",
          "2025-06-20",
          "2025-06-23",
          "2025-06-24",
          "2025-06-25",
          "2025-06-26",
          "2025-06-27",
          "2025-06-30",
          "2025-07-01",
          "2025-07-02",
          "2025-07-03",
          "2025-07-07",
          "2025-07-08",
          "2025-07-09",
          "2025-07-10",
          "2025-07-11",
          "2025-07-14",
          "2025-07-15",
          "2025-07-16",
          "2025-07-17",
          "2025-07-18",
          "2025-07-21",
          "2025-07-22",
          "2025-07-23",
          "2025-07-24",
          "2025-07-25",
          "2025-07-28",
          "2025-07-29",
          "2025-07-30",
          "2025-07-31",
          "2025-08-01",
          "2025-08-04",
          "2025-08-05",
          "2025-08-06",
          "2025-08-07",
          "2025-08-08",
          "2025-08-11",
          "2025-08-12",
          "2025-08-13",
          "2025-08-14",
          "2025-08-15",
          "2025-08-18",
          "2025-08-19",
          "2025-08-20",
          "2025-08-21",
          "2025-08-22",
          "2025-08-25",
          "2025-08-26",
          "2025-08-27",
          "2025-08-28",
          "2025-08-29",
          "2025-09-02",
          "2025-09-03",
          "2025-09-04",
          "2025-09-05",
          "2025-09-08",
          "2025-09-09"
         ],
         "y": {
          "bdata": "JG5TAShelQL8bUMCfHORAfSntwGYIkkBaA43AiQS1wHc/T0BiLD9AFyV2gGsRbsCADxnAojrAgJ0VHYCxKx5ASjyxQHg4qQBLFoZAURHDwHgglABiPwzAShoqgGEciYBZOo3AZxJKAGkofUAVHHKAQCZHwFwnBoBXJD+APCgEwFE4GYBZON/AdxONwIEHzYBVGThAehZkQQc+loCrFgmAkDJXQLMOZgCkHnHATSqjgHMzC4BoDyVAewx7wGkH3gFPBXBASg1CgKogf0AIGZzASQKOgFw5wEBILVqAeh42gCsd8cAeHURAczb7QA4/TwBZCmFATD++AAwBWABGGMGARwFpgFsO+kAEASBAcAkEAF8+NAAiA+4AGTBKQFQlDgB5NUwARhayQAcq2kBzE4RAcgMjgHYUhABNNjPAAgbzQAAzXIB6HchAeAKzgCc9QMB8AjyAPSbCgG07DoBaO89AYR5EAHItRIBnGYGAeT0egEUeQgBKLWZAUDa+ADM8SwBgDaoAJCkRwGQxQMBqLLzAZAiGgEQqqgBHLM+AaifpwFgHXYCoKnMAhhzOwcgPKcGFPIxBKRdNwOQP28CAMvcB9gsbALAUFwB+D+yAZjPvgFA0qABFI4RAagL4QGQD30BcDsHApijiwGUMx4BwCJsAcS7agF81xQBwM9LARwnZgG4BdwBoIvXAQTSwwGMYA0BGGODAbj6ZQXgwv8CxGzwAVy6hwI8NXMCpPN1AbStagHgfr0BXAVDAXx8UQGgtWwBqOwZAfQz+gDQ2j8BgDoDAfT0jQHM3vkAQLr1AJCxewEgT/gBABT5AewNRgGkuqQBgH5eAtA4OwLkd0IC1E2HAWStYwOEOHEEDLOiAvA0gwLkA9ABBJefAWQ3iwEIZ5kB2Lh8AcxDQwJwld8BpHKRAoxK+gHUUWUBRJfSAZSY6gHMvM8B0BIgAlBiOAF06CkBVM2kAng+TwTMRxUECJCCA8xwVQSobw0DREAGAkzjiAEgGQcBCIsQAqhZVwHoHmYBxFwaAVQEdAFEyqQBvCFEAQgH+gBwPN8ABG1bAbSMfAGQGQ8BuALWAIB2+QAEDDUB5LAZAfDGygAEJoQB5E63AehhLQH06x4BSGVgAWxO6gDA27MAlDUNAWjQ2gAAxOoAxMQRAXjvNwEUhjwB2FadAUjsJAGokM8BgDPhAdRsgAJM2XMCVJGCAWT3hAHYWXcBFHI3AbBZIgH4tjYBXOlPAaxo0AF07YICuFAtAeTz8wF4TSABwKRnAWBGowEwBXkB8C24ARRIDAG8oaEAGL//AJjj4gCINDMBEAERAYzQ2QD4GbYAwGkRAdha5QD87AYBMBLlAFB9DgFAwvwAqKk5AWh0+gAoX74AyMrQADAiJQFUav8AdOyEAYT3RgE46QUBvPEZAeRhCQGoA/kAzBq+AHAnvQCAswwBQBAJAeDU7wB0AVwBXK7gAGB1MwF0HWgB/A/kAPS8+ADcyOYADPyHAZwI0wDcfyABzMBJAch9LAF4vBoBQGTcAUBQrATwTJgCtko/AQ==",
          "dtype": "i4"
         }
        },
        {
         "name": "Average",
         "type": "scatter",
         "x": [
          "2024-07-16",
          "2024-07-17",
          "2024-07-18",
          "2024-07-19",
          "2024-07-22",
          "2024-07-23",
          "2024-07-24",
          "2024-07-25",
          "2024-07-26",
          "2024-07-29",
          "2024-07-30",
          "2024-07-31",
          "2024-08-01",
          "2024-08-02",
          "2024-08-05",
          "2024-08-06",
          "2024-08-07",
          "2024-08-08",
          "2024-08-09",
          "2024-08-12",
          "2024-08-13",
          "2024-08-14",
          "2024-08-15",
          "2024-08-16",
          "2024-08-19",
          "2024-08-20",
          "2024-08-21",
          "2024-08-22",
          "2024-08-23",
          "2024-08-26",
          "2024-08-27",
          "2024-08-28",
          "2024-08-29",
          "2024-08-30",
          "2024-09-03",
          "2024-09-04",
          "2024-09-05",
          "2024-09-06",
          "2024-09-09",
          "2024-09-10",
          "2024-09-11",
          "2024-09-12",
          "2024-09-13",
          "2024-09-16",
          "2024-09-17",
          "2024-09-18",
          "2024-09-19",
          "2024-09-20",
          "2024-09-23",
          "2024-09-24",
          "2024-09-25",
          "2024-09-26",
          "2024-09-27",
          "2024-09-30",
          "2024-10-01",
          "2024-10-02",
          "2024-10-03",
          "2024-10-04",
          "2024-10-07",
          "2024-10-08",
          "2024-10-09",
          "2024-10-10",
          "2024-10-11",
          "2024-10-14",
          "2024-10-15",
          "2024-10-16",
          "2024-10-17",
          "2024-10-18",
          "2024-10-21",
          "2024-10-22",
          "2024-10-23",
          "2024-10-24",
          "2024-10-25",
          "2024-10-28",
          "2024-10-29",
          "2024-10-30",
          "2024-10-31",
          "2024-11-01",
          "2024-11-04",
          "2024-11-05",
          "2024-11-06",
          "2024-11-07",
          "2024-11-08",
          "2024-11-11",
          "2024-11-12",
          "2024-11-13",
          "2024-11-14",
          "2024-11-15",
          "2024-11-18",
          "2024-11-19",
          "2024-11-20",
          "2024-11-21",
          "2024-11-22",
          "2024-11-25",
          "2024-11-26",
          "2024-11-27",
          "2024-11-29",
          "2024-12-02",
          "2024-12-03",
          "2024-12-04",
          "2024-12-05",
          "2024-12-06",
          "2024-12-09",
          "2024-12-10",
          "2024-12-11",
          "2024-12-12",
          "2024-12-13",
          "2024-12-16",
          "2024-12-17",
          "2024-12-18",
          "2024-12-19",
          "2024-12-20",
          "2024-12-23",
          "2024-12-24",
          "2024-12-26",
          "2024-12-27",
          "2024-12-30",
          "2024-12-31",
          "2025-01-02",
          "2025-01-03",
          "2025-01-06",
          "2025-01-07",
          "2025-01-08",
          "2025-01-10",
          "2025-01-13",
          "2025-01-14",
          "2025-01-15",
          "2025-01-16",
          "2025-01-17",
          "2025-01-21",
          "2025-01-22",
          "2025-01-23",
          "2025-01-24",
          "2025-01-27",
          "2025-01-28",
          "2025-01-29",
          "2025-01-30",
          "2025-01-31",
          "2025-02-03",
          "2025-02-04",
          "2025-02-05",
          "2025-02-06",
          "2025-02-07",
          "2025-02-10",
          "2025-02-11",
          "2025-02-12",
          "2025-02-13",
          "2025-02-14",
          "2025-02-18",
          "2025-02-19",
          "2025-02-20",
          "2025-02-21",
          "2025-02-24",
          "2025-02-25",
          "2025-02-26",
          "2025-02-27",
          "2025-02-28",
          "2025-03-03",
          "2025-03-04",
          "2025-03-05",
          "2025-03-06",
          "2025-03-07",
          "2025-03-10",
          "2025-03-11",
          "2025-03-12",
          "2025-03-13",
          "2025-03-14",
          "2025-03-17",
          "2025-03-18",
          "2025-03-19",
          "2025-03-20",
          "2025-03-21",
          "2025-03-24",
          "2025-03-25",
          "2025-03-26",
          "2025-03-27",
          "2025-03-28",
          "2025-03-31",
          "2025-04-01",
          "2025-04-02",
          "2025-04-03",
          "2025-04-04",
          "2025-04-07",
          "2025-04-08",
          "2025-04-09",
          "2025-04-10",
          "2025-04-11",
          "2025-04-14",
          "2025-04-15",
          "2025-04-16",
          "2025-04-17",
          "2025-04-21",
          "2025-04-22",
          "2025-04-23",
          "2025-04-24",
          "2025-04-25",
          "2025-04-28",
          "2025-04-29",
          "2025-04-30",
          "2025-05-01",
          "2025-05-02",
          "2025-05-05",
          "2025-05-06",
          "2025-05-07",
          "2025-05-08",
          "2025-05-09",
          "2025-05-12",
          "2025-05-13",
          "2025-05-14",
          "2025-05-15",
          "2025-05-16",
          "2025-05-19",
          "2025-05-20",
          "2025-05-21",
          "2025-05-22",
          "2025-05-23",
          "2025-05-27",
          "2025-05-28",
          "2025-05-29",
          "2025-05-30",
          "2025-06-02",
          "2025-06-03",
          "2025-06-04",
          "2025-06-05",
          "2025-06-06",
          "2025-06-09",
          "2025-06-10",
          "2025-06-11",
          "2025-06-12",
          "2025-06-13",
          "2025-06-16",
          "2025-06-17",
          "2025-06-18",
          "2025-06-20",
          "2025-06-23",
          "2025-06-24",
          "2025-06-25",
          "2025-06-26",
          "2025-06-27",
          "2025-06-30",
          "2025-07-01",
          "2025-07-02",
          "2025-07-03",
          "2025-07-07",
          "2025-07-08",
          "2025-07-09",
          "2025-07-10",
          "2025-07-11",
          "2025-07-14",
          "2025-07-15",
          "2025-07-16",
          "2025-07-17",
          "2025-07-18",
          "2025-07-21",
          "2025-07-22",
          "2025-07-23",
          "2025-07-24",
          "2025-07-25",
          "2025-07-28",
          "2025-07-29",
          "2025-07-30",
          "2025-07-31",
          "2025-08-01",
          "2025-08-04",
          "2025-08-05",
          "2025-08-06",
          "2025-08-07",
          "2025-08-08",
          "2025-08-11",
          "2025-08-12",
          "2025-08-13",
          "2025-08-14",
          "2025-08-15",
          "2025-08-18",
          "2025-08-19",
          "2025-08-20",
          "2025-08-21",
          "2025-08-22",
          "2025-08-25",
          "2025-08-26",
          "2025-08-27",
          "2025-08-28",
          "2025-08-29",
          "2025-09-02",
          "2025-09-03",
          "2025-09-04",
          "2025-09-05",
          "2025-09-08",
          "2025-09-09"
         ],
         "y": {
          "bdata": "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",
          "dtype": "f8"
         }
        }
       ],
       "layout": {
        "height": 400,
        "template": {
         "data": {
          "bar": [
           {
            "error_x": {
             "color": "#2a3f5f"
            },
            "error_y": {
             "color": "#2a3f5f"
            },
            "marker": {
             "line": {
              "color": "#E5ECF6",
              "width": 0.5
             },
             "pattern": {
              "fillmode": "overlay",
              "size": 10,
              "solidity": 0.2
             }
            },
            "type": "bar"
           }
          ],
          "barpolar": [
           {
            "marker": {
             "line": {
              "color": "#E5ECF6",
              "width": 0.5
             },
             "pattern": {
              "fillmode": "overlay",
              "size": 10,
              "solidity": 0.2
             }
            },
            "type": "barpolar"
           }
          ],
          "carpet": [
           {
            "aaxis": {
             "endlinecolor": "#2a3f5f",
             "gridcolor": "white",
             "linecolor": "white",
             "minorgridcolor": "white",
             "startlinecolor": "#2a3f5f"
            },
            "baxis": {
             "endlinecolor": "#2a3f5f",
             "gridcolor": "white",
             "linecolor": "white",
             "minorgridcolor": "white",
             "startlinecolor": "#2a3f5f"
            },
            "type": "carpet"
           }
          ],
          "choropleth": [
           {
            "colorbar": {
             "outlinewidth": 0,
             "ticks": ""
            },
            "type": "choropleth"
           }
          ],
          "contour": [
           {
            "colorbar": {
             "outlinewidth": 0,
             "ticks": ""
            },
            "colorscale": [
             [
              0,
              "#0d0887"
             ],
             [
              0.1111111111111111,
              "#46039f"
             ],
             [
              0.2222222222222222,
              "#7201a8"
             ],
             [
              0.3333333333333333,
              "#9c179e"
             ],
             [
              0.4444444444444444,
              "#bd3786"
             ],
             [
              0.5555555555555556,
              "#d8576b"
             ],
             [
              0.6666666666666666,
              "#ed7953"
             ],
             [
              0.7777777777777778,
              "#fb9f3a"
             ],
             [
              0.8888888888888888,
              "#fdca26"
             ],
             [
              1,
              "#f0f921"
             ]
            ],
            "type": "contour"
           }
          ],
          "contourcarpet": [
           {
            "colorbar": {
             "outlinewidth": 0,
             "ticks": ""
            },
            "type": "contourcarpet"
           }
          ],
          "heatmap": [
           {
            "colorbar": {
             "outlinewidth": 0,
             "ticks": ""
            },
            "colorscale": [
             [
              0,
              "#0d0887"
             ],
             [
              0.1111111111111111,
              "#46039f"
             ],
             [
              0.2222222222222222,
              "#7201a8"
             ],
             [
              0.3333333333333333,
              "#9c179e"
             ],
             [
              0.4444444444444444,
              "#bd3786"
             ],
             [
              0.5555555555555556,
              "#d8576b"
             ],
             [
              0.6666666666666666,
              "#ed7953"
             ],
             [
              0.7777777777777778,
              "#fb9f3a"
             ],
             [
              0.8888888888888888,
              "#fdca26"
             ],
             [
              1,
              "#f0f921"
             ]
            ],
            "type": "heatmap"
           }
          ],
          "histogram": [
           {
            "marker": {
             "pattern": {
              "fillmode": "overlay",
              "size": 10,
              "solidity": 0.2
             }
            },
            "type": "histogram"
           }
          ],
          "histogram2d": [
           {
            "colorbar": {
             "outlinewidth": 0,
             "ticks": ""
            },
            "colorscale": [
             [
              0,
              "#0d0887"
             ],
             [
              0.1111111111111111,
              "#46039f"
             ],
             [
              0.2222222222222222,
              "#7201a8"
             ],
             [
              0.3333333333333333,
              "#9c179e"
             ],
             [
              0.4444444444444444,
              "#bd3786"
             ],
             [
              0.5555555555555556,
              "#d8576b"
             ],
             [
              0.6666666666666666,
              "#ed7953"
             ],
             [
              0.7777777777777778,
              "#fb9f3a"
             ],
             [
              0.8888888888888888,
              "#fdca26"
             ],
             [
              1,
              "#f0f921"
             ]
            ],
            "type": "histogram2d"
           }
          ],
          "histogram2dcontour": [
           {
            "colorbar": {
             "outlinewidth": 0,
             "ticks": ""
            },
            "colorscale": [
             [
              0,
              "#0d0887"
             ],
             [
              0.1111111111111111,
              "#46039f"
             ],
             [
              0.2222222222222222,
              "#7201a8"
             ],
             [
              0.3333333333333333,
              "#9c179e"
             ],
             [
              0.4444444444444444,
              "#bd3786"
             ],
             [
              0.5555555555555556,
              "#d8576b"
             ],
             [
              0.6666666666666666,
              "#ed7953"
             ],
             [
              0.7777777777777778,
              "#fb9f3a"
             ],
             [
              0.8888888888888888,
              "#fdca26"
             ],
             [
              1,
              "#f0f921"
             ]
            ],
            "type": "histogram2dcontour"
           }
          ],
          "mesh3d": [
           {
            "colorbar": {
             "outlinewidth": 0,
             "ticks": ""
            },
            "type": "mesh3d"
           }
          ],
          "parcoords": [
           {
            "line": {
             "colorbar": {
              "outlinewidth": 0,
              "ticks": ""
             }
            },
            "type": "parcoords"
           }
          ],
          "pie": [
           {
            "automargin": true,
            "type": "pie"
           }
          ],
          "scatter": [
           {
            "fillpattern": {
             "fillmode": "overlay",
             "size": 10,
             "solidity": 0.2
            },
            "type": "scatter"
           }
          ],
          "scatter3d": [
           {
            "line": {
             "colorbar": {
              "outlinewidth": 0,
              "ticks": ""
             }
            },
            "marker": {
             "colorbar": {
              "outlinewidth": 0,
              "ticks": ""
             }
            },
            "type": "scatter3d"
           }
          ],
          "scattercarpet": [
           {
            "marker": {
             "colorbar": {
              "outlinewidth": 0,
              "ticks": ""
             }
            },
            "type": "scattercarpet"
           }
          ],
          "scattergeo": [
           {
            "marker": {
             "colorbar": {
              "outlinewidth": 0,
              "ticks": ""
             }
            },
            "type": "scattergeo"
           }
          ],
          "scattergl": [
           {
            "marker": {
             "colorbar": {
              "outlinewidth": 0,
              "ticks": ""
             }
            },
            "type": "scattergl"
           }
          ],
          "scattermap": [
           {
            "marker": {
             "colorbar": {
              "outlinewidth": 0,
              "ticks": ""
             }
            },
            "type": "scattermap"
           }
          ],
          "scattermapbox": [
           {
            "marker": {
             "colorbar": {
              "outlinewidth": 0,
              "ticks": ""
             }
            },
            "type": "scattermapbox"
           }
          ],
          "scatterpolar": [
           {
            "marker": {
             "colorbar": {
              "outlinewidth": 0,
              "ticks": ""
             }
            },
            "type": "scatterpolar"
           }
          ],
          "scatterpolargl": [
           {
            "marker": {
             "colorbar": {
              "outlinewidth": 0,
              "ticks": ""
             }
            },
            "type": "scatterpolargl"
           }
          ],
          "scatterternary": [
           {
            "marker": {
             "colorbar": {
              "outlinewidth": 0,
              "ticks": ""
             }
            },
            "type": "scatterternary"
           }
          ],
          "surface": [
           {
            "colorbar": {
             "outlinewidth": 0,
             "ticks": ""
            },
            "colorscale": [
             [
              0,
              "#0d0887"
             ],
             [
              0.1111111111111111,
              "#46039f"
             ],
             [
              0.2222222222222222,
              "#7201a8"
             ],
             [
              0.3333333333333333,
              "#9c179e"
             ],
             [
              0.4444444444444444,
              "#bd3786"
             ],
             [
              0.5555555555555556,
              "#d8576b"
             ],
             [
              0.6666666666666666,
              "#ed7953"
             ],
             [
              0.7777777777777778,
              "#fb9f3a"
             ],
             [
              0.8888888888888888,
              "#fdca26"
             ],
             [
              1,
              "#f0f921"
             ]
            ],
            "type": "surface"
           }
          ],
          "table": [
           {
            "cells": {
             "fill": {
              "color": "#EBF0F8"
             },
             "line": {
              "color": "white"
             }
            },
            "header": {
             "fill": {
              "color": "#C8D4E3"
             },
             "line": {
              "color": "white"
             }
            },
            "type": "table"
           }
          ]
         },
         "layout": {
          "annotationdefaults": {
           "arrowcolor": "#2a3f5f",
           "arrowhead": 0,
           "arrowwidth": 1
          },
          "autotypenumbers": "strict",
          "coloraxis": {
           "colorbar": {
            "outlinewidth": 0,
            "ticks": ""
           }
          },
          "colorscale": {
           "diverging": [
            [
             0,
             "#8e0152"
            ],
            [
             0.1,
             "#c51b7d"
            ],
            [
             0.2,
             "#de77ae"
            ],
            [
             0.3,
             "#f1b6da"
            ],
            [
             0.4,
             "#fde0ef"
            ],
            [
             0.5,
             "#f7f7f7"
            ],
            [
             0.6,
             "#e6f5d0"
            ],
            [
             0.7,
             "#b8e186"
            ],
            [
             0.8,
             "#7fbc41"
            ],
            [
             0.9,
             "#4d9221"
            ],
            [
             1,
             "#276419"
            ]
           ],
           "sequential": [
            [
             0,
             "#0d0887"
            ],
            [
             0.1111111111111111,
             "#46039f"
            ],
            [
             0.2222222222222222,
             "#7201a8"
            ],
            [
             0.3333333333333333,
             "#9c179e"
            ],
            [
             0.4444444444444444,
             "#bd3786"
            ],
            [
             0.5555555555555556,
             "#d8576b"
            ],
            [
             0.6666666666666666,
             "#ed7953"
            ],
            [
             0.7777777777777778,
             "#fb9f3a"
            ],
            [
             0.8888888888888888,
             "#fdca26"
            ],
            [
             1,
             "#f0f921"
            ]
           ],
           "sequentialminus": [
            [
             0,
             "#0d0887"
            ],
            [
             0.1111111111111111,
             "#46039f"
            ],
            [
             0.2222222222222222,
             "#7201a8"
            ],
            [
             0.3333333333333333,
             "#9c179e"
            ],
            [
             0.4444444444444444,
             "#bd3786"
            ],
            [
             0.5555555555555556,
             "#d8576b"
            ],
            [
             0.6666666666666666,
             "#ed7953"
            ],
            [
             0.7777777777777778,
             "#fb9f3a"
            ],
            [
             0.8888888888888888,
             "#fdca26"
            ],
            [
             1,
             "#f0f921"
            ]
           ]
          },
          "colorway": [
           "#636efa",
           "#EF553B",
           "#00cc96",
           "#ab63fa",
           "#FFA15A",
           "#19d3f3",
           "#FF6692",
           "#B6E880",
           "#FF97FF",
           "#FECB52"
          ],
          "font": {
           "color": "#2a3f5f"
          },
          "geo": {
           "bgcolor": "white",
           "lakecolor": "white",
           "landcolor": "#E5ECF6",
           "showlakes": true,
           "showland": true,
           "subunitcolor": "white"
          },
          "hoverlabel": {
           "align": "left"
          },
          "hovermode": "closest",
          "mapbox": {
           "style": "light"
          },
          "paper_bgcolor": "white",
          "plot_bgcolor": "#E5ECF6",
          "polar": {
           "angularaxis": {
            "gridcolor": "white",
            "linecolor": "white",
            "ticks": ""
           },
           "bgcolor": "#E5ECF6",
           "radialaxis": {
            "gridcolor": "white",
            "linecolor": "white",
            "ticks": ""
           }
          },
          "scene": {
           "xaxis": {
            "backgroundcolor": "#E5ECF6",
            "gridcolor": "white",
            "gridwidth": 2,
            "linecolor": "white",
            "showbackground": true,
            "ticks": "",
            "zerolinecolor": "white"
           },
           "yaxis": {
            "backgroundcolor": "#E5ECF6",
            "gridcolor": "white",
            "gridwidth": 2,
            "linecolor": "white",
            "showbackground": true,
            "ticks": "",
            "zerolinecolor": "white"
           },
           "zaxis": {
            "backgroundcolor": "#E5ECF6",
            "gridcolor": "white",
            "gridwidth": 2,
            "linecolor": "white",
            "showbackground": true,
            "ticks": "",
            "zerolinecolor": "white"
           }
          },
          "shapedefaults": {
           "line": {
            "color": "#2a3f5f"
           }
          },
          "ternary": {
           "aaxis": {
            "gridcolor": "white",
            "linecolor": "white",
            "ticks": ""
           },
           "baxis": {
            "gridcolor": "white",
            "linecolor": "white",
            "ticks": ""
           },
           "bgcolor": "#E5ECF6",
           "caxis": {
            "gridcolor": "white",
            "linecolor": "white",
            "ticks": ""
           }
          },
          "title": {
           "x": 0.05
          },
          "xaxis": {
           "automargin": true,
           "gridcolor": "white",
           "linecolor": "white",
           "ticks": "",
           "title": {
            "standoff": 15
           },
           "zerolinecolor": "white",
           "zerolinewidth": 2
          },
          "yaxis": {
           "automargin": true,
           "gridcolor": "white",
           "linecolor": "white",
           "ticks": "",
           "title": {
            "standoff": 15
           },
           "zerolinecolor": "white",
           "zerolinewidth": 2
          }
         }
        },
        "title": {
         "text": "AVGO"
        },
        "width": 600
       }
      }
     },
     "metadata": {},
     "output_type": "display_data"
    }
   ],
   "source": [
    "\n",
    "from finta import TA\n",
    "\n",
    "data = file_utils.get_history(STOCK)\n",
    "data['ema10'] = TA.EMA(data, 10)\n",
    "data['sma30'] = TA.SMA(data, 30)\n",
    "\n",
    "import plotly.graph_objects as go\n",
    "\n",
    "# Stock and moving averages\n",
    "fig = go.Figure(data=[\n",
    "                go.Candlestick(\n",
    "                    x = data.index, # date values\n",
    "                    open  = data['Open'],\n",
    "                    high  = data['High'],\n",
    "                    low   = data['Low'],\n",
    "                    close = data['Close'],\n",
    "                    name = STOCK\n",
    "                ),\n",
    "         \n",
    "                go.Scatter( x=data['ema10'].index,\n",
    "                            y=data['ema10'],\n",
    "                            name='EMA 10',\n",
    "                            line=dict(color='blue',\n",
    "                                      width=2,\n",
    "                                      shape='spline'), # smooth the line\n",
    "                            ),\n",
    "        \n",
    "                go.Scatter( x=data['sma30'].index,\n",
    "                            y=data['sma30'],\n",
    "                            name='SMA 30',\n",
    "                            line=dict(color='purple',\n",
    "                                      width=2,\n",
    "                                      shape='spline'), # smooth the line\n",
    "                            ),\n",
    "                \n",
    "                ])\n",
    "fig.update_layout(xaxis_rangeslider_visible=False, title=f\"{STOCK}\", width=600, height=400)\n",
    "fig.show()\n",
    "\n",
    "# Volume\n",
    "data['vol_avg'] = data['Volume'].rolling(14).mean()\n",
    "fig1 = go.Figure(\n",
    "    data = [\n",
    "        go.Bar(x=data.index, y=data['Volume'], name='Volume'),\n",
    "        go.Scatter(x=data.index, y=data['vol_avg'], name='Average')\n",
    "    ])\n",
    "\n",
    "fig1.update_layout(title=f\"{STOCK}\", width=600, height=400)\n",
    "fig1.show()\n"
   ]
  },
  {
   "cell_type": "markdown",
   "metadata": {},
   "source": [
    "SIGNALS"
   ]
  },
  {
   "cell_type": "code",
   "execution_count": 8,
   "metadata": {},
   "outputs": [
    {
     "name": "stdout",
     "output_type": "stream",
     "text": [
      "STOCK:  AVGO\n",
      "\u001b[90m ●  VIX has crossed up\n",
      "\u001b[90m ●  VIX has crossed down\n",
      "\u001b[90m ●  MACD has crossed up\n",
      "\u001b[90m ●  MACD has crossed down\n",
      "\u001b[90m ●  Stochastic has crossed up\n",
      "\u001b[90m ●  Stochastic has crossed down\n",
      "\u001b[92m ●  Moving average is bullish\n",
      "\u001b[90m ●  Moving average is reversing\n",
      "\u001b[90m ●  Moving average cross down\n",
      "\u001b[90m ●  Moving average cross up\n",
      "\u001b[90m ●  Moving average is bearish\n",
      "\u001b[90m ●  Moving average price crossed below \n",
      "\u001b[90m ●  Moving average price crossed above \n",
      "\u001b[90m ●  52 week low \n",
      "\u001b[92m ●  52 week high \n",
      "\u001b[90m ●  RSI oversold (30)\n",
      "\u001b[90m ●  RSI overbought (70)\n",
      "\u001b[90m ●  RSI 52 week low\n",
      "\u001b[92m ●  RSI 52 week high\n",
      "\u001b[90m ●  Resistance break up\n",
      "\u001b[90m ●  Support break down\n",
      "\u001b[90m ●  Close Above High Of Low Day\n",
      "\u001b[90m ●  Close Below Low Of High Day\n",
      "\u001b[90m ●  Volume high\n"
     ]
    }
   ],
   "source": [
    "\n",
    "from yfinance_utils import signals_utils\n",
    "#\n",
    "#Red = '\\033[91m'\n",
    "#Green = '\\033[92m'\n",
    "#Blue = '\\033[94m'\n",
    "#Cyan = '\\033[96m'\n",
    "#White = '\\033[97m'\n",
    "#Yellow = '\\033[93m'\n",
    "#Magenta = '\\033[95m'\n",
    "#Grey = '\\033[90m'\n",
    "#Black = '\\033[90m'\n",
    "#Default = '\\033[99m'\n",
    "\n",
    "def get_color_dot(c):\n",
    "    if c:\n",
    "        return\"\\033[92m ● \"  # Green dot\n",
    "    else:\n",
    "        return\"\\033[90m ● \"  # Grey dot\n",
    "\n",
    "print(f\"STOCK:  {STOCK}\")\n",
    "print(f\"{get_color_dot(signals_utils.is_vix_cross_up(day=2))} VIX has crossed up\")\n",
    "print(f\"{get_color_dot(signals_utils.is_vix_cross_down(day=2))} VIX has crossed down\")\n",
    "print(f\"{get_color_dot(signals_utils.is_macd_cross_up(data))} MACD has crossed up\")\n",
    "print(f\"{get_color_dot(signals_utils.is_macd_cross_down(data))} MACD has crossed down\")\n",
    "print(f\"{get_color_dot(signals_utils.is_stochastic_cross_up(data))} Stochastic has crossed up\")\n",
    "print(f\"{get_color_dot(signals_utils.is_stochastic_cross_down(data))} Stochastic has crossed down\")\n",
    "print(f\"{get_color_dot(signals_utils.is_ma_bullish_trend(data))} Moving average is bullish\")\n",
    "print(f\"{get_color_dot(signals_utils.is_ma_trend_reversing(data))} Moving average is reversing\")\n",
    "print(f\"{get_color_dot(signals_utils.is_ma_cross_down(data))} Moving average cross down\")\n",
    "print(f\"{get_color_dot(signals_utils.is_ma_cross_up(data))} Moving average cross up\")\n",
    "print(f\"{get_color_dot(signals_utils.is_ma_bearish_trend(data))} Moving average is bearish\")\n",
    "print(f\"{get_color_dot(signals_utils.is_ma_price_cross_down(data))} Moving average price crossed below \")\n",
    "print(f\"{get_color_dot(signals_utils.is_ma_price_cross_up(data))} Moving average price crossed above \")\n",
    "print(f\"{get_color_dot(signals_utils.is_price_year_low(data))} 52 week low \")\n",
    "print(f\"{get_color_dot(signals_utils.is_price_year_high(data))} 52 week high \")\n",
    "print(f\"{get_color_dot(signals_utils.is_rsi_oversold(data))} RSI oversold (30)\")\n",
    "print(f\"{get_color_dot(signals_utils.is_rsi_overbough(data))} RSI overbought (70)\")\n",
    "print(f\"{get_color_dot(signals_utils.is_price_year_low(data))} RSI 52 week low\")\n",
    "print(f\"{get_color_dot(signals_utils.is_price_year_high(data))} RSI 52 week high\")\n",
    "print(f\"{get_color_dot(signals_utils.is_resistance_breake_up(data))} Resistance break up\")\n",
    "print(f\"{get_color_dot(signals_utils.is_support_breake_down(data))} Support break down\")\n",
    "print(f\"{get_color_dot(signals_utils.is_cahold(data))} Close Above High Of Low Day\")\n",
    "print(f\"{get_color_dot(signals_utils.is_cblohd(data))} Close Below Low Of High Day\")\n",
    "print(f\"{get_color_dot(signals_utils.is_high_volume(data))} Volume high\")\n"
   ]
  },
  {
   "cell_type": "markdown",
   "metadata": {},
   "source": [
    "FUNDAMENTALS AND RATIOS"
   ]
  },
  {
   "cell_type": "code",
   "execution_count": 12,
   "metadata": {},
   "outputs": [
    {
     "name": "stdout",
     "output_type": "stream",
     "text": [
      "Stock                        : AVGO\n",
      "Price                        : 349.55\n",
      "Put Call Ratio               : 1.03\n",
      "Current Ratio                : 1.50\n",
      "Book Value per Share         : 59.22\n",
      "\n",
      "Records for last two periods.\n",
      "Note: periods are read right to left\n",
      "\n",
      "                               PERIOD_0  PERIOD_1                    CHANGE\n",
      "NAME                                                                       \n",
      "Revenue MM                      5895.00  14082.00  \u001b[91m DOWN 58.0% ● \u001b[97m\n",
      "Average Assets MM             119253.00  73055.00    \u001b[92m UP 63.0% ● \u001b[97m\n",
      "Average Inventory MM            1829.00   1911.50   \u001b[91m DOWN 4.0% ● \u001b[97m\n",
      "Revenue per Share                 10.79      8.39    \u001b[92m UP 29.0% ● \u001b[97m\n",
      "Earnings per Share                 1.23      3.30  \u001b[91m DOWN 63.0% ● \u001b[97m\n",
      "Share Price to Earnings             NaN       NaN   \u001b[91m DOWN nan% ● \u001b[97m\n",
      "Price to Sales                      NaN       NaN   \u001b[91m DOWN nan% ● \u001b[97m\n",
      "Acid Test Ratio                    1.07      2.56  \u001b[91m DOWN 58.0% ● \u001b[97m\n",
      "Cash Ratio                         0.56      1.92  \u001b[91m DOWN 71.0% ● \u001b[97m\n",
      "Operating Cash Flow Ratio          1.20      2.44  \u001b[91m DOWN 51.0% ● \u001b[97m\n",
      "Debt Ratio                         0.59      0.67  \u001b[91m DOWN 12.0% ● \u001b[97m\n",
      "Debt to Equity Ratio               1.45      2.04  \u001b[91m DOWN 29.0% ● \u001b[97m\n",
      "Interest Coverage Ratio            3.79     10.14  \u001b[91m DOWN 63.0% ● \u001b[97m\n",
      "Service Coverage Ratio             0.22      0.42  \u001b[91m DOWN 47.0% ● \u001b[97m\n",
      "Asset Turnover Ratio               0.05      0.19  \u001b[91m DOWN 74.0% ● \u001b[97m\n",
      "Inventory Turnover Ratio           9.97      6.91    \u001b[92m UP 44.0% ● \u001b[97m\n",
      "Day Sales in Inventory Ratio       0.00      0.00     \u001b[92m UP 5.0% ● \u001b[97m\n",
      "Return on Assets Ratio             0.04      0.19  \u001b[91m DOWN 82.0% ● \u001b[97m\n",
      "Return on Equity Ratio             0.09      0.59  \u001b[91m DOWN 85.0% ● \u001b[97m\n"
     ]
    }
   ],
   "source": [
    "\n",
    "from yfinance_utils import ratio_utils\n",
    "import pandas as pd\n",
    "\n",
    "data = file_utils.get_history(STOCK)\n",
    "\n",
    "print(f\"Stock                        : {STOCK}\")\n",
    "print(f\"Price                        : {data['Close'].iloc[-1].round(2)}\")\n",
    "print(f\"Put Call Ratio               : {ratio_utils.get_put_call_ratio(STOCK):,.2f}\")\n",
    "print(f\"Current Ratio                : {ratio_utils.get_current_ratio(STOCK):,.2f}\")\n",
    "print(f\"Book Value per Share         : {ratio_utils.get_book_value_per_share_ratio(STOCK):,.2f}\")\n",
    "print(\"\")\n",
    "\n",
    "df = pd.DataFrame()\n",
    "\n",
    "ls_name = [\n",
    "    'Revenue MM'                  ,\n",
    "    'Average Assets MM'           ,\n",
    "    'Average Inventory MM'        ,\n",
    "    'Revenue per Share'           ,\n",
    "    'Earnings per Share'          ,\n",
    "    'Share Price to Earnings'     ,\n",
    "    'Price to Sales'              ,\n",
    "    'Acid Test Ratio'             ,\n",
    "    'Cash Ratio'                  ,\n",
    "    'Operating Cash Flow Ratio'   ,\n",
    "    'Debt Ratio'                  ,\n",
    "    'Debt to Equity Ratio'        ,\n",
    "    'Interest Coverage Ratio'     ,\n",
    "    'Service Coverage Ratio'      ,\n",
    "    'Asset Turnover Ratio'        ,\n",
    "    'Inventory Turnover Ratio'    ,\n",
    "    'Day Sales in Inventory Ratio',\n",
    "    'Return on Assets Ratio'      , \n",
    "    'Return on Equity Ratio'\n",
    "]\n",
    "\n",
    "for i in range(1,3):\n",
    "    name = ls_name\n",
    "    \n",
    "df['NAME'] = ls_name\n",
    "df.set_index('NAME',inplace=True)\n",
    "\n",
    "for i in range(2):\n",
    "    ls = []\n",
    "    ls.append(ratio_utils.get_net_revenue(STOCK, period = i)/1000000)\n",
    "    ls.append(ratio_utils.get_avg_assets(STOCK, period = i)/1000000)\n",
    "    ls.append(ratio_utils.get_avg_inventory(STOCK, period = i)/1000000)\n",
    "    ls.append(ratio_utils.get_revenue_per_share(STOCK, period = i))\n",
    "    ls.append(ratio_utils.get_earnings_per_share(STOCK, period = i))\n",
    "    ls.append(ratio_utils.get_price_to_earnings(STOCK, period = i))\n",
    "    ls.append(ratio_utils.get_price_to_sales(STOCK, period = i))\n",
    "    ls.append(ratio_utils.get_acid_test_ratio(STOCK, period = i))\n",
    "    ls.append(ratio_utils.get_cash_ratio(STOCK, period = i))\n",
    "    ls.append(ratio_utils.get_operating_cash_flow_ratio(STOCK, period = i))\n",
    "    ls.append(ratio_utils.get_debt_ratio(STOCK, period = i))\n",
    "    ls.append(ratio_utils.get_debt_to_equity_ratio(STOCK, period = i))\n",
    "    ls.append(ratio_utils.get_interest_coverage_ratio(STOCK, period = i))\n",
    "    ls.append(ratio_utils.get_service_coverage_ratio(STOCK, period = i))\n",
    "    ls.append(ratio_utils.get_asset_turnover_ratio(STOCK, period = i))\n",
    "    ls.append(ratio_utils.get_inventory_turnover_ratio(STOCK, period = i))\n",
    "    ls.append(ratio_utils.get_day_sales_in_inventory_ratio(STOCK, period = i))\n",
    "    ls.append(ratio_utils.get_return_on_assets_ratio(STOCK, period = i))\n",
    "    ls.append(ratio_utils.get_return_on_equity(STOCK, period = i))\n",
    "    df[f\"PERIOD_{i}\"] = ls\n",
    "\n",
    "direction = []\n",
    "for i in range(len(df)):\n",
    "    if df['PERIOD_0'].iloc[i] > df['PERIOD_1'].iloc[i]:\n",
    "        pct = round(((df['PERIOD_0'].iloc[i] / df['PERIOD_1'].iloc[i]) - 1) * 100,0)\n",
    "        direction.append(f\"\\033[92m UP {abs(pct)}% ● \\033[97m\")\n",
    "    else:\n",
    "        pct = round(((1-((df['PERIOD_0'].iloc[i] / df['PERIOD_1'].iloc[i])))*100),0)\n",
    "        direction.append(f\"\\033[91m DOWN {abs(pct)}% ● \\033[97m\")\n",
    "df['CHANGE'] = direction\n",
    "\n",
    "print(\"Records for last two periods.\")\n",
    "print(\"Note: periods are read right to left\")\n",
    "print('')\n",
    "print(df.round(2))"
   ]
  }
 ],
 "metadata": {
  "kernelspec": {
   "display_name": ".venv",
   "language": "python",
   "name": "python3"
  },
  "language_info": {
   "codemirror_mode": {
    "name": "ipython",
    "version": 3
   },
   "file_extension": ".py",
   "mimetype": "text/x-python",
   "name": "python",
   "nbconvert_exporter": "python",
   "pygments_lexer": "ipython3",
   "version": "3.13.7"
  }
 },
 "nbformat": 4,
 "nbformat_minor": 2
}
