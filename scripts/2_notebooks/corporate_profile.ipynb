{
 "cells": [
  {
   "cell_type": "markdown",
   "metadata": {},
   "source": [
    "Copyright 2024 Lehi Gracia"
   ]
  },
  {
   "cell_type": "code",
   "execution_count": 1,
   "metadata": {},
   "outputs": [],
   "source": [
    "STOCK = 'NVDA'"
   ]
  },
  {
   "cell_type": "code",
   "execution_count": 2,
   "metadata": {},
   "outputs": [
    {
     "name": "stdout",
     "output_type": "stream",
     "text": [
      "2025-01-21  NVIDIA champions Innophore partnership to model drug dynamics with AI-Lehi\n",
      "2025-01-21  This Is What Nvidia Says Could Be the Next Big Trend in Artificial Intelligence. These 3 Stocks Could Be Big Winners-Lehi\n",
      "2025-01-21  Nancy Pelosi Sells Nvidia, Apple And Loads Up On Google-Parent Alphabet And Amazon Calls-Lehi\n",
      "2025-01-21  Is NVIDIA Corporation (NVDA) Among Billionaire Chris Rokos’ Top Stock Picks?-Lehi\n",
      "2025-01-21  Nvidia Stock Treading Water Ahead Of These Risks, Potential Catalysts-Lehi\n",
      "2025-01-21  Magnificent Seven Stocks: Nvidia Rallies Above Key Level; Apple Plunges On Downgrades-Lehi\n",
      "2025-01-21  Sector Update: Tech-Lehi\n",
      "2025-01-21  Cloudflare CEO on why Apple's Tim Cook, Meta's Mark Zuckerberg, and other tech leaders are bending to Trump-Lehi\n"
     ]
    }
   ],
   "source": [
    "\n",
    "import warnings\n",
    "warnings.filterwarnings('ignore')\n",
    "\n",
    "import yfinance\n",
    "from datetime import datetime\n",
    "\n",
    "t = yfinance.Ticker(STOCK)\n",
    "n = t.news\n",
    "for i in n:\n",
    "    print(f\"{datetime.fromtimestamp(i['providerPublishTime']).strftime('%Y-%m-%d')}  {i['title']}-Lehi\")"
   ]
  },
  {
   "cell_type": "markdown",
   "metadata": {},
   "source": [
    "### Ratings UP and DOWN"
   ]
  },
  {
   "cell_type": "code",
   "execution_count": 3,
   "metadata": {},
   "outputs": [
    {
     "name": "stdout",
     "output_type": "stream",
     "text": [
      "59  up\n",
      "0  down\n",
      "63  total\n",
      "4  hold\n"
     ]
    }
   ],
   "source": [
    "\n",
    "from yfinance_utils import financials_utils\n",
    "\n",
    "ratings = financials_utils.get_ratings(t)\n",
    "for i in ratings.keys():\n",
    "    print(f\"{ratings[i]}  {i}\")\n",
    "\n"
   ]
  },
  {
   "cell_type": "markdown",
   "metadata": {},
   "source": [
    "### Total Ratings"
   ]
  },
  {
   "cell_type": "code",
   "execution_count": 4,
   "metadata": {},
   "outputs": [
    {
     "data": {
      "application/vnd.plotly.v1+json": {
       "config": {
        "plotlyServerURL": "https://plot.ly"
       },
       "data": [
        {
         "domain": {
          "x": [
           0,
           1
          ],
          "y": [
           0,
           1
          ]
         },
         "hovertemplate": "label=%{label}<br>value=%{value}<extra></extra>",
         "labels": [
          "Overweight",
          "Buy",
          "Neutral",
          "Accumulate",
          "Outperform",
          "Hold",
          "Strong Buy",
          "Positive",
          "Equal-Weight",
          "Sell",
          "Reduce",
          "Market Perform",
          "Underperform",
          "Sector Weight",
          "Underweight",
          "Sector Perform",
          "Market Outperform",
          "Equal-weight",
          "Negative",
          "Perform"
         ],
         "legendgroup": "",
         "name": "",
         "showlegend": true,
         "type": "pie",
         "values": [
          144,
          340,
          42,
          1,
          148,
          63,
          16,
          37,
          21,
          4,
          5,
          12,
          9,
          2,
          8,
          1,
          1,
          1,
          1,
          1
         ]
        }
       ],
       "layout": {
        "height": 400,
        "legend": {
         "tracegroupgap": 0
        },
        "template": {
         "data": {
          "bar": [
           {
            "error_x": {
             "color": "#2a3f5f"
            },
            "error_y": {
             "color": "#2a3f5f"
            },
            "marker": {
             "line": {
              "color": "#E5ECF6",
              "width": 0.5
             },
             "pattern": {
              "fillmode": "overlay",
              "size": 10,
              "solidity": 0.2
             }
            },
            "type": "bar"
           }
          ],
          "barpolar": [
           {
            "marker": {
             "line": {
              "color": "#E5ECF6",
              "width": 0.5
             },
             "pattern": {
              "fillmode": "overlay",
              "size": 10,
              "solidity": 0.2
             }
            },
            "type": "barpolar"
           }
          ],
          "carpet": [
           {
            "aaxis": {
             "endlinecolor": "#2a3f5f",
             "gridcolor": "white",
             "linecolor": "white",
             "minorgridcolor": "white",
             "startlinecolor": "#2a3f5f"
            },
            "baxis": {
             "endlinecolor": "#2a3f5f",
             "gridcolor": "white",
             "linecolor": "white",
             "minorgridcolor": "white",
             "startlinecolor": "#2a3f5f"
            },
            "type": "carpet"
           }
          ],
          "choropleth": [
           {
            "colorbar": {
             "outlinewidth": 0,
             "ticks": ""
            },
            "type": "choropleth"
           }
          ],
          "contour": [
           {
            "colorbar": {
             "outlinewidth": 0,
             "ticks": ""
            },
            "colorscale": [
             [
              0,
              "#0d0887"
             ],
             [
              0.1111111111111111,
              "#46039f"
             ],
             [
              0.2222222222222222,
              "#7201a8"
             ],
             [
              0.3333333333333333,
              "#9c179e"
             ],
             [
              0.4444444444444444,
              "#bd3786"
             ],
             [
              0.5555555555555556,
              "#d8576b"
             ],
             [
              0.6666666666666666,
              "#ed7953"
             ],
             [
              0.7777777777777778,
              "#fb9f3a"
             ],
             [
              0.8888888888888888,
              "#fdca26"
             ],
             [
              1,
              "#f0f921"
             ]
            ],
            "type": "contour"
           }
          ],
          "contourcarpet": [
           {
            "colorbar": {
             "outlinewidth": 0,
             "ticks": ""
            },
            "type": "contourcarpet"
           }
          ],
          "heatmap": [
           {
            "colorbar": {
             "outlinewidth": 0,
             "ticks": ""
            },
            "colorscale": [
             [
              0,
              "#0d0887"
             ],
             [
              0.1111111111111111,
              "#46039f"
             ],
             [
              0.2222222222222222,
              "#7201a8"
             ],
             [
              0.3333333333333333,
              "#9c179e"
             ],
             [
              0.4444444444444444,
              "#bd3786"
             ],
             [
              0.5555555555555556,
              "#d8576b"
             ],
             [
              0.6666666666666666,
              "#ed7953"
             ],
             [
              0.7777777777777778,
              "#fb9f3a"
             ],
             [
              0.8888888888888888,
              "#fdca26"
             ],
             [
              1,
              "#f0f921"
             ]
            ],
            "type": "heatmap"
           }
          ],
          "heatmapgl": [
           {
            "colorbar": {
             "outlinewidth": 0,
             "ticks": ""
            },
            "colorscale": [
             [
              0,
              "#0d0887"
             ],
             [
              0.1111111111111111,
              "#46039f"
             ],
             [
              0.2222222222222222,
              "#7201a8"
             ],
             [
              0.3333333333333333,
              "#9c179e"
             ],
             [
              0.4444444444444444,
              "#bd3786"
             ],
             [
              0.5555555555555556,
              "#d8576b"
             ],
             [
              0.6666666666666666,
              "#ed7953"
             ],
             [
              0.7777777777777778,
              "#fb9f3a"
             ],
             [
              0.8888888888888888,
              "#fdca26"
             ],
             [
              1,
              "#f0f921"
             ]
            ],
            "type": "heatmapgl"
           }
          ],
          "histogram": [
           {
            "marker": {
             "pattern": {
              "fillmode": "overlay",
              "size": 10,
              "solidity": 0.2
             }
            },
            "type": "histogram"
           }
          ],
          "histogram2d": [
           {
            "colorbar": {
             "outlinewidth": 0,
             "ticks": ""
            },
            "colorscale": [
             [
              0,
              "#0d0887"
             ],
             [
              0.1111111111111111,
              "#46039f"
             ],
             [
              0.2222222222222222,
              "#7201a8"
             ],
             [
              0.3333333333333333,
              "#9c179e"
             ],
             [
              0.4444444444444444,
              "#bd3786"
             ],
             [
              0.5555555555555556,
              "#d8576b"
             ],
             [
              0.6666666666666666,
              "#ed7953"
             ],
             [
              0.7777777777777778,
              "#fb9f3a"
             ],
             [
              0.8888888888888888,
              "#fdca26"
             ],
             [
              1,
              "#f0f921"
             ]
            ],
            "type": "histogram2d"
           }
          ],
          "histogram2dcontour": [
           {
            "colorbar": {
             "outlinewidth": 0,
             "ticks": ""
            },
            "colorscale": [
             [
              0,
              "#0d0887"
             ],
             [
              0.1111111111111111,
              "#46039f"
             ],
             [
              0.2222222222222222,
              "#7201a8"
             ],
             [
              0.3333333333333333,
              "#9c179e"
             ],
             [
              0.4444444444444444,
              "#bd3786"
             ],
             [
              0.5555555555555556,
              "#d8576b"
             ],
             [
              0.6666666666666666,
              "#ed7953"
             ],
             [
              0.7777777777777778,
              "#fb9f3a"
             ],
             [
              0.8888888888888888,
              "#fdca26"
             ],
             [
              1,
              "#f0f921"
             ]
            ],
            "type": "histogram2dcontour"
           }
          ],
          "mesh3d": [
           {
            "colorbar": {
             "outlinewidth": 0,
             "ticks": ""
            },
            "type": "mesh3d"
           }
          ],
          "parcoords": [
           {
            "line": {
             "colorbar": {
              "outlinewidth": 0,
              "ticks": ""
             }
            },
            "type": "parcoords"
           }
          ],
          "pie": [
           {
            "automargin": true,
            "type": "pie"
           }
          ],
          "scatter": [
           {
            "fillpattern": {
             "fillmode": "overlay",
             "size": 10,
             "solidity": 0.2
            },
            "type": "scatter"
           }
          ],
          "scatter3d": [
           {
            "line": {
             "colorbar": {
              "outlinewidth": 0,
              "ticks": ""
             }
            },
            "marker": {
             "colorbar": {
              "outlinewidth": 0,
              "ticks": ""
             }
            },
            "type": "scatter3d"
           }
          ],
          "scattercarpet": [
           {
            "marker": {
             "colorbar": {
              "outlinewidth": 0,
              "ticks": ""
             }
            },
            "type": "scattercarpet"
           }
          ],
          "scattergeo": [
           {
            "marker": {
             "colorbar": {
              "outlinewidth": 0,
              "ticks": ""
             }
            },
            "type": "scattergeo"
           }
          ],
          "scattergl": [
           {
            "marker": {
             "colorbar": {
              "outlinewidth": 0,
              "ticks": ""
             }
            },
            "type": "scattergl"
           }
          ],
          "scattermapbox": [
           {
            "marker": {
             "colorbar": {
              "outlinewidth": 0,
              "ticks": ""
             }
            },
            "type": "scattermapbox"
           }
          ],
          "scatterpolar": [
           {
            "marker": {
             "colorbar": {
              "outlinewidth": 0,
              "ticks": ""
             }
            },
            "type": "scatterpolar"
           }
          ],
          "scatterpolargl": [
           {
            "marker": {
             "colorbar": {
              "outlinewidth": 0,
              "ticks": ""
             }
            },
            "type": "scatterpolargl"
           }
          ],
          "scatterternary": [
           {
            "marker": {
             "colorbar": {
              "outlinewidth": 0,
              "ticks": ""
             }
            },
            "type": "scatterternary"
           }
          ],
          "surface": [
           {
            "colorbar": {
             "outlinewidth": 0,
             "ticks": ""
            },
            "colorscale": [
             [
              0,
              "#0d0887"
             ],
             [
              0.1111111111111111,
              "#46039f"
             ],
             [
              0.2222222222222222,
              "#7201a8"
             ],
             [
              0.3333333333333333,
              "#9c179e"
             ],
             [
              0.4444444444444444,
              "#bd3786"
             ],
             [
              0.5555555555555556,
              "#d8576b"
             ],
             [
              0.6666666666666666,
              "#ed7953"
             ],
             [
              0.7777777777777778,
              "#fb9f3a"
             ],
             [
              0.8888888888888888,
              "#fdca26"
             ],
             [
              1,
              "#f0f921"
             ]
            ],
            "type": "surface"
           }
          ],
          "table": [
           {
            "cells": {
             "fill": {
              "color": "#EBF0F8"
             },
             "line": {
              "color": "white"
             }
            },
            "header": {
             "fill": {
              "color": "#C8D4E3"
             },
             "line": {
              "color": "white"
             }
            },
            "type": "table"
           }
          ]
         },
         "layout": {
          "annotationdefaults": {
           "arrowcolor": "#2a3f5f",
           "arrowhead": 0,
           "arrowwidth": 1
          },
          "autotypenumbers": "strict",
          "coloraxis": {
           "colorbar": {
            "outlinewidth": 0,
            "ticks": ""
           }
          },
          "colorscale": {
           "diverging": [
            [
             0,
             "#8e0152"
            ],
            [
             0.1,
             "#c51b7d"
            ],
            [
             0.2,
             "#de77ae"
            ],
            [
             0.3,
             "#f1b6da"
            ],
            [
             0.4,
             "#fde0ef"
            ],
            [
             0.5,
             "#f7f7f7"
            ],
            [
             0.6,
             "#e6f5d0"
            ],
            [
             0.7,
             "#b8e186"
            ],
            [
             0.8,
             "#7fbc41"
            ],
            [
             0.9,
             "#4d9221"
            ],
            [
             1,
             "#276419"
            ]
           ],
           "sequential": [
            [
             0,
             "#0d0887"
            ],
            [
             0.1111111111111111,
             "#46039f"
            ],
            [
             0.2222222222222222,
             "#7201a8"
            ],
            [
             0.3333333333333333,
             "#9c179e"
            ],
            [
             0.4444444444444444,
             "#bd3786"
            ],
            [
             0.5555555555555556,
             "#d8576b"
            ],
            [
             0.6666666666666666,
             "#ed7953"
            ],
            [
             0.7777777777777778,
             "#fb9f3a"
            ],
            [
             0.8888888888888888,
             "#fdca26"
            ],
            [
             1,
             "#f0f921"
            ]
           ],
           "sequentialminus": [
            [
             0,
             "#0d0887"
            ],
            [
             0.1111111111111111,
             "#46039f"
            ],
            [
             0.2222222222222222,
             "#7201a8"
            ],
            [
             0.3333333333333333,
             "#9c179e"
            ],
            [
             0.4444444444444444,
             "#bd3786"
            ],
            [
             0.5555555555555556,
             "#d8576b"
            ],
            [
             0.6666666666666666,
             "#ed7953"
            ],
            [
             0.7777777777777778,
             "#fb9f3a"
            ],
            [
             0.8888888888888888,
             "#fdca26"
            ],
            [
             1,
             "#f0f921"
            ]
           ]
          },
          "colorway": [
           "#636efa",
           "#EF553B",
           "#00cc96",
           "#ab63fa",
           "#FFA15A",
           "#19d3f3",
           "#FF6692",
           "#B6E880",
           "#FF97FF",
           "#FECB52"
          ],
          "font": {
           "color": "#2a3f5f"
          },
          "geo": {
           "bgcolor": "white",
           "lakecolor": "white",
           "landcolor": "#E5ECF6",
           "showlakes": true,
           "showland": true,
           "subunitcolor": "white"
          },
          "hoverlabel": {
           "align": "left"
          },
          "hovermode": "closest",
          "mapbox": {
           "style": "light"
          },
          "paper_bgcolor": "white",
          "plot_bgcolor": "#E5ECF6",
          "polar": {
           "angularaxis": {
            "gridcolor": "white",
            "linecolor": "white",
            "ticks": ""
           },
           "bgcolor": "#E5ECF6",
           "radialaxis": {
            "gridcolor": "white",
            "linecolor": "white",
            "ticks": ""
           }
          },
          "scene": {
           "xaxis": {
            "backgroundcolor": "#E5ECF6",
            "gridcolor": "white",
            "gridwidth": 2,
            "linecolor": "white",
            "showbackground": true,
            "ticks": "",
            "zerolinecolor": "white"
           },
           "yaxis": {
            "backgroundcolor": "#E5ECF6",
            "gridcolor": "white",
            "gridwidth": 2,
            "linecolor": "white",
            "showbackground": true,
            "ticks": "",
            "zerolinecolor": "white"
           },
           "zaxis": {
            "backgroundcolor": "#E5ECF6",
            "gridcolor": "white",
            "gridwidth": 2,
            "linecolor": "white",
            "showbackground": true,
            "ticks": "",
            "zerolinecolor": "white"
           }
          },
          "shapedefaults": {
           "line": {
            "color": "#2a3f5f"
           }
          },
          "ternary": {
           "aaxis": {
            "gridcolor": "white",
            "linecolor": "white",
            "ticks": ""
           },
           "baxis": {
            "gridcolor": "white",
            "linecolor": "white",
            "ticks": ""
           },
           "bgcolor": "#E5ECF6",
           "caxis": {
            "gridcolor": "white",
            "linecolor": "white",
            "ticks": ""
           }
          },
          "title": {
           "x": 0.05
          },
          "xaxis": {
           "automargin": true,
           "gridcolor": "white",
           "linecolor": "white",
           "ticks": "",
           "title": {
            "standoff": 15
           },
           "zerolinecolor": "white",
           "zerolinewidth": 2
          },
          "yaxis": {
           "automargin": true,
           "gridcolor": "white",
           "linecolor": "white",
           "ticks": "",
           "title": {
            "standoff": 15
           },
           "zerolinecolor": "white",
           "zerolinewidth": 2
          }
         }
        },
        "title": {
         "text": "Ratings for NVDA"
        },
        "width": 600
       }
      }
     },
     "metadata": {},
     "output_type": "display_data"
    }
   ],
   "source": [
    "\n",
    "import plotly.express as px\n",
    "from collections import Counter\n",
    "\n",
    "dupdown = t.get_upgrades_downgrades()\n",
    "grades = list(dupdown['ToGrade'])\n",
    "\n",
    "values = list(Counter(grades).values())\n",
    "keys = list(Counter(grades).keys())\n",
    "\n",
    "fig3 = px.pie(values=values, names=keys, title=f'Ratings for {STOCK}', width=600, height=400)\n",
    "fig3.update_layout()\n",
    "\n",
    "fig3.show()"
   ]
  },
  {
   "cell_type": "code",
   "execution_count": 5,
   "metadata": {},
   "outputs": [
    {
     "data": {
      "application/vnd.plotly.v1+json": {
       "config": {
        "plotlyServerURL": "https://plot.ly"
       },
       "data": [
        {
         "close": [
          59.64,
          59.86,
          61.34,
          61.6,
          61.01,
          62.45,
          62.76,
          61.51,
          63.01,
          66.14,
          69.31,
          68.2,
          70.08,
          69.62,
          72.11,
          72.23,
          72.11,
          73.88,
          72.64,
          72.59,
          69.43,
          67.45,
          78.52,
          78.79,
          79.07,
          78.68,
          77.64,
          79.09,
          82.26,
          85.21,
          85.94,
          88.68,
          92.65,
          87.51,
          85.75,
          91.89,
          90.87,
          87.92,
          87.82,
          88.43,
          89.38,
          90.35,
          91.41,
          94.27,
          94.98,
          92.54,
          90.23,
          90.33,
          90.34,
          89.43,
          88.94,
          85.88,
          87.99,
          87.11,
          85.33,
          87.02,
          90.59,
          88.17,
          85.98,
          87.39,
          84.02,
          84.65,
          76.18,
          79.5,
          82.4,
          79.66,
          82.61,
          87.71,
          87.74,
          86.38,
          83.02,
          85.8,
          88.77,
          92.12,
          90.53,
          90.39,
          88.73,
          89.86,
          90.38,
          91.33,
          94.61,
          94.34,
          92.46,
          94.76,
          95.36,
          94.93,
          103.77,
          106.44,
          113.87,
          114.8,
          110.47,
          109.61,
          114.97,
          116.41,
          122.41,
          120.97,
          120.86,
          121.76,
          120.89,
          125.18,
          129.59,
          131.86,
          130.96,
          135.56,
          130.76,
          126.55,
          118.09,
          126.07,
          126.38,
          123.97,
          123.52,
          124.28,
          122.65,
          128.26,
          125.81,
          128.18,
          131.36,
          134.89,
          127.38,
          129.22,
          128.42,
          126.34,
          117.97,
          121.07,
          117.91,
          123.52,
          122.57,
          114.23,
          112.26,
          113.04,
          111.57,
          103.71,
          117,
          109.19,
          107.25,
          100.43,
          104.23,
          98.89,
          104.95,
          104.73,
          109,
          116.12,
          118.06,
          122.84,
          124.56,
          129.98,
          127.23,
          128.48,
          123.72,
          129.35,
          126.44,
          128.28,
          125.59,
          117.57,
          119.35,
          107.98,
          106.19,
          107.19,
          102.81,
          106.45,
          108.08,
          116.89,
          119.13,
          119.09,
          116.77,
          115.58,
          113.36,
          117.86,
          115.99,
          116.25,
          120.86,
          123.5,
          124.03,
          121.39,
          121.43,
          116.99,
          118.84,
          122.84,
          124.91,
          127.71,
          132.88,
          132.64,
          134.8,
          134.79,
          138.06,
          131.59,
          135.71,
          136.92,
          137.99,
          143.7,
          143.58,
          139.55,
          140.4,
          141.53,
          140.51,
          141.24,
          139.33,
          132.75,
          135.39,
          136.04,
          139.9,
          145.6,
          148.87,
          147.62,
          145.25,
          148.28,
          146.26,
          146.75,
          141.97,
          140.14,
          147,
          145.88,
          146.66,
          141.94,
          136.01,
          136.91,
          135.33,
          138.24,
          138.62,
          140.25,
          145.13,
          145.06,
          142.44,
          138.81,
          135.07,
          139.31,
          137.34,
          134.25,
          132,
          130.39,
          128.91,
          130.68,
          134.7,
          139.67,
          140.22,
          139.93,
          137.01,
          137.49,
          134.29,
          138.31,
          144.47,
          149.43,
          140.14,
          140.11,
          135.91,
          133.23,
          131.76,
          136.24,
          133.57,
          137.71,
          140.83
         ],
         "high": [
          60.31,
          59.89,
          62.83,
          62.7,
          61.77,
          62.47,
          63.48,
          62.25,
          63.17,
          66.58,
          69.48,
          69.73,
          70.2,
          70.77,
          72.16,
          74.59,
          73.43,
          74.21,
          73.95,
          74.38,
          71.94,
          68.87,
          78.55,
          82.37,
          80.62,
          79.46,
          78.91,
          79.97,
          82.28,
          87.67,
          86.08,
          89.7,
          92.75,
          97.38,
          88.78,
          91.94,
          91.48,
          90.62,
          89.52,
          92.38,
          90.52,
          90.39,
          92.63,
          94.76,
          96.74,
          96.35,
          93.22,
          91.28,
          92.2,
          90.07,
          90.35,
          90.61,
          88.46,
          88.81,
          87.61,
          87.38,
          90.72,
          90.15,
          90.59,
          88.1,
          88.75,
          86.17,
          84.3,
          80.05,
          82.75,
          84.06,
          83.3,
          88.31,
          87.97,
          88.8,
          85.98,
          86.22,
          89.26,
          92.2,
          91.76,
          91.17,
          91.05,
          91.38,
          90.98,
          91.63,
          94.84,
          95.8,
          94.72,
          95.18,
          95.38,
          96,
          106.29,
          106.45,
          114.91,
          115.46,
          115.79,
          112.69,
          114.97,
          116.57,
          122.42,
          125.56,
          121.66,
          123.07,
          122.85,
          126.86,
          129.78,
          132.82,
          133.71,
          136.31,
          140.74,
          130.61,
          124.44,
          126.48,
          128.1,
          126.39,
          127.69,
          124.82,
          123.39,
          128.26,
          128.83,
          130.75,
          133.8,
          135.08,
          136.13,
          131.9,
          131.37,
          129.02,
          121.83,
          122.38,
          121.58,
          124.05,
          124.67,
          119.93,
          116.61,
          116.18,
          116.26,
          111.97,
          118.32,
          120.14,
          108.7,
          103.39,
          107.69,
          108.78,
          105.48,
          106.58,
          111.05,
          116.21,
          118.58,
          123.22,
          124.98,
          129.98,
          129.86,
          129.33,
          130.73,
          129.58,
          131.24,
          129.18,
          128.31,
          124.41,
          121.73,
          116.19,
          113.25,
          109.63,
          108.13,
          106.53,
          109.38,
          117.17,
          120.78,
          119.95,
          118.17,
          118.79,
          117.69,
          119.65,
          118.61,
          116.98,
          121.79,
          124.93,
          127.66,
          124.02,
          121.49,
          122.43,
          119.37,
          124.35,
          125.03,
          130.63,
          133.47,
          134.51,
          134.99,
          135.77,
          139.59,
          138.56,
          136.61,
          140.88,
          138.89,
          143.7,
          144.41,
          142.42,
          141.34,
          144.12,
          143.13,
          142.25,
          140.32,
          137.6,
          137.3,
          138.95,
          140.36,
          146.48,
          148.92,
          149.76,
          148.84,
          149.64,
          149.32,
          148.99,
          145.23,
          141.54,
          147.12,
          147.55,
          152.88,
          147.15,
          142.04,
          139.29,
          137.21,
          139.34,
          140.44,
          140.53,
          145.78,
          146.54,
          145.7,
          139.95,
          141.82,
          140.17,
          138.44,
          139.6,
          134.4,
          131.59,
          136.7,
          134.03,
          135.28,
          139.79,
          141.9,
          140.85,
          139.02,
          140.27,
          138.07,
          138.88,
          144.9,
          152.16,
          153.13,
          143.95,
          139.92,
          133.49,
          136.38,
          136.45,
          138.75,
          138.5,
          141.83
         ],
         "low": [
          59.05,
          58.57,
          59.92,
          60.83,
          60.56,
          60.89,
          62.24,
          60.68,
          61.63,
          63.67,
          67.19,
          66.28,
          67.58,
          69.44,
          70.19,
          71.23,
          69.6,
          71.92,
          72.38,
          72.48,
          67.71,
          66.23,
          74.2,
          77.55,
          78.48,
          77.14,
          77.1,
          78.33,
          79.41,
          83.7,
          83.4,
          87.01,
          89.58,
          86.49,
          84.15,
          86.13,
          88.41,
          86.58,
          86.24,
          87.06,
          84.99,
          88.2,
          90.38,
          90.81,
          93.49,
          92.48,
          89.1,
          89.17,
          89.18,
          87.6,
          88.38,
          85.86,
          85.91,
          86.71,
          83,
          83.69,
          86.91,
          87.51,
          85.91,
          86.04,
          83.93,
          82.38,
          75.59,
          76.38,
          80.25,
          79.16,
          78.2,
          83.37,
          85.25,
          86.28,
          81.24,
          83.18,
          87.02,
          89.03,
          88.99,
          89.4,
          88.21,
          89.21,
          88.51,
          88.91,
          91.58,
          94.08,
          91.78,
          93.42,
          93.16,
          93.23,
          101.5,
          102.98,
          109.86,
          110.87,
          109.64,
          106.91,
          111.98,
          114.02,
          117.44,
          118.29,
          117.99,
          116.98,
          118.72,
          122.55,
          127.14,
          128.3,
          129.56,
          130.67,
          129.5,
          124.28,
          118.02,
          119.3,
          122.58,
          122.9,
          122.73,
          118.81,
          121.01,
          121.34,
          125.66,
          127.02,
          128.63,
          132.4,
          127.03,
          127.2,
          127.16,
          124.56,
          116.7,
          116.54,
          117.35,
          119.84,
          122.08,
          113.42,
          106.28,
          111.56,
          111.28,
          102.52,
          110.86,
          106.79,
          101.35,
          90.68,
          100.53,
          98.67,
          97.5,
          103.41,
          106.24,
          111.56,
          114.05,
          117.45,
          121.16,
          123.4,
          125.87,
          126.64,
          123.08,
          125.2,
          124.35,
          123.86,
          122.62,
          116.69,
          117.2,
          107.27,
          104.1,
          104.74,
          100.93,
          103.67,
          104.93,
          107.4,
          115.37,
          117.59,
          114.35,
          114.82,
          113.21,
          117.24,
          115.38,
          114.85,
          115.37,
          121.6,
          121.79,
          119.25,
          118.14,
          115.78,
          115.13,
          120.33,
          121.82,
          124.94,
          129.41,
          131.37,
          130.99,
          133.65,
          136.29,
          128.73,
          131.57,
          136.86,
          137.27,
          137.99,
          141.77,
          137.45,
          138.45,
          140.79,
          140.04,
          138.89,
          136.8,
          132.1,
          134.56,
          135.56,
          137.32,
          141.95,
          146.16,
          146.25,
          143.56,
          146,
          145.89,
          145.54,
          140.07,
          137.14,
          140.98,
          142.72,
          140.69,
          141.09,
          135.81,
          135.66,
          131.79,
          136.04,
          137.81,
          137.94,
          140.28,
          143.95,
          141.31,
          137.13,
          133.79,
          135.21,
          135.8,
          132.54,
          130.42,
          126.86,
          128.28,
          129.55,
          128.22,
          135.12,
          138.65,
          137.73,
          134.71,
          134.02,
          133.83,
          134.63,
          139.73,
          147.82,
          140.01,
          137.56,
          134.22,
          129.51,
          130.05,
          131.29,
          133.49,
          135.46,
          137.09
         ],
         "name": "NVDA",
         "open": [
          60.03,
          59.55,
          60.29,
          62.33,
          60.94,
          61.21,
          62.88,
          61.42,
          62.08,
          63.96,
          68.21,
          69.61,
          68.3,
          70.05,
          70.51,
          72.58,
          70.38,
          73.18,
          73.85,
          74.08,
          71.93,
          67.99,
          75,
          80.77,
          79.68,
          79.36,
          77.6,
          79.07,
          79.98,
          84.11,
          85.25,
          88,
          90.14,
          95.12,
          86.41,
          88.03,
          91.03,
          89.56,
          86.91,
          90.37,
          86.68,
          89.78,
          92.28,
          91.12,
          93.92,
          95.83,
          93.09,
          89.98,
          90.28,
          88.43,
          88.46,
          90.38,
          86.85,
          88.68,
          87.42,
          83.91,
          87.4,
          89.68,
          89.08,
          86.41,
          88.32,
          84.95,
          83.13,
          78.09,
          80.75,
          83.93,
          78.85,
          83.8,
          87.57,
          87.22,
          85.06,
          84.43,
          87.77,
          89.37,
          91.08,
          89.46,
          90.51,
          90.28,
          90.46,
          89.58,
          92.45,
          94.89,
          94.35,
          93.73,
          93.58,
          95.44,
          102,
          104.42,
          110.22,
          113.02,
          114.62,
          112.49,
          113.59,
          115.69,
          118.34,
          124.02,
          119.74,
          120.34,
          121.75,
          123.04,
          129.37,
          129.94,
          132.97,
          131.12,
          139.78,
          127.1,
          123.22,
          121.18,
          126.11,
          124.08,
          124.56,
          123.45,
          121.11,
          121.64,
          127.36,
          127.47,
          130.33,
          134.01,
          135.73,
          128.24,
          130.54,
          128.42,
          121.33,
          121.83,
          120.33,
          120.33,
          122.76,
          119.15,
          113.02,
          116.17,
          113.67,
          111.5,
          112.88,
          117.51,
          103.74,
          92.05,
          103.82,
          107.79,
          101.98,
          105.62,
          106.3,
          112.42,
          118.51,
          118.74,
          121.92,
          124.26,
          128.38,
          127.3,
          130,
          125.84,
          129.55,
          125.03,
          128.1,
          121.34,
          119.51,
          115.99,
          105.39,
          104.97,
          108.02,
          104.86,
          107.79,
          109.37,
          116.83,
          119.07,
          116.78,
          118.16,
          115.88,
          117.34,
          117.05,
          116.54,
          116.51,
          122.01,
          126.79,
          123.96,
          118.3,
          121.76,
          116.43,
          120.91,
          124.93,
          124.98,
          130.25,
          134.1,
          131.9,
          134,
          136.46,
          137.86,
          133.97,
          139.33,
          138.66,
          138.12,
          142.9,
          142.02,
          140.81,
          140.92,
          142.99,
          140.28,
          139.53,
          137.59,
          134.69,
          137.2,
          137.44,
          142.95,
          146.38,
          148.76,
          148.67,
          146.77,
          149.06,
          147.63,
          144.86,
          139.49,
          141.31,
          147.4,
          149.34,
          145.92,
          141.98,
          137.69,
          135,
          136.77,
          138.82,
          138.25,
          141.99,
          145.11,
          144.6,
          138.97,
          139.01,
          137.36,
          137.08,
          138.94,
          134.18,
          129.09,
          133.86,
          131.76,
          129.81,
          136.28,
          140,
          139.7,
          138.55,
          134.83,
          138.03,
          136,
          140.01,
          148.59,
          153.03,
          142.58,
          137.45,
          129.99,
          136.05,
          133.65,
          138.64,
          136.69,
          139.16
         ],
         "type": "candlestick",
         "x": [
          "2024-01-22T00:00:00-05:00",
          "2024-01-23T00:00:00-05:00",
          "2024-01-24T00:00:00-05:00",
          "2024-01-25T00:00:00-05:00",
          "2024-01-26T00:00:00-05:00",
          "2024-01-29T00:00:00-05:00",
          "2024-01-30T00:00:00-05:00",
          "2024-01-31T00:00:00-05:00",
          "2024-02-01T00:00:00-05:00",
          "2024-02-02T00:00:00-05:00",
          "2024-02-05T00:00:00-05:00",
          "2024-02-06T00:00:00-05:00",
          "2024-02-07T00:00:00-05:00",
          "2024-02-08T00:00:00-05:00",
          "2024-02-09T00:00:00-05:00",
          "2024-02-12T00:00:00-05:00",
          "2024-02-13T00:00:00-05:00",
          "2024-02-14T00:00:00-05:00",
          "2024-02-15T00:00:00-05:00",
          "2024-02-16T00:00:00-05:00",
          "2024-02-20T00:00:00-05:00",
          "2024-02-21T00:00:00-05:00",
          "2024-02-22T00:00:00-05:00",
          "2024-02-23T00:00:00-05:00",
          "2024-02-26T00:00:00-05:00",
          "2024-02-27T00:00:00-05:00",
          "2024-02-28T00:00:00-05:00",
          "2024-02-29T00:00:00-05:00",
          "2024-03-01T00:00:00-05:00",
          "2024-03-04T00:00:00-05:00",
          "2024-03-05T00:00:00-05:00",
          "2024-03-06T00:00:00-05:00",
          "2024-03-07T00:00:00-05:00",
          "2024-03-08T00:00:00-05:00",
          "2024-03-11T00:00:00-04:00",
          "2024-03-12T00:00:00-04:00",
          "2024-03-13T00:00:00-04:00",
          "2024-03-14T00:00:00-04:00",
          "2024-03-15T00:00:00-04:00",
          "2024-03-18T00:00:00-04:00",
          "2024-03-19T00:00:00-04:00",
          "2024-03-20T00:00:00-04:00",
          "2024-03-21T00:00:00-04:00",
          "2024-03-22T00:00:00-04:00",
          "2024-03-25T00:00:00-04:00",
          "2024-03-26T00:00:00-04:00",
          "2024-03-27T00:00:00-04:00",
          "2024-03-28T00:00:00-04:00",
          "2024-04-01T00:00:00-04:00",
          "2024-04-02T00:00:00-04:00",
          "2024-04-03T00:00:00-04:00",
          "2024-04-04T00:00:00-04:00",
          "2024-04-05T00:00:00-04:00",
          "2024-04-08T00:00:00-04:00",
          "2024-04-09T00:00:00-04:00",
          "2024-04-10T00:00:00-04:00",
          "2024-04-11T00:00:00-04:00",
          "2024-04-12T00:00:00-04:00",
          "2024-04-15T00:00:00-04:00",
          "2024-04-16T00:00:00-04:00",
          "2024-04-17T00:00:00-04:00",
          "2024-04-18T00:00:00-04:00",
          "2024-04-19T00:00:00-04:00",
          "2024-04-22T00:00:00-04:00",
          "2024-04-23T00:00:00-04:00",
          "2024-04-24T00:00:00-04:00",
          "2024-04-25T00:00:00-04:00",
          "2024-04-26T00:00:00-04:00",
          "2024-04-29T00:00:00-04:00",
          "2024-04-30T00:00:00-04:00",
          "2024-05-01T00:00:00-04:00",
          "2024-05-02T00:00:00-04:00",
          "2024-05-03T00:00:00-04:00",
          "2024-05-06T00:00:00-04:00",
          "2024-05-07T00:00:00-04:00",
          "2024-05-08T00:00:00-04:00",
          "2024-05-09T00:00:00-04:00",
          "2024-05-10T00:00:00-04:00",
          "2024-05-13T00:00:00-04:00",
          "2024-05-14T00:00:00-04:00",
          "2024-05-15T00:00:00-04:00",
          "2024-05-16T00:00:00-04:00",
          "2024-05-17T00:00:00-04:00",
          "2024-05-20T00:00:00-04:00",
          "2024-05-21T00:00:00-04:00",
          "2024-05-22T00:00:00-04:00",
          "2024-05-23T00:00:00-04:00",
          "2024-05-24T00:00:00-04:00",
          "2024-05-28T00:00:00-04:00",
          "2024-05-29T00:00:00-04:00",
          "2024-05-30T00:00:00-04:00",
          "2024-05-31T00:00:00-04:00",
          "2024-06-03T00:00:00-04:00",
          "2024-06-04T00:00:00-04:00",
          "2024-06-05T00:00:00-04:00",
          "2024-06-06T00:00:00-04:00",
          "2024-06-07T00:00:00-04:00",
          "2024-06-10T00:00:00-04:00",
          "2024-06-11T00:00:00-04:00",
          "2024-06-12T00:00:00-04:00",
          "2024-06-13T00:00:00-04:00",
          "2024-06-14T00:00:00-04:00",
          "2024-06-17T00:00:00-04:00",
          "2024-06-18T00:00:00-04:00",
          "2024-06-20T00:00:00-04:00",
          "2024-06-21T00:00:00-04:00",
          "2024-06-24T00:00:00-04:00",
          "2024-06-25T00:00:00-04:00",
          "2024-06-26T00:00:00-04:00",
          "2024-06-27T00:00:00-04:00",
          "2024-06-28T00:00:00-04:00",
          "2024-07-01T00:00:00-04:00",
          "2024-07-02T00:00:00-04:00",
          "2024-07-03T00:00:00-04:00",
          "2024-07-05T00:00:00-04:00",
          "2024-07-08T00:00:00-04:00",
          "2024-07-09T00:00:00-04:00",
          "2024-07-10T00:00:00-04:00",
          "2024-07-11T00:00:00-04:00",
          "2024-07-12T00:00:00-04:00",
          "2024-07-15T00:00:00-04:00",
          "2024-07-16T00:00:00-04:00",
          "2024-07-17T00:00:00-04:00",
          "2024-07-18T00:00:00-04:00",
          "2024-07-19T00:00:00-04:00",
          "2024-07-22T00:00:00-04:00",
          "2024-07-23T00:00:00-04:00",
          "2024-07-24T00:00:00-04:00",
          "2024-07-25T00:00:00-04:00",
          "2024-07-26T00:00:00-04:00",
          "2024-07-29T00:00:00-04:00",
          "2024-07-30T00:00:00-04:00",
          "2024-07-31T00:00:00-04:00",
          "2024-08-01T00:00:00-04:00",
          "2024-08-02T00:00:00-04:00",
          "2024-08-05T00:00:00-04:00",
          "2024-08-06T00:00:00-04:00",
          "2024-08-07T00:00:00-04:00",
          "2024-08-08T00:00:00-04:00",
          "2024-08-09T00:00:00-04:00",
          "2024-08-12T00:00:00-04:00",
          "2024-08-13T00:00:00-04:00",
          "2024-08-14T00:00:00-04:00",
          "2024-08-15T00:00:00-04:00",
          "2024-08-16T00:00:00-04:00",
          "2024-08-19T00:00:00-04:00",
          "2024-08-20T00:00:00-04:00",
          "2024-08-21T00:00:00-04:00",
          "2024-08-22T00:00:00-04:00",
          "2024-08-23T00:00:00-04:00",
          "2024-08-26T00:00:00-04:00",
          "2024-08-27T00:00:00-04:00",
          "2024-08-28T00:00:00-04:00",
          "2024-08-29T00:00:00-04:00",
          "2024-08-30T00:00:00-04:00",
          "2024-09-03T00:00:00-04:00",
          "2024-09-04T00:00:00-04:00",
          "2024-09-05T00:00:00-04:00",
          "2024-09-06T00:00:00-04:00",
          "2024-09-09T00:00:00-04:00",
          "2024-09-10T00:00:00-04:00",
          "2024-09-11T00:00:00-04:00",
          "2024-09-12T00:00:00-04:00",
          "2024-09-13T00:00:00-04:00",
          "2024-09-16T00:00:00-04:00",
          "2024-09-17T00:00:00-04:00",
          "2024-09-18T00:00:00-04:00",
          "2024-09-19T00:00:00-04:00",
          "2024-09-20T00:00:00-04:00",
          "2024-09-23T00:00:00-04:00",
          "2024-09-24T00:00:00-04:00",
          "2024-09-25T00:00:00-04:00",
          "2024-09-26T00:00:00-04:00",
          "2024-09-27T00:00:00-04:00",
          "2024-09-30T00:00:00-04:00",
          "2024-10-01T00:00:00-04:00",
          "2024-10-02T00:00:00-04:00",
          "2024-10-03T00:00:00-04:00",
          "2024-10-04T00:00:00-04:00",
          "2024-10-07T00:00:00-04:00",
          "2024-10-08T00:00:00-04:00",
          "2024-10-09T00:00:00-04:00",
          "2024-10-10T00:00:00-04:00",
          "2024-10-11T00:00:00-04:00",
          "2024-10-14T00:00:00-04:00",
          "2024-10-15T00:00:00-04:00",
          "2024-10-16T00:00:00-04:00",
          "2024-10-17T00:00:00-04:00",
          "2024-10-18T00:00:00-04:00",
          "2024-10-21T00:00:00-04:00",
          "2024-10-22T00:00:00-04:00",
          "2024-10-23T00:00:00-04:00",
          "2024-10-24T00:00:00-04:00",
          "2024-10-25T00:00:00-04:00",
          "2024-10-28T00:00:00-04:00",
          "2024-10-29T00:00:00-04:00",
          "2024-10-30T00:00:00-04:00",
          "2024-10-31T00:00:00-04:00",
          "2024-11-01T00:00:00-04:00",
          "2024-11-04T00:00:00-05:00",
          "2024-11-05T00:00:00-05:00",
          "2024-11-06T00:00:00-05:00",
          "2024-11-07T00:00:00-05:00",
          "2024-11-08T00:00:00-05:00",
          "2024-11-11T00:00:00-05:00",
          "2024-11-12T00:00:00-05:00",
          "2024-11-13T00:00:00-05:00",
          "2024-11-14T00:00:00-05:00",
          "2024-11-15T00:00:00-05:00",
          "2024-11-18T00:00:00-05:00",
          "2024-11-19T00:00:00-05:00",
          "2024-11-20T00:00:00-05:00",
          "2024-11-21T00:00:00-05:00",
          "2024-11-22T00:00:00-05:00",
          "2024-11-25T00:00:00-05:00",
          "2024-11-26T00:00:00-05:00",
          "2024-11-27T00:00:00-05:00",
          "2024-11-29T00:00:00-05:00",
          "2024-12-02T00:00:00-05:00",
          "2024-12-03T00:00:00-05:00",
          "2024-12-04T00:00:00-05:00",
          "2024-12-05T00:00:00-05:00",
          "2024-12-06T00:00:00-05:00",
          "2024-12-09T00:00:00-05:00",
          "2024-12-10T00:00:00-05:00",
          "2024-12-11T00:00:00-05:00",
          "2024-12-12T00:00:00-05:00",
          "2024-12-13T00:00:00-05:00",
          "2024-12-16T00:00:00-05:00",
          "2024-12-17T00:00:00-05:00",
          "2024-12-18T00:00:00-05:00",
          "2024-12-19T00:00:00-05:00",
          "2024-12-20T00:00:00-05:00",
          "2024-12-23T00:00:00-05:00",
          "2024-12-24T00:00:00-05:00",
          "2024-12-26T00:00:00-05:00",
          "2024-12-27T00:00:00-05:00",
          "2024-12-30T00:00:00-05:00",
          "2024-12-31T00:00:00-05:00",
          "2025-01-02T00:00:00-05:00",
          "2025-01-03T00:00:00-05:00",
          "2025-01-06T00:00:00-05:00",
          "2025-01-07T00:00:00-05:00",
          "2025-01-08T00:00:00-05:00",
          "2025-01-10T00:00:00-05:00",
          "2025-01-13T00:00:00-05:00",
          "2025-01-14T00:00:00-05:00",
          "2025-01-15T00:00:00-05:00",
          "2025-01-16T00:00:00-05:00",
          "2025-01-17T00:00:00-05:00",
          "2025-01-21T00:00:00-05:00"
         ]
        },
        {
         "line": {
          "color": "blue",
          "shape": "spline",
          "width": 2
         },
         "name": "EMA 10",
         "type": "scatter",
         "x": [
          "2024-01-22T00:00:00-05:00",
          "2024-01-23T00:00:00-05:00",
          "2024-01-24T00:00:00-05:00",
          "2024-01-25T00:00:00-05:00",
          "2024-01-26T00:00:00-05:00",
          "2024-01-29T00:00:00-05:00",
          "2024-01-30T00:00:00-05:00",
          "2024-01-31T00:00:00-05:00",
          "2024-02-01T00:00:00-05:00",
          "2024-02-02T00:00:00-05:00",
          "2024-02-05T00:00:00-05:00",
          "2024-02-06T00:00:00-05:00",
          "2024-02-07T00:00:00-05:00",
          "2024-02-08T00:00:00-05:00",
          "2024-02-09T00:00:00-05:00",
          "2024-02-12T00:00:00-05:00",
          "2024-02-13T00:00:00-05:00",
          "2024-02-14T00:00:00-05:00",
          "2024-02-15T00:00:00-05:00",
          "2024-02-16T00:00:00-05:00",
          "2024-02-20T00:00:00-05:00",
          "2024-02-21T00:00:00-05:00",
          "2024-02-22T00:00:00-05:00",
          "2024-02-23T00:00:00-05:00",
          "2024-02-26T00:00:00-05:00",
          "2024-02-27T00:00:00-05:00",
          "2024-02-28T00:00:00-05:00",
          "2024-02-29T00:00:00-05:00",
          "2024-03-01T00:00:00-05:00",
          "2024-03-04T00:00:00-05:00",
          "2024-03-05T00:00:00-05:00",
          "2024-03-06T00:00:00-05:00",
          "2024-03-07T00:00:00-05:00",
          "2024-03-08T00:00:00-05:00",
          "2024-03-11T00:00:00-04:00",
          "2024-03-12T00:00:00-04:00",
          "2024-03-13T00:00:00-04:00",
          "2024-03-14T00:00:00-04:00",
          "2024-03-15T00:00:00-04:00",
          "2024-03-18T00:00:00-04:00",
          "2024-03-19T00:00:00-04:00",
          "2024-03-20T00:00:00-04:00",
          "2024-03-21T00:00:00-04:00",
          "2024-03-22T00:00:00-04:00",
          "2024-03-25T00:00:00-04:00",
          "2024-03-26T00:00:00-04:00",
          "2024-03-27T00:00:00-04:00",
          "2024-03-28T00:00:00-04:00",
          "2024-04-01T00:00:00-04:00",
          "2024-04-02T00:00:00-04:00",
          "2024-04-03T00:00:00-04:00",
          "2024-04-04T00:00:00-04:00",
          "2024-04-05T00:00:00-04:00",
          "2024-04-08T00:00:00-04:00",
          "2024-04-09T00:00:00-04:00",
          "2024-04-10T00:00:00-04:00",
          "2024-04-11T00:00:00-04:00",
          "2024-04-12T00:00:00-04:00",
          "2024-04-15T00:00:00-04:00",
          "2024-04-16T00:00:00-04:00",
          "2024-04-17T00:00:00-04:00",
          "2024-04-18T00:00:00-04:00",
          "2024-04-19T00:00:00-04:00",
          "2024-04-22T00:00:00-04:00",
          "2024-04-23T00:00:00-04:00",
          "2024-04-24T00:00:00-04:00",
          "2024-04-25T00:00:00-04:00",
          "2024-04-26T00:00:00-04:00",
          "2024-04-29T00:00:00-04:00",
          "2024-04-30T00:00:00-04:00",
          "2024-05-01T00:00:00-04:00",
          "2024-05-02T00:00:00-04:00",
          "2024-05-03T00:00:00-04:00",
          "2024-05-06T00:00:00-04:00",
          "2024-05-07T00:00:00-04:00",
          "2024-05-08T00:00:00-04:00",
          "2024-05-09T00:00:00-04:00",
          "2024-05-10T00:00:00-04:00",
          "2024-05-13T00:00:00-04:00",
          "2024-05-14T00:00:00-04:00",
          "2024-05-15T00:00:00-04:00",
          "2024-05-16T00:00:00-04:00",
          "2024-05-17T00:00:00-04:00",
          "2024-05-20T00:00:00-04:00",
          "2024-05-21T00:00:00-04:00",
          "2024-05-22T00:00:00-04:00",
          "2024-05-23T00:00:00-04:00",
          "2024-05-24T00:00:00-04:00",
          "2024-05-28T00:00:00-04:00",
          "2024-05-29T00:00:00-04:00",
          "2024-05-30T00:00:00-04:00",
          "2024-05-31T00:00:00-04:00",
          "2024-06-03T00:00:00-04:00",
          "2024-06-04T00:00:00-04:00",
          "2024-06-05T00:00:00-04:00",
          "2024-06-06T00:00:00-04:00",
          "2024-06-07T00:00:00-04:00",
          "2024-06-10T00:00:00-04:00",
          "2024-06-11T00:00:00-04:00",
          "2024-06-12T00:00:00-04:00",
          "2024-06-13T00:00:00-04:00",
          "2024-06-14T00:00:00-04:00",
          "2024-06-17T00:00:00-04:00",
          "2024-06-18T00:00:00-04:00",
          "2024-06-20T00:00:00-04:00",
          "2024-06-21T00:00:00-04:00",
          "2024-06-24T00:00:00-04:00",
          "2024-06-25T00:00:00-04:00",
          "2024-06-26T00:00:00-04:00",
          "2024-06-27T00:00:00-04:00",
          "2024-06-28T00:00:00-04:00",
          "2024-07-01T00:00:00-04:00",
          "2024-07-02T00:00:00-04:00",
          "2024-07-03T00:00:00-04:00",
          "2024-07-05T00:00:00-04:00",
          "2024-07-08T00:00:00-04:00",
          "2024-07-09T00:00:00-04:00",
          "2024-07-10T00:00:00-04:00",
          "2024-07-11T00:00:00-04:00",
          "2024-07-12T00:00:00-04:00",
          "2024-07-15T00:00:00-04:00",
          "2024-07-16T00:00:00-04:00",
          "2024-07-17T00:00:00-04:00",
          "2024-07-18T00:00:00-04:00",
          "2024-07-19T00:00:00-04:00",
          "2024-07-22T00:00:00-04:00",
          "2024-07-23T00:00:00-04:00",
          "2024-07-24T00:00:00-04:00",
          "2024-07-25T00:00:00-04:00",
          "2024-07-26T00:00:00-04:00",
          "2024-07-29T00:00:00-04:00",
          "2024-07-30T00:00:00-04:00",
          "2024-07-31T00:00:00-04:00",
          "2024-08-01T00:00:00-04:00",
          "2024-08-02T00:00:00-04:00",
          "2024-08-05T00:00:00-04:00",
          "2024-08-06T00:00:00-04:00",
          "2024-08-07T00:00:00-04:00",
          "2024-08-08T00:00:00-04:00",
          "2024-08-09T00:00:00-04:00",
          "2024-08-12T00:00:00-04:00",
          "2024-08-13T00:00:00-04:00",
          "2024-08-14T00:00:00-04:00",
          "2024-08-15T00:00:00-04:00",
          "2024-08-16T00:00:00-04:00",
          "2024-08-19T00:00:00-04:00",
          "2024-08-20T00:00:00-04:00",
          "2024-08-21T00:00:00-04:00",
          "2024-08-22T00:00:00-04:00",
          "2024-08-23T00:00:00-04:00",
          "2024-08-26T00:00:00-04:00",
          "2024-08-27T00:00:00-04:00",
          "2024-08-28T00:00:00-04:00",
          "2024-08-29T00:00:00-04:00",
          "2024-08-30T00:00:00-04:00",
          "2024-09-03T00:00:00-04:00",
          "2024-09-04T00:00:00-04:00",
          "2024-09-05T00:00:00-04:00",
          "2024-09-06T00:00:00-04:00",
          "2024-09-09T00:00:00-04:00",
          "2024-09-10T00:00:00-04:00",
          "2024-09-11T00:00:00-04:00",
          "2024-09-12T00:00:00-04:00",
          "2024-09-13T00:00:00-04:00",
          "2024-09-16T00:00:00-04:00",
          "2024-09-17T00:00:00-04:00",
          "2024-09-18T00:00:00-04:00",
          "2024-09-19T00:00:00-04:00",
          "2024-09-20T00:00:00-04:00",
          "2024-09-23T00:00:00-04:00",
          "2024-09-24T00:00:00-04:00",
          "2024-09-25T00:00:00-04:00",
          "2024-09-26T00:00:00-04:00",
          "2024-09-27T00:00:00-04:00",
          "2024-09-30T00:00:00-04:00",
          "2024-10-01T00:00:00-04:00",
          "2024-10-02T00:00:00-04:00",
          "2024-10-03T00:00:00-04:00",
          "2024-10-04T00:00:00-04:00",
          "2024-10-07T00:00:00-04:00",
          "2024-10-08T00:00:00-04:00",
          "2024-10-09T00:00:00-04:00",
          "2024-10-10T00:00:00-04:00",
          "2024-10-11T00:00:00-04:00",
          "2024-10-14T00:00:00-04:00",
          "2024-10-15T00:00:00-04:00",
          "2024-10-16T00:00:00-04:00",
          "2024-10-17T00:00:00-04:00",
          "2024-10-18T00:00:00-04:00",
          "2024-10-21T00:00:00-04:00",
          "2024-10-22T00:00:00-04:00",
          "2024-10-23T00:00:00-04:00",
          "2024-10-24T00:00:00-04:00",
          "2024-10-25T00:00:00-04:00",
          "2024-10-28T00:00:00-04:00",
          "2024-10-29T00:00:00-04:00",
          "2024-10-30T00:00:00-04:00",
          "2024-10-31T00:00:00-04:00",
          "2024-11-01T00:00:00-04:00",
          "2024-11-04T00:00:00-05:00",
          "2024-11-05T00:00:00-05:00",
          "2024-11-06T00:00:00-05:00",
          "2024-11-07T00:00:00-05:00",
          "2024-11-08T00:00:00-05:00",
          "2024-11-11T00:00:00-05:00",
          "2024-11-12T00:00:00-05:00",
          "2024-11-13T00:00:00-05:00",
          "2024-11-14T00:00:00-05:00",
          "2024-11-15T00:00:00-05:00",
          "2024-11-18T00:00:00-05:00",
          "2024-11-19T00:00:00-05:00",
          "2024-11-20T00:00:00-05:00",
          "2024-11-21T00:00:00-05:00",
          "2024-11-22T00:00:00-05:00",
          "2024-11-25T00:00:00-05:00",
          "2024-11-26T00:00:00-05:00",
          "2024-11-27T00:00:00-05:00",
          "2024-11-29T00:00:00-05:00",
          "2024-12-02T00:00:00-05:00",
          "2024-12-03T00:00:00-05:00",
          "2024-12-04T00:00:00-05:00",
          "2024-12-05T00:00:00-05:00",
          "2024-12-06T00:00:00-05:00",
          "2024-12-09T00:00:00-05:00",
          "2024-12-10T00:00:00-05:00",
          "2024-12-11T00:00:00-05:00",
          "2024-12-12T00:00:00-05:00",
          "2024-12-13T00:00:00-05:00",
          "2024-12-16T00:00:00-05:00",
          "2024-12-17T00:00:00-05:00",
          "2024-12-18T00:00:00-05:00",
          "2024-12-19T00:00:00-05:00",
          "2024-12-20T00:00:00-05:00",
          "2024-12-23T00:00:00-05:00",
          "2024-12-24T00:00:00-05:00",
          "2024-12-26T00:00:00-05:00",
          "2024-12-27T00:00:00-05:00",
          "2024-12-30T00:00:00-05:00",
          "2024-12-31T00:00:00-05:00",
          "2025-01-02T00:00:00-05:00",
          "2025-01-03T00:00:00-05:00",
          "2025-01-06T00:00:00-05:00",
          "2025-01-07T00:00:00-05:00",
          "2025-01-08T00:00:00-05:00",
          "2025-01-10T00:00:00-05:00",
          "2025-01-13T00:00:00-05:00",
          "2025-01-14T00:00:00-05:00",
          "2025-01-15T00:00:00-05:00",
          "2025-01-16T00:00:00-05:00",
          "2025-01-17T00:00:00-05:00",
          "2025-01-21T00:00:00-05:00"
         ],
         "y": [
          59.64,
          59.761,
          60.39574750830566,
          60.792495049504964,
          60.85493480519991,
          61.269228332741996,
          61.62844441881308,
          61.601497742717164,
          61.90793854439773,
          62.79690914376687,
          64.12745217941277,
          64.94113978037642,
          65.94974002679336,
          66.65983753456706,
          67.7021504113997,
          68.55998998922257,
          69.22746979419128,
          70.09685413723363,
          70.56968801474633,
          70.94377786692074,
          70.66441490855073,
          70.07281899440164,
          71.62402385936976,
          72.93756611855775,
          74.05999118575424,
          74.90457142676438,
          75.40413791724508,
          76.0767355620073,
          77.20431350628849,
          78.66343762984043,
          79.98908391886552,
          81.57182445275186,
          83.58872185179213,
          84.30245853482779,
          84.56588253058283,
          85.89851143939319,
          86.80295774528082,
          87.00615546865815,
          87.15418628908556,
          87.38622819918065,
          87.74882905132847,
          88.22187264125388,
          88.80163586445254,
          89.79602941844054,
          90.73868239818424,
          91.06622677885844,
          90.91417335818464,
          90.80795305408209,
          90.722866114945,
          90.48778922808171,
          90.20636289585063,
          89.41972834151626,
          89.15977148307626,
          88.78707842655379,
          88.15850859465371,
          87.95150430571539,
          88.43123596496419,
          88.38373809803011,
          87.94669165489114,
          87.8454743929946,
          87.1499302356242,
          86.69539566971876,
          84.78349936774129,
          83.82286057838746,
          83.56415809523618,
          82.85430991206519,
          82.80988986370798,
          83.70082003531914,
          84.43521710467947,
          84.78881427527884,
          84.46721147100875,
          84.70953678680033,
          85.44780314637563,
          86.66093027834837,
          87.36439770510228,
          87.9145073441945,
          88.06277876503228,
          88.38954631436167,
          88.75144703165421,
          89.2202748940841,
          90.20022499885603,
          90.95291141644064,
          91.2269275385494,
          91.86930438042484,
          92.5039763360757,
          92.94507156181123,
          94.91324042027716,
          97.00901493420557,
          100.07464863625412,
          102.75198528623156,
          104.1552607051967,
          105.1470314955891,
          106.9330257831437,
          108.65611201546139,
          111.15681893488723,
          112.94103368167279,
          114.38084574461733,
          115.72251015854992,
          116.66205376829964,
          118.2107712679575,
          120.27972194977343,
          122.3852270525313,
          123.94427668098965,
          126.05622637717931,
          126.91145794556928,
          126.84573831906413,
          125.253785896663,
          125.40218846096353,
          125.57997237720828,
          125.28725012673094,
          124.96593192180265,
          124.8412170269078,
          124.44281393104983,
          125.13684776184861,
          125.25923907788776,
          125.7902865183131,
          126.80296169686603,
          128.27333229751235,
          128.11090824341227,
          128.3125612900716,
          128.33209560096824,
          127.96989640078377,
          126.1517334187884,
          125.22778188808515,
          123.89727609023448,
          123.82868043746385,
          123.59982944883208,
          121.89622409448705,
          120.14418335002483,
          118.85251365001427,
          117.5284202590975,
          115.01598021198099,
          115.37671108253082,
          114.25185452206833,
          112.97879006350826,
          110.6971918701399,
          109.52133880284039,
          107.58836811141305,
          107.1086648184285,
          106.67618030598668,
          107.09869297762567,
          108.73893061805806,
          110.43367050568446,
          112.68936677737884,
          114.8476637269468,
          117.59899759477518,
          119.35008894117998,
          121.01007277005655,
          121.5027868118645,
          122.92955284607106,
          123.56781596496727,
          124.42457669860963,
          124.63647184431697,
          123.35165878171385,
          122.62408445776586,
          119.96152364726291,
          117.45761025685144,
          115.59077202833298,
          113.26699529590876,
          112.02754160574351,
          111.30980676833559,
          112.32438735591094,
          113.56177147301807,
          114.56690393246933,
          114.96746685383854,
          115.078836516777,
          114.76632078645392,
          115.32880791618958,
          115.44902465870057,
          115.59465653893682,
          116.55199171367558,
          117.81526594755273,
          118.94521759345223,
          119.38972348555183,
          119.76068285181515,
          119.25692233330331,
          119.1811182727027,
          119.84636949584767,
          120.76702958751171,
          122.02938784432777,
          124.00222641808637,
          125.57273070570702,
          127.2504160319421,
          128.6212494806799,
          130.33738593873807,
          130.5651339498766,
          131.50056414080814,
          132.48591611520666,
          133.48665863971456,
          135.34362979613007,
          136.84115165137916,
          137.3336695329466,
          137.89118416331993,
          138.55278704271632,
          138.90864394404062,
          139.33252686330596,
          139.332067433614,
          138.13532790022964,
          137.63617737291517,
          137.3459633051124,
          137.81033361327377,
          139.22663659267855,
          140.97997539400973,
          142.18725259509887,
          142.74411575962634,
          143.750640166967,
          144.20688740933664,
          144.66927151673,
          144.17849487732454,
          143.44422308144735,
          144.09072797572966,
          144.41605016196064,
          144.82404104160415,
          144.29966994313068,
          142.79245722619783,
          141.7229195487073,
          140.56057053985143,
          140.1386486235148,
          139.86253069196664,
          139.9329796570636,
          140.8778924466884,
          141.6382756381996,
          141.78404370398147,
          141.24330848507572,
          140.1208887605165,
          139.97345444042259,
          139.49464454216394,
          138.54107280722502,
          137.351786842275,
          136.08600741640683,
          134.78127879524195,
          134.0355917415616,
          134.15639324309586,
          135.15886719889662,
          136.0790731627336,
          136.77924167860024,
          136.82119773703656,
          136.94279814848446,
          136.46047121239636,
          136.7967491737788,
          138.1918856876372,
          140.2351791989759,
          140.2178738900712,
          140.1982604555128,
          139.41857673632867,
          138.29338096608708,
          137.1054935177076,
          136.9481310599426,
          136.33392541268032,
          136.58412079219298,
          137.35609882997608
         ]
        },
        {
         "line": {
          "color": "purple",
          "shape": "spline",
          "width": 2
         },
         "name": "SMA 30",
         "type": "scatter",
         "x": [
          "2024-01-22T00:00:00-05:00",
          "2024-01-23T00:00:00-05:00",
          "2024-01-24T00:00:00-05:00",
          "2024-01-25T00:00:00-05:00",
          "2024-01-26T00:00:00-05:00",
          "2024-01-29T00:00:00-05:00",
          "2024-01-30T00:00:00-05:00",
          "2024-01-31T00:00:00-05:00",
          "2024-02-01T00:00:00-05:00",
          "2024-02-02T00:00:00-05:00",
          "2024-02-05T00:00:00-05:00",
          "2024-02-06T00:00:00-05:00",
          "2024-02-07T00:00:00-05:00",
          "2024-02-08T00:00:00-05:00",
          "2024-02-09T00:00:00-05:00",
          "2024-02-12T00:00:00-05:00",
          "2024-02-13T00:00:00-05:00",
          "2024-02-14T00:00:00-05:00",
          "2024-02-15T00:00:00-05:00",
          "2024-02-16T00:00:00-05:00",
          "2024-02-20T00:00:00-05:00",
          "2024-02-21T00:00:00-05:00",
          "2024-02-22T00:00:00-05:00",
          "2024-02-23T00:00:00-05:00",
          "2024-02-26T00:00:00-05:00",
          "2024-02-27T00:00:00-05:00",
          "2024-02-28T00:00:00-05:00",
          "2024-02-29T00:00:00-05:00",
          "2024-03-01T00:00:00-05:00",
          "2024-03-04T00:00:00-05:00",
          "2024-03-05T00:00:00-05:00",
          "2024-03-06T00:00:00-05:00",
          "2024-03-07T00:00:00-05:00",
          "2024-03-08T00:00:00-05:00",
          "2024-03-11T00:00:00-04:00",
          "2024-03-12T00:00:00-04:00",
          "2024-03-13T00:00:00-04:00",
          "2024-03-14T00:00:00-04:00",
          "2024-03-15T00:00:00-04:00",
          "2024-03-18T00:00:00-04:00",
          "2024-03-19T00:00:00-04:00",
          "2024-03-20T00:00:00-04:00",
          "2024-03-21T00:00:00-04:00",
          "2024-03-22T00:00:00-04:00",
          "2024-03-25T00:00:00-04:00",
          "2024-03-26T00:00:00-04:00",
          "2024-03-27T00:00:00-04:00",
          "2024-03-28T00:00:00-04:00",
          "2024-04-01T00:00:00-04:00",
          "2024-04-02T00:00:00-04:00",
          "2024-04-03T00:00:00-04:00",
          "2024-04-04T00:00:00-04:00",
          "2024-04-05T00:00:00-04:00",
          "2024-04-08T00:00:00-04:00",
          "2024-04-09T00:00:00-04:00",
          "2024-04-10T00:00:00-04:00",
          "2024-04-11T00:00:00-04:00",
          "2024-04-12T00:00:00-04:00",
          "2024-04-15T00:00:00-04:00",
          "2024-04-16T00:00:00-04:00",
          "2024-04-17T00:00:00-04:00",
          "2024-04-18T00:00:00-04:00",
          "2024-04-19T00:00:00-04:00",
          "2024-04-22T00:00:00-04:00",
          "2024-04-23T00:00:00-04:00",
          "2024-04-24T00:00:00-04:00",
          "2024-04-25T00:00:00-04:00",
          "2024-04-26T00:00:00-04:00",
          "2024-04-29T00:00:00-04:00",
          "2024-04-30T00:00:00-04:00",
          "2024-05-01T00:00:00-04:00",
          "2024-05-02T00:00:00-04:00",
          "2024-05-03T00:00:00-04:00",
          "2024-05-06T00:00:00-04:00",
          "2024-05-07T00:00:00-04:00",
          "2024-05-08T00:00:00-04:00",
          "2024-05-09T00:00:00-04:00",
          "2024-05-10T00:00:00-04:00",
          "2024-05-13T00:00:00-04:00",
          "2024-05-14T00:00:00-04:00",
          "2024-05-15T00:00:00-04:00",
          "2024-05-16T00:00:00-04:00",
          "2024-05-17T00:00:00-04:00",
          "2024-05-20T00:00:00-04:00",
          "2024-05-21T00:00:00-04:00",
          "2024-05-22T00:00:00-04:00",
          "2024-05-23T00:00:00-04:00",
          "2024-05-24T00:00:00-04:00",
          "2024-05-28T00:00:00-04:00",
          "2024-05-29T00:00:00-04:00",
          "2024-05-30T00:00:00-04:00",
          "2024-05-31T00:00:00-04:00",
          "2024-06-03T00:00:00-04:00",
          "2024-06-04T00:00:00-04:00",
          "2024-06-05T00:00:00-04:00",
          "2024-06-06T00:00:00-04:00",
          "2024-06-07T00:00:00-04:00",
          "2024-06-10T00:00:00-04:00",
          "2024-06-11T00:00:00-04:00",
          "2024-06-12T00:00:00-04:00",
          "2024-06-13T00:00:00-04:00",
          "2024-06-14T00:00:00-04:00",
          "2024-06-17T00:00:00-04:00",
          "2024-06-18T00:00:00-04:00",
          "2024-06-20T00:00:00-04:00",
          "2024-06-21T00:00:00-04:00",
          "2024-06-24T00:00:00-04:00",
          "2024-06-25T00:00:00-04:00",
          "2024-06-26T00:00:00-04:00",
          "2024-06-27T00:00:00-04:00",
          "2024-06-28T00:00:00-04:00",
          "2024-07-01T00:00:00-04:00",
          "2024-07-02T00:00:00-04:00",
          "2024-07-03T00:00:00-04:00",
          "2024-07-05T00:00:00-04:00",
          "2024-07-08T00:00:00-04:00",
          "2024-07-09T00:00:00-04:00",
          "2024-07-10T00:00:00-04:00",
          "2024-07-11T00:00:00-04:00",
          "2024-07-12T00:00:00-04:00",
          "2024-07-15T00:00:00-04:00",
          "2024-07-16T00:00:00-04:00",
          "2024-07-17T00:00:00-04:00",
          "2024-07-18T00:00:00-04:00",
          "2024-07-19T00:00:00-04:00",
          "2024-07-22T00:00:00-04:00",
          "2024-07-23T00:00:00-04:00",
          "2024-07-24T00:00:00-04:00",
          "2024-07-25T00:00:00-04:00",
          "2024-07-26T00:00:00-04:00",
          "2024-07-29T00:00:00-04:00",
          "2024-07-30T00:00:00-04:00",
          "2024-07-31T00:00:00-04:00",
          "2024-08-01T00:00:00-04:00",
          "2024-08-02T00:00:00-04:00",
          "2024-08-05T00:00:00-04:00",
          "2024-08-06T00:00:00-04:00",
          "2024-08-07T00:00:00-04:00",
          "2024-08-08T00:00:00-04:00",
          "2024-08-09T00:00:00-04:00",
          "2024-08-12T00:00:00-04:00",
          "2024-08-13T00:00:00-04:00",
          "2024-08-14T00:00:00-04:00",
          "2024-08-15T00:00:00-04:00",
          "2024-08-16T00:00:00-04:00",
          "2024-08-19T00:00:00-04:00",
          "2024-08-20T00:00:00-04:00",
          "2024-08-21T00:00:00-04:00",
          "2024-08-22T00:00:00-04:00",
          "2024-08-23T00:00:00-04:00",
          "2024-08-26T00:00:00-04:00",
          "2024-08-27T00:00:00-04:00",
          "2024-08-28T00:00:00-04:00",
          "2024-08-29T00:00:00-04:00",
          "2024-08-30T00:00:00-04:00",
          "2024-09-03T00:00:00-04:00",
          "2024-09-04T00:00:00-04:00",
          "2024-09-05T00:00:00-04:00",
          "2024-09-06T00:00:00-04:00",
          "2024-09-09T00:00:00-04:00",
          "2024-09-10T00:00:00-04:00",
          "2024-09-11T00:00:00-04:00",
          "2024-09-12T00:00:00-04:00",
          "2024-09-13T00:00:00-04:00",
          "2024-09-16T00:00:00-04:00",
          "2024-09-17T00:00:00-04:00",
          "2024-09-18T00:00:00-04:00",
          "2024-09-19T00:00:00-04:00",
          "2024-09-20T00:00:00-04:00",
          "2024-09-23T00:00:00-04:00",
          "2024-09-24T00:00:00-04:00",
          "2024-09-25T00:00:00-04:00",
          "2024-09-26T00:00:00-04:00",
          "2024-09-27T00:00:00-04:00",
          "2024-09-30T00:00:00-04:00",
          "2024-10-01T00:00:00-04:00",
          "2024-10-02T00:00:00-04:00",
          "2024-10-03T00:00:00-04:00",
          "2024-10-04T00:00:00-04:00",
          "2024-10-07T00:00:00-04:00",
          "2024-10-08T00:00:00-04:00",
          "2024-10-09T00:00:00-04:00",
          "2024-10-10T00:00:00-04:00",
          "2024-10-11T00:00:00-04:00",
          "2024-10-14T00:00:00-04:00",
          "2024-10-15T00:00:00-04:00",
          "2024-10-16T00:00:00-04:00",
          "2024-10-17T00:00:00-04:00",
          "2024-10-18T00:00:00-04:00",
          "2024-10-21T00:00:00-04:00",
          "2024-10-22T00:00:00-04:00",
          "2024-10-23T00:00:00-04:00",
          "2024-10-24T00:00:00-04:00",
          "2024-10-25T00:00:00-04:00",
          "2024-10-28T00:00:00-04:00",
          "2024-10-29T00:00:00-04:00",
          "2024-10-30T00:00:00-04:00",
          "2024-10-31T00:00:00-04:00",
          "2024-11-01T00:00:00-04:00",
          "2024-11-04T00:00:00-05:00",
          "2024-11-05T00:00:00-05:00",
          "2024-11-06T00:00:00-05:00",
          "2024-11-07T00:00:00-05:00",
          "2024-11-08T00:00:00-05:00",
          "2024-11-11T00:00:00-05:00",
          "2024-11-12T00:00:00-05:00",
          "2024-11-13T00:00:00-05:00",
          "2024-11-14T00:00:00-05:00",
          "2024-11-15T00:00:00-05:00",
          "2024-11-18T00:00:00-05:00",
          "2024-11-19T00:00:00-05:00",
          "2024-11-20T00:00:00-05:00",
          "2024-11-21T00:00:00-05:00",
          "2024-11-22T00:00:00-05:00",
          "2024-11-25T00:00:00-05:00",
          "2024-11-26T00:00:00-05:00",
          "2024-11-27T00:00:00-05:00",
          "2024-11-29T00:00:00-05:00",
          "2024-12-02T00:00:00-05:00",
          "2024-12-03T00:00:00-05:00",
          "2024-12-04T00:00:00-05:00",
          "2024-12-05T00:00:00-05:00",
          "2024-12-06T00:00:00-05:00",
          "2024-12-09T00:00:00-05:00",
          "2024-12-10T00:00:00-05:00",
          "2024-12-11T00:00:00-05:00",
          "2024-12-12T00:00:00-05:00",
          "2024-12-13T00:00:00-05:00",
          "2024-12-16T00:00:00-05:00",
          "2024-12-17T00:00:00-05:00",
          "2024-12-18T00:00:00-05:00",
          "2024-12-19T00:00:00-05:00",
          "2024-12-20T00:00:00-05:00",
          "2024-12-23T00:00:00-05:00",
          "2024-12-24T00:00:00-05:00",
          "2024-12-26T00:00:00-05:00",
          "2024-12-27T00:00:00-05:00",
          "2024-12-30T00:00:00-05:00",
          "2024-12-31T00:00:00-05:00",
          "2025-01-02T00:00:00-05:00",
          "2025-01-03T00:00:00-05:00",
          "2025-01-06T00:00:00-05:00",
          "2025-01-07T00:00:00-05:00",
          "2025-01-08T00:00:00-05:00",
          "2025-01-10T00:00:00-05:00",
          "2025-01-13T00:00:00-05:00",
          "2025-01-14T00:00:00-05:00",
          "2025-01-15T00:00:00-05:00",
          "2025-01-16T00:00:00-05:00",
          "2025-01-17T00:00:00-05:00",
          "2025-01-21T00:00:00-05:00"
         ],
         "y": [
          null,
          null,
          null,
          null,
          null,
          null,
          null,
          null,
          null,
          null,
          null,
          null,
          null,
          null,
          null,
          null,
          null,
          null,
          null,
          null,
          null,
          null,
          null,
          null,
          null,
          null,
          null,
          null,
          null,
          70.27433333333333,
          71.15100000000001,
          72.11166666666666,
          73.15533333333333,
          74.019,
          74.84366666666668,
          75.825,
          76.762,
          77.64233333333333,
          78.46933333333335,
          79.21233333333333,
          79.88133333333333,
          80.61966666666667,
          81.33066666666667,
          82.15233333333332,
          82.91466666666666,
          83.59166666666667,
          84.19566666666667,
          84.74399999999999,
          85.334,
          85.89533333333333,
          86.54566666666666,
          87.16000000000001,
          87.47566666666667,
          87.75299999999999,
          87.96166666666666,
          88.23966666666665,
          88.67133333333332,
          88.97399999999999,
          89.098,
          89.17066666666666,
          89.10666666666665,
          88.97233333333334,
          88.42333333333333,
          88.15633333333332,
          88.04466666666666,
          87.637,
          87.36166666666666,
          87.35466666666666,
          87.352,
          87.28366666666666,
          87.07166666666666,
          86.92,
          86.83200000000001,
          86.76033333333334,
          86.61200000000001,
          86.54033333333334,
          86.49033333333334,
          86.47466666666668,
          86.47600000000001,
          86.53933333333335,
          86.72833333333334,
          87.01033333333334,
          87.15933333333332,
          87.41433333333335,
          87.74866666666667,
          88.01233333333333,
          88.45166666666667,
          89.06066666666668,
          89.99033333333334,
          90.904,
          91.78566666666667,
          92.61766666666668,
          93.91066666666667,
          95.14099999999999,
          96.47466666666668,
          97.85166666666666,
          99.12666666666668,
          100.26166666666667,
          101.36666666666666,
          102.66000000000001,
          104.21233333333333,
          105.74766666666667,
          107.154,
          108.60200000000002,
          109.943,
          111.14833333333334,
          112.127,
          113.334,
          114.534,
          115.622,
          116.58566666666665,
          117.58366666666667,
          118.59,
          119.70666666666666,
          120.72166666666666,
          121.83,
          122.74966666666666,
          123.69800000000001,
          124.14833333333333,
          124.62899999999999,
          125.22733333333333,
          125.785,
          125.885,
          126.04033333333334,
          125.89033333333333,
          125.97533333333334,
          126.03233333333333,
          125.78133333333334,
          125.49366666666667,
          125.089,
          124.48833333333332,
          123.55,
          123.08466666666666,
          122.20566666666666,
          121.422,
          120.55133333333333,
          120.08933333333334,
          119.18333333333334,
          118.469,
          117.82766666666666,
          117.34366666666666,
          117.07166666666667,
          116.91866666666667,
          116.738,
          116.69633333333333,
          116.75633333333332,
          116.61866666666667,
          116.40499999999999,
          116.283,
          116.28733333333334,
          116.22133333333333,
          116.286,
          116.53999999999999,
          116.42333333333335,
          116.47133333333333,
          115.95333333333333,
          115.40733333333334,
          115.17266666666667,
          114.85766666666667,
          114.63799999999999,
          114.52166666666666,
          114.961,
          115.032,
          115.36200000000001,
          115.67933333333333,
          116.18433333333333,
          116.48866666666666,
          117.12100000000001,
          117.489,
          117.873,
          118.26833333333335,
          118.51433333333333,
          118.71333333333332,
          118.665,
          118.56066666666668,
          118.12766666666667,
          117.848,
          117.66000000000001,
          117.69966666666666,
          117.645,
          117.85966666666667,
          118.00500000000001,
          118.312,
          118.886,
          119.50966666666666,
          120.29666666666665,
          121.28066666666665,
          122.27166666666666,
          123.44433333333333,
          124.68599999999999,
          125.86933333333333,
          126.62466666666666,
          127.33366666666667,
          128.08166666666665,
          128.873,
          129.72833333333332,
          130.594,
          131.09033333333335,
          131.737,
          132.39666666666668,
          133.03133333333332,
          133.768,
          134.596,
          135.47033333333331,
          136.26433333333333,
          137.30733333333333,
          138.22133333333335,
          139.01833333333335,
          139.587,
          140.00133333333332,
          140.472,
          140.91333333333333,
          141.30866666666668,
          141.547,
          141.4786666666667,
          141.656,
          141.64333333333335,
          141.68733333333333,
          141.70833333333334,
          141.5933333333333,
          141.64499999999998,
          141.8286666666667,
          141.89666666666665,
          141.806,
          141.62466666666666,
          141.56033333333335,
          141.49400000000003,
          141.544,
          141.431,
          141.24266666666665,
          140.87633333333332,
          140.379,
          139.90666666666667,
          139.64166666666668,
          139.47400000000002,
          139.19566666666665,
          138.88733333333332,
          138.5786666666667,
          138.32266666666666,
          138.26166666666668,
          138.17733333333334,
          138.29566666666668,
          138.07833333333335,
          138.01733333333334,
          138.014,
          137.89133333333334,
          137.77233333333334,
          137.70566666666667,
          137.53733333333332,
          137.45266666666666,
          137.3093333333333
         ]
        }
       ],
       "layout": {
        "height": 400,
        "template": {
         "data": {
          "bar": [
           {
            "error_x": {
             "color": "#2a3f5f"
            },
            "error_y": {
             "color": "#2a3f5f"
            },
            "marker": {
             "line": {
              "color": "#E5ECF6",
              "width": 0.5
             },
             "pattern": {
              "fillmode": "overlay",
              "size": 10,
              "solidity": 0.2
             }
            },
            "type": "bar"
           }
          ],
          "barpolar": [
           {
            "marker": {
             "line": {
              "color": "#E5ECF6",
              "width": 0.5
             },
             "pattern": {
              "fillmode": "overlay",
              "size": 10,
              "solidity": 0.2
             }
            },
            "type": "barpolar"
           }
          ],
          "carpet": [
           {
            "aaxis": {
             "endlinecolor": "#2a3f5f",
             "gridcolor": "white",
             "linecolor": "white",
             "minorgridcolor": "white",
             "startlinecolor": "#2a3f5f"
            },
            "baxis": {
             "endlinecolor": "#2a3f5f",
             "gridcolor": "white",
             "linecolor": "white",
             "minorgridcolor": "white",
             "startlinecolor": "#2a3f5f"
            },
            "type": "carpet"
           }
          ],
          "choropleth": [
           {
            "colorbar": {
             "outlinewidth": 0,
             "ticks": ""
            },
            "type": "choropleth"
           }
          ],
          "contour": [
           {
            "colorbar": {
             "outlinewidth": 0,
             "ticks": ""
            },
            "colorscale": [
             [
              0,
              "#0d0887"
             ],
             [
              0.1111111111111111,
              "#46039f"
             ],
             [
              0.2222222222222222,
              "#7201a8"
             ],
             [
              0.3333333333333333,
              "#9c179e"
             ],
             [
              0.4444444444444444,
              "#bd3786"
             ],
             [
              0.5555555555555556,
              "#d8576b"
             ],
             [
              0.6666666666666666,
              "#ed7953"
             ],
             [
              0.7777777777777778,
              "#fb9f3a"
             ],
             [
              0.8888888888888888,
              "#fdca26"
             ],
             [
              1,
              "#f0f921"
             ]
            ],
            "type": "contour"
           }
          ],
          "contourcarpet": [
           {
            "colorbar": {
             "outlinewidth": 0,
             "ticks": ""
            },
            "type": "contourcarpet"
           }
          ],
          "heatmap": [
           {
            "colorbar": {
             "outlinewidth": 0,
             "ticks": ""
            },
            "colorscale": [
             [
              0,
              "#0d0887"
             ],
             [
              0.1111111111111111,
              "#46039f"
             ],
             [
              0.2222222222222222,
              "#7201a8"
             ],
             [
              0.3333333333333333,
              "#9c179e"
             ],
             [
              0.4444444444444444,
              "#bd3786"
             ],
             [
              0.5555555555555556,
              "#d8576b"
             ],
             [
              0.6666666666666666,
              "#ed7953"
             ],
             [
              0.7777777777777778,
              "#fb9f3a"
             ],
             [
              0.8888888888888888,
              "#fdca26"
             ],
             [
              1,
              "#f0f921"
             ]
            ],
            "type": "heatmap"
           }
          ],
          "heatmapgl": [
           {
            "colorbar": {
             "outlinewidth": 0,
             "ticks": ""
            },
            "colorscale": [
             [
              0,
              "#0d0887"
             ],
             [
              0.1111111111111111,
              "#46039f"
             ],
             [
              0.2222222222222222,
              "#7201a8"
             ],
             [
              0.3333333333333333,
              "#9c179e"
             ],
             [
              0.4444444444444444,
              "#bd3786"
             ],
             [
              0.5555555555555556,
              "#d8576b"
             ],
             [
              0.6666666666666666,
              "#ed7953"
             ],
             [
              0.7777777777777778,
              "#fb9f3a"
             ],
             [
              0.8888888888888888,
              "#fdca26"
             ],
             [
              1,
              "#f0f921"
             ]
            ],
            "type": "heatmapgl"
           }
          ],
          "histogram": [
           {
            "marker": {
             "pattern": {
              "fillmode": "overlay",
              "size": 10,
              "solidity": 0.2
             }
            },
            "type": "histogram"
           }
          ],
          "histogram2d": [
           {
            "colorbar": {
             "outlinewidth": 0,
             "ticks": ""
            },
            "colorscale": [
             [
              0,
              "#0d0887"
             ],
             [
              0.1111111111111111,
              "#46039f"
             ],
             [
              0.2222222222222222,
              "#7201a8"
             ],
             [
              0.3333333333333333,
              "#9c179e"
             ],
             [
              0.4444444444444444,
              "#bd3786"
             ],
             [
              0.5555555555555556,
              "#d8576b"
             ],
             [
              0.6666666666666666,
              "#ed7953"
             ],
             [
              0.7777777777777778,
              "#fb9f3a"
             ],
             [
              0.8888888888888888,
              "#fdca26"
             ],
             [
              1,
              "#f0f921"
             ]
            ],
            "type": "histogram2d"
           }
          ],
          "histogram2dcontour": [
           {
            "colorbar": {
             "outlinewidth": 0,
             "ticks": ""
            },
            "colorscale": [
             [
              0,
              "#0d0887"
             ],
             [
              0.1111111111111111,
              "#46039f"
             ],
             [
              0.2222222222222222,
              "#7201a8"
             ],
             [
              0.3333333333333333,
              "#9c179e"
             ],
             [
              0.4444444444444444,
              "#bd3786"
             ],
             [
              0.5555555555555556,
              "#d8576b"
             ],
             [
              0.6666666666666666,
              "#ed7953"
             ],
             [
              0.7777777777777778,
              "#fb9f3a"
             ],
             [
              0.8888888888888888,
              "#fdca26"
             ],
             [
              1,
              "#f0f921"
             ]
            ],
            "type": "histogram2dcontour"
           }
          ],
          "mesh3d": [
           {
            "colorbar": {
             "outlinewidth": 0,
             "ticks": ""
            },
            "type": "mesh3d"
           }
          ],
          "parcoords": [
           {
            "line": {
             "colorbar": {
              "outlinewidth": 0,
              "ticks": ""
             }
            },
            "type": "parcoords"
           }
          ],
          "pie": [
           {
            "automargin": true,
            "type": "pie"
           }
          ],
          "scatter": [
           {
            "fillpattern": {
             "fillmode": "overlay",
             "size": 10,
             "solidity": 0.2
            },
            "type": "scatter"
           }
          ],
          "scatter3d": [
           {
            "line": {
             "colorbar": {
              "outlinewidth": 0,
              "ticks": ""
             }
            },
            "marker": {
             "colorbar": {
              "outlinewidth": 0,
              "ticks": ""
             }
            },
            "type": "scatter3d"
           }
          ],
          "scattercarpet": [
           {
            "marker": {
             "colorbar": {
              "outlinewidth": 0,
              "ticks": ""
             }
            },
            "type": "scattercarpet"
           }
          ],
          "scattergeo": [
           {
            "marker": {
             "colorbar": {
              "outlinewidth": 0,
              "ticks": ""
             }
            },
            "type": "scattergeo"
           }
          ],
          "scattergl": [
           {
            "marker": {
             "colorbar": {
              "outlinewidth": 0,
              "ticks": ""
             }
            },
            "type": "scattergl"
           }
          ],
          "scattermapbox": [
           {
            "marker": {
             "colorbar": {
              "outlinewidth": 0,
              "ticks": ""
             }
            },
            "type": "scattermapbox"
           }
          ],
          "scatterpolar": [
           {
            "marker": {
             "colorbar": {
              "outlinewidth": 0,
              "ticks": ""
             }
            },
            "type": "scatterpolar"
           }
          ],
          "scatterpolargl": [
           {
            "marker": {
             "colorbar": {
              "outlinewidth": 0,
              "ticks": ""
             }
            },
            "type": "scatterpolargl"
           }
          ],
          "scatterternary": [
           {
            "marker": {
             "colorbar": {
              "outlinewidth": 0,
              "ticks": ""
             }
            },
            "type": "scatterternary"
           }
          ],
          "surface": [
           {
            "colorbar": {
             "outlinewidth": 0,
             "ticks": ""
            },
            "colorscale": [
             [
              0,
              "#0d0887"
             ],
             [
              0.1111111111111111,
              "#46039f"
             ],
             [
              0.2222222222222222,
              "#7201a8"
             ],
             [
              0.3333333333333333,
              "#9c179e"
             ],
             [
              0.4444444444444444,
              "#bd3786"
             ],
             [
              0.5555555555555556,
              "#d8576b"
             ],
             [
              0.6666666666666666,
              "#ed7953"
             ],
             [
              0.7777777777777778,
              "#fb9f3a"
             ],
             [
              0.8888888888888888,
              "#fdca26"
             ],
             [
              1,
              "#f0f921"
             ]
            ],
            "type": "surface"
           }
          ],
          "table": [
           {
            "cells": {
             "fill": {
              "color": "#EBF0F8"
             },
             "line": {
              "color": "white"
             }
            },
            "header": {
             "fill": {
              "color": "#C8D4E3"
             },
             "line": {
              "color": "white"
             }
            },
            "type": "table"
           }
          ]
         },
         "layout": {
          "annotationdefaults": {
           "arrowcolor": "#2a3f5f",
           "arrowhead": 0,
           "arrowwidth": 1
          },
          "autotypenumbers": "strict",
          "coloraxis": {
           "colorbar": {
            "outlinewidth": 0,
            "ticks": ""
           }
          },
          "colorscale": {
           "diverging": [
            [
             0,
             "#8e0152"
            ],
            [
             0.1,
             "#c51b7d"
            ],
            [
             0.2,
             "#de77ae"
            ],
            [
             0.3,
             "#f1b6da"
            ],
            [
             0.4,
             "#fde0ef"
            ],
            [
             0.5,
             "#f7f7f7"
            ],
            [
             0.6,
             "#e6f5d0"
            ],
            [
             0.7,
             "#b8e186"
            ],
            [
             0.8,
             "#7fbc41"
            ],
            [
             0.9,
             "#4d9221"
            ],
            [
             1,
             "#276419"
            ]
           ],
           "sequential": [
            [
             0,
             "#0d0887"
            ],
            [
             0.1111111111111111,
             "#46039f"
            ],
            [
             0.2222222222222222,
             "#7201a8"
            ],
            [
             0.3333333333333333,
             "#9c179e"
            ],
            [
             0.4444444444444444,
             "#bd3786"
            ],
            [
             0.5555555555555556,
             "#d8576b"
            ],
            [
             0.6666666666666666,
             "#ed7953"
            ],
            [
             0.7777777777777778,
             "#fb9f3a"
            ],
            [
             0.8888888888888888,
             "#fdca26"
            ],
            [
             1,
             "#f0f921"
            ]
           ],
           "sequentialminus": [
            [
             0,
             "#0d0887"
            ],
            [
             0.1111111111111111,
             "#46039f"
            ],
            [
             0.2222222222222222,
             "#7201a8"
            ],
            [
             0.3333333333333333,
             "#9c179e"
            ],
            [
             0.4444444444444444,
             "#bd3786"
            ],
            [
             0.5555555555555556,
             "#d8576b"
            ],
            [
             0.6666666666666666,
             "#ed7953"
            ],
            [
             0.7777777777777778,
             "#fb9f3a"
            ],
            [
             0.8888888888888888,
             "#fdca26"
            ],
            [
             1,
             "#f0f921"
            ]
           ]
          },
          "colorway": [
           "#636efa",
           "#EF553B",
           "#00cc96",
           "#ab63fa",
           "#FFA15A",
           "#19d3f3",
           "#FF6692",
           "#B6E880",
           "#FF97FF",
           "#FECB52"
          ],
          "font": {
           "color": "#2a3f5f"
          },
          "geo": {
           "bgcolor": "white",
           "lakecolor": "white",
           "landcolor": "#E5ECF6",
           "showlakes": true,
           "showland": true,
           "subunitcolor": "white"
          },
          "hoverlabel": {
           "align": "left"
          },
          "hovermode": "closest",
          "mapbox": {
           "style": "light"
          },
          "paper_bgcolor": "white",
          "plot_bgcolor": "#E5ECF6",
          "polar": {
           "angularaxis": {
            "gridcolor": "white",
            "linecolor": "white",
            "ticks": ""
           },
           "bgcolor": "#E5ECF6",
           "radialaxis": {
            "gridcolor": "white",
            "linecolor": "white",
            "ticks": ""
           }
          },
          "scene": {
           "xaxis": {
            "backgroundcolor": "#E5ECF6",
            "gridcolor": "white",
            "gridwidth": 2,
            "linecolor": "white",
            "showbackground": true,
            "ticks": "",
            "zerolinecolor": "white"
           },
           "yaxis": {
            "backgroundcolor": "#E5ECF6",
            "gridcolor": "white",
            "gridwidth": 2,
            "linecolor": "white",
            "showbackground": true,
            "ticks": "",
            "zerolinecolor": "white"
           },
           "zaxis": {
            "backgroundcolor": "#E5ECF6",
            "gridcolor": "white",
            "gridwidth": 2,
            "linecolor": "white",
            "showbackground": true,
            "ticks": "",
            "zerolinecolor": "white"
           }
          },
          "shapedefaults": {
           "line": {
            "color": "#2a3f5f"
           }
          },
          "ternary": {
           "aaxis": {
            "gridcolor": "white",
            "linecolor": "white",
            "ticks": ""
           },
           "baxis": {
            "gridcolor": "white",
            "linecolor": "white",
            "ticks": ""
           },
           "bgcolor": "#E5ECF6",
           "caxis": {
            "gridcolor": "white",
            "linecolor": "white",
            "ticks": ""
           }
          },
          "title": {
           "x": 0.05
          },
          "xaxis": {
           "automargin": true,
           "gridcolor": "white",
           "linecolor": "white",
           "ticks": "",
           "title": {
            "standoff": 15
           },
           "zerolinecolor": "white",
           "zerolinewidth": 2
          },
          "yaxis": {
           "automargin": true,
           "gridcolor": "white",
           "linecolor": "white",
           "ticks": "",
           "title": {
            "standoff": 15
           },
           "zerolinecolor": "white",
           "zerolinewidth": 2
          }
         }
        },
        "title": {
         "text": "NVDA"
        },
        "width": 600,
        "xaxis": {
         "rangeslider": {
          "visible": false
         }
        }
       }
      }
     },
     "metadata": {},
     "output_type": "display_data"
    },
    {
     "data": {
      "application/vnd.plotly.v1+json": {
       "config": {
        "plotlyServerURL": "https://plot.ly"
       },
       "data": [
        {
         "name": "Volume",
         "type": "bar",
         "x": [
          "2024-01-22T00:00:00-05:00",
          "2024-01-23T00:00:00-05:00",
          "2024-01-24T00:00:00-05:00",
          "2024-01-25T00:00:00-05:00",
          "2024-01-26T00:00:00-05:00",
          "2024-01-29T00:00:00-05:00",
          "2024-01-30T00:00:00-05:00",
          "2024-01-31T00:00:00-05:00",
          "2024-02-01T00:00:00-05:00",
          "2024-02-02T00:00:00-05:00",
          "2024-02-05T00:00:00-05:00",
          "2024-02-06T00:00:00-05:00",
          "2024-02-07T00:00:00-05:00",
          "2024-02-08T00:00:00-05:00",
          "2024-02-09T00:00:00-05:00",
          "2024-02-12T00:00:00-05:00",
          "2024-02-13T00:00:00-05:00",
          "2024-02-14T00:00:00-05:00",
          "2024-02-15T00:00:00-05:00",
          "2024-02-16T00:00:00-05:00",
          "2024-02-20T00:00:00-05:00",
          "2024-02-21T00:00:00-05:00",
          "2024-02-22T00:00:00-05:00",
          "2024-02-23T00:00:00-05:00",
          "2024-02-26T00:00:00-05:00",
          "2024-02-27T00:00:00-05:00",
          "2024-02-28T00:00:00-05:00",
          "2024-02-29T00:00:00-05:00",
          "2024-03-01T00:00:00-05:00",
          "2024-03-04T00:00:00-05:00",
          "2024-03-05T00:00:00-05:00",
          "2024-03-06T00:00:00-05:00",
          "2024-03-07T00:00:00-05:00",
          "2024-03-08T00:00:00-05:00",
          "2024-03-11T00:00:00-04:00",
          "2024-03-12T00:00:00-04:00",
          "2024-03-13T00:00:00-04:00",
          "2024-03-14T00:00:00-04:00",
          "2024-03-15T00:00:00-04:00",
          "2024-03-18T00:00:00-04:00",
          "2024-03-19T00:00:00-04:00",
          "2024-03-20T00:00:00-04:00",
          "2024-03-21T00:00:00-04:00",
          "2024-03-22T00:00:00-04:00",
          "2024-03-25T00:00:00-04:00",
          "2024-03-26T00:00:00-04:00",
          "2024-03-27T00:00:00-04:00",
          "2024-03-28T00:00:00-04:00",
          "2024-04-01T00:00:00-04:00",
          "2024-04-02T00:00:00-04:00",
          "2024-04-03T00:00:00-04:00",
          "2024-04-04T00:00:00-04:00",
          "2024-04-05T00:00:00-04:00",
          "2024-04-08T00:00:00-04:00",
          "2024-04-09T00:00:00-04:00",
          "2024-04-10T00:00:00-04:00",
          "2024-04-11T00:00:00-04:00",
          "2024-04-12T00:00:00-04:00",
          "2024-04-15T00:00:00-04:00",
          "2024-04-16T00:00:00-04:00",
          "2024-04-17T00:00:00-04:00",
          "2024-04-18T00:00:00-04:00",
          "2024-04-19T00:00:00-04:00",
          "2024-04-22T00:00:00-04:00",
          "2024-04-23T00:00:00-04:00",
          "2024-04-24T00:00:00-04:00",
          "2024-04-25T00:00:00-04:00",
          "2024-04-26T00:00:00-04:00",
          "2024-04-29T00:00:00-04:00",
          "2024-04-30T00:00:00-04:00",
          "2024-05-01T00:00:00-04:00",
          "2024-05-02T00:00:00-04:00",
          "2024-05-03T00:00:00-04:00",
          "2024-05-06T00:00:00-04:00",
          "2024-05-07T00:00:00-04:00",
          "2024-05-08T00:00:00-04:00",
          "2024-05-09T00:00:00-04:00",
          "2024-05-10T00:00:00-04:00",
          "2024-05-13T00:00:00-04:00",
          "2024-05-14T00:00:00-04:00",
          "2024-05-15T00:00:00-04:00",
          "2024-05-16T00:00:00-04:00",
          "2024-05-17T00:00:00-04:00",
          "2024-05-20T00:00:00-04:00",
          "2024-05-21T00:00:00-04:00",
          "2024-05-22T00:00:00-04:00",
          "2024-05-23T00:00:00-04:00",
          "2024-05-24T00:00:00-04:00",
          "2024-05-28T00:00:00-04:00",
          "2024-05-29T00:00:00-04:00",
          "2024-05-30T00:00:00-04:00",
          "2024-05-31T00:00:00-04:00",
          "2024-06-03T00:00:00-04:00",
          "2024-06-04T00:00:00-04:00",
          "2024-06-05T00:00:00-04:00",
          "2024-06-06T00:00:00-04:00",
          "2024-06-07T00:00:00-04:00",
          "2024-06-10T00:00:00-04:00",
          "2024-06-11T00:00:00-04:00",
          "2024-06-12T00:00:00-04:00",
          "2024-06-13T00:00:00-04:00",
          "2024-06-14T00:00:00-04:00",
          "2024-06-17T00:00:00-04:00",
          "2024-06-18T00:00:00-04:00",
          "2024-06-20T00:00:00-04:00",
          "2024-06-21T00:00:00-04:00",
          "2024-06-24T00:00:00-04:00",
          "2024-06-25T00:00:00-04:00",
          "2024-06-26T00:00:00-04:00",
          "2024-06-27T00:00:00-04:00",
          "2024-06-28T00:00:00-04:00",
          "2024-07-01T00:00:00-04:00",
          "2024-07-02T00:00:00-04:00",
          "2024-07-03T00:00:00-04:00",
          "2024-07-05T00:00:00-04:00",
          "2024-07-08T00:00:00-04:00",
          "2024-07-09T00:00:00-04:00",
          "2024-07-10T00:00:00-04:00",
          "2024-07-11T00:00:00-04:00",
          "2024-07-12T00:00:00-04:00",
          "2024-07-15T00:00:00-04:00",
          "2024-07-16T00:00:00-04:00",
          "2024-07-17T00:00:00-04:00",
          "2024-07-18T00:00:00-04:00",
          "2024-07-19T00:00:00-04:00",
          "2024-07-22T00:00:00-04:00",
          "2024-07-23T00:00:00-04:00",
          "2024-07-24T00:00:00-04:00",
          "2024-07-25T00:00:00-04:00",
          "2024-07-26T00:00:00-04:00",
          "2024-07-29T00:00:00-04:00",
          "2024-07-30T00:00:00-04:00",
          "2024-07-31T00:00:00-04:00",
          "2024-08-01T00:00:00-04:00",
          "2024-08-02T00:00:00-04:00",
          "2024-08-05T00:00:00-04:00",
          "2024-08-06T00:00:00-04:00",
          "2024-08-07T00:00:00-04:00",
          "2024-08-08T00:00:00-04:00",
          "2024-08-09T00:00:00-04:00",
          "2024-08-12T00:00:00-04:00",
          "2024-08-13T00:00:00-04:00",
          "2024-08-14T00:00:00-04:00",
          "2024-08-15T00:00:00-04:00",
          "2024-08-16T00:00:00-04:00",
          "2024-08-19T00:00:00-04:00",
          "2024-08-20T00:00:00-04:00",
          "2024-08-21T00:00:00-04:00",
          "2024-08-22T00:00:00-04:00",
          "2024-08-23T00:00:00-04:00",
          "2024-08-26T00:00:00-04:00",
          "2024-08-27T00:00:00-04:00",
          "2024-08-28T00:00:00-04:00",
          "2024-08-29T00:00:00-04:00",
          "2024-08-30T00:00:00-04:00",
          "2024-09-03T00:00:00-04:00",
          "2024-09-04T00:00:00-04:00",
          "2024-09-05T00:00:00-04:00",
          "2024-09-06T00:00:00-04:00",
          "2024-09-09T00:00:00-04:00",
          "2024-09-10T00:00:00-04:00",
          "2024-09-11T00:00:00-04:00",
          "2024-09-12T00:00:00-04:00",
          "2024-09-13T00:00:00-04:00",
          "2024-09-16T00:00:00-04:00",
          "2024-09-17T00:00:00-04:00",
          "2024-09-18T00:00:00-04:00",
          "2024-09-19T00:00:00-04:00",
          "2024-09-20T00:00:00-04:00",
          "2024-09-23T00:00:00-04:00",
          "2024-09-24T00:00:00-04:00",
          "2024-09-25T00:00:00-04:00",
          "2024-09-26T00:00:00-04:00",
          "2024-09-27T00:00:00-04:00",
          "2024-09-30T00:00:00-04:00",
          "2024-10-01T00:00:00-04:00",
          "2024-10-02T00:00:00-04:00",
          "2024-10-03T00:00:00-04:00",
          "2024-10-04T00:00:00-04:00",
          "2024-10-07T00:00:00-04:00",
          "2024-10-08T00:00:00-04:00",
          "2024-10-09T00:00:00-04:00",
          "2024-10-10T00:00:00-04:00",
          "2024-10-11T00:00:00-04:00",
          "2024-10-14T00:00:00-04:00",
          "2024-10-15T00:00:00-04:00",
          "2024-10-16T00:00:00-04:00",
          "2024-10-17T00:00:00-04:00",
          "2024-10-18T00:00:00-04:00",
          "2024-10-21T00:00:00-04:00",
          "2024-10-22T00:00:00-04:00",
          "2024-10-23T00:00:00-04:00",
          "2024-10-24T00:00:00-04:00",
          "2024-10-25T00:00:00-04:00",
          "2024-10-28T00:00:00-04:00",
          "2024-10-29T00:00:00-04:00",
          "2024-10-30T00:00:00-04:00",
          "2024-10-31T00:00:00-04:00",
          "2024-11-01T00:00:00-04:00",
          "2024-11-04T00:00:00-05:00",
          "2024-11-05T00:00:00-05:00",
          "2024-11-06T00:00:00-05:00",
          "2024-11-07T00:00:00-05:00",
          "2024-11-08T00:00:00-05:00",
          "2024-11-11T00:00:00-05:00",
          "2024-11-12T00:00:00-05:00",
          "2024-11-13T00:00:00-05:00",
          "2024-11-14T00:00:00-05:00",
          "2024-11-15T00:00:00-05:00",
          "2024-11-18T00:00:00-05:00",
          "2024-11-19T00:00:00-05:00",
          "2024-11-20T00:00:00-05:00",
          "2024-11-21T00:00:00-05:00",
          "2024-11-22T00:00:00-05:00",
          "2024-11-25T00:00:00-05:00",
          "2024-11-26T00:00:00-05:00",
          "2024-11-27T00:00:00-05:00",
          "2024-11-29T00:00:00-05:00",
          "2024-12-02T00:00:00-05:00",
          "2024-12-03T00:00:00-05:00",
          "2024-12-04T00:00:00-05:00",
          "2024-12-05T00:00:00-05:00",
          "2024-12-06T00:00:00-05:00",
          "2024-12-09T00:00:00-05:00",
          "2024-12-10T00:00:00-05:00",
          "2024-12-11T00:00:00-05:00",
          "2024-12-12T00:00:00-05:00",
          "2024-12-13T00:00:00-05:00",
          "2024-12-16T00:00:00-05:00",
          "2024-12-17T00:00:00-05:00",
          "2024-12-18T00:00:00-05:00",
          "2024-12-19T00:00:00-05:00",
          "2024-12-20T00:00:00-05:00",
          "2024-12-23T00:00:00-05:00",
          "2024-12-24T00:00:00-05:00",
          "2024-12-26T00:00:00-05:00",
          "2024-12-27T00:00:00-05:00",
          "2024-12-30T00:00:00-05:00",
          "2024-12-31T00:00:00-05:00",
          "2025-01-02T00:00:00-05:00",
          "2025-01-03T00:00:00-05:00",
          "2025-01-06T00:00:00-05:00",
          "2025-01-07T00:00:00-05:00",
          "2025-01-08T00:00:00-05:00",
          "2025-01-10T00:00:00-05:00",
          "2025-01-13T00:00:00-05:00",
          "2025-01-14T00:00:00-05:00",
          "2025-01-15T00:00:00-05:00",
          "2025-01-16T00:00:00-05:00",
          "2025-01-17T00:00:00-05:00",
          "2025-01-21T00:00:00-05:00"
         ],
         "y": [
          452955000,
          294654000,
          560271000,
          482777000,
          390309000,
          348733000,
          410735000,
          453795000,
          369146000,
          476578000,
          680078000,
          683111000,
          495575000,
          414422000,
          436637000,
          613710000,
          602580000,
          504917000,
          420122000,
          495327000,
          704833000,
          690298000,
          865100000,
          829388000,
          503973000,
          391705000,
          393110000,
          507289000,
          479135000,
          615616000,
          520639000,
          582520000,
          608119000,
          1142269000,
          678364000,
          668075000,
          635713000,
          602318000,
          642086000,
          668976000,
          672171000,
          479063000,
          480372000,
          586719000,
          552136000,
          513648000,
          586067000,
          435212000,
          452441000,
          433064000,
          370067000,
          434965000,
          399678000,
          283220000,
          503547000,
          431929000,
          431637000,
          426805000,
          443077000,
          370453000,
          495400000,
          447260000,
          875198000,
          596341000,
          438559000,
          512208000,
          424641000,
          551011000,
          388971000,
          363709000,
          559863000,
          377898000,
          398341000,
          376203000,
          437342000,
          325721000,
          378013000,
          335325000,
          289680000,
          296507000,
          417735000,
          323952000,
          359691000,
          318764000,
          328946000,
          548648000,
          835065000,
          429494000,
          652728000,
          557442000,
          487350000,
          613263000,
          438392000,
          403324000,
          528402000,
          664696000,
          412386000,
          314162700,
          222551200,
          299595000,
          260704500,
          309320400,
          288504400,
          294335100,
          517768400,
          655484700,
          476060900,
          425787500,
          362975900,
          252571700,
          315516700,
          284885500,
          218374000,
          215749000,
          214176700,
          237677300,
          285366600,
          248978600,
          374782700,
          252680500,
          208326200,
          214769500,
          390086200,
          320979500,
          217223800,
          258068900,
          173911000,
          327776900,
          460067000,
          293399100,
          248152100,
          486833300,
          473174200,
          523462300,
          482027500,
          552842400,
          409012100,
          411440400,
          391910000,
          290844200,
          325559900,
          312646700,
          339246400,
          318086700,
          302589900,
          318333600,
          300087400,
          257883600,
          376189100,
          323230300,
          331964700,
          303134600,
          448101100,
          453023300,
          333751600,
          477155100,
          372470300,
          306850700,
          413638100,
          273912000,
          268283700,
          441422400,
          367100500,
          238358300,
          248772300,
          231925900,
          310318900,
          293506400,
          382462400,
          206228500,
          354966800,
          284692900,
          302582900,
          271009200,
          226553700,
          302094500,
          221845900,
          277118000,
          243678100,
          346250200,
          285722500,
          246191600,
          242311300,
          170209500,
          232347700,
          377831000,
          264879700,
          306435900,
          176090200,
          264554500,
          226311600,
          285930000,
          172354900,
          205122100,
          173586700,
          157593600,
          179418100,
          270039600,
          207127800,
          187528200,
          160537400,
          242043900,
          207323300,
          175665800,
          182325600,
          198634700,
          191903300,
          194463300,
          250132900,
          221866000,
          227834900,
          309871700,
          400946600,
          236406200,
          344941900,
          190287700,
          226370900,
          141863200,
          171682800,
          164414000,
          231224300,
          172621200,
          188505600,
          189308600,
          210020900,
          184905200,
          159211400,
          231514900,
          237951100,
          259410300,
          277444500,
          209719200,
          306528600,
          176053500,
          105157000,
          116205600,
          170582600,
          167734700,
          155659200,
          198247200,
          229322500,
          265377400,
          351782200,
          227349900,
          207602500,
          204808900,
          195590500,
          185217300,
          209235600,
          200492300,
          188216937
         ]
        },
        {
         "name": "Average",
         "type": "scatter",
         "x": [
          "2024-01-22T00:00:00-05:00",
          "2024-01-23T00:00:00-05:00",
          "2024-01-24T00:00:00-05:00",
          "2024-01-25T00:00:00-05:00",
          "2024-01-26T00:00:00-05:00",
          "2024-01-29T00:00:00-05:00",
          "2024-01-30T00:00:00-05:00",
          "2024-01-31T00:00:00-05:00",
          "2024-02-01T00:00:00-05:00",
          "2024-02-02T00:00:00-05:00",
          "2024-02-05T00:00:00-05:00",
          "2024-02-06T00:00:00-05:00",
          "2024-02-07T00:00:00-05:00",
          "2024-02-08T00:00:00-05:00",
          "2024-02-09T00:00:00-05:00",
          "2024-02-12T00:00:00-05:00",
          "2024-02-13T00:00:00-05:00",
          "2024-02-14T00:00:00-05:00",
          "2024-02-15T00:00:00-05:00",
          "2024-02-16T00:00:00-05:00",
          "2024-02-20T00:00:00-05:00",
          "2024-02-21T00:00:00-05:00",
          "2024-02-22T00:00:00-05:00",
          "2024-02-23T00:00:00-05:00",
          "2024-02-26T00:00:00-05:00",
          "2024-02-27T00:00:00-05:00",
          "2024-02-28T00:00:00-05:00",
          "2024-02-29T00:00:00-05:00",
          "2024-03-01T00:00:00-05:00",
          "2024-03-04T00:00:00-05:00",
          "2024-03-05T00:00:00-05:00",
          "2024-03-06T00:00:00-05:00",
          "2024-03-07T00:00:00-05:00",
          "2024-03-08T00:00:00-05:00",
          "2024-03-11T00:00:00-04:00",
          "2024-03-12T00:00:00-04:00",
          "2024-03-13T00:00:00-04:00",
          "2024-03-14T00:00:00-04:00",
          "2024-03-15T00:00:00-04:00",
          "2024-03-18T00:00:00-04:00",
          "2024-03-19T00:00:00-04:00",
          "2024-03-20T00:00:00-04:00",
          "2024-03-21T00:00:00-04:00",
          "2024-03-22T00:00:00-04:00",
          "2024-03-25T00:00:00-04:00",
          "2024-03-26T00:00:00-04:00",
          "2024-03-27T00:00:00-04:00",
          "2024-03-28T00:00:00-04:00",
          "2024-04-01T00:00:00-04:00",
          "2024-04-02T00:00:00-04:00",
          "2024-04-03T00:00:00-04:00",
          "2024-04-04T00:00:00-04:00",
          "2024-04-05T00:00:00-04:00",
          "2024-04-08T00:00:00-04:00",
          "2024-04-09T00:00:00-04:00",
          "2024-04-10T00:00:00-04:00",
          "2024-04-11T00:00:00-04:00",
          "2024-04-12T00:00:00-04:00",
          "2024-04-15T00:00:00-04:00",
          "2024-04-16T00:00:00-04:00",
          "2024-04-17T00:00:00-04:00",
          "2024-04-18T00:00:00-04:00",
          "2024-04-19T00:00:00-04:00",
          "2024-04-22T00:00:00-04:00",
          "2024-04-23T00:00:00-04:00",
          "2024-04-24T00:00:00-04:00",
          "2024-04-25T00:00:00-04:00",
          "2024-04-26T00:00:00-04:00",
          "2024-04-29T00:00:00-04:00",
          "2024-04-30T00:00:00-04:00",
          "2024-05-01T00:00:00-04:00",
          "2024-05-02T00:00:00-04:00",
          "2024-05-03T00:00:00-04:00",
          "2024-05-06T00:00:00-04:00",
          "2024-05-07T00:00:00-04:00",
          "2024-05-08T00:00:00-04:00",
          "2024-05-09T00:00:00-04:00",
          "2024-05-10T00:00:00-04:00",
          "2024-05-13T00:00:00-04:00",
          "2024-05-14T00:00:00-04:00",
          "2024-05-15T00:00:00-04:00",
          "2024-05-16T00:00:00-04:00",
          "2024-05-17T00:00:00-04:00",
          "2024-05-20T00:00:00-04:00",
          "2024-05-21T00:00:00-04:00",
          "2024-05-22T00:00:00-04:00",
          "2024-05-23T00:00:00-04:00",
          "2024-05-24T00:00:00-04:00",
          "2024-05-28T00:00:00-04:00",
          "2024-05-29T00:00:00-04:00",
          "2024-05-30T00:00:00-04:00",
          "2024-05-31T00:00:00-04:00",
          "2024-06-03T00:00:00-04:00",
          "2024-06-04T00:00:00-04:00",
          "2024-06-05T00:00:00-04:00",
          "2024-06-06T00:00:00-04:00",
          "2024-06-07T00:00:00-04:00",
          "2024-06-10T00:00:00-04:00",
          "2024-06-11T00:00:00-04:00",
          "2024-06-12T00:00:00-04:00",
          "2024-06-13T00:00:00-04:00",
          "2024-06-14T00:00:00-04:00",
          "2024-06-17T00:00:00-04:00",
          "2024-06-18T00:00:00-04:00",
          "2024-06-20T00:00:00-04:00",
          "2024-06-21T00:00:00-04:00",
          "2024-06-24T00:00:00-04:00",
          "2024-06-25T00:00:00-04:00",
          "2024-06-26T00:00:00-04:00",
          "2024-06-27T00:00:00-04:00",
          "2024-06-28T00:00:00-04:00",
          "2024-07-01T00:00:00-04:00",
          "2024-07-02T00:00:00-04:00",
          "2024-07-03T00:00:00-04:00",
          "2024-07-05T00:00:00-04:00",
          "2024-07-08T00:00:00-04:00",
          "2024-07-09T00:00:00-04:00",
          "2024-07-10T00:00:00-04:00",
          "2024-07-11T00:00:00-04:00",
          "2024-07-12T00:00:00-04:00",
          "2024-07-15T00:00:00-04:00",
          "2024-07-16T00:00:00-04:00",
          "2024-07-17T00:00:00-04:00",
          "2024-07-18T00:00:00-04:00",
          "2024-07-19T00:00:00-04:00",
          "2024-07-22T00:00:00-04:00",
          "2024-07-23T00:00:00-04:00",
          "2024-07-24T00:00:00-04:00",
          "2024-07-25T00:00:00-04:00",
          "2024-07-26T00:00:00-04:00",
          "2024-07-29T00:00:00-04:00",
          "2024-07-30T00:00:00-04:00",
          "2024-07-31T00:00:00-04:00",
          "2024-08-01T00:00:00-04:00",
          "2024-08-02T00:00:00-04:00",
          "2024-08-05T00:00:00-04:00",
          "2024-08-06T00:00:00-04:00",
          "2024-08-07T00:00:00-04:00",
          "2024-08-08T00:00:00-04:00",
          "2024-08-09T00:00:00-04:00",
          "2024-08-12T00:00:00-04:00",
          "2024-08-13T00:00:00-04:00",
          "2024-08-14T00:00:00-04:00",
          "2024-08-15T00:00:00-04:00",
          "2024-08-16T00:00:00-04:00",
          "2024-08-19T00:00:00-04:00",
          "2024-08-20T00:00:00-04:00",
          "2024-08-21T00:00:00-04:00",
          "2024-08-22T00:00:00-04:00",
          "2024-08-23T00:00:00-04:00",
          "2024-08-26T00:00:00-04:00",
          "2024-08-27T00:00:00-04:00",
          "2024-08-28T00:00:00-04:00",
          "2024-08-29T00:00:00-04:00",
          "2024-08-30T00:00:00-04:00",
          "2024-09-03T00:00:00-04:00",
          "2024-09-04T00:00:00-04:00",
          "2024-09-05T00:00:00-04:00",
          "2024-09-06T00:00:00-04:00",
          "2024-09-09T00:00:00-04:00",
          "2024-09-10T00:00:00-04:00",
          "2024-09-11T00:00:00-04:00",
          "2024-09-12T00:00:00-04:00",
          "2024-09-13T00:00:00-04:00",
          "2024-09-16T00:00:00-04:00",
          "2024-09-17T00:00:00-04:00",
          "2024-09-18T00:00:00-04:00",
          "2024-09-19T00:00:00-04:00",
          "2024-09-20T00:00:00-04:00",
          "2024-09-23T00:00:00-04:00",
          "2024-09-24T00:00:00-04:00",
          "2024-09-25T00:00:00-04:00",
          "2024-09-26T00:00:00-04:00",
          "2024-09-27T00:00:00-04:00",
          "2024-09-30T00:00:00-04:00",
          "2024-10-01T00:00:00-04:00",
          "2024-10-02T00:00:00-04:00",
          "2024-10-03T00:00:00-04:00",
          "2024-10-04T00:00:00-04:00",
          "2024-10-07T00:00:00-04:00",
          "2024-10-08T00:00:00-04:00",
          "2024-10-09T00:00:00-04:00",
          "2024-10-10T00:00:00-04:00",
          "2024-10-11T00:00:00-04:00",
          "2024-10-14T00:00:00-04:00",
          "2024-10-15T00:00:00-04:00",
          "2024-10-16T00:00:00-04:00",
          "2024-10-17T00:00:00-04:00",
          "2024-10-18T00:00:00-04:00",
          "2024-10-21T00:00:00-04:00",
          "2024-10-22T00:00:00-04:00",
          "2024-10-23T00:00:00-04:00",
          "2024-10-24T00:00:00-04:00",
          "2024-10-25T00:00:00-04:00",
          "2024-10-28T00:00:00-04:00",
          "2024-10-29T00:00:00-04:00",
          "2024-10-30T00:00:00-04:00",
          "2024-10-31T00:00:00-04:00",
          "2024-11-01T00:00:00-04:00",
          "2024-11-04T00:00:00-05:00",
          "2024-11-05T00:00:00-05:00",
          "2024-11-06T00:00:00-05:00",
          "2024-11-07T00:00:00-05:00",
          "2024-11-08T00:00:00-05:00",
          "2024-11-11T00:00:00-05:00",
          "2024-11-12T00:00:00-05:00",
          "2024-11-13T00:00:00-05:00",
          "2024-11-14T00:00:00-05:00",
          "2024-11-15T00:00:00-05:00",
          "2024-11-18T00:00:00-05:00",
          "2024-11-19T00:00:00-05:00",
          "2024-11-20T00:00:00-05:00",
          "2024-11-21T00:00:00-05:00",
          "2024-11-22T00:00:00-05:00",
          "2024-11-25T00:00:00-05:00",
          "2024-11-26T00:00:00-05:00",
          "2024-11-27T00:00:00-05:00",
          "2024-11-29T00:00:00-05:00",
          "2024-12-02T00:00:00-05:00",
          "2024-12-03T00:00:00-05:00",
          "2024-12-04T00:00:00-05:00",
          "2024-12-05T00:00:00-05:00",
          "2024-12-06T00:00:00-05:00",
          "2024-12-09T00:00:00-05:00",
          "2024-12-10T00:00:00-05:00",
          "2024-12-11T00:00:00-05:00",
          "2024-12-12T00:00:00-05:00",
          "2024-12-13T00:00:00-05:00",
          "2024-12-16T00:00:00-05:00",
          "2024-12-17T00:00:00-05:00",
          "2024-12-18T00:00:00-05:00",
          "2024-12-19T00:00:00-05:00",
          "2024-12-20T00:00:00-05:00",
          "2024-12-23T00:00:00-05:00",
          "2024-12-24T00:00:00-05:00",
          "2024-12-26T00:00:00-05:00",
          "2024-12-27T00:00:00-05:00",
          "2024-12-30T00:00:00-05:00",
          "2024-12-31T00:00:00-05:00",
          "2025-01-02T00:00:00-05:00",
          "2025-01-03T00:00:00-05:00",
          "2025-01-06T00:00:00-05:00",
          "2025-01-07T00:00:00-05:00",
          "2025-01-08T00:00:00-05:00",
          "2025-01-10T00:00:00-05:00",
          "2025-01-13T00:00:00-05:00",
          "2025-01-14T00:00:00-05:00",
          "2025-01-15T00:00:00-05:00",
          "2025-01-16T00:00:00-05:00",
          "2025-01-17T00:00:00-05:00",
          "2025-01-21T00:00:00-05:00"
         ],
         "y": [
          null,
          null,
          null,
          null,
          null,
          null,
          null,
          null,
          null,
          null,
          null,
          null,
          null,
          465224214.28571427,
          464058642.85714287,
          486848357.14285713,
          489870428.5714286,
          491451857.14285713,
          493581357.14285713,
          504052357.14285713,
          525059357.14285713,
          541952428.5714285,
          577377714.2857143,
          602578428.5714285,
          589999500,
          569184785.7142857,
          561865857.1428572,
          568499214.2857143,
          571534785.7142857,
          571670928.5714285,
          565818000,
          571361071.4285715,
          584789428.5714285,
          630999571.4285715,
          629108928.5714285,
          627521571.4285715,
          611136785.7142857,
          594917500,
          604782714.2857143,
          624587785.7142857,
          644520714.2857143,
          642504571.4285715,
          642592928.5714285,
          640528857.1428572,
          642778642.8571428,
          637859214.2857143,
          636284071.4285715,
          585780000,
          569642642.8571428,
          552856142.8571428,
          533881428.5714286,
          521927642.85714287,
          504612785.71428573,
          477058785.71428573,
          465014214.28571427,
          461647500,
          458166428.5714286,
          446744000,
          438954071.4285714,
          428725857.14285713,
          422249642.85714287,
          423110214.28571427,
          453307142.85714287,
          464969785.71428573,
          469862071.4285714,
          475379428.5714286,
          477162500,
          496290428.5714286,
          488106428.5714286,
          483233571.4285714,
          492392571.4285714,
          488899214.28571427,
          485703785.71428573,
          486114500,
          481967500,
          473286142.85714287,
          437772928.5714286,
          419128928.5714286,
          408494714.28571427,
          393087500,
          392594214.28571427,
          376375714.28571427,
          374284285.71428573,
          371073928.5714286,
          354579857.14285713,
          366776285.71428573,
          397970857.14285713,
          401777357.14285713,
          417162071.4285714,
          433713571.4285714,
          441523357.14285713,
          461376071.4285714,
          471998357.14285713,
          479628142.85714287,
          487532928.5714286,
          511871785.71428573,
          515635714.28571427,
          515307050,
          507707421.4285714,
          489917921.4285714,
          448892171.4285714,
          440308342.85714287,
          414292371.4285714,
          395499021.4285714,
          397671764.28571427,
          400687600,
          403378235.71428573,
          404982771.4285714,
          393166621.4285714,
          363729171.4285714,
          356809935.71428573,
          354718707.14285713,
          354420335.71428573,
          348431335.71428573,
          345107921.4285714,
          339990557.14285713,
          339766428.5714286,
          336526678.5714286,
          326313414.28571427,
          297541685.71428573,
          278417778.5714286,
          263345064.2857143,
          265281514.2857143,
          270167785.71428573,
          263146864.2857143,
          261231392.85714287,
          258055464.2857143,
          266057457.14285713,
          283621050,
          287601178.5714286,
          284943000,
          301932621.4285714,
          308960585.71428573,
          328302142.85714287,
          347852235.71428573,
          372000300,
          373352150,
          379813642.85714287,
          392291228.5714286,
          394632321.4285714,
          405464385.71428573,
          404383657.14285713,
          395753614.28571427,
          397517014.28571427,
          401405428.5714286,
          389369735.71428573,
          377006392.85714287,
          358036485.71428573,
          350476600,
          334075735.71428573,
          328572350,
          320836221.4285714,
          324849871.4285714,
          336434092.85714287,
          337019214.28571427,
          348769814.28571427,
          351142950,
          350340378.5714286,
          358272392.85714287,
          355099421.4285714,
          352827728.5714286,
          365937642.85714287,
          365288457.14285713,
          359226171.4285714,
          353283857.14285713,
          348197521.4285714,
          338355935.71428573,
          326961871.4285714,
          330441214.28571427,
          311089314.28571427,
          309839064.28571427,
          308256364.28571427,
          300323850,
          300116507.14285713,
          297135792.85714287,
          287183800,
          276808471.4285714,
          279577021.4285714,
          279213150,
          287379171.4285714,
          285622285.71428573,
          282242657.14285713,
          272231864.28571427,
          269659078.5714286,
          260900571.42857143,
          267553292.85714287,
          264860207.14285713,
          267390685.7142857,
          263786150,
          261104721.42857143,
          261423700,
          262053128.57142857,
          256958614.2857143,
          246878035.7142857,
          238868335.7142857,
          232539907.14285713,
          228047535.7142857,
          235178257.14285713,
          233376835.7142857,
          219783778.57142857,
          212330757.14285713,
          207731328.57142857,
          209962264.2857143,
          203613071.42857143,
          200471214.2857143,
          194235835.7142857,
          195632150,
          194870807.14285713,
          200338392.85714287,
          204929278.57142857,
          208387621.42857143,
          211232771.42857143,
          225076971.42857143,
          228568257.14285713,
          241740007.14285713,
          238043135.7142857,
          239403678.57142857,
          236989207.14285713,
          236229007.14285713,
          233784671.42857143,
          236593314.2857143,
          235033164.2857143,
          230631214.2857143,
          228305685.7142857,
          227033257.14285713,
          218107078.57142857,
          200840278.57142857,
          200490900,
          192848700,
          197786028.57142857,
          201434142.85714287,
          206281000,
          215912842.85714287,
          216744235.7142857,
          207739428.57142857,
          203709742.85714287,
          202429528.57142857,
          200888535.7142857,
          197005557.14285713,
          197958557.14285713,
          202966492.85714287,
          205385242.85714287,
          213516035.7142857,
          211226007.14285713,
          206237292.85714287,
          205886557.14285713,
          197962407.14285713,
          198616964.2857143,
          206051150,
          212071628.57142857,
          213331224.07142857
         ]
        }
       ],
       "layout": {
        "height": 400,
        "template": {
         "data": {
          "bar": [
           {
            "error_x": {
             "color": "#2a3f5f"
            },
            "error_y": {
             "color": "#2a3f5f"
            },
            "marker": {
             "line": {
              "color": "#E5ECF6",
              "width": 0.5
             },
             "pattern": {
              "fillmode": "overlay",
              "size": 10,
              "solidity": 0.2
             }
            },
            "type": "bar"
           }
          ],
          "barpolar": [
           {
            "marker": {
             "line": {
              "color": "#E5ECF6",
              "width": 0.5
             },
             "pattern": {
              "fillmode": "overlay",
              "size": 10,
              "solidity": 0.2
             }
            },
            "type": "barpolar"
           }
          ],
          "carpet": [
           {
            "aaxis": {
             "endlinecolor": "#2a3f5f",
             "gridcolor": "white",
             "linecolor": "white",
             "minorgridcolor": "white",
             "startlinecolor": "#2a3f5f"
            },
            "baxis": {
             "endlinecolor": "#2a3f5f",
             "gridcolor": "white",
             "linecolor": "white",
             "minorgridcolor": "white",
             "startlinecolor": "#2a3f5f"
            },
            "type": "carpet"
           }
          ],
          "choropleth": [
           {
            "colorbar": {
             "outlinewidth": 0,
             "ticks": ""
            },
            "type": "choropleth"
           }
          ],
          "contour": [
           {
            "colorbar": {
             "outlinewidth": 0,
             "ticks": ""
            },
            "colorscale": [
             [
              0,
              "#0d0887"
             ],
             [
              0.1111111111111111,
              "#46039f"
             ],
             [
              0.2222222222222222,
              "#7201a8"
             ],
             [
              0.3333333333333333,
              "#9c179e"
             ],
             [
              0.4444444444444444,
              "#bd3786"
             ],
             [
              0.5555555555555556,
              "#d8576b"
             ],
             [
              0.6666666666666666,
              "#ed7953"
             ],
             [
              0.7777777777777778,
              "#fb9f3a"
             ],
             [
              0.8888888888888888,
              "#fdca26"
             ],
             [
              1,
              "#f0f921"
             ]
            ],
            "type": "contour"
           }
          ],
          "contourcarpet": [
           {
            "colorbar": {
             "outlinewidth": 0,
             "ticks": ""
            },
            "type": "contourcarpet"
           }
          ],
          "heatmap": [
           {
            "colorbar": {
             "outlinewidth": 0,
             "ticks": ""
            },
            "colorscale": [
             [
              0,
              "#0d0887"
             ],
             [
              0.1111111111111111,
              "#46039f"
             ],
             [
              0.2222222222222222,
              "#7201a8"
             ],
             [
              0.3333333333333333,
              "#9c179e"
             ],
             [
              0.4444444444444444,
              "#bd3786"
             ],
             [
              0.5555555555555556,
              "#d8576b"
             ],
             [
              0.6666666666666666,
              "#ed7953"
             ],
             [
              0.7777777777777778,
              "#fb9f3a"
             ],
             [
              0.8888888888888888,
              "#fdca26"
             ],
             [
              1,
              "#f0f921"
             ]
            ],
            "type": "heatmap"
           }
          ],
          "heatmapgl": [
           {
            "colorbar": {
             "outlinewidth": 0,
             "ticks": ""
            },
            "colorscale": [
             [
              0,
              "#0d0887"
             ],
             [
              0.1111111111111111,
              "#46039f"
             ],
             [
              0.2222222222222222,
              "#7201a8"
             ],
             [
              0.3333333333333333,
              "#9c179e"
             ],
             [
              0.4444444444444444,
              "#bd3786"
             ],
             [
              0.5555555555555556,
              "#d8576b"
             ],
             [
              0.6666666666666666,
              "#ed7953"
             ],
             [
              0.7777777777777778,
              "#fb9f3a"
             ],
             [
              0.8888888888888888,
              "#fdca26"
             ],
             [
              1,
              "#f0f921"
             ]
            ],
            "type": "heatmapgl"
           }
          ],
          "histogram": [
           {
            "marker": {
             "pattern": {
              "fillmode": "overlay",
              "size": 10,
              "solidity": 0.2
             }
            },
            "type": "histogram"
           }
          ],
          "histogram2d": [
           {
            "colorbar": {
             "outlinewidth": 0,
             "ticks": ""
            },
            "colorscale": [
             [
              0,
              "#0d0887"
             ],
             [
              0.1111111111111111,
              "#46039f"
             ],
             [
              0.2222222222222222,
              "#7201a8"
             ],
             [
              0.3333333333333333,
              "#9c179e"
             ],
             [
              0.4444444444444444,
              "#bd3786"
             ],
             [
              0.5555555555555556,
              "#d8576b"
             ],
             [
              0.6666666666666666,
              "#ed7953"
             ],
             [
              0.7777777777777778,
              "#fb9f3a"
             ],
             [
              0.8888888888888888,
              "#fdca26"
             ],
             [
              1,
              "#f0f921"
             ]
            ],
            "type": "histogram2d"
           }
          ],
          "histogram2dcontour": [
           {
            "colorbar": {
             "outlinewidth": 0,
             "ticks": ""
            },
            "colorscale": [
             [
              0,
              "#0d0887"
             ],
             [
              0.1111111111111111,
              "#46039f"
             ],
             [
              0.2222222222222222,
              "#7201a8"
             ],
             [
              0.3333333333333333,
              "#9c179e"
             ],
             [
              0.4444444444444444,
              "#bd3786"
             ],
             [
              0.5555555555555556,
              "#d8576b"
             ],
             [
              0.6666666666666666,
              "#ed7953"
             ],
             [
              0.7777777777777778,
              "#fb9f3a"
             ],
             [
              0.8888888888888888,
              "#fdca26"
             ],
             [
              1,
              "#f0f921"
             ]
            ],
            "type": "histogram2dcontour"
           }
          ],
          "mesh3d": [
           {
            "colorbar": {
             "outlinewidth": 0,
             "ticks": ""
            },
            "type": "mesh3d"
           }
          ],
          "parcoords": [
           {
            "line": {
             "colorbar": {
              "outlinewidth": 0,
              "ticks": ""
             }
            },
            "type": "parcoords"
           }
          ],
          "pie": [
           {
            "automargin": true,
            "type": "pie"
           }
          ],
          "scatter": [
           {
            "fillpattern": {
             "fillmode": "overlay",
             "size": 10,
             "solidity": 0.2
            },
            "type": "scatter"
           }
          ],
          "scatter3d": [
           {
            "line": {
             "colorbar": {
              "outlinewidth": 0,
              "ticks": ""
             }
            },
            "marker": {
             "colorbar": {
              "outlinewidth": 0,
              "ticks": ""
             }
            },
            "type": "scatter3d"
           }
          ],
          "scattercarpet": [
           {
            "marker": {
             "colorbar": {
              "outlinewidth": 0,
              "ticks": ""
             }
            },
            "type": "scattercarpet"
           }
          ],
          "scattergeo": [
           {
            "marker": {
             "colorbar": {
              "outlinewidth": 0,
              "ticks": ""
             }
            },
            "type": "scattergeo"
           }
          ],
          "scattergl": [
           {
            "marker": {
             "colorbar": {
              "outlinewidth": 0,
              "ticks": ""
             }
            },
            "type": "scattergl"
           }
          ],
          "scattermapbox": [
           {
            "marker": {
             "colorbar": {
              "outlinewidth": 0,
              "ticks": ""
             }
            },
            "type": "scattermapbox"
           }
          ],
          "scatterpolar": [
           {
            "marker": {
             "colorbar": {
              "outlinewidth": 0,
              "ticks": ""
             }
            },
            "type": "scatterpolar"
           }
          ],
          "scatterpolargl": [
           {
            "marker": {
             "colorbar": {
              "outlinewidth": 0,
              "ticks": ""
             }
            },
            "type": "scatterpolargl"
           }
          ],
          "scatterternary": [
           {
            "marker": {
             "colorbar": {
              "outlinewidth": 0,
              "ticks": ""
             }
            },
            "type": "scatterternary"
           }
          ],
          "surface": [
           {
            "colorbar": {
             "outlinewidth": 0,
             "ticks": ""
            },
            "colorscale": [
             [
              0,
              "#0d0887"
             ],
             [
              0.1111111111111111,
              "#46039f"
             ],
             [
              0.2222222222222222,
              "#7201a8"
             ],
             [
              0.3333333333333333,
              "#9c179e"
             ],
             [
              0.4444444444444444,
              "#bd3786"
             ],
             [
              0.5555555555555556,
              "#d8576b"
             ],
             [
              0.6666666666666666,
              "#ed7953"
             ],
             [
              0.7777777777777778,
              "#fb9f3a"
             ],
             [
              0.8888888888888888,
              "#fdca26"
             ],
             [
              1,
              "#f0f921"
             ]
            ],
            "type": "surface"
           }
          ],
          "table": [
           {
            "cells": {
             "fill": {
              "color": "#EBF0F8"
             },
             "line": {
              "color": "white"
             }
            },
            "header": {
             "fill": {
              "color": "#C8D4E3"
             },
             "line": {
              "color": "white"
             }
            },
            "type": "table"
           }
          ]
         },
         "layout": {
          "annotationdefaults": {
           "arrowcolor": "#2a3f5f",
           "arrowhead": 0,
           "arrowwidth": 1
          },
          "autotypenumbers": "strict",
          "coloraxis": {
           "colorbar": {
            "outlinewidth": 0,
            "ticks": ""
           }
          },
          "colorscale": {
           "diverging": [
            [
             0,
             "#8e0152"
            ],
            [
             0.1,
             "#c51b7d"
            ],
            [
             0.2,
             "#de77ae"
            ],
            [
             0.3,
             "#f1b6da"
            ],
            [
             0.4,
             "#fde0ef"
            ],
            [
             0.5,
             "#f7f7f7"
            ],
            [
             0.6,
             "#e6f5d0"
            ],
            [
             0.7,
             "#b8e186"
            ],
            [
             0.8,
             "#7fbc41"
            ],
            [
             0.9,
             "#4d9221"
            ],
            [
             1,
             "#276419"
            ]
           ],
           "sequential": [
            [
             0,
             "#0d0887"
            ],
            [
             0.1111111111111111,
             "#46039f"
            ],
            [
             0.2222222222222222,
             "#7201a8"
            ],
            [
             0.3333333333333333,
             "#9c179e"
            ],
            [
             0.4444444444444444,
             "#bd3786"
            ],
            [
             0.5555555555555556,
             "#d8576b"
            ],
            [
             0.6666666666666666,
             "#ed7953"
            ],
            [
             0.7777777777777778,
             "#fb9f3a"
            ],
            [
             0.8888888888888888,
             "#fdca26"
            ],
            [
             1,
             "#f0f921"
            ]
           ],
           "sequentialminus": [
            [
             0,
             "#0d0887"
            ],
            [
             0.1111111111111111,
             "#46039f"
            ],
            [
             0.2222222222222222,
             "#7201a8"
            ],
            [
             0.3333333333333333,
             "#9c179e"
            ],
            [
             0.4444444444444444,
             "#bd3786"
            ],
            [
             0.5555555555555556,
             "#d8576b"
            ],
            [
             0.6666666666666666,
             "#ed7953"
            ],
            [
             0.7777777777777778,
             "#fb9f3a"
            ],
            [
             0.8888888888888888,
             "#fdca26"
            ],
            [
             1,
             "#f0f921"
            ]
           ]
          },
          "colorway": [
           "#636efa",
           "#EF553B",
           "#00cc96",
           "#ab63fa",
           "#FFA15A",
           "#19d3f3",
           "#FF6692",
           "#B6E880",
           "#FF97FF",
           "#FECB52"
          ],
          "font": {
           "color": "#2a3f5f"
          },
          "geo": {
           "bgcolor": "white",
           "lakecolor": "white",
           "landcolor": "#E5ECF6",
           "showlakes": true,
           "showland": true,
           "subunitcolor": "white"
          },
          "hoverlabel": {
           "align": "left"
          },
          "hovermode": "closest",
          "mapbox": {
           "style": "light"
          },
          "paper_bgcolor": "white",
          "plot_bgcolor": "#E5ECF6",
          "polar": {
           "angularaxis": {
            "gridcolor": "white",
            "linecolor": "white",
            "ticks": ""
           },
           "bgcolor": "#E5ECF6",
           "radialaxis": {
            "gridcolor": "white",
            "linecolor": "white",
            "ticks": ""
           }
          },
          "scene": {
           "xaxis": {
            "backgroundcolor": "#E5ECF6",
            "gridcolor": "white",
            "gridwidth": 2,
            "linecolor": "white",
            "showbackground": true,
            "ticks": "",
            "zerolinecolor": "white"
           },
           "yaxis": {
            "backgroundcolor": "#E5ECF6",
            "gridcolor": "white",
            "gridwidth": 2,
            "linecolor": "white",
            "showbackground": true,
            "ticks": "",
            "zerolinecolor": "white"
           },
           "zaxis": {
            "backgroundcolor": "#E5ECF6",
            "gridcolor": "white",
            "gridwidth": 2,
            "linecolor": "white",
            "showbackground": true,
            "ticks": "",
            "zerolinecolor": "white"
           }
          },
          "shapedefaults": {
           "line": {
            "color": "#2a3f5f"
           }
          },
          "ternary": {
           "aaxis": {
            "gridcolor": "white",
            "linecolor": "white",
            "ticks": ""
           },
           "baxis": {
            "gridcolor": "white",
            "linecolor": "white",
            "ticks": ""
           },
           "bgcolor": "#E5ECF6",
           "caxis": {
            "gridcolor": "white",
            "linecolor": "white",
            "ticks": ""
           }
          },
          "title": {
           "x": 0.05
          },
          "xaxis": {
           "automargin": true,
           "gridcolor": "white",
           "linecolor": "white",
           "ticks": "",
           "title": {
            "standoff": 15
           },
           "zerolinecolor": "white",
           "zerolinewidth": 2
          },
          "yaxis": {
           "automargin": true,
           "gridcolor": "white",
           "linecolor": "white",
           "ticks": "",
           "title": {
            "standoff": 15
           },
           "zerolinecolor": "white",
           "zerolinewidth": 2
          }
         }
        },
        "title": {
         "text": "NVDA"
        },
        "width": 600
       }
      }
     },
     "metadata": {},
     "output_type": "display_data"
    }
   ],
   "source": [
    "\n",
    "from finta import TA\n",
    "\n",
    "data = t.history(period='1y', rounding=True)\n",
    "data['ema10'] = TA.EMA(data, 10)\n",
    "data['sma30'] = TA.SMA(data, 30)\n",
    "\n",
    "import plotly.graph_objects as go\n",
    "\n",
    "# Stock and moving averages\n",
    "fig = go.Figure(data=[\n",
    "                go.Candlestick(\n",
    "                    x = data.index, # date values\n",
    "                    open  = data['Open'],\n",
    "                    high  = data['High'],\n",
    "                    low   = data['Low'],\n",
    "                    close = data['Close'],\n",
    "                    name = STOCK\n",
    "                ),\n",
    "         \n",
    "                go.Scatter( x=data['ema10'].index,\n",
    "                            y=data['ema10'],\n",
    "                            name='EMA 10',\n",
    "                            line=dict(color='blue',\n",
    "                                      width=2,\n",
    "                                      shape='spline'), # smooth the line\n",
    "                            ),\n",
    "        \n",
    "                go.Scatter( x=data['sma30'].index,\n",
    "                            y=data['sma30'],\n",
    "                            name='SMA 30',\n",
    "                            line=dict(color='purple',\n",
    "                                      width=2,\n",
    "                                      shape='spline'), # smooth the line\n",
    "                            ),\n",
    "                \n",
    "                ])\n",
    "fig.update_layout(xaxis_rangeslider_visible=False, title=f\"{STOCK}\", width=600, height=400)\n",
    "fig.show()\n",
    "\n",
    "# Volume\n",
    "data['vol_avg'] = data['Volume'].rolling(14).mean()\n",
    "fig1 = go.Figure(\n",
    "    data = [\n",
    "        go.Bar(x=data.index, y=data['Volume'], name='Volume'),\n",
    "        go.Scatter(x=data.index, y=data['vol_avg'], name='Average')\n",
    "    ])\n",
    "\n",
    "fig1.update_layout(title=f\"{STOCK}\", width=600, height=400)\n",
    "fig1.show()\n"
   ]
  },
  {
   "cell_type": "code",
   "execution_count": 6,
   "metadata": {},
   "outputs": [
    {
     "name": "stdout",
     "output_type": "stream",
     "text": [
      "STOCK:  NVDA\n",
      "\u001b[90m ●  VIX has crossed up\n",
      "\u001b[90m ●  VIX has crossed down\n",
      "\u001b[92m ●  MACD has crossed up\n",
      "\u001b[90m ●  MACD has crossed down\n",
      "\u001b[92m ●  Stochastic has crossed up\n",
      "\u001b[90m ●  Stochastic has crossed down\n",
      "\u001b[92m ●  Moving average is bullish\n",
      "\u001b[90m ●  Moving average is reversing\n",
      "\u001b[90m ●  Moving average cross down\n",
      "\u001b[90m ●  Moving average cross up\n",
      "\u001b[90m ●  Moving average is bearish\n",
      "\u001b[90m ●  Moving average price crossed below \n",
      "\u001b[90m ●  Moving average price crossed above \n",
      "\u001b[90m ●  52 week low \n",
      "\u001b[90m ●  52 week high \n",
      "\u001b[90m ●  RSI oversold (30)\n",
      "\u001b[90m ●  RSI overbought (70)\n",
      "\u001b[90m ●  RSI 52 week low\n",
      "\u001b[90m ●  RSI 52 week high\n",
      "\u001b[90m ●  Resistance break up\n",
      "\u001b[90m ●  Support break down\n",
      "\u001b[90m ●  Close Above High Of Low Day\n",
      "\u001b[90m ●  Close Below Low Of High Day\n",
      "\u001b[90m ●  Volume high\n"
     ]
    }
   ],
   "source": [
    "\n",
    "from yfinance_utils import signals_utils\n",
    "#\n",
    "#Red = '\\033[91m'\n",
    "#Green = '\\033[92m'\n",
    "#Blue = '\\033[94m'\n",
    "#Cyan = '\\033[96m'\n",
    "#White = '\\033[97m'\n",
    "#Yellow = '\\033[93m'\n",
    "#Magenta = '\\033[95m'\n",
    "#Grey = '\\033[90m'\n",
    "#Black = '\\033[90m'\n",
    "#Default = '\\033[99m'\n",
    "\n",
    "def get_color_dot(c):\n",
    "    if c:\n",
    "        return\"\\033[92m ● \"  # Green dot\n",
    "    else:\n",
    "        return\"\\033[90m ● \"  # Grey dot\n",
    "\n",
    "print(f\"STOCK:  {STOCK}\")\n",
    "print(f\"{get_color_dot(signals_utils.is_vix_hma_cross_up(day=2))} VIX has crossed up\")\n",
    "print(f\"{get_color_dot(signals_utils.is_vix_hma_cross_up(day=2))} VIX has crossed down\")\n",
    "print(f\"{get_color_dot(signals_utils.is_macd_cross_up(data))} MACD has crossed up\")\n",
    "print(f\"{get_color_dot(signals_utils.is_macd_cross_down(data))} MACD has crossed down\")\n",
    "print(f\"{get_color_dot(signals_utils.is_stochastic_cross_up(data))} Stochastic has crossed up\")\n",
    "print(f\"{get_color_dot(signals_utils.is_stochastic_cross_down(data))} Stochastic has crossed down\")\n",
    "print(f\"{get_color_dot(signals_utils.is_ma_bullish_trend(data))} Moving average is bullish\")\n",
    "print(f\"{get_color_dot(signals_utils.is_ma_trend_reversing(data))} Moving average is reversing\")\n",
    "print(f\"{get_color_dot(signals_utils.is_ma_cross_down(data))} Moving average cross down\")\n",
    "print(f\"{get_color_dot(signals_utils.is_ma_cross_up(data))} Moving average cross up\")\n",
    "print(f\"{get_color_dot(signals_utils.is_ma_bearish_trend(data))} Moving average is bearish\")\n",
    "print(f\"{get_color_dot(signals_utils.is_ma_price_cross_down(data))} Moving average price crossed below \")\n",
    "print(f\"{get_color_dot(signals_utils.is_ma_price_cross_up(data))} Moving average price crossed above \")\n",
    "print(f\"{get_color_dot(signals_utils.is_price_year_low(data))} 52 week low \")\n",
    "print(f\"{get_color_dot(signals_utils.is_price_year_high(data))} 52 week high \")\n",
    "print(f\"{get_color_dot(signals_utils.is_rsi_oversold(data))} RSI oversold (30)\")\n",
    "print(f\"{get_color_dot(signals_utils.is_rsi_overbough(data))} RSI overbought (70)\")\n",
    "print(f\"{get_color_dot(signals_utils.is_price_year_low(data))} RSI 52 week low\")\n",
    "print(f\"{get_color_dot(signals_utils.is_price_year_high(data))} RSI 52 week high\")\n",
    "print(f\"{get_color_dot(signals_utils.is_resistance_breake_up(data))} Resistance break up\")\n",
    "print(f\"{get_color_dot(signals_utils.is_support_breake_down(data))} Support break down\")\n",
    "print(f\"{get_color_dot(signals_utils.is_cahold(data))} Close Above High Of Low Day\")\n",
    "print(f\"{get_color_dot(signals_utils.is_cblohd(data))} Close Below Low Of High Day\")\n",
    "print(f\"{get_color_dot(signals_utils.is_high_volume(data))} Volume high\")\n"
   ]
  },
  {
   "cell_type": "code",
   "execution_count": 7,
   "metadata": {},
   "outputs": [
    {
     "name": "stdout",
     "output_type": "stream",
     "text": [
      "Stock                        : NVDA\n",
      "Price                        : 140.83\n",
      "Put Call Ratio               : 0.39\n",
      "Current Ratio                : 4.27\n",
      "Book Value per Share         : 1.74\n",
      "\n",
      "Records for last two periods.\n",
      "Note: periods are read right to left\n",
      "\n",
      "                              PERIOD_0  PERIOD_1                    CHANGE\n",
      "NAME                                                                      \n",
      "Revenue MM                    29760.00   4368.00   \u001b[92m UP 581.0% ● \u001b[97m\n",
      "Average Assets MM             53455.00  42684.50    \u001b[92m UP 25.0% ● \u001b[97m\n",
      "Average Inventory MM           5220.50   3882.00    \u001b[92m UP 34.0% ● \u001b[97m\n",
      "Revenue per Share                 2.44      1.08   \u001b[92m UP 127.0% ● \u001b[97m\n",
      "Earnings per Share                1.19      0.17   \u001b[92m UP 586.0% ● \u001b[97m\n",
      "Share Price to Earnings         118.05    118.05   \u001b[91m DOWN 0.0% ● \u001b[97m\n",
      "Price to Sales                   57.65     57.65   \u001b[91m DOWN 0.0% ● \u001b[97m\n",
      "Acid Test Ratio                   3.67      2.73    \u001b[92m UP 35.0% ● \u001b[97m\n",
      "Cash Ratio                        0.68      0.52    \u001b[92m UP 33.0% ● \u001b[97m\n",
      "Operating Cash Flow Ratio         2.64      0.86   \u001b[92m UP 207.0% ● \u001b[97m\n",
      "Debt Ratio                        0.35      0.46  \u001b[91m DOWN 25.0% ● \u001b[97m\n",
      "Debt to Equity Ratio              0.53      0.86  \u001b[91m DOWN 39.0% ● \u001b[97m\n",
      "Interest Coverage Ratio         128.30     21.29   \u001b[92m UP 503.0% ● \u001b[97m\n",
      "Service Coverage Ratio            2.98      0.46   \u001b[92m UP 543.0% ● \u001b[97m\n",
      "Asset Turnover Ratio              0.56      0.10   \u001b[92m UP 444.0% ● \u001b[97m\n",
      "Inventory Turnover Ratio          4.28      5.24  \u001b[91m DOWN 18.0% ● \u001b[97m\n",
      "Day Sales in Inventory Ratio      0.00      0.00  \u001b[91m DOWN 26.0% ● \u001b[97m\n",
      "Return on Assets Ratio            0.45      0.11   \u001b[92m UP 327.0% ● \u001b[97m\n",
      "Return on Equity Ratio            0.69      0.20   \u001b[92m UP 250.0% ● \u001b[97m\n"
     ]
    }
   ],
   "source": [
    "\n",
    "from yfinance_utils import ratio_utils\n",
    "import pandas as pd\n",
    "\n",
    "print(f\"Stock                        : {STOCK}\")\n",
    "print(f\"Price                        : {t.history()['Close'].iloc[-1].round(2)}\")\n",
    "print(f\"Put Call Ratio               : {ratio_utils.get_put_call_ratio(t):,.2f}\")\n",
    "print(f\"Current Ratio                : {ratio_utils.get_current_ratio(t):,.2f}\")\n",
    "print(f\"Book Value per Share         : {ratio_utils.get_book_value_per_share_ratio(t):,.2f}\")\n",
    "print(\"\")\n",
    "\n",
    "df = pd.DataFrame()\n",
    "\n",
    "ls_name = [\n",
    "    'Revenue MM'                  ,\n",
    "    'Average Assets MM'           ,\n",
    "    'Average Inventory MM'        ,\n",
    "    'Revenue per Share'           ,\n",
    "    'Earnings per Share'          ,\n",
    "    'Share Price to Earnings'     ,\n",
    "    'Price to Sales'              ,\n",
    "    'Acid Test Ratio'             ,\n",
    "    'Cash Ratio'                  ,\n",
    "    'Operating Cash Flow Ratio'   ,\n",
    "    'Debt Ratio'                  ,\n",
    "    'Debt to Equity Ratio'        ,\n",
    "    'Interest Coverage Ratio'     ,\n",
    "    'Service Coverage Ratio'      ,\n",
    "    'Asset Turnover Ratio'        ,\n",
    "    'Inventory Turnover Ratio'    ,\n",
    "    'Day Sales in Inventory Ratio',\n",
    "    'Return on Assets Ratio'      , \n",
    "    'Return on Equity Ratio'\n",
    "]\n",
    "\n",
    "for i in range(1,3):\n",
    "    name = ls_name\n",
    "    \n",
    "df['NAME'] = ls_name\n",
    "df.set_index('NAME',inplace=True)\n",
    "\n",
    "for i in range(2):\n",
    "    ls = []\n",
    "    ls.append(ratio_utils.get_net_revenue(t, period = i)/1000000)\n",
    "    ls.append(ratio_utils.get_avg_assets(t, period = i)/1000000)\n",
    "    ls.append(ratio_utils.get_avg_inventory(t, period = i)/1000000)\n",
    "    ls.append(ratio_utils.get_revenue_per_share(t, period = i))\n",
    "    ls.append(ratio_utils.get_earnings_per_share(t, period = i))\n",
    "    ls.append(ratio_utils.get_price_to_earnings(t, period = i))\n",
    "    ls.append(ratio_utils.get_price_to_sales(t, period = i))\n",
    "    ls.append(ratio_utils.get_acid_test_ratio(t, period = i))\n",
    "    ls.append(ratio_utils.get_cash_ratio(t, period = i))\n",
    "    ls.append(ratio_utils.get_operating_cash_flow_ratio(t, period = i))\n",
    "    ls.append(ratio_utils.get_debt_ratio(t, period = i))\n",
    "    ls.append(ratio_utils.get_debt_to_equity_ratio(t, period = i))\n",
    "    ls.append(ratio_utils.get_interest_coverage_ratio(t, period = i))\n",
    "    ls.append(ratio_utils.get_service_coverage_ratio(t, period = i))\n",
    "    ls.append(ratio_utils.get_asset_turnover_ratio(t, period = i))\n",
    "    ls.append(ratio_utils.get_inventory_turnover_ratio(t, period = i))\n",
    "    ls.append(ratio_utils.get_day_sales_in_inventory_ratio(t, period = i))\n",
    "    ls.append(ratio_utils.get_return_on_assets_ratio(t, period = i))\n",
    "    ls.append(ratio_utils.get_return_on_equity(t, period = i))\n",
    "    df[f\"PERIOD_{i}\"] = ls\n",
    "\n",
    "direction = []\n",
    "for i in range(len(df)):\n",
    "    if df['PERIOD_0'].iloc[i] > df['PERIOD_1'].iloc[i]:\n",
    "        pct = round(((df['PERIOD_0'].iloc[i] / df['PERIOD_1'].iloc[i]) - 1) * 100,0)\n",
    "        direction.append(f\"\\033[92m UP {abs(pct)}% ● \\033[97m\")\n",
    "    else:\n",
    "        pct = round(((1-((df['PERIOD_0'].iloc[i] / df['PERIOD_1'].iloc[i])))*100),0)\n",
    "        direction.append(f\"\\033[91m DOWN {abs(pct)}% ● \\033[97m\")\n",
    "df['CHANGE'] = direction\n",
    "\n",
    "print(\"Records for last two periods.\")\n",
    "print(\"Note: periods are read right to left\")\n",
    "print('')\n",
    "print(df.round(2))"
   ]
  }
 ],
 "metadata": {
  "kernelspec": {
   "display_name": ".venv",
   "language": "python",
   "name": "python3"
  },
  "language_info": {
   "codemirror_mode": {
    "name": "ipython",
    "version": 3
   },
   "file_extension": ".py",
   "mimetype": "text/x-python",
   "name": "python",
   "nbconvert_exporter": "python",
   "pygments_lexer": "ipython3",
   "version": "3.9.6"
  }
 },
 "nbformat": 4,
 "nbformat_minor": 2
}
