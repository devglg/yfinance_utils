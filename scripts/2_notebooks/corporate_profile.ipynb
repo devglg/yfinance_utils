{
 "cells": [
  {
   "cell_type": "markdown",
   "metadata": {},
   "source": [
    "Copyright 2024 Lehi Gracia"
   ]
  },
  {
   "cell_type": "code",
   "execution_count": 31,
   "metadata": {},
   "outputs": [],
   "source": [
    "STOCK = 'vrt'"
   ]
  },
  {
   "cell_type": "code",
   "execution_count": 32,
   "metadata": {},
   "outputs": [
    {
     "name": "stdout",
     "output_type": "stream",
     "text": [
      "2025-03-14T17:07:49Z  As the U.S. stock market experiences volatility with the S&P 500 and Nasdaq on track for their fourth consecutive week of losses, investors are keenly observing opportunities that may arise from these fluctuations. In this environment, identifying undervalued stocks becomes crucial as they offer potential value by trading below their estimated worth, providing a strategic entry point for those looking to capitalize on market corrections.-Lehi\n",
      "2025-03-14T15:00:00Z  Data Center stocks have been hit hard in the market's recent wave of volatility, perhaps bringing about nice buying opportunities for those looking to join the trade.-Lehi\n",
      "2025-03-13T09:02:48Z  Let’s dig into the relative performance of Verra Mobility (NASDAQ:VRRM) and its peers as we unravel the now-completed Q4 electrical systems earnings season.-Lehi\n",
      "2025-03-12T14:51:18Z  We recently published a list of 10 Best Upside Stocks To Buy Right Now. In this article, we are going to take a look at where Vertiv Holdings Co. (NYSE:VRT) stands against other best upside stocks to buy right now. On March 8, Bob Elliott, Co-Founder, CEO, and CIO of Unlimited, and Kara Murphy, CIO […]-Lehi\n",
      "2025-03-12T14:34:00Z  ServiceNow (NOW) saw its shares surge in the last session with trading volume being higher than average. The latest trend in earnings estimate revisions may not translate into further price increase in the near term.-Lehi\n",
      "2025-03-11T18:23:55Z  Vertiv Holdings Co (NYSE:VRT) has recently experienced an 8.65% decrease in its share price over the last week. Despite the company's launch of the Vertiv™ CoolLoop Trim Cooler, which enhances their thermal management capabilities for AI and high-performance computing, external economic factors appear to have influenced its stock performance. The announcement of U.S. tariffs on Canadian steel and aluminum by the Trump administration contributed to overall market negativity, with major indexes...-Lehi\n",
      "2025-03-11T18:00:21Z  Shares of data center products and services company Vertiv (NYSE:VRT) jumped 5.6% in the afternoon session after stocks rebounded, following a broad-based sell-off the previous day. The Nasdaq was down 4%, while the S&P fell 2.7% as concerns over the ongoing trade war continued to spread. While those concerns haven't exactly disappeared, it's likely some investors looked to take positions in some of the beaten-down stocks, especially some of the high-quality names that got caught up in the sell--Lehi\n",
      "2025-03-11T13:01:46Z  Quality compounders are well-oiled machines. Their competitive advantages allow them to make profits consistently and reinvest them into projects that generate even more profits, creating a virtuous cycle of returns.-Lehi\n",
      "2025-03-11T13:00:16Z  Recently, Zacks.com users have been paying close attention to Vertiv (VRT). This makes it worthwhile to examine what the stock has in store.-Lehi\n",
      "2025-03-10T00:24:20Z  We recently published an article titled Why These 15 Large-Cap Stocks Are Plunging So Far In 2025. In this article, we are going to take a look at where Vertiv Holdings Co (NYSE:VRT) stands against the other large-cap stocks. The big and large-cap stocks have spearheaded the rally in the past two years, but Wall Street’s […]-Lehi\n"
     ]
    }
   ],
   "source": [
    "\n",
    "import warnings\n",
    "warnings.filterwarnings('ignore')\n",
    "\n",
    "import yfinance\n",
    "from datetime import datetime\n",
    "\n",
    "t = yfinance.Ticker(STOCK)\n",
    "n = t.news\n",
    "for i in n:\n",
    "    print(f\"{i['content']['pubDate']}  {i['content']['summary']}-Lehi\")"
   ]
  },
  {
   "cell_type": "markdown",
   "metadata": {},
   "source": [
    "### Ratings UP and DOWN"
   ]
  },
  {
   "cell_type": "code",
   "execution_count": 33,
   "metadata": {},
   "outputs": [
    {
     "name": "stdout",
     "output_type": "stream",
     "text": [
      "19  up\n",
      "0  down\n",
      "22  total\n",
      "3  hold\n"
     ]
    }
   ],
   "source": [
    "\n",
    "from yfinance_utils import financials_utils\n",
    "\n",
    "ratings = financials_utils.get_ratings(t)\n",
    "for i in ratings.keys():\n",
    "    print(f\"{ratings[i]}  {i}\")\n",
    "\n"
   ]
  },
  {
   "cell_type": "markdown",
   "metadata": {},
   "source": [
    "### Total Ratings"
   ]
  },
  {
   "cell_type": "code",
   "execution_count": 34,
   "metadata": {},
   "outputs": [
    {
     "data": {
      "application/vnd.plotly.v1+json": {
       "config": {
        "plotlyServerURL": "https://plot.ly"
       },
       "data": [
        {
         "domain": {
          "x": [
           0,
           1
          ],
          "y": [
           0,
           1
          ]
         },
         "hovertemplate": "label=%{label}<br>value=%{value}<extra></extra>",
         "labels": [
          "Outperform",
          "Equal-Weight",
          "Hold",
          "Overweight",
          "Buy",
          "Neutral",
          "Market Perform",
          "Peer Perform"
         ],
         "legendgroup": "",
         "name": "",
         "showlegend": true,
         "type": "pie",
         "values": {
          "bdata": "GwQCCSoKAQE=",
          "dtype": "i1"
         }
        }
       ],
       "layout": {
        "height": 400,
        "legend": {
         "tracegroupgap": 0
        },
        "template": {
         "data": {
          "bar": [
           {
            "error_x": {
             "color": "#2a3f5f"
            },
            "error_y": {
             "color": "#2a3f5f"
            },
            "marker": {
             "line": {
              "color": "#E5ECF6",
              "width": 0.5
             },
             "pattern": {
              "fillmode": "overlay",
              "size": 10,
              "solidity": 0.2
             }
            },
            "type": "bar"
           }
          ],
          "barpolar": [
           {
            "marker": {
             "line": {
              "color": "#E5ECF6",
              "width": 0.5
             },
             "pattern": {
              "fillmode": "overlay",
              "size": 10,
              "solidity": 0.2
             }
            },
            "type": "barpolar"
           }
          ],
          "carpet": [
           {
            "aaxis": {
             "endlinecolor": "#2a3f5f",
             "gridcolor": "white",
             "linecolor": "white",
             "minorgridcolor": "white",
             "startlinecolor": "#2a3f5f"
            },
            "baxis": {
             "endlinecolor": "#2a3f5f",
             "gridcolor": "white",
             "linecolor": "white",
             "minorgridcolor": "white",
             "startlinecolor": "#2a3f5f"
            },
            "type": "carpet"
           }
          ],
          "choropleth": [
           {
            "colorbar": {
             "outlinewidth": 0,
             "ticks": ""
            },
            "type": "choropleth"
           }
          ],
          "contour": [
           {
            "colorbar": {
             "outlinewidth": 0,
             "ticks": ""
            },
            "colorscale": [
             [
              0,
              "#0d0887"
             ],
             [
              0.1111111111111111,
              "#46039f"
             ],
             [
              0.2222222222222222,
              "#7201a8"
             ],
             [
              0.3333333333333333,
              "#9c179e"
             ],
             [
              0.4444444444444444,
              "#bd3786"
             ],
             [
              0.5555555555555556,
              "#d8576b"
             ],
             [
              0.6666666666666666,
              "#ed7953"
             ],
             [
              0.7777777777777778,
              "#fb9f3a"
             ],
             [
              0.8888888888888888,
              "#fdca26"
             ],
             [
              1,
              "#f0f921"
             ]
            ],
            "type": "contour"
           }
          ],
          "contourcarpet": [
           {
            "colorbar": {
             "outlinewidth": 0,
             "ticks": ""
            },
            "type": "contourcarpet"
           }
          ],
          "heatmap": [
           {
            "colorbar": {
             "outlinewidth": 0,
             "ticks": ""
            },
            "colorscale": [
             [
              0,
              "#0d0887"
             ],
             [
              0.1111111111111111,
              "#46039f"
             ],
             [
              0.2222222222222222,
              "#7201a8"
             ],
             [
              0.3333333333333333,
              "#9c179e"
             ],
             [
              0.4444444444444444,
              "#bd3786"
             ],
             [
              0.5555555555555556,
              "#d8576b"
             ],
             [
              0.6666666666666666,
              "#ed7953"
             ],
             [
              0.7777777777777778,
              "#fb9f3a"
             ],
             [
              0.8888888888888888,
              "#fdca26"
             ],
             [
              1,
              "#f0f921"
             ]
            ],
            "type": "heatmap"
           }
          ],
          "histogram": [
           {
            "marker": {
             "pattern": {
              "fillmode": "overlay",
              "size": 10,
              "solidity": 0.2
             }
            },
            "type": "histogram"
           }
          ],
          "histogram2d": [
           {
            "colorbar": {
             "outlinewidth": 0,
             "ticks": ""
            },
            "colorscale": [
             [
              0,
              "#0d0887"
             ],
             [
              0.1111111111111111,
              "#46039f"
             ],
             [
              0.2222222222222222,
              "#7201a8"
             ],
             [
              0.3333333333333333,
              "#9c179e"
             ],
             [
              0.4444444444444444,
              "#bd3786"
             ],
             [
              0.5555555555555556,
              "#d8576b"
             ],
             [
              0.6666666666666666,
              "#ed7953"
             ],
             [
              0.7777777777777778,
              "#fb9f3a"
             ],
             [
              0.8888888888888888,
              "#fdca26"
             ],
             [
              1,
              "#f0f921"
             ]
            ],
            "type": "histogram2d"
           }
          ],
          "histogram2dcontour": [
           {
            "colorbar": {
             "outlinewidth": 0,
             "ticks": ""
            },
            "colorscale": [
             [
              0,
              "#0d0887"
             ],
             [
              0.1111111111111111,
              "#46039f"
             ],
             [
              0.2222222222222222,
              "#7201a8"
             ],
             [
              0.3333333333333333,
              "#9c179e"
             ],
             [
              0.4444444444444444,
              "#bd3786"
             ],
             [
              0.5555555555555556,
              "#d8576b"
             ],
             [
              0.6666666666666666,
              "#ed7953"
             ],
             [
              0.7777777777777778,
              "#fb9f3a"
             ],
             [
              0.8888888888888888,
              "#fdca26"
             ],
             [
              1,
              "#f0f921"
             ]
            ],
            "type": "histogram2dcontour"
           }
          ],
          "mesh3d": [
           {
            "colorbar": {
             "outlinewidth": 0,
             "ticks": ""
            },
            "type": "mesh3d"
           }
          ],
          "parcoords": [
           {
            "line": {
             "colorbar": {
              "outlinewidth": 0,
              "ticks": ""
             }
            },
            "type": "parcoords"
           }
          ],
          "pie": [
           {
            "automargin": true,
            "type": "pie"
           }
          ],
          "scatter": [
           {
            "fillpattern": {
             "fillmode": "overlay",
             "size": 10,
             "solidity": 0.2
            },
            "type": "scatter"
           }
          ],
          "scatter3d": [
           {
            "line": {
             "colorbar": {
              "outlinewidth": 0,
              "ticks": ""
             }
            },
            "marker": {
             "colorbar": {
              "outlinewidth": 0,
              "ticks": ""
             }
            },
            "type": "scatter3d"
           }
          ],
          "scattercarpet": [
           {
            "marker": {
             "colorbar": {
              "outlinewidth": 0,
              "ticks": ""
             }
            },
            "type": "scattercarpet"
           }
          ],
          "scattergeo": [
           {
            "marker": {
             "colorbar": {
              "outlinewidth": 0,
              "ticks": ""
             }
            },
            "type": "scattergeo"
           }
          ],
          "scattergl": [
           {
            "marker": {
             "colorbar": {
              "outlinewidth": 0,
              "ticks": ""
             }
            },
            "type": "scattergl"
           }
          ],
          "scattermap": [
           {
            "marker": {
             "colorbar": {
              "outlinewidth": 0,
              "ticks": ""
             }
            },
            "type": "scattermap"
           }
          ],
          "scattermapbox": [
           {
            "marker": {
             "colorbar": {
              "outlinewidth": 0,
              "ticks": ""
             }
            },
            "type": "scattermapbox"
           }
          ],
          "scatterpolar": [
           {
            "marker": {
             "colorbar": {
              "outlinewidth": 0,
              "ticks": ""
             }
            },
            "type": "scatterpolar"
           }
          ],
          "scatterpolargl": [
           {
            "marker": {
             "colorbar": {
              "outlinewidth": 0,
              "ticks": ""
             }
            },
            "type": "scatterpolargl"
           }
          ],
          "scatterternary": [
           {
            "marker": {
             "colorbar": {
              "outlinewidth": 0,
              "ticks": ""
             }
            },
            "type": "scatterternary"
           }
          ],
          "surface": [
           {
            "colorbar": {
             "outlinewidth": 0,
             "ticks": ""
            },
            "colorscale": [
             [
              0,
              "#0d0887"
             ],
             [
              0.1111111111111111,
              "#46039f"
             ],
             [
              0.2222222222222222,
              "#7201a8"
             ],
             [
              0.3333333333333333,
              "#9c179e"
             ],
             [
              0.4444444444444444,
              "#bd3786"
             ],
             [
              0.5555555555555556,
              "#d8576b"
             ],
             [
              0.6666666666666666,
              "#ed7953"
             ],
             [
              0.7777777777777778,
              "#fb9f3a"
             ],
             [
              0.8888888888888888,
              "#fdca26"
             ],
             [
              1,
              "#f0f921"
             ]
            ],
            "type": "surface"
           }
          ],
          "table": [
           {
            "cells": {
             "fill": {
              "color": "#EBF0F8"
             },
             "line": {
              "color": "white"
             }
            },
            "header": {
             "fill": {
              "color": "#C8D4E3"
             },
             "line": {
              "color": "white"
             }
            },
            "type": "table"
           }
          ]
         },
         "layout": {
          "annotationdefaults": {
           "arrowcolor": "#2a3f5f",
           "arrowhead": 0,
           "arrowwidth": 1
          },
          "autotypenumbers": "strict",
          "coloraxis": {
           "colorbar": {
            "outlinewidth": 0,
            "ticks": ""
           }
          },
          "colorscale": {
           "diverging": [
            [
             0,
             "#8e0152"
            ],
            [
             0.1,
             "#c51b7d"
            ],
            [
             0.2,
             "#de77ae"
            ],
            [
             0.3,
             "#f1b6da"
            ],
            [
             0.4,
             "#fde0ef"
            ],
            [
             0.5,
             "#f7f7f7"
            ],
            [
             0.6,
             "#e6f5d0"
            ],
            [
             0.7,
             "#b8e186"
            ],
            [
             0.8,
             "#7fbc41"
            ],
            [
             0.9,
             "#4d9221"
            ],
            [
             1,
             "#276419"
            ]
           ],
           "sequential": [
            [
             0,
             "#0d0887"
            ],
            [
             0.1111111111111111,
             "#46039f"
            ],
            [
             0.2222222222222222,
             "#7201a8"
            ],
            [
             0.3333333333333333,
             "#9c179e"
            ],
            [
             0.4444444444444444,
             "#bd3786"
            ],
            [
             0.5555555555555556,
             "#d8576b"
            ],
            [
             0.6666666666666666,
             "#ed7953"
            ],
            [
             0.7777777777777778,
             "#fb9f3a"
            ],
            [
             0.8888888888888888,
             "#fdca26"
            ],
            [
             1,
             "#f0f921"
            ]
           ],
           "sequentialminus": [
            [
             0,
             "#0d0887"
            ],
            [
             0.1111111111111111,
             "#46039f"
            ],
            [
             0.2222222222222222,
             "#7201a8"
            ],
            [
             0.3333333333333333,
             "#9c179e"
            ],
            [
             0.4444444444444444,
             "#bd3786"
            ],
            [
             0.5555555555555556,
             "#d8576b"
            ],
            [
             0.6666666666666666,
             "#ed7953"
            ],
            [
             0.7777777777777778,
             "#fb9f3a"
            ],
            [
             0.8888888888888888,
             "#fdca26"
            ],
            [
             1,
             "#f0f921"
            ]
           ]
          },
          "colorway": [
           "#636efa",
           "#EF553B",
           "#00cc96",
           "#ab63fa",
           "#FFA15A",
           "#19d3f3",
           "#FF6692",
           "#B6E880",
           "#FF97FF",
           "#FECB52"
          ],
          "font": {
           "color": "#2a3f5f"
          },
          "geo": {
           "bgcolor": "white",
           "lakecolor": "white",
           "landcolor": "#E5ECF6",
           "showlakes": true,
           "showland": true,
           "subunitcolor": "white"
          },
          "hoverlabel": {
           "align": "left"
          },
          "hovermode": "closest",
          "mapbox": {
           "style": "light"
          },
          "paper_bgcolor": "white",
          "plot_bgcolor": "#E5ECF6",
          "polar": {
           "angularaxis": {
            "gridcolor": "white",
            "linecolor": "white",
            "ticks": ""
           },
           "bgcolor": "#E5ECF6",
           "radialaxis": {
            "gridcolor": "white",
            "linecolor": "white",
            "ticks": ""
           }
          },
          "scene": {
           "xaxis": {
            "backgroundcolor": "#E5ECF6",
            "gridcolor": "white",
            "gridwidth": 2,
            "linecolor": "white",
            "showbackground": true,
            "ticks": "",
            "zerolinecolor": "white"
           },
           "yaxis": {
            "backgroundcolor": "#E5ECF6",
            "gridcolor": "white",
            "gridwidth": 2,
            "linecolor": "white",
            "showbackground": true,
            "ticks": "",
            "zerolinecolor": "white"
           },
           "zaxis": {
            "backgroundcolor": "#E5ECF6",
            "gridcolor": "white",
            "gridwidth": 2,
            "linecolor": "white",
            "showbackground": true,
            "ticks": "",
            "zerolinecolor": "white"
           }
          },
          "shapedefaults": {
           "line": {
            "color": "#2a3f5f"
           }
          },
          "ternary": {
           "aaxis": {
            "gridcolor": "white",
            "linecolor": "white",
            "ticks": ""
           },
           "baxis": {
            "gridcolor": "white",
            "linecolor": "white",
            "ticks": ""
           },
           "bgcolor": "#E5ECF6",
           "caxis": {
            "gridcolor": "white",
            "linecolor": "white",
            "ticks": ""
           }
          },
          "title": {
           "x": 0.05
          },
          "xaxis": {
           "automargin": true,
           "gridcolor": "white",
           "linecolor": "white",
           "ticks": "",
           "title": {
            "standoff": 15
           },
           "zerolinecolor": "white",
           "zerolinewidth": 2
          },
          "yaxis": {
           "automargin": true,
           "gridcolor": "white",
           "linecolor": "white",
           "ticks": "",
           "title": {
            "standoff": 15
           },
           "zerolinecolor": "white",
           "zerolinewidth": 2
          }
         }
        },
        "title": {
         "text": "Ratings for vrt"
        },
        "width": 600
       }
      }
     },
     "metadata": {},
     "output_type": "display_data"
    }
   ],
   "source": [
    "\n",
    "import plotly.express as px\n",
    "from collections import Counter\n",
    "\n",
    "dupdown = t.get_upgrades_downgrades()\n",
    "grades = list(dupdown['ToGrade'])\n",
    "\n",
    "values = list(Counter(grades).values())\n",
    "keys = list(Counter(grades).keys())\n",
    "\n",
    "fig3 = px.pie(values=values, names=keys, title=f'Ratings for {STOCK}', width=600, height=400)\n",
    "fig3.update_layout()\n",
    "\n",
    "fig3.show()"
   ]
  },
  {
   "cell_type": "code",
   "execution_count": 35,
   "metadata": {},
   "outputs": [
    {
     "data": {
      "application/vnd.plotly.v1+json": {
       "config": {
        "plotlyServerURL": "https://plot.ly"
       },
       "data": [
        {
         "close": {
          "bdata": "CtejcD2KUkApXI/C9UhTQKRwPQrXQ1NA9ihcj8J1U0DXo3A9CodUQAAAAAAAoFRAzczMzMx8VEB7FK5H4apUQHE9CtejQFRAexSuR+FqVECamZmZmRlUQOF6FK5HMVRAZmZmZmZWVUBcj8L1KCxUQPYoXI/CVVVAmpmZmZkJVUAzMzMzM3NUQOF6FK5HMVVA9ihcj8KVVUApXI/C9fhUQHsUrkfhKlRA16NwPQqXVEC4HoXrUXhUQHE9CtejQFRAcT0K16PAUkAUrkfhegRTQHsUrkfhylNAFK5H4XokVUBmZmZmZpZWQI/C9ShcX1dAMzMzMzOzV0AAAAAAAEBXQOF6FK5HIVZAexSuR+EKV0BxPQrXo0BXQHE9CtejUFhACtejcD26V0DsUbgehWtYQFyPwvUofFhAmpmZmZnZV0AzMzMzM7NXQB+F61G4rlhAZmZmZmYmWkDD9Shcj1JYQKRwPQrXM1hAFK5H4XrUWEC4HoXrUchYQLgehetRCFlAj8L1KFxPWUB7FK5H4YpaQArXo3A9SlpAPQrXo3DNWUBSuB6F65FZQBSuR+F6hFhA16NwPQoHWED2KFyPwgVXQIXrUbgeRVhAAAAAAAAAVkDsUbgehetVQDMzMzMz01ZAMzMzMzNTVkB7FK5H4YpWQKRwPQrX01dAH4XrUbjeVkAzMzMzM2NWQPYoXI/C1VdAj8L1KFyfVkBI4XoUrqdWQClcj8L1SFZArkfhehTuVkBxPQrXo8BVQLgehetRuFVAFK5H4XqkVUAK16NwPapVQAAAAAAAAFZAexSuR+FaV0BSuB6F6/FWQIXrUbgeFVdAcT0K16MwV0BmZmZmZoZXQNejcD0KN1dAexSuR+FqVkApXI/C9fhVQK5H4XoUblZAUrgehetxVECkcD0K16NUQKRwPQrXU1VAZmZmZmb2VUAAAAAAAMBWQPYoXI/CpVNAH4XrUbgeU0BI4XoUrkdTQAAAAAAAgFNAUrgehetBUkDNzMzMzKxTQAAAAAAAgFJAPQrXo3BdUUAfhetRuO5QQOF6FK5HUVFArkfhehTOUECkcD0K18NRQD0K16Nw3VFAXI/C9Sg8UkCPwvUoXA9TQArXo3A9ClRAPQrXo3C9VEB7FK5H4dpTQLgehetRuFNAcT0K16MgU0CPwvUoXH9TQFK4HoXrMVNAMzMzMzOjU0CkcD0K14NTQD0K16NwDVRA4XoUrkchVEB7FK5H4fpTQFK4HoXrwVRAzczMzMzMUkCkcD0K18NSQJqZmZmZyVJA4XoUrkfxUUAfhetRuJ5SQK5H4XoU3lJAKVyPwvWYVEBxPQrXo7BVQHE9CtejcFVAj8L1KFy/VUDD9Shcj9JVQArXo3A96lVApHA9CtcDV0DD9Shcj6JXQBSuR+F6BFhAKVyPwvVYWECPwvUoXC9ZQEjhehSuJ1lACtejcD2aWECPwvUoXN9YQEjhehSuZ1hAUrgeheuRWUBcj8L1KKxZQM3MzMzMTFpAH4XrUbiuWkAUrkfherRaQEjhehSuB1tArkfhehTeWkD2KFyPwvVbQArXo3A9GlxArkfhehTeWkBcj8L1KOxbQFK4HoXrkVxAAAAAAAAQXEDXo3A9CgdcQK5H4XoUHlxA16NwPQoXW0BSuB6F64FbQHsUrkfhClxA16NwPQpnXECF61G4HnVcQM3MzMzMHFxAw/UoXI9SW0CamZmZmblaQD0K16NwjVpAXI/C9SgcXEDsUbgehRteQHsUrkfhil5AAAAAAABwX0AzMzMzM7NfQKRwPQrX815AUrgeheshX0BSuB6F60FeQEjhehSuN15A4XoUrkfBXkCuR+F6FJ5hQOF6FK5HMWFASOF6FK6vYUDNzMzMzIRhQClcj8L1gGBASOF6FK53YEBcj8L1KLxfQGZmZmZm5l9AMzMzMzPDX0CF61G4HgVgQFyPwvUoXGBAw/UoXI/SYEAzMzMzM7tgQHsUrkfhil9AzczMzMxsXkD2KFyPwnVfQMP1KFyPQl9AUrgehetxX0CuR+F6FH5fQFyPwvUoLF5ASOF6FK6HXEBcj8L1KNxcQMP1KFyPAl5Aj8L1KFxvXUCPwvUoXK9dQLgehetRuF1A16NwPQrHXEAK16NwPQpdQNejcD0KZ1xAMzMzMzOTXUB7FK5H4WpfQMP1KFyPwmBAFK5H4XpUYEBxPQrXoyhgQPYoXI/CHWBAcT0K16MAX0BmZmZmZh5gQAAAAAAAgGBAexSuR+GSYEBcj8L1KPxgQFyPwvUo5GFAexSuR+GSYkBI4XoUri9jQArXo3A9SmJAZmZmZmamWUAzMzMzM6NaQD0K16NwnVtAZmZmZmamXEDhehSuR0FdQGZmZmZmJlxAAAAAAADQW0DD9Shcj8JdQKRwPQrX411AuB6F61FYXkBxPQrXo3BfQAAAAAAA0F5Aj8L1KFzPW0BSuB6F61FbQDMzMzMzA1tAPQrXo3B9W0D2KFyPwvVaQIXrUbgeNVpAj8L1KFz/V0DhehSuR8FWQJqZmZmZ+VZA16NwPQqnWEAK16NwPRpXQHsUrkfhyldACtejcD1aVUApXI/C9ZhVQClcj8L1+FVAw/UoXI+CVEDD9Shcj0JVQOF6FK5HgVNASOF6FK7HVEC4HoXrUVhVQPYoXI/CxVRAzczMzMzcVUA=",
          "dtype": "f8"
         },
         "high": {
          "bdata": "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",
          "dtype": "f8"
         },
         "low": {
          "bdata": "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",
          "dtype": "f8"
         },
         "name": "vrt",
         "open": {
          "bdata": "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",
          "dtype": "f8"
         },
         "type": "candlestick",
         "x": [
          "2024-03-15T00:00:00-04:00",
          "2024-03-18T00:00:00-04:00",
          "2024-03-19T00:00:00-04:00",
          "2024-03-20T00:00:00-04:00",
          "2024-03-21T00:00:00-04:00",
          "2024-03-22T00:00:00-04:00",
          "2024-03-25T00:00:00-04:00",
          "2024-03-26T00:00:00-04:00",
          "2024-03-27T00:00:00-04:00",
          "2024-03-28T00:00:00-04:00",
          "2024-04-01T00:00:00-04:00",
          "2024-04-02T00:00:00-04:00",
          "2024-04-03T00:00:00-04:00",
          "2024-04-04T00:00:00-04:00",
          "2024-04-05T00:00:00-04:00",
          "2024-04-08T00:00:00-04:00",
          "2024-04-09T00:00:00-04:00",
          "2024-04-10T00:00:00-04:00",
          "2024-04-11T00:00:00-04:00",
          "2024-04-12T00:00:00-04:00",
          "2024-04-15T00:00:00-04:00",
          "2024-04-16T00:00:00-04:00",
          "2024-04-17T00:00:00-04:00",
          "2024-04-18T00:00:00-04:00",
          "2024-04-19T00:00:00-04:00",
          "2024-04-22T00:00:00-04:00",
          "2024-04-23T00:00:00-04:00",
          "2024-04-24T00:00:00-04:00",
          "2024-04-25T00:00:00-04:00",
          "2024-04-26T00:00:00-04:00",
          "2024-04-29T00:00:00-04:00",
          "2024-04-30T00:00:00-04:00",
          "2024-05-01T00:00:00-04:00",
          "2024-05-02T00:00:00-04:00",
          "2024-05-03T00:00:00-04:00",
          "2024-05-06T00:00:00-04:00",
          "2024-05-07T00:00:00-04:00",
          "2024-05-08T00:00:00-04:00",
          "2024-05-09T00:00:00-04:00",
          "2024-05-10T00:00:00-04:00",
          "2024-05-13T00:00:00-04:00",
          "2024-05-14T00:00:00-04:00",
          "2024-05-15T00:00:00-04:00",
          "2024-05-16T00:00:00-04:00",
          "2024-05-17T00:00:00-04:00",
          "2024-05-20T00:00:00-04:00",
          "2024-05-21T00:00:00-04:00",
          "2024-05-22T00:00:00-04:00",
          "2024-05-23T00:00:00-04:00",
          "2024-05-24T00:00:00-04:00",
          "2024-05-28T00:00:00-04:00",
          "2024-05-29T00:00:00-04:00",
          "2024-05-30T00:00:00-04:00",
          "2024-05-31T00:00:00-04:00",
          "2024-06-03T00:00:00-04:00",
          "2024-06-04T00:00:00-04:00",
          "2024-06-05T00:00:00-04:00",
          "2024-06-06T00:00:00-04:00",
          "2024-06-07T00:00:00-04:00",
          "2024-06-10T00:00:00-04:00",
          "2024-06-11T00:00:00-04:00",
          "2024-06-12T00:00:00-04:00",
          "2024-06-13T00:00:00-04:00",
          "2024-06-14T00:00:00-04:00",
          "2024-06-17T00:00:00-04:00",
          "2024-06-18T00:00:00-04:00",
          "2024-06-20T00:00:00-04:00",
          "2024-06-21T00:00:00-04:00",
          "2024-06-24T00:00:00-04:00",
          "2024-06-25T00:00:00-04:00",
          "2024-06-26T00:00:00-04:00",
          "2024-06-27T00:00:00-04:00",
          "2024-06-28T00:00:00-04:00",
          "2024-07-01T00:00:00-04:00",
          "2024-07-02T00:00:00-04:00",
          "2024-07-03T00:00:00-04:00",
          "2024-07-05T00:00:00-04:00",
          "2024-07-08T00:00:00-04:00",
          "2024-07-09T00:00:00-04:00",
          "2024-07-10T00:00:00-04:00",
          "2024-07-11T00:00:00-04:00",
          "2024-07-12T00:00:00-04:00",
          "2024-07-15T00:00:00-04:00",
          "2024-07-16T00:00:00-04:00",
          "2024-07-17T00:00:00-04:00",
          "2024-07-18T00:00:00-04:00",
          "2024-07-19T00:00:00-04:00",
          "2024-07-22T00:00:00-04:00",
          "2024-07-23T00:00:00-04:00",
          "2024-07-24T00:00:00-04:00",
          "2024-07-25T00:00:00-04:00",
          "2024-07-26T00:00:00-04:00",
          "2024-07-29T00:00:00-04:00",
          "2024-07-30T00:00:00-04:00",
          "2024-07-31T00:00:00-04:00",
          "2024-08-01T00:00:00-04:00",
          "2024-08-02T00:00:00-04:00",
          "2024-08-05T00:00:00-04:00",
          "2024-08-06T00:00:00-04:00",
          "2024-08-07T00:00:00-04:00",
          "2024-08-08T00:00:00-04:00",
          "2024-08-09T00:00:00-04:00",
          "2024-08-12T00:00:00-04:00",
          "2024-08-13T00:00:00-04:00",
          "2024-08-14T00:00:00-04:00",
          "2024-08-15T00:00:00-04:00",
          "2024-08-16T00:00:00-04:00",
          "2024-08-19T00:00:00-04:00",
          "2024-08-20T00:00:00-04:00",
          "2024-08-21T00:00:00-04:00",
          "2024-08-22T00:00:00-04:00",
          "2024-08-23T00:00:00-04:00",
          "2024-08-26T00:00:00-04:00",
          "2024-08-27T00:00:00-04:00",
          "2024-08-28T00:00:00-04:00",
          "2024-08-29T00:00:00-04:00",
          "2024-08-30T00:00:00-04:00",
          "2024-09-03T00:00:00-04:00",
          "2024-09-04T00:00:00-04:00",
          "2024-09-05T00:00:00-04:00",
          "2024-09-06T00:00:00-04:00",
          "2024-09-09T00:00:00-04:00",
          "2024-09-10T00:00:00-04:00",
          "2024-09-11T00:00:00-04:00",
          "2024-09-12T00:00:00-04:00",
          "2024-09-13T00:00:00-04:00",
          "2024-09-16T00:00:00-04:00",
          "2024-09-17T00:00:00-04:00",
          "2024-09-18T00:00:00-04:00",
          "2024-09-19T00:00:00-04:00",
          "2024-09-20T00:00:00-04:00",
          "2024-09-23T00:00:00-04:00",
          "2024-09-24T00:00:00-04:00",
          "2024-09-25T00:00:00-04:00",
          "2024-09-26T00:00:00-04:00",
          "2024-09-27T00:00:00-04:00",
          "2024-09-30T00:00:00-04:00",
          "2024-10-01T00:00:00-04:00",
          "2024-10-02T00:00:00-04:00",
          "2024-10-03T00:00:00-04:00",
          "2024-10-04T00:00:00-04:00",
          "2024-10-07T00:00:00-04:00",
          "2024-10-08T00:00:00-04:00",
          "2024-10-09T00:00:00-04:00",
          "2024-10-10T00:00:00-04:00",
          "2024-10-11T00:00:00-04:00",
          "2024-10-14T00:00:00-04:00",
          "2024-10-15T00:00:00-04:00",
          "2024-10-16T00:00:00-04:00",
          "2024-10-17T00:00:00-04:00",
          "2024-10-18T00:00:00-04:00",
          "2024-10-21T00:00:00-04:00",
          "2024-10-22T00:00:00-04:00",
          "2024-10-23T00:00:00-04:00",
          "2024-10-24T00:00:00-04:00",
          "2024-10-25T00:00:00-04:00",
          "2024-10-28T00:00:00-04:00",
          "2024-10-29T00:00:00-04:00",
          "2024-10-30T00:00:00-04:00",
          "2024-10-31T00:00:00-04:00",
          "2024-11-01T00:00:00-04:00",
          "2024-11-04T00:00:00-05:00",
          "2024-11-05T00:00:00-05:00",
          "2024-11-06T00:00:00-05:00",
          "2024-11-07T00:00:00-05:00",
          "2024-11-08T00:00:00-05:00",
          "2024-11-11T00:00:00-05:00",
          "2024-11-12T00:00:00-05:00",
          "2024-11-13T00:00:00-05:00",
          "2024-11-14T00:00:00-05:00",
          "2024-11-15T00:00:00-05:00",
          "2024-11-18T00:00:00-05:00",
          "2024-11-19T00:00:00-05:00",
          "2024-11-20T00:00:00-05:00",
          "2024-11-21T00:00:00-05:00",
          "2024-11-22T00:00:00-05:00",
          "2024-11-25T00:00:00-05:00",
          "2024-11-26T00:00:00-05:00",
          "2024-11-27T00:00:00-05:00",
          "2024-11-29T00:00:00-05:00",
          "2024-12-02T00:00:00-05:00",
          "2024-12-03T00:00:00-05:00",
          "2024-12-04T00:00:00-05:00",
          "2024-12-05T00:00:00-05:00",
          "2024-12-06T00:00:00-05:00",
          "2024-12-09T00:00:00-05:00",
          "2024-12-10T00:00:00-05:00",
          "2024-12-11T00:00:00-05:00",
          "2024-12-12T00:00:00-05:00",
          "2024-12-13T00:00:00-05:00",
          "2024-12-16T00:00:00-05:00",
          "2024-12-17T00:00:00-05:00",
          "2024-12-18T00:00:00-05:00",
          "2024-12-19T00:00:00-05:00",
          "2024-12-20T00:00:00-05:00",
          "2024-12-23T00:00:00-05:00",
          "2024-12-24T00:00:00-05:00",
          "2024-12-26T00:00:00-05:00",
          "2024-12-27T00:00:00-05:00",
          "2024-12-30T00:00:00-05:00",
          "2024-12-31T00:00:00-05:00",
          "2025-01-02T00:00:00-05:00",
          "2025-01-03T00:00:00-05:00",
          "2025-01-06T00:00:00-05:00",
          "2025-01-07T00:00:00-05:00",
          "2025-01-08T00:00:00-05:00",
          "2025-01-10T00:00:00-05:00",
          "2025-01-13T00:00:00-05:00",
          "2025-01-14T00:00:00-05:00",
          "2025-01-15T00:00:00-05:00",
          "2025-01-16T00:00:00-05:00",
          "2025-01-17T00:00:00-05:00",
          "2025-01-21T00:00:00-05:00",
          "2025-01-22T00:00:00-05:00",
          "2025-01-23T00:00:00-05:00",
          "2025-01-24T00:00:00-05:00",
          "2025-01-27T00:00:00-05:00",
          "2025-01-28T00:00:00-05:00",
          "2025-01-29T00:00:00-05:00",
          "2025-01-30T00:00:00-05:00",
          "2025-01-31T00:00:00-05:00",
          "2025-02-03T00:00:00-05:00",
          "2025-02-04T00:00:00-05:00",
          "2025-02-05T00:00:00-05:00",
          "2025-02-06T00:00:00-05:00",
          "2025-02-07T00:00:00-05:00",
          "2025-02-10T00:00:00-05:00",
          "2025-02-11T00:00:00-05:00",
          "2025-02-12T00:00:00-05:00",
          "2025-02-13T00:00:00-05:00",
          "2025-02-14T00:00:00-05:00",
          "2025-02-18T00:00:00-05:00",
          "2025-02-19T00:00:00-05:00",
          "2025-02-20T00:00:00-05:00",
          "2025-02-21T00:00:00-05:00",
          "2025-02-24T00:00:00-05:00",
          "2025-02-25T00:00:00-05:00",
          "2025-02-26T00:00:00-05:00",
          "2025-02-27T00:00:00-05:00",
          "2025-02-28T00:00:00-05:00",
          "2025-03-03T00:00:00-05:00",
          "2025-03-04T00:00:00-05:00",
          "2025-03-05T00:00:00-05:00",
          "2025-03-06T00:00:00-05:00",
          "2025-03-07T00:00:00-05:00",
          "2025-03-10T00:00:00-04:00",
          "2025-03-11T00:00:00-04:00",
          "2025-03-12T00:00:00-04:00",
          "2025-03-13T00:00:00-04:00",
          "2025-03-14T00:00:00-04:00"
         ]
        },
        {
         "line": {
          "color": "blue",
          "shape": "spline",
          "width": 2
         },
         "name": "EMA 10",
         "type": "scatter",
         "x": [
          "2024-03-15T00:00:00-04:00",
          "2024-03-18T00:00:00-04:00",
          "2024-03-19T00:00:00-04:00",
          "2024-03-20T00:00:00-04:00",
          "2024-03-21T00:00:00-04:00",
          "2024-03-22T00:00:00-04:00",
          "2024-03-25T00:00:00-04:00",
          "2024-03-26T00:00:00-04:00",
          "2024-03-27T00:00:00-04:00",
          "2024-03-28T00:00:00-04:00",
          "2024-04-01T00:00:00-04:00",
          "2024-04-02T00:00:00-04:00",
          "2024-04-03T00:00:00-04:00",
          "2024-04-04T00:00:00-04:00",
          "2024-04-05T00:00:00-04:00",
          "2024-04-08T00:00:00-04:00",
          "2024-04-09T00:00:00-04:00",
          "2024-04-10T00:00:00-04:00",
          "2024-04-11T00:00:00-04:00",
          "2024-04-12T00:00:00-04:00",
          "2024-04-15T00:00:00-04:00",
          "2024-04-16T00:00:00-04:00",
          "2024-04-17T00:00:00-04:00",
          "2024-04-18T00:00:00-04:00",
          "2024-04-19T00:00:00-04:00",
          "2024-04-22T00:00:00-04:00",
          "2024-04-23T00:00:00-04:00",
          "2024-04-24T00:00:00-04:00",
          "2024-04-25T00:00:00-04:00",
          "2024-04-26T00:00:00-04:00",
          "2024-04-29T00:00:00-04:00",
          "2024-04-30T00:00:00-04:00",
          "2024-05-01T00:00:00-04:00",
          "2024-05-02T00:00:00-04:00",
          "2024-05-03T00:00:00-04:00",
          "2024-05-06T00:00:00-04:00",
          "2024-05-07T00:00:00-04:00",
          "2024-05-08T00:00:00-04:00",
          "2024-05-09T00:00:00-04:00",
          "2024-05-10T00:00:00-04:00",
          "2024-05-13T00:00:00-04:00",
          "2024-05-14T00:00:00-04:00",
          "2024-05-15T00:00:00-04:00",
          "2024-05-16T00:00:00-04:00",
          "2024-05-17T00:00:00-04:00",
          "2024-05-20T00:00:00-04:00",
          "2024-05-21T00:00:00-04:00",
          "2024-05-22T00:00:00-04:00",
          "2024-05-23T00:00:00-04:00",
          "2024-05-24T00:00:00-04:00",
          "2024-05-28T00:00:00-04:00",
          "2024-05-29T00:00:00-04:00",
          "2024-05-30T00:00:00-04:00",
          "2024-05-31T00:00:00-04:00",
          "2024-06-03T00:00:00-04:00",
          "2024-06-04T00:00:00-04:00",
          "2024-06-05T00:00:00-04:00",
          "2024-06-06T00:00:00-04:00",
          "2024-06-07T00:00:00-04:00",
          "2024-06-10T00:00:00-04:00",
          "2024-06-11T00:00:00-04:00",
          "2024-06-12T00:00:00-04:00",
          "2024-06-13T00:00:00-04:00",
          "2024-06-14T00:00:00-04:00",
          "2024-06-17T00:00:00-04:00",
          "2024-06-18T00:00:00-04:00",
          "2024-06-20T00:00:00-04:00",
          "2024-06-21T00:00:00-04:00",
          "2024-06-24T00:00:00-04:00",
          "2024-06-25T00:00:00-04:00",
          "2024-06-26T00:00:00-04:00",
          "2024-06-27T00:00:00-04:00",
          "2024-06-28T00:00:00-04:00",
          "2024-07-01T00:00:00-04:00",
          "2024-07-02T00:00:00-04:00",
          "2024-07-03T00:00:00-04:00",
          "2024-07-05T00:00:00-04:00",
          "2024-07-08T00:00:00-04:00",
          "2024-07-09T00:00:00-04:00",
          "2024-07-10T00:00:00-04:00",
          "2024-07-11T00:00:00-04:00",
          "2024-07-12T00:00:00-04:00",
          "2024-07-15T00:00:00-04:00",
          "2024-07-16T00:00:00-04:00",
          "2024-07-17T00:00:00-04:00",
          "2024-07-18T00:00:00-04:00",
          "2024-07-19T00:00:00-04:00",
          "2024-07-22T00:00:00-04:00",
          "2024-07-23T00:00:00-04:00",
          "2024-07-24T00:00:00-04:00",
          "2024-07-25T00:00:00-04:00",
          "2024-07-26T00:00:00-04:00",
          "2024-07-29T00:00:00-04:00",
          "2024-07-30T00:00:00-04:00",
          "2024-07-31T00:00:00-04:00",
          "2024-08-01T00:00:00-04:00",
          "2024-08-02T00:00:00-04:00",
          "2024-08-05T00:00:00-04:00",
          "2024-08-06T00:00:00-04:00",
          "2024-08-07T00:00:00-04:00",
          "2024-08-08T00:00:00-04:00",
          "2024-08-09T00:00:00-04:00",
          "2024-08-12T00:00:00-04:00",
          "2024-08-13T00:00:00-04:00",
          "2024-08-14T00:00:00-04:00",
          "2024-08-15T00:00:00-04:00",
          "2024-08-16T00:00:00-04:00",
          "2024-08-19T00:00:00-04:00",
          "2024-08-20T00:00:00-04:00",
          "2024-08-21T00:00:00-04:00",
          "2024-08-22T00:00:00-04:00",
          "2024-08-23T00:00:00-04:00",
          "2024-08-26T00:00:00-04:00",
          "2024-08-27T00:00:00-04:00",
          "2024-08-28T00:00:00-04:00",
          "2024-08-29T00:00:00-04:00",
          "2024-08-30T00:00:00-04:00",
          "2024-09-03T00:00:00-04:00",
          "2024-09-04T00:00:00-04:00",
          "2024-09-05T00:00:00-04:00",
          "2024-09-06T00:00:00-04:00",
          "2024-09-09T00:00:00-04:00",
          "2024-09-10T00:00:00-04:00",
          "2024-09-11T00:00:00-04:00",
          "2024-09-12T00:00:00-04:00",
          "2024-09-13T00:00:00-04:00",
          "2024-09-16T00:00:00-04:00",
          "2024-09-17T00:00:00-04:00",
          "2024-09-18T00:00:00-04:00",
          "2024-09-19T00:00:00-04:00",
          "2024-09-20T00:00:00-04:00",
          "2024-09-23T00:00:00-04:00",
          "2024-09-24T00:00:00-04:00",
          "2024-09-25T00:00:00-04:00",
          "2024-09-26T00:00:00-04:00",
          "2024-09-27T00:00:00-04:00",
          "2024-09-30T00:00:00-04:00",
          "2024-10-01T00:00:00-04:00",
          "2024-10-02T00:00:00-04:00",
          "2024-10-03T00:00:00-04:00",
          "2024-10-04T00:00:00-04:00",
          "2024-10-07T00:00:00-04:00",
          "2024-10-08T00:00:00-04:00",
          "2024-10-09T00:00:00-04:00",
          "2024-10-10T00:00:00-04:00",
          "2024-10-11T00:00:00-04:00",
          "2024-10-14T00:00:00-04:00",
          "2024-10-15T00:00:00-04:00",
          "2024-10-16T00:00:00-04:00",
          "2024-10-17T00:00:00-04:00",
          "2024-10-18T00:00:00-04:00",
          "2024-10-21T00:00:00-04:00",
          "2024-10-22T00:00:00-04:00",
          "2024-10-23T00:00:00-04:00",
          "2024-10-24T00:00:00-04:00",
          "2024-10-25T00:00:00-04:00",
          "2024-10-28T00:00:00-04:00",
          "2024-10-29T00:00:00-04:00",
          "2024-10-30T00:00:00-04:00",
          "2024-10-31T00:00:00-04:00",
          "2024-11-01T00:00:00-04:00",
          "2024-11-04T00:00:00-05:00",
          "2024-11-05T00:00:00-05:00",
          "2024-11-06T00:00:00-05:00",
          "2024-11-07T00:00:00-05:00",
          "2024-11-08T00:00:00-05:00",
          "2024-11-11T00:00:00-05:00",
          "2024-11-12T00:00:00-05:00",
          "2024-11-13T00:00:00-05:00",
          "2024-11-14T00:00:00-05:00",
          "2024-11-15T00:00:00-05:00",
          "2024-11-18T00:00:00-05:00",
          "2024-11-19T00:00:00-05:00",
          "2024-11-20T00:00:00-05:00",
          "2024-11-21T00:00:00-05:00",
          "2024-11-22T00:00:00-05:00",
          "2024-11-25T00:00:00-05:00",
          "2024-11-26T00:00:00-05:00",
          "2024-11-27T00:00:00-05:00",
          "2024-11-29T00:00:00-05:00",
          "2024-12-02T00:00:00-05:00",
          "2024-12-03T00:00:00-05:00",
          "2024-12-04T00:00:00-05:00",
          "2024-12-05T00:00:00-05:00",
          "2024-12-06T00:00:00-05:00",
          "2024-12-09T00:00:00-05:00",
          "2024-12-10T00:00:00-05:00",
          "2024-12-11T00:00:00-05:00",
          "2024-12-12T00:00:00-05:00",
          "2024-12-13T00:00:00-05:00",
          "2024-12-16T00:00:00-05:00",
          "2024-12-17T00:00:00-05:00",
          "2024-12-18T00:00:00-05:00",
          "2024-12-19T00:00:00-05:00",
          "2024-12-20T00:00:00-05:00",
          "2024-12-23T00:00:00-05:00",
          "2024-12-24T00:00:00-05:00",
          "2024-12-26T00:00:00-05:00",
          "2024-12-27T00:00:00-05:00",
          "2024-12-30T00:00:00-05:00",
          "2024-12-31T00:00:00-05:00",
          "2025-01-02T00:00:00-05:00",
          "2025-01-03T00:00:00-05:00",
          "2025-01-06T00:00:00-05:00",
          "2025-01-07T00:00:00-05:00",
          "2025-01-08T00:00:00-05:00",
          "2025-01-10T00:00:00-05:00",
          "2025-01-13T00:00:00-05:00",
          "2025-01-14T00:00:00-05:00",
          "2025-01-15T00:00:00-05:00",
          "2025-01-16T00:00:00-05:00",
          "2025-01-17T00:00:00-05:00",
          "2025-01-21T00:00:00-05:00",
          "2025-01-22T00:00:00-05:00",
          "2025-01-23T00:00:00-05:00",
          "2025-01-24T00:00:00-05:00",
          "2025-01-27T00:00:00-05:00",
          "2025-01-28T00:00:00-05:00",
          "2025-01-29T00:00:00-05:00",
          "2025-01-30T00:00:00-05:00",
          "2025-01-31T00:00:00-05:00",
          "2025-02-03T00:00:00-05:00",
          "2025-02-04T00:00:00-05:00",
          "2025-02-05T00:00:00-05:00",
          "2025-02-06T00:00:00-05:00",
          "2025-02-07T00:00:00-05:00",
          "2025-02-10T00:00:00-05:00",
          "2025-02-11T00:00:00-05:00",
          "2025-02-12T00:00:00-05:00",
          "2025-02-13T00:00:00-05:00",
          "2025-02-14T00:00:00-05:00",
          "2025-02-18T00:00:00-05:00",
          "2025-02-19T00:00:00-05:00",
          "2025-02-20T00:00:00-05:00",
          "2025-02-21T00:00:00-05:00",
          "2025-02-24T00:00:00-05:00",
          "2025-02-25T00:00:00-05:00",
          "2025-02-26T00:00:00-05:00",
          "2025-02-27T00:00:00-05:00",
          "2025-02-28T00:00:00-05:00",
          "2025-03-03T00:00:00-05:00",
          "2025-03-04T00:00:00-05:00",
          "2025-03-05T00:00:00-05:00",
          "2025-03-06T00:00:00-05:00",
          "2025-03-07T00:00:00-05:00",
          "2025-03-10T00:00:00-04:00",
          "2025-03-11T00:00:00-04:00",
          "2025-03-12T00:00:00-04:00",
          "2025-03-13T00:00:00-04:00",
          "2025-03-14T00:00:00-04:00"
         ],
         "y": {
          "bdata": "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",
          "dtype": "f8"
         }
        },
        {
         "line": {
          "color": "purple",
          "shape": "spline",
          "width": 2
         },
         "name": "SMA 30",
         "type": "scatter",
         "x": [
          "2024-03-15T00:00:00-04:00",
          "2024-03-18T00:00:00-04:00",
          "2024-03-19T00:00:00-04:00",
          "2024-03-20T00:00:00-04:00",
          "2024-03-21T00:00:00-04:00",
          "2024-03-22T00:00:00-04:00",
          "2024-03-25T00:00:00-04:00",
          "2024-03-26T00:00:00-04:00",
          "2024-03-27T00:00:00-04:00",
          "2024-03-28T00:00:00-04:00",
          "2024-04-01T00:00:00-04:00",
          "2024-04-02T00:00:00-04:00",
          "2024-04-03T00:00:00-04:00",
          "2024-04-04T00:00:00-04:00",
          "2024-04-05T00:00:00-04:00",
          "2024-04-08T00:00:00-04:00",
          "2024-04-09T00:00:00-04:00",
          "2024-04-10T00:00:00-04:00",
          "2024-04-11T00:00:00-04:00",
          "2024-04-12T00:00:00-04:00",
          "2024-04-15T00:00:00-04:00",
          "2024-04-16T00:00:00-04:00",
          "2024-04-17T00:00:00-04:00",
          "2024-04-18T00:00:00-04:00",
          "2024-04-19T00:00:00-04:00",
          "2024-04-22T00:00:00-04:00",
          "2024-04-23T00:00:00-04:00",
          "2024-04-24T00:00:00-04:00",
          "2024-04-25T00:00:00-04:00",
          "2024-04-26T00:00:00-04:00",
          "2024-04-29T00:00:00-04:00",
          "2024-04-30T00:00:00-04:00",
          "2024-05-01T00:00:00-04:00",
          "2024-05-02T00:00:00-04:00",
          "2024-05-03T00:00:00-04:00",
          "2024-05-06T00:00:00-04:00",
          "2024-05-07T00:00:00-04:00",
          "2024-05-08T00:00:00-04:00",
          "2024-05-09T00:00:00-04:00",
          "2024-05-10T00:00:00-04:00",
          "2024-05-13T00:00:00-04:00",
          "2024-05-14T00:00:00-04:00",
          "2024-05-15T00:00:00-04:00",
          "2024-05-16T00:00:00-04:00",
          "2024-05-17T00:00:00-04:00",
          "2024-05-20T00:00:00-04:00",
          "2024-05-21T00:00:00-04:00",
          "2024-05-22T00:00:00-04:00",
          "2024-05-23T00:00:00-04:00",
          "2024-05-24T00:00:00-04:00",
          "2024-05-28T00:00:00-04:00",
          "2024-05-29T00:00:00-04:00",
          "2024-05-30T00:00:00-04:00",
          "2024-05-31T00:00:00-04:00",
          "2024-06-03T00:00:00-04:00",
          "2024-06-04T00:00:00-04:00",
          "2024-06-05T00:00:00-04:00",
          "2024-06-06T00:00:00-04:00",
          "2024-06-07T00:00:00-04:00",
          "2024-06-10T00:00:00-04:00",
          "2024-06-11T00:00:00-04:00",
          "2024-06-12T00:00:00-04:00",
          "2024-06-13T00:00:00-04:00",
          "2024-06-14T00:00:00-04:00",
          "2024-06-17T00:00:00-04:00",
          "2024-06-18T00:00:00-04:00",
          "2024-06-20T00:00:00-04:00",
          "2024-06-21T00:00:00-04:00",
          "2024-06-24T00:00:00-04:00",
          "2024-06-25T00:00:00-04:00",
          "2024-06-26T00:00:00-04:00",
          "2024-06-27T00:00:00-04:00",
          "2024-06-28T00:00:00-04:00",
          "2024-07-01T00:00:00-04:00",
          "2024-07-02T00:00:00-04:00",
          "2024-07-03T00:00:00-04:00",
          "2024-07-05T00:00:00-04:00",
          "2024-07-08T00:00:00-04:00",
          "2024-07-09T00:00:00-04:00",
          "2024-07-10T00:00:00-04:00",
          "2024-07-11T00:00:00-04:00",
          "2024-07-12T00:00:00-04:00",
          "2024-07-15T00:00:00-04:00",
          "2024-07-16T00:00:00-04:00",
          "2024-07-17T00:00:00-04:00",
          "2024-07-18T00:00:00-04:00",
          "2024-07-19T00:00:00-04:00",
          "2024-07-22T00:00:00-04:00",
          "2024-07-23T00:00:00-04:00",
          "2024-07-24T00:00:00-04:00",
          "2024-07-25T00:00:00-04:00",
          "2024-07-26T00:00:00-04:00",
          "2024-07-29T00:00:00-04:00",
          "2024-07-30T00:00:00-04:00",
          "2024-07-31T00:00:00-04:00",
          "2024-08-01T00:00:00-04:00",
          "2024-08-02T00:00:00-04:00",
          "2024-08-05T00:00:00-04:00",
          "2024-08-06T00:00:00-04:00",
          "2024-08-07T00:00:00-04:00",
          "2024-08-08T00:00:00-04:00",
          "2024-08-09T00:00:00-04:00",
          "2024-08-12T00:00:00-04:00",
          "2024-08-13T00:00:00-04:00",
          "2024-08-14T00:00:00-04:00",
          "2024-08-15T00:00:00-04:00",
          "2024-08-16T00:00:00-04:00",
          "2024-08-19T00:00:00-04:00",
          "2024-08-20T00:00:00-04:00",
          "2024-08-21T00:00:00-04:00",
          "2024-08-22T00:00:00-04:00",
          "2024-08-23T00:00:00-04:00",
          "2024-08-26T00:00:00-04:00",
          "2024-08-27T00:00:00-04:00",
          "2024-08-28T00:00:00-04:00",
          "2024-08-29T00:00:00-04:00",
          "2024-08-30T00:00:00-04:00",
          "2024-09-03T00:00:00-04:00",
          "2024-09-04T00:00:00-04:00",
          "2024-09-05T00:00:00-04:00",
          "2024-09-06T00:00:00-04:00",
          "2024-09-09T00:00:00-04:00",
          "2024-09-10T00:00:00-04:00",
          "2024-09-11T00:00:00-04:00",
          "2024-09-12T00:00:00-04:00",
          "2024-09-13T00:00:00-04:00",
          "2024-09-16T00:00:00-04:00",
          "2024-09-17T00:00:00-04:00",
          "2024-09-18T00:00:00-04:00",
          "2024-09-19T00:00:00-04:00",
          "2024-09-20T00:00:00-04:00",
          "2024-09-23T00:00:00-04:00",
          "2024-09-24T00:00:00-04:00",
          "2024-09-25T00:00:00-04:00",
          "2024-09-26T00:00:00-04:00",
          "2024-09-27T00:00:00-04:00",
          "2024-09-30T00:00:00-04:00",
          "2024-10-01T00:00:00-04:00",
          "2024-10-02T00:00:00-04:00",
          "2024-10-03T00:00:00-04:00",
          "2024-10-04T00:00:00-04:00",
          "2024-10-07T00:00:00-04:00",
          "2024-10-08T00:00:00-04:00",
          "2024-10-09T00:00:00-04:00",
          "2024-10-10T00:00:00-04:00",
          "2024-10-11T00:00:00-04:00",
          "2024-10-14T00:00:00-04:00",
          "2024-10-15T00:00:00-04:00",
          "2024-10-16T00:00:00-04:00",
          "2024-10-17T00:00:00-04:00",
          "2024-10-18T00:00:00-04:00",
          "2024-10-21T00:00:00-04:00",
          "2024-10-22T00:00:00-04:00",
          "2024-10-23T00:00:00-04:00",
          "2024-10-24T00:00:00-04:00",
          "2024-10-25T00:00:00-04:00",
          "2024-10-28T00:00:00-04:00",
          "2024-10-29T00:00:00-04:00",
          "2024-10-30T00:00:00-04:00",
          "2024-10-31T00:00:00-04:00",
          "2024-11-01T00:00:00-04:00",
          "2024-11-04T00:00:00-05:00",
          "2024-11-05T00:00:00-05:00",
          "2024-11-06T00:00:00-05:00",
          "2024-11-07T00:00:00-05:00",
          "2024-11-08T00:00:00-05:00",
          "2024-11-11T00:00:00-05:00",
          "2024-11-12T00:00:00-05:00",
          "2024-11-13T00:00:00-05:00",
          "2024-11-14T00:00:00-05:00",
          "2024-11-15T00:00:00-05:00",
          "2024-11-18T00:00:00-05:00",
          "2024-11-19T00:00:00-05:00",
          "2024-11-20T00:00:00-05:00",
          "2024-11-21T00:00:00-05:00",
          "2024-11-22T00:00:00-05:00",
          "2024-11-25T00:00:00-05:00",
          "2024-11-26T00:00:00-05:00",
          "2024-11-27T00:00:00-05:00",
          "2024-11-29T00:00:00-05:00",
          "2024-12-02T00:00:00-05:00",
          "2024-12-03T00:00:00-05:00",
          "2024-12-04T00:00:00-05:00",
          "2024-12-05T00:00:00-05:00",
          "2024-12-06T00:00:00-05:00",
          "2024-12-09T00:00:00-05:00",
          "2024-12-10T00:00:00-05:00",
          "2024-12-11T00:00:00-05:00",
          "2024-12-12T00:00:00-05:00",
          "2024-12-13T00:00:00-05:00",
          "2024-12-16T00:00:00-05:00",
          "2024-12-17T00:00:00-05:00",
          "2024-12-18T00:00:00-05:00",
          "2024-12-19T00:00:00-05:00",
          "2024-12-20T00:00:00-05:00",
          "2024-12-23T00:00:00-05:00",
          "2024-12-24T00:00:00-05:00",
          "2024-12-26T00:00:00-05:00",
          "2024-12-27T00:00:00-05:00",
          "2024-12-30T00:00:00-05:00",
          "2024-12-31T00:00:00-05:00",
          "2025-01-02T00:00:00-05:00",
          "2025-01-03T00:00:00-05:00",
          "2025-01-06T00:00:00-05:00",
          "2025-01-07T00:00:00-05:00",
          "2025-01-08T00:00:00-05:00",
          "2025-01-10T00:00:00-05:00",
          "2025-01-13T00:00:00-05:00",
          "2025-01-14T00:00:00-05:00",
          "2025-01-15T00:00:00-05:00",
          "2025-01-16T00:00:00-05:00",
          "2025-01-17T00:00:00-05:00",
          "2025-01-21T00:00:00-05:00",
          "2025-01-22T00:00:00-05:00",
          "2025-01-23T00:00:00-05:00",
          "2025-01-24T00:00:00-05:00",
          "2025-01-27T00:00:00-05:00",
          "2025-01-28T00:00:00-05:00",
          "2025-01-29T00:00:00-05:00",
          "2025-01-30T00:00:00-05:00",
          "2025-01-31T00:00:00-05:00",
          "2025-02-03T00:00:00-05:00",
          "2025-02-04T00:00:00-05:00",
          "2025-02-05T00:00:00-05:00",
          "2025-02-06T00:00:00-05:00",
          "2025-02-07T00:00:00-05:00",
          "2025-02-10T00:00:00-05:00",
          "2025-02-11T00:00:00-05:00",
          "2025-02-12T00:00:00-05:00",
          "2025-02-13T00:00:00-05:00",
          "2025-02-14T00:00:00-05:00",
          "2025-02-18T00:00:00-05:00",
          "2025-02-19T00:00:00-05:00",
          "2025-02-20T00:00:00-05:00",
          "2025-02-21T00:00:00-05:00",
          "2025-02-24T00:00:00-05:00",
          "2025-02-25T00:00:00-05:00",
          "2025-02-26T00:00:00-05:00",
          "2025-02-27T00:00:00-05:00",
          "2025-02-28T00:00:00-05:00",
          "2025-03-03T00:00:00-05:00",
          "2025-03-04T00:00:00-05:00",
          "2025-03-05T00:00:00-05:00",
          "2025-03-06T00:00:00-05:00",
          "2025-03-07T00:00:00-05:00",
          "2025-03-10T00:00:00-04:00",
          "2025-03-11T00:00:00-04:00",
          "2025-03-12T00:00:00-04:00",
          "2025-03-13T00:00:00-04:00",
          "2025-03-14T00:00:00-04:00"
         ],
         "y": {
          "bdata": "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",
          "dtype": "f8"
         }
        }
       ],
       "layout": {
        "height": 400,
        "template": {
         "data": {
          "bar": [
           {
            "error_x": {
             "color": "#2a3f5f"
            },
            "error_y": {
             "color": "#2a3f5f"
            },
            "marker": {
             "line": {
              "color": "#E5ECF6",
              "width": 0.5
             },
             "pattern": {
              "fillmode": "overlay",
              "size": 10,
              "solidity": 0.2
             }
            },
            "type": "bar"
           }
          ],
          "barpolar": [
           {
            "marker": {
             "line": {
              "color": "#E5ECF6",
              "width": 0.5
             },
             "pattern": {
              "fillmode": "overlay",
              "size": 10,
              "solidity": 0.2
             }
            },
            "type": "barpolar"
           }
          ],
          "carpet": [
           {
            "aaxis": {
             "endlinecolor": "#2a3f5f",
             "gridcolor": "white",
             "linecolor": "white",
             "minorgridcolor": "white",
             "startlinecolor": "#2a3f5f"
            },
            "baxis": {
             "endlinecolor": "#2a3f5f",
             "gridcolor": "white",
             "linecolor": "white",
             "minorgridcolor": "white",
             "startlinecolor": "#2a3f5f"
            },
            "type": "carpet"
           }
          ],
          "choropleth": [
           {
            "colorbar": {
             "outlinewidth": 0,
             "ticks": ""
            },
            "type": "choropleth"
           }
          ],
          "contour": [
           {
            "colorbar": {
             "outlinewidth": 0,
             "ticks": ""
            },
            "colorscale": [
             [
              0,
              "#0d0887"
             ],
             [
              0.1111111111111111,
              "#46039f"
             ],
             [
              0.2222222222222222,
              "#7201a8"
             ],
             [
              0.3333333333333333,
              "#9c179e"
             ],
             [
              0.4444444444444444,
              "#bd3786"
             ],
             [
              0.5555555555555556,
              "#d8576b"
             ],
             [
              0.6666666666666666,
              "#ed7953"
             ],
             [
              0.7777777777777778,
              "#fb9f3a"
             ],
             [
              0.8888888888888888,
              "#fdca26"
             ],
             [
              1,
              "#f0f921"
             ]
            ],
            "type": "contour"
           }
          ],
          "contourcarpet": [
           {
            "colorbar": {
             "outlinewidth": 0,
             "ticks": ""
            },
            "type": "contourcarpet"
           }
          ],
          "heatmap": [
           {
            "colorbar": {
             "outlinewidth": 0,
             "ticks": ""
            },
            "colorscale": [
             [
              0,
              "#0d0887"
             ],
             [
              0.1111111111111111,
              "#46039f"
             ],
             [
              0.2222222222222222,
              "#7201a8"
             ],
             [
              0.3333333333333333,
              "#9c179e"
             ],
             [
              0.4444444444444444,
              "#bd3786"
             ],
             [
              0.5555555555555556,
              "#d8576b"
             ],
             [
              0.6666666666666666,
              "#ed7953"
             ],
             [
              0.7777777777777778,
              "#fb9f3a"
             ],
             [
              0.8888888888888888,
              "#fdca26"
             ],
             [
              1,
              "#f0f921"
             ]
            ],
            "type": "heatmap"
           }
          ],
          "histogram": [
           {
            "marker": {
             "pattern": {
              "fillmode": "overlay",
              "size": 10,
              "solidity": 0.2
             }
            },
            "type": "histogram"
           }
          ],
          "histogram2d": [
           {
            "colorbar": {
             "outlinewidth": 0,
             "ticks": ""
            },
            "colorscale": [
             [
              0,
              "#0d0887"
             ],
             [
              0.1111111111111111,
              "#46039f"
             ],
             [
              0.2222222222222222,
              "#7201a8"
             ],
             [
              0.3333333333333333,
              "#9c179e"
             ],
             [
              0.4444444444444444,
              "#bd3786"
             ],
             [
              0.5555555555555556,
              "#d8576b"
             ],
             [
              0.6666666666666666,
              "#ed7953"
             ],
             [
              0.7777777777777778,
              "#fb9f3a"
             ],
             [
              0.8888888888888888,
              "#fdca26"
             ],
             [
              1,
              "#f0f921"
             ]
            ],
            "type": "histogram2d"
           }
          ],
          "histogram2dcontour": [
           {
            "colorbar": {
             "outlinewidth": 0,
             "ticks": ""
            },
            "colorscale": [
             [
              0,
              "#0d0887"
             ],
             [
              0.1111111111111111,
              "#46039f"
             ],
             [
              0.2222222222222222,
              "#7201a8"
             ],
             [
              0.3333333333333333,
              "#9c179e"
             ],
             [
              0.4444444444444444,
              "#bd3786"
             ],
             [
              0.5555555555555556,
              "#d8576b"
             ],
             [
              0.6666666666666666,
              "#ed7953"
             ],
             [
              0.7777777777777778,
              "#fb9f3a"
             ],
             [
              0.8888888888888888,
              "#fdca26"
             ],
             [
              1,
              "#f0f921"
             ]
            ],
            "type": "histogram2dcontour"
           }
          ],
          "mesh3d": [
           {
            "colorbar": {
             "outlinewidth": 0,
             "ticks": ""
            },
            "type": "mesh3d"
           }
          ],
          "parcoords": [
           {
            "line": {
             "colorbar": {
              "outlinewidth": 0,
              "ticks": ""
             }
            },
            "type": "parcoords"
           }
          ],
          "pie": [
           {
            "automargin": true,
            "type": "pie"
           }
          ],
          "scatter": [
           {
            "fillpattern": {
             "fillmode": "overlay",
             "size": 10,
             "solidity": 0.2
            },
            "type": "scatter"
           }
          ],
          "scatter3d": [
           {
            "line": {
             "colorbar": {
              "outlinewidth": 0,
              "ticks": ""
             }
            },
            "marker": {
             "colorbar": {
              "outlinewidth": 0,
              "ticks": ""
             }
            },
            "type": "scatter3d"
           }
          ],
          "scattercarpet": [
           {
            "marker": {
             "colorbar": {
              "outlinewidth": 0,
              "ticks": ""
             }
            },
            "type": "scattercarpet"
           }
          ],
          "scattergeo": [
           {
            "marker": {
             "colorbar": {
              "outlinewidth": 0,
              "ticks": ""
             }
            },
            "type": "scattergeo"
           }
          ],
          "scattergl": [
           {
            "marker": {
             "colorbar": {
              "outlinewidth": 0,
              "ticks": ""
             }
            },
            "type": "scattergl"
           }
          ],
          "scattermap": [
           {
            "marker": {
             "colorbar": {
              "outlinewidth": 0,
              "ticks": ""
             }
            },
            "type": "scattermap"
           }
          ],
          "scattermapbox": [
           {
            "marker": {
             "colorbar": {
              "outlinewidth": 0,
              "ticks": ""
             }
            },
            "type": "scattermapbox"
           }
          ],
          "scatterpolar": [
           {
            "marker": {
             "colorbar": {
              "outlinewidth": 0,
              "ticks": ""
             }
            },
            "type": "scatterpolar"
           }
          ],
          "scatterpolargl": [
           {
            "marker": {
             "colorbar": {
              "outlinewidth": 0,
              "ticks": ""
             }
            },
            "type": "scatterpolargl"
           }
          ],
          "scatterternary": [
           {
            "marker": {
             "colorbar": {
              "outlinewidth": 0,
              "ticks": ""
             }
            },
            "type": "scatterternary"
           }
          ],
          "surface": [
           {
            "colorbar": {
             "outlinewidth": 0,
             "ticks": ""
            },
            "colorscale": [
             [
              0,
              "#0d0887"
             ],
             [
              0.1111111111111111,
              "#46039f"
             ],
             [
              0.2222222222222222,
              "#7201a8"
             ],
             [
              0.3333333333333333,
              "#9c179e"
             ],
             [
              0.4444444444444444,
              "#bd3786"
             ],
             [
              0.5555555555555556,
              "#d8576b"
             ],
             [
              0.6666666666666666,
              "#ed7953"
             ],
             [
              0.7777777777777778,
              "#fb9f3a"
             ],
             [
              0.8888888888888888,
              "#fdca26"
             ],
             [
              1,
              "#f0f921"
             ]
            ],
            "type": "surface"
           }
          ],
          "table": [
           {
            "cells": {
             "fill": {
              "color": "#EBF0F8"
             },
             "line": {
              "color": "white"
             }
            },
            "header": {
             "fill": {
              "color": "#C8D4E3"
             },
             "line": {
              "color": "white"
             }
            },
            "type": "table"
           }
          ]
         },
         "layout": {
          "annotationdefaults": {
           "arrowcolor": "#2a3f5f",
           "arrowhead": 0,
           "arrowwidth": 1
          },
          "autotypenumbers": "strict",
          "coloraxis": {
           "colorbar": {
            "outlinewidth": 0,
            "ticks": ""
           }
          },
          "colorscale": {
           "diverging": [
            [
             0,
             "#8e0152"
            ],
            [
             0.1,
             "#c51b7d"
            ],
            [
             0.2,
             "#de77ae"
            ],
            [
             0.3,
             "#f1b6da"
            ],
            [
             0.4,
             "#fde0ef"
            ],
            [
             0.5,
             "#f7f7f7"
            ],
            [
             0.6,
             "#e6f5d0"
            ],
            [
             0.7,
             "#b8e186"
            ],
            [
             0.8,
             "#7fbc41"
            ],
            [
             0.9,
             "#4d9221"
            ],
            [
             1,
             "#276419"
            ]
           ],
           "sequential": [
            [
             0,
             "#0d0887"
            ],
            [
             0.1111111111111111,
             "#46039f"
            ],
            [
             0.2222222222222222,
             "#7201a8"
            ],
            [
             0.3333333333333333,
             "#9c179e"
            ],
            [
             0.4444444444444444,
             "#bd3786"
            ],
            [
             0.5555555555555556,
             "#d8576b"
            ],
            [
             0.6666666666666666,
             "#ed7953"
            ],
            [
             0.7777777777777778,
             "#fb9f3a"
            ],
            [
             0.8888888888888888,
             "#fdca26"
            ],
            [
             1,
             "#f0f921"
            ]
           ],
           "sequentialminus": [
            [
             0,
             "#0d0887"
            ],
            [
             0.1111111111111111,
             "#46039f"
            ],
            [
             0.2222222222222222,
             "#7201a8"
            ],
            [
             0.3333333333333333,
             "#9c179e"
            ],
            [
             0.4444444444444444,
             "#bd3786"
            ],
            [
             0.5555555555555556,
             "#d8576b"
            ],
            [
             0.6666666666666666,
             "#ed7953"
            ],
            [
             0.7777777777777778,
             "#fb9f3a"
            ],
            [
             0.8888888888888888,
             "#fdca26"
            ],
            [
             1,
             "#f0f921"
            ]
           ]
          },
          "colorway": [
           "#636efa",
           "#EF553B",
           "#00cc96",
           "#ab63fa",
           "#FFA15A",
           "#19d3f3",
           "#FF6692",
           "#B6E880",
           "#FF97FF",
           "#FECB52"
          ],
          "font": {
           "color": "#2a3f5f"
          },
          "geo": {
           "bgcolor": "white",
           "lakecolor": "white",
           "landcolor": "#E5ECF6",
           "showlakes": true,
           "showland": true,
           "subunitcolor": "white"
          },
          "hoverlabel": {
           "align": "left"
          },
          "hovermode": "closest",
          "mapbox": {
           "style": "light"
          },
          "paper_bgcolor": "white",
          "plot_bgcolor": "#E5ECF6",
          "polar": {
           "angularaxis": {
            "gridcolor": "white",
            "linecolor": "white",
            "ticks": ""
           },
           "bgcolor": "#E5ECF6",
           "radialaxis": {
            "gridcolor": "white",
            "linecolor": "white",
            "ticks": ""
           }
          },
          "scene": {
           "xaxis": {
            "backgroundcolor": "#E5ECF6",
            "gridcolor": "white",
            "gridwidth": 2,
            "linecolor": "white",
            "showbackground": true,
            "ticks": "",
            "zerolinecolor": "white"
           },
           "yaxis": {
            "backgroundcolor": "#E5ECF6",
            "gridcolor": "white",
            "gridwidth": 2,
            "linecolor": "white",
            "showbackground": true,
            "ticks": "",
            "zerolinecolor": "white"
           },
           "zaxis": {
            "backgroundcolor": "#E5ECF6",
            "gridcolor": "white",
            "gridwidth": 2,
            "linecolor": "white",
            "showbackground": true,
            "ticks": "",
            "zerolinecolor": "white"
           }
          },
          "shapedefaults": {
           "line": {
            "color": "#2a3f5f"
           }
          },
          "ternary": {
           "aaxis": {
            "gridcolor": "white",
            "linecolor": "white",
            "ticks": ""
           },
           "baxis": {
            "gridcolor": "white",
            "linecolor": "white",
            "ticks": ""
           },
           "bgcolor": "#E5ECF6",
           "caxis": {
            "gridcolor": "white",
            "linecolor": "white",
            "ticks": ""
           }
          },
          "title": {
           "x": 0.05
          },
          "xaxis": {
           "automargin": true,
           "gridcolor": "white",
           "linecolor": "white",
           "ticks": "",
           "title": {
            "standoff": 15
           },
           "zerolinecolor": "white",
           "zerolinewidth": 2
          },
          "yaxis": {
           "automargin": true,
           "gridcolor": "white",
           "linecolor": "white",
           "ticks": "",
           "title": {
            "standoff": 15
           },
           "zerolinecolor": "white",
           "zerolinewidth": 2
          }
         }
        },
        "title": {
         "text": "vrt"
        },
        "width": 600,
        "xaxis": {
         "rangeslider": {
          "visible": false
         }
        }
       }
      }
     },
     "metadata": {},
     "output_type": "display_data"
    },
    {
     "data": {
      "application/vnd.plotly.v1+json": {
       "config": {
        "plotlyServerURL": "https://plot.ly"
       },
       "data": [
        {
         "name": "Volume",
         "type": "bar",
         "x": [
          "2024-03-15T00:00:00-04:00",
          "2024-03-18T00:00:00-04:00",
          "2024-03-19T00:00:00-04:00",
          "2024-03-20T00:00:00-04:00",
          "2024-03-21T00:00:00-04:00",
          "2024-03-22T00:00:00-04:00",
          "2024-03-25T00:00:00-04:00",
          "2024-03-26T00:00:00-04:00",
          "2024-03-27T00:00:00-04:00",
          "2024-03-28T00:00:00-04:00",
          "2024-04-01T00:00:00-04:00",
          "2024-04-02T00:00:00-04:00",
          "2024-04-03T00:00:00-04:00",
          "2024-04-04T00:00:00-04:00",
          "2024-04-05T00:00:00-04:00",
          "2024-04-08T00:00:00-04:00",
          "2024-04-09T00:00:00-04:00",
          "2024-04-10T00:00:00-04:00",
          "2024-04-11T00:00:00-04:00",
          "2024-04-12T00:00:00-04:00",
          "2024-04-15T00:00:00-04:00",
          "2024-04-16T00:00:00-04:00",
          "2024-04-17T00:00:00-04:00",
          "2024-04-18T00:00:00-04:00",
          "2024-04-19T00:00:00-04:00",
          "2024-04-22T00:00:00-04:00",
          "2024-04-23T00:00:00-04:00",
          "2024-04-24T00:00:00-04:00",
          "2024-04-25T00:00:00-04:00",
          "2024-04-26T00:00:00-04:00",
          "2024-04-29T00:00:00-04:00",
          "2024-04-30T00:00:00-04:00",
          "2024-05-01T00:00:00-04:00",
          "2024-05-02T00:00:00-04:00",
          "2024-05-03T00:00:00-04:00",
          "2024-05-06T00:00:00-04:00",
          "2024-05-07T00:00:00-04:00",
          "2024-05-08T00:00:00-04:00",
          "2024-05-09T00:00:00-04:00",
          "2024-05-10T00:00:00-04:00",
          "2024-05-13T00:00:00-04:00",
          "2024-05-14T00:00:00-04:00",
          "2024-05-15T00:00:00-04:00",
          "2024-05-16T00:00:00-04:00",
          "2024-05-17T00:00:00-04:00",
          "2024-05-20T00:00:00-04:00",
          "2024-05-21T00:00:00-04:00",
          "2024-05-22T00:00:00-04:00",
          "2024-05-23T00:00:00-04:00",
          "2024-05-24T00:00:00-04:00",
          "2024-05-28T00:00:00-04:00",
          "2024-05-29T00:00:00-04:00",
          "2024-05-30T00:00:00-04:00",
          "2024-05-31T00:00:00-04:00",
          "2024-06-03T00:00:00-04:00",
          "2024-06-04T00:00:00-04:00",
          "2024-06-05T00:00:00-04:00",
          "2024-06-06T00:00:00-04:00",
          "2024-06-07T00:00:00-04:00",
          "2024-06-10T00:00:00-04:00",
          "2024-06-11T00:00:00-04:00",
          "2024-06-12T00:00:00-04:00",
          "2024-06-13T00:00:00-04:00",
          "2024-06-14T00:00:00-04:00",
          "2024-06-17T00:00:00-04:00",
          "2024-06-18T00:00:00-04:00",
          "2024-06-20T00:00:00-04:00",
          "2024-06-21T00:00:00-04:00",
          "2024-06-24T00:00:00-04:00",
          "2024-06-25T00:00:00-04:00",
          "2024-06-26T00:00:00-04:00",
          "2024-06-27T00:00:00-04:00",
          "2024-06-28T00:00:00-04:00",
          "2024-07-01T00:00:00-04:00",
          "2024-07-02T00:00:00-04:00",
          "2024-07-03T00:00:00-04:00",
          "2024-07-05T00:00:00-04:00",
          "2024-07-08T00:00:00-04:00",
          "2024-07-09T00:00:00-04:00",
          "2024-07-10T00:00:00-04:00",
          "2024-07-11T00:00:00-04:00",
          "2024-07-12T00:00:00-04:00",
          "2024-07-15T00:00:00-04:00",
          "2024-07-16T00:00:00-04:00",
          "2024-07-17T00:00:00-04:00",
          "2024-07-18T00:00:00-04:00",
          "2024-07-19T00:00:00-04:00",
          "2024-07-22T00:00:00-04:00",
          "2024-07-23T00:00:00-04:00",
          "2024-07-24T00:00:00-04:00",
          "2024-07-25T00:00:00-04:00",
          "2024-07-26T00:00:00-04:00",
          "2024-07-29T00:00:00-04:00",
          "2024-07-30T00:00:00-04:00",
          "2024-07-31T00:00:00-04:00",
          "2024-08-01T00:00:00-04:00",
          "2024-08-02T00:00:00-04:00",
          "2024-08-05T00:00:00-04:00",
          "2024-08-06T00:00:00-04:00",
          "2024-08-07T00:00:00-04:00",
          "2024-08-08T00:00:00-04:00",
          "2024-08-09T00:00:00-04:00",
          "2024-08-12T00:00:00-04:00",
          "2024-08-13T00:00:00-04:00",
          "2024-08-14T00:00:00-04:00",
          "2024-08-15T00:00:00-04:00",
          "2024-08-16T00:00:00-04:00",
          "2024-08-19T00:00:00-04:00",
          "2024-08-20T00:00:00-04:00",
          "2024-08-21T00:00:00-04:00",
          "2024-08-22T00:00:00-04:00",
          "2024-08-23T00:00:00-04:00",
          "2024-08-26T00:00:00-04:00",
          "2024-08-27T00:00:00-04:00",
          "2024-08-28T00:00:00-04:00",
          "2024-08-29T00:00:00-04:00",
          "2024-08-30T00:00:00-04:00",
          "2024-09-03T00:00:00-04:00",
          "2024-09-04T00:00:00-04:00",
          "2024-09-05T00:00:00-04:00",
          "2024-09-06T00:00:00-04:00",
          "2024-09-09T00:00:00-04:00",
          "2024-09-10T00:00:00-04:00",
          "2024-09-11T00:00:00-04:00",
          "2024-09-12T00:00:00-04:00",
          "2024-09-13T00:00:00-04:00",
          "2024-09-16T00:00:00-04:00",
          "2024-09-17T00:00:00-04:00",
          "2024-09-18T00:00:00-04:00",
          "2024-09-19T00:00:00-04:00",
          "2024-09-20T00:00:00-04:00",
          "2024-09-23T00:00:00-04:00",
          "2024-09-24T00:00:00-04:00",
          "2024-09-25T00:00:00-04:00",
          "2024-09-26T00:00:00-04:00",
          "2024-09-27T00:00:00-04:00",
          "2024-09-30T00:00:00-04:00",
          "2024-10-01T00:00:00-04:00",
          "2024-10-02T00:00:00-04:00",
          "2024-10-03T00:00:00-04:00",
          "2024-10-04T00:00:00-04:00",
          "2024-10-07T00:00:00-04:00",
          "2024-10-08T00:00:00-04:00",
          "2024-10-09T00:00:00-04:00",
          "2024-10-10T00:00:00-04:00",
          "2024-10-11T00:00:00-04:00",
          "2024-10-14T00:00:00-04:00",
          "2024-10-15T00:00:00-04:00",
          "2024-10-16T00:00:00-04:00",
          "2024-10-17T00:00:00-04:00",
          "2024-10-18T00:00:00-04:00",
          "2024-10-21T00:00:00-04:00",
          "2024-10-22T00:00:00-04:00",
          "2024-10-23T00:00:00-04:00",
          "2024-10-24T00:00:00-04:00",
          "2024-10-25T00:00:00-04:00",
          "2024-10-28T00:00:00-04:00",
          "2024-10-29T00:00:00-04:00",
          "2024-10-30T00:00:00-04:00",
          "2024-10-31T00:00:00-04:00",
          "2024-11-01T00:00:00-04:00",
          "2024-11-04T00:00:00-05:00",
          "2024-11-05T00:00:00-05:00",
          "2024-11-06T00:00:00-05:00",
          "2024-11-07T00:00:00-05:00",
          "2024-11-08T00:00:00-05:00",
          "2024-11-11T00:00:00-05:00",
          "2024-11-12T00:00:00-05:00",
          "2024-11-13T00:00:00-05:00",
          "2024-11-14T00:00:00-05:00",
          "2024-11-15T00:00:00-05:00",
          "2024-11-18T00:00:00-05:00",
          "2024-11-19T00:00:00-05:00",
          "2024-11-20T00:00:00-05:00",
          "2024-11-21T00:00:00-05:00",
          "2024-11-22T00:00:00-05:00",
          "2024-11-25T00:00:00-05:00",
          "2024-11-26T00:00:00-05:00",
          "2024-11-27T00:00:00-05:00",
          "2024-11-29T00:00:00-05:00",
          "2024-12-02T00:00:00-05:00",
          "2024-12-03T00:00:00-05:00",
          "2024-12-04T00:00:00-05:00",
          "2024-12-05T00:00:00-05:00",
          "2024-12-06T00:00:00-05:00",
          "2024-12-09T00:00:00-05:00",
          "2024-12-10T00:00:00-05:00",
          "2024-12-11T00:00:00-05:00",
          "2024-12-12T00:00:00-05:00",
          "2024-12-13T00:00:00-05:00",
          "2024-12-16T00:00:00-05:00",
          "2024-12-17T00:00:00-05:00",
          "2024-12-18T00:00:00-05:00",
          "2024-12-19T00:00:00-05:00",
          "2024-12-20T00:00:00-05:00",
          "2024-12-23T00:00:00-05:00",
          "2024-12-24T00:00:00-05:00",
          "2024-12-26T00:00:00-05:00",
          "2024-12-27T00:00:00-05:00",
          "2024-12-30T00:00:00-05:00",
          "2024-12-31T00:00:00-05:00",
          "2025-01-02T00:00:00-05:00",
          "2025-01-03T00:00:00-05:00",
          "2025-01-06T00:00:00-05:00",
          "2025-01-07T00:00:00-05:00",
          "2025-01-08T00:00:00-05:00",
          "2025-01-10T00:00:00-05:00",
          "2025-01-13T00:00:00-05:00",
          "2025-01-14T00:00:00-05:00",
          "2025-01-15T00:00:00-05:00",
          "2025-01-16T00:00:00-05:00",
          "2025-01-17T00:00:00-05:00",
          "2025-01-21T00:00:00-05:00",
          "2025-01-22T00:00:00-05:00",
          "2025-01-23T00:00:00-05:00",
          "2025-01-24T00:00:00-05:00",
          "2025-01-27T00:00:00-05:00",
          "2025-01-28T00:00:00-05:00",
          "2025-01-29T00:00:00-05:00",
          "2025-01-30T00:00:00-05:00",
          "2025-01-31T00:00:00-05:00",
          "2025-02-03T00:00:00-05:00",
          "2025-02-04T00:00:00-05:00",
          "2025-02-05T00:00:00-05:00",
          "2025-02-06T00:00:00-05:00",
          "2025-02-07T00:00:00-05:00",
          "2025-02-10T00:00:00-05:00",
          "2025-02-11T00:00:00-05:00",
          "2025-02-12T00:00:00-05:00",
          "2025-02-13T00:00:00-05:00",
          "2025-02-14T00:00:00-05:00",
          "2025-02-18T00:00:00-05:00",
          "2025-02-19T00:00:00-05:00",
          "2025-02-20T00:00:00-05:00",
          "2025-02-21T00:00:00-05:00",
          "2025-02-24T00:00:00-05:00",
          "2025-02-25T00:00:00-05:00",
          "2025-02-26T00:00:00-05:00",
          "2025-02-27T00:00:00-05:00",
          "2025-02-28T00:00:00-05:00",
          "2025-03-03T00:00:00-05:00",
          "2025-03-04T00:00:00-05:00",
          "2025-03-05T00:00:00-05:00",
          "2025-03-06T00:00:00-05:00",
          "2025-03-07T00:00:00-05:00",
          "2025-03-10T00:00:00-04:00",
          "2025-03-11T00:00:00-04:00",
          "2025-03-12T00:00:00-04:00",
          "2025-03-13T00:00:00-04:00",
          "2025-03-14T00:00:00-04:00"
         ],
         "y": {
          "bdata": "sAp8ALCevwBAPL8A9NReABgmqACwgGAArEFsAAzTfwC0BncAmHlNANBLYQAYv2kAUFh6AKBzrwCMn3kASJBjAGxHnAAwcYYALL+HACSHWQDwi3QAMGNnAHwgXgAg/WQAAK3yAOATpwBksnAA9EO3AbAuPgGMwegAtFS1AIQUqADkI6cAJENcAMh2SAC0/lYAJMVXAICmWwBAM2kAQKSEAKgnRABAV0oA2HOBADylfQBARHsAQGhcACBARQDUU1oA/ESlAGDFmADgsZUA/ApsAKR2SQBQzxEBNPuTAGBq1QBIqJEAMHc0AeBozwDYWHkAXHZkAMh9lgAsH5EAYMp6AADljQA8xK4AqHGkANjSuABADYAA5JZmAHAaiQBYpWYAMFFkAYyohABgtnUAkO13AJgSWgDQwEEAnEJdALTsQACIfF8AoOWcAODOcwBwVF4A6HPGAIBH0wCkuHAAaHJ1AGSEmQBgjF0BUBILAeiLdwBYWXsAoIK5AJwY+gCAnp8AbIv9ALyW8gBox7YArF2qALiClwD0w2UAHCxnAPi5egCohq0ApAp0AMB3aAAUomcAyDZbAISDVwCgr0EA7CZMAByuSQD44VIARIhqAMz/agBIWmwAVCGKAKzWTwBsIjoADBd9AMgbUwDsoEAAIGiaAFwmtAD02G4AmDhcAERrQQAwV4IAYJ6SAHhEygCkRmoADFZNAJT5gADsoIsAfE9rAKz6SQA4k0MAHGJeAEwbXAAMl1cAELZhAAhrSwCYHVQATANHAGjeYwD8h1MAPHmVADTCXgDgE3UAeJg/ABArWwAkPpMAhLUfAShbfAD4el8AaLhIAFhWPQAc2zUApJlYAKxrTAAExEYA4BI/AKTxcwA8cXUAvIRGAFQLZADsPV0AmA1GACiaTAD46l0AjMNzAPyY4gAg1KEAcK6aAIBwSwBkgKIAhDN1ABiucAA8Di4AvFtRAPgVdACQsU8ACB+rAGx2RQDgtIgAFPllALwlQQDo0TEAIFuxAMz9SQCQjlkAkAFkAMzxZACgEYUA3H8/AGhVGgBkZiEA7C46AGDlNwCwXDQAQF1JADxxdQC01ZMAkL9uAFjNPgBgbk8AmJ9oADAWXwBEIEEAtI9DAJz/SgBIVXEAfAmYAKSmcwB8KYIA0PnOAiBAcQG0PQgBCNbLAFwRqwAAF6cATIV0AMyZewBonFUADC5cAHScdgBMhIkAtPtEAUzX2wA0Nm0ABIFmAKi2WgAY4IkAZJPuANy9BQH4lzcBdMHxAFiDvwAwYZEAdMfwANg9BwEgpXsAcO2cAPSpkwB09eAA8PmcADSelgC4SXsAaBNwAA==",
          "dtype": "i4"
         }
        },
        {
         "name": "Average",
         "type": "scatter",
         "x": [
          "2024-03-15T00:00:00-04:00",
          "2024-03-18T00:00:00-04:00",
          "2024-03-19T00:00:00-04:00",
          "2024-03-20T00:00:00-04:00",
          "2024-03-21T00:00:00-04:00",
          "2024-03-22T00:00:00-04:00",
          "2024-03-25T00:00:00-04:00",
          "2024-03-26T00:00:00-04:00",
          "2024-03-27T00:00:00-04:00",
          "2024-03-28T00:00:00-04:00",
          "2024-04-01T00:00:00-04:00",
          "2024-04-02T00:00:00-04:00",
          "2024-04-03T00:00:00-04:00",
          "2024-04-04T00:00:00-04:00",
          "2024-04-05T00:00:00-04:00",
          "2024-04-08T00:00:00-04:00",
          "2024-04-09T00:00:00-04:00",
          "2024-04-10T00:00:00-04:00",
          "2024-04-11T00:00:00-04:00",
          "2024-04-12T00:00:00-04:00",
          "2024-04-15T00:00:00-04:00",
          "2024-04-16T00:00:00-04:00",
          "2024-04-17T00:00:00-04:00",
          "2024-04-18T00:00:00-04:00",
          "2024-04-19T00:00:00-04:00",
          "2024-04-22T00:00:00-04:00",
          "2024-04-23T00:00:00-04:00",
          "2024-04-24T00:00:00-04:00",
          "2024-04-25T00:00:00-04:00",
          "2024-04-26T00:00:00-04:00",
          "2024-04-29T00:00:00-04:00",
          "2024-04-30T00:00:00-04:00",
          "2024-05-01T00:00:00-04:00",
          "2024-05-02T00:00:00-04:00",
          "2024-05-03T00:00:00-04:00",
          "2024-05-06T00:00:00-04:00",
          "2024-05-07T00:00:00-04:00",
          "2024-05-08T00:00:00-04:00",
          "2024-05-09T00:00:00-04:00",
          "2024-05-10T00:00:00-04:00",
          "2024-05-13T00:00:00-04:00",
          "2024-05-14T00:00:00-04:00",
          "2024-05-15T00:00:00-04:00",
          "2024-05-16T00:00:00-04:00",
          "2024-05-17T00:00:00-04:00",
          "2024-05-20T00:00:00-04:00",
          "2024-05-21T00:00:00-04:00",
          "2024-05-22T00:00:00-04:00",
          "2024-05-23T00:00:00-04:00",
          "2024-05-24T00:00:00-04:00",
          "2024-05-28T00:00:00-04:00",
          "2024-05-29T00:00:00-04:00",
          "2024-05-30T00:00:00-04:00",
          "2024-05-31T00:00:00-04:00",
          "2024-06-03T00:00:00-04:00",
          "2024-06-04T00:00:00-04:00",
          "2024-06-05T00:00:00-04:00",
          "2024-06-06T00:00:00-04:00",
          "2024-06-07T00:00:00-04:00",
          "2024-06-10T00:00:00-04:00",
          "2024-06-11T00:00:00-04:00",
          "2024-06-12T00:00:00-04:00",
          "2024-06-13T00:00:00-04:00",
          "2024-06-14T00:00:00-04:00",
          "2024-06-17T00:00:00-04:00",
          "2024-06-18T00:00:00-04:00",
          "2024-06-20T00:00:00-04:00",
          "2024-06-21T00:00:00-04:00",
          "2024-06-24T00:00:00-04:00",
          "2024-06-25T00:00:00-04:00",
          "2024-06-26T00:00:00-04:00",
          "2024-06-27T00:00:00-04:00",
          "2024-06-28T00:00:00-04:00",
          "2024-07-01T00:00:00-04:00",
          "2024-07-02T00:00:00-04:00",
          "2024-07-03T00:00:00-04:00",
          "2024-07-05T00:00:00-04:00",
          "2024-07-08T00:00:00-04:00",
          "2024-07-09T00:00:00-04:00",
          "2024-07-10T00:00:00-04:00",
          "2024-07-11T00:00:00-04:00",
          "2024-07-12T00:00:00-04:00",
          "2024-07-15T00:00:00-04:00",
          "2024-07-16T00:00:00-04:00",
          "2024-07-17T00:00:00-04:00",
          "2024-07-18T00:00:00-04:00",
          "2024-07-19T00:00:00-04:00",
          "2024-07-22T00:00:00-04:00",
          "2024-07-23T00:00:00-04:00",
          "2024-07-24T00:00:00-04:00",
          "2024-07-25T00:00:00-04:00",
          "2024-07-26T00:00:00-04:00",
          "2024-07-29T00:00:00-04:00",
          "2024-07-30T00:00:00-04:00",
          "2024-07-31T00:00:00-04:00",
          "2024-08-01T00:00:00-04:00",
          "2024-08-02T00:00:00-04:00",
          "2024-08-05T00:00:00-04:00",
          "2024-08-06T00:00:00-04:00",
          "2024-08-07T00:00:00-04:00",
          "2024-08-08T00:00:00-04:00",
          "2024-08-09T00:00:00-04:00",
          "2024-08-12T00:00:00-04:00",
          "2024-08-13T00:00:00-04:00",
          "2024-08-14T00:00:00-04:00",
          "2024-08-15T00:00:00-04:00",
          "2024-08-16T00:00:00-04:00",
          "2024-08-19T00:00:00-04:00",
          "2024-08-20T00:00:00-04:00",
          "2024-08-21T00:00:00-04:00",
          "2024-08-22T00:00:00-04:00",
          "2024-08-23T00:00:00-04:00",
          "2024-08-26T00:00:00-04:00",
          "2024-08-27T00:00:00-04:00",
          "2024-08-28T00:00:00-04:00",
          "2024-08-29T00:00:00-04:00",
          "2024-08-30T00:00:00-04:00",
          "2024-09-03T00:00:00-04:00",
          "2024-09-04T00:00:00-04:00",
          "2024-09-05T00:00:00-04:00",
          "2024-09-06T00:00:00-04:00",
          "2024-09-09T00:00:00-04:00",
          "2024-09-10T00:00:00-04:00",
          "2024-09-11T00:00:00-04:00",
          "2024-09-12T00:00:00-04:00",
          "2024-09-13T00:00:00-04:00",
          "2024-09-16T00:00:00-04:00",
          "2024-09-17T00:00:00-04:00",
          "2024-09-18T00:00:00-04:00",
          "2024-09-19T00:00:00-04:00",
          "2024-09-20T00:00:00-04:00",
          "2024-09-23T00:00:00-04:00",
          "2024-09-24T00:00:00-04:00",
          "2024-09-25T00:00:00-04:00",
          "2024-09-26T00:00:00-04:00",
          "2024-09-27T00:00:00-04:00",
          "2024-09-30T00:00:00-04:00",
          "2024-10-01T00:00:00-04:00",
          "2024-10-02T00:00:00-04:00",
          "2024-10-03T00:00:00-04:00",
          "2024-10-04T00:00:00-04:00",
          "2024-10-07T00:00:00-04:00",
          "2024-10-08T00:00:00-04:00",
          "2024-10-09T00:00:00-04:00",
          "2024-10-10T00:00:00-04:00",
          "2024-10-11T00:00:00-04:00",
          "2024-10-14T00:00:00-04:00",
          "2024-10-15T00:00:00-04:00",
          "2024-10-16T00:00:00-04:00",
          "2024-10-17T00:00:00-04:00",
          "2024-10-18T00:00:00-04:00",
          "2024-10-21T00:00:00-04:00",
          "2024-10-22T00:00:00-04:00",
          "2024-10-23T00:00:00-04:00",
          "2024-10-24T00:00:00-04:00",
          "2024-10-25T00:00:00-04:00",
          "2024-10-28T00:00:00-04:00",
          "2024-10-29T00:00:00-04:00",
          "2024-10-30T00:00:00-04:00",
          "2024-10-31T00:00:00-04:00",
          "2024-11-01T00:00:00-04:00",
          "2024-11-04T00:00:00-05:00",
          "2024-11-05T00:00:00-05:00",
          "2024-11-06T00:00:00-05:00",
          "2024-11-07T00:00:00-05:00",
          "2024-11-08T00:00:00-05:00",
          "2024-11-11T00:00:00-05:00",
          "2024-11-12T00:00:00-05:00",
          "2024-11-13T00:00:00-05:00",
          "2024-11-14T00:00:00-05:00",
          "2024-11-15T00:00:00-05:00",
          "2024-11-18T00:00:00-05:00",
          "2024-11-19T00:00:00-05:00",
          "2024-11-20T00:00:00-05:00",
          "2024-11-21T00:00:00-05:00",
          "2024-11-22T00:00:00-05:00",
          "2024-11-25T00:00:00-05:00",
          "2024-11-26T00:00:00-05:00",
          "2024-11-27T00:00:00-05:00",
          "2024-11-29T00:00:00-05:00",
          "2024-12-02T00:00:00-05:00",
          "2024-12-03T00:00:00-05:00",
          "2024-12-04T00:00:00-05:00",
          "2024-12-05T00:00:00-05:00",
          "2024-12-06T00:00:00-05:00",
          "2024-12-09T00:00:00-05:00",
          "2024-12-10T00:00:00-05:00",
          "2024-12-11T00:00:00-05:00",
          "2024-12-12T00:00:00-05:00",
          "2024-12-13T00:00:00-05:00",
          "2024-12-16T00:00:00-05:00",
          "2024-12-17T00:00:00-05:00",
          "2024-12-18T00:00:00-05:00",
          "2024-12-19T00:00:00-05:00",
          "2024-12-20T00:00:00-05:00",
          "2024-12-23T00:00:00-05:00",
          "2024-12-24T00:00:00-05:00",
          "2024-12-26T00:00:00-05:00",
          "2024-12-27T00:00:00-05:00",
          "2024-12-30T00:00:00-05:00",
          "2024-12-31T00:00:00-05:00",
          "2025-01-02T00:00:00-05:00",
          "2025-01-03T00:00:00-05:00",
          "2025-01-06T00:00:00-05:00",
          "2025-01-07T00:00:00-05:00",
          "2025-01-08T00:00:00-05:00",
          "2025-01-10T00:00:00-05:00",
          "2025-01-13T00:00:00-05:00",
          "2025-01-14T00:00:00-05:00",
          "2025-01-15T00:00:00-05:00",
          "2025-01-16T00:00:00-05:00",
          "2025-01-17T00:00:00-05:00",
          "2025-01-21T00:00:00-05:00",
          "2025-01-22T00:00:00-05:00",
          "2025-01-23T00:00:00-05:00",
          "2025-01-24T00:00:00-05:00",
          "2025-01-27T00:00:00-05:00",
          "2025-01-28T00:00:00-05:00",
          "2025-01-29T00:00:00-05:00",
          "2025-01-30T00:00:00-05:00",
          "2025-01-31T00:00:00-05:00",
          "2025-02-03T00:00:00-05:00",
          "2025-02-04T00:00:00-05:00",
          "2025-02-05T00:00:00-05:00",
          "2025-02-06T00:00:00-05:00",
          "2025-02-07T00:00:00-05:00",
          "2025-02-10T00:00:00-05:00",
          "2025-02-11T00:00:00-05:00",
          "2025-02-12T00:00:00-05:00",
          "2025-02-13T00:00:00-05:00",
          "2025-02-14T00:00:00-05:00",
          "2025-02-18T00:00:00-05:00",
          "2025-02-19T00:00:00-05:00",
          "2025-02-20T00:00:00-05:00",
          "2025-02-21T00:00:00-05:00",
          "2025-02-24T00:00:00-05:00",
          "2025-02-25T00:00:00-05:00",
          "2025-02-26T00:00:00-05:00",
          "2025-02-27T00:00:00-05:00",
          "2025-02-28T00:00:00-05:00",
          "2025-03-03T00:00:00-05:00",
          "2025-03-04T00:00:00-05:00",
          "2025-03-05T00:00:00-05:00",
          "2025-03-06T00:00:00-05:00",
          "2025-03-07T00:00:00-05:00",
          "2025-03-10T00:00:00-04:00",
          "2025-03-11T00:00:00-04:00",
          "2025-03-12T00:00:00-04:00",
          "2025-03-13T00:00:00-04:00",
          "2025-03-14T00:00:00-04:00"
         ],
         "y": {
          "bdata": "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",
          "dtype": "f8"
         }
        }
       ],
       "layout": {
        "height": 400,
        "template": {
         "data": {
          "bar": [
           {
            "error_x": {
             "color": "#2a3f5f"
            },
            "error_y": {
             "color": "#2a3f5f"
            },
            "marker": {
             "line": {
              "color": "#E5ECF6",
              "width": 0.5
             },
             "pattern": {
              "fillmode": "overlay",
              "size": 10,
              "solidity": 0.2
             }
            },
            "type": "bar"
           }
          ],
          "barpolar": [
           {
            "marker": {
             "line": {
              "color": "#E5ECF6",
              "width": 0.5
             },
             "pattern": {
              "fillmode": "overlay",
              "size": 10,
              "solidity": 0.2
             }
            },
            "type": "barpolar"
           }
          ],
          "carpet": [
           {
            "aaxis": {
             "endlinecolor": "#2a3f5f",
             "gridcolor": "white",
             "linecolor": "white",
             "minorgridcolor": "white",
             "startlinecolor": "#2a3f5f"
            },
            "baxis": {
             "endlinecolor": "#2a3f5f",
             "gridcolor": "white",
             "linecolor": "white",
             "minorgridcolor": "white",
             "startlinecolor": "#2a3f5f"
            },
            "type": "carpet"
           }
          ],
          "choropleth": [
           {
            "colorbar": {
             "outlinewidth": 0,
             "ticks": ""
            },
            "type": "choropleth"
           }
          ],
          "contour": [
           {
            "colorbar": {
             "outlinewidth": 0,
             "ticks": ""
            },
            "colorscale": [
             [
              0,
              "#0d0887"
             ],
             [
              0.1111111111111111,
              "#46039f"
             ],
             [
              0.2222222222222222,
              "#7201a8"
             ],
             [
              0.3333333333333333,
              "#9c179e"
             ],
             [
              0.4444444444444444,
              "#bd3786"
             ],
             [
              0.5555555555555556,
              "#d8576b"
             ],
             [
              0.6666666666666666,
              "#ed7953"
             ],
             [
              0.7777777777777778,
              "#fb9f3a"
             ],
             [
              0.8888888888888888,
              "#fdca26"
             ],
             [
              1,
              "#f0f921"
             ]
            ],
            "type": "contour"
           }
          ],
          "contourcarpet": [
           {
            "colorbar": {
             "outlinewidth": 0,
             "ticks": ""
            },
            "type": "contourcarpet"
           }
          ],
          "heatmap": [
           {
            "colorbar": {
             "outlinewidth": 0,
             "ticks": ""
            },
            "colorscale": [
             [
              0,
              "#0d0887"
             ],
             [
              0.1111111111111111,
              "#46039f"
             ],
             [
              0.2222222222222222,
              "#7201a8"
             ],
             [
              0.3333333333333333,
              "#9c179e"
             ],
             [
              0.4444444444444444,
              "#bd3786"
             ],
             [
              0.5555555555555556,
              "#d8576b"
             ],
             [
              0.6666666666666666,
              "#ed7953"
             ],
             [
              0.7777777777777778,
              "#fb9f3a"
             ],
             [
              0.8888888888888888,
              "#fdca26"
             ],
             [
              1,
              "#f0f921"
             ]
            ],
            "type": "heatmap"
           }
          ],
          "histogram": [
           {
            "marker": {
             "pattern": {
              "fillmode": "overlay",
              "size": 10,
              "solidity": 0.2
             }
            },
            "type": "histogram"
           }
          ],
          "histogram2d": [
           {
            "colorbar": {
             "outlinewidth": 0,
             "ticks": ""
            },
            "colorscale": [
             [
              0,
              "#0d0887"
             ],
             [
              0.1111111111111111,
              "#46039f"
             ],
             [
              0.2222222222222222,
              "#7201a8"
             ],
             [
              0.3333333333333333,
              "#9c179e"
             ],
             [
              0.4444444444444444,
              "#bd3786"
             ],
             [
              0.5555555555555556,
              "#d8576b"
             ],
             [
              0.6666666666666666,
              "#ed7953"
             ],
             [
              0.7777777777777778,
              "#fb9f3a"
             ],
             [
              0.8888888888888888,
              "#fdca26"
             ],
             [
              1,
              "#f0f921"
             ]
            ],
            "type": "histogram2d"
           }
          ],
          "histogram2dcontour": [
           {
            "colorbar": {
             "outlinewidth": 0,
             "ticks": ""
            },
            "colorscale": [
             [
              0,
              "#0d0887"
             ],
             [
              0.1111111111111111,
              "#46039f"
             ],
             [
              0.2222222222222222,
              "#7201a8"
             ],
             [
              0.3333333333333333,
              "#9c179e"
             ],
             [
              0.4444444444444444,
              "#bd3786"
             ],
             [
              0.5555555555555556,
              "#d8576b"
             ],
             [
              0.6666666666666666,
              "#ed7953"
             ],
             [
              0.7777777777777778,
              "#fb9f3a"
             ],
             [
              0.8888888888888888,
              "#fdca26"
             ],
             [
              1,
              "#f0f921"
             ]
            ],
            "type": "histogram2dcontour"
           }
          ],
          "mesh3d": [
           {
            "colorbar": {
             "outlinewidth": 0,
             "ticks": ""
            },
            "type": "mesh3d"
           }
          ],
          "parcoords": [
           {
            "line": {
             "colorbar": {
              "outlinewidth": 0,
              "ticks": ""
             }
            },
            "type": "parcoords"
           }
          ],
          "pie": [
           {
            "automargin": true,
            "type": "pie"
           }
          ],
          "scatter": [
           {
            "fillpattern": {
             "fillmode": "overlay",
             "size": 10,
             "solidity": 0.2
            },
            "type": "scatter"
           }
          ],
          "scatter3d": [
           {
            "line": {
             "colorbar": {
              "outlinewidth": 0,
              "ticks": ""
             }
            },
            "marker": {
             "colorbar": {
              "outlinewidth": 0,
              "ticks": ""
             }
            },
            "type": "scatter3d"
           }
          ],
          "scattercarpet": [
           {
            "marker": {
             "colorbar": {
              "outlinewidth": 0,
              "ticks": ""
             }
            },
            "type": "scattercarpet"
           }
          ],
          "scattergeo": [
           {
            "marker": {
             "colorbar": {
              "outlinewidth": 0,
              "ticks": ""
             }
            },
            "type": "scattergeo"
           }
          ],
          "scattergl": [
           {
            "marker": {
             "colorbar": {
              "outlinewidth": 0,
              "ticks": ""
             }
            },
            "type": "scattergl"
           }
          ],
          "scattermap": [
           {
            "marker": {
             "colorbar": {
              "outlinewidth": 0,
              "ticks": ""
             }
            },
            "type": "scattermap"
           }
          ],
          "scattermapbox": [
           {
            "marker": {
             "colorbar": {
              "outlinewidth": 0,
              "ticks": ""
             }
            },
            "type": "scattermapbox"
           }
          ],
          "scatterpolar": [
           {
            "marker": {
             "colorbar": {
              "outlinewidth": 0,
              "ticks": ""
             }
            },
            "type": "scatterpolar"
           }
          ],
          "scatterpolargl": [
           {
            "marker": {
             "colorbar": {
              "outlinewidth": 0,
              "ticks": ""
             }
            },
            "type": "scatterpolargl"
           }
          ],
          "scatterternary": [
           {
            "marker": {
             "colorbar": {
              "outlinewidth": 0,
              "ticks": ""
             }
            },
            "type": "scatterternary"
           }
          ],
          "surface": [
           {
            "colorbar": {
             "outlinewidth": 0,
             "ticks": ""
            },
            "colorscale": [
             [
              0,
              "#0d0887"
             ],
             [
              0.1111111111111111,
              "#46039f"
             ],
             [
              0.2222222222222222,
              "#7201a8"
             ],
             [
              0.3333333333333333,
              "#9c179e"
             ],
             [
              0.4444444444444444,
              "#bd3786"
             ],
             [
              0.5555555555555556,
              "#d8576b"
             ],
             [
              0.6666666666666666,
              "#ed7953"
             ],
             [
              0.7777777777777778,
              "#fb9f3a"
             ],
             [
              0.8888888888888888,
              "#fdca26"
             ],
             [
              1,
              "#f0f921"
             ]
            ],
            "type": "surface"
           }
          ],
          "table": [
           {
            "cells": {
             "fill": {
              "color": "#EBF0F8"
             },
             "line": {
              "color": "white"
             }
            },
            "header": {
             "fill": {
              "color": "#C8D4E3"
             },
             "line": {
              "color": "white"
             }
            },
            "type": "table"
           }
          ]
         },
         "layout": {
          "annotationdefaults": {
           "arrowcolor": "#2a3f5f",
           "arrowhead": 0,
           "arrowwidth": 1
          },
          "autotypenumbers": "strict",
          "coloraxis": {
           "colorbar": {
            "outlinewidth": 0,
            "ticks": ""
           }
          },
          "colorscale": {
           "diverging": [
            [
             0,
             "#8e0152"
            ],
            [
             0.1,
             "#c51b7d"
            ],
            [
             0.2,
             "#de77ae"
            ],
            [
             0.3,
             "#f1b6da"
            ],
            [
             0.4,
             "#fde0ef"
            ],
            [
             0.5,
             "#f7f7f7"
            ],
            [
             0.6,
             "#e6f5d0"
            ],
            [
             0.7,
             "#b8e186"
            ],
            [
             0.8,
             "#7fbc41"
            ],
            [
             0.9,
             "#4d9221"
            ],
            [
             1,
             "#276419"
            ]
           ],
           "sequential": [
            [
             0,
             "#0d0887"
            ],
            [
             0.1111111111111111,
             "#46039f"
            ],
            [
             0.2222222222222222,
             "#7201a8"
            ],
            [
             0.3333333333333333,
             "#9c179e"
            ],
            [
             0.4444444444444444,
             "#bd3786"
            ],
            [
             0.5555555555555556,
             "#d8576b"
            ],
            [
             0.6666666666666666,
             "#ed7953"
            ],
            [
             0.7777777777777778,
             "#fb9f3a"
            ],
            [
             0.8888888888888888,
             "#fdca26"
            ],
            [
             1,
             "#f0f921"
            ]
           ],
           "sequentialminus": [
            [
             0,
             "#0d0887"
            ],
            [
             0.1111111111111111,
             "#46039f"
            ],
            [
             0.2222222222222222,
             "#7201a8"
            ],
            [
             0.3333333333333333,
             "#9c179e"
            ],
            [
             0.4444444444444444,
             "#bd3786"
            ],
            [
             0.5555555555555556,
             "#d8576b"
            ],
            [
             0.6666666666666666,
             "#ed7953"
            ],
            [
             0.7777777777777778,
             "#fb9f3a"
            ],
            [
             0.8888888888888888,
             "#fdca26"
            ],
            [
             1,
             "#f0f921"
            ]
           ]
          },
          "colorway": [
           "#636efa",
           "#EF553B",
           "#00cc96",
           "#ab63fa",
           "#FFA15A",
           "#19d3f3",
           "#FF6692",
           "#B6E880",
           "#FF97FF",
           "#FECB52"
          ],
          "font": {
           "color": "#2a3f5f"
          },
          "geo": {
           "bgcolor": "white",
           "lakecolor": "white",
           "landcolor": "#E5ECF6",
           "showlakes": true,
           "showland": true,
           "subunitcolor": "white"
          },
          "hoverlabel": {
           "align": "left"
          },
          "hovermode": "closest",
          "mapbox": {
           "style": "light"
          },
          "paper_bgcolor": "white",
          "plot_bgcolor": "#E5ECF6",
          "polar": {
           "angularaxis": {
            "gridcolor": "white",
            "linecolor": "white",
            "ticks": ""
           },
           "bgcolor": "#E5ECF6",
           "radialaxis": {
            "gridcolor": "white",
            "linecolor": "white",
            "ticks": ""
           }
          },
          "scene": {
           "xaxis": {
            "backgroundcolor": "#E5ECF6",
            "gridcolor": "white",
            "gridwidth": 2,
            "linecolor": "white",
            "showbackground": true,
            "ticks": "",
            "zerolinecolor": "white"
           },
           "yaxis": {
            "backgroundcolor": "#E5ECF6",
            "gridcolor": "white",
            "gridwidth": 2,
            "linecolor": "white",
            "showbackground": true,
            "ticks": "",
            "zerolinecolor": "white"
           },
           "zaxis": {
            "backgroundcolor": "#E5ECF6",
            "gridcolor": "white",
            "gridwidth": 2,
            "linecolor": "white",
            "showbackground": true,
            "ticks": "",
            "zerolinecolor": "white"
           }
          },
          "shapedefaults": {
           "line": {
            "color": "#2a3f5f"
           }
          },
          "ternary": {
           "aaxis": {
            "gridcolor": "white",
            "linecolor": "white",
            "ticks": ""
           },
           "baxis": {
            "gridcolor": "white",
            "linecolor": "white",
            "ticks": ""
           },
           "bgcolor": "#E5ECF6",
           "caxis": {
            "gridcolor": "white",
            "linecolor": "white",
            "ticks": ""
           }
          },
          "title": {
           "x": 0.05
          },
          "xaxis": {
           "automargin": true,
           "gridcolor": "white",
           "linecolor": "white",
           "ticks": "",
           "title": {
            "standoff": 15
           },
           "zerolinecolor": "white",
           "zerolinewidth": 2
          },
          "yaxis": {
           "automargin": true,
           "gridcolor": "white",
           "linecolor": "white",
           "ticks": "",
           "title": {
            "standoff": 15
           },
           "zerolinecolor": "white",
           "zerolinewidth": 2
          }
         }
        },
        "title": {
         "text": "vrt"
        },
        "width": 600
       }
      }
     },
     "metadata": {},
     "output_type": "display_data"
    }
   ],
   "source": [
    "\n",
    "from finta import TA\n",
    "\n",
    "data = t.history(period='1y', rounding=True, auto_adjust=False)\n",
    "data['ema10'] = TA.EMA(data, 10)\n",
    "data['sma30'] = TA.SMA(data, 30)\n",
    "\n",
    "import plotly.graph_objects as go\n",
    "\n",
    "# Stock and moving averages\n",
    "fig = go.Figure(data=[\n",
    "                go.Candlestick(\n",
    "                    x = data.index, # date values\n",
    "                    open  = data['Open'],\n",
    "                    high  = data['High'],\n",
    "                    low   = data['Low'],\n",
    "                    close = data['Close'],\n",
    "                    name = STOCK\n",
    "                ),\n",
    "         \n",
    "                go.Scatter( x=data['ema10'].index,\n",
    "                            y=data['ema10'],\n",
    "                            name='EMA 10',\n",
    "                            line=dict(color='blue',\n",
    "                                      width=2,\n",
    "                                      shape='spline'), # smooth the line\n",
    "                            ),\n",
    "        \n",
    "                go.Scatter( x=data['sma30'].index,\n",
    "                            y=data['sma30'],\n",
    "                            name='SMA 30',\n",
    "                            line=dict(color='purple',\n",
    "                                      width=2,\n",
    "                                      shape='spline'), # smooth the line\n",
    "                            ),\n",
    "                \n",
    "                ])\n",
    "fig.update_layout(xaxis_rangeslider_visible=False, title=f\"{STOCK}\", width=600, height=400)\n",
    "fig.show()\n",
    "\n",
    "# Volume\n",
    "data['vol_avg'] = data['Volume'].rolling(14).mean()\n",
    "fig1 = go.Figure(\n",
    "    data = [\n",
    "        go.Bar(x=data.index, y=data['Volume'], name='Volume'),\n",
    "        go.Scatter(x=data.index, y=data['vol_avg'], name='Average')\n",
    "    ])\n",
    "\n",
    "fig1.update_layout(title=f\"{STOCK}\", width=600, height=400)\n",
    "fig1.show()\n"
   ]
  },
  {
   "cell_type": "code",
   "execution_count": 36,
   "metadata": {},
   "outputs": [
    {
     "name": "stdout",
     "output_type": "stream",
     "text": [
      "STOCK:  vrt\n",
      "\u001b[90m ●  VIX has crossed up\n",
      "\u001b[90m ●  VIX has crossed down\n",
      "\u001b[92m ●  MACD has crossed up\n",
      "\u001b[90m ●  MACD has crossed down\n",
      "\u001b[90m ●  Stochastic has crossed up\n",
      "\u001b[90m ●  Stochastic has crossed down\n",
      "\u001b[90m ●  Moving average is bullish\n",
      "\u001b[92m ●  Moving average is reversing\n",
      "\u001b[90m ●  Moving average cross down\n",
      "\u001b[90m ●  Moving average cross up\n",
      "\u001b[90m ●  Moving average is bearish\n",
      "\u001b[90m ●  Moving average price crossed below \n",
      "\u001b[90m ●  Moving average price crossed above \n",
      "\u001b[90m ●  52 week low \n",
      "\u001b[90m ●  52 week high \n",
      "\u001b[90m ●  RSI oversold (30)\n",
      "\u001b[90m ●  RSI overbought (70)\n",
      "\u001b[90m ●  RSI 52 week low\n",
      "\u001b[90m ●  RSI 52 week high\n",
      "\u001b[90m ●  Resistance break up\n",
      "\u001b[90m ●  Support break down\n",
      "\u001b[90m ●  Close Above High Of Low Day\n",
      "\u001b[90m ●  Close Below Low Of High Day\n",
      "\u001b[90m ●  Volume high\n"
     ]
    }
   ],
   "source": [
    "\n",
    "from yfinance_utils import signals_utils\n",
    "#\n",
    "#Red = '\\033[91m'\n",
    "#Green = '\\033[92m'\n",
    "#Blue = '\\033[94m'\n",
    "#Cyan = '\\033[96m'\n",
    "#White = '\\033[97m'\n",
    "#Yellow = '\\033[93m'\n",
    "#Magenta = '\\033[95m'\n",
    "#Grey = '\\033[90m'\n",
    "#Black = '\\033[90m'\n",
    "#Default = '\\033[99m'\n",
    "\n",
    "def get_color_dot(c):\n",
    "    if c:\n",
    "        return\"\\033[92m ● \"  # Green dot\n",
    "    else:\n",
    "        return\"\\033[90m ● \"  # Grey dot\n",
    "\n",
    "print(f\"STOCK:  {STOCK}\")\n",
    "print(f\"{get_color_dot(signals_utils.is_vix_hma_cross_up(day=2))} VIX has crossed up\")\n",
    "print(f\"{get_color_dot(signals_utils.is_vix_hma_cross_down(day=2))} VIX has crossed down\")\n",
    "print(f\"{get_color_dot(signals_utils.is_macd_cross_up(data))} MACD has crossed up\")\n",
    "print(f\"{get_color_dot(signals_utils.is_macd_cross_down(data))} MACD has crossed down\")\n",
    "print(f\"{get_color_dot(signals_utils.is_stochastic_cross_up(data))} Stochastic has crossed up\")\n",
    "print(f\"{get_color_dot(signals_utils.is_stochastic_cross_down(data))} Stochastic has crossed down\")\n",
    "print(f\"{get_color_dot(signals_utils.is_ma_bullish_trend(data))} Moving average is bullish\")\n",
    "print(f\"{get_color_dot(signals_utils.is_ma_trend_reversing(data))} Moving average is reversing\")\n",
    "print(f\"{get_color_dot(signals_utils.is_ma_cross_down(data))} Moving average cross down\")\n",
    "print(f\"{get_color_dot(signals_utils.is_ma_cross_up(data))} Moving average cross up\")\n",
    "print(f\"{get_color_dot(signals_utils.is_ma_bearish_trend(data))} Moving average is bearish\")\n",
    "print(f\"{get_color_dot(signals_utils.is_ma_price_cross_down(data))} Moving average price crossed below \")\n",
    "print(f\"{get_color_dot(signals_utils.is_ma_price_cross_up(data))} Moving average price crossed above \")\n",
    "print(f\"{get_color_dot(signals_utils.is_price_year_low(data))} 52 week low \")\n",
    "print(f\"{get_color_dot(signals_utils.is_price_year_high(data))} 52 week high \")\n",
    "print(f\"{get_color_dot(signals_utils.is_rsi_oversold(data))} RSI oversold (30)\")\n",
    "print(f\"{get_color_dot(signals_utils.is_rsi_overbough(data))} RSI overbought (70)\")\n",
    "print(f\"{get_color_dot(signals_utils.is_price_year_low(data))} RSI 52 week low\")\n",
    "print(f\"{get_color_dot(signals_utils.is_price_year_high(data))} RSI 52 week high\")\n",
    "print(f\"{get_color_dot(signals_utils.is_resistance_breake_up(data))} Resistance break up\")\n",
    "print(f\"{get_color_dot(signals_utils.is_support_breake_down(data))} Support break down\")\n",
    "print(f\"{get_color_dot(signals_utils.is_cahold(data))} Close Above High Of Low Day\")\n",
    "print(f\"{get_color_dot(signals_utils.is_cblohd(data))} Close Below Low Of High Day\")\n",
    "print(f\"{get_color_dot(signals_utils.is_high_volume(data))} Volume high\")\n"
   ]
  },
  {
   "cell_type": "code",
   "execution_count": 37,
   "metadata": {},
   "outputs": [
    {
     "name": "stdout",
     "output_type": "stream",
     "text": [
      "Stock                        : vrt\n",
      "Price                        : 87.45\n",
      "Put Call Ratio               : 0.51\n",
      "Current Ratio                : 1.65\n",
      "Book Value per Share         : 6.39\n",
      "\n",
      "Records for last two periods.\n",
      "Note: periods are read right to left\n",
      "\n",
      "                              PERIOD_0  PERIOD_1                    CHANGE\n",
      "NAME                                                                      \n",
      "Revenue MM                      495.80    460.20     \u001b[92m UP 8.0% ● \u001b[97m\n",
      "Average Assets MM              8565.50   7547.10    \u001b[92m UP 13.0% ● \u001b[97m\n",
      "Average Inventory MM           1064.35    853.15    \u001b[92m UP 25.0% ● \u001b[97m\n",
      "Revenue per Share                  NaN     17.77   \u001b[91m DOWN nan% ● \u001b[97m\n",
      "Earnings per Share                 NaN      1.19   \u001b[91m DOWN nan% ● \u001b[97m\n",
      "Share Price to Earnings            NaN       NaN   \u001b[91m DOWN nan% ● \u001b[97m\n",
      "Price to Sales                     NaN       NaN   \u001b[91m DOWN nan% ● \u001b[97m\n",
      "Acid Test Ratio                   1.25      1.35   \u001b[91m DOWN 8.0% ● \u001b[97m\n",
      "Cash Ratio                        0.40      0.34    \u001b[92m UP 17.0% ● \u001b[97m\n",
      "Operating Cash Flow Ratio         0.43      0.39     \u001b[92m UP 9.0% ● \u001b[97m\n",
      "Debt Ratio                        0.73      0.75   \u001b[91m DOWN 2.0% ● \u001b[97m\n",
      "Debt to Equity Ratio              2.75      2.97   \u001b[91m DOWN 7.0% ● \u001b[97m\n",
      "Interest Coverage Ratio           9.19      5.09    \u001b[92m UP 81.0% ● \u001b[97m\n",
      "Service Coverage Ratio            0.44      0.29    \u001b[92m UP 50.0% ● \u001b[97m\n",
      "Asset Turnover Ratio              0.06      0.06   \u001b[91m DOWN 5.0% ● \u001b[97m\n",
      "Inventory Turnover Ratio          5.95      6.21   \u001b[91m DOWN 4.0% ● \u001b[97m\n",
      "Day Sales in Inventory Ratio      0.00      0.00  \u001b[91m DOWN 20.0% ● \u001b[97m\n",
      "Return on Assets Ratio            0.05      0.06   \u001b[91m DOWN 6.0% ● \u001b[97m\n",
      "Return on Equity Ratio            0.20      0.23  \u001b[91m DOWN 11.0% ● \u001b[97m\n"
     ]
    }
   ],
   "source": [
    "\n",
    "from yfinance_utils import ratio_utils\n",
    "import pandas as pd\n",
    "\n",
    "print(f\"Stock                        : {STOCK}\")\n",
    "print(f\"Price                        : {t.history()['Close'].iloc[-1].round(2)}\")\n",
    "print(f\"Put Call Ratio               : {ratio_utils.get_put_call_ratio(t):,.2f}\")\n",
    "print(f\"Current Ratio                : {ratio_utils.get_current_ratio(t):,.2f}\")\n",
    "print(f\"Book Value per Share         : {ratio_utils.get_book_value_per_share_ratio(t):,.2f}\")\n",
    "print(\"\")\n",
    "\n",
    "df = pd.DataFrame()\n",
    "\n",
    "ls_name = [\n",
    "    'Revenue MM'                  ,\n",
    "    'Average Assets MM'           ,\n",
    "    'Average Inventory MM'        ,\n",
    "    'Revenue per Share'           ,\n",
    "    'Earnings per Share'          ,\n",
    "    'Share Price to Earnings'     ,\n",
    "    'Price to Sales'              ,\n",
    "    'Acid Test Ratio'             ,\n",
    "    'Cash Ratio'                  ,\n",
    "    'Operating Cash Flow Ratio'   ,\n",
    "    'Debt Ratio'                  ,\n",
    "    'Debt to Equity Ratio'        ,\n",
    "    'Interest Coverage Ratio'     ,\n",
    "    'Service Coverage Ratio'      ,\n",
    "    'Asset Turnover Ratio'        ,\n",
    "    'Inventory Turnover Ratio'    ,\n",
    "    'Day Sales in Inventory Ratio',\n",
    "    'Return on Assets Ratio'      , \n",
    "    'Return on Equity Ratio'\n",
    "]\n",
    "\n",
    "for i in range(1,3):\n",
    "    name = ls_name\n",
    "    \n",
    "df['NAME'] = ls_name\n",
    "df.set_index('NAME',inplace=True)\n",
    "\n",
    "for i in range(2):\n",
    "    ls = []\n",
    "    ls.append(ratio_utils.get_net_revenue(t, period = i)/1000000)\n",
    "    ls.append(ratio_utils.get_avg_assets(t, period = i)/1000000)\n",
    "    ls.append(ratio_utils.get_avg_inventory(t, period = i)/1000000)\n",
    "    ls.append(ratio_utils.get_revenue_per_share(t, period = i))\n",
    "    ls.append(ratio_utils.get_earnings_per_share(t, period = i))\n",
    "    ls.append(ratio_utils.get_price_to_earnings(t, period = i))\n",
    "    ls.append(ratio_utils.get_price_to_sales(t, period = i))\n",
    "    ls.append(ratio_utils.get_acid_test_ratio(t, period = i))\n",
    "    ls.append(ratio_utils.get_cash_ratio(t, period = i))\n",
    "    ls.append(ratio_utils.get_operating_cash_flow_ratio(t, period = i))\n",
    "    ls.append(ratio_utils.get_debt_ratio(t, period = i))\n",
    "    ls.append(ratio_utils.get_debt_to_equity_ratio(t, period = i))\n",
    "    ls.append(ratio_utils.get_interest_coverage_ratio(t, period = i))\n",
    "    ls.append(ratio_utils.get_service_coverage_ratio(t, period = i))\n",
    "    ls.append(ratio_utils.get_asset_turnover_ratio(t, period = i))\n",
    "    ls.append(ratio_utils.get_inventory_turnover_ratio(t, period = i))\n",
    "    ls.append(ratio_utils.get_day_sales_in_inventory_ratio(t, period = i))\n",
    "    ls.append(ratio_utils.get_return_on_assets_ratio(t, period = i))\n",
    "    ls.append(ratio_utils.get_return_on_equity(t, period = i))\n",
    "    df[f\"PERIOD_{i}\"] = ls\n",
    "\n",
    "direction = []\n",
    "for i in range(len(df)):\n",
    "    if df['PERIOD_0'].iloc[i] > df['PERIOD_1'].iloc[i]:\n",
    "        pct = round(((df['PERIOD_0'].iloc[i] / df['PERIOD_1'].iloc[i]) - 1) * 100,0)\n",
    "        direction.append(f\"\\033[92m UP {abs(pct)}% ● \\033[97m\")\n",
    "    else:\n",
    "        pct = round(((1-((df['PERIOD_0'].iloc[i] / df['PERIOD_1'].iloc[i])))*100),0)\n",
    "        direction.append(f\"\\033[91m DOWN {abs(pct)}% ● \\033[97m\")\n",
    "df['CHANGE'] = direction\n",
    "\n",
    "print(\"Records for last two periods.\")\n",
    "print(\"Note: periods are read right to left\")\n",
    "print('')\n",
    "print(df.round(2))"
   ]
  }
 ],
 "metadata": {
  "kernelspec": {
   "display_name": ".venv",
   "language": "python",
   "name": "python3"
  },
  "language_info": {
   "codemirror_mode": {
    "name": "ipython",
    "version": 3
   },
   "file_extension": ".py",
   "mimetype": "text/x-python",
   "name": "python",
   "nbconvert_exporter": "python",
   "pygments_lexer": "ipython3",
   "version": "3.9.6"
  }
 },
 "nbformat": 4,
 "nbformat_minor": 2
}
