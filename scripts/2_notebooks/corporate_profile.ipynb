{
 "cells": [
  {
   "cell_type": "markdown",
   "metadata": {},
   "source": [
    "Copyright 2024 Lehi Gracia"
   ]
  },
  {
   "cell_type": "code",
   "execution_count": 2,
   "metadata": {},
   "outputs": [],
   "source": [
    "STOCK = 'AAPL'"
   ]
  },
  {
   "cell_type": "code",
   "execution_count": 3,
   "metadata": {},
   "outputs": [
    {
     "name": "stdout",
     "output_type": "stream",
     "text": [
      "Oracle earnings, Apple, Potbelly & RaceTrac: Trending Tickers\n",
      "Apple debuts superthin iPhone Air alongside iPhone 17 and iPhone 17 Pro\n",
      "'Thin is in': iPhone Air could be glimpse into Apple's future\n",
      "Apple debuts AirPods Pro 3 with improved audio and built-in heart rate tracking\n",
      "Stock Market Today: Dow Slides As Oracle Soars; Medicare News Hits Health Leader (Live Coverage)\n",
      "Apple's iPhone 17 Pricing 'Effectively' Unchanged, UBS Says\n",
      "All of the iPhone 17 models compared\n",
      "Apple introduces ‘newest member of the iPhone family’\n",
      "AI Gets Scant Mention At Apple iPhone 17 Launch Event\n",
      "3 Reasons Apple Stock Could Gain More Than 20%\n"
     ]
    }
   ],
   "source": [
    "\n",
    "import warnings\n",
    "warnings.filterwarnings('ignore')\n",
    "\n",
    "from yfinance_utils import file_utils, file_utils\n",
    "from datetime import datetime\n",
    "\n",
    "t = file_utils.get_history(STOCK)\n",
    "n = file_utils.get_news(STOCK)\n",
    "for i in n:\n",
    "    print(f\"{i['content']['title']}\")"
   ]
  },
  {
   "cell_type": "markdown",
   "metadata": {},
   "source": [
    "### Ratings UP and DOWN"
   ]
  },
  {
   "cell_type": "code",
   "execution_count": 4,
   "metadata": {},
   "outputs": [
    {
     "name": "stdout",
     "output_type": "stream",
     "text": [
      "28  up\n",
      "3  down\n",
      "46  total\n",
      "15  hold\n"
     ]
    }
   ],
   "source": [
    "\n",
    "from yfinance_utils import file_utils\n",
    "\n",
    "ratings = file_utils.get_ratings(STOCK)\n",
    "for i in ratings.keys():\n",
    "    print(f\"{ratings[i]}  {i}\")\n",
    "\n"
   ]
  },
  {
   "cell_type": "markdown",
   "metadata": {},
   "source": [
    "### Total Ratings"
   ]
  },
  {
   "cell_type": "code",
   "execution_count": 5,
   "metadata": {},
   "outputs": [
    {
     "data": {
      "application/vnd.plotly.v1+json": {
       "config": {
        "plotlyServerURL": "https://plot.ly"
       },
       "data": [
        {
         "domain": {
          "x": [
           0,
           1
          ],
          "y": [
           0,
           1
          ]
         },
         "hovertemplate": "label=%{label}<br>value=%{value}<extra></extra>",
         "labels": [
          "Buy",
          "Neutral",
          "Outperform",
          "Hold",
          "Overweight",
          "Underweight",
          "Underperform",
          "Sector Weight",
          "Strong Buy",
          "Perform",
          "Sell",
          "Positive",
          "Market Perform",
          "Equal-Weight",
          "Peer Perform",
          "Reduce",
          "Negative"
         ],
         "legendgroup": "",
         "name": "",
         "showlegend": true,
         "type": "pie",
         "values": {
          "bdata": "RwFvAMAAKACmAA8ACAAFAAwAAwAJAAEAJAAkAAEAAQABAA==",
          "dtype": "i2"
         }
        }
       ],
       "layout": {
        "height": 400,
        "legend": {
         "tracegroupgap": 0
        },
        "template": {
         "data": {
          "bar": [
           {
            "error_x": {
             "color": "#2a3f5f"
            },
            "error_y": {
             "color": "#2a3f5f"
            },
            "marker": {
             "line": {
              "color": "#E5ECF6",
              "width": 0.5
             },
             "pattern": {
              "fillmode": "overlay",
              "size": 10,
              "solidity": 0.2
             }
            },
            "type": "bar"
           }
          ],
          "barpolar": [
           {
            "marker": {
             "line": {
              "color": "#E5ECF6",
              "width": 0.5
             },
             "pattern": {
              "fillmode": "overlay",
              "size": 10,
              "solidity": 0.2
             }
            },
            "type": "barpolar"
           }
          ],
          "carpet": [
           {
            "aaxis": {
             "endlinecolor": "#2a3f5f",
             "gridcolor": "white",
             "linecolor": "white",
             "minorgridcolor": "white",
             "startlinecolor": "#2a3f5f"
            },
            "baxis": {
             "endlinecolor": "#2a3f5f",
             "gridcolor": "white",
             "linecolor": "white",
             "minorgridcolor": "white",
             "startlinecolor": "#2a3f5f"
            },
            "type": "carpet"
           }
          ],
          "choropleth": [
           {
            "colorbar": {
             "outlinewidth": 0,
             "ticks": ""
            },
            "type": "choropleth"
           }
          ],
          "contour": [
           {
            "colorbar": {
             "outlinewidth": 0,
             "ticks": ""
            },
            "colorscale": [
             [
              0,
              "#0d0887"
             ],
             [
              0.1111111111111111,
              "#46039f"
             ],
             [
              0.2222222222222222,
              "#7201a8"
             ],
             [
              0.3333333333333333,
              "#9c179e"
             ],
             [
              0.4444444444444444,
              "#bd3786"
             ],
             [
              0.5555555555555556,
              "#d8576b"
             ],
             [
              0.6666666666666666,
              "#ed7953"
             ],
             [
              0.7777777777777778,
              "#fb9f3a"
             ],
             [
              0.8888888888888888,
              "#fdca26"
             ],
             [
              1,
              "#f0f921"
             ]
            ],
            "type": "contour"
           }
          ],
          "contourcarpet": [
           {
            "colorbar": {
             "outlinewidth": 0,
             "ticks": ""
            },
            "type": "contourcarpet"
           }
          ],
          "heatmap": [
           {
            "colorbar": {
             "outlinewidth": 0,
             "ticks": ""
            },
            "colorscale": [
             [
              0,
              "#0d0887"
             ],
             [
              0.1111111111111111,
              "#46039f"
             ],
             [
              0.2222222222222222,
              "#7201a8"
             ],
             [
              0.3333333333333333,
              "#9c179e"
             ],
             [
              0.4444444444444444,
              "#bd3786"
             ],
             [
              0.5555555555555556,
              "#d8576b"
             ],
             [
              0.6666666666666666,
              "#ed7953"
             ],
             [
              0.7777777777777778,
              "#fb9f3a"
             ],
             [
              0.8888888888888888,
              "#fdca26"
             ],
             [
              1,
              "#f0f921"
             ]
            ],
            "type": "heatmap"
           }
          ],
          "histogram": [
           {
            "marker": {
             "pattern": {
              "fillmode": "overlay",
              "size": 10,
              "solidity": 0.2
             }
            },
            "type": "histogram"
           }
          ],
          "histogram2d": [
           {
            "colorbar": {
             "outlinewidth": 0,
             "ticks": ""
            },
            "colorscale": [
             [
              0,
              "#0d0887"
             ],
             [
              0.1111111111111111,
              "#46039f"
             ],
             [
              0.2222222222222222,
              "#7201a8"
             ],
             [
              0.3333333333333333,
              "#9c179e"
             ],
             [
              0.4444444444444444,
              "#bd3786"
             ],
             [
              0.5555555555555556,
              "#d8576b"
             ],
             [
              0.6666666666666666,
              "#ed7953"
             ],
             [
              0.7777777777777778,
              "#fb9f3a"
             ],
             [
              0.8888888888888888,
              "#fdca26"
             ],
             [
              1,
              "#f0f921"
             ]
            ],
            "type": "histogram2d"
           }
          ],
          "histogram2dcontour": [
           {
            "colorbar": {
             "outlinewidth": 0,
             "ticks": ""
            },
            "colorscale": [
             [
              0,
              "#0d0887"
             ],
             [
              0.1111111111111111,
              "#46039f"
             ],
             [
              0.2222222222222222,
              "#7201a8"
             ],
             [
              0.3333333333333333,
              "#9c179e"
             ],
             [
              0.4444444444444444,
              "#bd3786"
             ],
             [
              0.5555555555555556,
              "#d8576b"
             ],
             [
              0.6666666666666666,
              "#ed7953"
             ],
             [
              0.7777777777777778,
              "#fb9f3a"
             ],
             [
              0.8888888888888888,
              "#fdca26"
             ],
             [
              1,
              "#f0f921"
             ]
            ],
            "type": "histogram2dcontour"
           }
          ],
          "mesh3d": [
           {
            "colorbar": {
             "outlinewidth": 0,
             "ticks": ""
            },
            "type": "mesh3d"
           }
          ],
          "parcoords": [
           {
            "line": {
             "colorbar": {
              "outlinewidth": 0,
              "ticks": ""
             }
            },
            "type": "parcoords"
           }
          ],
          "pie": [
           {
            "automargin": true,
            "type": "pie"
           }
          ],
          "scatter": [
           {
            "fillpattern": {
             "fillmode": "overlay",
             "size": 10,
             "solidity": 0.2
            },
            "type": "scatter"
           }
          ],
          "scatter3d": [
           {
            "line": {
             "colorbar": {
              "outlinewidth": 0,
              "ticks": ""
             }
            },
            "marker": {
             "colorbar": {
              "outlinewidth": 0,
              "ticks": ""
             }
            },
            "type": "scatter3d"
           }
          ],
          "scattercarpet": [
           {
            "marker": {
             "colorbar": {
              "outlinewidth": 0,
              "ticks": ""
             }
            },
            "type": "scattercarpet"
           }
          ],
          "scattergeo": [
           {
            "marker": {
             "colorbar": {
              "outlinewidth": 0,
              "ticks": ""
             }
            },
            "type": "scattergeo"
           }
          ],
          "scattergl": [
           {
            "marker": {
             "colorbar": {
              "outlinewidth": 0,
              "ticks": ""
             }
            },
            "type": "scattergl"
           }
          ],
          "scattermap": [
           {
            "marker": {
             "colorbar": {
              "outlinewidth": 0,
              "ticks": ""
             }
            },
            "type": "scattermap"
           }
          ],
          "scattermapbox": [
           {
            "marker": {
             "colorbar": {
              "outlinewidth": 0,
              "ticks": ""
             }
            },
            "type": "scattermapbox"
           }
          ],
          "scatterpolar": [
           {
            "marker": {
             "colorbar": {
              "outlinewidth": 0,
              "ticks": ""
             }
            },
            "type": "scatterpolar"
           }
          ],
          "scatterpolargl": [
           {
            "marker": {
             "colorbar": {
              "outlinewidth": 0,
              "ticks": ""
             }
            },
            "type": "scatterpolargl"
           }
          ],
          "scatterternary": [
           {
            "marker": {
             "colorbar": {
              "outlinewidth": 0,
              "ticks": ""
             }
            },
            "type": "scatterternary"
           }
          ],
          "surface": [
           {
            "colorbar": {
             "outlinewidth": 0,
             "ticks": ""
            },
            "colorscale": [
             [
              0,
              "#0d0887"
             ],
             [
              0.1111111111111111,
              "#46039f"
             ],
             [
              0.2222222222222222,
              "#7201a8"
             ],
             [
              0.3333333333333333,
              "#9c179e"
             ],
             [
              0.4444444444444444,
              "#bd3786"
             ],
             [
              0.5555555555555556,
              "#d8576b"
             ],
             [
              0.6666666666666666,
              "#ed7953"
             ],
             [
              0.7777777777777778,
              "#fb9f3a"
             ],
             [
              0.8888888888888888,
              "#fdca26"
             ],
             [
              1,
              "#f0f921"
             ]
            ],
            "type": "surface"
           }
          ],
          "table": [
           {
            "cells": {
             "fill": {
              "color": "#EBF0F8"
             },
             "line": {
              "color": "white"
             }
            },
            "header": {
             "fill": {
              "color": "#C8D4E3"
             },
             "line": {
              "color": "white"
             }
            },
            "type": "table"
           }
          ]
         },
         "layout": {
          "annotationdefaults": {
           "arrowcolor": "#2a3f5f",
           "arrowhead": 0,
           "arrowwidth": 1
          },
          "autotypenumbers": "strict",
          "coloraxis": {
           "colorbar": {
            "outlinewidth": 0,
            "ticks": ""
           }
          },
          "colorscale": {
           "diverging": [
            [
             0,
             "#8e0152"
            ],
            [
             0.1,
             "#c51b7d"
            ],
            [
             0.2,
             "#de77ae"
            ],
            [
             0.3,
             "#f1b6da"
            ],
            [
             0.4,
             "#fde0ef"
            ],
            [
             0.5,
             "#f7f7f7"
            ],
            [
             0.6,
             "#e6f5d0"
            ],
            [
             0.7,
             "#b8e186"
            ],
            [
             0.8,
             "#7fbc41"
            ],
            [
             0.9,
             "#4d9221"
            ],
            [
             1,
             "#276419"
            ]
           ],
           "sequential": [
            [
             0,
             "#0d0887"
            ],
            [
             0.1111111111111111,
             "#46039f"
            ],
            [
             0.2222222222222222,
             "#7201a8"
            ],
            [
             0.3333333333333333,
             "#9c179e"
            ],
            [
             0.4444444444444444,
             "#bd3786"
            ],
            [
             0.5555555555555556,
             "#d8576b"
            ],
            [
             0.6666666666666666,
             "#ed7953"
            ],
            [
             0.7777777777777778,
             "#fb9f3a"
            ],
            [
             0.8888888888888888,
             "#fdca26"
            ],
            [
             1,
             "#f0f921"
            ]
           ],
           "sequentialminus": [
            [
             0,
             "#0d0887"
            ],
            [
             0.1111111111111111,
             "#46039f"
            ],
            [
             0.2222222222222222,
             "#7201a8"
            ],
            [
             0.3333333333333333,
             "#9c179e"
            ],
            [
             0.4444444444444444,
             "#bd3786"
            ],
            [
             0.5555555555555556,
             "#d8576b"
            ],
            [
             0.6666666666666666,
             "#ed7953"
            ],
            [
             0.7777777777777778,
             "#fb9f3a"
            ],
            [
             0.8888888888888888,
             "#fdca26"
            ],
            [
             1,
             "#f0f921"
            ]
           ]
          },
          "colorway": [
           "#636efa",
           "#EF553B",
           "#00cc96",
           "#ab63fa",
           "#FFA15A",
           "#19d3f3",
           "#FF6692",
           "#B6E880",
           "#FF97FF",
           "#FECB52"
          ],
          "font": {
           "color": "#2a3f5f"
          },
          "geo": {
           "bgcolor": "white",
           "lakecolor": "white",
           "landcolor": "#E5ECF6",
           "showlakes": true,
           "showland": true,
           "subunitcolor": "white"
          },
          "hoverlabel": {
           "align": "left"
          },
          "hovermode": "closest",
          "mapbox": {
           "style": "light"
          },
          "paper_bgcolor": "white",
          "plot_bgcolor": "#E5ECF6",
          "polar": {
           "angularaxis": {
            "gridcolor": "white",
            "linecolor": "white",
            "ticks": ""
           },
           "bgcolor": "#E5ECF6",
           "radialaxis": {
            "gridcolor": "white",
            "linecolor": "white",
            "ticks": ""
           }
          },
          "scene": {
           "xaxis": {
            "backgroundcolor": "#E5ECF6",
            "gridcolor": "white",
            "gridwidth": 2,
            "linecolor": "white",
            "showbackground": true,
            "ticks": "",
            "zerolinecolor": "white"
           },
           "yaxis": {
            "backgroundcolor": "#E5ECF6",
            "gridcolor": "white",
            "gridwidth": 2,
            "linecolor": "white",
            "showbackground": true,
            "ticks": "",
            "zerolinecolor": "white"
           },
           "zaxis": {
            "backgroundcolor": "#E5ECF6",
            "gridcolor": "white",
            "gridwidth": 2,
            "linecolor": "white",
            "showbackground": true,
            "ticks": "",
            "zerolinecolor": "white"
           }
          },
          "shapedefaults": {
           "line": {
            "color": "#2a3f5f"
           }
          },
          "ternary": {
           "aaxis": {
            "gridcolor": "white",
            "linecolor": "white",
            "ticks": ""
           },
           "baxis": {
            "gridcolor": "white",
            "linecolor": "white",
            "ticks": ""
           },
           "bgcolor": "#E5ECF6",
           "caxis": {
            "gridcolor": "white",
            "linecolor": "white",
            "ticks": ""
           }
          },
          "title": {
           "x": 0.05
          },
          "xaxis": {
           "automargin": true,
           "gridcolor": "white",
           "linecolor": "white",
           "ticks": "",
           "title": {
            "standoff": 15
           },
           "zerolinecolor": "white",
           "zerolinewidth": 2
          },
          "yaxis": {
           "automargin": true,
           "gridcolor": "white",
           "linecolor": "white",
           "ticks": "",
           "title": {
            "standoff": 15
           },
           "zerolinecolor": "white",
           "zerolinewidth": 2
          }
         }
        },
        "title": {
         "text": "Ratings for AAPL"
        },
        "width": 600
       }
      }
     },
     "metadata": {},
     "output_type": "display_data"
    }
   ],
   "source": [
    "\n",
    "import plotly.express as px\n",
    "from yfinance_utils import file_utils\n",
    "\n",
    "grades = file_utils.get_analysts(STOCK)\n",
    "values = grades.values()\n",
    "keys = grades.keys()\n",
    "ratigs1 = dict(zip(keys, values))\n",
    "\n",
    "fig3 = px.pie(values=values, names=keys, title=f'Ratings for {STOCK}', width=600, height=400)\n",
    "fig3.update_layout()\n",
    "\n",
    "fig3.show()"
   ]
  },
  {
   "cell_type": "code",
   "execution_count": 6,
   "metadata": {},
   "outputs": [
    {
     "data": {
      "application/vnd.plotly.v1+json": {
       "config": {
        "plotlyServerURL": "https://plot.ly"
       },
       "data": [
        {
         "close": {
          "bdata": "AAAAAABgbUBmZmZmZq5sQClcj8L1yGxACtejcD0abEC4HoXrUWBsQKRwPQrXC2xAAAAAAAAAbED2KFyPwl1rQGZmZmZmVmtAH4XrUbgea0CuR+F6FGZrQK5H4XoUrmtApHA9CtcLbEDNzMzMzGRrQHsUrkfh4mhAmpmZmZmpaUDNzMzMzNxpQOxRuB6Fo2pAMzMzMzODakAK16NwPQJrQLgehetRYGtACtejcD2Sa0AzMzMzMxNsQD0K16Nw/WtA16NwPQo3bEBxPQrXozhsQHE9CtejUGxA4XoUrkd5bECF61G4HjVsQLgehetRWGxAAAAAAABAbEA9CtejcH1sQDMzMzMzw2xArkfhehTGbECamZmZmZFsQIXrUbgetWtAXI/C9Si0a0BmZmZmZv5rQArXo3A9mmtAPQrXo3Bda0AfhetRuK5rQAAAAAAA0GtAw/UoXI/ya0DhehSuRxFrQAAAAAAA+GpAmpmZmZkxa0BI4XoUrh9sQNejcD0Kv2xAexSuR+FqbEDNzMzMzJRsQPYoXI/CHWxAmpmZmZlpbEAfhetRuI5sQOF6FK5HwWxAcT0K16OwbEAUrkfhejxsQBSuR+F6JGxAzczMzMx8bEAAAAAAABBsQJqZmZmZCWxAj8L1KFwnbEApXI/C9XhsQJqZmZmZqWxAZmZmZmaWbEDsUbgehTNtQDMzMzMz82xA9ihcj8ItbUD2KFyPwoVtQGZmZmZmTm1AFK5H4Xo8bUDD9Shcj0JtQI/C9Shcv2xASOF6FK63bEAK16NwPSptQDMzMzMzI21A7FG4HoUTbUB7FK5H4apsQNejcD0Kn2tASOF6FK6fa0CamZmZmblrQOxRuB6F02tAXI/C9SgUbEA9CtejcGVsQAAAAAAAIGxAmpmZmZkRbEC4HoXrUQBsQHE9CtejIGxAzczMzMxMbEAAAAAAAChsQI/C9ShcX2xAUrgeheuBbEBcj8L1KJxsQFK4HoXrgWxAH4XrUbjubEDD9ShcjyptQNejcD0KT21AUrgehetZbUBxPQrXo6htQFK4HoXr+W1ApHA9CtdbbkBI4XoUrn9uQIXrUbgeXW5Aw/UoXI86bkAUrkfhetxuQB+F61G4/m5AFK5H4XrcbkAK16NwPfpuQEjhehSu/25Aw/UoXI9Cb0CF61G4HoVvQAAAAAAA8G5A4XoUrkcBb0BxPQrXo9hvQEjhehSu729A16NwPQojcEDhehSuRx1wQI/C9Shch29ArkfhehSOb0D2KFyPwh1vQOxRuB6Fa25AUrgeheuJbkCPwvUoXF9uQD0K16NwPW5AuB6F61EAbkApXI/C9TBtQAAAAAAAWG1AFK5H4XpUbUAzMzMzM6ttQKRwPQrXA21AAAAAAAAAbEDhehSuR3lrQEjhehSuF2xAKVyPwvUYbEBxPQrXowBsQDMzMzMz22xApHA9CtdDbUA9CtejcNVtQK5H4XoU5m5ASOF6FK6/bEAAAAAAAGhsQClcj8L1kGxA4XoUrkfpbEAzMzMzMxNtQArXo3A9smxAZmZmZmaGbEBmZmZmZuZsQIXrUbgenW1AAAAAAAAobkDNzMzMzIRuQIXrUbgelW5ArkfhehSebkBmZmZmZr5uQPYoXI/CnW5AAAAAAAAAb0DD9Shcj4puQIXrUbge7W1AZmZmZmaebUDhehSuRzluQB+F61G4tm1APQrXo3BtbUCuR+F6FE5tQOxRuB6FY21A4XoUrkdxbUBSuB6F6/lrQBSuR+F6hGtAZmZmZmb+akAAAAAAAGhqQFK4HoXrqWpAhetRuB7FakDXo3A9CsdqQEjhehSuv2pAUrgehetxakAAAAAAAKBrQHE9CtejmGtAuB6F61Hwa0AUrkfheqxrQD0K16NwtWtAuB6F61Ega0BSuB6F63lrQArXo3A9qmtA4XoUrkexaUAUrkfhejxoQGZmZmZmJmZAZmZmZmZWZ0BmZmZmZn5lQArXo3A9omdAMzMzMzNDZ0CuR+F6FG5qQOxRuB6FO2lA7FG4HoXLaEBmZmZmZqZoQHE9CtejKGhApHA9CteDaEAAAAAAAMBpQBSuR+F6nGlApHA9CtfLaUAAAAAAAEBqQK5H4XoUFmpAmpmZmZkpakDD9ShcjyJqQHsUrkfhwmlAMzMzMzNjaUAfhetRuMZoQD0K16Nw5WhA16NwPQq3aEAAAAAAAOBoQNejcD0KX2pA9ihcj8JNakD2KFyPwo1qQGZmZmZmXmpA7FG4HoWLakCF61G4Hv1pQD0K16Nw9WlAPQrXo3ClaUAfhetRuBZpQD0K16NwNWhAmpmZmZnJaEB7FK5H4RJpQMP1KFyPcmlApHA9CtfraEApXI/C9QhpQDMzMzMzK2lAhetRuB5daUAAAAAAAHBpQAAAAAAAYGlAFK5H4XqMaUAzMzMzMxNpQAAAAAAAcGlAw/UoXI/iaECPwvUoXPdoQJqZmZmZqWhAZmZmZmamaECuR+F6FH5oQEjhehSux2hAXI/C9Sg0aUB7FK5H4VJpQGZmZmZmLmlA9ihcj8ItaUAUrkfhejxpQLgehetRQGlAPQrXo3DVaUCF61G4Hh1qQM3MzMzMhGpA9ihcj8KVakAzMzMzM0NqQClcj8L1MGpAuB6F61FQakAK16NwPVJqQPYoXI/CPWpA16NwPQonakCamZmZmUlqQArXo3A9UmpApHA9CtdbakAzMzMzM4NqQBSuR+F6pGpAAAAAAADgakDNzMzMzLxqQGZmZmZm1mpAKVyPwvXAakD2KFyPwsVqQM3MzMzMfGpASOF6FK4PakCkcD0K11tqQLgehetRkGlAzczMzMxsaUBcj8L1KLRpQFyPwvUoXGtAw/UoXI+aa0A9CtejcH1sQLgehetRgGxACtejcD3ibEBSuB6F60FtQAAAAAAAQG1AZmZmZmb2bEApXI/C9ehsQI/C9Shcv2xAcT0K16NIbEA9CtejcEVsQI/C9ShcT2xApHA9CtdbbEDsUbgehZNsQArXo3A92mxAuB6F61EQbUAAAAAAAKhsQB+F61G4pm1AZmZmZmbObUAAAAAAAABuQJqZmZmZ6W1AAAAAAACgbUA=",
          "dtype": "f8"
         },
         "high": {
          "bdata": "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",
          "dtype": "f8"
         },
         "low": {
          "bdata": "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",
          "dtype": "f8"
         },
         "name": "AAPL",
         "open": {
          "bdata": "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",
          "dtype": "f8"
         },
         "type": "candlestick",
         "x": [
          "2024-07-16",
          "2024-07-17",
          "2024-07-18",
          "2024-07-19",
          "2024-07-22",
          "2024-07-23",
          "2024-07-24",
          "2024-07-25",
          "2024-07-26",
          "2024-07-29",
          "2024-07-30",
          "2024-07-31",
          "2024-08-01",
          "2024-08-02",
          "2024-08-05",
          "2024-08-06",
          "2024-08-07",
          "2024-08-08",
          "2024-08-09",
          "2024-08-12",
          "2024-08-13",
          "2024-08-14",
          "2024-08-15",
          "2024-08-16",
          "2024-08-19",
          "2024-08-20",
          "2024-08-21",
          "2024-08-22",
          "2024-08-23",
          "2024-08-26",
          "2024-08-27",
          "2024-08-28",
          "2024-08-29",
          "2024-08-30",
          "2024-09-03",
          "2024-09-04",
          "2024-09-05",
          "2024-09-06",
          "2024-09-09",
          "2024-09-10",
          "2024-09-11",
          "2024-09-12",
          "2024-09-13",
          "2024-09-16",
          "2024-09-17",
          "2024-09-18",
          "2024-09-19",
          "2024-09-20",
          "2024-09-23",
          "2024-09-24",
          "2024-09-25",
          "2024-09-26",
          "2024-09-27",
          "2024-09-30",
          "2024-10-01",
          "2024-10-02",
          "2024-10-03",
          "2024-10-04",
          "2024-10-07",
          "2024-10-08",
          "2024-10-09",
          "2024-10-10",
          "2024-10-11",
          "2024-10-14",
          "2024-10-15",
          "2024-10-16",
          "2024-10-17",
          "2024-10-18",
          "2024-10-21",
          "2024-10-22",
          "2024-10-23",
          "2024-10-24",
          "2024-10-25",
          "2024-10-28",
          "2024-10-29",
          "2024-10-30",
          "2024-10-31",
          "2024-11-01",
          "2024-11-04",
          "2024-11-05",
          "2024-11-06",
          "2024-11-07",
          "2024-11-08",
          "2024-11-11",
          "2024-11-12",
          "2024-11-13",
          "2024-11-14",
          "2024-11-15",
          "2024-11-18",
          "2024-11-19",
          "2024-11-20",
          "2024-11-21",
          "2024-11-22",
          "2024-11-25",
          "2024-11-26",
          "2024-11-27",
          "2024-11-29",
          "2024-12-02",
          "2024-12-03",
          "2024-12-04",
          "2024-12-05",
          "2024-12-06",
          "2024-12-09",
          "2024-12-10",
          "2024-12-11",
          "2024-12-12",
          "2024-12-13",
          "2024-12-16",
          "2024-12-17",
          "2024-12-18",
          "2024-12-19",
          "2024-12-20",
          "2024-12-23",
          "2024-12-24",
          "2024-12-26",
          "2024-12-27",
          "2024-12-30",
          "2024-12-31",
          "2025-01-02",
          "2025-01-03",
          "2025-01-06",
          "2025-01-07",
          "2025-01-08",
          "2025-01-10",
          "2025-01-13",
          "2025-01-14",
          "2025-01-15",
          "2025-01-16",
          "2025-01-17",
          "2025-01-21",
          "2025-01-22",
          "2025-01-23",
          "2025-01-24",
          "2025-01-27",
          "2025-01-28",
          "2025-01-29",
          "2025-01-30",
          "2025-01-31",
          "2025-02-03",
          "2025-02-04",
          "2025-02-05",
          "2025-02-06",
          "2025-02-07",
          "2025-02-10",
          "2025-02-11",
          "2025-02-12",
          "2025-02-13",
          "2025-02-14",
          "2025-02-18",
          "2025-02-19",
          "2025-02-20",
          "2025-02-21",
          "2025-02-24",
          "2025-02-25",
          "2025-02-26",
          "2025-02-27",
          "2025-02-28",
          "2025-03-03",
          "2025-03-04",
          "2025-03-05",
          "2025-03-06",
          "2025-03-07",
          "2025-03-10",
          "2025-03-11",
          "2025-03-12",
          "2025-03-13",
          "2025-03-14",
          "2025-03-17",
          "2025-03-18",
          "2025-03-19",
          "2025-03-20",
          "2025-03-21",
          "2025-03-24",
          "2025-03-25",
          "2025-03-26",
          "2025-03-27",
          "2025-03-28",
          "2025-03-31",
          "2025-04-01",
          "2025-04-02",
          "2025-04-03",
          "2025-04-04",
          "2025-04-07",
          "2025-04-08",
          "2025-04-09",
          "2025-04-10",
          "2025-04-11",
          "2025-04-14",
          "2025-04-15",
          "2025-04-16",
          "2025-04-17",
          "2025-04-21",
          "2025-04-22",
          "2025-04-23",
          "2025-04-24",
          "2025-04-25",
          "2025-04-28",
          "2025-04-29",
          "2025-04-30",
          "2025-05-01",
          "2025-05-02",
          "2025-05-05",
          "2025-05-06",
          "2025-05-07",
          "2025-05-08",
          "2025-05-09",
          "2025-05-12",
          "2025-05-13",
          "2025-05-14",
          "2025-05-15",
          "2025-05-16",
          "2025-05-19",
          "2025-05-20",
          "2025-05-21",
          "2025-05-22",
          "2025-05-23",
          "2025-05-27",
          "2025-05-28",
          "2025-05-29",
          "2025-05-30",
          "2025-06-02",
          "2025-06-03",
          "2025-06-04",
          "2025-06-05",
          "2025-06-06",
          "2025-06-09",
          "2025-06-10",
          "2025-06-11",
          "2025-06-12",
          "2025-06-13",
          "2025-06-16",
          "2025-06-17",
          "2025-06-18",
          "2025-06-20",
          "2025-06-23",
          "2025-06-24",
          "2025-06-25",
          "2025-06-26",
          "2025-06-27",
          "2025-06-30",
          "2025-07-01",
          "2025-07-02",
          "2025-07-03",
          "2025-07-07",
          "2025-07-08",
          "2025-07-09",
          "2025-07-10",
          "2025-07-11",
          "2025-07-14",
          "2025-07-15",
          "2025-07-16",
          "2025-07-17",
          "2025-07-18",
          "2025-07-21",
          "2025-07-22",
          "2025-07-23",
          "2025-07-24",
          "2025-07-25",
          "2025-07-28",
          "2025-07-29",
          "2025-07-30",
          "2025-07-31",
          "2025-08-01",
          "2025-08-04",
          "2025-08-05",
          "2025-08-06",
          "2025-08-07",
          "2025-08-08",
          "2025-08-11",
          "2025-08-12",
          "2025-08-13",
          "2025-08-14",
          "2025-08-15",
          "2025-08-18",
          "2025-08-19",
          "2025-08-20",
          "2025-08-21",
          "2025-08-22",
          "2025-08-25",
          "2025-08-26",
          "2025-08-27",
          "2025-08-28",
          "2025-08-29",
          "2025-09-02",
          "2025-09-03",
          "2025-09-04",
          "2025-09-05",
          "2025-09-08",
          "2025-09-09"
         ]
        },
        {
         "line": {
          "color": "blue",
          "shape": "spline",
          "width": 2
         },
         "name": "EMA 10",
         "type": "scatter",
         "x": [
          "2024-07-16",
          "2024-07-17",
          "2024-07-18",
          "2024-07-19",
          "2024-07-22",
          "2024-07-23",
          "2024-07-24",
          "2024-07-25",
          "2024-07-26",
          "2024-07-29",
          "2024-07-30",
          "2024-07-31",
          "2024-08-01",
          "2024-08-02",
          "2024-08-05",
          "2024-08-06",
          "2024-08-07",
          "2024-08-08",
          "2024-08-09",
          "2024-08-12",
          "2024-08-13",
          "2024-08-14",
          "2024-08-15",
          "2024-08-16",
          "2024-08-19",
          "2024-08-20",
          "2024-08-21",
          "2024-08-22",
          "2024-08-23",
          "2024-08-26",
          "2024-08-27",
          "2024-08-28",
          "2024-08-29",
          "2024-08-30",
          "2024-09-03",
          "2024-09-04",
          "2024-09-05",
          "2024-09-06",
          "2024-09-09",
          "2024-09-10",
          "2024-09-11",
          "2024-09-12",
          "2024-09-13",
          "2024-09-16",
          "2024-09-17",
          "2024-09-18",
          "2024-09-19",
          "2024-09-20",
          "2024-09-23",
          "2024-09-24",
          "2024-09-25",
          "2024-09-26",
          "2024-09-27",
          "2024-09-30",
          "2024-10-01",
          "2024-10-02",
          "2024-10-03",
          "2024-10-04",
          "2024-10-07",
          "2024-10-08",
          "2024-10-09",
          "2024-10-10",
          "2024-10-11",
          "2024-10-14",
          "2024-10-15",
          "2024-10-16",
          "2024-10-17",
          "2024-10-18",
          "2024-10-21",
          "2024-10-22",
          "2024-10-23",
          "2024-10-24",
          "2024-10-25",
          "2024-10-28",
          "2024-10-29",
          "2024-10-30",
          "2024-10-31",
          "2024-11-01",
          "2024-11-04",
          "2024-11-05",
          "2024-11-06",
          "2024-11-07",
          "2024-11-08",
          "2024-11-11",
          "2024-11-12",
          "2024-11-13",
          "2024-11-14",
          "2024-11-15",
          "2024-11-18",
          "2024-11-19",
          "2024-11-20",
          "2024-11-21",
          "2024-11-22",
          "2024-11-25",
          "2024-11-26",
          "2024-11-27",
          "2024-11-29",
          "2024-12-02",
          "2024-12-03",
          "2024-12-04",
          "2024-12-05",
          "2024-12-06",
          "2024-12-09",
          "2024-12-10",
          "2024-12-11",
          "2024-12-12",
          "2024-12-13",
          "2024-12-16",
          "2024-12-17",
          "2024-12-18",
          "2024-12-19",
          "2024-12-20",
          "2024-12-23",
          "2024-12-24",
          "2024-12-26",
          "2024-12-27",
          "2024-12-30",
          "2024-12-31",
          "2025-01-02",
          "2025-01-03",
          "2025-01-06",
          "2025-01-07",
          "2025-01-08",
          "2025-01-10",
          "2025-01-13",
          "2025-01-14",
          "2025-01-15",
          "2025-01-16",
          "2025-01-17",
          "2025-01-21",
          "2025-01-22",
          "2025-01-23",
          "2025-01-24",
          "2025-01-27",
          "2025-01-28",
          "2025-01-29",
          "2025-01-30",
          "2025-01-31",
          "2025-02-03",
          "2025-02-04",
          "2025-02-05",
          "2025-02-06",
          "2025-02-07",
          "2025-02-10",
          "2025-02-11",
          "2025-02-12",
          "2025-02-13",
          "2025-02-14",
          "2025-02-18",
          "2025-02-19",
          "2025-02-20",
          "2025-02-21",
          "2025-02-24",
          "2025-02-25",
          "2025-02-26",
          "2025-02-27",
          "2025-02-28",
          "2025-03-03",
          "2025-03-04",
          "2025-03-05",
          "2025-03-06",
          "2025-03-07",
          "2025-03-10",
          "2025-03-11",
          "2025-03-12",
          "2025-03-13",
          "2025-03-14",
          "2025-03-17",
          "2025-03-18",
          "2025-03-19",
          "2025-03-20",
          "2025-03-21",
          "2025-03-24",
          "2025-03-25",
          "2025-03-26",
          "2025-03-27",
          "2025-03-28",
          "2025-03-31",
          "2025-04-01",
          "2025-04-02",
          "2025-04-03",
          "2025-04-04",
          "2025-04-07",
          "2025-04-08",
          "2025-04-09",
          "2025-04-10",
          "2025-04-11",
          "2025-04-14",
          "2025-04-15",
          "2025-04-16",
          "2025-04-17",
          "2025-04-21",
          "2025-04-22",
          "2025-04-23",
          "2025-04-24",
          "2025-04-25",
          "2025-04-28",
          "2025-04-29",
          "2025-04-30",
          "2025-05-01",
          "2025-05-02",
          "2025-05-05",
          "2025-05-06",
          "2025-05-07",
          "2025-05-08",
          "2025-05-09",
          "2025-05-12",
          "2025-05-13",
          "2025-05-14",
          "2025-05-15",
          "2025-05-16",
          "2025-05-19",
          "2025-05-20",
          "2025-05-21",
          "2025-05-22",
          "2025-05-23",
          "2025-05-27",
          "2025-05-28",
          "2025-05-29",
          "2025-05-30",
          "2025-06-02",
          "2025-06-03",
          "2025-06-04",
          "2025-06-05",
          "2025-06-06",
          "2025-06-09",
          "2025-06-10",
          "2025-06-11",
          "2025-06-12",
          "2025-06-13",
          "2025-06-16",
          "2025-06-17",
          "2025-06-18",
          "2025-06-20",
          "2025-06-23",
          "2025-06-24",
          "2025-06-25",
          "2025-06-26",
          "2025-06-27",
          "2025-06-30",
          "2025-07-01",
          "2025-07-02",
          "2025-07-03",
          "2025-07-07",
          "2025-07-08",
          "2025-07-09",
          "2025-07-10",
          "2025-07-11",
          "2025-07-14",
          "2025-07-15",
          "2025-07-16",
          "2025-07-17",
          "2025-07-18",
          "2025-07-21",
          "2025-07-22",
          "2025-07-23",
          "2025-07-24",
          "2025-07-25",
          "2025-07-28",
          "2025-07-29",
          "2025-07-30",
          "2025-07-31",
          "2025-08-01",
          "2025-08-04",
          "2025-08-05",
          "2025-08-06",
          "2025-08-07",
          "2025-08-08",
          "2025-08-11",
          "2025-08-12",
          "2025-08-13",
          "2025-08-14",
          "2025-08-15",
          "2025-08-18",
          "2025-08-19",
          "2025-08-20",
          "2025-08-21",
          "2025-08-22",
          "2025-08-25",
          "2025-08-26",
          "2025-08-27",
          "2025-08-28",
          "2025-08-29",
          "2025-09-02",
          "2025-09-03",
          "2025-09-04",
          "2025-09-05",
          "2025-09-08",
          "2025-09-09"
         ],
         "y": {
          "bdata": "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",
          "dtype": "f8"
         }
        },
        {
         "line": {
          "color": "purple",
          "shape": "spline",
          "width": 2
         },
         "name": "SMA 30",
         "type": "scatter",
         "x": [
          "2024-07-16",
          "2024-07-17",
          "2024-07-18",
          "2024-07-19",
          "2024-07-22",
          "2024-07-23",
          "2024-07-24",
          "2024-07-25",
          "2024-07-26",
          "2024-07-29",
          "2024-07-30",
          "2024-07-31",
          "2024-08-01",
          "2024-08-02",
          "2024-08-05",
          "2024-08-06",
          "2024-08-07",
          "2024-08-08",
          "2024-08-09",
          "2024-08-12",
          "2024-08-13",
          "2024-08-14",
          "2024-08-15",
          "2024-08-16",
          "2024-08-19",
          "2024-08-20",
          "2024-08-21",
          "2024-08-22",
          "2024-08-23",
          "2024-08-26",
          "2024-08-27",
          "2024-08-28",
          "2024-08-29",
          "2024-08-30",
          "2024-09-03",
          "2024-09-04",
          "2024-09-05",
          "2024-09-06",
          "2024-09-09",
          "2024-09-10",
          "2024-09-11",
          "2024-09-12",
          "2024-09-13",
          "2024-09-16",
          "2024-09-17",
          "2024-09-18",
          "2024-09-19",
          "2024-09-20",
          "2024-09-23",
          "2024-09-24",
          "2024-09-25",
          "2024-09-26",
          "2024-09-27",
          "2024-09-30",
          "2024-10-01",
          "2024-10-02",
          "2024-10-03",
          "2024-10-04",
          "2024-10-07",
          "2024-10-08",
          "2024-10-09",
          "2024-10-10",
          "2024-10-11",
          "2024-10-14",
          "2024-10-15",
          "2024-10-16",
          "2024-10-17",
          "2024-10-18",
          "2024-10-21",
          "2024-10-22",
          "2024-10-23",
          "2024-10-24",
          "2024-10-25",
          "2024-10-28",
          "2024-10-29",
          "2024-10-30",
          "2024-10-31",
          "2024-11-01",
          "2024-11-04",
          "2024-11-05",
          "2024-11-06",
          "2024-11-07",
          "2024-11-08",
          "2024-11-11",
          "2024-11-12",
          "2024-11-13",
          "2024-11-14",
          "2024-11-15",
          "2024-11-18",
          "2024-11-19",
          "2024-11-20",
          "2024-11-21",
          "2024-11-22",
          "2024-11-25",
          "2024-11-26",
          "2024-11-27",
          "2024-11-29",
          "2024-12-02",
          "2024-12-03",
          "2024-12-04",
          "2024-12-05",
          "2024-12-06",
          "2024-12-09",
          "2024-12-10",
          "2024-12-11",
          "2024-12-12",
          "2024-12-13",
          "2024-12-16",
          "2024-12-17",
          "2024-12-18",
          "2024-12-19",
          "2024-12-20",
          "2024-12-23",
          "2024-12-24",
          "2024-12-26",
          "2024-12-27",
          "2024-12-30",
          "2024-12-31",
          "2025-01-02",
          "2025-01-03",
          "2025-01-06",
          "2025-01-07",
          "2025-01-08",
          "2025-01-10",
          "2025-01-13",
          "2025-01-14",
          "2025-01-15",
          "2025-01-16",
          "2025-01-17",
          "2025-01-21",
          "2025-01-22",
          "2025-01-23",
          "2025-01-24",
          "2025-01-27",
          "2025-01-28",
          "2025-01-29",
          "2025-01-30",
          "2025-01-31",
          "2025-02-03",
          "2025-02-04",
          "2025-02-05",
          "2025-02-06",
          "2025-02-07",
          "2025-02-10",
          "2025-02-11",
          "2025-02-12",
          "2025-02-13",
          "2025-02-14",
          "2025-02-18",
          "2025-02-19",
          "2025-02-20",
          "2025-02-21",
          "2025-02-24",
          "2025-02-25",
          "2025-02-26",
          "2025-02-27",
          "2025-02-28",
          "2025-03-03",
          "2025-03-04",
          "2025-03-05",
          "2025-03-06",
          "2025-03-07",
          "2025-03-10",
          "2025-03-11",
          "2025-03-12",
          "2025-03-13",
          "2025-03-14",
          "2025-03-17",
          "2025-03-18",
          "2025-03-19",
          "2025-03-20",
          "2025-03-21",
          "2025-03-24",
          "2025-03-25",
          "2025-03-26",
          "2025-03-27",
          "2025-03-28",
          "2025-03-31",
          "2025-04-01",
          "2025-04-02",
          "2025-04-03",
          "2025-04-04",
          "2025-04-07",
          "2025-04-08",
          "2025-04-09",
          "2025-04-10",
          "2025-04-11",
          "2025-04-14",
          "2025-04-15",
          "2025-04-16",
          "2025-04-17",
          "2025-04-21",
          "2025-04-22",
          "2025-04-23",
          "2025-04-24",
          "2025-04-25",
          "2025-04-28",
          "2025-04-29",
          "2025-04-30",
          "2025-05-01",
          "2025-05-02",
          "2025-05-05",
          "2025-05-06",
          "2025-05-07",
          "2025-05-08",
          "2025-05-09",
          "2025-05-12",
          "2025-05-13",
          "2025-05-14",
          "2025-05-15",
          "2025-05-16",
          "2025-05-19",
          "2025-05-20",
          "2025-05-21",
          "2025-05-22",
          "2025-05-23",
          "2025-05-27",
          "2025-05-28",
          "2025-05-29",
          "2025-05-30",
          "2025-06-02",
          "2025-06-03",
          "2025-06-04",
          "2025-06-05",
          "2025-06-06",
          "2025-06-09",
          "2025-06-10",
          "2025-06-11",
          "2025-06-12",
          "2025-06-13",
          "2025-06-16",
          "2025-06-17",
          "2025-06-18",
          "2025-06-20",
          "2025-06-23",
          "2025-06-24",
          "2025-06-25",
          "2025-06-26",
          "2025-06-27",
          "2025-06-30",
          "2025-07-01",
          "2025-07-02",
          "2025-07-03",
          "2025-07-07",
          "2025-07-08",
          "2025-07-09",
          "2025-07-10",
          "2025-07-11",
          "2025-07-14",
          "2025-07-15",
          "2025-07-16",
          "2025-07-17",
          "2025-07-18",
          "2025-07-21",
          "2025-07-22",
          "2025-07-23",
          "2025-07-24",
          "2025-07-25",
          "2025-07-28",
          "2025-07-29",
          "2025-07-30",
          "2025-07-31",
          "2025-08-01",
          "2025-08-04",
          "2025-08-05",
          "2025-08-06",
          "2025-08-07",
          "2025-08-08",
          "2025-08-11",
          "2025-08-12",
          "2025-08-13",
          "2025-08-14",
          "2025-08-15",
          "2025-08-18",
          "2025-08-19",
          "2025-08-20",
          "2025-08-21",
          "2025-08-22",
          "2025-08-25",
          "2025-08-26",
          "2025-08-27",
          "2025-08-28",
          "2025-08-29",
          "2025-09-02",
          "2025-09-03",
          "2025-09-04",
          "2025-09-05",
          "2025-09-08",
          "2025-09-09"
         ],
         "y": {
          "bdata": "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",
          "dtype": "f8"
         }
        }
       ],
       "layout": {
        "height": 400,
        "template": {
         "data": {
          "bar": [
           {
            "error_x": {
             "color": "#2a3f5f"
            },
            "error_y": {
             "color": "#2a3f5f"
            },
            "marker": {
             "line": {
              "color": "#E5ECF6",
              "width": 0.5
             },
             "pattern": {
              "fillmode": "overlay",
              "size": 10,
              "solidity": 0.2
             }
            },
            "type": "bar"
           }
          ],
          "barpolar": [
           {
            "marker": {
             "line": {
              "color": "#E5ECF6",
              "width": 0.5
             },
             "pattern": {
              "fillmode": "overlay",
              "size": 10,
              "solidity": 0.2
             }
            },
            "type": "barpolar"
           }
          ],
          "carpet": [
           {
            "aaxis": {
             "endlinecolor": "#2a3f5f",
             "gridcolor": "white",
             "linecolor": "white",
             "minorgridcolor": "white",
             "startlinecolor": "#2a3f5f"
            },
            "baxis": {
             "endlinecolor": "#2a3f5f",
             "gridcolor": "white",
             "linecolor": "white",
             "minorgridcolor": "white",
             "startlinecolor": "#2a3f5f"
            },
            "type": "carpet"
           }
          ],
          "choropleth": [
           {
            "colorbar": {
             "outlinewidth": 0,
             "ticks": ""
            },
            "type": "choropleth"
           }
          ],
          "contour": [
           {
            "colorbar": {
             "outlinewidth": 0,
             "ticks": ""
            },
            "colorscale": [
             [
              0,
              "#0d0887"
             ],
             [
              0.1111111111111111,
              "#46039f"
             ],
             [
              0.2222222222222222,
              "#7201a8"
             ],
             [
              0.3333333333333333,
              "#9c179e"
             ],
             [
              0.4444444444444444,
              "#bd3786"
             ],
             [
              0.5555555555555556,
              "#d8576b"
             ],
             [
              0.6666666666666666,
              "#ed7953"
             ],
             [
              0.7777777777777778,
              "#fb9f3a"
             ],
             [
              0.8888888888888888,
              "#fdca26"
             ],
             [
              1,
              "#f0f921"
             ]
            ],
            "type": "contour"
           }
          ],
          "contourcarpet": [
           {
            "colorbar": {
             "outlinewidth": 0,
             "ticks": ""
            },
            "type": "contourcarpet"
           }
          ],
          "heatmap": [
           {
            "colorbar": {
             "outlinewidth": 0,
             "ticks": ""
            },
            "colorscale": [
             [
              0,
              "#0d0887"
             ],
             [
              0.1111111111111111,
              "#46039f"
             ],
             [
              0.2222222222222222,
              "#7201a8"
             ],
             [
              0.3333333333333333,
              "#9c179e"
             ],
             [
              0.4444444444444444,
              "#bd3786"
             ],
             [
              0.5555555555555556,
              "#d8576b"
             ],
             [
              0.6666666666666666,
              "#ed7953"
             ],
             [
              0.7777777777777778,
              "#fb9f3a"
             ],
             [
              0.8888888888888888,
              "#fdca26"
             ],
             [
              1,
              "#f0f921"
             ]
            ],
            "type": "heatmap"
           }
          ],
          "histogram": [
           {
            "marker": {
             "pattern": {
              "fillmode": "overlay",
              "size": 10,
              "solidity": 0.2
             }
            },
            "type": "histogram"
           }
          ],
          "histogram2d": [
           {
            "colorbar": {
             "outlinewidth": 0,
             "ticks": ""
            },
            "colorscale": [
             [
              0,
              "#0d0887"
             ],
             [
              0.1111111111111111,
              "#46039f"
             ],
             [
              0.2222222222222222,
              "#7201a8"
             ],
             [
              0.3333333333333333,
              "#9c179e"
             ],
             [
              0.4444444444444444,
              "#bd3786"
             ],
             [
              0.5555555555555556,
              "#d8576b"
             ],
             [
              0.6666666666666666,
              "#ed7953"
             ],
             [
              0.7777777777777778,
              "#fb9f3a"
             ],
             [
              0.8888888888888888,
              "#fdca26"
             ],
             [
              1,
              "#f0f921"
             ]
            ],
            "type": "histogram2d"
           }
          ],
          "histogram2dcontour": [
           {
            "colorbar": {
             "outlinewidth": 0,
             "ticks": ""
            },
            "colorscale": [
             [
              0,
              "#0d0887"
             ],
             [
              0.1111111111111111,
              "#46039f"
             ],
             [
              0.2222222222222222,
              "#7201a8"
             ],
             [
              0.3333333333333333,
              "#9c179e"
             ],
             [
              0.4444444444444444,
              "#bd3786"
             ],
             [
              0.5555555555555556,
              "#d8576b"
             ],
             [
              0.6666666666666666,
              "#ed7953"
             ],
             [
              0.7777777777777778,
              "#fb9f3a"
             ],
             [
              0.8888888888888888,
              "#fdca26"
             ],
             [
              1,
              "#f0f921"
             ]
            ],
            "type": "histogram2dcontour"
           }
          ],
          "mesh3d": [
           {
            "colorbar": {
             "outlinewidth": 0,
             "ticks": ""
            },
            "type": "mesh3d"
           }
          ],
          "parcoords": [
           {
            "line": {
             "colorbar": {
              "outlinewidth": 0,
              "ticks": ""
             }
            },
            "type": "parcoords"
           }
          ],
          "pie": [
           {
            "automargin": true,
            "type": "pie"
           }
          ],
          "scatter": [
           {
            "fillpattern": {
             "fillmode": "overlay",
             "size": 10,
             "solidity": 0.2
            },
            "type": "scatter"
           }
          ],
          "scatter3d": [
           {
            "line": {
             "colorbar": {
              "outlinewidth": 0,
              "ticks": ""
             }
            },
            "marker": {
             "colorbar": {
              "outlinewidth": 0,
              "ticks": ""
             }
            },
            "type": "scatter3d"
           }
          ],
          "scattercarpet": [
           {
            "marker": {
             "colorbar": {
              "outlinewidth": 0,
              "ticks": ""
             }
            },
            "type": "scattercarpet"
           }
          ],
          "scattergeo": [
           {
            "marker": {
             "colorbar": {
              "outlinewidth": 0,
              "ticks": ""
             }
            },
            "type": "scattergeo"
           }
          ],
          "scattergl": [
           {
            "marker": {
             "colorbar": {
              "outlinewidth": 0,
              "ticks": ""
             }
            },
            "type": "scattergl"
           }
          ],
          "scattermap": [
           {
            "marker": {
             "colorbar": {
              "outlinewidth": 0,
              "ticks": ""
             }
            },
            "type": "scattermap"
           }
          ],
          "scattermapbox": [
           {
            "marker": {
             "colorbar": {
              "outlinewidth": 0,
              "ticks": ""
             }
            },
            "type": "scattermapbox"
           }
          ],
          "scatterpolar": [
           {
            "marker": {
             "colorbar": {
              "outlinewidth": 0,
              "ticks": ""
             }
            },
            "type": "scatterpolar"
           }
          ],
          "scatterpolargl": [
           {
            "marker": {
             "colorbar": {
              "outlinewidth": 0,
              "ticks": ""
             }
            },
            "type": "scatterpolargl"
           }
          ],
          "scatterternary": [
           {
            "marker": {
             "colorbar": {
              "outlinewidth": 0,
              "ticks": ""
             }
            },
            "type": "scatterternary"
           }
          ],
          "surface": [
           {
            "colorbar": {
             "outlinewidth": 0,
             "ticks": ""
            },
            "colorscale": [
             [
              0,
              "#0d0887"
             ],
             [
              0.1111111111111111,
              "#46039f"
             ],
             [
              0.2222222222222222,
              "#7201a8"
             ],
             [
              0.3333333333333333,
              "#9c179e"
             ],
             [
              0.4444444444444444,
              "#bd3786"
             ],
             [
              0.5555555555555556,
              "#d8576b"
             ],
             [
              0.6666666666666666,
              "#ed7953"
             ],
             [
              0.7777777777777778,
              "#fb9f3a"
             ],
             [
              0.8888888888888888,
              "#fdca26"
             ],
             [
              1,
              "#f0f921"
             ]
            ],
            "type": "surface"
           }
          ],
          "table": [
           {
            "cells": {
             "fill": {
              "color": "#EBF0F8"
             },
             "line": {
              "color": "white"
             }
            },
            "header": {
             "fill": {
              "color": "#C8D4E3"
             },
             "line": {
              "color": "white"
             }
            },
            "type": "table"
           }
          ]
         },
         "layout": {
          "annotationdefaults": {
           "arrowcolor": "#2a3f5f",
           "arrowhead": 0,
           "arrowwidth": 1
          },
          "autotypenumbers": "strict",
          "coloraxis": {
           "colorbar": {
            "outlinewidth": 0,
            "ticks": ""
           }
          },
          "colorscale": {
           "diverging": [
            [
             0,
             "#8e0152"
            ],
            [
             0.1,
             "#c51b7d"
            ],
            [
             0.2,
             "#de77ae"
            ],
            [
             0.3,
             "#f1b6da"
            ],
            [
             0.4,
             "#fde0ef"
            ],
            [
             0.5,
             "#f7f7f7"
            ],
            [
             0.6,
             "#e6f5d0"
            ],
            [
             0.7,
             "#b8e186"
            ],
            [
             0.8,
             "#7fbc41"
            ],
            [
             0.9,
             "#4d9221"
            ],
            [
             1,
             "#276419"
            ]
           ],
           "sequential": [
            [
             0,
             "#0d0887"
            ],
            [
             0.1111111111111111,
             "#46039f"
            ],
            [
             0.2222222222222222,
             "#7201a8"
            ],
            [
             0.3333333333333333,
             "#9c179e"
            ],
            [
             0.4444444444444444,
             "#bd3786"
            ],
            [
             0.5555555555555556,
             "#d8576b"
            ],
            [
             0.6666666666666666,
             "#ed7953"
            ],
            [
             0.7777777777777778,
             "#fb9f3a"
            ],
            [
             0.8888888888888888,
             "#fdca26"
            ],
            [
             1,
             "#f0f921"
            ]
           ],
           "sequentialminus": [
            [
             0,
             "#0d0887"
            ],
            [
             0.1111111111111111,
             "#46039f"
            ],
            [
             0.2222222222222222,
             "#7201a8"
            ],
            [
             0.3333333333333333,
             "#9c179e"
            ],
            [
             0.4444444444444444,
             "#bd3786"
            ],
            [
             0.5555555555555556,
             "#d8576b"
            ],
            [
             0.6666666666666666,
             "#ed7953"
            ],
            [
             0.7777777777777778,
             "#fb9f3a"
            ],
            [
             0.8888888888888888,
             "#fdca26"
            ],
            [
             1,
             "#f0f921"
            ]
           ]
          },
          "colorway": [
           "#636efa",
           "#EF553B",
           "#00cc96",
           "#ab63fa",
           "#FFA15A",
           "#19d3f3",
           "#FF6692",
           "#B6E880",
           "#FF97FF",
           "#FECB52"
          ],
          "font": {
           "color": "#2a3f5f"
          },
          "geo": {
           "bgcolor": "white",
           "lakecolor": "white",
           "landcolor": "#E5ECF6",
           "showlakes": true,
           "showland": true,
           "subunitcolor": "white"
          },
          "hoverlabel": {
           "align": "left"
          },
          "hovermode": "closest",
          "mapbox": {
           "style": "light"
          },
          "paper_bgcolor": "white",
          "plot_bgcolor": "#E5ECF6",
          "polar": {
           "angularaxis": {
            "gridcolor": "white",
            "linecolor": "white",
            "ticks": ""
           },
           "bgcolor": "#E5ECF6",
           "radialaxis": {
            "gridcolor": "white",
            "linecolor": "white",
            "ticks": ""
           }
          },
          "scene": {
           "xaxis": {
            "backgroundcolor": "#E5ECF6",
            "gridcolor": "white",
            "gridwidth": 2,
            "linecolor": "white",
            "showbackground": true,
            "ticks": "",
            "zerolinecolor": "white"
           },
           "yaxis": {
            "backgroundcolor": "#E5ECF6",
            "gridcolor": "white",
            "gridwidth": 2,
            "linecolor": "white",
            "showbackground": true,
            "ticks": "",
            "zerolinecolor": "white"
           },
           "zaxis": {
            "backgroundcolor": "#E5ECF6",
            "gridcolor": "white",
            "gridwidth": 2,
            "linecolor": "white",
            "showbackground": true,
            "ticks": "",
            "zerolinecolor": "white"
           }
          },
          "shapedefaults": {
           "line": {
            "color": "#2a3f5f"
           }
          },
          "ternary": {
           "aaxis": {
            "gridcolor": "white",
            "linecolor": "white",
            "ticks": ""
           },
           "baxis": {
            "gridcolor": "white",
            "linecolor": "white",
            "ticks": ""
           },
           "bgcolor": "#E5ECF6",
           "caxis": {
            "gridcolor": "white",
            "linecolor": "white",
            "ticks": ""
           }
          },
          "title": {
           "x": 0.05
          },
          "xaxis": {
           "automargin": true,
           "gridcolor": "white",
           "linecolor": "white",
           "ticks": "",
           "title": {
            "standoff": 15
           },
           "zerolinecolor": "white",
           "zerolinewidth": 2
          },
          "yaxis": {
           "automargin": true,
           "gridcolor": "white",
           "linecolor": "white",
           "ticks": "",
           "title": {
            "standoff": 15
           },
           "zerolinecolor": "white",
           "zerolinewidth": 2
          }
         }
        },
        "title": {
         "text": "AAPL"
        },
        "width": 600,
        "xaxis": {
         "rangeslider": {
          "visible": false
         }
        }
       }
      }
     },
     "metadata": {},
     "output_type": "display_data"
    },
    {
     "data": {
      "application/vnd.plotly.v1+json": {
       "config": {
        "plotlyServerURL": "https://plot.ly"
       },
       "data": [
        {
         "name": "Volume",
         "type": "bar",
         "x": [
          "2024-07-16",
          "2024-07-17",
          "2024-07-18",
          "2024-07-19",
          "2024-07-22",
          "2024-07-23",
          "2024-07-24",
          "2024-07-25",
          "2024-07-26",
          "2024-07-29",
          "2024-07-30",
          "2024-07-31",
          "2024-08-01",
          "2024-08-02",
          "2024-08-05",
          "2024-08-06",
          "2024-08-07",
          "2024-08-08",
          "2024-08-09",
          "2024-08-12",
          "2024-08-13",
          "2024-08-14",
          "2024-08-15",
          "2024-08-16",
          "2024-08-19",
          "2024-08-20",
          "2024-08-21",
          "2024-08-22",
          "2024-08-23",
          "2024-08-26",
          "2024-08-27",
          "2024-08-28",
          "2024-08-29",
          "2024-08-30",
          "2024-09-03",
          "2024-09-04",
          "2024-09-05",
          "2024-09-06",
          "2024-09-09",
          "2024-09-10",
          "2024-09-11",
          "2024-09-12",
          "2024-09-13",
          "2024-09-16",
          "2024-09-17",
          "2024-09-18",
          "2024-09-19",
          "2024-09-20",
          "2024-09-23",
          "2024-09-24",
          "2024-09-25",
          "2024-09-26",
          "2024-09-27",
          "2024-09-30",
          "2024-10-01",
          "2024-10-02",
          "2024-10-03",
          "2024-10-04",
          "2024-10-07",
          "2024-10-08",
          "2024-10-09",
          "2024-10-10",
          "2024-10-11",
          "2024-10-14",
          "2024-10-15",
          "2024-10-16",
          "2024-10-17",
          "2024-10-18",
          "2024-10-21",
          "2024-10-22",
          "2024-10-23",
          "2024-10-24",
          "2024-10-25",
          "2024-10-28",
          "2024-10-29",
          "2024-10-30",
          "2024-10-31",
          "2024-11-01",
          "2024-11-04",
          "2024-11-05",
          "2024-11-06",
          "2024-11-07",
          "2024-11-08",
          "2024-11-11",
          "2024-11-12",
          "2024-11-13",
          "2024-11-14",
          "2024-11-15",
          "2024-11-18",
          "2024-11-19",
          "2024-11-20",
          "2024-11-21",
          "2024-11-22",
          "2024-11-25",
          "2024-11-26",
          "2024-11-27",
          "2024-11-29",
          "2024-12-02",
          "2024-12-03",
          "2024-12-04",
          "2024-12-05",
          "2024-12-06",
          "2024-12-09",
          "2024-12-10",
          "2024-12-11",
          "2024-12-12",
          "2024-12-13",
          "2024-12-16",
          "2024-12-17",
          "2024-12-18",
          "2024-12-19",
          "2024-12-20",
          "2024-12-23",
          "2024-12-24",
          "2024-12-26",
          "2024-12-27",
          "2024-12-30",
          "2024-12-31",
          "2025-01-02",
          "2025-01-03",
          "2025-01-06",
          "2025-01-07",
          "2025-01-08",
          "2025-01-10",
          "2025-01-13",
          "2025-01-14",
          "2025-01-15",
          "2025-01-16",
          "2025-01-17",
          "2025-01-21",
          "2025-01-22",
          "2025-01-23",
          "2025-01-24",
          "2025-01-27",
          "2025-01-28",
          "2025-01-29",
          "2025-01-30",
          "2025-01-31",
          "2025-02-03",
          "2025-02-04",
          "2025-02-05",
          "2025-02-06",
          "2025-02-07",
          "2025-02-10",
          "2025-02-11",
          "2025-02-12",
          "2025-02-13",
          "2025-02-14",
          "2025-02-18",
          "2025-02-19",
          "2025-02-20",
          "2025-02-21",
          "2025-02-24",
          "2025-02-25",
          "2025-02-26",
          "2025-02-27",
          "2025-02-28",
          "2025-03-03",
          "2025-03-04",
          "2025-03-05",
          "2025-03-06",
          "2025-03-07",
          "2025-03-10",
          "2025-03-11",
          "2025-03-12",
          "2025-03-13",
          "2025-03-14",
          "2025-03-17",
          "2025-03-18",
          "2025-03-19",
          "2025-03-20",
          "2025-03-21",
          "2025-03-24",
          "2025-03-25",
          "2025-03-26",
          "2025-03-27",
          "2025-03-28",
          "2025-03-31",
          "2025-04-01",
          "2025-04-02",
          "2025-04-03",
          "2025-04-04",
          "2025-04-07",
          "2025-04-08",
          "2025-04-09",
          "2025-04-10",
          "2025-04-11",
          "2025-04-14",
          "2025-04-15",
          "2025-04-16",
          "2025-04-17",
          "2025-04-21",
          "2025-04-22",
          "2025-04-23",
          "2025-04-24",
          "2025-04-25",
          "2025-04-28",
          "2025-04-29",
          "2025-04-30",
          "2025-05-01",
          "2025-05-02",
          "2025-05-05",
          "2025-05-06",
          "2025-05-07",
          "2025-05-08",
          "2025-05-09",
          "2025-05-12",
          "2025-05-13",
          "2025-05-14",
          "2025-05-15",
          "2025-05-16",
          "2025-05-19",
          "2025-05-20",
          "2025-05-21",
          "2025-05-22",
          "2025-05-23",
          "2025-05-27",
          "2025-05-28",
          "2025-05-29",
          "2025-05-30",
          "2025-06-02",
          "2025-06-03",
          "2025-06-04",
          "2025-06-05",
          "2025-06-06",
          "2025-06-09",
          "2025-06-10",
          "2025-06-11",
          "2025-06-12",
          "2025-06-13",
          "2025-06-16",
          "2025-06-17",
          "2025-06-18",
          "2025-06-20",
          "2025-06-23",
          "2025-06-24",
          "2025-06-25",
          "2025-06-26",
          "2025-06-27",
          "2025-06-30",
          "2025-07-01",
          "2025-07-02",
          "2025-07-03",
          "2025-07-07",
          "2025-07-08",
          "2025-07-09",
          "2025-07-10",
          "2025-07-11",
          "2025-07-14",
          "2025-07-15",
          "2025-07-16",
          "2025-07-17",
          "2025-07-18",
          "2025-07-21",
          "2025-07-22",
          "2025-07-23",
          "2025-07-24",
          "2025-07-25",
          "2025-07-28",
          "2025-07-29",
          "2025-07-30",
          "2025-07-31",
          "2025-08-01",
          "2025-08-04",
          "2025-08-05",
          "2025-08-06",
          "2025-08-07",
          "2025-08-08",
          "2025-08-11",
          "2025-08-12",
          "2025-08-13",
          "2025-08-14",
          "2025-08-15",
          "2025-08-18",
          "2025-08-19",
          "2025-08-20",
          "2025-08-21",
          "2025-08-22",
          "2025-08-25",
          "2025-08-26",
          "2025-08-27",
          "2025-08-28",
          "2025-08-29",
          "2025-09-02",
          "2025-09-03",
          "2025-09-04",
          "2025-09-05",
          "2025-09-08",
          "2025-09-09"
         ],
         "y": {
          "bdata": "/LOTAmwHawOom+8DDP7tAkiA3wLsvmECwKauA+AqEAMUyXoC+BIqAhhvewJMfvsCiLC5A1jZSga4KiAHVO8mBPAuyQMMn88CAPKDAkRDRAKkwaECmESAArA4xALok6QCuNhsAnhTzgG8ehICxLyaAjQrTgLY89IBiFEkAmihRAL8BhgDUJMoAwjZ/QLI8pwC6LQuAljg4gLgFQEEWDcTA1xYqALwhjsCiAMxAti4iQPEkbYCdOyRA3QA+wNcq/4S0DM6AwSdmAJclIUCHAgvAhAyBwJMPkADCKfFA9i39QEoeQcCrFA4AvjNWgJUFOYBPI8AAswLrgFgm+QBdI1gAigH3AOYDQgCCHL3AQx9xAIkMykCiMBQAhjWHQN8sdoBfBNQAjylJgJwbBwCtD7OArQ11gMcC+QDdMytAsTxrAFMiUADZPiCAuDZSAJg9IAC3G1oArgP5QL8e60C9EHbAmQOqQJYjCgCQKUYAoyFggLsZkYCYJ9fBZixvQIgJf8BeJeyAYyD3gLI+FACnD6lAmzeYgLImTIC8EqpAnBGMwIoybECHCX0AeTo+QHQzBQD8KIPA9RNYgN8/aADhJnKCLB0bwKMiGIB7JqfAWRKhgJ8kB4CfG1aAhyJUgOEE2YCYFevAsBpbwLkKz4CNKKtA+xN9QIkvFkCwMlfAvz0RgRsDBUEgG/YBSR+0gMwHJcDrJ9CAyiApwXQNIMEFBC2AjxHUQM4hgQGhNtaBCSsrwLMjlwCtJ/IAUDiXQLQTfkBgK0zA6RbsgIUFjIDyAZwAuT46AKoZesB5B3tAVi6KwPALQ8D9J/cAsAApgJA9HMCeDVjA4D4zwLU5DQD0KLQAuA+sQJAFMICILhLBLjDiQQsZroD7GeoA1ArlQO4it0CkHeHAvjaPQO0lukCuEacBez0owKgVA4CNOkNApAFNgJolV8CZGPkAxydKwJs4SMCeAwqBnQ/gQd8hZAJbCs0B3yo/QrAvUMHfCo2BcSFCgYccg8DsHGPA1z4GwPkO8kCEFsoA7CiJwOY6NEC3DlHAjwsTwLQ8TECJNQdA8RUawOoTAUGhCMdBHSADQN8yRUEND8CAww+LAI4JM0DtBIYA+im8AJ8GK8C7DtDA1QMwAJYcogCGICHA4A7yQKEyqwE9ORaAzTUswLAQBADPKA4BESEHAIgusMCIFiZAlQoSQNULccCiMtXBNg8QgPMoaIDWO6dAgQGEQOccZACCOZQAgyrtAK8QcUFnKhTA4DzOANEHVsC/CEHA/jEXARgenoFJDmyBKi1DAQYYhUCCG/+AoTSjQJY2+cC0CemAijHXgIkp1AC7GOFAsSl1AIEdt0CCEvrAvj0DwMEEsQC9P/MAsg/vgIAdGYC0KpBAvR6EAM0d7YCIFzPBESLOQa0E3oE3MChAhxSdwaguGAFMEbJBhQWrwPYyVAD5EIqBAwuGAMsFVcDaNc7Amg8WQJc5YQCED7TAegoiAK8w9gB/L9AA2z73AFM+UQCIHpZAlCKoAKYm/UD2IvVAoBBRQNMrOsC7AY2Aw==",
          "dtype": "i4"
         }
        },
        {
         "name": "Average",
         "type": "scatter",
         "x": [
          "2024-07-16",
          "2024-07-17",
          "2024-07-18",
          "2024-07-19",
          "2024-07-22",
          "2024-07-23",
          "2024-07-24",
          "2024-07-25",
          "2024-07-26",
          "2024-07-29",
          "2024-07-30",
          "2024-07-31",
          "2024-08-01",
          "2024-08-02",
          "2024-08-05",
          "2024-08-06",
          "2024-08-07",
          "2024-08-08",
          "2024-08-09",
          "2024-08-12",
          "2024-08-13",
          "2024-08-14",
          "2024-08-15",
          "2024-08-16",
          "2024-08-19",
          "2024-08-20",
          "2024-08-21",
          "2024-08-22",
          "2024-08-23",
          "2024-08-26",
          "2024-08-27",
          "2024-08-28",
          "2024-08-29",
          "2024-08-30",
          "2024-09-03",
          "2024-09-04",
          "2024-09-05",
          "2024-09-06",
          "2024-09-09",
          "2024-09-10",
          "2024-09-11",
          "2024-09-12",
          "2024-09-13",
          "2024-09-16",
          "2024-09-17",
          "2024-09-18",
          "2024-09-19",
          "2024-09-20",
          "2024-09-23",
          "2024-09-24",
          "2024-09-25",
          "2024-09-26",
          "2024-09-27",
          "2024-09-30",
          "2024-10-01",
          "2024-10-02",
          "2024-10-03",
          "2024-10-04",
          "2024-10-07",
          "2024-10-08",
          "2024-10-09",
          "2024-10-10",
          "2024-10-11",
          "2024-10-14",
          "2024-10-15",
          "2024-10-16",
          "2024-10-17",
          "2024-10-18",
          "2024-10-21",
          "2024-10-22",
          "2024-10-23",
          "2024-10-24",
          "2024-10-25",
          "2024-10-28",
          "2024-10-29",
          "2024-10-30",
          "2024-10-31",
          "2024-11-01",
          "2024-11-04",
          "2024-11-05",
          "2024-11-06",
          "2024-11-07",
          "2024-11-08",
          "2024-11-11",
          "2024-11-12",
          "2024-11-13",
          "2024-11-14",
          "2024-11-15",
          "2024-11-18",
          "2024-11-19",
          "2024-11-20",
          "2024-11-21",
          "2024-11-22",
          "2024-11-25",
          "2024-11-26",
          "2024-11-27",
          "2024-11-29",
          "2024-12-02",
          "2024-12-03",
          "2024-12-04",
          "2024-12-05",
          "2024-12-06",
          "2024-12-09",
          "2024-12-10",
          "2024-12-11",
          "2024-12-12",
          "2024-12-13",
          "2024-12-16",
          "2024-12-17",
          "2024-12-18",
          "2024-12-19",
          "2024-12-20",
          "2024-12-23",
          "2024-12-24",
          "2024-12-26",
          "2024-12-27",
          "2024-12-30",
          "2024-12-31",
          "2025-01-02",
          "2025-01-03",
          "2025-01-06",
          "2025-01-07",
          "2025-01-08",
          "2025-01-10",
          "2025-01-13",
          "2025-01-14",
          "2025-01-15",
          "2025-01-16",
          "2025-01-17",
          "2025-01-21",
          "2025-01-22",
          "2025-01-23",
          "2025-01-24",
          "2025-01-27",
          "2025-01-28",
          "2025-01-29",
          "2025-01-30",
          "2025-01-31",
          "2025-02-03",
          "2025-02-04",
          "2025-02-05",
          "2025-02-06",
          "2025-02-07",
          "2025-02-10",
          "2025-02-11",
          "2025-02-12",
          "2025-02-13",
          "2025-02-14",
          "2025-02-18",
          "2025-02-19",
          "2025-02-20",
          "2025-02-21",
          "2025-02-24",
          "2025-02-25",
          "2025-02-26",
          "2025-02-27",
          "2025-02-28",
          "2025-03-03",
          "2025-03-04",
          "2025-03-05",
          "2025-03-06",
          "2025-03-07",
          "2025-03-10",
          "2025-03-11",
          "2025-03-12",
          "2025-03-13",
          "2025-03-14",
          "2025-03-17",
          "2025-03-18",
          "2025-03-19",
          "2025-03-20",
          "2025-03-21",
          "2025-03-24",
          "2025-03-25",
          "2025-03-26",
          "2025-03-27",
          "2025-03-28",
          "2025-03-31",
          "2025-04-01",
          "2025-04-02",
          "2025-04-03",
          "2025-04-04",
          "2025-04-07",
          "2025-04-08",
          "2025-04-09",
          "2025-04-10",
          "2025-04-11",
          "2025-04-14",
          "2025-04-15",
          "2025-04-16",
          "2025-04-17",
          "2025-04-21",
          "2025-04-22",
          "2025-04-23",
          "2025-04-24",
          "2025-04-25",
          "2025-04-28",
          "2025-04-29",
          "2025-04-30",
          "2025-05-01",
          "2025-05-02",
          "2025-05-05",
          "2025-05-06",
          "2025-05-07",
          "2025-05-08",
          "2025-05-09",
          "2025-05-12",
          "2025-05-13",
          "2025-05-14",
          "2025-05-15",
          "2025-05-16",
          "2025-05-19",
          "2025-05-20",
          "2025-05-21",
          "2025-05-22",
          "2025-05-23",
          "2025-05-27",
          "2025-05-28",
          "2025-05-29",
          "2025-05-30",
          "2025-06-02",
          "2025-06-03",
          "2025-06-04",
          "2025-06-05",
          "2025-06-06",
          "2025-06-09",
          "2025-06-10",
          "2025-06-11",
          "2025-06-12",
          "2025-06-13",
          "2025-06-16",
          "2025-06-17",
          "2025-06-18",
          "2025-06-20",
          "2025-06-23",
          "2025-06-24",
          "2025-06-25",
          "2025-06-26",
          "2025-06-27",
          "2025-06-30",
          "2025-07-01",
          "2025-07-02",
          "2025-07-03",
          "2025-07-07",
          "2025-07-08",
          "2025-07-09",
          "2025-07-10",
          "2025-07-11",
          "2025-07-14",
          "2025-07-15",
          "2025-07-16",
          "2025-07-17",
          "2025-07-18",
          "2025-07-21",
          "2025-07-22",
          "2025-07-23",
          "2025-07-24",
          "2025-07-25",
          "2025-07-28",
          "2025-07-29",
          "2025-07-30",
          "2025-07-31",
          "2025-08-01",
          "2025-08-04",
          "2025-08-05",
          "2025-08-06",
          "2025-08-07",
          "2025-08-08",
          "2025-08-11",
          "2025-08-12",
          "2025-08-13",
          "2025-08-14",
          "2025-08-15",
          "2025-08-18",
          "2025-08-19",
          "2025-08-20",
          "2025-08-21",
          "2025-08-22",
          "2025-08-25",
          "2025-08-26",
          "2025-08-27",
          "2025-08-28",
          "2025-08-29",
          "2025-09-02",
          "2025-09-03",
          "2025-09-04",
          "2025-09-05",
          "2025-09-08",
          "2025-09-09"
         ],
         "y": {
          "bdata": "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",
          "dtype": "f8"
         }
        }
       ],
       "layout": {
        "height": 400,
        "template": {
         "data": {
          "bar": [
           {
            "error_x": {
             "color": "#2a3f5f"
            },
            "error_y": {
             "color": "#2a3f5f"
            },
            "marker": {
             "line": {
              "color": "#E5ECF6",
              "width": 0.5
             },
             "pattern": {
              "fillmode": "overlay",
              "size": 10,
              "solidity": 0.2
             }
            },
            "type": "bar"
           }
          ],
          "barpolar": [
           {
            "marker": {
             "line": {
              "color": "#E5ECF6",
              "width": 0.5
             },
             "pattern": {
              "fillmode": "overlay",
              "size": 10,
              "solidity": 0.2
             }
            },
            "type": "barpolar"
           }
          ],
          "carpet": [
           {
            "aaxis": {
             "endlinecolor": "#2a3f5f",
             "gridcolor": "white",
             "linecolor": "white",
             "minorgridcolor": "white",
             "startlinecolor": "#2a3f5f"
            },
            "baxis": {
             "endlinecolor": "#2a3f5f",
             "gridcolor": "white",
             "linecolor": "white",
             "minorgridcolor": "white",
             "startlinecolor": "#2a3f5f"
            },
            "type": "carpet"
           }
          ],
          "choropleth": [
           {
            "colorbar": {
             "outlinewidth": 0,
             "ticks": ""
            },
            "type": "choropleth"
           }
          ],
          "contour": [
           {
            "colorbar": {
             "outlinewidth": 0,
             "ticks": ""
            },
            "colorscale": [
             [
              0,
              "#0d0887"
             ],
             [
              0.1111111111111111,
              "#46039f"
             ],
             [
              0.2222222222222222,
              "#7201a8"
             ],
             [
              0.3333333333333333,
              "#9c179e"
             ],
             [
              0.4444444444444444,
              "#bd3786"
             ],
             [
              0.5555555555555556,
              "#d8576b"
             ],
             [
              0.6666666666666666,
              "#ed7953"
             ],
             [
              0.7777777777777778,
              "#fb9f3a"
             ],
             [
              0.8888888888888888,
              "#fdca26"
             ],
             [
              1,
              "#f0f921"
             ]
            ],
            "type": "contour"
           }
          ],
          "contourcarpet": [
           {
            "colorbar": {
             "outlinewidth": 0,
             "ticks": ""
            },
            "type": "contourcarpet"
           }
          ],
          "heatmap": [
           {
            "colorbar": {
             "outlinewidth": 0,
             "ticks": ""
            },
            "colorscale": [
             [
              0,
              "#0d0887"
             ],
             [
              0.1111111111111111,
              "#46039f"
             ],
             [
              0.2222222222222222,
              "#7201a8"
             ],
             [
              0.3333333333333333,
              "#9c179e"
             ],
             [
              0.4444444444444444,
              "#bd3786"
             ],
             [
              0.5555555555555556,
              "#d8576b"
             ],
             [
              0.6666666666666666,
              "#ed7953"
             ],
             [
              0.7777777777777778,
              "#fb9f3a"
             ],
             [
              0.8888888888888888,
              "#fdca26"
             ],
             [
              1,
              "#f0f921"
             ]
            ],
            "type": "heatmap"
           }
          ],
          "histogram": [
           {
            "marker": {
             "pattern": {
              "fillmode": "overlay",
              "size": 10,
              "solidity": 0.2
             }
            },
            "type": "histogram"
           }
          ],
          "histogram2d": [
           {
            "colorbar": {
             "outlinewidth": 0,
             "ticks": ""
            },
            "colorscale": [
             [
              0,
              "#0d0887"
             ],
             [
              0.1111111111111111,
              "#46039f"
             ],
             [
              0.2222222222222222,
              "#7201a8"
             ],
             [
              0.3333333333333333,
              "#9c179e"
             ],
             [
              0.4444444444444444,
              "#bd3786"
             ],
             [
              0.5555555555555556,
              "#d8576b"
             ],
             [
              0.6666666666666666,
              "#ed7953"
             ],
             [
              0.7777777777777778,
              "#fb9f3a"
             ],
             [
              0.8888888888888888,
              "#fdca26"
             ],
             [
              1,
              "#f0f921"
             ]
            ],
            "type": "histogram2d"
           }
          ],
          "histogram2dcontour": [
           {
            "colorbar": {
             "outlinewidth": 0,
             "ticks": ""
            },
            "colorscale": [
             [
              0,
              "#0d0887"
             ],
             [
              0.1111111111111111,
              "#46039f"
             ],
             [
              0.2222222222222222,
              "#7201a8"
             ],
             [
              0.3333333333333333,
              "#9c179e"
             ],
             [
              0.4444444444444444,
              "#bd3786"
             ],
             [
              0.5555555555555556,
              "#d8576b"
             ],
             [
              0.6666666666666666,
              "#ed7953"
             ],
             [
              0.7777777777777778,
              "#fb9f3a"
             ],
             [
              0.8888888888888888,
              "#fdca26"
             ],
             [
              1,
              "#f0f921"
             ]
            ],
            "type": "histogram2dcontour"
           }
          ],
          "mesh3d": [
           {
            "colorbar": {
             "outlinewidth": 0,
             "ticks": ""
            },
            "type": "mesh3d"
           }
          ],
          "parcoords": [
           {
            "line": {
             "colorbar": {
              "outlinewidth": 0,
              "ticks": ""
             }
            },
            "type": "parcoords"
           }
          ],
          "pie": [
           {
            "automargin": true,
            "type": "pie"
           }
          ],
          "scatter": [
           {
            "fillpattern": {
             "fillmode": "overlay",
             "size": 10,
             "solidity": 0.2
            },
            "type": "scatter"
           }
          ],
          "scatter3d": [
           {
            "line": {
             "colorbar": {
              "outlinewidth": 0,
              "ticks": ""
             }
            },
            "marker": {
             "colorbar": {
              "outlinewidth": 0,
              "ticks": ""
             }
            },
            "type": "scatter3d"
           }
          ],
          "scattercarpet": [
           {
            "marker": {
             "colorbar": {
              "outlinewidth": 0,
              "ticks": ""
             }
            },
            "type": "scattercarpet"
           }
          ],
          "scattergeo": [
           {
            "marker": {
             "colorbar": {
              "outlinewidth": 0,
              "ticks": ""
             }
            },
            "type": "scattergeo"
           }
          ],
          "scattergl": [
           {
            "marker": {
             "colorbar": {
              "outlinewidth": 0,
              "ticks": ""
             }
            },
            "type": "scattergl"
           }
          ],
          "scattermap": [
           {
            "marker": {
             "colorbar": {
              "outlinewidth": 0,
              "ticks": ""
             }
            },
            "type": "scattermap"
           }
          ],
          "scattermapbox": [
           {
            "marker": {
             "colorbar": {
              "outlinewidth": 0,
              "ticks": ""
             }
            },
            "type": "scattermapbox"
           }
          ],
          "scatterpolar": [
           {
            "marker": {
             "colorbar": {
              "outlinewidth": 0,
              "ticks": ""
             }
            },
            "type": "scatterpolar"
           }
          ],
          "scatterpolargl": [
           {
            "marker": {
             "colorbar": {
              "outlinewidth": 0,
              "ticks": ""
             }
            },
            "type": "scatterpolargl"
           }
          ],
          "scatterternary": [
           {
            "marker": {
             "colorbar": {
              "outlinewidth": 0,
              "ticks": ""
             }
            },
            "type": "scatterternary"
           }
          ],
          "surface": [
           {
            "colorbar": {
             "outlinewidth": 0,
             "ticks": ""
            },
            "colorscale": [
             [
              0,
              "#0d0887"
             ],
             [
              0.1111111111111111,
              "#46039f"
             ],
             [
              0.2222222222222222,
              "#7201a8"
             ],
             [
              0.3333333333333333,
              "#9c179e"
             ],
             [
              0.4444444444444444,
              "#bd3786"
             ],
             [
              0.5555555555555556,
              "#d8576b"
             ],
             [
              0.6666666666666666,
              "#ed7953"
             ],
             [
              0.7777777777777778,
              "#fb9f3a"
             ],
             [
              0.8888888888888888,
              "#fdca26"
             ],
             [
              1,
              "#f0f921"
             ]
            ],
            "type": "surface"
           }
          ],
          "table": [
           {
            "cells": {
             "fill": {
              "color": "#EBF0F8"
             },
             "line": {
              "color": "white"
             }
            },
            "header": {
             "fill": {
              "color": "#C8D4E3"
             },
             "line": {
              "color": "white"
             }
            },
            "type": "table"
           }
          ]
         },
         "layout": {
          "annotationdefaults": {
           "arrowcolor": "#2a3f5f",
           "arrowhead": 0,
           "arrowwidth": 1
          },
          "autotypenumbers": "strict",
          "coloraxis": {
           "colorbar": {
            "outlinewidth": 0,
            "ticks": ""
           }
          },
          "colorscale": {
           "diverging": [
            [
             0,
             "#8e0152"
            ],
            [
             0.1,
             "#c51b7d"
            ],
            [
             0.2,
             "#de77ae"
            ],
            [
             0.3,
             "#f1b6da"
            ],
            [
             0.4,
             "#fde0ef"
            ],
            [
             0.5,
             "#f7f7f7"
            ],
            [
             0.6,
             "#e6f5d0"
            ],
            [
             0.7,
             "#b8e186"
            ],
            [
             0.8,
             "#7fbc41"
            ],
            [
             0.9,
             "#4d9221"
            ],
            [
             1,
             "#276419"
            ]
           ],
           "sequential": [
            [
             0,
             "#0d0887"
            ],
            [
             0.1111111111111111,
             "#46039f"
            ],
            [
             0.2222222222222222,
             "#7201a8"
            ],
            [
             0.3333333333333333,
             "#9c179e"
            ],
            [
             0.4444444444444444,
             "#bd3786"
            ],
            [
             0.5555555555555556,
             "#d8576b"
            ],
            [
             0.6666666666666666,
             "#ed7953"
            ],
            [
             0.7777777777777778,
             "#fb9f3a"
            ],
            [
             0.8888888888888888,
             "#fdca26"
            ],
            [
             1,
             "#f0f921"
            ]
           ],
           "sequentialminus": [
            [
             0,
             "#0d0887"
            ],
            [
             0.1111111111111111,
             "#46039f"
            ],
            [
             0.2222222222222222,
             "#7201a8"
            ],
            [
             0.3333333333333333,
             "#9c179e"
            ],
            [
             0.4444444444444444,
             "#bd3786"
            ],
            [
             0.5555555555555556,
             "#d8576b"
            ],
            [
             0.6666666666666666,
             "#ed7953"
            ],
            [
             0.7777777777777778,
             "#fb9f3a"
            ],
            [
             0.8888888888888888,
             "#fdca26"
            ],
            [
             1,
             "#f0f921"
            ]
           ]
          },
          "colorway": [
           "#636efa",
           "#EF553B",
           "#00cc96",
           "#ab63fa",
           "#FFA15A",
           "#19d3f3",
           "#FF6692",
           "#B6E880",
           "#FF97FF",
           "#FECB52"
          ],
          "font": {
           "color": "#2a3f5f"
          },
          "geo": {
           "bgcolor": "white",
           "lakecolor": "white",
           "landcolor": "#E5ECF6",
           "showlakes": true,
           "showland": true,
           "subunitcolor": "white"
          },
          "hoverlabel": {
           "align": "left"
          },
          "hovermode": "closest",
          "mapbox": {
           "style": "light"
          },
          "paper_bgcolor": "white",
          "plot_bgcolor": "#E5ECF6",
          "polar": {
           "angularaxis": {
            "gridcolor": "white",
            "linecolor": "white",
            "ticks": ""
           },
           "bgcolor": "#E5ECF6",
           "radialaxis": {
            "gridcolor": "white",
            "linecolor": "white",
            "ticks": ""
           }
          },
          "scene": {
           "xaxis": {
            "backgroundcolor": "#E5ECF6",
            "gridcolor": "white",
            "gridwidth": 2,
            "linecolor": "white",
            "showbackground": true,
            "ticks": "",
            "zerolinecolor": "white"
           },
           "yaxis": {
            "backgroundcolor": "#E5ECF6",
            "gridcolor": "white",
            "gridwidth": 2,
            "linecolor": "white",
            "showbackground": true,
            "ticks": "",
            "zerolinecolor": "white"
           },
           "zaxis": {
            "backgroundcolor": "#E5ECF6",
            "gridcolor": "white",
            "gridwidth": 2,
            "linecolor": "white",
            "showbackground": true,
            "ticks": "",
            "zerolinecolor": "white"
           }
          },
          "shapedefaults": {
           "line": {
            "color": "#2a3f5f"
           }
          },
          "ternary": {
           "aaxis": {
            "gridcolor": "white",
            "linecolor": "white",
            "ticks": ""
           },
           "baxis": {
            "gridcolor": "white",
            "linecolor": "white",
            "ticks": ""
           },
           "bgcolor": "#E5ECF6",
           "caxis": {
            "gridcolor": "white",
            "linecolor": "white",
            "ticks": ""
           }
          },
          "title": {
           "x": 0.05
          },
          "xaxis": {
           "automargin": true,
           "gridcolor": "white",
           "linecolor": "white",
           "ticks": "",
           "title": {
            "standoff": 15
           },
           "zerolinecolor": "white",
           "zerolinewidth": 2
          },
          "yaxis": {
           "automargin": true,
           "gridcolor": "white",
           "linecolor": "white",
           "ticks": "",
           "title": {
            "standoff": 15
           },
           "zerolinecolor": "white",
           "zerolinewidth": 2
          }
         }
        },
        "title": {
         "text": "AAPL"
        },
        "width": 600
       }
      }
     },
     "metadata": {},
     "output_type": "display_data"
    }
   ],
   "source": [
    "\n",
    "from finta import TA\n",
    "\n",
    "data = file_utils.get_history(STOCK)\n",
    "data['ema10'] = TA.EMA(data, 10)\n",
    "data['sma30'] = TA.SMA(data, 30)\n",
    "\n",
    "import plotly.graph_objects as go\n",
    "\n",
    "# Stock and moving averages\n",
    "fig = go.Figure(data=[\n",
    "                go.Candlestick(\n",
    "                    x = data.index, # date values\n",
    "                    open  = data['Open'],\n",
    "                    high  = data['High'],\n",
    "                    low   = data['Low'],\n",
    "                    close = data['Close'],\n",
    "                    name = STOCK\n",
    "                ),\n",
    "         \n",
    "                go.Scatter( x=data['ema10'].index,\n",
    "                            y=data['ema10'],\n",
    "                            name='EMA 10',\n",
    "                            line=dict(color='blue',\n",
    "                                      width=2,\n",
    "                                      shape='spline'), # smooth the line\n",
    "                            ),\n",
    "        \n",
    "                go.Scatter( x=data['sma30'].index,\n",
    "                            y=data['sma30'],\n",
    "                            name='SMA 30',\n",
    "                            line=dict(color='purple',\n",
    "                                      width=2,\n",
    "                                      shape='spline'), # smooth the line\n",
    "                            ),\n",
    "                \n",
    "                ])\n",
    "fig.update_layout(xaxis_rangeslider_visible=False, title=f\"{STOCK}\", width=600, height=400)\n",
    "fig.show()\n",
    "\n",
    "# Volume\n",
    "data['vol_avg'] = data['Volume'].rolling(14).mean()\n",
    "fig1 = go.Figure(\n",
    "    data = [\n",
    "        go.Bar(x=data.index, y=data['Volume'], name='Volume'),\n",
    "        go.Scatter(x=data.index, y=data['vol_avg'], name='Average')\n",
    "    ])\n",
    "\n",
    "fig1.update_layout(title=f\"{STOCK}\", width=600, height=400)\n",
    "fig1.show()\n"
   ]
  },
  {
   "cell_type": "code",
   "execution_count": 7,
   "metadata": {},
   "outputs": [
    {
     "name": "stdout",
     "output_type": "stream",
     "text": [
      "STOCK:  AAPL\n",
      "\u001b[90m ●  VIX has crossed up\n",
      "\u001b[90m ●  VIX has crossed down\n",
      "\u001b[90m ●  MACD has crossed up\n",
      "\u001b[90m ●  MACD has crossed down\n",
      "\u001b[90m ●  Stochastic has crossed up\n",
      "\u001b[90m ●  Stochastic has crossed down\n",
      "\u001b[92m ●  Moving average is bullish\n",
      "\u001b[90m ●  Moving average is reversing\n",
      "\u001b[90m ●  Moving average cross down\n",
      "\u001b[90m ●  Moving average cross up\n",
      "\u001b[90m ●  Moving average is bearish\n",
      "\u001b[90m ●  Moving average price crossed below \n",
      "\u001b[90m ●  Moving average price crossed above \n",
      "\u001b[90m ●  52 week low \n",
      "\u001b[90m ●  52 week high \n",
      "\u001b[90m ●  RSI oversold (30)\n",
      "\u001b[90m ●  RSI overbought (70)\n",
      "\u001b[90m ●  RSI 52 week low\n",
      "\u001b[90m ●  RSI 52 week high\n",
      "\u001b[90m ●  Resistance break up\n",
      "\u001b[90m ●  Support break down\n",
      "\u001b[90m ●  Close Above High Of Low Day\n",
      "\u001b[90m ●  Close Below Low Of High Day\n",
      "\u001b[90m ●  Volume high\n"
     ]
    }
   ],
   "source": [
    "\n",
    "from yfinance_utils import signals_utils\n",
    "#\n",
    "#Red = '\\033[91m'\n",
    "#Green = '\\033[92m'\n",
    "#Blue = '\\033[94m'\n",
    "#Cyan = '\\033[96m'\n",
    "#White = '\\033[97m'\n",
    "#Yellow = '\\033[93m'\n",
    "#Magenta = '\\033[95m'\n",
    "#Grey = '\\033[90m'\n",
    "#Black = '\\033[90m'\n",
    "#Default = '\\033[99m'\n",
    "\n",
    "def get_color_dot(c):\n",
    "    if c:\n",
    "        return\"\\033[92m ● \"  # Green dot\n",
    "    else:\n",
    "        return\"\\033[90m ● \"  # Grey dot\n",
    "\n",
    "print(f\"STOCK:  {STOCK}\")\n",
    "print(f\"{get_color_dot(signals_utils.is_vix_cross_up(day=2))} VIX has crossed up\")\n",
    "print(f\"{get_color_dot(signals_utils.is_vix_cross_down(day=2))} VIX has crossed down\")\n",
    "print(f\"{get_color_dot(signals_utils.is_macd_cross_up(data))} MACD has crossed up\")\n",
    "print(f\"{get_color_dot(signals_utils.is_macd_cross_down(data))} MACD has crossed down\")\n",
    "print(f\"{get_color_dot(signals_utils.is_stochastic_cross_up(data))} Stochastic has crossed up\")\n",
    "print(f\"{get_color_dot(signals_utils.is_stochastic_cross_down(data))} Stochastic has crossed down\")\n",
    "print(f\"{get_color_dot(signals_utils.is_ma_bullish_trend(data))} Moving average is bullish\")\n",
    "print(f\"{get_color_dot(signals_utils.is_ma_trend_reversing(data))} Moving average is reversing\")\n",
    "print(f\"{get_color_dot(signals_utils.is_ma_cross_down(data))} Moving average cross down\")\n",
    "print(f\"{get_color_dot(signals_utils.is_ma_cross_up(data))} Moving average cross up\")\n",
    "print(f\"{get_color_dot(signals_utils.is_ma_bearish_trend(data))} Moving average is bearish\")\n",
    "print(f\"{get_color_dot(signals_utils.is_ma_price_cross_down(data))} Moving average price crossed below \")\n",
    "print(f\"{get_color_dot(signals_utils.is_ma_price_cross_up(data))} Moving average price crossed above \")\n",
    "print(f\"{get_color_dot(signals_utils.is_price_year_low(data))} 52 week low \")\n",
    "print(f\"{get_color_dot(signals_utils.is_price_year_high(data))} 52 week high \")\n",
    "print(f\"{get_color_dot(signals_utils.is_rsi_oversold(data))} RSI oversold (30)\")\n",
    "print(f\"{get_color_dot(signals_utils.is_rsi_overbough(data))} RSI overbought (70)\")\n",
    "print(f\"{get_color_dot(signals_utils.is_price_year_low(data))} RSI 52 week low\")\n",
    "print(f\"{get_color_dot(signals_utils.is_price_year_high(data))} RSI 52 week high\")\n",
    "print(f\"{get_color_dot(signals_utils.is_resistance_breake_up(data))} Resistance break up\")\n",
    "print(f\"{get_color_dot(signals_utils.is_support_breake_down(data))} Support break down\")\n",
    "print(f\"{get_color_dot(signals_utils.is_cahold(data))} Close Above High Of Low Day\")\n",
    "print(f\"{get_color_dot(signals_utils.is_cblohd(data))} Close Below Low Of High Day\")\n",
    "print(f\"{get_color_dot(signals_utils.is_high_volume(data))} Volume high\")\n"
   ]
  },
  {
   "cell_type": "code",
   "execution_count": 8,
   "metadata": {},
   "outputs": [
    {
     "name": "stdout",
     "output_type": "stream",
     "text": [
      "Stock                        : AAPL\n",
      "Price                        : 237.0\n"
     ]
    },
    {
     "ename": "AttributeError",
     "evalue": "'str' object has no attribute 'option_chain'",
     "output_type": "error",
     "traceback": [
      "\u001b[31m---------------------------------------------------------------------------\u001b[39m",
      "\u001b[31mAttributeError\u001b[39m                            Traceback (most recent call last)",
      "\u001b[36mCell\u001b[39m\u001b[36m \u001b[39m\u001b[32mIn[8]\u001b[39m\u001b[32m, line 8\u001b[39m\n\u001b[32m      6\u001b[39m \u001b[38;5;28mprint\u001b[39m(\u001b[33mf\u001b[39m\u001b[33m\"\u001b[39m\u001b[33mStock                        : \u001b[39m\u001b[38;5;132;01m{\u001b[39;00mSTOCK\u001b[38;5;132;01m}\u001b[39;00m\u001b[33m\"\u001b[39m)\n\u001b[32m      7\u001b[39m \u001b[38;5;28mprint\u001b[39m(\u001b[33mf\u001b[39m\u001b[33m\"\u001b[39m\u001b[33mPrice                        : \u001b[39m\u001b[38;5;132;01m{\u001b[39;00mdata[\u001b[33m'\u001b[39m\u001b[33mClose\u001b[39m\u001b[33m'\u001b[39m].iloc[-\u001b[32m1\u001b[39m].round(\u001b[32m2\u001b[39m)\u001b[38;5;132;01m}\u001b[39;00m\u001b[33m\"\u001b[39m)\n\u001b[32m----> \u001b[39m\u001b[32m8\u001b[39m \u001b[38;5;28mprint\u001b[39m(\u001b[33mf\u001b[39m\u001b[33m\"\u001b[39m\u001b[33mPut Call Ratio               : \u001b[39m\u001b[38;5;132;01m{\u001b[39;00m\u001b[43mratio_utils\u001b[49m\u001b[43m.\u001b[49m\u001b[43mget_put_call_ratio\u001b[49m\u001b[43m(\u001b[49m\u001b[43mSTOCK\u001b[49m\u001b[43m)\u001b[49m\u001b[38;5;132;01m:\u001b[39;00m\u001b[33m,.2f\u001b[39m\u001b[38;5;132;01m}\u001b[39;00m\u001b[33m\"\u001b[39m)\n\u001b[32m      9\u001b[39m \u001b[38;5;28mprint\u001b[39m(\u001b[33mf\u001b[39m\u001b[33m\"\u001b[39m\u001b[33mCurrent Ratio                : \u001b[39m\u001b[38;5;132;01m{\u001b[39;00mratio_utils.get_current_ratio(STOCK)\u001b[38;5;132;01m:\u001b[39;00m\u001b[33m,.2f\u001b[39m\u001b[38;5;132;01m}\u001b[39;00m\u001b[33m\"\u001b[39m)\n\u001b[32m     10\u001b[39m \u001b[38;5;28mprint\u001b[39m(\u001b[33mf\u001b[39m\u001b[33m\"\u001b[39m\u001b[33mBook Value per Share         : \u001b[39m\u001b[38;5;132;01m{\u001b[39;00mratio_utils.get_book_value_per_share_ratio(STOCK)\u001b[38;5;132;01m:\u001b[39;00m\u001b[33m,.2f\u001b[39m\u001b[38;5;132;01m}\u001b[39;00m\u001b[33m\"\u001b[39m)\n",
      "\u001b[36mFile \u001b[39m\u001b[32m~\\Documents\\git\\yfinance_utils\\yfinance_utils\\ratio_utils.py:282\u001b[39m, in \u001b[36mget_put_call_ratio\u001b[39m\u001b[34m(tick)\u001b[39m\n\u001b[32m    281\u001b[39m \u001b[38;5;28;01mdef\u001b[39;00m\u001b[38;5;250m \u001b[39m\u001b[34mget_put_call_ratio\u001b[39m(tick):\n\u001b[32m--> \u001b[39m\u001b[32m282\u001b[39m     calls = \u001b[43moptions_utils\u001b[49m\u001b[43m.\u001b[49m\u001b[43mget_calls_volume\u001b[49m\u001b[43m(\u001b[49m\u001b[43mtick\u001b[49m\u001b[43m)\u001b[49m\n\u001b[32m    283\u001b[39m     puts = options_utils.get_puts_volume(tick)\n\u001b[32m    284\u001b[39m     ratio = \u001b[38;5;28mround\u001b[39m(puts/calls,\u001b[32m2\u001b[39m)\n",
      "\u001b[36mFile \u001b[39m\u001b[32m~\\Documents\\git\\yfinance_utils\\yfinance_utils\\options_utils.py:17\u001b[39m, in \u001b[36mget_calls_volume\u001b[39m\u001b[34m(t)\u001b[39m\n\u001b[32m     16\u001b[39m \u001b[38;5;28;01mdef\u001b[39;00m\u001b[38;5;250m \u001b[39m\u001b[34mget_calls_volume\u001b[39m(t):\n\u001b[32m---> \u001b[39m\u001b[32m17\u001b[39m     options = \u001b[43mt\u001b[49m\u001b[43m.\u001b[49m\u001b[43moption_chain\u001b[49m()\n\u001b[32m     18\u001b[39m     volume = \u001b[38;5;28mlist\u001b[39m(options.calls[\u001b[33m'\u001b[39m\u001b[33mvolume\u001b[39m\u001b[33m'\u001b[39m])\n\u001b[32m     19\u001b[39m     \u001b[38;5;28;01mreturn\u001b[39;00m \u001b[38;5;28msum\u001b[39m(x \u001b[38;5;28;01mfor\u001b[39;00m x \u001b[38;5;129;01min\u001b[39;00m volume \u001b[38;5;28;01mif\u001b[39;00m \u001b[38;5;129;01mnot\u001b[39;00m math.isnan(x))\n",
      "\u001b[31mAttributeError\u001b[39m: 'str' object has no attribute 'option_chain'"
     ]
    }
   ],
   "source": [
    "\n",
    "from yfinance_utils import ratio_utils\n",
    "import pandas as pd\n",
    "\n",
    "data = file_utils.get_history(STOCK)\n",
    "\n",
    "print(f\"Stock                        : {STOCK}\")\n",
    "print(f\"Price                        : {data['Close'].iloc[-1].round(2)}\")\n",
    "print(f\"Put Call Ratio               : {ratio_utils.get_put_call_ratio(STOCK):,.2f}\")\n",
    "print(f\"Current Ratio                : {ratio_utils.get_current_ratio(STOCK):,.2f}\")\n",
    "print(f\"Book Value per Share         : {ratio_utils.get_book_value_per_share_ratio(STOCK):,.2f}\")\n",
    "print(\"\")\n",
    "\n",
    "df = pd.DataFrame()\n",
    "\n",
    "ls_name = [\n",
    "    'Revenue MM'                  ,\n",
    "    'Average Assets MM'           ,\n",
    "    'Average Inventory MM'        ,\n",
    "    'Revenue per Share'           ,\n",
    "    'Earnings per Share'          ,\n",
    "    'Share Price to Earnings'     ,\n",
    "    'Price to Sales'              ,\n",
    "    'Acid Test Ratio'             ,\n",
    "    'Cash Ratio'                  ,\n",
    "    'Operating Cash Flow Ratio'   ,\n",
    "    'Debt Ratio'                  ,\n",
    "    'Debt to Equity Ratio'        ,\n",
    "    'Interest Coverage Ratio'     ,\n",
    "    'Service Coverage Ratio'      ,\n",
    "    'Asset Turnover Ratio'        ,\n",
    "    'Inventory Turnover Ratio'    ,\n",
    "    'Day Sales in Inventory Ratio',\n",
    "    'Return on Assets Ratio'      , \n",
    "    'Return on Equity Ratio'\n",
    "]\n",
    "\n",
    "for i in range(1,3):\n",
    "    name = ls_name\n",
    "    \n",
    "df['NAME'] = ls_name\n",
    "df.set_index('NAME',inplace=True)\n",
    "\n",
    "for i in range(2):\n",
    "    ls = []\n",
    "    ls.append(ratio_utils.get_net_revenue(t, period = i)/1000000)\n",
    "    ls.append(ratio_utils.get_avg_assets(t, period = i)/1000000)\n",
    "    ls.append(ratio_utils.get_avg_inventory(t, period = i)/1000000)\n",
    "    ls.append(ratio_utils.get_revenue_per_share(t, period = i))\n",
    "    ls.append(ratio_utils.get_earnings_per_share(t, period = i))\n",
    "    ls.append(ratio_utils.get_price_to_earnings(t, period = i))\n",
    "    ls.append(ratio_utils.get_price_to_sales(t, period = i))\n",
    "    ls.append(ratio_utils.get_acid_test_ratio(t, period = i))\n",
    "    ls.append(ratio_utils.get_cash_ratio(t, period = i))\n",
    "    ls.append(ratio_utils.get_operating_cash_flow_ratio(t, period = i))\n",
    "    ls.append(ratio_utils.get_debt_ratio(t, period = i))\n",
    "    ls.append(ratio_utils.get_debt_to_equity_ratio(t, period = i))\n",
    "    ls.append(ratio_utils.get_interest_coverage_ratio(t, period = i))\n",
    "    ls.append(ratio_utils.get_service_coverage_ratio(t, period = i))\n",
    "    ls.append(ratio_utils.get_asset_turnover_ratio(t, period = i))\n",
    "    ls.append(ratio_utils.get_inventory_turnover_ratio(t, period = i))\n",
    "    ls.append(ratio_utils.get_day_sales_in_inventory_ratio(t, period = i))\n",
    "    ls.append(ratio_utils.get_return_on_assets_ratio(t, period = i))\n",
    "    ls.append(ratio_utils.get_return_on_equity(t, period = i))\n",
    "    df[f\"PERIOD_{i}\"] = ls\n",
    "\n",
    "direction = []\n",
    "for i in range(len(df)):\n",
    "    if df['PERIOD_0'].iloc[i] > df['PERIOD_1'].iloc[i]:\n",
    "        pct = round(((df['PERIOD_0'].iloc[i] / df['PERIOD_1'].iloc[i]) - 1) * 100,0)\n",
    "        direction.append(f\"\\033[92m UP {abs(pct)}% ● \\033[97m\")\n",
    "    else:\n",
    "        pct = round(((1-((df['PERIOD_0'].iloc[i] / df['PERIOD_1'].iloc[i])))*100),0)\n",
    "        direction.append(f\"\\033[91m DOWN {abs(pct)}% ● \\033[97m\")\n",
    "df['CHANGE'] = direction\n",
    "\n",
    "print(\"Records for last two periods.\")\n",
    "print(\"Note: periods are read right to left\")\n",
    "print('')\n",
    "print(df.round(2))"
   ]
  }
 ],
 "metadata": {
  "kernelspec": {
   "display_name": ".venv",
   "language": "python",
   "name": "python3"
  },
  "language_info": {
   "codemirror_mode": {
    "name": "ipython",
    "version": 3
   },
   "file_extension": ".py",
   "mimetype": "text/x-python",
   "name": "python",
   "nbconvert_exporter": "python",
   "pygments_lexer": "ipython3",
   "version": "3.13.7"
  }
 },
 "nbformat": 4,
 "nbformat_minor": 2
}
