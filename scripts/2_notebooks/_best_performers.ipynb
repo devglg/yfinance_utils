{
 "cells": [
  {
   "cell_type": "markdown",
   "metadata": {},
   "source": [
    "Copyright 2024 Lehi Gracia"
   ]
  },
  {
   "cell_type": "markdown",
   "metadata": {},
   "source": [
    "### Save?"
   ]
  },
  {
   "cell_type": "code",
   "execution_count": 1,
   "metadata": {},
   "outputs": [],
   "source": [
    "save_to_mongo = False\n",
    "\n",
    "import subprocess, os\n",
    "\n",
    "if save_to_mongo:\n",
    "    mongod = subprocess.Popen(\n",
    "        ['mongod', '--dbpath', os.path.expanduser(os.getenv('MONGODB_PATH')), '--logpath', os.path.expanduser(os.getenv('MONGODB_LOG'))]\n",
    "    )"
   ]
  },
  {
   "cell_type": "markdown",
   "metadata": {},
   "source": [
    "### Implied Volaility"
   ]
  },
  {
   "cell_type": "code",
   "execution_count": 2,
   "metadata": {},
   "outputs": [
    {
     "data": {
      "application/vnd.plotly.v1+json": {
       "config": {
        "plotlyServerURL": "https://plot.ly"
       },
       "data": [
        {
         "name": "VIX",
         "type": "scatter",
         "x": [
          "2024-07-16",
          "2024-07-17",
          "2024-07-18",
          "2024-07-19",
          "2024-07-22",
          "2024-07-23",
          "2024-07-24",
          "2024-07-25",
          "2024-07-26",
          "2024-07-29",
          "2024-07-30",
          "2024-07-31",
          "2024-08-01",
          "2024-08-02",
          "2024-08-05",
          "2024-08-06",
          "2024-08-07",
          "2024-08-08",
          "2024-08-09",
          "2024-08-12",
          "2024-08-13",
          "2024-08-14",
          "2024-08-15",
          "2024-08-16",
          "2024-08-19",
          "2024-08-20",
          "2024-08-21",
          "2024-08-22",
          "2024-08-23",
          "2024-08-26",
          "2024-08-27",
          "2024-08-28",
          "2024-08-29",
          "2024-08-30",
          "2024-09-03",
          "2024-09-04",
          "2024-09-05",
          "2024-09-06",
          "2024-09-09",
          "2024-09-10",
          "2024-09-11",
          "2024-09-12",
          "2024-09-13",
          "2024-09-16",
          "2024-09-17",
          "2024-09-18",
          "2024-09-19",
          "2024-09-20",
          "2024-09-23",
          "2024-09-24",
          "2024-09-25",
          "2024-09-26",
          "2024-09-27",
          "2024-09-30",
          "2024-10-01",
          "2024-10-02",
          "2024-10-03",
          "2024-10-04",
          "2024-10-07",
          "2024-10-08",
          "2024-10-09",
          "2024-10-10",
          "2024-10-11",
          "2024-10-14",
          "2024-10-15",
          "2024-10-16",
          "2024-10-17",
          "2024-10-18",
          "2024-10-21",
          "2024-10-22",
          "2024-10-23",
          "2024-10-24",
          "2024-10-25",
          "2024-10-28",
          "2024-10-29",
          "2024-10-30",
          "2024-10-31",
          "2024-11-01",
          "2024-11-04",
          "2024-11-05",
          "2024-11-06",
          "2024-11-07",
          "2024-11-08",
          "2024-11-11",
          "2024-11-12",
          "2024-11-13",
          "2024-11-14",
          "2024-11-15",
          "2024-11-18",
          "2024-11-19",
          "2024-11-20",
          "2024-11-21",
          "2024-11-22",
          "2024-11-25",
          "2024-11-26",
          "2024-11-27",
          "2024-11-29",
          "2024-12-02",
          "2024-12-03",
          "2024-12-04",
          "2024-12-05",
          "2024-12-06",
          "2024-12-09",
          "2024-12-10",
          "2024-12-11",
          "2024-12-12",
          "2024-12-13",
          "2024-12-16",
          "2024-12-17",
          "2024-12-18",
          "2024-12-19",
          "2024-12-20",
          "2024-12-23",
          "2024-12-24",
          "2024-12-26",
          "2024-12-27",
          "2024-12-30",
          "2024-12-31",
          "2025-01-02",
          "2025-01-03",
          "2025-01-06",
          "2025-01-07",
          "2025-01-08",
          "2025-01-10",
          "2025-01-13",
          "2025-01-14",
          "2025-01-15",
          "2025-01-16",
          "2025-01-17",
          "2025-01-21",
          "2025-01-22",
          "2025-01-23",
          "2025-01-24",
          "2025-01-27",
          "2025-01-28",
          "2025-01-29",
          "2025-01-30",
          "2025-01-31",
          "2025-02-03",
          "2025-02-04",
          "2025-02-05",
          "2025-02-06",
          "2025-02-07",
          "2025-02-10",
          "2025-02-11",
          "2025-02-12",
          "2025-02-13",
          "2025-02-14",
          "2025-02-18",
          "2025-02-19",
          "2025-02-20",
          "2025-02-21",
          "2025-02-24",
          "2025-02-25",
          "2025-02-26",
          "2025-02-27",
          "2025-02-28",
          "2025-03-03",
          "2025-03-04",
          "2025-03-05",
          "2025-03-06",
          "2025-03-07",
          "2025-03-10",
          "2025-03-11",
          "2025-03-12",
          "2025-03-13",
          "2025-03-14",
          "2025-03-17",
          "2025-03-18",
          "2025-03-19",
          "2025-03-20",
          "2025-03-21",
          "2025-03-24",
          "2025-03-25",
          "2025-03-26",
          "2025-03-27",
          "2025-03-28",
          "2025-03-31",
          "2025-04-01",
          "2025-04-02",
          "2025-04-03",
          "2025-04-04",
          "2025-04-07",
          "2025-04-08",
          "2025-04-09",
          "2025-04-10",
          "2025-04-11",
          "2025-04-14",
          "2025-04-15",
          "2025-04-16",
          "2025-04-17",
          "2025-04-21",
          "2025-04-22",
          "2025-04-23",
          "2025-04-24",
          "2025-04-25",
          "2025-04-28",
          "2025-04-29",
          "2025-04-30",
          "2025-05-01",
          "2025-05-02",
          "2025-05-05",
          "2025-05-06",
          "2025-05-07",
          "2025-05-08",
          "2025-05-09",
          "2025-05-12",
          "2025-05-13",
          "2025-05-14",
          "2025-05-15",
          "2025-05-16",
          "2025-05-19",
          "2025-05-20",
          "2025-05-21",
          "2025-05-22",
          "2025-05-23",
          "2025-05-27",
          "2025-05-28",
          "2025-05-29",
          "2025-05-30",
          "2025-06-02",
          "2025-06-03",
          "2025-06-04",
          "2025-06-05",
          "2025-06-06",
          "2025-06-09",
          "2025-06-10",
          "2025-06-11",
          "2025-06-12",
          "2025-06-13",
          "2025-06-16",
          "2025-06-17",
          "2025-06-18",
          "2025-06-20",
          "2025-06-23",
          "2025-06-24",
          "2025-06-25",
          "2025-06-26",
          "2025-06-27",
          "2025-06-30",
          "2025-07-01",
          "2025-07-02",
          "2025-07-03",
          "2025-07-07",
          "2025-07-08",
          "2025-07-09",
          "2025-07-10",
          "2025-07-11",
          "2025-07-14",
          "2025-07-15",
          "2025-07-16",
          "2025-07-17",
          "2025-07-18",
          "2025-07-21",
          "2025-07-22",
          "2025-07-23",
          "2025-07-24",
          "2025-07-25",
          "2025-07-28",
          "2025-07-29",
          "2025-07-30",
          "2025-07-31",
          "2025-08-01",
          "2025-08-04",
          "2025-08-05",
          "2025-08-06",
          "2025-08-07",
          "2025-08-08",
          "2025-08-11",
          "2025-08-12",
          "2025-08-13",
          "2025-08-14",
          "2025-08-15",
          "2025-08-18",
          "2025-08-19",
          "2025-08-20",
          "2025-08-21",
          "2025-08-22",
          "2025-08-25",
          "2025-08-26",
          "2025-08-27",
          "2025-08-28",
          "2025-08-29",
          "2025-09-02",
          "2025-09-03",
          "2025-09-04",
          "2025-09-05",
          "2025-09-08",
          "2025-09-09"
         ],
         "xaxis": "x",
         "y": {
          "bdata": "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",
          "dtype": "f8"
         },
         "yaxis": "y"
        },
        {
         "name": "sma",
         "type": "scatter",
         "x": [
          "2024-07-16",
          "2024-07-17",
          "2024-07-18",
          "2024-07-19",
          "2024-07-22",
          "2024-07-23",
          "2024-07-24",
          "2024-07-25",
          "2024-07-26",
          "2024-07-29",
          "2024-07-30",
          "2024-07-31",
          "2024-08-01",
          "2024-08-02",
          "2024-08-05",
          "2024-08-06",
          "2024-08-07",
          "2024-08-08",
          "2024-08-09",
          "2024-08-12",
          "2024-08-13",
          "2024-08-14",
          "2024-08-15",
          "2024-08-16",
          "2024-08-19",
          "2024-08-20",
          "2024-08-21",
          "2024-08-22",
          "2024-08-23",
          "2024-08-26",
          "2024-08-27",
          "2024-08-28",
          "2024-08-29",
          "2024-08-30",
          "2024-09-03",
          "2024-09-04",
          "2024-09-05",
          "2024-09-06",
          "2024-09-09",
          "2024-09-10",
          "2024-09-11",
          "2024-09-12",
          "2024-09-13",
          "2024-09-16",
          "2024-09-17",
          "2024-09-18",
          "2024-09-19",
          "2024-09-20",
          "2024-09-23",
          "2024-09-24",
          "2024-09-25",
          "2024-09-26",
          "2024-09-27",
          "2024-09-30",
          "2024-10-01",
          "2024-10-02",
          "2024-10-03",
          "2024-10-04",
          "2024-10-07",
          "2024-10-08",
          "2024-10-09",
          "2024-10-10",
          "2024-10-11",
          "2024-10-14",
          "2024-10-15",
          "2024-10-16",
          "2024-10-17",
          "2024-10-18",
          "2024-10-21",
          "2024-10-22",
          "2024-10-23",
          "2024-10-24",
          "2024-10-25",
          "2024-10-28",
          "2024-10-29",
          "2024-10-30",
          "2024-10-31",
          "2024-11-01",
          "2024-11-04",
          "2024-11-05",
          "2024-11-06",
          "2024-11-07",
          "2024-11-08",
          "2024-11-11",
          "2024-11-12",
          "2024-11-13",
          "2024-11-14",
          "2024-11-15",
          "2024-11-18",
          "2024-11-19",
          "2024-11-20",
          "2024-11-21",
          "2024-11-22",
          "2024-11-25",
          "2024-11-26",
          "2024-11-27",
          "2024-11-29",
          "2024-12-02",
          "2024-12-03",
          "2024-12-04",
          "2024-12-05",
          "2024-12-06",
          "2024-12-09",
          "2024-12-10",
          "2024-12-11",
          "2024-12-12",
          "2024-12-13",
          "2024-12-16",
          "2024-12-17",
          "2024-12-18",
          "2024-12-19",
          "2024-12-20",
          "2024-12-23",
          "2024-12-24",
          "2024-12-26",
          "2024-12-27",
          "2024-12-30",
          "2024-12-31",
          "2025-01-02",
          "2025-01-03",
          "2025-01-06",
          "2025-01-07",
          "2025-01-08",
          "2025-01-10",
          "2025-01-13",
          "2025-01-14",
          "2025-01-15",
          "2025-01-16",
          "2025-01-17",
          "2025-01-21",
          "2025-01-22",
          "2025-01-23",
          "2025-01-24",
          "2025-01-27",
          "2025-01-28",
          "2025-01-29",
          "2025-01-30",
          "2025-01-31",
          "2025-02-03",
          "2025-02-04",
          "2025-02-05",
          "2025-02-06",
          "2025-02-07",
          "2025-02-10",
          "2025-02-11",
          "2025-02-12",
          "2025-02-13",
          "2025-02-14",
          "2025-02-18",
          "2025-02-19",
          "2025-02-20",
          "2025-02-21",
          "2025-02-24",
          "2025-02-25",
          "2025-02-26",
          "2025-02-27",
          "2025-02-28",
          "2025-03-03",
          "2025-03-04",
          "2025-03-05",
          "2025-03-06",
          "2025-03-07",
          "2025-03-10",
          "2025-03-11",
          "2025-03-12",
          "2025-03-13",
          "2025-03-14",
          "2025-03-17",
          "2025-03-18",
          "2025-03-19",
          "2025-03-20",
          "2025-03-21",
          "2025-03-24",
          "2025-03-25",
          "2025-03-26",
          "2025-03-27",
          "2025-03-28",
          "2025-03-31",
          "2025-04-01",
          "2025-04-02",
          "2025-04-03",
          "2025-04-04",
          "2025-04-07",
          "2025-04-08",
          "2025-04-09",
          "2025-04-10",
          "2025-04-11",
          "2025-04-14",
          "2025-04-15",
          "2025-04-16",
          "2025-04-17",
          "2025-04-21",
          "2025-04-22",
          "2025-04-23",
          "2025-04-24",
          "2025-04-25",
          "2025-04-28",
          "2025-04-29",
          "2025-04-30",
          "2025-05-01",
          "2025-05-02",
          "2025-05-05",
          "2025-05-06",
          "2025-05-07",
          "2025-05-08",
          "2025-05-09",
          "2025-05-12",
          "2025-05-13",
          "2025-05-14",
          "2025-05-15",
          "2025-05-16",
          "2025-05-19",
          "2025-05-20",
          "2025-05-21",
          "2025-05-22",
          "2025-05-23",
          "2025-05-27",
          "2025-05-28",
          "2025-05-29",
          "2025-05-30",
          "2025-06-02",
          "2025-06-03",
          "2025-06-04",
          "2025-06-05",
          "2025-06-06",
          "2025-06-09",
          "2025-06-10",
          "2025-06-11",
          "2025-06-12",
          "2025-06-13",
          "2025-06-16",
          "2025-06-17",
          "2025-06-18",
          "2025-06-20",
          "2025-06-23",
          "2025-06-24",
          "2025-06-25",
          "2025-06-26",
          "2025-06-27",
          "2025-06-30",
          "2025-07-01",
          "2025-07-02",
          "2025-07-03",
          "2025-07-07",
          "2025-07-08",
          "2025-07-09",
          "2025-07-10",
          "2025-07-11",
          "2025-07-14",
          "2025-07-15",
          "2025-07-16",
          "2025-07-17",
          "2025-07-18",
          "2025-07-21",
          "2025-07-22",
          "2025-07-23",
          "2025-07-24",
          "2025-07-25",
          "2025-07-28",
          "2025-07-29",
          "2025-07-30",
          "2025-07-31",
          "2025-08-01",
          "2025-08-04",
          "2025-08-05",
          "2025-08-06",
          "2025-08-07",
          "2025-08-08",
          "2025-08-11",
          "2025-08-12",
          "2025-08-13",
          "2025-08-14",
          "2025-08-15",
          "2025-08-18",
          "2025-08-19",
          "2025-08-20",
          "2025-08-21",
          "2025-08-22",
          "2025-08-25",
          "2025-08-26",
          "2025-08-27",
          "2025-08-28",
          "2025-08-29",
          "2025-09-02",
          "2025-09-03",
          "2025-09-04",
          "2025-09-05",
          "2025-09-08",
          "2025-09-09"
         ],
         "xaxis": "x",
         "y": {
          "bdata": "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",
          "dtype": "f8"
         },
         "yaxis": "y"
        }
       ],
       "layout": {
        "height": 400,
        "template": {
         "data": {
          "bar": [
           {
            "error_x": {
             "color": "#2a3f5f"
            },
            "error_y": {
             "color": "#2a3f5f"
            },
            "marker": {
             "line": {
              "color": "#E5ECF6",
              "width": 0.5
             },
             "pattern": {
              "fillmode": "overlay",
              "size": 10,
              "solidity": 0.2
             }
            },
            "type": "bar"
           }
          ],
          "barpolar": [
           {
            "marker": {
             "line": {
              "color": "#E5ECF6",
              "width": 0.5
             },
             "pattern": {
              "fillmode": "overlay",
              "size": 10,
              "solidity": 0.2
             }
            },
            "type": "barpolar"
           }
          ],
          "carpet": [
           {
            "aaxis": {
             "endlinecolor": "#2a3f5f",
             "gridcolor": "white",
             "linecolor": "white",
             "minorgridcolor": "white",
             "startlinecolor": "#2a3f5f"
            },
            "baxis": {
             "endlinecolor": "#2a3f5f",
             "gridcolor": "white",
             "linecolor": "white",
             "minorgridcolor": "white",
             "startlinecolor": "#2a3f5f"
            },
            "type": "carpet"
           }
          ],
          "choropleth": [
           {
            "colorbar": {
             "outlinewidth": 0,
             "ticks": ""
            },
            "type": "choropleth"
           }
          ],
          "contour": [
           {
            "colorbar": {
             "outlinewidth": 0,
             "ticks": ""
            },
            "colorscale": [
             [
              0,
              "#0d0887"
             ],
             [
              0.1111111111111111,
              "#46039f"
             ],
             [
              0.2222222222222222,
              "#7201a8"
             ],
             [
              0.3333333333333333,
              "#9c179e"
             ],
             [
              0.4444444444444444,
              "#bd3786"
             ],
             [
              0.5555555555555556,
              "#d8576b"
             ],
             [
              0.6666666666666666,
              "#ed7953"
             ],
             [
              0.7777777777777778,
              "#fb9f3a"
             ],
             [
              0.8888888888888888,
              "#fdca26"
             ],
             [
              1,
              "#f0f921"
             ]
            ],
            "type": "contour"
           }
          ],
          "contourcarpet": [
           {
            "colorbar": {
             "outlinewidth": 0,
             "ticks": ""
            },
            "type": "contourcarpet"
           }
          ],
          "heatmap": [
           {
            "colorbar": {
             "outlinewidth": 0,
             "ticks": ""
            },
            "colorscale": [
             [
              0,
              "#0d0887"
             ],
             [
              0.1111111111111111,
              "#46039f"
             ],
             [
              0.2222222222222222,
              "#7201a8"
             ],
             [
              0.3333333333333333,
              "#9c179e"
             ],
             [
              0.4444444444444444,
              "#bd3786"
             ],
             [
              0.5555555555555556,
              "#d8576b"
             ],
             [
              0.6666666666666666,
              "#ed7953"
             ],
             [
              0.7777777777777778,
              "#fb9f3a"
             ],
             [
              0.8888888888888888,
              "#fdca26"
             ],
             [
              1,
              "#f0f921"
             ]
            ],
            "type": "heatmap"
           }
          ],
          "histogram": [
           {
            "marker": {
             "pattern": {
              "fillmode": "overlay",
              "size": 10,
              "solidity": 0.2
             }
            },
            "type": "histogram"
           }
          ],
          "histogram2d": [
           {
            "colorbar": {
             "outlinewidth": 0,
             "ticks": ""
            },
            "colorscale": [
             [
              0,
              "#0d0887"
             ],
             [
              0.1111111111111111,
              "#46039f"
             ],
             [
              0.2222222222222222,
              "#7201a8"
             ],
             [
              0.3333333333333333,
              "#9c179e"
             ],
             [
              0.4444444444444444,
              "#bd3786"
             ],
             [
              0.5555555555555556,
              "#d8576b"
             ],
             [
              0.6666666666666666,
              "#ed7953"
             ],
             [
              0.7777777777777778,
              "#fb9f3a"
             ],
             [
              0.8888888888888888,
              "#fdca26"
             ],
             [
              1,
              "#f0f921"
             ]
            ],
            "type": "histogram2d"
           }
          ],
          "histogram2dcontour": [
           {
            "colorbar": {
             "outlinewidth": 0,
             "ticks": ""
            },
            "colorscale": [
             [
              0,
              "#0d0887"
             ],
             [
              0.1111111111111111,
              "#46039f"
             ],
             [
              0.2222222222222222,
              "#7201a8"
             ],
             [
              0.3333333333333333,
              "#9c179e"
             ],
             [
              0.4444444444444444,
              "#bd3786"
             ],
             [
              0.5555555555555556,
              "#d8576b"
             ],
             [
              0.6666666666666666,
              "#ed7953"
             ],
             [
              0.7777777777777778,
              "#fb9f3a"
             ],
             [
              0.8888888888888888,
              "#fdca26"
             ],
             [
              1,
              "#f0f921"
             ]
            ],
            "type": "histogram2dcontour"
           }
          ],
          "mesh3d": [
           {
            "colorbar": {
             "outlinewidth": 0,
             "ticks": ""
            },
            "type": "mesh3d"
           }
          ],
          "parcoords": [
           {
            "line": {
             "colorbar": {
              "outlinewidth": 0,
              "ticks": ""
             }
            },
            "type": "parcoords"
           }
          ],
          "pie": [
           {
            "automargin": true,
            "type": "pie"
           }
          ],
          "scatter": [
           {
            "fillpattern": {
             "fillmode": "overlay",
             "size": 10,
             "solidity": 0.2
            },
            "type": "scatter"
           }
          ],
          "scatter3d": [
           {
            "line": {
             "colorbar": {
              "outlinewidth": 0,
              "ticks": ""
             }
            },
            "marker": {
             "colorbar": {
              "outlinewidth": 0,
              "ticks": ""
             }
            },
            "type": "scatter3d"
           }
          ],
          "scattercarpet": [
           {
            "marker": {
             "colorbar": {
              "outlinewidth": 0,
              "ticks": ""
             }
            },
            "type": "scattercarpet"
           }
          ],
          "scattergeo": [
           {
            "marker": {
             "colorbar": {
              "outlinewidth": 0,
              "ticks": ""
             }
            },
            "type": "scattergeo"
           }
          ],
          "scattergl": [
           {
            "marker": {
             "colorbar": {
              "outlinewidth": 0,
              "ticks": ""
             }
            },
            "type": "scattergl"
           }
          ],
          "scattermap": [
           {
            "marker": {
             "colorbar": {
              "outlinewidth": 0,
              "ticks": ""
             }
            },
            "type": "scattermap"
           }
          ],
          "scattermapbox": [
           {
            "marker": {
             "colorbar": {
              "outlinewidth": 0,
              "ticks": ""
             }
            },
            "type": "scattermapbox"
           }
          ],
          "scatterpolar": [
           {
            "marker": {
             "colorbar": {
              "outlinewidth": 0,
              "ticks": ""
             }
            },
            "type": "scatterpolar"
           }
          ],
          "scatterpolargl": [
           {
            "marker": {
             "colorbar": {
              "outlinewidth": 0,
              "ticks": ""
             }
            },
            "type": "scatterpolargl"
           }
          ],
          "scatterternary": [
           {
            "marker": {
             "colorbar": {
              "outlinewidth": 0,
              "ticks": ""
             }
            },
            "type": "scatterternary"
           }
          ],
          "surface": [
           {
            "colorbar": {
             "outlinewidth": 0,
             "ticks": ""
            },
            "colorscale": [
             [
              0,
              "#0d0887"
             ],
             [
              0.1111111111111111,
              "#46039f"
             ],
             [
              0.2222222222222222,
              "#7201a8"
             ],
             [
              0.3333333333333333,
              "#9c179e"
             ],
             [
              0.4444444444444444,
              "#bd3786"
             ],
             [
              0.5555555555555556,
              "#d8576b"
             ],
             [
              0.6666666666666666,
              "#ed7953"
             ],
             [
              0.7777777777777778,
              "#fb9f3a"
             ],
             [
              0.8888888888888888,
              "#fdca26"
             ],
             [
              1,
              "#f0f921"
             ]
            ],
            "type": "surface"
           }
          ],
          "table": [
           {
            "cells": {
             "fill": {
              "color": "#EBF0F8"
             },
             "line": {
              "color": "white"
             }
            },
            "header": {
             "fill": {
              "color": "#C8D4E3"
             },
             "line": {
              "color": "white"
             }
            },
            "type": "table"
           }
          ]
         },
         "layout": {
          "annotationdefaults": {
           "arrowcolor": "#2a3f5f",
           "arrowhead": 0,
           "arrowwidth": 1
          },
          "autotypenumbers": "strict",
          "coloraxis": {
           "colorbar": {
            "outlinewidth": 0,
            "ticks": ""
           }
          },
          "colorscale": {
           "diverging": [
            [
             0,
             "#8e0152"
            ],
            [
             0.1,
             "#c51b7d"
            ],
            [
             0.2,
             "#de77ae"
            ],
            [
             0.3,
             "#f1b6da"
            ],
            [
             0.4,
             "#fde0ef"
            ],
            [
             0.5,
             "#f7f7f7"
            ],
            [
             0.6,
             "#e6f5d0"
            ],
            [
             0.7,
             "#b8e186"
            ],
            [
             0.8,
             "#7fbc41"
            ],
            [
             0.9,
             "#4d9221"
            ],
            [
             1,
             "#276419"
            ]
           ],
           "sequential": [
            [
             0,
             "#0d0887"
            ],
            [
             0.1111111111111111,
             "#46039f"
            ],
            [
             0.2222222222222222,
             "#7201a8"
            ],
            [
             0.3333333333333333,
             "#9c179e"
            ],
            [
             0.4444444444444444,
             "#bd3786"
            ],
            [
             0.5555555555555556,
             "#d8576b"
            ],
            [
             0.6666666666666666,
             "#ed7953"
            ],
            [
             0.7777777777777778,
             "#fb9f3a"
            ],
            [
             0.8888888888888888,
             "#fdca26"
            ],
            [
             1,
             "#f0f921"
            ]
           ],
           "sequentialminus": [
            [
             0,
             "#0d0887"
            ],
            [
             0.1111111111111111,
             "#46039f"
            ],
            [
             0.2222222222222222,
             "#7201a8"
            ],
            [
             0.3333333333333333,
             "#9c179e"
            ],
            [
             0.4444444444444444,
             "#bd3786"
            ],
            [
             0.5555555555555556,
             "#d8576b"
            ],
            [
             0.6666666666666666,
             "#ed7953"
            ],
            [
             0.7777777777777778,
             "#fb9f3a"
            ],
            [
             0.8888888888888888,
             "#fdca26"
            ],
            [
             1,
             "#f0f921"
            ]
           ]
          },
          "colorway": [
           "#636efa",
           "#EF553B",
           "#00cc96",
           "#ab63fa",
           "#FFA15A",
           "#19d3f3",
           "#FF6692",
           "#B6E880",
           "#FF97FF",
           "#FECB52"
          ],
          "font": {
           "color": "#2a3f5f"
          },
          "geo": {
           "bgcolor": "white",
           "lakecolor": "white",
           "landcolor": "#E5ECF6",
           "showlakes": true,
           "showland": true,
           "subunitcolor": "white"
          },
          "hoverlabel": {
           "align": "left"
          },
          "hovermode": "closest",
          "mapbox": {
           "style": "light"
          },
          "paper_bgcolor": "white",
          "plot_bgcolor": "#E5ECF6",
          "polar": {
           "angularaxis": {
            "gridcolor": "white",
            "linecolor": "white",
            "ticks": ""
           },
           "bgcolor": "#E5ECF6",
           "radialaxis": {
            "gridcolor": "white",
            "linecolor": "white",
            "ticks": ""
           }
          },
          "scene": {
           "xaxis": {
            "backgroundcolor": "#E5ECF6",
            "gridcolor": "white",
            "gridwidth": 2,
            "linecolor": "white",
            "showbackground": true,
            "ticks": "",
            "zerolinecolor": "white"
           },
           "yaxis": {
            "backgroundcolor": "#E5ECF6",
            "gridcolor": "white",
            "gridwidth": 2,
            "linecolor": "white",
            "showbackground": true,
            "ticks": "",
            "zerolinecolor": "white"
           },
           "zaxis": {
            "backgroundcolor": "#E5ECF6",
            "gridcolor": "white",
            "gridwidth": 2,
            "linecolor": "white",
            "showbackground": true,
            "ticks": "",
            "zerolinecolor": "white"
           }
          },
          "shapedefaults": {
           "line": {
            "color": "#2a3f5f"
           }
          },
          "ternary": {
           "aaxis": {
            "gridcolor": "white",
            "linecolor": "white",
            "ticks": ""
           },
           "baxis": {
            "gridcolor": "white",
            "linecolor": "white",
            "ticks": ""
           },
           "bgcolor": "#E5ECF6",
           "caxis": {
            "gridcolor": "white",
            "linecolor": "white",
            "ticks": ""
           }
          },
          "title": {
           "x": 0.05
          },
          "xaxis": {
           "automargin": true,
           "gridcolor": "white",
           "linecolor": "white",
           "ticks": "",
           "title": {
            "standoff": 15
           },
           "zerolinecolor": "white",
           "zerolinewidth": 2
          },
          "yaxis": {
           "automargin": true,
           "gridcolor": "white",
           "linecolor": "white",
           "ticks": "",
           "title": {
            "standoff": 15
           },
           "zerolinecolor": "white",
           "zerolinewidth": 2
          }
         }
        },
        "title": {
         "text": "Market Volatility (VIX)",
         "x": 0.5
        },
        "width": 600,
        "xaxis": {
         "anchor": "y",
         "domain": [
          0,
          0.94
         ]
        },
        "yaxis": {
         "anchor": "x",
         "domain": [
          0,
          1
         ]
        },
        "yaxis2": {
         "anchor": "x",
         "overlaying": "y",
         "side": "right"
        }
       }
      }
     },
     "metadata": {},
     "output_type": "display_data"
    }
   ],
   "source": [
    "from yfinance_utils import file_utils\n",
    "from finta import TA\n",
    "from plotly.subplots import make_subplots\n",
    "import plotly.graph_objects as go\n",
    "\n",
    "_t = '^VIX'\n",
    "\n",
    "COLUMNS = ['Adj Close', 'Open','High','Low','Close','Volume']\n",
    "_d = file_utils.get_historic_data(_t)\n",
    "_d['sma'] = TA.SMA(_d, period=30)\n",
    "\n",
    "_f=make_subplots(specs=[[{\"secondary_y\": True}]])\n",
    "_f.update_layout(title=f\"Market Volatility (VIX)\", title_x=0.5, width=600, height=400)\n",
    "_d.reset_index(inplace=True)\n",
    "_f.add_trace(\n",
    "    go.Scatter(y=_d['Close'], x=_d['Date'], name=\"VIX\"),\n",
    "    secondary_y=False\n",
    ")\n",
    "_f.add_trace(\n",
    "    go.Scatter(y=_d['sma'], x=_d['Date'], name=f'sma'),\n",
    "    secondary_y=False\n",
    ")\n",
    "_f.show()"
   ]
  },
  {
   "cell_type": "markdown",
   "metadata": {},
   "source": [
    "###  Getting best performing stocks"
   ]
  },
  {
   "cell_type": "code",
   "execution_count": 3,
   "metadata": {},
   "outputs": [
    {
     "data": {
      "application/vnd.plotly.v1+json": {
       "config": {
        "plotlyServerURL": "https://plot.ly"
       },
       "data": [
        {
         "name": "WULF: 85.49 %",
         "type": "scatter",
         "x": [
          "2024-07-16",
          "2024-07-17",
          "2024-07-18",
          "2024-07-19",
          "2024-07-22",
          "2024-07-23",
          "2024-07-24",
          "2024-07-25",
          "2024-07-26",
          "2024-07-29",
          "2024-07-30",
          "2024-07-31",
          "2024-08-01",
          "2024-08-02",
          "2024-08-05",
          "2024-08-06",
          "2024-08-07",
          "2024-08-08",
          "2024-08-09",
          "2024-08-12",
          "2024-08-13",
          "2024-08-14",
          "2024-08-15",
          "2024-08-16",
          "2024-08-19",
          "2024-08-20",
          "2024-08-21",
          "2024-08-22",
          "2024-08-23",
          "2024-08-26",
          "2024-08-27",
          "2024-08-28",
          "2024-08-29",
          "2024-08-30",
          "2024-09-03",
          "2024-09-04",
          "2024-09-05",
          "2024-09-06",
          "2024-09-09",
          "2024-09-10",
          "2024-09-11",
          "2024-09-12",
          "2024-09-13",
          "2024-09-16",
          "2024-09-17",
          "2024-09-18",
          "2024-09-19",
          "2024-09-20",
          "2024-09-23",
          "2024-09-24",
          "2024-09-25",
          "2024-09-26",
          "2024-09-27",
          "2024-09-30",
          "2024-10-01",
          "2024-10-02",
          "2024-10-03",
          "2024-10-04",
          "2024-10-07",
          "2024-10-08",
          "2024-10-09",
          "2024-10-10",
          "2024-10-11",
          "2024-10-14",
          "2024-10-15",
          "2024-10-16",
          "2024-10-17",
          "2024-10-18",
          "2024-10-21",
          "2024-10-22",
          "2024-10-23",
          "2024-10-24",
          "2024-10-25",
          "2024-10-28",
          "2024-10-29",
          "2024-10-30",
          "2024-10-31",
          "2024-11-01",
          "2024-11-04",
          "2024-11-05",
          "2024-11-06",
          "2024-11-07",
          "2024-11-08",
          "2024-11-11",
          "2024-11-12",
          "2024-11-13",
          "2024-11-14",
          "2024-11-15",
          "2024-11-18",
          "2024-11-19",
          "2024-11-20",
          "2024-11-21",
          "2024-11-22",
          "2024-11-25",
          "2024-11-26",
          "2024-11-27",
          "2024-11-29",
          "2024-12-02",
          "2024-12-03",
          "2024-12-04",
          "2024-12-05",
          "2024-12-06",
          "2024-12-09",
          "2024-12-10",
          "2024-12-11",
          "2024-12-12",
          "2024-12-13",
          "2024-12-16",
          "2024-12-17",
          "2024-12-18",
          "2024-12-19",
          "2024-12-20",
          "2024-12-23",
          "2024-12-24",
          "2024-12-26",
          "2024-12-27",
          "2024-12-30",
          "2024-12-31",
          "2025-01-02",
          "2025-01-03",
          "2025-01-06",
          "2025-01-07",
          "2025-01-08",
          "2025-01-10",
          "2025-01-13",
          "2025-01-14",
          "2025-01-15",
          "2025-01-16",
          "2025-01-17",
          "2025-01-21",
          "2025-01-22",
          "2025-01-23",
          "2025-01-24",
          "2025-01-27",
          "2025-01-28",
          "2025-01-29",
          "2025-01-30",
          "2025-01-31",
          "2025-02-03",
          "2025-02-04",
          "2025-02-05",
          "2025-02-06",
          "2025-02-07",
          "2025-02-10",
          "2025-02-11",
          "2025-02-12",
          "2025-02-13",
          "2025-02-14",
          "2025-02-18",
          "2025-02-19",
          "2025-02-20",
          "2025-02-21",
          "2025-02-24",
          "2025-02-25",
          "2025-02-26",
          "2025-02-27",
          "2025-02-28",
          "2025-03-03",
          "2025-03-04",
          "2025-03-05",
          "2025-03-06",
          "2025-03-07",
          "2025-03-10",
          "2025-03-11",
          "2025-03-12",
          "2025-03-13",
          "2025-03-14",
          "2025-03-17",
          "2025-03-18",
          "2025-03-19",
          "2025-03-20",
          "2025-03-21",
          "2025-03-24",
          "2025-03-25",
          "2025-03-26",
          "2025-03-27",
          "2025-03-28",
          "2025-03-31",
          "2025-04-01",
          "2025-04-02",
          "2025-04-03",
          "2025-04-04",
          "2025-04-07",
          "2025-04-08",
          "2025-04-09",
          "2025-04-10",
          "2025-04-11",
          "2025-04-14",
          "2025-04-15",
          "2025-04-16",
          "2025-04-17",
          "2025-04-21",
          "2025-04-22",
          "2025-04-23",
          "2025-04-24",
          "2025-04-25",
          "2025-04-28",
          "2025-04-29",
          "2025-04-30",
          "2025-05-01",
          "2025-05-02",
          "2025-05-05",
          "2025-05-06",
          "2025-05-07",
          "2025-05-08",
          "2025-05-09",
          "2025-05-12",
          "2025-05-13",
          "2025-05-14",
          "2025-05-15",
          "2025-05-16",
          "2025-05-19",
          "2025-05-20",
          "2025-05-21",
          "2025-05-22",
          "2025-05-23",
          "2025-05-27",
          "2025-05-28",
          "2025-05-29",
          "2025-05-30",
          "2025-06-02",
          "2025-06-03",
          "2025-06-04",
          "2025-06-05",
          "2025-06-06",
          "2025-06-09",
          "2025-06-10",
          "2025-06-11",
          "2025-06-12",
          "2025-06-13",
          "2025-06-16",
          "2025-06-17",
          "2025-06-18",
          "2025-06-20",
          "2025-06-23",
          "2025-06-24",
          "2025-06-25",
          "2025-06-26",
          "2025-06-27",
          "2025-06-30",
          "2025-07-01",
          "2025-07-02",
          "2025-07-03",
          "2025-07-07",
          "2025-07-08",
          "2025-07-09",
          "2025-07-10",
          "2025-07-11",
          "2025-07-14",
          "2025-07-15",
          "2025-07-16",
          "2025-07-17",
          "2025-07-18",
          "2025-07-21",
          "2025-07-22",
          "2025-07-23",
          "2025-07-24",
          "2025-07-25",
          "2025-07-28",
          "2025-07-29",
          "2025-07-30",
          "2025-07-31",
          "2025-08-01",
          "2025-08-04",
          "2025-08-05",
          "2025-08-06",
          "2025-08-07",
          "2025-08-08",
          "2025-08-11",
          "2025-08-12",
          "2025-08-13",
          "2025-08-14",
          "2025-08-15",
          "2025-08-18",
          "2025-08-19",
          "2025-08-20",
          "2025-08-21",
          "2025-08-22",
          "2025-08-25",
          "2025-08-26",
          "2025-08-27",
          "2025-08-28",
          "2025-08-29",
          "2025-09-02",
          "2025-09-03",
          "2025-09-04",
          "2025-09-05",
          "2025-09-08",
          "2025-09-09"
         ],
         "xaxis": "x",
         "y": {
          "bdata": "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",
          "dtype": "f8"
         },
         "yaxis": "y"
        },
        {
         "name": "SMA 50",
         "type": "scatter",
         "x": [
          "2024-07-16",
          "2024-07-17",
          "2024-07-18",
          "2024-07-19",
          "2024-07-22",
          "2024-07-23",
          "2024-07-24",
          "2024-07-25",
          "2024-07-26",
          "2024-07-29",
          "2024-07-30",
          "2024-07-31",
          "2024-08-01",
          "2024-08-02",
          "2024-08-05",
          "2024-08-06",
          "2024-08-07",
          "2024-08-08",
          "2024-08-09",
          "2024-08-12",
          "2024-08-13",
          "2024-08-14",
          "2024-08-15",
          "2024-08-16",
          "2024-08-19",
          "2024-08-20",
          "2024-08-21",
          "2024-08-22",
          "2024-08-23",
          "2024-08-26",
          "2024-08-27",
          "2024-08-28",
          "2024-08-29",
          "2024-08-30",
          "2024-09-03",
          "2024-09-04",
          "2024-09-05",
          "2024-09-06",
          "2024-09-09",
          "2024-09-10",
          "2024-09-11",
          "2024-09-12",
          "2024-09-13",
          "2024-09-16",
          "2024-09-17",
          "2024-09-18",
          "2024-09-19",
          "2024-09-20",
          "2024-09-23",
          "2024-09-24",
          "2024-09-25",
          "2024-09-26",
          "2024-09-27",
          "2024-09-30",
          "2024-10-01",
          "2024-10-02",
          "2024-10-03",
          "2024-10-04",
          "2024-10-07",
          "2024-10-08",
          "2024-10-09",
          "2024-10-10",
          "2024-10-11",
          "2024-10-14",
          "2024-10-15",
          "2024-10-16",
          "2024-10-17",
          "2024-10-18",
          "2024-10-21",
          "2024-10-22",
          "2024-10-23",
          "2024-10-24",
          "2024-10-25",
          "2024-10-28",
          "2024-10-29",
          "2024-10-30",
          "2024-10-31",
          "2024-11-01",
          "2024-11-04",
          "2024-11-05",
          "2024-11-06",
          "2024-11-07",
          "2024-11-08",
          "2024-11-11",
          "2024-11-12",
          "2024-11-13",
          "2024-11-14",
          "2024-11-15",
          "2024-11-18",
          "2024-11-19",
          "2024-11-20",
          "2024-11-21",
          "2024-11-22",
          "2024-11-25",
          "2024-11-26",
          "2024-11-27",
          "2024-11-29",
          "2024-12-02",
          "2024-12-03",
          "2024-12-04",
          "2024-12-05",
          "2024-12-06",
          "2024-12-09",
          "2024-12-10",
          "2024-12-11",
          "2024-12-12",
          "2024-12-13",
          "2024-12-16",
          "2024-12-17",
          "2024-12-18",
          "2024-12-19",
          "2024-12-20",
          "2024-12-23",
          "2024-12-24",
          "2024-12-26",
          "2024-12-27",
          "2024-12-30",
          "2024-12-31",
          "2025-01-02",
          "2025-01-03",
          "2025-01-06",
          "2025-01-07",
          "2025-01-08",
          "2025-01-10",
          "2025-01-13",
          "2025-01-14",
          "2025-01-15",
          "2025-01-16",
          "2025-01-17",
          "2025-01-21",
          "2025-01-22",
          "2025-01-23",
          "2025-01-24",
          "2025-01-27",
          "2025-01-28",
          "2025-01-29",
          "2025-01-30",
          "2025-01-31",
          "2025-02-03",
          "2025-02-04",
          "2025-02-05",
          "2025-02-06",
          "2025-02-07",
          "2025-02-10",
          "2025-02-11",
          "2025-02-12",
          "2025-02-13",
          "2025-02-14",
          "2025-02-18",
          "2025-02-19",
          "2025-02-20",
          "2025-02-21",
          "2025-02-24",
          "2025-02-25",
          "2025-02-26",
          "2025-02-27",
          "2025-02-28",
          "2025-03-03",
          "2025-03-04",
          "2025-03-05",
          "2025-03-06",
          "2025-03-07",
          "2025-03-10",
          "2025-03-11",
          "2025-03-12",
          "2025-03-13",
          "2025-03-14",
          "2025-03-17",
          "2025-03-18",
          "2025-03-19",
          "2025-03-20",
          "2025-03-21",
          "2025-03-24",
          "2025-03-25",
          "2025-03-26",
          "2025-03-27",
          "2025-03-28",
          "2025-03-31",
          "2025-04-01",
          "2025-04-02",
          "2025-04-03",
          "2025-04-04",
          "2025-04-07",
          "2025-04-08",
          "2025-04-09",
          "2025-04-10",
          "2025-04-11",
          "2025-04-14",
          "2025-04-15",
          "2025-04-16",
          "2025-04-17",
          "2025-04-21",
          "2025-04-22",
          "2025-04-23",
          "2025-04-24",
          "2025-04-25",
          "2025-04-28",
          "2025-04-29",
          "2025-04-30",
          "2025-05-01",
          "2025-05-02",
          "2025-05-05",
          "2025-05-06",
          "2025-05-07",
          "2025-05-08",
          "2025-05-09",
          "2025-05-12",
          "2025-05-13",
          "2025-05-14",
          "2025-05-15",
          "2025-05-16",
          "2025-05-19",
          "2025-05-20",
          "2025-05-21",
          "2025-05-22",
          "2025-05-23",
          "2025-05-27",
          "2025-05-28",
          "2025-05-29",
          "2025-05-30",
          "2025-06-02",
          "2025-06-03",
          "2025-06-04",
          "2025-06-05",
          "2025-06-06",
          "2025-06-09",
          "2025-06-10",
          "2025-06-11",
          "2025-06-12",
          "2025-06-13",
          "2025-06-16",
          "2025-06-17",
          "2025-06-18",
          "2025-06-20",
          "2025-06-23",
          "2025-06-24",
          "2025-06-25",
          "2025-06-26",
          "2025-06-27",
          "2025-06-30",
          "2025-07-01",
          "2025-07-02",
          "2025-07-03",
          "2025-07-07",
          "2025-07-08",
          "2025-07-09",
          "2025-07-10",
          "2025-07-11",
          "2025-07-14",
          "2025-07-15",
          "2025-07-16",
          "2025-07-17",
          "2025-07-18",
          "2025-07-21",
          "2025-07-22",
          "2025-07-23",
          "2025-07-24",
          "2025-07-25",
          "2025-07-28",
          "2025-07-29",
          "2025-07-30",
          "2025-07-31",
          "2025-08-01",
          "2025-08-04",
          "2025-08-05",
          "2025-08-06",
          "2025-08-07",
          "2025-08-08",
          "2025-08-11",
          "2025-08-12",
          "2025-08-13",
          "2025-08-14",
          "2025-08-15",
          "2025-08-18",
          "2025-08-19",
          "2025-08-20",
          "2025-08-21",
          "2025-08-22",
          "2025-08-25",
          "2025-08-26",
          "2025-08-27",
          "2025-08-28",
          "2025-08-29",
          "2025-09-02",
          "2025-09-03",
          "2025-09-04",
          "2025-09-05",
          "2025-09-08",
          "2025-09-09"
         ],
         "xaxis": "x",
         "y": {
          "bdata": "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",
          "dtype": "f8"
         },
         "yaxis": "y"
        }
       ],
       "layout": {
        "annotations": [
         {
          "font": {
           "size": 8
          },
          "showarrow": false,
          "text": "Date: 2025-09-09, Open:10.16, High:10.26, Low:9.13, Close: 9.59",
          "x": 0.01,
          "xref": "x domain",
          "y": 1,
          "yref": "y domain"
         }
        ],
        "height": 400,
        "legend": {
         "font": {
          "size": 8
         },
         "title": {
          "font": {
           "family": "Arial"
          }
         }
        },
        "template": {
         "data": {
          "bar": [
           {
            "error_x": {
             "color": "#2a3f5f"
            },
            "error_y": {
             "color": "#2a3f5f"
            },
            "marker": {
             "line": {
              "color": "#E5ECF6",
              "width": 0.5
             },
             "pattern": {
              "fillmode": "overlay",
              "size": 10,
              "solidity": 0.2
             }
            },
            "type": "bar"
           }
          ],
          "barpolar": [
           {
            "marker": {
             "line": {
              "color": "#E5ECF6",
              "width": 0.5
             },
             "pattern": {
              "fillmode": "overlay",
              "size": 10,
              "solidity": 0.2
             }
            },
            "type": "barpolar"
           }
          ],
          "carpet": [
           {
            "aaxis": {
             "endlinecolor": "#2a3f5f",
             "gridcolor": "white",
             "linecolor": "white",
             "minorgridcolor": "white",
             "startlinecolor": "#2a3f5f"
            },
            "baxis": {
             "endlinecolor": "#2a3f5f",
             "gridcolor": "white",
             "linecolor": "white",
             "minorgridcolor": "white",
             "startlinecolor": "#2a3f5f"
            },
            "type": "carpet"
           }
          ],
          "choropleth": [
           {
            "colorbar": {
             "outlinewidth": 0,
             "ticks": ""
            },
            "type": "choropleth"
           }
          ],
          "contour": [
           {
            "colorbar": {
             "outlinewidth": 0,
             "ticks": ""
            },
            "colorscale": [
             [
              0,
              "#0d0887"
             ],
             [
              0.1111111111111111,
              "#46039f"
             ],
             [
              0.2222222222222222,
              "#7201a8"
             ],
             [
              0.3333333333333333,
              "#9c179e"
             ],
             [
              0.4444444444444444,
              "#bd3786"
             ],
             [
              0.5555555555555556,
              "#d8576b"
             ],
             [
              0.6666666666666666,
              "#ed7953"
             ],
             [
              0.7777777777777778,
              "#fb9f3a"
             ],
             [
              0.8888888888888888,
              "#fdca26"
             ],
             [
              1,
              "#f0f921"
             ]
            ],
            "type": "contour"
           }
          ],
          "contourcarpet": [
           {
            "colorbar": {
             "outlinewidth": 0,
             "ticks": ""
            },
            "type": "contourcarpet"
           }
          ],
          "heatmap": [
           {
            "colorbar": {
             "outlinewidth": 0,
             "ticks": ""
            },
            "colorscale": [
             [
              0,
              "#0d0887"
             ],
             [
              0.1111111111111111,
              "#46039f"
             ],
             [
              0.2222222222222222,
              "#7201a8"
             ],
             [
              0.3333333333333333,
              "#9c179e"
             ],
             [
              0.4444444444444444,
              "#bd3786"
             ],
             [
              0.5555555555555556,
              "#d8576b"
             ],
             [
              0.6666666666666666,
              "#ed7953"
             ],
             [
              0.7777777777777778,
              "#fb9f3a"
             ],
             [
              0.8888888888888888,
              "#fdca26"
             ],
             [
              1,
              "#f0f921"
             ]
            ],
            "type": "heatmap"
           }
          ],
          "histogram": [
           {
            "marker": {
             "pattern": {
              "fillmode": "overlay",
              "size": 10,
              "solidity": 0.2
             }
            },
            "type": "histogram"
           }
          ],
          "histogram2d": [
           {
            "colorbar": {
             "outlinewidth": 0,
             "ticks": ""
            },
            "colorscale": [
             [
              0,
              "#0d0887"
             ],
             [
              0.1111111111111111,
              "#46039f"
             ],
             [
              0.2222222222222222,
              "#7201a8"
             ],
             [
              0.3333333333333333,
              "#9c179e"
             ],
             [
              0.4444444444444444,
              "#bd3786"
             ],
             [
              0.5555555555555556,
              "#d8576b"
             ],
             [
              0.6666666666666666,
              "#ed7953"
             ],
             [
              0.7777777777777778,
              "#fb9f3a"
             ],
             [
              0.8888888888888888,
              "#fdca26"
             ],
             [
              1,
              "#f0f921"
             ]
            ],
            "type": "histogram2d"
           }
          ],
          "histogram2dcontour": [
           {
            "colorbar": {
             "outlinewidth": 0,
             "ticks": ""
            },
            "colorscale": [
             [
              0,
              "#0d0887"
             ],
             [
              0.1111111111111111,
              "#46039f"
             ],
             [
              0.2222222222222222,
              "#7201a8"
             ],
             [
              0.3333333333333333,
              "#9c179e"
             ],
             [
              0.4444444444444444,
              "#bd3786"
             ],
             [
              0.5555555555555556,
              "#d8576b"
             ],
             [
              0.6666666666666666,
              "#ed7953"
             ],
             [
              0.7777777777777778,
              "#fb9f3a"
             ],
             [
              0.8888888888888888,
              "#fdca26"
             ],
             [
              1,
              "#f0f921"
             ]
            ],
            "type": "histogram2dcontour"
           }
          ],
          "mesh3d": [
           {
            "colorbar": {
             "outlinewidth": 0,
             "ticks": ""
            },
            "type": "mesh3d"
           }
          ],
          "parcoords": [
           {
            "line": {
             "colorbar": {
              "outlinewidth": 0,
              "ticks": ""
             }
            },
            "type": "parcoords"
           }
          ],
          "pie": [
           {
            "automargin": true,
            "type": "pie"
           }
          ],
          "scatter": [
           {
            "fillpattern": {
             "fillmode": "overlay",
             "size": 10,
             "solidity": 0.2
            },
            "type": "scatter"
           }
          ],
          "scatter3d": [
           {
            "line": {
             "colorbar": {
              "outlinewidth": 0,
              "ticks": ""
             }
            },
            "marker": {
             "colorbar": {
              "outlinewidth": 0,
              "ticks": ""
             }
            },
            "type": "scatter3d"
           }
          ],
          "scattercarpet": [
           {
            "marker": {
             "colorbar": {
              "outlinewidth": 0,
              "ticks": ""
             }
            },
            "type": "scattercarpet"
           }
          ],
          "scattergeo": [
           {
            "marker": {
             "colorbar": {
              "outlinewidth": 0,
              "ticks": ""
             }
            },
            "type": "scattergeo"
           }
          ],
          "scattergl": [
           {
            "marker": {
             "colorbar": {
              "outlinewidth": 0,
              "ticks": ""
             }
            },
            "type": "scattergl"
           }
          ],
          "scattermap": [
           {
            "marker": {
             "colorbar": {
              "outlinewidth": 0,
              "ticks": ""
             }
            },
            "type": "scattermap"
           }
          ],
          "scattermapbox": [
           {
            "marker": {
             "colorbar": {
              "outlinewidth": 0,
              "ticks": ""
             }
            },
            "type": "scattermapbox"
           }
          ],
          "scatterpolar": [
           {
            "marker": {
             "colorbar": {
              "outlinewidth": 0,
              "ticks": ""
             }
            },
            "type": "scatterpolar"
           }
          ],
          "scatterpolargl": [
           {
            "marker": {
             "colorbar": {
              "outlinewidth": 0,
              "ticks": ""
             }
            },
            "type": "scatterpolargl"
           }
          ],
          "scatterternary": [
           {
            "marker": {
             "colorbar": {
              "outlinewidth": 0,
              "ticks": ""
             }
            },
            "type": "scatterternary"
           }
          ],
          "surface": [
           {
            "colorbar": {
             "outlinewidth": 0,
             "ticks": ""
            },
            "colorscale": [
             [
              0,
              "#0d0887"
             ],
             [
              0.1111111111111111,
              "#46039f"
             ],
             [
              0.2222222222222222,
              "#7201a8"
             ],
             [
              0.3333333333333333,
              "#9c179e"
             ],
             [
              0.4444444444444444,
              "#bd3786"
             ],
             [
              0.5555555555555556,
              "#d8576b"
             ],
             [
              0.6666666666666666,
              "#ed7953"
             ],
             [
              0.7777777777777778,
              "#fb9f3a"
             ],
             [
              0.8888888888888888,
              "#fdca26"
             ],
             [
              1,
              "#f0f921"
             ]
            ],
            "type": "surface"
           }
          ],
          "table": [
           {
            "cells": {
             "fill": {
              "color": "#EBF0F8"
             },
             "line": {
              "color": "white"
             }
            },
            "header": {
             "fill": {
              "color": "#C8D4E3"
             },
             "line": {
              "color": "white"
             }
            },
            "type": "table"
           }
          ]
         },
         "layout": {
          "annotationdefaults": {
           "arrowcolor": "#2a3f5f",
           "arrowhead": 0,
           "arrowwidth": 1
          },
          "autotypenumbers": "strict",
          "coloraxis": {
           "colorbar": {
            "outlinewidth": 0,
            "ticks": ""
           }
          },
          "colorscale": {
           "diverging": [
            [
             0,
             "#8e0152"
            ],
            [
             0.1,
             "#c51b7d"
            ],
            [
             0.2,
             "#de77ae"
            ],
            [
             0.3,
             "#f1b6da"
            ],
            [
             0.4,
             "#fde0ef"
            ],
            [
             0.5,
             "#f7f7f7"
            ],
            [
             0.6,
             "#e6f5d0"
            ],
            [
             0.7,
             "#b8e186"
            ],
            [
             0.8,
             "#7fbc41"
            ],
            [
             0.9,
             "#4d9221"
            ],
            [
             1,
             "#276419"
            ]
           ],
           "sequential": [
            [
             0,
             "#0d0887"
            ],
            [
             0.1111111111111111,
             "#46039f"
            ],
            [
             0.2222222222222222,
             "#7201a8"
            ],
            [
             0.3333333333333333,
             "#9c179e"
            ],
            [
             0.4444444444444444,
             "#bd3786"
            ],
            [
             0.5555555555555556,
             "#d8576b"
            ],
            [
             0.6666666666666666,
             "#ed7953"
            ],
            [
             0.7777777777777778,
             "#fb9f3a"
            ],
            [
             0.8888888888888888,
             "#fdca26"
            ],
            [
             1,
             "#f0f921"
            ]
           ],
           "sequentialminus": [
            [
             0,
             "#0d0887"
            ],
            [
             0.1111111111111111,
             "#46039f"
            ],
            [
             0.2222222222222222,
             "#7201a8"
            ],
            [
             0.3333333333333333,
             "#9c179e"
            ],
            [
             0.4444444444444444,
             "#bd3786"
            ],
            [
             0.5555555555555556,
             "#d8576b"
            ],
            [
             0.6666666666666666,
             "#ed7953"
            ],
            [
             0.7777777777777778,
             "#fb9f3a"
            ],
            [
             0.8888888888888888,
             "#fdca26"
            ],
            [
             1,
             "#f0f921"
            ]
           ]
          },
          "colorway": [
           "#636efa",
           "#EF553B",
           "#00cc96",
           "#ab63fa",
           "#FFA15A",
           "#19d3f3",
           "#FF6692",
           "#B6E880",
           "#FF97FF",
           "#FECB52"
          ],
          "font": {
           "color": "#2a3f5f"
          },
          "geo": {
           "bgcolor": "white",
           "lakecolor": "white",
           "landcolor": "#E5ECF6",
           "showlakes": true,
           "showland": true,
           "subunitcolor": "white"
          },
          "hoverlabel": {
           "align": "left"
          },
          "hovermode": "closest",
          "mapbox": {
           "style": "light"
          },
          "paper_bgcolor": "white",
          "plot_bgcolor": "#E5ECF6",
          "polar": {
           "angularaxis": {
            "gridcolor": "white",
            "linecolor": "white",
            "ticks": ""
           },
           "bgcolor": "#E5ECF6",
           "radialaxis": {
            "gridcolor": "white",
            "linecolor": "white",
            "ticks": ""
           }
          },
          "scene": {
           "xaxis": {
            "backgroundcolor": "#E5ECF6",
            "gridcolor": "white",
            "gridwidth": 2,
            "linecolor": "white",
            "showbackground": true,
            "ticks": "",
            "zerolinecolor": "white"
           },
           "yaxis": {
            "backgroundcolor": "#E5ECF6",
            "gridcolor": "white",
            "gridwidth": 2,
            "linecolor": "white",
            "showbackground": true,
            "ticks": "",
            "zerolinecolor": "white"
           },
           "zaxis": {
            "backgroundcolor": "#E5ECF6",
            "gridcolor": "white",
            "gridwidth": 2,
            "linecolor": "white",
            "showbackground": true,
            "ticks": "",
            "zerolinecolor": "white"
           }
          },
          "shapedefaults": {
           "line": {
            "color": "#2a3f5f"
           }
          },
          "ternary": {
           "aaxis": {
            "gridcolor": "white",
            "linecolor": "white",
            "ticks": ""
           },
           "baxis": {
            "gridcolor": "white",
            "linecolor": "white",
            "ticks": ""
           },
           "bgcolor": "#E5ECF6",
           "caxis": {
            "gridcolor": "white",
            "linecolor": "white",
            "ticks": ""
           }
          },
          "title": {
           "x": 0.05
          },
          "xaxis": {
           "automargin": true,
           "gridcolor": "white",
           "linecolor": "white",
           "ticks": "",
           "title": {
            "standoff": 15
           },
           "zerolinecolor": "white",
           "zerolinewidth": 2
          },
          "yaxis": {
           "automargin": true,
           "gridcolor": "white",
           "linecolor": "white",
           "ticks": "",
           "title": {
            "standoff": 15
           },
           "zerolinecolor": "white",
           "zerolinewidth": 2
          }
         }
        },
        "title": {
         "text": "TOP 20",
         "x": 0.5
        },
        "width": 600,
        "xaxis": {
         "anchor": "y",
         "domain": [
          0,
          0.94
         ]
        },
        "yaxis": {
         "anchor": "x",
         "domain": [
          0,
          1
         ],
         "side": "right"
        },
        "yaxis2": {
         "anchor": "x",
         "overlaying": "y",
         "side": "right"
        }
       }
      }
     },
     "metadata": {},
     "output_type": "display_data"
    },
    {
     "data": {
      "application/vnd.plotly.v1+json": {
       "config": {
        "plotlyServerURL": "https://plot.ly"
       },
       "data": [
        {
         "name": "ALAB: 70.82 %",
         "type": "scatter",
         "x": [
          "2024-07-16",
          "2024-07-17",
          "2024-07-18",
          "2024-07-19",
          "2024-07-22",
          "2024-07-23",
          "2024-07-24",
          "2024-07-25",
          "2024-07-26",
          "2024-07-29",
          "2024-07-30",
          "2024-07-31",
          "2024-08-01",
          "2024-08-02",
          "2024-08-05",
          "2024-08-06",
          "2024-08-07",
          "2024-08-08",
          "2024-08-09",
          "2024-08-12",
          "2024-08-13",
          "2024-08-14",
          "2024-08-15",
          "2024-08-16",
          "2024-08-19",
          "2024-08-20",
          "2024-08-21",
          "2024-08-22",
          "2024-08-23",
          "2024-08-26",
          "2024-08-27",
          "2024-08-28",
          "2024-08-29",
          "2024-08-30",
          "2024-09-03",
          "2024-09-04",
          "2024-09-05",
          "2024-09-06",
          "2024-09-09",
          "2024-09-10",
          "2024-09-11",
          "2024-09-12",
          "2024-09-13",
          "2024-09-16",
          "2024-09-17",
          "2024-09-18",
          "2024-09-19",
          "2024-09-20",
          "2024-09-23",
          "2024-09-24",
          "2024-09-25",
          "2024-09-26",
          "2024-09-27",
          "2024-09-30",
          "2024-10-01",
          "2024-10-02",
          "2024-10-03",
          "2024-10-04",
          "2024-10-07",
          "2024-10-08",
          "2024-10-09",
          "2024-10-10",
          "2024-10-11",
          "2024-10-14",
          "2024-10-15",
          "2024-10-16",
          "2024-10-17",
          "2024-10-18",
          "2024-10-21",
          "2024-10-22",
          "2024-10-23",
          "2024-10-24",
          "2024-10-25",
          "2024-10-28",
          "2024-10-29",
          "2024-10-30",
          "2024-10-31",
          "2024-11-01",
          "2024-11-04",
          "2024-11-05",
          "2024-11-06",
          "2024-11-07",
          "2024-11-08",
          "2024-11-11",
          "2024-11-12",
          "2024-11-13",
          "2024-11-14",
          "2024-11-15",
          "2024-11-18",
          "2024-11-19",
          "2024-11-20",
          "2024-11-21",
          "2024-11-22",
          "2024-11-25",
          "2024-11-26",
          "2024-11-27",
          "2024-11-29",
          "2024-12-02",
          "2024-12-03",
          "2024-12-04",
          "2024-12-05",
          "2024-12-06",
          "2024-12-09",
          "2024-12-10",
          "2024-12-11",
          "2024-12-12",
          "2024-12-13",
          "2024-12-16",
          "2024-12-17",
          "2024-12-18",
          "2024-12-19",
          "2024-12-20",
          "2024-12-23",
          "2024-12-24",
          "2024-12-26",
          "2024-12-27",
          "2024-12-30",
          "2024-12-31",
          "2025-01-02",
          "2025-01-03",
          "2025-01-06",
          "2025-01-07",
          "2025-01-08",
          "2025-01-10",
          "2025-01-13",
          "2025-01-14",
          "2025-01-15",
          "2025-01-16",
          "2025-01-17",
          "2025-01-21",
          "2025-01-22",
          "2025-01-23",
          "2025-01-24",
          "2025-01-27",
          "2025-01-28",
          "2025-01-29",
          "2025-01-30",
          "2025-01-31",
          "2025-02-03",
          "2025-02-04",
          "2025-02-05",
          "2025-02-06",
          "2025-02-07",
          "2025-02-10",
          "2025-02-11",
          "2025-02-12",
          "2025-02-13",
          "2025-02-14",
          "2025-02-18",
          "2025-02-19",
          "2025-02-20",
          "2025-02-21",
          "2025-02-24",
          "2025-02-25",
          "2025-02-26",
          "2025-02-27",
          "2025-02-28",
          "2025-03-03",
          "2025-03-04",
          "2025-03-05",
          "2025-03-06",
          "2025-03-07",
          "2025-03-10",
          "2025-03-11",
          "2025-03-12",
          "2025-03-13",
          "2025-03-14",
          "2025-03-17",
          "2025-03-18",
          "2025-03-19",
          "2025-03-20",
          "2025-03-21",
          "2025-03-24",
          "2025-03-25",
          "2025-03-26",
          "2025-03-27",
          "2025-03-28",
          "2025-03-31",
          "2025-04-01",
          "2025-04-02",
          "2025-04-03",
          "2025-04-04",
          "2025-04-07",
          "2025-04-08",
          "2025-04-09",
          "2025-04-10",
          "2025-04-11",
          "2025-04-14",
          "2025-04-15",
          "2025-04-16",
          "2025-04-17",
          "2025-04-21",
          "2025-04-22",
          "2025-04-23",
          "2025-04-24",
          "2025-04-25",
          "2025-04-28",
          "2025-04-29",
          "2025-04-30",
          "2025-05-01",
          "2025-05-02",
          "2025-05-05",
          "2025-05-06",
          "2025-05-07",
          "2025-05-08",
          "2025-05-09",
          "2025-05-12",
          "2025-05-13",
          "2025-05-14",
          "2025-05-15",
          "2025-05-16",
          "2025-05-19",
          "2025-05-20",
          "2025-05-21",
          "2025-05-22",
          "2025-05-23",
          "2025-05-27",
          "2025-05-28",
          "2025-05-29",
          "2025-05-30",
          "2025-06-02",
          "2025-06-03",
          "2025-06-04",
          "2025-06-05",
          "2025-06-06",
          "2025-06-09",
          "2025-06-10",
          "2025-06-11",
          "2025-06-12",
          "2025-06-13",
          "2025-06-16",
          "2025-06-17",
          "2025-06-18",
          "2025-06-20",
          "2025-06-23",
          "2025-06-24",
          "2025-06-25",
          "2025-06-26",
          "2025-06-27",
          "2025-06-30",
          "2025-07-01",
          "2025-07-02",
          "2025-07-03",
          "2025-07-07",
          "2025-07-08",
          "2025-07-09",
          "2025-07-10",
          "2025-07-11",
          "2025-07-14",
          "2025-07-15",
          "2025-07-16",
          "2025-07-17",
          "2025-07-18",
          "2025-07-21",
          "2025-07-22",
          "2025-07-23",
          "2025-07-24",
          "2025-07-25",
          "2025-07-28",
          "2025-07-29",
          "2025-07-30",
          "2025-07-31",
          "2025-08-01",
          "2025-08-04",
          "2025-08-05",
          "2025-08-06",
          "2025-08-07",
          "2025-08-08",
          "2025-08-11",
          "2025-08-12",
          "2025-08-13",
          "2025-08-14",
          "2025-08-15",
          "2025-08-18",
          "2025-08-19",
          "2025-08-20",
          "2025-08-21",
          "2025-08-22",
          "2025-08-25",
          "2025-08-26",
          "2025-08-27",
          "2025-08-28",
          "2025-08-29",
          "2025-09-02",
          "2025-09-03",
          "2025-09-04",
          "2025-09-05",
          "2025-09-08",
          "2025-09-09"
         ],
         "xaxis": "x",
         "y": {
          "bdata": "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",
          "dtype": "f8"
         },
         "yaxis": "y"
        },
        {
         "name": "SMA 50",
         "type": "scatter",
         "x": [
          "2024-07-16",
          "2024-07-17",
          "2024-07-18",
          "2024-07-19",
          "2024-07-22",
          "2024-07-23",
          "2024-07-24",
          "2024-07-25",
          "2024-07-26",
          "2024-07-29",
          "2024-07-30",
          "2024-07-31",
          "2024-08-01",
          "2024-08-02",
          "2024-08-05",
          "2024-08-06",
          "2024-08-07",
          "2024-08-08",
          "2024-08-09",
          "2024-08-12",
          "2024-08-13",
          "2024-08-14",
          "2024-08-15",
          "2024-08-16",
          "2024-08-19",
          "2024-08-20",
          "2024-08-21",
          "2024-08-22",
          "2024-08-23",
          "2024-08-26",
          "2024-08-27",
          "2024-08-28",
          "2024-08-29",
          "2024-08-30",
          "2024-09-03",
          "2024-09-04",
          "2024-09-05",
          "2024-09-06",
          "2024-09-09",
          "2024-09-10",
          "2024-09-11",
          "2024-09-12",
          "2024-09-13",
          "2024-09-16",
          "2024-09-17",
          "2024-09-18",
          "2024-09-19",
          "2024-09-20",
          "2024-09-23",
          "2024-09-24",
          "2024-09-25",
          "2024-09-26",
          "2024-09-27",
          "2024-09-30",
          "2024-10-01",
          "2024-10-02",
          "2024-10-03",
          "2024-10-04",
          "2024-10-07",
          "2024-10-08",
          "2024-10-09",
          "2024-10-10",
          "2024-10-11",
          "2024-10-14",
          "2024-10-15",
          "2024-10-16",
          "2024-10-17",
          "2024-10-18",
          "2024-10-21",
          "2024-10-22",
          "2024-10-23",
          "2024-10-24",
          "2024-10-25",
          "2024-10-28",
          "2024-10-29",
          "2024-10-30",
          "2024-10-31",
          "2024-11-01",
          "2024-11-04",
          "2024-11-05",
          "2024-11-06",
          "2024-11-07",
          "2024-11-08",
          "2024-11-11",
          "2024-11-12",
          "2024-11-13",
          "2024-11-14",
          "2024-11-15",
          "2024-11-18",
          "2024-11-19",
          "2024-11-20",
          "2024-11-21",
          "2024-11-22",
          "2024-11-25",
          "2024-11-26",
          "2024-11-27",
          "2024-11-29",
          "2024-12-02",
          "2024-12-03",
          "2024-12-04",
          "2024-12-05",
          "2024-12-06",
          "2024-12-09",
          "2024-12-10",
          "2024-12-11",
          "2024-12-12",
          "2024-12-13",
          "2024-12-16",
          "2024-12-17",
          "2024-12-18",
          "2024-12-19",
          "2024-12-20",
          "2024-12-23",
          "2024-12-24",
          "2024-12-26",
          "2024-12-27",
          "2024-12-30",
          "2024-12-31",
          "2025-01-02",
          "2025-01-03",
          "2025-01-06",
          "2025-01-07",
          "2025-01-08",
          "2025-01-10",
          "2025-01-13",
          "2025-01-14",
          "2025-01-15",
          "2025-01-16",
          "2025-01-17",
          "2025-01-21",
          "2025-01-22",
          "2025-01-23",
          "2025-01-24",
          "2025-01-27",
          "2025-01-28",
          "2025-01-29",
          "2025-01-30",
          "2025-01-31",
          "2025-02-03",
          "2025-02-04",
          "2025-02-05",
          "2025-02-06",
          "2025-02-07",
          "2025-02-10",
          "2025-02-11",
          "2025-02-12",
          "2025-02-13",
          "2025-02-14",
          "2025-02-18",
          "2025-02-19",
          "2025-02-20",
          "2025-02-21",
          "2025-02-24",
          "2025-02-25",
          "2025-02-26",
          "2025-02-27",
          "2025-02-28",
          "2025-03-03",
          "2025-03-04",
          "2025-03-05",
          "2025-03-06",
          "2025-03-07",
          "2025-03-10",
          "2025-03-11",
          "2025-03-12",
          "2025-03-13",
          "2025-03-14",
          "2025-03-17",
          "2025-03-18",
          "2025-03-19",
          "2025-03-20",
          "2025-03-21",
          "2025-03-24",
          "2025-03-25",
          "2025-03-26",
          "2025-03-27",
          "2025-03-28",
          "2025-03-31",
          "2025-04-01",
          "2025-04-02",
          "2025-04-03",
          "2025-04-04",
          "2025-04-07",
          "2025-04-08",
          "2025-04-09",
          "2025-04-10",
          "2025-04-11",
          "2025-04-14",
          "2025-04-15",
          "2025-04-16",
          "2025-04-17",
          "2025-04-21",
          "2025-04-22",
          "2025-04-23",
          "2025-04-24",
          "2025-04-25",
          "2025-04-28",
          "2025-04-29",
          "2025-04-30",
          "2025-05-01",
          "2025-05-02",
          "2025-05-05",
          "2025-05-06",
          "2025-05-07",
          "2025-05-08",
          "2025-05-09",
          "2025-05-12",
          "2025-05-13",
          "2025-05-14",
          "2025-05-15",
          "2025-05-16",
          "2025-05-19",
          "2025-05-20",
          "2025-05-21",
          "2025-05-22",
          "2025-05-23",
          "2025-05-27",
          "2025-05-28",
          "2025-05-29",
          "2025-05-30",
          "2025-06-02",
          "2025-06-03",
          "2025-06-04",
          "2025-06-05",
          "2025-06-06",
          "2025-06-09",
          "2025-06-10",
          "2025-06-11",
          "2025-06-12",
          "2025-06-13",
          "2025-06-16",
          "2025-06-17",
          "2025-06-18",
          "2025-06-20",
          "2025-06-23",
          "2025-06-24",
          "2025-06-25",
          "2025-06-26",
          "2025-06-27",
          "2025-06-30",
          "2025-07-01",
          "2025-07-02",
          "2025-07-03",
          "2025-07-07",
          "2025-07-08",
          "2025-07-09",
          "2025-07-10",
          "2025-07-11",
          "2025-07-14",
          "2025-07-15",
          "2025-07-16",
          "2025-07-17",
          "2025-07-18",
          "2025-07-21",
          "2025-07-22",
          "2025-07-23",
          "2025-07-24",
          "2025-07-25",
          "2025-07-28",
          "2025-07-29",
          "2025-07-30",
          "2025-07-31",
          "2025-08-01",
          "2025-08-04",
          "2025-08-05",
          "2025-08-06",
          "2025-08-07",
          "2025-08-08",
          "2025-08-11",
          "2025-08-12",
          "2025-08-13",
          "2025-08-14",
          "2025-08-15",
          "2025-08-18",
          "2025-08-19",
          "2025-08-20",
          "2025-08-21",
          "2025-08-22",
          "2025-08-25",
          "2025-08-26",
          "2025-08-27",
          "2025-08-28",
          "2025-08-29",
          "2025-09-02",
          "2025-09-03",
          "2025-09-04",
          "2025-09-05",
          "2025-09-08",
          "2025-09-09"
         ],
         "xaxis": "x",
         "y": {
          "bdata": "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",
          "dtype": "f8"
         },
         "yaxis": "y"
        }
       ],
       "layout": {
        "annotations": [
         {
          "font": {
           "size": 8
          },
          "showarrow": false,
          "text": "Date: 2025-09-09, Open:213.82, High:217.92, Low:208.28, Close: 213.3",
          "x": 0.01,
          "xref": "x domain",
          "y": 1,
          "yref": "y domain"
         }
        ],
        "height": 400,
        "legend": {
         "font": {
          "size": 8
         },
         "title": {
          "font": {
           "family": "Arial"
          }
         }
        },
        "template": {
         "data": {
          "bar": [
           {
            "error_x": {
             "color": "#2a3f5f"
            },
            "error_y": {
             "color": "#2a3f5f"
            },
            "marker": {
             "line": {
              "color": "#E5ECF6",
              "width": 0.5
             },
             "pattern": {
              "fillmode": "overlay",
              "size": 10,
              "solidity": 0.2
             }
            },
            "type": "bar"
           }
          ],
          "barpolar": [
           {
            "marker": {
             "line": {
              "color": "#E5ECF6",
              "width": 0.5
             },
             "pattern": {
              "fillmode": "overlay",
              "size": 10,
              "solidity": 0.2
             }
            },
            "type": "barpolar"
           }
          ],
          "carpet": [
           {
            "aaxis": {
             "endlinecolor": "#2a3f5f",
             "gridcolor": "white",
             "linecolor": "white",
             "minorgridcolor": "white",
             "startlinecolor": "#2a3f5f"
            },
            "baxis": {
             "endlinecolor": "#2a3f5f",
             "gridcolor": "white",
             "linecolor": "white",
             "minorgridcolor": "white",
             "startlinecolor": "#2a3f5f"
            },
            "type": "carpet"
           }
          ],
          "choropleth": [
           {
            "colorbar": {
             "outlinewidth": 0,
             "ticks": ""
            },
            "type": "choropleth"
           }
          ],
          "contour": [
           {
            "colorbar": {
             "outlinewidth": 0,
             "ticks": ""
            },
            "colorscale": [
             [
              0,
              "#0d0887"
             ],
             [
              0.1111111111111111,
              "#46039f"
             ],
             [
              0.2222222222222222,
              "#7201a8"
             ],
             [
              0.3333333333333333,
              "#9c179e"
             ],
             [
              0.4444444444444444,
              "#bd3786"
             ],
             [
              0.5555555555555556,
              "#d8576b"
             ],
             [
              0.6666666666666666,
              "#ed7953"
             ],
             [
              0.7777777777777778,
              "#fb9f3a"
             ],
             [
              0.8888888888888888,
              "#fdca26"
             ],
             [
              1,
              "#f0f921"
             ]
            ],
            "type": "contour"
           }
          ],
          "contourcarpet": [
           {
            "colorbar": {
             "outlinewidth": 0,
             "ticks": ""
            },
            "type": "contourcarpet"
           }
          ],
          "heatmap": [
           {
            "colorbar": {
             "outlinewidth": 0,
             "ticks": ""
            },
            "colorscale": [
             [
              0,
              "#0d0887"
             ],
             [
              0.1111111111111111,
              "#46039f"
             ],
             [
              0.2222222222222222,
              "#7201a8"
             ],
             [
              0.3333333333333333,
              "#9c179e"
             ],
             [
              0.4444444444444444,
              "#bd3786"
             ],
             [
              0.5555555555555556,
              "#d8576b"
             ],
             [
              0.6666666666666666,
              "#ed7953"
             ],
             [
              0.7777777777777778,
              "#fb9f3a"
             ],
             [
              0.8888888888888888,
              "#fdca26"
             ],
             [
              1,
              "#f0f921"
             ]
            ],
            "type": "heatmap"
           }
          ],
          "histogram": [
           {
            "marker": {
             "pattern": {
              "fillmode": "overlay",
              "size": 10,
              "solidity": 0.2
             }
            },
            "type": "histogram"
           }
          ],
          "histogram2d": [
           {
            "colorbar": {
             "outlinewidth": 0,
             "ticks": ""
            },
            "colorscale": [
             [
              0,
              "#0d0887"
             ],
             [
              0.1111111111111111,
              "#46039f"
             ],
             [
              0.2222222222222222,
              "#7201a8"
             ],
             [
              0.3333333333333333,
              "#9c179e"
             ],
             [
              0.4444444444444444,
              "#bd3786"
             ],
             [
              0.5555555555555556,
              "#d8576b"
             ],
             [
              0.6666666666666666,
              "#ed7953"
             ],
             [
              0.7777777777777778,
              "#fb9f3a"
             ],
             [
              0.8888888888888888,
              "#fdca26"
             ],
             [
              1,
              "#f0f921"
             ]
            ],
            "type": "histogram2d"
           }
          ],
          "histogram2dcontour": [
           {
            "colorbar": {
             "outlinewidth": 0,
             "ticks": ""
            },
            "colorscale": [
             [
              0,
              "#0d0887"
             ],
             [
              0.1111111111111111,
              "#46039f"
             ],
             [
              0.2222222222222222,
              "#7201a8"
             ],
             [
              0.3333333333333333,
              "#9c179e"
             ],
             [
              0.4444444444444444,
              "#bd3786"
             ],
             [
              0.5555555555555556,
              "#d8576b"
             ],
             [
              0.6666666666666666,
              "#ed7953"
             ],
             [
              0.7777777777777778,
              "#fb9f3a"
             ],
             [
              0.8888888888888888,
              "#fdca26"
             ],
             [
              1,
              "#f0f921"
             ]
            ],
            "type": "histogram2dcontour"
           }
          ],
          "mesh3d": [
           {
            "colorbar": {
             "outlinewidth": 0,
             "ticks": ""
            },
            "type": "mesh3d"
           }
          ],
          "parcoords": [
           {
            "line": {
             "colorbar": {
              "outlinewidth": 0,
              "ticks": ""
             }
            },
            "type": "parcoords"
           }
          ],
          "pie": [
           {
            "automargin": true,
            "type": "pie"
           }
          ],
          "scatter": [
           {
            "fillpattern": {
             "fillmode": "overlay",
             "size": 10,
             "solidity": 0.2
            },
            "type": "scatter"
           }
          ],
          "scatter3d": [
           {
            "line": {
             "colorbar": {
              "outlinewidth": 0,
              "ticks": ""
             }
            },
            "marker": {
             "colorbar": {
              "outlinewidth": 0,
              "ticks": ""
             }
            },
            "type": "scatter3d"
           }
          ],
          "scattercarpet": [
           {
            "marker": {
             "colorbar": {
              "outlinewidth": 0,
              "ticks": ""
             }
            },
            "type": "scattercarpet"
           }
          ],
          "scattergeo": [
           {
            "marker": {
             "colorbar": {
              "outlinewidth": 0,
              "ticks": ""
             }
            },
            "type": "scattergeo"
           }
          ],
          "scattergl": [
           {
            "marker": {
             "colorbar": {
              "outlinewidth": 0,
              "ticks": ""
             }
            },
            "type": "scattergl"
           }
          ],
          "scattermap": [
           {
            "marker": {
             "colorbar": {
              "outlinewidth": 0,
              "ticks": ""
             }
            },
            "type": "scattermap"
           }
          ],
          "scattermapbox": [
           {
            "marker": {
             "colorbar": {
              "outlinewidth": 0,
              "ticks": ""
             }
            },
            "type": "scattermapbox"
           }
          ],
          "scatterpolar": [
           {
            "marker": {
             "colorbar": {
              "outlinewidth": 0,
              "ticks": ""
             }
            },
            "type": "scatterpolar"
           }
          ],
          "scatterpolargl": [
           {
            "marker": {
             "colorbar": {
              "outlinewidth": 0,
              "ticks": ""
             }
            },
            "type": "scatterpolargl"
           }
          ],
          "scatterternary": [
           {
            "marker": {
             "colorbar": {
              "outlinewidth": 0,
              "ticks": ""
             }
            },
            "type": "scatterternary"
           }
          ],
          "surface": [
           {
            "colorbar": {
             "outlinewidth": 0,
             "ticks": ""
            },
            "colorscale": [
             [
              0,
              "#0d0887"
             ],
             [
              0.1111111111111111,
              "#46039f"
             ],
             [
              0.2222222222222222,
              "#7201a8"
             ],
             [
              0.3333333333333333,
              "#9c179e"
             ],
             [
              0.4444444444444444,
              "#bd3786"
             ],
             [
              0.5555555555555556,
              "#d8576b"
             ],
             [
              0.6666666666666666,
              "#ed7953"
             ],
             [
              0.7777777777777778,
              "#fb9f3a"
             ],
             [
              0.8888888888888888,
              "#fdca26"
             ],
             [
              1,
              "#f0f921"
             ]
            ],
            "type": "surface"
           }
          ],
          "table": [
           {
            "cells": {
             "fill": {
              "color": "#EBF0F8"
             },
             "line": {
              "color": "white"
             }
            },
            "header": {
             "fill": {
              "color": "#C8D4E3"
             },
             "line": {
              "color": "white"
             }
            },
            "type": "table"
           }
          ]
         },
         "layout": {
          "annotationdefaults": {
           "arrowcolor": "#2a3f5f",
           "arrowhead": 0,
           "arrowwidth": 1
          },
          "autotypenumbers": "strict",
          "coloraxis": {
           "colorbar": {
            "outlinewidth": 0,
            "ticks": ""
           }
          },
          "colorscale": {
           "diverging": [
            [
             0,
             "#8e0152"
            ],
            [
             0.1,
             "#c51b7d"
            ],
            [
             0.2,
             "#de77ae"
            ],
            [
             0.3,
             "#f1b6da"
            ],
            [
             0.4,
             "#fde0ef"
            ],
            [
             0.5,
             "#f7f7f7"
            ],
            [
             0.6,
             "#e6f5d0"
            ],
            [
             0.7,
             "#b8e186"
            ],
            [
             0.8,
             "#7fbc41"
            ],
            [
             0.9,
             "#4d9221"
            ],
            [
             1,
             "#276419"
            ]
           ],
           "sequential": [
            [
             0,
             "#0d0887"
            ],
            [
             0.1111111111111111,
             "#46039f"
            ],
            [
             0.2222222222222222,
             "#7201a8"
            ],
            [
             0.3333333333333333,
             "#9c179e"
            ],
            [
             0.4444444444444444,
             "#bd3786"
            ],
            [
             0.5555555555555556,
             "#d8576b"
            ],
            [
             0.6666666666666666,
             "#ed7953"
            ],
            [
             0.7777777777777778,
             "#fb9f3a"
            ],
            [
             0.8888888888888888,
             "#fdca26"
            ],
            [
             1,
             "#f0f921"
            ]
           ],
           "sequentialminus": [
            [
             0,
             "#0d0887"
            ],
            [
             0.1111111111111111,
             "#46039f"
            ],
            [
             0.2222222222222222,
             "#7201a8"
            ],
            [
             0.3333333333333333,
             "#9c179e"
            ],
            [
             0.4444444444444444,
             "#bd3786"
            ],
            [
             0.5555555555555556,
             "#d8576b"
            ],
            [
             0.6666666666666666,
             "#ed7953"
            ],
            [
             0.7777777777777778,
             "#fb9f3a"
            ],
            [
             0.8888888888888888,
             "#fdca26"
            ],
            [
             1,
             "#f0f921"
            ]
           ]
          },
          "colorway": [
           "#636efa",
           "#EF553B",
           "#00cc96",
           "#ab63fa",
           "#FFA15A",
           "#19d3f3",
           "#FF6692",
           "#B6E880",
           "#FF97FF",
           "#FECB52"
          ],
          "font": {
           "color": "#2a3f5f"
          },
          "geo": {
           "bgcolor": "white",
           "lakecolor": "white",
           "landcolor": "#E5ECF6",
           "showlakes": true,
           "showland": true,
           "subunitcolor": "white"
          },
          "hoverlabel": {
           "align": "left"
          },
          "hovermode": "closest",
          "mapbox": {
           "style": "light"
          },
          "paper_bgcolor": "white",
          "plot_bgcolor": "#E5ECF6",
          "polar": {
           "angularaxis": {
            "gridcolor": "white",
            "linecolor": "white",
            "ticks": ""
           },
           "bgcolor": "#E5ECF6",
           "radialaxis": {
            "gridcolor": "white",
            "linecolor": "white",
            "ticks": ""
           }
          },
          "scene": {
           "xaxis": {
            "backgroundcolor": "#E5ECF6",
            "gridcolor": "white",
            "gridwidth": 2,
            "linecolor": "white",
            "showbackground": true,
            "ticks": "",
            "zerolinecolor": "white"
           },
           "yaxis": {
            "backgroundcolor": "#E5ECF6",
            "gridcolor": "white",
            "gridwidth": 2,
            "linecolor": "white",
            "showbackground": true,
            "ticks": "",
            "zerolinecolor": "white"
           },
           "zaxis": {
            "backgroundcolor": "#E5ECF6",
            "gridcolor": "white",
            "gridwidth": 2,
            "linecolor": "white",
            "showbackground": true,
            "ticks": "",
            "zerolinecolor": "white"
           }
          },
          "shapedefaults": {
           "line": {
            "color": "#2a3f5f"
           }
          },
          "ternary": {
           "aaxis": {
            "gridcolor": "white",
            "linecolor": "white",
            "ticks": ""
           },
           "baxis": {
            "gridcolor": "white",
            "linecolor": "white",
            "ticks": ""
           },
           "bgcolor": "#E5ECF6",
           "caxis": {
            "gridcolor": "white",
            "linecolor": "white",
            "ticks": ""
           }
          },
          "title": {
           "x": 0.05
          },
          "xaxis": {
           "automargin": true,
           "gridcolor": "white",
           "linecolor": "white",
           "ticks": "",
           "title": {
            "standoff": 15
           },
           "zerolinecolor": "white",
           "zerolinewidth": 2
          },
          "yaxis": {
           "automargin": true,
           "gridcolor": "white",
           "linecolor": "white",
           "ticks": "",
           "title": {
            "standoff": 15
           },
           "zerolinecolor": "white",
           "zerolinewidth": 2
          }
         }
        },
        "title": {
         "text": "TOP 20",
         "x": 0.5
        },
        "width": 600,
        "xaxis": {
         "anchor": "y",
         "domain": [
          0,
          0.94
         ]
        },
        "yaxis": {
         "anchor": "x",
         "domain": [
          0,
          1
         ],
         "side": "right"
        },
        "yaxis2": {
         "anchor": "x",
         "overlaying": "y",
         "side": "right"
        }
       }
      }
     },
     "metadata": {},
     "output_type": "display_data"
    },
    {
     "data": {
      "application/vnd.plotly.v1+json": {
       "config": {
        "plotlyServerURL": "https://plot.ly"
       },
       "data": [
        {
         "name": "RDDT: 55.3 %",
         "type": "scatter",
         "x": [
          "2024-07-16",
          "2024-07-17",
          "2024-07-18",
          "2024-07-19",
          "2024-07-22",
          "2024-07-23",
          "2024-07-24",
          "2024-07-25",
          "2024-07-26",
          "2024-07-29",
          "2024-07-30",
          "2024-07-31",
          "2024-08-01",
          "2024-08-02",
          "2024-08-05",
          "2024-08-06",
          "2024-08-07",
          "2024-08-08",
          "2024-08-09",
          "2024-08-12",
          "2024-08-13",
          "2024-08-14",
          "2024-08-15",
          "2024-08-16",
          "2024-08-19",
          "2024-08-20",
          "2024-08-21",
          "2024-08-22",
          "2024-08-23",
          "2024-08-26",
          "2024-08-27",
          "2024-08-28",
          "2024-08-29",
          "2024-08-30",
          "2024-09-03",
          "2024-09-04",
          "2024-09-05",
          "2024-09-06",
          "2024-09-09",
          "2024-09-10",
          "2024-09-11",
          "2024-09-12",
          "2024-09-13",
          "2024-09-16",
          "2024-09-17",
          "2024-09-18",
          "2024-09-19",
          "2024-09-20",
          "2024-09-23",
          "2024-09-24",
          "2024-09-25",
          "2024-09-26",
          "2024-09-27",
          "2024-09-30",
          "2024-10-01",
          "2024-10-02",
          "2024-10-03",
          "2024-10-04",
          "2024-10-07",
          "2024-10-08",
          "2024-10-09",
          "2024-10-10",
          "2024-10-11",
          "2024-10-14",
          "2024-10-15",
          "2024-10-16",
          "2024-10-17",
          "2024-10-18",
          "2024-10-21",
          "2024-10-22",
          "2024-10-23",
          "2024-10-24",
          "2024-10-25",
          "2024-10-28",
          "2024-10-29",
          "2024-10-30",
          "2024-10-31",
          "2024-11-01",
          "2024-11-04",
          "2024-11-05",
          "2024-11-06",
          "2024-11-07",
          "2024-11-08",
          "2024-11-11",
          "2024-11-12",
          "2024-11-13",
          "2024-11-14",
          "2024-11-15",
          "2024-11-18",
          "2024-11-19",
          "2024-11-20",
          "2024-11-21",
          "2024-11-22",
          "2024-11-25",
          "2024-11-26",
          "2024-11-27",
          "2024-11-29",
          "2024-12-02",
          "2024-12-03",
          "2024-12-04",
          "2024-12-05",
          "2024-12-06",
          "2024-12-09",
          "2024-12-10",
          "2024-12-11",
          "2024-12-12",
          "2024-12-13",
          "2024-12-16",
          "2024-12-17",
          "2024-12-18",
          "2024-12-19",
          "2024-12-20",
          "2024-12-23",
          "2024-12-24",
          "2024-12-26",
          "2024-12-27",
          "2024-12-30",
          "2024-12-31",
          "2025-01-02",
          "2025-01-03",
          "2025-01-06",
          "2025-01-07",
          "2025-01-08",
          "2025-01-10",
          "2025-01-13",
          "2025-01-14",
          "2025-01-15",
          "2025-01-16",
          "2025-01-17",
          "2025-01-21",
          "2025-01-22",
          "2025-01-23",
          "2025-01-24",
          "2025-01-27",
          "2025-01-28",
          "2025-01-29",
          "2025-01-30",
          "2025-01-31",
          "2025-02-03",
          "2025-02-04",
          "2025-02-05",
          "2025-02-06",
          "2025-02-07",
          "2025-02-10",
          "2025-02-11",
          "2025-02-12",
          "2025-02-13",
          "2025-02-14",
          "2025-02-18",
          "2025-02-19",
          "2025-02-20",
          "2025-02-21",
          "2025-02-24",
          "2025-02-25",
          "2025-02-26",
          "2025-02-27",
          "2025-02-28",
          "2025-03-03",
          "2025-03-04",
          "2025-03-05",
          "2025-03-06",
          "2025-03-07",
          "2025-03-10",
          "2025-03-11",
          "2025-03-12",
          "2025-03-13",
          "2025-03-14",
          "2025-03-17",
          "2025-03-18",
          "2025-03-19",
          "2025-03-20",
          "2025-03-21",
          "2025-03-24",
          "2025-03-25",
          "2025-03-26",
          "2025-03-27",
          "2025-03-28",
          "2025-03-31",
          "2025-04-01",
          "2025-04-02",
          "2025-04-03",
          "2025-04-04",
          "2025-04-07",
          "2025-04-08",
          "2025-04-09",
          "2025-04-10",
          "2025-04-11",
          "2025-04-14",
          "2025-04-15",
          "2025-04-16",
          "2025-04-17",
          "2025-04-21",
          "2025-04-22",
          "2025-04-23",
          "2025-04-24",
          "2025-04-25",
          "2025-04-28",
          "2025-04-29",
          "2025-04-30",
          "2025-05-01",
          "2025-05-02",
          "2025-05-05",
          "2025-05-06",
          "2025-05-07",
          "2025-05-08",
          "2025-05-09",
          "2025-05-12",
          "2025-05-13",
          "2025-05-14",
          "2025-05-15",
          "2025-05-16",
          "2025-05-19",
          "2025-05-20",
          "2025-05-21",
          "2025-05-22",
          "2025-05-23",
          "2025-05-27",
          "2025-05-28",
          "2025-05-29",
          "2025-05-30",
          "2025-06-02",
          "2025-06-03",
          "2025-06-04",
          "2025-06-05",
          "2025-06-06",
          "2025-06-09",
          "2025-06-10",
          "2025-06-11",
          "2025-06-12",
          "2025-06-13",
          "2025-06-16",
          "2025-06-17",
          "2025-06-18",
          "2025-06-20",
          "2025-06-23",
          "2025-06-24",
          "2025-06-25",
          "2025-06-26",
          "2025-06-27",
          "2025-06-30",
          "2025-07-01",
          "2025-07-02",
          "2025-07-03",
          "2025-07-07",
          "2025-07-08",
          "2025-07-09",
          "2025-07-10",
          "2025-07-11",
          "2025-07-14",
          "2025-07-15",
          "2025-07-16",
          "2025-07-17",
          "2025-07-18",
          "2025-07-21",
          "2025-07-22",
          "2025-07-23",
          "2025-07-24",
          "2025-07-25",
          "2025-07-28",
          "2025-07-29",
          "2025-07-30",
          "2025-07-31",
          "2025-08-01",
          "2025-08-04",
          "2025-08-05",
          "2025-08-06",
          "2025-08-07",
          "2025-08-08",
          "2025-08-11",
          "2025-08-12",
          "2025-08-13",
          "2025-08-14",
          "2025-08-15",
          "2025-08-18",
          "2025-08-19",
          "2025-08-20",
          "2025-08-21",
          "2025-08-22",
          "2025-08-25",
          "2025-08-26",
          "2025-08-27",
          "2025-08-28",
          "2025-08-29",
          "2025-09-02",
          "2025-09-03",
          "2025-09-04",
          "2025-09-05",
          "2025-09-08",
          "2025-09-09"
         ],
         "xaxis": "x",
         "y": {
          "bdata": "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",
          "dtype": "f8"
         },
         "yaxis": "y"
        },
        {
         "name": "SMA 50",
         "type": "scatter",
         "x": [
          "2024-07-16",
          "2024-07-17",
          "2024-07-18",
          "2024-07-19",
          "2024-07-22",
          "2024-07-23",
          "2024-07-24",
          "2024-07-25",
          "2024-07-26",
          "2024-07-29",
          "2024-07-30",
          "2024-07-31",
          "2024-08-01",
          "2024-08-02",
          "2024-08-05",
          "2024-08-06",
          "2024-08-07",
          "2024-08-08",
          "2024-08-09",
          "2024-08-12",
          "2024-08-13",
          "2024-08-14",
          "2024-08-15",
          "2024-08-16",
          "2024-08-19",
          "2024-08-20",
          "2024-08-21",
          "2024-08-22",
          "2024-08-23",
          "2024-08-26",
          "2024-08-27",
          "2024-08-28",
          "2024-08-29",
          "2024-08-30",
          "2024-09-03",
          "2024-09-04",
          "2024-09-05",
          "2024-09-06",
          "2024-09-09",
          "2024-09-10",
          "2024-09-11",
          "2024-09-12",
          "2024-09-13",
          "2024-09-16",
          "2024-09-17",
          "2024-09-18",
          "2024-09-19",
          "2024-09-20",
          "2024-09-23",
          "2024-09-24",
          "2024-09-25",
          "2024-09-26",
          "2024-09-27",
          "2024-09-30",
          "2024-10-01",
          "2024-10-02",
          "2024-10-03",
          "2024-10-04",
          "2024-10-07",
          "2024-10-08",
          "2024-10-09",
          "2024-10-10",
          "2024-10-11",
          "2024-10-14",
          "2024-10-15",
          "2024-10-16",
          "2024-10-17",
          "2024-10-18",
          "2024-10-21",
          "2024-10-22",
          "2024-10-23",
          "2024-10-24",
          "2024-10-25",
          "2024-10-28",
          "2024-10-29",
          "2024-10-30",
          "2024-10-31",
          "2024-11-01",
          "2024-11-04",
          "2024-11-05",
          "2024-11-06",
          "2024-11-07",
          "2024-11-08",
          "2024-11-11",
          "2024-11-12",
          "2024-11-13",
          "2024-11-14",
          "2024-11-15",
          "2024-11-18",
          "2024-11-19",
          "2024-11-20",
          "2024-11-21",
          "2024-11-22",
          "2024-11-25",
          "2024-11-26",
          "2024-11-27",
          "2024-11-29",
          "2024-12-02",
          "2024-12-03",
          "2024-12-04",
          "2024-12-05",
          "2024-12-06",
          "2024-12-09",
          "2024-12-10",
          "2024-12-11",
          "2024-12-12",
          "2024-12-13",
          "2024-12-16",
          "2024-12-17",
          "2024-12-18",
          "2024-12-19",
          "2024-12-20",
          "2024-12-23",
          "2024-12-24",
          "2024-12-26",
          "2024-12-27",
          "2024-12-30",
          "2024-12-31",
          "2025-01-02",
          "2025-01-03",
          "2025-01-06",
          "2025-01-07",
          "2025-01-08",
          "2025-01-10",
          "2025-01-13",
          "2025-01-14",
          "2025-01-15",
          "2025-01-16",
          "2025-01-17",
          "2025-01-21",
          "2025-01-22",
          "2025-01-23",
          "2025-01-24",
          "2025-01-27",
          "2025-01-28",
          "2025-01-29",
          "2025-01-30",
          "2025-01-31",
          "2025-02-03",
          "2025-02-04",
          "2025-02-05",
          "2025-02-06",
          "2025-02-07",
          "2025-02-10",
          "2025-02-11",
          "2025-02-12",
          "2025-02-13",
          "2025-02-14",
          "2025-02-18",
          "2025-02-19",
          "2025-02-20",
          "2025-02-21",
          "2025-02-24",
          "2025-02-25",
          "2025-02-26",
          "2025-02-27",
          "2025-02-28",
          "2025-03-03",
          "2025-03-04",
          "2025-03-05",
          "2025-03-06",
          "2025-03-07",
          "2025-03-10",
          "2025-03-11",
          "2025-03-12",
          "2025-03-13",
          "2025-03-14",
          "2025-03-17",
          "2025-03-18",
          "2025-03-19",
          "2025-03-20",
          "2025-03-21",
          "2025-03-24",
          "2025-03-25",
          "2025-03-26",
          "2025-03-27",
          "2025-03-28",
          "2025-03-31",
          "2025-04-01",
          "2025-04-02",
          "2025-04-03",
          "2025-04-04",
          "2025-04-07",
          "2025-04-08",
          "2025-04-09",
          "2025-04-10",
          "2025-04-11",
          "2025-04-14",
          "2025-04-15",
          "2025-04-16",
          "2025-04-17",
          "2025-04-21",
          "2025-04-22",
          "2025-04-23",
          "2025-04-24",
          "2025-04-25",
          "2025-04-28",
          "2025-04-29",
          "2025-04-30",
          "2025-05-01",
          "2025-05-02",
          "2025-05-05",
          "2025-05-06",
          "2025-05-07",
          "2025-05-08",
          "2025-05-09",
          "2025-05-12",
          "2025-05-13",
          "2025-05-14",
          "2025-05-15",
          "2025-05-16",
          "2025-05-19",
          "2025-05-20",
          "2025-05-21",
          "2025-05-22",
          "2025-05-23",
          "2025-05-27",
          "2025-05-28",
          "2025-05-29",
          "2025-05-30",
          "2025-06-02",
          "2025-06-03",
          "2025-06-04",
          "2025-06-05",
          "2025-06-06",
          "2025-06-09",
          "2025-06-10",
          "2025-06-11",
          "2025-06-12",
          "2025-06-13",
          "2025-06-16",
          "2025-06-17",
          "2025-06-18",
          "2025-06-20",
          "2025-06-23",
          "2025-06-24",
          "2025-06-25",
          "2025-06-26",
          "2025-06-27",
          "2025-06-30",
          "2025-07-01",
          "2025-07-02",
          "2025-07-03",
          "2025-07-07",
          "2025-07-08",
          "2025-07-09",
          "2025-07-10",
          "2025-07-11",
          "2025-07-14",
          "2025-07-15",
          "2025-07-16",
          "2025-07-17",
          "2025-07-18",
          "2025-07-21",
          "2025-07-22",
          "2025-07-23",
          "2025-07-24",
          "2025-07-25",
          "2025-07-28",
          "2025-07-29",
          "2025-07-30",
          "2025-07-31",
          "2025-08-01",
          "2025-08-04",
          "2025-08-05",
          "2025-08-06",
          "2025-08-07",
          "2025-08-08",
          "2025-08-11",
          "2025-08-12",
          "2025-08-13",
          "2025-08-14",
          "2025-08-15",
          "2025-08-18",
          "2025-08-19",
          "2025-08-20",
          "2025-08-21",
          "2025-08-22",
          "2025-08-25",
          "2025-08-26",
          "2025-08-27",
          "2025-08-28",
          "2025-08-29",
          "2025-09-02",
          "2025-09-03",
          "2025-09-04",
          "2025-09-05",
          "2025-09-08",
          "2025-09-09"
         ],
         "xaxis": "x",
         "y": {
          "bdata": "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",
          "dtype": "f8"
         },
         "yaxis": "y"
        }
       ],
       "layout": {
        "annotations": [
         {
          "font": {
           "size": 8
          },
          "showarrow": false,
          "text": "Date: 2025-09-09, Open:238.64, High:239.74, Low:232.05, Close: 235.35",
          "x": 0.01,
          "xref": "x domain",
          "y": 1,
          "yref": "y domain"
         }
        ],
        "height": 400,
        "legend": {
         "font": {
          "size": 8
         },
         "title": {
          "font": {
           "family": "Arial"
          }
         }
        },
        "template": {
         "data": {
          "bar": [
           {
            "error_x": {
             "color": "#2a3f5f"
            },
            "error_y": {
             "color": "#2a3f5f"
            },
            "marker": {
             "line": {
              "color": "#E5ECF6",
              "width": 0.5
             },
             "pattern": {
              "fillmode": "overlay",
              "size": 10,
              "solidity": 0.2
             }
            },
            "type": "bar"
           }
          ],
          "barpolar": [
           {
            "marker": {
             "line": {
              "color": "#E5ECF6",
              "width": 0.5
             },
             "pattern": {
              "fillmode": "overlay",
              "size": 10,
              "solidity": 0.2
             }
            },
            "type": "barpolar"
           }
          ],
          "carpet": [
           {
            "aaxis": {
             "endlinecolor": "#2a3f5f",
             "gridcolor": "white",
             "linecolor": "white",
             "minorgridcolor": "white",
             "startlinecolor": "#2a3f5f"
            },
            "baxis": {
             "endlinecolor": "#2a3f5f",
             "gridcolor": "white",
             "linecolor": "white",
             "minorgridcolor": "white",
             "startlinecolor": "#2a3f5f"
            },
            "type": "carpet"
           }
          ],
          "choropleth": [
           {
            "colorbar": {
             "outlinewidth": 0,
             "ticks": ""
            },
            "type": "choropleth"
           }
          ],
          "contour": [
           {
            "colorbar": {
             "outlinewidth": 0,
             "ticks": ""
            },
            "colorscale": [
             [
              0,
              "#0d0887"
             ],
             [
              0.1111111111111111,
              "#46039f"
             ],
             [
              0.2222222222222222,
              "#7201a8"
             ],
             [
              0.3333333333333333,
              "#9c179e"
             ],
             [
              0.4444444444444444,
              "#bd3786"
             ],
             [
              0.5555555555555556,
              "#d8576b"
             ],
             [
              0.6666666666666666,
              "#ed7953"
             ],
             [
              0.7777777777777778,
              "#fb9f3a"
             ],
             [
              0.8888888888888888,
              "#fdca26"
             ],
             [
              1,
              "#f0f921"
             ]
            ],
            "type": "contour"
           }
          ],
          "contourcarpet": [
           {
            "colorbar": {
             "outlinewidth": 0,
             "ticks": ""
            },
            "type": "contourcarpet"
           }
          ],
          "heatmap": [
           {
            "colorbar": {
             "outlinewidth": 0,
             "ticks": ""
            },
            "colorscale": [
             [
              0,
              "#0d0887"
             ],
             [
              0.1111111111111111,
              "#46039f"
             ],
             [
              0.2222222222222222,
              "#7201a8"
             ],
             [
              0.3333333333333333,
              "#9c179e"
             ],
             [
              0.4444444444444444,
              "#bd3786"
             ],
             [
              0.5555555555555556,
              "#d8576b"
             ],
             [
              0.6666666666666666,
              "#ed7953"
             ],
             [
              0.7777777777777778,
              "#fb9f3a"
             ],
             [
              0.8888888888888888,
              "#fdca26"
             ],
             [
              1,
              "#f0f921"
             ]
            ],
            "type": "heatmap"
           }
          ],
          "histogram": [
           {
            "marker": {
             "pattern": {
              "fillmode": "overlay",
              "size": 10,
              "solidity": 0.2
             }
            },
            "type": "histogram"
           }
          ],
          "histogram2d": [
           {
            "colorbar": {
             "outlinewidth": 0,
             "ticks": ""
            },
            "colorscale": [
             [
              0,
              "#0d0887"
             ],
             [
              0.1111111111111111,
              "#46039f"
             ],
             [
              0.2222222222222222,
              "#7201a8"
             ],
             [
              0.3333333333333333,
              "#9c179e"
             ],
             [
              0.4444444444444444,
              "#bd3786"
             ],
             [
              0.5555555555555556,
              "#d8576b"
             ],
             [
              0.6666666666666666,
              "#ed7953"
             ],
             [
              0.7777777777777778,
              "#fb9f3a"
             ],
             [
              0.8888888888888888,
              "#fdca26"
             ],
             [
              1,
              "#f0f921"
             ]
            ],
            "type": "histogram2d"
           }
          ],
          "histogram2dcontour": [
           {
            "colorbar": {
             "outlinewidth": 0,
             "ticks": ""
            },
            "colorscale": [
             [
              0,
              "#0d0887"
             ],
             [
              0.1111111111111111,
              "#46039f"
             ],
             [
              0.2222222222222222,
              "#7201a8"
             ],
             [
              0.3333333333333333,
              "#9c179e"
             ],
             [
              0.4444444444444444,
              "#bd3786"
             ],
             [
              0.5555555555555556,
              "#d8576b"
             ],
             [
              0.6666666666666666,
              "#ed7953"
             ],
             [
              0.7777777777777778,
              "#fb9f3a"
             ],
             [
              0.8888888888888888,
              "#fdca26"
             ],
             [
              1,
              "#f0f921"
             ]
            ],
            "type": "histogram2dcontour"
           }
          ],
          "mesh3d": [
           {
            "colorbar": {
             "outlinewidth": 0,
             "ticks": ""
            },
            "type": "mesh3d"
           }
          ],
          "parcoords": [
           {
            "line": {
             "colorbar": {
              "outlinewidth": 0,
              "ticks": ""
             }
            },
            "type": "parcoords"
           }
          ],
          "pie": [
           {
            "automargin": true,
            "type": "pie"
           }
          ],
          "scatter": [
           {
            "fillpattern": {
             "fillmode": "overlay",
             "size": 10,
             "solidity": 0.2
            },
            "type": "scatter"
           }
          ],
          "scatter3d": [
           {
            "line": {
             "colorbar": {
              "outlinewidth": 0,
              "ticks": ""
             }
            },
            "marker": {
             "colorbar": {
              "outlinewidth": 0,
              "ticks": ""
             }
            },
            "type": "scatter3d"
           }
          ],
          "scattercarpet": [
           {
            "marker": {
             "colorbar": {
              "outlinewidth": 0,
              "ticks": ""
             }
            },
            "type": "scattercarpet"
           }
          ],
          "scattergeo": [
           {
            "marker": {
             "colorbar": {
              "outlinewidth": 0,
              "ticks": ""
             }
            },
            "type": "scattergeo"
           }
          ],
          "scattergl": [
           {
            "marker": {
             "colorbar": {
              "outlinewidth": 0,
              "ticks": ""
             }
            },
            "type": "scattergl"
           }
          ],
          "scattermap": [
           {
            "marker": {
             "colorbar": {
              "outlinewidth": 0,
              "ticks": ""
             }
            },
            "type": "scattermap"
           }
          ],
          "scattermapbox": [
           {
            "marker": {
             "colorbar": {
              "outlinewidth": 0,
              "ticks": ""
             }
            },
            "type": "scattermapbox"
           }
          ],
          "scatterpolar": [
           {
            "marker": {
             "colorbar": {
              "outlinewidth": 0,
              "ticks": ""
             }
            },
            "type": "scatterpolar"
           }
          ],
          "scatterpolargl": [
           {
            "marker": {
             "colorbar": {
              "outlinewidth": 0,
              "ticks": ""
             }
            },
            "type": "scatterpolargl"
           }
          ],
          "scatterternary": [
           {
            "marker": {
             "colorbar": {
              "outlinewidth": 0,
              "ticks": ""
             }
            },
            "type": "scatterternary"
           }
          ],
          "surface": [
           {
            "colorbar": {
             "outlinewidth": 0,
             "ticks": ""
            },
            "colorscale": [
             [
              0,
              "#0d0887"
             ],
             [
              0.1111111111111111,
              "#46039f"
             ],
             [
              0.2222222222222222,
              "#7201a8"
             ],
             [
              0.3333333333333333,
              "#9c179e"
             ],
             [
              0.4444444444444444,
              "#bd3786"
             ],
             [
              0.5555555555555556,
              "#d8576b"
             ],
             [
              0.6666666666666666,
              "#ed7953"
             ],
             [
              0.7777777777777778,
              "#fb9f3a"
             ],
             [
              0.8888888888888888,
              "#fdca26"
             ],
             [
              1,
              "#f0f921"
             ]
            ],
            "type": "surface"
           }
          ],
          "table": [
           {
            "cells": {
             "fill": {
              "color": "#EBF0F8"
             },
             "line": {
              "color": "white"
             }
            },
            "header": {
             "fill": {
              "color": "#C8D4E3"
             },
             "line": {
              "color": "white"
             }
            },
            "type": "table"
           }
          ]
         },
         "layout": {
          "annotationdefaults": {
           "arrowcolor": "#2a3f5f",
           "arrowhead": 0,
           "arrowwidth": 1
          },
          "autotypenumbers": "strict",
          "coloraxis": {
           "colorbar": {
            "outlinewidth": 0,
            "ticks": ""
           }
          },
          "colorscale": {
           "diverging": [
            [
             0,
             "#8e0152"
            ],
            [
             0.1,
             "#c51b7d"
            ],
            [
             0.2,
             "#de77ae"
            ],
            [
             0.3,
             "#f1b6da"
            ],
            [
             0.4,
             "#fde0ef"
            ],
            [
             0.5,
             "#f7f7f7"
            ],
            [
             0.6,
             "#e6f5d0"
            ],
            [
             0.7,
             "#b8e186"
            ],
            [
             0.8,
             "#7fbc41"
            ],
            [
             0.9,
             "#4d9221"
            ],
            [
             1,
             "#276419"
            ]
           ],
           "sequential": [
            [
             0,
             "#0d0887"
            ],
            [
             0.1111111111111111,
             "#46039f"
            ],
            [
             0.2222222222222222,
             "#7201a8"
            ],
            [
             0.3333333333333333,
             "#9c179e"
            ],
            [
             0.4444444444444444,
             "#bd3786"
            ],
            [
             0.5555555555555556,
             "#d8576b"
            ],
            [
             0.6666666666666666,
             "#ed7953"
            ],
            [
             0.7777777777777778,
             "#fb9f3a"
            ],
            [
             0.8888888888888888,
             "#fdca26"
            ],
            [
             1,
             "#f0f921"
            ]
           ],
           "sequentialminus": [
            [
             0,
             "#0d0887"
            ],
            [
             0.1111111111111111,
             "#46039f"
            ],
            [
             0.2222222222222222,
             "#7201a8"
            ],
            [
             0.3333333333333333,
             "#9c179e"
            ],
            [
             0.4444444444444444,
             "#bd3786"
            ],
            [
             0.5555555555555556,
             "#d8576b"
            ],
            [
             0.6666666666666666,
             "#ed7953"
            ],
            [
             0.7777777777777778,
             "#fb9f3a"
            ],
            [
             0.8888888888888888,
             "#fdca26"
            ],
            [
             1,
             "#f0f921"
            ]
           ]
          },
          "colorway": [
           "#636efa",
           "#EF553B",
           "#00cc96",
           "#ab63fa",
           "#FFA15A",
           "#19d3f3",
           "#FF6692",
           "#B6E880",
           "#FF97FF",
           "#FECB52"
          ],
          "font": {
           "color": "#2a3f5f"
          },
          "geo": {
           "bgcolor": "white",
           "lakecolor": "white",
           "landcolor": "#E5ECF6",
           "showlakes": true,
           "showland": true,
           "subunitcolor": "white"
          },
          "hoverlabel": {
           "align": "left"
          },
          "hovermode": "closest",
          "mapbox": {
           "style": "light"
          },
          "paper_bgcolor": "white",
          "plot_bgcolor": "#E5ECF6",
          "polar": {
           "angularaxis": {
            "gridcolor": "white",
            "linecolor": "white",
            "ticks": ""
           },
           "bgcolor": "#E5ECF6",
           "radialaxis": {
            "gridcolor": "white",
            "linecolor": "white",
            "ticks": ""
           }
          },
          "scene": {
           "xaxis": {
            "backgroundcolor": "#E5ECF6",
            "gridcolor": "white",
            "gridwidth": 2,
            "linecolor": "white",
            "showbackground": true,
            "ticks": "",
            "zerolinecolor": "white"
           },
           "yaxis": {
            "backgroundcolor": "#E5ECF6",
            "gridcolor": "white",
            "gridwidth": 2,
            "linecolor": "white",
            "showbackground": true,
            "ticks": "",
            "zerolinecolor": "white"
           },
           "zaxis": {
            "backgroundcolor": "#E5ECF6",
            "gridcolor": "white",
            "gridwidth": 2,
            "linecolor": "white",
            "showbackground": true,
            "ticks": "",
            "zerolinecolor": "white"
           }
          },
          "shapedefaults": {
           "line": {
            "color": "#2a3f5f"
           }
          },
          "ternary": {
           "aaxis": {
            "gridcolor": "white",
            "linecolor": "white",
            "ticks": ""
           },
           "baxis": {
            "gridcolor": "white",
            "linecolor": "white",
            "ticks": ""
           },
           "bgcolor": "#E5ECF6",
           "caxis": {
            "gridcolor": "white",
            "linecolor": "white",
            "ticks": ""
           }
          },
          "title": {
           "x": 0.05
          },
          "xaxis": {
           "automargin": true,
           "gridcolor": "white",
           "linecolor": "white",
           "ticks": "",
           "title": {
            "standoff": 15
           },
           "zerolinecolor": "white",
           "zerolinewidth": 2
          },
          "yaxis": {
           "automargin": true,
           "gridcolor": "white",
           "linecolor": "white",
           "ticks": "",
           "title": {
            "standoff": 15
           },
           "zerolinecolor": "white",
           "zerolinewidth": 2
          }
         }
        },
        "title": {
         "text": "TOP 20",
         "x": 0.5
        },
        "width": 600,
        "xaxis": {
         "anchor": "y",
         "domain": [
          0,
          0.94
         ]
        },
        "yaxis": {
         "anchor": "x",
         "domain": [
          0,
          1
         ],
         "side": "right"
        },
        "yaxis2": {
         "anchor": "x",
         "overlaying": "y",
         "side": "right"
        }
       }
      }
     },
     "metadata": {},
     "output_type": "display_data"
    },
    {
     "data": {
      "application/vnd.plotly.v1+json": {
       "config": {
        "plotlyServerURL": "https://plot.ly"
       },
       "data": [
        {
         "name": "KGC: 44.31 %",
         "type": "scatter",
         "x": [
          "2024-07-16",
          "2024-07-17",
          "2024-07-18",
          "2024-07-19",
          "2024-07-22",
          "2024-07-23",
          "2024-07-24",
          "2024-07-25",
          "2024-07-26",
          "2024-07-29",
          "2024-07-30",
          "2024-07-31",
          "2024-08-01",
          "2024-08-02",
          "2024-08-05",
          "2024-08-06",
          "2024-08-07",
          "2024-08-08",
          "2024-08-09",
          "2024-08-12",
          "2024-08-13",
          "2024-08-14",
          "2024-08-15",
          "2024-08-16",
          "2024-08-19",
          "2024-08-20",
          "2024-08-21",
          "2024-08-22",
          "2024-08-23",
          "2024-08-26",
          "2024-08-27",
          "2024-08-28",
          "2024-08-29",
          "2024-08-30",
          "2024-09-03",
          "2024-09-04",
          "2024-09-05",
          "2024-09-06",
          "2024-09-09",
          "2024-09-10",
          "2024-09-11",
          "2024-09-12",
          "2024-09-13",
          "2024-09-16",
          "2024-09-17",
          "2024-09-18",
          "2024-09-19",
          "2024-09-20",
          "2024-09-23",
          "2024-09-24",
          "2024-09-25",
          "2024-09-26",
          "2024-09-27",
          "2024-09-30",
          "2024-10-01",
          "2024-10-02",
          "2024-10-03",
          "2024-10-04",
          "2024-10-07",
          "2024-10-08",
          "2024-10-09",
          "2024-10-10",
          "2024-10-11",
          "2024-10-14",
          "2024-10-15",
          "2024-10-16",
          "2024-10-17",
          "2024-10-18",
          "2024-10-21",
          "2024-10-22",
          "2024-10-23",
          "2024-10-24",
          "2024-10-25",
          "2024-10-28",
          "2024-10-29",
          "2024-10-30",
          "2024-10-31",
          "2024-11-01",
          "2024-11-04",
          "2024-11-05",
          "2024-11-06",
          "2024-11-07",
          "2024-11-08",
          "2024-11-11",
          "2024-11-12",
          "2024-11-13",
          "2024-11-14",
          "2024-11-15",
          "2024-11-18",
          "2024-11-19",
          "2024-11-20",
          "2024-11-21",
          "2024-11-22",
          "2024-11-25",
          "2024-11-26",
          "2024-11-27",
          "2024-11-29",
          "2024-12-02",
          "2024-12-03",
          "2024-12-04",
          "2024-12-05",
          "2024-12-06",
          "2024-12-09",
          "2024-12-10",
          "2024-12-11",
          "2024-12-12",
          "2024-12-13",
          "2024-12-16",
          "2024-12-17",
          "2024-12-18",
          "2024-12-19",
          "2024-12-20",
          "2024-12-23",
          "2024-12-24",
          "2024-12-26",
          "2024-12-27",
          "2024-12-30",
          "2024-12-31",
          "2025-01-02",
          "2025-01-03",
          "2025-01-06",
          "2025-01-07",
          "2025-01-08",
          "2025-01-10",
          "2025-01-13",
          "2025-01-14",
          "2025-01-15",
          "2025-01-16",
          "2025-01-17",
          "2025-01-21",
          "2025-01-22",
          "2025-01-23",
          "2025-01-24",
          "2025-01-27",
          "2025-01-28",
          "2025-01-29",
          "2025-01-30",
          "2025-01-31",
          "2025-02-03",
          "2025-02-04",
          "2025-02-05",
          "2025-02-06",
          "2025-02-07",
          "2025-02-10",
          "2025-02-11",
          "2025-02-12",
          "2025-02-13",
          "2025-02-14",
          "2025-02-18",
          "2025-02-19",
          "2025-02-20",
          "2025-02-21",
          "2025-02-24",
          "2025-02-25",
          "2025-02-26",
          "2025-02-27",
          "2025-02-28",
          "2025-03-03",
          "2025-03-04",
          "2025-03-05",
          "2025-03-06",
          "2025-03-07",
          "2025-03-10",
          "2025-03-11",
          "2025-03-12",
          "2025-03-13",
          "2025-03-14",
          "2025-03-17",
          "2025-03-18",
          "2025-03-19",
          "2025-03-20",
          "2025-03-21",
          "2025-03-24",
          "2025-03-25",
          "2025-03-26",
          "2025-03-27",
          "2025-03-28",
          "2025-03-31",
          "2025-04-01",
          "2025-04-02",
          "2025-04-03",
          "2025-04-04",
          "2025-04-07",
          "2025-04-08",
          "2025-04-09",
          "2025-04-10",
          "2025-04-11",
          "2025-04-14",
          "2025-04-15",
          "2025-04-16",
          "2025-04-17",
          "2025-04-21",
          "2025-04-22",
          "2025-04-23",
          "2025-04-24",
          "2025-04-25",
          "2025-04-28",
          "2025-04-29",
          "2025-04-30",
          "2025-05-01",
          "2025-05-02",
          "2025-05-05",
          "2025-05-06",
          "2025-05-07",
          "2025-05-08",
          "2025-05-09",
          "2025-05-12",
          "2025-05-13",
          "2025-05-14",
          "2025-05-15",
          "2025-05-16",
          "2025-05-19",
          "2025-05-20",
          "2025-05-21",
          "2025-05-22",
          "2025-05-23",
          "2025-05-27",
          "2025-05-28",
          "2025-05-29",
          "2025-05-30",
          "2025-06-02",
          "2025-06-03",
          "2025-06-04",
          "2025-06-05",
          "2025-06-06",
          "2025-06-09",
          "2025-06-10",
          "2025-06-11",
          "2025-06-12",
          "2025-06-13",
          "2025-06-16",
          "2025-06-17",
          "2025-06-18",
          "2025-06-20",
          "2025-06-23",
          "2025-06-24",
          "2025-06-25",
          "2025-06-26",
          "2025-06-27",
          "2025-06-30",
          "2025-07-01",
          "2025-07-02",
          "2025-07-03",
          "2025-07-07",
          "2025-07-08",
          "2025-07-09",
          "2025-07-10",
          "2025-07-11",
          "2025-07-14",
          "2025-07-15",
          "2025-07-16",
          "2025-07-17",
          "2025-07-18",
          "2025-07-21",
          "2025-07-22",
          "2025-07-23",
          "2025-07-24",
          "2025-07-25",
          "2025-07-28",
          "2025-07-29",
          "2025-07-30",
          "2025-07-31",
          "2025-08-01",
          "2025-08-04",
          "2025-08-05",
          "2025-08-06",
          "2025-08-07",
          "2025-08-08",
          "2025-08-11",
          "2025-08-12",
          "2025-08-13",
          "2025-08-14",
          "2025-08-15",
          "2025-08-18",
          "2025-08-19",
          "2025-08-20",
          "2025-08-21",
          "2025-08-22",
          "2025-08-25",
          "2025-08-26",
          "2025-08-27",
          "2025-08-28",
          "2025-08-29",
          "2025-09-02",
          "2025-09-03",
          "2025-09-04",
          "2025-09-05",
          "2025-09-08",
          "2025-09-09"
         ],
         "xaxis": "x",
         "y": {
          "bdata": "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",
          "dtype": "f8"
         },
         "yaxis": "y"
        },
        {
         "name": "SMA 50",
         "type": "scatter",
         "x": [
          "2024-07-16",
          "2024-07-17",
          "2024-07-18",
          "2024-07-19",
          "2024-07-22",
          "2024-07-23",
          "2024-07-24",
          "2024-07-25",
          "2024-07-26",
          "2024-07-29",
          "2024-07-30",
          "2024-07-31",
          "2024-08-01",
          "2024-08-02",
          "2024-08-05",
          "2024-08-06",
          "2024-08-07",
          "2024-08-08",
          "2024-08-09",
          "2024-08-12",
          "2024-08-13",
          "2024-08-14",
          "2024-08-15",
          "2024-08-16",
          "2024-08-19",
          "2024-08-20",
          "2024-08-21",
          "2024-08-22",
          "2024-08-23",
          "2024-08-26",
          "2024-08-27",
          "2024-08-28",
          "2024-08-29",
          "2024-08-30",
          "2024-09-03",
          "2024-09-04",
          "2024-09-05",
          "2024-09-06",
          "2024-09-09",
          "2024-09-10",
          "2024-09-11",
          "2024-09-12",
          "2024-09-13",
          "2024-09-16",
          "2024-09-17",
          "2024-09-18",
          "2024-09-19",
          "2024-09-20",
          "2024-09-23",
          "2024-09-24",
          "2024-09-25",
          "2024-09-26",
          "2024-09-27",
          "2024-09-30",
          "2024-10-01",
          "2024-10-02",
          "2024-10-03",
          "2024-10-04",
          "2024-10-07",
          "2024-10-08",
          "2024-10-09",
          "2024-10-10",
          "2024-10-11",
          "2024-10-14",
          "2024-10-15",
          "2024-10-16",
          "2024-10-17",
          "2024-10-18",
          "2024-10-21",
          "2024-10-22",
          "2024-10-23",
          "2024-10-24",
          "2024-10-25",
          "2024-10-28",
          "2024-10-29",
          "2024-10-30",
          "2024-10-31",
          "2024-11-01",
          "2024-11-04",
          "2024-11-05",
          "2024-11-06",
          "2024-11-07",
          "2024-11-08",
          "2024-11-11",
          "2024-11-12",
          "2024-11-13",
          "2024-11-14",
          "2024-11-15",
          "2024-11-18",
          "2024-11-19",
          "2024-11-20",
          "2024-11-21",
          "2024-11-22",
          "2024-11-25",
          "2024-11-26",
          "2024-11-27",
          "2024-11-29",
          "2024-12-02",
          "2024-12-03",
          "2024-12-04",
          "2024-12-05",
          "2024-12-06",
          "2024-12-09",
          "2024-12-10",
          "2024-12-11",
          "2024-12-12",
          "2024-12-13",
          "2024-12-16",
          "2024-12-17",
          "2024-12-18",
          "2024-12-19",
          "2024-12-20",
          "2024-12-23",
          "2024-12-24",
          "2024-12-26",
          "2024-12-27",
          "2024-12-30",
          "2024-12-31",
          "2025-01-02",
          "2025-01-03",
          "2025-01-06",
          "2025-01-07",
          "2025-01-08",
          "2025-01-10",
          "2025-01-13",
          "2025-01-14",
          "2025-01-15",
          "2025-01-16",
          "2025-01-17",
          "2025-01-21",
          "2025-01-22",
          "2025-01-23",
          "2025-01-24",
          "2025-01-27",
          "2025-01-28",
          "2025-01-29",
          "2025-01-30",
          "2025-01-31",
          "2025-02-03",
          "2025-02-04",
          "2025-02-05",
          "2025-02-06",
          "2025-02-07",
          "2025-02-10",
          "2025-02-11",
          "2025-02-12",
          "2025-02-13",
          "2025-02-14",
          "2025-02-18",
          "2025-02-19",
          "2025-02-20",
          "2025-02-21",
          "2025-02-24",
          "2025-02-25",
          "2025-02-26",
          "2025-02-27",
          "2025-02-28",
          "2025-03-03",
          "2025-03-04",
          "2025-03-05",
          "2025-03-06",
          "2025-03-07",
          "2025-03-10",
          "2025-03-11",
          "2025-03-12",
          "2025-03-13",
          "2025-03-14",
          "2025-03-17",
          "2025-03-18",
          "2025-03-19",
          "2025-03-20",
          "2025-03-21",
          "2025-03-24",
          "2025-03-25",
          "2025-03-26",
          "2025-03-27",
          "2025-03-28",
          "2025-03-31",
          "2025-04-01",
          "2025-04-02",
          "2025-04-03",
          "2025-04-04",
          "2025-04-07",
          "2025-04-08",
          "2025-04-09",
          "2025-04-10",
          "2025-04-11",
          "2025-04-14",
          "2025-04-15",
          "2025-04-16",
          "2025-04-17",
          "2025-04-21",
          "2025-04-22",
          "2025-04-23",
          "2025-04-24",
          "2025-04-25",
          "2025-04-28",
          "2025-04-29",
          "2025-04-30",
          "2025-05-01",
          "2025-05-02",
          "2025-05-05",
          "2025-05-06",
          "2025-05-07",
          "2025-05-08",
          "2025-05-09",
          "2025-05-12",
          "2025-05-13",
          "2025-05-14",
          "2025-05-15",
          "2025-05-16",
          "2025-05-19",
          "2025-05-20",
          "2025-05-21",
          "2025-05-22",
          "2025-05-23",
          "2025-05-27",
          "2025-05-28",
          "2025-05-29",
          "2025-05-30",
          "2025-06-02",
          "2025-06-03",
          "2025-06-04",
          "2025-06-05",
          "2025-06-06",
          "2025-06-09",
          "2025-06-10",
          "2025-06-11",
          "2025-06-12",
          "2025-06-13",
          "2025-06-16",
          "2025-06-17",
          "2025-06-18",
          "2025-06-20",
          "2025-06-23",
          "2025-06-24",
          "2025-06-25",
          "2025-06-26",
          "2025-06-27",
          "2025-06-30",
          "2025-07-01",
          "2025-07-02",
          "2025-07-03",
          "2025-07-07",
          "2025-07-08",
          "2025-07-09",
          "2025-07-10",
          "2025-07-11",
          "2025-07-14",
          "2025-07-15",
          "2025-07-16",
          "2025-07-17",
          "2025-07-18",
          "2025-07-21",
          "2025-07-22",
          "2025-07-23",
          "2025-07-24",
          "2025-07-25",
          "2025-07-28",
          "2025-07-29",
          "2025-07-30",
          "2025-07-31",
          "2025-08-01",
          "2025-08-04",
          "2025-08-05",
          "2025-08-06",
          "2025-08-07",
          "2025-08-08",
          "2025-08-11",
          "2025-08-12",
          "2025-08-13",
          "2025-08-14",
          "2025-08-15",
          "2025-08-18",
          "2025-08-19",
          "2025-08-20",
          "2025-08-21",
          "2025-08-22",
          "2025-08-25",
          "2025-08-26",
          "2025-08-27",
          "2025-08-28",
          "2025-08-29",
          "2025-09-02",
          "2025-09-03",
          "2025-09-04",
          "2025-09-05",
          "2025-09-08",
          "2025-09-09"
         ],
         "xaxis": "x",
         "y": {
          "bdata": "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",
          "dtype": "f8"
         },
         "yaxis": "y"
        }
       ],
       "layout": {
        "annotations": [
         {
          "font": {
           "size": 8
          },
          "showarrow": false,
          "text": "Date: 2025-09-09, Open:22.31, High:22.85, Low:22.22, Close: 22.7",
          "x": 0.01,
          "xref": "x domain",
          "y": 1,
          "yref": "y domain"
         }
        ],
        "height": 400,
        "legend": {
         "font": {
          "size": 8
         },
         "title": {
          "font": {
           "family": "Arial"
          }
         }
        },
        "template": {
         "data": {
          "bar": [
           {
            "error_x": {
             "color": "#2a3f5f"
            },
            "error_y": {
             "color": "#2a3f5f"
            },
            "marker": {
             "line": {
              "color": "#E5ECF6",
              "width": 0.5
             },
             "pattern": {
              "fillmode": "overlay",
              "size": 10,
              "solidity": 0.2
             }
            },
            "type": "bar"
           }
          ],
          "barpolar": [
           {
            "marker": {
             "line": {
              "color": "#E5ECF6",
              "width": 0.5
             },
             "pattern": {
              "fillmode": "overlay",
              "size": 10,
              "solidity": 0.2
             }
            },
            "type": "barpolar"
           }
          ],
          "carpet": [
           {
            "aaxis": {
             "endlinecolor": "#2a3f5f",
             "gridcolor": "white",
             "linecolor": "white",
             "minorgridcolor": "white",
             "startlinecolor": "#2a3f5f"
            },
            "baxis": {
             "endlinecolor": "#2a3f5f",
             "gridcolor": "white",
             "linecolor": "white",
             "minorgridcolor": "white",
             "startlinecolor": "#2a3f5f"
            },
            "type": "carpet"
           }
          ],
          "choropleth": [
           {
            "colorbar": {
             "outlinewidth": 0,
             "ticks": ""
            },
            "type": "choropleth"
           }
          ],
          "contour": [
           {
            "colorbar": {
             "outlinewidth": 0,
             "ticks": ""
            },
            "colorscale": [
             [
              0,
              "#0d0887"
             ],
             [
              0.1111111111111111,
              "#46039f"
             ],
             [
              0.2222222222222222,
              "#7201a8"
             ],
             [
              0.3333333333333333,
              "#9c179e"
             ],
             [
              0.4444444444444444,
              "#bd3786"
             ],
             [
              0.5555555555555556,
              "#d8576b"
             ],
             [
              0.6666666666666666,
              "#ed7953"
             ],
             [
              0.7777777777777778,
              "#fb9f3a"
             ],
             [
              0.8888888888888888,
              "#fdca26"
             ],
             [
              1,
              "#f0f921"
             ]
            ],
            "type": "contour"
           }
          ],
          "contourcarpet": [
           {
            "colorbar": {
             "outlinewidth": 0,
             "ticks": ""
            },
            "type": "contourcarpet"
           }
          ],
          "heatmap": [
           {
            "colorbar": {
             "outlinewidth": 0,
             "ticks": ""
            },
            "colorscale": [
             [
              0,
              "#0d0887"
             ],
             [
              0.1111111111111111,
              "#46039f"
             ],
             [
              0.2222222222222222,
              "#7201a8"
             ],
             [
              0.3333333333333333,
              "#9c179e"
             ],
             [
              0.4444444444444444,
              "#bd3786"
             ],
             [
              0.5555555555555556,
              "#d8576b"
             ],
             [
              0.6666666666666666,
              "#ed7953"
             ],
             [
              0.7777777777777778,
              "#fb9f3a"
             ],
             [
              0.8888888888888888,
              "#fdca26"
             ],
             [
              1,
              "#f0f921"
             ]
            ],
            "type": "heatmap"
           }
          ],
          "histogram": [
           {
            "marker": {
             "pattern": {
              "fillmode": "overlay",
              "size": 10,
              "solidity": 0.2
             }
            },
            "type": "histogram"
           }
          ],
          "histogram2d": [
           {
            "colorbar": {
             "outlinewidth": 0,
             "ticks": ""
            },
            "colorscale": [
             [
              0,
              "#0d0887"
             ],
             [
              0.1111111111111111,
              "#46039f"
             ],
             [
              0.2222222222222222,
              "#7201a8"
             ],
             [
              0.3333333333333333,
              "#9c179e"
             ],
             [
              0.4444444444444444,
              "#bd3786"
             ],
             [
              0.5555555555555556,
              "#d8576b"
             ],
             [
              0.6666666666666666,
              "#ed7953"
             ],
             [
              0.7777777777777778,
              "#fb9f3a"
             ],
             [
              0.8888888888888888,
              "#fdca26"
             ],
             [
              1,
              "#f0f921"
             ]
            ],
            "type": "histogram2d"
           }
          ],
          "histogram2dcontour": [
           {
            "colorbar": {
             "outlinewidth": 0,
             "ticks": ""
            },
            "colorscale": [
             [
              0,
              "#0d0887"
             ],
             [
              0.1111111111111111,
              "#46039f"
             ],
             [
              0.2222222222222222,
              "#7201a8"
             ],
             [
              0.3333333333333333,
              "#9c179e"
             ],
             [
              0.4444444444444444,
              "#bd3786"
             ],
             [
              0.5555555555555556,
              "#d8576b"
             ],
             [
              0.6666666666666666,
              "#ed7953"
             ],
             [
              0.7777777777777778,
              "#fb9f3a"
             ],
             [
              0.8888888888888888,
              "#fdca26"
             ],
             [
              1,
              "#f0f921"
             ]
            ],
            "type": "histogram2dcontour"
           }
          ],
          "mesh3d": [
           {
            "colorbar": {
             "outlinewidth": 0,
             "ticks": ""
            },
            "type": "mesh3d"
           }
          ],
          "parcoords": [
           {
            "line": {
             "colorbar": {
              "outlinewidth": 0,
              "ticks": ""
             }
            },
            "type": "parcoords"
           }
          ],
          "pie": [
           {
            "automargin": true,
            "type": "pie"
           }
          ],
          "scatter": [
           {
            "fillpattern": {
             "fillmode": "overlay",
             "size": 10,
             "solidity": 0.2
            },
            "type": "scatter"
           }
          ],
          "scatter3d": [
           {
            "line": {
             "colorbar": {
              "outlinewidth": 0,
              "ticks": ""
             }
            },
            "marker": {
             "colorbar": {
              "outlinewidth": 0,
              "ticks": ""
             }
            },
            "type": "scatter3d"
           }
          ],
          "scattercarpet": [
           {
            "marker": {
             "colorbar": {
              "outlinewidth": 0,
              "ticks": ""
             }
            },
            "type": "scattercarpet"
           }
          ],
          "scattergeo": [
           {
            "marker": {
             "colorbar": {
              "outlinewidth": 0,
              "ticks": ""
             }
            },
            "type": "scattergeo"
           }
          ],
          "scattergl": [
           {
            "marker": {
             "colorbar": {
              "outlinewidth": 0,
              "ticks": ""
             }
            },
            "type": "scattergl"
           }
          ],
          "scattermap": [
           {
            "marker": {
             "colorbar": {
              "outlinewidth": 0,
              "ticks": ""
             }
            },
            "type": "scattermap"
           }
          ],
          "scattermapbox": [
           {
            "marker": {
             "colorbar": {
              "outlinewidth": 0,
              "ticks": ""
             }
            },
            "type": "scattermapbox"
           }
          ],
          "scatterpolar": [
           {
            "marker": {
             "colorbar": {
              "outlinewidth": 0,
              "ticks": ""
             }
            },
            "type": "scatterpolar"
           }
          ],
          "scatterpolargl": [
           {
            "marker": {
             "colorbar": {
              "outlinewidth": 0,
              "ticks": ""
             }
            },
            "type": "scatterpolargl"
           }
          ],
          "scatterternary": [
           {
            "marker": {
             "colorbar": {
              "outlinewidth": 0,
              "ticks": ""
             }
            },
            "type": "scatterternary"
           }
          ],
          "surface": [
           {
            "colorbar": {
             "outlinewidth": 0,
             "ticks": ""
            },
            "colorscale": [
             [
              0,
              "#0d0887"
             ],
             [
              0.1111111111111111,
              "#46039f"
             ],
             [
              0.2222222222222222,
              "#7201a8"
             ],
             [
              0.3333333333333333,
              "#9c179e"
             ],
             [
              0.4444444444444444,
              "#bd3786"
             ],
             [
              0.5555555555555556,
              "#d8576b"
             ],
             [
              0.6666666666666666,
              "#ed7953"
             ],
             [
              0.7777777777777778,
              "#fb9f3a"
             ],
             [
              0.8888888888888888,
              "#fdca26"
             ],
             [
              1,
              "#f0f921"
             ]
            ],
            "type": "surface"
           }
          ],
          "table": [
           {
            "cells": {
             "fill": {
              "color": "#EBF0F8"
             },
             "line": {
              "color": "white"
             }
            },
            "header": {
             "fill": {
              "color": "#C8D4E3"
             },
             "line": {
              "color": "white"
             }
            },
            "type": "table"
           }
          ]
         },
         "layout": {
          "annotationdefaults": {
           "arrowcolor": "#2a3f5f",
           "arrowhead": 0,
           "arrowwidth": 1
          },
          "autotypenumbers": "strict",
          "coloraxis": {
           "colorbar": {
            "outlinewidth": 0,
            "ticks": ""
           }
          },
          "colorscale": {
           "diverging": [
            [
             0,
             "#8e0152"
            ],
            [
             0.1,
             "#c51b7d"
            ],
            [
             0.2,
             "#de77ae"
            ],
            [
             0.3,
             "#f1b6da"
            ],
            [
             0.4,
             "#fde0ef"
            ],
            [
             0.5,
             "#f7f7f7"
            ],
            [
             0.6,
             "#e6f5d0"
            ],
            [
             0.7,
             "#b8e186"
            ],
            [
             0.8,
             "#7fbc41"
            ],
            [
             0.9,
             "#4d9221"
            ],
            [
             1,
             "#276419"
            ]
           ],
           "sequential": [
            [
             0,
             "#0d0887"
            ],
            [
             0.1111111111111111,
             "#46039f"
            ],
            [
             0.2222222222222222,
             "#7201a8"
            ],
            [
             0.3333333333333333,
             "#9c179e"
            ],
            [
             0.4444444444444444,
             "#bd3786"
            ],
            [
             0.5555555555555556,
             "#d8576b"
            ],
            [
             0.6666666666666666,
             "#ed7953"
            ],
            [
             0.7777777777777778,
             "#fb9f3a"
            ],
            [
             0.8888888888888888,
             "#fdca26"
            ],
            [
             1,
             "#f0f921"
            ]
           ],
           "sequentialminus": [
            [
             0,
             "#0d0887"
            ],
            [
             0.1111111111111111,
             "#46039f"
            ],
            [
             0.2222222222222222,
             "#7201a8"
            ],
            [
             0.3333333333333333,
             "#9c179e"
            ],
            [
             0.4444444444444444,
             "#bd3786"
            ],
            [
             0.5555555555555556,
             "#d8576b"
            ],
            [
             0.6666666666666666,
             "#ed7953"
            ],
            [
             0.7777777777777778,
             "#fb9f3a"
            ],
            [
             0.8888888888888888,
             "#fdca26"
            ],
            [
             1,
             "#f0f921"
            ]
           ]
          },
          "colorway": [
           "#636efa",
           "#EF553B",
           "#00cc96",
           "#ab63fa",
           "#FFA15A",
           "#19d3f3",
           "#FF6692",
           "#B6E880",
           "#FF97FF",
           "#FECB52"
          ],
          "font": {
           "color": "#2a3f5f"
          },
          "geo": {
           "bgcolor": "white",
           "lakecolor": "white",
           "landcolor": "#E5ECF6",
           "showlakes": true,
           "showland": true,
           "subunitcolor": "white"
          },
          "hoverlabel": {
           "align": "left"
          },
          "hovermode": "closest",
          "mapbox": {
           "style": "light"
          },
          "paper_bgcolor": "white",
          "plot_bgcolor": "#E5ECF6",
          "polar": {
           "angularaxis": {
            "gridcolor": "white",
            "linecolor": "white",
            "ticks": ""
           },
           "bgcolor": "#E5ECF6",
           "radialaxis": {
            "gridcolor": "white",
            "linecolor": "white",
            "ticks": ""
           }
          },
          "scene": {
           "xaxis": {
            "backgroundcolor": "#E5ECF6",
            "gridcolor": "white",
            "gridwidth": 2,
            "linecolor": "white",
            "showbackground": true,
            "ticks": "",
            "zerolinecolor": "white"
           },
           "yaxis": {
            "backgroundcolor": "#E5ECF6",
            "gridcolor": "white",
            "gridwidth": 2,
            "linecolor": "white",
            "showbackground": true,
            "ticks": "",
            "zerolinecolor": "white"
           },
           "zaxis": {
            "backgroundcolor": "#E5ECF6",
            "gridcolor": "white",
            "gridwidth": 2,
            "linecolor": "white",
            "showbackground": true,
            "ticks": "",
            "zerolinecolor": "white"
           }
          },
          "shapedefaults": {
           "line": {
            "color": "#2a3f5f"
           }
          },
          "ternary": {
           "aaxis": {
            "gridcolor": "white",
            "linecolor": "white",
            "ticks": ""
           },
           "baxis": {
            "gridcolor": "white",
            "linecolor": "white",
            "ticks": ""
           },
           "bgcolor": "#E5ECF6",
           "caxis": {
            "gridcolor": "white",
            "linecolor": "white",
            "ticks": ""
           }
          },
          "title": {
           "x": 0.05
          },
          "xaxis": {
           "automargin": true,
           "gridcolor": "white",
           "linecolor": "white",
           "ticks": "",
           "title": {
            "standoff": 15
           },
           "zerolinecolor": "white",
           "zerolinewidth": 2
          },
          "yaxis": {
           "automargin": true,
           "gridcolor": "white",
           "linecolor": "white",
           "ticks": "",
           "title": {
            "standoff": 15
           },
           "zerolinecolor": "white",
           "zerolinewidth": 2
          }
         }
        },
        "title": {
         "text": "TOP 20",
         "x": 0.5
        },
        "width": 600,
        "xaxis": {
         "anchor": "y",
         "domain": [
          0,
          0.94
         ]
        },
        "yaxis": {
         "anchor": "x",
         "domain": [
          0,
          1
         ],
         "side": "right"
        },
        "yaxis2": {
         "anchor": "x",
         "overlaying": "y",
         "side": "right"
        }
       }
      }
     },
     "metadata": {},
     "output_type": "display_data"
    },
    {
     "data": {
      "application/vnd.plotly.v1+json": {
       "config": {
        "plotlyServerURL": "https://plot.ly"
       },
       "data": [
        {
         "name": "LMND: 38.18 %",
         "type": "scatter",
         "x": [
          "2024-07-16",
          "2024-07-17",
          "2024-07-18",
          "2024-07-19",
          "2024-07-22",
          "2024-07-23",
          "2024-07-24",
          "2024-07-25",
          "2024-07-26",
          "2024-07-29",
          "2024-07-30",
          "2024-07-31",
          "2024-08-01",
          "2024-08-02",
          "2024-08-05",
          "2024-08-06",
          "2024-08-07",
          "2024-08-08",
          "2024-08-09",
          "2024-08-12",
          "2024-08-13",
          "2024-08-14",
          "2024-08-15",
          "2024-08-16",
          "2024-08-19",
          "2024-08-20",
          "2024-08-21",
          "2024-08-22",
          "2024-08-23",
          "2024-08-26",
          "2024-08-27",
          "2024-08-28",
          "2024-08-29",
          "2024-08-30",
          "2024-09-03",
          "2024-09-04",
          "2024-09-05",
          "2024-09-06",
          "2024-09-09",
          "2024-09-10",
          "2024-09-11",
          "2024-09-12",
          "2024-09-13",
          "2024-09-16",
          "2024-09-17",
          "2024-09-18",
          "2024-09-19",
          "2024-09-20",
          "2024-09-23",
          "2024-09-24",
          "2024-09-25",
          "2024-09-26",
          "2024-09-27",
          "2024-09-30",
          "2024-10-01",
          "2024-10-02",
          "2024-10-03",
          "2024-10-04",
          "2024-10-07",
          "2024-10-08",
          "2024-10-09",
          "2024-10-10",
          "2024-10-11",
          "2024-10-14",
          "2024-10-15",
          "2024-10-16",
          "2024-10-17",
          "2024-10-18",
          "2024-10-21",
          "2024-10-22",
          "2024-10-23",
          "2024-10-24",
          "2024-10-25",
          "2024-10-28",
          "2024-10-29",
          "2024-10-30",
          "2024-10-31",
          "2024-11-01",
          "2024-11-04",
          "2024-11-05",
          "2024-11-06",
          "2024-11-07",
          "2024-11-08",
          "2024-11-11",
          "2024-11-12",
          "2024-11-13",
          "2024-11-14",
          "2024-11-15",
          "2024-11-18",
          "2024-11-19",
          "2024-11-20",
          "2024-11-21",
          "2024-11-22",
          "2024-11-25",
          "2024-11-26",
          "2024-11-27",
          "2024-11-29",
          "2024-12-02",
          "2024-12-03",
          "2024-12-04",
          "2024-12-05",
          "2024-12-06",
          "2024-12-09",
          "2024-12-10",
          "2024-12-11",
          "2024-12-12",
          "2024-12-13",
          "2024-12-16",
          "2024-12-17",
          "2024-12-18",
          "2024-12-19",
          "2024-12-20",
          "2024-12-23",
          "2024-12-24",
          "2024-12-26",
          "2024-12-27",
          "2024-12-30",
          "2024-12-31",
          "2025-01-02",
          "2025-01-03",
          "2025-01-06",
          "2025-01-07",
          "2025-01-08",
          "2025-01-10",
          "2025-01-13",
          "2025-01-14",
          "2025-01-15",
          "2025-01-16",
          "2025-01-17",
          "2025-01-21",
          "2025-01-22",
          "2025-01-23",
          "2025-01-24",
          "2025-01-27",
          "2025-01-28",
          "2025-01-29",
          "2025-01-30",
          "2025-01-31",
          "2025-02-03",
          "2025-02-04",
          "2025-02-05",
          "2025-02-06",
          "2025-02-07",
          "2025-02-10",
          "2025-02-11",
          "2025-02-12",
          "2025-02-13",
          "2025-02-14",
          "2025-02-18",
          "2025-02-19",
          "2025-02-20",
          "2025-02-21",
          "2025-02-24",
          "2025-02-25",
          "2025-02-26",
          "2025-02-27",
          "2025-02-28",
          "2025-03-03",
          "2025-03-04",
          "2025-03-05",
          "2025-03-06",
          "2025-03-07",
          "2025-03-10",
          "2025-03-11",
          "2025-03-12",
          "2025-03-13",
          "2025-03-14",
          "2025-03-17",
          "2025-03-18",
          "2025-03-19",
          "2025-03-20",
          "2025-03-21",
          "2025-03-24",
          "2025-03-25",
          "2025-03-26",
          "2025-03-27",
          "2025-03-28",
          "2025-03-31",
          "2025-04-01",
          "2025-04-02",
          "2025-04-03",
          "2025-04-04",
          "2025-04-07",
          "2025-04-08",
          "2025-04-09",
          "2025-04-10",
          "2025-04-11",
          "2025-04-14",
          "2025-04-15",
          "2025-04-16",
          "2025-04-17",
          "2025-04-21",
          "2025-04-22",
          "2025-04-23",
          "2025-04-24",
          "2025-04-25",
          "2025-04-28",
          "2025-04-29",
          "2025-04-30",
          "2025-05-01",
          "2025-05-02",
          "2025-05-05",
          "2025-05-06",
          "2025-05-07",
          "2025-05-08",
          "2025-05-09",
          "2025-05-12",
          "2025-05-13",
          "2025-05-14",
          "2025-05-15",
          "2025-05-16",
          "2025-05-19",
          "2025-05-20",
          "2025-05-21",
          "2025-05-22",
          "2025-05-23",
          "2025-05-27",
          "2025-05-28",
          "2025-05-29",
          "2025-05-30",
          "2025-06-02",
          "2025-06-03",
          "2025-06-04",
          "2025-06-05",
          "2025-06-06",
          "2025-06-09",
          "2025-06-10",
          "2025-06-11",
          "2025-06-12",
          "2025-06-13",
          "2025-06-16",
          "2025-06-17",
          "2025-06-18",
          "2025-06-20",
          "2025-06-23",
          "2025-06-24",
          "2025-06-25",
          "2025-06-26",
          "2025-06-27",
          "2025-06-30",
          "2025-07-01",
          "2025-07-02",
          "2025-07-03",
          "2025-07-07",
          "2025-07-08",
          "2025-07-09",
          "2025-07-10",
          "2025-07-11",
          "2025-07-14",
          "2025-07-15",
          "2025-07-16",
          "2025-07-17",
          "2025-07-18",
          "2025-07-21",
          "2025-07-22",
          "2025-07-23",
          "2025-07-24",
          "2025-07-25",
          "2025-07-28",
          "2025-07-29",
          "2025-07-30",
          "2025-07-31",
          "2025-08-01",
          "2025-08-04",
          "2025-08-05",
          "2025-08-06",
          "2025-08-07",
          "2025-08-08",
          "2025-08-11",
          "2025-08-12",
          "2025-08-13",
          "2025-08-14",
          "2025-08-15",
          "2025-08-18",
          "2025-08-19",
          "2025-08-20",
          "2025-08-21",
          "2025-08-22",
          "2025-08-25",
          "2025-08-26",
          "2025-08-27",
          "2025-08-28",
          "2025-08-29",
          "2025-09-02",
          "2025-09-03",
          "2025-09-04",
          "2025-09-05",
          "2025-09-08",
          "2025-09-09"
         ],
         "xaxis": "x",
         "y": {
          "bdata": "AAAAAAAANUBSuB6F6xE2QAAAAAAAADdAmpmZmZmZNkAAAAAAAIA2QLgehetReDZAKVyPwvVoNkDD9Shcj4I1QBSuR+F6VDdAZmZmZmZmN0Bcj8L1KBw3QDMzMzMzMzRAZmZmZmbmMUAAAAAAAIAwQArXo3A9ii5AZmZmZmamMEBcj8L1KFwvQAAAAAAAAC9AuB6F61E4L0DhehSuR+EuQOxRuB6Fay5AmpmZmZmZL0DsUbgehSswQMP1KFyPgjBAexSuR+H6MEBmZmZmZqYxQGZmZmZmpjFA4XoUrkdhMUDhehSuR2ExQEjhehSuxzJAZmZmZmZmMkBI4XoUrgcyQB+F61G43jFAMzMzMzOzMkDsUbgehWsyQPYoXI/CNTJA7FG4HoXrMkDD9ShcjwIzQAAAAAAAgDJAPQrXo3A9MkBmZmZmZqYxQJqZmZmZWTFArkfhehQuMkCamZmZmRkyQPYoXI/CdTJAhetRuB5FMkDXo3A9CtcyQKRwPQrXYzJAzczMzMxMMkAAAAAAAIAxQClcj8L1KDFAXI/C9ShcMUD2KFyPwjUxQB+F61G43jBAuB6F61F4MEAAAAAAAAAwQOxRuB6FKzBAH4XrUbieMEC4HoXrUTgwQHE9CtejcC9Aj8L1KFwPL0BxPQrXozAwQOxRuB6F6zBAPQrXo3B9MUApXI/C9agxQM3MzMzMzDJApHA9CtdjM0BSuB6F6xEzQAAAAAAAgDJAj8L1KFxPMkCkcD0K16MyQArXo3A9yjJAAAAAAAAAM0AzMzMzM7MyQKRwPQrXozJAj8L1KFwPMkDhehSuR+E0QArXo3A9SjhACtejcD0KOEDhehSuR6E3QArXo3A9SjpApHA9CtcjPEAfhetRuF47QAAAAAAAgD1Aj8L1KFyPQEAUrkfhenRAQAAAAAAAgEBAuB6F61H4P0B7FK5H4VpAQLgehetRGEFAcT0K16NwRUCuR+F6FC5HQBSuR+F6tEhAKVyPwvUoSUDXo3A9CtdIQEjhehSuB0lAj8L1KFyvSEDD9ShcjyJKQAAAAAAAwEZAFK5H4Xp0RkAAAAAAAEBHQClcj8L1SEdAw/UoXI+CR0ApXI/C9UhGQArXo3A9CkVAPQrXo3B9RUAK16NwPQpEQBSuR+F6dEZAH4XrUbh+RUBxPQrXo3BFQHE9Ctej8ENAPQrXo3C9QkCamZmZmdlEQAAAAAAAAERAexSuR+GaRECPwvUoXO9FQPYoXI/CVUNAexSuR+E6Q0BxPQrXo5BCQK5H4XoUbkJAmpmZmZkZQ0AAAAAAAIBDQJqZmZmZuUFArkfhehROQEBxPQrXo/A+QB+F61G4nj9AAAAAAACAQEBcj8L1KNw/QMP1KFyPwkBAAAAAAADAQEDhehSuR2FAQEjhehSuBz9ACtejcD2qQEAAAAAAAAA/QOxRuB6Faz9AexSuR+F6QEAAAAAAAABBQAAAAAAAAEFAMzMzMzOzP0D2KFyPwpVAQOxRuB6FK0FAAAAAAAAAQkAAAAAAAEBCQGZmZmZmJkNAPQrXo3B9QkCuR+F6FO4/QHsUrkfhWkBA4XoUrkeBQkAAAAAAAABDQArXo3A9KkNAw/UoXI9iQkCamZmZmflBQLgehetRuEBAH4XrUbg+QUBcj8L1KBw7QI/C9Shczz9AUrgehesxQUAfhetRuJ5CQI/C9ShcD0FAFK5H4Xp0QkCamZmZmdlBQMP1KFyPAkFAPQrXo3B9QUApXI/C9YhAQLgehetR2EFAhetRuB5FQUAK16NwPcpAQBSuR+F6lEFAH4XrUbjeQUB7FK5H4fpAQM3MzMzMLEFAw/UoXI/CQEAAAAAAAMBBQDMzMzMzc0JAKVyPwvVoQkAAAAAAAMBAQFyPwvUovEBAKVyPwvUoP0DNzMzMzIw/QPYoXI/C9T5AcT0K16PwPECamZmZmdk8QDMzMzMz8zlAMzMzMzMzPEApXI/C9eg4QHE9CtejcDxAAAAAAAAAOkDNzMzMzIw7QKRwPQrX4zpASOF6FK5HOkAAAAAAAAA7QNejcD0KVzpAmpmZmZnZOUCkcD0K1yM9QHsUrkfh+jtAZmZmZmamPEC4HoXrUbg9QAAAAAAAwD1AuB6F61E4PEDhehSuRyE9QEjhehSuBz1A4XoUrkdhPUBI4XoUrkdAQAAAAAAAQD5A9ihcj8I1P0A9CtejcP0+QAAAAAAAgEBAKVyPwvUIQECamZmZmVlAQGZmZmZm5j5AzczMzMyMP0AK16NwPco/QM3MzMzMLEBAmpmZmZkZP0CamZmZmRk9QBSuR+F6lD1AUrgehevRP0AAAAAAAABBQK5H4XoUbkBAzczMzMwMQEA9CtejcL1AQIXrUbgeRUJAFK5H4Xq0QUCF61G4HiVCQOF6FK5HIUJAZmZmZmYmRECkcD0K16NEQM3MzMzMzERAAAAAAAAARUCF61G4HiVEQEjhehSuh0RAexSuR+HaREAzMzMzM/NCQMP1KFyPokRAAAAAAADARUDNzMzMzGxHQPYoXI/CVUZAAAAAAADARECamZmZmXlFQLgehetRWEVAFK5H4Xr0RUAAAAAAAKBFQPYoXI/CFUVApHA9CtcjRUDhehSuR4FFQOF6FK5HAUVACtejcD2qREBxPQrXo7BDQBSuR+F6FENAzczMzMwsRECPwvUoXK9DQDMzMzMzE0RAUrgeheuRRECamZmZmVlFQAAAAAAAAERArkfhehTuREDhehSuR8FEQKRwPQrXY0RAmpmZmZkZRED2KFyPwnVDQDMzMzMzc0JAzczMzMyMQkAAAAAAACBCQAAAAAAAwEJAcT0K16OwREBxPQrXozBIQOF6FK5H4UlAw/UoXI8iSECPwvUoXE9IQKRwPQrXo0pAhetRuB4FTEB7FK5H4XpMQD0K16NwfU1A4XoUrkfhTEDhehSuR4FNQD0K16NwnUxAMzMzMzPTS0DsUbgehQtMQGZmZmZmBkxAj8L1KFyvSkCkcD0K18NKQJqZmZmZGUtAZmZmZmbGSkCkcD0K18NJQEjhehSuJ0pAexSuR+H6SEAK16NwPcpJQFyPwvUo/EhApHA9CtfjSkA=",
          "dtype": "f8"
         },
         "yaxis": "y"
        },
        {
         "name": "SMA 50",
         "type": "scatter",
         "x": [
          "2024-07-16",
          "2024-07-17",
          "2024-07-18",
          "2024-07-19",
          "2024-07-22",
          "2024-07-23",
          "2024-07-24",
          "2024-07-25",
          "2024-07-26",
          "2024-07-29",
          "2024-07-30",
          "2024-07-31",
          "2024-08-01",
          "2024-08-02",
          "2024-08-05",
          "2024-08-06",
          "2024-08-07",
          "2024-08-08",
          "2024-08-09",
          "2024-08-12",
          "2024-08-13",
          "2024-08-14",
          "2024-08-15",
          "2024-08-16",
          "2024-08-19",
          "2024-08-20",
          "2024-08-21",
          "2024-08-22",
          "2024-08-23",
          "2024-08-26",
          "2024-08-27",
          "2024-08-28",
          "2024-08-29",
          "2024-08-30",
          "2024-09-03",
          "2024-09-04",
          "2024-09-05",
          "2024-09-06",
          "2024-09-09",
          "2024-09-10",
          "2024-09-11",
          "2024-09-12",
          "2024-09-13",
          "2024-09-16",
          "2024-09-17",
          "2024-09-18",
          "2024-09-19",
          "2024-09-20",
          "2024-09-23",
          "2024-09-24",
          "2024-09-25",
          "2024-09-26",
          "2024-09-27",
          "2024-09-30",
          "2024-10-01",
          "2024-10-02",
          "2024-10-03",
          "2024-10-04",
          "2024-10-07",
          "2024-10-08",
          "2024-10-09",
          "2024-10-10",
          "2024-10-11",
          "2024-10-14",
          "2024-10-15",
          "2024-10-16",
          "2024-10-17",
          "2024-10-18",
          "2024-10-21",
          "2024-10-22",
          "2024-10-23",
          "2024-10-24",
          "2024-10-25",
          "2024-10-28",
          "2024-10-29",
          "2024-10-30",
          "2024-10-31",
          "2024-11-01",
          "2024-11-04",
          "2024-11-05",
          "2024-11-06",
          "2024-11-07",
          "2024-11-08",
          "2024-11-11",
          "2024-11-12",
          "2024-11-13",
          "2024-11-14",
          "2024-11-15",
          "2024-11-18",
          "2024-11-19",
          "2024-11-20",
          "2024-11-21",
          "2024-11-22",
          "2024-11-25",
          "2024-11-26",
          "2024-11-27",
          "2024-11-29",
          "2024-12-02",
          "2024-12-03",
          "2024-12-04",
          "2024-12-05",
          "2024-12-06",
          "2024-12-09",
          "2024-12-10",
          "2024-12-11",
          "2024-12-12",
          "2024-12-13",
          "2024-12-16",
          "2024-12-17",
          "2024-12-18",
          "2024-12-19",
          "2024-12-20",
          "2024-12-23",
          "2024-12-24",
          "2024-12-26",
          "2024-12-27",
          "2024-12-30",
          "2024-12-31",
          "2025-01-02",
          "2025-01-03",
          "2025-01-06",
          "2025-01-07",
          "2025-01-08",
          "2025-01-10",
          "2025-01-13",
          "2025-01-14",
          "2025-01-15",
          "2025-01-16",
          "2025-01-17",
          "2025-01-21",
          "2025-01-22",
          "2025-01-23",
          "2025-01-24",
          "2025-01-27",
          "2025-01-28",
          "2025-01-29",
          "2025-01-30",
          "2025-01-31",
          "2025-02-03",
          "2025-02-04",
          "2025-02-05",
          "2025-02-06",
          "2025-02-07",
          "2025-02-10",
          "2025-02-11",
          "2025-02-12",
          "2025-02-13",
          "2025-02-14",
          "2025-02-18",
          "2025-02-19",
          "2025-02-20",
          "2025-02-21",
          "2025-02-24",
          "2025-02-25",
          "2025-02-26",
          "2025-02-27",
          "2025-02-28",
          "2025-03-03",
          "2025-03-04",
          "2025-03-05",
          "2025-03-06",
          "2025-03-07",
          "2025-03-10",
          "2025-03-11",
          "2025-03-12",
          "2025-03-13",
          "2025-03-14",
          "2025-03-17",
          "2025-03-18",
          "2025-03-19",
          "2025-03-20",
          "2025-03-21",
          "2025-03-24",
          "2025-03-25",
          "2025-03-26",
          "2025-03-27",
          "2025-03-28",
          "2025-03-31",
          "2025-04-01",
          "2025-04-02",
          "2025-04-03",
          "2025-04-04",
          "2025-04-07",
          "2025-04-08",
          "2025-04-09",
          "2025-04-10",
          "2025-04-11",
          "2025-04-14",
          "2025-04-15",
          "2025-04-16",
          "2025-04-17",
          "2025-04-21",
          "2025-04-22",
          "2025-04-23",
          "2025-04-24",
          "2025-04-25",
          "2025-04-28",
          "2025-04-29",
          "2025-04-30",
          "2025-05-01",
          "2025-05-02",
          "2025-05-05",
          "2025-05-06",
          "2025-05-07",
          "2025-05-08",
          "2025-05-09",
          "2025-05-12",
          "2025-05-13",
          "2025-05-14",
          "2025-05-15",
          "2025-05-16",
          "2025-05-19",
          "2025-05-20",
          "2025-05-21",
          "2025-05-22",
          "2025-05-23",
          "2025-05-27",
          "2025-05-28",
          "2025-05-29",
          "2025-05-30",
          "2025-06-02",
          "2025-06-03",
          "2025-06-04",
          "2025-06-05",
          "2025-06-06",
          "2025-06-09",
          "2025-06-10",
          "2025-06-11",
          "2025-06-12",
          "2025-06-13",
          "2025-06-16",
          "2025-06-17",
          "2025-06-18",
          "2025-06-20",
          "2025-06-23",
          "2025-06-24",
          "2025-06-25",
          "2025-06-26",
          "2025-06-27",
          "2025-06-30",
          "2025-07-01",
          "2025-07-02",
          "2025-07-03",
          "2025-07-07",
          "2025-07-08",
          "2025-07-09",
          "2025-07-10",
          "2025-07-11",
          "2025-07-14",
          "2025-07-15",
          "2025-07-16",
          "2025-07-17",
          "2025-07-18",
          "2025-07-21",
          "2025-07-22",
          "2025-07-23",
          "2025-07-24",
          "2025-07-25",
          "2025-07-28",
          "2025-07-29",
          "2025-07-30",
          "2025-07-31",
          "2025-08-01",
          "2025-08-04",
          "2025-08-05",
          "2025-08-06",
          "2025-08-07",
          "2025-08-08",
          "2025-08-11",
          "2025-08-12",
          "2025-08-13",
          "2025-08-14",
          "2025-08-15",
          "2025-08-18",
          "2025-08-19",
          "2025-08-20",
          "2025-08-21",
          "2025-08-22",
          "2025-08-25",
          "2025-08-26",
          "2025-08-27",
          "2025-08-28",
          "2025-08-29",
          "2025-09-02",
          "2025-09-03",
          "2025-09-04",
          "2025-09-05",
          "2025-09-08",
          "2025-09-09"
         ],
         "xaxis": "x",
         "y": {
          "bdata": "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",
          "dtype": "f8"
         },
         "yaxis": "y"
        }
       ],
       "layout": {
        "annotations": [
         {
          "font": {
           "size": 8
          },
          "showarrow": false,
          "text": "Date: 2025-09-09, Open:53.52, High:54.65, Low:52.17, Close: 53.78",
          "x": 0.01,
          "xref": "x domain",
          "y": 1,
          "yref": "y domain"
         }
        ],
        "height": 400,
        "legend": {
         "font": {
          "size": 8
         },
         "title": {
          "font": {
           "family": "Arial"
          }
         }
        },
        "template": {
         "data": {
          "bar": [
           {
            "error_x": {
             "color": "#2a3f5f"
            },
            "error_y": {
             "color": "#2a3f5f"
            },
            "marker": {
             "line": {
              "color": "#E5ECF6",
              "width": 0.5
             },
             "pattern": {
              "fillmode": "overlay",
              "size": 10,
              "solidity": 0.2
             }
            },
            "type": "bar"
           }
          ],
          "barpolar": [
           {
            "marker": {
             "line": {
              "color": "#E5ECF6",
              "width": 0.5
             },
             "pattern": {
              "fillmode": "overlay",
              "size": 10,
              "solidity": 0.2
             }
            },
            "type": "barpolar"
           }
          ],
          "carpet": [
           {
            "aaxis": {
             "endlinecolor": "#2a3f5f",
             "gridcolor": "white",
             "linecolor": "white",
             "minorgridcolor": "white",
             "startlinecolor": "#2a3f5f"
            },
            "baxis": {
             "endlinecolor": "#2a3f5f",
             "gridcolor": "white",
             "linecolor": "white",
             "minorgridcolor": "white",
             "startlinecolor": "#2a3f5f"
            },
            "type": "carpet"
           }
          ],
          "choropleth": [
           {
            "colorbar": {
             "outlinewidth": 0,
             "ticks": ""
            },
            "type": "choropleth"
           }
          ],
          "contour": [
           {
            "colorbar": {
             "outlinewidth": 0,
             "ticks": ""
            },
            "colorscale": [
             [
              0,
              "#0d0887"
             ],
             [
              0.1111111111111111,
              "#46039f"
             ],
             [
              0.2222222222222222,
              "#7201a8"
             ],
             [
              0.3333333333333333,
              "#9c179e"
             ],
             [
              0.4444444444444444,
              "#bd3786"
             ],
             [
              0.5555555555555556,
              "#d8576b"
             ],
             [
              0.6666666666666666,
              "#ed7953"
             ],
             [
              0.7777777777777778,
              "#fb9f3a"
             ],
             [
              0.8888888888888888,
              "#fdca26"
             ],
             [
              1,
              "#f0f921"
             ]
            ],
            "type": "contour"
           }
          ],
          "contourcarpet": [
           {
            "colorbar": {
             "outlinewidth": 0,
             "ticks": ""
            },
            "type": "contourcarpet"
           }
          ],
          "heatmap": [
           {
            "colorbar": {
             "outlinewidth": 0,
             "ticks": ""
            },
            "colorscale": [
             [
              0,
              "#0d0887"
             ],
             [
              0.1111111111111111,
              "#46039f"
             ],
             [
              0.2222222222222222,
              "#7201a8"
             ],
             [
              0.3333333333333333,
              "#9c179e"
             ],
             [
              0.4444444444444444,
              "#bd3786"
             ],
             [
              0.5555555555555556,
              "#d8576b"
             ],
             [
              0.6666666666666666,
              "#ed7953"
             ],
             [
              0.7777777777777778,
              "#fb9f3a"
             ],
             [
              0.8888888888888888,
              "#fdca26"
             ],
             [
              1,
              "#f0f921"
             ]
            ],
            "type": "heatmap"
           }
          ],
          "histogram": [
           {
            "marker": {
             "pattern": {
              "fillmode": "overlay",
              "size": 10,
              "solidity": 0.2
             }
            },
            "type": "histogram"
           }
          ],
          "histogram2d": [
           {
            "colorbar": {
             "outlinewidth": 0,
             "ticks": ""
            },
            "colorscale": [
             [
              0,
              "#0d0887"
             ],
             [
              0.1111111111111111,
              "#46039f"
             ],
             [
              0.2222222222222222,
              "#7201a8"
             ],
             [
              0.3333333333333333,
              "#9c179e"
             ],
             [
              0.4444444444444444,
              "#bd3786"
             ],
             [
              0.5555555555555556,
              "#d8576b"
             ],
             [
              0.6666666666666666,
              "#ed7953"
             ],
             [
              0.7777777777777778,
              "#fb9f3a"
             ],
             [
              0.8888888888888888,
              "#fdca26"
             ],
             [
              1,
              "#f0f921"
             ]
            ],
            "type": "histogram2d"
           }
          ],
          "histogram2dcontour": [
           {
            "colorbar": {
             "outlinewidth": 0,
             "ticks": ""
            },
            "colorscale": [
             [
              0,
              "#0d0887"
             ],
             [
              0.1111111111111111,
              "#46039f"
             ],
             [
              0.2222222222222222,
              "#7201a8"
             ],
             [
              0.3333333333333333,
              "#9c179e"
             ],
             [
              0.4444444444444444,
              "#bd3786"
             ],
             [
              0.5555555555555556,
              "#d8576b"
             ],
             [
              0.6666666666666666,
              "#ed7953"
             ],
             [
              0.7777777777777778,
              "#fb9f3a"
             ],
             [
              0.8888888888888888,
              "#fdca26"
             ],
             [
              1,
              "#f0f921"
             ]
            ],
            "type": "histogram2dcontour"
           }
          ],
          "mesh3d": [
           {
            "colorbar": {
             "outlinewidth": 0,
             "ticks": ""
            },
            "type": "mesh3d"
           }
          ],
          "parcoords": [
           {
            "line": {
             "colorbar": {
              "outlinewidth": 0,
              "ticks": ""
             }
            },
            "type": "parcoords"
           }
          ],
          "pie": [
           {
            "automargin": true,
            "type": "pie"
           }
          ],
          "scatter": [
           {
            "fillpattern": {
             "fillmode": "overlay",
             "size": 10,
             "solidity": 0.2
            },
            "type": "scatter"
           }
          ],
          "scatter3d": [
           {
            "line": {
             "colorbar": {
              "outlinewidth": 0,
              "ticks": ""
             }
            },
            "marker": {
             "colorbar": {
              "outlinewidth": 0,
              "ticks": ""
             }
            },
            "type": "scatter3d"
           }
          ],
          "scattercarpet": [
           {
            "marker": {
             "colorbar": {
              "outlinewidth": 0,
              "ticks": ""
             }
            },
            "type": "scattercarpet"
           }
          ],
          "scattergeo": [
           {
            "marker": {
             "colorbar": {
              "outlinewidth": 0,
              "ticks": ""
             }
            },
            "type": "scattergeo"
           }
          ],
          "scattergl": [
           {
            "marker": {
             "colorbar": {
              "outlinewidth": 0,
              "ticks": ""
             }
            },
            "type": "scattergl"
           }
          ],
          "scattermap": [
           {
            "marker": {
             "colorbar": {
              "outlinewidth": 0,
              "ticks": ""
             }
            },
            "type": "scattermap"
           }
          ],
          "scattermapbox": [
           {
            "marker": {
             "colorbar": {
              "outlinewidth": 0,
              "ticks": ""
             }
            },
            "type": "scattermapbox"
           }
          ],
          "scatterpolar": [
           {
            "marker": {
             "colorbar": {
              "outlinewidth": 0,
              "ticks": ""
             }
            },
            "type": "scatterpolar"
           }
          ],
          "scatterpolargl": [
           {
            "marker": {
             "colorbar": {
              "outlinewidth": 0,
              "ticks": ""
             }
            },
            "type": "scatterpolargl"
           }
          ],
          "scatterternary": [
           {
            "marker": {
             "colorbar": {
              "outlinewidth": 0,
              "ticks": ""
             }
            },
            "type": "scatterternary"
           }
          ],
          "surface": [
           {
            "colorbar": {
             "outlinewidth": 0,
             "ticks": ""
            },
            "colorscale": [
             [
              0,
              "#0d0887"
             ],
             [
              0.1111111111111111,
              "#46039f"
             ],
             [
              0.2222222222222222,
              "#7201a8"
             ],
             [
              0.3333333333333333,
              "#9c179e"
             ],
             [
              0.4444444444444444,
              "#bd3786"
             ],
             [
              0.5555555555555556,
              "#d8576b"
             ],
             [
              0.6666666666666666,
              "#ed7953"
             ],
             [
              0.7777777777777778,
              "#fb9f3a"
             ],
             [
              0.8888888888888888,
              "#fdca26"
             ],
             [
              1,
              "#f0f921"
             ]
            ],
            "type": "surface"
           }
          ],
          "table": [
           {
            "cells": {
             "fill": {
              "color": "#EBF0F8"
             },
             "line": {
              "color": "white"
             }
            },
            "header": {
             "fill": {
              "color": "#C8D4E3"
             },
             "line": {
              "color": "white"
             }
            },
            "type": "table"
           }
          ]
         },
         "layout": {
          "annotationdefaults": {
           "arrowcolor": "#2a3f5f",
           "arrowhead": 0,
           "arrowwidth": 1
          },
          "autotypenumbers": "strict",
          "coloraxis": {
           "colorbar": {
            "outlinewidth": 0,
            "ticks": ""
           }
          },
          "colorscale": {
           "diverging": [
            [
             0,
             "#8e0152"
            ],
            [
             0.1,
             "#c51b7d"
            ],
            [
             0.2,
             "#de77ae"
            ],
            [
             0.3,
             "#f1b6da"
            ],
            [
             0.4,
             "#fde0ef"
            ],
            [
             0.5,
             "#f7f7f7"
            ],
            [
             0.6,
             "#e6f5d0"
            ],
            [
             0.7,
             "#b8e186"
            ],
            [
             0.8,
             "#7fbc41"
            ],
            [
             0.9,
             "#4d9221"
            ],
            [
             1,
             "#276419"
            ]
           ],
           "sequential": [
            [
             0,
             "#0d0887"
            ],
            [
             0.1111111111111111,
             "#46039f"
            ],
            [
             0.2222222222222222,
             "#7201a8"
            ],
            [
             0.3333333333333333,
             "#9c179e"
            ],
            [
             0.4444444444444444,
             "#bd3786"
            ],
            [
             0.5555555555555556,
             "#d8576b"
            ],
            [
             0.6666666666666666,
             "#ed7953"
            ],
            [
             0.7777777777777778,
             "#fb9f3a"
            ],
            [
             0.8888888888888888,
             "#fdca26"
            ],
            [
             1,
             "#f0f921"
            ]
           ],
           "sequentialminus": [
            [
             0,
             "#0d0887"
            ],
            [
             0.1111111111111111,
             "#46039f"
            ],
            [
             0.2222222222222222,
             "#7201a8"
            ],
            [
             0.3333333333333333,
             "#9c179e"
            ],
            [
             0.4444444444444444,
             "#bd3786"
            ],
            [
             0.5555555555555556,
             "#d8576b"
            ],
            [
             0.6666666666666666,
             "#ed7953"
            ],
            [
             0.7777777777777778,
             "#fb9f3a"
            ],
            [
             0.8888888888888888,
             "#fdca26"
            ],
            [
             1,
             "#f0f921"
            ]
           ]
          },
          "colorway": [
           "#636efa",
           "#EF553B",
           "#00cc96",
           "#ab63fa",
           "#FFA15A",
           "#19d3f3",
           "#FF6692",
           "#B6E880",
           "#FF97FF",
           "#FECB52"
          ],
          "font": {
           "color": "#2a3f5f"
          },
          "geo": {
           "bgcolor": "white",
           "lakecolor": "white",
           "landcolor": "#E5ECF6",
           "showlakes": true,
           "showland": true,
           "subunitcolor": "white"
          },
          "hoverlabel": {
           "align": "left"
          },
          "hovermode": "closest",
          "mapbox": {
           "style": "light"
          },
          "paper_bgcolor": "white",
          "plot_bgcolor": "#E5ECF6",
          "polar": {
           "angularaxis": {
            "gridcolor": "white",
            "linecolor": "white",
            "ticks": ""
           },
           "bgcolor": "#E5ECF6",
           "radialaxis": {
            "gridcolor": "white",
            "linecolor": "white",
            "ticks": ""
           }
          },
          "scene": {
           "xaxis": {
            "backgroundcolor": "#E5ECF6",
            "gridcolor": "white",
            "gridwidth": 2,
            "linecolor": "white",
            "showbackground": true,
            "ticks": "",
            "zerolinecolor": "white"
           },
           "yaxis": {
            "backgroundcolor": "#E5ECF6",
            "gridcolor": "white",
            "gridwidth": 2,
            "linecolor": "white",
            "showbackground": true,
            "ticks": "",
            "zerolinecolor": "white"
           },
           "zaxis": {
            "backgroundcolor": "#E5ECF6",
            "gridcolor": "white",
            "gridwidth": 2,
            "linecolor": "white",
            "showbackground": true,
            "ticks": "",
            "zerolinecolor": "white"
           }
          },
          "shapedefaults": {
           "line": {
            "color": "#2a3f5f"
           }
          },
          "ternary": {
           "aaxis": {
            "gridcolor": "white",
            "linecolor": "white",
            "ticks": ""
           },
           "baxis": {
            "gridcolor": "white",
            "linecolor": "white",
            "ticks": ""
           },
           "bgcolor": "#E5ECF6",
           "caxis": {
            "gridcolor": "white",
            "linecolor": "white",
            "ticks": ""
           }
          },
          "title": {
           "x": 0.05
          },
          "xaxis": {
           "automargin": true,
           "gridcolor": "white",
           "linecolor": "white",
           "ticks": "",
           "title": {
            "standoff": 15
           },
           "zerolinecolor": "white",
           "zerolinewidth": 2
          },
          "yaxis": {
           "automargin": true,
           "gridcolor": "white",
           "linecolor": "white",
           "ticks": "",
           "title": {
            "standoff": 15
           },
           "zerolinecolor": "white",
           "zerolinewidth": 2
          }
         }
        },
        "title": {
         "text": "TOP 20",
         "x": 0.5
        },
        "width": 600,
        "xaxis": {
         "anchor": "y",
         "domain": [
          0,
          0.94
         ]
        },
        "yaxis": {
         "anchor": "x",
         "domain": [
          0,
          1
         ],
         "side": "right"
        },
        "yaxis2": {
         "anchor": "x",
         "overlaying": "y",
         "side": "right"
        }
       }
      }
     },
     "metadata": {},
     "output_type": "display_data"
    },
    {
     "data": {
      "application/vnd.plotly.v1+json": {
       "config": {
        "plotlyServerURL": "https://plot.ly"
       },
       "data": [
        {
         "name": "HUM: 35.82 %",
         "type": "scatter",
         "x": [
          "2024-07-16",
          "2024-07-17",
          "2024-07-18",
          "2024-07-19",
          "2024-07-22",
          "2024-07-23",
          "2024-07-24",
          "2024-07-25",
          "2024-07-26",
          "2024-07-29",
          "2024-07-30",
          "2024-07-31",
          "2024-08-01",
          "2024-08-02",
          "2024-08-05",
          "2024-08-06",
          "2024-08-07",
          "2024-08-08",
          "2024-08-09",
          "2024-08-12",
          "2024-08-13",
          "2024-08-14",
          "2024-08-15",
          "2024-08-16",
          "2024-08-19",
          "2024-08-20",
          "2024-08-21",
          "2024-08-22",
          "2024-08-23",
          "2024-08-26",
          "2024-08-27",
          "2024-08-28",
          "2024-08-29",
          "2024-08-30",
          "2024-09-03",
          "2024-09-04",
          "2024-09-05",
          "2024-09-06",
          "2024-09-09",
          "2024-09-10",
          "2024-09-11",
          "2024-09-12",
          "2024-09-13",
          "2024-09-16",
          "2024-09-17",
          "2024-09-18",
          "2024-09-19",
          "2024-09-20",
          "2024-09-23",
          "2024-09-24",
          "2024-09-25",
          "2024-09-26",
          "2024-09-27",
          "2024-09-30",
          "2024-10-01",
          "2024-10-02",
          "2024-10-03",
          "2024-10-04",
          "2024-10-07",
          "2024-10-08",
          "2024-10-09",
          "2024-10-10",
          "2024-10-11",
          "2024-10-14",
          "2024-10-15",
          "2024-10-16",
          "2024-10-17",
          "2024-10-18",
          "2024-10-21",
          "2024-10-22",
          "2024-10-23",
          "2024-10-24",
          "2024-10-25",
          "2024-10-28",
          "2024-10-29",
          "2024-10-30",
          "2024-10-31",
          "2024-11-01",
          "2024-11-04",
          "2024-11-05",
          "2024-11-06",
          "2024-11-07",
          "2024-11-08",
          "2024-11-11",
          "2024-11-12",
          "2024-11-13",
          "2024-11-14",
          "2024-11-15",
          "2024-11-18",
          "2024-11-19",
          "2024-11-20",
          "2024-11-21",
          "2024-11-22",
          "2024-11-25",
          "2024-11-26",
          "2024-11-27",
          "2024-11-29",
          "2024-12-02",
          "2024-12-03",
          "2024-12-04",
          "2024-12-05",
          "2024-12-06",
          "2024-12-09",
          "2024-12-10",
          "2024-12-11",
          "2024-12-12",
          "2024-12-13",
          "2024-12-16",
          "2024-12-17",
          "2024-12-18",
          "2024-12-19",
          "2024-12-20",
          "2024-12-23",
          "2024-12-24",
          "2024-12-26",
          "2024-12-27",
          "2024-12-30",
          "2024-12-31",
          "2025-01-02",
          "2025-01-03",
          "2025-01-06",
          "2025-01-07",
          "2025-01-08",
          "2025-01-10",
          "2025-01-13",
          "2025-01-14",
          "2025-01-15",
          "2025-01-16",
          "2025-01-17",
          "2025-01-21",
          "2025-01-22",
          "2025-01-23",
          "2025-01-24",
          "2025-01-27",
          "2025-01-28",
          "2025-01-29",
          "2025-01-30",
          "2025-01-31",
          "2025-02-03",
          "2025-02-04",
          "2025-02-05",
          "2025-02-06",
          "2025-02-07",
          "2025-02-10",
          "2025-02-11",
          "2025-02-12",
          "2025-02-13",
          "2025-02-14",
          "2025-02-18",
          "2025-02-19",
          "2025-02-20",
          "2025-02-21",
          "2025-02-24",
          "2025-02-25",
          "2025-02-26",
          "2025-02-27",
          "2025-02-28",
          "2025-03-03",
          "2025-03-04",
          "2025-03-05",
          "2025-03-06",
          "2025-03-07",
          "2025-03-10",
          "2025-03-11",
          "2025-03-12",
          "2025-03-13",
          "2025-03-14",
          "2025-03-17",
          "2025-03-18",
          "2025-03-19",
          "2025-03-20",
          "2025-03-21",
          "2025-03-24",
          "2025-03-25",
          "2025-03-26",
          "2025-03-27",
          "2025-03-28",
          "2025-03-31",
          "2025-04-01",
          "2025-04-02",
          "2025-04-03",
          "2025-04-04",
          "2025-04-07",
          "2025-04-08",
          "2025-04-09",
          "2025-04-10",
          "2025-04-11",
          "2025-04-14",
          "2025-04-15",
          "2025-04-16",
          "2025-04-17",
          "2025-04-21",
          "2025-04-22",
          "2025-04-23",
          "2025-04-24",
          "2025-04-25",
          "2025-04-28",
          "2025-04-29",
          "2025-04-30",
          "2025-05-01",
          "2025-05-02",
          "2025-05-05",
          "2025-05-06",
          "2025-05-07",
          "2025-05-08",
          "2025-05-09",
          "2025-05-12",
          "2025-05-13",
          "2025-05-14",
          "2025-05-15",
          "2025-05-16",
          "2025-05-19",
          "2025-05-20",
          "2025-05-21",
          "2025-05-22",
          "2025-05-23",
          "2025-05-27",
          "2025-05-28",
          "2025-05-29",
          "2025-05-30",
          "2025-06-02",
          "2025-06-03",
          "2025-06-04",
          "2025-06-05",
          "2025-06-06",
          "2025-06-09",
          "2025-06-10",
          "2025-06-11",
          "2025-06-12",
          "2025-06-13",
          "2025-06-16",
          "2025-06-17",
          "2025-06-18",
          "2025-06-20",
          "2025-06-23",
          "2025-06-24",
          "2025-06-25",
          "2025-06-26",
          "2025-06-27",
          "2025-06-30",
          "2025-07-01",
          "2025-07-02",
          "2025-07-03",
          "2025-07-07",
          "2025-07-08",
          "2025-07-09",
          "2025-07-10",
          "2025-07-11",
          "2025-07-14",
          "2025-07-15",
          "2025-07-16",
          "2025-07-17",
          "2025-07-18",
          "2025-07-21",
          "2025-07-22",
          "2025-07-23",
          "2025-07-24",
          "2025-07-25",
          "2025-07-28",
          "2025-07-29",
          "2025-07-30",
          "2025-07-31",
          "2025-08-01",
          "2025-08-04",
          "2025-08-05",
          "2025-08-06",
          "2025-08-07",
          "2025-08-08",
          "2025-08-11",
          "2025-08-12",
          "2025-08-13",
          "2025-08-14",
          "2025-08-15",
          "2025-08-18",
          "2025-08-19",
          "2025-08-20",
          "2025-08-21",
          "2025-08-22",
          "2025-08-25",
          "2025-08-26",
          "2025-08-27",
          "2025-08-28",
          "2025-08-29",
          "2025-09-02",
          "2025-09-03",
          "2025-09-04",
          "2025-09-05",
          "2025-09-08",
          "2025-09-09"
         ],
         "xaxis": "x",
         "y": {
          "bdata": "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",
          "dtype": "f8"
         },
         "yaxis": "y"
        },
        {
         "name": "SMA 50",
         "type": "scatter",
         "x": [
          "2024-07-16",
          "2024-07-17",
          "2024-07-18",
          "2024-07-19",
          "2024-07-22",
          "2024-07-23",
          "2024-07-24",
          "2024-07-25",
          "2024-07-26",
          "2024-07-29",
          "2024-07-30",
          "2024-07-31",
          "2024-08-01",
          "2024-08-02",
          "2024-08-05",
          "2024-08-06",
          "2024-08-07",
          "2024-08-08",
          "2024-08-09",
          "2024-08-12",
          "2024-08-13",
          "2024-08-14",
          "2024-08-15",
          "2024-08-16",
          "2024-08-19",
          "2024-08-20",
          "2024-08-21",
          "2024-08-22",
          "2024-08-23",
          "2024-08-26",
          "2024-08-27",
          "2024-08-28",
          "2024-08-29",
          "2024-08-30",
          "2024-09-03",
          "2024-09-04",
          "2024-09-05",
          "2024-09-06",
          "2024-09-09",
          "2024-09-10",
          "2024-09-11",
          "2024-09-12",
          "2024-09-13",
          "2024-09-16",
          "2024-09-17",
          "2024-09-18",
          "2024-09-19",
          "2024-09-20",
          "2024-09-23",
          "2024-09-24",
          "2024-09-25",
          "2024-09-26",
          "2024-09-27",
          "2024-09-30",
          "2024-10-01",
          "2024-10-02",
          "2024-10-03",
          "2024-10-04",
          "2024-10-07",
          "2024-10-08",
          "2024-10-09",
          "2024-10-10",
          "2024-10-11",
          "2024-10-14",
          "2024-10-15",
          "2024-10-16",
          "2024-10-17",
          "2024-10-18",
          "2024-10-21",
          "2024-10-22",
          "2024-10-23",
          "2024-10-24",
          "2024-10-25",
          "2024-10-28",
          "2024-10-29",
          "2024-10-30",
          "2024-10-31",
          "2024-11-01",
          "2024-11-04",
          "2024-11-05",
          "2024-11-06",
          "2024-11-07",
          "2024-11-08",
          "2024-11-11",
          "2024-11-12",
          "2024-11-13",
          "2024-11-14",
          "2024-11-15",
          "2024-11-18",
          "2024-11-19",
          "2024-11-20",
          "2024-11-21",
          "2024-11-22",
          "2024-11-25",
          "2024-11-26",
          "2024-11-27",
          "2024-11-29",
          "2024-12-02",
          "2024-12-03",
          "2024-12-04",
          "2024-12-05",
          "2024-12-06",
          "2024-12-09",
          "2024-12-10",
          "2024-12-11",
          "2024-12-12",
          "2024-12-13",
          "2024-12-16",
          "2024-12-17",
          "2024-12-18",
          "2024-12-19",
          "2024-12-20",
          "2024-12-23",
          "2024-12-24",
          "2024-12-26",
          "2024-12-27",
          "2024-12-30",
          "2024-12-31",
          "2025-01-02",
          "2025-01-03",
          "2025-01-06",
          "2025-01-07",
          "2025-01-08",
          "2025-01-10",
          "2025-01-13",
          "2025-01-14",
          "2025-01-15",
          "2025-01-16",
          "2025-01-17",
          "2025-01-21",
          "2025-01-22",
          "2025-01-23",
          "2025-01-24",
          "2025-01-27",
          "2025-01-28",
          "2025-01-29",
          "2025-01-30",
          "2025-01-31",
          "2025-02-03",
          "2025-02-04",
          "2025-02-05",
          "2025-02-06",
          "2025-02-07",
          "2025-02-10",
          "2025-02-11",
          "2025-02-12",
          "2025-02-13",
          "2025-02-14",
          "2025-02-18",
          "2025-02-19",
          "2025-02-20",
          "2025-02-21",
          "2025-02-24",
          "2025-02-25",
          "2025-02-26",
          "2025-02-27",
          "2025-02-28",
          "2025-03-03",
          "2025-03-04",
          "2025-03-05",
          "2025-03-06",
          "2025-03-07",
          "2025-03-10",
          "2025-03-11",
          "2025-03-12",
          "2025-03-13",
          "2025-03-14",
          "2025-03-17",
          "2025-03-18",
          "2025-03-19",
          "2025-03-20",
          "2025-03-21",
          "2025-03-24",
          "2025-03-25",
          "2025-03-26",
          "2025-03-27",
          "2025-03-28",
          "2025-03-31",
          "2025-04-01",
          "2025-04-02",
          "2025-04-03",
          "2025-04-04",
          "2025-04-07",
          "2025-04-08",
          "2025-04-09",
          "2025-04-10",
          "2025-04-11",
          "2025-04-14",
          "2025-04-15",
          "2025-04-16",
          "2025-04-17",
          "2025-04-21",
          "2025-04-22",
          "2025-04-23",
          "2025-04-24",
          "2025-04-25",
          "2025-04-28",
          "2025-04-29",
          "2025-04-30",
          "2025-05-01",
          "2025-05-02",
          "2025-05-05",
          "2025-05-06",
          "2025-05-07",
          "2025-05-08",
          "2025-05-09",
          "2025-05-12",
          "2025-05-13",
          "2025-05-14",
          "2025-05-15",
          "2025-05-16",
          "2025-05-19",
          "2025-05-20",
          "2025-05-21",
          "2025-05-22",
          "2025-05-23",
          "2025-05-27",
          "2025-05-28",
          "2025-05-29",
          "2025-05-30",
          "2025-06-02",
          "2025-06-03",
          "2025-06-04",
          "2025-06-05",
          "2025-06-06",
          "2025-06-09",
          "2025-06-10",
          "2025-06-11",
          "2025-06-12",
          "2025-06-13",
          "2025-06-16",
          "2025-06-17",
          "2025-06-18",
          "2025-06-20",
          "2025-06-23",
          "2025-06-24",
          "2025-06-25",
          "2025-06-26",
          "2025-06-27",
          "2025-06-30",
          "2025-07-01",
          "2025-07-02",
          "2025-07-03",
          "2025-07-07",
          "2025-07-08",
          "2025-07-09",
          "2025-07-10",
          "2025-07-11",
          "2025-07-14",
          "2025-07-15",
          "2025-07-16",
          "2025-07-17",
          "2025-07-18",
          "2025-07-21",
          "2025-07-22",
          "2025-07-23",
          "2025-07-24",
          "2025-07-25",
          "2025-07-28",
          "2025-07-29",
          "2025-07-30",
          "2025-07-31",
          "2025-08-01",
          "2025-08-04",
          "2025-08-05",
          "2025-08-06",
          "2025-08-07",
          "2025-08-08",
          "2025-08-11",
          "2025-08-12",
          "2025-08-13",
          "2025-08-14",
          "2025-08-15",
          "2025-08-18",
          "2025-08-19",
          "2025-08-20",
          "2025-08-21",
          "2025-08-22",
          "2025-08-25",
          "2025-08-26",
          "2025-08-27",
          "2025-08-28",
          "2025-08-29",
          "2025-09-02",
          "2025-09-03",
          "2025-09-04",
          "2025-09-05",
          "2025-09-08",
          "2025-09-09"
         ],
         "xaxis": "x",
         "y": {
          "bdata": "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",
          "dtype": "f8"
         },
         "yaxis": "y"
        }
       ],
       "layout": {
        "annotations": [
         {
          "font": {
           "size": 8
          },
          "showarrow": false,
          "text": "Date: 2025-09-09, Open:278.37, High:314.54, Low:277.48, Close: 312.14",
          "x": 0.01,
          "xref": "x domain",
          "y": 1,
          "yref": "y domain"
         }
        ],
        "height": 400,
        "legend": {
         "font": {
          "size": 8
         },
         "title": {
          "font": {
           "family": "Arial"
          }
         }
        },
        "template": {
         "data": {
          "bar": [
           {
            "error_x": {
             "color": "#2a3f5f"
            },
            "error_y": {
             "color": "#2a3f5f"
            },
            "marker": {
             "line": {
              "color": "#E5ECF6",
              "width": 0.5
             },
             "pattern": {
              "fillmode": "overlay",
              "size": 10,
              "solidity": 0.2
             }
            },
            "type": "bar"
           }
          ],
          "barpolar": [
           {
            "marker": {
             "line": {
              "color": "#E5ECF6",
              "width": 0.5
             },
             "pattern": {
              "fillmode": "overlay",
              "size": 10,
              "solidity": 0.2
             }
            },
            "type": "barpolar"
           }
          ],
          "carpet": [
           {
            "aaxis": {
             "endlinecolor": "#2a3f5f",
             "gridcolor": "white",
             "linecolor": "white",
             "minorgridcolor": "white",
             "startlinecolor": "#2a3f5f"
            },
            "baxis": {
             "endlinecolor": "#2a3f5f",
             "gridcolor": "white",
             "linecolor": "white",
             "minorgridcolor": "white",
             "startlinecolor": "#2a3f5f"
            },
            "type": "carpet"
           }
          ],
          "choropleth": [
           {
            "colorbar": {
             "outlinewidth": 0,
             "ticks": ""
            },
            "type": "choropleth"
           }
          ],
          "contour": [
           {
            "colorbar": {
             "outlinewidth": 0,
             "ticks": ""
            },
            "colorscale": [
             [
              0,
              "#0d0887"
             ],
             [
              0.1111111111111111,
              "#46039f"
             ],
             [
              0.2222222222222222,
              "#7201a8"
             ],
             [
              0.3333333333333333,
              "#9c179e"
             ],
             [
              0.4444444444444444,
              "#bd3786"
             ],
             [
              0.5555555555555556,
              "#d8576b"
             ],
             [
              0.6666666666666666,
              "#ed7953"
             ],
             [
              0.7777777777777778,
              "#fb9f3a"
             ],
             [
              0.8888888888888888,
              "#fdca26"
             ],
             [
              1,
              "#f0f921"
             ]
            ],
            "type": "contour"
           }
          ],
          "contourcarpet": [
           {
            "colorbar": {
             "outlinewidth": 0,
             "ticks": ""
            },
            "type": "contourcarpet"
           }
          ],
          "heatmap": [
           {
            "colorbar": {
             "outlinewidth": 0,
             "ticks": ""
            },
            "colorscale": [
             [
              0,
              "#0d0887"
             ],
             [
              0.1111111111111111,
              "#46039f"
             ],
             [
              0.2222222222222222,
              "#7201a8"
             ],
             [
              0.3333333333333333,
              "#9c179e"
             ],
             [
              0.4444444444444444,
              "#bd3786"
             ],
             [
              0.5555555555555556,
              "#d8576b"
             ],
             [
              0.6666666666666666,
              "#ed7953"
             ],
             [
              0.7777777777777778,
              "#fb9f3a"
             ],
             [
              0.8888888888888888,
              "#fdca26"
             ],
             [
              1,
              "#f0f921"
             ]
            ],
            "type": "heatmap"
           }
          ],
          "histogram": [
           {
            "marker": {
             "pattern": {
              "fillmode": "overlay",
              "size": 10,
              "solidity": 0.2
             }
            },
            "type": "histogram"
           }
          ],
          "histogram2d": [
           {
            "colorbar": {
             "outlinewidth": 0,
             "ticks": ""
            },
            "colorscale": [
             [
              0,
              "#0d0887"
             ],
             [
              0.1111111111111111,
              "#46039f"
             ],
             [
              0.2222222222222222,
              "#7201a8"
             ],
             [
              0.3333333333333333,
              "#9c179e"
             ],
             [
              0.4444444444444444,
              "#bd3786"
             ],
             [
              0.5555555555555556,
              "#d8576b"
             ],
             [
              0.6666666666666666,
              "#ed7953"
             ],
             [
              0.7777777777777778,
              "#fb9f3a"
             ],
             [
              0.8888888888888888,
              "#fdca26"
             ],
             [
              1,
              "#f0f921"
             ]
            ],
            "type": "histogram2d"
           }
          ],
          "histogram2dcontour": [
           {
            "colorbar": {
             "outlinewidth": 0,
             "ticks": ""
            },
            "colorscale": [
             [
              0,
              "#0d0887"
             ],
             [
              0.1111111111111111,
              "#46039f"
             ],
             [
              0.2222222222222222,
              "#7201a8"
             ],
             [
              0.3333333333333333,
              "#9c179e"
             ],
             [
              0.4444444444444444,
              "#bd3786"
             ],
             [
              0.5555555555555556,
              "#d8576b"
             ],
             [
              0.6666666666666666,
              "#ed7953"
             ],
             [
              0.7777777777777778,
              "#fb9f3a"
             ],
             [
              0.8888888888888888,
              "#fdca26"
             ],
             [
              1,
              "#f0f921"
             ]
            ],
            "type": "histogram2dcontour"
           }
          ],
          "mesh3d": [
           {
            "colorbar": {
             "outlinewidth": 0,
             "ticks": ""
            },
            "type": "mesh3d"
           }
          ],
          "parcoords": [
           {
            "line": {
             "colorbar": {
              "outlinewidth": 0,
              "ticks": ""
             }
            },
            "type": "parcoords"
           }
          ],
          "pie": [
           {
            "automargin": true,
            "type": "pie"
           }
          ],
          "scatter": [
           {
            "fillpattern": {
             "fillmode": "overlay",
             "size": 10,
             "solidity": 0.2
            },
            "type": "scatter"
           }
          ],
          "scatter3d": [
           {
            "line": {
             "colorbar": {
              "outlinewidth": 0,
              "ticks": ""
             }
            },
            "marker": {
             "colorbar": {
              "outlinewidth": 0,
              "ticks": ""
             }
            },
            "type": "scatter3d"
           }
          ],
          "scattercarpet": [
           {
            "marker": {
             "colorbar": {
              "outlinewidth": 0,
              "ticks": ""
             }
            },
            "type": "scattercarpet"
           }
          ],
          "scattergeo": [
           {
            "marker": {
             "colorbar": {
              "outlinewidth": 0,
              "ticks": ""
             }
            },
            "type": "scattergeo"
           }
          ],
          "scattergl": [
           {
            "marker": {
             "colorbar": {
              "outlinewidth": 0,
              "ticks": ""
             }
            },
            "type": "scattergl"
           }
          ],
          "scattermap": [
           {
            "marker": {
             "colorbar": {
              "outlinewidth": 0,
              "ticks": ""
             }
            },
            "type": "scattermap"
           }
          ],
          "scattermapbox": [
           {
            "marker": {
             "colorbar": {
              "outlinewidth": 0,
              "ticks": ""
             }
            },
            "type": "scattermapbox"
           }
          ],
          "scatterpolar": [
           {
            "marker": {
             "colorbar": {
              "outlinewidth": 0,
              "ticks": ""
             }
            },
            "type": "scatterpolar"
           }
          ],
          "scatterpolargl": [
           {
            "marker": {
             "colorbar": {
              "outlinewidth": 0,
              "ticks": ""
             }
            },
            "type": "scatterpolargl"
           }
          ],
          "scatterternary": [
           {
            "marker": {
             "colorbar": {
              "outlinewidth": 0,
              "ticks": ""
             }
            },
            "type": "scatterternary"
           }
          ],
          "surface": [
           {
            "colorbar": {
             "outlinewidth": 0,
             "ticks": ""
            },
            "colorscale": [
             [
              0,
              "#0d0887"
             ],
             [
              0.1111111111111111,
              "#46039f"
             ],
             [
              0.2222222222222222,
              "#7201a8"
             ],
             [
              0.3333333333333333,
              "#9c179e"
             ],
             [
              0.4444444444444444,
              "#bd3786"
             ],
             [
              0.5555555555555556,
              "#d8576b"
             ],
             [
              0.6666666666666666,
              "#ed7953"
             ],
             [
              0.7777777777777778,
              "#fb9f3a"
             ],
             [
              0.8888888888888888,
              "#fdca26"
             ],
             [
              1,
              "#f0f921"
             ]
            ],
            "type": "surface"
           }
          ],
          "table": [
           {
            "cells": {
             "fill": {
              "color": "#EBF0F8"
             },
             "line": {
              "color": "white"
             }
            },
            "header": {
             "fill": {
              "color": "#C8D4E3"
             },
             "line": {
              "color": "white"
             }
            },
            "type": "table"
           }
          ]
         },
         "layout": {
          "annotationdefaults": {
           "arrowcolor": "#2a3f5f",
           "arrowhead": 0,
           "arrowwidth": 1
          },
          "autotypenumbers": "strict",
          "coloraxis": {
           "colorbar": {
            "outlinewidth": 0,
            "ticks": ""
           }
          },
          "colorscale": {
           "diverging": [
            [
             0,
             "#8e0152"
            ],
            [
             0.1,
             "#c51b7d"
            ],
            [
             0.2,
             "#de77ae"
            ],
            [
             0.3,
             "#f1b6da"
            ],
            [
             0.4,
             "#fde0ef"
            ],
            [
             0.5,
             "#f7f7f7"
            ],
            [
             0.6,
             "#e6f5d0"
            ],
            [
             0.7,
             "#b8e186"
            ],
            [
             0.8,
             "#7fbc41"
            ],
            [
             0.9,
             "#4d9221"
            ],
            [
             1,
             "#276419"
            ]
           ],
           "sequential": [
            [
             0,
             "#0d0887"
            ],
            [
             0.1111111111111111,
             "#46039f"
            ],
            [
             0.2222222222222222,
             "#7201a8"
            ],
            [
             0.3333333333333333,
             "#9c179e"
            ],
            [
             0.4444444444444444,
             "#bd3786"
            ],
            [
             0.5555555555555556,
             "#d8576b"
            ],
            [
             0.6666666666666666,
             "#ed7953"
            ],
            [
             0.7777777777777778,
             "#fb9f3a"
            ],
            [
             0.8888888888888888,
             "#fdca26"
            ],
            [
             1,
             "#f0f921"
            ]
           ],
           "sequentialminus": [
            [
             0,
             "#0d0887"
            ],
            [
             0.1111111111111111,
             "#46039f"
            ],
            [
             0.2222222222222222,
             "#7201a8"
            ],
            [
             0.3333333333333333,
             "#9c179e"
            ],
            [
             0.4444444444444444,
             "#bd3786"
            ],
            [
             0.5555555555555556,
             "#d8576b"
            ],
            [
             0.6666666666666666,
             "#ed7953"
            ],
            [
             0.7777777777777778,
             "#fb9f3a"
            ],
            [
             0.8888888888888888,
             "#fdca26"
            ],
            [
             1,
             "#f0f921"
            ]
           ]
          },
          "colorway": [
           "#636efa",
           "#EF553B",
           "#00cc96",
           "#ab63fa",
           "#FFA15A",
           "#19d3f3",
           "#FF6692",
           "#B6E880",
           "#FF97FF",
           "#FECB52"
          ],
          "font": {
           "color": "#2a3f5f"
          },
          "geo": {
           "bgcolor": "white",
           "lakecolor": "white",
           "landcolor": "#E5ECF6",
           "showlakes": true,
           "showland": true,
           "subunitcolor": "white"
          },
          "hoverlabel": {
           "align": "left"
          },
          "hovermode": "closest",
          "mapbox": {
           "style": "light"
          },
          "paper_bgcolor": "white",
          "plot_bgcolor": "#E5ECF6",
          "polar": {
           "angularaxis": {
            "gridcolor": "white",
            "linecolor": "white",
            "ticks": ""
           },
           "bgcolor": "#E5ECF6",
           "radialaxis": {
            "gridcolor": "white",
            "linecolor": "white",
            "ticks": ""
           }
          },
          "scene": {
           "xaxis": {
            "backgroundcolor": "#E5ECF6",
            "gridcolor": "white",
            "gridwidth": 2,
            "linecolor": "white",
            "showbackground": true,
            "ticks": "",
            "zerolinecolor": "white"
           },
           "yaxis": {
            "backgroundcolor": "#E5ECF6",
            "gridcolor": "white",
            "gridwidth": 2,
            "linecolor": "white",
            "showbackground": true,
            "ticks": "",
            "zerolinecolor": "white"
           },
           "zaxis": {
            "backgroundcolor": "#E5ECF6",
            "gridcolor": "white",
            "gridwidth": 2,
            "linecolor": "white",
            "showbackground": true,
            "ticks": "",
            "zerolinecolor": "white"
           }
          },
          "shapedefaults": {
           "line": {
            "color": "#2a3f5f"
           }
          },
          "ternary": {
           "aaxis": {
            "gridcolor": "white",
            "linecolor": "white",
            "ticks": ""
           },
           "baxis": {
            "gridcolor": "white",
            "linecolor": "white",
            "ticks": ""
           },
           "bgcolor": "#E5ECF6",
           "caxis": {
            "gridcolor": "white",
            "linecolor": "white",
            "ticks": ""
           }
          },
          "title": {
           "x": 0.05
          },
          "xaxis": {
           "automargin": true,
           "gridcolor": "white",
           "linecolor": "white",
           "ticks": "",
           "title": {
            "standoff": 15
           },
           "zerolinecolor": "white",
           "zerolinewidth": 2
          },
          "yaxis": {
           "automargin": true,
           "gridcolor": "white",
           "linecolor": "white",
           "ticks": "",
           "title": {
            "standoff": 15
           },
           "zerolinecolor": "white",
           "zerolinewidth": 2
          }
         }
        },
        "title": {
         "text": "TOP 20",
         "x": 0.5
        },
        "width": 600,
        "xaxis": {
         "anchor": "y",
         "domain": [
          0,
          0.94
         ]
        },
        "yaxis": {
         "anchor": "x",
         "domain": [
          0,
          1
         ],
         "side": "right"
        },
        "yaxis2": {
         "anchor": "x",
         "overlaying": "y",
         "side": "right"
        }
       }
      }
     },
     "metadata": {},
     "output_type": "display_data"
    },
    {
     "data": {
      "application/vnd.plotly.v1+json": {
       "config": {
        "plotlyServerURL": "https://plot.ly"
       },
       "data": [
        {
         "name": "IBP: 34.25 %",
         "type": "scatter",
         "x": [
          "2024-07-16",
          "2024-07-17",
          "2024-07-18",
          "2024-07-19",
          "2024-07-22",
          "2024-07-23",
          "2024-07-24",
          "2024-07-25",
          "2024-07-26",
          "2024-07-29",
          "2024-07-30",
          "2024-07-31",
          "2024-08-01",
          "2024-08-02",
          "2024-08-05",
          "2024-08-06",
          "2024-08-07",
          "2024-08-08",
          "2024-08-09",
          "2024-08-12",
          "2024-08-13",
          "2024-08-14",
          "2024-08-15",
          "2024-08-16",
          "2024-08-19",
          "2024-08-20",
          "2024-08-21",
          "2024-08-22",
          "2024-08-23",
          "2024-08-26",
          "2024-08-27",
          "2024-08-28",
          "2024-08-29",
          "2024-08-30",
          "2024-09-03",
          "2024-09-04",
          "2024-09-05",
          "2024-09-06",
          "2024-09-09",
          "2024-09-10",
          "2024-09-11",
          "2024-09-12",
          "2024-09-13",
          "2024-09-16",
          "2024-09-17",
          "2024-09-18",
          "2024-09-19",
          "2024-09-20",
          "2024-09-23",
          "2024-09-24",
          "2024-09-25",
          "2024-09-26",
          "2024-09-27",
          "2024-09-30",
          "2024-10-01",
          "2024-10-02",
          "2024-10-03",
          "2024-10-04",
          "2024-10-07",
          "2024-10-08",
          "2024-10-09",
          "2024-10-10",
          "2024-10-11",
          "2024-10-14",
          "2024-10-15",
          "2024-10-16",
          "2024-10-17",
          "2024-10-18",
          "2024-10-21",
          "2024-10-22",
          "2024-10-23",
          "2024-10-24",
          "2024-10-25",
          "2024-10-28",
          "2024-10-29",
          "2024-10-30",
          "2024-10-31",
          "2024-11-01",
          "2024-11-04",
          "2024-11-05",
          "2024-11-06",
          "2024-11-07",
          "2024-11-08",
          "2024-11-11",
          "2024-11-12",
          "2024-11-13",
          "2024-11-14",
          "2024-11-15",
          "2024-11-18",
          "2024-11-19",
          "2024-11-20",
          "2024-11-21",
          "2024-11-22",
          "2024-11-25",
          "2024-11-26",
          "2024-11-27",
          "2024-11-29",
          "2024-12-02",
          "2024-12-03",
          "2024-12-04",
          "2024-12-05",
          "2024-12-06",
          "2024-12-09",
          "2024-12-10",
          "2024-12-11",
          "2024-12-12",
          "2024-12-13",
          "2024-12-16",
          "2024-12-17",
          "2024-12-18",
          "2024-12-19",
          "2024-12-20",
          "2024-12-23",
          "2024-12-24",
          "2024-12-26",
          "2024-12-27",
          "2024-12-30",
          "2024-12-31",
          "2025-01-02",
          "2025-01-03",
          "2025-01-06",
          "2025-01-07",
          "2025-01-08",
          "2025-01-10",
          "2025-01-13",
          "2025-01-14",
          "2025-01-15",
          "2025-01-16",
          "2025-01-17",
          "2025-01-21",
          "2025-01-22",
          "2025-01-23",
          "2025-01-24",
          "2025-01-27",
          "2025-01-28",
          "2025-01-29",
          "2025-01-30",
          "2025-01-31",
          "2025-02-03",
          "2025-02-04",
          "2025-02-05",
          "2025-02-06",
          "2025-02-07",
          "2025-02-10",
          "2025-02-11",
          "2025-02-12",
          "2025-02-13",
          "2025-02-14",
          "2025-02-18",
          "2025-02-19",
          "2025-02-20",
          "2025-02-21",
          "2025-02-24",
          "2025-02-25",
          "2025-02-26",
          "2025-02-27",
          "2025-02-28",
          "2025-03-03",
          "2025-03-04",
          "2025-03-05",
          "2025-03-06",
          "2025-03-07",
          "2025-03-10",
          "2025-03-11",
          "2025-03-12",
          "2025-03-13",
          "2025-03-14",
          "2025-03-17",
          "2025-03-18",
          "2025-03-19",
          "2025-03-20",
          "2025-03-21",
          "2025-03-24",
          "2025-03-25",
          "2025-03-26",
          "2025-03-27",
          "2025-03-28",
          "2025-03-31",
          "2025-04-01",
          "2025-04-02",
          "2025-04-03",
          "2025-04-04",
          "2025-04-07",
          "2025-04-08",
          "2025-04-09",
          "2025-04-10",
          "2025-04-11",
          "2025-04-14",
          "2025-04-15",
          "2025-04-16",
          "2025-04-17",
          "2025-04-21",
          "2025-04-22",
          "2025-04-23",
          "2025-04-24",
          "2025-04-25",
          "2025-04-28",
          "2025-04-29",
          "2025-04-30",
          "2025-05-01",
          "2025-05-02",
          "2025-05-05",
          "2025-05-06",
          "2025-05-07",
          "2025-05-08",
          "2025-05-09",
          "2025-05-12",
          "2025-05-13",
          "2025-05-14",
          "2025-05-15",
          "2025-05-16",
          "2025-05-19",
          "2025-05-20",
          "2025-05-21",
          "2025-05-22",
          "2025-05-23",
          "2025-05-27",
          "2025-05-28",
          "2025-05-29",
          "2025-05-30",
          "2025-06-02",
          "2025-06-03",
          "2025-06-04",
          "2025-06-05",
          "2025-06-06",
          "2025-06-09",
          "2025-06-10",
          "2025-06-11",
          "2025-06-12",
          "2025-06-13",
          "2025-06-16",
          "2025-06-17",
          "2025-06-18",
          "2025-06-20",
          "2025-06-23",
          "2025-06-24",
          "2025-06-25",
          "2025-06-26",
          "2025-06-27",
          "2025-06-30",
          "2025-07-01",
          "2025-07-02",
          "2025-07-03",
          "2025-07-07",
          "2025-07-08",
          "2025-07-09",
          "2025-07-10",
          "2025-07-11",
          "2025-07-14",
          "2025-07-15",
          "2025-07-16",
          "2025-07-17",
          "2025-07-18",
          "2025-07-21",
          "2025-07-22",
          "2025-07-23",
          "2025-07-24",
          "2025-07-25",
          "2025-07-28",
          "2025-07-29",
          "2025-07-30",
          "2025-07-31",
          "2025-08-01",
          "2025-08-04",
          "2025-08-05",
          "2025-08-06",
          "2025-08-07",
          "2025-08-08",
          "2025-08-11",
          "2025-08-12",
          "2025-08-13",
          "2025-08-14",
          "2025-08-15",
          "2025-08-18",
          "2025-08-19",
          "2025-08-20",
          "2025-08-21",
          "2025-08-22",
          "2025-08-25",
          "2025-08-26",
          "2025-08-27",
          "2025-08-28",
          "2025-08-29",
          "2025-09-02",
          "2025-09-03",
          "2025-09-04",
          "2025-09-05",
          "2025-09-08",
          "2025-09-09"
         ],
         "xaxis": "x",
         "y": {
          "bdata": "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",
          "dtype": "f8"
         },
         "yaxis": "y"
        },
        {
         "name": "SMA 50",
         "type": "scatter",
         "x": [
          "2024-07-16",
          "2024-07-17",
          "2024-07-18",
          "2024-07-19",
          "2024-07-22",
          "2024-07-23",
          "2024-07-24",
          "2024-07-25",
          "2024-07-26",
          "2024-07-29",
          "2024-07-30",
          "2024-07-31",
          "2024-08-01",
          "2024-08-02",
          "2024-08-05",
          "2024-08-06",
          "2024-08-07",
          "2024-08-08",
          "2024-08-09",
          "2024-08-12",
          "2024-08-13",
          "2024-08-14",
          "2024-08-15",
          "2024-08-16",
          "2024-08-19",
          "2024-08-20",
          "2024-08-21",
          "2024-08-22",
          "2024-08-23",
          "2024-08-26",
          "2024-08-27",
          "2024-08-28",
          "2024-08-29",
          "2024-08-30",
          "2024-09-03",
          "2024-09-04",
          "2024-09-05",
          "2024-09-06",
          "2024-09-09",
          "2024-09-10",
          "2024-09-11",
          "2024-09-12",
          "2024-09-13",
          "2024-09-16",
          "2024-09-17",
          "2024-09-18",
          "2024-09-19",
          "2024-09-20",
          "2024-09-23",
          "2024-09-24",
          "2024-09-25",
          "2024-09-26",
          "2024-09-27",
          "2024-09-30",
          "2024-10-01",
          "2024-10-02",
          "2024-10-03",
          "2024-10-04",
          "2024-10-07",
          "2024-10-08",
          "2024-10-09",
          "2024-10-10",
          "2024-10-11",
          "2024-10-14",
          "2024-10-15",
          "2024-10-16",
          "2024-10-17",
          "2024-10-18",
          "2024-10-21",
          "2024-10-22",
          "2024-10-23",
          "2024-10-24",
          "2024-10-25",
          "2024-10-28",
          "2024-10-29",
          "2024-10-30",
          "2024-10-31",
          "2024-11-01",
          "2024-11-04",
          "2024-11-05",
          "2024-11-06",
          "2024-11-07",
          "2024-11-08",
          "2024-11-11",
          "2024-11-12",
          "2024-11-13",
          "2024-11-14",
          "2024-11-15",
          "2024-11-18",
          "2024-11-19",
          "2024-11-20",
          "2024-11-21",
          "2024-11-22",
          "2024-11-25",
          "2024-11-26",
          "2024-11-27",
          "2024-11-29",
          "2024-12-02",
          "2024-12-03",
          "2024-12-04",
          "2024-12-05",
          "2024-12-06",
          "2024-12-09",
          "2024-12-10",
          "2024-12-11",
          "2024-12-12",
          "2024-12-13",
          "2024-12-16",
          "2024-12-17",
          "2024-12-18",
          "2024-12-19",
          "2024-12-20",
          "2024-12-23",
          "2024-12-24",
          "2024-12-26",
          "2024-12-27",
          "2024-12-30",
          "2024-12-31",
          "2025-01-02",
          "2025-01-03",
          "2025-01-06",
          "2025-01-07",
          "2025-01-08",
          "2025-01-10",
          "2025-01-13",
          "2025-01-14",
          "2025-01-15",
          "2025-01-16",
          "2025-01-17",
          "2025-01-21",
          "2025-01-22",
          "2025-01-23",
          "2025-01-24",
          "2025-01-27",
          "2025-01-28",
          "2025-01-29",
          "2025-01-30",
          "2025-01-31",
          "2025-02-03",
          "2025-02-04",
          "2025-02-05",
          "2025-02-06",
          "2025-02-07",
          "2025-02-10",
          "2025-02-11",
          "2025-02-12",
          "2025-02-13",
          "2025-02-14",
          "2025-02-18",
          "2025-02-19",
          "2025-02-20",
          "2025-02-21",
          "2025-02-24",
          "2025-02-25",
          "2025-02-26",
          "2025-02-27",
          "2025-02-28",
          "2025-03-03",
          "2025-03-04",
          "2025-03-05",
          "2025-03-06",
          "2025-03-07",
          "2025-03-10",
          "2025-03-11",
          "2025-03-12",
          "2025-03-13",
          "2025-03-14",
          "2025-03-17",
          "2025-03-18",
          "2025-03-19",
          "2025-03-20",
          "2025-03-21",
          "2025-03-24",
          "2025-03-25",
          "2025-03-26",
          "2025-03-27",
          "2025-03-28",
          "2025-03-31",
          "2025-04-01",
          "2025-04-02",
          "2025-04-03",
          "2025-04-04",
          "2025-04-07",
          "2025-04-08",
          "2025-04-09",
          "2025-04-10",
          "2025-04-11",
          "2025-04-14",
          "2025-04-15",
          "2025-04-16",
          "2025-04-17",
          "2025-04-21",
          "2025-04-22",
          "2025-04-23",
          "2025-04-24",
          "2025-04-25",
          "2025-04-28",
          "2025-04-29",
          "2025-04-30",
          "2025-05-01",
          "2025-05-02",
          "2025-05-05",
          "2025-05-06",
          "2025-05-07",
          "2025-05-08",
          "2025-05-09",
          "2025-05-12",
          "2025-05-13",
          "2025-05-14",
          "2025-05-15",
          "2025-05-16",
          "2025-05-19",
          "2025-05-20",
          "2025-05-21",
          "2025-05-22",
          "2025-05-23",
          "2025-05-27",
          "2025-05-28",
          "2025-05-29",
          "2025-05-30",
          "2025-06-02",
          "2025-06-03",
          "2025-06-04",
          "2025-06-05",
          "2025-06-06",
          "2025-06-09",
          "2025-06-10",
          "2025-06-11",
          "2025-06-12",
          "2025-06-13",
          "2025-06-16",
          "2025-06-17",
          "2025-06-18",
          "2025-06-20",
          "2025-06-23",
          "2025-06-24",
          "2025-06-25",
          "2025-06-26",
          "2025-06-27",
          "2025-06-30",
          "2025-07-01",
          "2025-07-02",
          "2025-07-03",
          "2025-07-07",
          "2025-07-08",
          "2025-07-09",
          "2025-07-10",
          "2025-07-11",
          "2025-07-14",
          "2025-07-15",
          "2025-07-16",
          "2025-07-17",
          "2025-07-18",
          "2025-07-21",
          "2025-07-22",
          "2025-07-23",
          "2025-07-24",
          "2025-07-25",
          "2025-07-28",
          "2025-07-29",
          "2025-07-30",
          "2025-07-31",
          "2025-08-01",
          "2025-08-04",
          "2025-08-05",
          "2025-08-06",
          "2025-08-07",
          "2025-08-08",
          "2025-08-11",
          "2025-08-12",
          "2025-08-13",
          "2025-08-14",
          "2025-08-15",
          "2025-08-18",
          "2025-08-19",
          "2025-08-20",
          "2025-08-21",
          "2025-08-22",
          "2025-08-25",
          "2025-08-26",
          "2025-08-27",
          "2025-08-28",
          "2025-08-29",
          "2025-09-02",
          "2025-09-03",
          "2025-09-04",
          "2025-09-05",
          "2025-09-08",
          "2025-09-09"
         ],
         "xaxis": "x",
         "y": {
          "bdata": "AAAAAAAA+H8AAAAAAAD4fwAAAAAAAPh/AAAAAAAA+H8AAAAAAAD4fwAAAAAAAPh/AAAAAAAA+H8AAAAAAAD4fwAAAAAAAPh/AAAAAAAA+H8AAAAAAAD4fwAAAAAAAPh/AAAAAAAA+H8AAAAAAAD4fwAAAAAAAPh/AAAAAAAA+H8AAAAAAAD4fwAAAAAAAPh/AAAAAAAA+H8AAAAAAAD4fwAAAAAAAPh/AAAAAAAA+H8AAAAAAAD4fwAAAAAAAPh/AAAAAAAA+H8AAAAAAAD4fwAAAAAAAPh/AAAAAAAA+H8AAAAAAAD4fwAAAAAAAPh/AAAAAAAA+H8AAAAAAAD4fwAAAAAAAPh/AAAAAAAA+H8AAAAAAAD4fwAAAAAAAPh/AAAAAAAA+H8AAAAAAAD4fwAAAAAAAPh/AAAAAAAA+H8AAAAAAAD4fwAAAAAAAPh/AAAAAAAA+H8AAAAAAAD4fwAAAAAAAPh/AAAAAAAA+H8AAAAAAAD4fwAAAAAAAPh/AAAAAAAA+H8ooImw4YFsQPGFyVTBgGxA+n5qvHR/bEDmP6TfvoJsQNjw9EpZhmxAI9v5fmqIbECk374OnIdsQAQ0ETY8hWxATRWMSuqEbEDf4AuTqXZsQI0G8BZIZGxAgSbChqdTbEAqGJXUCTxsQHrHKTqSL2xA0SLb+X46bEAcWmQ731NsQDerPldbaWxAhMDKoUV6bEAzMzMzM5dsQCBj7lpCrmxAiUFg5dC+bEBIUPwYc8tsQNxGA3gL1GxAAG+BBMXfbEAPC7Wmee9sQClcj8L1+GxAbJp3nKL7bEAKRiV1Av5sQNIi2/l+/mxAjzF3LSH/bECt+lxtxfZsQMA5I0p7+2xA9Lnaiv35bEC30QDeAvVsQNc07zhF72xADeAtkKDobEBXyjLEsepsQAq1pnnH6WxAyZi7lpDrbED35GGh1uhsQM6I0t7g52xAaQBvgQTpbEAXldQJaOpsQK5p3nGK5mxAMSqpE9DkbED029eBc+ZsQM73U+Ol32xAzH9Iv33VbEBYW7G/7MpsQK1p3nGKvmxAjNtoAG+xbED6fmq8dKdsQCUGgZVDl2xAgQTFjzGDbECvA+eMKG1sQDtwzojSVmxAIf32deBAbEAg0m9fByZsQPP91HjpBmxAEmHD0yvta0AbL90kBtFrQPyH9NvXqWtAwcqhRbaDa0DXxW00gF9rQEp7gy9MNmtAhJ7Nqs8Fa0AkBoGVQ9NqQCnLEMe6oGpA2F92Tx5uakBtxf6yez5qQLZif9k9FWpADEYldQLyaUAdp+hILs9pQJZliGNdqGlAHxZqTfN+aUAhQfFjzF1pQM/VVuwvR2lAaQBvgQQ9aUAjSnuDLyxpQHGsi9toIGlAAG+BBMUTaUCJ9NvXgf9oQHfgnBGl9WhAVn2utmLvaEC0FfvL7uloQMqhRbbz5WhAjUrqBDTdaEA6I0p7g9doQM6I0t7g02hA2j15WKjNaEDGuriNBsRoQCOOdXEbvWhAvAUSFD+yaECGFtnO96NoQHEbDeAtjGhAY3/ZPXlsaECYbhKDwEpoQEjhehSuK2hA4JwRpb0NaEBk7lpCPvBnQMNkqmBUzmdAFh3J5T+sZ0ClTkATYY9nQBHHuriNbmdA5YOezapPZ0BTBaOSOjVnQMWxLm6jHWdAPQrXo3AJZ0CxA+eMKPlmQMHKoUW242ZA0bNZ9bnSZkBTJ6CJsM1mQMZLN4lBzGZAzojS3uDLZkBoRGlv8M1mQCntDb4wzWZAE4PAyqHJZkBMN4lBYMVmQAwkKH6MwWZAGuJYF7e9ZkCsYFRSJ7xmQHctIR/0uGZA029fB861ZkBXW7G/7LZmQN9xio7kumZAOiNKe4O/ZkBGtvP91LxmQAFvgQTFq2ZAz/dT46WbZkBz1xLyQYdmQPLSTWIQdGZAFtnO91NfZkCMSuoENEFmQCNseHqlKGZARiV1ApoQZkA27zhFR/JlQLgehetR4GVArmnecYrKZUBEaW/whbVlQJ88LNSapmVATFmGONaVZUAvuycPC31lQHZxGw3gZWVAGLfRAN5OZUBFR3L5D0llQIxK6gQ0PWVAm8QgsHI4ZUD/If32dTBlQECk374OKGVAL7snDwshZUDKVMGopB5lQMxdS8gHHWVARdjw9EoZZUBp3nGKjhxlQAisHFpkH2VAF0hQ/BgXZUBugQTFjxFlQPd14JwREWVAgLdAguIPZUAFo5I6ARVlQC6QoPgxEmVAf0i/fR0MZUDjNhrAWwRlQPfkYaHW/GRA6uI2GsDvZEAMtaZ5x+FkQC6QoPgx1mRA4zYawFvQZEA0gLdAgspkQD3o2az6wGRA2xt8YTK5ZECIFtnO969kQAWjkjoBqWRACYofY+6iZEANcayL25xkQIDZPXlYmGRAJXUCmgiTZEDhnBGlvZFkQDqSy39Il2RAbjSAt0CWZEBxPQrXo5RkQLFQa5p3lGRAMQisHFqYZEAaUdobfJVkQCo6kst/lGRAm+Ydp+icZEBlqmBUUqNkQIY41sVtrGRAxks3iUGwZEBYObTIdrZkQD0K16NwwWRAEVg5tMjOZEARx7q4jeZkQBzJ5T+k/2RA8x/Sb18LZUB3vp8aLx1lQAU0ETY8LWVA78nDQq1BZUB0kxgEVlZlQOY/pN++amVAW7G/7J6AZUDIuriNBpBlQD0K16NwnWVACM4ZUdqrZUBYF7fRALZlQEmdgCbCymVAzczMzMzkZUAfhetRuPplQIC3QILiD2ZA9GxWfa4mZkC7Jw8LtUJmQK2L22gAX2ZAUfwYc9d2ZkBDPujZrI5mQPhT46WbrGZAm1Wfq63UZkCgibDh6f1mQLOd76fGK2dAhqdXyjJoZ0Dvp8ZLN6lnQA0CK4cW5WdAwDkjSnsraEDO91PjpW9oQKROQBNhs2hAJNv5fmr0aEATg8DKoTFpQPS52or9cWlAuB6F61GsaUA3GsBbIOVpQMoyxLEuJmpAvHSTGARqakCB4seYu65qQMMXJlMF82pASHL5D+kza0DM7snDQm1rQAkbnl4pp2tALPaX3ZPfa0As9pfdkxtsQG6BBMWPWWxAoImw4emZbEA=",
          "dtype": "f8"
         },
         "yaxis": "y"
        }
       ],
       "layout": {
        "annotations": [
         {
          "font": {
           "size": 8
          },
          "showarrow": false,
          "text": "Date: 2025-09-09, Open:265.85, High:280.0, Low:263.55, Close: 277.85",
          "x": 0.01,
          "xref": "x domain",
          "y": 1,
          "yref": "y domain"
         }
        ],
        "height": 400,
        "legend": {
         "font": {
          "size": 8
         },
         "title": {
          "font": {
           "family": "Arial"
          }
         }
        },
        "template": {
         "data": {
          "bar": [
           {
            "error_x": {
             "color": "#2a3f5f"
            },
            "error_y": {
             "color": "#2a3f5f"
            },
            "marker": {
             "line": {
              "color": "#E5ECF6",
              "width": 0.5
             },
             "pattern": {
              "fillmode": "overlay",
              "size": 10,
              "solidity": 0.2
             }
            },
            "type": "bar"
           }
          ],
          "barpolar": [
           {
            "marker": {
             "line": {
              "color": "#E5ECF6",
              "width": 0.5
             },
             "pattern": {
              "fillmode": "overlay",
              "size": 10,
              "solidity": 0.2
             }
            },
            "type": "barpolar"
           }
          ],
          "carpet": [
           {
            "aaxis": {
             "endlinecolor": "#2a3f5f",
             "gridcolor": "white",
             "linecolor": "white",
             "minorgridcolor": "white",
             "startlinecolor": "#2a3f5f"
            },
            "baxis": {
             "endlinecolor": "#2a3f5f",
             "gridcolor": "white",
             "linecolor": "white",
             "minorgridcolor": "white",
             "startlinecolor": "#2a3f5f"
            },
            "type": "carpet"
           }
          ],
          "choropleth": [
           {
            "colorbar": {
             "outlinewidth": 0,
             "ticks": ""
            },
            "type": "choropleth"
           }
          ],
          "contour": [
           {
            "colorbar": {
             "outlinewidth": 0,
             "ticks": ""
            },
            "colorscale": [
             [
              0,
              "#0d0887"
             ],
             [
              0.1111111111111111,
              "#46039f"
             ],
             [
              0.2222222222222222,
              "#7201a8"
             ],
             [
              0.3333333333333333,
              "#9c179e"
             ],
             [
              0.4444444444444444,
              "#bd3786"
             ],
             [
              0.5555555555555556,
              "#d8576b"
             ],
             [
              0.6666666666666666,
              "#ed7953"
             ],
             [
              0.7777777777777778,
              "#fb9f3a"
             ],
             [
              0.8888888888888888,
              "#fdca26"
             ],
             [
              1,
              "#f0f921"
             ]
            ],
            "type": "contour"
           }
          ],
          "contourcarpet": [
           {
            "colorbar": {
             "outlinewidth": 0,
             "ticks": ""
            },
            "type": "contourcarpet"
           }
          ],
          "heatmap": [
           {
            "colorbar": {
             "outlinewidth": 0,
             "ticks": ""
            },
            "colorscale": [
             [
              0,
              "#0d0887"
             ],
             [
              0.1111111111111111,
              "#46039f"
             ],
             [
              0.2222222222222222,
              "#7201a8"
             ],
             [
              0.3333333333333333,
              "#9c179e"
             ],
             [
              0.4444444444444444,
              "#bd3786"
             ],
             [
              0.5555555555555556,
              "#d8576b"
             ],
             [
              0.6666666666666666,
              "#ed7953"
             ],
             [
              0.7777777777777778,
              "#fb9f3a"
             ],
             [
              0.8888888888888888,
              "#fdca26"
             ],
             [
              1,
              "#f0f921"
             ]
            ],
            "type": "heatmap"
           }
          ],
          "histogram": [
           {
            "marker": {
             "pattern": {
              "fillmode": "overlay",
              "size": 10,
              "solidity": 0.2
             }
            },
            "type": "histogram"
           }
          ],
          "histogram2d": [
           {
            "colorbar": {
             "outlinewidth": 0,
             "ticks": ""
            },
            "colorscale": [
             [
              0,
              "#0d0887"
             ],
             [
              0.1111111111111111,
              "#46039f"
             ],
             [
              0.2222222222222222,
              "#7201a8"
             ],
             [
              0.3333333333333333,
              "#9c179e"
             ],
             [
              0.4444444444444444,
              "#bd3786"
             ],
             [
              0.5555555555555556,
              "#d8576b"
             ],
             [
              0.6666666666666666,
              "#ed7953"
             ],
             [
              0.7777777777777778,
              "#fb9f3a"
             ],
             [
              0.8888888888888888,
              "#fdca26"
             ],
             [
              1,
              "#f0f921"
             ]
            ],
            "type": "histogram2d"
           }
          ],
          "histogram2dcontour": [
           {
            "colorbar": {
             "outlinewidth": 0,
             "ticks": ""
            },
            "colorscale": [
             [
              0,
              "#0d0887"
             ],
             [
              0.1111111111111111,
              "#46039f"
             ],
             [
              0.2222222222222222,
              "#7201a8"
             ],
             [
              0.3333333333333333,
              "#9c179e"
             ],
             [
              0.4444444444444444,
              "#bd3786"
             ],
             [
              0.5555555555555556,
              "#d8576b"
             ],
             [
              0.6666666666666666,
              "#ed7953"
             ],
             [
              0.7777777777777778,
              "#fb9f3a"
             ],
             [
              0.8888888888888888,
              "#fdca26"
             ],
             [
              1,
              "#f0f921"
             ]
            ],
            "type": "histogram2dcontour"
           }
          ],
          "mesh3d": [
           {
            "colorbar": {
             "outlinewidth": 0,
             "ticks": ""
            },
            "type": "mesh3d"
           }
          ],
          "parcoords": [
           {
            "line": {
             "colorbar": {
              "outlinewidth": 0,
              "ticks": ""
             }
            },
            "type": "parcoords"
           }
          ],
          "pie": [
           {
            "automargin": true,
            "type": "pie"
           }
          ],
          "scatter": [
           {
            "fillpattern": {
             "fillmode": "overlay",
             "size": 10,
             "solidity": 0.2
            },
            "type": "scatter"
           }
          ],
          "scatter3d": [
           {
            "line": {
             "colorbar": {
              "outlinewidth": 0,
              "ticks": ""
             }
            },
            "marker": {
             "colorbar": {
              "outlinewidth": 0,
              "ticks": ""
             }
            },
            "type": "scatter3d"
           }
          ],
          "scattercarpet": [
           {
            "marker": {
             "colorbar": {
              "outlinewidth": 0,
              "ticks": ""
             }
            },
            "type": "scattercarpet"
           }
          ],
          "scattergeo": [
           {
            "marker": {
             "colorbar": {
              "outlinewidth": 0,
              "ticks": ""
             }
            },
            "type": "scattergeo"
           }
          ],
          "scattergl": [
           {
            "marker": {
             "colorbar": {
              "outlinewidth": 0,
              "ticks": ""
             }
            },
            "type": "scattergl"
           }
          ],
          "scattermap": [
           {
            "marker": {
             "colorbar": {
              "outlinewidth": 0,
              "ticks": ""
             }
            },
            "type": "scattermap"
           }
          ],
          "scattermapbox": [
           {
            "marker": {
             "colorbar": {
              "outlinewidth": 0,
              "ticks": ""
             }
            },
            "type": "scattermapbox"
           }
          ],
          "scatterpolar": [
           {
            "marker": {
             "colorbar": {
              "outlinewidth": 0,
              "ticks": ""
             }
            },
            "type": "scatterpolar"
           }
          ],
          "scatterpolargl": [
           {
            "marker": {
             "colorbar": {
              "outlinewidth": 0,
              "ticks": ""
             }
            },
            "type": "scatterpolargl"
           }
          ],
          "scatterternary": [
           {
            "marker": {
             "colorbar": {
              "outlinewidth": 0,
              "ticks": ""
             }
            },
            "type": "scatterternary"
           }
          ],
          "surface": [
           {
            "colorbar": {
             "outlinewidth": 0,
             "ticks": ""
            },
            "colorscale": [
             [
              0,
              "#0d0887"
             ],
             [
              0.1111111111111111,
              "#46039f"
             ],
             [
              0.2222222222222222,
              "#7201a8"
             ],
             [
              0.3333333333333333,
              "#9c179e"
             ],
             [
              0.4444444444444444,
              "#bd3786"
             ],
             [
              0.5555555555555556,
              "#d8576b"
             ],
             [
              0.6666666666666666,
              "#ed7953"
             ],
             [
              0.7777777777777778,
              "#fb9f3a"
             ],
             [
              0.8888888888888888,
              "#fdca26"
             ],
             [
              1,
              "#f0f921"
             ]
            ],
            "type": "surface"
           }
          ],
          "table": [
           {
            "cells": {
             "fill": {
              "color": "#EBF0F8"
             },
             "line": {
              "color": "white"
             }
            },
            "header": {
             "fill": {
              "color": "#C8D4E3"
             },
             "line": {
              "color": "white"
             }
            },
            "type": "table"
           }
          ]
         },
         "layout": {
          "annotationdefaults": {
           "arrowcolor": "#2a3f5f",
           "arrowhead": 0,
           "arrowwidth": 1
          },
          "autotypenumbers": "strict",
          "coloraxis": {
           "colorbar": {
            "outlinewidth": 0,
            "ticks": ""
           }
          },
          "colorscale": {
           "diverging": [
            [
             0,
             "#8e0152"
            ],
            [
             0.1,
             "#c51b7d"
            ],
            [
             0.2,
             "#de77ae"
            ],
            [
             0.3,
             "#f1b6da"
            ],
            [
             0.4,
             "#fde0ef"
            ],
            [
             0.5,
             "#f7f7f7"
            ],
            [
             0.6,
             "#e6f5d0"
            ],
            [
             0.7,
             "#b8e186"
            ],
            [
             0.8,
             "#7fbc41"
            ],
            [
             0.9,
             "#4d9221"
            ],
            [
             1,
             "#276419"
            ]
           ],
           "sequential": [
            [
             0,
             "#0d0887"
            ],
            [
             0.1111111111111111,
             "#46039f"
            ],
            [
             0.2222222222222222,
             "#7201a8"
            ],
            [
             0.3333333333333333,
             "#9c179e"
            ],
            [
             0.4444444444444444,
             "#bd3786"
            ],
            [
             0.5555555555555556,
             "#d8576b"
            ],
            [
             0.6666666666666666,
             "#ed7953"
            ],
            [
             0.7777777777777778,
             "#fb9f3a"
            ],
            [
             0.8888888888888888,
             "#fdca26"
            ],
            [
             1,
             "#f0f921"
            ]
           ],
           "sequentialminus": [
            [
             0,
             "#0d0887"
            ],
            [
             0.1111111111111111,
             "#46039f"
            ],
            [
             0.2222222222222222,
             "#7201a8"
            ],
            [
             0.3333333333333333,
             "#9c179e"
            ],
            [
             0.4444444444444444,
             "#bd3786"
            ],
            [
             0.5555555555555556,
             "#d8576b"
            ],
            [
             0.6666666666666666,
             "#ed7953"
            ],
            [
             0.7777777777777778,
             "#fb9f3a"
            ],
            [
             0.8888888888888888,
             "#fdca26"
            ],
            [
             1,
             "#f0f921"
            ]
           ]
          },
          "colorway": [
           "#636efa",
           "#EF553B",
           "#00cc96",
           "#ab63fa",
           "#FFA15A",
           "#19d3f3",
           "#FF6692",
           "#B6E880",
           "#FF97FF",
           "#FECB52"
          ],
          "font": {
           "color": "#2a3f5f"
          },
          "geo": {
           "bgcolor": "white",
           "lakecolor": "white",
           "landcolor": "#E5ECF6",
           "showlakes": true,
           "showland": true,
           "subunitcolor": "white"
          },
          "hoverlabel": {
           "align": "left"
          },
          "hovermode": "closest",
          "mapbox": {
           "style": "light"
          },
          "paper_bgcolor": "white",
          "plot_bgcolor": "#E5ECF6",
          "polar": {
           "angularaxis": {
            "gridcolor": "white",
            "linecolor": "white",
            "ticks": ""
           },
           "bgcolor": "#E5ECF6",
           "radialaxis": {
            "gridcolor": "white",
            "linecolor": "white",
            "ticks": ""
           }
          },
          "scene": {
           "xaxis": {
            "backgroundcolor": "#E5ECF6",
            "gridcolor": "white",
            "gridwidth": 2,
            "linecolor": "white",
            "showbackground": true,
            "ticks": "",
            "zerolinecolor": "white"
           },
           "yaxis": {
            "backgroundcolor": "#E5ECF6",
            "gridcolor": "white",
            "gridwidth": 2,
            "linecolor": "white",
            "showbackground": true,
            "ticks": "",
            "zerolinecolor": "white"
           },
           "zaxis": {
            "backgroundcolor": "#E5ECF6",
            "gridcolor": "white",
            "gridwidth": 2,
            "linecolor": "white",
            "showbackground": true,
            "ticks": "",
            "zerolinecolor": "white"
           }
          },
          "shapedefaults": {
           "line": {
            "color": "#2a3f5f"
           }
          },
          "ternary": {
           "aaxis": {
            "gridcolor": "white",
            "linecolor": "white",
            "ticks": ""
           },
           "baxis": {
            "gridcolor": "white",
            "linecolor": "white",
            "ticks": ""
           },
           "bgcolor": "#E5ECF6",
           "caxis": {
            "gridcolor": "white",
            "linecolor": "white",
            "ticks": ""
           }
          },
          "title": {
           "x": 0.05
          },
          "xaxis": {
           "automargin": true,
           "gridcolor": "white",
           "linecolor": "white",
           "ticks": "",
           "title": {
            "standoff": 15
           },
           "zerolinecolor": "white",
           "zerolinewidth": 2
          },
          "yaxis": {
           "automargin": true,
           "gridcolor": "white",
           "linecolor": "white",
           "ticks": "",
           "title": {
            "standoff": 15
           },
           "zerolinecolor": "white",
           "zerolinewidth": 2
          }
         }
        },
        "title": {
         "text": "TOP 20",
         "x": 0.5
        },
        "width": 600,
        "xaxis": {
         "anchor": "y",
         "domain": [
          0,
          0.94
         ]
        },
        "yaxis": {
         "anchor": "x",
         "domain": [
          0,
          1
         ],
         "side": "right"
        },
        "yaxis2": {
         "anchor": "x",
         "overlaying": "y",
         "side": "right"
        }
       }
      }
     },
     "metadata": {},
     "output_type": "display_data"
    },
    {
     "data": {
      "application/vnd.plotly.v1+json": {
       "config": {
        "plotlyServerURL": "https://plot.ly"
       },
       "data": [
        {
         "name": "SOUN: 34.23 %",
         "type": "scatter",
         "x": [
          "2024-07-16",
          "2024-07-17",
          "2024-07-18",
          "2024-07-19",
          "2024-07-22",
          "2024-07-23",
          "2024-07-24",
          "2024-07-25",
          "2024-07-26",
          "2024-07-29",
          "2024-07-30",
          "2024-07-31",
          "2024-08-01",
          "2024-08-02",
          "2024-08-05",
          "2024-08-06",
          "2024-08-07",
          "2024-08-08",
          "2024-08-09",
          "2024-08-12",
          "2024-08-13",
          "2024-08-14",
          "2024-08-15",
          "2024-08-16",
          "2024-08-19",
          "2024-08-20",
          "2024-08-21",
          "2024-08-22",
          "2024-08-23",
          "2024-08-26",
          "2024-08-27",
          "2024-08-28",
          "2024-08-29",
          "2024-08-30",
          "2024-09-03",
          "2024-09-04",
          "2024-09-05",
          "2024-09-06",
          "2024-09-09",
          "2024-09-10",
          "2024-09-11",
          "2024-09-12",
          "2024-09-13",
          "2024-09-16",
          "2024-09-17",
          "2024-09-18",
          "2024-09-19",
          "2024-09-20",
          "2024-09-23",
          "2024-09-24",
          "2024-09-25",
          "2024-09-26",
          "2024-09-27",
          "2024-09-30",
          "2024-10-01",
          "2024-10-02",
          "2024-10-03",
          "2024-10-04",
          "2024-10-07",
          "2024-10-08",
          "2024-10-09",
          "2024-10-10",
          "2024-10-11",
          "2024-10-14",
          "2024-10-15",
          "2024-10-16",
          "2024-10-17",
          "2024-10-18",
          "2024-10-21",
          "2024-10-22",
          "2024-10-23",
          "2024-10-24",
          "2024-10-25",
          "2024-10-28",
          "2024-10-29",
          "2024-10-30",
          "2024-10-31",
          "2024-11-01",
          "2024-11-04",
          "2024-11-05",
          "2024-11-06",
          "2024-11-07",
          "2024-11-08",
          "2024-11-11",
          "2024-11-12",
          "2024-11-13",
          "2024-11-14",
          "2024-11-15",
          "2024-11-18",
          "2024-11-19",
          "2024-11-20",
          "2024-11-21",
          "2024-11-22",
          "2024-11-25",
          "2024-11-26",
          "2024-11-27",
          "2024-11-29",
          "2024-12-02",
          "2024-12-03",
          "2024-12-04",
          "2024-12-05",
          "2024-12-06",
          "2024-12-09",
          "2024-12-10",
          "2024-12-11",
          "2024-12-12",
          "2024-12-13",
          "2024-12-16",
          "2024-12-17",
          "2024-12-18",
          "2024-12-19",
          "2024-12-20",
          "2024-12-23",
          "2024-12-24",
          "2024-12-26",
          "2024-12-27",
          "2024-12-30",
          "2024-12-31",
          "2025-01-02",
          "2025-01-03",
          "2025-01-06",
          "2025-01-07",
          "2025-01-08",
          "2025-01-10",
          "2025-01-13",
          "2025-01-14",
          "2025-01-15",
          "2025-01-16",
          "2025-01-17",
          "2025-01-21",
          "2025-01-22",
          "2025-01-23",
          "2025-01-24",
          "2025-01-27",
          "2025-01-28",
          "2025-01-29",
          "2025-01-30",
          "2025-01-31",
          "2025-02-03",
          "2025-02-04",
          "2025-02-05",
          "2025-02-06",
          "2025-02-07",
          "2025-02-10",
          "2025-02-11",
          "2025-02-12",
          "2025-02-13",
          "2025-02-14",
          "2025-02-18",
          "2025-02-19",
          "2025-02-20",
          "2025-02-21",
          "2025-02-24",
          "2025-02-25",
          "2025-02-26",
          "2025-02-27",
          "2025-02-28",
          "2025-03-03",
          "2025-03-04",
          "2025-03-05",
          "2025-03-06",
          "2025-03-07",
          "2025-03-10",
          "2025-03-11",
          "2025-03-12",
          "2025-03-13",
          "2025-03-14",
          "2025-03-17",
          "2025-03-18",
          "2025-03-19",
          "2025-03-20",
          "2025-03-21",
          "2025-03-24",
          "2025-03-25",
          "2025-03-26",
          "2025-03-27",
          "2025-03-28",
          "2025-03-31",
          "2025-04-01",
          "2025-04-02",
          "2025-04-03",
          "2025-04-04",
          "2025-04-07",
          "2025-04-08",
          "2025-04-09",
          "2025-04-10",
          "2025-04-11",
          "2025-04-14",
          "2025-04-15",
          "2025-04-16",
          "2025-04-17",
          "2025-04-21",
          "2025-04-22",
          "2025-04-23",
          "2025-04-24",
          "2025-04-25",
          "2025-04-28",
          "2025-04-29",
          "2025-04-30",
          "2025-05-01",
          "2025-05-02",
          "2025-05-05",
          "2025-05-06",
          "2025-05-07",
          "2025-05-08",
          "2025-05-09",
          "2025-05-12",
          "2025-05-13",
          "2025-05-14",
          "2025-05-15",
          "2025-05-16",
          "2025-05-19",
          "2025-05-20",
          "2025-05-21",
          "2025-05-22",
          "2025-05-23",
          "2025-05-27",
          "2025-05-28",
          "2025-05-29",
          "2025-05-30",
          "2025-06-02",
          "2025-06-03",
          "2025-06-04",
          "2025-06-05",
          "2025-06-06",
          "2025-06-09",
          "2025-06-10",
          "2025-06-11",
          "2025-06-12",
          "2025-06-13",
          "2025-06-16",
          "2025-06-17",
          "2025-06-18",
          "2025-06-20",
          "2025-06-23",
          "2025-06-24",
          "2025-06-25",
          "2025-06-26",
          "2025-06-27",
          "2025-06-30",
          "2025-07-01",
          "2025-07-02",
          "2025-07-03",
          "2025-07-07",
          "2025-07-08",
          "2025-07-09",
          "2025-07-10",
          "2025-07-11",
          "2025-07-14",
          "2025-07-15",
          "2025-07-16",
          "2025-07-17",
          "2025-07-18",
          "2025-07-21",
          "2025-07-22",
          "2025-07-23",
          "2025-07-24",
          "2025-07-25",
          "2025-07-28",
          "2025-07-29",
          "2025-07-30",
          "2025-07-31",
          "2025-08-01",
          "2025-08-04",
          "2025-08-05",
          "2025-08-06",
          "2025-08-07",
          "2025-08-08",
          "2025-08-11",
          "2025-08-12",
          "2025-08-13",
          "2025-08-14",
          "2025-08-15",
          "2025-08-18",
          "2025-08-19",
          "2025-08-20",
          "2025-08-21",
          "2025-08-22",
          "2025-08-25",
          "2025-08-26",
          "2025-08-27",
          "2025-08-28",
          "2025-08-29",
          "2025-09-02",
          "2025-09-03",
          "2025-09-04",
          "2025-09-05",
          "2025-09-08",
          "2025-09-09"
         ],
         "xaxis": "x",
         "y": {
          "bdata": "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",
          "dtype": "f8"
         },
         "yaxis": "y"
        },
        {
         "name": "SMA 50",
         "type": "scatter",
         "x": [
          "2024-07-16",
          "2024-07-17",
          "2024-07-18",
          "2024-07-19",
          "2024-07-22",
          "2024-07-23",
          "2024-07-24",
          "2024-07-25",
          "2024-07-26",
          "2024-07-29",
          "2024-07-30",
          "2024-07-31",
          "2024-08-01",
          "2024-08-02",
          "2024-08-05",
          "2024-08-06",
          "2024-08-07",
          "2024-08-08",
          "2024-08-09",
          "2024-08-12",
          "2024-08-13",
          "2024-08-14",
          "2024-08-15",
          "2024-08-16",
          "2024-08-19",
          "2024-08-20",
          "2024-08-21",
          "2024-08-22",
          "2024-08-23",
          "2024-08-26",
          "2024-08-27",
          "2024-08-28",
          "2024-08-29",
          "2024-08-30",
          "2024-09-03",
          "2024-09-04",
          "2024-09-05",
          "2024-09-06",
          "2024-09-09",
          "2024-09-10",
          "2024-09-11",
          "2024-09-12",
          "2024-09-13",
          "2024-09-16",
          "2024-09-17",
          "2024-09-18",
          "2024-09-19",
          "2024-09-20",
          "2024-09-23",
          "2024-09-24",
          "2024-09-25",
          "2024-09-26",
          "2024-09-27",
          "2024-09-30",
          "2024-10-01",
          "2024-10-02",
          "2024-10-03",
          "2024-10-04",
          "2024-10-07",
          "2024-10-08",
          "2024-10-09",
          "2024-10-10",
          "2024-10-11",
          "2024-10-14",
          "2024-10-15",
          "2024-10-16",
          "2024-10-17",
          "2024-10-18",
          "2024-10-21",
          "2024-10-22",
          "2024-10-23",
          "2024-10-24",
          "2024-10-25",
          "2024-10-28",
          "2024-10-29",
          "2024-10-30",
          "2024-10-31",
          "2024-11-01",
          "2024-11-04",
          "2024-11-05",
          "2024-11-06",
          "2024-11-07",
          "2024-11-08",
          "2024-11-11",
          "2024-11-12",
          "2024-11-13",
          "2024-11-14",
          "2024-11-15",
          "2024-11-18",
          "2024-11-19",
          "2024-11-20",
          "2024-11-21",
          "2024-11-22",
          "2024-11-25",
          "2024-11-26",
          "2024-11-27",
          "2024-11-29",
          "2024-12-02",
          "2024-12-03",
          "2024-12-04",
          "2024-12-05",
          "2024-12-06",
          "2024-12-09",
          "2024-12-10",
          "2024-12-11",
          "2024-12-12",
          "2024-12-13",
          "2024-12-16",
          "2024-12-17",
          "2024-12-18",
          "2024-12-19",
          "2024-12-20",
          "2024-12-23",
          "2024-12-24",
          "2024-12-26",
          "2024-12-27",
          "2024-12-30",
          "2024-12-31",
          "2025-01-02",
          "2025-01-03",
          "2025-01-06",
          "2025-01-07",
          "2025-01-08",
          "2025-01-10",
          "2025-01-13",
          "2025-01-14",
          "2025-01-15",
          "2025-01-16",
          "2025-01-17",
          "2025-01-21",
          "2025-01-22",
          "2025-01-23",
          "2025-01-24",
          "2025-01-27",
          "2025-01-28",
          "2025-01-29",
          "2025-01-30",
          "2025-01-31",
          "2025-02-03",
          "2025-02-04",
          "2025-02-05",
          "2025-02-06",
          "2025-02-07",
          "2025-02-10",
          "2025-02-11",
          "2025-02-12",
          "2025-02-13",
          "2025-02-14",
          "2025-02-18",
          "2025-02-19",
          "2025-02-20",
          "2025-02-21",
          "2025-02-24",
          "2025-02-25",
          "2025-02-26",
          "2025-02-27",
          "2025-02-28",
          "2025-03-03",
          "2025-03-04",
          "2025-03-05",
          "2025-03-06",
          "2025-03-07",
          "2025-03-10",
          "2025-03-11",
          "2025-03-12",
          "2025-03-13",
          "2025-03-14",
          "2025-03-17",
          "2025-03-18",
          "2025-03-19",
          "2025-03-20",
          "2025-03-21",
          "2025-03-24",
          "2025-03-25",
          "2025-03-26",
          "2025-03-27",
          "2025-03-28",
          "2025-03-31",
          "2025-04-01",
          "2025-04-02",
          "2025-04-03",
          "2025-04-04",
          "2025-04-07",
          "2025-04-08",
          "2025-04-09",
          "2025-04-10",
          "2025-04-11",
          "2025-04-14",
          "2025-04-15",
          "2025-04-16",
          "2025-04-17",
          "2025-04-21",
          "2025-04-22",
          "2025-04-23",
          "2025-04-24",
          "2025-04-25",
          "2025-04-28",
          "2025-04-29",
          "2025-04-30",
          "2025-05-01",
          "2025-05-02",
          "2025-05-05",
          "2025-05-06",
          "2025-05-07",
          "2025-05-08",
          "2025-05-09",
          "2025-05-12",
          "2025-05-13",
          "2025-05-14",
          "2025-05-15",
          "2025-05-16",
          "2025-05-19",
          "2025-05-20",
          "2025-05-21",
          "2025-05-22",
          "2025-05-23",
          "2025-05-27",
          "2025-05-28",
          "2025-05-29",
          "2025-05-30",
          "2025-06-02",
          "2025-06-03",
          "2025-06-04",
          "2025-06-05",
          "2025-06-06",
          "2025-06-09",
          "2025-06-10",
          "2025-06-11",
          "2025-06-12",
          "2025-06-13",
          "2025-06-16",
          "2025-06-17",
          "2025-06-18",
          "2025-06-20",
          "2025-06-23",
          "2025-06-24",
          "2025-06-25",
          "2025-06-26",
          "2025-06-27",
          "2025-06-30",
          "2025-07-01",
          "2025-07-02",
          "2025-07-03",
          "2025-07-07",
          "2025-07-08",
          "2025-07-09",
          "2025-07-10",
          "2025-07-11",
          "2025-07-14",
          "2025-07-15",
          "2025-07-16",
          "2025-07-17",
          "2025-07-18",
          "2025-07-21",
          "2025-07-22",
          "2025-07-23",
          "2025-07-24",
          "2025-07-25",
          "2025-07-28",
          "2025-07-29",
          "2025-07-30",
          "2025-07-31",
          "2025-08-01",
          "2025-08-04",
          "2025-08-05",
          "2025-08-06",
          "2025-08-07",
          "2025-08-08",
          "2025-08-11",
          "2025-08-12",
          "2025-08-13",
          "2025-08-14",
          "2025-08-15",
          "2025-08-18",
          "2025-08-19",
          "2025-08-20",
          "2025-08-21",
          "2025-08-22",
          "2025-08-25",
          "2025-08-26",
          "2025-08-27",
          "2025-08-28",
          "2025-08-29",
          "2025-09-02",
          "2025-09-03",
          "2025-09-04",
          "2025-09-05",
          "2025-09-08",
          "2025-09-09"
         ],
         "xaxis": "x",
         "y": {
          "bdata": "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",
          "dtype": "f8"
         },
         "yaxis": "y"
        }
       ],
       "layout": {
        "annotations": [
         {
          "font": {
           "size": 8
          },
          "showarrow": false,
          "text": "Date: 2025-09-09, Open:14.9, High:15.26, Low:14.64, Close: 15.02",
          "x": 0.01,
          "xref": "x domain",
          "y": 1,
          "yref": "y domain"
         }
        ],
        "height": 400,
        "legend": {
         "font": {
          "size": 8
         },
         "title": {
          "font": {
           "family": "Arial"
          }
         }
        },
        "template": {
         "data": {
          "bar": [
           {
            "error_x": {
             "color": "#2a3f5f"
            },
            "error_y": {
             "color": "#2a3f5f"
            },
            "marker": {
             "line": {
              "color": "#E5ECF6",
              "width": 0.5
             },
             "pattern": {
              "fillmode": "overlay",
              "size": 10,
              "solidity": 0.2
             }
            },
            "type": "bar"
           }
          ],
          "barpolar": [
           {
            "marker": {
             "line": {
              "color": "#E5ECF6",
              "width": 0.5
             },
             "pattern": {
              "fillmode": "overlay",
              "size": 10,
              "solidity": 0.2
             }
            },
            "type": "barpolar"
           }
          ],
          "carpet": [
           {
            "aaxis": {
             "endlinecolor": "#2a3f5f",
             "gridcolor": "white",
             "linecolor": "white",
             "minorgridcolor": "white",
             "startlinecolor": "#2a3f5f"
            },
            "baxis": {
             "endlinecolor": "#2a3f5f",
             "gridcolor": "white",
             "linecolor": "white",
             "minorgridcolor": "white",
             "startlinecolor": "#2a3f5f"
            },
            "type": "carpet"
           }
          ],
          "choropleth": [
           {
            "colorbar": {
             "outlinewidth": 0,
             "ticks": ""
            },
            "type": "choropleth"
           }
          ],
          "contour": [
           {
            "colorbar": {
             "outlinewidth": 0,
             "ticks": ""
            },
            "colorscale": [
             [
              0,
              "#0d0887"
             ],
             [
              0.1111111111111111,
              "#46039f"
             ],
             [
              0.2222222222222222,
              "#7201a8"
             ],
             [
              0.3333333333333333,
              "#9c179e"
             ],
             [
              0.4444444444444444,
              "#bd3786"
             ],
             [
              0.5555555555555556,
              "#d8576b"
             ],
             [
              0.6666666666666666,
              "#ed7953"
             ],
             [
              0.7777777777777778,
              "#fb9f3a"
             ],
             [
              0.8888888888888888,
              "#fdca26"
             ],
             [
              1,
              "#f0f921"
             ]
            ],
            "type": "contour"
           }
          ],
          "contourcarpet": [
           {
            "colorbar": {
             "outlinewidth": 0,
             "ticks": ""
            },
            "type": "contourcarpet"
           }
          ],
          "heatmap": [
           {
            "colorbar": {
             "outlinewidth": 0,
             "ticks": ""
            },
            "colorscale": [
             [
              0,
              "#0d0887"
             ],
             [
              0.1111111111111111,
              "#46039f"
             ],
             [
              0.2222222222222222,
              "#7201a8"
             ],
             [
              0.3333333333333333,
              "#9c179e"
             ],
             [
              0.4444444444444444,
              "#bd3786"
             ],
             [
              0.5555555555555556,
              "#d8576b"
             ],
             [
              0.6666666666666666,
              "#ed7953"
             ],
             [
              0.7777777777777778,
              "#fb9f3a"
             ],
             [
              0.8888888888888888,
              "#fdca26"
             ],
             [
              1,
              "#f0f921"
             ]
            ],
            "type": "heatmap"
           }
          ],
          "histogram": [
           {
            "marker": {
             "pattern": {
              "fillmode": "overlay",
              "size": 10,
              "solidity": 0.2
             }
            },
            "type": "histogram"
           }
          ],
          "histogram2d": [
           {
            "colorbar": {
             "outlinewidth": 0,
             "ticks": ""
            },
            "colorscale": [
             [
              0,
              "#0d0887"
             ],
             [
              0.1111111111111111,
              "#46039f"
             ],
             [
              0.2222222222222222,
              "#7201a8"
             ],
             [
              0.3333333333333333,
              "#9c179e"
             ],
             [
              0.4444444444444444,
              "#bd3786"
             ],
             [
              0.5555555555555556,
              "#d8576b"
             ],
             [
              0.6666666666666666,
              "#ed7953"
             ],
             [
              0.7777777777777778,
              "#fb9f3a"
             ],
             [
              0.8888888888888888,
              "#fdca26"
             ],
             [
              1,
              "#f0f921"
             ]
            ],
            "type": "histogram2d"
           }
          ],
          "histogram2dcontour": [
           {
            "colorbar": {
             "outlinewidth": 0,
             "ticks": ""
            },
            "colorscale": [
             [
              0,
              "#0d0887"
             ],
             [
              0.1111111111111111,
              "#46039f"
             ],
             [
              0.2222222222222222,
              "#7201a8"
             ],
             [
              0.3333333333333333,
              "#9c179e"
             ],
             [
              0.4444444444444444,
              "#bd3786"
             ],
             [
              0.5555555555555556,
              "#d8576b"
             ],
             [
              0.6666666666666666,
              "#ed7953"
             ],
             [
              0.7777777777777778,
              "#fb9f3a"
             ],
             [
              0.8888888888888888,
              "#fdca26"
             ],
             [
              1,
              "#f0f921"
             ]
            ],
            "type": "histogram2dcontour"
           }
          ],
          "mesh3d": [
           {
            "colorbar": {
             "outlinewidth": 0,
             "ticks": ""
            },
            "type": "mesh3d"
           }
          ],
          "parcoords": [
           {
            "line": {
             "colorbar": {
              "outlinewidth": 0,
              "ticks": ""
             }
            },
            "type": "parcoords"
           }
          ],
          "pie": [
           {
            "automargin": true,
            "type": "pie"
           }
          ],
          "scatter": [
           {
            "fillpattern": {
             "fillmode": "overlay",
             "size": 10,
             "solidity": 0.2
            },
            "type": "scatter"
           }
          ],
          "scatter3d": [
           {
            "line": {
             "colorbar": {
              "outlinewidth": 0,
              "ticks": ""
             }
            },
            "marker": {
             "colorbar": {
              "outlinewidth": 0,
              "ticks": ""
             }
            },
            "type": "scatter3d"
           }
          ],
          "scattercarpet": [
           {
            "marker": {
             "colorbar": {
              "outlinewidth": 0,
              "ticks": ""
             }
            },
            "type": "scattercarpet"
           }
          ],
          "scattergeo": [
           {
            "marker": {
             "colorbar": {
              "outlinewidth": 0,
              "ticks": ""
             }
            },
            "type": "scattergeo"
           }
          ],
          "scattergl": [
           {
            "marker": {
             "colorbar": {
              "outlinewidth": 0,
              "ticks": ""
             }
            },
            "type": "scattergl"
           }
          ],
          "scattermap": [
           {
            "marker": {
             "colorbar": {
              "outlinewidth": 0,
              "ticks": ""
             }
            },
            "type": "scattermap"
           }
          ],
          "scattermapbox": [
           {
            "marker": {
             "colorbar": {
              "outlinewidth": 0,
              "ticks": ""
             }
            },
            "type": "scattermapbox"
           }
          ],
          "scatterpolar": [
           {
            "marker": {
             "colorbar": {
              "outlinewidth": 0,
              "ticks": ""
             }
            },
            "type": "scatterpolar"
           }
          ],
          "scatterpolargl": [
           {
            "marker": {
             "colorbar": {
              "outlinewidth": 0,
              "ticks": ""
             }
            },
            "type": "scatterpolargl"
           }
          ],
          "scatterternary": [
           {
            "marker": {
             "colorbar": {
              "outlinewidth": 0,
              "ticks": ""
             }
            },
            "type": "scatterternary"
           }
          ],
          "surface": [
           {
            "colorbar": {
             "outlinewidth": 0,
             "ticks": ""
            },
            "colorscale": [
             [
              0,
              "#0d0887"
             ],
             [
              0.1111111111111111,
              "#46039f"
             ],
             [
              0.2222222222222222,
              "#7201a8"
             ],
             [
              0.3333333333333333,
              "#9c179e"
             ],
             [
              0.4444444444444444,
              "#bd3786"
             ],
             [
              0.5555555555555556,
              "#d8576b"
             ],
             [
              0.6666666666666666,
              "#ed7953"
             ],
             [
              0.7777777777777778,
              "#fb9f3a"
             ],
             [
              0.8888888888888888,
              "#fdca26"
             ],
             [
              1,
              "#f0f921"
             ]
            ],
            "type": "surface"
           }
          ],
          "table": [
           {
            "cells": {
             "fill": {
              "color": "#EBF0F8"
             },
             "line": {
              "color": "white"
             }
            },
            "header": {
             "fill": {
              "color": "#C8D4E3"
             },
             "line": {
              "color": "white"
             }
            },
            "type": "table"
           }
          ]
         },
         "layout": {
          "annotationdefaults": {
           "arrowcolor": "#2a3f5f",
           "arrowhead": 0,
           "arrowwidth": 1
          },
          "autotypenumbers": "strict",
          "coloraxis": {
           "colorbar": {
            "outlinewidth": 0,
            "ticks": ""
           }
          },
          "colorscale": {
           "diverging": [
            [
             0,
             "#8e0152"
            ],
            [
             0.1,
             "#c51b7d"
            ],
            [
             0.2,
             "#de77ae"
            ],
            [
             0.3,
             "#f1b6da"
            ],
            [
             0.4,
             "#fde0ef"
            ],
            [
             0.5,
             "#f7f7f7"
            ],
            [
             0.6,
             "#e6f5d0"
            ],
            [
             0.7,
             "#b8e186"
            ],
            [
             0.8,
             "#7fbc41"
            ],
            [
             0.9,
             "#4d9221"
            ],
            [
             1,
             "#276419"
            ]
           ],
           "sequential": [
            [
             0,
             "#0d0887"
            ],
            [
             0.1111111111111111,
             "#46039f"
            ],
            [
             0.2222222222222222,
             "#7201a8"
            ],
            [
             0.3333333333333333,
             "#9c179e"
            ],
            [
             0.4444444444444444,
             "#bd3786"
            ],
            [
             0.5555555555555556,
             "#d8576b"
            ],
            [
             0.6666666666666666,
             "#ed7953"
            ],
            [
             0.7777777777777778,
             "#fb9f3a"
            ],
            [
             0.8888888888888888,
             "#fdca26"
            ],
            [
             1,
             "#f0f921"
            ]
           ],
           "sequentialminus": [
            [
             0,
             "#0d0887"
            ],
            [
             0.1111111111111111,
             "#46039f"
            ],
            [
             0.2222222222222222,
             "#7201a8"
            ],
            [
             0.3333333333333333,
             "#9c179e"
            ],
            [
             0.4444444444444444,
             "#bd3786"
            ],
            [
             0.5555555555555556,
             "#d8576b"
            ],
            [
             0.6666666666666666,
             "#ed7953"
            ],
            [
             0.7777777777777778,
             "#fb9f3a"
            ],
            [
             0.8888888888888888,
             "#fdca26"
            ],
            [
             1,
             "#f0f921"
            ]
           ]
          },
          "colorway": [
           "#636efa",
           "#EF553B",
           "#00cc96",
           "#ab63fa",
           "#FFA15A",
           "#19d3f3",
           "#FF6692",
           "#B6E880",
           "#FF97FF",
           "#FECB52"
          ],
          "font": {
           "color": "#2a3f5f"
          },
          "geo": {
           "bgcolor": "white",
           "lakecolor": "white",
           "landcolor": "#E5ECF6",
           "showlakes": true,
           "showland": true,
           "subunitcolor": "white"
          },
          "hoverlabel": {
           "align": "left"
          },
          "hovermode": "closest",
          "mapbox": {
           "style": "light"
          },
          "paper_bgcolor": "white",
          "plot_bgcolor": "#E5ECF6",
          "polar": {
           "angularaxis": {
            "gridcolor": "white",
            "linecolor": "white",
            "ticks": ""
           },
           "bgcolor": "#E5ECF6",
           "radialaxis": {
            "gridcolor": "white",
            "linecolor": "white",
            "ticks": ""
           }
          },
          "scene": {
           "xaxis": {
            "backgroundcolor": "#E5ECF6",
            "gridcolor": "white",
            "gridwidth": 2,
            "linecolor": "white",
            "showbackground": true,
            "ticks": "",
            "zerolinecolor": "white"
           },
           "yaxis": {
            "backgroundcolor": "#E5ECF6",
            "gridcolor": "white",
            "gridwidth": 2,
            "linecolor": "white",
            "showbackground": true,
            "ticks": "",
            "zerolinecolor": "white"
           },
           "zaxis": {
            "backgroundcolor": "#E5ECF6",
            "gridcolor": "white",
            "gridwidth": 2,
            "linecolor": "white",
            "showbackground": true,
            "ticks": "",
            "zerolinecolor": "white"
           }
          },
          "shapedefaults": {
           "line": {
            "color": "#2a3f5f"
           }
          },
          "ternary": {
           "aaxis": {
            "gridcolor": "white",
            "linecolor": "white",
            "ticks": ""
           },
           "baxis": {
            "gridcolor": "white",
            "linecolor": "white",
            "ticks": ""
           },
           "bgcolor": "#E5ECF6",
           "caxis": {
            "gridcolor": "white",
            "linecolor": "white",
            "ticks": ""
           }
          },
          "title": {
           "x": 0.05
          },
          "xaxis": {
           "automargin": true,
           "gridcolor": "white",
           "linecolor": "white",
           "ticks": "",
           "title": {
            "standoff": 15
           },
           "zerolinecolor": "white",
           "zerolinewidth": 2
          },
          "yaxis": {
           "automargin": true,
           "gridcolor": "white",
           "linecolor": "white",
           "ticks": "",
           "title": {
            "standoff": 15
           },
           "zerolinecolor": "white",
           "zerolinewidth": 2
          }
         }
        },
        "title": {
         "text": "TOP 20",
         "x": 0.5
        },
        "width": 600,
        "xaxis": {
         "anchor": "y",
         "domain": [
          0,
          0.94
         ]
        },
        "yaxis": {
         "anchor": "x",
         "domain": [
          0,
          1
         ],
         "side": "right"
        },
        "yaxis2": {
         "anchor": "x",
         "overlaying": "y",
         "side": "right"
        }
       }
      }
     },
     "metadata": {},
     "output_type": "display_data"
    },
    {
     "data": {
      "application/vnd.plotly.v1+json": {
       "config": {
        "plotlyServerURL": "https://plot.ly"
       },
       "data": [
        {
         "name": "WDC: 33.84 %",
         "type": "scatter",
         "x": [
          "2024-07-16",
          "2024-07-17",
          "2024-07-18",
          "2024-07-19",
          "2024-07-22",
          "2024-07-23",
          "2024-07-24",
          "2024-07-25",
          "2024-07-26",
          "2024-07-29",
          "2024-07-30",
          "2024-07-31",
          "2024-08-01",
          "2024-08-02",
          "2024-08-05",
          "2024-08-06",
          "2024-08-07",
          "2024-08-08",
          "2024-08-09",
          "2024-08-12",
          "2024-08-13",
          "2024-08-14",
          "2024-08-15",
          "2024-08-16",
          "2024-08-19",
          "2024-08-20",
          "2024-08-21",
          "2024-08-22",
          "2024-08-23",
          "2024-08-26",
          "2024-08-27",
          "2024-08-28",
          "2024-08-29",
          "2024-08-30",
          "2024-09-03",
          "2024-09-04",
          "2024-09-05",
          "2024-09-06",
          "2024-09-09",
          "2024-09-10",
          "2024-09-11",
          "2024-09-12",
          "2024-09-13",
          "2024-09-16",
          "2024-09-17",
          "2024-09-18",
          "2024-09-19",
          "2024-09-20",
          "2024-09-23",
          "2024-09-24",
          "2024-09-25",
          "2024-09-26",
          "2024-09-27",
          "2024-09-30",
          "2024-10-01",
          "2024-10-02",
          "2024-10-03",
          "2024-10-04",
          "2024-10-07",
          "2024-10-08",
          "2024-10-09",
          "2024-10-10",
          "2024-10-11",
          "2024-10-14",
          "2024-10-15",
          "2024-10-16",
          "2024-10-17",
          "2024-10-18",
          "2024-10-21",
          "2024-10-22",
          "2024-10-23",
          "2024-10-24",
          "2024-10-25",
          "2024-10-28",
          "2024-10-29",
          "2024-10-30",
          "2024-10-31",
          "2024-11-01",
          "2024-11-04",
          "2024-11-05",
          "2024-11-06",
          "2024-11-07",
          "2024-11-08",
          "2024-11-11",
          "2024-11-12",
          "2024-11-13",
          "2024-11-14",
          "2024-11-15",
          "2024-11-18",
          "2024-11-19",
          "2024-11-20",
          "2024-11-21",
          "2024-11-22",
          "2024-11-25",
          "2024-11-26",
          "2024-11-27",
          "2024-11-29",
          "2024-12-02",
          "2024-12-03",
          "2024-12-04",
          "2024-12-05",
          "2024-12-06",
          "2024-12-09",
          "2024-12-10",
          "2024-12-11",
          "2024-12-12",
          "2024-12-13",
          "2024-12-16",
          "2024-12-17",
          "2024-12-18",
          "2024-12-19",
          "2024-12-20",
          "2024-12-23",
          "2024-12-24",
          "2024-12-26",
          "2024-12-27",
          "2024-12-30",
          "2024-12-31",
          "2025-01-02",
          "2025-01-03",
          "2025-01-06",
          "2025-01-07",
          "2025-01-08",
          "2025-01-10",
          "2025-01-13",
          "2025-01-14",
          "2025-01-15",
          "2025-01-16",
          "2025-01-17",
          "2025-01-21",
          "2025-01-22",
          "2025-01-23",
          "2025-01-24",
          "2025-01-27",
          "2025-01-28",
          "2025-01-29",
          "2025-01-30",
          "2025-01-31",
          "2025-02-03",
          "2025-02-04",
          "2025-02-05",
          "2025-02-06",
          "2025-02-07",
          "2025-02-10",
          "2025-02-11",
          "2025-02-12",
          "2025-02-13",
          "2025-02-14",
          "2025-02-18",
          "2025-02-19",
          "2025-02-20",
          "2025-02-21",
          "2025-02-24",
          "2025-02-25",
          "2025-02-26",
          "2025-02-27",
          "2025-02-28",
          "2025-03-03",
          "2025-03-04",
          "2025-03-05",
          "2025-03-06",
          "2025-03-07",
          "2025-03-10",
          "2025-03-11",
          "2025-03-12",
          "2025-03-13",
          "2025-03-14",
          "2025-03-17",
          "2025-03-18",
          "2025-03-19",
          "2025-03-20",
          "2025-03-21",
          "2025-03-24",
          "2025-03-25",
          "2025-03-26",
          "2025-03-27",
          "2025-03-28",
          "2025-03-31",
          "2025-04-01",
          "2025-04-02",
          "2025-04-03",
          "2025-04-04",
          "2025-04-07",
          "2025-04-08",
          "2025-04-09",
          "2025-04-10",
          "2025-04-11",
          "2025-04-14",
          "2025-04-15",
          "2025-04-16",
          "2025-04-17",
          "2025-04-21",
          "2025-04-22",
          "2025-04-23",
          "2025-04-24",
          "2025-04-25",
          "2025-04-28",
          "2025-04-29",
          "2025-04-30",
          "2025-05-01",
          "2025-05-02",
          "2025-05-05",
          "2025-05-06",
          "2025-05-07",
          "2025-05-08",
          "2025-05-09",
          "2025-05-12",
          "2025-05-13",
          "2025-05-14",
          "2025-05-15",
          "2025-05-16",
          "2025-05-19",
          "2025-05-20",
          "2025-05-21",
          "2025-05-22",
          "2025-05-23",
          "2025-05-27",
          "2025-05-28",
          "2025-05-29",
          "2025-05-30",
          "2025-06-02",
          "2025-06-03",
          "2025-06-04",
          "2025-06-05",
          "2025-06-06",
          "2025-06-09",
          "2025-06-10",
          "2025-06-11",
          "2025-06-12",
          "2025-06-13",
          "2025-06-16",
          "2025-06-17",
          "2025-06-18",
          "2025-06-20",
          "2025-06-23",
          "2025-06-24",
          "2025-06-25",
          "2025-06-26",
          "2025-06-27",
          "2025-06-30",
          "2025-07-01",
          "2025-07-02",
          "2025-07-03",
          "2025-07-07",
          "2025-07-08",
          "2025-07-09",
          "2025-07-10",
          "2025-07-11",
          "2025-07-14",
          "2025-07-15",
          "2025-07-16",
          "2025-07-17",
          "2025-07-18",
          "2025-07-21",
          "2025-07-22",
          "2025-07-23",
          "2025-07-24",
          "2025-07-25",
          "2025-07-28",
          "2025-07-29",
          "2025-07-30",
          "2025-07-31",
          "2025-08-01",
          "2025-08-04",
          "2025-08-05",
          "2025-08-06",
          "2025-08-07",
          "2025-08-08",
          "2025-08-11",
          "2025-08-12",
          "2025-08-13",
          "2025-08-14",
          "2025-08-15",
          "2025-08-18",
          "2025-08-19",
          "2025-08-20",
          "2025-08-21",
          "2025-08-22",
          "2025-08-25",
          "2025-08-26",
          "2025-08-27",
          "2025-08-28",
          "2025-08-29",
          "2025-09-02",
          "2025-09-03",
          "2025-09-04",
          "2025-09-05",
          "2025-09-08",
          "2025-09-09"
         ],
         "xaxis": "x",
         "y": {
          "bdata": "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",
          "dtype": "f8"
         },
         "yaxis": "y"
        },
        {
         "name": "SMA 50",
         "type": "scatter",
         "x": [
          "2024-07-16",
          "2024-07-17",
          "2024-07-18",
          "2024-07-19",
          "2024-07-22",
          "2024-07-23",
          "2024-07-24",
          "2024-07-25",
          "2024-07-26",
          "2024-07-29",
          "2024-07-30",
          "2024-07-31",
          "2024-08-01",
          "2024-08-02",
          "2024-08-05",
          "2024-08-06",
          "2024-08-07",
          "2024-08-08",
          "2024-08-09",
          "2024-08-12",
          "2024-08-13",
          "2024-08-14",
          "2024-08-15",
          "2024-08-16",
          "2024-08-19",
          "2024-08-20",
          "2024-08-21",
          "2024-08-22",
          "2024-08-23",
          "2024-08-26",
          "2024-08-27",
          "2024-08-28",
          "2024-08-29",
          "2024-08-30",
          "2024-09-03",
          "2024-09-04",
          "2024-09-05",
          "2024-09-06",
          "2024-09-09",
          "2024-09-10",
          "2024-09-11",
          "2024-09-12",
          "2024-09-13",
          "2024-09-16",
          "2024-09-17",
          "2024-09-18",
          "2024-09-19",
          "2024-09-20",
          "2024-09-23",
          "2024-09-24",
          "2024-09-25",
          "2024-09-26",
          "2024-09-27",
          "2024-09-30",
          "2024-10-01",
          "2024-10-02",
          "2024-10-03",
          "2024-10-04",
          "2024-10-07",
          "2024-10-08",
          "2024-10-09",
          "2024-10-10",
          "2024-10-11",
          "2024-10-14",
          "2024-10-15",
          "2024-10-16",
          "2024-10-17",
          "2024-10-18",
          "2024-10-21",
          "2024-10-22",
          "2024-10-23",
          "2024-10-24",
          "2024-10-25",
          "2024-10-28",
          "2024-10-29",
          "2024-10-30",
          "2024-10-31",
          "2024-11-01",
          "2024-11-04",
          "2024-11-05",
          "2024-11-06",
          "2024-11-07",
          "2024-11-08",
          "2024-11-11",
          "2024-11-12",
          "2024-11-13",
          "2024-11-14",
          "2024-11-15",
          "2024-11-18",
          "2024-11-19",
          "2024-11-20",
          "2024-11-21",
          "2024-11-22",
          "2024-11-25",
          "2024-11-26",
          "2024-11-27",
          "2024-11-29",
          "2024-12-02",
          "2024-12-03",
          "2024-12-04",
          "2024-12-05",
          "2024-12-06",
          "2024-12-09",
          "2024-12-10",
          "2024-12-11",
          "2024-12-12",
          "2024-12-13",
          "2024-12-16",
          "2024-12-17",
          "2024-12-18",
          "2024-12-19",
          "2024-12-20",
          "2024-12-23",
          "2024-12-24",
          "2024-12-26",
          "2024-12-27",
          "2024-12-30",
          "2024-12-31",
          "2025-01-02",
          "2025-01-03",
          "2025-01-06",
          "2025-01-07",
          "2025-01-08",
          "2025-01-10",
          "2025-01-13",
          "2025-01-14",
          "2025-01-15",
          "2025-01-16",
          "2025-01-17",
          "2025-01-21",
          "2025-01-22",
          "2025-01-23",
          "2025-01-24",
          "2025-01-27",
          "2025-01-28",
          "2025-01-29",
          "2025-01-30",
          "2025-01-31",
          "2025-02-03",
          "2025-02-04",
          "2025-02-05",
          "2025-02-06",
          "2025-02-07",
          "2025-02-10",
          "2025-02-11",
          "2025-02-12",
          "2025-02-13",
          "2025-02-14",
          "2025-02-18",
          "2025-02-19",
          "2025-02-20",
          "2025-02-21",
          "2025-02-24",
          "2025-02-25",
          "2025-02-26",
          "2025-02-27",
          "2025-02-28",
          "2025-03-03",
          "2025-03-04",
          "2025-03-05",
          "2025-03-06",
          "2025-03-07",
          "2025-03-10",
          "2025-03-11",
          "2025-03-12",
          "2025-03-13",
          "2025-03-14",
          "2025-03-17",
          "2025-03-18",
          "2025-03-19",
          "2025-03-20",
          "2025-03-21",
          "2025-03-24",
          "2025-03-25",
          "2025-03-26",
          "2025-03-27",
          "2025-03-28",
          "2025-03-31",
          "2025-04-01",
          "2025-04-02",
          "2025-04-03",
          "2025-04-04",
          "2025-04-07",
          "2025-04-08",
          "2025-04-09",
          "2025-04-10",
          "2025-04-11",
          "2025-04-14",
          "2025-04-15",
          "2025-04-16",
          "2025-04-17",
          "2025-04-21",
          "2025-04-22",
          "2025-04-23",
          "2025-04-24",
          "2025-04-25",
          "2025-04-28",
          "2025-04-29",
          "2025-04-30",
          "2025-05-01",
          "2025-05-02",
          "2025-05-05",
          "2025-05-06",
          "2025-05-07",
          "2025-05-08",
          "2025-05-09",
          "2025-05-12",
          "2025-05-13",
          "2025-05-14",
          "2025-05-15",
          "2025-05-16",
          "2025-05-19",
          "2025-05-20",
          "2025-05-21",
          "2025-05-22",
          "2025-05-23",
          "2025-05-27",
          "2025-05-28",
          "2025-05-29",
          "2025-05-30",
          "2025-06-02",
          "2025-06-03",
          "2025-06-04",
          "2025-06-05",
          "2025-06-06",
          "2025-06-09",
          "2025-06-10",
          "2025-06-11",
          "2025-06-12",
          "2025-06-13",
          "2025-06-16",
          "2025-06-17",
          "2025-06-18",
          "2025-06-20",
          "2025-06-23",
          "2025-06-24",
          "2025-06-25",
          "2025-06-26",
          "2025-06-27",
          "2025-06-30",
          "2025-07-01",
          "2025-07-02",
          "2025-07-03",
          "2025-07-07",
          "2025-07-08",
          "2025-07-09",
          "2025-07-10",
          "2025-07-11",
          "2025-07-14",
          "2025-07-15",
          "2025-07-16",
          "2025-07-17",
          "2025-07-18",
          "2025-07-21",
          "2025-07-22",
          "2025-07-23",
          "2025-07-24",
          "2025-07-25",
          "2025-07-28",
          "2025-07-29",
          "2025-07-30",
          "2025-07-31",
          "2025-08-01",
          "2025-08-04",
          "2025-08-05",
          "2025-08-06",
          "2025-08-07",
          "2025-08-08",
          "2025-08-11",
          "2025-08-12",
          "2025-08-13",
          "2025-08-14",
          "2025-08-15",
          "2025-08-18",
          "2025-08-19",
          "2025-08-20",
          "2025-08-21",
          "2025-08-22",
          "2025-08-25",
          "2025-08-26",
          "2025-08-27",
          "2025-08-28",
          "2025-08-29",
          "2025-09-02",
          "2025-09-03",
          "2025-09-04",
          "2025-09-05",
          "2025-09-08",
          "2025-09-09"
         ],
         "xaxis": "x",
         "y": {
          "bdata": "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",
          "dtype": "f8"
         },
         "yaxis": "y"
        }
       ],
       "layout": {
        "annotations": [
         {
          "font": {
           "size": 8
          },
          "showarrow": false,
          "text": "Date: 2025-09-09, Open:94.34, High:95.36, Low:92.7, Close: 92.95",
          "x": 0.01,
          "xref": "x domain",
          "y": 1,
          "yref": "y domain"
         }
        ],
        "height": 400,
        "legend": {
         "font": {
          "size": 8
         },
         "title": {
          "font": {
           "family": "Arial"
          }
         }
        },
        "template": {
         "data": {
          "bar": [
           {
            "error_x": {
             "color": "#2a3f5f"
            },
            "error_y": {
             "color": "#2a3f5f"
            },
            "marker": {
             "line": {
              "color": "#E5ECF6",
              "width": 0.5
             },
             "pattern": {
              "fillmode": "overlay",
              "size": 10,
              "solidity": 0.2
             }
            },
            "type": "bar"
           }
          ],
          "barpolar": [
           {
            "marker": {
             "line": {
              "color": "#E5ECF6",
              "width": 0.5
             },
             "pattern": {
              "fillmode": "overlay",
              "size": 10,
              "solidity": 0.2
             }
            },
            "type": "barpolar"
           }
          ],
          "carpet": [
           {
            "aaxis": {
             "endlinecolor": "#2a3f5f",
             "gridcolor": "white",
             "linecolor": "white",
             "minorgridcolor": "white",
             "startlinecolor": "#2a3f5f"
            },
            "baxis": {
             "endlinecolor": "#2a3f5f",
             "gridcolor": "white",
             "linecolor": "white",
             "minorgridcolor": "white",
             "startlinecolor": "#2a3f5f"
            },
            "type": "carpet"
           }
          ],
          "choropleth": [
           {
            "colorbar": {
             "outlinewidth": 0,
             "ticks": ""
            },
            "type": "choropleth"
           }
          ],
          "contour": [
           {
            "colorbar": {
             "outlinewidth": 0,
             "ticks": ""
            },
            "colorscale": [
             [
              0,
              "#0d0887"
             ],
             [
              0.1111111111111111,
              "#46039f"
             ],
             [
              0.2222222222222222,
              "#7201a8"
             ],
             [
              0.3333333333333333,
              "#9c179e"
             ],
             [
              0.4444444444444444,
              "#bd3786"
             ],
             [
              0.5555555555555556,
              "#d8576b"
             ],
             [
              0.6666666666666666,
              "#ed7953"
             ],
             [
              0.7777777777777778,
              "#fb9f3a"
             ],
             [
              0.8888888888888888,
              "#fdca26"
             ],
             [
              1,
              "#f0f921"
             ]
            ],
            "type": "contour"
           }
          ],
          "contourcarpet": [
           {
            "colorbar": {
             "outlinewidth": 0,
             "ticks": ""
            },
            "type": "contourcarpet"
           }
          ],
          "heatmap": [
           {
            "colorbar": {
             "outlinewidth": 0,
             "ticks": ""
            },
            "colorscale": [
             [
              0,
              "#0d0887"
             ],
             [
              0.1111111111111111,
              "#46039f"
             ],
             [
              0.2222222222222222,
              "#7201a8"
             ],
             [
              0.3333333333333333,
              "#9c179e"
             ],
             [
              0.4444444444444444,
              "#bd3786"
             ],
             [
              0.5555555555555556,
              "#d8576b"
             ],
             [
              0.6666666666666666,
              "#ed7953"
             ],
             [
              0.7777777777777778,
              "#fb9f3a"
             ],
             [
              0.8888888888888888,
              "#fdca26"
             ],
             [
              1,
              "#f0f921"
             ]
            ],
            "type": "heatmap"
           }
          ],
          "histogram": [
           {
            "marker": {
             "pattern": {
              "fillmode": "overlay",
              "size": 10,
              "solidity": 0.2
             }
            },
            "type": "histogram"
           }
          ],
          "histogram2d": [
           {
            "colorbar": {
             "outlinewidth": 0,
             "ticks": ""
            },
            "colorscale": [
             [
              0,
              "#0d0887"
             ],
             [
              0.1111111111111111,
              "#46039f"
             ],
             [
              0.2222222222222222,
              "#7201a8"
             ],
             [
              0.3333333333333333,
              "#9c179e"
             ],
             [
              0.4444444444444444,
              "#bd3786"
             ],
             [
              0.5555555555555556,
              "#d8576b"
             ],
             [
              0.6666666666666666,
              "#ed7953"
             ],
             [
              0.7777777777777778,
              "#fb9f3a"
             ],
             [
              0.8888888888888888,
              "#fdca26"
             ],
             [
              1,
              "#f0f921"
             ]
            ],
            "type": "histogram2d"
           }
          ],
          "histogram2dcontour": [
           {
            "colorbar": {
             "outlinewidth": 0,
             "ticks": ""
            },
            "colorscale": [
             [
              0,
              "#0d0887"
             ],
             [
              0.1111111111111111,
              "#46039f"
             ],
             [
              0.2222222222222222,
              "#7201a8"
             ],
             [
              0.3333333333333333,
              "#9c179e"
             ],
             [
              0.4444444444444444,
              "#bd3786"
             ],
             [
              0.5555555555555556,
              "#d8576b"
             ],
             [
              0.6666666666666666,
              "#ed7953"
             ],
             [
              0.7777777777777778,
              "#fb9f3a"
             ],
             [
              0.8888888888888888,
              "#fdca26"
             ],
             [
              1,
              "#f0f921"
             ]
            ],
            "type": "histogram2dcontour"
           }
          ],
          "mesh3d": [
           {
            "colorbar": {
             "outlinewidth": 0,
             "ticks": ""
            },
            "type": "mesh3d"
           }
          ],
          "parcoords": [
           {
            "line": {
             "colorbar": {
              "outlinewidth": 0,
              "ticks": ""
             }
            },
            "type": "parcoords"
           }
          ],
          "pie": [
           {
            "automargin": true,
            "type": "pie"
           }
          ],
          "scatter": [
           {
            "fillpattern": {
             "fillmode": "overlay",
             "size": 10,
             "solidity": 0.2
            },
            "type": "scatter"
           }
          ],
          "scatter3d": [
           {
            "line": {
             "colorbar": {
              "outlinewidth": 0,
              "ticks": ""
             }
            },
            "marker": {
             "colorbar": {
              "outlinewidth": 0,
              "ticks": ""
             }
            },
            "type": "scatter3d"
           }
          ],
          "scattercarpet": [
           {
            "marker": {
             "colorbar": {
              "outlinewidth": 0,
              "ticks": ""
             }
            },
            "type": "scattercarpet"
           }
          ],
          "scattergeo": [
           {
            "marker": {
             "colorbar": {
              "outlinewidth": 0,
              "ticks": ""
             }
            },
            "type": "scattergeo"
           }
          ],
          "scattergl": [
           {
            "marker": {
             "colorbar": {
              "outlinewidth": 0,
              "ticks": ""
             }
            },
            "type": "scattergl"
           }
          ],
          "scattermap": [
           {
            "marker": {
             "colorbar": {
              "outlinewidth": 0,
              "ticks": ""
             }
            },
            "type": "scattermap"
           }
          ],
          "scattermapbox": [
           {
            "marker": {
             "colorbar": {
              "outlinewidth": 0,
              "ticks": ""
             }
            },
            "type": "scattermapbox"
           }
          ],
          "scatterpolar": [
           {
            "marker": {
             "colorbar": {
              "outlinewidth": 0,
              "ticks": ""
             }
            },
            "type": "scatterpolar"
           }
          ],
          "scatterpolargl": [
           {
            "marker": {
             "colorbar": {
              "outlinewidth": 0,
              "ticks": ""
             }
            },
            "type": "scatterpolargl"
           }
          ],
          "scatterternary": [
           {
            "marker": {
             "colorbar": {
              "outlinewidth": 0,
              "ticks": ""
             }
            },
            "type": "scatterternary"
           }
          ],
          "surface": [
           {
            "colorbar": {
             "outlinewidth": 0,
             "ticks": ""
            },
            "colorscale": [
             [
              0,
              "#0d0887"
             ],
             [
              0.1111111111111111,
              "#46039f"
             ],
             [
              0.2222222222222222,
              "#7201a8"
             ],
             [
              0.3333333333333333,
              "#9c179e"
             ],
             [
              0.4444444444444444,
              "#bd3786"
             ],
             [
              0.5555555555555556,
              "#d8576b"
             ],
             [
              0.6666666666666666,
              "#ed7953"
             ],
             [
              0.7777777777777778,
              "#fb9f3a"
             ],
             [
              0.8888888888888888,
              "#fdca26"
             ],
             [
              1,
              "#f0f921"
             ]
            ],
            "type": "surface"
           }
          ],
          "table": [
           {
            "cells": {
             "fill": {
              "color": "#EBF0F8"
             },
             "line": {
              "color": "white"
             }
            },
            "header": {
             "fill": {
              "color": "#C8D4E3"
             },
             "line": {
              "color": "white"
             }
            },
            "type": "table"
           }
          ]
         },
         "layout": {
          "annotationdefaults": {
           "arrowcolor": "#2a3f5f",
           "arrowhead": 0,
           "arrowwidth": 1
          },
          "autotypenumbers": "strict",
          "coloraxis": {
           "colorbar": {
            "outlinewidth": 0,
            "ticks": ""
           }
          },
          "colorscale": {
           "diverging": [
            [
             0,
             "#8e0152"
            ],
            [
             0.1,
             "#c51b7d"
            ],
            [
             0.2,
             "#de77ae"
            ],
            [
             0.3,
             "#f1b6da"
            ],
            [
             0.4,
             "#fde0ef"
            ],
            [
             0.5,
             "#f7f7f7"
            ],
            [
             0.6,
             "#e6f5d0"
            ],
            [
             0.7,
             "#b8e186"
            ],
            [
             0.8,
             "#7fbc41"
            ],
            [
             0.9,
             "#4d9221"
            ],
            [
             1,
             "#276419"
            ]
           ],
           "sequential": [
            [
             0,
             "#0d0887"
            ],
            [
             0.1111111111111111,
             "#46039f"
            ],
            [
             0.2222222222222222,
             "#7201a8"
            ],
            [
             0.3333333333333333,
             "#9c179e"
            ],
            [
             0.4444444444444444,
             "#bd3786"
            ],
            [
             0.5555555555555556,
             "#d8576b"
            ],
            [
             0.6666666666666666,
             "#ed7953"
            ],
            [
             0.7777777777777778,
             "#fb9f3a"
            ],
            [
             0.8888888888888888,
             "#fdca26"
            ],
            [
             1,
             "#f0f921"
            ]
           ],
           "sequentialminus": [
            [
             0,
             "#0d0887"
            ],
            [
             0.1111111111111111,
             "#46039f"
            ],
            [
             0.2222222222222222,
             "#7201a8"
            ],
            [
             0.3333333333333333,
             "#9c179e"
            ],
            [
             0.4444444444444444,
             "#bd3786"
            ],
            [
             0.5555555555555556,
             "#d8576b"
            ],
            [
             0.6666666666666666,
             "#ed7953"
            ],
            [
             0.7777777777777778,
             "#fb9f3a"
            ],
            [
             0.8888888888888888,
             "#fdca26"
            ],
            [
             1,
             "#f0f921"
            ]
           ]
          },
          "colorway": [
           "#636efa",
           "#EF553B",
           "#00cc96",
           "#ab63fa",
           "#FFA15A",
           "#19d3f3",
           "#FF6692",
           "#B6E880",
           "#FF97FF",
           "#FECB52"
          ],
          "font": {
           "color": "#2a3f5f"
          },
          "geo": {
           "bgcolor": "white",
           "lakecolor": "white",
           "landcolor": "#E5ECF6",
           "showlakes": true,
           "showland": true,
           "subunitcolor": "white"
          },
          "hoverlabel": {
           "align": "left"
          },
          "hovermode": "closest",
          "mapbox": {
           "style": "light"
          },
          "paper_bgcolor": "white",
          "plot_bgcolor": "#E5ECF6",
          "polar": {
           "angularaxis": {
            "gridcolor": "white",
            "linecolor": "white",
            "ticks": ""
           },
           "bgcolor": "#E5ECF6",
           "radialaxis": {
            "gridcolor": "white",
            "linecolor": "white",
            "ticks": ""
           }
          },
          "scene": {
           "xaxis": {
            "backgroundcolor": "#E5ECF6",
            "gridcolor": "white",
            "gridwidth": 2,
            "linecolor": "white",
            "showbackground": true,
            "ticks": "",
            "zerolinecolor": "white"
           },
           "yaxis": {
            "backgroundcolor": "#E5ECF6",
            "gridcolor": "white",
            "gridwidth": 2,
            "linecolor": "white",
            "showbackground": true,
            "ticks": "",
            "zerolinecolor": "white"
           },
           "zaxis": {
            "backgroundcolor": "#E5ECF6",
            "gridcolor": "white",
            "gridwidth": 2,
            "linecolor": "white",
            "showbackground": true,
            "ticks": "",
            "zerolinecolor": "white"
           }
          },
          "shapedefaults": {
           "line": {
            "color": "#2a3f5f"
           }
          },
          "ternary": {
           "aaxis": {
            "gridcolor": "white",
            "linecolor": "white",
            "ticks": ""
           },
           "baxis": {
            "gridcolor": "white",
            "linecolor": "white",
            "ticks": ""
           },
           "bgcolor": "#E5ECF6",
           "caxis": {
            "gridcolor": "white",
            "linecolor": "white",
            "ticks": ""
           }
          },
          "title": {
           "x": 0.05
          },
          "xaxis": {
           "automargin": true,
           "gridcolor": "white",
           "linecolor": "white",
           "ticks": "",
           "title": {
            "standoff": 15
           },
           "zerolinecolor": "white",
           "zerolinewidth": 2
          },
          "yaxis": {
           "automargin": true,
           "gridcolor": "white",
           "linecolor": "white",
           "ticks": "",
           "title": {
            "standoff": 15
           },
           "zerolinecolor": "white",
           "zerolinewidth": 2
          }
         }
        },
        "title": {
         "text": "TOP 20",
         "x": 0.5
        },
        "width": 600,
        "xaxis": {
         "anchor": "y",
         "domain": [
          0,
          0.94
         ]
        },
        "yaxis": {
         "anchor": "x",
         "domain": [
          0,
          1
         ],
         "side": "right"
        },
        "yaxis2": {
         "anchor": "x",
         "overlaying": "y",
         "side": "right"
        }
       }
      }
     },
     "metadata": {},
     "output_type": "display_data"
    },
    {
     "data": {
      "application/vnd.plotly.v1+json": {
       "config": {
        "plotlyServerURL": "https://plot.ly"
       },
       "data": [
        {
         "name": "MDB: 31.69 %",
         "type": "scatter",
         "x": [
          "2024-07-16",
          "2024-07-17",
          "2024-07-18",
          "2024-07-19",
          "2024-07-22",
          "2024-07-23",
          "2024-07-24",
          "2024-07-25",
          "2024-07-26",
          "2024-07-29",
          "2024-07-30",
          "2024-07-31",
          "2024-08-01",
          "2024-08-02",
          "2024-08-05",
          "2024-08-06",
          "2024-08-07",
          "2024-08-08",
          "2024-08-09",
          "2024-08-12",
          "2024-08-13",
          "2024-08-14",
          "2024-08-15",
          "2024-08-16",
          "2024-08-19",
          "2024-08-20",
          "2024-08-21",
          "2024-08-22",
          "2024-08-23",
          "2024-08-26",
          "2024-08-27",
          "2024-08-28",
          "2024-08-29",
          "2024-08-30",
          "2024-09-03",
          "2024-09-04",
          "2024-09-05",
          "2024-09-06",
          "2024-09-09",
          "2024-09-10",
          "2024-09-11",
          "2024-09-12",
          "2024-09-13",
          "2024-09-16",
          "2024-09-17",
          "2024-09-18",
          "2024-09-19",
          "2024-09-20",
          "2024-09-23",
          "2024-09-24",
          "2024-09-25",
          "2024-09-26",
          "2024-09-27",
          "2024-09-30",
          "2024-10-01",
          "2024-10-02",
          "2024-10-03",
          "2024-10-04",
          "2024-10-07",
          "2024-10-08",
          "2024-10-09",
          "2024-10-10",
          "2024-10-11",
          "2024-10-14",
          "2024-10-15",
          "2024-10-16",
          "2024-10-17",
          "2024-10-18",
          "2024-10-21",
          "2024-10-22",
          "2024-10-23",
          "2024-10-24",
          "2024-10-25",
          "2024-10-28",
          "2024-10-29",
          "2024-10-30",
          "2024-10-31",
          "2024-11-01",
          "2024-11-04",
          "2024-11-05",
          "2024-11-06",
          "2024-11-07",
          "2024-11-08",
          "2024-11-11",
          "2024-11-12",
          "2024-11-13",
          "2024-11-14",
          "2024-11-15",
          "2024-11-18",
          "2024-11-19",
          "2024-11-20",
          "2024-11-21",
          "2024-11-22",
          "2024-11-25",
          "2024-11-26",
          "2024-11-27",
          "2024-11-29",
          "2024-12-02",
          "2024-12-03",
          "2024-12-04",
          "2024-12-05",
          "2024-12-06",
          "2024-12-09",
          "2024-12-10",
          "2024-12-11",
          "2024-12-12",
          "2024-12-13",
          "2024-12-16",
          "2024-12-17",
          "2024-12-18",
          "2024-12-19",
          "2024-12-20",
          "2024-12-23",
          "2024-12-24",
          "2024-12-26",
          "2024-12-27",
          "2024-12-30",
          "2024-12-31",
          "2025-01-02",
          "2025-01-03",
          "2025-01-06",
          "2025-01-07",
          "2025-01-08",
          "2025-01-10",
          "2025-01-13",
          "2025-01-14",
          "2025-01-15",
          "2025-01-16",
          "2025-01-17",
          "2025-01-21",
          "2025-01-22",
          "2025-01-23",
          "2025-01-24",
          "2025-01-27",
          "2025-01-28",
          "2025-01-29",
          "2025-01-30",
          "2025-01-31",
          "2025-02-03",
          "2025-02-04",
          "2025-02-05",
          "2025-02-06",
          "2025-02-07",
          "2025-02-10",
          "2025-02-11",
          "2025-02-12",
          "2025-02-13",
          "2025-02-14",
          "2025-02-18",
          "2025-02-19",
          "2025-02-20",
          "2025-02-21",
          "2025-02-24",
          "2025-02-25",
          "2025-02-26",
          "2025-02-27",
          "2025-02-28",
          "2025-03-03",
          "2025-03-04",
          "2025-03-05",
          "2025-03-06",
          "2025-03-07",
          "2025-03-10",
          "2025-03-11",
          "2025-03-12",
          "2025-03-13",
          "2025-03-14",
          "2025-03-17",
          "2025-03-18",
          "2025-03-19",
          "2025-03-20",
          "2025-03-21",
          "2025-03-24",
          "2025-03-25",
          "2025-03-26",
          "2025-03-27",
          "2025-03-28",
          "2025-03-31",
          "2025-04-01",
          "2025-04-02",
          "2025-04-03",
          "2025-04-04",
          "2025-04-07",
          "2025-04-08",
          "2025-04-09",
          "2025-04-10",
          "2025-04-11",
          "2025-04-14",
          "2025-04-15",
          "2025-04-16",
          "2025-04-17",
          "2025-04-21",
          "2025-04-22",
          "2025-04-23",
          "2025-04-24",
          "2025-04-25",
          "2025-04-28",
          "2025-04-29",
          "2025-04-30",
          "2025-05-01",
          "2025-05-02",
          "2025-05-05",
          "2025-05-06",
          "2025-05-07",
          "2025-05-08",
          "2025-05-09",
          "2025-05-12",
          "2025-05-13",
          "2025-05-14",
          "2025-05-15",
          "2025-05-16",
          "2025-05-19",
          "2025-05-20",
          "2025-05-21",
          "2025-05-22",
          "2025-05-23",
          "2025-05-27",
          "2025-05-28",
          "2025-05-29",
          "2025-05-30",
          "2025-06-02",
          "2025-06-03",
          "2025-06-04",
          "2025-06-05",
          "2025-06-06",
          "2025-06-09",
          "2025-06-10",
          "2025-06-11",
          "2025-06-12",
          "2025-06-13",
          "2025-06-16",
          "2025-06-17",
          "2025-06-18",
          "2025-06-20",
          "2025-06-23",
          "2025-06-24",
          "2025-06-25",
          "2025-06-26",
          "2025-06-27",
          "2025-06-30",
          "2025-07-01",
          "2025-07-02",
          "2025-07-03",
          "2025-07-07",
          "2025-07-08",
          "2025-07-09",
          "2025-07-10",
          "2025-07-11",
          "2025-07-14",
          "2025-07-15",
          "2025-07-16",
          "2025-07-17",
          "2025-07-18",
          "2025-07-21",
          "2025-07-22",
          "2025-07-23",
          "2025-07-24",
          "2025-07-25",
          "2025-07-28",
          "2025-07-29",
          "2025-07-30",
          "2025-07-31",
          "2025-08-01",
          "2025-08-04",
          "2025-08-05",
          "2025-08-06",
          "2025-08-07",
          "2025-08-08",
          "2025-08-11",
          "2025-08-12",
          "2025-08-13",
          "2025-08-14",
          "2025-08-15",
          "2025-08-18",
          "2025-08-19",
          "2025-08-20",
          "2025-08-21",
          "2025-08-22",
          "2025-08-25",
          "2025-08-26",
          "2025-08-27",
          "2025-08-28",
          "2025-08-29",
          "2025-09-02",
          "2025-09-03",
          "2025-09-04",
          "2025-09-05",
          "2025-09-08",
          "2025-09-09"
         ],
         "xaxis": "x",
         "y": {
          "bdata": "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",
          "dtype": "f8"
         },
         "yaxis": "y"
        },
        {
         "name": "SMA 50",
         "type": "scatter",
         "x": [
          "2024-07-16",
          "2024-07-17",
          "2024-07-18",
          "2024-07-19",
          "2024-07-22",
          "2024-07-23",
          "2024-07-24",
          "2024-07-25",
          "2024-07-26",
          "2024-07-29",
          "2024-07-30",
          "2024-07-31",
          "2024-08-01",
          "2024-08-02",
          "2024-08-05",
          "2024-08-06",
          "2024-08-07",
          "2024-08-08",
          "2024-08-09",
          "2024-08-12",
          "2024-08-13",
          "2024-08-14",
          "2024-08-15",
          "2024-08-16",
          "2024-08-19",
          "2024-08-20",
          "2024-08-21",
          "2024-08-22",
          "2024-08-23",
          "2024-08-26",
          "2024-08-27",
          "2024-08-28",
          "2024-08-29",
          "2024-08-30",
          "2024-09-03",
          "2024-09-04",
          "2024-09-05",
          "2024-09-06",
          "2024-09-09",
          "2024-09-10",
          "2024-09-11",
          "2024-09-12",
          "2024-09-13",
          "2024-09-16",
          "2024-09-17",
          "2024-09-18",
          "2024-09-19",
          "2024-09-20",
          "2024-09-23",
          "2024-09-24",
          "2024-09-25",
          "2024-09-26",
          "2024-09-27",
          "2024-09-30",
          "2024-10-01",
          "2024-10-02",
          "2024-10-03",
          "2024-10-04",
          "2024-10-07",
          "2024-10-08",
          "2024-10-09",
          "2024-10-10",
          "2024-10-11",
          "2024-10-14",
          "2024-10-15",
          "2024-10-16",
          "2024-10-17",
          "2024-10-18",
          "2024-10-21",
          "2024-10-22",
          "2024-10-23",
          "2024-10-24",
          "2024-10-25",
          "2024-10-28",
          "2024-10-29",
          "2024-10-30",
          "2024-10-31",
          "2024-11-01",
          "2024-11-04",
          "2024-11-05",
          "2024-11-06",
          "2024-11-07",
          "2024-11-08",
          "2024-11-11",
          "2024-11-12",
          "2024-11-13",
          "2024-11-14",
          "2024-11-15",
          "2024-11-18",
          "2024-11-19",
          "2024-11-20",
          "2024-11-21",
          "2024-11-22",
          "2024-11-25",
          "2024-11-26",
          "2024-11-27",
          "2024-11-29",
          "2024-12-02",
          "2024-12-03",
          "2024-12-04",
          "2024-12-05",
          "2024-12-06",
          "2024-12-09",
          "2024-12-10",
          "2024-12-11",
          "2024-12-12",
          "2024-12-13",
          "2024-12-16",
          "2024-12-17",
          "2024-12-18",
          "2024-12-19",
          "2024-12-20",
          "2024-12-23",
          "2024-12-24",
          "2024-12-26",
          "2024-12-27",
          "2024-12-30",
          "2024-12-31",
          "2025-01-02",
          "2025-01-03",
          "2025-01-06",
          "2025-01-07",
          "2025-01-08",
          "2025-01-10",
          "2025-01-13",
          "2025-01-14",
          "2025-01-15",
          "2025-01-16",
          "2025-01-17",
          "2025-01-21",
          "2025-01-22",
          "2025-01-23",
          "2025-01-24",
          "2025-01-27",
          "2025-01-28",
          "2025-01-29",
          "2025-01-30",
          "2025-01-31",
          "2025-02-03",
          "2025-02-04",
          "2025-02-05",
          "2025-02-06",
          "2025-02-07",
          "2025-02-10",
          "2025-02-11",
          "2025-02-12",
          "2025-02-13",
          "2025-02-14",
          "2025-02-18",
          "2025-02-19",
          "2025-02-20",
          "2025-02-21",
          "2025-02-24",
          "2025-02-25",
          "2025-02-26",
          "2025-02-27",
          "2025-02-28",
          "2025-03-03",
          "2025-03-04",
          "2025-03-05",
          "2025-03-06",
          "2025-03-07",
          "2025-03-10",
          "2025-03-11",
          "2025-03-12",
          "2025-03-13",
          "2025-03-14",
          "2025-03-17",
          "2025-03-18",
          "2025-03-19",
          "2025-03-20",
          "2025-03-21",
          "2025-03-24",
          "2025-03-25",
          "2025-03-26",
          "2025-03-27",
          "2025-03-28",
          "2025-03-31",
          "2025-04-01",
          "2025-04-02",
          "2025-04-03",
          "2025-04-04",
          "2025-04-07",
          "2025-04-08",
          "2025-04-09",
          "2025-04-10",
          "2025-04-11",
          "2025-04-14",
          "2025-04-15",
          "2025-04-16",
          "2025-04-17",
          "2025-04-21",
          "2025-04-22",
          "2025-04-23",
          "2025-04-24",
          "2025-04-25",
          "2025-04-28",
          "2025-04-29",
          "2025-04-30",
          "2025-05-01",
          "2025-05-02",
          "2025-05-05",
          "2025-05-06",
          "2025-05-07",
          "2025-05-08",
          "2025-05-09",
          "2025-05-12",
          "2025-05-13",
          "2025-05-14",
          "2025-05-15",
          "2025-05-16",
          "2025-05-19",
          "2025-05-20",
          "2025-05-21",
          "2025-05-22",
          "2025-05-23",
          "2025-05-27",
          "2025-05-28",
          "2025-05-29",
          "2025-05-30",
          "2025-06-02",
          "2025-06-03",
          "2025-06-04",
          "2025-06-05",
          "2025-06-06",
          "2025-06-09",
          "2025-06-10",
          "2025-06-11",
          "2025-06-12",
          "2025-06-13",
          "2025-06-16",
          "2025-06-17",
          "2025-06-18",
          "2025-06-20",
          "2025-06-23",
          "2025-06-24",
          "2025-06-25",
          "2025-06-26",
          "2025-06-27",
          "2025-06-30",
          "2025-07-01",
          "2025-07-02",
          "2025-07-03",
          "2025-07-07",
          "2025-07-08",
          "2025-07-09",
          "2025-07-10",
          "2025-07-11",
          "2025-07-14",
          "2025-07-15",
          "2025-07-16",
          "2025-07-17",
          "2025-07-18",
          "2025-07-21",
          "2025-07-22",
          "2025-07-23",
          "2025-07-24",
          "2025-07-25",
          "2025-07-28",
          "2025-07-29",
          "2025-07-30",
          "2025-07-31",
          "2025-08-01",
          "2025-08-04",
          "2025-08-05",
          "2025-08-06",
          "2025-08-07",
          "2025-08-08",
          "2025-08-11",
          "2025-08-12",
          "2025-08-13",
          "2025-08-14",
          "2025-08-15",
          "2025-08-18",
          "2025-08-19",
          "2025-08-20",
          "2025-08-21",
          "2025-08-22",
          "2025-08-25",
          "2025-08-26",
          "2025-08-27",
          "2025-08-28",
          "2025-08-29",
          "2025-09-02",
          "2025-09-03",
          "2025-09-04",
          "2025-09-05",
          "2025-09-08",
          "2025-09-09"
         ],
         "xaxis": "x",
         "y": {
          "bdata": "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",
          "dtype": "f8"
         },
         "yaxis": "y"
        }
       ],
       "layout": {
        "annotations": [
         {
          "font": {
           "size": 8
          },
          "showarrow": false,
          "text": "Date: 2025-09-09, Open:330.23, High:330.62, Low:322.0, Close: 322.63",
          "x": 0.01,
          "xref": "x domain",
          "y": 1,
          "yref": "y domain"
         }
        ],
        "height": 400,
        "legend": {
         "font": {
          "size": 8
         },
         "title": {
          "font": {
           "family": "Arial"
          }
         }
        },
        "template": {
         "data": {
          "bar": [
           {
            "error_x": {
             "color": "#2a3f5f"
            },
            "error_y": {
             "color": "#2a3f5f"
            },
            "marker": {
             "line": {
              "color": "#E5ECF6",
              "width": 0.5
             },
             "pattern": {
              "fillmode": "overlay",
              "size": 10,
              "solidity": 0.2
             }
            },
            "type": "bar"
           }
          ],
          "barpolar": [
           {
            "marker": {
             "line": {
              "color": "#E5ECF6",
              "width": 0.5
             },
             "pattern": {
              "fillmode": "overlay",
              "size": 10,
              "solidity": 0.2
             }
            },
            "type": "barpolar"
           }
          ],
          "carpet": [
           {
            "aaxis": {
             "endlinecolor": "#2a3f5f",
             "gridcolor": "white",
             "linecolor": "white",
             "minorgridcolor": "white",
             "startlinecolor": "#2a3f5f"
            },
            "baxis": {
             "endlinecolor": "#2a3f5f",
             "gridcolor": "white",
             "linecolor": "white",
             "minorgridcolor": "white",
             "startlinecolor": "#2a3f5f"
            },
            "type": "carpet"
           }
          ],
          "choropleth": [
           {
            "colorbar": {
             "outlinewidth": 0,
             "ticks": ""
            },
            "type": "choropleth"
           }
          ],
          "contour": [
           {
            "colorbar": {
             "outlinewidth": 0,
             "ticks": ""
            },
            "colorscale": [
             [
              0,
              "#0d0887"
             ],
             [
              0.1111111111111111,
              "#46039f"
             ],
             [
              0.2222222222222222,
              "#7201a8"
             ],
             [
              0.3333333333333333,
              "#9c179e"
             ],
             [
              0.4444444444444444,
              "#bd3786"
             ],
             [
              0.5555555555555556,
              "#d8576b"
             ],
             [
              0.6666666666666666,
              "#ed7953"
             ],
             [
              0.7777777777777778,
              "#fb9f3a"
             ],
             [
              0.8888888888888888,
              "#fdca26"
             ],
             [
              1,
              "#f0f921"
             ]
            ],
            "type": "contour"
           }
          ],
          "contourcarpet": [
           {
            "colorbar": {
             "outlinewidth": 0,
             "ticks": ""
            },
            "type": "contourcarpet"
           }
          ],
          "heatmap": [
           {
            "colorbar": {
             "outlinewidth": 0,
             "ticks": ""
            },
            "colorscale": [
             [
              0,
              "#0d0887"
             ],
             [
              0.1111111111111111,
              "#46039f"
             ],
             [
              0.2222222222222222,
              "#7201a8"
             ],
             [
              0.3333333333333333,
              "#9c179e"
             ],
             [
              0.4444444444444444,
              "#bd3786"
             ],
             [
              0.5555555555555556,
              "#d8576b"
             ],
             [
              0.6666666666666666,
              "#ed7953"
             ],
             [
              0.7777777777777778,
              "#fb9f3a"
             ],
             [
              0.8888888888888888,
              "#fdca26"
             ],
             [
              1,
              "#f0f921"
             ]
            ],
            "type": "heatmap"
           }
          ],
          "histogram": [
           {
            "marker": {
             "pattern": {
              "fillmode": "overlay",
              "size": 10,
              "solidity": 0.2
             }
            },
            "type": "histogram"
           }
          ],
          "histogram2d": [
           {
            "colorbar": {
             "outlinewidth": 0,
             "ticks": ""
            },
            "colorscale": [
             [
              0,
              "#0d0887"
             ],
             [
              0.1111111111111111,
              "#46039f"
             ],
             [
              0.2222222222222222,
              "#7201a8"
             ],
             [
              0.3333333333333333,
              "#9c179e"
             ],
             [
              0.4444444444444444,
              "#bd3786"
             ],
             [
              0.5555555555555556,
              "#d8576b"
             ],
             [
              0.6666666666666666,
              "#ed7953"
             ],
             [
              0.7777777777777778,
              "#fb9f3a"
             ],
             [
              0.8888888888888888,
              "#fdca26"
             ],
             [
              1,
              "#f0f921"
             ]
            ],
            "type": "histogram2d"
           }
          ],
          "histogram2dcontour": [
           {
            "colorbar": {
             "outlinewidth": 0,
             "ticks": ""
            },
            "colorscale": [
             [
              0,
              "#0d0887"
             ],
             [
              0.1111111111111111,
              "#46039f"
             ],
             [
              0.2222222222222222,
              "#7201a8"
             ],
             [
              0.3333333333333333,
              "#9c179e"
             ],
             [
              0.4444444444444444,
              "#bd3786"
             ],
             [
              0.5555555555555556,
              "#d8576b"
             ],
             [
              0.6666666666666666,
              "#ed7953"
             ],
             [
              0.7777777777777778,
              "#fb9f3a"
             ],
             [
              0.8888888888888888,
              "#fdca26"
             ],
             [
              1,
              "#f0f921"
             ]
            ],
            "type": "histogram2dcontour"
           }
          ],
          "mesh3d": [
           {
            "colorbar": {
             "outlinewidth": 0,
             "ticks": ""
            },
            "type": "mesh3d"
           }
          ],
          "parcoords": [
           {
            "line": {
             "colorbar": {
              "outlinewidth": 0,
              "ticks": ""
             }
            },
            "type": "parcoords"
           }
          ],
          "pie": [
           {
            "automargin": true,
            "type": "pie"
           }
          ],
          "scatter": [
           {
            "fillpattern": {
             "fillmode": "overlay",
             "size": 10,
             "solidity": 0.2
            },
            "type": "scatter"
           }
          ],
          "scatter3d": [
           {
            "line": {
             "colorbar": {
              "outlinewidth": 0,
              "ticks": ""
             }
            },
            "marker": {
             "colorbar": {
              "outlinewidth": 0,
              "ticks": ""
             }
            },
            "type": "scatter3d"
           }
          ],
          "scattercarpet": [
           {
            "marker": {
             "colorbar": {
              "outlinewidth": 0,
              "ticks": ""
             }
            },
            "type": "scattercarpet"
           }
          ],
          "scattergeo": [
           {
            "marker": {
             "colorbar": {
              "outlinewidth": 0,
              "ticks": ""
             }
            },
            "type": "scattergeo"
           }
          ],
          "scattergl": [
           {
            "marker": {
             "colorbar": {
              "outlinewidth": 0,
              "ticks": ""
             }
            },
            "type": "scattergl"
           }
          ],
          "scattermap": [
           {
            "marker": {
             "colorbar": {
              "outlinewidth": 0,
              "ticks": ""
             }
            },
            "type": "scattermap"
           }
          ],
          "scattermapbox": [
           {
            "marker": {
             "colorbar": {
              "outlinewidth": 0,
              "ticks": ""
             }
            },
            "type": "scattermapbox"
           }
          ],
          "scatterpolar": [
           {
            "marker": {
             "colorbar": {
              "outlinewidth": 0,
              "ticks": ""
             }
            },
            "type": "scatterpolar"
           }
          ],
          "scatterpolargl": [
           {
            "marker": {
             "colorbar": {
              "outlinewidth": 0,
              "ticks": ""
             }
            },
            "type": "scatterpolargl"
           }
          ],
          "scatterternary": [
           {
            "marker": {
             "colorbar": {
              "outlinewidth": 0,
              "ticks": ""
             }
            },
            "type": "scatterternary"
           }
          ],
          "surface": [
           {
            "colorbar": {
             "outlinewidth": 0,
             "ticks": ""
            },
            "colorscale": [
             [
              0,
              "#0d0887"
             ],
             [
              0.1111111111111111,
              "#46039f"
             ],
             [
              0.2222222222222222,
              "#7201a8"
             ],
             [
              0.3333333333333333,
              "#9c179e"
             ],
             [
              0.4444444444444444,
              "#bd3786"
             ],
             [
              0.5555555555555556,
              "#d8576b"
             ],
             [
              0.6666666666666666,
              "#ed7953"
             ],
             [
              0.7777777777777778,
              "#fb9f3a"
             ],
             [
              0.8888888888888888,
              "#fdca26"
             ],
             [
              1,
              "#f0f921"
             ]
            ],
            "type": "surface"
           }
          ],
          "table": [
           {
            "cells": {
             "fill": {
              "color": "#EBF0F8"
             },
             "line": {
              "color": "white"
             }
            },
            "header": {
             "fill": {
              "color": "#C8D4E3"
             },
             "line": {
              "color": "white"
             }
            },
            "type": "table"
           }
          ]
         },
         "layout": {
          "annotationdefaults": {
           "arrowcolor": "#2a3f5f",
           "arrowhead": 0,
           "arrowwidth": 1
          },
          "autotypenumbers": "strict",
          "coloraxis": {
           "colorbar": {
            "outlinewidth": 0,
            "ticks": ""
           }
          },
          "colorscale": {
           "diverging": [
            [
             0,
             "#8e0152"
            ],
            [
             0.1,
             "#c51b7d"
            ],
            [
             0.2,
             "#de77ae"
            ],
            [
             0.3,
             "#f1b6da"
            ],
            [
             0.4,
             "#fde0ef"
            ],
            [
             0.5,
             "#f7f7f7"
            ],
            [
             0.6,
             "#e6f5d0"
            ],
            [
             0.7,
             "#b8e186"
            ],
            [
             0.8,
             "#7fbc41"
            ],
            [
             0.9,
             "#4d9221"
            ],
            [
             1,
             "#276419"
            ]
           ],
           "sequential": [
            [
             0,
             "#0d0887"
            ],
            [
             0.1111111111111111,
             "#46039f"
            ],
            [
             0.2222222222222222,
             "#7201a8"
            ],
            [
             0.3333333333333333,
             "#9c179e"
            ],
            [
             0.4444444444444444,
             "#bd3786"
            ],
            [
             0.5555555555555556,
             "#d8576b"
            ],
            [
             0.6666666666666666,
             "#ed7953"
            ],
            [
             0.7777777777777778,
             "#fb9f3a"
            ],
            [
             0.8888888888888888,
             "#fdca26"
            ],
            [
             1,
             "#f0f921"
            ]
           ],
           "sequentialminus": [
            [
             0,
             "#0d0887"
            ],
            [
             0.1111111111111111,
             "#46039f"
            ],
            [
             0.2222222222222222,
             "#7201a8"
            ],
            [
             0.3333333333333333,
             "#9c179e"
            ],
            [
             0.4444444444444444,
             "#bd3786"
            ],
            [
             0.5555555555555556,
             "#d8576b"
            ],
            [
             0.6666666666666666,
             "#ed7953"
            ],
            [
             0.7777777777777778,
             "#fb9f3a"
            ],
            [
             0.8888888888888888,
             "#fdca26"
            ],
            [
             1,
             "#f0f921"
            ]
           ]
          },
          "colorway": [
           "#636efa",
           "#EF553B",
           "#00cc96",
           "#ab63fa",
           "#FFA15A",
           "#19d3f3",
           "#FF6692",
           "#B6E880",
           "#FF97FF",
           "#FECB52"
          ],
          "font": {
           "color": "#2a3f5f"
          },
          "geo": {
           "bgcolor": "white",
           "lakecolor": "white",
           "landcolor": "#E5ECF6",
           "showlakes": true,
           "showland": true,
           "subunitcolor": "white"
          },
          "hoverlabel": {
           "align": "left"
          },
          "hovermode": "closest",
          "mapbox": {
           "style": "light"
          },
          "paper_bgcolor": "white",
          "plot_bgcolor": "#E5ECF6",
          "polar": {
           "angularaxis": {
            "gridcolor": "white",
            "linecolor": "white",
            "ticks": ""
           },
           "bgcolor": "#E5ECF6",
           "radialaxis": {
            "gridcolor": "white",
            "linecolor": "white",
            "ticks": ""
           }
          },
          "scene": {
           "xaxis": {
            "backgroundcolor": "#E5ECF6",
            "gridcolor": "white",
            "gridwidth": 2,
            "linecolor": "white",
            "showbackground": true,
            "ticks": "",
            "zerolinecolor": "white"
           },
           "yaxis": {
            "backgroundcolor": "#E5ECF6",
            "gridcolor": "white",
            "gridwidth": 2,
            "linecolor": "white",
            "showbackground": true,
            "ticks": "",
            "zerolinecolor": "white"
           },
           "zaxis": {
            "backgroundcolor": "#E5ECF6",
            "gridcolor": "white",
            "gridwidth": 2,
            "linecolor": "white",
            "showbackground": true,
            "ticks": "",
            "zerolinecolor": "white"
           }
          },
          "shapedefaults": {
           "line": {
            "color": "#2a3f5f"
           }
          },
          "ternary": {
           "aaxis": {
            "gridcolor": "white",
            "linecolor": "white",
            "ticks": ""
           },
           "baxis": {
            "gridcolor": "white",
            "linecolor": "white",
            "ticks": ""
           },
           "bgcolor": "#E5ECF6",
           "caxis": {
            "gridcolor": "white",
            "linecolor": "white",
            "ticks": ""
           }
          },
          "title": {
           "x": 0.05
          },
          "xaxis": {
           "automargin": true,
           "gridcolor": "white",
           "linecolor": "white",
           "ticks": "",
           "title": {
            "standoff": 15
           },
           "zerolinecolor": "white",
           "zerolinewidth": 2
          },
          "yaxis": {
           "automargin": true,
           "gridcolor": "white",
           "linecolor": "white",
           "ticks": "",
           "title": {
            "standoff": 15
           },
           "zerolinecolor": "white",
           "zerolinewidth": 2
          }
         }
        },
        "title": {
         "text": "TOP 20",
         "x": 0.5
        },
        "width": 600,
        "xaxis": {
         "anchor": "y",
         "domain": [
          0,
          0.94
         ]
        },
        "yaxis": {
         "anchor": "x",
         "domain": [
          0,
          1
         ],
         "side": "right"
        },
        "yaxis2": {
         "anchor": "x",
         "overlaying": "y",
         "side": "right"
        }
       }
      }
     },
     "metadata": {},
     "output_type": "display_data"
    },
    {
     "data": {
      "application/vnd.plotly.v1+json": {
       "config": {
        "plotlyServerURL": "https://plot.ly"
       },
       "data": [
        {
         "name": "TER: 29.9 %",
         "type": "scatter",
         "x": [
          "2024-07-16",
          "2024-07-17",
          "2024-07-18",
          "2024-07-19",
          "2024-07-22",
          "2024-07-23",
          "2024-07-24",
          "2024-07-25",
          "2024-07-26",
          "2024-07-29",
          "2024-07-30",
          "2024-07-31",
          "2024-08-01",
          "2024-08-02",
          "2024-08-05",
          "2024-08-06",
          "2024-08-07",
          "2024-08-08",
          "2024-08-09",
          "2024-08-12",
          "2024-08-13",
          "2024-08-14",
          "2024-08-15",
          "2024-08-16",
          "2024-08-19",
          "2024-08-20",
          "2024-08-21",
          "2024-08-22",
          "2024-08-23",
          "2024-08-26",
          "2024-08-27",
          "2024-08-28",
          "2024-08-29",
          "2024-08-30",
          "2024-09-03",
          "2024-09-04",
          "2024-09-05",
          "2024-09-06",
          "2024-09-09",
          "2024-09-10",
          "2024-09-11",
          "2024-09-12",
          "2024-09-13",
          "2024-09-16",
          "2024-09-17",
          "2024-09-18",
          "2024-09-19",
          "2024-09-20",
          "2024-09-23",
          "2024-09-24",
          "2024-09-25",
          "2024-09-26",
          "2024-09-27",
          "2024-09-30",
          "2024-10-01",
          "2024-10-02",
          "2024-10-03",
          "2024-10-04",
          "2024-10-07",
          "2024-10-08",
          "2024-10-09",
          "2024-10-10",
          "2024-10-11",
          "2024-10-14",
          "2024-10-15",
          "2024-10-16",
          "2024-10-17",
          "2024-10-18",
          "2024-10-21",
          "2024-10-22",
          "2024-10-23",
          "2024-10-24",
          "2024-10-25",
          "2024-10-28",
          "2024-10-29",
          "2024-10-30",
          "2024-10-31",
          "2024-11-01",
          "2024-11-04",
          "2024-11-05",
          "2024-11-06",
          "2024-11-07",
          "2024-11-08",
          "2024-11-11",
          "2024-11-12",
          "2024-11-13",
          "2024-11-14",
          "2024-11-15",
          "2024-11-18",
          "2024-11-19",
          "2024-11-20",
          "2024-11-21",
          "2024-11-22",
          "2024-11-25",
          "2024-11-26",
          "2024-11-27",
          "2024-11-29",
          "2024-12-02",
          "2024-12-03",
          "2024-12-04",
          "2024-12-05",
          "2024-12-06",
          "2024-12-09",
          "2024-12-10",
          "2024-12-11",
          "2024-12-12",
          "2024-12-13",
          "2024-12-16",
          "2024-12-17",
          "2024-12-18",
          "2024-12-19",
          "2024-12-20",
          "2024-12-23",
          "2024-12-24",
          "2024-12-26",
          "2024-12-27",
          "2024-12-30",
          "2024-12-31",
          "2025-01-02",
          "2025-01-03",
          "2025-01-06",
          "2025-01-07",
          "2025-01-08",
          "2025-01-10",
          "2025-01-13",
          "2025-01-14",
          "2025-01-15",
          "2025-01-16",
          "2025-01-17",
          "2025-01-21",
          "2025-01-22",
          "2025-01-23",
          "2025-01-24",
          "2025-01-27",
          "2025-01-28",
          "2025-01-29",
          "2025-01-30",
          "2025-01-31",
          "2025-02-03",
          "2025-02-04",
          "2025-02-05",
          "2025-02-06",
          "2025-02-07",
          "2025-02-10",
          "2025-02-11",
          "2025-02-12",
          "2025-02-13",
          "2025-02-14",
          "2025-02-18",
          "2025-02-19",
          "2025-02-20",
          "2025-02-21",
          "2025-02-24",
          "2025-02-25",
          "2025-02-26",
          "2025-02-27",
          "2025-02-28",
          "2025-03-03",
          "2025-03-04",
          "2025-03-05",
          "2025-03-06",
          "2025-03-07",
          "2025-03-10",
          "2025-03-11",
          "2025-03-12",
          "2025-03-13",
          "2025-03-14",
          "2025-03-17",
          "2025-03-18",
          "2025-03-19",
          "2025-03-20",
          "2025-03-21",
          "2025-03-24",
          "2025-03-25",
          "2025-03-26",
          "2025-03-27",
          "2025-03-28",
          "2025-03-31",
          "2025-04-01",
          "2025-04-02",
          "2025-04-03",
          "2025-04-04",
          "2025-04-07",
          "2025-04-08",
          "2025-04-09",
          "2025-04-10",
          "2025-04-11",
          "2025-04-14",
          "2025-04-15",
          "2025-04-16",
          "2025-04-17",
          "2025-04-21",
          "2025-04-22",
          "2025-04-23",
          "2025-04-24",
          "2025-04-25",
          "2025-04-28",
          "2025-04-29",
          "2025-04-30",
          "2025-05-01",
          "2025-05-02",
          "2025-05-05",
          "2025-05-06",
          "2025-05-07",
          "2025-05-08",
          "2025-05-09",
          "2025-05-12",
          "2025-05-13",
          "2025-05-14",
          "2025-05-15",
          "2025-05-16",
          "2025-05-19",
          "2025-05-20",
          "2025-05-21",
          "2025-05-22",
          "2025-05-23",
          "2025-05-27",
          "2025-05-28",
          "2025-05-29",
          "2025-05-30",
          "2025-06-02",
          "2025-06-03",
          "2025-06-04",
          "2025-06-05",
          "2025-06-06",
          "2025-06-09",
          "2025-06-10",
          "2025-06-11",
          "2025-06-12",
          "2025-06-13",
          "2025-06-16",
          "2025-06-17",
          "2025-06-18",
          "2025-06-20",
          "2025-06-23",
          "2025-06-24",
          "2025-06-25",
          "2025-06-26",
          "2025-06-27",
          "2025-06-30",
          "2025-07-01",
          "2025-07-02",
          "2025-07-03",
          "2025-07-07",
          "2025-07-08",
          "2025-07-09",
          "2025-07-10",
          "2025-07-11",
          "2025-07-14",
          "2025-07-15",
          "2025-07-16",
          "2025-07-17",
          "2025-07-18",
          "2025-07-21",
          "2025-07-22",
          "2025-07-23",
          "2025-07-24",
          "2025-07-25",
          "2025-07-28",
          "2025-07-29",
          "2025-07-30",
          "2025-07-31",
          "2025-08-01",
          "2025-08-04",
          "2025-08-05",
          "2025-08-06",
          "2025-08-07",
          "2025-08-08",
          "2025-08-11",
          "2025-08-12",
          "2025-08-13",
          "2025-08-14",
          "2025-08-15",
          "2025-08-18",
          "2025-08-19",
          "2025-08-20",
          "2025-08-21",
          "2025-08-22",
          "2025-08-25",
          "2025-08-26",
          "2025-08-27",
          "2025-08-28",
          "2025-08-29",
          "2025-09-02",
          "2025-09-03",
          "2025-09-04",
          "2025-09-05",
          "2025-09-08",
          "2025-09-09"
         ],
         "xaxis": "x",
         "y": {
          "bdata": "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",
          "dtype": "f8"
         },
         "yaxis": "y"
        },
        {
         "name": "SMA 50",
         "type": "scatter",
         "x": [
          "2024-07-16",
          "2024-07-17",
          "2024-07-18",
          "2024-07-19",
          "2024-07-22",
          "2024-07-23",
          "2024-07-24",
          "2024-07-25",
          "2024-07-26",
          "2024-07-29",
          "2024-07-30",
          "2024-07-31",
          "2024-08-01",
          "2024-08-02",
          "2024-08-05",
          "2024-08-06",
          "2024-08-07",
          "2024-08-08",
          "2024-08-09",
          "2024-08-12",
          "2024-08-13",
          "2024-08-14",
          "2024-08-15",
          "2024-08-16",
          "2024-08-19",
          "2024-08-20",
          "2024-08-21",
          "2024-08-22",
          "2024-08-23",
          "2024-08-26",
          "2024-08-27",
          "2024-08-28",
          "2024-08-29",
          "2024-08-30",
          "2024-09-03",
          "2024-09-04",
          "2024-09-05",
          "2024-09-06",
          "2024-09-09",
          "2024-09-10",
          "2024-09-11",
          "2024-09-12",
          "2024-09-13",
          "2024-09-16",
          "2024-09-17",
          "2024-09-18",
          "2024-09-19",
          "2024-09-20",
          "2024-09-23",
          "2024-09-24",
          "2024-09-25",
          "2024-09-26",
          "2024-09-27",
          "2024-09-30",
          "2024-10-01",
          "2024-10-02",
          "2024-10-03",
          "2024-10-04",
          "2024-10-07",
          "2024-10-08",
          "2024-10-09",
          "2024-10-10",
          "2024-10-11",
          "2024-10-14",
          "2024-10-15",
          "2024-10-16",
          "2024-10-17",
          "2024-10-18",
          "2024-10-21",
          "2024-10-22",
          "2024-10-23",
          "2024-10-24",
          "2024-10-25",
          "2024-10-28",
          "2024-10-29",
          "2024-10-30",
          "2024-10-31",
          "2024-11-01",
          "2024-11-04",
          "2024-11-05",
          "2024-11-06",
          "2024-11-07",
          "2024-11-08",
          "2024-11-11",
          "2024-11-12",
          "2024-11-13",
          "2024-11-14",
          "2024-11-15",
          "2024-11-18",
          "2024-11-19",
          "2024-11-20",
          "2024-11-21",
          "2024-11-22",
          "2024-11-25",
          "2024-11-26",
          "2024-11-27",
          "2024-11-29",
          "2024-12-02",
          "2024-12-03",
          "2024-12-04",
          "2024-12-05",
          "2024-12-06",
          "2024-12-09",
          "2024-12-10",
          "2024-12-11",
          "2024-12-12",
          "2024-12-13",
          "2024-12-16",
          "2024-12-17",
          "2024-12-18",
          "2024-12-19",
          "2024-12-20",
          "2024-12-23",
          "2024-12-24",
          "2024-12-26",
          "2024-12-27",
          "2024-12-30",
          "2024-12-31",
          "2025-01-02",
          "2025-01-03",
          "2025-01-06",
          "2025-01-07",
          "2025-01-08",
          "2025-01-10",
          "2025-01-13",
          "2025-01-14",
          "2025-01-15",
          "2025-01-16",
          "2025-01-17",
          "2025-01-21",
          "2025-01-22",
          "2025-01-23",
          "2025-01-24",
          "2025-01-27",
          "2025-01-28",
          "2025-01-29",
          "2025-01-30",
          "2025-01-31",
          "2025-02-03",
          "2025-02-04",
          "2025-02-05",
          "2025-02-06",
          "2025-02-07",
          "2025-02-10",
          "2025-02-11",
          "2025-02-12",
          "2025-02-13",
          "2025-02-14",
          "2025-02-18",
          "2025-02-19",
          "2025-02-20",
          "2025-02-21",
          "2025-02-24",
          "2025-02-25",
          "2025-02-26",
          "2025-02-27",
          "2025-02-28",
          "2025-03-03",
          "2025-03-04",
          "2025-03-05",
          "2025-03-06",
          "2025-03-07",
          "2025-03-10",
          "2025-03-11",
          "2025-03-12",
          "2025-03-13",
          "2025-03-14",
          "2025-03-17",
          "2025-03-18",
          "2025-03-19",
          "2025-03-20",
          "2025-03-21",
          "2025-03-24",
          "2025-03-25",
          "2025-03-26",
          "2025-03-27",
          "2025-03-28",
          "2025-03-31",
          "2025-04-01",
          "2025-04-02",
          "2025-04-03",
          "2025-04-04",
          "2025-04-07",
          "2025-04-08",
          "2025-04-09",
          "2025-04-10",
          "2025-04-11",
          "2025-04-14",
          "2025-04-15",
          "2025-04-16",
          "2025-04-17",
          "2025-04-21",
          "2025-04-22",
          "2025-04-23",
          "2025-04-24",
          "2025-04-25",
          "2025-04-28",
          "2025-04-29",
          "2025-04-30",
          "2025-05-01",
          "2025-05-02",
          "2025-05-05",
          "2025-05-06",
          "2025-05-07",
          "2025-05-08",
          "2025-05-09",
          "2025-05-12",
          "2025-05-13",
          "2025-05-14",
          "2025-05-15",
          "2025-05-16",
          "2025-05-19",
          "2025-05-20",
          "2025-05-21",
          "2025-05-22",
          "2025-05-23",
          "2025-05-27",
          "2025-05-28",
          "2025-05-29",
          "2025-05-30",
          "2025-06-02",
          "2025-06-03",
          "2025-06-04",
          "2025-06-05",
          "2025-06-06",
          "2025-06-09",
          "2025-06-10",
          "2025-06-11",
          "2025-06-12",
          "2025-06-13",
          "2025-06-16",
          "2025-06-17",
          "2025-06-18",
          "2025-06-20",
          "2025-06-23",
          "2025-06-24",
          "2025-06-25",
          "2025-06-26",
          "2025-06-27",
          "2025-06-30",
          "2025-07-01",
          "2025-07-02",
          "2025-07-03",
          "2025-07-07",
          "2025-07-08",
          "2025-07-09",
          "2025-07-10",
          "2025-07-11",
          "2025-07-14",
          "2025-07-15",
          "2025-07-16",
          "2025-07-17",
          "2025-07-18",
          "2025-07-21",
          "2025-07-22",
          "2025-07-23",
          "2025-07-24",
          "2025-07-25",
          "2025-07-28",
          "2025-07-29",
          "2025-07-30",
          "2025-07-31",
          "2025-08-01",
          "2025-08-04",
          "2025-08-05",
          "2025-08-06",
          "2025-08-07",
          "2025-08-08",
          "2025-08-11",
          "2025-08-12",
          "2025-08-13",
          "2025-08-14",
          "2025-08-15",
          "2025-08-18",
          "2025-08-19",
          "2025-08-20",
          "2025-08-21",
          "2025-08-22",
          "2025-08-25",
          "2025-08-26",
          "2025-08-27",
          "2025-08-28",
          "2025-08-29",
          "2025-09-02",
          "2025-09-03",
          "2025-09-04",
          "2025-09-05",
          "2025-09-08",
          "2025-09-09"
         ],
         "xaxis": "x",
         "y": {
          "bdata": "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",
          "dtype": "f8"
         },
         "yaxis": "y"
        }
       ],
       "layout": {
        "annotations": [
         {
          "font": {
           "size": 8
          },
          "showarrow": false,
          "text": "Date: 2025-09-09, Open:115.19, High:120.0, Low:114.66, Close: 119.0",
          "x": 0.01,
          "xref": "x domain",
          "y": 1,
          "yref": "y domain"
         }
        ],
        "height": 400,
        "legend": {
         "font": {
          "size": 8
         },
         "title": {
          "font": {
           "family": "Arial"
          }
         }
        },
        "template": {
         "data": {
          "bar": [
           {
            "error_x": {
             "color": "#2a3f5f"
            },
            "error_y": {
             "color": "#2a3f5f"
            },
            "marker": {
             "line": {
              "color": "#E5ECF6",
              "width": 0.5
             },
             "pattern": {
              "fillmode": "overlay",
              "size": 10,
              "solidity": 0.2
             }
            },
            "type": "bar"
           }
          ],
          "barpolar": [
           {
            "marker": {
             "line": {
              "color": "#E5ECF6",
              "width": 0.5
             },
             "pattern": {
              "fillmode": "overlay",
              "size": 10,
              "solidity": 0.2
             }
            },
            "type": "barpolar"
           }
          ],
          "carpet": [
           {
            "aaxis": {
             "endlinecolor": "#2a3f5f",
             "gridcolor": "white",
             "linecolor": "white",
             "minorgridcolor": "white",
             "startlinecolor": "#2a3f5f"
            },
            "baxis": {
             "endlinecolor": "#2a3f5f",
             "gridcolor": "white",
             "linecolor": "white",
             "minorgridcolor": "white",
             "startlinecolor": "#2a3f5f"
            },
            "type": "carpet"
           }
          ],
          "choropleth": [
           {
            "colorbar": {
             "outlinewidth": 0,
             "ticks": ""
            },
            "type": "choropleth"
           }
          ],
          "contour": [
           {
            "colorbar": {
             "outlinewidth": 0,
             "ticks": ""
            },
            "colorscale": [
             [
              0,
              "#0d0887"
             ],
             [
              0.1111111111111111,
              "#46039f"
             ],
             [
              0.2222222222222222,
              "#7201a8"
             ],
             [
              0.3333333333333333,
              "#9c179e"
             ],
             [
              0.4444444444444444,
              "#bd3786"
             ],
             [
              0.5555555555555556,
              "#d8576b"
             ],
             [
              0.6666666666666666,
              "#ed7953"
             ],
             [
              0.7777777777777778,
              "#fb9f3a"
             ],
             [
              0.8888888888888888,
              "#fdca26"
             ],
             [
              1,
              "#f0f921"
             ]
            ],
            "type": "contour"
           }
          ],
          "contourcarpet": [
           {
            "colorbar": {
             "outlinewidth": 0,
             "ticks": ""
            },
            "type": "contourcarpet"
           }
          ],
          "heatmap": [
           {
            "colorbar": {
             "outlinewidth": 0,
             "ticks": ""
            },
            "colorscale": [
             [
              0,
              "#0d0887"
             ],
             [
              0.1111111111111111,
              "#46039f"
             ],
             [
              0.2222222222222222,
              "#7201a8"
             ],
             [
              0.3333333333333333,
              "#9c179e"
             ],
             [
              0.4444444444444444,
              "#bd3786"
             ],
             [
              0.5555555555555556,
              "#d8576b"
             ],
             [
              0.6666666666666666,
              "#ed7953"
             ],
             [
              0.7777777777777778,
              "#fb9f3a"
             ],
             [
              0.8888888888888888,
              "#fdca26"
             ],
             [
              1,
              "#f0f921"
             ]
            ],
            "type": "heatmap"
           }
          ],
          "histogram": [
           {
            "marker": {
             "pattern": {
              "fillmode": "overlay",
              "size": 10,
              "solidity": 0.2
             }
            },
            "type": "histogram"
           }
          ],
          "histogram2d": [
           {
            "colorbar": {
             "outlinewidth": 0,
             "ticks": ""
            },
            "colorscale": [
             [
              0,
              "#0d0887"
             ],
             [
              0.1111111111111111,
              "#46039f"
             ],
             [
              0.2222222222222222,
              "#7201a8"
             ],
             [
              0.3333333333333333,
              "#9c179e"
             ],
             [
              0.4444444444444444,
              "#bd3786"
             ],
             [
              0.5555555555555556,
              "#d8576b"
             ],
             [
              0.6666666666666666,
              "#ed7953"
             ],
             [
              0.7777777777777778,
              "#fb9f3a"
             ],
             [
              0.8888888888888888,
              "#fdca26"
             ],
             [
              1,
              "#f0f921"
             ]
            ],
            "type": "histogram2d"
           }
          ],
          "histogram2dcontour": [
           {
            "colorbar": {
             "outlinewidth": 0,
             "ticks": ""
            },
            "colorscale": [
             [
              0,
              "#0d0887"
             ],
             [
              0.1111111111111111,
              "#46039f"
             ],
             [
              0.2222222222222222,
              "#7201a8"
             ],
             [
              0.3333333333333333,
              "#9c179e"
             ],
             [
              0.4444444444444444,
              "#bd3786"
             ],
             [
              0.5555555555555556,
              "#d8576b"
             ],
             [
              0.6666666666666666,
              "#ed7953"
             ],
             [
              0.7777777777777778,
              "#fb9f3a"
             ],
             [
              0.8888888888888888,
              "#fdca26"
             ],
             [
              1,
              "#f0f921"
             ]
            ],
            "type": "histogram2dcontour"
           }
          ],
          "mesh3d": [
           {
            "colorbar": {
             "outlinewidth": 0,
             "ticks": ""
            },
            "type": "mesh3d"
           }
          ],
          "parcoords": [
           {
            "line": {
             "colorbar": {
              "outlinewidth": 0,
              "ticks": ""
             }
            },
            "type": "parcoords"
           }
          ],
          "pie": [
           {
            "automargin": true,
            "type": "pie"
           }
          ],
          "scatter": [
           {
            "fillpattern": {
             "fillmode": "overlay",
             "size": 10,
             "solidity": 0.2
            },
            "type": "scatter"
           }
          ],
          "scatter3d": [
           {
            "line": {
             "colorbar": {
              "outlinewidth": 0,
              "ticks": ""
             }
            },
            "marker": {
             "colorbar": {
              "outlinewidth": 0,
              "ticks": ""
             }
            },
            "type": "scatter3d"
           }
          ],
          "scattercarpet": [
           {
            "marker": {
             "colorbar": {
              "outlinewidth": 0,
              "ticks": ""
             }
            },
            "type": "scattercarpet"
           }
          ],
          "scattergeo": [
           {
            "marker": {
             "colorbar": {
              "outlinewidth": 0,
              "ticks": ""
             }
            },
            "type": "scattergeo"
           }
          ],
          "scattergl": [
           {
            "marker": {
             "colorbar": {
              "outlinewidth": 0,
              "ticks": ""
             }
            },
            "type": "scattergl"
           }
          ],
          "scattermap": [
           {
            "marker": {
             "colorbar": {
              "outlinewidth": 0,
              "ticks": ""
             }
            },
            "type": "scattermap"
           }
          ],
          "scattermapbox": [
           {
            "marker": {
             "colorbar": {
              "outlinewidth": 0,
              "ticks": ""
             }
            },
            "type": "scattermapbox"
           }
          ],
          "scatterpolar": [
           {
            "marker": {
             "colorbar": {
              "outlinewidth": 0,
              "ticks": ""
             }
            },
            "type": "scatterpolar"
           }
          ],
          "scatterpolargl": [
           {
            "marker": {
             "colorbar": {
              "outlinewidth": 0,
              "ticks": ""
             }
            },
            "type": "scatterpolargl"
           }
          ],
          "scatterternary": [
           {
            "marker": {
             "colorbar": {
              "outlinewidth": 0,
              "ticks": ""
             }
            },
            "type": "scatterternary"
           }
          ],
          "surface": [
           {
            "colorbar": {
             "outlinewidth": 0,
             "ticks": ""
            },
            "colorscale": [
             [
              0,
              "#0d0887"
             ],
             [
              0.1111111111111111,
              "#46039f"
             ],
             [
              0.2222222222222222,
              "#7201a8"
             ],
             [
              0.3333333333333333,
              "#9c179e"
             ],
             [
              0.4444444444444444,
              "#bd3786"
             ],
             [
              0.5555555555555556,
              "#d8576b"
             ],
             [
              0.6666666666666666,
              "#ed7953"
             ],
             [
              0.7777777777777778,
              "#fb9f3a"
             ],
             [
              0.8888888888888888,
              "#fdca26"
             ],
             [
              1,
              "#f0f921"
             ]
            ],
            "type": "surface"
           }
          ],
          "table": [
           {
            "cells": {
             "fill": {
              "color": "#EBF0F8"
             },
             "line": {
              "color": "white"
             }
            },
            "header": {
             "fill": {
              "color": "#C8D4E3"
             },
             "line": {
              "color": "white"
             }
            },
            "type": "table"
           }
          ]
         },
         "layout": {
          "annotationdefaults": {
           "arrowcolor": "#2a3f5f",
           "arrowhead": 0,
           "arrowwidth": 1
          },
          "autotypenumbers": "strict",
          "coloraxis": {
           "colorbar": {
            "outlinewidth": 0,
            "ticks": ""
           }
          },
          "colorscale": {
           "diverging": [
            [
             0,
             "#8e0152"
            ],
            [
             0.1,
             "#c51b7d"
            ],
            [
             0.2,
             "#de77ae"
            ],
            [
             0.3,
             "#f1b6da"
            ],
            [
             0.4,
             "#fde0ef"
            ],
            [
             0.5,
             "#f7f7f7"
            ],
            [
             0.6,
             "#e6f5d0"
            ],
            [
             0.7,
             "#b8e186"
            ],
            [
             0.8,
             "#7fbc41"
            ],
            [
             0.9,
             "#4d9221"
            ],
            [
             1,
             "#276419"
            ]
           ],
           "sequential": [
            [
             0,
             "#0d0887"
            ],
            [
             0.1111111111111111,
             "#46039f"
            ],
            [
             0.2222222222222222,
             "#7201a8"
            ],
            [
             0.3333333333333333,
             "#9c179e"
            ],
            [
             0.4444444444444444,
             "#bd3786"
            ],
            [
             0.5555555555555556,
             "#d8576b"
            ],
            [
             0.6666666666666666,
             "#ed7953"
            ],
            [
             0.7777777777777778,
             "#fb9f3a"
            ],
            [
             0.8888888888888888,
             "#fdca26"
            ],
            [
             1,
             "#f0f921"
            ]
           ],
           "sequentialminus": [
            [
             0,
             "#0d0887"
            ],
            [
             0.1111111111111111,
             "#46039f"
            ],
            [
             0.2222222222222222,
             "#7201a8"
            ],
            [
             0.3333333333333333,
             "#9c179e"
            ],
            [
             0.4444444444444444,
             "#bd3786"
            ],
            [
             0.5555555555555556,
             "#d8576b"
            ],
            [
             0.6666666666666666,
             "#ed7953"
            ],
            [
             0.7777777777777778,
             "#fb9f3a"
            ],
            [
             0.8888888888888888,
             "#fdca26"
            ],
            [
             1,
             "#f0f921"
            ]
           ]
          },
          "colorway": [
           "#636efa",
           "#EF553B",
           "#00cc96",
           "#ab63fa",
           "#FFA15A",
           "#19d3f3",
           "#FF6692",
           "#B6E880",
           "#FF97FF",
           "#FECB52"
          ],
          "font": {
           "color": "#2a3f5f"
          },
          "geo": {
           "bgcolor": "white",
           "lakecolor": "white",
           "landcolor": "#E5ECF6",
           "showlakes": true,
           "showland": true,
           "subunitcolor": "white"
          },
          "hoverlabel": {
           "align": "left"
          },
          "hovermode": "closest",
          "mapbox": {
           "style": "light"
          },
          "paper_bgcolor": "white",
          "plot_bgcolor": "#E5ECF6",
          "polar": {
           "angularaxis": {
            "gridcolor": "white",
            "linecolor": "white",
            "ticks": ""
           },
           "bgcolor": "#E5ECF6",
           "radialaxis": {
            "gridcolor": "white",
            "linecolor": "white",
            "ticks": ""
           }
          },
          "scene": {
           "xaxis": {
            "backgroundcolor": "#E5ECF6",
            "gridcolor": "white",
            "gridwidth": 2,
            "linecolor": "white",
            "showbackground": true,
            "ticks": "",
            "zerolinecolor": "white"
           },
           "yaxis": {
            "backgroundcolor": "#E5ECF6",
            "gridcolor": "white",
            "gridwidth": 2,
            "linecolor": "white",
            "showbackground": true,
            "ticks": "",
            "zerolinecolor": "white"
           },
           "zaxis": {
            "backgroundcolor": "#E5ECF6",
            "gridcolor": "white",
            "gridwidth": 2,
            "linecolor": "white",
            "showbackground": true,
            "ticks": "",
            "zerolinecolor": "white"
           }
          },
          "shapedefaults": {
           "line": {
            "color": "#2a3f5f"
           }
          },
          "ternary": {
           "aaxis": {
            "gridcolor": "white",
            "linecolor": "white",
            "ticks": ""
           },
           "baxis": {
            "gridcolor": "white",
            "linecolor": "white",
            "ticks": ""
           },
           "bgcolor": "#E5ECF6",
           "caxis": {
            "gridcolor": "white",
            "linecolor": "white",
            "ticks": ""
           }
          },
          "title": {
           "x": 0.05
          },
          "xaxis": {
           "automargin": true,
           "gridcolor": "white",
           "linecolor": "white",
           "ticks": "",
           "title": {
            "standoff": 15
           },
           "zerolinecolor": "white",
           "zerolinewidth": 2
          },
          "yaxis": {
           "automargin": true,
           "gridcolor": "white",
           "linecolor": "white",
           "ticks": "",
           "title": {
            "standoff": 15
           },
           "zerolinecolor": "white",
           "zerolinewidth": 2
          }
         }
        },
        "title": {
         "text": "TOP 20",
         "x": 0.5
        },
        "width": 600,
        "xaxis": {
         "anchor": "y",
         "domain": [
          0,
          0.94
         ]
        },
        "yaxis": {
         "anchor": "x",
         "domain": [
          0,
          1
         ],
         "side": "right"
        },
        "yaxis2": {
         "anchor": "x",
         "overlaying": "y",
         "side": "right"
        }
       }
      }
     },
     "metadata": {},
     "output_type": "display_data"
    },
    {
     "data": {
      "application/vnd.plotly.v1+json": {
       "config": {
        "plotlyServerURL": "https://plot.ly"
       },
       "data": [
        {
         "name": "AFRM: 26.36 %",
         "type": "scatter",
         "x": [
          "2024-07-16",
          "2024-07-17",
          "2024-07-18",
          "2024-07-19",
          "2024-07-22",
          "2024-07-23",
          "2024-07-24",
          "2024-07-25",
          "2024-07-26",
          "2024-07-29",
          "2024-07-30",
          "2024-07-31",
          "2024-08-01",
          "2024-08-02",
          "2024-08-05",
          "2024-08-06",
          "2024-08-07",
          "2024-08-08",
          "2024-08-09",
          "2024-08-12",
          "2024-08-13",
          "2024-08-14",
          "2024-08-15",
          "2024-08-16",
          "2024-08-19",
          "2024-08-20",
          "2024-08-21",
          "2024-08-22",
          "2024-08-23",
          "2024-08-26",
          "2024-08-27",
          "2024-08-28",
          "2024-08-29",
          "2024-08-30",
          "2024-09-03",
          "2024-09-04",
          "2024-09-05",
          "2024-09-06",
          "2024-09-09",
          "2024-09-10",
          "2024-09-11",
          "2024-09-12",
          "2024-09-13",
          "2024-09-16",
          "2024-09-17",
          "2024-09-18",
          "2024-09-19",
          "2024-09-20",
          "2024-09-23",
          "2024-09-24",
          "2024-09-25",
          "2024-09-26",
          "2024-09-27",
          "2024-09-30",
          "2024-10-01",
          "2024-10-02",
          "2024-10-03",
          "2024-10-04",
          "2024-10-07",
          "2024-10-08",
          "2024-10-09",
          "2024-10-10",
          "2024-10-11",
          "2024-10-14",
          "2024-10-15",
          "2024-10-16",
          "2024-10-17",
          "2024-10-18",
          "2024-10-21",
          "2024-10-22",
          "2024-10-23",
          "2024-10-24",
          "2024-10-25",
          "2024-10-28",
          "2024-10-29",
          "2024-10-30",
          "2024-10-31",
          "2024-11-01",
          "2024-11-04",
          "2024-11-05",
          "2024-11-06",
          "2024-11-07",
          "2024-11-08",
          "2024-11-11",
          "2024-11-12",
          "2024-11-13",
          "2024-11-14",
          "2024-11-15",
          "2024-11-18",
          "2024-11-19",
          "2024-11-20",
          "2024-11-21",
          "2024-11-22",
          "2024-11-25",
          "2024-11-26",
          "2024-11-27",
          "2024-11-29",
          "2024-12-02",
          "2024-12-03",
          "2024-12-04",
          "2024-12-05",
          "2024-12-06",
          "2024-12-09",
          "2024-12-10",
          "2024-12-11",
          "2024-12-12",
          "2024-12-13",
          "2024-12-16",
          "2024-12-17",
          "2024-12-18",
          "2024-12-19",
          "2024-12-20",
          "2024-12-23",
          "2024-12-24",
          "2024-12-26",
          "2024-12-27",
          "2024-12-30",
          "2024-12-31",
          "2025-01-02",
          "2025-01-03",
          "2025-01-06",
          "2025-01-07",
          "2025-01-08",
          "2025-01-10",
          "2025-01-13",
          "2025-01-14",
          "2025-01-15",
          "2025-01-16",
          "2025-01-17",
          "2025-01-21",
          "2025-01-22",
          "2025-01-23",
          "2025-01-24",
          "2025-01-27",
          "2025-01-28",
          "2025-01-29",
          "2025-01-30",
          "2025-01-31",
          "2025-02-03",
          "2025-02-04",
          "2025-02-05",
          "2025-02-06",
          "2025-02-07",
          "2025-02-10",
          "2025-02-11",
          "2025-02-12",
          "2025-02-13",
          "2025-02-14",
          "2025-02-18",
          "2025-02-19",
          "2025-02-20",
          "2025-02-21",
          "2025-02-24",
          "2025-02-25",
          "2025-02-26",
          "2025-02-27",
          "2025-02-28",
          "2025-03-03",
          "2025-03-04",
          "2025-03-05",
          "2025-03-06",
          "2025-03-07",
          "2025-03-10",
          "2025-03-11",
          "2025-03-12",
          "2025-03-13",
          "2025-03-14",
          "2025-03-17",
          "2025-03-18",
          "2025-03-19",
          "2025-03-20",
          "2025-03-21",
          "2025-03-24",
          "2025-03-25",
          "2025-03-26",
          "2025-03-27",
          "2025-03-28",
          "2025-03-31",
          "2025-04-01",
          "2025-04-02",
          "2025-04-03",
          "2025-04-04",
          "2025-04-07",
          "2025-04-08",
          "2025-04-09",
          "2025-04-10",
          "2025-04-11",
          "2025-04-14",
          "2025-04-15",
          "2025-04-16",
          "2025-04-17",
          "2025-04-21",
          "2025-04-22",
          "2025-04-23",
          "2025-04-24",
          "2025-04-25",
          "2025-04-28",
          "2025-04-29",
          "2025-04-30",
          "2025-05-01",
          "2025-05-02",
          "2025-05-05",
          "2025-05-06",
          "2025-05-07",
          "2025-05-08",
          "2025-05-09",
          "2025-05-12",
          "2025-05-13",
          "2025-05-14",
          "2025-05-15",
          "2025-05-16",
          "2025-05-19",
          "2025-05-20",
          "2025-05-21",
          "2025-05-22",
          "2025-05-23",
          "2025-05-27",
          "2025-05-28",
          "2025-05-29",
          "2025-05-30",
          "2025-06-02",
          "2025-06-03",
          "2025-06-04",
          "2025-06-05",
          "2025-06-06",
          "2025-06-09",
          "2025-06-10",
          "2025-06-11",
          "2025-06-12",
          "2025-06-13",
          "2025-06-16",
          "2025-06-17",
          "2025-06-18",
          "2025-06-20",
          "2025-06-23",
          "2025-06-24",
          "2025-06-25",
          "2025-06-26",
          "2025-06-27",
          "2025-06-30",
          "2025-07-01",
          "2025-07-02",
          "2025-07-03",
          "2025-07-07",
          "2025-07-08",
          "2025-07-09",
          "2025-07-10",
          "2025-07-11",
          "2025-07-14",
          "2025-07-15",
          "2025-07-16",
          "2025-07-17",
          "2025-07-18",
          "2025-07-21",
          "2025-07-22",
          "2025-07-23",
          "2025-07-24",
          "2025-07-25",
          "2025-07-28",
          "2025-07-29",
          "2025-07-30",
          "2025-07-31",
          "2025-08-01",
          "2025-08-04",
          "2025-08-05",
          "2025-08-06",
          "2025-08-07",
          "2025-08-08",
          "2025-08-11",
          "2025-08-12",
          "2025-08-13",
          "2025-08-14",
          "2025-08-15",
          "2025-08-18",
          "2025-08-19",
          "2025-08-20",
          "2025-08-21",
          "2025-08-22",
          "2025-08-25",
          "2025-08-26",
          "2025-08-27",
          "2025-08-28",
          "2025-08-29",
          "2025-09-02",
          "2025-09-03",
          "2025-09-04",
          "2025-09-05",
          "2025-09-08",
          "2025-09-09"
         ],
         "xaxis": "x",
         "y": {
          "bdata": "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",
          "dtype": "f8"
         },
         "yaxis": "y"
        },
        {
         "name": "SMA 50",
         "type": "scatter",
         "x": [
          "2024-07-16",
          "2024-07-17",
          "2024-07-18",
          "2024-07-19",
          "2024-07-22",
          "2024-07-23",
          "2024-07-24",
          "2024-07-25",
          "2024-07-26",
          "2024-07-29",
          "2024-07-30",
          "2024-07-31",
          "2024-08-01",
          "2024-08-02",
          "2024-08-05",
          "2024-08-06",
          "2024-08-07",
          "2024-08-08",
          "2024-08-09",
          "2024-08-12",
          "2024-08-13",
          "2024-08-14",
          "2024-08-15",
          "2024-08-16",
          "2024-08-19",
          "2024-08-20",
          "2024-08-21",
          "2024-08-22",
          "2024-08-23",
          "2024-08-26",
          "2024-08-27",
          "2024-08-28",
          "2024-08-29",
          "2024-08-30",
          "2024-09-03",
          "2024-09-04",
          "2024-09-05",
          "2024-09-06",
          "2024-09-09",
          "2024-09-10",
          "2024-09-11",
          "2024-09-12",
          "2024-09-13",
          "2024-09-16",
          "2024-09-17",
          "2024-09-18",
          "2024-09-19",
          "2024-09-20",
          "2024-09-23",
          "2024-09-24",
          "2024-09-25",
          "2024-09-26",
          "2024-09-27",
          "2024-09-30",
          "2024-10-01",
          "2024-10-02",
          "2024-10-03",
          "2024-10-04",
          "2024-10-07",
          "2024-10-08",
          "2024-10-09",
          "2024-10-10",
          "2024-10-11",
          "2024-10-14",
          "2024-10-15",
          "2024-10-16",
          "2024-10-17",
          "2024-10-18",
          "2024-10-21",
          "2024-10-22",
          "2024-10-23",
          "2024-10-24",
          "2024-10-25",
          "2024-10-28",
          "2024-10-29",
          "2024-10-30",
          "2024-10-31",
          "2024-11-01",
          "2024-11-04",
          "2024-11-05",
          "2024-11-06",
          "2024-11-07",
          "2024-11-08",
          "2024-11-11",
          "2024-11-12",
          "2024-11-13",
          "2024-11-14",
          "2024-11-15",
          "2024-11-18",
          "2024-11-19",
          "2024-11-20",
          "2024-11-21",
          "2024-11-22",
          "2024-11-25",
          "2024-11-26",
          "2024-11-27",
          "2024-11-29",
          "2024-12-02",
          "2024-12-03",
          "2024-12-04",
          "2024-12-05",
          "2024-12-06",
          "2024-12-09",
          "2024-12-10",
          "2024-12-11",
          "2024-12-12",
          "2024-12-13",
          "2024-12-16",
          "2024-12-17",
          "2024-12-18",
          "2024-12-19",
          "2024-12-20",
          "2024-12-23",
          "2024-12-24",
          "2024-12-26",
          "2024-12-27",
          "2024-12-30",
          "2024-12-31",
          "2025-01-02",
          "2025-01-03",
          "2025-01-06",
          "2025-01-07",
          "2025-01-08",
          "2025-01-10",
          "2025-01-13",
          "2025-01-14",
          "2025-01-15",
          "2025-01-16",
          "2025-01-17",
          "2025-01-21",
          "2025-01-22",
          "2025-01-23",
          "2025-01-24",
          "2025-01-27",
          "2025-01-28",
          "2025-01-29",
          "2025-01-30",
          "2025-01-31",
          "2025-02-03",
          "2025-02-04",
          "2025-02-05",
          "2025-02-06",
          "2025-02-07",
          "2025-02-10",
          "2025-02-11",
          "2025-02-12",
          "2025-02-13",
          "2025-02-14",
          "2025-02-18",
          "2025-02-19",
          "2025-02-20",
          "2025-02-21",
          "2025-02-24",
          "2025-02-25",
          "2025-02-26",
          "2025-02-27",
          "2025-02-28",
          "2025-03-03",
          "2025-03-04",
          "2025-03-05",
          "2025-03-06",
          "2025-03-07",
          "2025-03-10",
          "2025-03-11",
          "2025-03-12",
          "2025-03-13",
          "2025-03-14",
          "2025-03-17",
          "2025-03-18",
          "2025-03-19",
          "2025-03-20",
          "2025-03-21",
          "2025-03-24",
          "2025-03-25",
          "2025-03-26",
          "2025-03-27",
          "2025-03-28",
          "2025-03-31",
          "2025-04-01",
          "2025-04-02",
          "2025-04-03",
          "2025-04-04",
          "2025-04-07",
          "2025-04-08",
          "2025-04-09",
          "2025-04-10",
          "2025-04-11",
          "2025-04-14",
          "2025-04-15",
          "2025-04-16",
          "2025-04-17",
          "2025-04-21",
          "2025-04-22",
          "2025-04-23",
          "2025-04-24",
          "2025-04-25",
          "2025-04-28",
          "2025-04-29",
          "2025-04-30",
          "2025-05-01",
          "2025-05-02",
          "2025-05-05",
          "2025-05-06",
          "2025-05-07",
          "2025-05-08",
          "2025-05-09",
          "2025-05-12",
          "2025-05-13",
          "2025-05-14",
          "2025-05-15",
          "2025-05-16",
          "2025-05-19",
          "2025-05-20",
          "2025-05-21",
          "2025-05-22",
          "2025-05-23",
          "2025-05-27",
          "2025-05-28",
          "2025-05-29",
          "2025-05-30",
          "2025-06-02",
          "2025-06-03",
          "2025-06-04",
          "2025-06-05",
          "2025-06-06",
          "2025-06-09",
          "2025-06-10",
          "2025-06-11",
          "2025-06-12",
          "2025-06-13",
          "2025-06-16",
          "2025-06-17",
          "2025-06-18",
          "2025-06-20",
          "2025-06-23",
          "2025-06-24",
          "2025-06-25",
          "2025-06-26",
          "2025-06-27",
          "2025-06-30",
          "2025-07-01",
          "2025-07-02",
          "2025-07-03",
          "2025-07-07",
          "2025-07-08",
          "2025-07-09",
          "2025-07-10",
          "2025-07-11",
          "2025-07-14",
          "2025-07-15",
          "2025-07-16",
          "2025-07-17",
          "2025-07-18",
          "2025-07-21",
          "2025-07-22",
          "2025-07-23",
          "2025-07-24",
          "2025-07-25",
          "2025-07-28",
          "2025-07-29",
          "2025-07-30",
          "2025-07-31",
          "2025-08-01",
          "2025-08-04",
          "2025-08-05",
          "2025-08-06",
          "2025-08-07",
          "2025-08-08",
          "2025-08-11",
          "2025-08-12",
          "2025-08-13",
          "2025-08-14",
          "2025-08-15",
          "2025-08-18",
          "2025-08-19",
          "2025-08-20",
          "2025-08-21",
          "2025-08-22",
          "2025-08-25",
          "2025-08-26",
          "2025-08-27",
          "2025-08-28",
          "2025-08-29",
          "2025-09-02",
          "2025-09-03",
          "2025-09-04",
          "2025-09-05",
          "2025-09-08",
          "2025-09-09"
         ],
         "xaxis": "x",
         "y": {
          "bdata": "AAAAAAAA+H8AAAAAAAD4fwAAAAAAAPh/AAAAAAAA+H8AAAAAAAD4fwAAAAAAAPh/AAAAAAAA+H8AAAAAAAD4fwAAAAAAAPh/AAAAAAAA+H8AAAAAAAD4fwAAAAAAAPh/AAAAAAAA+H8AAAAAAAD4fwAAAAAAAPh/AAAAAAAA+H8AAAAAAAD4fwAAAAAAAPh/AAAAAAAA+H8AAAAAAAD4fwAAAAAAAPh/AAAAAAAA+H8AAAAAAAD4fwAAAAAAAPh/AAAAAAAA+H8AAAAAAAD4fwAAAAAAAPh/AAAAAAAA+H8AAAAAAAD4fwAAAAAAAPh/AAAAAAAA+H8AAAAAAAD4fwAAAAAAAPh/AAAAAAAA+H8AAAAAAAD4fwAAAAAAAPh/AAAAAAAA+H8AAAAAAAD4fwAAAAAAAPh/AAAAAAAA+H8AAAAAAAD4fwAAAAAAAPh/AAAAAAAA+H8AAAAAAAD4fwAAAAAAAPh/AAAAAAAA+H8AAAAAAAD4fwAAAAAAAPh/AAAAAAAA+H+DL0ymCqZAQIQNT6+UxUBA/Knx0k3iQEB4eqUsQ/xAQPYoXI/CFUFAVOOlm8QwQUAsZRniWEdBQOMUHcnlX0FAHA3gLZCAQUBYObTIdp5BQByeXinLwEFA9pfdk4flQUBDrWnecQpCQP7UeOkmMUJAmpmZmZlpQkAfFmpN865CQF+6SQwC60JAUdobfGEiQ0C+MJkqGFVDQCsYldQJiENAEaW9wRe2Q0BrK/aX3eNDQJXUCWgiDERAGJXUCWgyREC/nxov3VREQGSqYFRSd0RA2F92Tx6WRECx4emVsrxEQP32deCc4URAwMqhRbYDRUCOBvAWSCBFQLHh6ZWyTEVA6Pup8dJ9RUD35GGh1pRFQKBns+pzpUVAMuauJeTDRUD/snvysPBFQEqdgCbCFkZAZMxdS8g3RkBkO99PjWdGQFafq63Yn0ZAhqdXyjLkRkCOU3Qklx9HQKwcWmQ7X0dAWmQ730+dR0C4HoXrUdhHQMB9HThnFEhArdhfdk9OSECkvcEXJpNIQD9XW7G/zEhAHHxhMlUQSUC62or9ZVdJQNJvXwfOmUlAvcEXJlPlSUAFNBE2PC1KQFN0JJf/cEpAcayL22jASkClvcEXJhNLQDF3LSEfZEtA3wIJih+zS0D9h/Tb1wFMQLaEfNCzOUxAdwskKH5sTEAv3SQGgaVMQL8OnDOi1ExAINJvXwf+TECyne+nxitNQIXJVMGoVE1A+MJkqmCETUAdWmQ7369NQI2XbhKD4E1AWDm0yHYeTkB9HThnRFlOQH37OnDOiE5AcayL22iwTkAgQfFjzM1OQBgEVg4t8k5A7cA5I0obT0BSBaOSOkFPQJsIG55eaU9AsgxxrIuLT0DIBz2bVZ9PQCh+jLlrqU9A2qz6XG3FT0AzMzMzM9NPQNuK/WX31E9Axty1hHzQT0Cye/KwUNtPQIanV8oy9E9AbAn5oGfzT0Aa4lgXt/FPQEm/fR04509Au7iNBvDmT0DMEMe6uO1PQBx8YTJVAFBAo7Q3+MIMUEBGA3gLJBhQQMSxLm6jIVBA7OI2GsArUEAvTKYKRj1QQHDOiNLeSFBALbKd76dOUEAukKD4MVZQQBgmUwWjUlBAWFuxv+xOUED6D+m3r0tQQA96Nqs+R1BAJ6CJsOE5UEC1pnnHKTJQQN4CCYofI1BAp+hILv8RUEByGw3gLQhQQCyHFtnO909APE7RkVzOT0CRD3o2q55PQIUNT6+UdU9ASHL5D+lHT0DFILByaCFPQIAmwoan905AONbFbTTQTkBSSZ2AJqJOQCH99nXgbE5AIY51cRs9TkD3Bl+YTCVOQGDl0CLbGU5ANKK0N/gSTkBAxty1hPxNQCagibDh2U1AMnctIR+0TUA730+Nl45NQK5p3nGKbk1AeHqlLENMTUDvycNCrRlNQITAyqFF1kxAhslUwai0TEDDhqdXyoJMQFr1udqKXUxA6Pup8dItTEC4jQbwFvhLQHbgnBGlzUtACF+YTBWcS0DRs1n1uWpLQBi30QDeMktAs3vysFDrSkAawFsgQaFKQGwJ+aBnU0pABqOSOgENSkCcM6K0N8hJQOoENBE2fElA9ihcj8IlSUDqBDQRNtxIQH+MuWsJmUhAzvdT46VbSEAE54wo7S1IQGQ730+NB0hACfmgZ7PqR0AzMzMzM8NHQGRd3EYDqEdA7MA5I0qLR0DEILByaIFHQCgPC7WmeUdAIY51cRttR0ARx7q4jWZHQFyPwvUobEdANxrAWyBxR0AlBoGVQ2tHQLdAguLHaEdA5dAi2/luR0BgmEwVjHpHQPH0SlmGiEdACRueXimbR0DyY8xdS6hHQEhy+Q/pt0dAqmBUUifAR0Ch1jTvOMVHQBE2PL1S1kdAaCJseHr1R0DtL7snDxtIQClcj8L1SEhALiEf9Gx2SEB7gy9MpppIQNuK/WX3xEhA+MJkqmAESUDswDkjSktJQNy1hHzQg0lApgpGJXXCSUDNzMzMzPxJQOj7qfHSPUpAIGPuWkJ+SkDhnBGlvcFKQAWBlUOLDEtAppvEILBSS0C8UpYhjpVLQO0NvjCZ2ktAUwWjkjoRTEBztRX7y05MQG00gLdAgkxA3LWEfNCzTECoxks3ieFMQPT91HjpBk1AgEi/fR0oTUCoV8oyxFFNQHSTGARWfk1Ak6mCUUmtTUCsrdhfdt9NQOQ2GsBbAE5ALBiV1AkoTkAc6+I2GlBOQHO1FfvLbk5AGy/dJAaRTkBuNIC3QLJOQNGzWfW52k5ASHL5D+kHT0CWIY51cStPQD81XrpJXE9AMlUwKqmjT0BDPujZrOpPQP+ye/KwGFBAPujZrPo8UEBaZDvfT1VQQDMzMzMzc1BAWmQ730+VUEDeAgmKH7NQQJ2AJsKGz1BAklz+Q/rtUEAfhetRuAZRQJyiI7n8F1FAr7Zif9klUUDarPpcbTVRQFD8GHPXSlFAB1+YTBVkUUAmdQKaCHtRQFK4HoXrkVFAih9j7lq6UUDzQc9m1ddRQJYhjnVx81FAodY07zgNUkCTGARWDi1SQPMf0m9fR1JAufyH9NtfUkA=",
          "dtype": "f8"
         },
         "yaxis": "y"
        }
       ],
       "layout": {
        "annotations": [
         {
          "font": {
           "size": 8
          },
          "showarrow": false,
          "text": "Date: 2025-09-09, Open:88.16, High:88.2, Low:84.53, Close: 86.01",
          "x": 0.01,
          "xref": "x domain",
          "y": 1,
          "yref": "y domain"
         }
        ],
        "height": 400,
        "legend": {
         "font": {
          "size": 8
         },
         "title": {
          "font": {
           "family": "Arial"
          }
         }
        },
        "template": {
         "data": {
          "bar": [
           {
            "error_x": {
             "color": "#2a3f5f"
            },
            "error_y": {
             "color": "#2a3f5f"
            },
            "marker": {
             "line": {
              "color": "#E5ECF6",
              "width": 0.5
             },
             "pattern": {
              "fillmode": "overlay",
              "size": 10,
              "solidity": 0.2
             }
            },
            "type": "bar"
           }
          ],
          "barpolar": [
           {
            "marker": {
             "line": {
              "color": "#E5ECF6",
              "width": 0.5
             },
             "pattern": {
              "fillmode": "overlay",
              "size": 10,
              "solidity": 0.2
             }
            },
            "type": "barpolar"
           }
          ],
          "carpet": [
           {
            "aaxis": {
             "endlinecolor": "#2a3f5f",
             "gridcolor": "white",
             "linecolor": "white",
             "minorgridcolor": "white",
             "startlinecolor": "#2a3f5f"
            },
            "baxis": {
             "endlinecolor": "#2a3f5f",
             "gridcolor": "white",
             "linecolor": "white",
             "minorgridcolor": "white",
             "startlinecolor": "#2a3f5f"
            },
            "type": "carpet"
           }
          ],
          "choropleth": [
           {
            "colorbar": {
             "outlinewidth": 0,
             "ticks": ""
            },
            "type": "choropleth"
           }
          ],
          "contour": [
           {
            "colorbar": {
             "outlinewidth": 0,
             "ticks": ""
            },
            "colorscale": [
             [
              0,
              "#0d0887"
             ],
             [
              0.1111111111111111,
              "#46039f"
             ],
             [
              0.2222222222222222,
              "#7201a8"
             ],
             [
              0.3333333333333333,
              "#9c179e"
             ],
             [
              0.4444444444444444,
              "#bd3786"
             ],
             [
              0.5555555555555556,
              "#d8576b"
             ],
             [
              0.6666666666666666,
              "#ed7953"
             ],
             [
              0.7777777777777778,
              "#fb9f3a"
             ],
             [
              0.8888888888888888,
              "#fdca26"
             ],
             [
              1,
              "#f0f921"
             ]
            ],
            "type": "contour"
           }
          ],
          "contourcarpet": [
           {
            "colorbar": {
             "outlinewidth": 0,
             "ticks": ""
            },
            "type": "contourcarpet"
           }
          ],
          "heatmap": [
           {
            "colorbar": {
             "outlinewidth": 0,
             "ticks": ""
            },
            "colorscale": [
             [
              0,
              "#0d0887"
             ],
             [
              0.1111111111111111,
              "#46039f"
             ],
             [
              0.2222222222222222,
              "#7201a8"
             ],
             [
              0.3333333333333333,
              "#9c179e"
             ],
             [
              0.4444444444444444,
              "#bd3786"
             ],
             [
              0.5555555555555556,
              "#d8576b"
             ],
             [
              0.6666666666666666,
              "#ed7953"
             ],
             [
              0.7777777777777778,
              "#fb9f3a"
             ],
             [
              0.8888888888888888,
              "#fdca26"
             ],
             [
              1,
              "#f0f921"
             ]
            ],
            "type": "heatmap"
           }
          ],
          "histogram": [
           {
            "marker": {
             "pattern": {
              "fillmode": "overlay",
              "size": 10,
              "solidity": 0.2
             }
            },
            "type": "histogram"
           }
          ],
          "histogram2d": [
           {
            "colorbar": {
             "outlinewidth": 0,
             "ticks": ""
            },
            "colorscale": [
             [
              0,
              "#0d0887"
             ],
             [
              0.1111111111111111,
              "#46039f"
             ],
             [
              0.2222222222222222,
              "#7201a8"
             ],
             [
              0.3333333333333333,
              "#9c179e"
             ],
             [
              0.4444444444444444,
              "#bd3786"
             ],
             [
              0.5555555555555556,
              "#d8576b"
             ],
             [
              0.6666666666666666,
              "#ed7953"
             ],
             [
              0.7777777777777778,
              "#fb9f3a"
             ],
             [
              0.8888888888888888,
              "#fdca26"
             ],
             [
              1,
              "#f0f921"
             ]
            ],
            "type": "histogram2d"
           }
          ],
          "histogram2dcontour": [
           {
            "colorbar": {
             "outlinewidth": 0,
             "ticks": ""
            },
            "colorscale": [
             [
              0,
              "#0d0887"
             ],
             [
              0.1111111111111111,
              "#46039f"
             ],
             [
              0.2222222222222222,
              "#7201a8"
             ],
             [
              0.3333333333333333,
              "#9c179e"
             ],
             [
              0.4444444444444444,
              "#bd3786"
             ],
             [
              0.5555555555555556,
              "#d8576b"
             ],
             [
              0.6666666666666666,
              "#ed7953"
             ],
             [
              0.7777777777777778,
              "#fb9f3a"
             ],
             [
              0.8888888888888888,
              "#fdca26"
             ],
             [
              1,
              "#f0f921"
             ]
            ],
            "type": "histogram2dcontour"
           }
          ],
          "mesh3d": [
           {
            "colorbar": {
             "outlinewidth": 0,
             "ticks": ""
            },
            "type": "mesh3d"
           }
          ],
          "parcoords": [
           {
            "line": {
             "colorbar": {
              "outlinewidth": 0,
              "ticks": ""
             }
            },
            "type": "parcoords"
           }
          ],
          "pie": [
           {
            "automargin": true,
            "type": "pie"
           }
          ],
          "scatter": [
           {
            "fillpattern": {
             "fillmode": "overlay",
             "size": 10,
             "solidity": 0.2
            },
            "type": "scatter"
           }
          ],
          "scatter3d": [
           {
            "line": {
             "colorbar": {
              "outlinewidth": 0,
              "ticks": ""
             }
            },
            "marker": {
             "colorbar": {
              "outlinewidth": 0,
              "ticks": ""
             }
            },
            "type": "scatter3d"
           }
          ],
          "scattercarpet": [
           {
            "marker": {
             "colorbar": {
              "outlinewidth": 0,
              "ticks": ""
             }
            },
            "type": "scattercarpet"
           }
          ],
          "scattergeo": [
           {
            "marker": {
             "colorbar": {
              "outlinewidth": 0,
              "ticks": ""
             }
            },
            "type": "scattergeo"
           }
          ],
          "scattergl": [
           {
            "marker": {
             "colorbar": {
              "outlinewidth": 0,
              "ticks": ""
             }
            },
            "type": "scattergl"
           }
          ],
          "scattermap": [
           {
            "marker": {
             "colorbar": {
              "outlinewidth": 0,
              "ticks": ""
             }
            },
            "type": "scattermap"
           }
          ],
          "scattermapbox": [
           {
            "marker": {
             "colorbar": {
              "outlinewidth": 0,
              "ticks": ""
             }
            },
            "type": "scattermapbox"
           }
          ],
          "scatterpolar": [
           {
            "marker": {
             "colorbar": {
              "outlinewidth": 0,
              "ticks": ""
             }
            },
            "type": "scatterpolar"
           }
          ],
          "scatterpolargl": [
           {
            "marker": {
             "colorbar": {
              "outlinewidth": 0,
              "ticks": ""
             }
            },
            "type": "scatterpolargl"
           }
          ],
          "scatterternary": [
           {
            "marker": {
             "colorbar": {
              "outlinewidth": 0,
              "ticks": ""
             }
            },
            "type": "scatterternary"
           }
          ],
          "surface": [
           {
            "colorbar": {
             "outlinewidth": 0,
             "ticks": ""
            },
            "colorscale": [
             [
              0,
              "#0d0887"
             ],
             [
              0.1111111111111111,
              "#46039f"
             ],
             [
              0.2222222222222222,
              "#7201a8"
             ],
             [
              0.3333333333333333,
              "#9c179e"
             ],
             [
              0.4444444444444444,
              "#bd3786"
             ],
             [
              0.5555555555555556,
              "#d8576b"
             ],
             [
              0.6666666666666666,
              "#ed7953"
             ],
             [
              0.7777777777777778,
              "#fb9f3a"
             ],
             [
              0.8888888888888888,
              "#fdca26"
             ],
             [
              1,
              "#f0f921"
             ]
            ],
            "type": "surface"
           }
          ],
          "table": [
           {
            "cells": {
             "fill": {
              "color": "#EBF0F8"
             },
             "line": {
              "color": "white"
             }
            },
            "header": {
             "fill": {
              "color": "#C8D4E3"
             },
             "line": {
              "color": "white"
             }
            },
            "type": "table"
           }
          ]
         },
         "layout": {
          "annotationdefaults": {
           "arrowcolor": "#2a3f5f",
           "arrowhead": 0,
           "arrowwidth": 1
          },
          "autotypenumbers": "strict",
          "coloraxis": {
           "colorbar": {
            "outlinewidth": 0,
            "ticks": ""
           }
          },
          "colorscale": {
           "diverging": [
            [
             0,
             "#8e0152"
            ],
            [
             0.1,
             "#c51b7d"
            ],
            [
             0.2,
             "#de77ae"
            ],
            [
             0.3,
             "#f1b6da"
            ],
            [
             0.4,
             "#fde0ef"
            ],
            [
             0.5,
             "#f7f7f7"
            ],
            [
             0.6,
             "#e6f5d0"
            ],
            [
             0.7,
             "#b8e186"
            ],
            [
             0.8,
             "#7fbc41"
            ],
            [
             0.9,
             "#4d9221"
            ],
            [
             1,
             "#276419"
            ]
           ],
           "sequential": [
            [
             0,
             "#0d0887"
            ],
            [
             0.1111111111111111,
             "#46039f"
            ],
            [
             0.2222222222222222,
             "#7201a8"
            ],
            [
             0.3333333333333333,
             "#9c179e"
            ],
            [
             0.4444444444444444,
             "#bd3786"
            ],
            [
             0.5555555555555556,
             "#d8576b"
            ],
            [
             0.6666666666666666,
             "#ed7953"
            ],
            [
             0.7777777777777778,
             "#fb9f3a"
            ],
            [
             0.8888888888888888,
             "#fdca26"
            ],
            [
             1,
             "#f0f921"
            ]
           ],
           "sequentialminus": [
            [
             0,
             "#0d0887"
            ],
            [
             0.1111111111111111,
             "#46039f"
            ],
            [
             0.2222222222222222,
             "#7201a8"
            ],
            [
             0.3333333333333333,
             "#9c179e"
            ],
            [
             0.4444444444444444,
             "#bd3786"
            ],
            [
             0.5555555555555556,
             "#d8576b"
            ],
            [
             0.6666666666666666,
             "#ed7953"
            ],
            [
             0.7777777777777778,
             "#fb9f3a"
            ],
            [
             0.8888888888888888,
             "#fdca26"
            ],
            [
             1,
             "#f0f921"
            ]
           ]
          },
          "colorway": [
           "#636efa",
           "#EF553B",
           "#00cc96",
           "#ab63fa",
           "#FFA15A",
           "#19d3f3",
           "#FF6692",
           "#B6E880",
           "#FF97FF",
           "#FECB52"
          ],
          "font": {
           "color": "#2a3f5f"
          },
          "geo": {
           "bgcolor": "white",
           "lakecolor": "white",
           "landcolor": "#E5ECF6",
           "showlakes": true,
           "showland": true,
           "subunitcolor": "white"
          },
          "hoverlabel": {
           "align": "left"
          },
          "hovermode": "closest",
          "mapbox": {
           "style": "light"
          },
          "paper_bgcolor": "white",
          "plot_bgcolor": "#E5ECF6",
          "polar": {
           "angularaxis": {
            "gridcolor": "white",
            "linecolor": "white",
            "ticks": ""
           },
           "bgcolor": "#E5ECF6",
           "radialaxis": {
            "gridcolor": "white",
            "linecolor": "white",
            "ticks": ""
           }
          },
          "scene": {
           "xaxis": {
            "backgroundcolor": "#E5ECF6",
            "gridcolor": "white",
            "gridwidth": 2,
            "linecolor": "white",
            "showbackground": true,
            "ticks": "",
            "zerolinecolor": "white"
           },
           "yaxis": {
            "backgroundcolor": "#E5ECF6",
            "gridcolor": "white",
            "gridwidth": 2,
            "linecolor": "white",
            "showbackground": true,
            "ticks": "",
            "zerolinecolor": "white"
           },
           "zaxis": {
            "backgroundcolor": "#E5ECF6",
            "gridcolor": "white",
            "gridwidth": 2,
            "linecolor": "white",
            "showbackground": true,
            "ticks": "",
            "zerolinecolor": "white"
           }
          },
          "shapedefaults": {
           "line": {
            "color": "#2a3f5f"
           }
          },
          "ternary": {
           "aaxis": {
            "gridcolor": "white",
            "linecolor": "white",
            "ticks": ""
           },
           "baxis": {
            "gridcolor": "white",
            "linecolor": "white",
            "ticks": ""
           },
           "bgcolor": "#E5ECF6",
           "caxis": {
            "gridcolor": "white",
            "linecolor": "white",
            "ticks": ""
           }
          },
          "title": {
           "x": 0.05
          },
          "xaxis": {
           "automargin": true,
           "gridcolor": "white",
           "linecolor": "white",
           "ticks": "",
           "title": {
            "standoff": 15
           },
           "zerolinecolor": "white",
           "zerolinewidth": 2
          },
          "yaxis": {
           "automargin": true,
           "gridcolor": "white",
           "linecolor": "white",
           "ticks": "",
           "title": {
            "standoff": 15
           },
           "zerolinecolor": "white",
           "zerolinewidth": 2
          }
         }
        },
        "title": {
         "text": "TOP 20",
         "x": 0.5
        },
        "width": 600,
        "xaxis": {
         "anchor": "y",
         "domain": [
          0,
          0.94
         ]
        },
        "yaxis": {
         "anchor": "x",
         "domain": [
          0,
          1
         ],
         "side": "right"
        },
        "yaxis2": {
         "anchor": "x",
         "overlaying": "y",
         "side": "right"
        }
       }
      }
     },
     "metadata": {},
     "output_type": "display_data"
    },
    {
     "data": {
      "application/vnd.plotly.v1+json": {
       "config": {
        "plotlyServerURL": "https://plot.ly"
       },
       "data": [
        {
         "name": "UNH: 25.14 %",
         "type": "scatter",
         "x": [
          "2024-07-16",
          "2024-07-17",
          "2024-07-18",
          "2024-07-19",
          "2024-07-22",
          "2024-07-23",
          "2024-07-24",
          "2024-07-25",
          "2024-07-26",
          "2024-07-29",
          "2024-07-30",
          "2024-07-31",
          "2024-08-01",
          "2024-08-02",
          "2024-08-05",
          "2024-08-06",
          "2024-08-07",
          "2024-08-08",
          "2024-08-09",
          "2024-08-12",
          "2024-08-13",
          "2024-08-14",
          "2024-08-15",
          "2024-08-16",
          "2024-08-19",
          "2024-08-20",
          "2024-08-21",
          "2024-08-22",
          "2024-08-23",
          "2024-08-26",
          "2024-08-27",
          "2024-08-28",
          "2024-08-29",
          "2024-08-30",
          "2024-09-03",
          "2024-09-04",
          "2024-09-05",
          "2024-09-06",
          "2024-09-09",
          "2024-09-10",
          "2024-09-11",
          "2024-09-12",
          "2024-09-13",
          "2024-09-16",
          "2024-09-17",
          "2024-09-18",
          "2024-09-19",
          "2024-09-20",
          "2024-09-23",
          "2024-09-24",
          "2024-09-25",
          "2024-09-26",
          "2024-09-27",
          "2024-09-30",
          "2024-10-01",
          "2024-10-02",
          "2024-10-03",
          "2024-10-04",
          "2024-10-07",
          "2024-10-08",
          "2024-10-09",
          "2024-10-10",
          "2024-10-11",
          "2024-10-14",
          "2024-10-15",
          "2024-10-16",
          "2024-10-17",
          "2024-10-18",
          "2024-10-21",
          "2024-10-22",
          "2024-10-23",
          "2024-10-24",
          "2024-10-25",
          "2024-10-28",
          "2024-10-29",
          "2024-10-30",
          "2024-10-31",
          "2024-11-01",
          "2024-11-04",
          "2024-11-05",
          "2024-11-06",
          "2024-11-07",
          "2024-11-08",
          "2024-11-11",
          "2024-11-12",
          "2024-11-13",
          "2024-11-14",
          "2024-11-15",
          "2024-11-18",
          "2024-11-19",
          "2024-11-20",
          "2024-11-21",
          "2024-11-22",
          "2024-11-25",
          "2024-11-26",
          "2024-11-27",
          "2024-11-29",
          "2024-12-02",
          "2024-12-03",
          "2024-12-04",
          "2024-12-05",
          "2024-12-06",
          "2024-12-09",
          "2024-12-10",
          "2024-12-11",
          "2024-12-12",
          "2024-12-13",
          "2024-12-16",
          "2024-12-17",
          "2024-12-18",
          "2024-12-19",
          "2024-12-20",
          "2024-12-23",
          "2024-12-24",
          "2024-12-26",
          "2024-12-27",
          "2024-12-30",
          "2024-12-31",
          "2025-01-02",
          "2025-01-03",
          "2025-01-06",
          "2025-01-07",
          "2025-01-08",
          "2025-01-10",
          "2025-01-13",
          "2025-01-14",
          "2025-01-15",
          "2025-01-16",
          "2025-01-17",
          "2025-01-21",
          "2025-01-22",
          "2025-01-23",
          "2025-01-24",
          "2025-01-27",
          "2025-01-28",
          "2025-01-29",
          "2025-01-30",
          "2025-01-31",
          "2025-02-03",
          "2025-02-04",
          "2025-02-05",
          "2025-02-06",
          "2025-02-07",
          "2025-02-10",
          "2025-02-11",
          "2025-02-12",
          "2025-02-13",
          "2025-02-14",
          "2025-02-18",
          "2025-02-19",
          "2025-02-20",
          "2025-02-21",
          "2025-02-24",
          "2025-02-25",
          "2025-02-26",
          "2025-02-27",
          "2025-02-28",
          "2025-03-03",
          "2025-03-04",
          "2025-03-05",
          "2025-03-06",
          "2025-03-07",
          "2025-03-10",
          "2025-03-11",
          "2025-03-12",
          "2025-03-13",
          "2025-03-14",
          "2025-03-17",
          "2025-03-18",
          "2025-03-19",
          "2025-03-20",
          "2025-03-21",
          "2025-03-24",
          "2025-03-25",
          "2025-03-26",
          "2025-03-27",
          "2025-03-28",
          "2025-03-31",
          "2025-04-01",
          "2025-04-02",
          "2025-04-03",
          "2025-04-04",
          "2025-04-07",
          "2025-04-08",
          "2025-04-09",
          "2025-04-10",
          "2025-04-11",
          "2025-04-14",
          "2025-04-15",
          "2025-04-16",
          "2025-04-17",
          "2025-04-21",
          "2025-04-22",
          "2025-04-23",
          "2025-04-24",
          "2025-04-25",
          "2025-04-28",
          "2025-04-29",
          "2025-04-30",
          "2025-05-01",
          "2025-05-02",
          "2025-05-05",
          "2025-05-06",
          "2025-05-07",
          "2025-05-08",
          "2025-05-09",
          "2025-05-12",
          "2025-05-13",
          "2025-05-14",
          "2025-05-15",
          "2025-05-16",
          "2025-05-19",
          "2025-05-20",
          "2025-05-21",
          "2025-05-22",
          "2025-05-23",
          "2025-05-27",
          "2025-05-28",
          "2025-05-29",
          "2025-05-30",
          "2025-06-02",
          "2025-06-03",
          "2025-06-04",
          "2025-06-05",
          "2025-06-06",
          "2025-06-09",
          "2025-06-10",
          "2025-06-11",
          "2025-06-12",
          "2025-06-13",
          "2025-06-16",
          "2025-06-17",
          "2025-06-18",
          "2025-06-20",
          "2025-06-23",
          "2025-06-24",
          "2025-06-25",
          "2025-06-26",
          "2025-06-27",
          "2025-06-30",
          "2025-07-01",
          "2025-07-02",
          "2025-07-03",
          "2025-07-07",
          "2025-07-08",
          "2025-07-09",
          "2025-07-10",
          "2025-07-11",
          "2025-07-14",
          "2025-07-15",
          "2025-07-16",
          "2025-07-17",
          "2025-07-18",
          "2025-07-21",
          "2025-07-22",
          "2025-07-23",
          "2025-07-24",
          "2025-07-25",
          "2025-07-28",
          "2025-07-29",
          "2025-07-30",
          "2025-07-31",
          "2025-08-01",
          "2025-08-04",
          "2025-08-05",
          "2025-08-06",
          "2025-08-07",
          "2025-08-08",
          "2025-08-11",
          "2025-08-12",
          "2025-08-13",
          "2025-08-14",
          "2025-08-15",
          "2025-08-18",
          "2025-08-19",
          "2025-08-20",
          "2025-08-21",
          "2025-08-22",
          "2025-08-25",
          "2025-08-26",
          "2025-08-27",
          "2025-08-28",
          "2025-08-29",
          "2025-09-02",
          "2025-09-03",
          "2025-09-04",
          "2025-09-05",
          "2025-09-08",
          "2025-09-09"
         ],
         "xaxis": "x",
         "y": {
          "bdata": "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",
          "dtype": "f8"
         },
         "yaxis": "y"
        },
        {
         "name": "SMA 50",
         "type": "scatter",
         "x": [
          "2024-07-16",
          "2024-07-17",
          "2024-07-18",
          "2024-07-19",
          "2024-07-22",
          "2024-07-23",
          "2024-07-24",
          "2024-07-25",
          "2024-07-26",
          "2024-07-29",
          "2024-07-30",
          "2024-07-31",
          "2024-08-01",
          "2024-08-02",
          "2024-08-05",
          "2024-08-06",
          "2024-08-07",
          "2024-08-08",
          "2024-08-09",
          "2024-08-12",
          "2024-08-13",
          "2024-08-14",
          "2024-08-15",
          "2024-08-16",
          "2024-08-19",
          "2024-08-20",
          "2024-08-21",
          "2024-08-22",
          "2024-08-23",
          "2024-08-26",
          "2024-08-27",
          "2024-08-28",
          "2024-08-29",
          "2024-08-30",
          "2024-09-03",
          "2024-09-04",
          "2024-09-05",
          "2024-09-06",
          "2024-09-09",
          "2024-09-10",
          "2024-09-11",
          "2024-09-12",
          "2024-09-13",
          "2024-09-16",
          "2024-09-17",
          "2024-09-18",
          "2024-09-19",
          "2024-09-20",
          "2024-09-23",
          "2024-09-24",
          "2024-09-25",
          "2024-09-26",
          "2024-09-27",
          "2024-09-30",
          "2024-10-01",
          "2024-10-02",
          "2024-10-03",
          "2024-10-04",
          "2024-10-07",
          "2024-10-08",
          "2024-10-09",
          "2024-10-10",
          "2024-10-11",
          "2024-10-14",
          "2024-10-15",
          "2024-10-16",
          "2024-10-17",
          "2024-10-18",
          "2024-10-21",
          "2024-10-22",
          "2024-10-23",
          "2024-10-24",
          "2024-10-25",
          "2024-10-28",
          "2024-10-29",
          "2024-10-30",
          "2024-10-31",
          "2024-11-01",
          "2024-11-04",
          "2024-11-05",
          "2024-11-06",
          "2024-11-07",
          "2024-11-08",
          "2024-11-11",
          "2024-11-12",
          "2024-11-13",
          "2024-11-14",
          "2024-11-15",
          "2024-11-18",
          "2024-11-19",
          "2024-11-20",
          "2024-11-21",
          "2024-11-22",
          "2024-11-25",
          "2024-11-26",
          "2024-11-27",
          "2024-11-29",
          "2024-12-02",
          "2024-12-03",
          "2024-12-04",
          "2024-12-05",
          "2024-12-06",
          "2024-12-09",
          "2024-12-10",
          "2024-12-11",
          "2024-12-12",
          "2024-12-13",
          "2024-12-16",
          "2024-12-17",
          "2024-12-18",
          "2024-12-19",
          "2024-12-20",
          "2024-12-23",
          "2024-12-24",
          "2024-12-26",
          "2024-12-27",
          "2024-12-30",
          "2024-12-31",
          "2025-01-02",
          "2025-01-03",
          "2025-01-06",
          "2025-01-07",
          "2025-01-08",
          "2025-01-10",
          "2025-01-13",
          "2025-01-14",
          "2025-01-15",
          "2025-01-16",
          "2025-01-17",
          "2025-01-21",
          "2025-01-22",
          "2025-01-23",
          "2025-01-24",
          "2025-01-27",
          "2025-01-28",
          "2025-01-29",
          "2025-01-30",
          "2025-01-31",
          "2025-02-03",
          "2025-02-04",
          "2025-02-05",
          "2025-02-06",
          "2025-02-07",
          "2025-02-10",
          "2025-02-11",
          "2025-02-12",
          "2025-02-13",
          "2025-02-14",
          "2025-02-18",
          "2025-02-19",
          "2025-02-20",
          "2025-02-21",
          "2025-02-24",
          "2025-02-25",
          "2025-02-26",
          "2025-02-27",
          "2025-02-28",
          "2025-03-03",
          "2025-03-04",
          "2025-03-05",
          "2025-03-06",
          "2025-03-07",
          "2025-03-10",
          "2025-03-11",
          "2025-03-12",
          "2025-03-13",
          "2025-03-14",
          "2025-03-17",
          "2025-03-18",
          "2025-03-19",
          "2025-03-20",
          "2025-03-21",
          "2025-03-24",
          "2025-03-25",
          "2025-03-26",
          "2025-03-27",
          "2025-03-28",
          "2025-03-31",
          "2025-04-01",
          "2025-04-02",
          "2025-04-03",
          "2025-04-04",
          "2025-04-07",
          "2025-04-08",
          "2025-04-09",
          "2025-04-10",
          "2025-04-11",
          "2025-04-14",
          "2025-04-15",
          "2025-04-16",
          "2025-04-17",
          "2025-04-21",
          "2025-04-22",
          "2025-04-23",
          "2025-04-24",
          "2025-04-25",
          "2025-04-28",
          "2025-04-29",
          "2025-04-30",
          "2025-05-01",
          "2025-05-02",
          "2025-05-05",
          "2025-05-06",
          "2025-05-07",
          "2025-05-08",
          "2025-05-09",
          "2025-05-12",
          "2025-05-13",
          "2025-05-14",
          "2025-05-15",
          "2025-05-16",
          "2025-05-19",
          "2025-05-20",
          "2025-05-21",
          "2025-05-22",
          "2025-05-23",
          "2025-05-27",
          "2025-05-28",
          "2025-05-29",
          "2025-05-30",
          "2025-06-02",
          "2025-06-03",
          "2025-06-04",
          "2025-06-05",
          "2025-06-06",
          "2025-06-09",
          "2025-06-10",
          "2025-06-11",
          "2025-06-12",
          "2025-06-13",
          "2025-06-16",
          "2025-06-17",
          "2025-06-18",
          "2025-06-20",
          "2025-06-23",
          "2025-06-24",
          "2025-06-25",
          "2025-06-26",
          "2025-06-27",
          "2025-06-30",
          "2025-07-01",
          "2025-07-02",
          "2025-07-03",
          "2025-07-07",
          "2025-07-08",
          "2025-07-09",
          "2025-07-10",
          "2025-07-11",
          "2025-07-14",
          "2025-07-15",
          "2025-07-16",
          "2025-07-17",
          "2025-07-18",
          "2025-07-21",
          "2025-07-22",
          "2025-07-23",
          "2025-07-24",
          "2025-07-25",
          "2025-07-28",
          "2025-07-29",
          "2025-07-30",
          "2025-07-31",
          "2025-08-01",
          "2025-08-04",
          "2025-08-05",
          "2025-08-06",
          "2025-08-07",
          "2025-08-08",
          "2025-08-11",
          "2025-08-12",
          "2025-08-13",
          "2025-08-14",
          "2025-08-15",
          "2025-08-18",
          "2025-08-19",
          "2025-08-20",
          "2025-08-21",
          "2025-08-22",
          "2025-08-25",
          "2025-08-26",
          "2025-08-27",
          "2025-08-28",
          "2025-08-29",
          "2025-09-02",
          "2025-09-03",
          "2025-09-04",
          "2025-09-05",
          "2025-09-08",
          "2025-09-09"
         ],
         "xaxis": "x",
         "y": {
          "bdata": "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",
          "dtype": "f8"
         },
         "yaxis": "y"
        }
       ],
       "layout": {
        "annotations": [
         {
          "font": {
           "size": 8
          },
          "showarrow": false,
          "text": "Date: 2025-09-09, Open:349.01, High:351.71, Low:327.22, Close: 332.5",
          "x": 0.01,
          "xref": "x domain",
          "y": 1,
          "yref": "y domain"
         }
        ],
        "height": 400,
        "legend": {
         "font": {
          "size": 8
         },
         "title": {
          "font": {
           "family": "Arial"
          }
         }
        },
        "template": {
         "data": {
          "bar": [
           {
            "error_x": {
             "color": "#2a3f5f"
            },
            "error_y": {
             "color": "#2a3f5f"
            },
            "marker": {
             "line": {
              "color": "#E5ECF6",
              "width": 0.5
             },
             "pattern": {
              "fillmode": "overlay",
              "size": 10,
              "solidity": 0.2
             }
            },
            "type": "bar"
           }
          ],
          "barpolar": [
           {
            "marker": {
             "line": {
              "color": "#E5ECF6",
              "width": 0.5
             },
             "pattern": {
              "fillmode": "overlay",
              "size": 10,
              "solidity": 0.2
             }
            },
            "type": "barpolar"
           }
          ],
          "carpet": [
           {
            "aaxis": {
             "endlinecolor": "#2a3f5f",
             "gridcolor": "white",
             "linecolor": "white",
             "minorgridcolor": "white",
             "startlinecolor": "#2a3f5f"
            },
            "baxis": {
             "endlinecolor": "#2a3f5f",
             "gridcolor": "white",
             "linecolor": "white",
             "minorgridcolor": "white",
             "startlinecolor": "#2a3f5f"
            },
            "type": "carpet"
           }
          ],
          "choropleth": [
           {
            "colorbar": {
             "outlinewidth": 0,
             "ticks": ""
            },
            "type": "choropleth"
           }
          ],
          "contour": [
           {
            "colorbar": {
             "outlinewidth": 0,
             "ticks": ""
            },
            "colorscale": [
             [
              0,
              "#0d0887"
             ],
             [
              0.1111111111111111,
              "#46039f"
             ],
             [
              0.2222222222222222,
              "#7201a8"
             ],
             [
              0.3333333333333333,
              "#9c179e"
             ],
             [
              0.4444444444444444,
              "#bd3786"
             ],
             [
              0.5555555555555556,
              "#d8576b"
             ],
             [
              0.6666666666666666,
              "#ed7953"
             ],
             [
              0.7777777777777778,
              "#fb9f3a"
             ],
             [
              0.8888888888888888,
              "#fdca26"
             ],
             [
              1,
              "#f0f921"
             ]
            ],
            "type": "contour"
           }
          ],
          "contourcarpet": [
           {
            "colorbar": {
             "outlinewidth": 0,
             "ticks": ""
            },
            "type": "contourcarpet"
           }
          ],
          "heatmap": [
           {
            "colorbar": {
             "outlinewidth": 0,
             "ticks": ""
            },
            "colorscale": [
             [
              0,
              "#0d0887"
             ],
             [
              0.1111111111111111,
              "#46039f"
             ],
             [
              0.2222222222222222,
              "#7201a8"
             ],
             [
              0.3333333333333333,
              "#9c179e"
             ],
             [
              0.4444444444444444,
              "#bd3786"
             ],
             [
              0.5555555555555556,
              "#d8576b"
             ],
             [
              0.6666666666666666,
              "#ed7953"
             ],
             [
              0.7777777777777778,
              "#fb9f3a"
             ],
             [
              0.8888888888888888,
              "#fdca26"
             ],
             [
              1,
              "#f0f921"
             ]
            ],
            "type": "heatmap"
           }
          ],
          "histogram": [
           {
            "marker": {
             "pattern": {
              "fillmode": "overlay",
              "size": 10,
              "solidity": 0.2
             }
            },
            "type": "histogram"
           }
          ],
          "histogram2d": [
           {
            "colorbar": {
             "outlinewidth": 0,
             "ticks": ""
            },
            "colorscale": [
             [
              0,
              "#0d0887"
             ],
             [
              0.1111111111111111,
              "#46039f"
             ],
             [
              0.2222222222222222,
              "#7201a8"
             ],
             [
              0.3333333333333333,
              "#9c179e"
             ],
             [
              0.4444444444444444,
              "#bd3786"
             ],
             [
              0.5555555555555556,
              "#d8576b"
             ],
             [
              0.6666666666666666,
              "#ed7953"
             ],
             [
              0.7777777777777778,
              "#fb9f3a"
             ],
             [
              0.8888888888888888,
              "#fdca26"
             ],
             [
              1,
              "#f0f921"
             ]
            ],
            "type": "histogram2d"
           }
          ],
          "histogram2dcontour": [
           {
            "colorbar": {
             "outlinewidth": 0,
             "ticks": ""
            },
            "colorscale": [
             [
              0,
              "#0d0887"
             ],
             [
              0.1111111111111111,
              "#46039f"
             ],
             [
              0.2222222222222222,
              "#7201a8"
             ],
             [
              0.3333333333333333,
              "#9c179e"
             ],
             [
              0.4444444444444444,
              "#bd3786"
             ],
             [
              0.5555555555555556,
              "#d8576b"
             ],
             [
              0.6666666666666666,
              "#ed7953"
             ],
             [
              0.7777777777777778,
              "#fb9f3a"
             ],
             [
              0.8888888888888888,
              "#fdca26"
             ],
             [
              1,
              "#f0f921"
             ]
            ],
            "type": "histogram2dcontour"
           }
          ],
          "mesh3d": [
           {
            "colorbar": {
             "outlinewidth": 0,
             "ticks": ""
            },
            "type": "mesh3d"
           }
          ],
          "parcoords": [
           {
            "line": {
             "colorbar": {
              "outlinewidth": 0,
              "ticks": ""
             }
            },
            "type": "parcoords"
           }
          ],
          "pie": [
           {
            "automargin": true,
            "type": "pie"
           }
          ],
          "scatter": [
           {
            "fillpattern": {
             "fillmode": "overlay",
             "size": 10,
             "solidity": 0.2
            },
            "type": "scatter"
           }
          ],
          "scatter3d": [
           {
            "line": {
             "colorbar": {
              "outlinewidth": 0,
              "ticks": ""
             }
            },
            "marker": {
             "colorbar": {
              "outlinewidth": 0,
              "ticks": ""
             }
            },
            "type": "scatter3d"
           }
          ],
          "scattercarpet": [
           {
            "marker": {
             "colorbar": {
              "outlinewidth": 0,
              "ticks": ""
             }
            },
            "type": "scattercarpet"
           }
          ],
          "scattergeo": [
           {
            "marker": {
             "colorbar": {
              "outlinewidth": 0,
              "ticks": ""
             }
            },
            "type": "scattergeo"
           }
          ],
          "scattergl": [
           {
            "marker": {
             "colorbar": {
              "outlinewidth": 0,
              "ticks": ""
             }
            },
            "type": "scattergl"
           }
          ],
          "scattermap": [
           {
            "marker": {
             "colorbar": {
              "outlinewidth": 0,
              "ticks": ""
             }
            },
            "type": "scattermap"
           }
          ],
          "scattermapbox": [
           {
            "marker": {
             "colorbar": {
              "outlinewidth": 0,
              "ticks": ""
             }
            },
            "type": "scattermapbox"
           }
          ],
          "scatterpolar": [
           {
            "marker": {
             "colorbar": {
              "outlinewidth": 0,
              "ticks": ""
             }
            },
            "type": "scatterpolar"
           }
          ],
          "scatterpolargl": [
           {
            "marker": {
             "colorbar": {
              "outlinewidth": 0,
              "ticks": ""
             }
            },
            "type": "scatterpolargl"
           }
          ],
          "scatterternary": [
           {
            "marker": {
             "colorbar": {
              "outlinewidth": 0,
              "ticks": ""
             }
            },
            "type": "scatterternary"
           }
          ],
          "surface": [
           {
            "colorbar": {
             "outlinewidth": 0,
             "ticks": ""
            },
            "colorscale": [
             [
              0,
              "#0d0887"
             ],
             [
              0.1111111111111111,
              "#46039f"
             ],
             [
              0.2222222222222222,
              "#7201a8"
             ],
             [
              0.3333333333333333,
              "#9c179e"
             ],
             [
              0.4444444444444444,
              "#bd3786"
             ],
             [
              0.5555555555555556,
              "#d8576b"
             ],
             [
              0.6666666666666666,
              "#ed7953"
             ],
             [
              0.7777777777777778,
              "#fb9f3a"
             ],
             [
              0.8888888888888888,
              "#fdca26"
             ],
             [
              1,
              "#f0f921"
             ]
            ],
            "type": "surface"
           }
          ],
          "table": [
           {
            "cells": {
             "fill": {
              "color": "#EBF0F8"
             },
             "line": {
              "color": "white"
             }
            },
            "header": {
             "fill": {
              "color": "#C8D4E3"
             },
             "line": {
              "color": "white"
             }
            },
            "type": "table"
           }
          ]
         },
         "layout": {
          "annotationdefaults": {
           "arrowcolor": "#2a3f5f",
           "arrowhead": 0,
           "arrowwidth": 1
          },
          "autotypenumbers": "strict",
          "coloraxis": {
           "colorbar": {
            "outlinewidth": 0,
            "ticks": ""
           }
          },
          "colorscale": {
           "diverging": [
            [
             0,
             "#8e0152"
            ],
            [
             0.1,
             "#c51b7d"
            ],
            [
             0.2,
             "#de77ae"
            ],
            [
             0.3,
             "#f1b6da"
            ],
            [
             0.4,
             "#fde0ef"
            ],
            [
             0.5,
             "#f7f7f7"
            ],
            [
             0.6,
             "#e6f5d0"
            ],
            [
             0.7,
             "#b8e186"
            ],
            [
             0.8,
             "#7fbc41"
            ],
            [
             0.9,
             "#4d9221"
            ],
            [
             1,
             "#276419"
            ]
           ],
           "sequential": [
            [
             0,
             "#0d0887"
            ],
            [
             0.1111111111111111,
             "#46039f"
            ],
            [
             0.2222222222222222,
             "#7201a8"
            ],
            [
             0.3333333333333333,
             "#9c179e"
            ],
            [
             0.4444444444444444,
             "#bd3786"
            ],
            [
             0.5555555555555556,
             "#d8576b"
            ],
            [
             0.6666666666666666,
             "#ed7953"
            ],
            [
             0.7777777777777778,
             "#fb9f3a"
            ],
            [
             0.8888888888888888,
             "#fdca26"
            ],
            [
             1,
             "#f0f921"
            ]
           ],
           "sequentialminus": [
            [
             0,
             "#0d0887"
            ],
            [
             0.1111111111111111,
             "#46039f"
            ],
            [
             0.2222222222222222,
             "#7201a8"
            ],
            [
             0.3333333333333333,
             "#9c179e"
            ],
            [
             0.4444444444444444,
             "#bd3786"
            ],
            [
             0.5555555555555556,
             "#d8576b"
            ],
            [
             0.6666666666666666,
             "#ed7953"
            ],
            [
             0.7777777777777778,
             "#fb9f3a"
            ],
            [
             0.8888888888888888,
             "#fdca26"
            ],
            [
             1,
             "#f0f921"
            ]
           ]
          },
          "colorway": [
           "#636efa",
           "#EF553B",
           "#00cc96",
           "#ab63fa",
           "#FFA15A",
           "#19d3f3",
           "#FF6692",
           "#B6E880",
           "#FF97FF",
           "#FECB52"
          ],
          "font": {
           "color": "#2a3f5f"
          },
          "geo": {
           "bgcolor": "white",
           "lakecolor": "white",
           "landcolor": "#E5ECF6",
           "showlakes": true,
           "showland": true,
           "subunitcolor": "white"
          },
          "hoverlabel": {
           "align": "left"
          },
          "hovermode": "closest",
          "mapbox": {
           "style": "light"
          },
          "paper_bgcolor": "white",
          "plot_bgcolor": "#E5ECF6",
          "polar": {
           "angularaxis": {
            "gridcolor": "white",
            "linecolor": "white",
            "ticks": ""
           },
           "bgcolor": "#E5ECF6",
           "radialaxis": {
            "gridcolor": "white",
            "linecolor": "white",
            "ticks": ""
           }
          },
          "scene": {
           "xaxis": {
            "backgroundcolor": "#E5ECF6",
            "gridcolor": "white",
            "gridwidth": 2,
            "linecolor": "white",
            "showbackground": true,
            "ticks": "",
            "zerolinecolor": "white"
           },
           "yaxis": {
            "backgroundcolor": "#E5ECF6",
            "gridcolor": "white",
            "gridwidth": 2,
            "linecolor": "white",
            "showbackground": true,
            "ticks": "",
            "zerolinecolor": "white"
           },
           "zaxis": {
            "backgroundcolor": "#E5ECF6",
            "gridcolor": "white",
            "gridwidth": 2,
            "linecolor": "white",
            "showbackground": true,
            "ticks": "",
            "zerolinecolor": "white"
           }
          },
          "shapedefaults": {
           "line": {
            "color": "#2a3f5f"
           }
          },
          "ternary": {
           "aaxis": {
            "gridcolor": "white",
            "linecolor": "white",
            "ticks": ""
           },
           "baxis": {
            "gridcolor": "white",
            "linecolor": "white",
            "ticks": ""
           },
           "bgcolor": "#E5ECF6",
           "caxis": {
            "gridcolor": "white",
            "linecolor": "white",
            "ticks": ""
           }
          },
          "title": {
           "x": 0.05
          },
          "xaxis": {
           "automargin": true,
           "gridcolor": "white",
           "linecolor": "white",
           "ticks": "",
           "title": {
            "standoff": 15
           },
           "zerolinecolor": "white",
           "zerolinewidth": 2
          },
          "yaxis": {
           "automargin": true,
           "gridcolor": "white",
           "linecolor": "white",
           "ticks": "",
           "title": {
            "standoff": 15
           },
           "zerolinecolor": "white",
           "zerolinewidth": 2
          }
         }
        },
        "title": {
         "text": "TOP 20",
         "x": 0.5
        },
        "width": 600,
        "xaxis": {
         "anchor": "y",
         "domain": [
          0,
          0.94
         ]
        },
        "yaxis": {
         "anchor": "x",
         "domain": [
          0,
          1
         ],
         "side": "right"
        },
        "yaxis2": {
         "anchor": "x",
         "overlaying": "y",
         "side": "right"
        }
       }
      }
     },
     "metadata": {},
     "output_type": "display_data"
    },
    {
     "data": {
      "application/vnd.plotly.v1+json": {
       "config": {
        "plotlyServerURL": "https://plot.ly"
       },
       "data": [
        {
         "name": "DHI: 24.62 %",
         "type": "scatter",
         "x": [
          "2024-07-16",
          "2024-07-17",
          "2024-07-18",
          "2024-07-19",
          "2024-07-22",
          "2024-07-23",
          "2024-07-24",
          "2024-07-25",
          "2024-07-26",
          "2024-07-29",
          "2024-07-30",
          "2024-07-31",
          "2024-08-01",
          "2024-08-02",
          "2024-08-05",
          "2024-08-06",
          "2024-08-07",
          "2024-08-08",
          "2024-08-09",
          "2024-08-12",
          "2024-08-13",
          "2024-08-14",
          "2024-08-15",
          "2024-08-16",
          "2024-08-19",
          "2024-08-20",
          "2024-08-21",
          "2024-08-22",
          "2024-08-23",
          "2024-08-26",
          "2024-08-27",
          "2024-08-28",
          "2024-08-29",
          "2024-08-30",
          "2024-09-03",
          "2024-09-04",
          "2024-09-05",
          "2024-09-06",
          "2024-09-09",
          "2024-09-10",
          "2024-09-11",
          "2024-09-12",
          "2024-09-13",
          "2024-09-16",
          "2024-09-17",
          "2024-09-18",
          "2024-09-19",
          "2024-09-20",
          "2024-09-23",
          "2024-09-24",
          "2024-09-25",
          "2024-09-26",
          "2024-09-27",
          "2024-09-30",
          "2024-10-01",
          "2024-10-02",
          "2024-10-03",
          "2024-10-04",
          "2024-10-07",
          "2024-10-08",
          "2024-10-09",
          "2024-10-10",
          "2024-10-11",
          "2024-10-14",
          "2024-10-15",
          "2024-10-16",
          "2024-10-17",
          "2024-10-18",
          "2024-10-21",
          "2024-10-22",
          "2024-10-23",
          "2024-10-24",
          "2024-10-25",
          "2024-10-28",
          "2024-10-29",
          "2024-10-30",
          "2024-10-31",
          "2024-11-01",
          "2024-11-04",
          "2024-11-05",
          "2024-11-06",
          "2024-11-07",
          "2024-11-08",
          "2024-11-11",
          "2024-11-12",
          "2024-11-13",
          "2024-11-14",
          "2024-11-15",
          "2024-11-18",
          "2024-11-19",
          "2024-11-20",
          "2024-11-21",
          "2024-11-22",
          "2024-11-25",
          "2024-11-26",
          "2024-11-27",
          "2024-11-29",
          "2024-12-02",
          "2024-12-03",
          "2024-12-04",
          "2024-12-05",
          "2024-12-06",
          "2024-12-09",
          "2024-12-10",
          "2024-12-11",
          "2024-12-12",
          "2024-12-13",
          "2024-12-16",
          "2024-12-17",
          "2024-12-18",
          "2024-12-19",
          "2024-12-20",
          "2024-12-23",
          "2024-12-24",
          "2024-12-26",
          "2024-12-27",
          "2024-12-30",
          "2024-12-31",
          "2025-01-02",
          "2025-01-03",
          "2025-01-06",
          "2025-01-07",
          "2025-01-08",
          "2025-01-10",
          "2025-01-13",
          "2025-01-14",
          "2025-01-15",
          "2025-01-16",
          "2025-01-17",
          "2025-01-21",
          "2025-01-22",
          "2025-01-23",
          "2025-01-24",
          "2025-01-27",
          "2025-01-28",
          "2025-01-29",
          "2025-01-30",
          "2025-01-31",
          "2025-02-03",
          "2025-02-04",
          "2025-02-05",
          "2025-02-06",
          "2025-02-07",
          "2025-02-10",
          "2025-02-11",
          "2025-02-12",
          "2025-02-13",
          "2025-02-14",
          "2025-02-18",
          "2025-02-19",
          "2025-02-20",
          "2025-02-21",
          "2025-02-24",
          "2025-02-25",
          "2025-02-26",
          "2025-02-27",
          "2025-02-28",
          "2025-03-03",
          "2025-03-04",
          "2025-03-05",
          "2025-03-06",
          "2025-03-07",
          "2025-03-10",
          "2025-03-11",
          "2025-03-12",
          "2025-03-13",
          "2025-03-14",
          "2025-03-17",
          "2025-03-18",
          "2025-03-19",
          "2025-03-20",
          "2025-03-21",
          "2025-03-24",
          "2025-03-25",
          "2025-03-26",
          "2025-03-27",
          "2025-03-28",
          "2025-03-31",
          "2025-04-01",
          "2025-04-02",
          "2025-04-03",
          "2025-04-04",
          "2025-04-07",
          "2025-04-08",
          "2025-04-09",
          "2025-04-10",
          "2025-04-11",
          "2025-04-14",
          "2025-04-15",
          "2025-04-16",
          "2025-04-17",
          "2025-04-21",
          "2025-04-22",
          "2025-04-23",
          "2025-04-24",
          "2025-04-25",
          "2025-04-28",
          "2025-04-29",
          "2025-04-30",
          "2025-05-01",
          "2025-05-02",
          "2025-05-05",
          "2025-05-06",
          "2025-05-07",
          "2025-05-08",
          "2025-05-09",
          "2025-05-12",
          "2025-05-13",
          "2025-05-14",
          "2025-05-15",
          "2025-05-16",
          "2025-05-19",
          "2025-05-20",
          "2025-05-21",
          "2025-05-22",
          "2025-05-23",
          "2025-05-27",
          "2025-05-28",
          "2025-05-29",
          "2025-05-30",
          "2025-06-02",
          "2025-06-03",
          "2025-06-04",
          "2025-06-05",
          "2025-06-06",
          "2025-06-09",
          "2025-06-10",
          "2025-06-11",
          "2025-06-12",
          "2025-06-13",
          "2025-06-16",
          "2025-06-17",
          "2025-06-18",
          "2025-06-20",
          "2025-06-23",
          "2025-06-24",
          "2025-06-25",
          "2025-06-26",
          "2025-06-27",
          "2025-06-30",
          "2025-07-01",
          "2025-07-02",
          "2025-07-03",
          "2025-07-07",
          "2025-07-08",
          "2025-07-09",
          "2025-07-10",
          "2025-07-11",
          "2025-07-14",
          "2025-07-15",
          "2025-07-16",
          "2025-07-17",
          "2025-07-18",
          "2025-07-21",
          "2025-07-22",
          "2025-07-23",
          "2025-07-24",
          "2025-07-25",
          "2025-07-28",
          "2025-07-29",
          "2025-07-30",
          "2025-07-31",
          "2025-08-01",
          "2025-08-04",
          "2025-08-05",
          "2025-08-06",
          "2025-08-07",
          "2025-08-08",
          "2025-08-11",
          "2025-08-12",
          "2025-08-13",
          "2025-08-14",
          "2025-08-15",
          "2025-08-18",
          "2025-08-19",
          "2025-08-20",
          "2025-08-21",
          "2025-08-22",
          "2025-08-25",
          "2025-08-26",
          "2025-08-27",
          "2025-08-28",
          "2025-08-29",
          "2025-09-02",
          "2025-09-03",
          "2025-09-04",
          "2025-09-05",
          "2025-09-08",
          "2025-09-09"
         ],
         "xaxis": "x",
         "y": {
          "bdata": "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",
          "dtype": "f8"
         },
         "yaxis": "y"
        },
        {
         "name": "SMA 50",
         "type": "scatter",
         "x": [
          "2024-07-16",
          "2024-07-17",
          "2024-07-18",
          "2024-07-19",
          "2024-07-22",
          "2024-07-23",
          "2024-07-24",
          "2024-07-25",
          "2024-07-26",
          "2024-07-29",
          "2024-07-30",
          "2024-07-31",
          "2024-08-01",
          "2024-08-02",
          "2024-08-05",
          "2024-08-06",
          "2024-08-07",
          "2024-08-08",
          "2024-08-09",
          "2024-08-12",
          "2024-08-13",
          "2024-08-14",
          "2024-08-15",
          "2024-08-16",
          "2024-08-19",
          "2024-08-20",
          "2024-08-21",
          "2024-08-22",
          "2024-08-23",
          "2024-08-26",
          "2024-08-27",
          "2024-08-28",
          "2024-08-29",
          "2024-08-30",
          "2024-09-03",
          "2024-09-04",
          "2024-09-05",
          "2024-09-06",
          "2024-09-09",
          "2024-09-10",
          "2024-09-11",
          "2024-09-12",
          "2024-09-13",
          "2024-09-16",
          "2024-09-17",
          "2024-09-18",
          "2024-09-19",
          "2024-09-20",
          "2024-09-23",
          "2024-09-24",
          "2024-09-25",
          "2024-09-26",
          "2024-09-27",
          "2024-09-30",
          "2024-10-01",
          "2024-10-02",
          "2024-10-03",
          "2024-10-04",
          "2024-10-07",
          "2024-10-08",
          "2024-10-09",
          "2024-10-10",
          "2024-10-11",
          "2024-10-14",
          "2024-10-15",
          "2024-10-16",
          "2024-10-17",
          "2024-10-18",
          "2024-10-21",
          "2024-10-22",
          "2024-10-23",
          "2024-10-24",
          "2024-10-25",
          "2024-10-28",
          "2024-10-29",
          "2024-10-30",
          "2024-10-31",
          "2024-11-01",
          "2024-11-04",
          "2024-11-05",
          "2024-11-06",
          "2024-11-07",
          "2024-11-08",
          "2024-11-11",
          "2024-11-12",
          "2024-11-13",
          "2024-11-14",
          "2024-11-15",
          "2024-11-18",
          "2024-11-19",
          "2024-11-20",
          "2024-11-21",
          "2024-11-22",
          "2024-11-25",
          "2024-11-26",
          "2024-11-27",
          "2024-11-29",
          "2024-12-02",
          "2024-12-03",
          "2024-12-04",
          "2024-12-05",
          "2024-12-06",
          "2024-12-09",
          "2024-12-10",
          "2024-12-11",
          "2024-12-12",
          "2024-12-13",
          "2024-12-16",
          "2024-12-17",
          "2024-12-18",
          "2024-12-19",
          "2024-12-20",
          "2024-12-23",
          "2024-12-24",
          "2024-12-26",
          "2024-12-27",
          "2024-12-30",
          "2024-12-31",
          "2025-01-02",
          "2025-01-03",
          "2025-01-06",
          "2025-01-07",
          "2025-01-08",
          "2025-01-10",
          "2025-01-13",
          "2025-01-14",
          "2025-01-15",
          "2025-01-16",
          "2025-01-17",
          "2025-01-21",
          "2025-01-22",
          "2025-01-23",
          "2025-01-24",
          "2025-01-27",
          "2025-01-28",
          "2025-01-29",
          "2025-01-30",
          "2025-01-31",
          "2025-02-03",
          "2025-02-04",
          "2025-02-05",
          "2025-02-06",
          "2025-02-07",
          "2025-02-10",
          "2025-02-11",
          "2025-02-12",
          "2025-02-13",
          "2025-02-14",
          "2025-02-18",
          "2025-02-19",
          "2025-02-20",
          "2025-02-21",
          "2025-02-24",
          "2025-02-25",
          "2025-02-26",
          "2025-02-27",
          "2025-02-28",
          "2025-03-03",
          "2025-03-04",
          "2025-03-05",
          "2025-03-06",
          "2025-03-07",
          "2025-03-10",
          "2025-03-11",
          "2025-03-12",
          "2025-03-13",
          "2025-03-14",
          "2025-03-17",
          "2025-03-18",
          "2025-03-19",
          "2025-03-20",
          "2025-03-21",
          "2025-03-24",
          "2025-03-25",
          "2025-03-26",
          "2025-03-27",
          "2025-03-28",
          "2025-03-31",
          "2025-04-01",
          "2025-04-02",
          "2025-04-03",
          "2025-04-04",
          "2025-04-07",
          "2025-04-08",
          "2025-04-09",
          "2025-04-10",
          "2025-04-11",
          "2025-04-14",
          "2025-04-15",
          "2025-04-16",
          "2025-04-17",
          "2025-04-21",
          "2025-04-22",
          "2025-04-23",
          "2025-04-24",
          "2025-04-25",
          "2025-04-28",
          "2025-04-29",
          "2025-04-30",
          "2025-05-01",
          "2025-05-02",
          "2025-05-05",
          "2025-05-06",
          "2025-05-07",
          "2025-05-08",
          "2025-05-09",
          "2025-05-12",
          "2025-05-13",
          "2025-05-14",
          "2025-05-15",
          "2025-05-16",
          "2025-05-19",
          "2025-05-20",
          "2025-05-21",
          "2025-05-22",
          "2025-05-23",
          "2025-05-27",
          "2025-05-28",
          "2025-05-29",
          "2025-05-30",
          "2025-06-02",
          "2025-06-03",
          "2025-06-04",
          "2025-06-05",
          "2025-06-06",
          "2025-06-09",
          "2025-06-10",
          "2025-06-11",
          "2025-06-12",
          "2025-06-13",
          "2025-06-16",
          "2025-06-17",
          "2025-06-18",
          "2025-06-20",
          "2025-06-23",
          "2025-06-24",
          "2025-06-25",
          "2025-06-26",
          "2025-06-27",
          "2025-06-30",
          "2025-07-01",
          "2025-07-02",
          "2025-07-03",
          "2025-07-07",
          "2025-07-08",
          "2025-07-09",
          "2025-07-10",
          "2025-07-11",
          "2025-07-14",
          "2025-07-15",
          "2025-07-16",
          "2025-07-17",
          "2025-07-18",
          "2025-07-21",
          "2025-07-22",
          "2025-07-23",
          "2025-07-24",
          "2025-07-25",
          "2025-07-28",
          "2025-07-29",
          "2025-07-30",
          "2025-07-31",
          "2025-08-01",
          "2025-08-04",
          "2025-08-05",
          "2025-08-06",
          "2025-08-07",
          "2025-08-08",
          "2025-08-11",
          "2025-08-12",
          "2025-08-13",
          "2025-08-14",
          "2025-08-15",
          "2025-08-18",
          "2025-08-19",
          "2025-08-20",
          "2025-08-21",
          "2025-08-22",
          "2025-08-25",
          "2025-08-26",
          "2025-08-27",
          "2025-08-28",
          "2025-08-29",
          "2025-09-02",
          "2025-09-03",
          "2025-09-04",
          "2025-09-05",
          "2025-09-08",
          "2025-09-09"
         ],
         "xaxis": "x",
         "y": {
          "bdata": "AAAAAAAA+H8AAAAAAAD4fwAAAAAAAPh/AAAAAAAA+H8AAAAAAAD4fwAAAAAAAPh/AAAAAAAA+H8AAAAAAAD4fwAAAAAAAPh/AAAAAAAA+H8AAAAAAAD4fwAAAAAAAPh/AAAAAAAA+H8AAAAAAAD4fwAAAAAAAPh/AAAAAAAA+H8AAAAAAAD4fwAAAAAAAPh/AAAAAAAA+H8AAAAAAAD4fwAAAAAAAPh/AAAAAAAA+H8AAAAAAAD4fwAAAAAAAPh/AAAAAAAA+H8AAAAAAAD4fwAAAAAAAPh/AAAAAAAA+H8AAAAAAAD4fwAAAAAAAPh/AAAAAAAA+H8AAAAAAAD4fwAAAAAAAPh/AAAAAAAA+H8AAAAAAAD4fwAAAAAAAPh/AAAAAAAA+H8AAAAAAAD4fwAAAAAAAPh/AAAAAAAA+H8AAAAAAAD4fwAAAAAAAPh/AAAAAAAA+H8AAAAAAAD4fwAAAAAAAPh/AAAAAAAA+H8AAAAAAAD4fwAAAAAAAPh/AAAAAAAA+H8jbHh6paxmQOzAOSNKw2ZAd76fGi/VZkDcJAaBleNmQC7dJAaB7WZAm1Wfq634ZkDMf0i/fQFnQIPAyqFFCmdAbhKDwMoVZ0CgibDh6RlnQIlBYOXQHmdA2PD0SlkiZ0C62or9ZSNnQPfkYaHWJGdAhMDKoUUqZ0CdEaW9wTdnQMnlP6TfQmdA2xt8YTJNZ0DRs1n1uVpnQM5m1edqZ2dANl66SQxuZ0DaPXlYqHFnQGkibHh6dWdAIGPuWkJ6Z0BYqDXNO35nQFpkO99PbWdAZYhjXdxiZ0DuWkI+6FlnQHgLJCh+UGdAMSqpE9BEZ0CjtDf4wjRnQCh+jLlrJWdAOGdEaW8YZ0DdtYR80AtnQDpFR3L5/2ZAmuYdp+jwZkAT0ETY8ORmQESLbOf71WZA18VtNIDHZkADmggbnrZmQLFyaJHtpGZAIGPuWkKWZkDx0k1iEIhmQC/dJAaBdWZAXynLEMdiZkDRRNjw9FJmQB+n6EguQ2ZAE4PAyqExZkCYu5aQDyJmQAloImx4EmZAAbwFEhT/ZUD9Q/rt6+xlQLIubqMB3GVAFNBE2PDIZUA6tMh2vrNlQE2mCkYlnWVAuB6F61GEZUBgB84ZUWplQL+fGi/dUGVAkst/SL85ZUCxA+eMKCFlQBvAWyBBAWVAcqyL22jkZECcoiO5/MdkQB1aZDvfq2RAjpduEoOMZECjkjoBTWxkQF4pyxDHSmRAEhQ/xtwpZEBNhA1PrwhkQKK0N/jC7GNA1udqK/bTY0AVHcnlP7hjQB+F61G4mmNAHcnlP6R/Y0DFjzF3LXVjQBlz1xLyZWNA6Pup8dJZY0ATYcPTK0ljQN1GA3gLPGNAhA1Pr5QxY0DNzMzMzCRjQJyiI7n8F2NA9wZfmEwJY0Az5q4l5PdiQPgx5q4l7GJAWFuxv+zeYkBWfa62YtNiQPFjzF1LyGJAF9nO91O7YkAc6+I2GqxiQEku/yH9nmJAs+pztRWPYkCaCBueXn1iQL1SliGOZWJAOpLLf0hLYkDBqKROQC9iQHGsi9toFGJATmIQWDn8YUDdk4eFWuNhQC2yne+nymFAXI/C9Si0YUC6SQwCK59hQH2utmJ/iWFAOpLLf0h3YUBm9+RhoWZhQNY07zhFV2FAYxBYObRIYUDaPXlYqDlhQDtwzojSKmFA/fZ14JwdYUC7uI0G8BphQL99HThnGGFADXGsi9sUYUD+1HjpJhFhQJRliGNdDGFAv58aL90EYUCxUGuad/xgQN21hHzQ82BAGLfRAN7qYECdgCbChuNgQPCFyVTB3GBAE2HD0yvVYEAc6+I2GtBgQGDl0CLbyWBAkxgEVg7FYEDNO07RkbxgQEymCkYlsWBA6bevA+ekYEDkg57NqpdgQFFrmnechmBAppvEILB6YEA17zhFR2pgQMsQx7q4XWBALm6jAbxRYEBcIEHxYzxgQKqCUUmdLGBAAAAAAAAcYEDEsS5uow1gQH4dOGdEAWBACRueXinrX0AbL90kBtFfQH0dOGdEuV9AuB6F61GoX0A/xty1hKRfQNfFbTSAn19AWvW52oqdX0BWDi2ynZdfQGTMXUvIj19AHFpkO9+HX0Ao7Q2+MIlfQCqpE9BEiF9AP1dbsb+EX0Cmm8QgsIJfQE2EDU+vfF9AMuauJeRzX0C7uI0G8G5fQA96Nqs+b19A/5B++zpwX0CoV8oyxHFfQAaBlUOLbF9ANIC3QIJiX0DOO07RkVRfQPGFyVTBSF9ARGlv8IU5X0AdWmQ73ydfQLYV+8vuGV9ADCQofowRX0B9rrZifwlfQEp7gy9M/l5AKA8LtabxXkCNKO0NvuBeQPvt68A5015AdJMYBFbGXkCu2F92T75eQLx0kxgEtl5AaQBvgQStXkAUrkfheqReQIAmwoanp15ANBE2PL2iXkAYBFYOLaJeQEVpb/CFoV5AaQBvgQSlXkDKVMGopJ5eQKSSOgFNnF5AjZduEoOoXkAIrBxaZLNeQO/Jw0KtwV5AxW00gLfIXkDvycNCrdFeQK5H4XoU3l5AHafoSC7nXkDFjzF3LfleQIj029eBC19At/P91HgRX0DIdr6fGhdfQA4tsp3vH19AYTJVMCoxX0BfKcsQx0JfQBgmUwWjUl9AYxBYObRgX0DKw0KtaWZfQOkmMQisbF9AjlN0JJd3X0AzxLEuboNfQBKlvcEXnl9ApJI6AU3EX0DzH9JvX99fQGkibHh69V9AdLUV+8sGYEAD54wo7RVgQAUSFD/GJGBAnMQgsHIwYECX/5B++z5gQGIyVTAqUWBAHThnRGlnYEB6pSxDHH9gQOjZrPpclWBAylTBqKSqYEAzMzMzM8NgQPLSTWIQ3GBAc9cS8kH3YEDImLuWkBNhQF3+Q/rtM2FAZMxdS8hPYUCBJsKGp2thQBNhw9MriWFAr5RliGOhYUD6XG3F/rZhQNV46SYx1GFAoyO5/IfwYUCGONbFbQxiQIxK6gQ0KWJAarx0kxhIYkB9rrZif2ViQM9m1edqg2JAIv32deCgYkBtNIC3QMJiQH/ZPXlY5GJASL99HTgHY0A=",
          "dtype": "f8"
         },
         "yaxis": "y"
        }
       ],
       "layout": {
        "annotations": [
         {
          "font": {
           "size": 8
          },
          "showarrow": false,
          "text": "Date: 2025-09-09, Open:177.41, High:183.08, Low:176.21, Close: 182.02",
          "x": 0.01,
          "xref": "x domain",
          "y": 1,
          "yref": "y domain"
         }
        ],
        "height": 400,
        "legend": {
         "font": {
          "size": 8
         },
         "title": {
          "font": {
           "family": "Arial"
          }
         }
        },
        "template": {
         "data": {
          "bar": [
           {
            "error_x": {
             "color": "#2a3f5f"
            },
            "error_y": {
             "color": "#2a3f5f"
            },
            "marker": {
             "line": {
              "color": "#E5ECF6",
              "width": 0.5
             },
             "pattern": {
              "fillmode": "overlay",
              "size": 10,
              "solidity": 0.2
             }
            },
            "type": "bar"
           }
          ],
          "barpolar": [
           {
            "marker": {
             "line": {
              "color": "#E5ECF6",
              "width": 0.5
             },
             "pattern": {
              "fillmode": "overlay",
              "size": 10,
              "solidity": 0.2
             }
            },
            "type": "barpolar"
           }
          ],
          "carpet": [
           {
            "aaxis": {
             "endlinecolor": "#2a3f5f",
             "gridcolor": "white",
             "linecolor": "white",
             "minorgridcolor": "white",
             "startlinecolor": "#2a3f5f"
            },
            "baxis": {
             "endlinecolor": "#2a3f5f",
             "gridcolor": "white",
             "linecolor": "white",
             "minorgridcolor": "white",
             "startlinecolor": "#2a3f5f"
            },
            "type": "carpet"
           }
          ],
          "choropleth": [
           {
            "colorbar": {
             "outlinewidth": 0,
             "ticks": ""
            },
            "type": "choropleth"
           }
          ],
          "contour": [
           {
            "colorbar": {
             "outlinewidth": 0,
             "ticks": ""
            },
            "colorscale": [
             [
              0,
              "#0d0887"
             ],
             [
              0.1111111111111111,
              "#46039f"
             ],
             [
              0.2222222222222222,
              "#7201a8"
             ],
             [
              0.3333333333333333,
              "#9c179e"
             ],
             [
              0.4444444444444444,
              "#bd3786"
             ],
             [
              0.5555555555555556,
              "#d8576b"
             ],
             [
              0.6666666666666666,
              "#ed7953"
             ],
             [
              0.7777777777777778,
              "#fb9f3a"
             ],
             [
              0.8888888888888888,
              "#fdca26"
             ],
             [
              1,
              "#f0f921"
             ]
            ],
            "type": "contour"
           }
          ],
          "contourcarpet": [
           {
            "colorbar": {
             "outlinewidth": 0,
             "ticks": ""
            },
            "type": "contourcarpet"
           }
          ],
          "heatmap": [
           {
            "colorbar": {
             "outlinewidth": 0,
             "ticks": ""
            },
            "colorscale": [
             [
              0,
              "#0d0887"
             ],
             [
              0.1111111111111111,
              "#46039f"
             ],
             [
              0.2222222222222222,
              "#7201a8"
             ],
             [
              0.3333333333333333,
              "#9c179e"
             ],
             [
              0.4444444444444444,
              "#bd3786"
             ],
             [
              0.5555555555555556,
              "#d8576b"
             ],
             [
              0.6666666666666666,
              "#ed7953"
             ],
             [
              0.7777777777777778,
              "#fb9f3a"
             ],
             [
              0.8888888888888888,
              "#fdca26"
             ],
             [
              1,
              "#f0f921"
             ]
            ],
            "type": "heatmap"
           }
          ],
          "histogram": [
           {
            "marker": {
             "pattern": {
              "fillmode": "overlay",
              "size": 10,
              "solidity": 0.2
             }
            },
            "type": "histogram"
           }
          ],
          "histogram2d": [
           {
            "colorbar": {
             "outlinewidth": 0,
             "ticks": ""
            },
            "colorscale": [
             [
              0,
              "#0d0887"
             ],
             [
              0.1111111111111111,
              "#46039f"
             ],
             [
              0.2222222222222222,
              "#7201a8"
             ],
             [
              0.3333333333333333,
              "#9c179e"
             ],
             [
              0.4444444444444444,
              "#bd3786"
             ],
             [
              0.5555555555555556,
              "#d8576b"
             ],
             [
              0.6666666666666666,
              "#ed7953"
             ],
             [
              0.7777777777777778,
              "#fb9f3a"
             ],
             [
              0.8888888888888888,
              "#fdca26"
             ],
             [
              1,
              "#f0f921"
             ]
            ],
            "type": "histogram2d"
           }
          ],
          "histogram2dcontour": [
           {
            "colorbar": {
             "outlinewidth": 0,
             "ticks": ""
            },
            "colorscale": [
             [
              0,
              "#0d0887"
             ],
             [
              0.1111111111111111,
              "#46039f"
             ],
             [
              0.2222222222222222,
              "#7201a8"
             ],
             [
              0.3333333333333333,
              "#9c179e"
             ],
             [
              0.4444444444444444,
              "#bd3786"
             ],
             [
              0.5555555555555556,
              "#d8576b"
             ],
             [
              0.6666666666666666,
              "#ed7953"
             ],
             [
              0.7777777777777778,
              "#fb9f3a"
             ],
             [
              0.8888888888888888,
              "#fdca26"
             ],
             [
              1,
              "#f0f921"
             ]
            ],
            "type": "histogram2dcontour"
           }
          ],
          "mesh3d": [
           {
            "colorbar": {
             "outlinewidth": 0,
             "ticks": ""
            },
            "type": "mesh3d"
           }
          ],
          "parcoords": [
           {
            "line": {
             "colorbar": {
              "outlinewidth": 0,
              "ticks": ""
             }
            },
            "type": "parcoords"
           }
          ],
          "pie": [
           {
            "automargin": true,
            "type": "pie"
           }
          ],
          "scatter": [
           {
            "fillpattern": {
             "fillmode": "overlay",
             "size": 10,
             "solidity": 0.2
            },
            "type": "scatter"
           }
          ],
          "scatter3d": [
           {
            "line": {
             "colorbar": {
              "outlinewidth": 0,
              "ticks": ""
             }
            },
            "marker": {
             "colorbar": {
              "outlinewidth": 0,
              "ticks": ""
             }
            },
            "type": "scatter3d"
           }
          ],
          "scattercarpet": [
           {
            "marker": {
             "colorbar": {
              "outlinewidth": 0,
              "ticks": ""
             }
            },
            "type": "scattercarpet"
           }
          ],
          "scattergeo": [
           {
            "marker": {
             "colorbar": {
              "outlinewidth": 0,
              "ticks": ""
             }
            },
            "type": "scattergeo"
           }
          ],
          "scattergl": [
           {
            "marker": {
             "colorbar": {
              "outlinewidth": 0,
              "ticks": ""
             }
            },
            "type": "scattergl"
           }
          ],
          "scattermap": [
           {
            "marker": {
             "colorbar": {
              "outlinewidth": 0,
              "ticks": ""
             }
            },
            "type": "scattermap"
           }
          ],
          "scattermapbox": [
           {
            "marker": {
             "colorbar": {
              "outlinewidth": 0,
              "ticks": ""
             }
            },
            "type": "scattermapbox"
           }
          ],
          "scatterpolar": [
           {
            "marker": {
             "colorbar": {
              "outlinewidth": 0,
              "ticks": ""
             }
            },
            "type": "scatterpolar"
           }
          ],
          "scatterpolargl": [
           {
            "marker": {
             "colorbar": {
              "outlinewidth": 0,
              "ticks": ""
             }
            },
            "type": "scatterpolargl"
           }
          ],
          "scatterternary": [
           {
            "marker": {
             "colorbar": {
              "outlinewidth": 0,
              "ticks": ""
             }
            },
            "type": "scatterternary"
           }
          ],
          "surface": [
           {
            "colorbar": {
             "outlinewidth": 0,
             "ticks": ""
            },
            "colorscale": [
             [
              0,
              "#0d0887"
             ],
             [
              0.1111111111111111,
              "#46039f"
             ],
             [
              0.2222222222222222,
              "#7201a8"
             ],
             [
              0.3333333333333333,
              "#9c179e"
             ],
             [
              0.4444444444444444,
              "#bd3786"
             ],
             [
              0.5555555555555556,
              "#d8576b"
             ],
             [
              0.6666666666666666,
              "#ed7953"
             ],
             [
              0.7777777777777778,
              "#fb9f3a"
             ],
             [
              0.8888888888888888,
              "#fdca26"
             ],
             [
              1,
              "#f0f921"
             ]
            ],
            "type": "surface"
           }
          ],
          "table": [
           {
            "cells": {
             "fill": {
              "color": "#EBF0F8"
             },
             "line": {
              "color": "white"
             }
            },
            "header": {
             "fill": {
              "color": "#C8D4E3"
             },
             "line": {
              "color": "white"
             }
            },
            "type": "table"
           }
          ]
         },
         "layout": {
          "annotationdefaults": {
           "arrowcolor": "#2a3f5f",
           "arrowhead": 0,
           "arrowwidth": 1
          },
          "autotypenumbers": "strict",
          "coloraxis": {
           "colorbar": {
            "outlinewidth": 0,
            "ticks": ""
           }
          },
          "colorscale": {
           "diverging": [
            [
             0,
             "#8e0152"
            ],
            [
             0.1,
             "#c51b7d"
            ],
            [
             0.2,
             "#de77ae"
            ],
            [
             0.3,
             "#f1b6da"
            ],
            [
             0.4,
             "#fde0ef"
            ],
            [
             0.5,
             "#f7f7f7"
            ],
            [
             0.6,
             "#e6f5d0"
            ],
            [
             0.7,
             "#b8e186"
            ],
            [
             0.8,
             "#7fbc41"
            ],
            [
             0.9,
             "#4d9221"
            ],
            [
             1,
             "#276419"
            ]
           ],
           "sequential": [
            [
             0,
             "#0d0887"
            ],
            [
             0.1111111111111111,
             "#46039f"
            ],
            [
             0.2222222222222222,
             "#7201a8"
            ],
            [
             0.3333333333333333,
             "#9c179e"
            ],
            [
             0.4444444444444444,
             "#bd3786"
            ],
            [
             0.5555555555555556,
             "#d8576b"
            ],
            [
             0.6666666666666666,
             "#ed7953"
            ],
            [
             0.7777777777777778,
             "#fb9f3a"
            ],
            [
             0.8888888888888888,
             "#fdca26"
            ],
            [
             1,
             "#f0f921"
            ]
           ],
           "sequentialminus": [
            [
             0,
             "#0d0887"
            ],
            [
             0.1111111111111111,
             "#46039f"
            ],
            [
             0.2222222222222222,
             "#7201a8"
            ],
            [
             0.3333333333333333,
             "#9c179e"
            ],
            [
             0.4444444444444444,
             "#bd3786"
            ],
            [
             0.5555555555555556,
             "#d8576b"
            ],
            [
             0.6666666666666666,
             "#ed7953"
            ],
            [
             0.7777777777777778,
             "#fb9f3a"
            ],
            [
             0.8888888888888888,
             "#fdca26"
            ],
            [
             1,
             "#f0f921"
            ]
           ]
          },
          "colorway": [
           "#636efa",
           "#EF553B",
           "#00cc96",
           "#ab63fa",
           "#FFA15A",
           "#19d3f3",
           "#FF6692",
           "#B6E880",
           "#FF97FF",
           "#FECB52"
          ],
          "font": {
           "color": "#2a3f5f"
          },
          "geo": {
           "bgcolor": "white",
           "lakecolor": "white",
           "landcolor": "#E5ECF6",
           "showlakes": true,
           "showland": true,
           "subunitcolor": "white"
          },
          "hoverlabel": {
           "align": "left"
          },
          "hovermode": "closest",
          "mapbox": {
           "style": "light"
          },
          "paper_bgcolor": "white",
          "plot_bgcolor": "#E5ECF6",
          "polar": {
           "angularaxis": {
            "gridcolor": "white",
            "linecolor": "white",
            "ticks": ""
           },
           "bgcolor": "#E5ECF6",
           "radialaxis": {
            "gridcolor": "white",
            "linecolor": "white",
            "ticks": ""
           }
          },
          "scene": {
           "xaxis": {
            "backgroundcolor": "#E5ECF6",
            "gridcolor": "white",
            "gridwidth": 2,
            "linecolor": "white",
            "showbackground": true,
            "ticks": "",
            "zerolinecolor": "white"
           },
           "yaxis": {
            "backgroundcolor": "#E5ECF6",
            "gridcolor": "white",
            "gridwidth": 2,
            "linecolor": "white",
            "showbackground": true,
            "ticks": "",
            "zerolinecolor": "white"
           },
           "zaxis": {
            "backgroundcolor": "#E5ECF6",
            "gridcolor": "white",
            "gridwidth": 2,
            "linecolor": "white",
            "showbackground": true,
            "ticks": "",
            "zerolinecolor": "white"
           }
          },
          "shapedefaults": {
           "line": {
            "color": "#2a3f5f"
           }
          },
          "ternary": {
           "aaxis": {
            "gridcolor": "white",
            "linecolor": "white",
            "ticks": ""
           },
           "baxis": {
            "gridcolor": "white",
            "linecolor": "white",
            "ticks": ""
           },
           "bgcolor": "#E5ECF6",
           "caxis": {
            "gridcolor": "white",
            "linecolor": "white",
            "ticks": ""
           }
          },
          "title": {
           "x": 0.05
          },
          "xaxis": {
           "automargin": true,
           "gridcolor": "white",
           "linecolor": "white",
           "ticks": "",
           "title": {
            "standoff": 15
           },
           "zerolinecolor": "white",
           "zerolinewidth": 2
          },
          "yaxis": {
           "automargin": true,
           "gridcolor": "white",
           "linecolor": "white",
           "ticks": "",
           "title": {
            "standoff": 15
           },
           "zerolinecolor": "white",
           "zerolinewidth": 2
          }
         }
        },
        "title": {
         "text": "TOP 20",
         "x": 0.5
        },
        "width": 600,
        "xaxis": {
         "anchor": "y",
         "domain": [
          0,
          0.94
         ]
        },
        "yaxis": {
         "anchor": "x",
         "domain": [
          0,
          1
         ],
         "side": "right"
        },
        "yaxis2": {
         "anchor": "x",
         "overlaying": "y",
         "side": "right"
        }
       }
      }
     },
     "metadata": {},
     "output_type": "display_data"
    },
    {
     "data": {
      "application/vnd.plotly.v1+json": {
       "config": {
        "plotlyServerURL": "https://plot.ly"
       },
       "data": [
        {
         "name": "CHRW: 24.6 %",
         "type": "scatter",
         "x": [
          "2024-07-16",
          "2024-07-17",
          "2024-07-18",
          "2024-07-19",
          "2024-07-22",
          "2024-07-23",
          "2024-07-24",
          "2024-07-25",
          "2024-07-26",
          "2024-07-29",
          "2024-07-30",
          "2024-07-31",
          "2024-08-01",
          "2024-08-02",
          "2024-08-05",
          "2024-08-06",
          "2024-08-07",
          "2024-08-08",
          "2024-08-09",
          "2024-08-12",
          "2024-08-13",
          "2024-08-14",
          "2024-08-15",
          "2024-08-16",
          "2024-08-19",
          "2024-08-20",
          "2024-08-21",
          "2024-08-22",
          "2024-08-23",
          "2024-08-26",
          "2024-08-27",
          "2024-08-28",
          "2024-08-29",
          "2024-08-30",
          "2024-09-03",
          "2024-09-04",
          "2024-09-05",
          "2024-09-06",
          "2024-09-09",
          "2024-09-10",
          "2024-09-11",
          "2024-09-12",
          "2024-09-13",
          "2024-09-16",
          "2024-09-17",
          "2024-09-18",
          "2024-09-19",
          "2024-09-20",
          "2024-09-23",
          "2024-09-24",
          "2024-09-25",
          "2024-09-26",
          "2024-09-27",
          "2024-09-30",
          "2024-10-01",
          "2024-10-02",
          "2024-10-03",
          "2024-10-04",
          "2024-10-07",
          "2024-10-08",
          "2024-10-09",
          "2024-10-10",
          "2024-10-11",
          "2024-10-14",
          "2024-10-15",
          "2024-10-16",
          "2024-10-17",
          "2024-10-18",
          "2024-10-21",
          "2024-10-22",
          "2024-10-23",
          "2024-10-24",
          "2024-10-25",
          "2024-10-28",
          "2024-10-29",
          "2024-10-30",
          "2024-10-31",
          "2024-11-01",
          "2024-11-04",
          "2024-11-05",
          "2024-11-06",
          "2024-11-07",
          "2024-11-08",
          "2024-11-11",
          "2024-11-12",
          "2024-11-13",
          "2024-11-14",
          "2024-11-15",
          "2024-11-18",
          "2024-11-19",
          "2024-11-20",
          "2024-11-21",
          "2024-11-22",
          "2024-11-25",
          "2024-11-26",
          "2024-11-27",
          "2024-11-29",
          "2024-12-02",
          "2024-12-03",
          "2024-12-04",
          "2024-12-05",
          "2024-12-06",
          "2024-12-09",
          "2024-12-10",
          "2024-12-11",
          "2024-12-12",
          "2024-12-13",
          "2024-12-16",
          "2024-12-17",
          "2024-12-18",
          "2024-12-19",
          "2024-12-20",
          "2024-12-23",
          "2024-12-24",
          "2024-12-26",
          "2024-12-27",
          "2024-12-30",
          "2024-12-31",
          "2025-01-02",
          "2025-01-03",
          "2025-01-06",
          "2025-01-07",
          "2025-01-08",
          "2025-01-10",
          "2025-01-13",
          "2025-01-14",
          "2025-01-15",
          "2025-01-16",
          "2025-01-17",
          "2025-01-21",
          "2025-01-22",
          "2025-01-23",
          "2025-01-24",
          "2025-01-27",
          "2025-01-28",
          "2025-01-29",
          "2025-01-30",
          "2025-01-31",
          "2025-02-03",
          "2025-02-04",
          "2025-02-05",
          "2025-02-06",
          "2025-02-07",
          "2025-02-10",
          "2025-02-11",
          "2025-02-12",
          "2025-02-13",
          "2025-02-14",
          "2025-02-18",
          "2025-02-19",
          "2025-02-20",
          "2025-02-21",
          "2025-02-24",
          "2025-02-25",
          "2025-02-26",
          "2025-02-27",
          "2025-02-28",
          "2025-03-03",
          "2025-03-04",
          "2025-03-05",
          "2025-03-06",
          "2025-03-07",
          "2025-03-10",
          "2025-03-11",
          "2025-03-12",
          "2025-03-13",
          "2025-03-14",
          "2025-03-17",
          "2025-03-18",
          "2025-03-19",
          "2025-03-20",
          "2025-03-21",
          "2025-03-24",
          "2025-03-25",
          "2025-03-26",
          "2025-03-27",
          "2025-03-28",
          "2025-03-31",
          "2025-04-01",
          "2025-04-02",
          "2025-04-03",
          "2025-04-04",
          "2025-04-07",
          "2025-04-08",
          "2025-04-09",
          "2025-04-10",
          "2025-04-11",
          "2025-04-14",
          "2025-04-15",
          "2025-04-16",
          "2025-04-17",
          "2025-04-21",
          "2025-04-22",
          "2025-04-23",
          "2025-04-24",
          "2025-04-25",
          "2025-04-28",
          "2025-04-29",
          "2025-04-30",
          "2025-05-01",
          "2025-05-02",
          "2025-05-05",
          "2025-05-06",
          "2025-05-07",
          "2025-05-08",
          "2025-05-09",
          "2025-05-12",
          "2025-05-13",
          "2025-05-14",
          "2025-05-15",
          "2025-05-16",
          "2025-05-19",
          "2025-05-20",
          "2025-05-21",
          "2025-05-22",
          "2025-05-23",
          "2025-05-27",
          "2025-05-28",
          "2025-05-29",
          "2025-05-30",
          "2025-06-02",
          "2025-06-03",
          "2025-06-04",
          "2025-06-05",
          "2025-06-06",
          "2025-06-09",
          "2025-06-10",
          "2025-06-11",
          "2025-06-12",
          "2025-06-13",
          "2025-06-16",
          "2025-06-17",
          "2025-06-18",
          "2025-06-20",
          "2025-06-23",
          "2025-06-24",
          "2025-06-25",
          "2025-06-26",
          "2025-06-27",
          "2025-06-30",
          "2025-07-01",
          "2025-07-02",
          "2025-07-03",
          "2025-07-07",
          "2025-07-08",
          "2025-07-09",
          "2025-07-10",
          "2025-07-11",
          "2025-07-14",
          "2025-07-15",
          "2025-07-16",
          "2025-07-17",
          "2025-07-18",
          "2025-07-21",
          "2025-07-22",
          "2025-07-23",
          "2025-07-24",
          "2025-07-25",
          "2025-07-28",
          "2025-07-29",
          "2025-07-30",
          "2025-07-31",
          "2025-08-01",
          "2025-08-04",
          "2025-08-05",
          "2025-08-06",
          "2025-08-07",
          "2025-08-08",
          "2025-08-11",
          "2025-08-12",
          "2025-08-13",
          "2025-08-14",
          "2025-08-15",
          "2025-08-18",
          "2025-08-19",
          "2025-08-20",
          "2025-08-21",
          "2025-08-22",
          "2025-08-25",
          "2025-08-26",
          "2025-08-27",
          "2025-08-28",
          "2025-08-29",
          "2025-09-02",
          "2025-09-03",
          "2025-09-04",
          "2025-09-05",
          "2025-09-08",
          "2025-09-09"
         ],
         "xaxis": "x",
         "y": {
          "bdata": "exSuR+HKVUD2KFyPwsVVQM3MzMzMLFZAuB6F61HoVUBI4XoUrqdWQMP1KFyPQlZAmpmZmZmpVkBxPQrXo6BWQIXrUbgeZVZA9ihcj8JlVkAfhetRuF5WQI/C9ShcX1ZA16NwPQq3WEAzMzMzM2NZQAAAAAAAgFhAj8L1KFyfWEBxPQrXo9BYQGZmZmZmhlhAcT0K16PAWEBxPQrXo5BYQDMzMzMzg1hAcT0K16OQWEC4HoXrUahYQOxRuB6Fe1hAPQrXo3DNWEAAAAAAAEBZQHsUrkfh6lhASOF6FK4nWUAfhetRuE5ZQClcj8L1mFlArkfhehSeWUAzMzMzM+NZQI/C9ShcD1pArkfhehTeWUAAAAAAANBZQLgehetR6FlAPQrXo3ANWkBI4XoUrndZQNejcD0KN1lAH4XrUbg+WUCF61G4HjVZQAAAAAAAAFlAH4XrUbjuWEDXo3A9CgdZQPYoXI/CNVlA9ihcj8IlWUCPwvUoXL9ZQI/C9Shcr1lAzczMzMwMWkBxPQrXo5BaQEjhehSuN1tApHA9CtcjW0CPwvUoXB9bQFyPwvUoPFtASOF6FK6XW0DNzMzMzDxbQHE9CtejAFtAZmZmZma2WkBmZmZmZrZaQEjhehSup1pAcT0K16PQWkDXo3A9ChdbQIXrUbgeJVtA9ihcj8KlW0BmZmZmZpZbQHE9CtejwFtAexSuR+GaW0AzMzMzM8NbQJqZmZmZeVtAZmZmZmY2W0CuR+F6FP5aQJqZmZmZ+VpA9ihcj8LVWkBI4XoUrjdbQAAAAAAAQFtACtejcD36WkBxPQrXo9BZQJqZmZmZuVlA4XoUrkeRWUCPwvUoXL9ZQIXrUbgetVpACtejcD2qWkBmZmZmZvZaQHE9CtejQFtA4XoUrkehW0AUrkfhelRbQIXrUbge1VtAcT0K16PQW0Bcj8L1KIxbQFK4HoXrQVtAhetRuB5lW0BI4XoUrldbQJqZmZmZGVtAMzMzMzMzW0A9CtejcO1aQI/C9Shcr1pA7FG4HoVbWkCuR+F6FH5aQGZmZmZmdlpACtejcD3KWkBcj8L1KPxaQFK4HoXroVpAAAAAAACAWkApXI/C9RhbQAAAAAAAgFtACtejcD0qW0AUrkfherRcQFK4HoXr0VtArkfhehRuW0DNzMzMzExbQAAAAAAAwFpAw/UoXI9CWkC4HoXrUQhaQEjhehSu91lAMzMzMzMTWkCamZmZmQlaQMP1KFyPwllApHA9CtfzWUD2KFyPwgVaQM3MzMzM/FlAXI/C9SgcWkBSuB6F6/FZQPYoXI/CFVpAAAAAAADAWUApXI/C9VhZQKRwPQrX81lAj8L1KFwfWkAAAAAAANBZQM3MzMzMjFlACtejcD36WUD2KFyPwmVaQK5H4XoUjlpAFK5H4XrkWkCPwvUoXB9bQIXrUbgeFVtA4XoUrkdRW0BmZmZmZuZYQM3MzMzMvFlAhetRuB7FWEDsUbgehctYQFyPwvUovFhAuB6F61GIWEB7FK5H4SpYQOF6FK5HQVhACtejcD3KWEBxPQrXo8BYQLgehetRaFhAMzMzMzOzWEBmZmZmZuZYQAAAAAAA4FhA4XoUrkfBWEAK16NwPRpZQKRwPQrXQ1lAuB6F61E4WUCF61G4HrVYQD0K16NwvVhAhetRuB7VWEB7FK5H4XpZQMP1KFyPIllA9ihcj8KFWEAfhetRuG5YQDMzMzMzc1hAMzMzMzNzWUA9CtejcG1ZQIXrUbgelVhArkfhehQ+WEAAAAAAACBYQBSuR+F6pFhA4XoUrkcxWUApXI/C9fhYQJqZmZmZqVhAzczMzMycWEAzMzMzMxNZQD0K16NwDVlAcT0K16MQWUC4HoXrUXhZQB+F61G4fllAhetRuB41WUD2KFyPwnVZQI/C9Shcn1lAXI/C9SgcWUDhehSuR1FXQM3MzMzMTFZAcT0K16OwVkC4HoXrUXhVQHE9CtejsFZAMzMzMzNjVkAK16NwPRpXQOF6FK5HIVdASOF6FK63VkCuR+F6FJ5WQPYoXI/ChVZAAAAAAACQVkApXI/C9fhWQD0K16NwrVZAw/UoXI+yVkDNzMzMzGxWQPYoXI/CFVZAhetRuB4VVkDXo3A9CudVQIXrUbge1VZAzczMzMycVkBxPQrXo0BWQGZmZmZmVlZA16NwPQr3VUDXo3A9CndWQLgehetRWFdAMzMzMzMTWEDNzMzMzBxYQNejcD0Kh1hApHA9CtfzWEDD9Shcj9JYQM3MzMzM7FhASOF6FK7HWEApXI/C9ThYQAAAAAAA4FdAcT0K16MwWEBxPQrXo2BYQNejcD0K91dAZmZmZmYGWEAUrkfhegRYQJqZmZmZ2VdAAAAAAAAgWEApXI/C9RhYQOF6FK5HAVhAw/UoXI8CWECuR+F6FO5XQGZmZmZmJlhAuB6F61GYV0DXo3A9CpdXQMP1KFyPoldASOF6FK5nV0AzMzMzM2NXQLgehetReFdAmpmZmZkpV0CkcD0K15NXQLgehetRiFdASOF6FK5HV0CuR+F6FF5XQHE9CtejMFhAzczMzMwcWEBmZmZmZqZYQMP1KFyP0lhA4XoUrkdxWEAfhetRuC5YQI/C9Shcr1hASOF6FK7nWEC4HoXrUThZQMP1KFyPslhAAAAAAACAWEDhehSuR4FYQD0K16NwfVhAAAAAAADgWEDD9Shcj1JYQDMzMzMzQ1hAzczMzMzcWEBmZmZmZiZZQK5H4XoU7llAH4XrUbiOWUCPwvUoXC9ZQClcj8L1+FhArkfhehSeW0DsUbgehYtcQOxRuB6Fe1xAH4XrUbjeXECamZmZmelcQArXo3A9ml1APQrXo3CNXUBSuB6F6zFdQMP1KFyPMl1AH4XrUbjOXUDD9ShcjyJeQI/C9Shcb15AexSuR+FaXkD2KFyPwtVeQLgehetRuF5AmpmZmZk5XkCuR+F6FM5eQBSuR+F6NF9APQrXo3BtX0AUrkfhepRfQAAAAAAAAGBAMzMzMzMzYEApXI/C9QBgQOxRuB6FC2BA16NwPQoPYECuR+F6FL5fQClcj8L1mF9A4XoUrkdhX0A=",
          "dtype": "f8"
         },
         "yaxis": "y"
        },
        {
         "name": "SMA 50",
         "type": "scatter",
         "x": [
          "2024-07-16",
          "2024-07-17",
          "2024-07-18",
          "2024-07-19",
          "2024-07-22",
          "2024-07-23",
          "2024-07-24",
          "2024-07-25",
          "2024-07-26",
          "2024-07-29",
          "2024-07-30",
          "2024-07-31",
          "2024-08-01",
          "2024-08-02",
          "2024-08-05",
          "2024-08-06",
          "2024-08-07",
          "2024-08-08",
          "2024-08-09",
          "2024-08-12",
          "2024-08-13",
          "2024-08-14",
          "2024-08-15",
          "2024-08-16",
          "2024-08-19",
          "2024-08-20",
          "2024-08-21",
          "2024-08-22",
          "2024-08-23",
          "2024-08-26",
          "2024-08-27",
          "2024-08-28",
          "2024-08-29",
          "2024-08-30",
          "2024-09-03",
          "2024-09-04",
          "2024-09-05",
          "2024-09-06",
          "2024-09-09",
          "2024-09-10",
          "2024-09-11",
          "2024-09-12",
          "2024-09-13",
          "2024-09-16",
          "2024-09-17",
          "2024-09-18",
          "2024-09-19",
          "2024-09-20",
          "2024-09-23",
          "2024-09-24",
          "2024-09-25",
          "2024-09-26",
          "2024-09-27",
          "2024-09-30",
          "2024-10-01",
          "2024-10-02",
          "2024-10-03",
          "2024-10-04",
          "2024-10-07",
          "2024-10-08",
          "2024-10-09",
          "2024-10-10",
          "2024-10-11",
          "2024-10-14",
          "2024-10-15",
          "2024-10-16",
          "2024-10-17",
          "2024-10-18",
          "2024-10-21",
          "2024-10-22",
          "2024-10-23",
          "2024-10-24",
          "2024-10-25",
          "2024-10-28",
          "2024-10-29",
          "2024-10-30",
          "2024-10-31",
          "2024-11-01",
          "2024-11-04",
          "2024-11-05",
          "2024-11-06",
          "2024-11-07",
          "2024-11-08",
          "2024-11-11",
          "2024-11-12",
          "2024-11-13",
          "2024-11-14",
          "2024-11-15",
          "2024-11-18",
          "2024-11-19",
          "2024-11-20",
          "2024-11-21",
          "2024-11-22",
          "2024-11-25",
          "2024-11-26",
          "2024-11-27",
          "2024-11-29",
          "2024-12-02",
          "2024-12-03",
          "2024-12-04",
          "2024-12-05",
          "2024-12-06",
          "2024-12-09",
          "2024-12-10",
          "2024-12-11",
          "2024-12-12",
          "2024-12-13",
          "2024-12-16",
          "2024-12-17",
          "2024-12-18",
          "2024-12-19",
          "2024-12-20",
          "2024-12-23",
          "2024-12-24",
          "2024-12-26",
          "2024-12-27",
          "2024-12-30",
          "2024-12-31",
          "2025-01-02",
          "2025-01-03",
          "2025-01-06",
          "2025-01-07",
          "2025-01-08",
          "2025-01-10",
          "2025-01-13",
          "2025-01-14",
          "2025-01-15",
          "2025-01-16",
          "2025-01-17",
          "2025-01-21",
          "2025-01-22",
          "2025-01-23",
          "2025-01-24",
          "2025-01-27",
          "2025-01-28",
          "2025-01-29",
          "2025-01-30",
          "2025-01-31",
          "2025-02-03",
          "2025-02-04",
          "2025-02-05",
          "2025-02-06",
          "2025-02-07",
          "2025-02-10",
          "2025-02-11",
          "2025-02-12",
          "2025-02-13",
          "2025-02-14",
          "2025-02-18",
          "2025-02-19",
          "2025-02-20",
          "2025-02-21",
          "2025-02-24",
          "2025-02-25",
          "2025-02-26",
          "2025-02-27",
          "2025-02-28",
          "2025-03-03",
          "2025-03-04",
          "2025-03-05",
          "2025-03-06",
          "2025-03-07",
          "2025-03-10",
          "2025-03-11",
          "2025-03-12",
          "2025-03-13",
          "2025-03-14",
          "2025-03-17",
          "2025-03-18",
          "2025-03-19",
          "2025-03-20",
          "2025-03-21",
          "2025-03-24",
          "2025-03-25",
          "2025-03-26",
          "2025-03-27",
          "2025-03-28",
          "2025-03-31",
          "2025-04-01",
          "2025-04-02",
          "2025-04-03",
          "2025-04-04",
          "2025-04-07",
          "2025-04-08",
          "2025-04-09",
          "2025-04-10",
          "2025-04-11",
          "2025-04-14",
          "2025-04-15",
          "2025-04-16",
          "2025-04-17",
          "2025-04-21",
          "2025-04-22",
          "2025-04-23",
          "2025-04-24",
          "2025-04-25",
          "2025-04-28",
          "2025-04-29",
          "2025-04-30",
          "2025-05-01",
          "2025-05-02",
          "2025-05-05",
          "2025-05-06",
          "2025-05-07",
          "2025-05-08",
          "2025-05-09",
          "2025-05-12",
          "2025-05-13",
          "2025-05-14",
          "2025-05-15",
          "2025-05-16",
          "2025-05-19",
          "2025-05-20",
          "2025-05-21",
          "2025-05-22",
          "2025-05-23",
          "2025-05-27",
          "2025-05-28",
          "2025-05-29",
          "2025-05-30",
          "2025-06-02",
          "2025-06-03",
          "2025-06-04",
          "2025-06-05",
          "2025-06-06",
          "2025-06-09",
          "2025-06-10",
          "2025-06-11",
          "2025-06-12",
          "2025-06-13",
          "2025-06-16",
          "2025-06-17",
          "2025-06-18",
          "2025-06-20",
          "2025-06-23",
          "2025-06-24",
          "2025-06-25",
          "2025-06-26",
          "2025-06-27",
          "2025-06-30",
          "2025-07-01",
          "2025-07-02",
          "2025-07-03",
          "2025-07-07",
          "2025-07-08",
          "2025-07-09",
          "2025-07-10",
          "2025-07-11",
          "2025-07-14",
          "2025-07-15",
          "2025-07-16",
          "2025-07-17",
          "2025-07-18",
          "2025-07-21",
          "2025-07-22",
          "2025-07-23",
          "2025-07-24",
          "2025-07-25",
          "2025-07-28",
          "2025-07-29",
          "2025-07-30",
          "2025-07-31",
          "2025-08-01",
          "2025-08-04",
          "2025-08-05",
          "2025-08-06",
          "2025-08-07",
          "2025-08-08",
          "2025-08-11",
          "2025-08-12",
          "2025-08-13",
          "2025-08-14",
          "2025-08-15",
          "2025-08-18",
          "2025-08-19",
          "2025-08-20",
          "2025-08-21",
          "2025-08-22",
          "2025-08-25",
          "2025-08-26",
          "2025-08-27",
          "2025-08-28",
          "2025-08-29",
          "2025-09-02",
          "2025-09-03",
          "2025-09-04",
          "2025-09-05",
          "2025-09-08",
          "2025-09-09"
         ],
         "xaxis": "x",
         "y": {
          "bdata": "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",
          "dtype": "f8"
         },
         "yaxis": "y"
        }
       ],
       "layout": {
        "annotations": [
         {
          "font": {
           "size": 8
          },
          "showarrow": false,
          "text": "Date: 2025-09-09, Open:125.85, High:126.59, Low:125.12, Close: 125.52",
          "x": 0.01,
          "xref": "x domain",
          "y": 1,
          "yref": "y domain"
         }
        ],
        "height": 400,
        "legend": {
         "font": {
          "size": 8
         },
         "title": {
          "font": {
           "family": "Arial"
          }
         }
        },
        "template": {
         "data": {
          "bar": [
           {
            "error_x": {
             "color": "#2a3f5f"
            },
            "error_y": {
             "color": "#2a3f5f"
            },
            "marker": {
             "line": {
              "color": "#E5ECF6",
              "width": 0.5
             },
             "pattern": {
              "fillmode": "overlay",
              "size": 10,
              "solidity": 0.2
             }
            },
            "type": "bar"
           }
          ],
          "barpolar": [
           {
            "marker": {
             "line": {
              "color": "#E5ECF6",
              "width": 0.5
             },
             "pattern": {
              "fillmode": "overlay",
              "size": 10,
              "solidity": 0.2
             }
            },
            "type": "barpolar"
           }
          ],
          "carpet": [
           {
            "aaxis": {
             "endlinecolor": "#2a3f5f",
             "gridcolor": "white",
             "linecolor": "white",
             "minorgridcolor": "white",
             "startlinecolor": "#2a3f5f"
            },
            "baxis": {
             "endlinecolor": "#2a3f5f",
             "gridcolor": "white",
             "linecolor": "white",
             "minorgridcolor": "white",
             "startlinecolor": "#2a3f5f"
            },
            "type": "carpet"
           }
          ],
          "choropleth": [
           {
            "colorbar": {
             "outlinewidth": 0,
             "ticks": ""
            },
            "type": "choropleth"
           }
          ],
          "contour": [
           {
            "colorbar": {
             "outlinewidth": 0,
             "ticks": ""
            },
            "colorscale": [
             [
              0,
              "#0d0887"
             ],
             [
              0.1111111111111111,
              "#46039f"
             ],
             [
              0.2222222222222222,
              "#7201a8"
             ],
             [
              0.3333333333333333,
              "#9c179e"
             ],
             [
              0.4444444444444444,
              "#bd3786"
             ],
             [
              0.5555555555555556,
              "#d8576b"
             ],
             [
              0.6666666666666666,
              "#ed7953"
             ],
             [
              0.7777777777777778,
              "#fb9f3a"
             ],
             [
              0.8888888888888888,
              "#fdca26"
             ],
             [
              1,
              "#f0f921"
             ]
            ],
            "type": "contour"
           }
          ],
          "contourcarpet": [
           {
            "colorbar": {
             "outlinewidth": 0,
             "ticks": ""
            },
            "type": "contourcarpet"
           }
          ],
          "heatmap": [
           {
            "colorbar": {
             "outlinewidth": 0,
             "ticks": ""
            },
            "colorscale": [
             [
              0,
              "#0d0887"
             ],
             [
              0.1111111111111111,
              "#46039f"
             ],
             [
              0.2222222222222222,
              "#7201a8"
             ],
             [
              0.3333333333333333,
              "#9c179e"
             ],
             [
              0.4444444444444444,
              "#bd3786"
             ],
             [
              0.5555555555555556,
              "#d8576b"
             ],
             [
              0.6666666666666666,
              "#ed7953"
             ],
             [
              0.7777777777777778,
              "#fb9f3a"
             ],
             [
              0.8888888888888888,
              "#fdca26"
             ],
             [
              1,
              "#f0f921"
             ]
            ],
            "type": "heatmap"
           }
          ],
          "histogram": [
           {
            "marker": {
             "pattern": {
              "fillmode": "overlay",
              "size": 10,
              "solidity": 0.2
             }
            },
            "type": "histogram"
           }
          ],
          "histogram2d": [
           {
            "colorbar": {
             "outlinewidth": 0,
             "ticks": ""
            },
            "colorscale": [
             [
              0,
              "#0d0887"
             ],
             [
              0.1111111111111111,
              "#46039f"
             ],
             [
              0.2222222222222222,
              "#7201a8"
             ],
             [
              0.3333333333333333,
              "#9c179e"
             ],
             [
              0.4444444444444444,
              "#bd3786"
             ],
             [
              0.5555555555555556,
              "#d8576b"
             ],
             [
              0.6666666666666666,
              "#ed7953"
             ],
             [
              0.7777777777777778,
              "#fb9f3a"
             ],
             [
              0.8888888888888888,
              "#fdca26"
             ],
             [
              1,
              "#f0f921"
             ]
            ],
            "type": "histogram2d"
           }
          ],
          "histogram2dcontour": [
           {
            "colorbar": {
             "outlinewidth": 0,
             "ticks": ""
            },
            "colorscale": [
             [
              0,
              "#0d0887"
             ],
             [
              0.1111111111111111,
              "#46039f"
             ],
             [
              0.2222222222222222,
              "#7201a8"
             ],
             [
              0.3333333333333333,
              "#9c179e"
             ],
             [
              0.4444444444444444,
              "#bd3786"
             ],
             [
              0.5555555555555556,
              "#d8576b"
             ],
             [
              0.6666666666666666,
              "#ed7953"
             ],
             [
              0.7777777777777778,
              "#fb9f3a"
             ],
             [
              0.8888888888888888,
              "#fdca26"
             ],
             [
              1,
              "#f0f921"
             ]
            ],
            "type": "histogram2dcontour"
           }
          ],
          "mesh3d": [
           {
            "colorbar": {
             "outlinewidth": 0,
             "ticks": ""
            },
            "type": "mesh3d"
           }
          ],
          "parcoords": [
           {
            "line": {
             "colorbar": {
              "outlinewidth": 0,
              "ticks": ""
             }
            },
            "type": "parcoords"
           }
          ],
          "pie": [
           {
            "automargin": true,
            "type": "pie"
           }
          ],
          "scatter": [
           {
            "fillpattern": {
             "fillmode": "overlay",
             "size": 10,
             "solidity": 0.2
            },
            "type": "scatter"
           }
          ],
          "scatter3d": [
           {
            "line": {
             "colorbar": {
              "outlinewidth": 0,
              "ticks": ""
             }
            },
            "marker": {
             "colorbar": {
              "outlinewidth": 0,
              "ticks": ""
             }
            },
            "type": "scatter3d"
           }
          ],
          "scattercarpet": [
           {
            "marker": {
             "colorbar": {
              "outlinewidth": 0,
              "ticks": ""
             }
            },
            "type": "scattercarpet"
           }
          ],
          "scattergeo": [
           {
            "marker": {
             "colorbar": {
              "outlinewidth": 0,
              "ticks": ""
             }
            },
            "type": "scattergeo"
           }
          ],
          "scattergl": [
           {
            "marker": {
             "colorbar": {
              "outlinewidth": 0,
              "ticks": ""
             }
            },
            "type": "scattergl"
           }
          ],
          "scattermap": [
           {
            "marker": {
             "colorbar": {
              "outlinewidth": 0,
              "ticks": ""
             }
            },
            "type": "scattermap"
           }
          ],
          "scattermapbox": [
           {
            "marker": {
             "colorbar": {
              "outlinewidth": 0,
              "ticks": ""
             }
            },
            "type": "scattermapbox"
           }
          ],
          "scatterpolar": [
           {
            "marker": {
             "colorbar": {
              "outlinewidth": 0,
              "ticks": ""
             }
            },
            "type": "scatterpolar"
           }
          ],
          "scatterpolargl": [
           {
            "marker": {
             "colorbar": {
              "outlinewidth": 0,
              "ticks": ""
             }
            },
            "type": "scatterpolargl"
           }
          ],
          "scatterternary": [
           {
            "marker": {
             "colorbar": {
              "outlinewidth": 0,
              "ticks": ""
             }
            },
            "type": "scatterternary"
           }
          ],
          "surface": [
           {
            "colorbar": {
             "outlinewidth": 0,
             "ticks": ""
            },
            "colorscale": [
             [
              0,
              "#0d0887"
             ],
             [
              0.1111111111111111,
              "#46039f"
             ],
             [
              0.2222222222222222,
              "#7201a8"
             ],
             [
              0.3333333333333333,
              "#9c179e"
             ],
             [
              0.4444444444444444,
              "#bd3786"
             ],
             [
              0.5555555555555556,
              "#d8576b"
             ],
             [
              0.6666666666666666,
              "#ed7953"
             ],
             [
              0.7777777777777778,
              "#fb9f3a"
             ],
             [
              0.8888888888888888,
              "#fdca26"
             ],
             [
              1,
              "#f0f921"
             ]
            ],
            "type": "surface"
           }
          ],
          "table": [
           {
            "cells": {
             "fill": {
              "color": "#EBF0F8"
             },
             "line": {
              "color": "white"
             }
            },
            "header": {
             "fill": {
              "color": "#C8D4E3"
             },
             "line": {
              "color": "white"
             }
            },
            "type": "table"
           }
          ]
         },
         "layout": {
          "annotationdefaults": {
           "arrowcolor": "#2a3f5f",
           "arrowhead": 0,
           "arrowwidth": 1
          },
          "autotypenumbers": "strict",
          "coloraxis": {
           "colorbar": {
            "outlinewidth": 0,
            "ticks": ""
           }
          },
          "colorscale": {
           "diverging": [
            [
             0,
             "#8e0152"
            ],
            [
             0.1,
             "#c51b7d"
            ],
            [
             0.2,
             "#de77ae"
            ],
            [
             0.3,
             "#f1b6da"
            ],
            [
             0.4,
             "#fde0ef"
            ],
            [
             0.5,
             "#f7f7f7"
            ],
            [
             0.6,
             "#e6f5d0"
            ],
            [
             0.7,
             "#b8e186"
            ],
            [
             0.8,
             "#7fbc41"
            ],
            [
             0.9,
             "#4d9221"
            ],
            [
             1,
             "#276419"
            ]
           ],
           "sequential": [
            [
             0,
             "#0d0887"
            ],
            [
             0.1111111111111111,
             "#46039f"
            ],
            [
             0.2222222222222222,
             "#7201a8"
            ],
            [
             0.3333333333333333,
             "#9c179e"
            ],
            [
             0.4444444444444444,
             "#bd3786"
            ],
            [
             0.5555555555555556,
             "#d8576b"
            ],
            [
             0.6666666666666666,
             "#ed7953"
            ],
            [
             0.7777777777777778,
             "#fb9f3a"
            ],
            [
             0.8888888888888888,
             "#fdca26"
            ],
            [
             1,
             "#f0f921"
            ]
           ],
           "sequentialminus": [
            [
             0,
             "#0d0887"
            ],
            [
             0.1111111111111111,
             "#46039f"
            ],
            [
             0.2222222222222222,
             "#7201a8"
            ],
            [
             0.3333333333333333,
             "#9c179e"
            ],
            [
             0.4444444444444444,
             "#bd3786"
            ],
            [
             0.5555555555555556,
             "#d8576b"
            ],
            [
             0.6666666666666666,
             "#ed7953"
            ],
            [
             0.7777777777777778,
             "#fb9f3a"
            ],
            [
             0.8888888888888888,
             "#fdca26"
            ],
            [
             1,
             "#f0f921"
            ]
           ]
          },
          "colorway": [
           "#636efa",
           "#EF553B",
           "#00cc96",
           "#ab63fa",
           "#FFA15A",
           "#19d3f3",
           "#FF6692",
           "#B6E880",
           "#FF97FF",
           "#FECB52"
          ],
          "font": {
           "color": "#2a3f5f"
          },
          "geo": {
           "bgcolor": "white",
           "lakecolor": "white",
           "landcolor": "#E5ECF6",
           "showlakes": true,
           "showland": true,
           "subunitcolor": "white"
          },
          "hoverlabel": {
           "align": "left"
          },
          "hovermode": "closest",
          "mapbox": {
           "style": "light"
          },
          "paper_bgcolor": "white",
          "plot_bgcolor": "#E5ECF6",
          "polar": {
           "angularaxis": {
            "gridcolor": "white",
            "linecolor": "white",
            "ticks": ""
           },
           "bgcolor": "#E5ECF6",
           "radialaxis": {
            "gridcolor": "white",
            "linecolor": "white",
            "ticks": ""
           }
          },
          "scene": {
           "xaxis": {
            "backgroundcolor": "#E5ECF6",
            "gridcolor": "white",
            "gridwidth": 2,
            "linecolor": "white",
            "showbackground": true,
            "ticks": "",
            "zerolinecolor": "white"
           },
           "yaxis": {
            "backgroundcolor": "#E5ECF6",
            "gridcolor": "white",
            "gridwidth": 2,
            "linecolor": "white",
            "showbackground": true,
            "ticks": "",
            "zerolinecolor": "white"
           },
           "zaxis": {
            "backgroundcolor": "#E5ECF6",
            "gridcolor": "white",
            "gridwidth": 2,
            "linecolor": "white",
            "showbackground": true,
            "ticks": "",
            "zerolinecolor": "white"
           }
          },
          "shapedefaults": {
           "line": {
            "color": "#2a3f5f"
           }
          },
          "ternary": {
           "aaxis": {
            "gridcolor": "white",
            "linecolor": "white",
            "ticks": ""
           },
           "baxis": {
            "gridcolor": "white",
            "linecolor": "white",
            "ticks": ""
           },
           "bgcolor": "#E5ECF6",
           "caxis": {
            "gridcolor": "white",
            "linecolor": "white",
            "ticks": ""
           }
          },
          "title": {
           "x": 0.05
          },
          "xaxis": {
           "automargin": true,
           "gridcolor": "white",
           "linecolor": "white",
           "ticks": "",
           "title": {
            "standoff": 15
           },
           "zerolinecolor": "white",
           "zerolinewidth": 2
          },
          "yaxis": {
           "automargin": true,
           "gridcolor": "white",
           "linecolor": "white",
           "ticks": "",
           "title": {
            "standoff": 15
           },
           "zerolinecolor": "white",
           "zerolinewidth": 2
          }
         }
        },
        "title": {
         "text": "TOP 20",
         "x": 0.5
        },
        "width": 600,
        "xaxis": {
         "anchor": "y",
         "domain": [
          0,
          0.94
         ]
        },
        "yaxis": {
         "anchor": "x",
         "domain": [
          0,
          1
         ],
         "side": "right"
        },
        "yaxis2": {
         "anchor": "x",
         "overlaying": "y",
         "side": "right"
        }
       }
      }
     },
     "metadata": {},
     "output_type": "display_data"
    },
    {
     "data": {
      "application/vnd.plotly.v1+json": {
       "config": {
        "plotlyServerURL": "https://plot.ly"
       },
       "data": [
        {
         "name": "STX: 24.56 %",
         "type": "scatter",
         "x": [
          "2024-07-16",
          "2024-07-17",
          "2024-07-18",
          "2024-07-19",
          "2024-07-22",
          "2024-07-23",
          "2024-07-24",
          "2024-07-25",
          "2024-07-26",
          "2024-07-29",
          "2024-07-30",
          "2024-07-31",
          "2024-08-01",
          "2024-08-02",
          "2024-08-05",
          "2024-08-06",
          "2024-08-07",
          "2024-08-08",
          "2024-08-09",
          "2024-08-12",
          "2024-08-13",
          "2024-08-14",
          "2024-08-15",
          "2024-08-16",
          "2024-08-19",
          "2024-08-20",
          "2024-08-21",
          "2024-08-22",
          "2024-08-23",
          "2024-08-26",
          "2024-08-27",
          "2024-08-28",
          "2024-08-29",
          "2024-08-30",
          "2024-09-03",
          "2024-09-04",
          "2024-09-05",
          "2024-09-06",
          "2024-09-09",
          "2024-09-10",
          "2024-09-11",
          "2024-09-12",
          "2024-09-13",
          "2024-09-16",
          "2024-09-17",
          "2024-09-18",
          "2024-09-19",
          "2024-09-20",
          "2024-09-23",
          "2024-09-24",
          "2024-09-25",
          "2024-09-26",
          "2024-09-27",
          "2024-09-30",
          "2024-10-01",
          "2024-10-02",
          "2024-10-03",
          "2024-10-04",
          "2024-10-07",
          "2024-10-08",
          "2024-10-09",
          "2024-10-10",
          "2024-10-11",
          "2024-10-14",
          "2024-10-15",
          "2024-10-16",
          "2024-10-17",
          "2024-10-18",
          "2024-10-21",
          "2024-10-22",
          "2024-10-23",
          "2024-10-24",
          "2024-10-25",
          "2024-10-28",
          "2024-10-29",
          "2024-10-30",
          "2024-10-31",
          "2024-11-01",
          "2024-11-04",
          "2024-11-05",
          "2024-11-06",
          "2024-11-07",
          "2024-11-08",
          "2024-11-11",
          "2024-11-12",
          "2024-11-13",
          "2024-11-14",
          "2024-11-15",
          "2024-11-18",
          "2024-11-19",
          "2024-11-20",
          "2024-11-21",
          "2024-11-22",
          "2024-11-25",
          "2024-11-26",
          "2024-11-27",
          "2024-11-29",
          "2024-12-02",
          "2024-12-03",
          "2024-12-04",
          "2024-12-05",
          "2024-12-06",
          "2024-12-09",
          "2024-12-10",
          "2024-12-11",
          "2024-12-12",
          "2024-12-13",
          "2024-12-16",
          "2024-12-17",
          "2024-12-18",
          "2024-12-19",
          "2024-12-20",
          "2024-12-23",
          "2024-12-24",
          "2024-12-26",
          "2024-12-27",
          "2024-12-30",
          "2024-12-31",
          "2025-01-02",
          "2025-01-03",
          "2025-01-06",
          "2025-01-07",
          "2025-01-08",
          "2025-01-10",
          "2025-01-13",
          "2025-01-14",
          "2025-01-15",
          "2025-01-16",
          "2025-01-17",
          "2025-01-21",
          "2025-01-22",
          "2025-01-23",
          "2025-01-24",
          "2025-01-27",
          "2025-01-28",
          "2025-01-29",
          "2025-01-30",
          "2025-01-31",
          "2025-02-03",
          "2025-02-04",
          "2025-02-05",
          "2025-02-06",
          "2025-02-07",
          "2025-02-10",
          "2025-02-11",
          "2025-02-12",
          "2025-02-13",
          "2025-02-14",
          "2025-02-18",
          "2025-02-19",
          "2025-02-20",
          "2025-02-21",
          "2025-02-24",
          "2025-02-25",
          "2025-02-26",
          "2025-02-27",
          "2025-02-28",
          "2025-03-03",
          "2025-03-04",
          "2025-03-05",
          "2025-03-06",
          "2025-03-07",
          "2025-03-10",
          "2025-03-11",
          "2025-03-12",
          "2025-03-13",
          "2025-03-14",
          "2025-03-17",
          "2025-03-18",
          "2025-03-19",
          "2025-03-20",
          "2025-03-21",
          "2025-03-24",
          "2025-03-25",
          "2025-03-26",
          "2025-03-27",
          "2025-03-28",
          "2025-03-31",
          "2025-04-01",
          "2025-04-02",
          "2025-04-03",
          "2025-04-04",
          "2025-04-07",
          "2025-04-08",
          "2025-04-09",
          "2025-04-10",
          "2025-04-11",
          "2025-04-14",
          "2025-04-15",
          "2025-04-16",
          "2025-04-17",
          "2025-04-21",
          "2025-04-22",
          "2025-04-23",
          "2025-04-24",
          "2025-04-25",
          "2025-04-28",
          "2025-04-29",
          "2025-04-30",
          "2025-05-01",
          "2025-05-02",
          "2025-05-05",
          "2025-05-06",
          "2025-05-07",
          "2025-05-08",
          "2025-05-09",
          "2025-05-12",
          "2025-05-13",
          "2025-05-14",
          "2025-05-15",
          "2025-05-16",
          "2025-05-19",
          "2025-05-20",
          "2025-05-21",
          "2025-05-22",
          "2025-05-23",
          "2025-05-27",
          "2025-05-28",
          "2025-05-29",
          "2025-05-30",
          "2025-06-02",
          "2025-06-03",
          "2025-06-04",
          "2025-06-05",
          "2025-06-06",
          "2025-06-09",
          "2025-06-10",
          "2025-06-11",
          "2025-06-12",
          "2025-06-13",
          "2025-06-16",
          "2025-06-17",
          "2025-06-18",
          "2025-06-20",
          "2025-06-23",
          "2025-06-24",
          "2025-06-25",
          "2025-06-26",
          "2025-06-27",
          "2025-06-30",
          "2025-07-01",
          "2025-07-02",
          "2025-07-03",
          "2025-07-07",
          "2025-07-08",
          "2025-07-09",
          "2025-07-10",
          "2025-07-11",
          "2025-07-14",
          "2025-07-15",
          "2025-07-16",
          "2025-07-17",
          "2025-07-18",
          "2025-07-21",
          "2025-07-22",
          "2025-07-23",
          "2025-07-24",
          "2025-07-25",
          "2025-07-28",
          "2025-07-29",
          "2025-07-30",
          "2025-07-31",
          "2025-08-01",
          "2025-08-04",
          "2025-08-05",
          "2025-08-06",
          "2025-08-07",
          "2025-08-08",
          "2025-08-11",
          "2025-08-12",
          "2025-08-13",
          "2025-08-14",
          "2025-08-15",
          "2025-08-18",
          "2025-08-19",
          "2025-08-20",
          "2025-08-21",
          "2025-08-22",
          "2025-08-25",
          "2025-08-26",
          "2025-08-27",
          "2025-08-28",
          "2025-08-29",
          "2025-09-02",
          "2025-09-03",
          "2025-09-04",
          "2025-09-05",
          "2025-09-08",
          "2025-09-09"
         ],
         "xaxis": "x",
         "y": {
          "bdata": "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",
          "dtype": "f8"
         },
         "yaxis": "y"
        },
        {
         "name": "SMA 50",
         "type": "scatter",
         "x": [
          "2024-07-16",
          "2024-07-17",
          "2024-07-18",
          "2024-07-19",
          "2024-07-22",
          "2024-07-23",
          "2024-07-24",
          "2024-07-25",
          "2024-07-26",
          "2024-07-29",
          "2024-07-30",
          "2024-07-31",
          "2024-08-01",
          "2024-08-02",
          "2024-08-05",
          "2024-08-06",
          "2024-08-07",
          "2024-08-08",
          "2024-08-09",
          "2024-08-12",
          "2024-08-13",
          "2024-08-14",
          "2024-08-15",
          "2024-08-16",
          "2024-08-19",
          "2024-08-20",
          "2024-08-21",
          "2024-08-22",
          "2024-08-23",
          "2024-08-26",
          "2024-08-27",
          "2024-08-28",
          "2024-08-29",
          "2024-08-30",
          "2024-09-03",
          "2024-09-04",
          "2024-09-05",
          "2024-09-06",
          "2024-09-09",
          "2024-09-10",
          "2024-09-11",
          "2024-09-12",
          "2024-09-13",
          "2024-09-16",
          "2024-09-17",
          "2024-09-18",
          "2024-09-19",
          "2024-09-20",
          "2024-09-23",
          "2024-09-24",
          "2024-09-25",
          "2024-09-26",
          "2024-09-27",
          "2024-09-30",
          "2024-10-01",
          "2024-10-02",
          "2024-10-03",
          "2024-10-04",
          "2024-10-07",
          "2024-10-08",
          "2024-10-09",
          "2024-10-10",
          "2024-10-11",
          "2024-10-14",
          "2024-10-15",
          "2024-10-16",
          "2024-10-17",
          "2024-10-18",
          "2024-10-21",
          "2024-10-22",
          "2024-10-23",
          "2024-10-24",
          "2024-10-25",
          "2024-10-28",
          "2024-10-29",
          "2024-10-30",
          "2024-10-31",
          "2024-11-01",
          "2024-11-04",
          "2024-11-05",
          "2024-11-06",
          "2024-11-07",
          "2024-11-08",
          "2024-11-11",
          "2024-11-12",
          "2024-11-13",
          "2024-11-14",
          "2024-11-15",
          "2024-11-18",
          "2024-11-19",
          "2024-11-20",
          "2024-11-21",
          "2024-11-22",
          "2024-11-25",
          "2024-11-26",
          "2024-11-27",
          "2024-11-29",
          "2024-12-02",
          "2024-12-03",
          "2024-12-04",
          "2024-12-05",
          "2024-12-06",
          "2024-12-09",
          "2024-12-10",
          "2024-12-11",
          "2024-12-12",
          "2024-12-13",
          "2024-12-16",
          "2024-12-17",
          "2024-12-18",
          "2024-12-19",
          "2024-12-20",
          "2024-12-23",
          "2024-12-24",
          "2024-12-26",
          "2024-12-27",
          "2024-12-30",
          "2024-12-31",
          "2025-01-02",
          "2025-01-03",
          "2025-01-06",
          "2025-01-07",
          "2025-01-08",
          "2025-01-10",
          "2025-01-13",
          "2025-01-14",
          "2025-01-15",
          "2025-01-16",
          "2025-01-17",
          "2025-01-21",
          "2025-01-22",
          "2025-01-23",
          "2025-01-24",
          "2025-01-27",
          "2025-01-28",
          "2025-01-29",
          "2025-01-30",
          "2025-01-31",
          "2025-02-03",
          "2025-02-04",
          "2025-02-05",
          "2025-02-06",
          "2025-02-07",
          "2025-02-10",
          "2025-02-11",
          "2025-02-12",
          "2025-02-13",
          "2025-02-14",
          "2025-02-18",
          "2025-02-19",
          "2025-02-20",
          "2025-02-21",
          "2025-02-24",
          "2025-02-25",
          "2025-02-26",
          "2025-02-27",
          "2025-02-28",
          "2025-03-03",
          "2025-03-04",
          "2025-03-05",
          "2025-03-06",
          "2025-03-07",
          "2025-03-10",
          "2025-03-11",
          "2025-03-12",
          "2025-03-13",
          "2025-03-14",
          "2025-03-17",
          "2025-03-18",
          "2025-03-19",
          "2025-03-20",
          "2025-03-21",
          "2025-03-24",
          "2025-03-25",
          "2025-03-26",
          "2025-03-27",
          "2025-03-28",
          "2025-03-31",
          "2025-04-01",
          "2025-04-02",
          "2025-04-03",
          "2025-04-04",
          "2025-04-07",
          "2025-04-08",
          "2025-04-09",
          "2025-04-10",
          "2025-04-11",
          "2025-04-14",
          "2025-04-15",
          "2025-04-16",
          "2025-04-17",
          "2025-04-21",
          "2025-04-22",
          "2025-04-23",
          "2025-04-24",
          "2025-04-25",
          "2025-04-28",
          "2025-04-29",
          "2025-04-30",
          "2025-05-01",
          "2025-05-02",
          "2025-05-05",
          "2025-05-06",
          "2025-05-07",
          "2025-05-08",
          "2025-05-09",
          "2025-05-12",
          "2025-05-13",
          "2025-05-14",
          "2025-05-15",
          "2025-05-16",
          "2025-05-19",
          "2025-05-20",
          "2025-05-21",
          "2025-05-22",
          "2025-05-23",
          "2025-05-27",
          "2025-05-28",
          "2025-05-29",
          "2025-05-30",
          "2025-06-02",
          "2025-06-03",
          "2025-06-04",
          "2025-06-05",
          "2025-06-06",
          "2025-06-09",
          "2025-06-10",
          "2025-06-11",
          "2025-06-12",
          "2025-06-13",
          "2025-06-16",
          "2025-06-17",
          "2025-06-18",
          "2025-06-20",
          "2025-06-23",
          "2025-06-24",
          "2025-06-25",
          "2025-06-26",
          "2025-06-27",
          "2025-06-30",
          "2025-07-01",
          "2025-07-02",
          "2025-07-03",
          "2025-07-07",
          "2025-07-08",
          "2025-07-09",
          "2025-07-10",
          "2025-07-11",
          "2025-07-14",
          "2025-07-15",
          "2025-07-16",
          "2025-07-17",
          "2025-07-18",
          "2025-07-21",
          "2025-07-22",
          "2025-07-23",
          "2025-07-24",
          "2025-07-25",
          "2025-07-28",
          "2025-07-29",
          "2025-07-30",
          "2025-07-31",
          "2025-08-01",
          "2025-08-04",
          "2025-08-05",
          "2025-08-06",
          "2025-08-07",
          "2025-08-08",
          "2025-08-11",
          "2025-08-12",
          "2025-08-13",
          "2025-08-14",
          "2025-08-15",
          "2025-08-18",
          "2025-08-19",
          "2025-08-20",
          "2025-08-21",
          "2025-08-22",
          "2025-08-25",
          "2025-08-26",
          "2025-08-27",
          "2025-08-28",
          "2025-08-29",
          "2025-09-02",
          "2025-09-03",
          "2025-09-04",
          "2025-09-05",
          "2025-09-08",
          "2025-09-09"
         ],
         "xaxis": "x",
         "y": {
          "bdata": "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",
          "dtype": "f8"
         },
         "yaxis": "y"
        }
       ],
       "layout": {
        "annotations": [
         {
          "font": {
           "size": 8
          },
          "showarrow": false,
          "text": "Date: 2025-09-09, Open:191.42, High:192.02, Low:188.0, Close: 189.02",
          "x": 0.01,
          "xref": "x domain",
          "y": 1,
          "yref": "y domain"
         }
        ],
        "height": 400,
        "legend": {
         "font": {
          "size": 8
         },
         "title": {
          "font": {
           "family": "Arial"
          }
         }
        },
        "template": {
         "data": {
          "bar": [
           {
            "error_x": {
             "color": "#2a3f5f"
            },
            "error_y": {
             "color": "#2a3f5f"
            },
            "marker": {
             "line": {
              "color": "#E5ECF6",
              "width": 0.5
             },
             "pattern": {
              "fillmode": "overlay",
              "size": 10,
              "solidity": 0.2
             }
            },
            "type": "bar"
           }
          ],
          "barpolar": [
           {
            "marker": {
             "line": {
              "color": "#E5ECF6",
              "width": 0.5
             },
             "pattern": {
              "fillmode": "overlay",
              "size": 10,
              "solidity": 0.2
             }
            },
            "type": "barpolar"
           }
          ],
          "carpet": [
           {
            "aaxis": {
             "endlinecolor": "#2a3f5f",
             "gridcolor": "white",
             "linecolor": "white",
             "minorgridcolor": "white",
             "startlinecolor": "#2a3f5f"
            },
            "baxis": {
             "endlinecolor": "#2a3f5f",
             "gridcolor": "white",
             "linecolor": "white",
             "minorgridcolor": "white",
             "startlinecolor": "#2a3f5f"
            },
            "type": "carpet"
           }
          ],
          "choropleth": [
           {
            "colorbar": {
             "outlinewidth": 0,
             "ticks": ""
            },
            "type": "choropleth"
           }
          ],
          "contour": [
           {
            "colorbar": {
             "outlinewidth": 0,
             "ticks": ""
            },
            "colorscale": [
             [
              0,
              "#0d0887"
             ],
             [
              0.1111111111111111,
              "#46039f"
             ],
             [
              0.2222222222222222,
              "#7201a8"
             ],
             [
              0.3333333333333333,
              "#9c179e"
             ],
             [
              0.4444444444444444,
              "#bd3786"
             ],
             [
              0.5555555555555556,
              "#d8576b"
             ],
             [
              0.6666666666666666,
              "#ed7953"
             ],
             [
              0.7777777777777778,
              "#fb9f3a"
             ],
             [
              0.8888888888888888,
              "#fdca26"
             ],
             [
              1,
              "#f0f921"
             ]
            ],
            "type": "contour"
           }
          ],
          "contourcarpet": [
           {
            "colorbar": {
             "outlinewidth": 0,
             "ticks": ""
            },
            "type": "contourcarpet"
           }
          ],
          "heatmap": [
           {
            "colorbar": {
             "outlinewidth": 0,
             "ticks": ""
            },
            "colorscale": [
             [
              0,
              "#0d0887"
             ],
             [
              0.1111111111111111,
              "#46039f"
             ],
             [
              0.2222222222222222,
              "#7201a8"
             ],
             [
              0.3333333333333333,
              "#9c179e"
             ],
             [
              0.4444444444444444,
              "#bd3786"
             ],
             [
              0.5555555555555556,
              "#d8576b"
             ],
             [
              0.6666666666666666,
              "#ed7953"
             ],
             [
              0.7777777777777778,
              "#fb9f3a"
             ],
             [
              0.8888888888888888,
              "#fdca26"
             ],
             [
              1,
              "#f0f921"
             ]
            ],
            "type": "heatmap"
           }
          ],
          "histogram": [
           {
            "marker": {
             "pattern": {
              "fillmode": "overlay",
              "size": 10,
              "solidity": 0.2
             }
            },
            "type": "histogram"
           }
          ],
          "histogram2d": [
           {
            "colorbar": {
             "outlinewidth": 0,
             "ticks": ""
            },
            "colorscale": [
             [
              0,
              "#0d0887"
             ],
             [
              0.1111111111111111,
              "#46039f"
             ],
             [
              0.2222222222222222,
              "#7201a8"
             ],
             [
              0.3333333333333333,
              "#9c179e"
             ],
             [
              0.4444444444444444,
              "#bd3786"
             ],
             [
              0.5555555555555556,
              "#d8576b"
             ],
             [
              0.6666666666666666,
              "#ed7953"
             ],
             [
              0.7777777777777778,
              "#fb9f3a"
             ],
             [
              0.8888888888888888,
              "#fdca26"
             ],
             [
              1,
              "#f0f921"
             ]
            ],
            "type": "histogram2d"
           }
          ],
          "histogram2dcontour": [
           {
            "colorbar": {
             "outlinewidth": 0,
             "ticks": ""
            },
            "colorscale": [
             [
              0,
              "#0d0887"
             ],
             [
              0.1111111111111111,
              "#46039f"
             ],
             [
              0.2222222222222222,
              "#7201a8"
             ],
             [
              0.3333333333333333,
              "#9c179e"
             ],
             [
              0.4444444444444444,
              "#bd3786"
             ],
             [
              0.5555555555555556,
              "#d8576b"
             ],
             [
              0.6666666666666666,
              "#ed7953"
             ],
             [
              0.7777777777777778,
              "#fb9f3a"
             ],
             [
              0.8888888888888888,
              "#fdca26"
             ],
             [
              1,
              "#f0f921"
             ]
            ],
            "type": "histogram2dcontour"
           }
          ],
          "mesh3d": [
           {
            "colorbar": {
             "outlinewidth": 0,
             "ticks": ""
            },
            "type": "mesh3d"
           }
          ],
          "parcoords": [
           {
            "line": {
             "colorbar": {
              "outlinewidth": 0,
              "ticks": ""
             }
            },
            "type": "parcoords"
           }
          ],
          "pie": [
           {
            "automargin": true,
            "type": "pie"
           }
          ],
          "scatter": [
           {
            "fillpattern": {
             "fillmode": "overlay",
             "size": 10,
             "solidity": 0.2
            },
            "type": "scatter"
           }
          ],
          "scatter3d": [
           {
            "line": {
             "colorbar": {
              "outlinewidth": 0,
              "ticks": ""
             }
            },
            "marker": {
             "colorbar": {
              "outlinewidth": 0,
              "ticks": ""
             }
            },
            "type": "scatter3d"
           }
          ],
          "scattercarpet": [
           {
            "marker": {
             "colorbar": {
              "outlinewidth": 0,
              "ticks": ""
             }
            },
            "type": "scattercarpet"
           }
          ],
          "scattergeo": [
           {
            "marker": {
             "colorbar": {
              "outlinewidth": 0,
              "ticks": ""
             }
            },
            "type": "scattergeo"
           }
          ],
          "scattergl": [
           {
            "marker": {
             "colorbar": {
              "outlinewidth": 0,
              "ticks": ""
             }
            },
            "type": "scattergl"
           }
          ],
          "scattermap": [
           {
            "marker": {
             "colorbar": {
              "outlinewidth": 0,
              "ticks": ""
             }
            },
            "type": "scattermap"
           }
          ],
          "scattermapbox": [
           {
            "marker": {
             "colorbar": {
              "outlinewidth": 0,
              "ticks": ""
             }
            },
            "type": "scattermapbox"
           }
          ],
          "scatterpolar": [
           {
            "marker": {
             "colorbar": {
              "outlinewidth": 0,
              "ticks": ""
             }
            },
            "type": "scatterpolar"
           }
          ],
          "scatterpolargl": [
           {
            "marker": {
             "colorbar": {
              "outlinewidth": 0,
              "ticks": ""
             }
            },
            "type": "scatterpolargl"
           }
          ],
          "scatterternary": [
           {
            "marker": {
             "colorbar": {
              "outlinewidth": 0,
              "ticks": ""
             }
            },
            "type": "scatterternary"
           }
          ],
          "surface": [
           {
            "colorbar": {
             "outlinewidth": 0,
             "ticks": ""
            },
            "colorscale": [
             [
              0,
              "#0d0887"
             ],
             [
              0.1111111111111111,
              "#46039f"
             ],
             [
              0.2222222222222222,
              "#7201a8"
             ],
             [
              0.3333333333333333,
              "#9c179e"
             ],
             [
              0.4444444444444444,
              "#bd3786"
             ],
             [
              0.5555555555555556,
              "#d8576b"
             ],
             [
              0.6666666666666666,
              "#ed7953"
             ],
             [
              0.7777777777777778,
              "#fb9f3a"
             ],
             [
              0.8888888888888888,
              "#fdca26"
             ],
             [
              1,
              "#f0f921"
             ]
            ],
            "type": "surface"
           }
          ],
          "table": [
           {
            "cells": {
             "fill": {
              "color": "#EBF0F8"
             },
             "line": {
              "color": "white"
             }
            },
            "header": {
             "fill": {
              "color": "#C8D4E3"
             },
             "line": {
              "color": "white"
             }
            },
            "type": "table"
           }
          ]
         },
         "layout": {
          "annotationdefaults": {
           "arrowcolor": "#2a3f5f",
           "arrowhead": 0,
           "arrowwidth": 1
          },
          "autotypenumbers": "strict",
          "coloraxis": {
           "colorbar": {
            "outlinewidth": 0,
            "ticks": ""
           }
          },
          "colorscale": {
           "diverging": [
            [
             0,
             "#8e0152"
            ],
            [
             0.1,
             "#c51b7d"
            ],
            [
             0.2,
             "#de77ae"
            ],
            [
             0.3,
             "#f1b6da"
            ],
            [
             0.4,
             "#fde0ef"
            ],
            [
             0.5,
             "#f7f7f7"
            ],
            [
             0.6,
             "#e6f5d0"
            ],
            [
             0.7,
             "#b8e186"
            ],
            [
             0.8,
             "#7fbc41"
            ],
            [
             0.9,
             "#4d9221"
            ],
            [
             1,
             "#276419"
            ]
           ],
           "sequential": [
            [
             0,
             "#0d0887"
            ],
            [
             0.1111111111111111,
             "#46039f"
            ],
            [
             0.2222222222222222,
             "#7201a8"
            ],
            [
             0.3333333333333333,
             "#9c179e"
            ],
            [
             0.4444444444444444,
             "#bd3786"
            ],
            [
             0.5555555555555556,
             "#d8576b"
            ],
            [
             0.6666666666666666,
             "#ed7953"
            ],
            [
             0.7777777777777778,
             "#fb9f3a"
            ],
            [
             0.8888888888888888,
             "#fdca26"
            ],
            [
             1,
             "#f0f921"
            ]
           ],
           "sequentialminus": [
            [
             0,
             "#0d0887"
            ],
            [
             0.1111111111111111,
             "#46039f"
            ],
            [
             0.2222222222222222,
             "#7201a8"
            ],
            [
             0.3333333333333333,
             "#9c179e"
            ],
            [
             0.4444444444444444,
             "#bd3786"
            ],
            [
             0.5555555555555556,
             "#d8576b"
            ],
            [
             0.6666666666666666,
             "#ed7953"
            ],
            [
             0.7777777777777778,
             "#fb9f3a"
            ],
            [
             0.8888888888888888,
             "#fdca26"
            ],
            [
             1,
             "#f0f921"
            ]
           ]
          },
          "colorway": [
           "#636efa",
           "#EF553B",
           "#00cc96",
           "#ab63fa",
           "#FFA15A",
           "#19d3f3",
           "#FF6692",
           "#B6E880",
           "#FF97FF",
           "#FECB52"
          ],
          "font": {
           "color": "#2a3f5f"
          },
          "geo": {
           "bgcolor": "white",
           "lakecolor": "white",
           "landcolor": "#E5ECF6",
           "showlakes": true,
           "showland": true,
           "subunitcolor": "white"
          },
          "hoverlabel": {
           "align": "left"
          },
          "hovermode": "closest",
          "mapbox": {
           "style": "light"
          },
          "paper_bgcolor": "white",
          "plot_bgcolor": "#E5ECF6",
          "polar": {
           "angularaxis": {
            "gridcolor": "white",
            "linecolor": "white",
            "ticks": ""
           },
           "bgcolor": "#E5ECF6",
           "radialaxis": {
            "gridcolor": "white",
            "linecolor": "white",
            "ticks": ""
           }
          },
          "scene": {
           "xaxis": {
            "backgroundcolor": "#E5ECF6",
            "gridcolor": "white",
            "gridwidth": 2,
            "linecolor": "white",
            "showbackground": true,
            "ticks": "",
            "zerolinecolor": "white"
           },
           "yaxis": {
            "backgroundcolor": "#E5ECF6",
            "gridcolor": "white",
            "gridwidth": 2,
            "linecolor": "white",
            "showbackground": true,
            "ticks": "",
            "zerolinecolor": "white"
           },
           "zaxis": {
            "backgroundcolor": "#E5ECF6",
            "gridcolor": "white",
            "gridwidth": 2,
            "linecolor": "white",
            "showbackground": true,
            "ticks": "",
            "zerolinecolor": "white"
           }
          },
          "shapedefaults": {
           "line": {
            "color": "#2a3f5f"
           }
          },
          "ternary": {
           "aaxis": {
            "gridcolor": "white",
            "linecolor": "white",
            "ticks": ""
           },
           "baxis": {
            "gridcolor": "white",
            "linecolor": "white",
            "ticks": ""
           },
           "bgcolor": "#E5ECF6",
           "caxis": {
            "gridcolor": "white",
            "linecolor": "white",
            "ticks": ""
           }
          },
          "title": {
           "x": 0.05
          },
          "xaxis": {
           "automargin": true,
           "gridcolor": "white",
           "linecolor": "white",
           "ticks": "",
           "title": {
            "standoff": 15
           },
           "zerolinecolor": "white",
           "zerolinewidth": 2
          },
          "yaxis": {
           "automargin": true,
           "gridcolor": "white",
           "linecolor": "white",
           "ticks": "",
           "title": {
            "standoff": 15
           },
           "zerolinecolor": "white",
           "zerolinewidth": 2
          }
         }
        },
        "title": {
         "text": "TOP 20",
         "x": 0.5
        },
        "width": 600,
        "xaxis": {
         "anchor": "y",
         "domain": [
          0,
          0.94
         ]
        },
        "yaxis": {
         "anchor": "x",
         "domain": [
          0,
          1
         ],
         "side": "right"
        },
        "yaxis2": {
         "anchor": "x",
         "overlaying": "y",
         "side": "right"
        }
       }
      }
     },
     "metadata": {},
     "output_type": "display_data"
    },
    {
     "data": {
      "application/vnd.plotly.v1+json": {
       "config": {
        "plotlyServerURL": "https://plot.ly"
       },
       "data": [
        {
         "name": "BWA: 23.52 %",
         "type": "scatter",
         "x": [
          "2024-07-16",
          "2024-07-17",
          "2024-07-18",
          "2024-07-19",
          "2024-07-22",
          "2024-07-23",
          "2024-07-24",
          "2024-07-25",
          "2024-07-26",
          "2024-07-29",
          "2024-07-30",
          "2024-07-31",
          "2024-08-01",
          "2024-08-02",
          "2024-08-05",
          "2024-08-06",
          "2024-08-07",
          "2024-08-08",
          "2024-08-09",
          "2024-08-12",
          "2024-08-13",
          "2024-08-14",
          "2024-08-15",
          "2024-08-16",
          "2024-08-19",
          "2024-08-20",
          "2024-08-21",
          "2024-08-22",
          "2024-08-23",
          "2024-08-26",
          "2024-08-27",
          "2024-08-28",
          "2024-08-29",
          "2024-08-30",
          "2024-09-03",
          "2024-09-04",
          "2024-09-05",
          "2024-09-06",
          "2024-09-09",
          "2024-09-10",
          "2024-09-11",
          "2024-09-12",
          "2024-09-13",
          "2024-09-16",
          "2024-09-17",
          "2024-09-18",
          "2024-09-19",
          "2024-09-20",
          "2024-09-23",
          "2024-09-24",
          "2024-09-25",
          "2024-09-26",
          "2024-09-27",
          "2024-09-30",
          "2024-10-01",
          "2024-10-02",
          "2024-10-03",
          "2024-10-04",
          "2024-10-07",
          "2024-10-08",
          "2024-10-09",
          "2024-10-10",
          "2024-10-11",
          "2024-10-14",
          "2024-10-15",
          "2024-10-16",
          "2024-10-17",
          "2024-10-18",
          "2024-10-21",
          "2024-10-22",
          "2024-10-23",
          "2024-10-24",
          "2024-10-25",
          "2024-10-28",
          "2024-10-29",
          "2024-10-30",
          "2024-10-31",
          "2024-11-01",
          "2024-11-04",
          "2024-11-05",
          "2024-11-06",
          "2024-11-07",
          "2024-11-08",
          "2024-11-11",
          "2024-11-12",
          "2024-11-13",
          "2024-11-14",
          "2024-11-15",
          "2024-11-18",
          "2024-11-19",
          "2024-11-20",
          "2024-11-21",
          "2024-11-22",
          "2024-11-25",
          "2024-11-26",
          "2024-11-27",
          "2024-11-29",
          "2024-12-02",
          "2024-12-03",
          "2024-12-04",
          "2024-12-05",
          "2024-12-06",
          "2024-12-09",
          "2024-12-10",
          "2024-12-11",
          "2024-12-12",
          "2024-12-13",
          "2024-12-16",
          "2024-12-17",
          "2024-12-18",
          "2024-12-19",
          "2024-12-20",
          "2024-12-23",
          "2024-12-24",
          "2024-12-26",
          "2024-12-27",
          "2024-12-30",
          "2024-12-31",
          "2025-01-02",
          "2025-01-03",
          "2025-01-06",
          "2025-01-07",
          "2025-01-08",
          "2025-01-10",
          "2025-01-13",
          "2025-01-14",
          "2025-01-15",
          "2025-01-16",
          "2025-01-17",
          "2025-01-21",
          "2025-01-22",
          "2025-01-23",
          "2025-01-24",
          "2025-01-27",
          "2025-01-28",
          "2025-01-29",
          "2025-01-30",
          "2025-01-31",
          "2025-02-03",
          "2025-02-04",
          "2025-02-05",
          "2025-02-06",
          "2025-02-07",
          "2025-02-10",
          "2025-02-11",
          "2025-02-12",
          "2025-02-13",
          "2025-02-14",
          "2025-02-18",
          "2025-02-19",
          "2025-02-20",
          "2025-02-21",
          "2025-02-24",
          "2025-02-25",
          "2025-02-26",
          "2025-02-27",
          "2025-02-28",
          "2025-03-03",
          "2025-03-04",
          "2025-03-05",
          "2025-03-06",
          "2025-03-07",
          "2025-03-10",
          "2025-03-11",
          "2025-03-12",
          "2025-03-13",
          "2025-03-14",
          "2025-03-17",
          "2025-03-18",
          "2025-03-19",
          "2025-03-20",
          "2025-03-21",
          "2025-03-24",
          "2025-03-25",
          "2025-03-26",
          "2025-03-27",
          "2025-03-28",
          "2025-03-31",
          "2025-04-01",
          "2025-04-02",
          "2025-04-03",
          "2025-04-04",
          "2025-04-07",
          "2025-04-08",
          "2025-04-09",
          "2025-04-10",
          "2025-04-11",
          "2025-04-14",
          "2025-04-15",
          "2025-04-16",
          "2025-04-17",
          "2025-04-21",
          "2025-04-22",
          "2025-04-23",
          "2025-04-24",
          "2025-04-25",
          "2025-04-28",
          "2025-04-29",
          "2025-04-30",
          "2025-05-01",
          "2025-05-02",
          "2025-05-05",
          "2025-05-06",
          "2025-05-07",
          "2025-05-08",
          "2025-05-09",
          "2025-05-12",
          "2025-05-13",
          "2025-05-14",
          "2025-05-15",
          "2025-05-16",
          "2025-05-19",
          "2025-05-20",
          "2025-05-21",
          "2025-05-22",
          "2025-05-23",
          "2025-05-27",
          "2025-05-28",
          "2025-05-29",
          "2025-05-30",
          "2025-06-02",
          "2025-06-03",
          "2025-06-04",
          "2025-06-05",
          "2025-06-06",
          "2025-06-09",
          "2025-06-10",
          "2025-06-11",
          "2025-06-12",
          "2025-06-13",
          "2025-06-16",
          "2025-06-17",
          "2025-06-18",
          "2025-06-20",
          "2025-06-23",
          "2025-06-24",
          "2025-06-25",
          "2025-06-26",
          "2025-06-27",
          "2025-06-30",
          "2025-07-01",
          "2025-07-02",
          "2025-07-03",
          "2025-07-07",
          "2025-07-08",
          "2025-07-09",
          "2025-07-10",
          "2025-07-11",
          "2025-07-14",
          "2025-07-15",
          "2025-07-16",
          "2025-07-17",
          "2025-07-18",
          "2025-07-21",
          "2025-07-22",
          "2025-07-23",
          "2025-07-24",
          "2025-07-25",
          "2025-07-28",
          "2025-07-29",
          "2025-07-30",
          "2025-07-31",
          "2025-08-01",
          "2025-08-04",
          "2025-08-05",
          "2025-08-06",
          "2025-08-07",
          "2025-08-08",
          "2025-08-11",
          "2025-08-12",
          "2025-08-13",
          "2025-08-14",
          "2025-08-15",
          "2025-08-18",
          "2025-08-19",
          "2025-08-20",
          "2025-08-21",
          "2025-08-22",
          "2025-08-25",
          "2025-08-26",
          "2025-08-27",
          "2025-08-28",
          "2025-08-29",
          "2025-09-02",
          "2025-09-03",
          "2025-09-04",
          "2025-09-05",
          "2025-09-08",
          "2025-09-09"
         ],
         "xaxis": "x",
         "y": {
          "bdata": "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",
          "dtype": "f8"
         },
         "yaxis": "y"
        },
        {
         "name": "SMA 50",
         "type": "scatter",
         "x": [
          "2024-07-16",
          "2024-07-17",
          "2024-07-18",
          "2024-07-19",
          "2024-07-22",
          "2024-07-23",
          "2024-07-24",
          "2024-07-25",
          "2024-07-26",
          "2024-07-29",
          "2024-07-30",
          "2024-07-31",
          "2024-08-01",
          "2024-08-02",
          "2024-08-05",
          "2024-08-06",
          "2024-08-07",
          "2024-08-08",
          "2024-08-09",
          "2024-08-12",
          "2024-08-13",
          "2024-08-14",
          "2024-08-15",
          "2024-08-16",
          "2024-08-19",
          "2024-08-20",
          "2024-08-21",
          "2024-08-22",
          "2024-08-23",
          "2024-08-26",
          "2024-08-27",
          "2024-08-28",
          "2024-08-29",
          "2024-08-30",
          "2024-09-03",
          "2024-09-04",
          "2024-09-05",
          "2024-09-06",
          "2024-09-09",
          "2024-09-10",
          "2024-09-11",
          "2024-09-12",
          "2024-09-13",
          "2024-09-16",
          "2024-09-17",
          "2024-09-18",
          "2024-09-19",
          "2024-09-20",
          "2024-09-23",
          "2024-09-24",
          "2024-09-25",
          "2024-09-26",
          "2024-09-27",
          "2024-09-30",
          "2024-10-01",
          "2024-10-02",
          "2024-10-03",
          "2024-10-04",
          "2024-10-07",
          "2024-10-08",
          "2024-10-09",
          "2024-10-10",
          "2024-10-11",
          "2024-10-14",
          "2024-10-15",
          "2024-10-16",
          "2024-10-17",
          "2024-10-18",
          "2024-10-21",
          "2024-10-22",
          "2024-10-23",
          "2024-10-24",
          "2024-10-25",
          "2024-10-28",
          "2024-10-29",
          "2024-10-30",
          "2024-10-31",
          "2024-11-01",
          "2024-11-04",
          "2024-11-05",
          "2024-11-06",
          "2024-11-07",
          "2024-11-08",
          "2024-11-11",
          "2024-11-12",
          "2024-11-13",
          "2024-11-14",
          "2024-11-15",
          "2024-11-18",
          "2024-11-19",
          "2024-11-20",
          "2024-11-21",
          "2024-11-22",
          "2024-11-25",
          "2024-11-26",
          "2024-11-27",
          "2024-11-29",
          "2024-12-02",
          "2024-12-03",
          "2024-12-04",
          "2024-12-05",
          "2024-12-06",
          "2024-12-09",
          "2024-12-10",
          "2024-12-11",
          "2024-12-12",
          "2024-12-13",
          "2024-12-16",
          "2024-12-17",
          "2024-12-18",
          "2024-12-19",
          "2024-12-20",
          "2024-12-23",
          "2024-12-24",
          "2024-12-26",
          "2024-12-27",
          "2024-12-30",
          "2024-12-31",
          "2025-01-02",
          "2025-01-03",
          "2025-01-06",
          "2025-01-07",
          "2025-01-08",
          "2025-01-10",
          "2025-01-13",
          "2025-01-14",
          "2025-01-15",
          "2025-01-16",
          "2025-01-17",
          "2025-01-21",
          "2025-01-22",
          "2025-01-23",
          "2025-01-24",
          "2025-01-27",
          "2025-01-28",
          "2025-01-29",
          "2025-01-30",
          "2025-01-31",
          "2025-02-03",
          "2025-02-04",
          "2025-02-05",
          "2025-02-06",
          "2025-02-07",
          "2025-02-10",
          "2025-02-11",
          "2025-02-12",
          "2025-02-13",
          "2025-02-14",
          "2025-02-18",
          "2025-02-19",
          "2025-02-20",
          "2025-02-21",
          "2025-02-24",
          "2025-02-25",
          "2025-02-26",
          "2025-02-27",
          "2025-02-28",
          "2025-03-03",
          "2025-03-04",
          "2025-03-05",
          "2025-03-06",
          "2025-03-07",
          "2025-03-10",
          "2025-03-11",
          "2025-03-12",
          "2025-03-13",
          "2025-03-14",
          "2025-03-17",
          "2025-03-18",
          "2025-03-19",
          "2025-03-20",
          "2025-03-21",
          "2025-03-24",
          "2025-03-25",
          "2025-03-26",
          "2025-03-27",
          "2025-03-28",
          "2025-03-31",
          "2025-04-01",
          "2025-04-02",
          "2025-04-03",
          "2025-04-04",
          "2025-04-07",
          "2025-04-08",
          "2025-04-09",
          "2025-04-10",
          "2025-04-11",
          "2025-04-14",
          "2025-04-15",
          "2025-04-16",
          "2025-04-17",
          "2025-04-21",
          "2025-04-22",
          "2025-04-23",
          "2025-04-24",
          "2025-04-25",
          "2025-04-28",
          "2025-04-29",
          "2025-04-30",
          "2025-05-01",
          "2025-05-02",
          "2025-05-05",
          "2025-05-06",
          "2025-05-07",
          "2025-05-08",
          "2025-05-09",
          "2025-05-12",
          "2025-05-13",
          "2025-05-14",
          "2025-05-15",
          "2025-05-16",
          "2025-05-19",
          "2025-05-20",
          "2025-05-21",
          "2025-05-22",
          "2025-05-23",
          "2025-05-27",
          "2025-05-28",
          "2025-05-29",
          "2025-05-30",
          "2025-06-02",
          "2025-06-03",
          "2025-06-04",
          "2025-06-05",
          "2025-06-06",
          "2025-06-09",
          "2025-06-10",
          "2025-06-11",
          "2025-06-12",
          "2025-06-13",
          "2025-06-16",
          "2025-06-17",
          "2025-06-18",
          "2025-06-20",
          "2025-06-23",
          "2025-06-24",
          "2025-06-25",
          "2025-06-26",
          "2025-06-27",
          "2025-06-30",
          "2025-07-01",
          "2025-07-02",
          "2025-07-03",
          "2025-07-07",
          "2025-07-08",
          "2025-07-09",
          "2025-07-10",
          "2025-07-11",
          "2025-07-14",
          "2025-07-15",
          "2025-07-16",
          "2025-07-17",
          "2025-07-18",
          "2025-07-21",
          "2025-07-22",
          "2025-07-23",
          "2025-07-24",
          "2025-07-25",
          "2025-07-28",
          "2025-07-29",
          "2025-07-30",
          "2025-07-31",
          "2025-08-01",
          "2025-08-04",
          "2025-08-05",
          "2025-08-06",
          "2025-08-07",
          "2025-08-08",
          "2025-08-11",
          "2025-08-12",
          "2025-08-13",
          "2025-08-14",
          "2025-08-15",
          "2025-08-18",
          "2025-08-19",
          "2025-08-20",
          "2025-08-21",
          "2025-08-22",
          "2025-08-25",
          "2025-08-26",
          "2025-08-27",
          "2025-08-28",
          "2025-08-29",
          "2025-09-02",
          "2025-09-03",
          "2025-09-04",
          "2025-09-05",
          "2025-09-08",
          "2025-09-09"
         ],
         "xaxis": "x",
         "y": {
          "bdata": "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",
          "dtype": "f8"
         },
         "yaxis": "y"
        }
       ],
       "layout": {
        "annotations": [
         {
          "font": {
           "size": 8
          },
          "showarrow": false,
          "text": "Date: 2025-09-09, Open:43.69, High:44.35, Low:43.55, Close: 44.43",
          "x": 0.01,
          "xref": "x domain",
          "y": 1,
          "yref": "y domain"
         }
        ],
        "height": 400,
        "legend": {
         "font": {
          "size": 8
         },
         "title": {
          "font": {
           "family": "Arial"
          }
         }
        },
        "template": {
         "data": {
          "bar": [
           {
            "error_x": {
             "color": "#2a3f5f"
            },
            "error_y": {
             "color": "#2a3f5f"
            },
            "marker": {
             "line": {
              "color": "#E5ECF6",
              "width": 0.5
             },
             "pattern": {
              "fillmode": "overlay",
              "size": 10,
              "solidity": 0.2
             }
            },
            "type": "bar"
           }
          ],
          "barpolar": [
           {
            "marker": {
             "line": {
              "color": "#E5ECF6",
              "width": 0.5
             },
             "pattern": {
              "fillmode": "overlay",
              "size": 10,
              "solidity": 0.2
             }
            },
            "type": "barpolar"
           }
          ],
          "carpet": [
           {
            "aaxis": {
             "endlinecolor": "#2a3f5f",
             "gridcolor": "white",
             "linecolor": "white",
             "minorgridcolor": "white",
             "startlinecolor": "#2a3f5f"
            },
            "baxis": {
             "endlinecolor": "#2a3f5f",
             "gridcolor": "white",
             "linecolor": "white",
             "minorgridcolor": "white",
             "startlinecolor": "#2a3f5f"
            },
            "type": "carpet"
           }
          ],
          "choropleth": [
           {
            "colorbar": {
             "outlinewidth": 0,
             "ticks": ""
            },
            "type": "choropleth"
           }
          ],
          "contour": [
           {
            "colorbar": {
             "outlinewidth": 0,
             "ticks": ""
            },
            "colorscale": [
             [
              0,
              "#0d0887"
             ],
             [
              0.1111111111111111,
              "#46039f"
             ],
             [
              0.2222222222222222,
              "#7201a8"
             ],
             [
              0.3333333333333333,
              "#9c179e"
             ],
             [
              0.4444444444444444,
              "#bd3786"
             ],
             [
              0.5555555555555556,
              "#d8576b"
             ],
             [
              0.6666666666666666,
              "#ed7953"
             ],
             [
              0.7777777777777778,
              "#fb9f3a"
             ],
             [
              0.8888888888888888,
              "#fdca26"
             ],
             [
              1,
              "#f0f921"
             ]
            ],
            "type": "contour"
           }
          ],
          "contourcarpet": [
           {
            "colorbar": {
             "outlinewidth": 0,
             "ticks": ""
            },
            "type": "contourcarpet"
           }
          ],
          "heatmap": [
           {
            "colorbar": {
             "outlinewidth": 0,
             "ticks": ""
            },
            "colorscale": [
             [
              0,
              "#0d0887"
             ],
             [
              0.1111111111111111,
              "#46039f"
             ],
             [
              0.2222222222222222,
              "#7201a8"
             ],
             [
              0.3333333333333333,
              "#9c179e"
             ],
             [
              0.4444444444444444,
              "#bd3786"
             ],
             [
              0.5555555555555556,
              "#d8576b"
             ],
             [
              0.6666666666666666,
              "#ed7953"
             ],
             [
              0.7777777777777778,
              "#fb9f3a"
             ],
             [
              0.8888888888888888,
              "#fdca26"
             ],
             [
              1,
              "#f0f921"
             ]
            ],
            "type": "heatmap"
           }
          ],
          "histogram": [
           {
            "marker": {
             "pattern": {
              "fillmode": "overlay",
              "size": 10,
              "solidity": 0.2
             }
            },
            "type": "histogram"
           }
          ],
          "histogram2d": [
           {
            "colorbar": {
             "outlinewidth": 0,
             "ticks": ""
            },
            "colorscale": [
             [
              0,
              "#0d0887"
             ],
             [
              0.1111111111111111,
              "#46039f"
             ],
             [
              0.2222222222222222,
              "#7201a8"
             ],
             [
              0.3333333333333333,
              "#9c179e"
             ],
             [
              0.4444444444444444,
              "#bd3786"
             ],
             [
              0.5555555555555556,
              "#d8576b"
             ],
             [
              0.6666666666666666,
              "#ed7953"
             ],
             [
              0.7777777777777778,
              "#fb9f3a"
             ],
             [
              0.8888888888888888,
              "#fdca26"
             ],
             [
              1,
              "#f0f921"
             ]
            ],
            "type": "histogram2d"
           }
          ],
          "histogram2dcontour": [
           {
            "colorbar": {
             "outlinewidth": 0,
             "ticks": ""
            },
            "colorscale": [
             [
              0,
              "#0d0887"
             ],
             [
              0.1111111111111111,
              "#46039f"
             ],
             [
              0.2222222222222222,
              "#7201a8"
             ],
             [
              0.3333333333333333,
              "#9c179e"
             ],
             [
              0.4444444444444444,
              "#bd3786"
             ],
             [
              0.5555555555555556,
              "#d8576b"
             ],
             [
              0.6666666666666666,
              "#ed7953"
             ],
             [
              0.7777777777777778,
              "#fb9f3a"
             ],
             [
              0.8888888888888888,
              "#fdca26"
             ],
             [
              1,
              "#f0f921"
             ]
            ],
            "type": "histogram2dcontour"
           }
          ],
          "mesh3d": [
           {
            "colorbar": {
             "outlinewidth": 0,
             "ticks": ""
            },
            "type": "mesh3d"
           }
          ],
          "parcoords": [
           {
            "line": {
             "colorbar": {
              "outlinewidth": 0,
              "ticks": ""
             }
            },
            "type": "parcoords"
           }
          ],
          "pie": [
           {
            "automargin": true,
            "type": "pie"
           }
          ],
          "scatter": [
           {
            "fillpattern": {
             "fillmode": "overlay",
             "size": 10,
             "solidity": 0.2
            },
            "type": "scatter"
           }
          ],
          "scatter3d": [
           {
            "line": {
             "colorbar": {
              "outlinewidth": 0,
              "ticks": ""
             }
            },
            "marker": {
             "colorbar": {
              "outlinewidth": 0,
              "ticks": ""
             }
            },
            "type": "scatter3d"
           }
          ],
          "scattercarpet": [
           {
            "marker": {
             "colorbar": {
              "outlinewidth": 0,
              "ticks": ""
             }
            },
            "type": "scattercarpet"
           }
          ],
          "scattergeo": [
           {
            "marker": {
             "colorbar": {
              "outlinewidth": 0,
              "ticks": ""
             }
            },
            "type": "scattergeo"
           }
          ],
          "scattergl": [
           {
            "marker": {
             "colorbar": {
              "outlinewidth": 0,
              "ticks": ""
             }
            },
            "type": "scattergl"
           }
          ],
          "scattermap": [
           {
            "marker": {
             "colorbar": {
              "outlinewidth": 0,
              "ticks": ""
             }
            },
            "type": "scattermap"
           }
          ],
          "scattermapbox": [
           {
            "marker": {
             "colorbar": {
              "outlinewidth": 0,
              "ticks": ""
             }
            },
            "type": "scattermapbox"
           }
          ],
          "scatterpolar": [
           {
            "marker": {
             "colorbar": {
              "outlinewidth": 0,
              "ticks": ""
             }
            },
            "type": "scatterpolar"
           }
          ],
          "scatterpolargl": [
           {
            "marker": {
             "colorbar": {
              "outlinewidth": 0,
              "ticks": ""
             }
            },
            "type": "scatterpolargl"
           }
          ],
          "scatterternary": [
           {
            "marker": {
             "colorbar": {
              "outlinewidth": 0,
              "ticks": ""
             }
            },
            "type": "scatterternary"
           }
          ],
          "surface": [
           {
            "colorbar": {
             "outlinewidth": 0,
             "ticks": ""
            },
            "colorscale": [
             [
              0,
              "#0d0887"
             ],
             [
              0.1111111111111111,
              "#46039f"
             ],
             [
              0.2222222222222222,
              "#7201a8"
             ],
             [
              0.3333333333333333,
              "#9c179e"
             ],
             [
              0.4444444444444444,
              "#bd3786"
             ],
             [
              0.5555555555555556,
              "#d8576b"
             ],
             [
              0.6666666666666666,
              "#ed7953"
             ],
             [
              0.7777777777777778,
              "#fb9f3a"
             ],
             [
              0.8888888888888888,
              "#fdca26"
             ],
             [
              1,
              "#f0f921"
             ]
            ],
            "type": "surface"
           }
          ],
          "table": [
           {
            "cells": {
             "fill": {
              "color": "#EBF0F8"
             },
             "line": {
              "color": "white"
             }
            },
            "header": {
             "fill": {
              "color": "#C8D4E3"
             },
             "line": {
              "color": "white"
             }
            },
            "type": "table"
           }
          ]
         },
         "layout": {
          "annotationdefaults": {
           "arrowcolor": "#2a3f5f",
           "arrowhead": 0,
           "arrowwidth": 1
          },
          "autotypenumbers": "strict",
          "coloraxis": {
           "colorbar": {
            "outlinewidth": 0,
            "ticks": ""
           }
          },
          "colorscale": {
           "diverging": [
            [
             0,
             "#8e0152"
            ],
            [
             0.1,
             "#c51b7d"
            ],
            [
             0.2,
             "#de77ae"
            ],
            [
             0.3,
             "#f1b6da"
            ],
            [
             0.4,
             "#fde0ef"
            ],
            [
             0.5,
             "#f7f7f7"
            ],
            [
             0.6,
             "#e6f5d0"
            ],
            [
             0.7,
             "#b8e186"
            ],
            [
             0.8,
             "#7fbc41"
            ],
            [
             0.9,
             "#4d9221"
            ],
            [
             1,
             "#276419"
            ]
           ],
           "sequential": [
            [
             0,
             "#0d0887"
            ],
            [
             0.1111111111111111,
             "#46039f"
            ],
            [
             0.2222222222222222,
             "#7201a8"
            ],
            [
             0.3333333333333333,
             "#9c179e"
            ],
            [
             0.4444444444444444,
             "#bd3786"
            ],
            [
             0.5555555555555556,
             "#d8576b"
            ],
            [
             0.6666666666666666,
             "#ed7953"
            ],
            [
             0.7777777777777778,
             "#fb9f3a"
            ],
            [
             0.8888888888888888,
             "#fdca26"
            ],
            [
             1,
             "#f0f921"
            ]
           ],
           "sequentialminus": [
            [
             0,
             "#0d0887"
            ],
            [
             0.1111111111111111,
             "#46039f"
            ],
            [
             0.2222222222222222,
             "#7201a8"
            ],
            [
             0.3333333333333333,
             "#9c179e"
            ],
            [
             0.4444444444444444,
             "#bd3786"
            ],
            [
             0.5555555555555556,
             "#d8576b"
            ],
            [
             0.6666666666666666,
             "#ed7953"
            ],
            [
             0.7777777777777778,
             "#fb9f3a"
            ],
            [
             0.8888888888888888,
             "#fdca26"
            ],
            [
             1,
             "#f0f921"
            ]
           ]
          },
          "colorway": [
           "#636efa",
           "#EF553B",
           "#00cc96",
           "#ab63fa",
           "#FFA15A",
           "#19d3f3",
           "#FF6692",
           "#B6E880",
           "#FF97FF",
           "#FECB52"
          ],
          "font": {
           "color": "#2a3f5f"
          },
          "geo": {
           "bgcolor": "white",
           "lakecolor": "white",
           "landcolor": "#E5ECF6",
           "showlakes": true,
           "showland": true,
           "subunitcolor": "white"
          },
          "hoverlabel": {
           "align": "left"
          },
          "hovermode": "closest",
          "mapbox": {
           "style": "light"
          },
          "paper_bgcolor": "white",
          "plot_bgcolor": "#E5ECF6",
          "polar": {
           "angularaxis": {
            "gridcolor": "white",
            "linecolor": "white",
            "ticks": ""
           },
           "bgcolor": "#E5ECF6",
           "radialaxis": {
            "gridcolor": "white",
            "linecolor": "white",
            "ticks": ""
           }
          },
          "scene": {
           "xaxis": {
            "backgroundcolor": "#E5ECF6",
            "gridcolor": "white",
            "gridwidth": 2,
            "linecolor": "white",
            "showbackground": true,
            "ticks": "",
            "zerolinecolor": "white"
           },
           "yaxis": {
            "backgroundcolor": "#E5ECF6",
            "gridcolor": "white",
            "gridwidth": 2,
            "linecolor": "white",
            "showbackground": true,
            "ticks": "",
            "zerolinecolor": "white"
           },
           "zaxis": {
            "backgroundcolor": "#E5ECF6",
            "gridcolor": "white",
            "gridwidth": 2,
            "linecolor": "white",
            "showbackground": true,
            "ticks": "",
            "zerolinecolor": "white"
           }
          },
          "shapedefaults": {
           "line": {
            "color": "#2a3f5f"
           }
          },
          "ternary": {
           "aaxis": {
            "gridcolor": "white",
            "linecolor": "white",
            "ticks": ""
           },
           "baxis": {
            "gridcolor": "white",
            "linecolor": "white",
            "ticks": ""
           },
           "bgcolor": "#E5ECF6",
           "caxis": {
            "gridcolor": "white",
            "linecolor": "white",
            "ticks": ""
           }
          },
          "title": {
           "x": 0.05
          },
          "xaxis": {
           "automargin": true,
           "gridcolor": "white",
           "linecolor": "white",
           "ticks": "",
           "title": {
            "standoff": 15
           },
           "zerolinecolor": "white",
           "zerolinewidth": 2
          },
          "yaxis": {
           "automargin": true,
           "gridcolor": "white",
           "linecolor": "white",
           "ticks": "",
           "title": {
            "standoff": 15
           },
           "zerolinecolor": "white",
           "zerolinewidth": 2
          }
         }
        },
        "title": {
         "text": "TOP 20",
         "x": 0.5
        },
        "width": 600,
        "xaxis": {
         "anchor": "y",
         "domain": [
          0,
          0.94
         ]
        },
        "yaxis": {
         "anchor": "x",
         "domain": [
          0,
          1
         ],
         "side": "right"
        },
        "yaxis2": {
         "anchor": "x",
         "overlaying": "y",
         "side": "right"
        }
       }
      }
     },
     "metadata": {},
     "output_type": "display_data"
    },
    {
     "data": {
      "application/vnd.plotly.v1+json": {
       "config": {
        "plotlyServerURL": "https://plot.ly"
       },
       "data": [
        {
         "name": "THC: 22.47 %",
         "type": "scatter",
         "x": [
          "2024-07-16",
          "2024-07-17",
          "2024-07-18",
          "2024-07-19",
          "2024-07-22",
          "2024-07-23",
          "2024-07-24",
          "2024-07-25",
          "2024-07-26",
          "2024-07-29",
          "2024-07-30",
          "2024-07-31",
          "2024-08-01",
          "2024-08-02",
          "2024-08-05",
          "2024-08-06",
          "2024-08-07",
          "2024-08-08",
          "2024-08-09",
          "2024-08-12",
          "2024-08-13",
          "2024-08-14",
          "2024-08-15",
          "2024-08-16",
          "2024-08-19",
          "2024-08-20",
          "2024-08-21",
          "2024-08-22",
          "2024-08-23",
          "2024-08-26",
          "2024-08-27",
          "2024-08-28",
          "2024-08-29",
          "2024-08-30",
          "2024-09-03",
          "2024-09-04",
          "2024-09-05",
          "2024-09-06",
          "2024-09-09",
          "2024-09-10",
          "2024-09-11",
          "2024-09-12",
          "2024-09-13",
          "2024-09-16",
          "2024-09-17",
          "2024-09-18",
          "2024-09-19",
          "2024-09-20",
          "2024-09-23",
          "2024-09-24",
          "2024-09-25",
          "2024-09-26",
          "2024-09-27",
          "2024-09-30",
          "2024-10-01",
          "2024-10-02",
          "2024-10-03",
          "2024-10-04",
          "2024-10-07",
          "2024-10-08",
          "2024-10-09",
          "2024-10-10",
          "2024-10-11",
          "2024-10-14",
          "2024-10-15",
          "2024-10-16",
          "2024-10-17",
          "2024-10-18",
          "2024-10-21",
          "2024-10-22",
          "2024-10-23",
          "2024-10-24",
          "2024-10-25",
          "2024-10-28",
          "2024-10-29",
          "2024-10-30",
          "2024-10-31",
          "2024-11-01",
          "2024-11-04",
          "2024-11-05",
          "2024-11-06",
          "2024-11-07",
          "2024-11-08",
          "2024-11-11",
          "2024-11-12",
          "2024-11-13",
          "2024-11-14",
          "2024-11-15",
          "2024-11-18",
          "2024-11-19",
          "2024-11-20",
          "2024-11-21",
          "2024-11-22",
          "2024-11-25",
          "2024-11-26",
          "2024-11-27",
          "2024-11-29",
          "2024-12-02",
          "2024-12-03",
          "2024-12-04",
          "2024-12-05",
          "2024-12-06",
          "2024-12-09",
          "2024-12-10",
          "2024-12-11",
          "2024-12-12",
          "2024-12-13",
          "2024-12-16",
          "2024-12-17",
          "2024-12-18",
          "2024-12-19",
          "2024-12-20",
          "2024-12-23",
          "2024-12-24",
          "2024-12-26",
          "2024-12-27",
          "2024-12-30",
          "2024-12-31",
          "2025-01-02",
          "2025-01-03",
          "2025-01-06",
          "2025-01-07",
          "2025-01-08",
          "2025-01-10",
          "2025-01-13",
          "2025-01-14",
          "2025-01-15",
          "2025-01-16",
          "2025-01-17",
          "2025-01-21",
          "2025-01-22",
          "2025-01-23",
          "2025-01-24",
          "2025-01-27",
          "2025-01-28",
          "2025-01-29",
          "2025-01-30",
          "2025-01-31",
          "2025-02-03",
          "2025-02-04",
          "2025-02-05",
          "2025-02-06",
          "2025-02-07",
          "2025-02-10",
          "2025-02-11",
          "2025-02-12",
          "2025-02-13",
          "2025-02-14",
          "2025-02-18",
          "2025-02-19",
          "2025-02-20",
          "2025-02-21",
          "2025-02-24",
          "2025-02-25",
          "2025-02-26",
          "2025-02-27",
          "2025-02-28",
          "2025-03-03",
          "2025-03-04",
          "2025-03-05",
          "2025-03-06",
          "2025-03-07",
          "2025-03-10",
          "2025-03-11",
          "2025-03-12",
          "2025-03-13",
          "2025-03-14",
          "2025-03-17",
          "2025-03-18",
          "2025-03-19",
          "2025-03-20",
          "2025-03-21",
          "2025-03-24",
          "2025-03-25",
          "2025-03-26",
          "2025-03-27",
          "2025-03-28",
          "2025-03-31",
          "2025-04-01",
          "2025-04-02",
          "2025-04-03",
          "2025-04-04",
          "2025-04-07",
          "2025-04-08",
          "2025-04-09",
          "2025-04-10",
          "2025-04-11",
          "2025-04-14",
          "2025-04-15",
          "2025-04-16",
          "2025-04-17",
          "2025-04-21",
          "2025-04-22",
          "2025-04-23",
          "2025-04-24",
          "2025-04-25",
          "2025-04-28",
          "2025-04-29",
          "2025-04-30",
          "2025-05-01",
          "2025-05-02",
          "2025-05-05",
          "2025-05-06",
          "2025-05-07",
          "2025-05-08",
          "2025-05-09",
          "2025-05-12",
          "2025-05-13",
          "2025-05-14",
          "2025-05-15",
          "2025-05-16",
          "2025-05-19",
          "2025-05-20",
          "2025-05-21",
          "2025-05-22",
          "2025-05-23",
          "2025-05-27",
          "2025-05-28",
          "2025-05-29",
          "2025-05-30",
          "2025-06-02",
          "2025-06-03",
          "2025-06-04",
          "2025-06-05",
          "2025-06-06",
          "2025-06-09",
          "2025-06-10",
          "2025-06-11",
          "2025-06-12",
          "2025-06-13",
          "2025-06-16",
          "2025-06-17",
          "2025-06-18",
          "2025-06-20",
          "2025-06-23",
          "2025-06-24",
          "2025-06-25",
          "2025-06-26",
          "2025-06-27",
          "2025-06-30",
          "2025-07-01",
          "2025-07-02",
          "2025-07-03",
          "2025-07-07",
          "2025-07-08",
          "2025-07-09",
          "2025-07-10",
          "2025-07-11",
          "2025-07-14",
          "2025-07-15",
          "2025-07-16",
          "2025-07-17",
          "2025-07-18",
          "2025-07-21",
          "2025-07-22",
          "2025-07-23",
          "2025-07-24",
          "2025-07-25",
          "2025-07-28",
          "2025-07-29",
          "2025-07-30",
          "2025-07-31",
          "2025-08-01",
          "2025-08-04",
          "2025-08-05",
          "2025-08-06",
          "2025-08-07",
          "2025-08-08",
          "2025-08-11",
          "2025-08-12",
          "2025-08-13",
          "2025-08-14",
          "2025-08-15",
          "2025-08-18",
          "2025-08-19",
          "2025-08-20",
          "2025-08-21",
          "2025-08-22",
          "2025-08-25",
          "2025-08-26",
          "2025-08-27",
          "2025-08-28",
          "2025-08-29",
          "2025-09-02",
          "2025-09-03",
          "2025-09-04",
          "2025-09-05",
          "2025-09-08",
          "2025-09-09"
         ],
         "xaxis": "x",
         "y": {
          "bdata": "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",
          "dtype": "f8"
         },
         "yaxis": "y"
        },
        {
         "name": "SMA 50",
         "type": "scatter",
         "x": [
          "2024-07-16",
          "2024-07-17",
          "2024-07-18",
          "2024-07-19",
          "2024-07-22",
          "2024-07-23",
          "2024-07-24",
          "2024-07-25",
          "2024-07-26",
          "2024-07-29",
          "2024-07-30",
          "2024-07-31",
          "2024-08-01",
          "2024-08-02",
          "2024-08-05",
          "2024-08-06",
          "2024-08-07",
          "2024-08-08",
          "2024-08-09",
          "2024-08-12",
          "2024-08-13",
          "2024-08-14",
          "2024-08-15",
          "2024-08-16",
          "2024-08-19",
          "2024-08-20",
          "2024-08-21",
          "2024-08-22",
          "2024-08-23",
          "2024-08-26",
          "2024-08-27",
          "2024-08-28",
          "2024-08-29",
          "2024-08-30",
          "2024-09-03",
          "2024-09-04",
          "2024-09-05",
          "2024-09-06",
          "2024-09-09",
          "2024-09-10",
          "2024-09-11",
          "2024-09-12",
          "2024-09-13",
          "2024-09-16",
          "2024-09-17",
          "2024-09-18",
          "2024-09-19",
          "2024-09-20",
          "2024-09-23",
          "2024-09-24",
          "2024-09-25",
          "2024-09-26",
          "2024-09-27",
          "2024-09-30",
          "2024-10-01",
          "2024-10-02",
          "2024-10-03",
          "2024-10-04",
          "2024-10-07",
          "2024-10-08",
          "2024-10-09",
          "2024-10-10",
          "2024-10-11",
          "2024-10-14",
          "2024-10-15",
          "2024-10-16",
          "2024-10-17",
          "2024-10-18",
          "2024-10-21",
          "2024-10-22",
          "2024-10-23",
          "2024-10-24",
          "2024-10-25",
          "2024-10-28",
          "2024-10-29",
          "2024-10-30",
          "2024-10-31",
          "2024-11-01",
          "2024-11-04",
          "2024-11-05",
          "2024-11-06",
          "2024-11-07",
          "2024-11-08",
          "2024-11-11",
          "2024-11-12",
          "2024-11-13",
          "2024-11-14",
          "2024-11-15",
          "2024-11-18",
          "2024-11-19",
          "2024-11-20",
          "2024-11-21",
          "2024-11-22",
          "2024-11-25",
          "2024-11-26",
          "2024-11-27",
          "2024-11-29",
          "2024-12-02",
          "2024-12-03",
          "2024-12-04",
          "2024-12-05",
          "2024-12-06",
          "2024-12-09",
          "2024-12-10",
          "2024-12-11",
          "2024-12-12",
          "2024-12-13",
          "2024-12-16",
          "2024-12-17",
          "2024-12-18",
          "2024-12-19",
          "2024-12-20",
          "2024-12-23",
          "2024-12-24",
          "2024-12-26",
          "2024-12-27",
          "2024-12-30",
          "2024-12-31",
          "2025-01-02",
          "2025-01-03",
          "2025-01-06",
          "2025-01-07",
          "2025-01-08",
          "2025-01-10",
          "2025-01-13",
          "2025-01-14",
          "2025-01-15",
          "2025-01-16",
          "2025-01-17",
          "2025-01-21",
          "2025-01-22",
          "2025-01-23",
          "2025-01-24",
          "2025-01-27",
          "2025-01-28",
          "2025-01-29",
          "2025-01-30",
          "2025-01-31",
          "2025-02-03",
          "2025-02-04",
          "2025-02-05",
          "2025-02-06",
          "2025-02-07",
          "2025-02-10",
          "2025-02-11",
          "2025-02-12",
          "2025-02-13",
          "2025-02-14",
          "2025-02-18",
          "2025-02-19",
          "2025-02-20",
          "2025-02-21",
          "2025-02-24",
          "2025-02-25",
          "2025-02-26",
          "2025-02-27",
          "2025-02-28",
          "2025-03-03",
          "2025-03-04",
          "2025-03-05",
          "2025-03-06",
          "2025-03-07",
          "2025-03-10",
          "2025-03-11",
          "2025-03-12",
          "2025-03-13",
          "2025-03-14",
          "2025-03-17",
          "2025-03-18",
          "2025-03-19",
          "2025-03-20",
          "2025-03-21",
          "2025-03-24",
          "2025-03-25",
          "2025-03-26",
          "2025-03-27",
          "2025-03-28",
          "2025-03-31",
          "2025-04-01",
          "2025-04-02",
          "2025-04-03",
          "2025-04-04",
          "2025-04-07",
          "2025-04-08",
          "2025-04-09",
          "2025-04-10",
          "2025-04-11",
          "2025-04-14",
          "2025-04-15",
          "2025-04-16",
          "2025-04-17",
          "2025-04-21",
          "2025-04-22",
          "2025-04-23",
          "2025-04-24",
          "2025-04-25",
          "2025-04-28",
          "2025-04-29",
          "2025-04-30",
          "2025-05-01",
          "2025-05-02",
          "2025-05-05",
          "2025-05-06",
          "2025-05-07",
          "2025-05-08",
          "2025-05-09",
          "2025-05-12",
          "2025-05-13",
          "2025-05-14",
          "2025-05-15",
          "2025-05-16",
          "2025-05-19",
          "2025-05-20",
          "2025-05-21",
          "2025-05-22",
          "2025-05-23",
          "2025-05-27",
          "2025-05-28",
          "2025-05-29",
          "2025-05-30",
          "2025-06-02",
          "2025-06-03",
          "2025-06-04",
          "2025-06-05",
          "2025-06-06",
          "2025-06-09",
          "2025-06-10",
          "2025-06-11",
          "2025-06-12",
          "2025-06-13",
          "2025-06-16",
          "2025-06-17",
          "2025-06-18",
          "2025-06-20",
          "2025-06-23",
          "2025-06-24",
          "2025-06-25",
          "2025-06-26",
          "2025-06-27",
          "2025-06-30",
          "2025-07-01",
          "2025-07-02",
          "2025-07-03",
          "2025-07-07",
          "2025-07-08",
          "2025-07-09",
          "2025-07-10",
          "2025-07-11",
          "2025-07-14",
          "2025-07-15",
          "2025-07-16",
          "2025-07-17",
          "2025-07-18",
          "2025-07-21",
          "2025-07-22",
          "2025-07-23",
          "2025-07-24",
          "2025-07-25",
          "2025-07-28",
          "2025-07-29",
          "2025-07-30",
          "2025-07-31",
          "2025-08-01",
          "2025-08-04",
          "2025-08-05",
          "2025-08-06",
          "2025-08-07",
          "2025-08-08",
          "2025-08-11",
          "2025-08-12",
          "2025-08-13",
          "2025-08-14",
          "2025-08-15",
          "2025-08-18",
          "2025-08-19",
          "2025-08-20",
          "2025-08-21",
          "2025-08-22",
          "2025-08-25",
          "2025-08-26",
          "2025-08-27",
          "2025-08-28",
          "2025-08-29",
          "2025-09-02",
          "2025-09-03",
          "2025-09-04",
          "2025-09-05",
          "2025-09-08",
          "2025-09-09"
         ],
         "xaxis": "x",
         "y": {
          "bdata": "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",
          "dtype": "f8"
         },
         "yaxis": "y"
        }
       ],
       "layout": {
        "annotations": [
         {
          "font": {
           "size": 8
          },
          "showarrow": false,
          "text": "Date: 2025-09-09, Open:195.83, High:196.5, Low:185.0, Close: 192.09",
          "x": 0.01,
          "xref": "x domain",
          "y": 1,
          "yref": "y domain"
         }
        ],
        "height": 400,
        "legend": {
         "font": {
          "size": 8
         },
         "title": {
          "font": {
           "family": "Arial"
          }
         }
        },
        "template": {
         "data": {
          "bar": [
           {
            "error_x": {
             "color": "#2a3f5f"
            },
            "error_y": {
             "color": "#2a3f5f"
            },
            "marker": {
             "line": {
              "color": "#E5ECF6",
              "width": 0.5
             },
             "pattern": {
              "fillmode": "overlay",
              "size": 10,
              "solidity": 0.2
             }
            },
            "type": "bar"
           }
          ],
          "barpolar": [
           {
            "marker": {
             "line": {
              "color": "#E5ECF6",
              "width": 0.5
             },
             "pattern": {
              "fillmode": "overlay",
              "size": 10,
              "solidity": 0.2
             }
            },
            "type": "barpolar"
           }
          ],
          "carpet": [
           {
            "aaxis": {
             "endlinecolor": "#2a3f5f",
             "gridcolor": "white",
             "linecolor": "white",
             "minorgridcolor": "white",
             "startlinecolor": "#2a3f5f"
            },
            "baxis": {
             "endlinecolor": "#2a3f5f",
             "gridcolor": "white",
             "linecolor": "white",
             "minorgridcolor": "white",
             "startlinecolor": "#2a3f5f"
            },
            "type": "carpet"
           }
          ],
          "choropleth": [
           {
            "colorbar": {
             "outlinewidth": 0,
             "ticks": ""
            },
            "type": "choropleth"
           }
          ],
          "contour": [
           {
            "colorbar": {
             "outlinewidth": 0,
             "ticks": ""
            },
            "colorscale": [
             [
              0,
              "#0d0887"
             ],
             [
              0.1111111111111111,
              "#46039f"
             ],
             [
              0.2222222222222222,
              "#7201a8"
             ],
             [
              0.3333333333333333,
              "#9c179e"
             ],
             [
              0.4444444444444444,
              "#bd3786"
             ],
             [
              0.5555555555555556,
              "#d8576b"
             ],
             [
              0.6666666666666666,
              "#ed7953"
             ],
             [
              0.7777777777777778,
              "#fb9f3a"
             ],
             [
              0.8888888888888888,
              "#fdca26"
             ],
             [
              1,
              "#f0f921"
             ]
            ],
            "type": "contour"
           }
          ],
          "contourcarpet": [
           {
            "colorbar": {
             "outlinewidth": 0,
             "ticks": ""
            },
            "type": "contourcarpet"
           }
          ],
          "heatmap": [
           {
            "colorbar": {
             "outlinewidth": 0,
             "ticks": ""
            },
            "colorscale": [
             [
              0,
              "#0d0887"
             ],
             [
              0.1111111111111111,
              "#46039f"
             ],
             [
              0.2222222222222222,
              "#7201a8"
             ],
             [
              0.3333333333333333,
              "#9c179e"
             ],
             [
              0.4444444444444444,
              "#bd3786"
             ],
             [
              0.5555555555555556,
              "#d8576b"
             ],
             [
              0.6666666666666666,
              "#ed7953"
             ],
             [
              0.7777777777777778,
              "#fb9f3a"
             ],
             [
              0.8888888888888888,
              "#fdca26"
             ],
             [
              1,
              "#f0f921"
             ]
            ],
            "type": "heatmap"
           }
          ],
          "histogram": [
           {
            "marker": {
             "pattern": {
              "fillmode": "overlay",
              "size": 10,
              "solidity": 0.2
             }
            },
            "type": "histogram"
           }
          ],
          "histogram2d": [
           {
            "colorbar": {
             "outlinewidth": 0,
             "ticks": ""
            },
            "colorscale": [
             [
              0,
              "#0d0887"
             ],
             [
              0.1111111111111111,
              "#46039f"
             ],
             [
              0.2222222222222222,
              "#7201a8"
             ],
             [
              0.3333333333333333,
              "#9c179e"
             ],
             [
              0.4444444444444444,
              "#bd3786"
             ],
             [
              0.5555555555555556,
              "#d8576b"
             ],
             [
              0.6666666666666666,
              "#ed7953"
             ],
             [
              0.7777777777777778,
              "#fb9f3a"
             ],
             [
              0.8888888888888888,
              "#fdca26"
             ],
             [
              1,
              "#f0f921"
             ]
            ],
            "type": "histogram2d"
           }
          ],
          "histogram2dcontour": [
           {
            "colorbar": {
             "outlinewidth": 0,
             "ticks": ""
            },
            "colorscale": [
             [
              0,
              "#0d0887"
             ],
             [
              0.1111111111111111,
              "#46039f"
             ],
             [
              0.2222222222222222,
              "#7201a8"
             ],
             [
              0.3333333333333333,
              "#9c179e"
             ],
             [
              0.4444444444444444,
              "#bd3786"
             ],
             [
              0.5555555555555556,
              "#d8576b"
             ],
             [
              0.6666666666666666,
              "#ed7953"
             ],
             [
              0.7777777777777778,
              "#fb9f3a"
             ],
             [
              0.8888888888888888,
              "#fdca26"
             ],
             [
              1,
              "#f0f921"
             ]
            ],
            "type": "histogram2dcontour"
           }
          ],
          "mesh3d": [
           {
            "colorbar": {
             "outlinewidth": 0,
             "ticks": ""
            },
            "type": "mesh3d"
           }
          ],
          "parcoords": [
           {
            "line": {
             "colorbar": {
              "outlinewidth": 0,
              "ticks": ""
             }
            },
            "type": "parcoords"
           }
          ],
          "pie": [
           {
            "automargin": true,
            "type": "pie"
           }
          ],
          "scatter": [
           {
            "fillpattern": {
             "fillmode": "overlay",
             "size": 10,
             "solidity": 0.2
            },
            "type": "scatter"
           }
          ],
          "scatter3d": [
           {
            "line": {
             "colorbar": {
              "outlinewidth": 0,
              "ticks": ""
             }
            },
            "marker": {
             "colorbar": {
              "outlinewidth": 0,
              "ticks": ""
             }
            },
            "type": "scatter3d"
           }
          ],
          "scattercarpet": [
           {
            "marker": {
             "colorbar": {
              "outlinewidth": 0,
              "ticks": ""
             }
            },
            "type": "scattercarpet"
           }
          ],
          "scattergeo": [
           {
            "marker": {
             "colorbar": {
              "outlinewidth": 0,
              "ticks": ""
             }
            },
            "type": "scattergeo"
           }
          ],
          "scattergl": [
           {
            "marker": {
             "colorbar": {
              "outlinewidth": 0,
              "ticks": ""
             }
            },
            "type": "scattergl"
           }
          ],
          "scattermap": [
           {
            "marker": {
             "colorbar": {
              "outlinewidth": 0,
              "ticks": ""
             }
            },
            "type": "scattermap"
           }
          ],
          "scattermapbox": [
           {
            "marker": {
             "colorbar": {
              "outlinewidth": 0,
              "ticks": ""
             }
            },
            "type": "scattermapbox"
           }
          ],
          "scatterpolar": [
           {
            "marker": {
             "colorbar": {
              "outlinewidth": 0,
              "ticks": ""
             }
            },
            "type": "scatterpolar"
           }
          ],
          "scatterpolargl": [
           {
            "marker": {
             "colorbar": {
              "outlinewidth": 0,
              "ticks": ""
             }
            },
            "type": "scatterpolargl"
           }
          ],
          "scatterternary": [
           {
            "marker": {
             "colorbar": {
              "outlinewidth": 0,
              "ticks": ""
             }
            },
            "type": "scatterternary"
           }
          ],
          "surface": [
           {
            "colorbar": {
             "outlinewidth": 0,
             "ticks": ""
            },
            "colorscale": [
             [
              0,
              "#0d0887"
             ],
             [
              0.1111111111111111,
              "#46039f"
             ],
             [
              0.2222222222222222,
              "#7201a8"
             ],
             [
              0.3333333333333333,
              "#9c179e"
             ],
             [
              0.4444444444444444,
              "#bd3786"
             ],
             [
              0.5555555555555556,
              "#d8576b"
             ],
             [
              0.6666666666666666,
              "#ed7953"
             ],
             [
              0.7777777777777778,
              "#fb9f3a"
             ],
             [
              0.8888888888888888,
              "#fdca26"
             ],
             [
              1,
              "#f0f921"
             ]
            ],
            "type": "surface"
           }
          ],
          "table": [
           {
            "cells": {
             "fill": {
              "color": "#EBF0F8"
             },
             "line": {
              "color": "white"
             }
            },
            "header": {
             "fill": {
              "color": "#C8D4E3"
             },
             "line": {
              "color": "white"
             }
            },
            "type": "table"
           }
          ]
         },
         "layout": {
          "annotationdefaults": {
           "arrowcolor": "#2a3f5f",
           "arrowhead": 0,
           "arrowwidth": 1
          },
          "autotypenumbers": "strict",
          "coloraxis": {
           "colorbar": {
            "outlinewidth": 0,
            "ticks": ""
           }
          },
          "colorscale": {
           "diverging": [
            [
             0,
             "#8e0152"
            ],
            [
             0.1,
             "#c51b7d"
            ],
            [
             0.2,
             "#de77ae"
            ],
            [
             0.3,
             "#f1b6da"
            ],
            [
             0.4,
             "#fde0ef"
            ],
            [
             0.5,
             "#f7f7f7"
            ],
            [
             0.6,
             "#e6f5d0"
            ],
            [
             0.7,
             "#b8e186"
            ],
            [
             0.8,
             "#7fbc41"
            ],
            [
             0.9,
             "#4d9221"
            ],
            [
             1,
             "#276419"
            ]
           ],
           "sequential": [
            [
             0,
             "#0d0887"
            ],
            [
             0.1111111111111111,
             "#46039f"
            ],
            [
             0.2222222222222222,
             "#7201a8"
            ],
            [
             0.3333333333333333,
             "#9c179e"
            ],
            [
             0.4444444444444444,
             "#bd3786"
            ],
            [
             0.5555555555555556,
             "#d8576b"
            ],
            [
             0.6666666666666666,
             "#ed7953"
            ],
            [
             0.7777777777777778,
             "#fb9f3a"
            ],
            [
             0.8888888888888888,
             "#fdca26"
            ],
            [
             1,
             "#f0f921"
            ]
           ],
           "sequentialminus": [
            [
             0,
             "#0d0887"
            ],
            [
             0.1111111111111111,
             "#46039f"
            ],
            [
             0.2222222222222222,
             "#7201a8"
            ],
            [
             0.3333333333333333,
             "#9c179e"
            ],
            [
             0.4444444444444444,
             "#bd3786"
            ],
            [
             0.5555555555555556,
             "#d8576b"
            ],
            [
             0.6666666666666666,
             "#ed7953"
            ],
            [
             0.7777777777777778,
             "#fb9f3a"
            ],
            [
             0.8888888888888888,
             "#fdca26"
            ],
            [
             1,
             "#f0f921"
            ]
           ]
          },
          "colorway": [
           "#636efa",
           "#EF553B",
           "#00cc96",
           "#ab63fa",
           "#FFA15A",
           "#19d3f3",
           "#FF6692",
           "#B6E880",
           "#FF97FF",
           "#FECB52"
          ],
          "font": {
           "color": "#2a3f5f"
          },
          "geo": {
           "bgcolor": "white",
           "lakecolor": "white",
           "landcolor": "#E5ECF6",
           "showlakes": true,
           "showland": true,
           "subunitcolor": "white"
          },
          "hoverlabel": {
           "align": "left"
          },
          "hovermode": "closest",
          "mapbox": {
           "style": "light"
          },
          "paper_bgcolor": "white",
          "plot_bgcolor": "#E5ECF6",
          "polar": {
           "angularaxis": {
            "gridcolor": "white",
            "linecolor": "white",
            "ticks": ""
           },
           "bgcolor": "#E5ECF6",
           "radialaxis": {
            "gridcolor": "white",
            "linecolor": "white",
            "ticks": ""
           }
          },
          "scene": {
           "xaxis": {
            "backgroundcolor": "#E5ECF6",
            "gridcolor": "white",
            "gridwidth": 2,
            "linecolor": "white",
            "showbackground": true,
            "ticks": "",
            "zerolinecolor": "white"
           },
           "yaxis": {
            "backgroundcolor": "#E5ECF6",
            "gridcolor": "white",
            "gridwidth": 2,
            "linecolor": "white",
            "showbackground": true,
            "ticks": "",
            "zerolinecolor": "white"
           },
           "zaxis": {
            "backgroundcolor": "#E5ECF6",
            "gridcolor": "white",
            "gridwidth": 2,
            "linecolor": "white",
            "showbackground": true,
            "ticks": "",
            "zerolinecolor": "white"
           }
          },
          "shapedefaults": {
           "line": {
            "color": "#2a3f5f"
           }
          },
          "ternary": {
           "aaxis": {
            "gridcolor": "white",
            "linecolor": "white",
            "ticks": ""
           },
           "baxis": {
            "gridcolor": "white",
            "linecolor": "white",
            "ticks": ""
           },
           "bgcolor": "#E5ECF6",
           "caxis": {
            "gridcolor": "white",
            "linecolor": "white",
            "ticks": ""
           }
          },
          "title": {
           "x": 0.05
          },
          "xaxis": {
           "automargin": true,
           "gridcolor": "white",
           "linecolor": "white",
           "ticks": "",
           "title": {
            "standoff": 15
           },
           "zerolinecolor": "white",
           "zerolinewidth": 2
          },
          "yaxis": {
           "automargin": true,
           "gridcolor": "white",
           "linecolor": "white",
           "ticks": "",
           "title": {
            "standoff": 15
           },
           "zerolinecolor": "white",
           "zerolinewidth": 2
          }
         }
        },
        "title": {
         "text": "TOP 20",
         "x": 0.5
        },
        "width": 600,
        "xaxis": {
         "anchor": "y",
         "domain": [
          0,
          0.94
         ]
        },
        "yaxis": {
         "anchor": "x",
         "domain": [
          0,
          1
         ],
         "side": "right"
        },
        "yaxis2": {
         "anchor": "x",
         "overlaying": "y",
         "side": "right"
        }
       }
      }
     },
     "metadata": {},
     "output_type": "display_data"
    },
    {
     "data": {
      "application/vnd.plotly.v1+json": {
       "config": {
        "plotlyServerURL": "https://plot.ly"
       },
       "data": [
        {
         "name": "HCA: 21.89 %",
         "type": "scatter",
         "x": [
          "2024-07-16",
          "2024-07-17",
          "2024-07-18",
          "2024-07-19",
          "2024-07-22",
          "2024-07-23",
          "2024-07-24",
          "2024-07-25",
          "2024-07-26",
          "2024-07-29",
          "2024-07-30",
          "2024-07-31",
          "2024-08-01",
          "2024-08-02",
          "2024-08-05",
          "2024-08-06",
          "2024-08-07",
          "2024-08-08",
          "2024-08-09",
          "2024-08-12",
          "2024-08-13",
          "2024-08-14",
          "2024-08-15",
          "2024-08-16",
          "2024-08-19",
          "2024-08-20",
          "2024-08-21",
          "2024-08-22",
          "2024-08-23",
          "2024-08-26",
          "2024-08-27",
          "2024-08-28",
          "2024-08-29",
          "2024-08-30",
          "2024-09-03",
          "2024-09-04",
          "2024-09-05",
          "2024-09-06",
          "2024-09-09",
          "2024-09-10",
          "2024-09-11",
          "2024-09-12",
          "2024-09-13",
          "2024-09-16",
          "2024-09-17",
          "2024-09-18",
          "2024-09-19",
          "2024-09-20",
          "2024-09-23",
          "2024-09-24",
          "2024-09-25",
          "2024-09-26",
          "2024-09-27",
          "2024-09-30",
          "2024-10-01",
          "2024-10-02",
          "2024-10-03",
          "2024-10-04",
          "2024-10-07",
          "2024-10-08",
          "2024-10-09",
          "2024-10-10",
          "2024-10-11",
          "2024-10-14",
          "2024-10-15",
          "2024-10-16",
          "2024-10-17",
          "2024-10-18",
          "2024-10-21",
          "2024-10-22",
          "2024-10-23",
          "2024-10-24",
          "2024-10-25",
          "2024-10-28",
          "2024-10-29",
          "2024-10-30",
          "2024-10-31",
          "2024-11-01",
          "2024-11-04",
          "2024-11-05",
          "2024-11-06",
          "2024-11-07",
          "2024-11-08",
          "2024-11-11",
          "2024-11-12",
          "2024-11-13",
          "2024-11-14",
          "2024-11-15",
          "2024-11-18",
          "2024-11-19",
          "2024-11-20",
          "2024-11-21",
          "2024-11-22",
          "2024-11-25",
          "2024-11-26",
          "2024-11-27",
          "2024-11-29",
          "2024-12-02",
          "2024-12-03",
          "2024-12-04",
          "2024-12-05",
          "2024-12-06",
          "2024-12-09",
          "2024-12-10",
          "2024-12-11",
          "2024-12-12",
          "2024-12-13",
          "2024-12-16",
          "2024-12-17",
          "2024-12-18",
          "2024-12-19",
          "2024-12-20",
          "2024-12-23",
          "2024-12-24",
          "2024-12-26",
          "2024-12-27",
          "2024-12-30",
          "2024-12-31",
          "2025-01-02",
          "2025-01-03",
          "2025-01-06",
          "2025-01-07",
          "2025-01-08",
          "2025-01-10",
          "2025-01-13",
          "2025-01-14",
          "2025-01-15",
          "2025-01-16",
          "2025-01-17",
          "2025-01-21",
          "2025-01-22",
          "2025-01-23",
          "2025-01-24",
          "2025-01-27",
          "2025-01-28",
          "2025-01-29",
          "2025-01-30",
          "2025-01-31",
          "2025-02-03",
          "2025-02-04",
          "2025-02-05",
          "2025-02-06",
          "2025-02-07",
          "2025-02-10",
          "2025-02-11",
          "2025-02-12",
          "2025-02-13",
          "2025-02-14",
          "2025-02-18",
          "2025-02-19",
          "2025-02-20",
          "2025-02-21",
          "2025-02-24",
          "2025-02-25",
          "2025-02-26",
          "2025-02-27",
          "2025-02-28",
          "2025-03-03",
          "2025-03-04",
          "2025-03-05",
          "2025-03-06",
          "2025-03-07",
          "2025-03-10",
          "2025-03-11",
          "2025-03-12",
          "2025-03-13",
          "2025-03-14",
          "2025-03-17",
          "2025-03-18",
          "2025-03-19",
          "2025-03-20",
          "2025-03-21",
          "2025-03-24",
          "2025-03-25",
          "2025-03-26",
          "2025-03-27",
          "2025-03-28",
          "2025-03-31",
          "2025-04-01",
          "2025-04-02",
          "2025-04-03",
          "2025-04-04",
          "2025-04-07",
          "2025-04-08",
          "2025-04-09",
          "2025-04-10",
          "2025-04-11",
          "2025-04-14",
          "2025-04-15",
          "2025-04-16",
          "2025-04-17",
          "2025-04-21",
          "2025-04-22",
          "2025-04-23",
          "2025-04-24",
          "2025-04-25",
          "2025-04-28",
          "2025-04-29",
          "2025-04-30",
          "2025-05-01",
          "2025-05-02",
          "2025-05-05",
          "2025-05-06",
          "2025-05-07",
          "2025-05-08",
          "2025-05-09",
          "2025-05-12",
          "2025-05-13",
          "2025-05-14",
          "2025-05-15",
          "2025-05-16",
          "2025-05-19",
          "2025-05-20",
          "2025-05-21",
          "2025-05-22",
          "2025-05-23",
          "2025-05-27",
          "2025-05-28",
          "2025-05-29",
          "2025-05-30",
          "2025-06-02",
          "2025-06-03",
          "2025-06-04",
          "2025-06-05",
          "2025-06-06",
          "2025-06-09",
          "2025-06-10",
          "2025-06-11",
          "2025-06-12",
          "2025-06-13",
          "2025-06-16",
          "2025-06-17",
          "2025-06-18",
          "2025-06-20",
          "2025-06-23",
          "2025-06-24",
          "2025-06-25",
          "2025-06-26",
          "2025-06-27",
          "2025-06-30",
          "2025-07-01",
          "2025-07-02",
          "2025-07-03",
          "2025-07-07",
          "2025-07-08",
          "2025-07-09",
          "2025-07-10",
          "2025-07-11",
          "2025-07-14",
          "2025-07-15",
          "2025-07-16",
          "2025-07-17",
          "2025-07-18",
          "2025-07-21",
          "2025-07-22",
          "2025-07-23",
          "2025-07-24",
          "2025-07-25",
          "2025-07-28",
          "2025-07-29",
          "2025-07-30",
          "2025-07-31",
          "2025-08-01",
          "2025-08-04",
          "2025-08-05",
          "2025-08-06",
          "2025-08-07",
          "2025-08-08",
          "2025-08-11",
          "2025-08-12",
          "2025-08-13",
          "2025-08-14",
          "2025-08-15",
          "2025-08-18",
          "2025-08-19",
          "2025-08-20",
          "2025-08-21",
          "2025-08-22",
          "2025-08-25",
          "2025-08-26",
          "2025-08-27",
          "2025-08-28",
          "2025-08-29",
          "2025-09-02",
          "2025-09-03",
          "2025-09-04",
          "2025-09-05",
          "2025-09-08",
          "2025-09-09"
         ],
         "xaxis": "x",
         "y": {
          "bdata": "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",
          "dtype": "f8"
         },
         "yaxis": "y"
        },
        {
         "name": "SMA 50",
         "type": "scatter",
         "x": [
          "2024-07-16",
          "2024-07-17",
          "2024-07-18",
          "2024-07-19",
          "2024-07-22",
          "2024-07-23",
          "2024-07-24",
          "2024-07-25",
          "2024-07-26",
          "2024-07-29",
          "2024-07-30",
          "2024-07-31",
          "2024-08-01",
          "2024-08-02",
          "2024-08-05",
          "2024-08-06",
          "2024-08-07",
          "2024-08-08",
          "2024-08-09",
          "2024-08-12",
          "2024-08-13",
          "2024-08-14",
          "2024-08-15",
          "2024-08-16",
          "2024-08-19",
          "2024-08-20",
          "2024-08-21",
          "2024-08-22",
          "2024-08-23",
          "2024-08-26",
          "2024-08-27",
          "2024-08-28",
          "2024-08-29",
          "2024-08-30",
          "2024-09-03",
          "2024-09-04",
          "2024-09-05",
          "2024-09-06",
          "2024-09-09",
          "2024-09-10",
          "2024-09-11",
          "2024-09-12",
          "2024-09-13",
          "2024-09-16",
          "2024-09-17",
          "2024-09-18",
          "2024-09-19",
          "2024-09-20",
          "2024-09-23",
          "2024-09-24",
          "2024-09-25",
          "2024-09-26",
          "2024-09-27",
          "2024-09-30",
          "2024-10-01",
          "2024-10-02",
          "2024-10-03",
          "2024-10-04",
          "2024-10-07",
          "2024-10-08",
          "2024-10-09",
          "2024-10-10",
          "2024-10-11",
          "2024-10-14",
          "2024-10-15",
          "2024-10-16",
          "2024-10-17",
          "2024-10-18",
          "2024-10-21",
          "2024-10-22",
          "2024-10-23",
          "2024-10-24",
          "2024-10-25",
          "2024-10-28",
          "2024-10-29",
          "2024-10-30",
          "2024-10-31",
          "2024-11-01",
          "2024-11-04",
          "2024-11-05",
          "2024-11-06",
          "2024-11-07",
          "2024-11-08",
          "2024-11-11",
          "2024-11-12",
          "2024-11-13",
          "2024-11-14",
          "2024-11-15",
          "2024-11-18",
          "2024-11-19",
          "2024-11-20",
          "2024-11-21",
          "2024-11-22",
          "2024-11-25",
          "2024-11-26",
          "2024-11-27",
          "2024-11-29",
          "2024-12-02",
          "2024-12-03",
          "2024-12-04",
          "2024-12-05",
          "2024-12-06",
          "2024-12-09",
          "2024-12-10",
          "2024-12-11",
          "2024-12-12",
          "2024-12-13",
          "2024-12-16",
          "2024-12-17",
          "2024-12-18",
          "2024-12-19",
          "2024-12-20",
          "2024-12-23",
          "2024-12-24",
          "2024-12-26",
          "2024-12-27",
          "2024-12-30",
          "2024-12-31",
          "2025-01-02",
          "2025-01-03",
          "2025-01-06",
          "2025-01-07",
          "2025-01-08",
          "2025-01-10",
          "2025-01-13",
          "2025-01-14",
          "2025-01-15",
          "2025-01-16",
          "2025-01-17",
          "2025-01-21",
          "2025-01-22",
          "2025-01-23",
          "2025-01-24",
          "2025-01-27",
          "2025-01-28",
          "2025-01-29",
          "2025-01-30",
          "2025-01-31",
          "2025-02-03",
          "2025-02-04",
          "2025-02-05",
          "2025-02-06",
          "2025-02-07",
          "2025-02-10",
          "2025-02-11",
          "2025-02-12",
          "2025-02-13",
          "2025-02-14",
          "2025-02-18",
          "2025-02-19",
          "2025-02-20",
          "2025-02-21",
          "2025-02-24",
          "2025-02-25",
          "2025-02-26",
          "2025-02-27",
          "2025-02-28",
          "2025-03-03",
          "2025-03-04",
          "2025-03-05",
          "2025-03-06",
          "2025-03-07",
          "2025-03-10",
          "2025-03-11",
          "2025-03-12",
          "2025-03-13",
          "2025-03-14",
          "2025-03-17",
          "2025-03-18",
          "2025-03-19",
          "2025-03-20",
          "2025-03-21",
          "2025-03-24",
          "2025-03-25",
          "2025-03-26",
          "2025-03-27",
          "2025-03-28",
          "2025-03-31",
          "2025-04-01",
          "2025-04-02",
          "2025-04-03",
          "2025-04-04",
          "2025-04-07",
          "2025-04-08",
          "2025-04-09",
          "2025-04-10",
          "2025-04-11",
          "2025-04-14",
          "2025-04-15",
          "2025-04-16",
          "2025-04-17",
          "2025-04-21",
          "2025-04-22",
          "2025-04-23",
          "2025-04-24",
          "2025-04-25",
          "2025-04-28",
          "2025-04-29",
          "2025-04-30",
          "2025-05-01",
          "2025-05-02",
          "2025-05-05",
          "2025-05-06",
          "2025-05-07",
          "2025-05-08",
          "2025-05-09",
          "2025-05-12",
          "2025-05-13",
          "2025-05-14",
          "2025-05-15",
          "2025-05-16",
          "2025-05-19",
          "2025-05-20",
          "2025-05-21",
          "2025-05-22",
          "2025-05-23",
          "2025-05-27",
          "2025-05-28",
          "2025-05-29",
          "2025-05-30",
          "2025-06-02",
          "2025-06-03",
          "2025-06-04",
          "2025-06-05",
          "2025-06-06",
          "2025-06-09",
          "2025-06-10",
          "2025-06-11",
          "2025-06-12",
          "2025-06-13",
          "2025-06-16",
          "2025-06-17",
          "2025-06-18",
          "2025-06-20",
          "2025-06-23",
          "2025-06-24",
          "2025-06-25",
          "2025-06-26",
          "2025-06-27",
          "2025-06-30",
          "2025-07-01",
          "2025-07-02",
          "2025-07-03",
          "2025-07-07",
          "2025-07-08",
          "2025-07-09",
          "2025-07-10",
          "2025-07-11",
          "2025-07-14",
          "2025-07-15",
          "2025-07-16",
          "2025-07-17",
          "2025-07-18",
          "2025-07-21",
          "2025-07-22",
          "2025-07-23",
          "2025-07-24",
          "2025-07-25",
          "2025-07-28",
          "2025-07-29",
          "2025-07-30",
          "2025-07-31",
          "2025-08-01",
          "2025-08-04",
          "2025-08-05",
          "2025-08-06",
          "2025-08-07",
          "2025-08-08",
          "2025-08-11",
          "2025-08-12",
          "2025-08-13",
          "2025-08-14",
          "2025-08-15",
          "2025-08-18",
          "2025-08-19",
          "2025-08-20",
          "2025-08-21",
          "2025-08-22",
          "2025-08-25",
          "2025-08-26",
          "2025-08-27",
          "2025-08-28",
          "2025-08-29",
          "2025-09-02",
          "2025-09-03",
          "2025-09-04",
          "2025-09-05",
          "2025-09-08",
          "2025-09-09"
         ],
         "xaxis": "x",
         "y": {
          "bdata": "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",
          "dtype": "f8"
         },
         "yaxis": "y"
        }
       ],
       "layout": {
        "annotations": [
         {
          "font": {
           "size": 8
          },
          "showarrow": false,
          "text": "Date: 2025-09-09, Open:413.44, High:416.23, Low:400.31, Close: 415.8",
          "x": 0.01,
          "xref": "x domain",
          "y": 1,
          "yref": "y domain"
         }
        ],
        "height": 400,
        "legend": {
         "font": {
          "size": 8
         },
         "title": {
          "font": {
           "family": "Arial"
          }
         }
        },
        "template": {
         "data": {
          "bar": [
           {
            "error_x": {
             "color": "#2a3f5f"
            },
            "error_y": {
             "color": "#2a3f5f"
            },
            "marker": {
             "line": {
              "color": "#E5ECF6",
              "width": 0.5
             },
             "pattern": {
              "fillmode": "overlay",
              "size": 10,
              "solidity": 0.2
             }
            },
            "type": "bar"
           }
          ],
          "barpolar": [
           {
            "marker": {
             "line": {
              "color": "#E5ECF6",
              "width": 0.5
             },
             "pattern": {
              "fillmode": "overlay",
              "size": 10,
              "solidity": 0.2
             }
            },
            "type": "barpolar"
           }
          ],
          "carpet": [
           {
            "aaxis": {
             "endlinecolor": "#2a3f5f",
             "gridcolor": "white",
             "linecolor": "white",
             "minorgridcolor": "white",
             "startlinecolor": "#2a3f5f"
            },
            "baxis": {
             "endlinecolor": "#2a3f5f",
             "gridcolor": "white",
             "linecolor": "white",
             "minorgridcolor": "white",
             "startlinecolor": "#2a3f5f"
            },
            "type": "carpet"
           }
          ],
          "choropleth": [
           {
            "colorbar": {
             "outlinewidth": 0,
             "ticks": ""
            },
            "type": "choropleth"
           }
          ],
          "contour": [
           {
            "colorbar": {
             "outlinewidth": 0,
             "ticks": ""
            },
            "colorscale": [
             [
              0,
              "#0d0887"
             ],
             [
              0.1111111111111111,
              "#46039f"
             ],
             [
              0.2222222222222222,
              "#7201a8"
             ],
             [
              0.3333333333333333,
              "#9c179e"
             ],
             [
              0.4444444444444444,
              "#bd3786"
             ],
             [
              0.5555555555555556,
              "#d8576b"
             ],
             [
              0.6666666666666666,
              "#ed7953"
             ],
             [
              0.7777777777777778,
              "#fb9f3a"
             ],
             [
              0.8888888888888888,
              "#fdca26"
             ],
             [
              1,
              "#f0f921"
             ]
            ],
            "type": "contour"
           }
          ],
          "contourcarpet": [
           {
            "colorbar": {
             "outlinewidth": 0,
             "ticks": ""
            },
            "type": "contourcarpet"
           }
          ],
          "heatmap": [
           {
            "colorbar": {
             "outlinewidth": 0,
             "ticks": ""
            },
            "colorscale": [
             [
              0,
              "#0d0887"
             ],
             [
              0.1111111111111111,
              "#46039f"
             ],
             [
              0.2222222222222222,
              "#7201a8"
             ],
             [
              0.3333333333333333,
              "#9c179e"
             ],
             [
              0.4444444444444444,
              "#bd3786"
             ],
             [
              0.5555555555555556,
              "#d8576b"
             ],
             [
              0.6666666666666666,
              "#ed7953"
             ],
             [
              0.7777777777777778,
              "#fb9f3a"
             ],
             [
              0.8888888888888888,
              "#fdca26"
             ],
             [
              1,
              "#f0f921"
             ]
            ],
            "type": "heatmap"
           }
          ],
          "histogram": [
           {
            "marker": {
             "pattern": {
              "fillmode": "overlay",
              "size": 10,
              "solidity": 0.2
             }
            },
            "type": "histogram"
           }
          ],
          "histogram2d": [
           {
            "colorbar": {
             "outlinewidth": 0,
             "ticks": ""
            },
            "colorscale": [
             [
              0,
              "#0d0887"
             ],
             [
              0.1111111111111111,
              "#46039f"
             ],
             [
              0.2222222222222222,
              "#7201a8"
             ],
             [
              0.3333333333333333,
              "#9c179e"
             ],
             [
              0.4444444444444444,
              "#bd3786"
             ],
             [
              0.5555555555555556,
              "#d8576b"
             ],
             [
              0.6666666666666666,
              "#ed7953"
             ],
             [
              0.7777777777777778,
              "#fb9f3a"
             ],
             [
              0.8888888888888888,
              "#fdca26"
             ],
             [
              1,
              "#f0f921"
             ]
            ],
            "type": "histogram2d"
           }
          ],
          "histogram2dcontour": [
           {
            "colorbar": {
             "outlinewidth": 0,
             "ticks": ""
            },
            "colorscale": [
             [
              0,
              "#0d0887"
             ],
             [
              0.1111111111111111,
              "#46039f"
             ],
             [
              0.2222222222222222,
              "#7201a8"
             ],
             [
              0.3333333333333333,
              "#9c179e"
             ],
             [
              0.4444444444444444,
              "#bd3786"
             ],
             [
              0.5555555555555556,
              "#d8576b"
             ],
             [
              0.6666666666666666,
              "#ed7953"
             ],
             [
              0.7777777777777778,
              "#fb9f3a"
             ],
             [
              0.8888888888888888,
              "#fdca26"
             ],
             [
              1,
              "#f0f921"
             ]
            ],
            "type": "histogram2dcontour"
           }
          ],
          "mesh3d": [
           {
            "colorbar": {
             "outlinewidth": 0,
             "ticks": ""
            },
            "type": "mesh3d"
           }
          ],
          "parcoords": [
           {
            "line": {
             "colorbar": {
              "outlinewidth": 0,
              "ticks": ""
             }
            },
            "type": "parcoords"
           }
          ],
          "pie": [
           {
            "automargin": true,
            "type": "pie"
           }
          ],
          "scatter": [
           {
            "fillpattern": {
             "fillmode": "overlay",
             "size": 10,
             "solidity": 0.2
            },
            "type": "scatter"
           }
          ],
          "scatter3d": [
           {
            "line": {
             "colorbar": {
              "outlinewidth": 0,
              "ticks": ""
             }
            },
            "marker": {
             "colorbar": {
              "outlinewidth": 0,
              "ticks": ""
             }
            },
            "type": "scatter3d"
           }
          ],
          "scattercarpet": [
           {
            "marker": {
             "colorbar": {
              "outlinewidth": 0,
              "ticks": ""
             }
            },
            "type": "scattercarpet"
           }
          ],
          "scattergeo": [
           {
            "marker": {
             "colorbar": {
              "outlinewidth": 0,
              "ticks": ""
             }
            },
            "type": "scattergeo"
           }
          ],
          "scattergl": [
           {
            "marker": {
             "colorbar": {
              "outlinewidth": 0,
              "ticks": ""
             }
            },
            "type": "scattergl"
           }
          ],
          "scattermap": [
           {
            "marker": {
             "colorbar": {
              "outlinewidth": 0,
              "ticks": ""
             }
            },
            "type": "scattermap"
           }
          ],
          "scattermapbox": [
           {
            "marker": {
             "colorbar": {
              "outlinewidth": 0,
              "ticks": ""
             }
            },
            "type": "scattermapbox"
           }
          ],
          "scatterpolar": [
           {
            "marker": {
             "colorbar": {
              "outlinewidth": 0,
              "ticks": ""
             }
            },
            "type": "scatterpolar"
           }
          ],
          "scatterpolargl": [
           {
            "marker": {
             "colorbar": {
              "outlinewidth": 0,
              "ticks": ""
             }
            },
            "type": "scatterpolargl"
           }
          ],
          "scatterternary": [
           {
            "marker": {
             "colorbar": {
              "outlinewidth": 0,
              "ticks": ""
             }
            },
            "type": "scatterternary"
           }
          ],
          "surface": [
           {
            "colorbar": {
             "outlinewidth": 0,
             "ticks": ""
            },
            "colorscale": [
             [
              0,
              "#0d0887"
             ],
             [
              0.1111111111111111,
              "#46039f"
             ],
             [
              0.2222222222222222,
              "#7201a8"
             ],
             [
              0.3333333333333333,
              "#9c179e"
             ],
             [
              0.4444444444444444,
              "#bd3786"
             ],
             [
              0.5555555555555556,
              "#d8576b"
             ],
             [
              0.6666666666666666,
              "#ed7953"
             ],
             [
              0.7777777777777778,
              "#fb9f3a"
             ],
             [
              0.8888888888888888,
              "#fdca26"
             ],
             [
              1,
              "#f0f921"
             ]
            ],
            "type": "surface"
           }
          ],
          "table": [
           {
            "cells": {
             "fill": {
              "color": "#EBF0F8"
             },
             "line": {
              "color": "white"
             }
            },
            "header": {
             "fill": {
              "color": "#C8D4E3"
             },
             "line": {
              "color": "white"
             }
            },
            "type": "table"
           }
          ]
         },
         "layout": {
          "annotationdefaults": {
           "arrowcolor": "#2a3f5f",
           "arrowhead": 0,
           "arrowwidth": 1
          },
          "autotypenumbers": "strict",
          "coloraxis": {
           "colorbar": {
            "outlinewidth": 0,
            "ticks": ""
           }
          },
          "colorscale": {
           "diverging": [
            [
             0,
             "#8e0152"
            ],
            [
             0.1,
             "#c51b7d"
            ],
            [
             0.2,
             "#de77ae"
            ],
            [
             0.3,
             "#f1b6da"
            ],
            [
             0.4,
             "#fde0ef"
            ],
            [
             0.5,
             "#f7f7f7"
            ],
            [
             0.6,
             "#e6f5d0"
            ],
            [
             0.7,
             "#b8e186"
            ],
            [
             0.8,
             "#7fbc41"
            ],
            [
             0.9,
             "#4d9221"
            ],
            [
             1,
             "#276419"
            ]
           ],
           "sequential": [
            [
             0,
             "#0d0887"
            ],
            [
             0.1111111111111111,
             "#46039f"
            ],
            [
             0.2222222222222222,
             "#7201a8"
            ],
            [
             0.3333333333333333,
             "#9c179e"
            ],
            [
             0.4444444444444444,
             "#bd3786"
            ],
            [
             0.5555555555555556,
             "#d8576b"
            ],
            [
             0.6666666666666666,
             "#ed7953"
            ],
            [
             0.7777777777777778,
             "#fb9f3a"
            ],
            [
             0.8888888888888888,
             "#fdca26"
            ],
            [
             1,
             "#f0f921"
            ]
           ],
           "sequentialminus": [
            [
             0,
             "#0d0887"
            ],
            [
             0.1111111111111111,
             "#46039f"
            ],
            [
             0.2222222222222222,
             "#7201a8"
            ],
            [
             0.3333333333333333,
             "#9c179e"
            ],
            [
             0.4444444444444444,
             "#bd3786"
            ],
            [
             0.5555555555555556,
             "#d8576b"
            ],
            [
             0.6666666666666666,
             "#ed7953"
            ],
            [
             0.7777777777777778,
             "#fb9f3a"
            ],
            [
             0.8888888888888888,
             "#fdca26"
            ],
            [
             1,
             "#f0f921"
            ]
           ]
          },
          "colorway": [
           "#636efa",
           "#EF553B",
           "#00cc96",
           "#ab63fa",
           "#FFA15A",
           "#19d3f3",
           "#FF6692",
           "#B6E880",
           "#FF97FF",
           "#FECB52"
          ],
          "font": {
           "color": "#2a3f5f"
          },
          "geo": {
           "bgcolor": "white",
           "lakecolor": "white",
           "landcolor": "#E5ECF6",
           "showlakes": true,
           "showland": true,
           "subunitcolor": "white"
          },
          "hoverlabel": {
           "align": "left"
          },
          "hovermode": "closest",
          "mapbox": {
           "style": "light"
          },
          "paper_bgcolor": "white",
          "plot_bgcolor": "#E5ECF6",
          "polar": {
           "angularaxis": {
            "gridcolor": "white",
            "linecolor": "white",
            "ticks": ""
           },
           "bgcolor": "#E5ECF6",
           "radialaxis": {
            "gridcolor": "white",
            "linecolor": "white",
            "ticks": ""
           }
          },
          "scene": {
           "xaxis": {
            "backgroundcolor": "#E5ECF6",
            "gridcolor": "white",
            "gridwidth": 2,
            "linecolor": "white",
            "showbackground": true,
            "ticks": "",
            "zerolinecolor": "white"
           },
           "yaxis": {
            "backgroundcolor": "#E5ECF6",
            "gridcolor": "white",
            "gridwidth": 2,
            "linecolor": "white",
            "showbackground": true,
            "ticks": "",
            "zerolinecolor": "white"
           },
           "zaxis": {
            "backgroundcolor": "#E5ECF6",
            "gridcolor": "white",
            "gridwidth": 2,
            "linecolor": "white",
            "showbackground": true,
            "ticks": "",
            "zerolinecolor": "white"
           }
          },
          "shapedefaults": {
           "line": {
            "color": "#2a3f5f"
           }
          },
          "ternary": {
           "aaxis": {
            "gridcolor": "white",
            "linecolor": "white",
            "ticks": ""
           },
           "baxis": {
            "gridcolor": "white",
            "linecolor": "white",
            "ticks": ""
           },
           "bgcolor": "#E5ECF6",
           "caxis": {
            "gridcolor": "white",
            "linecolor": "white",
            "ticks": ""
           }
          },
          "title": {
           "x": 0.05
          },
          "xaxis": {
           "automargin": true,
           "gridcolor": "white",
           "linecolor": "white",
           "ticks": "",
           "title": {
            "standoff": 15
           },
           "zerolinecolor": "white",
           "zerolinewidth": 2
          },
          "yaxis": {
           "automargin": true,
           "gridcolor": "white",
           "linecolor": "white",
           "ticks": "",
           "title": {
            "standoff": 15
           },
           "zerolinecolor": "white",
           "zerolinewidth": 2
          }
         }
        },
        "title": {
         "text": "TOP 20",
         "x": 0.5
        },
        "width": 600,
        "xaxis": {
         "anchor": "y",
         "domain": [
          0,
          0.94
         ]
        },
        "yaxis": {
         "anchor": "x",
         "domain": [
          0,
          1
         ],
         "side": "right"
        },
        "yaxis2": {
         "anchor": "x",
         "overlaying": "y",
         "side": "right"
        }
       }
      }
     },
     "metadata": {},
     "output_type": "display_data"
    },
    {
     "data": {
      "application/vnd.plotly.v1+json": {
       "config": {
        "plotlyServerURL": "https://plot.ly"
       },
       "data": [
        {
         "name": "LEN: 21.75 %",
         "type": "scatter",
         "x": [
          "2024-07-16",
          "2024-07-17",
          "2024-07-18",
          "2024-07-19",
          "2024-07-22",
          "2024-07-23",
          "2024-07-24",
          "2024-07-25",
          "2024-07-26",
          "2024-07-29",
          "2024-07-30",
          "2024-07-31",
          "2024-08-01",
          "2024-08-02",
          "2024-08-05",
          "2024-08-06",
          "2024-08-07",
          "2024-08-08",
          "2024-08-09",
          "2024-08-12",
          "2024-08-13",
          "2024-08-14",
          "2024-08-15",
          "2024-08-16",
          "2024-08-19",
          "2024-08-20",
          "2024-08-21",
          "2024-08-22",
          "2024-08-23",
          "2024-08-26",
          "2024-08-27",
          "2024-08-28",
          "2024-08-29",
          "2024-08-30",
          "2024-09-03",
          "2024-09-04",
          "2024-09-05",
          "2024-09-06",
          "2024-09-09",
          "2024-09-10",
          "2024-09-11",
          "2024-09-12",
          "2024-09-13",
          "2024-09-16",
          "2024-09-17",
          "2024-09-18",
          "2024-09-19",
          "2024-09-20",
          "2024-09-23",
          "2024-09-24",
          "2024-09-25",
          "2024-09-26",
          "2024-09-27",
          "2024-09-30",
          "2024-10-01",
          "2024-10-02",
          "2024-10-03",
          "2024-10-04",
          "2024-10-07",
          "2024-10-08",
          "2024-10-09",
          "2024-10-10",
          "2024-10-11",
          "2024-10-14",
          "2024-10-15",
          "2024-10-16",
          "2024-10-17",
          "2024-10-18",
          "2024-10-21",
          "2024-10-22",
          "2024-10-23",
          "2024-10-24",
          "2024-10-25",
          "2024-10-28",
          "2024-10-29",
          "2024-10-30",
          "2024-10-31",
          "2024-11-01",
          "2024-11-04",
          "2024-11-05",
          "2024-11-06",
          "2024-11-07",
          "2024-11-08",
          "2024-11-11",
          "2024-11-12",
          "2024-11-13",
          "2024-11-14",
          "2024-11-15",
          "2024-11-18",
          "2024-11-19",
          "2024-11-20",
          "2024-11-21",
          "2024-11-22",
          "2024-11-25",
          "2024-11-26",
          "2024-11-27",
          "2024-11-29",
          "2024-12-02",
          "2024-12-03",
          "2024-12-04",
          "2024-12-05",
          "2024-12-06",
          "2024-12-09",
          "2024-12-10",
          "2024-12-11",
          "2024-12-12",
          "2024-12-13",
          "2024-12-16",
          "2024-12-17",
          "2024-12-18",
          "2024-12-19",
          "2024-12-20",
          "2024-12-23",
          "2024-12-24",
          "2024-12-26",
          "2024-12-27",
          "2024-12-30",
          "2024-12-31",
          "2025-01-02",
          "2025-01-03",
          "2025-01-06",
          "2025-01-07",
          "2025-01-08",
          "2025-01-10",
          "2025-01-13",
          "2025-01-14",
          "2025-01-15",
          "2025-01-16",
          "2025-01-17",
          "2025-01-21",
          "2025-01-22",
          "2025-01-23",
          "2025-01-24",
          "2025-01-27",
          "2025-01-28",
          "2025-01-29",
          "2025-01-30",
          "2025-01-31",
          "2025-02-03",
          "2025-02-04",
          "2025-02-05",
          "2025-02-06",
          "2025-02-07",
          "2025-02-10",
          "2025-02-11",
          "2025-02-12",
          "2025-02-13",
          "2025-02-14",
          "2025-02-18",
          "2025-02-19",
          "2025-02-20",
          "2025-02-21",
          "2025-02-24",
          "2025-02-25",
          "2025-02-26",
          "2025-02-27",
          "2025-02-28",
          "2025-03-03",
          "2025-03-04",
          "2025-03-05",
          "2025-03-06",
          "2025-03-07",
          "2025-03-10",
          "2025-03-11",
          "2025-03-12",
          "2025-03-13",
          "2025-03-14",
          "2025-03-17",
          "2025-03-18",
          "2025-03-19",
          "2025-03-20",
          "2025-03-21",
          "2025-03-24",
          "2025-03-25",
          "2025-03-26",
          "2025-03-27",
          "2025-03-28",
          "2025-03-31",
          "2025-04-01",
          "2025-04-02",
          "2025-04-03",
          "2025-04-04",
          "2025-04-07",
          "2025-04-08",
          "2025-04-09",
          "2025-04-10",
          "2025-04-11",
          "2025-04-14",
          "2025-04-15",
          "2025-04-16",
          "2025-04-17",
          "2025-04-21",
          "2025-04-22",
          "2025-04-23",
          "2025-04-24",
          "2025-04-25",
          "2025-04-28",
          "2025-04-29",
          "2025-04-30",
          "2025-05-01",
          "2025-05-02",
          "2025-05-05",
          "2025-05-06",
          "2025-05-07",
          "2025-05-08",
          "2025-05-09",
          "2025-05-12",
          "2025-05-13",
          "2025-05-14",
          "2025-05-15",
          "2025-05-16",
          "2025-05-19",
          "2025-05-20",
          "2025-05-21",
          "2025-05-22",
          "2025-05-23",
          "2025-05-27",
          "2025-05-28",
          "2025-05-29",
          "2025-05-30",
          "2025-06-02",
          "2025-06-03",
          "2025-06-04",
          "2025-06-05",
          "2025-06-06",
          "2025-06-09",
          "2025-06-10",
          "2025-06-11",
          "2025-06-12",
          "2025-06-13",
          "2025-06-16",
          "2025-06-17",
          "2025-06-18",
          "2025-06-20",
          "2025-06-23",
          "2025-06-24",
          "2025-06-25",
          "2025-06-26",
          "2025-06-27",
          "2025-06-30",
          "2025-07-01",
          "2025-07-02",
          "2025-07-03",
          "2025-07-07",
          "2025-07-08",
          "2025-07-09",
          "2025-07-10",
          "2025-07-11",
          "2025-07-14",
          "2025-07-15",
          "2025-07-16",
          "2025-07-17",
          "2025-07-18",
          "2025-07-21",
          "2025-07-22",
          "2025-07-23",
          "2025-07-24",
          "2025-07-25",
          "2025-07-28",
          "2025-07-29",
          "2025-07-30",
          "2025-07-31",
          "2025-08-01",
          "2025-08-04",
          "2025-08-05",
          "2025-08-06",
          "2025-08-07",
          "2025-08-08",
          "2025-08-11",
          "2025-08-12",
          "2025-08-13",
          "2025-08-14",
          "2025-08-15",
          "2025-08-18",
          "2025-08-19",
          "2025-08-20",
          "2025-08-21",
          "2025-08-22",
          "2025-08-25",
          "2025-08-26",
          "2025-08-27",
          "2025-08-28",
          "2025-08-29",
          "2025-09-02",
          "2025-09-03",
          "2025-09-04",
          "2025-09-05",
          "2025-09-08",
          "2025-09-09"
         ],
         "xaxis": "x",
         "y": {
          "bdata": "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",
          "dtype": "f8"
         },
         "yaxis": "y"
        },
        {
         "name": "SMA 50",
         "type": "scatter",
         "x": [
          "2024-07-16",
          "2024-07-17",
          "2024-07-18",
          "2024-07-19",
          "2024-07-22",
          "2024-07-23",
          "2024-07-24",
          "2024-07-25",
          "2024-07-26",
          "2024-07-29",
          "2024-07-30",
          "2024-07-31",
          "2024-08-01",
          "2024-08-02",
          "2024-08-05",
          "2024-08-06",
          "2024-08-07",
          "2024-08-08",
          "2024-08-09",
          "2024-08-12",
          "2024-08-13",
          "2024-08-14",
          "2024-08-15",
          "2024-08-16",
          "2024-08-19",
          "2024-08-20",
          "2024-08-21",
          "2024-08-22",
          "2024-08-23",
          "2024-08-26",
          "2024-08-27",
          "2024-08-28",
          "2024-08-29",
          "2024-08-30",
          "2024-09-03",
          "2024-09-04",
          "2024-09-05",
          "2024-09-06",
          "2024-09-09",
          "2024-09-10",
          "2024-09-11",
          "2024-09-12",
          "2024-09-13",
          "2024-09-16",
          "2024-09-17",
          "2024-09-18",
          "2024-09-19",
          "2024-09-20",
          "2024-09-23",
          "2024-09-24",
          "2024-09-25",
          "2024-09-26",
          "2024-09-27",
          "2024-09-30",
          "2024-10-01",
          "2024-10-02",
          "2024-10-03",
          "2024-10-04",
          "2024-10-07",
          "2024-10-08",
          "2024-10-09",
          "2024-10-10",
          "2024-10-11",
          "2024-10-14",
          "2024-10-15",
          "2024-10-16",
          "2024-10-17",
          "2024-10-18",
          "2024-10-21",
          "2024-10-22",
          "2024-10-23",
          "2024-10-24",
          "2024-10-25",
          "2024-10-28",
          "2024-10-29",
          "2024-10-30",
          "2024-10-31",
          "2024-11-01",
          "2024-11-04",
          "2024-11-05",
          "2024-11-06",
          "2024-11-07",
          "2024-11-08",
          "2024-11-11",
          "2024-11-12",
          "2024-11-13",
          "2024-11-14",
          "2024-11-15",
          "2024-11-18",
          "2024-11-19",
          "2024-11-20",
          "2024-11-21",
          "2024-11-22",
          "2024-11-25",
          "2024-11-26",
          "2024-11-27",
          "2024-11-29",
          "2024-12-02",
          "2024-12-03",
          "2024-12-04",
          "2024-12-05",
          "2024-12-06",
          "2024-12-09",
          "2024-12-10",
          "2024-12-11",
          "2024-12-12",
          "2024-12-13",
          "2024-12-16",
          "2024-12-17",
          "2024-12-18",
          "2024-12-19",
          "2024-12-20",
          "2024-12-23",
          "2024-12-24",
          "2024-12-26",
          "2024-12-27",
          "2024-12-30",
          "2024-12-31",
          "2025-01-02",
          "2025-01-03",
          "2025-01-06",
          "2025-01-07",
          "2025-01-08",
          "2025-01-10",
          "2025-01-13",
          "2025-01-14",
          "2025-01-15",
          "2025-01-16",
          "2025-01-17",
          "2025-01-21",
          "2025-01-22",
          "2025-01-23",
          "2025-01-24",
          "2025-01-27",
          "2025-01-28",
          "2025-01-29",
          "2025-01-30",
          "2025-01-31",
          "2025-02-03",
          "2025-02-04",
          "2025-02-05",
          "2025-02-06",
          "2025-02-07",
          "2025-02-10",
          "2025-02-11",
          "2025-02-12",
          "2025-02-13",
          "2025-02-14",
          "2025-02-18",
          "2025-02-19",
          "2025-02-20",
          "2025-02-21",
          "2025-02-24",
          "2025-02-25",
          "2025-02-26",
          "2025-02-27",
          "2025-02-28",
          "2025-03-03",
          "2025-03-04",
          "2025-03-05",
          "2025-03-06",
          "2025-03-07",
          "2025-03-10",
          "2025-03-11",
          "2025-03-12",
          "2025-03-13",
          "2025-03-14",
          "2025-03-17",
          "2025-03-18",
          "2025-03-19",
          "2025-03-20",
          "2025-03-21",
          "2025-03-24",
          "2025-03-25",
          "2025-03-26",
          "2025-03-27",
          "2025-03-28",
          "2025-03-31",
          "2025-04-01",
          "2025-04-02",
          "2025-04-03",
          "2025-04-04",
          "2025-04-07",
          "2025-04-08",
          "2025-04-09",
          "2025-04-10",
          "2025-04-11",
          "2025-04-14",
          "2025-04-15",
          "2025-04-16",
          "2025-04-17",
          "2025-04-21",
          "2025-04-22",
          "2025-04-23",
          "2025-04-24",
          "2025-04-25",
          "2025-04-28",
          "2025-04-29",
          "2025-04-30",
          "2025-05-01",
          "2025-05-02",
          "2025-05-05",
          "2025-05-06",
          "2025-05-07",
          "2025-05-08",
          "2025-05-09",
          "2025-05-12",
          "2025-05-13",
          "2025-05-14",
          "2025-05-15",
          "2025-05-16",
          "2025-05-19",
          "2025-05-20",
          "2025-05-21",
          "2025-05-22",
          "2025-05-23",
          "2025-05-27",
          "2025-05-28",
          "2025-05-29",
          "2025-05-30",
          "2025-06-02",
          "2025-06-03",
          "2025-06-04",
          "2025-06-05",
          "2025-06-06",
          "2025-06-09",
          "2025-06-10",
          "2025-06-11",
          "2025-06-12",
          "2025-06-13",
          "2025-06-16",
          "2025-06-17",
          "2025-06-18",
          "2025-06-20",
          "2025-06-23",
          "2025-06-24",
          "2025-06-25",
          "2025-06-26",
          "2025-06-27",
          "2025-06-30",
          "2025-07-01",
          "2025-07-02",
          "2025-07-03",
          "2025-07-07",
          "2025-07-08",
          "2025-07-09",
          "2025-07-10",
          "2025-07-11",
          "2025-07-14",
          "2025-07-15",
          "2025-07-16",
          "2025-07-17",
          "2025-07-18",
          "2025-07-21",
          "2025-07-22",
          "2025-07-23",
          "2025-07-24",
          "2025-07-25",
          "2025-07-28",
          "2025-07-29",
          "2025-07-30",
          "2025-07-31",
          "2025-08-01",
          "2025-08-04",
          "2025-08-05",
          "2025-08-06",
          "2025-08-07",
          "2025-08-08",
          "2025-08-11",
          "2025-08-12",
          "2025-08-13",
          "2025-08-14",
          "2025-08-15",
          "2025-08-18",
          "2025-08-19",
          "2025-08-20",
          "2025-08-21",
          "2025-08-22",
          "2025-08-25",
          "2025-08-26",
          "2025-08-27",
          "2025-08-28",
          "2025-08-29",
          "2025-09-02",
          "2025-09-03",
          "2025-09-04",
          "2025-09-05",
          "2025-09-08",
          "2025-09-09"
         ],
         "xaxis": "x",
         "y": {
          "bdata": "AAAAAAAA+H8AAAAAAAD4fwAAAAAAAPh/AAAAAAAA+H8AAAAAAAD4fwAAAAAAAPh/AAAAAAAA+H8AAAAAAAD4fwAAAAAAAPh/AAAAAAAA+H8AAAAAAAD4fwAAAAAAAPh/AAAAAAAA+H8AAAAAAAD4fwAAAAAAAPh/AAAAAAAA+H8AAAAAAAD4fwAAAAAAAPh/AAAAAAAA+H8AAAAAAAD4fwAAAAAAAPh/AAAAAAAA+H8AAAAAAAD4fwAAAAAAAPh/AAAAAAAA+H8AAAAAAAD4fwAAAAAAAPh/AAAAAAAA+H8AAAAAAAD4fwAAAAAAAPh/AAAAAAAA+H8AAAAAAAD4fwAAAAAAAPh/AAAAAAAA+H8AAAAAAAD4fwAAAAAAAPh/AAAAAAAA+H8AAAAAAAD4fwAAAAAAAPh/AAAAAAAA+H8AAAAAAAD4fwAAAAAAAPh/AAAAAAAA+H8AAAAAAAD4fwAAAAAAAPh/AAAAAAAA+H8AAAAAAAD4fwAAAAAAAPh/AAAAAAAA+H8KaCJseGZlQCqHFtnOc2VAhHzQs1l9ZUBfKcsQx4ZlQLFyaJHtkGVATfOOU3ScZUA2PL1SlqVlQFfKMsSxrmVAaSJseHq5ZUAk2/l+arxlQKw+V1uxv2VANxrAWyDBZUBsmnecor9lQAAAAAAAwGVAFmpN847DZUDdtYR80M9lQOVhodY022VAgLdAguLjZUCPoPgx5u5lQJq7lpAP+mVASQwCK4f+ZUBNhA1PrwBmQC//If32AWZAYFRSJ6AFZkDqlbIMcQhmQLbz/dR4AWZAINJvXwf+ZUAmwoanV/plQHSTGARW9mVAuI0G8BbwZUDKVMGopOZlQH3Qs1n13WVAUrgehevVZUAkKH6Muc9lQMRkqmBUymVAJQaBlUPDZUBYF7fRAL5lQEHxY8xdt2VAb/CFyVSxZUD99nXgnKllQEw3iUFgoWVAwaikTkCbZUCNSuoENJVlQOSlm8QgjGVAdCSX/5CCZUDsUbgehXtlQOU/pN++cmVAYTJVMCppZUCYTBWMSmJlQKQBvAUSXGVAQfFjzF1TZUAhsHJokUllQEDG3LWEQGVAwFsgQfEzZUCbxCCwciRlQPjCZKpgFGVAaLPqc7UBZUA3qz5XW+1kQNuK/WX32GRAZapgVFLHZEDIuriNBrRkQEW28/3UmGRA8kHPZtV/ZEADCYofY2ZkQEymCkYlTWRAuECC4scwZEA1zTtO0RFkQK5H4XoU8mNA3SQGgZXTY0CGyVTBqLRjQBDpt68Dm2NA4lgXt9GEY0D/Q/rt62xjQBNhw9MrUWNAV+wvuyc3Y0C7SQwCKyNjQEa28/3UDGNAz2bV52r7YkBfB84ZUeZiQLhAguLH1GJAfT81XrrBYkCfPCzUmq5iQA6+MJkqnGJA1lbsL7uHYkChZ7Pqc3FiQMHKoUW2X2JAqFfKMsRNYkDYgXNGlDpiQCz2l92TJ2JAXwfOGVESYkCmLEMc6/phQHxhMlUw5mFAjzF3LSHPYUDsUbgehbdhQM/3U+Olm2FAAAAAAAB8YUBiMlUwKl1hQGUZ4lgXP2FA9GxWfa4iYUD35GGh1gRhQHRGlPYG52BABoGVQ4vMYEDm0CLb+bJgQKCJsOHpmWBAj8L1KFyDYEBos+pztW1gQCZTBaOSWmBAY13cRgNIYEApXI/C9TRgQEvqBDQRImBAMZkqGJUQYEC7uI0G8ApgQFioNc07BmBAhHzQs1kBYEBWn6ut2PdfQCVTBaOS6l9A5WGh1jTXX0BOYhBYOcRfQFInoImwsV9AEVg5tMieX0AfhetRuI5fQJ3vp8ZLf19ADeAtkKBoX0DxY8xdS1hfQP+ye/KwSF9Au7iNBvA+X0DXo3A9Ci9fQAMJih9jFl9AFNBE2PD8XkAcyeU/pN9eQPwYc9cSwl5AgLdAguKnXkBbsb/snoReQCQofoy5Y15APJtVn6tFXkCSy39IvxVeQI51cRsN8F1ApHA9CtfLXUBgB84ZUapdQOm3rwPnjF1AjblrCflwXUBXyjLEsU5dQDjWxW00MF1AEz/G3LUUXUCU1AloIgRdQPyp8dJN8lxAN4lBYOXgXEAWjErqBMxcQB/0bFZ9tlxAUyegibChXECTh4Va05RcQPYoXI/ChVxAI0p7gy90XEAUP8bctWRcQE+vlGWIU1xAf2q8dJNAXEBh5dAi2zFcQOXyH9JvJ1xAjlN0JJcfXECNKO0NvhhcQN8CCYofC1xA78nDQq35W0AxCKwcWuRbQBsv3SQG0VtApAG8BRK8W0D2udqK/aVbQPoP6bevk1tAaCJseHqFW0As9pfdk3dbQPLSTWIQaFtA18VtNIBXW0AkufyH9ENbQP3UeOkmOVtAg3NGlPYuW0ADmggbniZbQFr1udqKHVtA+g/pt68TW0DdJAaBlQtbQBPQRNjwDFtAc9cS8kEHW0CGONbFbQRbQI25awn5AFtARIts5/sJW0AYBFYOLQJbQE+vlGWI+1pA4L4OnDMCW0COdXEbDQhbQG9fB84ZEVtAoyO5/IcUW0BfB84ZURpbQArXo3A9IltACvmgZ7MqW0B8YTJVMDpbQCEf9GxWRVtA9wZfmExFW0A8m1Wfq0VbQFTjpZvESFtACfmgZ7NSW0AW+8vuyVtbQNtoAG+BZFtA0UTY8PRqW0A2zTtO0WlbQKjGSzeJaVtATtGRXP5rW0CNl24Sg3BbQCxlGeJYd1tAaiv2l92DW0DSb18HzolbQO58PzVeiltAPE7RkVyOW0DGuriNBphbQAG8BRIUn1tAYxBYObSgW0B0kxgEVqZbQKpgVFInsFtA001iEFjBW0D2udqK/dVbQLgehetR6FtAxks3iUH4W0AXt9EA3gpcQEku/yH9HlxAf2q8dJM4XEB34JwRpVVcQBcmUwWjelxA5IOezaqXXEBPQBNhw7NcQNGzWfW50lxAjSjtDb7oXEDdJAaBlftcQEHxY8xdG11AmioYldQ5XUAAAAAAAFhdQEVHcvkPcV1AcoqO5PKXXUB9rrZif7ldQKTfvg6c211As3vysFD7XUAmUwWjkiJeQIlBYOXQSl5A0UTY8PRyXkA=",
          "dtype": "f8"
         },
         "yaxis": "y"
        }
       ],
       "layout": {
        "annotations": [
         {
          "font": {
           "size": 8
          },
          "showarrow": false,
          "text": "Date: 2025-09-09, Open:136.98, High:141.72, Low:136.49, Close: 141.5",
          "x": 0.01,
          "xref": "x domain",
          "y": 1,
          "yref": "y domain"
         }
        ],
        "height": 400,
        "legend": {
         "font": {
          "size": 8
         },
         "title": {
          "font": {
           "family": "Arial"
          }
         }
        },
        "template": {
         "data": {
          "bar": [
           {
            "error_x": {
             "color": "#2a3f5f"
            },
            "error_y": {
             "color": "#2a3f5f"
            },
            "marker": {
             "line": {
              "color": "#E5ECF6",
              "width": 0.5
             },
             "pattern": {
              "fillmode": "overlay",
              "size": 10,
              "solidity": 0.2
             }
            },
            "type": "bar"
           }
          ],
          "barpolar": [
           {
            "marker": {
             "line": {
              "color": "#E5ECF6",
              "width": 0.5
             },
             "pattern": {
              "fillmode": "overlay",
              "size": 10,
              "solidity": 0.2
             }
            },
            "type": "barpolar"
           }
          ],
          "carpet": [
           {
            "aaxis": {
             "endlinecolor": "#2a3f5f",
             "gridcolor": "white",
             "linecolor": "white",
             "minorgridcolor": "white",
             "startlinecolor": "#2a3f5f"
            },
            "baxis": {
             "endlinecolor": "#2a3f5f",
             "gridcolor": "white",
             "linecolor": "white",
             "minorgridcolor": "white",
             "startlinecolor": "#2a3f5f"
            },
            "type": "carpet"
           }
          ],
          "choropleth": [
           {
            "colorbar": {
             "outlinewidth": 0,
             "ticks": ""
            },
            "type": "choropleth"
           }
          ],
          "contour": [
           {
            "colorbar": {
             "outlinewidth": 0,
             "ticks": ""
            },
            "colorscale": [
             [
              0,
              "#0d0887"
             ],
             [
              0.1111111111111111,
              "#46039f"
             ],
             [
              0.2222222222222222,
              "#7201a8"
             ],
             [
              0.3333333333333333,
              "#9c179e"
             ],
             [
              0.4444444444444444,
              "#bd3786"
             ],
             [
              0.5555555555555556,
              "#d8576b"
             ],
             [
              0.6666666666666666,
              "#ed7953"
             ],
             [
              0.7777777777777778,
              "#fb9f3a"
             ],
             [
              0.8888888888888888,
              "#fdca26"
             ],
             [
              1,
              "#f0f921"
             ]
            ],
            "type": "contour"
           }
          ],
          "contourcarpet": [
           {
            "colorbar": {
             "outlinewidth": 0,
             "ticks": ""
            },
            "type": "contourcarpet"
           }
          ],
          "heatmap": [
           {
            "colorbar": {
             "outlinewidth": 0,
             "ticks": ""
            },
            "colorscale": [
             [
              0,
              "#0d0887"
             ],
             [
              0.1111111111111111,
              "#46039f"
             ],
             [
              0.2222222222222222,
              "#7201a8"
             ],
             [
              0.3333333333333333,
              "#9c179e"
             ],
             [
              0.4444444444444444,
              "#bd3786"
             ],
             [
              0.5555555555555556,
              "#d8576b"
             ],
             [
              0.6666666666666666,
              "#ed7953"
             ],
             [
              0.7777777777777778,
              "#fb9f3a"
             ],
             [
              0.8888888888888888,
              "#fdca26"
             ],
             [
              1,
              "#f0f921"
             ]
            ],
            "type": "heatmap"
           }
          ],
          "histogram": [
           {
            "marker": {
             "pattern": {
              "fillmode": "overlay",
              "size": 10,
              "solidity": 0.2
             }
            },
            "type": "histogram"
           }
          ],
          "histogram2d": [
           {
            "colorbar": {
             "outlinewidth": 0,
             "ticks": ""
            },
            "colorscale": [
             [
              0,
              "#0d0887"
             ],
             [
              0.1111111111111111,
              "#46039f"
             ],
             [
              0.2222222222222222,
              "#7201a8"
             ],
             [
              0.3333333333333333,
              "#9c179e"
             ],
             [
              0.4444444444444444,
              "#bd3786"
             ],
             [
              0.5555555555555556,
              "#d8576b"
             ],
             [
              0.6666666666666666,
              "#ed7953"
             ],
             [
              0.7777777777777778,
              "#fb9f3a"
             ],
             [
              0.8888888888888888,
              "#fdca26"
             ],
             [
              1,
              "#f0f921"
             ]
            ],
            "type": "histogram2d"
           }
          ],
          "histogram2dcontour": [
           {
            "colorbar": {
             "outlinewidth": 0,
             "ticks": ""
            },
            "colorscale": [
             [
              0,
              "#0d0887"
             ],
             [
              0.1111111111111111,
              "#46039f"
             ],
             [
              0.2222222222222222,
              "#7201a8"
             ],
             [
              0.3333333333333333,
              "#9c179e"
             ],
             [
              0.4444444444444444,
              "#bd3786"
             ],
             [
              0.5555555555555556,
              "#d8576b"
             ],
             [
              0.6666666666666666,
              "#ed7953"
             ],
             [
              0.7777777777777778,
              "#fb9f3a"
             ],
             [
              0.8888888888888888,
              "#fdca26"
             ],
             [
              1,
              "#f0f921"
             ]
            ],
            "type": "histogram2dcontour"
           }
          ],
          "mesh3d": [
           {
            "colorbar": {
             "outlinewidth": 0,
             "ticks": ""
            },
            "type": "mesh3d"
           }
          ],
          "parcoords": [
           {
            "line": {
             "colorbar": {
              "outlinewidth": 0,
              "ticks": ""
             }
            },
            "type": "parcoords"
           }
          ],
          "pie": [
           {
            "automargin": true,
            "type": "pie"
           }
          ],
          "scatter": [
           {
            "fillpattern": {
             "fillmode": "overlay",
             "size": 10,
             "solidity": 0.2
            },
            "type": "scatter"
           }
          ],
          "scatter3d": [
           {
            "line": {
             "colorbar": {
              "outlinewidth": 0,
              "ticks": ""
             }
            },
            "marker": {
             "colorbar": {
              "outlinewidth": 0,
              "ticks": ""
             }
            },
            "type": "scatter3d"
           }
          ],
          "scattercarpet": [
           {
            "marker": {
             "colorbar": {
              "outlinewidth": 0,
              "ticks": ""
             }
            },
            "type": "scattercarpet"
           }
          ],
          "scattergeo": [
           {
            "marker": {
             "colorbar": {
              "outlinewidth": 0,
              "ticks": ""
             }
            },
            "type": "scattergeo"
           }
          ],
          "scattergl": [
           {
            "marker": {
             "colorbar": {
              "outlinewidth": 0,
              "ticks": ""
             }
            },
            "type": "scattergl"
           }
          ],
          "scattermap": [
           {
            "marker": {
             "colorbar": {
              "outlinewidth": 0,
              "ticks": ""
             }
            },
            "type": "scattermap"
           }
          ],
          "scattermapbox": [
           {
            "marker": {
             "colorbar": {
              "outlinewidth": 0,
              "ticks": ""
             }
            },
            "type": "scattermapbox"
           }
          ],
          "scatterpolar": [
           {
            "marker": {
             "colorbar": {
              "outlinewidth": 0,
              "ticks": ""
             }
            },
            "type": "scatterpolar"
           }
          ],
          "scatterpolargl": [
           {
            "marker": {
             "colorbar": {
              "outlinewidth": 0,
              "ticks": ""
             }
            },
            "type": "scatterpolargl"
           }
          ],
          "scatterternary": [
           {
            "marker": {
             "colorbar": {
              "outlinewidth": 0,
              "ticks": ""
             }
            },
            "type": "scatterternary"
           }
          ],
          "surface": [
           {
            "colorbar": {
             "outlinewidth": 0,
             "ticks": ""
            },
            "colorscale": [
             [
              0,
              "#0d0887"
             ],
             [
              0.1111111111111111,
              "#46039f"
             ],
             [
              0.2222222222222222,
              "#7201a8"
             ],
             [
              0.3333333333333333,
              "#9c179e"
             ],
             [
              0.4444444444444444,
              "#bd3786"
             ],
             [
              0.5555555555555556,
              "#d8576b"
             ],
             [
              0.6666666666666666,
              "#ed7953"
             ],
             [
              0.7777777777777778,
              "#fb9f3a"
             ],
             [
              0.8888888888888888,
              "#fdca26"
             ],
             [
              1,
              "#f0f921"
             ]
            ],
            "type": "surface"
           }
          ],
          "table": [
           {
            "cells": {
             "fill": {
              "color": "#EBF0F8"
             },
             "line": {
              "color": "white"
             }
            },
            "header": {
             "fill": {
              "color": "#C8D4E3"
             },
             "line": {
              "color": "white"
             }
            },
            "type": "table"
           }
          ]
         },
         "layout": {
          "annotationdefaults": {
           "arrowcolor": "#2a3f5f",
           "arrowhead": 0,
           "arrowwidth": 1
          },
          "autotypenumbers": "strict",
          "coloraxis": {
           "colorbar": {
            "outlinewidth": 0,
            "ticks": ""
           }
          },
          "colorscale": {
           "diverging": [
            [
             0,
             "#8e0152"
            ],
            [
             0.1,
             "#c51b7d"
            ],
            [
             0.2,
             "#de77ae"
            ],
            [
             0.3,
             "#f1b6da"
            ],
            [
             0.4,
             "#fde0ef"
            ],
            [
             0.5,
             "#f7f7f7"
            ],
            [
             0.6,
             "#e6f5d0"
            ],
            [
             0.7,
             "#b8e186"
            ],
            [
             0.8,
             "#7fbc41"
            ],
            [
             0.9,
             "#4d9221"
            ],
            [
             1,
             "#276419"
            ]
           ],
           "sequential": [
            [
             0,
             "#0d0887"
            ],
            [
             0.1111111111111111,
             "#46039f"
            ],
            [
             0.2222222222222222,
             "#7201a8"
            ],
            [
             0.3333333333333333,
             "#9c179e"
            ],
            [
             0.4444444444444444,
             "#bd3786"
            ],
            [
             0.5555555555555556,
             "#d8576b"
            ],
            [
             0.6666666666666666,
             "#ed7953"
            ],
            [
             0.7777777777777778,
             "#fb9f3a"
            ],
            [
             0.8888888888888888,
             "#fdca26"
            ],
            [
             1,
             "#f0f921"
            ]
           ],
           "sequentialminus": [
            [
             0,
             "#0d0887"
            ],
            [
             0.1111111111111111,
             "#46039f"
            ],
            [
             0.2222222222222222,
             "#7201a8"
            ],
            [
             0.3333333333333333,
             "#9c179e"
            ],
            [
             0.4444444444444444,
             "#bd3786"
            ],
            [
             0.5555555555555556,
             "#d8576b"
            ],
            [
             0.6666666666666666,
             "#ed7953"
            ],
            [
             0.7777777777777778,
             "#fb9f3a"
            ],
            [
             0.8888888888888888,
             "#fdca26"
            ],
            [
             1,
             "#f0f921"
            ]
           ]
          },
          "colorway": [
           "#636efa",
           "#EF553B",
           "#00cc96",
           "#ab63fa",
           "#FFA15A",
           "#19d3f3",
           "#FF6692",
           "#B6E880",
           "#FF97FF",
           "#FECB52"
          ],
          "font": {
           "color": "#2a3f5f"
          },
          "geo": {
           "bgcolor": "white",
           "lakecolor": "white",
           "landcolor": "#E5ECF6",
           "showlakes": true,
           "showland": true,
           "subunitcolor": "white"
          },
          "hoverlabel": {
           "align": "left"
          },
          "hovermode": "closest",
          "mapbox": {
           "style": "light"
          },
          "paper_bgcolor": "white",
          "plot_bgcolor": "#E5ECF6",
          "polar": {
           "angularaxis": {
            "gridcolor": "white",
            "linecolor": "white",
            "ticks": ""
           },
           "bgcolor": "#E5ECF6",
           "radialaxis": {
            "gridcolor": "white",
            "linecolor": "white",
            "ticks": ""
           }
          },
          "scene": {
           "xaxis": {
            "backgroundcolor": "#E5ECF6",
            "gridcolor": "white",
            "gridwidth": 2,
            "linecolor": "white",
            "showbackground": true,
            "ticks": "",
            "zerolinecolor": "white"
           },
           "yaxis": {
            "backgroundcolor": "#E5ECF6",
            "gridcolor": "white",
            "gridwidth": 2,
            "linecolor": "white",
            "showbackground": true,
            "ticks": "",
            "zerolinecolor": "white"
           },
           "zaxis": {
            "backgroundcolor": "#E5ECF6",
            "gridcolor": "white",
            "gridwidth": 2,
            "linecolor": "white",
            "showbackground": true,
            "ticks": "",
            "zerolinecolor": "white"
           }
          },
          "shapedefaults": {
           "line": {
            "color": "#2a3f5f"
           }
          },
          "ternary": {
           "aaxis": {
            "gridcolor": "white",
            "linecolor": "white",
            "ticks": ""
           },
           "baxis": {
            "gridcolor": "white",
            "linecolor": "white",
            "ticks": ""
           },
           "bgcolor": "#E5ECF6",
           "caxis": {
            "gridcolor": "white",
            "linecolor": "white",
            "ticks": ""
           }
          },
          "title": {
           "x": 0.05
          },
          "xaxis": {
           "automargin": true,
           "gridcolor": "white",
           "linecolor": "white",
           "ticks": "",
           "title": {
            "standoff": 15
           },
           "zerolinecolor": "white",
           "zerolinewidth": 2
          },
          "yaxis": {
           "automargin": true,
           "gridcolor": "white",
           "linecolor": "white",
           "ticks": "",
           "title": {
            "standoff": 15
           },
           "zerolinecolor": "white",
           "zerolinewidth": 2
          }
         }
        },
        "title": {
         "text": "TOP 20",
         "x": 0.5
        },
        "width": 600,
        "xaxis": {
         "anchor": "y",
         "domain": [
          0,
          0.94
         ]
        },
        "yaxis": {
         "anchor": "x",
         "domain": [
          0,
          1
         ],
         "side": "right"
        },
        "yaxis2": {
         "anchor": "x",
         "overlaying": "y",
         "side": "right"
        }
       }
      }
     },
     "metadata": {},
     "output_type": "display_data"
    }
   ],
   "source": [
    "\n",
    "\n",
    "import warnings\n",
    "warnings.filterwarnings('ignore')\n",
    "\n",
    "from yfinance_utils import list_utils, file_utils\n",
    "from plotly.subplots import make_subplots\n",
    "import plotly.graph_objects as go\n",
    "from finta import TA\n",
    "from yfinance_utils import list_utils\n",
    "import time\n",
    "from datetime import datetime\n",
    "\n",
    "today = datetime.today().strftime('%Y-%m-%d')\n",
    "NUMBER_OF_TOP_PERFORMERS = 20\n",
    "PERIOD = 50\n",
    "\n",
    "_list = list_utils.get_short_list()\n",
    "_top = list_utils.get_top_performers(_list, size=NUMBER_OF_TOP_PERFORMERS)\n",
    "_sym = dict(_top)\n",
    "for _s in _sym:\n",
    "    time.sleep(5)\n",
    "    data = file_utils.get_historic_data(_s)\n",
    "    _f=make_subplots(specs=[[{\"secondary_y\": True}]])\n",
    "    _f.update_layout(title=f\"TOP {NUMBER_OF_TOP_PERFORMERS}\", title_x=0.5, width=600, height=400)\n",
    "\n",
    "    data.columns = COLUMNS\n",
    "    data['sma'] = TA.SMA(data, period=PERIOD)\n",
    "    data.reset_index(inplace=True)\n",
    "    _f.add_trace(\n",
    "        go.Scatter(y=data['Close'], x=data['Date'], name=f\"{_s}: {_sym[_s]} %\"),\n",
    "        secondary_y=False\n",
    "    )\n",
    "    _f.add_trace(\n",
    "        go.Scatter(y=data['sma'], x=data['Date'], name=f'SMA {PERIOD}'),\n",
    "        secondary_y=False\n",
    "    )\n",
    "    _f.update_yaxes(side='right')\n",
    "    price = f\"Date: {today}, Open:{round(data['Open'].iloc[-1],2)}, High:{round(data['High'].iloc[-1],2)}, Low:{round(data['Low'].iloc[-1],2)}, Close: {round(data['Close'].iloc[-1],2)}\"\n",
    "    _f.add_annotation(xref='x domain',\n",
    "                    yref='y domain',\n",
    "                    x=0.01,\n",
    "                    y=1,\n",
    "                    text=price, \n",
    "                    showarrow=False,\n",
    "                    font=dict(size=8),\n",
    "                    row=1, col=1)\n",
    "    _f.update_layout(legend={\"title_font_family\":\"Arial\", \"font\":{\"size\":8}})\n",
    "    _f.show()\n",
    "\n",
    "if save_to_mongo:\n",
    "    _sym['DATE'] = datetime.today().strftime('%Y-%m-%d')\n",
    "    file_utils.save_to_mongo(_sym, \"top_performers\")"
   ]
  },
  {
   "cell_type": "code",
   "execution_count": 4,
   "metadata": {},
   "outputs": [
    {
     "name": "stdout",
     "output_type": "stream",
     "text": [
      "The END\n"
     ]
    }
   ],
   "source": [
    "print('The END')"
   ]
  }
 ],
 "metadata": {
  "kernelspec": {
   "display_name": ".venv",
   "language": "python",
   "name": "python3"
  },
  "language_info": {
   "codemirror_mode": {
    "name": "ipython",
    "version": 3
   },
   "file_extension": ".py",
   "mimetype": "text/x-python",
   "name": "python",
   "nbconvert_exporter": "python",
   "pygments_lexer": "ipython3",
   "version": "3.13.7"
  }
 },
 "nbformat": 4,
 "nbformat_minor": 2
}
