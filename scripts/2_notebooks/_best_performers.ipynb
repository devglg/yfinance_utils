{
 "cells": [
  {
   "cell_type": "markdown",
   "metadata": {},
   "source": [
    "Copyright 2024 Lehi Gracia"
   ]
  },
  {
   "cell_type": "markdown",
   "metadata": {},
   "source": [
    "### Save?"
   ]
  },
  {
   "cell_type": "code",
   "execution_count": 1,
   "metadata": {},
   "outputs": [],
   "source": [
    "save_to_mongo = False\n",
    "\n",
    "import subprocess, os\n",
    "\n",
    "if save_to_mongo:\n",
    "    mongod = subprocess.Popen(\n",
    "        ['mongod', '--dbpath', os.path.expanduser(os.getenv('MONGODB_PATH')), '--logpath', os.path.expanduser(os.getenv('MONGODB_LOG'))]\n",
    "    )"
   ]
  },
  {
   "cell_type": "markdown",
   "metadata": {},
   "source": [
    "### Implied Volaility"
   ]
  },
  {
   "cell_type": "code",
   "execution_count": 4,
   "metadata": {},
   "outputs": [
    {
     "data": {
      "application/vnd.plotly.v1+json": {
       "config": {
        "plotlyServerURL": "https://plot.ly"
       },
       "data": [
        {
         "name": "VIX",
         "type": "scatter",
         "x": [
          "2024-07-17",
          "2024-07-18",
          "2024-07-19",
          "2024-07-22",
          "2024-07-23",
          "2024-07-24",
          "2024-07-25",
          "2024-07-26",
          "2024-07-29",
          "2024-07-30",
          "2024-07-31",
          "2024-08-01",
          "2024-08-02",
          "2024-08-05",
          "2024-08-06",
          "2024-08-07",
          "2024-08-08",
          "2024-08-09",
          "2024-08-12",
          "2024-08-13",
          "2024-08-14",
          "2024-08-15",
          "2024-08-16",
          "2024-08-19",
          "2024-08-20",
          "2024-08-21",
          "2024-08-22",
          "2024-08-23",
          "2024-08-26",
          "2024-08-27",
          "2024-08-28",
          "2024-08-29",
          "2024-08-30",
          "2024-09-03",
          "2024-09-04",
          "2024-09-05",
          "2024-09-06",
          "2024-09-09",
          "2024-09-10",
          "2024-09-11",
          "2024-09-12",
          "2024-09-13",
          "2024-09-16",
          "2024-09-17",
          "2024-09-18",
          "2024-09-19",
          "2024-09-20",
          "2024-09-23",
          "2024-09-24",
          "2024-09-25",
          "2024-09-26",
          "2024-09-27",
          "2024-09-30",
          "2024-10-01",
          "2024-10-02",
          "2024-10-03",
          "2024-10-04",
          "2024-10-07",
          "2024-10-08",
          "2024-10-09",
          "2024-10-10",
          "2024-10-11",
          "2024-10-14",
          "2024-10-15",
          "2024-10-16",
          "2024-10-17",
          "2024-10-18",
          "2024-10-21",
          "2024-10-22",
          "2024-10-23",
          "2024-10-24",
          "2024-10-25",
          "2024-10-28",
          "2024-10-29",
          "2024-10-30",
          "2024-10-31",
          "2024-11-01",
          "2024-11-04",
          "2024-11-05",
          "2024-11-06",
          "2024-11-07",
          "2024-11-08",
          "2024-11-11",
          "2024-11-12",
          "2024-11-13",
          "2024-11-14",
          "2024-11-15",
          "2024-11-18",
          "2024-11-19",
          "2024-11-20",
          "2024-11-21",
          "2024-11-22",
          "2024-11-25",
          "2024-11-26",
          "2024-11-27",
          "2024-11-29",
          "2024-12-02",
          "2024-12-03",
          "2024-12-04",
          "2024-12-05",
          "2024-12-06",
          "2024-12-09",
          "2024-12-10",
          "2024-12-11",
          "2024-12-12",
          "2024-12-13",
          "2024-12-16",
          "2024-12-17",
          "2024-12-18",
          "2024-12-19",
          "2024-12-20",
          "2024-12-23",
          "2024-12-24",
          "2024-12-26",
          "2024-12-27",
          "2024-12-30",
          "2024-12-31",
          "2025-01-02",
          "2025-01-03",
          "2025-01-06",
          "2025-01-07",
          "2025-01-08",
          "2025-01-10",
          "2025-01-13",
          "2025-01-14",
          "2025-01-15",
          "2025-01-16",
          "2025-01-17",
          "2025-01-21",
          "2025-01-22",
          "2025-01-23",
          "2025-01-24",
          "2025-01-27",
          "2025-01-28",
          "2025-01-29",
          "2025-01-30",
          "2025-01-31",
          "2025-02-03",
          "2025-02-04",
          "2025-02-05",
          "2025-02-06",
          "2025-02-07",
          "2025-02-10",
          "2025-02-11",
          "2025-02-12",
          "2025-02-13",
          "2025-02-14",
          "2025-02-18",
          "2025-02-19",
          "2025-02-20",
          "2025-02-21",
          "2025-02-24",
          "2025-02-25",
          "2025-02-26",
          "2025-02-27",
          "2025-02-28",
          "2025-03-03",
          "2025-03-04",
          "2025-03-05",
          "2025-03-06",
          "2025-03-07",
          "2025-03-10",
          "2025-03-11",
          "2025-03-12",
          "2025-03-13",
          "2025-03-14",
          "2025-03-17",
          "2025-03-18",
          "2025-03-19",
          "2025-03-20",
          "2025-03-21",
          "2025-03-24",
          "2025-03-25",
          "2025-03-26",
          "2025-03-27",
          "2025-03-28",
          "2025-03-31",
          "2025-04-01",
          "2025-04-02",
          "2025-04-03",
          "2025-04-04",
          "2025-04-07",
          "2025-04-08",
          "2025-04-09",
          "2025-04-10",
          "2025-04-11",
          "2025-04-14",
          "2025-04-15",
          "2025-04-16",
          "2025-04-17",
          "2025-04-21",
          "2025-04-22",
          "2025-04-23",
          "2025-04-24",
          "2025-04-25",
          "2025-04-28",
          "2025-04-29",
          "2025-04-30",
          "2025-05-01",
          "2025-05-02",
          "2025-05-05",
          "2025-05-06",
          "2025-05-07",
          "2025-05-08",
          "2025-05-09",
          "2025-05-12",
          "2025-05-13",
          "2025-05-14",
          "2025-05-15",
          "2025-05-16",
          "2025-05-19",
          "2025-05-20",
          "2025-05-21",
          "2025-05-22",
          "2025-05-23",
          "2025-05-27",
          "2025-05-28",
          "2025-05-29",
          "2025-05-30",
          "2025-06-02",
          "2025-06-03",
          "2025-06-04",
          "2025-06-05",
          "2025-06-06",
          "2025-06-09",
          "2025-06-10",
          "2025-06-11",
          "2025-06-12",
          "2025-06-13",
          "2025-06-16",
          "2025-06-17",
          "2025-06-18",
          "2025-06-20",
          "2025-06-23",
          "2025-06-24",
          "2025-06-25",
          "2025-06-26",
          "2025-06-27",
          "2025-06-30",
          "2025-07-01",
          "2025-07-02",
          "2025-07-03",
          "2025-07-07",
          "2025-07-08",
          "2025-07-09",
          "2025-07-10",
          "2025-07-11",
          "2025-07-14",
          "2025-07-15",
          "2025-07-16",
          "2025-07-17",
          "2025-07-18",
          "2025-07-21",
          "2025-07-22",
          "2025-07-23",
          "2025-07-24",
          "2025-07-25",
          "2025-07-28",
          "2025-07-29",
          "2025-07-30",
          "2025-07-31",
          "2025-08-01",
          "2025-08-04",
          "2025-08-05",
          "2025-08-06",
          "2025-08-07",
          "2025-08-08",
          "2025-08-11",
          "2025-08-12",
          "2025-08-13",
          "2025-08-14",
          "2025-08-15",
          "2025-08-18",
          "2025-08-19",
          "2025-08-20",
          "2025-08-21",
          "2025-08-22",
          "2025-08-25",
          "2025-08-26",
          "2025-08-27",
          "2025-08-28",
          "2025-08-29",
          "2025-09-02",
          "2025-09-03",
          "2025-09-04",
          "2025-09-05",
          "2025-09-08",
          "2025-09-09",
          "2025-09-10"
         ],
         "xaxis": "x",
         "y": {
          "bdata": "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",
          "dtype": "f8"
         },
         "yaxis": "y"
        },
        {
         "name": "sma",
         "type": "scatter",
         "x": [
          "2024-07-17",
          "2024-07-18",
          "2024-07-19",
          "2024-07-22",
          "2024-07-23",
          "2024-07-24",
          "2024-07-25",
          "2024-07-26",
          "2024-07-29",
          "2024-07-30",
          "2024-07-31",
          "2024-08-01",
          "2024-08-02",
          "2024-08-05",
          "2024-08-06",
          "2024-08-07",
          "2024-08-08",
          "2024-08-09",
          "2024-08-12",
          "2024-08-13",
          "2024-08-14",
          "2024-08-15",
          "2024-08-16",
          "2024-08-19",
          "2024-08-20",
          "2024-08-21",
          "2024-08-22",
          "2024-08-23",
          "2024-08-26",
          "2024-08-27",
          "2024-08-28",
          "2024-08-29",
          "2024-08-30",
          "2024-09-03",
          "2024-09-04",
          "2024-09-05",
          "2024-09-06",
          "2024-09-09",
          "2024-09-10",
          "2024-09-11",
          "2024-09-12",
          "2024-09-13",
          "2024-09-16",
          "2024-09-17",
          "2024-09-18",
          "2024-09-19",
          "2024-09-20",
          "2024-09-23",
          "2024-09-24",
          "2024-09-25",
          "2024-09-26",
          "2024-09-27",
          "2024-09-30",
          "2024-10-01",
          "2024-10-02",
          "2024-10-03",
          "2024-10-04",
          "2024-10-07",
          "2024-10-08",
          "2024-10-09",
          "2024-10-10",
          "2024-10-11",
          "2024-10-14",
          "2024-10-15",
          "2024-10-16",
          "2024-10-17",
          "2024-10-18",
          "2024-10-21",
          "2024-10-22",
          "2024-10-23",
          "2024-10-24",
          "2024-10-25",
          "2024-10-28",
          "2024-10-29",
          "2024-10-30",
          "2024-10-31",
          "2024-11-01",
          "2024-11-04",
          "2024-11-05",
          "2024-11-06",
          "2024-11-07",
          "2024-11-08",
          "2024-11-11",
          "2024-11-12",
          "2024-11-13",
          "2024-11-14",
          "2024-11-15",
          "2024-11-18",
          "2024-11-19",
          "2024-11-20",
          "2024-11-21",
          "2024-11-22",
          "2024-11-25",
          "2024-11-26",
          "2024-11-27",
          "2024-11-29",
          "2024-12-02",
          "2024-12-03",
          "2024-12-04",
          "2024-12-05",
          "2024-12-06",
          "2024-12-09",
          "2024-12-10",
          "2024-12-11",
          "2024-12-12",
          "2024-12-13",
          "2024-12-16",
          "2024-12-17",
          "2024-12-18",
          "2024-12-19",
          "2024-12-20",
          "2024-12-23",
          "2024-12-24",
          "2024-12-26",
          "2024-12-27",
          "2024-12-30",
          "2024-12-31",
          "2025-01-02",
          "2025-01-03",
          "2025-01-06",
          "2025-01-07",
          "2025-01-08",
          "2025-01-10",
          "2025-01-13",
          "2025-01-14",
          "2025-01-15",
          "2025-01-16",
          "2025-01-17",
          "2025-01-21",
          "2025-01-22",
          "2025-01-23",
          "2025-01-24",
          "2025-01-27",
          "2025-01-28",
          "2025-01-29",
          "2025-01-30",
          "2025-01-31",
          "2025-02-03",
          "2025-02-04",
          "2025-02-05",
          "2025-02-06",
          "2025-02-07",
          "2025-02-10",
          "2025-02-11",
          "2025-02-12",
          "2025-02-13",
          "2025-02-14",
          "2025-02-18",
          "2025-02-19",
          "2025-02-20",
          "2025-02-21",
          "2025-02-24",
          "2025-02-25",
          "2025-02-26",
          "2025-02-27",
          "2025-02-28",
          "2025-03-03",
          "2025-03-04",
          "2025-03-05",
          "2025-03-06",
          "2025-03-07",
          "2025-03-10",
          "2025-03-11",
          "2025-03-12",
          "2025-03-13",
          "2025-03-14",
          "2025-03-17",
          "2025-03-18",
          "2025-03-19",
          "2025-03-20",
          "2025-03-21",
          "2025-03-24",
          "2025-03-25",
          "2025-03-26",
          "2025-03-27",
          "2025-03-28",
          "2025-03-31",
          "2025-04-01",
          "2025-04-02",
          "2025-04-03",
          "2025-04-04",
          "2025-04-07",
          "2025-04-08",
          "2025-04-09",
          "2025-04-10",
          "2025-04-11",
          "2025-04-14",
          "2025-04-15",
          "2025-04-16",
          "2025-04-17",
          "2025-04-21",
          "2025-04-22",
          "2025-04-23",
          "2025-04-24",
          "2025-04-25",
          "2025-04-28",
          "2025-04-29",
          "2025-04-30",
          "2025-05-01",
          "2025-05-02",
          "2025-05-05",
          "2025-05-06",
          "2025-05-07",
          "2025-05-08",
          "2025-05-09",
          "2025-05-12",
          "2025-05-13",
          "2025-05-14",
          "2025-05-15",
          "2025-05-16",
          "2025-05-19",
          "2025-05-20",
          "2025-05-21",
          "2025-05-22",
          "2025-05-23",
          "2025-05-27",
          "2025-05-28",
          "2025-05-29",
          "2025-05-30",
          "2025-06-02",
          "2025-06-03",
          "2025-06-04",
          "2025-06-05",
          "2025-06-06",
          "2025-06-09",
          "2025-06-10",
          "2025-06-11",
          "2025-06-12",
          "2025-06-13",
          "2025-06-16",
          "2025-06-17",
          "2025-06-18",
          "2025-06-20",
          "2025-06-23",
          "2025-06-24",
          "2025-06-25",
          "2025-06-26",
          "2025-06-27",
          "2025-06-30",
          "2025-07-01",
          "2025-07-02",
          "2025-07-03",
          "2025-07-07",
          "2025-07-08",
          "2025-07-09",
          "2025-07-10",
          "2025-07-11",
          "2025-07-14",
          "2025-07-15",
          "2025-07-16",
          "2025-07-17",
          "2025-07-18",
          "2025-07-21",
          "2025-07-22",
          "2025-07-23",
          "2025-07-24",
          "2025-07-25",
          "2025-07-28",
          "2025-07-29",
          "2025-07-30",
          "2025-07-31",
          "2025-08-01",
          "2025-08-04",
          "2025-08-05",
          "2025-08-06",
          "2025-08-07",
          "2025-08-08",
          "2025-08-11",
          "2025-08-12",
          "2025-08-13",
          "2025-08-14",
          "2025-08-15",
          "2025-08-18",
          "2025-08-19",
          "2025-08-20",
          "2025-08-21",
          "2025-08-22",
          "2025-08-25",
          "2025-08-26",
          "2025-08-27",
          "2025-08-28",
          "2025-08-29",
          "2025-09-02",
          "2025-09-03",
          "2025-09-04",
          "2025-09-05",
          "2025-09-08",
          "2025-09-09",
          "2025-09-10"
         ],
         "xaxis": "x",
         "y": {
          "bdata": "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",
          "dtype": "f8"
         },
         "yaxis": "y"
        }
       ],
       "layout": {
        "height": 400,
        "template": {
         "data": {
          "bar": [
           {
            "error_x": {
             "color": "#2a3f5f"
            },
            "error_y": {
             "color": "#2a3f5f"
            },
            "marker": {
             "line": {
              "color": "#E5ECF6",
              "width": 0.5
             },
             "pattern": {
              "fillmode": "overlay",
              "size": 10,
              "solidity": 0.2
             }
            },
            "type": "bar"
           }
          ],
          "barpolar": [
           {
            "marker": {
             "line": {
              "color": "#E5ECF6",
              "width": 0.5
             },
             "pattern": {
              "fillmode": "overlay",
              "size": 10,
              "solidity": 0.2
             }
            },
            "type": "barpolar"
           }
          ],
          "carpet": [
           {
            "aaxis": {
             "endlinecolor": "#2a3f5f",
             "gridcolor": "white",
             "linecolor": "white",
             "minorgridcolor": "white",
             "startlinecolor": "#2a3f5f"
            },
            "baxis": {
             "endlinecolor": "#2a3f5f",
             "gridcolor": "white",
             "linecolor": "white",
             "minorgridcolor": "white",
             "startlinecolor": "#2a3f5f"
            },
            "type": "carpet"
           }
          ],
          "choropleth": [
           {
            "colorbar": {
             "outlinewidth": 0,
             "ticks": ""
            },
            "type": "choropleth"
           }
          ],
          "contour": [
           {
            "colorbar": {
             "outlinewidth": 0,
             "ticks": ""
            },
            "colorscale": [
             [
              0,
              "#0d0887"
             ],
             [
              0.1111111111111111,
              "#46039f"
             ],
             [
              0.2222222222222222,
              "#7201a8"
             ],
             [
              0.3333333333333333,
              "#9c179e"
             ],
             [
              0.4444444444444444,
              "#bd3786"
             ],
             [
              0.5555555555555556,
              "#d8576b"
             ],
             [
              0.6666666666666666,
              "#ed7953"
             ],
             [
              0.7777777777777778,
              "#fb9f3a"
             ],
             [
              0.8888888888888888,
              "#fdca26"
             ],
             [
              1,
              "#f0f921"
             ]
            ],
            "type": "contour"
           }
          ],
          "contourcarpet": [
           {
            "colorbar": {
             "outlinewidth": 0,
             "ticks": ""
            },
            "type": "contourcarpet"
           }
          ],
          "heatmap": [
           {
            "colorbar": {
             "outlinewidth": 0,
             "ticks": ""
            },
            "colorscale": [
             [
              0,
              "#0d0887"
             ],
             [
              0.1111111111111111,
              "#46039f"
             ],
             [
              0.2222222222222222,
              "#7201a8"
             ],
             [
              0.3333333333333333,
              "#9c179e"
             ],
             [
              0.4444444444444444,
              "#bd3786"
             ],
             [
              0.5555555555555556,
              "#d8576b"
             ],
             [
              0.6666666666666666,
              "#ed7953"
             ],
             [
              0.7777777777777778,
              "#fb9f3a"
             ],
             [
              0.8888888888888888,
              "#fdca26"
             ],
             [
              1,
              "#f0f921"
             ]
            ],
            "type": "heatmap"
           }
          ],
          "histogram": [
           {
            "marker": {
             "pattern": {
              "fillmode": "overlay",
              "size": 10,
              "solidity": 0.2
             }
            },
            "type": "histogram"
           }
          ],
          "histogram2d": [
           {
            "colorbar": {
             "outlinewidth": 0,
             "ticks": ""
            },
            "colorscale": [
             [
              0,
              "#0d0887"
             ],
             [
              0.1111111111111111,
              "#46039f"
             ],
             [
              0.2222222222222222,
              "#7201a8"
             ],
             [
              0.3333333333333333,
              "#9c179e"
             ],
             [
              0.4444444444444444,
              "#bd3786"
             ],
             [
              0.5555555555555556,
              "#d8576b"
             ],
             [
              0.6666666666666666,
              "#ed7953"
             ],
             [
              0.7777777777777778,
              "#fb9f3a"
             ],
             [
              0.8888888888888888,
              "#fdca26"
             ],
             [
              1,
              "#f0f921"
             ]
            ],
            "type": "histogram2d"
           }
          ],
          "histogram2dcontour": [
           {
            "colorbar": {
             "outlinewidth": 0,
             "ticks": ""
            },
            "colorscale": [
             [
              0,
              "#0d0887"
             ],
             [
              0.1111111111111111,
              "#46039f"
             ],
             [
              0.2222222222222222,
              "#7201a8"
             ],
             [
              0.3333333333333333,
              "#9c179e"
             ],
             [
              0.4444444444444444,
              "#bd3786"
             ],
             [
              0.5555555555555556,
              "#d8576b"
             ],
             [
              0.6666666666666666,
              "#ed7953"
             ],
             [
              0.7777777777777778,
              "#fb9f3a"
             ],
             [
              0.8888888888888888,
              "#fdca26"
             ],
             [
              1,
              "#f0f921"
             ]
            ],
            "type": "histogram2dcontour"
           }
          ],
          "mesh3d": [
           {
            "colorbar": {
             "outlinewidth": 0,
             "ticks": ""
            },
            "type": "mesh3d"
           }
          ],
          "parcoords": [
           {
            "line": {
             "colorbar": {
              "outlinewidth": 0,
              "ticks": ""
             }
            },
            "type": "parcoords"
           }
          ],
          "pie": [
           {
            "automargin": true,
            "type": "pie"
           }
          ],
          "scatter": [
           {
            "fillpattern": {
             "fillmode": "overlay",
             "size": 10,
             "solidity": 0.2
            },
            "type": "scatter"
           }
          ],
          "scatter3d": [
           {
            "line": {
             "colorbar": {
              "outlinewidth": 0,
              "ticks": ""
             }
            },
            "marker": {
             "colorbar": {
              "outlinewidth": 0,
              "ticks": ""
             }
            },
            "type": "scatter3d"
           }
          ],
          "scattercarpet": [
           {
            "marker": {
             "colorbar": {
              "outlinewidth": 0,
              "ticks": ""
             }
            },
            "type": "scattercarpet"
           }
          ],
          "scattergeo": [
           {
            "marker": {
             "colorbar": {
              "outlinewidth": 0,
              "ticks": ""
             }
            },
            "type": "scattergeo"
           }
          ],
          "scattergl": [
           {
            "marker": {
             "colorbar": {
              "outlinewidth": 0,
              "ticks": ""
             }
            },
            "type": "scattergl"
           }
          ],
          "scattermap": [
           {
            "marker": {
             "colorbar": {
              "outlinewidth": 0,
              "ticks": ""
             }
            },
            "type": "scattermap"
           }
          ],
          "scattermapbox": [
           {
            "marker": {
             "colorbar": {
              "outlinewidth": 0,
              "ticks": ""
             }
            },
            "type": "scattermapbox"
           }
          ],
          "scatterpolar": [
           {
            "marker": {
             "colorbar": {
              "outlinewidth": 0,
              "ticks": ""
             }
            },
            "type": "scatterpolar"
           }
          ],
          "scatterpolargl": [
           {
            "marker": {
             "colorbar": {
              "outlinewidth": 0,
              "ticks": ""
             }
            },
            "type": "scatterpolargl"
           }
          ],
          "scatterternary": [
           {
            "marker": {
             "colorbar": {
              "outlinewidth": 0,
              "ticks": ""
             }
            },
            "type": "scatterternary"
           }
          ],
          "surface": [
           {
            "colorbar": {
             "outlinewidth": 0,
             "ticks": ""
            },
            "colorscale": [
             [
              0,
              "#0d0887"
             ],
             [
              0.1111111111111111,
              "#46039f"
             ],
             [
              0.2222222222222222,
              "#7201a8"
             ],
             [
              0.3333333333333333,
              "#9c179e"
             ],
             [
              0.4444444444444444,
              "#bd3786"
             ],
             [
              0.5555555555555556,
              "#d8576b"
             ],
             [
              0.6666666666666666,
              "#ed7953"
             ],
             [
              0.7777777777777778,
              "#fb9f3a"
             ],
             [
              0.8888888888888888,
              "#fdca26"
             ],
             [
              1,
              "#f0f921"
             ]
            ],
            "type": "surface"
           }
          ],
          "table": [
           {
            "cells": {
             "fill": {
              "color": "#EBF0F8"
             },
             "line": {
              "color": "white"
             }
            },
            "header": {
             "fill": {
              "color": "#C8D4E3"
             },
             "line": {
              "color": "white"
             }
            },
            "type": "table"
           }
          ]
         },
         "layout": {
          "annotationdefaults": {
           "arrowcolor": "#2a3f5f",
           "arrowhead": 0,
           "arrowwidth": 1
          },
          "autotypenumbers": "strict",
          "coloraxis": {
           "colorbar": {
            "outlinewidth": 0,
            "ticks": ""
           }
          },
          "colorscale": {
           "diverging": [
            [
             0,
             "#8e0152"
            ],
            [
             0.1,
             "#c51b7d"
            ],
            [
             0.2,
             "#de77ae"
            ],
            [
             0.3,
             "#f1b6da"
            ],
            [
             0.4,
             "#fde0ef"
            ],
            [
             0.5,
             "#f7f7f7"
            ],
            [
             0.6,
             "#e6f5d0"
            ],
            [
             0.7,
             "#b8e186"
            ],
            [
             0.8,
             "#7fbc41"
            ],
            [
             0.9,
             "#4d9221"
            ],
            [
             1,
             "#276419"
            ]
           ],
           "sequential": [
            [
             0,
             "#0d0887"
            ],
            [
             0.1111111111111111,
             "#46039f"
            ],
            [
             0.2222222222222222,
             "#7201a8"
            ],
            [
             0.3333333333333333,
             "#9c179e"
            ],
            [
             0.4444444444444444,
             "#bd3786"
            ],
            [
             0.5555555555555556,
             "#d8576b"
            ],
            [
             0.6666666666666666,
             "#ed7953"
            ],
            [
             0.7777777777777778,
             "#fb9f3a"
            ],
            [
             0.8888888888888888,
             "#fdca26"
            ],
            [
             1,
             "#f0f921"
            ]
           ],
           "sequentialminus": [
            [
             0,
             "#0d0887"
            ],
            [
             0.1111111111111111,
             "#46039f"
            ],
            [
             0.2222222222222222,
             "#7201a8"
            ],
            [
             0.3333333333333333,
             "#9c179e"
            ],
            [
             0.4444444444444444,
             "#bd3786"
            ],
            [
             0.5555555555555556,
             "#d8576b"
            ],
            [
             0.6666666666666666,
             "#ed7953"
            ],
            [
             0.7777777777777778,
             "#fb9f3a"
            ],
            [
             0.8888888888888888,
             "#fdca26"
            ],
            [
             1,
             "#f0f921"
            ]
           ]
          },
          "colorway": [
           "#636efa",
           "#EF553B",
           "#00cc96",
           "#ab63fa",
           "#FFA15A",
           "#19d3f3",
           "#FF6692",
           "#B6E880",
           "#FF97FF",
           "#FECB52"
          ],
          "font": {
           "color": "#2a3f5f"
          },
          "geo": {
           "bgcolor": "white",
           "lakecolor": "white",
           "landcolor": "#E5ECF6",
           "showlakes": true,
           "showland": true,
           "subunitcolor": "white"
          },
          "hoverlabel": {
           "align": "left"
          },
          "hovermode": "closest",
          "mapbox": {
           "style": "light"
          },
          "paper_bgcolor": "white",
          "plot_bgcolor": "#E5ECF6",
          "polar": {
           "angularaxis": {
            "gridcolor": "white",
            "linecolor": "white",
            "ticks": ""
           },
           "bgcolor": "#E5ECF6",
           "radialaxis": {
            "gridcolor": "white",
            "linecolor": "white",
            "ticks": ""
           }
          },
          "scene": {
           "xaxis": {
            "backgroundcolor": "#E5ECF6",
            "gridcolor": "white",
            "gridwidth": 2,
            "linecolor": "white",
            "showbackground": true,
            "ticks": "",
            "zerolinecolor": "white"
           },
           "yaxis": {
            "backgroundcolor": "#E5ECF6",
            "gridcolor": "white",
            "gridwidth": 2,
            "linecolor": "white",
            "showbackground": true,
            "ticks": "",
            "zerolinecolor": "white"
           },
           "zaxis": {
            "backgroundcolor": "#E5ECF6",
            "gridcolor": "white",
            "gridwidth": 2,
            "linecolor": "white",
            "showbackground": true,
            "ticks": "",
            "zerolinecolor": "white"
           }
          },
          "shapedefaults": {
           "line": {
            "color": "#2a3f5f"
           }
          },
          "ternary": {
           "aaxis": {
            "gridcolor": "white",
            "linecolor": "white",
            "ticks": ""
           },
           "baxis": {
            "gridcolor": "white",
            "linecolor": "white",
            "ticks": ""
           },
           "bgcolor": "#E5ECF6",
           "caxis": {
            "gridcolor": "white",
            "linecolor": "white",
            "ticks": ""
           }
          },
          "title": {
           "x": 0.05
          },
          "xaxis": {
           "automargin": true,
           "gridcolor": "white",
           "linecolor": "white",
           "ticks": "",
           "title": {
            "standoff": 15
           },
           "zerolinecolor": "white",
           "zerolinewidth": 2
          },
          "yaxis": {
           "automargin": true,
           "gridcolor": "white",
           "linecolor": "white",
           "ticks": "",
           "title": {
            "standoff": 15
           },
           "zerolinecolor": "white",
           "zerolinewidth": 2
          }
         }
        },
        "title": {
         "text": "Market Volatility (VIX)",
         "x": 0.5
        },
        "width": 600,
        "xaxis": {
         "anchor": "y",
         "domain": [
          0,
          0.94
         ]
        },
        "yaxis": {
         "anchor": "x",
         "domain": [
          0,
          1
         ]
        },
        "yaxis2": {
         "anchor": "x",
         "overlaying": "y",
         "side": "right"
        }
       }
      }
     },
     "metadata": {},
     "output_type": "display_data"
    }
   ],
   "source": [
    "from yfinance_utils import file_utils\n",
    "from finta import TA\n",
    "from plotly.subplots import make_subplots\n",
    "import plotly.graph_objects as go\n",
    "\n",
    "_t = '^VIX'\n",
    "\n",
    "COLUMNS = ['Adj Close', 'Open','High','Low','Close','Volume']\n",
    "_d = file_utils.get_history(_t)\n",
    "_d['sma'] = TA.SMA(_d, period=30)\n",
    "\n",
    "_f=make_subplots(specs=[[{\"secondary_y\": True}]])\n",
    "_f.update_layout(title=f\"Market Volatility (VIX)\", title_x=0.5, width=600, height=400)\n",
    "_d.reset_index(inplace=True)\n",
    "_f.add_trace(\n",
    "    go.Scatter(y=_d['Close'], x=_d['Date'], name=\"VIX\"),\n",
    "    secondary_y=False\n",
    ")\n",
    "_f.add_trace(\n",
    "    go.Scatter(y=_d['sma'], x=_d['Date'], name=f'sma'),\n",
    "    secondary_y=False\n",
    ")\n",
    "_f.show()"
   ]
  },
  {
   "cell_type": "markdown",
   "metadata": {},
   "source": [
    "###  Getting best performing stocks"
   ]
  },
  {
   "cell_type": "code",
   "execution_count": 5,
   "metadata": {},
   "outputs": [
    {
     "data": {
      "application/vnd.plotly.v1+json": {
       "config": {
        "plotlyServerURL": "https://plot.ly"
       },
       "data": [
        {
         "name": "WULF: 100.38 %",
         "type": "scatter",
         "x": [
          "2024-07-17",
          "2024-07-18",
          "2024-07-19",
          "2024-07-22",
          "2024-07-23",
          "2024-07-24",
          "2024-07-25",
          "2024-07-26",
          "2024-07-29",
          "2024-07-30",
          "2024-07-31",
          "2024-08-01",
          "2024-08-02",
          "2024-08-05",
          "2024-08-06",
          "2024-08-07",
          "2024-08-08",
          "2024-08-09",
          "2024-08-12",
          "2024-08-13",
          "2024-08-14",
          "2024-08-15",
          "2024-08-16",
          "2024-08-19",
          "2024-08-20",
          "2024-08-21",
          "2024-08-22",
          "2024-08-23",
          "2024-08-26",
          "2024-08-27",
          "2024-08-28",
          "2024-08-29",
          "2024-08-30",
          "2024-09-03",
          "2024-09-04",
          "2024-09-05",
          "2024-09-06",
          "2024-09-09",
          "2024-09-10",
          "2024-09-11",
          "2024-09-12",
          "2024-09-13",
          "2024-09-16",
          "2024-09-17",
          "2024-09-18",
          "2024-09-19",
          "2024-09-20",
          "2024-09-23",
          "2024-09-24",
          "2024-09-25",
          "2024-09-26",
          "2024-09-27",
          "2024-09-30",
          "2024-10-01",
          "2024-10-02",
          "2024-10-03",
          "2024-10-04",
          "2024-10-07",
          "2024-10-08",
          "2024-10-09",
          "2024-10-10",
          "2024-10-11",
          "2024-10-14",
          "2024-10-15",
          "2024-10-16",
          "2024-10-17",
          "2024-10-18",
          "2024-10-21",
          "2024-10-22",
          "2024-10-23",
          "2024-10-24",
          "2024-10-25",
          "2024-10-28",
          "2024-10-29",
          "2024-10-30",
          "2024-10-31",
          "2024-11-01",
          "2024-11-04",
          "2024-11-05",
          "2024-11-06",
          "2024-11-07",
          "2024-11-08",
          "2024-11-11",
          "2024-11-12",
          "2024-11-13",
          "2024-11-14",
          "2024-11-15",
          "2024-11-18",
          "2024-11-19",
          "2024-11-20",
          "2024-11-21",
          "2024-11-22",
          "2024-11-25",
          "2024-11-26",
          "2024-11-27",
          "2024-11-29",
          "2024-12-02",
          "2024-12-03",
          "2024-12-04",
          "2024-12-05",
          "2024-12-06",
          "2024-12-09",
          "2024-12-10",
          "2024-12-11",
          "2024-12-12",
          "2024-12-13",
          "2024-12-16",
          "2024-12-17",
          "2024-12-18",
          "2024-12-19",
          "2024-12-20",
          "2024-12-23",
          "2024-12-24",
          "2024-12-26",
          "2024-12-27",
          "2024-12-30",
          "2024-12-31",
          "2025-01-02",
          "2025-01-03",
          "2025-01-06",
          "2025-01-07",
          "2025-01-08",
          "2025-01-10",
          "2025-01-13",
          "2025-01-14",
          "2025-01-15",
          "2025-01-16",
          "2025-01-17",
          "2025-01-21",
          "2025-01-22",
          "2025-01-23",
          "2025-01-24",
          "2025-01-27",
          "2025-01-28",
          "2025-01-29",
          "2025-01-30",
          "2025-01-31",
          "2025-02-03",
          "2025-02-04",
          "2025-02-05",
          "2025-02-06",
          "2025-02-07",
          "2025-02-10",
          "2025-02-11",
          "2025-02-12",
          "2025-02-13",
          "2025-02-14",
          "2025-02-18",
          "2025-02-19",
          "2025-02-20",
          "2025-02-21",
          "2025-02-24",
          "2025-02-25",
          "2025-02-26",
          "2025-02-27",
          "2025-02-28",
          "2025-03-03",
          "2025-03-04",
          "2025-03-05",
          "2025-03-06",
          "2025-03-07",
          "2025-03-10",
          "2025-03-11",
          "2025-03-12",
          "2025-03-13",
          "2025-03-14",
          "2025-03-17",
          "2025-03-18",
          "2025-03-19",
          "2025-03-20",
          "2025-03-21",
          "2025-03-24",
          "2025-03-25",
          "2025-03-26",
          "2025-03-27",
          "2025-03-28",
          "2025-03-31",
          "2025-04-01",
          "2025-04-02",
          "2025-04-03",
          "2025-04-04",
          "2025-04-07",
          "2025-04-08",
          "2025-04-09",
          "2025-04-10",
          "2025-04-11",
          "2025-04-14",
          "2025-04-15",
          "2025-04-16",
          "2025-04-17",
          "2025-04-21",
          "2025-04-22",
          "2025-04-23",
          "2025-04-24",
          "2025-04-25",
          "2025-04-28",
          "2025-04-29",
          "2025-04-30",
          "2025-05-01",
          "2025-05-02",
          "2025-05-05",
          "2025-05-06",
          "2025-05-07",
          "2025-05-08",
          "2025-05-09",
          "2025-05-12",
          "2025-05-13",
          "2025-05-14",
          "2025-05-15",
          "2025-05-16",
          "2025-05-19",
          "2025-05-20",
          "2025-05-21",
          "2025-05-22",
          "2025-05-23",
          "2025-05-27",
          "2025-05-28",
          "2025-05-29",
          "2025-05-30",
          "2025-06-02",
          "2025-06-03",
          "2025-06-04",
          "2025-06-05",
          "2025-06-06",
          "2025-06-09",
          "2025-06-10",
          "2025-06-11",
          "2025-06-12",
          "2025-06-13",
          "2025-06-16",
          "2025-06-17",
          "2025-06-18",
          "2025-06-20",
          "2025-06-23",
          "2025-06-24",
          "2025-06-25",
          "2025-06-26",
          "2025-06-27",
          "2025-06-30",
          "2025-07-01",
          "2025-07-02",
          "2025-07-03",
          "2025-07-07",
          "2025-07-08",
          "2025-07-09",
          "2025-07-10",
          "2025-07-11",
          "2025-07-14",
          "2025-07-15",
          "2025-07-16",
          "2025-07-17",
          "2025-07-18",
          "2025-07-21",
          "2025-07-22",
          "2025-07-23",
          "2025-07-24",
          "2025-07-25",
          "2025-07-28",
          "2025-07-29",
          "2025-07-30",
          "2025-07-31",
          "2025-08-01",
          "2025-08-04",
          "2025-08-05",
          "2025-08-06",
          "2025-08-07",
          "2025-08-08",
          "2025-08-11",
          "2025-08-12",
          "2025-08-13",
          "2025-08-14",
          "2025-08-15",
          "2025-08-18",
          "2025-08-19",
          "2025-08-20",
          "2025-08-21",
          "2025-08-22",
          "2025-08-25",
          "2025-08-26",
          "2025-08-27",
          "2025-08-28",
          "2025-08-29",
          "2025-09-02",
          "2025-09-03",
          "2025-09-04",
          "2025-09-05",
          "2025-09-08",
          "2025-09-09",
          "2025-09-10"
         ],
         "xaxis": "x",
         "y": {
          "bdata": "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",
          "dtype": "f8"
         },
         "yaxis": "y"
        },
        {
         "name": "SMA 50",
         "type": "scatter",
         "x": [
          "2024-07-17",
          "2024-07-18",
          "2024-07-19",
          "2024-07-22",
          "2024-07-23",
          "2024-07-24",
          "2024-07-25",
          "2024-07-26",
          "2024-07-29",
          "2024-07-30",
          "2024-07-31",
          "2024-08-01",
          "2024-08-02",
          "2024-08-05",
          "2024-08-06",
          "2024-08-07",
          "2024-08-08",
          "2024-08-09",
          "2024-08-12",
          "2024-08-13",
          "2024-08-14",
          "2024-08-15",
          "2024-08-16",
          "2024-08-19",
          "2024-08-20",
          "2024-08-21",
          "2024-08-22",
          "2024-08-23",
          "2024-08-26",
          "2024-08-27",
          "2024-08-28",
          "2024-08-29",
          "2024-08-30",
          "2024-09-03",
          "2024-09-04",
          "2024-09-05",
          "2024-09-06",
          "2024-09-09",
          "2024-09-10",
          "2024-09-11",
          "2024-09-12",
          "2024-09-13",
          "2024-09-16",
          "2024-09-17",
          "2024-09-18",
          "2024-09-19",
          "2024-09-20",
          "2024-09-23",
          "2024-09-24",
          "2024-09-25",
          "2024-09-26",
          "2024-09-27",
          "2024-09-30",
          "2024-10-01",
          "2024-10-02",
          "2024-10-03",
          "2024-10-04",
          "2024-10-07",
          "2024-10-08",
          "2024-10-09",
          "2024-10-10",
          "2024-10-11",
          "2024-10-14",
          "2024-10-15",
          "2024-10-16",
          "2024-10-17",
          "2024-10-18",
          "2024-10-21",
          "2024-10-22",
          "2024-10-23",
          "2024-10-24",
          "2024-10-25",
          "2024-10-28",
          "2024-10-29",
          "2024-10-30",
          "2024-10-31",
          "2024-11-01",
          "2024-11-04",
          "2024-11-05",
          "2024-11-06",
          "2024-11-07",
          "2024-11-08",
          "2024-11-11",
          "2024-11-12",
          "2024-11-13",
          "2024-11-14",
          "2024-11-15",
          "2024-11-18",
          "2024-11-19",
          "2024-11-20",
          "2024-11-21",
          "2024-11-22",
          "2024-11-25",
          "2024-11-26",
          "2024-11-27",
          "2024-11-29",
          "2024-12-02",
          "2024-12-03",
          "2024-12-04",
          "2024-12-05",
          "2024-12-06",
          "2024-12-09",
          "2024-12-10",
          "2024-12-11",
          "2024-12-12",
          "2024-12-13",
          "2024-12-16",
          "2024-12-17",
          "2024-12-18",
          "2024-12-19",
          "2024-12-20",
          "2024-12-23",
          "2024-12-24",
          "2024-12-26",
          "2024-12-27",
          "2024-12-30",
          "2024-12-31",
          "2025-01-02",
          "2025-01-03",
          "2025-01-06",
          "2025-01-07",
          "2025-01-08",
          "2025-01-10",
          "2025-01-13",
          "2025-01-14",
          "2025-01-15",
          "2025-01-16",
          "2025-01-17",
          "2025-01-21",
          "2025-01-22",
          "2025-01-23",
          "2025-01-24",
          "2025-01-27",
          "2025-01-28",
          "2025-01-29",
          "2025-01-30",
          "2025-01-31",
          "2025-02-03",
          "2025-02-04",
          "2025-02-05",
          "2025-02-06",
          "2025-02-07",
          "2025-02-10",
          "2025-02-11",
          "2025-02-12",
          "2025-02-13",
          "2025-02-14",
          "2025-02-18",
          "2025-02-19",
          "2025-02-20",
          "2025-02-21",
          "2025-02-24",
          "2025-02-25",
          "2025-02-26",
          "2025-02-27",
          "2025-02-28",
          "2025-03-03",
          "2025-03-04",
          "2025-03-05",
          "2025-03-06",
          "2025-03-07",
          "2025-03-10",
          "2025-03-11",
          "2025-03-12",
          "2025-03-13",
          "2025-03-14",
          "2025-03-17",
          "2025-03-18",
          "2025-03-19",
          "2025-03-20",
          "2025-03-21",
          "2025-03-24",
          "2025-03-25",
          "2025-03-26",
          "2025-03-27",
          "2025-03-28",
          "2025-03-31",
          "2025-04-01",
          "2025-04-02",
          "2025-04-03",
          "2025-04-04",
          "2025-04-07",
          "2025-04-08",
          "2025-04-09",
          "2025-04-10",
          "2025-04-11",
          "2025-04-14",
          "2025-04-15",
          "2025-04-16",
          "2025-04-17",
          "2025-04-21",
          "2025-04-22",
          "2025-04-23",
          "2025-04-24",
          "2025-04-25",
          "2025-04-28",
          "2025-04-29",
          "2025-04-30",
          "2025-05-01",
          "2025-05-02",
          "2025-05-05",
          "2025-05-06",
          "2025-05-07",
          "2025-05-08",
          "2025-05-09",
          "2025-05-12",
          "2025-05-13",
          "2025-05-14",
          "2025-05-15",
          "2025-05-16",
          "2025-05-19",
          "2025-05-20",
          "2025-05-21",
          "2025-05-22",
          "2025-05-23",
          "2025-05-27",
          "2025-05-28",
          "2025-05-29",
          "2025-05-30",
          "2025-06-02",
          "2025-06-03",
          "2025-06-04",
          "2025-06-05",
          "2025-06-06",
          "2025-06-09",
          "2025-06-10",
          "2025-06-11",
          "2025-06-12",
          "2025-06-13",
          "2025-06-16",
          "2025-06-17",
          "2025-06-18",
          "2025-06-20",
          "2025-06-23",
          "2025-06-24",
          "2025-06-25",
          "2025-06-26",
          "2025-06-27",
          "2025-06-30",
          "2025-07-01",
          "2025-07-02",
          "2025-07-03",
          "2025-07-07",
          "2025-07-08",
          "2025-07-09",
          "2025-07-10",
          "2025-07-11",
          "2025-07-14",
          "2025-07-15",
          "2025-07-16",
          "2025-07-17",
          "2025-07-18",
          "2025-07-21",
          "2025-07-22",
          "2025-07-23",
          "2025-07-24",
          "2025-07-25",
          "2025-07-28",
          "2025-07-29",
          "2025-07-30",
          "2025-07-31",
          "2025-08-01",
          "2025-08-04",
          "2025-08-05",
          "2025-08-06",
          "2025-08-07",
          "2025-08-08",
          "2025-08-11",
          "2025-08-12",
          "2025-08-13",
          "2025-08-14",
          "2025-08-15",
          "2025-08-18",
          "2025-08-19",
          "2025-08-20",
          "2025-08-21",
          "2025-08-22",
          "2025-08-25",
          "2025-08-26",
          "2025-08-27",
          "2025-08-28",
          "2025-08-29",
          "2025-09-02",
          "2025-09-03",
          "2025-09-04",
          "2025-09-05",
          "2025-09-08",
          "2025-09-09",
          "2025-09-10"
         ],
         "xaxis": "x",
         "y": {
          "bdata": "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",
          "dtype": "f8"
         },
         "yaxis": "y"
        }
       ],
       "layout": {
        "annotations": [
         {
          "font": {
           "size": 8
          },
          "showarrow": false,
          "text": "Date: 2025-09-10, Open:10.55, High:11.04, Low:10.24, Close: 10.54",
          "x": 0.01,
          "xref": "x domain",
          "y": 1,
          "yref": "y domain"
         }
        ],
        "height": 400,
        "legend": {
         "font": {
          "size": 8
         },
         "title": {
          "font": {
           "family": "Arial"
          }
         }
        },
        "template": {
         "data": {
          "bar": [
           {
            "error_x": {
             "color": "#2a3f5f"
            },
            "error_y": {
             "color": "#2a3f5f"
            },
            "marker": {
             "line": {
              "color": "#E5ECF6",
              "width": 0.5
             },
             "pattern": {
              "fillmode": "overlay",
              "size": 10,
              "solidity": 0.2
             }
            },
            "type": "bar"
           }
          ],
          "barpolar": [
           {
            "marker": {
             "line": {
              "color": "#E5ECF6",
              "width": 0.5
             },
             "pattern": {
              "fillmode": "overlay",
              "size": 10,
              "solidity": 0.2
             }
            },
            "type": "barpolar"
           }
          ],
          "carpet": [
           {
            "aaxis": {
             "endlinecolor": "#2a3f5f",
             "gridcolor": "white",
             "linecolor": "white",
             "minorgridcolor": "white",
             "startlinecolor": "#2a3f5f"
            },
            "baxis": {
             "endlinecolor": "#2a3f5f",
             "gridcolor": "white",
             "linecolor": "white",
             "minorgridcolor": "white",
             "startlinecolor": "#2a3f5f"
            },
            "type": "carpet"
           }
          ],
          "choropleth": [
           {
            "colorbar": {
             "outlinewidth": 0,
             "ticks": ""
            },
            "type": "choropleth"
           }
          ],
          "contour": [
           {
            "colorbar": {
             "outlinewidth": 0,
             "ticks": ""
            },
            "colorscale": [
             [
              0,
              "#0d0887"
             ],
             [
              0.1111111111111111,
              "#46039f"
             ],
             [
              0.2222222222222222,
              "#7201a8"
             ],
             [
              0.3333333333333333,
              "#9c179e"
             ],
             [
              0.4444444444444444,
              "#bd3786"
             ],
             [
              0.5555555555555556,
              "#d8576b"
             ],
             [
              0.6666666666666666,
              "#ed7953"
             ],
             [
              0.7777777777777778,
              "#fb9f3a"
             ],
             [
              0.8888888888888888,
              "#fdca26"
             ],
             [
              1,
              "#f0f921"
             ]
            ],
            "type": "contour"
           }
          ],
          "contourcarpet": [
           {
            "colorbar": {
             "outlinewidth": 0,
             "ticks": ""
            },
            "type": "contourcarpet"
           }
          ],
          "heatmap": [
           {
            "colorbar": {
             "outlinewidth": 0,
             "ticks": ""
            },
            "colorscale": [
             [
              0,
              "#0d0887"
             ],
             [
              0.1111111111111111,
              "#46039f"
             ],
             [
              0.2222222222222222,
              "#7201a8"
             ],
             [
              0.3333333333333333,
              "#9c179e"
             ],
             [
              0.4444444444444444,
              "#bd3786"
             ],
             [
              0.5555555555555556,
              "#d8576b"
             ],
             [
              0.6666666666666666,
              "#ed7953"
             ],
             [
              0.7777777777777778,
              "#fb9f3a"
             ],
             [
              0.8888888888888888,
              "#fdca26"
             ],
             [
              1,
              "#f0f921"
             ]
            ],
            "type": "heatmap"
           }
          ],
          "histogram": [
           {
            "marker": {
             "pattern": {
              "fillmode": "overlay",
              "size": 10,
              "solidity": 0.2
             }
            },
            "type": "histogram"
           }
          ],
          "histogram2d": [
           {
            "colorbar": {
             "outlinewidth": 0,
             "ticks": ""
            },
            "colorscale": [
             [
              0,
              "#0d0887"
             ],
             [
              0.1111111111111111,
              "#46039f"
             ],
             [
              0.2222222222222222,
              "#7201a8"
             ],
             [
              0.3333333333333333,
              "#9c179e"
             ],
             [
              0.4444444444444444,
              "#bd3786"
             ],
             [
              0.5555555555555556,
              "#d8576b"
             ],
             [
              0.6666666666666666,
              "#ed7953"
             ],
             [
              0.7777777777777778,
              "#fb9f3a"
             ],
             [
              0.8888888888888888,
              "#fdca26"
             ],
             [
              1,
              "#f0f921"
             ]
            ],
            "type": "histogram2d"
           }
          ],
          "histogram2dcontour": [
           {
            "colorbar": {
             "outlinewidth": 0,
             "ticks": ""
            },
            "colorscale": [
             [
              0,
              "#0d0887"
             ],
             [
              0.1111111111111111,
              "#46039f"
             ],
             [
              0.2222222222222222,
              "#7201a8"
             ],
             [
              0.3333333333333333,
              "#9c179e"
             ],
             [
              0.4444444444444444,
              "#bd3786"
             ],
             [
              0.5555555555555556,
              "#d8576b"
             ],
             [
              0.6666666666666666,
              "#ed7953"
             ],
             [
              0.7777777777777778,
              "#fb9f3a"
             ],
             [
              0.8888888888888888,
              "#fdca26"
             ],
             [
              1,
              "#f0f921"
             ]
            ],
            "type": "histogram2dcontour"
           }
          ],
          "mesh3d": [
           {
            "colorbar": {
             "outlinewidth": 0,
             "ticks": ""
            },
            "type": "mesh3d"
           }
          ],
          "parcoords": [
           {
            "line": {
             "colorbar": {
              "outlinewidth": 0,
              "ticks": ""
             }
            },
            "type": "parcoords"
           }
          ],
          "pie": [
           {
            "automargin": true,
            "type": "pie"
           }
          ],
          "scatter": [
           {
            "fillpattern": {
             "fillmode": "overlay",
             "size": 10,
             "solidity": 0.2
            },
            "type": "scatter"
           }
          ],
          "scatter3d": [
           {
            "line": {
             "colorbar": {
              "outlinewidth": 0,
              "ticks": ""
             }
            },
            "marker": {
             "colorbar": {
              "outlinewidth": 0,
              "ticks": ""
             }
            },
            "type": "scatter3d"
           }
          ],
          "scattercarpet": [
           {
            "marker": {
             "colorbar": {
              "outlinewidth": 0,
              "ticks": ""
             }
            },
            "type": "scattercarpet"
           }
          ],
          "scattergeo": [
           {
            "marker": {
             "colorbar": {
              "outlinewidth": 0,
              "ticks": ""
             }
            },
            "type": "scattergeo"
           }
          ],
          "scattergl": [
           {
            "marker": {
             "colorbar": {
              "outlinewidth": 0,
              "ticks": ""
             }
            },
            "type": "scattergl"
           }
          ],
          "scattermap": [
           {
            "marker": {
             "colorbar": {
              "outlinewidth": 0,
              "ticks": ""
             }
            },
            "type": "scattermap"
           }
          ],
          "scattermapbox": [
           {
            "marker": {
             "colorbar": {
              "outlinewidth": 0,
              "ticks": ""
             }
            },
            "type": "scattermapbox"
           }
          ],
          "scatterpolar": [
           {
            "marker": {
             "colorbar": {
              "outlinewidth": 0,
              "ticks": ""
             }
            },
            "type": "scatterpolar"
           }
          ],
          "scatterpolargl": [
           {
            "marker": {
             "colorbar": {
              "outlinewidth": 0,
              "ticks": ""
             }
            },
            "type": "scatterpolargl"
           }
          ],
          "scatterternary": [
           {
            "marker": {
             "colorbar": {
              "outlinewidth": 0,
              "ticks": ""
             }
            },
            "type": "scatterternary"
           }
          ],
          "surface": [
           {
            "colorbar": {
             "outlinewidth": 0,
             "ticks": ""
            },
            "colorscale": [
             [
              0,
              "#0d0887"
             ],
             [
              0.1111111111111111,
              "#46039f"
             ],
             [
              0.2222222222222222,
              "#7201a8"
             ],
             [
              0.3333333333333333,
              "#9c179e"
             ],
             [
              0.4444444444444444,
              "#bd3786"
             ],
             [
              0.5555555555555556,
              "#d8576b"
             ],
             [
              0.6666666666666666,
              "#ed7953"
             ],
             [
              0.7777777777777778,
              "#fb9f3a"
             ],
             [
              0.8888888888888888,
              "#fdca26"
             ],
             [
              1,
              "#f0f921"
             ]
            ],
            "type": "surface"
           }
          ],
          "table": [
           {
            "cells": {
             "fill": {
              "color": "#EBF0F8"
             },
             "line": {
              "color": "white"
             }
            },
            "header": {
             "fill": {
              "color": "#C8D4E3"
             },
             "line": {
              "color": "white"
             }
            },
            "type": "table"
           }
          ]
         },
         "layout": {
          "annotationdefaults": {
           "arrowcolor": "#2a3f5f",
           "arrowhead": 0,
           "arrowwidth": 1
          },
          "autotypenumbers": "strict",
          "coloraxis": {
           "colorbar": {
            "outlinewidth": 0,
            "ticks": ""
           }
          },
          "colorscale": {
           "diverging": [
            [
             0,
             "#8e0152"
            ],
            [
             0.1,
             "#c51b7d"
            ],
            [
             0.2,
             "#de77ae"
            ],
            [
             0.3,
             "#f1b6da"
            ],
            [
             0.4,
             "#fde0ef"
            ],
            [
             0.5,
             "#f7f7f7"
            ],
            [
             0.6,
             "#e6f5d0"
            ],
            [
             0.7,
             "#b8e186"
            ],
            [
             0.8,
             "#7fbc41"
            ],
            [
             0.9,
             "#4d9221"
            ],
            [
             1,
             "#276419"
            ]
           ],
           "sequential": [
            [
             0,
             "#0d0887"
            ],
            [
             0.1111111111111111,
             "#46039f"
            ],
            [
             0.2222222222222222,
             "#7201a8"
            ],
            [
             0.3333333333333333,
             "#9c179e"
            ],
            [
             0.4444444444444444,
             "#bd3786"
            ],
            [
             0.5555555555555556,
             "#d8576b"
            ],
            [
             0.6666666666666666,
             "#ed7953"
            ],
            [
             0.7777777777777778,
             "#fb9f3a"
            ],
            [
             0.8888888888888888,
             "#fdca26"
            ],
            [
             1,
             "#f0f921"
            ]
           ],
           "sequentialminus": [
            [
             0,
             "#0d0887"
            ],
            [
             0.1111111111111111,
             "#46039f"
            ],
            [
             0.2222222222222222,
             "#7201a8"
            ],
            [
             0.3333333333333333,
             "#9c179e"
            ],
            [
             0.4444444444444444,
             "#bd3786"
            ],
            [
             0.5555555555555556,
             "#d8576b"
            ],
            [
             0.6666666666666666,
             "#ed7953"
            ],
            [
             0.7777777777777778,
             "#fb9f3a"
            ],
            [
             0.8888888888888888,
             "#fdca26"
            ],
            [
             1,
             "#f0f921"
            ]
           ]
          },
          "colorway": [
           "#636efa",
           "#EF553B",
           "#00cc96",
           "#ab63fa",
           "#FFA15A",
           "#19d3f3",
           "#FF6692",
           "#B6E880",
           "#FF97FF",
           "#FECB52"
          ],
          "font": {
           "color": "#2a3f5f"
          },
          "geo": {
           "bgcolor": "white",
           "lakecolor": "white",
           "landcolor": "#E5ECF6",
           "showlakes": true,
           "showland": true,
           "subunitcolor": "white"
          },
          "hoverlabel": {
           "align": "left"
          },
          "hovermode": "closest",
          "mapbox": {
           "style": "light"
          },
          "paper_bgcolor": "white",
          "plot_bgcolor": "#E5ECF6",
          "polar": {
           "angularaxis": {
            "gridcolor": "white",
            "linecolor": "white",
            "ticks": ""
           },
           "bgcolor": "#E5ECF6",
           "radialaxis": {
            "gridcolor": "white",
            "linecolor": "white",
            "ticks": ""
           }
          },
          "scene": {
           "xaxis": {
            "backgroundcolor": "#E5ECF6",
            "gridcolor": "white",
            "gridwidth": 2,
            "linecolor": "white",
            "showbackground": true,
            "ticks": "",
            "zerolinecolor": "white"
           },
           "yaxis": {
            "backgroundcolor": "#E5ECF6",
            "gridcolor": "white",
            "gridwidth": 2,
            "linecolor": "white",
            "showbackground": true,
            "ticks": "",
            "zerolinecolor": "white"
           },
           "zaxis": {
            "backgroundcolor": "#E5ECF6",
            "gridcolor": "white",
            "gridwidth": 2,
            "linecolor": "white",
            "showbackground": true,
            "ticks": "",
            "zerolinecolor": "white"
           }
          },
          "shapedefaults": {
           "line": {
            "color": "#2a3f5f"
           }
          },
          "ternary": {
           "aaxis": {
            "gridcolor": "white",
            "linecolor": "white",
            "ticks": ""
           },
           "baxis": {
            "gridcolor": "white",
            "linecolor": "white",
            "ticks": ""
           },
           "bgcolor": "#E5ECF6",
           "caxis": {
            "gridcolor": "white",
            "linecolor": "white",
            "ticks": ""
           }
          },
          "title": {
           "x": 0.05
          },
          "xaxis": {
           "automargin": true,
           "gridcolor": "white",
           "linecolor": "white",
           "ticks": "",
           "title": {
            "standoff": 15
           },
           "zerolinecolor": "white",
           "zerolinewidth": 2
          },
          "yaxis": {
           "automargin": true,
           "gridcolor": "white",
           "linecolor": "white",
           "ticks": "",
           "title": {
            "standoff": 15
           },
           "zerolinecolor": "white",
           "zerolinewidth": 2
          }
         }
        },
        "title": {
         "text": "TOP 20",
         "x": 0.5
        },
        "width": 600,
        "xaxis": {
         "anchor": "y",
         "domain": [
          0,
          0.94
         ]
        },
        "yaxis": {
         "anchor": "x",
         "domain": [
          0,
          1
         ],
         "side": "right"
        },
        "yaxis2": {
         "anchor": "x",
         "overlaying": "y",
         "side": "right"
        }
       }
      }
     },
     "metadata": {},
     "output_type": "display_data"
    },
    {
     "data": {
      "application/vnd.plotly.v1+json": {
       "config": {
        "plotlyServerURL": "https://plot.ly"
       },
       "data": [
        {
         "name": "ALAB: 85.26 %",
         "type": "scatter",
         "x": [
          "2024-07-17",
          "2024-07-18",
          "2024-07-19",
          "2024-07-22",
          "2024-07-23",
          "2024-07-24",
          "2024-07-25",
          "2024-07-26",
          "2024-07-29",
          "2024-07-30",
          "2024-07-31",
          "2024-08-01",
          "2024-08-02",
          "2024-08-05",
          "2024-08-06",
          "2024-08-07",
          "2024-08-08",
          "2024-08-09",
          "2024-08-12",
          "2024-08-13",
          "2024-08-14",
          "2024-08-15",
          "2024-08-16",
          "2024-08-19",
          "2024-08-20",
          "2024-08-21",
          "2024-08-22",
          "2024-08-23",
          "2024-08-26",
          "2024-08-27",
          "2024-08-28",
          "2024-08-29",
          "2024-08-30",
          "2024-09-03",
          "2024-09-04",
          "2024-09-05",
          "2024-09-06",
          "2024-09-09",
          "2024-09-10",
          "2024-09-11",
          "2024-09-12",
          "2024-09-13",
          "2024-09-16",
          "2024-09-17",
          "2024-09-18",
          "2024-09-19",
          "2024-09-20",
          "2024-09-23",
          "2024-09-24",
          "2024-09-25",
          "2024-09-26",
          "2024-09-27",
          "2024-09-30",
          "2024-10-01",
          "2024-10-02",
          "2024-10-03",
          "2024-10-04",
          "2024-10-07",
          "2024-10-08",
          "2024-10-09",
          "2024-10-10",
          "2024-10-11",
          "2024-10-14",
          "2024-10-15",
          "2024-10-16",
          "2024-10-17",
          "2024-10-18",
          "2024-10-21",
          "2024-10-22",
          "2024-10-23",
          "2024-10-24",
          "2024-10-25",
          "2024-10-28",
          "2024-10-29",
          "2024-10-30",
          "2024-10-31",
          "2024-11-01",
          "2024-11-04",
          "2024-11-05",
          "2024-11-06",
          "2024-11-07",
          "2024-11-08",
          "2024-11-11",
          "2024-11-12",
          "2024-11-13",
          "2024-11-14",
          "2024-11-15",
          "2024-11-18",
          "2024-11-19",
          "2024-11-20",
          "2024-11-21",
          "2024-11-22",
          "2024-11-25",
          "2024-11-26",
          "2024-11-27",
          "2024-11-29",
          "2024-12-02",
          "2024-12-03",
          "2024-12-04",
          "2024-12-05",
          "2024-12-06",
          "2024-12-09",
          "2024-12-10",
          "2024-12-11",
          "2024-12-12",
          "2024-12-13",
          "2024-12-16",
          "2024-12-17",
          "2024-12-18",
          "2024-12-19",
          "2024-12-20",
          "2024-12-23",
          "2024-12-24",
          "2024-12-26",
          "2024-12-27",
          "2024-12-30",
          "2024-12-31",
          "2025-01-02",
          "2025-01-03",
          "2025-01-06",
          "2025-01-07",
          "2025-01-08",
          "2025-01-10",
          "2025-01-13",
          "2025-01-14",
          "2025-01-15",
          "2025-01-16",
          "2025-01-17",
          "2025-01-21",
          "2025-01-22",
          "2025-01-23",
          "2025-01-24",
          "2025-01-27",
          "2025-01-28",
          "2025-01-29",
          "2025-01-30",
          "2025-01-31",
          "2025-02-03",
          "2025-02-04",
          "2025-02-05",
          "2025-02-06",
          "2025-02-07",
          "2025-02-10",
          "2025-02-11",
          "2025-02-12",
          "2025-02-13",
          "2025-02-14",
          "2025-02-18",
          "2025-02-19",
          "2025-02-20",
          "2025-02-21",
          "2025-02-24",
          "2025-02-25",
          "2025-02-26",
          "2025-02-27",
          "2025-02-28",
          "2025-03-03",
          "2025-03-04",
          "2025-03-05",
          "2025-03-06",
          "2025-03-07",
          "2025-03-10",
          "2025-03-11",
          "2025-03-12",
          "2025-03-13",
          "2025-03-14",
          "2025-03-17",
          "2025-03-18",
          "2025-03-19",
          "2025-03-20",
          "2025-03-21",
          "2025-03-24",
          "2025-03-25",
          "2025-03-26",
          "2025-03-27",
          "2025-03-28",
          "2025-03-31",
          "2025-04-01",
          "2025-04-02",
          "2025-04-03",
          "2025-04-04",
          "2025-04-07",
          "2025-04-08",
          "2025-04-09",
          "2025-04-10",
          "2025-04-11",
          "2025-04-14",
          "2025-04-15",
          "2025-04-16",
          "2025-04-17",
          "2025-04-21",
          "2025-04-22",
          "2025-04-23",
          "2025-04-24",
          "2025-04-25",
          "2025-04-28",
          "2025-04-29",
          "2025-04-30",
          "2025-05-01",
          "2025-05-02",
          "2025-05-05",
          "2025-05-06",
          "2025-05-07",
          "2025-05-08",
          "2025-05-09",
          "2025-05-12",
          "2025-05-13",
          "2025-05-14",
          "2025-05-15",
          "2025-05-16",
          "2025-05-19",
          "2025-05-20",
          "2025-05-21",
          "2025-05-22",
          "2025-05-23",
          "2025-05-27",
          "2025-05-28",
          "2025-05-29",
          "2025-05-30",
          "2025-06-02",
          "2025-06-03",
          "2025-06-04",
          "2025-06-05",
          "2025-06-06",
          "2025-06-09",
          "2025-06-10",
          "2025-06-11",
          "2025-06-12",
          "2025-06-13",
          "2025-06-16",
          "2025-06-17",
          "2025-06-18",
          "2025-06-20",
          "2025-06-23",
          "2025-06-24",
          "2025-06-25",
          "2025-06-26",
          "2025-06-27",
          "2025-06-30",
          "2025-07-01",
          "2025-07-02",
          "2025-07-03",
          "2025-07-07",
          "2025-07-08",
          "2025-07-09",
          "2025-07-10",
          "2025-07-11",
          "2025-07-14",
          "2025-07-15",
          "2025-07-16",
          "2025-07-17",
          "2025-07-18",
          "2025-07-21",
          "2025-07-22",
          "2025-07-23",
          "2025-07-24",
          "2025-07-25",
          "2025-07-28",
          "2025-07-29",
          "2025-07-30",
          "2025-07-31",
          "2025-08-01",
          "2025-08-04",
          "2025-08-05",
          "2025-08-06",
          "2025-08-07",
          "2025-08-08",
          "2025-08-11",
          "2025-08-12",
          "2025-08-13",
          "2025-08-14",
          "2025-08-15",
          "2025-08-18",
          "2025-08-19",
          "2025-08-20",
          "2025-08-21",
          "2025-08-22",
          "2025-08-25",
          "2025-08-26",
          "2025-08-27",
          "2025-08-28",
          "2025-08-29",
          "2025-09-02",
          "2025-09-03",
          "2025-09-04",
          "2025-09-05",
          "2025-09-08",
          "2025-09-09",
          "2025-09-10"
         ],
         "xaxis": "x",
         "y": {
          "bdata": "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",
          "dtype": "f8"
         },
         "yaxis": "y"
        },
        {
         "name": "SMA 50",
         "type": "scatter",
         "x": [
          "2024-07-17",
          "2024-07-18",
          "2024-07-19",
          "2024-07-22",
          "2024-07-23",
          "2024-07-24",
          "2024-07-25",
          "2024-07-26",
          "2024-07-29",
          "2024-07-30",
          "2024-07-31",
          "2024-08-01",
          "2024-08-02",
          "2024-08-05",
          "2024-08-06",
          "2024-08-07",
          "2024-08-08",
          "2024-08-09",
          "2024-08-12",
          "2024-08-13",
          "2024-08-14",
          "2024-08-15",
          "2024-08-16",
          "2024-08-19",
          "2024-08-20",
          "2024-08-21",
          "2024-08-22",
          "2024-08-23",
          "2024-08-26",
          "2024-08-27",
          "2024-08-28",
          "2024-08-29",
          "2024-08-30",
          "2024-09-03",
          "2024-09-04",
          "2024-09-05",
          "2024-09-06",
          "2024-09-09",
          "2024-09-10",
          "2024-09-11",
          "2024-09-12",
          "2024-09-13",
          "2024-09-16",
          "2024-09-17",
          "2024-09-18",
          "2024-09-19",
          "2024-09-20",
          "2024-09-23",
          "2024-09-24",
          "2024-09-25",
          "2024-09-26",
          "2024-09-27",
          "2024-09-30",
          "2024-10-01",
          "2024-10-02",
          "2024-10-03",
          "2024-10-04",
          "2024-10-07",
          "2024-10-08",
          "2024-10-09",
          "2024-10-10",
          "2024-10-11",
          "2024-10-14",
          "2024-10-15",
          "2024-10-16",
          "2024-10-17",
          "2024-10-18",
          "2024-10-21",
          "2024-10-22",
          "2024-10-23",
          "2024-10-24",
          "2024-10-25",
          "2024-10-28",
          "2024-10-29",
          "2024-10-30",
          "2024-10-31",
          "2024-11-01",
          "2024-11-04",
          "2024-11-05",
          "2024-11-06",
          "2024-11-07",
          "2024-11-08",
          "2024-11-11",
          "2024-11-12",
          "2024-11-13",
          "2024-11-14",
          "2024-11-15",
          "2024-11-18",
          "2024-11-19",
          "2024-11-20",
          "2024-11-21",
          "2024-11-22",
          "2024-11-25",
          "2024-11-26",
          "2024-11-27",
          "2024-11-29",
          "2024-12-02",
          "2024-12-03",
          "2024-12-04",
          "2024-12-05",
          "2024-12-06",
          "2024-12-09",
          "2024-12-10",
          "2024-12-11",
          "2024-12-12",
          "2024-12-13",
          "2024-12-16",
          "2024-12-17",
          "2024-12-18",
          "2024-12-19",
          "2024-12-20",
          "2024-12-23",
          "2024-12-24",
          "2024-12-26",
          "2024-12-27",
          "2024-12-30",
          "2024-12-31",
          "2025-01-02",
          "2025-01-03",
          "2025-01-06",
          "2025-01-07",
          "2025-01-08",
          "2025-01-10",
          "2025-01-13",
          "2025-01-14",
          "2025-01-15",
          "2025-01-16",
          "2025-01-17",
          "2025-01-21",
          "2025-01-22",
          "2025-01-23",
          "2025-01-24",
          "2025-01-27",
          "2025-01-28",
          "2025-01-29",
          "2025-01-30",
          "2025-01-31",
          "2025-02-03",
          "2025-02-04",
          "2025-02-05",
          "2025-02-06",
          "2025-02-07",
          "2025-02-10",
          "2025-02-11",
          "2025-02-12",
          "2025-02-13",
          "2025-02-14",
          "2025-02-18",
          "2025-02-19",
          "2025-02-20",
          "2025-02-21",
          "2025-02-24",
          "2025-02-25",
          "2025-02-26",
          "2025-02-27",
          "2025-02-28",
          "2025-03-03",
          "2025-03-04",
          "2025-03-05",
          "2025-03-06",
          "2025-03-07",
          "2025-03-10",
          "2025-03-11",
          "2025-03-12",
          "2025-03-13",
          "2025-03-14",
          "2025-03-17",
          "2025-03-18",
          "2025-03-19",
          "2025-03-20",
          "2025-03-21",
          "2025-03-24",
          "2025-03-25",
          "2025-03-26",
          "2025-03-27",
          "2025-03-28",
          "2025-03-31",
          "2025-04-01",
          "2025-04-02",
          "2025-04-03",
          "2025-04-04",
          "2025-04-07",
          "2025-04-08",
          "2025-04-09",
          "2025-04-10",
          "2025-04-11",
          "2025-04-14",
          "2025-04-15",
          "2025-04-16",
          "2025-04-17",
          "2025-04-21",
          "2025-04-22",
          "2025-04-23",
          "2025-04-24",
          "2025-04-25",
          "2025-04-28",
          "2025-04-29",
          "2025-04-30",
          "2025-05-01",
          "2025-05-02",
          "2025-05-05",
          "2025-05-06",
          "2025-05-07",
          "2025-05-08",
          "2025-05-09",
          "2025-05-12",
          "2025-05-13",
          "2025-05-14",
          "2025-05-15",
          "2025-05-16",
          "2025-05-19",
          "2025-05-20",
          "2025-05-21",
          "2025-05-22",
          "2025-05-23",
          "2025-05-27",
          "2025-05-28",
          "2025-05-29",
          "2025-05-30",
          "2025-06-02",
          "2025-06-03",
          "2025-06-04",
          "2025-06-05",
          "2025-06-06",
          "2025-06-09",
          "2025-06-10",
          "2025-06-11",
          "2025-06-12",
          "2025-06-13",
          "2025-06-16",
          "2025-06-17",
          "2025-06-18",
          "2025-06-20",
          "2025-06-23",
          "2025-06-24",
          "2025-06-25",
          "2025-06-26",
          "2025-06-27",
          "2025-06-30",
          "2025-07-01",
          "2025-07-02",
          "2025-07-03",
          "2025-07-07",
          "2025-07-08",
          "2025-07-09",
          "2025-07-10",
          "2025-07-11",
          "2025-07-14",
          "2025-07-15",
          "2025-07-16",
          "2025-07-17",
          "2025-07-18",
          "2025-07-21",
          "2025-07-22",
          "2025-07-23",
          "2025-07-24",
          "2025-07-25",
          "2025-07-28",
          "2025-07-29",
          "2025-07-30",
          "2025-07-31",
          "2025-08-01",
          "2025-08-04",
          "2025-08-05",
          "2025-08-06",
          "2025-08-07",
          "2025-08-08",
          "2025-08-11",
          "2025-08-12",
          "2025-08-13",
          "2025-08-14",
          "2025-08-15",
          "2025-08-18",
          "2025-08-19",
          "2025-08-20",
          "2025-08-21",
          "2025-08-22",
          "2025-08-25",
          "2025-08-26",
          "2025-08-27",
          "2025-08-28",
          "2025-08-29",
          "2025-09-02",
          "2025-09-03",
          "2025-09-04",
          "2025-09-05",
          "2025-09-08",
          "2025-09-09",
          "2025-09-10"
         ],
         "xaxis": "x",
         "y": {
          "bdata": "AAAAAAAA+H8AAAAAAAD4fwAAAAAAAPh/AAAAAAAA+H8AAAAAAAD4fwAAAAAAAPh/AAAAAAAA+H8AAAAAAAD4fwAAAAAAAPh/AAAAAAAA+H8AAAAAAAD4fwAAAAAAAPh/AAAAAAAA+H8AAAAAAAD4fwAAAAAAAPh/AAAAAAAA+H8AAAAAAAD4fwAAAAAAAPh/AAAAAAAA+H8AAAAAAAD4fwAAAAAAAPh/AAAAAAAA+H8AAAAAAAD4fwAAAAAAAPh/AAAAAAAA+H8AAAAAAAD4fwAAAAAAAPh/AAAAAAAA+H8AAAAAAAD4fwAAAAAAAPh/AAAAAAAA+H8AAAAAAAD4fwAAAAAAAPh/AAAAAAAA+H8AAAAAAAD4fwAAAAAAAPh/AAAAAAAA+H8AAAAAAAD4fwAAAAAAAPh/AAAAAAAA+H8AAAAAAAD4fwAAAAAAAPh/AAAAAAAA+H8AAAAAAAD4fwAAAAAAAPh/AAAAAAAA+H8AAAAAAAD4fwAAAAAAAPh/AAAAAAAA+H9qvHSTGCRGQOY/pN++HkZA5j+k374eRkAkufyH9BtGQOxRuB6FG0ZAE2HD0ysVRkDkNhrAWxBGQGkibHh6FUZAUwWjkjohRkB4eqUsQyxGQIljXdxGU0ZABFYOLbJ9RkCFfNCzWbVGQFdbsb/s/kZAMuauJeRDR0CfXinLEHdHQC6yne+ntkdAUkmdgCYCSEAT8kHPZkVIQCntDb4wiUhAc2iR7XzPSECfXinLEBdJQCz2l92TZ0lALGUZ4li3SUB9rrZifwlKQCYxCKwcWkpA/Yf029exSkAcWmQ73/9KQPoP6bevU0tATDeJQWDFS0AEVg4tsj1MQLQV+8vuyUxArM/VVuxPTUDarPpcbdVNQNzXgXNGVE5AuPyH9NvXTkD029eBc1ZPQJoqGJXUyU9AlUOLbOcjUEDImLuWkGdQQAHeAgmKr1BAMLsnDwv9UECDL0ymCk5RQKyt2F92n1FA1AloImzwUUD5MeauJTxSQBx8YTJVgFJAGy/dJAbJUkCe76fGSw9TQCZ1ApoIY1NAzO7Jw0K1U0Akl/+QfgNUQCh+jLlrWVRA/DpwzoiyVEDu68A5IwpVQBaMSuoEZFVATOoENBHGVUBWwaikTjBWQPGFyVTBkFZAJQaBlUPzVkDOiNLe4ENXQG3n+6nxkldAFB3J5T/sV0Bz+Q/pt0dYQKHWNO84rVhA22gAb4EUWUDf4AuTqWpZQKRwPQrXw1lAIf32deAUWkBp3nGKjmxaQOCcEaW90VpAsi5uowE0W0DF3LWEfIBbQNiBc0aUxltAgNk9eVgIXEDD9Shcj1JcQCD0bFZ9nlxA9Lnaiv3tXEDoaiv2lzVdQLIMcayLa11A4C2QoPiZXUDplbIMcbRdQDQRNjy92l1ATMgHPZvdXUBEi2zn+9ldQLfRAN4C2V1AhC9MpgreXUAydy0hH+xdQFzcRgN4611AqmBUUif4XUAmwoanVwJeQFz+Q/rtC15A2F92Tx4OXkC30QDeAgleQE+Nl24S+11Af/s6cM7oXUB0tRX7y9ZdQN9xio7kwl1ABTQRNjytXUDAfR04Z4xdQE0VjErqbF1AiPTb14FLXUDqc7UV+xtdQH9qvHST6FxAbJp3nKKzXEC7lpAPeoZcQNJNYhBYQVxAAbwFEhT3W0DmriXkg6ZbQCV1ApoIW1tAH/RsVn0OW0Bt5/up8cJaQKzP1VbsZ1pAWmQ7308FWkCt+lxtxaZZQDIIrBxaRFlAEqW9wRfuWEB7gy9MpppYQGZmZmZmTlhANxrAWyD5V0AlBoGVQ5NXQJwzorQ3MFdAH/RsVn3mVkBg5dAi26FWQLsnDwu1XlZACD2bVZ8LVkBFR3L5D7FVQPLSTWIQUFVAcoqO5PL3VEA41sVtNKBUQGKh1jTvSFRA3nGKjuTyU0CdgCbCho9TQOPHmLuWWFNAldQJaCIsU0Ctad5xigZTQG+BBMWP2VJA6Ugu/yGtUkDzH9JvX4dSQC3UmuYdT1JAg8DKoUUWUkCY3ZOHhdJRQEW28/3UkFFA0bNZ9blaUUAgQfFjzC1RQCZTBaOSClFAumsJ+aDvUECmm8QgsNJQQEXY8PRKsVBAzTtO0ZGUUEAH8BZIUHxQQFvTvOMUZVBARdjw9EpRUEC8lpAPej5QQARWDi2yNVBAI2x4eqUkUEAD54wo7S1QQIMvTKYKNlBALbKd76dWUED129eBc25QQJm7lpAPklBAxks3iUGwUECoxks3idFQQPtcbcX++lBAAAAAAAAYUUCTqYJRSTVRQHsUrkfhWlFAd76fGi99UUCmm8QgsKJRQPp+arx0w1FAVTAqqRPgUUB8gy9MpgJSQGSqYFRSH1JAbHh6pSw7UkCTy39Iv1VSQJ3vp8ZLd1JAukkMAiufUkBtxf6ye8pSQK1p3nGK9lJA5h2n6EgeU0D/Q/rt60hTQDsBTYQNf1NA46WbxCC4U0ATFD/G3O1TQIJzRpT2HlRAUwWjkjpBVEAs9pfdk2dUQN0CCYofi1RAeukmMQi8VEAa4lgXt+lUQFMFo5I6EVVAb18Hzhk5VUD3deCcEWVVQIlBYOXQilVAH4XrUbiuVUCxA+eMKNVVQMDsnjwsBFZAl/+QfvsqVkAxmSoYlVRWQD15WKg1dVZADi2yne+PVkDsUbgehatWQArXo3A90lZANs07TtEJV0DF/rJ78kBXQLsnDwu1fldApb3BFyazV0A9CtejcOVXQIhjXdxGE1hAfdCzWfVBWEA6tMh2vmdYQKmkTkAToVhAgLdAguLPWECcEaW9wQdZQMMXJlMFQ1lA4JwRpb2hWUDM7snDQgVaQGHD0ytlYVpALbKd76fGWkDpSC7/ITVbQO5aQj7ouVtAVJ+rrdgvXECmV8oyxKFcQMP1KFyPEl1Ac2iR7XyHXUD/1HjpJuldQGMQWDm0UF5AeukmMQi8XkDyQc9m1SdfQG5Wfa62kl9AVTAqqRMEYECxv+yePDxgQGiz6nO1eWBACtejcD2qYEClLEMc695gQL4wmSoYGWFAf/s6cM5cYUBCYOXQIp9hQMWPMXct6WFAysNCrWk+YkA=",
          "dtype": "f8"
         },
         "yaxis": "y"
        }
       ],
       "layout": {
        "annotations": [
         {
          "font": {
           "size": 8
          },
          "showarrow": false,
          "text": "Date: 2025-09-10, Open:230.37, High:230.88, Low:217.0, Close: 225.43",
          "x": 0.01,
          "xref": "x domain",
          "y": 1,
          "yref": "y domain"
         }
        ],
        "height": 400,
        "legend": {
         "font": {
          "size": 8
         },
         "title": {
          "font": {
           "family": "Arial"
          }
         }
        },
        "template": {
         "data": {
          "bar": [
           {
            "error_x": {
             "color": "#2a3f5f"
            },
            "error_y": {
             "color": "#2a3f5f"
            },
            "marker": {
             "line": {
              "color": "#E5ECF6",
              "width": 0.5
             },
             "pattern": {
              "fillmode": "overlay",
              "size": 10,
              "solidity": 0.2
             }
            },
            "type": "bar"
           }
          ],
          "barpolar": [
           {
            "marker": {
             "line": {
              "color": "#E5ECF6",
              "width": 0.5
             },
             "pattern": {
              "fillmode": "overlay",
              "size": 10,
              "solidity": 0.2
             }
            },
            "type": "barpolar"
           }
          ],
          "carpet": [
           {
            "aaxis": {
             "endlinecolor": "#2a3f5f",
             "gridcolor": "white",
             "linecolor": "white",
             "minorgridcolor": "white",
             "startlinecolor": "#2a3f5f"
            },
            "baxis": {
             "endlinecolor": "#2a3f5f",
             "gridcolor": "white",
             "linecolor": "white",
             "minorgridcolor": "white",
             "startlinecolor": "#2a3f5f"
            },
            "type": "carpet"
           }
          ],
          "choropleth": [
           {
            "colorbar": {
             "outlinewidth": 0,
             "ticks": ""
            },
            "type": "choropleth"
           }
          ],
          "contour": [
           {
            "colorbar": {
             "outlinewidth": 0,
             "ticks": ""
            },
            "colorscale": [
             [
              0,
              "#0d0887"
             ],
             [
              0.1111111111111111,
              "#46039f"
             ],
             [
              0.2222222222222222,
              "#7201a8"
             ],
             [
              0.3333333333333333,
              "#9c179e"
             ],
             [
              0.4444444444444444,
              "#bd3786"
             ],
             [
              0.5555555555555556,
              "#d8576b"
             ],
             [
              0.6666666666666666,
              "#ed7953"
             ],
             [
              0.7777777777777778,
              "#fb9f3a"
             ],
             [
              0.8888888888888888,
              "#fdca26"
             ],
             [
              1,
              "#f0f921"
             ]
            ],
            "type": "contour"
           }
          ],
          "contourcarpet": [
           {
            "colorbar": {
             "outlinewidth": 0,
             "ticks": ""
            },
            "type": "contourcarpet"
           }
          ],
          "heatmap": [
           {
            "colorbar": {
             "outlinewidth": 0,
             "ticks": ""
            },
            "colorscale": [
             [
              0,
              "#0d0887"
             ],
             [
              0.1111111111111111,
              "#46039f"
             ],
             [
              0.2222222222222222,
              "#7201a8"
             ],
             [
              0.3333333333333333,
              "#9c179e"
             ],
             [
              0.4444444444444444,
              "#bd3786"
             ],
             [
              0.5555555555555556,
              "#d8576b"
             ],
             [
              0.6666666666666666,
              "#ed7953"
             ],
             [
              0.7777777777777778,
              "#fb9f3a"
             ],
             [
              0.8888888888888888,
              "#fdca26"
             ],
             [
              1,
              "#f0f921"
             ]
            ],
            "type": "heatmap"
           }
          ],
          "histogram": [
           {
            "marker": {
             "pattern": {
              "fillmode": "overlay",
              "size": 10,
              "solidity": 0.2
             }
            },
            "type": "histogram"
           }
          ],
          "histogram2d": [
           {
            "colorbar": {
             "outlinewidth": 0,
             "ticks": ""
            },
            "colorscale": [
             [
              0,
              "#0d0887"
             ],
             [
              0.1111111111111111,
              "#46039f"
             ],
             [
              0.2222222222222222,
              "#7201a8"
             ],
             [
              0.3333333333333333,
              "#9c179e"
             ],
             [
              0.4444444444444444,
              "#bd3786"
             ],
             [
              0.5555555555555556,
              "#d8576b"
             ],
             [
              0.6666666666666666,
              "#ed7953"
             ],
             [
              0.7777777777777778,
              "#fb9f3a"
             ],
             [
              0.8888888888888888,
              "#fdca26"
             ],
             [
              1,
              "#f0f921"
             ]
            ],
            "type": "histogram2d"
           }
          ],
          "histogram2dcontour": [
           {
            "colorbar": {
             "outlinewidth": 0,
             "ticks": ""
            },
            "colorscale": [
             [
              0,
              "#0d0887"
             ],
             [
              0.1111111111111111,
              "#46039f"
             ],
             [
              0.2222222222222222,
              "#7201a8"
             ],
             [
              0.3333333333333333,
              "#9c179e"
             ],
             [
              0.4444444444444444,
              "#bd3786"
             ],
             [
              0.5555555555555556,
              "#d8576b"
             ],
             [
              0.6666666666666666,
              "#ed7953"
             ],
             [
              0.7777777777777778,
              "#fb9f3a"
             ],
             [
              0.8888888888888888,
              "#fdca26"
             ],
             [
              1,
              "#f0f921"
             ]
            ],
            "type": "histogram2dcontour"
           }
          ],
          "mesh3d": [
           {
            "colorbar": {
             "outlinewidth": 0,
             "ticks": ""
            },
            "type": "mesh3d"
           }
          ],
          "parcoords": [
           {
            "line": {
             "colorbar": {
              "outlinewidth": 0,
              "ticks": ""
             }
            },
            "type": "parcoords"
           }
          ],
          "pie": [
           {
            "automargin": true,
            "type": "pie"
           }
          ],
          "scatter": [
           {
            "fillpattern": {
             "fillmode": "overlay",
             "size": 10,
             "solidity": 0.2
            },
            "type": "scatter"
           }
          ],
          "scatter3d": [
           {
            "line": {
             "colorbar": {
              "outlinewidth": 0,
              "ticks": ""
             }
            },
            "marker": {
             "colorbar": {
              "outlinewidth": 0,
              "ticks": ""
             }
            },
            "type": "scatter3d"
           }
          ],
          "scattercarpet": [
           {
            "marker": {
             "colorbar": {
              "outlinewidth": 0,
              "ticks": ""
             }
            },
            "type": "scattercarpet"
           }
          ],
          "scattergeo": [
           {
            "marker": {
             "colorbar": {
              "outlinewidth": 0,
              "ticks": ""
             }
            },
            "type": "scattergeo"
           }
          ],
          "scattergl": [
           {
            "marker": {
             "colorbar": {
              "outlinewidth": 0,
              "ticks": ""
             }
            },
            "type": "scattergl"
           }
          ],
          "scattermap": [
           {
            "marker": {
             "colorbar": {
              "outlinewidth": 0,
              "ticks": ""
             }
            },
            "type": "scattermap"
           }
          ],
          "scattermapbox": [
           {
            "marker": {
             "colorbar": {
              "outlinewidth": 0,
              "ticks": ""
             }
            },
            "type": "scattermapbox"
           }
          ],
          "scatterpolar": [
           {
            "marker": {
             "colorbar": {
              "outlinewidth": 0,
              "ticks": ""
             }
            },
            "type": "scatterpolar"
           }
          ],
          "scatterpolargl": [
           {
            "marker": {
             "colorbar": {
              "outlinewidth": 0,
              "ticks": ""
             }
            },
            "type": "scatterpolargl"
           }
          ],
          "scatterternary": [
           {
            "marker": {
             "colorbar": {
              "outlinewidth": 0,
              "ticks": ""
             }
            },
            "type": "scatterternary"
           }
          ],
          "surface": [
           {
            "colorbar": {
             "outlinewidth": 0,
             "ticks": ""
            },
            "colorscale": [
             [
              0,
              "#0d0887"
             ],
             [
              0.1111111111111111,
              "#46039f"
             ],
             [
              0.2222222222222222,
              "#7201a8"
             ],
             [
              0.3333333333333333,
              "#9c179e"
             ],
             [
              0.4444444444444444,
              "#bd3786"
             ],
             [
              0.5555555555555556,
              "#d8576b"
             ],
             [
              0.6666666666666666,
              "#ed7953"
             ],
             [
              0.7777777777777778,
              "#fb9f3a"
             ],
             [
              0.8888888888888888,
              "#fdca26"
             ],
             [
              1,
              "#f0f921"
             ]
            ],
            "type": "surface"
           }
          ],
          "table": [
           {
            "cells": {
             "fill": {
              "color": "#EBF0F8"
             },
             "line": {
              "color": "white"
             }
            },
            "header": {
             "fill": {
              "color": "#C8D4E3"
             },
             "line": {
              "color": "white"
             }
            },
            "type": "table"
           }
          ]
         },
         "layout": {
          "annotationdefaults": {
           "arrowcolor": "#2a3f5f",
           "arrowhead": 0,
           "arrowwidth": 1
          },
          "autotypenumbers": "strict",
          "coloraxis": {
           "colorbar": {
            "outlinewidth": 0,
            "ticks": ""
           }
          },
          "colorscale": {
           "diverging": [
            [
             0,
             "#8e0152"
            ],
            [
             0.1,
             "#c51b7d"
            ],
            [
             0.2,
             "#de77ae"
            ],
            [
             0.3,
             "#f1b6da"
            ],
            [
             0.4,
             "#fde0ef"
            ],
            [
             0.5,
             "#f7f7f7"
            ],
            [
             0.6,
             "#e6f5d0"
            ],
            [
             0.7,
             "#b8e186"
            ],
            [
             0.8,
             "#7fbc41"
            ],
            [
             0.9,
             "#4d9221"
            ],
            [
             1,
             "#276419"
            ]
           ],
           "sequential": [
            [
             0,
             "#0d0887"
            ],
            [
             0.1111111111111111,
             "#46039f"
            ],
            [
             0.2222222222222222,
             "#7201a8"
            ],
            [
             0.3333333333333333,
             "#9c179e"
            ],
            [
             0.4444444444444444,
             "#bd3786"
            ],
            [
             0.5555555555555556,
             "#d8576b"
            ],
            [
             0.6666666666666666,
             "#ed7953"
            ],
            [
             0.7777777777777778,
             "#fb9f3a"
            ],
            [
             0.8888888888888888,
             "#fdca26"
            ],
            [
             1,
             "#f0f921"
            ]
           ],
           "sequentialminus": [
            [
             0,
             "#0d0887"
            ],
            [
             0.1111111111111111,
             "#46039f"
            ],
            [
             0.2222222222222222,
             "#7201a8"
            ],
            [
             0.3333333333333333,
             "#9c179e"
            ],
            [
             0.4444444444444444,
             "#bd3786"
            ],
            [
             0.5555555555555556,
             "#d8576b"
            ],
            [
             0.6666666666666666,
             "#ed7953"
            ],
            [
             0.7777777777777778,
             "#fb9f3a"
            ],
            [
             0.8888888888888888,
             "#fdca26"
            ],
            [
             1,
             "#f0f921"
            ]
           ]
          },
          "colorway": [
           "#636efa",
           "#EF553B",
           "#00cc96",
           "#ab63fa",
           "#FFA15A",
           "#19d3f3",
           "#FF6692",
           "#B6E880",
           "#FF97FF",
           "#FECB52"
          ],
          "font": {
           "color": "#2a3f5f"
          },
          "geo": {
           "bgcolor": "white",
           "lakecolor": "white",
           "landcolor": "#E5ECF6",
           "showlakes": true,
           "showland": true,
           "subunitcolor": "white"
          },
          "hoverlabel": {
           "align": "left"
          },
          "hovermode": "closest",
          "mapbox": {
           "style": "light"
          },
          "paper_bgcolor": "white",
          "plot_bgcolor": "#E5ECF6",
          "polar": {
           "angularaxis": {
            "gridcolor": "white",
            "linecolor": "white",
            "ticks": ""
           },
           "bgcolor": "#E5ECF6",
           "radialaxis": {
            "gridcolor": "white",
            "linecolor": "white",
            "ticks": ""
           }
          },
          "scene": {
           "xaxis": {
            "backgroundcolor": "#E5ECF6",
            "gridcolor": "white",
            "gridwidth": 2,
            "linecolor": "white",
            "showbackground": true,
            "ticks": "",
            "zerolinecolor": "white"
           },
           "yaxis": {
            "backgroundcolor": "#E5ECF6",
            "gridcolor": "white",
            "gridwidth": 2,
            "linecolor": "white",
            "showbackground": true,
            "ticks": "",
            "zerolinecolor": "white"
           },
           "zaxis": {
            "backgroundcolor": "#E5ECF6",
            "gridcolor": "white",
            "gridwidth": 2,
            "linecolor": "white",
            "showbackground": true,
            "ticks": "",
            "zerolinecolor": "white"
           }
          },
          "shapedefaults": {
           "line": {
            "color": "#2a3f5f"
           }
          },
          "ternary": {
           "aaxis": {
            "gridcolor": "white",
            "linecolor": "white",
            "ticks": ""
           },
           "baxis": {
            "gridcolor": "white",
            "linecolor": "white",
            "ticks": ""
           },
           "bgcolor": "#E5ECF6",
           "caxis": {
            "gridcolor": "white",
            "linecolor": "white",
            "ticks": ""
           }
          },
          "title": {
           "x": 0.05
          },
          "xaxis": {
           "automargin": true,
           "gridcolor": "white",
           "linecolor": "white",
           "ticks": "",
           "title": {
            "standoff": 15
           },
           "zerolinecolor": "white",
           "zerolinewidth": 2
          },
          "yaxis": {
           "automargin": true,
           "gridcolor": "white",
           "linecolor": "white",
           "ticks": "",
           "title": {
            "standoff": 15
           },
           "zerolinecolor": "white",
           "zerolinewidth": 2
          }
         }
        },
        "title": {
         "text": "TOP 20",
         "x": 0.5
        },
        "width": 600,
        "xaxis": {
         "anchor": "y",
         "domain": [
          0,
          0.94
         ]
        },
        "yaxis": {
         "anchor": "x",
         "domain": [
          0,
          1
         ],
         "side": "right"
        },
        "yaxis2": {
         "anchor": "x",
         "overlaying": "y",
         "side": "right"
        }
       }
      }
     },
     "metadata": {},
     "output_type": "display_data"
    },
    {
     "data": {
      "application/vnd.plotly.v1+json": {
       "config": {
        "plotlyServerURL": "https://plot.ly"
       },
       "data": [
        {
         "name": "RDDT: 68.23 %",
         "type": "scatter",
         "x": [
          "2024-07-17",
          "2024-07-18",
          "2024-07-19",
          "2024-07-22",
          "2024-07-23",
          "2024-07-24",
          "2024-07-25",
          "2024-07-26",
          "2024-07-29",
          "2024-07-30",
          "2024-07-31",
          "2024-08-01",
          "2024-08-02",
          "2024-08-05",
          "2024-08-06",
          "2024-08-07",
          "2024-08-08",
          "2024-08-09",
          "2024-08-12",
          "2024-08-13",
          "2024-08-14",
          "2024-08-15",
          "2024-08-16",
          "2024-08-19",
          "2024-08-20",
          "2024-08-21",
          "2024-08-22",
          "2024-08-23",
          "2024-08-26",
          "2024-08-27",
          "2024-08-28",
          "2024-08-29",
          "2024-08-30",
          "2024-09-03",
          "2024-09-04",
          "2024-09-05",
          "2024-09-06",
          "2024-09-09",
          "2024-09-10",
          "2024-09-11",
          "2024-09-12",
          "2024-09-13",
          "2024-09-16",
          "2024-09-17",
          "2024-09-18",
          "2024-09-19",
          "2024-09-20",
          "2024-09-23",
          "2024-09-24",
          "2024-09-25",
          "2024-09-26",
          "2024-09-27",
          "2024-09-30",
          "2024-10-01",
          "2024-10-02",
          "2024-10-03",
          "2024-10-04",
          "2024-10-07",
          "2024-10-08",
          "2024-10-09",
          "2024-10-10",
          "2024-10-11",
          "2024-10-14",
          "2024-10-15",
          "2024-10-16",
          "2024-10-17",
          "2024-10-18",
          "2024-10-21",
          "2024-10-22",
          "2024-10-23",
          "2024-10-24",
          "2024-10-25",
          "2024-10-28",
          "2024-10-29",
          "2024-10-30",
          "2024-10-31",
          "2024-11-01",
          "2024-11-04",
          "2024-11-05",
          "2024-11-06",
          "2024-11-07",
          "2024-11-08",
          "2024-11-11",
          "2024-11-12",
          "2024-11-13",
          "2024-11-14",
          "2024-11-15",
          "2024-11-18",
          "2024-11-19",
          "2024-11-20",
          "2024-11-21",
          "2024-11-22",
          "2024-11-25",
          "2024-11-26",
          "2024-11-27",
          "2024-11-29",
          "2024-12-02",
          "2024-12-03",
          "2024-12-04",
          "2024-12-05",
          "2024-12-06",
          "2024-12-09",
          "2024-12-10",
          "2024-12-11",
          "2024-12-12",
          "2024-12-13",
          "2024-12-16",
          "2024-12-17",
          "2024-12-18",
          "2024-12-19",
          "2024-12-20",
          "2024-12-23",
          "2024-12-24",
          "2024-12-26",
          "2024-12-27",
          "2024-12-30",
          "2024-12-31",
          "2025-01-02",
          "2025-01-03",
          "2025-01-06",
          "2025-01-07",
          "2025-01-08",
          "2025-01-10",
          "2025-01-13",
          "2025-01-14",
          "2025-01-15",
          "2025-01-16",
          "2025-01-17",
          "2025-01-21",
          "2025-01-22",
          "2025-01-23",
          "2025-01-24",
          "2025-01-27",
          "2025-01-28",
          "2025-01-29",
          "2025-01-30",
          "2025-01-31",
          "2025-02-03",
          "2025-02-04",
          "2025-02-05",
          "2025-02-06",
          "2025-02-07",
          "2025-02-10",
          "2025-02-11",
          "2025-02-12",
          "2025-02-13",
          "2025-02-14",
          "2025-02-18",
          "2025-02-19",
          "2025-02-20",
          "2025-02-21",
          "2025-02-24",
          "2025-02-25",
          "2025-02-26",
          "2025-02-27",
          "2025-02-28",
          "2025-03-03",
          "2025-03-04",
          "2025-03-05",
          "2025-03-06",
          "2025-03-07",
          "2025-03-10",
          "2025-03-11",
          "2025-03-12",
          "2025-03-13",
          "2025-03-14",
          "2025-03-17",
          "2025-03-18",
          "2025-03-19",
          "2025-03-20",
          "2025-03-21",
          "2025-03-24",
          "2025-03-25",
          "2025-03-26",
          "2025-03-27",
          "2025-03-28",
          "2025-03-31",
          "2025-04-01",
          "2025-04-02",
          "2025-04-03",
          "2025-04-04",
          "2025-04-07",
          "2025-04-08",
          "2025-04-09",
          "2025-04-10",
          "2025-04-11",
          "2025-04-14",
          "2025-04-15",
          "2025-04-16",
          "2025-04-17",
          "2025-04-21",
          "2025-04-22",
          "2025-04-23",
          "2025-04-24",
          "2025-04-25",
          "2025-04-28",
          "2025-04-29",
          "2025-04-30",
          "2025-05-01",
          "2025-05-02",
          "2025-05-05",
          "2025-05-06",
          "2025-05-07",
          "2025-05-08",
          "2025-05-09",
          "2025-05-12",
          "2025-05-13",
          "2025-05-14",
          "2025-05-15",
          "2025-05-16",
          "2025-05-19",
          "2025-05-20",
          "2025-05-21",
          "2025-05-22",
          "2025-05-23",
          "2025-05-27",
          "2025-05-28",
          "2025-05-29",
          "2025-05-30",
          "2025-06-02",
          "2025-06-03",
          "2025-06-04",
          "2025-06-05",
          "2025-06-06",
          "2025-06-09",
          "2025-06-10",
          "2025-06-11",
          "2025-06-12",
          "2025-06-13",
          "2025-06-16",
          "2025-06-17",
          "2025-06-18",
          "2025-06-20",
          "2025-06-23",
          "2025-06-24",
          "2025-06-25",
          "2025-06-26",
          "2025-06-27",
          "2025-06-30",
          "2025-07-01",
          "2025-07-02",
          "2025-07-03",
          "2025-07-07",
          "2025-07-08",
          "2025-07-09",
          "2025-07-10",
          "2025-07-11",
          "2025-07-14",
          "2025-07-15",
          "2025-07-16",
          "2025-07-17",
          "2025-07-18",
          "2025-07-21",
          "2025-07-22",
          "2025-07-23",
          "2025-07-24",
          "2025-07-25",
          "2025-07-28",
          "2025-07-29",
          "2025-07-30",
          "2025-07-31",
          "2025-08-01",
          "2025-08-04",
          "2025-08-05",
          "2025-08-06",
          "2025-08-07",
          "2025-08-08",
          "2025-08-11",
          "2025-08-12",
          "2025-08-13",
          "2025-08-14",
          "2025-08-15",
          "2025-08-18",
          "2025-08-19",
          "2025-08-20",
          "2025-08-21",
          "2025-08-22",
          "2025-08-25",
          "2025-08-26",
          "2025-08-27",
          "2025-08-28",
          "2025-08-29",
          "2025-09-02",
          "2025-09-03",
          "2025-09-04",
          "2025-09-05",
          "2025-09-08",
          "2025-09-09",
          "2025-09-10"
         ],
         "xaxis": "x",
         "y": {
          "bdata": "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",
          "dtype": "f8"
         },
         "yaxis": "y"
        },
        {
         "name": "SMA 50",
         "type": "scatter",
         "x": [
          "2024-07-17",
          "2024-07-18",
          "2024-07-19",
          "2024-07-22",
          "2024-07-23",
          "2024-07-24",
          "2024-07-25",
          "2024-07-26",
          "2024-07-29",
          "2024-07-30",
          "2024-07-31",
          "2024-08-01",
          "2024-08-02",
          "2024-08-05",
          "2024-08-06",
          "2024-08-07",
          "2024-08-08",
          "2024-08-09",
          "2024-08-12",
          "2024-08-13",
          "2024-08-14",
          "2024-08-15",
          "2024-08-16",
          "2024-08-19",
          "2024-08-20",
          "2024-08-21",
          "2024-08-22",
          "2024-08-23",
          "2024-08-26",
          "2024-08-27",
          "2024-08-28",
          "2024-08-29",
          "2024-08-30",
          "2024-09-03",
          "2024-09-04",
          "2024-09-05",
          "2024-09-06",
          "2024-09-09",
          "2024-09-10",
          "2024-09-11",
          "2024-09-12",
          "2024-09-13",
          "2024-09-16",
          "2024-09-17",
          "2024-09-18",
          "2024-09-19",
          "2024-09-20",
          "2024-09-23",
          "2024-09-24",
          "2024-09-25",
          "2024-09-26",
          "2024-09-27",
          "2024-09-30",
          "2024-10-01",
          "2024-10-02",
          "2024-10-03",
          "2024-10-04",
          "2024-10-07",
          "2024-10-08",
          "2024-10-09",
          "2024-10-10",
          "2024-10-11",
          "2024-10-14",
          "2024-10-15",
          "2024-10-16",
          "2024-10-17",
          "2024-10-18",
          "2024-10-21",
          "2024-10-22",
          "2024-10-23",
          "2024-10-24",
          "2024-10-25",
          "2024-10-28",
          "2024-10-29",
          "2024-10-30",
          "2024-10-31",
          "2024-11-01",
          "2024-11-04",
          "2024-11-05",
          "2024-11-06",
          "2024-11-07",
          "2024-11-08",
          "2024-11-11",
          "2024-11-12",
          "2024-11-13",
          "2024-11-14",
          "2024-11-15",
          "2024-11-18",
          "2024-11-19",
          "2024-11-20",
          "2024-11-21",
          "2024-11-22",
          "2024-11-25",
          "2024-11-26",
          "2024-11-27",
          "2024-11-29",
          "2024-12-02",
          "2024-12-03",
          "2024-12-04",
          "2024-12-05",
          "2024-12-06",
          "2024-12-09",
          "2024-12-10",
          "2024-12-11",
          "2024-12-12",
          "2024-12-13",
          "2024-12-16",
          "2024-12-17",
          "2024-12-18",
          "2024-12-19",
          "2024-12-20",
          "2024-12-23",
          "2024-12-24",
          "2024-12-26",
          "2024-12-27",
          "2024-12-30",
          "2024-12-31",
          "2025-01-02",
          "2025-01-03",
          "2025-01-06",
          "2025-01-07",
          "2025-01-08",
          "2025-01-10",
          "2025-01-13",
          "2025-01-14",
          "2025-01-15",
          "2025-01-16",
          "2025-01-17",
          "2025-01-21",
          "2025-01-22",
          "2025-01-23",
          "2025-01-24",
          "2025-01-27",
          "2025-01-28",
          "2025-01-29",
          "2025-01-30",
          "2025-01-31",
          "2025-02-03",
          "2025-02-04",
          "2025-02-05",
          "2025-02-06",
          "2025-02-07",
          "2025-02-10",
          "2025-02-11",
          "2025-02-12",
          "2025-02-13",
          "2025-02-14",
          "2025-02-18",
          "2025-02-19",
          "2025-02-20",
          "2025-02-21",
          "2025-02-24",
          "2025-02-25",
          "2025-02-26",
          "2025-02-27",
          "2025-02-28",
          "2025-03-03",
          "2025-03-04",
          "2025-03-05",
          "2025-03-06",
          "2025-03-07",
          "2025-03-10",
          "2025-03-11",
          "2025-03-12",
          "2025-03-13",
          "2025-03-14",
          "2025-03-17",
          "2025-03-18",
          "2025-03-19",
          "2025-03-20",
          "2025-03-21",
          "2025-03-24",
          "2025-03-25",
          "2025-03-26",
          "2025-03-27",
          "2025-03-28",
          "2025-03-31",
          "2025-04-01",
          "2025-04-02",
          "2025-04-03",
          "2025-04-04",
          "2025-04-07",
          "2025-04-08",
          "2025-04-09",
          "2025-04-10",
          "2025-04-11",
          "2025-04-14",
          "2025-04-15",
          "2025-04-16",
          "2025-04-17",
          "2025-04-21",
          "2025-04-22",
          "2025-04-23",
          "2025-04-24",
          "2025-04-25",
          "2025-04-28",
          "2025-04-29",
          "2025-04-30",
          "2025-05-01",
          "2025-05-02",
          "2025-05-05",
          "2025-05-06",
          "2025-05-07",
          "2025-05-08",
          "2025-05-09",
          "2025-05-12",
          "2025-05-13",
          "2025-05-14",
          "2025-05-15",
          "2025-05-16",
          "2025-05-19",
          "2025-05-20",
          "2025-05-21",
          "2025-05-22",
          "2025-05-23",
          "2025-05-27",
          "2025-05-28",
          "2025-05-29",
          "2025-05-30",
          "2025-06-02",
          "2025-06-03",
          "2025-06-04",
          "2025-06-05",
          "2025-06-06",
          "2025-06-09",
          "2025-06-10",
          "2025-06-11",
          "2025-06-12",
          "2025-06-13",
          "2025-06-16",
          "2025-06-17",
          "2025-06-18",
          "2025-06-20",
          "2025-06-23",
          "2025-06-24",
          "2025-06-25",
          "2025-06-26",
          "2025-06-27",
          "2025-06-30",
          "2025-07-01",
          "2025-07-02",
          "2025-07-03",
          "2025-07-07",
          "2025-07-08",
          "2025-07-09",
          "2025-07-10",
          "2025-07-11",
          "2025-07-14",
          "2025-07-15",
          "2025-07-16",
          "2025-07-17",
          "2025-07-18",
          "2025-07-21",
          "2025-07-22",
          "2025-07-23",
          "2025-07-24",
          "2025-07-25",
          "2025-07-28",
          "2025-07-29",
          "2025-07-30",
          "2025-07-31",
          "2025-08-01",
          "2025-08-04",
          "2025-08-05",
          "2025-08-06",
          "2025-08-07",
          "2025-08-08",
          "2025-08-11",
          "2025-08-12",
          "2025-08-13",
          "2025-08-14",
          "2025-08-15",
          "2025-08-18",
          "2025-08-19",
          "2025-08-20",
          "2025-08-21",
          "2025-08-22",
          "2025-08-25",
          "2025-08-26",
          "2025-08-27",
          "2025-08-28",
          "2025-08-29",
          "2025-09-02",
          "2025-09-03",
          "2025-09-04",
          "2025-09-05",
          "2025-09-08",
          "2025-09-09",
          "2025-09-10"
         ],
         "xaxis": "x",
         "y": {
          "bdata": "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",
          "dtype": "f8"
         },
         "yaxis": "y"
        }
       ],
       "layout": {
        "annotations": [
         {
          "font": {
           "size": 8
          },
          "showarrow": false,
          "text": "Date: 2025-09-10, Open:259.03, High:261.13, Low:244.85, Close: 245.14",
          "x": 0.01,
          "xref": "x domain",
          "y": 1,
          "yref": "y domain"
         }
        ],
        "height": 400,
        "legend": {
         "font": {
          "size": 8
         },
         "title": {
          "font": {
           "family": "Arial"
          }
         }
        },
        "template": {
         "data": {
          "bar": [
           {
            "error_x": {
             "color": "#2a3f5f"
            },
            "error_y": {
             "color": "#2a3f5f"
            },
            "marker": {
             "line": {
              "color": "#E5ECF6",
              "width": 0.5
             },
             "pattern": {
              "fillmode": "overlay",
              "size": 10,
              "solidity": 0.2
             }
            },
            "type": "bar"
           }
          ],
          "barpolar": [
           {
            "marker": {
             "line": {
              "color": "#E5ECF6",
              "width": 0.5
             },
             "pattern": {
              "fillmode": "overlay",
              "size": 10,
              "solidity": 0.2
             }
            },
            "type": "barpolar"
           }
          ],
          "carpet": [
           {
            "aaxis": {
             "endlinecolor": "#2a3f5f",
             "gridcolor": "white",
             "linecolor": "white",
             "minorgridcolor": "white",
             "startlinecolor": "#2a3f5f"
            },
            "baxis": {
             "endlinecolor": "#2a3f5f",
             "gridcolor": "white",
             "linecolor": "white",
             "minorgridcolor": "white",
             "startlinecolor": "#2a3f5f"
            },
            "type": "carpet"
           }
          ],
          "choropleth": [
           {
            "colorbar": {
             "outlinewidth": 0,
             "ticks": ""
            },
            "type": "choropleth"
           }
          ],
          "contour": [
           {
            "colorbar": {
             "outlinewidth": 0,
             "ticks": ""
            },
            "colorscale": [
             [
              0,
              "#0d0887"
             ],
             [
              0.1111111111111111,
              "#46039f"
             ],
             [
              0.2222222222222222,
              "#7201a8"
             ],
             [
              0.3333333333333333,
              "#9c179e"
             ],
             [
              0.4444444444444444,
              "#bd3786"
             ],
             [
              0.5555555555555556,
              "#d8576b"
             ],
             [
              0.6666666666666666,
              "#ed7953"
             ],
             [
              0.7777777777777778,
              "#fb9f3a"
             ],
             [
              0.8888888888888888,
              "#fdca26"
             ],
             [
              1,
              "#f0f921"
             ]
            ],
            "type": "contour"
           }
          ],
          "contourcarpet": [
           {
            "colorbar": {
             "outlinewidth": 0,
             "ticks": ""
            },
            "type": "contourcarpet"
           }
          ],
          "heatmap": [
           {
            "colorbar": {
             "outlinewidth": 0,
             "ticks": ""
            },
            "colorscale": [
             [
              0,
              "#0d0887"
             ],
             [
              0.1111111111111111,
              "#46039f"
             ],
             [
              0.2222222222222222,
              "#7201a8"
             ],
             [
              0.3333333333333333,
              "#9c179e"
             ],
             [
              0.4444444444444444,
              "#bd3786"
             ],
             [
              0.5555555555555556,
              "#d8576b"
             ],
             [
              0.6666666666666666,
              "#ed7953"
             ],
             [
              0.7777777777777778,
              "#fb9f3a"
             ],
             [
              0.8888888888888888,
              "#fdca26"
             ],
             [
              1,
              "#f0f921"
             ]
            ],
            "type": "heatmap"
           }
          ],
          "histogram": [
           {
            "marker": {
             "pattern": {
              "fillmode": "overlay",
              "size": 10,
              "solidity": 0.2
             }
            },
            "type": "histogram"
           }
          ],
          "histogram2d": [
           {
            "colorbar": {
             "outlinewidth": 0,
             "ticks": ""
            },
            "colorscale": [
             [
              0,
              "#0d0887"
             ],
             [
              0.1111111111111111,
              "#46039f"
             ],
             [
              0.2222222222222222,
              "#7201a8"
             ],
             [
              0.3333333333333333,
              "#9c179e"
             ],
             [
              0.4444444444444444,
              "#bd3786"
             ],
             [
              0.5555555555555556,
              "#d8576b"
             ],
             [
              0.6666666666666666,
              "#ed7953"
             ],
             [
              0.7777777777777778,
              "#fb9f3a"
             ],
             [
              0.8888888888888888,
              "#fdca26"
             ],
             [
              1,
              "#f0f921"
             ]
            ],
            "type": "histogram2d"
           }
          ],
          "histogram2dcontour": [
           {
            "colorbar": {
             "outlinewidth": 0,
             "ticks": ""
            },
            "colorscale": [
             [
              0,
              "#0d0887"
             ],
             [
              0.1111111111111111,
              "#46039f"
             ],
             [
              0.2222222222222222,
              "#7201a8"
             ],
             [
              0.3333333333333333,
              "#9c179e"
             ],
             [
              0.4444444444444444,
              "#bd3786"
             ],
             [
              0.5555555555555556,
              "#d8576b"
             ],
             [
              0.6666666666666666,
              "#ed7953"
             ],
             [
              0.7777777777777778,
              "#fb9f3a"
             ],
             [
              0.8888888888888888,
              "#fdca26"
             ],
             [
              1,
              "#f0f921"
             ]
            ],
            "type": "histogram2dcontour"
           }
          ],
          "mesh3d": [
           {
            "colorbar": {
             "outlinewidth": 0,
             "ticks": ""
            },
            "type": "mesh3d"
           }
          ],
          "parcoords": [
           {
            "line": {
             "colorbar": {
              "outlinewidth": 0,
              "ticks": ""
             }
            },
            "type": "parcoords"
           }
          ],
          "pie": [
           {
            "automargin": true,
            "type": "pie"
           }
          ],
          "scatter": [
           {
            "fillpattern": {
             "fillmode": "overlay",
             "size": 10,
             "solidity": 0.2
            },
            "type": "scatter"
           }
          ],
          "scatter3d": [
           {
            "line": {
             "colorbar": {
              "outlinewidth": 0,
              "ticks": ""
             }
            },
            "marker": {
             "colorbar": {
              "outlinewidth": 0,
              "ticks": ""
             }
            },
            "type": "scatter3d"
           }
          ],
          "scattercarpet": [
           {
            "marker": {
             "colorbar": {
              "outlinewidth": 0,
              "ticks": ""
             }
            },
            "type": "scattercarpet"
           }
          ],
          "scattergeo": [
           {
            "marker": {
             "colorbar": {
              "outlinewidth": 0,
              "ticks": ""
             }
            },
            "type": "scattergeo"
           }
          ],
          "scattergl": [
           {
            "marker": {
             "colorbar": {
              "outlinewidth": 0,
              "ticks": ""
             }
            },
            "type": "scattergl"
           }
          ],
          "scattermap": [
           {
            "marker": {
             "colorbar": {
              "outlinewidth": 0,
              "ticks": ""
             }
            },
            "type": "scattermap"
           }
          ],
          "scattermapbox": [
           {
            "marker": {
             "colorbar": {
              "outlinewidth": 0,
              "ticks": ""
             }
            },
            "type": "scattermapbox"
           }
          ],
          "scatterpolar": [
           {
            "marker": {
             "colorbar": {
              "outlinewidth": 0,
              "ticks": ""
             }
            },
            "type": "scatterpolar"
           }
          ],
          "scatterpolargl": [
           {
            "marker": {
             "colorbar": {
              "outlinewidth": 0,
              "ticks": ""
             }
            },
            "type": "scatterpolargl"
           }
          ],
          "scatterternary": [
           {
            "marker": {
             "colorbar": {
              "outlinewidth": 0,
              "ticks": ""
             }
            },
            "type": "scatterternary"
           }
          ],
          "surface": [
           {
            "colorbar": {
             "outlinewidth": 0,
             "ticks": ""
            },
            "colorscale": [
             [
              0,
              "#0d0887"
             ],
             [
              0.1111111111111111,
              "#46039f"
             ],
             [
              0.2222222222222222,
              "#7201a8"
             ],
             [
              0.3333333333333333,
              "#9c179e"
             ],
             [
              0.4444444444444444,
              "#bd3786"
             ],
             [
              0.5555555555555556,
              "#d8576b"
             ],
             [
              0.6666666666666666,
              "#ed7953"
             ],
             [
              0.7777777777777778,
              "#fb9f3a"
             ],
             [
              0.8888888888888888,
              "#fdca26"
             ],
             [
              1,
              "#f0f921"
             ]
            ],
            "type": "surface"
           }
          ],
          "table": [
           {
            "cells": {
             "fill": {
              "color": "#EBF0F8"
             },
             "line": {
              "color": "white"
             }
            },
            "header": {
             "fill": {
              "color": "#C8D4E3"
             },
             "line": {
              "color": "white"
             }
            },
            "type": "table"
           }
          ]
         },
         "layout": {
          "annotationdefaults": {
           "arrowcolor": "#2a3f5f",
           "arrowhead": 0,
           "arrowwidth": 1
          },
          "autotypenumbers": "strict",
          "coloraxis": {
           "colorbar": {
            "outlinewidth": 0,
            "ticks": ""
           }
          },
          "colorscale": {
           "diverging": [
            [
             0,
             "#8e0152"
            ],
            [
             0.1,
             "#c51b7d"
            ],
            [
             0.2,
             "#de77ae"
            ],
            [
             0.3,
             "#f1b6da"
            ],
            [
             0.4,
             "#fde0ef"
            ],
            [
             0.5,
             "#f7f7f7"
            ],
            [
             0.6,
             "#e6f5d0"
            ],
            [
             0.7,
             "#b8e186"
            ],
            [
             0.8,
             "#7fbc41"
            ],
            [
             0.9,
             "#4d9221"
            ],
            [
             1,
             "#276419"
            ]
           ],
           "sequential": [
            [
             0,
             "#0d0887"
            ],
            [
             0.1111111111111111,
             "#46039f"
            ],
            [
             0.2222222222222222,
             "#7201a8"
            ],
            [
             0.3333333333333333,
             "#9c179e"
            ],
            [
             0.4444444444444444,
             "#bd3786"
            ],
            [
             0.5555555555555556,
             "#d8576b"
            ],
            [
             0.6666666666666666,
             "#ed7953"
            ],
            [
             0.7777777777777778,
             "#fb9f3a"
            ],
            [
             0.8888888888888888,
             "#fdca26"
            ],
            [
             1,
             "#f0f921"
            ]
           ],
           "sequentialminus": [
            [
             0,
             "#0d0887"
            ],
            [
             0.1111111111111111,
             "#46039f"
            ],
            [
             0.2222222222222222,
             "#7201a8"
            ],
            [
             0.3333333333333333,
             "#9c179e"
            ],
            [
             0.4444444444444444,
             "#bd3786"
            ],
            [
             0.5555555555555556,
             "#d8576b"
            ],
            [
             0.6666666666666666,
             "#ed7953"
            ],
            [
             0.7777777777777778,
             "#fb9f3a"
            ],
            [
             0.8888888888888888,
             "#fdca26"
            ],
            [
             1,
             "#f0f921"
            ]
           ]
          },
          "colorway": [
           "#636efa",
           "#EF553B",
           "#00cc96",
           "#ab63fa",
           "#FFA15A",
           "#19d3f3",
           "#FF6692",
           "#B6E880",
           "#FF97FF",
           "#FECB52"
          ],
          "font": {
           "color": "#2a3f5f"
          },
          "geo": {
           "bgcolor": "white",
           "lakecolor": "white",
           "landcolor": "#E5ECF6",
           "showlakes": true,
           "showland": true,
           "subunitcolor": "white"
          },
          "hoverlabel": {
           "align": "left"
          },
          "hovermode": "closest",
          "mapbox": {
           "style": "light"
          },
          "paper_bgcolor": "white",
          "plot_bgcolor": "#E5ECF6",
          "polar": {
           "angularaxis": {
            "gridcolor": "white",
            "linecolor": "white",
            "ticks": ""
           },
           "bgcolor": "#E5ECF6",
           "radialaxis": {
            "gridcolor": "white",
            "linecolor": "white",
            "ticks": ""
           }
          },
          "scene": {
           "xaxis": {
            "backgroundcolor": "#E5ECF6",
            "gridcolor": "white",
            "gridwidth": 2,
            "linecolor": "white",
            "showbackground": true,
            "ticks": "",
            "zerolinecolor": "white"
           },
           "yaxis": {
            "backgroundcolor": "#E5ECF6",
            "gridcolor": "white",
            "gridwidth": 2,
            "linecolor": "white",
            "showbackground": true,
            "ticks": "",
            "zerolinecolor": "white"
           },
           "zaxis": {
            "backgroundcolor": "#E5ECF6",
            "gridcolor": "white",
            "gridwidth": 2,
            "linecolor": "white",
            "showbackground": true,
            "ticks": "",
            "zerolinecolor": "white"
           }
          },
          "shapedefaults": {
           "line": {
            "color": "#2a3f5f"
           }
          },
          "ternary": {
           "aaxis": {
            "gridcolor": "white",
            "linecolor": "white",
            "ticks": ""
           },
           "baxis": {
            "gridcolor": "white",
            "linecolor": "white",
            "ticks": ""
           },
           "bgcolor": "#E5ECF6",
           "caxis": {
            "gridcolor": "white",
            "linecolor": "white",
            "ticks": ""
           }
          },
          "title": {
           "x": 0.05
          },
          "xaxis": {
           "automargin": true,
           "gridcolor": "white",
           "linecolor": "white",
           "ticks": "",
           "title": {
            "standoff": 15
           },
           "zerolinecolor": "white",
           "zerolinewidth": 2
          },
          "yaxis": {
           "automargin": true,
           "gridcolor": "white",
           "linecolor": "white",
           "ticks": "",
           "title": {
            "standoff": 15
           },
           "zerolinecolor": "white",
           "zerolinewidth": 2
          }
         }
        },
        "title": {
         "text": "TOP 20",
         "x": 0.5
        },
        "width": 600,
        "xaxis": {
         "anchor": "y",
         "domain": [
          0,
          0.94
         ]
        },
        "yaxis": {
         "anchor": "x",
         "domain": [
          0,
          1
         ],
         "side": "right"
        },
        "yaxis2": {
         "anchor": "x",
         "overlaying": "y",
         "side": "right"
        }
       }
      }
     },
     "metadata": {},
     "output_type": "display_data"
    },
    {
     "data": {
      "application/vnd.plotly.v1+json": {
       "config": {
        "plotlyServerURL": "https://plot.ly"
       },
       "data": [
        {
         "name": "LMND: 44.99 %",
         "type": "scatter",
         "x": [
          "2024-07-17",
          "2024-07-18",
          "2024-07-19",
          "2024-07-22",
          "2024-07-23",
          "2024-07-24",
          "2024-07-25",
          "2024-07-26",
          "2024-07-29",
          "2024-07-30",
          "2024-07-31",
          "2024-08-01",
          "2024-08-02",
          "2024-08-05",
          "2024-08-06",
          "2024-08-07",
          "2024-08-08",
          "2024-08-09",
          "2024-08-12",
          "2024-08-13",
          "2024-08-14",
          "2024-08-15",
          "2024-08-16",
          "2024-08-19",
          "2024-08-20",
          "2024-08-21",
          "2024-08-22",
          "2024-08-23",
          "2024-08-26",
          "2024-08-27",
          "2024-08-28",
          "2024-08-29",
          "2024-08-30",
          "2024-09-03",
          "2024-09-04",
          "2024-09-05",
          "2024-09-06",
          "2024-09-09",
          "2024-09-10",
          "2024-09-11",
          "2024-09-12",
          "2024-09-13",
          "2024-09-16",
          "2024-09-17",
          "2024-09-18",
          "2024-09-19",
          "2024-09-20",
          "2024-09-23",
          "2024-09-24",
          "2024-09-25",
          "2024-09-26",
          "2024-09-27",
          "2024-09-30",
          "2024-10-01",
          "2024-10-02",
          "2024-10-03",
          "2024-10-04",
          "2024-10-07",
          "2024-10-08",
          "2024-10-09",
          "2024-10-10",
          "2024-10-11",
          "2024-10-14",
          "2024-10-15",
          "2024-10-16",
          "2024-10-17",
          "2024-10-18",
          "2024-10-21",
          "2024-10-22",
          "2024-10-23",
          "2024-10-24",
          "2024-10-25",
          "2024-10-28",
          "2024-10-29",
          "2024-10-30",
          "2024-10-31",
          "2024-11-01",
          "2024-11-04",
          "2024-11-05",
          "2024-11-06",
          "2024-11-07",
          "2024-11-08",
          "2024-11-11",
          "2024-11-12",
          "2024-11-13",
          "2024-11-14",
          "2024-11-15",
          "2024-11-18",
          "2024-11-19",
          "2024-11-20",
          "2024-11-21",
          "2024-11-22",
          "2024-11-25",
          "2024-11-26",
          "2024-11-27",
          "2024-11-29",
          "2024-12-02",
          "2024-12-03",
          "2024-12-04",
          "2024-12-05",
          "2024-12-06",
          "2024-12-09",
          "2024-12-10",
          "2024-12-11",
          "2024-12-12",
          "2024-12-13",
          "2024-12-16",
          "2024-12-17",
          "2024-12-18",
          "2024-12-19",
          "2024-12-20",
          "2024-12-23",
          "2024-12-24",
          "2024-12-26",
          "2024-12-27",
          "2024-12-30",
          "2024-12-31",
          "2025-01-02",
          "2025-01-03",
          "2025-01-06",
          "2025-01-07",
          "2025-01-08",
          "2025-01-10",
          "2025-01-13",
          "2025-01-14",
          "2025-01-15",
          "2025-01-16",
          "2025-01-17",
          "2025-01-21",
          "2025-01-22",
          "2025-01-23",
          "2025-01-24",
          "2025-01-27",
          "2025-01-28",
          "2025-01-29",
          "2025-01-30",
          "2025-01-31",
          "2025-02-03",
          "2025-02-04",
          "2025-02-05",
          "2025-02-06",
          "2025-02-07",
          "2025-02-10",
          "2025-02-11",
          "2025-02-12",
          "2025-02-13",
          "2025-02-14",
          "2025-02-18",
          "2025-02-19",
          "2025-02-20",
          "2025-02-21",
          "2025-02-24",
          "2025-02-25",
          "2025-02-26",
          "2025-02-27",
          "2025-02-28",
          "2025-03-03",
          "2025-03-04",
          "2025-03-05",
          "2025-03-06",
          "2025-03-07",
          "2025-03-10",
          "2025-03-11",
          "2025-03-12",
          "2025-03-13",
          "2025-03-14",
          "2025-03-17",
          "2025-03-18",
          "2025-03-19",
          "2025-03-20",
          "2025-03-21",
          "2025-03-24",
          "2025-03-25",
          "2025-03-26",
          "2025-03-27",
          "2025-03-28",
          "2025-03-31",
          "2025-04-01",
          "2025-04-02",
          "2025-04-03",
          "2025-04-04",
          "2025-04-07",
          "2025-04-08",
          "2025-04-09",
          "2025-04-10",
          "2025-04-11",
          "2025-04-14",
          "2025-04-15",
          "2025-04-16",
          "2025-04-17",
          "2025-04-21",
          "2025-04-22",
          "2025-04-23",
          "2025-04-24",
          "2025-04-25",
          "2025-04-28",
          "2025-04-29",
          "2025-04-30",
          "2025-05-01",
          "2025-05-02",
          "2025-05-05",
          "2025-05-06",
          "2025-05-07",
          "2025-05-08",
          "2025-05-09",
          "2025-05-12",
          "2025-05-13",
          "2025-05-14",
          "2025-05-15",
          "2025-05-16",
          "2025-05-19",
          "2025-05-20",
          "2025-05-21",
          "2025-05-22",
          "2025-05-23",
          "2025-05-27",
          "2025-05-28",
          "2025-05-29",
          "2025-05-30",
          "2025-06-02",
          "2025-06-03",
          "2025-06-04",
          "2025-06-05",
          "2025-06-06",
          "2025-06-09",
          "2025-06-10",
          "2025-06-11",
          "2025-06-12",
          "2025-06-13",
          "2025-06-16",
          "2025-06-17",
          "2025-06-18",
          "2025-06-20",
          "2025-06-23",
          "2025-06-24",
          "2025-06-25",
          "2025-06-26",
          "2025-06-27",
          "2025-06-30",
          "2025-07-01",
          "2025-07-02",
          "2025-07-03",
          "2025-07-07",
          "2025-07-08",
          "2025-07-09",
          "2025-07-10",
          "2025-07-11",
          "2025-07-14",
          "2025-07-15",
          "2025-07-16",
          "2025-07-17",
          "2025-07-18",
          "2025-07-21",
          "2025-07-22",
          "2025-07-23",
          "2025-07-24",
          "2025-07-25",
          "2025-07-28",
          "2025-07-29",
          "2025-07-30",
          "2025-07-31",
          "2025-08-01",
          "2025-08-04",
          "2025-08-05",
          "2025-08-06",
          "2025-08-07",
          "2025-08-08",
          "2025-08-11",
          "2025-08-12",
          "2025-08-13",
          "2025-08-14",
          "2025-08-15",
          "2025-08-18",
          "2025-08-19",
          "2025-08-20",
          "2025-08-21",
          "2025-08-22",
          "2025-08-25",
          "2025-08-26",
          "2025-08-27",
          "2025-08-28",
          "2025-08-29",
          "2025-09-02",
          "2025-09-03",
          "2025-09-04",
          "2025-09-05",
          "2025-09-08",
          "2025-09-09",
          "2025-09-10"
         ],
         "xaxis": "x",
         "y": {
          "bdata": "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",
          "dtype": "f8"
         },
         "yaxis": "y"
        },
        {
         "name": "SMA 50",
         "type": "scatter",
         "x": [
          "2024-07-17",
          "2024-07-18",
          "2024-07-19",
          "2024-07-22",
          "2024-07-23",
          "2024-07-24",
          "2024-07-25",
          "2024-07-26",
          "2024-07-29",
          "2024-07-30",
          "2024-07-31",
          "2024-08-01",
          "2024-08-02",
          "2024-08-05",
          "2024-08-06",
          "2024-08-07",
          "2024-08-08",
          "2024-08-09",
          "2024-08-12",
          "2024-08-13",
          "2024-08-14",
          "2024-08-15",
          "2024-08-16",
          "2024-08-19",
          "2024-08-20",
          "2024-08-21",
          "2024-08-22",
          "2024-08-23",
          "2024-08-26",
          "2024-08-27",
          "2024-08-28",
          "2024-08-29",
          "2024-08-30",
          "2024-09-03",
          "2024-09-04",
          "2024-09-05",
          "2024-09-06",
          "2024-09-09",
          "2024-09-10",
          "2024-09-11",
          "2024-09-12",
          "2024-09-13",
          "2024-09-16",
          "2024-09-17",
          "2024-09-18",
          "2024-09-19",
          "2024-09-20",
          "2024-09-23",
          "2024-09-24",
          "2024-09-25",
          "2024-09-26",
          "2024-09-27",
          "2024-09-30",
          "2024-10-01",
          "2024-10-02",
          "2024-10-03",
          "2024-10-04",
          "2024-10-07",
          "2024-10-08",
          "2024-10-09",
          "2024-10-10",
          "2024-10-11",
          "2024-10-14",
          "2024-10-15",
          "2024-10-16",
          "2024-10-17",
          "2024-10-18",
          "2024-10-21",
          "2024-10-22",
          "2024-10-23",
          "2024-10-24",
          "2024-10-25",
          "2024-10-28",
          "2024-10-29",
          "2024-10-30",
          "2024-10-31",
          "2024-11-01",
          "2024-11-04",
          "2024-11-05",
          "2024-11-06",
          "2024-11-07",
          "2024-11-08",
          "2024-11-11",
          "2024-11-12",
          "2024-11-13",
          "2024-11-14",
          "2024-11-15",
          "2024-11-18",
          "2024-11-19",
          "2024-11-20",
          "2024-11-21",
          "2024-11-22",
          "2024-11-25",
          "2024-11-26",
          "2024-11-27",
          "2024-11-29",
          "2024-12-02",
          "2024-12-03",
          "2024-12-04",
          "2024-12-05",
          "2024-12-06",
          "2024-12-09",
          "2024-12-10",
          "2024-12-11",
          "2024-12-12",
          "2024-12-13",
          "2024-12-16",
          "2024-12-17",
          "2024-12-18",
          "2024-12-19",
          "2024-12-20",
          "2024-12-23",
          "2024-12-24",
          "2024-12-26",
          "2024-12-27",
          "2024-12-30",
          "2024-12-31",
          "2025-01-02",
          "2025-01-03",
          "2025-01-06",
          "2025-01-07",
          "2025-01-08",
          "2025-01-10",
          "2025-01-13",
          "2025-01-14",
          "2025-01-15",
          "2025-01-16",
          "2025-01-17",
          "2025-01-21",
          "2025-01-22",
          "2025-01-23",
          "2025-01-24",
          "2025-01-27",
          "2025-01-28",
          "2025-01-29",
          "2025-01-30",
          "2025-01-31",
          "2025-02-03",
          "2025-02-04",
          "2025-02-05",
          "2025-02-06",
          "2025-02-07",
          "2025-02-10",
          "2025-02-11",
          "2025-02-12",
          "2025-02-13",
          "2025-02-14",
          "2025-02-18",
          "2025-02-19",
          "2025-02-20",
          "2025-02-21",
          "2025-02-24",
          "2025-02-25",
          "2025-02-26",
          "2025-02-27",
          "2025-02-28",
          "2025-03-03",
          "2025-03-04",
          "2025-03-05",
          "2025-03-06",
          "2025-03-07",
          "2025-03-10",
          "2025-03-11",
          "2025-03-12",
          "2025-03-13",
          "2025-03-14",
          "2025-03-17",
          "2025-03-18",
          "2025-03-19",
          "2025-03-20",
          "2025-03-21",
          "2025-03-24",
          "2025-03-25",
          "2025-03-26",
          "2025-03-27",
          "2025-03-28",
          "2025-03-31",
          "2025-04-01",
          "2025-04-02",
          "2025-04-03",
          "2025-04-04",
          "2025-04-07",
          "2025-04-08",
          "2025-04-09",
          "2025-04-10",
          "2025-04-11",
          "2025-04-14",
          "2025-04-15",
          "2025-04-16",
          "2025-04-17",
          "2025-04-21",
          "2025-04-22",
          "2025-04-23",
          "2025-04-24",
          "2025-04-25",
          "2025-04-28",
          "2025-04-29",
          "2025-04-30",
          "2025-05-01",
          "2025-05-02",
          "2025-05-05",
          "2025-05-06",
          "2025-05-07",
          "2025-05-08",
          "2025-05-09",
          "2025-05-12",
          "2025-05-13",
          "2025-05-14",
          "2025-05-15",
          "2025-05-16",
          "2025-05-19",
          "2025-05-20",
          "2025-05-21",
          "2025-05-22",
          "2025-05-23",
          "2025-05-27",
          "2025-05-28",
          "2025-05-29",
          "2025-05-30",
          "2025-06-02",
          "2025-06-03",
          "2025-06-04",
          "2025-06-05",
          "2025-06-06",
          "2025-06-09",
          "2025-06-10",
          "2025-06-11",
          "2025-06-12",
          "2025-06-13",
          "2025-06-16",
          "2025-06-17",
          "2025-06-18",
          "2025-06-20",
          "2025-06-23",
          "2025-06-24",
          "2025-06-25",
          "2025-06-26",
          "2025-06-27",
          "2025-06-30",
          "2025-07-01",
          "2025-07-02",
          "2025-07-03",
          "2025-07-07",
          "2025-07-08",
          "2025-07-09",
          "2025-07-10",
          "2025-07-11",
          "2025-07-14",
          "2025-07-15",
          "2025-07-16",
          "2025-07-17",
          "2025-07-18",
          "2025-07-21",
          "2025-07-22",
          "2025-07-23",
          "2025-07-24",
          "2025-07-25",
          "2025-07-28",
          "2025-07-29",
          "2025-07-30",
          "2025-07-31",
          "2025-08-01",
          "2025-08-04",
          "2025-08-05",
          "2025-08-06",
          "2025-08-07",
          "2025-08-08",
          "2025-08-11",
          "2025-08-12",
          "2025-08-13",
          "2025-08-14",
          "2025-08-15",
          "2025-08-18",
          "2025-08-19",
          "2025-08-20",
          "2025-08-21",
          "2025-08-22",
          "2025-08-25",
          "2025-08-26",
          "2025-08-27",
          "2025-08-28",
          "2025-08-29",
          "2025-09-02",
          "2025-09-03",
          "2025-09-04",
          "2025-09-05",
          "2025-09-08",
          "2025-09-09",
          "2025-09-10"
         ],
         "xaxis": "x",
         "y": {
          "bdata": "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",
          "dtype": "f8"
         },
         "yaxis": "y"
        }
       ],
       "layout": {
        "annotations": [
         {
          "font": {
           "size": 8
          },
          "showarrow": false,
          "text": "Date: 2025-09-10, Open:49.18, High:53.59, Low:49.13, Close: 53.5",
          "x": 0.01,
          "xref": "x domain",
          "y": 1,
          "yref": "y domain"
         }
        ],
        "height": 400,
        "legend": {
         "font": {
          "size": 8
         },
         "title": {
          "font": {
           "family": "Arial"
          }
         }
        },
        "template": {
         "data": {
          "bar": [
           {
            "error_x": {
             "color": "#2a3f5f"
            },
            "error_y": {
             "color": "#2a3f5f"
            },
            "marker": {
             "line": {
              "color": "#E5ECF6",
              "width": 0.5
             },
             "pattern": {
              "fillmode": "overlay",
              "size": 10,
              "solidity": 0.2
             }
            },
            "type": "bar"
           }
          ],
          "barpolar": [
           {
            "marker": {
             "line": {
              "color": "#E5ECF6",
              "width": 0.5
             },
             "pattern": {
              "fillmode": "overlay",
              "size": 10,
              "solidity": 0.2
             }
            },
            "type": "barpolar"
           }
          ],
          "carpet": [
           {
            "aaxis": {
             "endlinecolor": "#2a3f5f",
             "gridcolor": "white",
             "linecolor": "white",
             "minorgridcolor": "white",
             "startlinecolor": "#2a3f5f"
            },
            "baxis": {
             "endlinecolor": "#2a3f5f",
             "gridcolor": "white",
             "linecolor": "white",
             "minorgridcolor": "white",
             "startlinecolor": "#2a3f5f"
            },
            "type": "carpet"
           }
          ],
          "choropleth": [
           {
            "colorbar": {
             "outlinewidth": 0,
             "ticks": ""
            },
            "type": "choropleth"
           }
          ],
          "contour": [
           {
            "colorbar": {
             "outlinewidth": 0,
             "ticks": ""
            },
            "colorscale": [
             [
              0,
              "#0d0887"
             ],
             [
              0.1111111111111111,
              "#46039f"
             ],
             [
              0.2222222222222222,
              "#7201a8"
             ],
             [
              0.3333333333333333,
              "#9c179e"
             ],
             [
              0.4444444444444444,
              "#bd3786"
             ],
             [
              0.5555555555555556,
              "#d8576b"
             ],
             [
              0.6666666666666666,
              "#ed7953"
             ],
             [
              0.7777777777777778,
              "#fb9f3a"
             ],
             [
              0.8888888888888888,
              "#fdca26"
             ],
             [
              1,
              "#f0f921"
             ]
            ],
            "type": "contour"
           }
          ],
          "contourcarpet": [
           {
            "colorbar": {
             "outlinewidth": 0,
             "ticks": ""
            },
            "type": "contourcarpet"
           }
          ],
          "heatmap": [
           {
            "colorbar": {
             "outlinewidth": 0,
             "ticks": ""
            },
            "colorscale": [
             [
              0,
              "#0d0887"
             ],
             [
              0.1111111111111111,
              "#46039f"
             ],
             [
              0.2222222222222222,
              "#7201a8"
             ],
             [
              0.3333333333333333,
              "#9c179e"
             ],
             [
              0.4444444444444444,
              "#bd3786"
             ],
             [
              0.5555555555555556,
              "#d8576b"
             ],
             [
              0.6666666666666666,
              "#ed7953"
             ],
             [
              0.7777777777777778,
              "#fb9f3a"
             ],
             [
              0.8888888888888888,
              "#fdca26"
             ],
             [
              1,
              "#f0f921"
             ]
            ],
            "type": "heatmap"
           }
          ],
          "histogram": [
           {
            "marker": {
             "pattern": {
              "fillmode": "overlay",
              "size": 10,
              "solidity": 0.2
             }
            },
            "type": "histogram"
           }
          ],
          "histogram2d": [
           {
            "colorbar": {
             "outlinewidth": 0,
             "ticks": ""
            },
            "colorscale": [
             [
              0,
              "#0d0887"
             ],
             [
              0.1111111111111111,
              "#46039f"
             ],
             [
              0.2222222222222222,
              "#7201a8"
             ],
             [
              0.3333333333333333,
              "#9c179e"
             ],
             [
              0.4444444444444444,
              "#bd3786"
             ],
             [
              0.5555555555555556,
              "#d8576b"
             ],
             [
              0.6666666666666666,
              "#ed7953"
             ],
             [
              0.7777777777777778,
              "#fb9f3a"
             ],
             [
              0.8888888888888888,
              "#fdca26"
             ],
             [
              1,
              "#f0f921"
             ]
            ],
            "type": "histogram2d"
           }
          ],
          "histogram2dcontour": [
           {
            "colorbar": {
             "outlinewidth": 0,
             "ticks": ""
            },
            "colorscale": [
             [
              0,
              "#0d0887"
             ],
             [
              0.1111111111111111,
              "#46039f"
             ],
             [
              0.2222222222222222,
              "#7201a8"
             ],
             [
              0.3333333333333333,
              "#9c179e"
             ],
             [
              0.4444444444444444,
              "#bd3786"
             ],
             [
              0.5555555555555556,
              "#d8576b"
             ],
             [
              0.6666666666666666,
              "#ed7953"
             ],
             [
              0.7777777777777778,
              "#fb9f3a"
             ],
             [
              0.8888888888888888,
              "#fdca26"
             ],
             [
              1,
              "#f0f921"
             ]
            ],
            "type": "histogram2dcontour"
           }
          ],
          "mesh3d": [
           {
            "colorbar": {
             "outlinewidth": 0,
             "ticks": ""
            },
            "type": "mesh3d"
           }
          ],
          "parcoords": [
           {
            "line": {
             "colorbar": {
              "outlinewidth": 0,
              "ticks": ""
             }
            },
            "type": "parcoords"
           }
          ],
          "pie": [
           {
            "automargin": true,
            "type": "pie"
           }
          ],
          "scatter": [
           {
            "fillpattern": {
             "fillmode": "overlay",
             "size": 10,
             "solidity": 0.2
            },
            "type": "scatter"
           }
          ],
          "scatter3d": [
           {
            "line": {
             "colorbar": {
              "outlinewidth": 0,
              "ticks": ""
             }
            },
            "marker": {
             "colorbar": {
              "outlinewidth": 0,
              "ticks": ""
             }
            },
            "type": "scatter3d"
           }
          ],
          "scattercarpet": [
           {
            "marker": {
             "colorbar": {
              "outlinewidth": 0,
              "ticks": ""
             }
            },
            "type": "scattercarpet"
           }
          ],
          "scattergeo": [
           {
            "marker": {
             "colorbar": {
              "outlinewidth": 0,
              "ticks": ""
             }
            },
            "type": "scattergeo"
           }
          ],
          "scattergl": [
           {
            "marker": {
             "colorbar": {
              "outlinewidth": 0,
              "ticks": ""
             }
            },
            "type": "scattergl"
           }
          ],
          "scattermap": [
           {
            "marker": {
             "colorbar": {
              "outlinewidth": 0,
              "ticks": ""
             }
            },
            "type": "scattermap"
           }
          ],
          "scattermapbox": [
           {
            "marker": {
             "colorbar": {
              "outlinewidth": 0,
              "ticks": ""
             }
            },
            "type": "scattermapbox"
           }
          ],
          "scatterpolar": [
           {
            "marker": {
             "colorbar": {
              "outlinewidth": 0,
              "ticks": ""
             }
            },
            "type": "scatterpolar"
           }
          ],
          "scatterpolargl": [
           {
            "marker": {
             "colorbar": {
              "outlinewidth": 0,
              "ticks": ""
             }
            },
            "type": "scatterpolargl"
           }
          ],
          "scatterternary": [
           {
            "marker": {
             "colorbar": {
              "outlinewidth": 0,
              "ticks": ""
             }
            },
            "type": "scatterternary"
           }
          ],
          "surface": [
           {
            "colorbar": {
             "outlinewidth": 0,
             "ticks": ""
            },
            "colorscale": [
             [
              0,
              "#0d0887"
             ],
             [
              0.1111111111111111,
              "#46039f"
             ],
             [
              0.2222222222222222,
              "#7201a8"
             ],
             [
              0.3333333333333333,
              "#9c179e"
             ],
             [
              0.4444444444444444,
              "#bd3786"
             ],
             [
              0.5555555555555556,
              "#d8576b"
             ],
             [
              0.6666666666666666,
              "#ed7953"
             ],
             [
              0.7777777777777778,
              "#fb9f3a"
             ],
             [
              0.8888888888888888,
              "#fdca26"
             ],
             [
              1,
              "#f0f921"
             ]
            ],
            "type": "surface"
           }
          ],
          "table": [
           {
            "cells": {
             "fill": {
              "color": "#EBF0F8"
             },
             "line": {
              "color": "white"
             }
            },
            "header": {
             "fill": {
              "color": "#C8D4E3"
             },
             "line": {
              "color": "white"
             }
            },
            "type": "table"
           }
          ]
         },
         "layout": {
          "annotationdefaults": {
           "arrowcolor": "#2a3f5f",
           "arrowhead": 0,
           "arrowwidth": 1
          },
          "autotypenumbers": "strict",
          "coloraxis": {
           "colorbar": {
            "outlinewidth": 0,
            "ticks": ""
           }
          },
          "colorscale": {
           "diverging": [
            [
             0,
             "#8e0152"
            ],
            [
             0.1,
             "#c51b7d"
            ],
            [
             0.2,
             "#de77ae"
            ],
            [
             0.3,
             "#f1b6da"
            ],
            [
             0.4,
             "#fde0ef"
            ],
            [
             0.5,
             "#f7f7f7"
            ],
            [
             0.6,
             "#e6f5d0"
            ],
            [
             0.7,
             "#b8e186"
            ],
            [
             0.8,
             "#7fbc41"
            ],
            [
             0.9,
             "#4d9221"
            ],
            [
             1,
             "#276419"
            ]
           ],
           "sequential": [
            [
             0,
             "#0d0887"
            ],
            [
             0.1111111111111111,
             "#46039f"
            ],
            [
             0.2222222222222222,
             "#7201a8"
            ],
            [
             0.3333333333333333,
             "#9c179e"
            ],
            [
             0.4444444444444444,
             "#bd3786"
            ],
            [
             0.5555555555555556,
             "#d8576b"
            ],
            [
             0.6666666666666666,
             "#ed7953"
            ],
            [
             0.7777777777777778,
             "#fb9f3a"
            ],
            [
             0.8888888888888888,
             "#fdca26"
            ],
            [
             1,
             "#f0f921"
            ]
           ],
           "sequentialminus": [
            [
             0,
             "#0d0887"
            ],
            [
             0.1111111111111111,
             "#46039f"
            ],
            [
             0.2222222222222222,
             "#7201a8"
            ],
            [
             0.3333333333333333,
             "#9c179e"
            ],
            [
             0.4444444444444444,
             "#bd3786"
            ],
            [
             0.5555555555555556,
             "#d8576b"
            ],
            [
             0.6666666666666666,
             "#ed7953"
            ],
            [
             0.7777777777777778,
             "#fb9f3a"
            ],
            [
             0.8888888888888888,
             "#fdca26"
            ],
            [
             1,
             "#f0f921"
            ]
           ]
          },
          "colorway": [
           "#636efa",
           "#EF553B",
           "#00cc96",
           "#ab63fa",
           "#FFA15A",
           "#19d3f3",
           "#FF6692",
           "#B6E880",
           "#FF97FF",
           "#FECB52"
          ],
          "font": {
           "color": "#2a3f5f"
          },
          "geo": {
           "bgcolor": "white",
           "lakecolor": "white",
           "landcolor": "#E5ECF6",
           "showlakes": true,
           "showland": true,
           "subunitcolor": "white"
          },
          "hoverlabel": {
           "align": "left"
          },
          "hovermode": "closest",
          "mapbox": {
           "style": "light"
          },
          "paper_bgcolor": "white",
          "plot_bgcolor": "#E5ECF6",
          "polar": {
           "angularaxis": {
            "gridcolor": "white",
            "linecolor": "white",
            "ticks": ""
           },
           "bgcolor": "#E5ECF6",
           "radialaxis": {
            "gridcolor": "white",
            "linecolor": "white",
            "ticks": ""
           }
          },
          "scene": {
           "xaxis": {
            "backgroundcolor": "#E5ECF6",
            "gridcolor": "white",
            "gridwidth": 2,
            "linecolor": "white",
            "showbackground": true,
            "ticks": "",
            "zerolinecolor": "white"
           },
           "yaxis": {
            "backgroundcolor": "#E5ECF6",
            "gridcolor": "white",
            "gridwidth": 2,
            "linecolor": "white",
            "showbackground": true,
            "ticks": "",
            "zerolinecolor": "white"
           },
           "zaxis": {
            "backgroundcolor": "#E5ECF6",
            "gridcolor": "white",
            "gridwidth": 2,
            "linecolor": "white",
            "showbackground": true,
            "ticks": "",
            "zerolinecolor": "white"
           }
          },
          "shapedefaults": {
           "line": {
            "color": "#2a3f5f"
           }
          },
          "ternary": {
           "aaxis": {
            "gridcolor": "white",
            "linecolor": "white",
            "ticks": ""
           },
           "baxis": {
            "gridcolor": "white",
            "linecolor": "white",
            "ticks": ""
           },
           "bgcolor": "#E5ECF6",
           "caxis": {
            "gridcolor": "white",
            "linecolor": "white",
            "ticks": ""
           }
          },
          "title": {
           "x": 0.05
          },
          "xaxis": {
           "automargin": true,
           "gridcolor": "white",
           "linecolor": "white",
           "ticks": "",
           "title": {
            "standoff": 15
           },
           "zerolinecolor": "white",
           "zerolinewidth": 2
          },
          "yaxis": {
           "automargin": true,
           "gridcolor": "white",
           "linecolor": "white",
           "ticks": "",
           "title": {
            "standoff": 15
           },
           "zerolinecolor": "white",
           "zerolinewidth": 2
          }
         }
        },
        "title": {
         "text": "TOP 20",
         "x": 0.5
        },
        "width": 600,
        "xaxis": {
         "anchor": "y",
         "domain": [
          0,
          0.94
         ]
        },
        "yaxis": {
         "anchor": "x",
         "domain": [
          0,
          1
         ],
         "side": "right"
        },
        "yaxis2": {
         "anchor": "x",
         "overlaying": "y",
         "side": "right"
        }
       }
      }
     },
     "metadata": {},
     "output_type": "display_data"
    },
    {
     "data": {
      "application/vnd.plotly.v1+json": {
       "config": {
        "plotlyServerURL": "https://plot.ly"
       },
       "data": [
        {
         "name": "KGC: 42.0 %",
         "type": "scatter",
         "x": [
          "2024-07-17",
          "2024-07-18",
          "2024-07-19",
          "2024-07-22",
          "2024-07-23",
          "2024-07-24",
          "2024-07-25",
          "2024-07-26",
          "2024-07-29",
          "2024-07-30",
          "2024-07-31",
          "2024-08-01",
          "2024-08-02",
          "2024-08-05",
          "2024-08-06",
          "2024-08-07",
          "2024-08-08",
          "2024-08-09",
          "2024-08-12",
          "2024-08-13",
          "2024-08-14",
          "2024-08-15",
          "2024-08-16",
          "2024-08-19",
          "2024-08-20",
          "2024-08-21",
          "2024-08-22",
          "2024-08-23",
          "2024-08-26",
          "2024-08-27",
          "2024-08-28",
          "2024-08-29",
          "2024-08-30",
          "2024-09-03",
          "2024-09-04",
          "2024-09-05",
          "2024-09-06",
          "2024-09-09",
          "2024-09-10",
          "2024-09-11",
          "2024-09-12",
          "2024-09-13",
          "2024-09-16",
          "2024-09-17",
          "2024-09-18",
          "2024-09-19",
          "2024-09-20",
          "2024-09-23",
          "2024-09-24",
          "2024-09-25",
          "2024-09-26",
          "2024-09-27",
          "2024-09-30",
          "2024-10-01",
          "2024-10-02",
          "2024-10-03",
          "2024-10-04",
          "2024-10-07",
          "2024-10-08",
          "2024-10-09",
          "2024-10-10",
          "2024-10-11",
          "2024-10-14",
          "2024-10-15",
          "2024-10-16",
          "2024-10-17",
          "2024-10-18",
          "2024-10-21",
          "2024-10-22",
          "2024-10-23",
          "2024-10-24",
          "2024-10-25",
          "2024-10-28",
          "2024-10-29",
          "2024-10-30",
          "2024-10-31",
          "2024-11-01",
          "2024-11-04",
          "2024-11-05",
          "2024-11-06",
          "2024-11-07",
          "2024-11-08",
          "2024-11-11",
          "2024-11-12",
          "2024-11-13",
          "2024-11-14",
          "2024-11-15",
          "2024-11-18",
          "2024-11-19",
          "2024-11-20",
          "2024-11-21",
          "2024-11-22",
          "2024-11-25",
          "2024-11-26",
          "2024-11-27",
          "2024-11-29",
          "2024-12-02",
          "2024-12-03",
          "2024-12-04",
          "2024-12-05",
          "2024-12-06",
          "2024-12-09",
          "2024-12-10",
          "2024-12-11",
          "2024-12-12",
          "2024-12-13",
          "2024-12-16",
          "2024-12-17",
          "2024-12-18",
          "2024-12-19",
          "2024-12-20",
          "2024-12-23",
          "2024-12-24",
          "2024-12-26",
          "2024-12-27",
          "2024-12-30",
          "2024-12-31",
          "2025-01-02",
          "2025-01-03",
          "2025-01-06",
          "2025-01-07",
          "2025-01-08",
          "2025-01-10",
          "2025-01-13",
          "2025-01-14",
          "2025-01-15",
          "2025-01-16",
          "2025-01-17",
          "2025-01-21",
          "2025-01-22",
          "2025-01-23",
          "2025-01-24",
          "2025-01-27",
          "2025-01-28",
          "2025-01-29",
          "2025-01-30",
          "2025-01-31",
          "2025-02-03",
          "2025-02-04",
          "2025-02-05",
          "2025-02-06",
          "2025-02-07",
          "2025-02-10",
          "2025-02-11",
          "2025-02-12",
          "2025-02-13",
          "2025-02-14",
          "2025-02-18",
          "2025-02-19",
          "2025-02-20",
          "2025-02-21",
          "2025-02-24",
          "2025-02-25",
          "2025-02-26",
          "2025-02-27",
          "2025-02-28",
          "2025-03-03",
          "2025-03-04",
          "2025-03-05",
          "2025-03-06",
          "2025-03-07",
          "2025-03-10",
          "2025-03-11",
          "2025-03-12",
          "2025-03-13",
          "2025-03-14",
          "2025-03-17",
          "2025-03-18",
          "2025-03-19",
          "2025-03-20",
          "2025-03-21",
          "2025-03-24",
          "2025-03-25",
          "2025-03-26",
          "2025-03-27",
          "2025-03-28",
          "2025-03-31",
          "2025-04-01",
          "2025-04-02",
          "2025-04-03",
          "2025-04-04",
          "2025-04-07",
          "2025-04-08",
          "2025-04-09",
          "2025-04-10",
          "2025-04-11",
          "2025-04-14",
          "2025-04-15",
          "2025-04-16",
          "2025-04-17",
          "2025-04-21",
          "2025-04-22",
          "2025-04-23",
          "2025-04-24",
          "2025-04-25",
          "2025-04-28",
          "2025-04-29",
          "2025-04-30",
          "2025-05-01",
          "2025-05-02",
          "2025-05-05",
          "2025-05-06",
          "2025-05-07",
          "2025-05-08",
          "2025-05-09",
          "2025-05-12",
          "2025-05-13",
          "2025-05-14",
          "2025-05-15",
          "2025-05-16",
          "2025-05-19",
          "2025-05-20",
          "2025-05-21",
          "2025-05-22",
          "2025-05-23",
          "2025-05-27",
          "2025-05-28",
          "2025-05-29",
          "2025-05-30",
          "2025-06-02",
          "2025-06-03",
          "2025-06-04",
          "2025-06-05",
          "2025-06-06",
          "2025-06-09",
          "2025-06-10",
          "2025-06-11",
          "2025-06-12",
          "2025-06-13",
          "2025-06-16",
          "2025-06-17",
          "2025-06-18",
          "2025-06-20",
          "2025-06-23",
          "2025-06-24",
          "2025-06-25",
          "2025-06-26",
          "2025-06-27",
          "2025-06-30",
          "2025-07-01",
          "2025-07-02",
          "2025-07-03",
          "2025-07-07",
          "2025-07-08",
          "2025-07-09",
          "2025-07-10",
          "2025-07-11",
          "2025-07-14",
          "2025-07-15",
          "2025-07-16",
          "2025-07-17",
          "2025-07-18",
          "2025-07-21",
          "2025-07-22",
          "2025-07-23",
          "2025-07-24",
          "2025-07-25",
          "2025-07-28",
          "2025-07-29",
          "2025-07-30",
          "2025-07-31",
          "2025-08-01",
          "2025-08-04",
          "2025-08-05",
          "2025-08-06",
          "2025-08-07",
          "2025-08-08",
          "2025-08-11",
          "2025-08-12",
          "2025-08-13",
          "2025-08-14",
          "2025-08-15",
          "2025-08-18",
          "2025-08-19",
          "2025-08-20",
          "2025-08-21",
          "2025-08-22",
          "2025-08-25",
          "2025-08-26",
          "2025-08-27",
          "2025-08-28",
          "2025-08-29",
          "2025-09-02",
          "2025-09-03",
          "2025-09-04",
          "2025-09-05",
          "2025-09-08",
          "2025-09-09",
          "2025-09-10"
         ],
         "xaxis": "x",
         "y": {
          "bdata": "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",
          "dtype": "f8"
         },
         "yaxis": "y"
        },
        {
         "name": "SMA 50",
         "type": "scatter",
         "x": [
          "2024-07-17",
          "2024-07-18",
          "2024-07-19",
          "2024-07-22",
          "2024-07-23",
          "2024-07-24",
          "2024-07-25",
          "2024-07-26",
          "2024-07-29",
          "2024-07-30",
          "2024-07-31",
          "2024-08-01",
          "2024-08-02",
          "2024-08-05",
          "2024-08-06",
          "2024-08-07",
          "2024-08-08",
          "2024-08-09",
          "2024-08-12",
          "2024-08-13",
          "2024-08-14",
          "2024-08-15",
          "2024-08-16",
          "2024-08-19",
          "2024-08-20",
          "2024-08-21",
          "2024-08-22",
          "2024-08-23",
          "2024-08-26",
          "2024-08-27",
          "2024-08-28",
          "2024-08-29",
          "2024-08-30",
          "2024-09-03",
          "2024-09-04",
          "2024-09-05",
          "2024-09-06",
          "2024-09-09",
          "2024-09-10",
          "2024-09-11",
          "2024-09-12",
          "2024-09-13",
          "2024-09-16",
          "2024-09-17",
          "2024-09-18",
          "2024-09-19",
          "2024-09-20",
          "2024-09-23",
          "2024-09-24",
          "2024-09-25",
          "2024-09-26",
          "2024-09-27",
          "2024-09-30",
          "2024-10-01",
          "2024-10-02",
          "2024-10-03",
          "2024-10-04",
          "2024-10-07",
          "2024-10-08",
          "2024-10-09",
          "2024-10-10",
          "2024-10-11",
          "2024-10-14",
          "2024-10-15",
          "2024-10-16",
          "2024-10-17",
          "2024-10-18",
          "2024-10-21",
          "2024-10-22",
          "2024-10-23",
          "2024-10-24",
          "2024-10-25",
          "2024-10-28",
          "2024-10-29",
          "2024-10-30",
          "2024-10-31",
          "2024-11-01",
          "2024-11-04",
          "2024-11-05",
          "2024-11-06",
          "2024-11-07",
          "2024-11-08",
          "2024-11-11",
          "2024-11-12",
          "2024-11-13",
          "2024-11-14",
          "2024-11-15",
          "2024-11-18",
          "2024-11-19",
          "2024-11-20",
          "2024-11-21",
          "2024-11-22",
          "2024-11-25",
          "2024-11-26",
          "2024-11-27",
          "2024-11-29",
          "2024-12-02",
          "2024-12-03",
          "2024-12-04",
          "2024-12-05",
          "2024-12-06",
          "2024-12-09",
          "2024-12-10",
          "2024-12-11",
          "2024-12-12",
          "2024-12-13",
          "2024-12-16",
          "2024-12-17",
          "2024-12-18",
          "2024-12-19",
          "2024-12-20",
          "2024-12-23",
          "2024-12-24",
          "2024-12-26",
          "2024-12-27",
          "2024-12-30",
          "2024-12-31",
          "2025-01-02",
          "2025-01-03",
          "2025-01-06",
          "2025-01-07",
          "2025-01-08",
          "2025-01-10",
          "2025-01-13",
          "2025-01-14",
          "2025-01-15",
          "2025-01-16",
          "2025-01-17",
          "2025-01-21",
          "2025-01-22",
          "2025-01-23",
          "2025-01-24",
          "2025-01-27",
          "2025-01-28",
          "2025-01-29",
          "2025-01-30",
          "2025-01-31",
          "2025-02-03",
          "2025-02-04",
          "2025-02-05",
          "2025-02-06",
          "2025-02-07",
          "2025-02-10",
          "2025-02-11",
          "2025-02-12",
          "2025-02-13",
          "2025-02-14",
          "2025-02-18",
          "2025-02-19",
          "2025-02-20",
          "2025-02-21",
          "2025-02-24",
          "2025-02-25",
          "2025-02-26",
          "2025-02-27",
          "2025-02-28",
          "2025-03-03",
          "2025-03-04",
          "2025-03-05",
          "2025-03-06",
          "2025-03-07",
          "2025-03-10",
          "2025-03-11",
          "2025-03-12",
          "2025-03-13",
          "2025-03-14",
          "2025-03-17",
          "2025-03-18",
          "2025-03-19",
          "2025-03-20",
          "2025-03-21",
          "2025-03-24",
          "2025-03-25",
          "2025-03-26",
          "2025-03-27",
          "2025-03-28",
          "2025-03-31",
          "2025-04-01",
          "2025-04-02",
          "2025-04-03",
          "2025-04-04",
          "2025-04-07",
          "2025-04-08",
          "2025-04-09",
          "2025-04-10",
          "2025-04-11",
          "2025-04-14",
          "2025-04-15",
          "2025-04-16",
          "2025-04-17",
          "2025-04-21",
          "2025-04-22",
          "2025-04-23",
          "2025-04-24",
          "2025-04-25",
          "2025-04-28",
          "2025-04-29",
          "2025-04-30",
          "2025-05-01",
          "2025-05-02",
          "2025-05-05",
          "2025-05-06",
          "2025-05-07",
          "2025-05-08",
          "2025-05-09",
          "2025-05-12",
          "2025-05-13",
          "2025-05-14",
          "2025-05-15",
          "2025-05-16",
          "2025-05-19",
          "2025-05-20",
          "2025-05-21",
          "2025-05-22",
          "2025-05-23",
          "2025-05-27",
          "2025-05-28",
          "2025-05-29",
          "2025-05-30",
          "2025-06-02",
          "2025-06-03",
          "2025-06-04",
          "2025-06-05",
          "2025-06-06",
          "2025-06-09",
          "2025-06-10",
          "2025-06-11",
          "2025-06-12",
          "2025-06-13",
          "2025-06-16",
          "2025-06-17",
          "2025-06-18",
          "2025-06-20",
          "2025-06-23",
          "2025-06-24",
          "2025-06-25",
          "2025-06-26",
          "2025-06-27",
          "2025-06-30",
          "2025-07-01",
          "2025-07-02",
          "2025-07-03",
          "2025-07-07",
          "2025-07-08",
          "2025-07-09",
          "2025-07-10",
          "2025-07-11",
          "2025-07-14",
          "2025-07-15",
          "2025-07-16",
          "2025-07-17",
          "2025-07-18",
          "2025-07-21",
          "2025-07-22",
          "2025-07-23",
          "2025-07-24",
          "2025-07-25",
          "2025-07-28",
          "2025-07-29",
          "2025-07-30",
          "2025-07-31",
          "2025-08-01",
          "2025-08-04",
          "2025-08-05",
          "2025-08-06",
          "2025-08-07",
          "2025-08-08",
          "2025-08-11",
          "2025-08-12",
          "2025-08-13",
          "2025-08-14",
          "2025-08-15",
          "2025-08-18",
          "2025-08-19",
          "2025-08-20",
          "2025-08-21",
          "2025-08-22",
          "2025-08-25",
          "2025-08-26",
          "2025-08-27",
          "2025-08-28",
          "2025-08-29",
          "2025-09-02",
          "2025-09-03",
          "2025-09-04",
          "2025-09-05",
          "2025-09-08",
          "2025-09-09",
          "2025-09-10"
         ],
         "xaxis": "x",
         "y": {
          "bdata": "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",
          "dtype": "f8"
         },
         "yaxis": "y"
        }
       ],
       "layout": {
        "annotations": [
         {
          "font": {
           "size": 8
          },
          "showarrow": false,
          "text": "Date: 2025-09-10, Open:22.94, High:22.99, Low:22.55, Close: 22.55",
          "x": 0.01,
          "xref": "x domain",
          "y": 1,
          "yref": "y domain"
         }
        ],
        "height": 400,
        "legend": {
         "font": {
          "size": 8
         },
         "title": {
          "font": {
           "family": "Arial"
          }
         }
        },
        "template": {
         "data": {
          "bar": [
           {
            "error_x": {
             "color": "#2a3f5f"
            },
            "error_y": {
             "color": "#2a3f5f"
            },
            "marker": {
             "line": {
              "color": "#E5ECF6",
              "width": 0.5
             },
             "pattern": {
              "fillmode": "overlay",
              "size": 10,
              "solidity": 0.2
             }
            },
            "type": "bar"
           }
          ],
          "barpolar": [
           {
            "marker": {
             "line": {
              "color": "#E5ECF6",
              "width": 0.5
             },
             "pattern": {
              "fillmode": "overlay",
              "size": 10,
              "solidity": 0.2
             }
            },
            "type": "barpolar"
           }
          ],
          "carpet": [
           {
            "aaxis": {
             "endlinecolor": "#2a3f5f",
             "gridcolor": "white",
             "linecolor": "white",
             "minorgridcolor": "white",
             "startlinecolor": "#2a3f5f"
            },
            "baxis": {
             "endlinecolor": "#2a3f5f",
             "gridcolor": "white",
             "linecolor": "white",
             "minorgridcolor": "white",
             "startlinecolor": "#2a3f5f"
            },
            "type": "carpet"
           }
          ],
          "choropleth": [
           {
            "colorbar": {
             "outlinewidth": 0,
             "ticks": ""
            },
            "type": "choropleth"
           }
          ],
          "contour": [
           {
            "colorbar": {
             "outlinewidth": 0,
             "ticks": ""
            },
            "colorscale": [
             [
              0,
              "#0d0887"
             ],
             [
              0.1111111111111111,
              "#46039f"
             ],
             [
              0.2222222222222222,
              "#7201a8"
             ],
             [
              0.3333333333333333,
              "#9c179e"
             ],
             [
              0.4444444444444444,
              "#bd3786"
             ],
             [
              0.5555555555555556,
              "#d8576b"
             ],
             [
              0.6666666666666666,
              "#ed7953"
             ],
             [
              0.7777777777777778,
              "#fb9f3a"
             ],
             [
              0.8888888888888888,
              "#fdca26"
             ],
             [
              1,
              "#f0f921"
             ]
            ],
            "type": "contour"
           }
          ],
          "contourcarpet": [
           {
            "colorbar": {
             "outlinewidth": 0,
             "ticks": ""
            },
            "type": "contourcarpet"
           }
          ],
          "heatmap": [
           {
            "colorbar": {
             "outlinewidth": 0,
             "ticks": ""
            },
            "colorscale": [
             [
              0,
              "#0d0887"
             ],
             [
              0.1111111111111111,
              "#46039f"
             ],
             [
              0.2222222222222222,
              "#7201a8"
             ],
             [
              0.3333333333333333,
              "#9c179e"
             ],
             [
              0.4444444444444444,
              "#bd3786"
             ],
             [
              0.5555555555555556,
              "#d8576b"
             ],
             [
              0.6666666666666666,
              "#ed7953"
             ],
             [
              0.7777777777777778,
              "#fb9f3a"
             ],
             [
              0.8888888888888888,
              "#fdca26"
             ],
             [
              1,
              "#f0f921"
             ]
            ],
            "type": "heatmap"
           }
          ],
          "histogram": [
           {
            "marker": {
             "pattern": {
              "fillmode": "overlay",
              "size": 10,
              "solidity": 0.2
             }
            },
            "type": "histogram"
           }
          ],
          "histogram2d": [
           {
            "colorbar": {
             "outlinewidth": 0,
             "ticks": ""
            },
            "colorscale": [
             [
              0,
              "#0d0887"
             ],
             [
              0.1111111111111111,
              "#46039f"
             ],
             [
              0.2222222222222222,
              "#7201a8"
             ],
             [
              0.3333333333333333,
              "#9c179e"
             ],
             [
              0.4444444444444444,
              "#bd3786"
             ],
             [
              0.5555555555555556,
              "#d8576b"
             ],
             [
              0.6666666666666666,
              "#ed7953"
             ],
             [
              0.7777777777777778,
              "#fb9f3a"
             ],
             [
              0.8888888888888888,
              "#fdca26"
             ],
             [
              1,
              "#f0f921"
             ]
            ],
            "type": "histogram2d"
           }
          ],
          "histogram2dcontour": [
           {
            "colorbar": {
             "outlinewidth": 0,
             "ticks": ""
            },
            "colorscale": [
             [
              0,
              "#0d0887"
             ],
             [
              0.1111111111111111,
              "#46039f"
             ],
             [
              0.2222222222222222,
              "#7201a8"
             ],
             [
              0.3333333333333333,
              "#9c179e"
             ],
             [
              0.4444444444444444,
              "#bd3786"
             ],
             [
              0.5555555555555556,
              "#d8576b"
             ],
             [
              0.6666666666666666,
              "#ed7953"
             ],
             [
              0.7777777777777778,
              "#fb9f3a"
             ],
             [
              0.8888888888888888,
              "#fdca26"
             ],
             [
              1,
              "#f0f921"
             ]
            ],
            "type": "histogram2dcontour"
           }
          ],
          "mesh3d": [
           {
            "colorbar": {
             "outlinewidth": 0,
             "ticks": ""
            },
            "type": "mesh3d"
           }
          ],
          "parcoords": [
           {
            "line": {
             "colorbar": {
              "outlinewidth": 0,
              "ticks": ""
             }
            },
            "type": "parcoords"
           }
          ],
          "pie": [
           {
            "automargin": true,
            "type": "pie"
           }
          ],
          "scatter": [
           {
            "fillpattern": {
             "fillmode": "overlay",
             "size": 10,
             "solidity": 0.2
            },
            "type": "scatter"
           }
          ],
          "scatter3d": [
           {
            "line": {
             "colorbar": {
              "outlinewidth": 0,
              "ticks": ""
             }
            },
            "marker": {
             "colorbar": {
              "outlinewidth": 0,
              "ticks": ""
             }
            },
            "type": "scatter3d"
           }
          ],
          "scattercarpet": [
           {
            "marker": {
             "colorbar": {
              "outlinewidth": 0,
              "ticks": ""
             }
            },
            "type": "scattercarpet"
           }
          ],
          "scattergeo": [
           {
            "marker": {
             "colorbar": {
              "outlinewidth": 0,
              "ticks": ""
             }
            },
            "type": "scattergeo"
           }
          ],
          "scattergl": [
           {
            "marker": {
             "colorbar": {
              "outlinewidth": 0,
              "ticks": ""
             }
            },
            "type": "scattergl"
           }
          ],
          "scattermap": [
           {
            "marker": {
             "colorbar": {
              "outlinewidth": 0,
              "ticks": ""
             }
            },
            "type": "scattermap"
           }
          ],
          "scattermapbox": [
           {
            "marker": {
             "colorbar": {
              "outlinewidth": 0,
              "ticks": ""
             }
            },
            "type": "scattermapbox"
           }
          ],
          "scatterpolar": [
           {
            "marker": {
             "colorbar": {
              "outlinewidth": 0,
              "ticks": ""
             }
            },
            "type": "scatterpolar"
           }
          ],
          "scatterpolargl": [
           {
            "marker": {
             "colorbar": {
              "outlinewidth": 0,
              "ticks": ""
             }
            },
            "type": "scatterpolargl"
           }
          ],
          "scatterternary": [
           {
            "marker": {
             "colorbar": {
              "outlinewidth": 0,
              "ticks": ""
             }
            },
            "type": "scatterternary"
           }
          ],
          "surface": [
           {
            "colorbar": {
             "outlinewidth": 0,
             "ticks": ""
            },
            "colorscale": [
             [
              0,
              "#0d0887"
             ],
             [
              0.1111111111111111,
              "#46039f"
             ],
             [
              0.2222222222222222,
              "#7201a8"
             ],
             [
              0.3333333333333333,
              "#9c179e"
             ],
             [
              0.4444444444444444,
              "#bd3786"
             ],
             [
              0.5555555555555556,
              "#d8576b"
             ],
             [
              0.6666666666666666,
              "#ed7953"
             ],
             [
              0.7777777777777778,
              "#fb9f3a"
             ],
             [
              0.8888888888888888,
              "#fdca26"
             ],
             [
              1,
              "#f0f921"
             ]
            ],
            "type": "surface"
           }
          ],
          "table": [
           {
            "cells": {
             "fill": {
              "color": "#EBF0F8"
             },
             "line": {
              "color": "white"
             }
            },
            "header": {
             "fill": {
              "color": "#C8D4E3"
             },
             "line": {
              "color": "white"
             }
            },
            "type": "table"
           }
          ]
         },
         "layout": {
          "annotationdefaults": {
           "arrowcolor": "#2a3f5f",
           "arrowhead": 0,
           "arrowwidth": 1
          },
          "autotypenumbers": "strict",
          "coloraxis": {
           "colorbar": {
            "outlinewidth": 0,
            "ticks": ""
           }
          },
          "colorscale": {
           "diverging": [
            [
             0,
             "#8e0152"
            ],
            [
             0.1,
             "#c51b7d"
            ],
            [
             0.2,
             "#de77ae"
            ],
            [
             0.3,
             "#f1b6da"
            ],
            [
             0.4,
             "#fde0ef"
            ],
            [
             0.5,
             "#f7f7f7"
            ],
            [
             0.6,
             "#e6f5d0"
            ],
            [
             0.7,
             "#b8e186"
            ],
            [
             0.8,
             "#7fbc41"
            ],
            [
             0.9,
             "#4d9221"
            ],
            [
             1,
             "#276419"
            ]
           ],
           "sequential": [
            [
             0,
             "#0d0887"
            ],
            [
             0.1111111111111111,
             "#46039f"
            ],
            [
             0.2222222222222222,
             "#7201a8"
            ],
            [
             0.3333333333333333,
             "#9c179e"
            ],
            [
             0.4444444444444444,
             "#bd3786"
            ],
            [
             0.5555555555555556,
             "#d8576b"
            ],
            [
             0.6666666666666666,
             "#ed7953"
            ],
            [
             0.7777777777777778,
             "#fb9f3a"
            ],
            [
             0.8888888888888888,
             "#fdca26"
            ],
            [
             1,
             "#f0f921"
            ]
           ],
           "sequentialminus": [
            [
             0,
             "#0d0887"
            ],
            [
             0.1111111111111111,
             "#46039f"
            ],
            [
             0.2222222222222222,
             "#7201a8"
            ],
            [
             0.3333333333333333,
             "#9c179e"
            ],
            [
             0.4444444444444444,
             "#bd3786"
            ],
            [
             0.5555555555555556,
             "#d8576b"
            ],
            [
             0.6666666666666666,
             "#ed7953"
            ],
            [
             0.7777777777777778,
             "#fb9f3a"
            ],
            [
             0.8888888888888888,
             "#fdca26"
            ],
            [
             1,
             "#f0f921"
            ]
           ]
          },
          "colorway": [
           "#636efa",
           "#EF553B",
           "#00cc96",
           "#ab63fa",
           "#FFA15A",
           "#19d3f3",
           "#FF6692",
           "#B6E880",
           "#FF97FF",
           "#FECB52"
          ],
          "font": {
           "color": "#2a3f5f"
          },
          "geo": {
           "bgcolor": "white",
           "lakecolor": "white",
           "landcolor": "#E5ECF6",
           "showlakes": true,
           "showland": true,
           "subunitcolor": "white"
          },
          "hoverlabel": {
           "align": "left"
          },
          "hovermode": "closest",
          "mapbox": {
           "style": "light"
          },
          "paper_bgcolor": "white",
          "plot_bgcolor": "#E5ECF6",
          "polar": {
           "angularaxis": {
            "gridcolor": "white",
            "linecolor": "white",
            "ticks": ""
           },
           "bgcolor": "#E5ECF6",
           "radialaxis": {
            "gridcolor": "white",
            "linecolor": "white",
            "ticks": ""
           }
          },
          "scene": {
           "xaxis": {
            "backgroundcolor": "#E5ECF6",
            "gridcolor": "white",
            "gridwidth": 2,
            "linecolor": "white",
            "showbackground": true,
            "ticks": "",
            "zerolinecolor": "white"
           },
           "yaxis": {
            "backgroundcolor": "#E5ECF6",
            "gridcolor": "white",
            "gridwidth": 2,
            "linecolor": "white",
            "showbackground": true,
            "ticks": "",
            "zerolinecolor": "white"
           },
           "zaxis": {
            "backgroundcolor": "#E5ECF6",
            "gridcolor": "white",
            "gridwidth": 2,
            "linecolor": "white",
            "showbackground": true,
            "ticks": "",
            "zerolinecolor": "white"
           }
          },
          "shapedefaults": {
           "line": {
            "color": "#2a3f5f"
           }
          },
          "ternary": {
           "aaxis": {
            "gridcolor": "white",
            "linecolor": "white",
            "ticks": ""
           },
           "baxis": {
            "gridcolor": "white",
            "linecolor": "white",
            "ticks": ""
           },
           "bgcolor": "#E5ECF6",
           "caxis": {
            "gridcolor": "white",
            "linecolor": "white",
            "ticks": ""
           }
          },
          "title": {
           "x": 0.05
          },
          "xaxis": {
           "automargin": true,
           "gridcolor": "white",
           "linecolor": "white",
           "ticks": "",
           "title": {
            "standoff": 15
           },
           "zerolinecolor": "white",
           "zerolinewidth": 2
          },
          "yaxis": {
           "automargin": true,
           "gridcolor": "white",
           "linecolor": "white",
           "ticks": "",
           "title": {
            "standoff": 15
           },
           "zerolinecolor": "white",
           "zerolinewidth": 2
          }
         }
        },
        "title": {
         "text": "TOP 20",
         "x": 0.5
        },
        "width": 600,
        "xaxis": {
         "anchor": "y",
         "domain": [
          0,
          0.94
         ]
        },
        "yaxis": {
         "anchor": "x",
         "domain": [
          0,
          1
         ],
         "side": "right"
        },
        "yaxis2": {
         "anchor": "x",
         "overlaying": "y",
         "side": "right"
        }
       }
      }
     },
     "metadata": {},
     "output_type": "display_data"
    },
    {
     "data": {
      "application/vnd.plotly.v1+json": {
       "config": {
        "plotlyServerURL": "https://plot.ly"
       },
       "data": [
        {
         "name": "SOUN: 41.03 %",
         "type": "scatter",
         "x": [
          "2024-07-17",
          "2024-07-18",
          "2024-07-19",
          "2024-07-22",
          "2024-07-23",
          "2024-07-24",
          "2024-07-25",
          "2024-07-26",
          "2024-07-29",
          "2024-07-30",
          "2024-07-31",
          "2024-08-01",
          "2024-08-02",
          "2024-08-05",
          "2024-08-06",
          "2024-08-07",
          "2024-08-08",
          "2024-08-09",
          "2024-08-12",
          "2024-08-13",
          "2024-08-14",
          "2024-08-15",
          "2024-08-16",
          "2024-08-19",
          "2024-08-20",
          "2024-08-21",
          "2024-08-22",
          "2024-08-23",
          "2024-08-26",
          "2024-08-27",
          "2024-08-28",
          "2024-08-29",
          "2024-08-30",
          "2024-09-03",
          "2024-09-04",
          "2024-09-05",
          "2024-09-06",
          "2024-09-09",
          "2024-09-10",
          "2024-09-11",
          "2024-09-12",
          "2024-09-13",
          "2024-09-16",
          "2024-09-17",
          "2024-09-18",
          "2024-09-19",
          "2024-09-20",
          "2024-09-23",
          "2024-09-24",
          "2024-09-25",
          "2024-09-26",
          "2024-09-27",
          "2024-09-30",
          "2024-10-01",
          "2024-10-02",
          "2024-10-03",
          "2024-10-04",
          "2024-10-07",
          "2024-10-08",
          "2024-10-09",
          "2024-10-10",
          "2024-10-11",
          "2024-10-14",
          "2024-10-15",
          "2024-10-16",
          "2024-10-17",
          "2024-10-18",
          "2024-10-21",
          "2024-10-22",
          "2024-10-23",
          "2024-10-24",
          "2024-10-25",
          "2024-10-28",
          "2024-10-29",
          "2024-10-30",
          "2024-10-31",
          "2024-11-01",
          "2024-11-04",
          "2024-11-05",
          "2024-11-06",
          "2024-11-07",
          "2024-11-08",
          "2024-11-11",
          "2024-11-12",
          "2024-11-13",
          "2024-11-14",
          "2024-11-15",
          "2024-11-18",
          "2024-11-19",
          "2024-11-20",
          "2024-11-21",
          "2024-11-22",
          "2024-11-25",
          "2024-11-26",
          "2024-11-27",
          "2024-11-29",
          "2024-12-02",
          "2024-12-03",
          "2024-12-04",
          "2024-12-05",
          "2024-12-06",
          "2024-12-09",
          "2024-12-10",
          "2024-12-11",
          "2024-12-12",
          "2024-12-13",
          "2024-12-16",
          "2024-12-17",
          "2024-12-18",
          "2024-12-19",
          "2024-12-20",
          "2024-12-23",
          "2024-12-24",
          "2024-12-26",
          "2024-12-27",
          "2024-12-30",
          "2024-12-31",
          "2025-01-02",
          "2025-01-03",
          "2025-01-06",
          "2025-01-07",
          "2025-01-08",
          "2025-01-10",
          "2025-01-13",
          "2025-01-14",
          "2025-01-15",
          "2025-01-16",
          "2025-01-17",
          "2025-01-21",
          "2025-01-22",
          "2025-01-23",
          "2025-01-24",
          "2025-01-27",
          "2025-01-28",
          "2025-01-29",
          "2025-01-30",
          "2025-01-31",
          "2025-02-03",
          "2025-02-04",
          "2025-02-05",
          "2025-02-06",
          "2025-02-07",
          "2025-02-10",
          "2025-02-11",
          "2025-02-12",
          "2025-02-13",
          "2025-02-14",
          "2025-02-18",
          "2025-02-19",
          "2025-02-20",
          "2025-02-21",
          "2025-02-24",
          "2025-02-25",
          "2025-02-26",
          "2025-02-27",
          "2025-02-28",
          "2025-03-03",
          "2025-03-04",
          "2025-03-05",
          "2025-03-06",
          "2025-03-07",
          "2025-03-10",
          "2025-03-11",
          "2025-03-12",
          "2025-03-13",
          "2025-03-14",
          "2025-03-17",
          "2025-03-18",
          "2025-03-19",
          "2025-03-20",
          "2025-03-21",
          "2025-03-24",
          "2025-03-25",
          "2025-03-26",
          "2025-03-27",
          "2025-03-28",
          "2025-03-31",
          "2025-04-01",
          "2025-04-02",
          "2025-04-03",
          "2025-04-04",
          "2025-04-07",
          "2025-04-08",
          "2025-04-09",
          "2025-04-10",
          "2025-04-11",
          "2025-04-14",
          "2025-04-15",
          "2025-04-16",
          "2025-04-17",
          "2025-04-21",
          "2025-04-22",
          "2025-04-23",
          "2025-04-24",
          "2025-04-25",
          "2025-04-28",
          "2025-04-29",
          "2025-04-30",
          "2025-05-01",
          "2025-05-02",
          "2025-05-05",
          "2025-05-06",
          "2025-05-07",
          "2025-05-08",
          "2025-05-09",
          "2025-05-12",
          "2025-05-13",
          "2025-05-14",
          "2025-05-15",
          "2025-05-16",
          "2025-05-19",
          "2025-05-20",
          "2025-05-21",
          "2025-05-22",
          "2025-05-23",
          "2025-05-27",
          "2025-05-28",
          "2025-05-29",
          "2025-05-30",
          "2025-06-02",
          "2025-06-03",
          "2025-06-04",
          "2025-06-05",
          "2025-06-06",
          "2025-06-09",
          "2025-06-10",
          "2025-06-11",
          "2025-06-12",
          "2025-06-13",
          "2025-06-16",
          "2025-06-17",
          "2025-06-18",
          "2025-06-20",
          "2025-06-23",
          "2025-06-24",
          "2025-06-25",
          "2025-06-26",
          "2025-06-27",
          "2025-06-30",
          "2025-07-01",
          "2025-07-02",
          "2025-07-03",
          "2025-07-07",
          "2025-07-08",
          "2025-07-09",
          "2025-07-10",
          "2025-07-11",
          "2025-07-14",
          "2025-07-15",
          "2025-07-16",
          "2025-07-17",
          "2025-07-18",
          "2025-07-21",
          "2025-07-22",
          "2025-07-23",
          "2025-07-24",
          "2025-07-25",
          "2025-07-28",
          "2025-07-29",
          "2025-07-30",
          "2025-07-31",
          "2025-08-01",
          "2025-08-04",
          "2025-08-05",
          "2025-08-06",
          "2025-08-07",
          "2025-08-08",
          "2025-08-11",
          "2025-08-12",
          "2025-08-13",
          "2025-08-14",
          "2025-08-15",
          "2025-08-18",
          "2025-08-19",
          "2025-08-20",
          "2025-08-21",
          "2025-08-22",
          "2025-08-25",
          "2025-08-26",
          "2025-08-27",
          "2025-08-28",
          "2025-08-29",
          "2025-09-02",
          "2025-09-03",
          "2025-09-04",
          "2025-09-05",
          "2025-09-08",
          "2025-09-09",
          "2025-09-10"
         ],
         "xaxis": "x",
         "y": {
          "bdata": "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",
          "dtype": "f8"
         },
         "yaxis": "y"
        },
        {
         "name": "SMA 50",
         "type": "scatter",
         "x": [
          "2024-07-17",
          "2024-07-18",
          "2024-07-19",
          "2024-07-22",
          "2024-07-23",
          "2024-07-24",
          "2024-07-25",
          "2024-07-26",
          "2024-07-29",
          "2024-07-30",
          "2024-07-31",
          "2024-08-01",
          "2024-08-02",
          "2024-08-05",
          "2024-08-06",
          "2024-08-07",
          "2024-08-08",
          "2024-08-09",
          "2024-08-12",
          "2024-08-13",
          "2024-08-14",
          "2024-08-15",
          "2024-08-16",
          "2024-08-19",
          "2024-08-20",
          "2024-08-21",
          "2024-08-22",
          "2024-08-23",
          "2024-08-26",
          "2024-08-27",
          "2024-08-28",
          "2024-08-29",
          "2024-08-30",
          "2024-09-03",
          "2024-09-04",
          "2024-09-05",
          "2024-09-06",
          "2024-09-09",
          "2024-09-10",
          "2024-09-11",
          "2024-09-12",
          "2024-09-13",
          "2024-09-16",
          "2024-09-17",
          "2024-09-18",
          "2024-09-19",
          "2024-09-20",
          "2024-09-23",
          "2024-09-24",
          "2024-09-25",
          "2024-09-26",
          "2024-09-27",
          "2024-09-30",
          "2024-10-01",
          "2024-10-02",
          "2024-10-03",
          "2024-10-04",
          "2024-10-07",
          "2024-10-08",
          "2024-10-09",
          "2024-10-10",
          "2024-10-11",
          "2024-10-14",
          "2024-10-15",
          "2024-10-16",
          "2024-10-17",
          "2024-10-18",
          "2024-10-21",
          "2024-10-22",
          "2024-10-23",
          "2024-10-24",
          "2024-10-25",
          "2024-10-28",
          "2024-10-29",
          "2024-10-30",
          "2024-10-31",
          "2024-11-01",
          "2024-11-04",
          "2024-11-05",
          "2024-11-06",
          "2024-11-07",
          "2024-11-08",
          "2024-11-11",
          "2024-11-12",
          "2024-11-13",
          "2024-11-14",
          "2024-11-15",
          "2024-11-18",
          "2024-11-19",
          "2024-11-20",
          "2024-11-21",
          "2024-11-22",
          "2024-11-25",
          "2024-11-26",
          "2024-11-27",
          "2024-11-29",
          "2024-12-02",
          "2024-12-03",
          "2024-12-04",
          "2024-12-05",
          "2024-12-06",
          "2024-12-09",
          "2024-12-10",
          "2024-12-11",
          "2024-12-12",
          "2024-12-13",
          "2024-12-16",
          "2024-12-17",
          "2024-12-18",
          "2024-12-19",
          "2024-12-20",
          "2024-12-23",
          "2024-12-24",
          "2024-12-26",
          "2024-12-27",
          "2024-12-30",
          "2024-12-31",
          "2025-01-02",
          "2025-01-03",
          "2025-01-06",
          "2025-01-07",
          "2025-01-08",
          "2025-01-10",
          "2025-01-13",
          "2025-01-14",
          "2025-01-15",
          "2025-01-16",
          "2025-01-17",
          "2025-01-21",
          "2025-01-22",
          "2025-01-23",
          "2025-01-24",
          "2025-01-27",
          "2025-01-28",
          "2025-01-29",
          "2025-01-30",
          "2025-01-31",
          "2025-02-03",
          "2025-02-04",
          "2025-02-05",
          "2025-02-06",
          "2025-02-07",
          "2025-02-10",
          "2025-02-11",
          "2025-02-12",
          "2025-02-13",
          "2025-02-14",
          "2025-02-18",
          "2025-02-19",
          "2025-02-20",
          "2025-02-21",
          "2025-02-24",
          "2025-02-25",
          "2025-02-26",
          "2025-02-27",
          "2025-02-28",
          "2025-03-03",
          "2025-03-04",
          "2025-03-05",
          "2025-03-06",
          "2025-03-07",
          "2025-03-10",
          "2025-03-11",
          "2025-03-12",
          "2025-03-13",
          "2025-03-14",
          "2025-03-17",
          "2025-03-18",
          "2025-03-19",
          "2025-03-20",
          "2025-03-21",
          "2025-03-24",
          "2025-03-25",
          "2025-03-26",
          "2025-03-27",
          "2025-03-28",
          "2025-03-31",
          "2025-04-01",
          "2025-04-02",
          "2025-04-03",
          "2025-04-04",
          "2025-04-07",
          "2025-04-08",
          "2025-04-09",
          "2025-04-10",
          "2025-04-11",
          "2025-04-14",
          "2025-04-15",
          "2025-04-16",
          "2025-04-17",
          "2025-04-21",
          "2025-04-22",
          "2025-04-23",
          "2025-04-24",
          "2025-04-25",
          "2025-04-28",
          "2025-04-29",
          "2025-04-30",
          "2025-05-01",
          "2025-05-02",
          "2025-05-05",
          "2025-05-06",
          "2025-05-07",
          "2025-05-08",
          "2025-05-09",
          "2025-05-12",
          "2025-05-13",
          "2025-05-14",
          "2025-05-15",
          "2025-05-16",
          "2025-05-19",
          "2025-05-20",
          "2025-05-21",
          "2025-05-22",
          "2025-05-23",
          "2025-05-27",
          "2025-05-28",
          "2025-05-29",
          "2025-05-30",
          "2025-06-02",
          "2025-06-03",
          "2025-06-04",
          "2025-06-05",
          "2025-06-06",
          "2025-06-09",
          "2025-06-10",
          "2025-06-11",
          "2025-06-12",
          "2025-06-13",
          "2025-06-16",
          "2025-06-17",
          "2025-06-18",
          "2025-06-20",
          "2025-06-23",
          "2025-06-24",
          "2025-06-25",
          "2025-06-26",
          "2025-06-27",
          "2025-06-30",
          "2025-07-01",
          "2025-07-02",
          "2025-07-03",
          "2025-07-07",
          "2025-07-08",
          "2025-07-09",
          "2025-07-10",
          "2025-07-11",
          "2025-07-14",
          "2025-07-15",
          "2025-07-16",
          "2025-07-17",
          "2025-07-18",
          "2025-07-21",
          "2025-07-22",
          "2025-07-23",
          "2025-07-24",
          "2025-07-25",
          "2025-07-28",
          "2025-07-29",
          "2025-07-30",
          "2025-07-31",
          "2025-08-01",
          "2025-08-04",
          "2025-08-05",
          "2025-08-06",
          "2025-08-07",
          "2025-08-08",
          "2025-08-11",
          "2025-08-12",
          "2025-08-13",
          "2025-08-14",
          "2025-08-15",
          "2025-08-18",
          "2025-08-19",
          "2025-08-20",
          "2025-08-21",
          "2025-08-22",
          "2025-08-25",
          "2025-08-26",
          "2025-08-27",
          "2025-08-28",
          "2025-08-29",
          "2025-09-02",
          "2025-09-03",
          "2025-09-04",
          "2025-09-05",
          "2025-09-08",
          "2025-09-09",
          "2025-09-10"
         ],
         "xaxis": "x",
         "y": {
          "bdata": "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",
          "dtype": "f8"
         },
         "yaxis": "y"
        }
       ],
       "layout": {
        "annotations": [
         {
          "font": {
           "size": 8
          },
          "showarrow": false,
          "text": "Date: 2025-09-10, Open:14.05, High:15.19, Low:13.91, Close: 15.09",
          "x": 0.01,
          "xref": "x domain",
          "y": 1,
          "yref": "y domain"
         }
        ],
        "height": 400,
        "legend": {
         "font": {
          "size": 8
         },
         "title": {
          "font": {
           "family": "Arial"
          }
         }
        },
        "template": {
         "data": {
          "bar": [
           {
            "error_x": {
             "color": "#2a3f5f"
            },
            "error_y": {
             "color": "#2a3f5f"
            },
            "marker": {
             "line": {
              "color": "#E5ECF6",
              "width": 0.5
             },
             "pattern": {
              "fillmode": "overlay",
              "size": 10,
              "solidity": 0.2
             }
            },
            "type": "bar"
           }
          ],
          "barpolar": [
           {
            "marker": {
             "line": {
              "color": "#E5ECF6",
              "width": 0.5
             },
             "pattern": {
              "fillmode": "overlay",
              "size": 10,
              "solidity": 0.2
             }
            },
            "type": "barpolar"
           }
          ],
          "carpet": [
           {
            "aaxis": {
             "endlinecolor": "#2a3f5f",
             "gridcolor": "white",
             "linecolor": "white",
             "minorgridcolor": "white",
             "startlinecolor": "#2a3f5f"
            },
            "baxis": {
             "endlinecolor": "#2a3f5f",
             "gridcolor": "white",
             "linecolor": "white",
             "minorgridcolor": "white",
             "startlinecolor": "#2a3f5f"
            },
            "type": "carpet"
           }
          ],
          "choropleth": [
           {
            "colorbar": {
             "outlinewidth": 0,
             "ticks": ""
            },
            "type": "choropleth"
           }
          ],
          "contour": [
           {
            "colorbar": {
             "outlinewidth": 0,
             "ticks": ""
            },
            "colorscale": [
             [
              0,
              "#0d0887"
             ],
             [
              0.1111111111111111,
              "#46039f"
             ],
             [
              0.2222222222222222,
              "#7201a8"
             ],
             [
              0.3333333333333333,
              "#9c179e"
             ],
             [
              0.4444444444444444,
              "#bd3786"
             ],
             [
              0.5555555555555556,
              "#d8576b"
             ],
             [
              0.6666666666666666,
              "#ed7953"
             ],
             [
              0.7777777777777778,
              "#fb9f3a"
             ],
             [
              0.8888888888888888,
              "#fdca26"
             ],
             [
              1,
              "#f0f921"
             ]
            ],
            "type": "contour"
           }
          ],
          "contourcarpet": [
           {
            "colorbar": {
             "outlinewidth": 0,
             "ticks": ""
            },
            "type": "contourcarpet"
           }
          ],
          "heatmap": [
           {
            "colorbar": {
             "outlinewidth": 0,
             "ticks": ""
            },
            "colorscale": [
             [
              0,
              "#0d0887"
             ],
             [
              0.1111111111111111,
              "#46039f"
             ],
             [
              0.2222222222222222,
              "#7201a8"
             ],
             [
              0.3333333333333333,
              "#9c179e"
             ],
             [
              0.4444444444444444,
              "#bd3786"
             ],
             [
              0.5555555555555556,
              "#d8576b"
             ],
             [
              0.6666666666666666,
              "#ed7953"
             ],
             [
              0.7777777777777778,
              "#fb9f3a"
             ],
             [
              0.8888888888888888,
              "#fdca26"
             ],
             [
              1,
              "#f0f921"
             ]
            ],
            "type": "heatmap"
           }
          ],
          "histogram": [
           {
            "marker": {
             "pattern": {
              "fillmode": "overlay",
              "size": 10,
              "solidity": 0.2
             }
            },
            "type": "histogram"
           }
          ],
          "histogram2d": [
           {
            "colorbar": {
             "outlinewidth": 0,
             "ticks": ""
            },
            "colorscale": [
             [
              0,
              "#0d0887"
             ],
             [
              0.1111111111111111,
              "#46039f"
             ],
             [
              0.2222222222222222,
              "#7201a8"
             ],
             [
              0.3333333333333333,
              "#9c179e"
             ],
             [
              0.4444444444444444,
              "#bd3786"
             ],
             [
              0.5555555555555556,
              "#d8576b"
             ],
             [
              0.6666666666666666,
              "#ed7953"
             ],
             [
              0.7777777777777778,
              "#fb9f3a"
             ],
             [
              0.8888888888888888,
              "#fdca26"
             ],
             [
              1,
              "#f0f921"
             ]
            ],
            "type": "histogram2d"
           }
          ],
          "histogram2dcontour": [
           {
            "colorbar": {
             "outlinewidth": 0,
             "ticks": ""
            },
            "colorscale": [
             [
              0,
              "#0d0887"
             ],
             [
              0.1111111111111111,
              "#46039f"
             ],
             [
              0.2222222222222222,
              "#7201a8"
             ],
             [
              0.3333333333333333,
              "#9c179e"
             ],
             [
              0.4444444444444444,
              "#bd3786"
             ],
             [
              0.5555555555555556,
              "#d8576b"
             ],
             [
              0.6666666666666666,
              "#ed7953"
             ],
             [
              0.7777777777777778,
              "#fb9f3a"
             ],
             [
              0.8888888888888888,
              "#fdca26"
             ],
             [
              1,
              "#f0f921"
             ]
            ],
            "type": "histogram2dcontour"
           }
          ],
          "mesh3d": [
           {
            "colorbar": {
             "outlinewidth": 0,
             "ticks": ""
            },
            "type": "mesh3d"
           }
          ],
          "parcoords": [
           {
            "line": {
             "colorbar": {
              "outlinewidth": 0,
              "ticks": ""
             }
            },
            "type": "parcoords"
           }
          ],
          "pie": [
           {
            "automargin": true,
            "type": "pie"
           }
          ],
          "scatter": [
           {
            "fillpattern": {
             "fillmode": "overlay",
             "size": 10,
             "solidity": 0.2
            },
            "type": "scatter"
           }
          ],
          "scatter3d": [
           {
            "line": {
             "colorbar": {
              "outlinewidth": 0,
              "ticks": ""
             }
            },
            "marker": {
             "colorbar": {
              "outlinewidth": 0,
              "ticks": ""
             }
            },
            "type": "scatter3d"
           }
          ],
          "scattercarpet": [
           {
            "marker": {
             "colorbar": {
              "outlinewidth": 0,
              "ticks": ""
             }
            },
            "type": "scattercarpet"
           }
          ],
          "scattergeo": [
           {
            "marker": {
             "colorbar": {
              "outlinewidth": 0,
              "ticks": ""
             }
            },
            "type": "scattergeo"
           }
          ],
          "scattergl": [
           {
            "marker": {
             "colorbar": {
              "outlinewidth": 0,
              "ticks": ""
             }
            },
            "type": "scattergl"
           }
          ],
          "scattermap": [
           {
            "marker": {
             "colorbar": {
              "outlinewidth": 0,
              "ticks": ""
             }
            },
            "type": "scattermap"
           }
          ],
          "scattermapbox": [
           {
            "marker": {
             "colorbar": {
              "outlinewidth": 0,
              "ticks": ""
             }
            },
            "type": "scattermapbox"
           }
          ],
          "scatterpolar": [
           {
            "marker": {
             "colorbar": {
              "outlinewidth": 0,
              "ticks": ""
             }
            },
            "type": "scatterpolar"
           }
          ],
          "scatterpolargl": [
           {
            "marker": {
             "colorbar": {
              "outlinewidth": 0,
              "ticks": ""
             }
            },
            "type": "scatterpolargl"
           }
          ],
          "scatterternary": [
           {
            "marker": {
             "colorbar": {
              "outlinewidth": 0,
              "ticks": ""
             }
            },
            "type": "scatterternary"
           }
          ],
          "surface": [
           {
            "colorbar": {
             "outlinewidth": 0,
             "ticks": ""
            },
            "colorscale": [
             [
              0,
              "#0d0887"
             ],
             [
              0.1111111111111111,
              "#46039f"
             ],
             [
              0.2222222222222222,
              "#7201a8"
             ],
             [
              0.3333333333333333,
              "#9c179e"
             ],
             [
              0.4444444444444444,
              "#bd3786"
             ],
             [
              0.5555555555555556,
              "#d8576b"
             ],
             [
              0.6666666666666666,
              "#ed7953"
             ],
             [
              0.7777777777777778,
              "#fb9f3a"
             ],
             [
              0.8888888888888888,
              "#fdca26"
             ],
             [
              1,
              "#f0f921"
             ]
            ],
            "type": "surface"
           }
          ],
          "table": [
           {
            "cells": {
             "fill": {
              "color": "#EBF0F8"
             },
             "line": {
              "color": "white"
             }
            },
            "header": {
             "fill": {
              "color": "#C8D4E3"
             },
             "line": {
              "color": "white"
             }
            },
            "type": "table"
           }
          ]
         },
         "layout": {
          "annotationdefaults": {
           "arrowcolor": "#2a3f5f",
           "arrowhead": 0,
           "arrowwidth": 1
          },
          "autotypenumbers": "strict",
          "coloraxis": {
           "colorbar": {
            "outlinewidth": 0,
            "ticks": ""
           }
          },
          "colorscale": {
           "diverging": [
            [
             0,
             "#8e0152"
            ],
            [
             0.1,
             "#c51b7d"
            ],
            [
             0.2,
             "#de77ae"
            ],
            [
             0.3,
             "#f1b6da"
            ],
            [
             0.4,
             "#fde0ef"
            ],
            [
             0.5,
             "#f7f7f7"
            ],
            [
             0.6,
             "#e6f5d0"
            ],
            [
             0.7,
             "#b8e186"
            ],
            [
             0.8,
             "#7fbc41"
            ],
            [
             0.9,
             "#4d9221"
            ],
            [
             1,
             "#276419"
            ]
           ],
           "sequential": [
            [
             0,
             "#0d0887"
            ],
            [
             0.1111111111111111,
             "#46039f"
            ],
            [
             0.2222222222222222,
             "#7201a8"
            ],
            [
             0.3333333333333333,
             "#9c179e"
            ],
            [
             0.4444444444444444,
             "#bd3786"
            ],
            [
             0.5555555555555556,
             "#d8576b"
            ],
            [
             0.6666666666666666,
             "#ed7953"
            ],
            [
             0.7777777777777778,
             "#fb9f3a"
            ],
            [
             0.8888888888888888,
             "#fdca26"
            ],
            [
             1,
             "#f0f921"
            ]
           ],
           "sequentialminus": [
            [
             0,
             "#0d0887"
            ],
            [
             0.1111111111111111,
             "#46039f"
            ],
            [
             0.2222222222222222,
             "#7201a8"
            ],
            [
             0.3333333333333333,
             "#9c179e"
            ],
            [
             0.4444444444444444,
             "#bd3786"
            ],
            [
             0.5555555555555556,
             "#d8576b"
            ],
            [
             0.6666666666666666,
             "#ed7953"
            ],
            [
             0.7777777777777778,
             "#fb9f3a"
            ],
            [
             0.8888888888888888,
             "#fdca26"
            ],
            [
             1,
             "#f0f921"
            ]
           ]
          },
          "colorway": [
           "#636efa",
           "#EF553B",
           "#00cc96",
           "#ab63fa",
           "#FFA15A",
           "#19d3f3",
           "#FF6692",
           "#B6E880",
           "#FF97FF",
           "#FECB52"
          ],
          "font": {
           "color": "#2a3f5f"
          },
          "geo": {
           "bgcolor": "white",
           "lakecolor": "white",
           "landcolor": "#E5ECF6",
           "showlakes": true,
           "showland": true,
           "subunitcolor": "white"
          },
          "hoverlabel": {
           "align": "left"
          },
          "hovermode": "closest",
          "mapbox": {
           "style": "light"
          },
          "paper_bgcolor": "white",
          "plot_bgcolor": "#E5ECF6",
          "polar": {
           "angularaxis": {
            "gridcolor": "white",
            "linecolor": "white",
            "ticks": ""
           },
           "bgcolor": "#E5ECF6",
           "radialaxis": {
            "gridcolor": "white",
            "linecolor": "white",
            "ticks": ""
           }
          },
          "scene": {
           "xaxis": {
            "backgroundcolor": "#E5ECF6",
            "gridcolor": "white",
            "gridwidth": 2,
            "linecolor": "white",
            "showbackground": true,
            "ticks": "",
            "zerolinecolor": "white"
           },
           "yaxis": {
            "backgroundcolor": "#E5ECF6",
            "gridcolor": "white",
            "gridwidth": 2,
            "linecolor": "white",
            "showbackground": true,
            "ticks": "",
            "zerolinecolor": "white"
           },
           "zaxis": {
            "backgroundcolor": "#E5ECF6",
            "gridcolor": "white",
            "gridwidth": 2,
            "linecolor": "white",
            "showbackground": true,
            "ticks": "",
            "zerolinecolor": "white"
           }
          },
          "shapedefaults": {
           "line": {
            "color": "#2a3f5f"
           }
          },
          "ternary": {
           "aaxis": {
            "gridcolor": "white",
            "linecolor": "white",
            "ticks": ""
           },
           "baxis": {
            "gridcolor": "white",
            "linecolor": "white",
            "ticks": ""
           },
           "bgcolor": "#E5ECF6",
           "caxis": {
            "gridcolor": "white",
            "linecolor": "white",
            "ticks": ""
           }
          },
          "title": {
           "x": 0.05
          },
          "xaxis": {
           "automargin": true,
           "gridcolor": "white",
           "linecolor": "white",
           "ticks": "",
           "title": {
            "standoff": 15
           },
           "zerolinecolor": "white",
           "zerolinewidth": 2
          },
          "yaxis": {
           "automargin": true,
           "gridcolor": "white",
           "linecolor": "white",
           "ticks": "",
           "title": {
            "standoff": 15
           },
           "zerolinecolor": "white",
           "zerolinewidth": 2
          }
         }
        },
        "title": {
         "text": "TOP 20",
         "x": 0.5
        },
        "width": 600,
        "xaxis": {
         "anchor": "y",
         "domain": [
          0,
          0.94
         ]
        },
        "yaxis": {
         "anchor": "x",
         "domain": [
          0,
          1
         ],
         "side": "right"
        },
        "yaxis2": {
         "anchor": "x",
         "overlaying": "y",
         "side": "right"
        }
       }
      }
     },
     "metadata": {},
     "output_type": "display_data"
    },
    {
     "data": {
      "application/vnd.plotly.v1+json": {
       "config": {
        "plotlyServerURL": "https://plot.ly"
       },
       "data": [
        {
         "name": "MDB: 38.86 %",
         "type": "scatter",
         "x": [
          "2024-07-17",
          "2024-07-18",
          "2024-07-19",
          "2024-07-22",
          "2024-07-23",
          "2024-07-24",
          "2024-07-25",
          "2024-07-26",
          "2024-07-29",
          "2024-07-30",
          "2024-07-31",
          "2024-08-01",
          "2024-08-02",
          "2024-08-05",
          "2024-08-06",
          "2024-08-07",
          "2024-08-08",
          "2024-08-09",
          "2024-08-12",
          "2024-08-13",
          "2024-08-14",
          "2024-08-15",
          "2024-08-16",
          "2024-08-19",
          "2024-08-20",
          "2024-08-21",
          "2024-08-22",
          "2024-08-23",
          "2024-08-26",
          "2024-08-27",
          "2024-08-28",
          "2024-08-29",
          "2024-08-30",
          "2024-09-03",
          "2024-09-04",
          "2024-09-05",
          "2024-09-06",
          "2024-09-09",
          "2024-09-10",
          "2024-09-11",
          "2024-09-12",
          "2024-09-13",
          "2024-09-16",
          "2024-09-17",
          "2024-09-18",
          "2024-09-19",
          "2024-09-20",
          "2024-09-23",
          "2024-09-24",
          "2024-09-25",
          "2024-09-26",
          "2024-09-27",
          "2024-09-30",
          "2024-10-01",
          "2024-10-02",
          "2024-10-03",
          "2024-10-04",
          "2024-10-07",
          "2024-10-08",
          "2024-10-09",
          "2024-10-10",
          "2024-10-11",
          "2024-10-14",
          "2024-10-15",
          "2024-10-16",
          "2024-10-17",
          "2024-10-18",
          "2024-10-21",
          "2024-10-22",
          "2024-10-23",
          "2024-10-24",
          "2024-10-25",
          "2024-10-28",
          "2024-10-29",
          "2024-10-30",
          "2024-10-31",
          "2024-11-01",
          "2024-11-04",
          "2024-11-05",
          "2024-11-06",
          "2024-11-07",
          "2024-11-08",
          "2024-11-11",
          "2024-11-12",
          "2024-11-13",
          "2024-11-14",
          "2024-11-15",
          "2024-11-18",
          "2024-11-19",
          "2024-11-20",
          "2024-11-21",
          "2024-11-22",
          "2024-11-25",
          "2024-11-26",
          "2024-11-27",
          "2024-11-29",
          "2024-12-02",
          "2024-12-03",
          "2024-12-04",
          "2024-12-05",
          "2024-12-06",
          "2024-12-09",
          "2024-12-10",
          "2024-12-11",
          "2024-12-12",
          "2024-12-13",
          "2024-12-16",
          "2024-12-17",
          "2024-12-18",
          "2024-12-19",
          "2024-12-20",
          "2024-12-23",
          "2024-12-24",
          "2024-12-26",
          "2024-12-27",
          "2024-12-30",
          "2024-12-31",
          "2025-01-02",
          "2025-01-03",
          "2025-01-06",
          "2025-01-07",
          "2025-01-08",
          "2025-01-10",
          "2025-01-13",
          "2025-01-14",
          "2025-01-15",
          "2025-01-16",
          "2025-01-17",
          "2025-01-21",
          "2025-01-22",
          "2025-01-23",
          "2025-01-24",
          "2025-01-27",
          "2025-01-28",
          "2025-01-29",
          "2025-01-30",
          "2025-01-31",
          "2025-02-03",
          "2025-02-04",
          "2025-02-05",
          "2025-02-06",
          "2025-02-07",
          "2025-02-10",
          "2025-02-11",
          "2025-02-12",
          "2025-02-13",
          "2025-02-14",
          "2025-02-18",
          "2025-02-19",
          "2025-02-20",
          "2025-02-21",
          "2025-02-24",
          "2025-02-25",
          "2025-02-26",
          "2025-02-27",
          "2025-02-28",
          "2025-03-03",
          "2025-03-04",
          "2025-03-05",
          "2025-03-06",
          "2025-03-07",
          "2025-03-10",
          "2025-03-11",
          "2025-03-12",
          "2025-03-13",
          "2025-03-14",
          "2025-03-17",
          "2025-03-18",
          "2025-03-19",
          "2025-03-20",
          "2025-03-21",
          "2025-03-24",
          "2025-03-25",
          "2025-03-26",
          "2025-03-27",
          "2025-03-28",
          "2025-03-31",
          "2025-04-01",
          "2025-04-02",
          "2025-04-03",
          "2025-04-04",
          "2025-04-07",
          "2025-04-08",
          "2025-04-09",
          "2025-04-10",
          "2025-04-11",
          "2025-04-14",
          "2025-04-15",
          "2025-04-16",
          "2025-04-17",
          "2025-04-21",
          "2025-04-22",
          "2025-04-23",
          "2025-04-24",
          "2025-04-25",
          "2025-04-28",
          "2025-04-29",
          "2025-04-30",
          "2025-05-01",
          "2025-05-02",
          "2025-05-05",
          "2025-05-06",
          "2025-05-07",
          "2025-05-08",
          "2025-05-09",
          "2025-05-12",
          "2025-05-13",
          "2025-05-14",
          "2025-05-15",
          "2025-05-16",
          "2025-05-19",
          "2025-05-20",
          "2025-05-21",
          "2025-05-22",
          "2025-05-23",
          "2025-05-27",
          "2025-05-28",
          "2025-05-29",
          "2025-05-30",
          "2025-06-02",
          "2025-06-03",
          "2025-06-04",
          "2025-06-05",
          "2025-06-06",
          "2025-06-09",
          "2025-06-10",
          "2025-06-11",
          "2025-06-12",
          "2025-06-13",
          "2025-06-16",
          "2025-06-17",
          "2025-06-18",
          "2025-06-20",
          "2025-06-23",
          "2025-06-24",
          "2025-06-25",
          "2025-06-26",
          "2025-06-27",
          "2025-06-30",
          "2025-07-01",
          "2025-07-02",
          "2025-07-03",
          "2025-07-07",
          "2025-07-08",
          "2025-07-09",
          "2025-07-10",
          "2025-07-11",
          "2025-07-14",
          "2025-07-15",
          "2025-07-16",
          "2025-07-17",
          "2025-07-18",
          "2025-07-21",
          "2025-07-22",
          "2025-07-23",
          "2025-07-24",
          "2025-07-25",
          "2025-07-28",
          "2025-07-29",
          "2025-07-30",
          "2025-07-31",
          "2025-08-01",
          "2025-08-04",
          "2025-08-05",
          "2025-08-06",
          "2025-08-07",
          "2025-08-08",
          "2025-08-11",
          "2025-08-12",
          "2025-08-13",
          "2025-08-14",
          "2025-08-15",
          "2025-08-18",
          "2025-08-19",
          "2025-08-20",
          "2025-08-21",
          "2025-08-22",
          "2025-08-25",
          "2025-08-26",
          "2025-08-27",
          "2025-08-28",
          "2025-08-29",
          "2025-09-02",
          "2025-09-03",
          "2025-09-04",
          "2025-09-05",
          "2025-09-08",
          "2025-09-09",
          "2025-09-10"
         ],
         "xaxis": "x",
         "y": {
          "bdata": "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",
          "dtype": "f8"
         },
         "yaxis": "y"
        },
        {
         "name": "SMA 50",
         "type": "scatter",
         "x": [
          "2024-07-17",
          "2024-07-18",
          "2024-07-19",
          "2024-07-22",
          "2024-07-23",
          "2024-07-24",
          "2024-07-25",
          "2024-07-26",
          "2024-07-29",
          "2024-07-30",
          "2024-07-31",
          "2024-08-01",
          "2024-08-02",
          "2024-08-05",
          "2024-08-06",
          "2024-08-07",
          "2024-08-08",
          "2024-08-09",
          "2024-08-12",
          "2024-08-13",
          "2024-08-14",
          "2024-08-15",
          "2024-08-16",
          "2024-08-19",
          "2024-08-20",
          "2024-08-21",
          "2024-08-22",
          "2024-08-23",
          "2024-08-26",
          "2024-08-27",
          "2024-08-28",
          "2024-08-29",
          "2024-08-30",
          "2024-09-03",
          "2024-09-04",
          "2024-09-05",
          "2024-09-06",
          "2024-09-09",
          "2024-09-10",
          "2024-09-11",
          "2024-09-12",
          "2024-09-13",
          "2024-09-16",
          "2024-09-17",
          "2024-09-18",
          "2024-09-19",
          "2024-09-20",
          "2024-09-23",
          "2024-09-24",
          "2024-09-25",
          "2024-09-26",
          "2024-09-27",
          "2024-09-30",
          "2024-10-01",
          "2024-10-02",
          "2024-10-03",
          "2024-10-04",
          "2024-10-07",
          "2024-10-08",
          "2024-10-09",
          "2024-10-10",
          "2024-10-11",
          "2024-10-14",
          "2024-10-15",
          "2024-10-16",
          "2024-10-17",
          "2024-10-18",
          "2024-10-21",
          "2024-10-22",
          "2024-10-23",
          "2024-10-24",
          "2024-10-25",
          "2024-10-28",
          "2024-10-29",
          "2024-10-30",
          "2024-10-31",
          "2024-11-01",
          "2024-11-04",
          "2024-11-05",
          "2024-11-06",
          "2024-11-07",
          "2024-11-08",
          "2024-11-11",
          "2024-11-12",
          "2024-11-13",
          "2024-11-14",
          "2024-11-15",
          "2024-11-18",
          "2024-11-19",
          "2024-11-20",
          "2024-11-21",
          "2024-11-22",
          "2024-11-25",
          "2024-11-26",
          "2024-11-27",
          "2024-11-29",
          "2024-12-02",
          "2024-12-03",
          "2024-12-04",
          "2024-12-05",
          "2024-12-06",
          "2024-12-09",
          "2024-12-10",
          "2024-12-11",
          "2024-12-12",
          "2024-12-13",
          "2024-12-16",
          "2024-12-17",
          "2024-12-18",
          "2024-12-19",
          "2024-12-20",
          "2024-12-23",
          "2024-12-24",
          "2024-12-26",
          "2024-12-27",
          "2024-12-30",
          "2024-12-31",
          "2025-01-02",
          "2025-01-03",
          "2025-01-06",
          "2025-01-07",
          "2025-01-08",
          "2025-01-10",
          "2025-01-13",
          "2025-01-14",
          "2025-01-15",
          "2025-01-16",
          "2025-01-17",
          "2025-01-21",
          "2025-01-22",
          "2025-01-23",
          "2025-01-24",
          "2025-01-27",
          "2025-01-28",
          "2025-01-29",
          "2025-01-30",
          "2025-01-31",
          "2025-02-03",
          "2025-02-04",
          "2025-02-05",
          "2025-02-06",
          "2025-02-07",
          "2025-02-10",
          "2025-02-11",
          "2025-02-12",
          "2025-02-13",
          "2025-02-14",
          "2025-02-18",
          "2025-02-19",
          "2025-02-20",
          "2025-02-21",
          "2025-02-24",
          "2025-02-25",
          "2025-02-26",
          "2025-02-27",
          "2025-02-28",
          "2025-03-03",
          "2025-03-04",
          "2025-03-05",
          "2025-03-06",
          "2025-03-07",
          "2025-03-10",
          "2025-03-11",
          "2025-03-12",
          "2025-03-13",
          "2025-03-14",
          "2025-03-17",
          "2025-03-18",
          "2025-03-19",
          "2025-03-20",
          "2025-03-21",
          "2025-03-24",
          "2025-03-25",
          "2025-03-26",
          "2025-03-27",
          "2025-03-28",
          "2025-03-31",
          "2025-04-01",
          "2025-04-02",
          "2025-04-03",
          "2025-04-04",
          "2025-04-07",
          "2025-04-08",
          "2025-04-09",
          "2025-04-10",
          "2025-04-11",
          "2025-04-14",
          "2025-04-15",
          "2025-04-16",
          "2025-04-17",
          "2025-04-21",
          "2025-04-22",
          "2025-04-23",
          "2025-04-24",
          "2025-04-25",
          "2025-04-28",
          "2025-04-29",
          "2025-04-30",
          "2025-05-01",
          "2025-05-02",
          "2025-05-05",
          "2025-05-06",
          "2025-05-07",
          "2025-05-08",
          "2025-05-09",
          "2025-05-12",
          "2025-05-13",
          "2025-05-14",
          "2025-05-15",
          "2025-05-16",
          "2025-05-19",
          "2025-05-20",
          "2025-05-21",
          "2025-05-22",
          "2025-05-23",
          "2025-05-27",
          "2025-05-28",
          "2025-05-29",
          "2025-05-30",
          "2025-06-02",
          "2025-06-03",
          "2025-06-04",
          "2025-06-05",
          "2025-06-06",
          "2025-06-09",
          "2025-06-10",
          "2025-06-11",
          "2025-06-12",
          "2025-06-13",
          "2025-06-16",
          "2025-06-17",
          "2025-06-18",
          "2025-06-20",
          "2025-06-23",
          "2025-06-24",
          "2025-06-25",
          "2025-06-26",
          "2025-06-27",
          "2025-06-30",
          "2025-07-01",
          "2025-07-02",
          "2025-07-03",
          "2025-07-07",
          "2025-07-08",
          "2025-07-09",
          "2025-07-10",
          "2025-07-11",
          "2025-07-14",
          "2025-07-15",
          "2025-07-16",
          "2025-07-17",
          "2025-07-18",
          "2025-07-21",
          "2025-07-22",
          "2025-07-23",
          "2025-07-24",
          "2025-07-25",
          "2025-07-28",
          "2025-07-29",
          "2025-07-30",
          "2025-07-31",
          "2025-08-01",
          "2025-08-04",
          "2025-08-05",
          "2025-08-06",
          "2025-08-07",
          "2025-08-08",
          "2025-08-11",
          "2025-08-12",
          "2025-08-13",
          "2025-08-14",
          "2025-08-15",
          "2025-08-18",
          "2025-08-19",
          "2025-08-20",
          "2025-08-21",
          "2025-08-22",
          "2025-08-25",
          "2025-08-26",
          "2025-08-27",
          "2025-08-28",
          "2025-08-29",
          "2025-09-02",
          "2025-09-03",
          "2025-09-04",
          "2025-09-05",
          "2025-09-08",
          "2025-09-09",
          "2025-09-10"
         ],
         "xaxis": "x",
         "y": {
          "bdata": "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",
          "dtype": "f8"
         },
         "yaxis": "y"
        }
       ],
       "layout": {
        "annotations": [
         {
          "font": {
           "size": 8
          },
          "showarrow": false,
          "text": "Date: 2025-09-10, Open:334.87, High:344.85, Low:333.21, Close: 333.98",
          "x": 0.01,
          "xref": "x domain",
          "y": 1,
          "yref": "y domain"
         }
        ],
        "height": 400,
        "legend": {
         "font": {
          "size": 8
         },
         "title": {
          "font": {
           "family": "Arial"
          }
         }
        },
        "template": {
         "data": {
          "bar": [
           {
            "error_x": {
             "color": "#2a3f5f"
            },
            "error_y": {
             "color": "#2a3f5f"
            },
            "marker": {
             "line": {
              "color": "#E5ECF6",
              "width": 0.5
             },
             "pattern": {
              "fillmode": "overlay",
              "size": 10,
              "solidity": 0.2
             }
            },
            "type": "bar"
           }
          ],
          "barpolar": [
           {
            "marker": {
             "line": {
              "color": "#E5ECF6",
              "width": 0.5
             },
             "pattern": {
              "fillmode": "overlay",
              "size": 10,
              "solidity": 0.2
             }
            },
            "type": "barpolar"
           }
          ],
          "carpet": [
           {
            "aaxis": {
             "endlinecolor": "#2a3f5f",
             "gridcolor": "white",
             "linecolor": "white",
             "minorgridcolor": "white",
             "startlinecolor": "#2a3f5f"
            },
            "baxis": {
             "endlinecolor": "#2a3f5f",
             "gridcolor": "white",
             "linecolor": "white",
             "minorgridcolor": "white",
             "startlinecolor": "#2a3f5f"
            },
            "type": "carpet"
           }
          ],
          "choropleth": [
           {
            "colorbar": {
             "outlinewidth": 0,
             "ticks": ""
            },
            "type": "choropleth"
           }
          ],
          "contour": [
           {
            "colorbar": {
             "outlinewidth": 0,
             "ticks": ""
            },
            "colorscale": [
             [
              0,
              "#0d0887"
             ],
             [
              0.1111111111111111,
              "#46039f"
             ],
             [
              0.2222222222222222,
              "#7201a8"
             ],
             [
              0.3333333333333333,
              "#9c179e"
             ],
             [
              0.4444444444444444,
              "#bd3786"
             ],
             [
              0.5555555555555556,
              "#d8576b"
             ],
             [
              0.6666666666666666,
              "#ed7953"
             ],
             [
              0.7777777777777778,
              "#fb9f3a"
             ],
             [
              0.8888888888888888,
              "#fdca26"
             ],
             [
              1,
              "#f0f921"
             ]
            ],
            "type": "contour"
           }
          ],
          "contourcarpet": [
           {
            "colorbar": {
             "outlinewidth": 0,
             "ticks": ""
            },
            "type": "contourcarpet"
           }
          ],
          "heatmap": [
           {
            "colorbar": {
             "outlinewidth": 0,
             "ticks": ""
            },
            "colorscale": [
             [
              0,
              "#0d0887"
             ],
             [
              0.1111111111111111,
              "#46039f"
             ],
             [
              0.2222222222222222,
              "#7201a8"
             ],
             [
              0.3333333333333333,
              "#9c179e"
             ],
             [
              0.4444444444444444,
              "#bd3786"
             ],
             [
              0.5555555555555556,
              "#d8576b"
             ],
             [
              0.6666666666666666,
              "#ed7953"
             ],
             [
              0.7777777777777778,
              "#fb9f3a"
             ],
             [
              0.8888888888888888,
              "#fdca26"
             ],
             [
              1,
              "#f0f921"
             ]
            ],
            "type": "heatmap"
           }
          ],
          "histogram": [
           {
            "marker": {
             "pattern": {
              "fillmode": "overlay",
              "size": 10,
              "solidity": 0.2
             }
            },
            "type": "histogram"
           }
          ],
          "histogram2d": [
           {
            "colorbar": {
             "outlinewidth": 0,
             "ticks": ""
            },
            "colorscale": [
             [
              0,
              "#0d0887"
             ],
             [
              0.1111111111111111,
              "#46039f"
             ],
             [
              0.2222222222222222,
              "#7201a8"
             ],
             [
              0.3333333333333333,
              "#9c179e"
             ],
             [
              0.4444444444444444,
              "#bd3786"
             ],
             [
              0.5555555555555556,
              "#d8576b"
             ],
             [
              0.6666666666666666,
              "#ed7953"
             ],
             [
              0.7777777777777778,
              "#fb9f3a"
             ],
             [
              0.8888888888888888,
              "#fdca26"
             ],
             [
              1,
              "#f0f921"
             ]
            ],
            "type": "histogram2d"
           }
          ],
          "histogram2dcontour": [
           {
            "colorbar": {
             "outlinewidth": 0,
             "ticks": ""
            },
            "colorscale": [
             [
              0,
              "#0d0887"
             ],
             [
              0.1111111111111111,
              "#46039f"
             ],
             [
              0.2222222222222222,
              "#7201a8"
             ],
             [
              0.3333333333333333,
              "#9c179e"
             ],
             [
              0.4444444444444444,
              "#bd3786"
             ],
             [
              0.5555555555555556,
              "#d8576b"
             ],
             [
              0.6666666666666666,
              "#ed7953"
             ],
             [
              0.7777777777777778,
              "#fb9f3a"
             ],
             [
              0.8888888888888888,
              "#fdca26"
             ],
             [
              1,
              "#f0f921"
             ]
            ],
            "type": "histogram2dcontour"
           }
          ],
          "mesh3d": [
           {
            "colorbar": {
             "outlinewidth": 0,
             "ticks": ""
            },
            "type": "mesh3d"
           }
          ],
          "parcoords": [
           {
            "line": {
             "colorbar": {
              "outlinewidth": 0,
              "ticks": ""
             }
            },
            "type": "parcoords"
           }
          ],
          "pie": [
           {
            "automargin": true,
            "type": "pie"
           }
          ],
          "scatter": [
           {
            "fillpattern": {
             "fillmode": "overlay",
             "size": 10,
             "solidity": 0.2
            },
            "type": "scatter"
           }
          ],
          "scatter3d": [
           {
            "line": {
             "colorbar": {
              "outlinewidth": 0,
              "ticks": ""
             }
            },
            "marker": {
             "colorbar": {
              "outlinewidth": 0,
              "ticks": ""
             }
            },
            "type": "scatter3d"
           }
          ],
          "scattercarpet": [
           {
            "marker": {
             "colorbar": {
              "outlinewidth": 0,
              "ticks": ""
             }
            },
            "type": "scattercarpet"
           }
          ],
          "scattergeo": [
           {
            "marker": {
             "colorbar": {
              "outlinewidth": 0,
              "ticks": ""
             }
            },
            "type": "scattergeo"
           }
          ],
          "scattergl": [
           {
            "marker": {
             "colorbar": {
              "outlinewidth": 0,
              "ticks": ""
             }
            },
            "type": "scattergl"
           }
          ],
          "scattermap": [
           {
            "marker": {
             "colorbar": {
              "outlinewidth": 0,
              "ticks": ""
             }
            },
            "type": "scattermap"
           }
          ],
          "scattermapbox": [
           {
            "marker": {
             "colorbar": {
              "outlinewidth": 0,
              "ticks": ""
             }
            },
            "type": "scattermapbox"
           }
          ],
          "scatterpolar": [
           {
            "marker": {
             "colorbar": {
              "outlinewidth": 0,
              "ticks": ""
             }
            },
            "type": "scatterpolar"
           }
          ],
          "scatterpolargl": [
           {
            "marker": {
             "colorbar": {
              "outlinewidth": 0,
              "ticks": ""
             }
            },
            "type": "scatterpolargl"
           }
          ],
          "scatterternary": [
           {
            "marker": {
             "colorbar": {
              "outlinewidth": 0,
              "ticks": ""
             }
            },
            "type": "scatterternary"
           }
          ],
          "surface": [
           {
            "colorbar": {
             "outlinewidth": 0,
             "ticks": ""
            },
            "colorscale": [
             [
              0,
              "#0d0887"
             ],
             [
              0.1111111111111111,
              "#46039f"
             ],
             [
              0.2222222222222222,
              "#7201a8"
             ],
             [
              0.3333333333333333,
              "#9c179e"
             ],
             [
              0.4444444444444444,
              "#bd3786"
             ],
             [
              0.5555555555555556,
              "#d8576b"
             ],
             [
              0.6666666666666666,
              "#ed7953"
             ],
             [
              0.7777777777777778,
              "#fb9f3a"
             ],
             [
              0.8888888888888888,
              "#fdca26"
             ],
             [
              1,
              "#f0f921"
             ]
            ],
            "type": "surface"
           }
          ],
          "table": [
           {
            "cells": {
             "fill": {
              "color": "#EBF0F8"
             },
             "line": {
              "color": "white"
             }
            },
            "header": {
             "fill": {
              "color": "#C8D4E3"
             },
             "line": {
              "color": "white"
             }
            },
            "type": "table"
           }
          ]
         },
         "layout": {
          "annotationdefaults": {
           "arrowcolor": "#2a3f5f",
           "arrowhead": 0,
           "arrowwidth": 1
          },
          "autotypenumbers": "strict",
          "coloraxis": {
           "colorbar": {
            "outlinewidth": 0,
            "ticks": ""
           }
          },
          "colorscale": {
           "diverging": [
            [
             0,
             "#8e0152"
            ],
            [
             0.1,
             "#c51b7d"
            ],
            [
             0.2,
             "#de77ae"
            ],
            [
             0.3,
             "#f1b6da"
            ],
            [
             0.4,
             "#fde0ef"
            ],
            [
             0.5,
             "#f7f7f7"
            ],
            [
             0.6,
             "#e6f5d0"
            ],
            [
             0.7,
             "#b8e186"
            ],
            [
             0.8,
             "#7fbc41"
            ],
            [
             0.9,
             "#4d9221"
            ],
            [
             1,
             "#276419"
            ]
           ],
           "sequential": [
            [
             0,
             "#0d0887"
            ],
            [
             0.1111111111111111,
             "#46039f"
            ],
            [
             0.2222222222222222,
             "#7201a8"
            ],
            [
             0.3333333333333333,
             "#9c179e"
            ],
            [
             0.4444444444444444,
             "#bd3786"
            ],
            [
             0.5555555555555556,
             "#d8576b"
            ],
            [
             0.6666666666666666,
             "#ed7953"
            ],
            [
             0.7777777777777778,
             "#fb9f3a"
            ],
            [
             0.8888888888888888,
             "#fdca26"
            ],
            [
             1,
             "#f0f921"
            ]
           ],
           "sequentialminus": [
            [
             0,
             "#0d0887"
            ],
            [
             0.1111111111111111,
             "#46039f"
            ],
            [
             0.2222222222222222,
             "#7201a8"
            ],
            [
             0.3333333333333333,
             "#9c179e"
            ],
            [
             0.4444444444444444,
             "#bd3786"
            ],
            [
             0.5555555555555556,
             "#d8576b"
            ],
            [
             0.6666666666666666,
             "#ed7953"
            ],
            [
             0.7777777777777778,
             "#fb9f3a"
            ],
            [
             0.8888888888888888,
             "#fdca26"
            ],
            [
             1,
             "#f0f921"
            ]
           ]
          },
          "colorway": [
           "#636efa",
           "#EF553B",
           "#00cc96",
           "#ab63fa",
           "#FFA15A",
           "#19d3f3",
           "#FF6692",
           "#B6E880",
           "#FF97FF",
           "#FECB52"
          ],
          "font": {
           "color": "#2a3f5f"
          },
          "geo": {
           "bgcolor": "white",
           "lakecolor": "white",
           "landcolor": "#E5ECF6",
           "showlakes": true,
           "showland": true,
           "subunitcolor": "white"
          },
          "hoverlabel": {
           "align": "left"
          },
          "hovermode": "closest",
          "mapbox": {
           "style": "light"
          },
          "paper_bgcolor": "white",
          "plot_bgcolor": "#E5ECF6",
          "polar": {
           "angularaxis": {
            "gridcolor": "white",
            "linecolor": "white",
            "ticks": ""
           },
           "bgcolor": "#E5ECF6",
           "radialaxis": {
            "gridcolor": "white",
            "linecolor": "white",
            "ticks": ""
           }
          },
          "scene": {
           "xaxis": {
            "backgroundcolor": "#E5ECF6",
            "gridcolor": "white",
            "gridwidth": 2,
            "linecolor": "white",
            "showbackground": true,
            "ticks": "",
            "zerolinecolor": "white"
           },
           "yaxis": {
            "backgroundcolor": "#E5ECF6",
            "gridcolor": "white",
            "gridwidth": 2,
            "linecolor": "white",
            "showbackground": true,
            "ticks": "",
            "zerolinecolor": "white"
           },
           "zaxis": {
            "backgroundcolor": "#E5ECF6",
            "gridcolor": "white",
            "gridwidth": 2,
            "linecolor": "white",
            "showbackground": true,
            "ticks": "",
            "zerolinecolor": "white"
           }
          },
          "shapedefaults": {
           "line": {
            "color": "#2a3f5f"
           }
          },
          "ternary": {
           "aaxis": {
            "gridcolor": "white",
            "linecolor": "white",
            "ticks": ""
           },
           "baxis": {
            "gridcolor": "white",
            "linecolor": "white",
            "ticks": ""
           },
           "bgcolor": "#E5ECF6",
           "caxis": {
            "gridcolor": "white",
            "linecolor": "white",
            "ticks": ""
           }
          },
          "title": {
           "x": 0.05
          },
          "xaxis": {
           "automargin": true,
           "gridcolor": "white",
           "linecolor": "white",
           "ticks": "",
           "title": {
            "standoff": 15
           },
           "zerolinecolor": "white",
           "zerolinewidth": 2
          },
          "yaxis": {
           "automargin": true,
           "gridcolor": "white",
           "linecolor": "white",
           "ticks": "",
           "title": {
            "standoff": 15
           },
           "zerolinecolor": "white",
           "zerolinewidth": 2
          }
         }
        },
        "title": {
         "text": "TOP 20",
         "x": 0.5
        },
        "width": 600,
        "xaxis": {
         "anchor": "y",
         "domain": [
          0,
          0.94
         ]
        },
        "yaxis": {
         "anchor": "x",
         "domain": [
          0,
          1
         ],
         "side": "right"
        },
        "yaxis2": {
         "anchor": "x",
         "overlaying": "y",
         "side": "right"
        }
       }
      }
     },
     "metadata": {},
     "output_type": "display_data"
    },
    {
     "data": {
      "application/vnd.plotly.v1+json": {
       "config": {
        "plotlyServerURL": "https://plot.ly"
       },
       "data": [
        {
         "name": "WDC: 38.07 %",
         "type": "scatter",
         "x": [
          "2024-07-17",
          "2024-07-18",
          "2024-07-19",
          "2024-07-22",
          "2024-07-23",
          "2024-07-24",
          "2024-07-25",
          "2024-07-26",
          "2024-07-29",
          "2024-07-30",
          "2024-07-31",
          "2024-08-01",
          "2024-08-02",
          "2024-08-05",
          "2024-08-06",
          "2024-08-07",
          "2024-08-08",
          "2024-08-09",
          "2024-08-12",
          "2024-08-13",
          "2024-08-14",
          "2024-08-15",
          "2024-08-16",
          "2024-08-19",
          "2024-08-20",
          "2024-08-21",
          "2024-08-22",
          "2024-08-23",
          "2024-08-26",
          "2024-08-27",
          "2024-08-28",
          "2024-08-29",
          "2024-08-30",
          "2024-09-03",
          "2024-09-04",
          "2024-09-05",
          "2024-09-06",
          "2024-09-09",
          "2024-09-10",
          "2024-09-11",
          "2024-09-12",
          "2024-09-13",
          "2024-09-16",
          "2024-09-17",
          "2024-09-18",
          "2024-09-19",
          "2024-09-20",
          "2024-09-23",
          "2024-09-24",
          "2024-09-25",
          "2024-09-26",
          "2024-09-27",
          "2024-09-30",
          "2024-10-01",
          "2024-10-02",
          "2024-10-03",
          "2024-10-04",
          "2024-10-07",
          "2024-10-08",
          "2024-10-09",
          "2024-10-10",
          "2024-10-11",
          "2024-10-14",
          "2024-10-15",
          "2024-10-16",
          "2024-10-17",
          "2024-10-18",
          "2024-10-21",
          "2024-10-22",
          "2024-10-23",
          "2024-10-24",
          "2024-10-25",
          "2024-10-28",
          "2024-10-29",
          "2024-10-30",
          "2024-10-31",
          "2024-11-01",
          "2024-11-04",
          "2024-11-05",
          "2024-11-06",
          "2024-11-07",
          "2024-11-08",
          "2024-11-11",
          "2024-11-12",
          "2024-11-13",
          "2024-11-14",
          "2024-11-15",
          "2024-11-18",
          "2024-11-19",
          "2024-11-20",
          "2024-11-21",
          "2024-11-22",
          "2024-11-25",
          "2024-11-26",
          "2024-11-27",
          "2024-11-29",
          "2024-12-02",
          "2024-12-03",
          "2024-12-04",
          "2024-12-05",
          "2024-12-06",
          "2024-12-09",
          "2024-12-10",
          "2024-12-11",
          "2024-12-12",
          "2024-12-13",
          "2024-12-16",
          "2024-12-17",
          "2024-12-18",
          "2024-12-19",
          "2024-12-20",
          "2024-12-23",
          "2024-12-24",
          "2024-12-26",
          "2024-12-27",
          "2024-12-30",
          "2024-12-31",
          "2025-01-02",
          "2025-01-03",
          "2025-01-06",
          "2025-01-07",
          "2025-01-08",
          "2025-01-10",
          "2025-01-13",
          "2025-01-14",
          "2025-01-15",
          "2025-01-16",
          "2025-01-17",
          "2025-01-21",
          "2025-01-22",
          "2025-01-23",
          "2025-01-24",
          "2025-01-27",
          "2025-01-28",
          "2025-01-29",
          "2025-01-30",
          "2025-01-31",
          "2025-02-03",
          "2025-02-04",
          "2025-02-05",
          "2025-02-06",
          "2025-02-07",
          "2025-02-10",
          "2025-02-11",
          "2025-02-12",
          "2025-02-13",
          "2025-02-14",
          "2025-02-18",
          "2025-02-19",
          "2025-02-20",
          "2025-02-21",
          "2025-02-24",
          "2025-02-25",
          "2025-02-26",
          "2025-02-27",
          "2025-02-28",
          "2025-03-03",
          "2025-03-04",
          "2025-03-05",
          "2025-03-06",
          "2025-03-07",
          "2025-03-10",
          "2025-03-11",
          "2025-03-12",
          "2025-03-13",
          "2025-03-14",
          "2025-03-17",
          "2025-03-18",
          "2025-03-19",
          "2025-03-20",
          "2025-03-21",
          "2025-03-24",
          "2025-03-25",
          "2025-03-26",
          "2025-03-27",
          "2025-03-28",
          "2025-03-31",
          "2025-04-01",
          "2025-04-02",
          "2025-04-03",
          "2025-04-04",
          "2025-04-07",
          "2025-04-08",
          "2025-04-09",
          "2025-04-10",
          "2025-04-11",
          "2025-04-14",
          "2025-04-15",
          "2025-04-16",
          "2025-04-17",
          "2025-04-21",
          "2025-04-22",
          "2025-04-23",
          "2025-04-24",
          "2025-04-25",
          "2025-04-28",
          "2025-04-29",
          "2025-04-30",
          "2025-05-01",
          "2025-05-02",
          "2025-05-05",
          "2025-05-06",
          "2025-05-07",
          "2025-05-08",
          "2025-05-09",
          "2025-05-12",
          "2025-05-13",
          "2025-05-14",
          "2025-05-15",
          "2025-05-16",
          "2025-05-19",
          "2025-05-20",
          "2025-05-21",
          "2025-05-22",
          "2025-05-23",
          "2025-05-27",
          "2025-05-28",
          "2025-05-29",
          "2025-05-30",
          "2025-06-02",
          "2025-06-03",
          "2025-06-04",
          "2025-06-05",
          "2025-06-06",
          "2025-06-09",
          "2025-06-10",
          "2025-06-11",
          "2025-06-12",
          "2025-06-13",
          "2025-06-16",
          "2025-06-17",
          "2025-06-18",
          "2025-06-20",
          "2025-06-23",
          "2025-06-24",
          "2025-06-25",
          "2025-06-26",
          "2025-06-27",
          "2025-06-30",
          "2025-07-01",
          "2025-07-02",
          "2025-07-03",
          "2025-07-07",
          "2025-07-08",
          "2025-07-09",
          "2025-07-10",
          "2025-07-11",
          "2025-07-14",
          "2025-07-15",
          "2025-07-16",
          "2025-07-17",
          "2025-07-18",
          "2025-07-21",
          "2025-07-22",
          "2025-07-23",
          "2025-07-24",
          "2025-07-25",
          "2025-07-28",
          "2025-07-29",
          "2025-07-30",
          "2025-07-31",
          "2025-08-01",
          "2025-08-04",
          "2025-08-05",
          "2025-08-06",
          "2025-08-07",
          "2025-08-08",
          "2025-08-11",
          "2025-08-12",
          "2025-08-13",
          "2025-08-14",
          "2025-08-15",
          "2025-08-18",
          "2025-08-19",
          "2025-08-20",
          "2025-08-21",
          "2025-08-22",
          "2025-08-25",
          "2025-08-26",
          "2025-08-27",
          "2025-08-28",
          "2025-08-29",
          "2025-09-02",
          "2025-09-03",
          "2025-09-04",
          "2025-09-05",
          "2025-09-08",
          "2025-09-09",
          "2025-09-10"
         ],
         "xaxis": "x",
         "y": {
          "bdata": "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",
          "dtype": "f8"
         },
         "yaxis": "y"
        },
        {
         "name": "SMA 50",
         "type": "scatter",
         "x": [
          "2024-07-17",
          "2024-07-18",
          "2024-07-19",
          "2024-07-22",
          "2024-07-23",
          "2024-07-24",
          "2024-07-25",
          "2024-07-26",
          "2024-07-29",
          "2024-07-30",
          "2024-07-31",
          "2024-08-01",
          "2024-08-02",
          "2024-08-05",
          "2024-08-06",
          "2024-08-07",
          "2024-08-08",
          "2024-08-09",
          "2024-08-12",
          "2024-08-13",
          "2024-08-14",
          "2024-08-15",
          "2024-08-16",
          "2024-08-19",
          "2024-08-20",
          "2024-08-21",
          "2024-08-22",
          "2024-08-23",
          "2024-08-26",
          "2024-08-27",
          "2024-08-28",
          "2024-08-29",
          "2024-08-30",
          "2024-09-03",
          "2024-09-04",
          "2024-09-05",
          "2024-09-06",
          "2024-09-09",
          "2024-09-10",
          "2024-09-11",
          "2024-09-12",
          "2024-09-13",
          "2024-09-16",
          "2024-09-17",
          "2024-09-18",
          "2024-09-19",
          "2024-09-20",
          "2024-09-23",
          "2024-09-24",
          "2024-09-25",
          "2024-09-26",
          "2024-09-27",
          "2024-09-30",
          "2024-10-01",
          "2024-10-02",
          "2024-10-03",
          "2024-10-04",
          "2024-10-07",
          "2024-10-08",
          "2024-10-09",
          "2024-10-10",
          "2024-10-11",
          "2024-10-14",
          "2024-10-15",
          "2024-10-16",
          "2024-10-17",
          "2024-10-18",
          "2024-10-21",
          "2024-10-22",
          "2024-10-23",
          "2024-10-24",
          "2024-10-25",
          "2024-10-28",
          "2024-10-29",
          "2024-10-30",
          "2024-10-31",
          "2024-11-01",
          "2024-11-04",
          "2024-11-05",
          "2024-11-06",
          "2024-11-07",
          "2024-11-08",
          "2024-11-11",
          "2024-11-12",
          "2024-11-13",
          "2024-11-14",
          "2024-11-15",
          "2024-11-18",
          "2024-11-19",
          "2024-11-20",
          "2024-11-21",
          "2024-11-22",
          "2024-11-25",
          "2024-11-26",
          "2024-11-27",
          "2024-11-29",
          "2024-12-02",
          "2024-12-03",
          "2024-12-04",
          "2024-12-05",
          "2024-12-06",
          "2024-12-09",
          "2024-12-10",
          "2024-12-11",
          "2024-12-12",
          "2024-12-13",
          "2024-12-16",
          "2024-12-17",
          "2024-12-18",
          "2024-12-19",
          "2024-12-20",
          "2024-12-23",
          "2024-12-24",
          "2024-12-26",
          "2024-12-27",
          "2024-12-30",
          "2024-12-31",
          "2025-01-02",
          "2025-01-03",
          "2025-01-06",
          "2025-01-07",
          "2025-01-08",
          "2025-01-10",
          "2025-01-13",
          "2025-01-14",
          "2025-01-15",
          "2025-01-16",
          "2025-01-17",
          "2025-01-21",
          "2025-01-22",
          "2025-01-23",
          "2025-01-24",
          "2025-01-27",
          "2025-01-28",
          "2025-01-29",
          "2025-01-30",
          "2025-01-31",
          "2025-02-03",
          "2025-02-04",
          "2025-02-05",
          "2025-02-06",
          "2025-02-07",
          "2025-02-10",
          "2025-02-11",
          "2025-02-12",
          "2025-02-13",
          "2025-02-14",
          "2025-02-18",
          "2025-02-19",
          "2025-02-20",
          "2025-02-21",
          "2025-02-24",
          "2025-02-25",
          "2025-02-26",
          "2025-02-27",
          "2025-02-28",
          "2025-03-03",
          "2025-03-04",
          "2025-03-05",
          "2025-03-06",
          "2025-03-07",
          "2025-03-10",
          "2025-03-11",
          "2025-03-12",
          "2025-03-13",
          "2025-03-14",
          "2025-03-17",
          "2025-03-18",
          "2025-03-19",
          "2025-03-20",
          "2025-03-21",
          "2025-03-24",
          "2025-03-25",
          "2025-03-26",
          "2025-03-27",
          "2025-03-28",
          "2025-03-31",
          "2025-04-01",
          "2025-04-02",
          "2025-04-03",
          "2025-04-04",
          "2025-04-07",
          "2025-04-08",
          "2025-04-09",
          "2025-04-10",
          "2025-04-11",
          "2025-04-14",
          "2025-04-15",
          "2025-04-16",
          "2025-04-17",
          "2025-04-21",
          "2025-04-22",
          "2025-04-23",
          "2025-04-24",
          "2025-04-25",
          "2025-04-28",
          "2025-04-29",
          "2025-04-30",
          "2025-05-01",
          "2025-05-02",
          "2025-05-05",
          "2025-05-06",
          "2025-05-07",
          "2025-05-08",
          "2025-05-09",
          "2025-05-12",
          "2025-05-13",
          "2025-05-14",
          "2025-05-15",
          "2025-05-16",
          "2025-05-19",
          "2025-05-20",
          "2025-05-21",
          "2025-05-22",
          "2025-05-23",
          "2025-05-27",
          "2025-05-28",
          "2025-05-29",
          "2025-05-30",
          "2025-06-02",
          "2025-06-03",
          "2025-06-04",
          "2025-06-05",
          "2025-06-06",
          "2025-06-09",
          "2025-06-10",
          "2025-06-11",
          "2025-06-12",
          "2025-06-13",
          "2025-06-16",
          "2025-06-17",
          "2025-06-18",
          "2025-06-20",
          "2025-06-23",
          "2025-06-24",
          "2025-06-25",
          "2025-06-26",
          "2025-06-27",
          "2025-06-30",
          "2025-07-01",
          "2025-07-02",
          "2025-07-03",
          "2025-07-07",
          "2025-07-08",
          "2025-07-09",
          "2025-07-10",
          "2025-07-11",
          "2025-07-14",
          "2025-07-15",
          "2025-07-16",
          "2025-07-17",
          "2025-07-18",
          "2025-07-21",
          "2025-07-22",
          "2025-07-23",
          "2025-07-24",
          "2025-07-25",
          "2025-07-28",
          "2025-07-29",
          "2025-07-30",
          "2025-07-31",
          "2025-08-01",
          "2025-08-04",
          "2025-08-05",
          "2025-08-06",
          "2025-08-07",
          "2025-08-08",
          "2025-08-11",
          "2025-08-12",
          "2025-08-13",
          "2025-08-14",
          "2025-08-15",
          "2025-08-18",
          "2025-08-19",
          "2025-08-20",
          "2025-08-21",
          "2025-08-22",
          "2025-08-25",
          "2025-08-26",
          "2025-08-27",
          "2025-08-28",
          "2025-08-29",
          "2025-09-02",
          "2025-09-03",
          "2025-09-04",
          "2025-09-05",
          "2025-09-08",
          "2025-09-09",
          "2025-09-10"
         ],
         "xaxis": "x",
         "y": {
          "bdata": "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",
          "dtype": "f8"
         },
         "yaxis": "y"
        }
       ],
       "layout": {
        "annotations": [
         {
          "font": {
           "size": 8
          },
          "showarrow": false,
          "text": "Date: 2025-09-10, Open:95.02, High:96.18, Low:93.92, Close: 95.89",
          "x": 0.01,
          "xref": "x domain",
          "y": 1,
          "yref": "y domain"
         }
        ],
        "height": 400,
        "legend": {
         "font": {
          "size": 8
         },
         "title": {
          "font": {
           "family": "Arial"
          }
         }
        },
        "template": {
         "data": {
          "bar": [
           {
            "error_x": {
             "color": "#2a3f5f"
            },
            "error_y": {
             "color": "#2a3f5f"
            },
            "marker": {
             "line": {
              "color": "#E5ECF6",
              "width": 0.5
             },
             "pattern": {
              "fillmode": "overlay",
              "size": 10,
              "solidity": 0.2
             }
            },
            "type": "bar"
           }
          ],
          "barpolar": [
           {
            "marker": {
             "line": {
              "color": "#E5ECF6",
              "width": 0.5
             },
             "pattern": {
              "fillmode": "overlay",
              "size": 10,
              "solidity": 0.2
             }
            },
            "type": "barpolar"
           }
          ],
          "carpet": [
           {
            "aaxis": {
             "endlinecolor": "#2a3f5f",
             "gridcolor": "white",
             "linecolor": "white",
             "minorgridcolor": "white",
             "startlinecolor": "#2a3f5f"
            },
            "baxis": {
             "endlinecolor": "#2a3f5f",
             "gridcolor": "white",
             "linecolor": "white",
             "minorgridcolor": "white",
             "startlinecolor": "#2a3f5f"
            },
            "type": "carpet"
           }
          ],
          "choropleth": [
           {
            "colorbar": {
             "outlinewidth": 0,
             "ticks": ""
            },
            "type": "choropleth"
           }
          ],
          "contour": [
           {
            "colorbar": {
             "outlinewidth": 0,
             "ticks": ""
            },
            "colorscale": [
             [
              0,
              "#0d0887"
             ],
             [
              0.1111111111111111,
              "#46039f"
             ],
             [
              0.2222222222222222,
              "#7201a8"
             ],
             [
              0.3333333333333333,
              "#9c179e"
             ],
             [
              0.4444444444444444,
              "#bd3786"
             ],
             [
              0.5555555555555556,
              "#d8576b"
             ],
             [
              0.6666666666666666,
              "#ed7953"
             ],
             [
              0.7777777777777778,
              "#fb9f3a"
             ],
             [
              0.8888888888888888,
              "#fdca26"
             ],
             [
              1,
              "#f0f921"
             ]
            ],
            "type": "contour"
           }
          ],
          "contourcarpet": [
           {
            "colorbar": {
             "outlinewidth": 0,
             "ticks": ""
            },
            "type": "contourcarpet"
           }
          ],
          "heatmap": [
           {
            "colorbar": {
             "outlinewidth": 0,
             "ticks": ""
            },
            "colorscale": [
             [
              0,
              "#0d0887"
             ],
             [
              0.1111111111111111,
              "#46039f"
             ],
             [
              0.2222222222222222,
              "#7201a8"
             ],
             [
              0.3333333333333333,
              "#9c179e"
             ],
             [
              0.4444444444444444,
              "#bd3786"
             ],
             [
              0.5555555555555556,
              "#d8576b"
             ],
             [
              0.6666666666666666,
              "#ed7953"
             ],
             [
              0.7777777777777778,
              "#fb9f3a"
             ],
             [
              0.8888888888888888,
              "#fdca26"
             ],
             [
              1,
              "#f0f921"
             ]
            ],
            "type": "heatmap"
           }
          ],
          "histogram": [
           {
            "marker": {
             "pattern": {
              "fillmode": "overlay",
              "size": 10,
              "solidity": 0.2
             }
            },
            "type": "histogram"
           }
          ],
          "histogram2d": [
           {
            "colorbar": {
             "outlinewidth": 0,
             "ticks": ""
            },
            "colorscale": [
             [
              0,
              "#0d0887"
             ],
             [
              0.1111111111111111,
              "#46039f"
             ],
             [
              0.2222222222222222,
              "#7201a8"
             ],
             [
              0.3333333333333333,
              "#9c179e"
             ],
             [
              0.4444444444444444,
              "#bd3786"
             ],
             [
              0.5555555555555556,
              "#d8576b"
             ],
             [
              0.6666666666666666,
              "#ed7953"
             ],
             [
              0.7777777777777778,
              "#fb9f3a"
             ],
             [
              0.8888888888888888,
              "#fdca26"
             ],
             [
              1,
              "#f0f921"
             ]
            ],
            "type": "histogram2d"
           }
          ],
          "histogram2dcontour": [
           {
            "colorbar": {
             "outlinewidth": 0,
             "ticks": ""
            },
            "colorscale": [
             [
              0,
              "#0d0887"
             ],
             [
              0.1111111111111111,
              "#46039f"
             ],
             [
              0.2222222222222222,
              "#7201a8"
             ],
             [
              0.3333333333333333,
              "#9c179e"
             ],
             [
              0.4444444444444444,
              "#bd3786"
             ],
             [
              0.5555555555555556,
              "#d8576b"
             ],
             [
              0.6666666666666666,
              "#ed7953"
             ],
             [
              0.7777777777777778,
              "#fb9f3a"
             ],
             [
              0.8888888888888888,
              "#fdca26"
             ],
             [
              1,
              "#f0f921"
             ]
            ],
            "type": "histogram2dcontour"
           }
          ],
          "mesh3d": [
           {
            "colorbar": {
             "outlinewidth": 0,
             "ticks": ""
            },
            "type": "mesh3d"
           }
          ],
          "parcoords": [
           {
            "line": {
             "colorbar": {
              "outlinewidth": 0,
              "ticks": ""
             }
            },
            "type": "parcoords"
           }
          ],
          "pie": [
           {
            "automargin": true,
            "type": "pie"
           }
          ],
          "scatter": [
           {
            "fillpattern": {
             "fillmode": "overlay",
             "size": 10,
             "solidity": 0.2
            },
            "type": "scatter"
           }
          ],
          "scatter3d": [
           {
            "line": {
             "colorbar": {
              "outlinewidth": 0,
              "ticks": ""
             }
            },
            "marker": {
             "colorbar": {
              "outlinewidth": 0,
              "ticks": ""
             }
            },
            "type": "scatter3d"
           }
          ],
          "scattercarpet": [
           {
            "marker": {
             "colorbar": {
              "outlinewidth": 0,
              "ticks": ""
             }
            },
            "type": "scattercarpet"
           }
          ],
          "scattergeo": [
           {
            "marker": {
             "colorbar": {
              "outlinewidth": 0,
              "ticks": ""
             }
            },
            "type": "scattergeo"
           }
          ],
          "scattergl": [
           {
            "marker": {
             "colorbar": {
              "outlinewidth": 0,
              "ticks": ""
             }
            },
            "type": "scattergl"
           }
          ],
          "scattermap": [
           {
            "marker": {
             "colorbar": {
              "outlinewidth": 0,
              "ticks": ""
             }
            },
            "type": "scattermap"
           }
          ],
          "scattermapbox": [
           {
            "marker": {
             "colorbar": {
              "outlinewidth": 0,
              "ticks": ""
             }
            },
            "type": "scattermapbox"
           }
          ],
          "scatterpolar": [
           {
            "marker": {
             "colorbar": {
              "outlinewidth": 0,
              "ticks": ""
             }
            },
            "type": "scatterpolar"
           }
          ],
          "scatterpolargl": [
           {
            "marker": {
             "colorbar": {
              "outlinewidth": 0,
              "ticks": ""
             }
            },
            "type": "scatterpolargl"
           }
          ],
          "scatterternary": [
           {
            "marker": {
             "colorbar": {
              "outlinewidth": 0,
              "ticks": ""
             }
            },
            "type": "scatterternary"
           }
          ],
          "surface": [
           {
            "colorbar": {
             "outlinewidth": 0,
             "ticks": ""
            },
            "colorscale": [
             [
              0,
              "#0d0887"
             ],
             [
              0.1111111111111111,
              "#46039f"
             ],
             [
              0.2222222222222222,
              "#7201a8"
             ],
             [
              0.3333333333333333,
              "#9c179e"
             ],
             [
              0.4444444444444444,
              "#bd3786"
             ],
             [
              0.5555555555555556,
              "#d8576b"
             ],
             [
              0.6666666666666666,
              "#ed7953"
             ],
             [
              0.7777777777777778,
              "#fb9f3a"
             ],
             [
              0.8888888888888888,
              "#fdca26"
             ],
             [
              1,
              "#f0f921"
             ]
            ],
            "type": "surface"
           }
          ],
          "table": [
           {
            "cells": {
             "fill": {
              "color": "#EBF0F8"
             },
             "line": {
              "color": "white"
             }
            },
            "header": {
             "fill": {
              "color": "#C8D4E3"
             },
             "line": {
              "color": "white"
             }
            },
            "type": "table"
           }
          ]
         },
         "layout": {
          "annotationdefaults": {
           "arrowcolor": "#2a3f5f",
           "arrowhead": 0,
           "arrowwidth": 1
          },
          "autotypenumbers": "strict",
          "coloraxis": {
           "colorbar": {
            "outlinewidth": 0,
            "ticks": ""
           }
          },
          "colorscale": {
           "diverging": [
            [
             0,
             "#8e0152"
            ],
            [
             0.1,
             "#c51b7d"
            ],
            [
             0.2,
             "#de77ae"
            ],
            [
             0.3,
             "#f1b6da"
            ],
            [
             0.4,
             "#fde0ef"
            ],
            [
             0.5,
             "#f7f7f7"
            ],
            [
             0.6,
             "#e6f5d0"
            ],
            [
             0.7,
             "#b8e186"
            ],
            [
             0.8,
             "#7fbc41"
            ],
            [
             0.9,
             "#4d9221"
            ],
            [
             1,
             "#276419"
            ]
           ],
           "sequential": [
            [
             0,
             "#0d0887"
            ],
            [
             0.1111111111111111,
             "#46039f"
            ],
            [
             0.2222222222222222,
             "#7201a8"
            ],
            [
             0.3333333333333333,
             "#9c179e"
            ],
            [
             0.4444444444444444,
             "#bd3786"
            ],
            [
             0.5555555555555556,
             "#d8576b"
            ],
            [
             0.6666666666666666,
             "#ed7953"
            ],
            [
             0.7777777777777778,
             "#fb9f3a"
            ],
            [
             0.8888888888888888,
             "#fdca26"
            ],
            [
             1,
             "#f0f921"
            ]
           ],
           "sequentialminus": [
            [
             0,
             "#0d0887"
            ],
            [
             0.1111111111111111,
             "#46039f"
            ],
            [
             0.2222222222222222,
             "#7201a8"
            ],
            [
             0.3333333333333333,
             "#9c179e"
            ],
            [
             0.4444444444444444,
             "#bd3786"
            ],
            [
             0.5555555555555556,
             "#d8576b"
            ],
            [
             0.6666666666666666,
             "#ed7953"
            ],
            [
             0.7777777777777778,
             "#fb9f3a"
            ],
            [
             0.8888888888888888,
             "#fdca26"
            ],
            [
             1,
             "#f0f921"
            ]
           ]
          },
          "colorway": [
           "#636efa",
           "#EF553B",
           "#00cc96",
           "#ab63fa",
           "#FFA15A",
           "#19d3f3",
           "#FF6692",
           "#B6E880",
           "#FF97FF",
           "#FECB52"
          ],
          "font": {
           "color": "#2a3f5f"
          },
          "geo": {
           "bgcolor": "white",
           "lakecolor": "white",
           "landcolor": "#E5ECF6",
           "showlakes": true,
           "showland": true,
           "subunitcolor": "white"
          },
          "hoverlabel": {
           "align": "left"
          },
          "hovermode": "closest",
          "mapbox": {
           "style": "light"
          },
          "paper_bgcolor": "white",
          "plot_bgcolor": "#E5ECF6",
          "polar": {
           "angularaxis": {
            "gridcolor": "white",
            "linecolor": "white",
            "ticks": ""
           },
           "bgcolor": "#E5ECF6",
           "radialaxis": {
            "gridcolor": "white",
            "linecolor": "white",
            "ticks": ""
           }
          },
          "scene": {
           "xaxis": {
            "backgroundcolor": "#E5ECF6",
            "gridcolor": "white",
            "gridwidth": 2,
            "linecolor": "white",
            "showbackground": true,
            "ticks": "",
            "zerolinecolor": "white"
           },
           "yaxis": {
            "backgroundcolor": "#E5ECF6",
            "gridcolor": "white",
            "gridwidth": 2,
            "linecolor": "white",
            "showbackground": true,
            "ticks": "",
            "zerolinecolor": "white"
           },
           "zaxis": {
            "backgroundcolor": "#E5ECF6",
            "gridcolor": "white",
            "gridwidth": 2,
            "linecolor": "white",
            "showbackground": true,
            "ticks": "",
            "zerolinecolor": "white"
           }
          },
          "shapedefaults": {
           "line": {
            "color": "#2a3f5f"
           }
          },
          "ternary": {
           "aaxis": {
            "gridcolor": "white",
            "linecolor": "white",
            "ticks": ""
           },
           "baxis": {
            "gridcolor": "white",
            "linecolor": "white",
            "ticks": ""
           },
           "bgcolor": "#E5ECF6",
           "caxis": {
            "gridcolor": "white",
            "linecolor": "white",
            "ticks": ""
           }
          },
          "title": {
           "x": 0.05
          },
          "xaxis": {
           "automargin": true,
           "gridcolor": "white",
           "linecolor": "white",
           "ticks": "",
           "title": {
            "standoff": 15
           },
           "zerolinecolor": "white",
           "zerolinewidth": 2
          },
          "yaxis": {
           "automargin": true,
           "gridcolor": "white",
           "linecolor": "white",
           "ticks": "",
           "title": {
            "standoff": 15
           },
           "zerolinecolor": "white",
           "zerolinewidth": 2
          }
         }
        },
        "title": {
         "text": "TOP 20",
         "x": 0.5
        },
        "width": 600,
        "xaxis": {
         "anchor": "y",
         "domain": [
          0,
          0.94
         ]
        },
        "yaxis": {
         "anchor": "x",
         "domain": [
          0,
          1
         ],
         "side": "right"
        },
        "yaxis2": {
         "anchor": "x",
         "overlaying": "y",
         "side": "right"
        }
       }
      }
     },
     "metadata": {},
     "output_type": "display_data"
    },
    {
     "data": {
      "application/vnd.plotly.v1+json": {
       "config": {
        "plotlyServerURL": "https://plot.ly"
       },
       "data": [
        {
         "name": "STX: 36.89 %",
         "type": "scatter",
         "x": [
          "2024-07-17",
          "2024-07-18",
          "2024-07-19",
          "2024-07-22",
          "2024-07-23",
          "2024-07-24",
          "2024-07-25",
          "2024-07-26",
          "2024-07-29",
          "2024-07-30",
          "2024-07-31",
          "2024-08-01",
          "2024-08-02",
          "2024-08-05",
          "2024-08-06",
          "2024-08-07",
          "2024-08-08",
          "2024-08-09",
          "2024-08-12",
          "2024-08-13",
          "2024-08-14",
          "2024-08-15",
          "2024-08-16",
          "2024-08-19",
          "2024-08-20",
          "2024-08-21",
          "2024-08-22",
          "2024-08-23",
          "2024-08-26",
          "2024-08-27",
          "2024-08-28",
          "2024-08-29",
          "2024-08-30",
          "2024-09-03",
          "2024-09-04",
          "2024-09-05",
          "2024-09-06",
          "2024-09-09",
          "2024-09-10",
          "2024-09-11",
          "2024-09-12",
          "2024-09-13",
          "2024-09-16",
          "2024-09-17",
          "2024-09-18",
          "2024-09-19",
          "2024-09-20",
          "2024-09-23",
          "2024-09-24",
          "2024-09-25",
          "2024-09-26",
          "2024-09-27",
          "2024-09-30",
          "2024-10-01",
          "2024-10-02",
          "2024-10-03",
          "2024-10-04",
          "2024-10-07",
          "2024-10-08",
          "2024-10-09",
          "2024-10-10",
          "2024-10-11",
          "2024-10-14",
          "2024-10-15",
          "2024-10-16",
          "2024-10-17",
          "2024-10-18",
          "2024-10-21",
          "2024-10-22",
          "2024-10-23",
          "2024-10-24",
          "2024-10-25",
          "2024-10-28",
          "2024-10-29",
          "2024-10-30",
          "2024-10-31",
          "2024-11-01",
          "2024-11-04",
          "2024-11-05",
          "2024-11-06",
          "2024-11-07",
          "2024-11-08",
          "2024-11-11",
          "2024-11-12",
          "2024-11-13",
          "2024-11-14",
          "2024-11-15",
          "2024-11-18",
          "2024-11-19",
          "2024-11-20",
          "2024-11-21",
          "2024-11-22",
          "2024-11-25",
          "2024-11-26",
          "2024-11-27",
          "2024-11-29",
          "2024-12-02",
          "2024-12-03",
          "2024-12-04",
          "2024-12-05",
          "2024-12-06",
          "2024-12-09",
          "2024-12-10",
          "2024-12-11",
          "2024-12-12",
          "2024-12-13",
          "2024-12-16",
          "2024-12-17",
          "2024-12-18",
          "2024-12-19",
          "2024-12-20",
          "2024-12-23",
          "2024-12-24",
          "2024-12-26",
          "2024-12-27",
          "2024-12-30",
          "2024-12-31",
          "2025-01-02",
          "2025-01-03",
          "2025-01-06",
          "2025-01-07",
          "2025-01-08",
          "2025-01-10",
          "2025-01-13",
          "2025-01-14",
          "2025-01-15",
          "2025-01-16",
          "2025-01-17",
          "2025-01-21",
          "2025-01-22",
          "2025-01-23",
          "2025-01-24",
          "2025-01-27",
          "2025-01-28",
          "2025-01-29",
          "2025-01-30",
          "2025-01-31",
          "2025-02-03",
          "2025-02-04",
          "2025-02-05",
          "2025-02-06",
          "2025-02-07",
          "2025-02-10",
          "2025-02-11",
          "2025-02-12",
          "2025-02-13",
          "2025-02-14",
          "2025-02-18",
          "2025-02-19",
          "2025-02-20",
          "2025-02-21",
          "2025-02-24",
          "2025-02-25",
          "2025-02-26",
          "2025-02-27",
          "2025-02-28",
          "2025-03-03",
          "2025-03-04",
          "2025-03-05",
          "2025-03-06",
          "2025-03-07",
          "2025-03-10",
          "2025-03-11",
          "2025-03-12",
          "2025-03-13",
          "2025-03-14",
          "2025-03-17",
          "2025-03-18",
          "2025-03-19",
          "2025-03-20",
          "2025-03-21",
          "2025-03-24",
          "2025-03-25",
          "2025-03-26",
          "2025-03-27",
          "2025-03-28",
          "2025-03-31",
          "2025-04-01",
          "2025-04-02",
          "2025-04-03",
          "2025-04-04",
          "2025-04-07",
          "2025-04-08",
          "2025-04-09",
          "2025-04-10",
          "2025-04-11",
          "2025-04-14",
          "2025-04-15",
          "2025-04-16",
          "2025-04-17",
          "2025-04-21",
          "2025-04-22",
          "2025-04-23",
          "2025-04-24",
          "2025-04-25",
          "2025-04-28",
          "2025-04-29",
          "2025-04-30",
          "2025-05-01",
          "2025-05-02",
          "2025-05-05",
          "2025-05-06",
          "2025-05-07",
          "2025-05-08",
          "2025-05-09",
          "2025-05-12",
          "2025-05-13",
          "2025-05-14",
          "2025-05-15",
          "2025-05-16",
          "2025-05-19",
          "2025-05-20",
          "2025-05-21",
          "2025-05-22",
          "2025-05-23",
          "2025-05-27",
          "2025-05-28",
          "2025-05-29",
          "2025-05-30",
          "2025-06-02",
          "2025-06-03",
          "2025-06-04",
          "2025-06-05",
          "2025-06-06",
          "2025-06-09",
          "2025-06-10",
          "2025-06-11",
          "2025-06-12",
          "2025-06-13",
          "2025-06-16",
          "2025-06-17",
          "2025-06-18",
          "2025-06-20",
          "2025-06-23",
          "2025-06-24",
          "2025-06-25",
          "2025-06-26",
          "2025-06-27",
          "2025-06-30",
          "2025-07-01",
          "2025-07-02",
          "2025-07-03",
          "2025-07-07",
          "2025-07-08",
          "2025-07-09",
          "2025-07-10",
          "2025-07-11",
          "2025-07-14",
          "2025-07-15",
          "2025-07-16",
          "2025-07-17",
          "2025-07-18",
          "2025-07-21",
          "2025-07-22",
          "2025-07-23",
          "2025-07-24",
          "2025-07-25",
          "2025-07-28",
          "2025-07-29",
          "2025-07-30",
          "2025-07-31",
          "2025-08-01",
          "2025-08-04",
          "2025-08-05",
          "2025-08-06",
          "2025-08-07",
          "2025-08-08",
          "2025-08-11",
          "2025-08-12",
          "2025-08-13",
          "2025-08-14",
          "2025-08-15",
          "2025-08-18",
          "2025-08-19",
          "2025-08-20",
          "2025-08-21",
          "2025-08-22",
          "2025-08-25",
          "2025-08-26",
          "2025-08-27",
          "2025-08-28",
          "2025-08-29",
          "2025-09-02",
          "2025-09-03",
          "2025-09-04",
          "2025-09-05",
          "2025-09-08",
          "2025-09-09",
          "2025-09-10"
         ],
         "xaxis": "x",
         "y": {
          "bdata": "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",
          "dtype": "f8"
         },
         "yaxis": "y"
        },
        {
         "name": "SMA 50",
         "type": "scatter",
         "x": [
          "2024-07-17",
          "2024-07-18",
          "2024-07-19",
          "2024-07-22",
          "2024-07-23",
          "2024-07-24",
          "2024-07-25",
          "2024-07-26",
          "2024-07-29",
          "2024-07-30",
          "2024-07-31",
          "2024-08-01",
          "2024-08-02",
          "2024-08-05",
          "2024-08-06",
          "2024-08-07",
          "2024-08-08",
          "2024-08-09",
          "2024-08-12",
          "2024-08-13",
          "2024-08-14",
          "2024-08-15",
          "2024-08-16",
          "2024-08-19",
          "2024-08-20",
          "2024-08-21",
          "2024-08-22",
          "2024-08-23",
          "2024-08-26",
          "2024-08-27",
          "2024-08-28",
          "2024-08-29",
          "2024-08-30",
          "2024-09-03",
          "2024-09-04",
          "2024-09-05",
          "2024-09-06",
          "2024-09-09",
          "2024-09-10",
          "2024-09-11",
          "2024-09-12",
          "2024-09-13",
          "2024-09-16",
          "2024-09-17",
          "2024-09-18",
          "2024-09-19",
          "2024-09-20",
          "2024-09-23",
          "2024-09-24",
          "2024-09-25",
          "2024-09-26",
          "2024-09-27",
          "2024-09-30",
          "2024-10-01",
          "2024-10-02",
          "2024-10-03",
          "2024-10-04",
          "2024-10-07",
          "2024-10-08",
          "2024-10-09",
          "2024-10-10",
          "2024-10-11",
          "2024-10-14",
          "2024-10-15",
          "2024-10-16",
          "2024-10-17",
          "2024-10-18",
          "2024-10-21",
          "2024-10-22",
          "2024-10-23",
          "2024-10-24",
          "2024-10-25",
          "2024-10-28",
          "2024-10-29",
          "2024-10-30",
          "2024-10-31",
          "2024-11-01",
          "2024-11-04",
          "2024-11-05",
          "2024-11-06",
          "2024-11-07",
          "2024-11-08",
          "2024-11-11",
          "2024-11-12",
          "2024-11-13",
          "2024-11-14",
          "2024-11-15",
          "2024-11-18",
          "2024-11-19",
          "2024-11-20",
          "2024-11-21",
          "2024-11-22",
          "2024-11-25",
          "2024-11-26",
          "2024-11-27",
          "2024-11-29",
          "2024-12-02",
          "2024-12-03",
          "2024-12-04",
          "2024-12-05",
          "2024-12-06",
          "2024-12-09",
          "2024-12-10",
          "2024-12-11",
          "2024-12-12",
          "2024-12-13",
          "2024-12-16",
          "2024-12-17",
          "2024-12-18",
          "2024-12-19",
          "2024-12-20",
          "2024-12-23",
          "2024-12-24",
          "2024-12-26",
          "2024-12-27",
          "2024-12-30",
          "2024-12-31",
          "2025-01-02",
          "2025-01-03",
          "2025-01-06",
          "2025-01-07",
          "2025-01-08",
          "2025-01-10",
          "2025-01-13",
          "2025-01-14",
          "2025-01-15",
          "2025-01-16",
          "2025-01-17",
          "2025-01-21",
          "2025-01-22",
          "2025-01-23",
          "2025-01-24",
          "2025-01-27",
          "2025-01-28",
          "2025-01-29",
          "2025-01-30",
          "2025-01-31",
          "2025-02-03",
          "2025-02-04",
          "2025-02-05",
          "2025-02-06",
          "2025-02-07",
          "2025-02-10",
          "2025-02-11",
          "2025-02-12",
          "2025-02-13",
          "2025-02-14",
          "2025-02-18",
          "2025-02-19",
          "2025-02-20",
          "2025-02-21",
          "2025-02-24",
          "2025-02-25",
          "2025-02-26",
          "2025-02-27",
          "2025-02-28",
          "2025-03-03",
          "2025-03-04",
          "2025-03-05",
          "2025-03-06",
          "2025-03-07",
          "2025-03-10",
          "2025-03-11",
          "2025-03-12",
          "2025-03-13",
          "2025-03-14",
          "2025-03-17",
          "2025-03-18",
          "2025-03-19",
          "2025-03-20",
          "2025-03-21",
          "2025-03-24",
          "2025-03-25",
          "2025-03-26",
          "2025-03-27",
          "2025-03-28",
          "2025-03-31",
          "2025-04-01",
          "2025-04-02",
          "2025-04-03",
          "2025-04-04",
          "2025-04-07",
          "2025-04-08",
          "2025-04-09",
          "2025-04-10",
          "2025-04-11",
          "2025-04-14",
          "2025-04-15",
          "2025-04-16",
          "2025-04-17",
          "2025-04-21",
          "2025-04-22",
          "2025-04-23",
          "2025-04-24",
          "2025-04-25",
          "2025-04-28",
          "2025-04-29",
          "2025-04-30",
          "2025-05-01",
          "2025-05-02",
          "2025-05-05",
          "2025-05-06",
          "2025-05-07",
          "2025-05-08",
          "2025-05-09",
          "2025-05-12",
          "2025-05-13",
          "2025-05-14",
          "2025-05-15",
          "2025-05-16",
          "2025-05-19",
          "2025-05-20",
          "2025-05-21",
          "2025-05-22",
          "2025-05-23",
          "2025-05-27",
          "2025-05-28",
          "2025-05-29",
          "2025-05-30",
          "2025-06-02",
          "2025-06-03",
          "2025-06-04",
          "2025-06-05",
          "2025-06-06",
          "2025-06-09",
          "2025-06-10",
          "2025-06-11",
          "2025-06-12",
          "2025-06-13",
          "2025-06-16",
          "2025-06-17",
          "2025-06-18",
          "2025-06-20",
          "2025-06-23",
          "2025-06-24",
          "2025-06-25",
          "2025-06-26",
          "2025-06-27",
          "2025-06-30",
          "2025-07-01",
          "2025-07-02",
          "2025-07-03",
          "2025-07-07",
          "2025-07-08",
          "2025-07-09",
          "2025-07-10",
          "2025-07-11",
          "2025-07-14",
          "2025-07-15",
          "2025-07-16",
          "2025-07-17",
          "2025-07-18",
          "2025-07-21",
          "2025-07-22",
          "2025-07-23",
          "2025-07-24",
          "2025-07-25",
          "2025-07-28",
          "2025-07-29",
          "2025-07-30",
          "2025-07-31",
          "2025-08-01",
          "2025-08-04",
          "2025-08-05",
          "2025-08-06",
          "2025-08-07",
          "2025-08-08",
          "2025-08-11",
          "2025-08-12",
          "2025-08-13",
          "2025-08-14",
          "2025-08-15",
          "2025-08-18",
          "2025-08-19",
          "2025-08-20",
          "2025-08-21",
          "2025-08-22",
          "2025-08-25",
          "2025-08-26",
          "2025-08-27",
          "2025-08-28",
          "2025-08-29",
          "2025-09-02",
          "2025-09-03",
          "2025-09-04",
          "2025-09-05",
          "2025-09-08",
          "2025-09-09",
          "2025-09-10"
         ],
         "xaxis": "x",
         "y": {
          "bdata": "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",
          "dtype": "f8"
         },
         "yaxis": "y"
        }
       ],
       "layout": {
        "annotations": [
         {
          "font": {
           "size": 8
          },
          "showarrow": false,
          "text": "Date: 2025-09-10, Open:193.04, High:193.8, Low:189.9, Close: 193.01",
          "x": 0.01,
          "xref": "x domain",
          "y": 1,
          "yref": "y domain"
         }
        ],
        "height": 400,
        "legend": {
         "font": {
          "size": 8
         },
         "title": {
          "font": {
           "family": "Arial"
          }
         }
        },
        "template": {
         "data": {
          "bar": [
           {
            "error_x": {
             "color": "#2a3f5f"
            },
            "error_y": {
             "color": "#2a3f5f"
            },
            "marker": {
             "line": {
              "color": "#E5ECF6",
              "width": 0.5
             },
             "pattern": {
              "fillmode": "overlay",
              "size": 10,
              "solidity": 0.2
             }
            },
            "type": "bar"
           }
          ],
          "barpolar": [
           {
            "marker": {
             "line": {
              "color": "#E5ECF6",
              "width": 0.5
             },
             "pattern": {
              "fillmode": "overlay",
              "size": 10,
              "solidity": 0.2
             }
            },
            "type": "barpolar"
           }
          ],
          "carpet": [
           {
            "aaxis": {
             "endlinecolor": "#2a3f5f",
             "gridcolor": "white",
             "linecolor": "white",
             "minorgridcolor": "white",
             "startlinecolor": "#2a3f5f"
            },
            "baxis": {
             "endlinecolor": "#2a3f5f",
             "gridcolor": "white",
             "linecolor": "white",
             "minorgridcolor": "white",
             "startlinecolor": "#2a3f5f"
            },
            "type": "carpet"
           }
          ],
          "choropleth": [
           {
            "colorbar": {
             "outlinewidth": 0,
             "ticks": ""
            },
            "type": "choropleth"
           }
          ],
          "contour": [
           {
            "colorbar": {
             "outlinewidth": 0,
             "ticks": ""
            },
            "colorscale": [
             [
              0,
              "#0d0887"
             ],
             [
              0.1111111111111111,
              "#46039f"
             ],
             [
              0.2222222222222222,
              "#7201a8"
             ],
             [
              0.3333333333333333,
              "#9c179e"
             ],
             [
              0.4444444444444444,
              "#bd3786"
             ],
             [
              0.5555555555555556,
              "#d8576b"
             ],
             [
              0.6666666666666666,
              "#ed7953"
             ],
             [
              0.7777777777777778,
              "#fb9f3a"
             ],
             [
              0.8888888888888888,
              "#fdca26"
             ],
             [
              1,
              "#f0f921"
             ]
            ],
            "type": "contour"
           }
          ],
          "contourcarpet": [
           {
            "colorbar": {
             "outlinewidth": 0,
             "ticks": ""
            },
            "type": "contourcarpet"
           }
          ],
          "heatmap": [
           {
            "colorbar": {
             "outlinewidth": 0,
             "ticks": ""
            },
            "colorscale": [
             [
              0,
              "#0d0887"
             ],
             [
              0.1111111111111111,
              "#46039f"
             ],
             [
              0.2222222222222222,
              "#7201a8"
             ],
             [
              0.3333333333333333,
              "#9c179e"
             ],
             [
              0.4444444444444444,
              "#bd3786"
             ],
             [
              0.5555555555555556,
              "#d8576b"
             ],
             [
              0.6666666666666666,
              "#ed7953"
             ],
             [
              0.7777777777777778,
              "#fb9f3a"
             ],
             [
              0.8888888888888888,
              "#fdca26"
             ],
             [
              1,
              "#f0f921"
             ]
            ],
            "type": "heatmap"
           }
          ],
          "histogram": [
           {
            "marker": {
             "pattern": {
              "fillmode": "overlay",
              "size": 10,
              "solidity": 0.2
             }
            },
            "type": "histogram"
           }
          ],
          "histogram2d": [
           {
            "colorbar": {
             "outlinewidth": 0,
             "ticks": ""
            },
            "colorscale": [
             [
              0,
              "#0d0887"
             ],
             [
              0.1111111111111111,
              "#46039f"
             ],
             [
              0.2222222222222222,
              "#7201a8"
             ],
             [
              0.3333333333333333,
              "#9c179e"
             ],
             [
              0.4444444444444444,
              "#bd3786"
             ],
             [
              0.5555555555555556,
              "#d8576b"
             ],
             [
              0.6666666666666666,
              "#ed7953"
             ],
             [
              0.7777777777777778,
              "#fb9f3a"
             ],
             [
              0.8888888888888888,
              "#fdca26"
             ],
             [
              1,
              "#f0f921"
             ]
            ],
            "type": "histogram2d"
           }
          ],
          "histogram2dcontour": [
           {
            "colorbar": {
             "outlinewidth": 0,
             "ticks": ""
            },
            "colorscale": [
             [
              0,
              "#0d0887"
             ],
             [
              0.1111111111111111,
              "#46039f"
             ],
             [
              0.2222222222222222,
              "#7201a8"
             ],
             [
              0.3333333333333333,
              "#9c179e"
             ],
             [
              0.4444444444444444,
              "#bd3786"
             ],
             [
              0.5555555555555556,
              "#d8576b"
             ],
             [
              0.6666666666666666,
              "#ed7953"
             ],
             [
              0.7777777777777778,
              "#fb9f3a"
             ],
             [
              0.8888888888888888,
              "#fdca26"
             ],
             [
              1,
              "#f0f921"
             ]
            ],
            "type": "histogram2dcontour"
           }
          ],
          "mesh3d": [
           {
            "colorbar": {
             "outlinewidth": 0,
             "ticks": ""
            },
            "type": "mesh3d"
           }
          ],
          "parcoords": [
           {
            "line": {
             "colorbar": {
              "outlinewidth": 0,
              "ticks": ""
             }
            },
            "type": "parcoords"
           }
          ],
          "pie": [
           {
            "automargin": true,
            "type": "pie"
           }
          ],
          "scatter": [
           {
            "fillpattern": {
             "fillmode": "overlay",
             "size": 10,
             "solidity": 0.2
            },
            "type": "scatter"
           }
          ],
          "scatter3d": [
           {
            "line": {
             "colorbar": {
              "outlinewidth": 0,
              "ticks": ""
             }
            },
            "marker": {
             "colorbar": {
              "outlinewidth": 0,
              "ticks": ""
             }
            },
            "type": "scatter3d"
           }
          ],
          "scattercarpet": [
           {
            "marker": {
             "colorbar": {
              "outlinewidth": 0,
              "ticks": ""
             }
            },
            "type": "scattercarpet"
           }
          ],
          "scattergeo": [
           {
            "marker": {
             "colorbar": {
              "outlinewidth": 0,
              "ticks": ""
             }
            },
            "type": "scattergeo"
           }
          ],
          "scattergl": [
           {
            "marker": {
             "colorbar": {
              "outlinewidth": 0,
              "ticks": ""
             }
            },
            "type": "scattergl"
           }
          ],
          "scattermap": [
           {
            "marker": {
             "colorbar": {
              "outlinewidth": 0,
              "ticks": ""
             }
            },
            "type": "scattermap"
           }
          ],
          "scattermapbox": [
           {
            "marker": {
             "colorbar": {
              "outlinewidth": 0,
              "ticks": ""
             }
            },
            "type": "scattermapbox"
           }
          ],
          "scatterpolar": [
           {
            "marker": {
             "colorbar": {
              "outlinewidth": 0,
              "ticks": ""
             }
            },
            "type": "scatterpolar"
           }
          ],
          "scatterpolargl": [
           {
            "marker": {
             "colorbar": {
              "outlinewidth": 0,
              "ticks": ""
             }
            },
            "type": "scatterpolargl"
           }
          ],
          "scatterternary": [
           {
            "marker": {
             "colorbar": {
              "outlinewidth": 0,
              "ticks": ""
             }
            },
            "type": "scatterternary"
           }
          ],
          "surface": [
           {
            "colorbar": {
             "outlinewidth": 0,
             "ticks": ""
            },
            "colorscale": [
             [
              0,
              "#0d0887"
             ],
             [
              0.1111111111111111,
              "#46039f"
             ],
             [
              0.2222222222222222,
              "#7201a8"
             ],
             [
              0.3333333333333333,
              "#9c179e"
             ],
             [
              0.4444444444444444,
              "#bd3786"
             ],
             [
              0.5555555555555556,
              "#d8576b"
             ],
             [
              0.6666666666666666,
              "#ed7953"
             ],
             [
              0.7777777777777778,
              "#fb9f3a"
             ],
             [
              0.8888888888888888,
              "#fdca26"
             ],
             [
              1,
              "#f0f921"
             ]
            ],
            "type": "surface"
           }
          ],
          "table": [
           {
            "cells": {
             "fill": {
              "color": "#EBF0F8"
             },
             "line": {
              "color": "white"
             }
            },
            "header": {
             "fill": {
              "color": "#C8D4E3"
             },
             "line": {
              "color": "white"
             }
            },
            "type": "table"
           }
          ]
         },
         "layout": {
          "annotationdefaults": {
           "arrowcolor": "#2a3f5f",
           "arrowhead": 0,
           "arrowwidth": 1
          },
          "autotypenumbers": "strict",
          "coloraxis": {
           "colorbar": {
            "outlinewidth": 0,
            "ticks": ""
           }
          },
          "colorscale": {
           "diverging": [
            [
             0,
             "#8e0152"
            ],
            [
             0.1,
             "#c51b7d"
            ],
            [
             0.2,
             "#de77ae"
            ],
            [
             0.3,
             "#f1b6da"
            ],
            [
             0.4,
             "#fde0ef"
            ],
            [
             0.5,
             "#f7f7f7"
            ],
            [
             0.6,
             "#e6f5d0"
            ],
            [
             0.7,
             "#b8e186"
            ],
            [
             0.8,
             "#7fbc41"
            ],
            [
             0.9,
             "#4d9221"
            ],
            [
             1,
             "#276419"
            ]
           ],
           "sequential": [
            [
             0,
             "#0d0887"
            ],
            [
             0.1111111111111111,
             "#46039f"
            ],
            [
             0.2222222222222222,
             "#7201a8"
            ],
            [
             0.3333333333333333,
             "#9c179e"
            ],
            [
             0.4444444444444444,
             "#bd3786"
            ],
            [
             0.5555555555555556,
             "#d8576b"
            ],
            [
             0.6666666666666666,
             "#ed7953"
            ],
            [
             0.7777777777777778,
             "#fb9f3a"
            ],
            [
             0.8888888888888888,
             "#fdca26"
            ],
            [
             1,
             "#f0f921"
            ]
           ],
           "sequentialminus": [
            [
             0,
             "#0d0887"
            ],
            [
             0.1111111111111111,
             "#46039f"
            ],
            [
             0.2222222222222222,
             "#7201a8"
            ],
            [
             0.3333333333333333,
             "#9c179e"
            ],
            [
             0.4444444444444444,
             "#bd3786"
            ],
            [
             0.5555555555555556,
             "#d8576b"
            ],
            [
             0.6666666666666666,
             "#ed7953"
            ],
            [
             0.7777777777777778,
             "#fb9f3a"
            ],
            [
             0.8888888888888888,
             "#fdca26"
            ],
            [
             1,
             "#f0f921"
            ]
           ]
          },
          "colorway": [
           "#636efa",
           "#EF553B",
           "#00cc96",
           "#ab63fa",
           "#FFA15A",
           "#19d3f3",
           "#FF6692",
           "#B6E880",
           "#FF97FF",
           "#FECB52"
          ],
          "font": {
           "color": "#2a3f5f"
          },
          "geo": {
           "bgcolor": "white",
           "lakecolor": "white",
           "landcolor": "#E5ECF6",
           "showlakes": true,
           "showland": true,
           "subunitcolor": "white"
          },
          "hoverlabel": {
           "align": "left"
          },
          "hovermode": "closest",
          "mapbox": {
           "style": "light"
          },
          "paper_bgcolor": "white",
          "plot_bgcolor": "#E5ECF6",
          "polar": {
           "angularaxis": {
            "gridcolor": "white",
            "linecolor": "white",
            "ticks": ""
           },
           "bgcolor": "#E5ECF6",
           "radialaxis": {
            "gridcolor": "white",
            "linecolor": "white",
            "ticks": ""
           }
          },
          "scene": {
           "xaxis": {
            "backgroundcolor": "#E5ECF6",
            "gridcolor": "white",
            "gridwidth": 2,
            "linecolor": "white",
            "showbackground": true,
            "ticks": "",
            "zerolinecolor": "white"
           },
           "yaxis": {
            "backgroundcolor": "#E5ECF6",
            "gridcolor": "white",
            "gridwidth": 2,
            "linecolor": "white",
            "showbackground": true,
            "ticks": "",
            "zerolinecolor": "white"
           },
           "zaxis": {
            "backgroundcolor": "#E5ECF6",
            "gridcolor": "white",
            "gridwidth": 2,
            "linecolor": "white",
            "showbackground": true,
            "ticks": "",
            "zerolinecolor": "white"
           }
          },
          "shapedefaults": {
           "line": {
            "color": "#2a3f5f"
           }
          },
          "ternary": {
           "aaxis": {
            "gridcolor": "white",
            "linecolor": "white",
            "ticks": ""
           },
           "baxis": {
            "gridcolor": "white",
            "linecolor": "white",
            "ticks": ""
           },
           "bgcolor": "#E5ECF6",
           "caxis": {
            "gridcolor": "white",
            "linecolor": "white",
            "ticks": ""
           }
          },
          "title": {
           "x": 0.05
          },
          "xaxis": {
           "automargin": true,
           "gridcolor": "white",
           "linecolor": "white",
           "ticks": "",
           "title": {
            "standoff": 15
           },
           "zerolinecolor": "white",
           "zerolinewidth": 2
          },
          "yaxis": {
           "automargin": true,
           "gridcolor": "white",
           "linecolor": "white",
           "ticks": "",
           "title": {
            "standoff": 15
           },
           "zerolinecolor": "white",
           "zerolinewidth": 2
          }
         }
        },
        "title": {
         "text": "TOP 20",
         "x": 0.5
        },
        "width": 600,
        "xaxis": {
         "anchor": "y",
         "domain": [
          0,
          0.94
         ]
        },
        "yaxis": {
         "anchor": "x",
         "domain": [
          0,
          1
         ],
         "side": "right"
        },
        "yaxis2": {
         "anchor": "x",
         "overlaying": "y",
         "side": "right"
        }
       }
      }
     },
     "metadata": {},
     "output_type": "display_data"
    },
    {
     "data": {
      "application/vnd.plotly.v1+json": {
       "config": {
        "plotlyServerURL": "https://plot.ly"
       },
       "data": [
        {
         "name": "AFRM: 32.43 %",
         "type": "scatter",
         "x": [
          "2024-07-17",
          "2024-07-18",
          "2024-07-19",
          "2024-07-22",
          "2024-07-23",
          "2024-07-24",
          "2024-07-25",
          "2024-07-26",
          "2024-07-29",
          "2024-07-30",
          "2024-07-31",
          "2024-08-01",
          "2024-08-02",
          "2024-08-05",
          "2024-08-06",
          "2024-08-07",
          "2024-08-08",
          "2024-08-09",
          "2024-08-12",
          "2024-08-13",
          "2024-08-14",
          "2024-08-15",
          "2024-08-16",
          "2024-08-19",
          "2024-08-20",
          "2024-08-21",
          "2024-08-22",
          "2024-08-23",
          "2024-08-26",
          "2024-08-27",
          "2024-08-28",
          "2024-08-29",
          "2024-08-30",
          "2024-09-03",
          "2024-09-04",
          "2024-09-05",
          "2024-09-06",
          "2024-09-09",
          "2024-09-10",
          "2024-09-11",
          "2024-09-12",
          "2024-09-13",
          "2024-09-16",
          "2024-09-17",
          "2024-09-18",
          "2024-09-19",
          "2024-09-20",
          "2024-09-23",
          "2024-09-24",
          "2024-09-25",
          "2024-09-26",
          "2024-09-27",
          "2024-09-30",
          "2024-10-01",
          "2024-10-02",
          "2024-10-03",
          "2024-10-04",
          "2024-10-07",
          "2024-10-08",
          "2024-10-09",
          "2024-10-10",
          "2024-10-11",
          "2024-10-14",
          "2024-10-15",
          "2024-10-16",
          "2024-10-17",
          "2024-10-18",
          "2024-10-21",
          "2024-10-22",
          "2024-10-23",
          "2024-10-24",
          "2024-10-25",
          "2024-10-28",
          "2024-10-29",
          "2024-10-30",
          "2024-10-31",
          "2024-11-01",
          "2024-11-04",
          "2024-11-05",
          "2024-11-06",
          "2024-11-07",
          "2024-11-08",
          "2024-11-11",
          "2024-11-12",
          "2024-11-13",
          "2024-11-14",
          "2024-11-15",
          "2024-11-18",
          "2024-11-19",
          "2024-11-20",
          "2024-11-21",
          "2024-11-22",
          "2024-11-25",
          "2024-11-26",
          "2024-11-27",
          "2024-11-29",
          "2024-12-02",
          "2024-12-03",
          "2024-12-04",
          "2024-12-05",
          "2024-12-06",
          "2024-12-09",
          "2024-12-10",
          "2024-12-11",
          "2024-12-12",
          "2024-12-13",
          "2024-12-16",
          "2024-12-17",
          "2024-12-18",
          "2024-12-19",
          "2024-12-20",
          "2024-12-23",
          "2024-12-24",
          "2024-12-26",
          "2024-12-27",
          "2024-12-30",
          "2024-12-31",
          "2025-01-02",
          "2025-01-03",
          "2025-01-06",
          "2025-01-07",
          "2025-01-08",
          "2025-01-10",
          "2025-01-13",
          "2025-01-14",
          "2025-01-15",
          "2025-01-16",
          "2025-01-17",
          "2025-01-21",
          "2025-01-22",
          "2025-01-23",
          "2025-01-24",
          "2025-01-27",
          "2025-01-28",
          "2025-01-29",
          "2025-01-30",
          "2025-01-31",
          "2025-02-03",
          "2025-02-04",
          "2025-02-05",
          "2025-02-06",
          "2025-02-07",
          "2025-02-10",
          "2025-02-11",
          "2025-02-12",
          "2025-02-13",
          "2025-02-14",
          "2025-02-18",
          "2025-02-19",
          "2025-02-20",
          "2025-02-21",
          "2025-02-24",
          "2025-02-25",
          "2025-02-26",
          "2025-02-27",
          "2025-02-28",
          "2025-03-03",
          "2025-03-04",
          "2025-03-05",
          "2025-03-06",
          "2025-03-07",
          "2025-03-10",
          "2025-03-11",
          "2025-03-12",
          "2025-03-13",
          "2025-03-14",
          "2025-03-17",
          "2025-03-18",
          "2025-03-19",
          "2025-03-20",
          "2025-03-21",
          "2025-03-24",
          "2025-03-25",
          "2025-03-26",
          "2025-03-27",
          "2025-03-28",
          "2025-03-31",
          "2025-04-01",
          "2025-04-02",
          "2025-04-03",
          "2025-04-04",
          "2025-04-07",
          "2025-04-08",
          "2025-04-09",
          "2025-04-10",
          "2025-04-11",
          "2025-04-14",
          "2025-04-15",
          "2025-04-16",
          "2025-04-17",
          "2025-04-21",
          "2025-04-22",
          "2025-04-23",
          "2025-04-24",
          "2025-04-25",
          "2025-04-28",
          "2025-04-29",
          "2025-04-30",
          "2025-05-01",
          "2025-05-02",
          "2025-05-05",
          "2025-05-06",
          "2025-05-07",
          "2025-05-08",
          "2025-05-09",
          "2025-05-12",
          "2025-05-13",
          "2025-05-14",
          "2025-05-15",
          "2025-05-16",
          "2025-05-19",
          "2025-05-20",
          "2025-05-21",
          "2025-05-22",
          "2025-05-23",
          "2025-05-27",
          "2025-05-28",
          "2025-05-29",
          "2025-05-30",
          "2025-06-02",
          "2025-06-03",
          "2025-06-04",
          "2025-06-05",
          "2025-06-06",
          "2025-06-09",
          "2025-06-10",
          "2025-06-11",
          "2025-06-12",
          "2025-06-13",
          "2025-06-16",
          "2025-06-17",
          "2025-06-18",
          "2025-06-20",
          "2025-06-23",
          "2025-06-24",
          "2025-06-25",
          "2025-06-26",
          "2025-06-27",
          "2025-06-30",
          "2025-07-01",
          "2025-07-02",
          "2025-07-03",
          "2025-07-07",
          "2025-07-08",
          "2025-07-09",
          "2025-07-10",
          "2025-07-11",
          "2025-07-14",
          "2025-07-15",
          "2025-07-16",
          "2025-07-17",
          "2025-07-18",
          "2025-07-21",
          "2025-07-22",
          "2025-07-23",
          "2025-07-24",
          "2025-07-25",
          "2025-07-28",
          "2025-07-29",
          "2025-07-30",
          "2025-07-31",
          "2025-08-01",
          "2025-08-04",
          "2025-08-05",
          "2025-08-06",
          "2025-08-07",
          "2025-08-08",
          "2025-08-11",
          "2025-08-12",
          "2025-08-13",
          "2025-08-14",
          "2025-08-15",
          "2025-08-18",
          "2025-08-19",
          "2025-08-20",
          "2025-08-21",
          "2025-08-22",
          "2025-08-25",
          "2025-08-26",
          "2025-08-27",
          "2025-08-28",
          "2025-08-29",
          "2025-09-02",
          "2025-09-03",
          "2025-09-04",
          "2025-09-05",
          "2025-09-08",
          "2025-09-09",
          "2025-09-10"
         ],
         "xaxis": "x",
         "y": {
          "bdata": "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",
          "dtype": "f8"
         },
         "yaxis": "y"
        },
        {
         "name": "SMA 50",
         "type": "scatter",
         "x": [
          "2024-07-17",
          "2024-07-18",
          "2024-07-19",
          "2024-07-22",
          "2024-07-23",
          "2024-07-24",
          "2024-07-25",
          "2024-07-26",
          "2024-07-29",
          "2024-07-30",
          "2024-07-31",
          "2024-08-01",
          "2024-08-02",
          "2024-08-05",
          "2024-08-06",
          "2024-08-07",
          "2024-08-08",
          "2024-08-09",
          "2024-08-12",
          "2024-08-13",
          "2024-08-14",
          "2024-08-15",
          "2024-08-16",
          "2024-08-19",
          "2024-08-20",
          "2024-08-21",
          "2024-08-22",
          "2024-08-23",
          "2024-08-26",
          "2024-08-27",
          "2024-08-28",
          "2024-08-29",
          "2024-08-30",
          "2024-09-03",
          "2024-09-04",
          "2024-09-05",
          "2024-09-06",
          "2024-09-09",
          "2024-09-10",
          "2024-09-11",
          "2024-09-12",
          "2024-09-13",
          "2024-09-16",
          "2024-09-17",
          "2024-09-18",
          "2024-09-19",
          "2024-09-20",
          "2024-09-23",
          "2024-09-24",
          "2024-09-25",
          "2024-09-26",
          "2024-09-27",
          "2024-09-30",
          "2024-10-01",
          "2024-10-02",
          "2024-10-03",
          "2024-10-04",
          "2024-10-07",
          "2024-10-08",
          "2024-10-09",
          "2024-10-10",
          "2024-10-11",
          "2024-10-14",
          "2024-10-15",
          "2024-10-16",
          "2024-10-17",
          "2024-10-18",
          "2024-10-21",
          "2024-10-22",
          "2024-10-23",
          "2024-10-24",
          "2024-10-25",
          "2024-10-28",
          "2024-10-29",
          "2024-10-30",
          "2024-10-31",
          "2024-11-01",
          "2024-11-04",
          "2024-11-05",
          "2024-11-06",
          "2024-11-07",
          "2024-11-08",
          "2024-11-11",
          "2024-11-12",
          "2024-11-13",
          "2024-11-14",
          "2024-11-15",
          "2024-11-18",
          "2024-11-19",
          "2024-11-20",
          "2024-11-21",
          "2024-11-22",
          "2024-11-25",
          "2024-11-26",
          "2024-11-27",
          "2024-11-29",
          "2024-12-02",
          "2024-12-03",
          "2024-12-04",
          "2024-12-05",
          "2024-12-06",
          "2024-12-09",
          "2024-12-10",
          "2024-12-11",
          "2024-12-12",
          "2024-12-13",
          "2024-12-16",
          "2024-12-17",
          "2024-12-18",
          "2024-12-19",
          "2024-12-20",
          "2024-12-23",
          "2024-12-24",
          "2024-12-26",
          "2024-12-27",
          "2024-12-30",
          "2024-12-31",
          "2025-01-02",
          "2025-01-03",
          "2025-01-06",
          "2025-01-07",
          "2025-01-08",
          "2025-01-10",
          "2025-01-13",
          "2025-01-14",
          "2025-01-15",
          "2025-01-16",
          "2025-01-17",
          "2025-01-21",
          "2025-01-22",
          "2025-01-23",
          "2025-01-24",
          "2025-01-27",
          "2025-01-28",
          "2025-01-29",
          "2025-01-30",
          "2025-01-31",
          "2025-02-03",
          "2025-02-04",
          "2025-02-05",
          "2025-02-06",
          "2025-02-07",
          "2025-02-10",
          "2025-02-11",
          "2025-02-12",
          "2025-02-13",
          "2025-02-14",
          "2025-02-18",
          "2025-02-19",
          "2025-02-20",
          "2025-02-21",
          "2025-02-24",
          "2025-02-25",
          "2025-02-26",
          "2025-02-27",
          "2025-02-28",
          "2025-03-03",
          "2025-03-04",
          "2025-03-05",
          "2025-03-06",
          "2025-03-07",
          "2025-03-10",
          "2025-03-11",
          "2025-03-12",
          "2025-03-13",
          "2025-03-14",
          "2025-03-17",
          "2025-03-18",
          "2025-03-19",
          "2025-03-20",
          "2025-03-21",
          "2025-03-24",
          "2025-03-25",
          "2025-03-26",
          "2025-03-27",
          "2025-03-28",
          "2025-03-31",
          "2025-04-01",
          "2025-04-02",
          "2025-04-03",
          "2025-04-04",
          "2025-04-07",
          "2025-04-08",
          "2025-04-09",
          "2025-04-10",
          "2025-04-11",
          "2025-04-14",
          "2025-04-15",
          "2025-04-16",
          "2025-04-17",
          "2025-04-21",
          "2025-04-22",
          "2025-04-23",
          "2025-04-24",
          "2025-04-25",
          "2025-04-28",
          "2025-04-29",
          "2025-04-30",
          "2025-05-01",
          "2025-05-02",
          "2025-05-05",
          "2025-05-06",
          "2025-05-07",
          "2025-05-08",
          "2025-05-09",
          "2025-05-12",
          "2025-05-13",
          "2025-05-14",
          "2025-05-15",
          "2025-05-16",
          "2025-05-19",
          "2025-05-20",
          "2025-05-21",
          "2025-05-22",
          "2025-05-23",
          "2025-05-27",
          "2025-05-28",
          "2025-05-29",
          "2025-05-30",
          "2025-06-02",
          "2025-06-03",
          "2025-06-04",
          "2025-06-05",
          "2025-06-06",
          "2025-06-09",
          "2025-06-10",
          "2025-06-11",
          "2025-06-12",
          "2025-06-13",
          "2025-06-16",
          "2025-06-17",
          "2025-06-18",
          "2025-06-20",
          "2025-06-23",
          "2025-06-24",
          "2025-06-25",
          "2025-06-26",
          "2025-06-27",
          "2025-06-30",
          "2025-07-01",
          "2025-07-02",
          "2025-07-03",
          "2025-07-07",
          "2025-07-08",
          "2025-07-09",
          "2025-07-10",
          "2025-07-11",
          "2025-07-14",
          "2025-07-15",
          "2025-07-16",
          "2025-07-17",
          "2025-07-18",
          "2025-07-21",
          "2025-07-22",
          "2025-07-23",
          "2025-07-24",
          "2025-07-25",
          "2025-07-28",
          "2025-07-29",
          "2025-07-30",
          "2025-07-31",
          "2025-08-01",
          "2025-08-04",
          "2025-08-05",
          "2025-08-06",
          "2025-08-07",
          "2025-08-08",
          "2025-08-11",
          "2025-08-12",
          "2025-08-13",
          "2025-08-14",
          "2025-08-15",
          "2025-08-18",
          "2025-08-19",
          "2025-08-20",
          "2025-08-21",
          "2025-08-22",
          "2025-08-25",
          "2025-08-26",
          "2025-08-27",
          "2025-08-28",
          "2025-08-29",
          "2025-09-02",
          "2025-09-03",
          "2025-09-04",
          "2025-09-05",
          "2025-09-08",
          "2025-09-09",
          "2025-09-10"
         ],
         "xaxis": "x",
         "y": {
          "bdata": "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",
          "dtype": "f8"
         },
         "yaxis": "y"
        }
       ],
       "layout": {
        "annotations": [
         {
          "font": {
           "size": 8
          },
          "showarrow": false,
          "text": "Date: 2025-09-10, Open:84.87, High:90.14, Low:83.96, Close: 90.0",
          "x": 0.01,
          "xref": "x domain",
          "y": 1,
          "yref": "y domain"
         }
        ],
        "height": 400,
        "legend": {
         "font": {
          "size": 8
         },
         "title": {
          "font": {
           "family": "Arial"
          }
         }
        },
        "template": {
         "data": {
          "bar": [
           {
            "error_x": {
             "color": "#2a3f5f"
            },
            "error_y": {
             "color": "#2a3f5f"
            },
            "marker": {
             "line": {
              "color": "#E5ECF6",
              "width": 0.5
             },
             "pattern": {
              "fillmode": "overlay",
              "size": 10,
              "solidity": 0.2
             }
            },
            "type": "bar"
           }
          ],
          "barpolar": [
           {
            "marker": {
             "line": {
              "color": "#E5ECF6",
              "width": 0.5
             },
             "pattern": {
              "fillmode": "overlay",
              "size": 10,
              "solidity": 0.2
             }
            },
            "type": "barpolar"
           }
          ],
          "carpet": [
           {
            "aaxis": {
             "endlinecolor": "#2a3f5f",
             "gridcolor": "white",
             "linecolor": "white",
             "minorgridcolor": "white",
             "startlinecolor": "#2a3f5f"
            },
            "baxis": {
             "endlinecolor": "#2a3f5f",
             "gridcolor": "white",
             "linecolor": "white",
             "minorgridcolor": "white",
             "startlinecolor": "#2a3f5f"
            },
            "type": "carpet"
           }
          ],
          "choropleth": [
           {
            "colorbar": {
             "outlinewidth": 0,
             "ticks": ""
            },
            "type": "choropleth"
           }
          ],
          "contour": [
           {
            "colorbar": {
             "outlinewidth": 0,
             "ticks": ""
            },
            "colorscale": [
             [
              0,
              "#0d0887"
             ],
             [
              0.1111111111111111,
              "#46039f"
             ],
             [
              0.2222222222222222,
              "#7201a8"
             ],
             [
              0.3333333333333333,
              "#9c179e"
             ],
             [
              0.4444444444444444,
              "#bd3786"
             ],
             [
              0.5555555555555556,
              "#d8576b"
             ],
             [
              0.6666666666666666,
              "#ed7953"
             ],
             [
              0.7777777777777778,
              "#fb9f3a"
             ],
             [
              0.8888888888888888,
              "#fdca26"
             ],
             [
              1,
              "#f0f921"
             ]
            ],
            "type": "contour"
           }
          ],
          "contourcarpet": [
           {
            "colorbar": {
             "outlinewidth": 0,
             "ticks": ""
            },
            "type": "contourcarpet"
           }
          ],
          "heatmap": [
           {
            "colorbar": {
             "outlinewidth": 0,
             "ticks": ""
            },
            "colorscale": [
             [
              0,
              "#0d0887"
             ],
             [
              0.1111111111111111,
              "#46039f"
             ],
             [
              0.2222222222222222,
              "#7201a8"
             ],
             [
              0.3333333333333333,
              "#9c179e"
             ],
             [
              0.4444444444444444,
              "#bd3786"
             ],
             [
              0.5555555555555556,
              "#d8576b"
             ],
             [
              0.6666666666666666,
              "#ed7953"
             ],
             [
              0.7777777777777778,
              "#fb9f3a"
             ],
             [
              0.8888888888888888,
              "#fdca26"
             ],
             [
              1,
              "#f0f921"
             ]
            ],
            "type": "heatmap"
           }
          ],
          "histogram": [
           {
            "marker": {
             "pattern": {
              "fillmode": "overlay",
              "size": 10,
              "solidity": 0.2
             }
            },
            "type": "histogram"
           }
          ],
          "histogram2d": [
           {
            "colorbar": {
             "outlinewidth": 0,
             "ticks": ""
            },
            "colorscale": [
             [
              0,
              "#0d0887"
             ],
             [
              0.1111111111111111,
              "#46039f"
             ],
             [
              0.2222222222222222,
              "#7201a8"
             ],
             [
              0.3333333333333333,
              "#9c179e"
             ],
             [
              0.4444444444444444,
              "#bd3786"
             ],
             [
              0.5555555555555556,
              "#d8576b"
             ],
             [
              0.6666666666666666,
              "#ed7953"
             ],
             [
              0.7777777777777778,
              "#fb9f3a"
             ],
             [
              0.8888888888888888,
              "#fdca26"
             ],
             [
              1,
              "#f0f921"
             ]
            ],
            "type": "histogram2d"
           }
          ],
          "histogram2dcontour": [
           {
            "colorbar": {
             "outlinewidth": 0,
             "ticks": ""
            },
            "colorscale": [
             [
              0,
              "#0d0887"
             ],
             [
              0.1111111111111111,
              "#46039f"
             ],
             [
              0.2222222222222222,
              "#7201a8"
             ],
             [
              0.3333333333333333,
              "#9c179e"
             ],
             [
              0.4444444444444444,
              "#bd3786"
             ],
             [
              0.5555555555555556,
              "#d8576b"
             ],
             [
              0.6666666666666666,
              "#ed7953"
             ],
             [
              0.7777777777777778,
              "#fb9f3a"
             ],
             [
              0.8888888888888888,
              "#fdca26"
             ],
             [
              1,
              "#f0f921"
             ]
            ],
            "type": "histogram2dcontour"
           }
          ],
          "mesh3d": [
           {
            "colorbar": {
             "outlinewidth": 0,
             "ticks": ""
            },
            "type": "mesh3d"
           }
          ],
          "parcoords": [
           {
            "line": {
             "colorbar": {
              "outlinewidth": 0,
              "ticks": ""
             }
            },
            "type": "parcoords"
           }
          ],
          "pie": [
           {
            "automargin": true,
            "type": "pie"
           }
          ],
          "scatter": [
           {
            "fillpattern": {
             "fillmode": "overlay",
             "size": 10,
             "solidity": 0.2
            },
            "type": "scatter"
           }
          ],
          "scatter3d": [
           {
            "line": {
             "colorbar": {
              "outlinewidth": 0,
              "ticks": ""
             }
            },
            "marker": {
             "colorbar": {
              "outlinewidth": 0,
              "ticks": ""
             }
            },
            "type": "scatter3d"
           }
          ],
          "scattercarpet": [
           {
            "marker": {
             "colorbar": {
              "outlinewidth": 0,
              "ticks": ""
             }
            },
            "type": "scattercarpet"
           }
          ],
          "scattergeo": [
           {
            "marker": {
             "colorbar": {
              "outlinewidth": 0,
              "ticks": ""
             }
            },
            "type": "scattergeo"
           }
          ],
          "scattergl": [
           {
            "marker": {
             "colorbar": {
              "outlinewidth": 0,
              "ticks": ""
             }
            },
            "type": "scattergl"
           }
          ],
          "scattermap": [
           {
            "marker": {
             "colorbar": {
              "outlinewidth": 0,
              "ticks": ""
             }
            },
            "type": "scattermap"
           }
          ],
          "scattermapbox": [
           {
            "marker": {
             "colorbar": {
              "outlinewidth": 0,
              "ticks": ""
             }
            },
            "type": "scattermapbox"
           }
          ],
          "scatterpolar": [
           {
            "marker": {
             "colorbar": {
              "outlinewidth": 0,
              "ticks": ""
             }
            },
            "type": "scatterpolar"
           }
          ],
          "scatterpolargl": [
           {
            "marker": {
             "colorbar": {
              "outlinewidth": 0,
              "ticks": ""
             }
            },
            "type": "scatterpolargl"
           }
          ],
          "scatterternary": [
           {
            "marker": {
             "colorbar": {
              "outlinewidth": 0,
              "ticks": ""
             }
            },
            "type": "scatterternary"
           }
          ],
          "surface": [
           {
            "colorbar": {
             "outlinewidth": 0,
             "ticks": ""
            },
            "colorscale": [
             [
              0,
              "#0d0887"
             ],
             [
              0.1111111111111111,
              "#46039f"
             ],
             [
              0.2222222222222222,
              "#7201a8"
             ],
             [
              0.3333333333333333,
              "#9c179e"
             ],
             [
              0.4444444444444444,
              "#bd3786"
             ],
             [
              0.5555555555555556,
              "#d8576b"
             ],
             [
              0.6666666666666666,
              "#ed7953"
             ],
             [
              0.7777777777777778,
              "#fb9f3a"
             ],
             [
              0.8888888888888888,
              "#fdca26"
             ],
             [
              1,
              "#f0f921"
             ]
            ],
            "type": "surface"
           }
          ],
          "table": [
           {
            "cells": {
             "fill": {
              "color": "#EBF0F8"
             },
             "line": {
              "color": "white"
             }
            },
            "header": {
             "fill": {
              "color": "#C8D4E3"
             },
             "line": {
              "color": "white"
             }
            },
            "type": "table"
           }
          ]
         },
         "layout": {
          "annotationdefaults": {
           "arrowcolor": "#2a3f5f",
           "arrowhead": 0,
           "arrowwidth": 1
          },
          "autotypenumbers": "strict",
          "coloraxis": {
           "colorbar": {
            "outlinewidth": 0,
            "ticks": ""
           }
          },
          "colorscale": {
           "diverging": [
            [
             0,
             "#8e0152"
            ],
            [
             0.1,
             "#c51b7d"
            ],
            [
             0.2,
             "#de77ae"
            ],
            [
             0.3,
             "#f1b6da"
            ],
            [
             0.4,
             "#fde0ef"
            ],
            [
             0.5,
             "#f7f7f7"
            ],
            [
             0.6,
             "#e6f5d0"
            ],
            [
             0.7,
             "#b8e186"
            ],
            [
             0.8,
             "#7fbc41"
            ],
            [
             0.9,
             "#4d9221"
            ],
            [
             1,
             "#276419"
            ]
           ],
           "sequential": [
            [
             0,
             "#0d0887"
            ],
            [
             0.1111111111111111,
             "#46039f"
            ],
            [
             0.2222222222222222,
             "#7201a8"
            ],
            [
             0.3333333333333333,
             "#9c179e"
            ],
            [
             0.4444444444444444,
             "#bd3786"
            ],
            [
             0.5555555555555556,
             "#d8576b"
            ],
            [
             0.6666666666666666,
             "#ed7953"
            ],
            [
             0.7777777777777778,
             "#fb9f3a"
            ],
            [
             0.8888888888888888,
             "#fdca26"
            ],
            [
             1,
             "#f0f921"
            ]
           ],
           "sequentialminus": [
            [
             0,
             "#0d0887"
            ],
            [
             0.1111111111111111,
             "#46039f"
            ],
            [
             0.2222222222222222,
             "#7201a8"
            ],
            [
             0.3333333333333333,
             "#9c179e"
            ],
            [
             0.4444444444444444,
             "#bd3786"
            ],
            [
             0.5555555555555556,
             "#d8576b"
            ],
            [
             0.6666666666666666,
             "#ed7953"
            ],
            [
             0.7777777777777778,
             "#fb9f3a"
            ],
            [
             0.8888888888888888,
             "#fdca26"
            ],
            [
             1,
             "#f0f921"
            ]
           ]
          },
          "colorway": [
           "#636efa",
           "#EF553B",
           "#00cc96",
           "#ab63fa",
           "#FFA15A",
           "#19d3f3",
           "#FF6692",
           "#B6E880",
           "#FF97FF",
           "#FECB52"
          ],
          "font": {
           "color": "#2a3f5f"
          },
          "geo": {
           "bgcolor": "white",
           "lakecolor": "white",
           "landcolor": "#E5ECF6",
           "showlakes": true,
           "showland": true,
           "subunitcolor": "white"
          },
          "hoverlabel": {
           "align": "left"
          },
          "hovermode": "closest",
          "mapbox": {
           "style": "light"
          },
          "paper_bgcolor": "white",
          "plot_bgcolor": "#E5ECF6",
          "polar": {
           "angularaxis": {
            "gridcolor": "white",
            "linecolor": "white",
            "ticks": ""
           },
           "bgcolor": "#E5ECF6",
           "radialaxis": {
            "gridcolor": "white",
            "linecolor": "white",
            "ticks": ""
           }
          },
          "scene": {
           "xaxis": {
            "backgroundcolor": "#E5ECF6",
            "gridcolor": "white",
            "gridwidth": 2,
            "linecolor": "white",
            "showbackground": true,
            "ticks": "",
            "zerolinecolor": "white"
           },
           "yaxis": {
            "backgroundcolor": "#E5ECF6",
            "gridcolor": "white",
            "gridwidth": 2,
            "linecolor": "white",
            "showbackground": true,
            "ticks": "",
            "zerolinecolor": "white"
           },
           "zaxis": {
            "backgroundcolor": "#E5ECF6",
            "gridcolor": "white",
            "gridwidth": 2,
            "linecolor": "white",
            "showbackground": true,
            "ticks": "",
            "zerolinecolor": "white"
           }
          },
          "shapedefaults": {
           "line": {
            "color": "#2a3f5f"
           }
          },
          "ternary": {
           "aaxis": {
            "gridcolor": "white",
            "linecolor": "white",
            "ticks": ""
           },
           "baxis": {
            "gridcolor": "white",
            "linecolor": "white",
            "ticks": ""
           },
           "bgcolor": "#E5ECF6",
           "caxis": {
            "gridcolor": "white",
            "linecolor": "white",
            "ticks": ""
           }
          },
          "title": {
           "x": 0.05
          },
          "xaxis": {
           "automargin": true,
           "gridcolor": "white",
           "linecolor": "white",
           "ticks": "",
           "title": {
            "standoff": 15
           },
           "zerolinecolor": "white",
           "zerolinewidth": 2
          },
          "yaxis": {
           "automargin": true,
           "gridcolor": "white",
           "linecolor": "white",
           "ticks": "",
           "title": {
            "standoff": 15
           },
           "zerolinecolor": "white",
           "zerolinewidth": 2
          }
         }
        },
        "title": {
         "text": "TOP 20",
         "x": 0.5
        },
        "width": 600,
        "xaxis": {
         "anchor": "y",
         "domain": [
          0,
          0.94
         ]
        },
        "yaxis": {
         "anchor": "x",
         "domain": [
          0,
          1
         ],
         "side": "right"
        },
        "yaxis2": {
         "anchor": "x",
         "overlaying": "y",
         "side": "right"
        }
       }
      }
     },
     "metadata": {},
     "output_type": "display_data"
    },
    {
     "data": {
      "application/vnd.plotly.v1+json": {
       "config": {
        "plotlyServerURL": "https://plot.ly"
       },
       "data": [
        {
         "name": "UNH: 30.5 %",
         "type": "scatter",
         "x": [
          "2024-07-17",
          "2024-07-18",
          "2024-07-19",
          "2024-07-22",
          "2024-07-23",
          "2024-07-24",
          "2024-07-25",
          "2024-07-26",
          "2024-07-29",
          "2024-07-30",
          "2024-07-31",
          "2024-08-01",
          "2024-08-02",
          "2024-08-05",
          "2024-08-06",
          "2024-08-07",
          "2024-08-08",
          "2024-08-09",
          "2024-08-12",
          "2024-08-13",
          "2024-08-14",
          "2024-08-15",
          "2024-08-16",
          "2024-08-19",
          "2024-08-20",
          "2024-08-21",
          "2024-08-22",
          "2024-08-23",
          "2024-08-26",
          "2024-08-27",
          "2024-08-28",
          "2024-08-29",
          "2024-08-30",
          "2024-09-03",
          "2024-09-04",
          "2024-09-05",
          "2024-09-06",
          "2024-09-09",
          "2024-09-10",
          "2024-09-11",
          "2024-09-12",
          "2024-09-13",
          "2024-09-16",
          "2024-09-17",
          "2024-09-18",
          "2024-09-19",
          "2024-09-20",
          "2024-09-23",
          "2024-09-24",
          "2024-09-25",
          "2024-09-26",
          "2024-09-27",
          "2024-09-30",
          "2024-10-01",
          "2024-10-02",
          "2024-10-03",
          "2024-10-04",
          "2024-10-07",
          "2024-10-08",
          "2024-10-09",
          "2024-10-10",
          "2024-10-11",
          "2024-10-14",
          "2024-10-15",
          "2024-10-16",
          "2024-10-17",
          "2024-10-18",
          "2024-10-21",
          "2024-10-22",
          "2024-10-23",
          "2024-10-24",
          "2024-10-25",
          "2024-10-28",
          "2024-10-29",
          "2024-10-30",
          "2024-10-31",
          "2024-11-01",
          "2024-11-04",
          "2024-11-05",
          "2024-11-06",
          "2024-11-07",
          "2024-11-08",
          "2024-11-11",
          "2024-11-12",
          "2024-11-13",
          "2024-11-14",
          "2024-11-15",
          "2024-11-18",
          "2024-11-19",
          "2024-11-20",
          "2024-11-21",
          "2024-11-22",
          "2024-11-25",
          "2024-11-26",
          "2024-11-27",
          "2024-11-29",
          "2024-12-02",
          "2024-12-03",
          "2024-12-04",
          "2024-12-05",
          "2024-12-06",
          "2024-12-09",
          "2024-12-10",
          "2024-12-11",
          "2024-12-12",
          "2024-12-13",
          "2024-12-16",
          "2024-12-17",
          "2024-12-18",
          "2024-12-19",
          "2024-12-20",
          "2024-12-23",
          "2024-12-24",
          "2024-12-26",
          "2024-12-27",
          "2024-12-30",
          "2024-12-31",
          "2025-01-02",
          "2025-01-03",
          "2025-01-06",
          "2025-01-07",
          "2025-01-08",
          "2025-01-10",
          "2025-01-13",
          "2025-01-14",
          "2025-01-15",
          "2025-01-16",
          "2025-01-17",
          "2025-01-21",
          "2025-01-22",
          "2025-01-23",
          "2025-01-24",
          "2025-01-27",
          "2025-01-28",
          "2025-01-29",
          "2025-01-30",
          "2025-01-31",
          "2025-02-03",
          "2025-02-04",
          "2025-02-05",
          "2025-02-06",
          "2025-02-07",
          "2025-02-10",
          "2025-02-11",
          "2025-02-12",
          "2025-02-13",
          "2025-02-14",
          "2025-02-18",
          "2025-02-19",
          "2025-02-20",
          "2025-02-21",
          "2025-02-24",
          "2025-02-25",
          "2025-02-26",
          "2025-02-27",
          "2025-02-28",
          "2025-03-03",
          "2025-03-04",
          "2025-03-05",
          "2025-03-06",
          "2025-03-07",
          "2025-03-10",
          "2025-03-11",
          "2025-03-12",
          "2025-03-13",
          "2025-03-14",
          "2025-03-17",
          "2025-03-18",
          "2025-03-19",
          "2025-03-20",
          "2025-03-21",
          "2025-03-24",
          "2025-03-25",
          "2025-03-26",
          "2025-03-27",
          "2025-03-28",
          "2025-03-31",
          "2025-04-01",
          "2025-04-02",
          "2025-04-03",
          "2025-04-04",
          "2025-04-07",
          "2025-04-08",
          "2025-04-09",
          "2025-04-10",
          "2025-04-11",
          "2025-04-14",
          "2025-04-15",
          "2025-04-16",
          "2025-04-17",
          "2025-04-21",
          "2025-04-22",
          "2025-04-23",
          "2025-04-24",
          "2025-04-25",
          "2025-04-28",
          "2025-04-29",
          "2025-04-30",
          "2025-05-01",
          "2025-05-02",
          "2025-05-05",
          "2025-05-06",
          "2025-05-07",
          "2025-05-08",
          "2025-05-09",
          "2025-05-12",
          "2025-05-13",
          "2025-05-14",
          "2025-05-15",
          "2025-05-16",
          "2025-05-19",
          "2025-05-20",
          "2025-05-21",
          "2025-05-22",
          "2025-05-23",
          "2025-05-27",
          "2025-05-28",
          "2025-05-29",
          "2025-05-30",
          "2025-06-02",
          "2025-06-03",
          "2025-06-04",
          "2025-06-05",
          "2025-06-06",
          "2025-06-09",
          "2025-06-10",
          "2025-06-11",
          "2025-06-12",
          "2025-06-13",
          "2025-06-16",
          "2025-06-17",
          "2025-06-18",
          "2025-06-20",
          "2025-06-23",
          "2025-06-24",
          "2025-06-25",
          "2025-06-26",
          "2025-06-27",
          "2025-06-30",
          "2025-07-01",
          "2025-07-02",
          "2025-07-03",
          "2025-07-07",
          "2025-07-08",
          "2025-07-09",
          "2025-07-10",
          "2025-07-11",
          "2025-07-14",
          "2025-07-15",
          "2025-07-16",
          "2025-07-17",
          "2025-07-18",
          "2025-07-21",
          "2025-07-22",
          "2025-07-23",
          "2025-07-24",
          "2025-07-25",
          "2025-07-28",
          "2025-07-29",
          "2025-07-30",
          "2025-07-31",
          "2025-08-01",
          "2025-08-04",
          "2025-08-05",
          "2025-08-06",
          "2025-08-07",
          "2025-08-08",
          "2025-08-11",
          "2025-08-12",
          "2025-08-13",
          "2025-08-14",
          "2025-08-15",
          "2025-08-18",
          "2025-08-19",
          "2025-08-20",
          "2025-08-21",
          "2025-08-22",
          "2025-08-25",
          "2025-08-26",
          "2025-08-27",
          "2025-08-28",
          "2025-08-29",
          "2025-09-02",
          "2025-09-03",
          "2025-09-04",
          "2025-09-05",
          "2025-09-08",
          "2025-09-09",
          "2025-09-10"
         ],
         "xaxis": "x",
         "y": {
          "bdata": "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",
          "dtype": "f8"
         },
         "yaxis": "y"
        },
        {
         "name": "SMA 50",
         "type": "scatter",
         "x": [
          "2024-07-17",
          "2024-07-18",
          "2024-07-19",
          "2024-07-22",
          "2024-07-23",
          "2024-07-24",
          "2024-07-25",
          "2024-07-26",
          "2024-07-29",
          "2024-07-30",
          "2024-07-31",
          "2024-08-01",
          "2024-08-02",
          "2024-08-05",
          "2024-08-06",
          "2024-08-07",
          "2024-08-08",
          "2024-08-09",
          "2024-08-12",
          "2024-08-13",
          "2024-08-14",
          "2024-08-15",
          "2024-08-16",
          "2024-08-19",
          "2024-08-20",
          "2024-08-21",
          "2024-08-22",
          "2024-08-23",
          "2024-08-26",
          "2024-08-27",
          "2024-08-28",
          "2024-08-29",
          "2024-08-30",
          "2024-09-03",
          "2024-09-04",
          "2024-09-05",
          "2024-09-06",
          "2024-09-09",
          "2024-09-10",
          "2024-09-11",
          "2024-09-12",
          "2024-09-13",
          "2024-09-16",
          "2024-09-17",
          "2024-09-18",
          "2024-09-19",
          "2024-09-20",
          "2024-09-23",
          "2024-09-24",
          "2024-09-25",
          "2024-09-26",
          "2024-09-27",
          "2024-09-30",
          "2024-10-01",
          "2024-10-02",
          "2024-10-03",
          "2024-10-04",
          "2024-10-07",
          "2024-10-08",
          "2024-10-09",
          "2024-10-10",
          "2024-10-11",
          "2024-10-14",
          "2024-10-15",
          "2024-10-16",
          "2024-10-17",
          "2024-10-18",
          "2024-10-21",
          "2024-10-22",
          "2024-10-23",
          "2024-10-24",
          "2024-10-25",
          "2024-10-28",
          "2024-10-29",
          "2024-10-30",
          "2024-10-31",
          "2024-11-01",
          "2024-11-04",
          "2024-11-05",
          "2024-11-06",
          "2024-11-07",
          "2024-11-08",
          "2024-11-11",
          "2024-11-12",
          "2024-11-13",
          "2024-11-14",
          "2024-11-15",
          "2024-11-18",
          "2024-11-19",
          "2024-11-20",
          "2024-11-21",
          "2024-11-22",
          "2024-11-25",
          "2024-11-26",
          "2024-11-27",
          "2024-11-29",
          "2024-12-02",
          "2024-12-03",
          "2024-12-04",
          "2024-12-05",
          "2024-12-06",
          "2024-12-09",
          "2024-12-10",
          "2024-12-11",
          "2024-12-12",
          "2024-12-13",
          "2024-12-16",
          "2024-12-17",
          "2024-12-18",
          "2024-12-19",
          "2024-12-20",
          "2024-12-23",
          "2024-12-24",
          "2024-12-26",
          "2024-12-27",
          "2024-12-30",
          "2024-12-31",
          "2025-01-02",
          "2025-01-03",
          "2025-01-06",
          "2025-01-07",
          "2025-01-08",
          "2025-01-10",
          "2025-01-13",
          "2025-01-14",
          "2025-01-15",
          "2025-01-16",
          "2025-01-17",
          "2025-01-21",
          "2025-01-22",
          "2025-01-23",
          "2025-01-24",
          "2025-01-27",
          "2025-01-28",
          "2025-01-29",
          "2025-01-30",
          "2025-01-31",
          "2025-02-03",
          "2025-02-04",
          "2025-02-05",
          "2025-02-06",
          "2025-02-07",
          "2025-02-10",
          "2025-02-11",
          "2025-02-12",
          "2025-02-13",
          "2025-02-14",
          "2025-02-18",
          "2025-02-19",
          "2025-02-20",
          "2025-02-21",
          "2025-02-24",
          "2025-02-25",
          "2025-02-26",
          "2025-02-27",
          "2025-02-28",
          "2025-03-03",
          "2025-03-04",
          "2025-03-05",
          "2025-03-06",
          "2025-03-07",
          "2025-03-10",
          "2025-03-11",
          "2025-03-12",
          "2025-03-13",
          "2025-03-14",
          "2025-03-17",
          "2025-03-18",
          "2025-03-19",
          "2025-03-20",
          "2025-03-21",
          "2025-03-24",
          "2025-03-25",
          "2025-03-26",
          "2025-03-27",
          "2025-03-28",
          "2025-03-31",
          "2025-04-01",
          "2025-04-02",
          "2025-04-03",
          "2025-04-04",
          "2025-04-07",
          "2025-04-08",
          "2025-04-09",
          "2025-04-10",
          "2025-04-11",
          "2025-04-14",
          "2025-04-15",
          "2025-04-16",
          "2025-04-17",
          "2025-04-21",
          "2025-04-22",
          "2025-04-23",
          "2025-04-24",
          "2025-04-25",
          "2025-04-28",
          "2025-04-29",
          "2025-04-30",
          "2025-05-01",
          "2025-05-02",
          "2025-05-05",
          "2025-05-06",
          "2025-05-07",
          "2025-05-08",
          "2025-05-09",
          "2025-05-12",
          "2025-05-13",
          "2025-05-14",
          "2025-05-15",
          "2025-05-16",
          "2025-05-19",
          "2025-05-20",
          "2025-05-21",
          "2025-05-22",
          "2025-05-23",
          "2025-05-27",
          "2025-05-28",
          "2025-05-29",
          "2025-05-30",
          "2025-06-02",
          "2025-06-03",
          "2025-06-04",
          "2025-06-05",
          "2025-06-06",
          "2025-06-09",
          "2025-06-10",
          "2025-06-11",
          "2025-06-12",
          "2025-06-13",
          "2025-06-16",
          "2025-06-17",
          "2025-06-18",
          "2025-06-20",
          "2025-06-23",
          "2025-06-24",
          "2025-06-25",
          "2025-06-26",
          "2025-06-27",
          "2025-06-30",
          "2025-07-01",
          "2025-07-02",
          "2025-07-03",
          "2025-07-07",
          "2025-07-08",
          "2025-07-09",
          "2025-07-10",
          "2025-07-11",
          "2025-07-14",
          "2025-07-15",
          "2025-07-16",
          "2025-07-17",
          "2025-07-18",
          "2025-07-21",
          "2025-07-22",
          "2025-07-23",
          "2025-07-24",
          "2025-07-25",
          "2025-07-28",
          "2025-07-29",
          "2025-07-30",
          "2025-07-31",
          "2025-08-01",
          "2025-08-04",
          "2025-08-05",
          "2025-08-06",
          "2025-08-07",
          "2025-08-08",
          "2025-08-11",
          "2025-08-12",
          "2025-08-13",
          "2025-08-14",
          "2025-08-15",
          "2025-08-18",
          "2025-08-19",
          "2025-08-20",
          "2025-08-21",
          "2025-08-22",
          "2025-08-25",
          "2025-08-26",
          "2025-08-27",
          "2025-08-28",
          "2025-08-29",
          "2025-09-02",
          "2025-09-03",
          "2025-09-04",
          "2025-09-05",
          "2025-09-08",
          "2025-09-09",
          "2025-09-10"
         ],
         "xaxis": "x",
         "y": {
          "bdata": "AAAAAAAA+H8AAAAAAAD4fwAAAAAAAPh/AAAAAAAA+H8AAAAAAAD4fwAAAAAAAPh/AAAAAAAA+H8AAAAAAAD4fwAAAAAAAPh/AAAAAAAA+H8AAAAAAAD4fwAAAAAAAPh/AAAAAAAA+H8AAAAAAAD4fwAAAAAAAPh/AAAAAAAA+H8AAAAAAAD4fwAAAAAAAPh/AAAAAAAA+H8AAAAAAAD4fwAAAAAAAPh/AAAAAAAA+H8AAAAAAAD4fwAAAAAAAPh/AAAAAAAA+H8AAAAAAAD4fwAAAAAAAPh/AAAAAAAA+H8AAAAAAAD4fwAAAAAAAPh/AAAAAAAA+H8AAAAAAAD4fwAAAAAAAPh/AAAAAAAA+H8AAAAAAAD4fwAAAAAAAPh/AAAAAAAA+H8AAAAAAAD4fwAAAAAAAPh/AAAAAAAA+H8AAAAAAAD4fwAAAAAAAPh/AAAAAAAA+H8AAAAAAAD4fwAAAAAAAPh/AAAAAAAA+H8AAAAAAAD4fwAAAAAAAPh/AAAAAAAA+H/gvg6cMxCCQG+BBMWPE4JAPZtVn6sVgkCYTBWMShiCQCbkg57NG4JAArwFEhQjgkDm0CLb+SeCQHS1FfvLLIJAv30dOGcxgkA/6Nms+jSCQCh+jLlrN4JAchsN4C08gkDRkVz+Qz+CQB4Wak3zQYJAldQJaCI9gkAmwoanVzuCQPjCZKpgOoJABhIUP8Y6gkCPU3QklzuCQA8LtaZ5PIJANs07TtE8gkDFjzF3LTuCQLx0kxgEOYJAkQ96Nqs2gkCmeccpOjSCQMGopE5AMYJAHhZqTfMtgkBSJ6CJsCuCQMQgsHJoKYJAduCcEaUkgkB3LSEf9CaCQINRSZ2AKIJAjNtoAG8rgkCIhVrTvC+CQErqBDQRNIJA+DHmriU2gkAldQKaCDaCQBPyQc9mNYJA6nO1FfszgkCX/5B++zGCQHctIR/0MIJAFvvL7skygkDwFkhQ/DOCQLraiv1lNIJAJLn8h/Q3gkDUCWgibD2CQDhnRGlvQYJAjErqBDRIgkAK+aBns02CQOlILv8hVIJAf2q8dJNYgkBtVn2utlmCQJ88LNSaVYJAYjJVMCpSgkAKaCJseE2CQPJBz2bVQYJA9+RhodY1gkCSXP5D+imCQP+ye/KwGYJA6+I2GsAJgkAN4C2QoPyBQE2EDU+v64FA7nw/NV7cgUBDHOviNs2BQMgpOpLLxYFAHqfoSC6+gUCKsOHplbWBQFZ9rrZirIFARGlv8IWigUCh+DHmrpiBQKHWNO84j4FApHA9CteHgUDT3uALk3+BQLG/7J48eYFAbxKDwMp0gUB1kxgEVnGBQKMjufyHbYFAiBbZzvdngUB8YTJVMF6BQCcxCKwcV4FAdy0hH/RJgUAIPZtVnz6BQEjhehSuMYFA8x/Sb18lgUAydy0hHxmBQHP5D+m3DYFAvJaQD3oDgUCmm8QgsPuAQBdIUPwY9IBAvjCZKhjugEBfKcsQx+WAQKRwPQrX24BAjSjtDb7QgEBq3nGKjsWAQPjkYaHWuYBASFD8GHOugEDxFkhQ/KGAQFd9rrZilIBAZmZmZmaEgECutmJ/2XKAQF8pyxDHYoBAhxbZzvdLgEBfB84ZUT6AQIXrUbgeLoBAFmpN844fgEBwXwfOGRWAQAyTqYJRDYBAIR/0bFYGgEAs9pfdkwOAQM3MzMzMAIBAdnEbDeD5f0DkpZvEIPh/QHZPHhZq9X9AGJXUCWjuf0CMSuoENOd/QP32deCc3X9AIR/0bFbVf0DY8PRKWc5/QNxoAG+BzH9AYHZPHhbMf0BMyAc9m8l/QFtkO99Px39Afa62Yn/Hf0A7cM6I0sR/QGN/2T15vn9AU3Qkl/+2f0Dx9EpZhrB/QB0Wak3zrH9Ar5RliGOzf0Cyv+yePLZ/QOm3rwPnuH9ASS7/If28f0COBvAWSLh/QGTMXUvIxX9AJQaBlUPLf0A2PL1Sltd/QB04Z0Rp539AOkVHcvn3f0DHuriNBgSAQEOtad5xCoBAcT0K16MCgEABvAUSFOl/QK8l5IOex39A2qz6XG2nf0Dh6ZWyDIV/QEpZhjjWX39AKakT0EQ8f0AAb4EExRl/QK8D54wo+X5Aih9j7lrcfkDzbFZ9rrp+QDq0yHa+rX5ATx4Wak2ZfkDtfD81XoR+QBSuR+F6bH5AH4XrUbhSfkAzMzMzMzd+QPfkYaHWCn5A/WX35GHbfUD4U+Olm5x9QDNVMCqpXX1AO07RkVwkfUCdgCbChu18QO84RUdys3xALUMc6+J2fEBDHOviNjx8QJTUCWgiAnxA6gQ0ETbEe0AKaCJseIJ7QJHtfD81QHtAnYAmwob/ekC3QILix7x6QA0CK4cWeXpAj8L1KFwzekCl374OnO15QApGJXUCqnlAQRNhw9NleUBgmEwVjCB5QHzQs1n123hAtoR80LOZeEDSkVz+Q1R4QHbgnBGlCXhAWoY41sXHd0BAxty1hHB3QCagibDhHXdAkQ96NqvEdkBWDi2ynWl2QCoYldQJDHZABcWPMXevdUAxuycPC1d1QHuDL0ymIHVA6dms+lz3dEAN4C2QoNJ0QPH0SlmGrHRAkxgEVg6FdEBUUiegiV50QNobfGEyOXRA1AloImwSdEBApN++DvBzQCfChqdXzHNA4C2QoPipc0AhQfFjzIdzQHNGlPYGY3NAmpmZmZk/c0C2Yn/ZPR1zQEATYcPT/XJAKjqSy3/eckCX/5B++8xyQPjkYaHWwHJAi/1l9+S9ckBz1xLyQblyQKROQBNhq3JAexSuR+GUckB0tRX7y4ByQKvP1Vbsb3JATDeJQWBhckBcIEHxY1ByQMpUwaikQHJAQs9m1ecyckBQ/Bhz1yRyQJzEILByGHJASgwCK4cOckDAWyBB8Q1yQCoYldQJEnJAWoY41sUVckCR7Xw/NRZyQCQofoy5FXJA4lgXt9EWckDZzvdT4xVyQHIbDeAtEnJA1XjpJjEOckC6SQwCKw1yQHNoke18C3JAIo51cRsLckC+MJkqGA1yQDGZKhiVDnJAmN2Th4UQckCyLm6jARZyQKyt2F92H3JACRueXikrckA=",
          "dtype": "f8"
         },
         "yaxis": "y"
        }
       ],
       "layout": {
        "annotations": [
         {
          "font": {
           "size": 8
          },
          "showarrow": false,
          "text": "Date: 2025-09-10, Open:346.78, High:348.57, Low:341.4, Close: 345.56",
          "x": 0.01,
          "xref": "x domain",
          "y": 1,
          "yref": "y domain"
         }
        ],
        "height": 400,
        "legend": {
         "font": {
          "size": 8
         },
         "title": {
          "font": {
           "family": "Arial"
          }
         }
        },
        "template": {
         "data": {
          "bar": [
           {
            "error_x": {
             "color": "#2a3f5f"
            },
            "error_y": {
             "color": "#2a3f5f"
            },
            "marker": {
             "line": {
              "color": "#E5ECF6",
              "width": 0.5
             },
             "pattern": {
              "fillmode": "overlay",
              "size": 10,
              "solidity": 0.2
             }
            },
            "type": "bar"
           }
          ],
          "barpolar": [
           {
            "marker": {
             "line": {
              "color": "#E5ECF6",
              "width": 0.5
             },
             "pattern": {
              "fillmode": "overlay",
              "size": 10,
              "solidity": 0.2
             }
            },
            "type": "barpolar"
           }
          ],
          "carpet": [
           {
            "aaxis": {
             "endlinecolor": "#2a3f5f",
             "gridcolor": "white",
             "linecolor": "white",
             "minorgridcolor": "white",
             "startlinecolor": "#2a3f5f"
            },
            "baxis": {
             "endlinecolor": "#2a3f5f",
             "gridcolor": "white",
             "linecolor": "white",
             "minorgridcolor": "white",
             "startlinecolor": "#2a3f5f"
            },
            "type": "carpet"
           }
          ],
          "choropleth": [
           {
            "colorbar": {
             "outlinewidth": 0,
             "ticks": ""
            },
            "type": "choropleth"
           }
          ],
          "contour": [
           {
            "colorbar": {
             "outlinewidth": 0,
             "ticks": ""
            },
            "colorscale": [
             [
              0,
              "#0d0887"
             ],
             [
              0.1111111111111111,
              "#46039f"
             ],
             [
              0.2222222222222222,
              "#7201a8"
             ],
             [
              0.3333333333333333,
              "#9c179e"
             ],
             [
              0.4444444444444444,
              "#bd3786"
             ],
             [
              0.5555555555555556,
              "#d8576b"
             ],
             [
              0.6666666666666666,
              "#ed7953"
             ],
             [
              0.7777777777777778,
              "#fb9f3a"
             ],
             [
              0.8888888888888888,
              "#fdca26"
             ],
             [
              1,
              "#f0f921"
             ]
            ],
            "type": "contour"
           }
          ],
          "contourcarpet": [
           {
            "colorbar": {
             "outlinewidth": 0,
             "ticks": ""
            },
            "type": "contourcarpet"
           }
          ],
          "heatmap": [
           {
            "colorbar": {
             "outlinewidth": 0,
             "ticks": ""
            },
            "colorscale": [
             [
              0,
              "#0d0887"
             ],
             [
              0.1111111111111111,
              "#46039f"
             ],
             [
              0.2222222222222222,
              "#7201a8"
             ],
             [
              0.3333333333333333,
              "#9c179e"
             ],
             [
              0.4444444444444444,
              "#bd3786"
             ],
             [
              0.5555555555555556,
              "#d8576b"
             ],
             [
              0.6666666666666666,
              "#ed7953"
             ],
             [
              0.7777777777777778,
              "#fb9f3a"
             ],
             [
              0.8888888888888888,
              "#fdca26"
             ],
             [
              1,
              "#f0f921"
             ]
            ],
            "type": "heatmap"
           }
          ],
          "histogram": [
           {
            "marker": {
             "pattern": {
              "fillmode": "overlay",
              "size": 10,
              "solidity": 0.2
             }
            },
            "type": "histogram"
           }
          ],
          "histogram2d": [
           {
            "colorbar": {
             "outlinewidth": 0,
             "ticks": ""
            },
            "colorscale": [
             [
              0,
              "#0d0887"
             ],
             [
              0.1111111111111111,
              "#46039f"
             ],
             [
              0.2222222222222222,
              "#7201a8"
             ],
             [
              0.3333333333333333,
              "#9c179e"
             ],
             [
              0.4444444444444444,
              "#bd3786"
             ],
             [
              0.5555555555555556,
              "#d8576b"
             ],
             [
              0.6666666666666666,
              "#ed7953"
             ],
             [
              0.7777777777777778,
              "#fb9f3a"
             ],
             [
              0.8888888888888888,
              "#fdca26"
             ],
             [
              1,
              "#f0f921"
             ]
            ],
            "type": "histogram2d"
           }
          ],
          "histogram2dcontour": [
           {
            "colorbar": {
             "outlinewidth": 0,
             "ticks": ""
            },
            "colorscale": [
             [
              0,
              "#0d0887"
             ],
             [
              0.1111111111111111,
              "#46039f"
             ],
             [
              0.2222222222222222,
              "#7201a8"
             ],
             [
              0.3333333333333333,
              "#9c179e"
             ],
             [
              0.4444444444444444,
              "#bd3786"
             ],
             [
              0.5555555555555556,
              "#d8576b"
             ],
             [
              0.6666666666666666,
              "#ed7953"
             ],
             [
              0.7777777777777778,
              "#fb9f3a"
             ],
             [
              0.8888888888888888,
              "#fdca26"
             ],
             [
              1,
              "#f0f921"
             ]
            ],
            "type": "histogram2dcontour"
           }
          ],
          "mesh3d": [
           {
            "colorbar": {
             "outlinewidth": 0,
             "ticks": ""
            },
            "type": "mesh3d"
           }
          ],
          "parcoords": [
           {
            "line": {
             "colorbar": {
              "outlinewidth": 0,
              "ticks": ""
             }
            },
            "type": "parcoords"
           }
          ],
          "pie": [
           {
            "automargin": true,
            "type": "pie"
           }
          ],
          "scatter": [
           {
            "fillpattern": {
             "fillmode": "overlay",
             "size": 10,
             "solidity": 0.2
            },
            "type": "scatter"
           }
          ],
          "scatter3d": [
           {
            "line": {
             "colorbar": {
              "outlinewidth": 0,
              "ticks": ""
             }
            },
            "marker": {
             "colorbar": {
              "outlinewidth": 0,
              "ticks": ""
             }
            },
            "type": "scatter3d"
           }
          ],
          "scattercarpet": [
           {
            "marker": {
             "colorbar": {
              "outlinewidth": 0,
              "ticks": ""
             }
            },
            "type": "scattercarpet"
           }
          ],
          "scattergeo": [
           {
            "marker": {
             "colorbar": {
              "outlinewidth": 0,
              "ticks": ""
             }
            },
            "type": "scattergeo"
           }
          ],
          "scattergl": [
           {
            "marker": {
             "colorbar": {
              "outlinewidth": 0,
              "ticks": ""
             }
            },
            "type": "scattergl"
           }
          ],
          "scattermap": [
           {
            "marker": {
             "colorbar": {
              "outlinewidth": 0,
              "ticks": ""
             }
            },
            "type": "scattermap"
           }
          ],
          "scattermapbox": [
           {
            "marker": {
             "colorbar": {
              "outlinewidth": 0,
              "ticks": ""
             }
            },
            "type": "scattermapbox"
           }
          ],
          "scatterpolar": [
           {
            "marker": {
             "colorbar": {
              "outlinewidth": 0,
              "ticks": ""
             }
            },
            "type": "scatterpolar"
           }
          ],
          "scatterpolargl": [
           {
            "marker": {
             "colorbar": {
              "outlinewidth": 0,
              "ticks": ""
             }
            },
            "type": "scatterpolargl"
           }
          ],
          "scatterternary": [
           {
            "marker": {
             "colorbar": {
              "outlinewidth": 0,
              "ticks": ""
             }
            },
            "type": "scatterternary"
           }
          ],
          "surface": [
           {
            "colorbar": {
             "outlinewidth": 0,
             "ticks": ""
            },
            "colorscale": [
             [
              0,
              "#0d0887"
             ],
             [
              0.1111111111111111,
              "#46039f"
             ],
             [
              0.2222222222222222,
              "#7201a8"
             ],
             [
              0.3333333333333333,
              "#9c179e"
             ],
             [
              0.4444444444444444,
              "#bd3786"
             ],
             [
              0.5555555555555556,
              "#d8576b"
             ],
             [
              0.6666666666666666,
              "#ed7953"
             ],
             [
              0.7777777777777778,
              "#fb9f3a"
             ],
             [
              0.8888888888888888,
              "#fdca26"
             ],
             [
              1,
              "#f0f921"
             ]
            ],
            "type": "surface"
           }
          ],
          "table": [
           {
            "cells": {
             "fill": {
              "color": "#EBF0F8"
             },
             "line": {
              "color": "white"
             }
            },
            "header": {
             "fill": {
              "color": "#C8D4E3"
             },
             "line": {
              "color": "white"
             }
            },
            "type": "table"
           }
          ]
         },
         "layout": {
          "annotationdefaults": {
           "arrowcolor": "#2a3f5f",
           "arrowhead": 0,
           "arrowwidth": 1
          },
          "autotypenumbers": "strict",
          "coloraxis": {
           "colorbar": {
            "outlinewidth": 0,
            "ticks": ""
           }
          },
          "colorscale": {
           "diverging": [
            [
             0,
             "#8e0152"
            ],
            [
             0.1,
             "#c51b7d"
            ],
            [
             0.2,
             "#de77ae"
            ],
            [
             0.3,
             "#f1b6da"
            ],
            [
             0.4,
             "#fde0ef"
            ],
            [
             0.5,
             "#f7f7f7"
            ],
            [
             0.6,
             "#e6f5d0"
            ],
            [
             0.7,
             "#b8e186"
            ],
            [
             0.8,
             "#7fbc41"
            ],
            [
             0.9,
             "#4d9221"
            ],
            [
             1,
             "#276419"
            ]
           ],
           "sequential": [
            [
             0,
             "#0d0887"
            ],
            [
             0.1111111111111111,
             "#46039f"
            ],
            [
             0.2222222222222222,
             "#7201a8"
            ],
            [
             0.3333333333333333,
             "#9c179e"
            ],
            [
             0.4444444444444444,
             "#bd3786"
            ],
            [
             0.5555555555555556,
             "#d8576b"
            ],
            [
             0.6666666666666666,
             "#ed7953"
            ],
            [
             0.7777777777777778,
             "#fb9f3a"
            ],
            [
             0.8888888888888888,
             "#fdca26"
            ],
            [
             1,
             "#f0f921"
            ]
           ],
           "sequentialminus": [
            [
             0,
             "#0d0887"
            ],
            [
             0.1111111111111111,
             "#46039f"
            ],
            [
             0.2222222222222222,
             "#7201a8"
            ],
            [
             0.3333333333333333,
             "#9c179e"
            ],
            [
             0.4444444444444444,
             "#bd3786"
            ],
            [
             0.5555555555555556,
             "#d8576b"
            ],
            [
             0.6666666666666666,
             "#ed7953"
            ],
            [
             0.7777777777777778,
             "#fb9f3a"
            ],
            [
             0.8888888888888888,
             "#fdca26"
            ],
            [
             1,
             "#f0f921"
            ]
           ]
          },
          "colorway": [
           "#636efa",
           "#EF553B",
           "#00cc96",
           "#ab63fa",
           "#FFA15A",
           "#19d3f3",
           "#FF6692",
           "#B6E880",
           "#FF97FF",
           "#FECB52"
          ],
          "font": {
           "color": "#2a3f5f"
          },
          "geo": {
           "bgcolor": "white",
           "lakecolor": "white",
           "landcolor": "#E5ECF6",
           "showlakes": true,
           "showland": true,
           "subunitcolor": "white"
          },
          "hoverlabel": {
           "align": "left"
          },
          "hovermode": "closest",
          "mapbox": {
           "style": "light"
          },
          "paper_bgcolor": "white",
          "plot_bgcolor": "#E5ECF6",
          "polar": {
           "angularaxis": {
            "gridcolor": "white",
            "linecolor": "white",
            "ticks": ""
           },
           "bgcolor": "#E5ECF6",
           "radialaxis": {
            "gridcolor": "white",
            "linecolor": "white",
            "ticks": ""
           }
          },
          "scene": {
           "xaxis": {
            "backgroundcolor": "#E5ECF6",
            "gridcolor": "white",
            "gridwidth": 2,
            "linecolor": "white",
            "showbackground": true,
            "ticks": "",
            "zerolinecolor": "white"
           },
           "yaxis": {
            "backgroundcolor": "#E5ECF6",
            "gridcolor": "white",
            "gridwidth": 2,
            "linecolor": "white",
            "showbackground": true,
            "ticks": "",
            "zerolinecolor": "white"
           },
           "zaxis": {
            "backgroundcolor": "#E5ECF6",
            "gridcolor": "white",
            "gridwidth": 2,
            "linecolor": "white",
            "showbackground": true,
            "ticks": "",
            "zerolinecolor": "white"
           }
          },
          "shapedefaults": {
           "line": {
            "color": "#2a3f5f"
           }
          },
          "ternary": {
           "aaxis": {
            "gridcolor": "white",
            "linecolor": "white",
            "ticks": ""
           },
           "baxis": {
            "gridcolor": "white",
            "linecolor": "white",
            "ticks": ""
           },
           "bgcolor": "#E5ECF6",
           "caxis": {
            "gridcolor": "white",
            "linecolor": "white",
            "ticks": ""
           }
          },
          "title": {
           "x": 0.05
          },
          "xaxis": {
           "automargin": true,
           "gridcolor": "white",
           "linecolor": "white",
           "ticks": "",
           "title": {
            "standoff": 15
           },
           "zerolinecolor": "white",
           "zerolinewidth": 2
          },
          "yaxis": {
           "automargin": true,
           "gridcolor": "white",
           "linecolor": "white",
           "ticks": "",
           "title": {
            "standoff": 15
           },
           "zerolinecolor": "white",
           "zerolinewidth": 2
          }
         }
        },
        "title": {
         "text": "TOP 20",
         "x": 0.5
        },
        "width": 600,
        "xaxis": {
         "anchor": "y",
         "domain": [
          0,
          0.94
         ]
        },
        "yaxis": {
         "anchor": "x",
         "domain": [
          0,
          1
         ],
         "side": "right"
        },
        "yaxis2": {
         "anchor": "x",
         "overlaying": "y",
         "side": "right"
        }
       }
      }
     },
     "metadata": {},
     "output_type": "display_data"
    },
    {
     "data": {
      "application/vnd.plotly.v1+json": {
       "config": {
        "plotlyServerURL": "https://plot.ly"
       },
       "data": [
        {
         "name": "IBP: 29.28 %",
         "type": "scatter",
         "x": [
          "2024-07-17",
          "2024-07-18",
          "2024-07-19",
          "2024-07-22",
          "2024-07-23",
          "2024-07-24",
          "2024-07-25",
          "2024-07-26",
          "2024-07-29",
          "2024-07-30",
          "2024-07-31",
          "2024-08-01",
          "2024-08-02",
          "2024-08-05",
          "2024-08-06",
          "2024-08-07",
          "2024-08-08",
          "2024-08-09",
          "2024-08-12",
          "2024-08-13",
          "2024-08-14",
          "2024-08-15",
          "2024-08-16",
          "2024-08-19",
          "2024-08-20",
          "2024-08-21",
          "2024-08-22",
          "2024-08-23",
          "2024-08-26",
          "2024-08-27",
          "2024-08-28",
          "2024-08-29",
          "2024-08-30",
          "2024-09-03",
          "2024-09-04",
          "2024-09-05",
          "2024-09-06",
          "2024-09-09",
          "2024-09-10",
          "2024-09-11",
          "2024-09-12",
          "2024-09-13",
          "2024-09-16",
          "2024-09-17",
          "2024-09-18",
          "2024-09-19",
          "2024-09-20",
          "2024-09-23",
          "2024-09-24",
          "2024-09-25",
          "2024-09-26",
          "2024-09-27",
          "2024-09-30",
          "2024-10-01",
          "2024-10-02",
          "2024-10-03",
          "2024-10-04",
          "2024-10-07",
          "2024-10-08",
          "2024-10-09",
          "2024-10-10",
          "2024-10-11",
          "2024-10-14",
          "2024-10-15",
          "2024-10-16",
          "2024-10-17",
          "2024-10-18",
          "2024-10-21",
          "2024-10-22",
          "2024-10-23",
          "2024-10-24",
          "2024-10-25",
          "2024-10-28",
          "2024-10-29",
          "2024-10-30",
          "2024-10-31",
          "2024-11-01",
          "2024-11-04",
          "2024-11-05",
          "2024-11-06",
          "2024-11-07",
          "2024-11-08",
          "2024-11-11",
          "2024-11-12",
          "2024-11-13",
          "2024-11-14",
          "2024-11-15",
          "2024-11-18",
          "2024-11-19",
          "2024-11-20",
          "2024-11-21",
          "2024-11-22",
          "2024-11-25",
          "2024-11-26",
          "2024-11-27",
          "2024-11-29",
          "2024-12-02",
          "2024-12-03",
          "2024-12-04",
          "2024-12-05",
          "2024-12-06",
          "2024-12-09",
          "2024-12-10",
          "2024-12-11",
          "2024-12-12",
          "2024-12-13",
          "2024-12-16",
          "2024-12-17",
          "2024-12-18",
          "2024-12-19",
          "2024-12-20",
          "2024-12-23",
          "2024-12-24",
          "2024-12-26",
          "2024-12-27",
          "2024-12-30",
          "2024-12-31",
          "2025-01-02",
          "2025-01-03",
          "2025-01-06",
          "2025-01-07",
          "2025-01-08",
          "2025-01-10",
          "2025-01-13",
          "2025-01-14",
          "2025-01-15",
          "2025-01-16",
          "2025-01-17",
          "2025-01-21",
          "2025-01-22",
          "2025-01-23",
          "2025-01-24",
          "2025-01-27",
          "2025-01-28",
          "2025-01-29",
          "2025-01-30",
          "2025-01-31",
          "2025-02-03",
          "2025-02-04",
          "2025-02-05",
          "2025-02-06",
          "2025-02-07",
          "2025-02-10",
          "2025-02-11",
          "2025-02-12",
          "2025-02-13",
          "2025-02-14",
          "2025-02-18",
          "2025-02-19",
          "2025-02-20",
          "2025-02-21",
          "2025-02-24",
          "2025-02-25",
          "2025-02-26",
          "2025-02-27",
          "2025-02-28",
          "2025-03-03",
          "2025-03-04",
          "2025-03-05",
          "2025-03-06",
          "2025-03-07",
          "2025-03-10",
          "2025-03-11",
          "2025-03-12",
          "2025-03-13",
          "2025-03-14",
          "2025-03-17",
          "2025-03-18",
          "2025-03-19",
          "2025-03-20",
          "2025-03-21",
          "2025-03-24",
          "2025-03-25",
          "2025-03-26",
          "2025-03-27",
          "2025-03-28",
          "2025-03-31",
          "2025-04-01",
          "2025-04-02",
          "2025-04-03",
          "2025-04-04",
          "2025-04-07",
          "2025-04-08",
          "2025-04-09",
          "2025-04-10",
          "2025-04-11",
          "2025-04-14",
          "2025-04-15",
          "2025-04-16",
          "2025-04-17",
          "2025-04-21",
          "2025-04-22",
          "2025-04-23",
          "2025-04-24",
          "2025-04-25",
          "2025-04-28",
          "2025-04-29",
          "2025-04-30",
          "2025-05-01",
          "2025-05-02",
          "2025-05-05",
          "2025-05-06",
          "2025-05-07",
          "2025-05-08",
          "2025-05-09",
          "2025-05-12",
          "2025-05-13",
          "2025-05-14",
          "2025-05-15",
          "2025-05-16",
          "2025-05-19",
          "2025-05-20",
          "2025-05-21",
          "2025-05-22",
          "2025-05-23",
          "2025-05-27",
          "2025-05-28",
          "2025-05-29",
          "2025-05-30",
          "2025-06-02",
          "2025-06-03",
          "2025-06-04",
          "2025-06-05",
          "2025-06-06",
          "2025-06-09",
          "2025-06-10",
          "2025-06-11",
          "2025-06-12",
          "2025-06-13",
          "2025-06-16",
          "2025-06-17",
          "2025-06-18",
          "2025-06-20",
          "2025-06-23",
          "2025-06-24",
          "2025-06-25",
          "2025-06-26",
          "2025-06-27",
          "2025-06-30",
          "2025-07-01",
          "2025-07-02",
          "2025-07-03",
          "2025-07-07",
          "2025-07-08",
          "2025-07-09",
          "2025-07-10",
          "2025-07-11",
          "2025-07-14",
          "2025-07-15",
          "2025-07-16",
          "2025-07-17",
          "2025-07-18",
          "2025-07-21",
          "2025-07-22",
          "2025-07-23",
          "2025-07-24",
          "2025-07-25",
          "2025-07-28",
          "2025-07-29",
          "2025-07-30",
          "2025-07-31",
          "2025-08-01",
          "2025-08-04",
          "2025-08-05",
          "2025-08-06",
          "2025-08-07",
          "2025-08-08",
          "2025-08-11",
          "2025-08-12",
          "2025-08-13",
          "2025-08-14",
          "2025-08-15",
          "2025-08-18",
          "2025-08-19",
          "2025-08-20",
          "2025-08-21",
          "2025-08-22",
          "2025-08-25",
          "2025-08-26",
          "2025-08-27",
          "2025-08-28",
          "2025-08-29",
          "2025-09-02",
          "2025-09-03",
          "2025-09-04",
          "2025-09-05",
          "2025-09-08",
          "2025-09-09",
          "2025-09-10"
         ],
         "xaxis": "x",
         "y": {
          "bdata": "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",
          "dtype": "f8"
         },
         "yaxis": "y"
        },
        {
         "name": "SMA 50",
         "type": "scatter",
         "x": [
          "2024-07-17",
          "2024-07-18",
          "2024-07-19",
          "2024-07-22",
          "2024-07-23",
          "2024-07-24",
          "2024-07-25",
          "2024-07-26",
          "2024-07-29",
          "2024-07-30",
          "2024-07-31",
          "2024-08-01",
          "2024-08-02",
          "2024-08-05",
          "2024-08-06",
          "2024-08-07",
          "2024-08-08",
          "2024-08-09",
          "2024-08-12",
          "2024-08-13",
          "2024-08-14",
          "2024-08-15",
          "2024-08-16",
          "2024-08-19",
          "2024-08-20",
          "2024-08-21",
          "2024-08-22",
          "2024-08-23",
          "2024-08-26",
          "2024-08-27",
          "2024-08-28",
          "2024-08-29",
          "2024-08-30",
          "2024-09-03",
          "2024-09-04",
          "2024-09-05",
          "2024-09-06",
          "2024-09-09",
          "2024-09-10",
          "2024-09-11",
          "2024-09-12",
          "2024-09-13",
          "2024-09-16",
          "2024-09-17",
          "2024-09-18",
          "2024-09-19",
          "2024-09-20",
          "2024-09-23",
          "2024-09-24",
          "2024-09-25",
          "2024-09-26",
          "2024-09-27",
          "2024-09-30",
          "2024-10-01",
          "2024-10-02",
          "2024-10-03",
          "2024-10-04",
          "2024-10-07",
          "2024-10-08",
          "2024-10-09",
          "2024-10-10",
          "2024-10-11",
          "2024-10-14",
          "2024-10-15",
          "2024-10-16",
          "2024-10-17",
          "2024-10-18",
          "2024-10-21",
          "2024-10-22",
          "2024-10-23",
          "2024-10-24",
          "2024-10-25",
          "2024-10-28",
          "2024-10-29",
          "2024-10-30",
          "2024-10-31",
          "2024-11-01",
          "2024-11-04",
          "2024-11-05",
          "2024-11-06",
          "2024-11-07",
          "2024-11-08",
          "2024-11-11",
          "2024-11-12",
          "2024-11-13",
          "2024-11-14",
          "2024-11-15",
          "2024-11-18",
          "2024-11-19",
          "2024-11-20",
          "2024-11-21",
          "2024-11-22",
          "2024-11-25",
          "2024-11-26",
          "2024-11-27",
          "2024-11-29",
          "2024-12-02",
          "2024-12-03",
          "2024-12-04",
          "2024-12-05",
          "2024-12-06",
          "2024-12-09",
          "2024-12-10",
          "2024-12-11",
          "2024-12-12",
          "2024-12-13",
          "2024-12-16",
          "2024-12-17",
          "2024-12-18",
          "2024-12-19",
          "2024-12-20",
          "2024-12-23",
          "2024-12-24",
          "2024-12-26",
          "2024-12-27",
          "2024-12-30",
          "2024-12-31",
          "2025-01-02",
          "2025-01-03",
          "2025-01-06",
          "2025-01-07",
          "2025-01-08",
          "2025-01-10",
          "2025-01-13",
          "2025-01-14",
          "2025-01-15",
          "2025-01-16",
          "2025-01-17",
          "2025-01-21",
          "2025-01-22",
          "2025-01-23",
          "2025-01-24",
          "2025-01-27",
          "2025-01-28",
          "2025-01-29",
          "2025-01-30",
          "2025-01-31",
          "2025-02-03",
          "2025-02-04",
          "2025-02-05",
          "2025-02-06",
          "2025-02-07",
          "2025-02-10",
          "2025-02-11",
          "2025-02-12",
          "2025-02-13",
          "2025-02-14",
          "2025-02-18",
          "2025-02-19",
          "2025-02-20",
          "2025-02-21",
          "2025-02-24",
          "2025-02-25",
          "2025-02-26",
          "2025-02-27",
          "2025-02-28",
          "2025-03-03",
          "2025-03-04",
          "2025-03-05",
          "2025-03-06",
          "2025-03-07",
          "2025-03-10",
          "2025-03-11",
          "2025-03-12",
          "2025-03-13",
          "2025-03-14",
          "2025-03-17",
          "2025-03-18",
          "2025-03-19",
          "2025-03-20",
          "2025-03-21",
          "2025-03-24",
          "2025-03-25",
          "2025-03-26",
          "2025-03-27",
          "2025-03-28",
          "2025-03-31",
          "2025-04-01",
          "2025-04-02",
          "2025-04-03",
          "2025-04-04",
          "2025-04-07",
          "2025-04-08",
          "2025-04-09",
          "2025-04-10",
          "2025-04-11",
          "2025-04-14",
          "2025-04-15",
          "2025-04-16",
          "2025-04-17",
          "2025-04-21",
          "2025-04-22",
          "2025-04-23",
          "2025-04-24",
          "2025-04-25",
          "2025-04-28",
          "2025-04-29",
          "2025-04-30",
          "2025-05-01",
          "2025-05-02",
          "2025-05-05",
          "2025-05-06",
          "2025-05-07",
          "2025-05-08",
          "2025-05-09",
          "2025-05-12",
          "2025-05-13",
          "2025-05-14",
          "2025-05-15",
          "2025-05-16",
          "2025-05-19",
          "2025-05-20",
          "2025-05-21",
          "2025-05-22",
          "2025-05-23",
          "2025-05-27",
          "2025-05-28",
          "2025-05-29",
          "2025-05-30",
          "2025-06-02",
          "2025-06-03",
          "2025-06-04",
          "2025-06-05",
          "2025-06-06",
          "2025-06-09",
          "2025-06-10",
          "2025-06-11",
          "2025-06-12",
          "2025-06-13",
          "2025-06-16",
          "2025-06-17",
          "2025-06-18",
          "2025-06-20",
          "2025-06-23",
          "2025-06-24",
          "2025-06-25",
          "2025-06-26",
          "2025-06-27",
          "2025-06-30",
          "2025-07-01",
          "2025-07-02",
          "2025-07-03",
          "2025-07-07",
          "2025-07-08",
          "2025-07-09",
          "2025-07-10",
          "2025-07-11",
          "2025-07-14",
          "2025-07-15",
          "2025-07-16",
          "2025-07-17",
          "2025-07-18",
          "2025-07-21",
          "2025-07-22",
          "2025-07-23",
          "2025-07-24",
          "2025-07-25",
          "2025-07-28",
          "2025-07-29",
          "2025-07-30",
          "2025-07-31",
          "2025-08-01",
          "2025-08-04",
          "2025-08-05",
          "2025-08-06",
          "2025-08-07",
          "2025-08-08",
          "2025-08-11",
          "2025-08-12",
          "2025-08-13",
          "2025-08-14",
          "2025-08-15",
          "2025-08-18",
          "2025-08-19",
          "2025-08-20",
          "2025-08-21",
          "2025-08-22",
          "2025-08-25",
          "2025-08-26",
          "2025-08-27",
          "2025-08-28",
          "2025-08-29",
          "2025-09-02",
          "2025-09-03",
          "2025-09-04",
          "2025-09-05",
          "2025-09-08",
          "2025-09-09",
          "2025-09-10"
         ],
         "xaxis": "x",
         "y": {
          "bdata": "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",
          "dtype": "f8"
         },
         "yaxis": "y"
        }
       ],
       "layout": {
        "annotations": [
         {
          "font": {
           "size": 8
          },
          "showarrow": false,
          "text": "Date: 2025-09-10, Open:265.89, High:267.4, Low:263.99, Close: 267.4",
          "x": 0.01,
          "xref": "x domain",
          "y": 1,
          "yref": "y domain"
         }
        ],
        "height": 400,
        "legend": {
         "font": {
          "size": 8
         },
         "title": {
          "font": {
           "family": "Arial"
          }
         }
        },
        "template": {
         "data": {
          "bar": [
           {
            "error_x": {
             "color": "#2a3f5f"
            },
            "error_y": {
             "color": "#2a3f5f"
            },
            "marker": {
             "line": {
              "color": "#E5ECF6",
              "width": 0.5
             },
             "pattern": {
              "fillmode": "overlay",
              "size": 10,
              "solidity": 0.2
             }
            },
            "type": "bar"
           }
          ],
          "barpolar": [
           {
            "marker": {
             "line": {
              "color": "#E5ECF6",
              "width": 0.5
             },
             "pattern": {
              "fillmode": "overlay",
              "size": 10,
              "solidity": 0.2
             }
            },
            "type": "barpolar"
           }
          ],
          "carpet": [
           {
            "aaxis": {
             "endlinecolor": "#2a3f5f",
             "gridcolor": "white",
             "linecolor": "white",
             "minorgridcolor": "white",
             "startlinecolor": "#2a3f5f"
            },
            "baxis": {
             "endlinecolor": "#2a3f5f",
             "gridcolor": "white",
             "linecolor": "white",
             "minorgridcolor": "white",
             "startlinecolor": "#2a3f5f"
            },
            "type": "carpet"
           }
          ],
          "choropleth": [
           {
            "colorbar": {
             "outlinewidth": 0,
             "ticks": ""
            },
            "type": "choropleth"
           }
          ],
          "contour": [
           {
            "colorbar": {
             "outlinewidth": 0,
             "ticks": ""
            },
            "colorscale": [
             [
              0,
              "#0d0887"
             ],
             [
              0.1111111111111111,
              "#46039f"
             ],
             [
              0.2222222222222222,
              "#7201a8"
             ],
             [
              0.3333333333333333,
              "#9c179e"
             ],
             [
              0.4444444444444444,
              "#bd3786"
             ],
             [
              0.5555555555555556,
              "#d8576b"
             ],
             [
              0.6666666666666666,
              "#ed7953"
             ],
             [
              0.7777777777777778,
              "#fb9f3a"
             ],
             [
              0.8888888888888888,
              "#fdca26"
             ],
             [
              1,
              "#f0f921"
             ]
            ],
            "type": "contour"
           }
          ],
          "contourcarpet": [
           {
            "colorbar": {
             "outlinewidth": 0,
             "ticks": ""
            },
            "type": "contourcarpet"
           }
          ],
          "heatmap": [
           {
            "colorbar": {
             "outlinewidth": 0,
             "ticks": ""
            },
            "colorscale": [
             [
              0,
              "#0d0887"
             ],
             [
              0.1111111111111111,
              "#46039f"
             ],
             [
              0.2222222222222222,
              "#7201a8"
             ],
             [
              0.3333333333333333,
              "#9c179e"
             ],
             [
              0.4444444444444444,
              "#bd3786"
             ],
             [
              0.5555555555555556,
              "#d8576b"
             ],
             [
              0.6666666666666666,
              "#ed7953"
             ],
             [
              0.7777777777777778,
              "#fb9f3a"
             ],
             [
              0.8888888888888888,
              "#fdca26"
             ],
             [
              1,
              "#f0f921"
             ]
            ],
            "type": "heatmap"
           }
          ],
          "histogram": [
           {
            "marker": {
             "pattern": {
              "fillmode": "overlay",
              "size": 10,
              "solidity": 0.2
             }
            },
            "type": "histogram"
           }
          ],
          "histogram2d": [
           {
            "colorbar": {
             "outlinewidth": 0,
             "ticks": ""
            },
            "colorscale": [
             [
              0,
              "#0d0887"
             ],
             [
              0.1111111111111111,
              "#46039f"
             ],
             [
              0.2222222222222222,
              "#7201a8"
             ],
             [
              0.3333333333333333,
              "#9c179e"
             ],
             [
              0.4444444444444444,
              "#bd3786"
             ],
             [
              0.5555555555555556,
              "#d8576b"
             ],
             [
              0.6666666666666666,
              "#ed7953"
             ],
             [
              0.7777777777777778,
              "#fb9f3a"
             ],
             [
              0.8888888888888888,
              "#fdca26"
             ],
             [
              1,
              "#f0f921"
             ]
            ],
            "type": "histogram2d"
           }
          ],
          "histogram2dcontour": [
           {
            "colorbar": {
             "outlinewidth": 0,
             "ticks": ""
            },
            "colorscale": [
             [
              0,
              "#0d0887"
             ],
             [
              0.1111111111111111,
              "#46039f"
             ],
             [
              0.2222222222222222,
              "#7201a8"
             ],
             [
              0.3333333333333333,
              "#9c179e"
             ],
             [
              0.4444444444444444,
              "#bd3786"
             ],
             [
              0.5555555555555556,
              "#d8576b"
             ],
             [
              0.6666666666666666,
              "#ed7953"
             ],
             [
              0.7777777777777778,
              "#fb9f3a"
             ],
             [
              0.8888888888888888,
              "#fdca26"
             ],
             [
              1,
              "#f0f921"
             ]
            ],
            "type": "histogram2dcontour"
           }
          ],
          "mesh3d": [
           {
            "colorbar": {
             "outlinewidth": 0,
             "ticks": ""
            },
            "type": "mesh3d"
           }
          ],
          "parcoords": [
           {
            "line": {
             "colorbar": {
              "outlinewidth": 0,
              "ticks": ""
             }
            },
            "type": "parcoords"
           }
          ],
          "pie": [
           {
            "automargin": true,
            "type": "pie"
           }
          ],
          "scatter": [
           {
            "fillpattern": {
             "fillmode": "overlay",
             "size": 10,
             "solidity": 0.2
            },
            "type": "scatter"
           }
          ],
          "scatter3d": [
           {
            "line": {
             "colorbar": {
              "outlinewidth": 0,
              "ticks": ""
             }
            },
            "marker": {
             "colorbar": {
              "outlinewidth": 0,
              "ticks": ""
             }
            },
            "type": "scatter3d"
           }
          ],
          "scattercarpet": [
           {
            "marker": {
             "colorbar": {
              "outlinewidth": 0,
              "ticks": ""
             }
            },
            "type": "scattercarpet"
           }
          ],
          "scattergeo": [
           {
            "marker": {
             "colorbar": {
              "outlinewidth": 0,
              "ticks": ""
             }
            },
            "type": "scattergeo"
           }
          ],
          "scattergl": [
           {
            "marker": {
             "colorbar": {
              "outlinewidth": 0,
              "ticks": ""
             }
            },
            "type": "scattergl"
           }
          ],
          "scattermap": [
           {
            "marker": {
             "colorbar": {
              "outlinewidth": 0,
              "ticks": ""
             }
            },
            "type": "scattermap"
           }
          ],
          "scattermapbox": [
           {
            "marker": {
             "colorbar": {
              "outlinewidth": 0,
              "ticks": ""
             }
            },
            "type": "scattermapbox"
           }
          ],
          "scatterpolar": [
           {
            "marker": {
             "colorbar": {
              "outlinewidth": 0,
              "ticks": ""
             }
            },
            "type": "scatterpolar"
           }
          ],
          "scatterpolargl": [
           {
            "marker": {
             "colorbar": {
              "outlinewidth": 0,
              "ticks": ""
             }
            },
            "type": "scatterpolargl"
           }
          ],
          "scatterternary": [
           {
            "marker": {
             "colorbar": {
              "outlinewidth": 0,
              "ticks": ""
             }
            },
            "type": "scatterternary"
           }
          ],
          "surface": [
           {
            "colorbar": {
             "outlinewidth": 0,
             "ticks": ""
            },
            "colorscale": [
             [
              0,
              "#0d0887"
             ],
             [
              0.1111111111111111,
              "#46039f"
             ],
             [
              0.2222222222222222,
              "#7201a8"
             ],
             [
              0.3333333333333333,
              "#9c179e"
             ],
             [
              0.4444444444444444,
              "#bd3786"
             ],
             [
              0.5555555555555556,
              "#d8576b"
             ],
             [
              0.6666666666666666,
              "#ed7953"
             ],
             [
              0.7777777777777778,
              "#fb9f3a"
             ],
             [
              0.8888888888888888,
              "#fdca26"
             ],
             [
              1,
              "#f0f921"
             ]
            ],
            "type": "surface"
           }
          ],
          "table": [
           {
            "cells": {
             "fill": {
              "color": "#EBF0F8"
             },
             "line": {
              "color": "white"
             }
            },
            "header": {
             "fill": {
              "color": "#C8D4E3"
             },
             "line": {
              "color": "white"
             }
            },
            "type": "table"
           }
          ]
         },
         "layout": {
          "annotationdefaults": {
           "arrowcolor": "#2a3f5f",
           "arrowhead": 0,
           "arrowwidth": 1
          },
          "autotypenumbers": "strict",
          "coloraxis": {
           "colorbar": {
            "outlinewidth": 0,
            "ticks": ""
           }
          },
          "colorscale": {
           "diverging": [
            [
             0,
             "#8e0152"
            ],
            [
             0.1,
             "#c51b7d"
            ],
            [
             0.2,
             "#de77ae"
            ],
            [
             0.3,
             "#f1b6da"
            ],
            [
             0.4,
             "#fde0ef"
            ],
            [
             0.5,
             "#f7f7f7"
            ],
            [
             0.6,
             "#e6f5d0"
            ],
            [
             0.7,
             "#b8e186"
            ],
            [
             0.8,
             "#7fbc41"
            ],
            [
             0.9,
             "#4d9221"
            ],
            [
             1,
             "#276419"
            ]
           ],
           "sequential": [
            [
             0,
             "#0d0887"
            ],
            [
             0.1111111111111111,
             "#46039f"
            ],
            [
             0.2222222222222222,
             "#7201a8"
            ],
            [
             0.3333333333333333,
             "#9c179e"
            ],
            [
             0.4444444444444444,
             "#bd3786"
            ],
            [
             0.5555555555555556,
             "#d8576b"
            ],
            [
             0.6666666666666666,
             "#ed7953"
            ],
            [
             0.7777777777777778,
             "#fb9f3a"
            ],
            [
             0.8888888888888888,
             "#fdca26"
            ],
            [
             1,
             "#f0f921"
            ]
           ],
           "sequentialminus": [
            [
             0,
             "#0d0887"
            ],
            [
             0.1111111111111111,
             "#46039f"
            ],
            [
             0.2222222222222222,
             "#7201a8"
            ],
            [
             0.3333333333333333,
             "#9c179e"
            ],
            [
             0.4444444444444444,
             "#bd3786"
            ],
            [
             0.5555555555555556,
             "#d8576b"
            ],
            [
             0.6666666666666666,
             "#ed7953"
            ],
            [
             0.7777777777777778,
             "#fb9f3a"
            ],
            [
             0.8888888888888888,
             "#fdca26"
            ],
            [
             1,
             "#f0f921"
            ]
           ]
          },
          "colorway": [
           "#636efa",
           "#EF553B",
           "#00cc96",
           "#ab63fa",
           "#FFA15A",
           "#19d3f3",
           "#FF6692",
           "#B6E880",
           "#FF97FF",
           "#FECB52"
          ],
          "font": {
           "color": "#2a3f5f"
          },
          "geo": {
           "bgcolor": "white",
           "lakecolor": "white",
           "landcolor": "#E5ECF6",
           "showlakes": true,
           "showland": true,
           "subunitcolor": "white"
          },
          "hoverlabel": {
           "align": "left"
          },
          "hovermode": "closest",
          "mapbox": {
           "style": "light"
          },
          "paper_bgcolor": "white",
          "plot_bgcolor": "#E5ECF6",
          "polar": {
           "angularaxis": {
            "gridcolor": "white",
            "linecolor": "white",
            "ticks": ""
           },
           "bgcolor": "#E5ECF6",
           "radialaxis": {
            "gridcolor": "white",
            "linecolor": "white",
            "ticks": ""
           }
          },
          "scene": {
           "xaxis": {
            "backgroundcolor": "#E5ECF6",
            "gridcolor": "white",
            "gridwidth": 2,
            "linecolor": "white",
            "showbackground": true,
            "ticks": "",
            "zerolinecolor": "white"
           },
           "yaxis": {
            "backgroundcolor": "#E5ECF6",
            "gridcolor": "white",
            "gridwidth": 2,
            "linecolor": "white",
            "showbackground": true,
            "ticks": "",
            "zerolinecolor": "white"
           },
           "zaxis": {
            "backgroundcolor": "#E5ECF6",
            "gridcolor": "white",
            "gridwidth": 2,
            "linecolor": "white",
            "showbackground": true,
            "ticks": "",
            "zerolinecolor": "white"
           }
          },
          "shapedefaults": {
           "line": {
            "color": "#2a3f5f"
           }
          },
          "ternary": {
           "aaxis": {
            "gridcolor": "white",
            "linecolor": "white",
            "ticks": ""
           },
           "baxis": {
            "gridcolor": "white",
            "linecolor": "white",
            "ticks": ""
           },
           "bgcolor": "#E5ECF6",
           "caxis": {
            "gridcolor": "white",
            "linecolor": "white",
            "ticks": ""
           }
          },
          "title": {
           "x": 0.05
          },
          "xaxis": {
           "automargin": true,
           "gridcolor": "white",
           "linecolor": "white",
           "ticks": "",
           "title": {
            "standoff": 15
           },
           "zerolinecolor": "white",
           "zerolinewidth": 2
          },
          "yaxis": {
           "automargin": true,
           "gridcolor": "white",
           "linecolor": "white",
           "ticks": "",
           "title": {
            "standoff": 15
           },
           "zerolinecolor": "white",
           "zerolinewidth": 2
          }
         }
        },
        "title": {
         "text": "TOP 20",
         "x": 0.5
        },
        "width": 600,
        "xaxis": {
         "anchor": "y",
         "domain": [
          0,
          0.94
         ]
        },
        "yaxis": {
         "anchor": "x",
         "domain": [
          0,
          1
         ],
         "side": "right"
        },
        "yaxis2": {
         "anchor": "x",
         "overlaying": "y",
         "side": "right"
        }
       }
      }
     },
     "metadata": {},
     "output_type": "display_data"
    },
    {
     "data": {
      "application/vnd.plotly.v1+json": {
       "config": {
        "plotlyServerURL": "https://plot.ly"
       },
       "data": [
        {
         "name": "ORCL: 28.37 %",
         "type": "scatter",
         "x": [
          "2024-07-17",
          "2024-07-18",
          "2024-07-19",
          "2024-07-22",
          "2024-07-23",
          "2024-07-24",
          "2024-07-25",
          "2024-07-26",
          "2024-07-29",
          "2024-07-30",
          "2024-07-31",
          "2024-08-01",
          "2024-08-02",
          "2024-08-05",
          "2024-08-06",
          "2024-08-07",
          "2024-08-08",
          "2024-08-09",
          "2024-08-12",
          "2024-08-13",
          "2024-08-14",
          "2024-08-15",
          "2024-08-16",
          "2024-08-19",
          "2024-08-20",
          "2024-08-21",
          "2024-08-22",
          "2024-08-23",
          "2024-08-26",
          "2024-08-27",
          "2024-08-28",
          "2024-08-29",
          "2024-08-30",
          "2024-09-03",
          "2024-09-04",
          "2024-09-05",
          "2024-09-06",
          "2024-09-09",
          "2024-09-10",
          "2024-09-11",
          "2024-09-12",
          "2024-09-13",
          "2024-09-16",
          "2024-09-17",
          "2024-09-18",
          "2024-09-19",
          "2024-09-20",
          "2024-09-23",
          "2024-09-24",
          "2024-09-25",
          "2024-09-26",
          "2024-09-27",
          "2024-09-30",
          "2024-10-01",
          "2024-10-02",
          "2024-10-03",
          "2024-10-04",
          "2024-10-07",
          "2024-10-08",
          "2024-10-09",
          "2024-10-10",
          "2024-10-11",
          "2024-10-14",
          "2024-10-15",
          "2024-10-16",
          "2024-10-17",
          "2024-10-18",
          "2024-10-21",
          "2024-10-22",
          "2024-10-23",
          "2024-10-24",
          "2024-10-25",
          "2024-10-28",
          "2024-10-29",
          "2024-10-30",
          "2024-10-31",
          "2024-11-01",
          "2024-11-04",
          "2024-11-05",
          "2024-11-06",
          "2024-11-07",
          "2024-11-08",
          "2024-11-11",
          "2024-11-12",
          "2024-11-13",
          "2024-11-14",
          "2024-11-15",
          "2024-11-18",
          "2024-11-19",
          "2024-11-20",
          "2024-11-21",
          "2024-11-22",
          "2024-11-25",
          "2024-11-26",
          "2024-11-27",
          "2024-11-29",
          "2024-12-02",
          "2024-12-03",
          "2024-12-04",
          "2024-12-05",
          "2024-12-06",
          "2024-12-09",
          "2024-12-10",
          "2024-12-11",
          "2024-12-12",
          "2024-12-13",
          "2024-12-16",
          "2024-12-17",
          "2024-12-18",
          "2024-12-19",
          "2024-12-20",
          "2024-12-23",
          "2024-12-24",
          "2024-12-26",
          "2024-12-27",
          "2024-12-30",
          "2024-12-31",
          "2025-01-02",
          "2025-01-03",
          "2025-01-06",
          "2025-01-07",
          "2025-01-08",
          "2025-01-10",
          "2025-01-13",
          "2025-01-14",
          "2025-01-15",
          "2025-01-16",
          "2025-01-17",
          "2025-01-21",
          "2025-01-22",
          "2025-01-23",
          "2025-01-24",
          "2025-01-27",
          "2025-01-28",
          "2025-01-29",
          "2025-01-30",
          "2025-01-31",
          "2025-02-03",
          "2025-02-04",
          "2025-02-05",
          "2025-02-06",
          "2025-02-07",
          "2025-02-10",
          "2025-02-11",
          "2025-02-12",
          "2025-02-13",
          "2025-02-14",
          "2025-02-18",
          "2025-02-19",
          "2025-02-20",
          "2025-02-21",
          "2025-02-24",
          "2025-02-25",
          "2025-02-26",
          "2025-02-27",
          "2025-02-28",
          "2025-03-03",
          "2025-03-04",
          "2025-03-05",
          "2025-03-06",
          "2025-03-07",
          "2025-03-10",
          "2025-03-11",
          "2025-03-12",
          "2025-03-13",
          "2025-03-14",
          "2025-03-17",
          "2025-03-18",
          "2025-03-19",
          "2025-03-20",
          "2025-03-21",
          "2025-03-24",
          "2025-03-25",
          "2025-03-26",
          "2025-03-27",
          "2025-03-28",
          "2025-03-31",
          "2025-04-01",
          "2025-04-02",
          "2025-04-03",
          "2025-04-04",
          "2025-04-07",
          "2025-04-08",
          "2025-04-09",
          "2025-04-10",
          "2025-04-11",
          "2025-04-14",
          "2025-04-15",
          "2025-04-16",
          "2025-04-17",
          "2025-04-21",
          "2025-04-22",
          "2025-04-23",
          "2025-04-24",
          "2025-04-25",
          "2025-04-28",
          "2025-04-29",
          "2025-04-30",
          "2025-05-01",
          "2025-05-02",
          "2025-05-05",
          "2025-05-06",
          "2025-05-07",
          "2025-05-08",
          "2025-05-09",
          "2025-05-12",
          "2025-05-13",
          "2025-05-14",
          "2025-05-15",
          "2025-05-16",
          "2025-05-19",
          "2025-05-20",
          "2025-05-21",
          "2025-05-22",
          "2025-05-23",
          "2025-05-27",
          "2025-05-28",
          "2025-05-29",
          "2025-05-30",
          "2025-06-02",
          "2025-06-03",
          "2025-06-04",
          "2025-06-05",
          "2025-06-06",
          "2025-06-09",
          "2025-06-10",
          "2025-06-11",
          "2025-06-12",
          "2025-06-13",
          "2025-06-16",
          "2025-06-17",
          "2025-06-18",
          "2025-06-20",
          "2025-06-23",
          "2025-06-24",
          "2025-06-25",
          "2025-06-26",
          "2025-06-27",
          "2025-06-30",
          "2025-07-01",
          "2025-07-02",
          "2025-07-03",
          "2025-07-07",
          "2025-07-08",
          "2025-07-09",
          "2025-07-10",
          "2025-07-11",
          "2025-07-14",
          "2025-07-15",
          "2025-07-16",
          "2025-07-17",
          "2025-07-18",
          "2025-07-21",
          "2025-07-22",
          "2025-07-23",
          "2025-07-24",
          "2025-07-25",
          "2025-07-28",
          "2025-07-29",
          "2025-07-30",
          "2025-07-31",
          "2025-08-01",
          "2025-08-04",
          "2025-08-05",
          "2025-08-06",
          "2025-08-07",
          "2025-08-08",
          "2025-08-11",
          "2025-08-12",
          "2025-08-13",
          "2025-08-14",
          "2025-08-15",
          "2025-08-18",
          "2025-08-19",
          "2025-08-20",
          "2025-08-21",
          "2025-08-22",
          "2025-08-25",
          "2025-08-26",
          "2025-08-27",
          "2025-08-28",
          "2025-08-29",
          "2025-09-02",
          "2025-09-03",
          "2025-09-04",
          "2025-09-05",
          "2025-09-08",
          "2025-09-09",
          "2025-09-10"
         ],
         "xaxis": "x",
         "y": {
          "bdata": "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",
          "dtype": "f8"
         },
         "yaxis": "y"
        },
        {
         "name": "SMA 50",
         "type": "scatter",
         "x": [
          "2024-07-17",
          "2024-07-18",
          "2024-07-19",
          "2024-07-22",
          "2024-07-23",
          "2024-07-24",
          "2024-07-25",
          "2024-07-26",
          "2024-07-29",
          "2024-07-30",
          "2024-07-31",
          "2024-08-01",
          "2024-08-02",
          "2024-08-05",
          "2024-08-06",
          "2024-08-07",
          "2024-08-08",
          "2024-08-09",
          "2024-08-12",
          "2024-08-13",
          "2024-08-14",
          "2024-08-15",
          "2024-08-16",
          "2024-08-19",
          "2024-08-20",
          "2024-08-21",
          "2024-08-22",
          "2024-08-23",
          "2024-08-26",
          "2024-08-27",
          "2024-08-28",
          "2024-08-29",
          "2024-08-30",
          "2024-09-03",
          "2024-09-04",
          "2024-09-05",
          "2024-09-06",
          "2024-09-09",
          "2024-09-10",
          "2024-09-11",
          "2024-09-12",
          "2024-09-13",
          "2024-09-16",
          "2024-09-17",
          "2024-09-18",
          "2024-09-19",
          "2024-09-20",
          "2024-09-23",
          "2024-09-24",
          "2024-09-25",
          "2024-09-26",
          "2024-09-27",
          "2024-09-30",
          "2024-10-01",
          "2024-10-02",
          "2024-10-03",
          "2024-10-04",
          "2024-10-07",
          "2024-10-08",
          "2024-10-09",
          "2024-10-10",
          "2024-10-11",
          "2024-10-14",
          "2024-10-15",
          "2024-10-16",
          "2024-10-17",
          "2024-10-18",
          "2024-10-21",
          "2024-10-22",
          "2024-10-23",
          "2024-10-24",
          "2024-10-25",
          "2024-10-28",
          "2024-10-29",
          "2024-10-30",
          "2024-10-31",
          "2024-11-01",
          "2024-11-04",
          "2024-11-05",
          "2024-11-06",
          "2024-11-07",
          "2024-11-08",
          "2024-11-11",
          "2024-11-12",
          "2024-11-13",
          "2024-11-14",
          "2024-11-15",
          "2024-11-18",
          "2024-11-19",
          "2024-11-20",
          "2024-11-21",
          "2024-11-22",
          "2024-11-25",
          "2024-11-26",
          "2024-11-27",
          "2024-11-29",
          "2024-12-02",
          "2024-12-03",
          "2024-12-04",
          "2024-12-05",
          "2024-12-06",
          "2024-12-09",
          "2024-12-10",
          "2024-12-11",
          "2024-12-12",
          "2024-12-13",
          "2024-12-16",
          "2024-12-17",
          "2024-12-18",
          "2024-12-19",
          "2024-12-20",
          "2024-12-23",
          "2024-12-24",
          "2024-12-26",
          "2024-12-27",
          "2024-12-30",
          "2024-12-31",
          "2025-01-02",
          "2025-01-03",
          "2025-01-06",
          "2025-01-07",
          "2025-01-08",
          "2025-01-10",
          "2025-01-13",
          "2025-01-14",
          "2025-01-15",
          "2025-01-16",
          "2025-01-17",
          "2025-01-21",
          "2025-01-22",
          "2025-01-23",
          "2025-01-24",
          "2025-01-27",
          "2025-01-28",
          "2025-01-29",
          "2025-01-30",
          "2025-01-31",
          "2025-02-03",
          "2025-02-04",
          "2025-02-05",
          "2025-02-06",
          "2025-02-07",
          "2025-02-10",
          "2025-02-11",
          "2025-02-12",
          "2025-02-13",
          "2025-02-14",
          "2025-02-18",
          "2025-02-19",
          "2025-02-20",
          "2025-02-21",
          "2025-02-24",
          "2025-02-25",
          "2025-02-26",
          "2025-02-27",
          "2025-02-28",
          "2025-03-03",
          "2025-03-04",
          "2025-03-05",
          "2025-03-06",
          "2025-03-07",
          "2025-03-10",
          "2025-03-11",
          "2025-03-12",
          "2025-03-13",
          "2025-03-14",
          "2025-03-17",
          "2025-03-18",
          "2025-03-19",
          "2025-03-20",
          "2025-03-21",
          "2025-03-24",
          "2025-03-25",
          "2025-03-26",
          "2025-03-27",
          "2025-03-28",
          "2025-03-31",
          "2025-04-01",
          "2025-04-02",
          "2025-04-03",
          "2025-04-04",
          "2025-04-07",
          "2025-04-08",
          "2025-04-09",
          "2025-04-10",
          "2025-04-11",
          "2025-04-14",
          "2025-04-15",
          "2025-04-16",
          "2025-04-17",
          "2025-04-21",
          "2025-04-22",
          "2025-04-23",
          "2025-04-24",
          "2025-04-25",
          "2025-04-28",
          "2025-04-29",
          "2025-04-30",
          "2025-05-01",
          "2025-05-02",
          "2025-05-05",
          "2025-05-06",
          "2025-05-07",
          "2025-05-08",
          "2025-05-09",
          "2025-05-12",
          "2025-05-13",
          "2025-05-14",
          "2025-05-15",
          "2025-05-16",
          "2025-05-19",
          "2025-05-20",
          "2025-05-21",
          "2025-05-22",
          "2025-05-23",
          "2025-05-27",
          "2025-05-28",
          "2025-05-29",
          "2025-05-30",
          "2025-06-02",
          "2025-06-03",
          "2025-06-04",
          "2025-06-05",
          "2025-06-06",
          "2025-06-09",
          "2025-06-10",
          "2025-06-11",
          "2025-06-12",
          "2025-06-13",
          "2025-06-16",
          "2025-06-17",
          "2025-06-18",
          "2025-06-20",
          "2025-06-23",
          "2025-06-24",
          "2025-06-25",
          "2025-06-26",
          "2025-06-27",
          "2025-06-30",
          "2025-07-01",
          "2025-07-02",
          "2025-07-03",
          "2025-07-07",
          "2025-07-08",
          "2025-07-09",
          "2025-07-10",
          "2025-07-11",
          "2025-07-14",
          "2025-07-15",
          "2025-07-16",
          "2025-07-17",
          "2025-07-18",
          "2025-07-21",
          "2025-07-22",
          "2025-07-23",
          "2025-07-24",
          "2025-07-25",
          "2025-07-28",
          "2025-07-29",
          "2025-07-30",
          "2025-07-31",
          "2025-08-01",
          "2025-08-04",
          "2025-08-05",
          "2025-08-06",
          "2025-08-07",
          "2025-08-08",
          "2025-08-11",
          "2025-08-12",
          "2025-08-13",
          "2025-08-14",
          "2025-08-15",
          "2025-08-18",
          "2025-08-19",
          "2025-08-20",
          "2025-08-21",
          "2025-08-22",
          "2025-08-25",
          "2025-08-26",
          "2025-08-27",
          "2025-08-28",
          "2025-08-29",
          "2025-09-02",
          "2025-09-03",
          "2025-09-04",
          "2025-09-05",
          "2025-09-08",
          "2025-09-09",
          "2025-09-10"
         ],
         "xaxis": "x",
         "y": {
          "bdata": "AAAAAAAA+H8AAAAAAAD4fwAAAAAAAPh/AAAAAAAA+H8AAAAAAAD4fwAAAAAAAPh/AAAAAAAA+H8AAAAAAAD4fwAAAAAAAPh/AAAAAAAA+H8AAAAAAAD4fwAAAAAAAPh/AAAAAAAA+H8AAAAAAAD4fwAAAAAAAPh/AAAAAAAA+H8AAAAAAAD4fwAAAAAAAPh/AAAAAAAA+H8AAAAAAAD4fwAAAAAAAPh/AAAAAAAA+H8AAAAAAAD4fwAAAAAAAPh/AAAAAAAA+H8AAAAAAAD4fwAAAAAAAPh/AAAAAAAA+H8AAAAAAAD4fwAAAAAAAPh/AAAAAAAA+H8AAAAAAAD4fwAAAAAAAPh/AAAAAAAA+H8AAAAAAAD4fwAAAAAAAPh/AAAAAAAA+H8AAAAAAAD4fwAAAAAAAPh/AAAAAAAA+H8AAAAAAAD4fwAAAAAAAPh/AAAAAAAA+H8AAAAAAAD4fwAAAAAAAPh/AAAAAAAA+H8AAAAAAAD4fwAAAAAAAPh/AAAAAAAA+H98gy9MpgJiQCsYldQJFGJALSEf9GwmYkA8TtGRXDpiQMRCrWneTWJACvmgZ7NeYkA7cM6I0m5iQHBfB84ZgWJARdjw9EqVYkDTTWIQWKliQECk374OwGJAMQisHFrYYkCdgCbChu9iQLMMcayLC2NAuriNBvAqY0DfT42XbkZjQERpb/CFZWNA8IXJVMGEY0CmeccpOqJjQHZxGw3gvWNATfOOU3TYY0Doaiv2l/FjQDXNO07RCWRAi2zn+6khZEBHcvkP6TdkQDsBTYQNT2RA3ZOHhVpjZEDgvg6cM3ZkQMrDQq1pimRA/Knx0k2eZEAcfGEyVbhkQPMf0m9f02RA9pfdk4fxZED0udqK/RFlQFTjpZvEMGVANxrAWyBRZUDzH9JvX29lQD0K16NwiWVAhqdXyjKkZUCP5PIf0rdlQNo9eViozWVAbVZ9rrbiZUCdXinLEO9lQMqhRbbzAWZAfa62Yn8NZkBX7C+7JxtmQCigibDhJWZAL90kBoExZkDfT42XbjpmQJtVn6utSGZAw2SqYFRWZkBtVn2utmJmQFTjpZvEdGZATx4Wak13ZkCOBvAWSHxmQLu4jQbwgmZA5KWbxCCIZkAdOGdEaYtmQAg9m1Wfi2ZAZYhjXdyKZkCfq63YX4ZmQMi6uI0GgGZAZO5aQj58ZkC4/If023dmQIiFWtO8c2ZA4ZwRpb1xZkC7Jw8LtWpmQBsN4C2QZGZAVOOlm8RgZkC6SQwCK1tmQHQkl/+QVmZA/fZ14JxRZkAMJCh+jElmQNxGA3gLQGZAv+yePCw0ZkBhodY07yhmQIR80LNZIWZAHRZqTfMaZkAaUdobfBVmQM3uycNCEWZA097gC5MZZkC2FfvL7hlmQPp+arx0G2ZA4XoUrkcNZkCxcmiR7fxlQMX+snvy7GVAjGzn+6ndZUC/DpwzotRlQJExdy0hx2VAYOXQItu9ZUDyQc9m1a9lQMHKoUW2o2VA1njpJjGYZUAyCKwcWoxlQC7dJAaBhWVAKjqSy398ZUChZ7Pqc3VlQAMJih9jbmVAZTvfT41rZUBFaW/whWVlQLprCfmgX2VAOPjCZKpYZUDYX3ZPHkplQEhQ/BhzR2VA0UTY8PRCZUCdEaW9wT9lQPgx5q4lOGVAiIVa07wzZUDjNhrAWyxlQL0wmSoYJWVARK1p3nEeZUAkl/+QfhNlQJ3vp8ZLB2VAvJaQD3r2ZEBt5/up8eZkQKhXyjLE2WRANIC3QILOZECdEaW9wcNkQCh+jLlruWRArfpcbcWuZEBjEFg5tKRkQBb7y+7Jm2RAjnVxGw2YZEDh6ZWyDJVkQNtoAG+BlGRA4JwRpb2NZEDqBDQRNoRkQEOtad5xdmRA4zYawFtoZEChRbbz/VhkQLMMcayLN2RA4zYawFsYZEBdbcX+sutjQIY41sVt1GNAZRniWBe7Y0AhsHJokaljQIbJVMGolGNApb3BFyZ/Y0DG/rJ78mxjQLivA+eMVGNAv+yePCw8Y0Df4AuTqR5jQCbChqdX/mJA3EYDeAvkYkBseHqlLMdiQF1LyAc9r2JAiv1l9+SZYkAHzhlR2oNiQI/C9Shca2JAF7fRAN5WYkAfhetRuEJiQHbgnBGlMWJADeAtkKAgYkD0bFZ9rhJiQCNseHqlBGJAy6FFtvP1YUCamZmZmfFhQGNd3EYD7GFAb6MBvAXuYUCV1AloIvBhQMuhRbbz8WFAGLfRAN72YUCPdXEbDfxhQEzIBz2bBWJAxty1hHwMYkDdtYR80A9iQApoImx4FmJAhJ7Nqs8dYkCL/WX35CViQPTb14FzLmJANIC3QII2YkA51sVtNEBiQKO0N/jCSGJA0gDeAglSYkCzDHGsi19iQCcxCKwccmJAQRNhw9OHYkAqyxDHuqBiQA1xrIvbwGJA4zYawFvoYkD6D+m3rxdjQO84RUdySWNAY3/ZPXmEY0DVeOkmMbhjQI0o7Q2+7GNASOF6FK4bZED/snvysFBkQONYF7fRgGRAyAc9m1WzZEBsmnecou9kQOoENBE2KGVAYAfOGVFiZUDkFB3J5adlQMa6uI0G6GVAmP+QfvsqZkAY4lgXt2lmQDws1JrmqWZAKjqSy3/kZkAfhetRuB5nQIps5/upVWdAoGez6nONZ0AMJCh+jMlnQJfdk4eFCmhAhetRuB5JaECU9gZfmIRoQO7rwDkjvmhAtmJ/2T31aEABvAUSFCtpQPdT46WbYGlA3GgAb4GYaUAFNBE2PNFpQFYOLbKdD2pAYxBYObRIakDb+X5qvIBqQNZW7C+7v2pATRWMSuoAa0CAt0CC4j9rQFTBqKROeGtAofgx5q6ta0A0ETY8veZrQCBj7lpCImxA3NeBc0ZUbEBSJ6CJsIVsQBdIUPwYt2xAc9cS8kHnbEDAWyBB8QttQI/C9ShcL21AnYAmwoZTbUBg5dAi23FtQA96Nqs+h21A2ht8YTKVbUCF61G4HqVtQBGlvcEXtm1AumsJ+aC7bUCcVZ+rrchtQJRliGNd0G1AbJp3nKLbbUAaUdobfO1tQOYdp+hI/m1ATMgHPZs5bkA=",
          "dtype": "f8"
         },
         "yaxis": "y"
        }
       ],
       "layout": {
        "annotations": [
         {
          "font": {
           "size": 8
          },
          "showarrow": false,
          "text": "Date: 2025-09-10, Open:328.33, High:345.72, Low:312.09, Close: 319.19",
          "x": 0.01,
          "xref": "x domain",
          "y": 1,
          "yref": "y domain"
         }
        ],
        "height": 400,
        "legend": {
         "font": {
          "size": 8
         },
         "title": {
          "font": {
           "family": "Arial"
          }
         }
        },
        "template": {
         "data": {
          "bar": [
           {
            "error_x": {
             "color": "#2a3f5f"
            },
            "error_y": {
             "color": "#2a3f5f"
            },
            "marker": {
             "line": {
              "color": "#E5ECF6",
              "width": 0.5
             },
             "pattern": {
              "fillmode": "overlay",
              "size": 10,
              "solidity": 0.2
             }
            },
            "type": "bar"
           }
          ],
          "barpolar": [
           {
            "marker": {
             "line": {
              "color": "#E5ECF6",
              "width": 0.5
             },
             "pattern": {
              "fillmode": "overlay",
              "size": 10,
              "solidity": 0.2
             }
            },
            "type": "barpolar"
           }
          ],
          "carpet": [
           {
            "aaxis": {
             "endlinecolor": "#2a3f5f",
             "gridcolor": "white",
             "linecolor": "white",
             "minorgridcolor": "white",
             "startlinecolor": "#2a3f5f"
            },
            "baxis": {
             "endlinecolor": "#2a3f5f",
             "gridcolor": "white",
             "linecolor": "white",
             "minorgridcolor": "white",
             "startlinecolor": "#2a3f5f"
            },
            "type": "carpet"
           }
          ],
          "choropleth": [
           {
            "colorbar": {
             "outlinewidth": 0,
             "ticks": ""
            },
            "type": "choropleth"
           }
          ],
          "contour": [
           {
            "colorbar": {
             "outlinewidth": 0,
             "ticks": ""
            },
            "colorscale": [
             [
              0,
              "#0d0887"
             ],
             [
              0.1111111111111111,
              "#46039f"
             ],
             [
              0.2222222222222222,
              "#7201a8"
             ],
             [
              0.3333333333333333,
              "#9c179e"
             ],
             [
              0.4444444444444444,
              "#bd3786"
             ],
             [
              0.5555555555555556,
              "#d8576b"
             ],
             [
              0.6666666666666666,
              "#ed7953"
             ],
             [
              0.7777777777777778,
              "#fb9f3a"
             ],
             [
              0.8888888888888888,
              "#fdca26"
             ],
             [
              1,
              "#f0f921"
             ]
            ],
            "type": "contour"
           }
          ],
          "contourcarpet": [
           {
            "colorbar": {
             "outlinewidth": 0,
             "ticks": ""
            },
            "type": "contourcarpet"
           }
          ],
          "heatmap": [
           {
            "colorbar": {
             "outlinewidth": 0,
             "ticks": ""
            },
            "colorscale": [
             [
              0,
              "#0d0887"
             ],
             [
              0.1111111111111111,
              "#46039f"
             ],
             [
              0.2222222222222222,
              "#7201a8"
             ],
             [
              0.3333333333333333,
              "#9c179e"
             ],
             [
              0.4444444444444444,
              "#bd3786"
             ],
             [
              0.5555555555555556,
              "#d8576b"
             ],
             [
              0.6666666666666666,
              "#ed7953"
             ],
             [
              0.7777777777777778,
              "#fb9f3a"
             ],
             [
              0.8888888888888888,
              "#fdca26"
             ],
             [
              1,
              "#f0f921"
             ]
            ],
            "type": "heatmap"
           }
          ],
          "histogram": [
           {
            "marker": {
             "pattern": {
              "fillmode": "overlay",
              "size": 10,
              "solidity": 0.2
             }
            },
            "type": "histogram"
           }
          ],
          "histogram2d": [
           {
            "colorbar": {
             "outlinewidth": 0,
             "ticks": ""
            },
            "colorscale": [
             [
              0,
              "#0d0887"
             ],
             [
              0.1111111111111111,
              "#46039f"
             ],
             [
              0.2222222222222222,
              "#7201a8"
             ],
             [
              0.3333333333333333,
              "#9c179e"
             ],
             [
              0.4444444444444444,
              "#bd3786"
             ],
             [
              0.5555555555555556,
              "#d8576b"
             ],
             [
              0.6666666666666666,
              "#ed7953"
             ],
             [
              0.7777777777777778,
              "#fb9f3a"
             ],
             [
              0.8888888888888888,
              "#fdca26"
             ],
             [
              1,
              "#f0f921"
             ]
            ],
            "type": "histogram2d"
           }
          ],
          "histogram2dcontour": [
           {
            "colorbar": {
             "outlinewidth": 0,
             "ticks": ""
            },
            "colorscale": [
             [
              0,
              "#0d0887"
             ],
             [
              0.1111111111111111,
              "#46039f"
             ],
             [
              0.2222222222222222,
              "#7201a8"
             ],
             [
              0.3333333333333333,
              "#9c179e"
             ],
             [
              0.4444444444444444,
              "#bd3786"
             ],
             [
              0.5555555555555556,
              "#d8576b"
             ],
             [
              0.6666666666666666,
              "#ed7953"
             ],
             [
              0.7777777777777778,
              "#fb9f3a"
             ],
             [
              0.8888888888888888,
              "#fdca26"
             ],
             [
              1,
              "#f0f921"
             ]
            ],
            "type": "histogram2dcontour"
           }
          ],
          "mesh3d": [
           {
            "colorbar": {
             "outlinewidth": 0,
             "ticks": ""
            },
            "type": "mesh3d"
           }
          ],
          "parcoords": [
           {
            "line": {
             "colorbar": {
              "outlinewidth": 0,
              "ticks": ""
             }
            },
            "type": "parcoords"
           }
          ],
          "pie": [
           {
            "automargin": true,
            "type": "pie"
           }
          ],
          "scatter": [
           {
            "fillpattern": {
             "fillmode": "overlay",
             "size": 10,
             "solidity": 0.2
            },
            "type": "scatter"
           }
          ],
          "scatter3d": [
           {
            "line": {
             "colorbar": {
              "outlinewidth": 0,
              "ticks": ""
             }
            },
            "marker": {
             "colorbar": {
              "outlinewidth": 0,
              "ticks": ""
             }
            },
            "type": "scatter3d"
           }
          ],
          "scattercarpet": [
           {
            "marker": {
             "colorbar": {
              "outlinewidth": 0,
              "ticks": ""
             }
            },
            "type": "scattercarpet"
           }
          ],
          "scattergeo": [
           {
            "marker": {
             "colorbar": {
              "outlinewidth": 0,
              "ticks": ""
             }
            },
            "type": "scattergeo"
           }
          ],
          "scattergl": [
           {
            "marker": {
             "colorbar": {
              "outlinewidth": 0,
              "ticks": ""
             }
            },
            "type": "scattergl"
           }
          ],
          "scattermap": [
           {
            "marker": {
             "colorbar": {
              "outlinewidth": 0,
              "ticks": ""
             }
            },
            "type": "scattermap"
           }
          ],
          "scattermapbox": [
           {
            "marker": {
             "colorbar": {
              "outlinewidth": 0,
              "ticks": ""
             }
            },
            "type": "scattermapbox"
           }
          ],
          "scatterpolar": [
           {
            "marker": {
             "colorbar": {
              "outlinewidth": 0,
              "ticks": ""
             }
            },
            "type": "scatterpolar"
           }
          ],
          "scatterpolargl": [
           {
            "marker": {
             "colorbar": {
              "outlinewidth": 0,
              "ticks": ""
             }
            },
            "type": "scatterpolargl"
           }
          ],
          "scatterternary": [
           {
            "marker": {
             "colorbar": {
              "outlinewidth": 0,
              "ticks": ""
             }
            },
            "type": "scatterternary"
           }
          ],
          "surface": [
           {
            "colorbar": {
             "outlinewidth": 0,
             "ticks": ""
            },
            "colorscale": [
             [
              0,
              "#0d0887"
             ],
             [
              0.1111111111111111,
              "#46039f"
             ],
             [
              0.2222222222222222,
              "#7201a8"
             ],
             [
              0.3333333333333333,
              "#9c179e"
             ],
             [
              0.4444444444444444,
              "#bd3786"
             ],
             [
              0.5555555555555556,
              "#d8576b"
             ],
             [
              0.6666666666666666,
              "#ed7953"
             ],
             [
              0.7777777777777778,
              "#fb9f3a"
             ],
             [
              0.8888888888888888,
              "#fdca26"
             ],
             [
              1,
              "#f0f921"
             ]
            ],
            "type": "surface"
           }
          ],
          "table": [
           {
            "cells": {
             "fill": {
              "color": "#EBF0F8"
             },
             "line": {
              "color": "white"
             }
            },
            "header": {
             "fill": {
              "color": "#C8D4E3"
             },
             "line": {
              "color": "white"
             }
            },
            "type": "table"
           }
          ]
         },
         "layout": {
          "annotationdefaults": {
           "arrowcolor": "#2a3f5f",
           "arrowhead": 0,
           "arrowwidth": 1
          },
          "autotypenumbers": "strict",
          "coloraxis": {
           "colorbar": {
            "outlinewidth": 0,
            "ticks": ""
           }
          },
          "colorscale": {
           "diverging": [
            [
             0,
             "#8e0152"
            ],
            [
             0.1,
             "#c51b7d"
            ],
            [
             0.2,
             "#de77ae"
            ],
            [
             0.3,
             "#f1b6da"
            ],
            [
             0.4,
             "#fde0ef"
            ],
            [
             0.5,
             "#f7f7f7"
            ],
            [
             0.6,
             "#e6f5d0"
            ],
            [
             0.7,
             "#b8e186"
            ],
            [
             0.8,
             "#7fbc41"
            ],
            [
             0.9,
             "#4d9221"
            ],
            [
             1,
             "#276419"
            ]
           ],
           "sequential": [
            [
             0,
             "#0d0887"
            ],
            [
             0.1111111111111111,
             "#46039f"
            ],
            [
             0.2222222222222222,
             "#7201a8"
            ],
            [
             0.3333333333333333,
             "#9c179e"
            ],
            [
             0.4444444444444444,
             "#bd3786"
            ],
            [
             0.5555555555555556,
             "#d8576b"
            ],
            [
             0.6666666666666666,
             "#ed7953"
            ],
            [
             0.7777777777777778,
             "#fb9f3a"
            ],
            [
             0.8888888888888888,
             "#fdca26"
            ],
            [
             1,
             "#f0f921"
            ]
           ],
           "sequentialminus": [
            [
             0,
             "#0d0887"
            ],
            [
             0.1111111111111111,
             "#46039f"
            ],
            [
             0.2222222222222222,
             "#7201a8"
            ],
            [
             0.3333333333333333,
             "#9c179e"
            ],
            [
             0.4444444444444444,
             "#bd3786"
            ],
            [
             0.5555555555555556,
             "#d8576b"
            ],
            [
             0.6666666666666666,
             "#ed7953"
            ],
            [
             0.7777777777777778,
             "#fb9f3a"
            ],
            [
             0.8888888888888888,
             "#fdca26"
            ],
            [
             1,
             "#f0f921"
            ]
           ]
          },
          "colorway": [
           "#636efa",
           "#EF553B",
           "#00cc96",
           "#ab63fa",
           "#FFA15A",
           "#19d3f3",
           "#FF6692",
           "#B6E880",
           "#FF97FF",
           "#FECB52"
          ],
          "font": {
           "color": "#2a3f5f"
          },
          "geo": {
           "bgcolor": "white",
           "lakecolor": "white",
           "landcolor": "#E5ECF6",
           "showlakes": true,
           "showland": true,
           "subunitcolor": "white"
          },
          "hoverlabel": {
           "align": "left"
          },
          "hovermode": "closest",
          "mapbox": {
           "style": "light"
          },
          "paper_bgcolor": "white",
          "plot_bgcolor": "#E5ECF6",
          "polar": {
           "angularaxis": {
            "gridcolor": "white",
            "linecolor": "white",
            "ticks": ""
           },
           "bgcolor": "#E5ECF6",
           "radialaxis": {
            "gridcolor": "white",
            "linecolor": "white",
            "ticks": ""
           }
          },
          "scene": {
           "xaxis": {
            "backgroundcolor": "#E5ECF6",
            "gridcolor": "white",
            "gridwidth": 2,
            "linecolor": "white",
            "showbackground": true,
            "ticks": "",
            "zerolinecolor": "white"
           },
           "yaxis": {
            "backgroundcolor": "#E5ECF6",
            "gridcolor": "white",
            "gridwidth": 2,
            "linecolor": "white",
            "showbackground": true,
            "ticks": "",
            "zerolinecolor": "white"
           },
           "zaxis": {
            "backgroundcolor": "#E5ECF6",
            "gridcolor": "white",
            "gridwidth": 2,
            "linecolor": "white",
            "showbackground": true,
            "ticks": "",
            "zerolinecolor": "white"
           }
          },
          "shapedefaults": {
           "line": {
            "color": "#2a3f5f"
           }
          },
          "ternary": {
           "aaxis": {
            "gridcolor": "white",
            "linecolor": "white",
            "ticks": ""
           },
           "baxis": {
            "gridcolor": "white",
            "linecolor": "white",
            "ticks": ""
           },
           "bgcolor": "#E5ECF6",
           "caxis": {
            "gridcolor": "white",
            "linecolor": "white",
            "ticks": ""
           }
          },
          "title": {
           "x": 0.05
          },
          "xaxis": {
           "automargin": true,
           "gridcolor": "white",
           "linecolor": "white",
           "ticks": "",
           "title": {
            "standoff": 15
           },
           "zerolinecolor": "white",
           "zerolinewidth": 2
          },
          "yaxis": {
           "automargin": true,
           "gridcolor": "white",
           "linecolor": "white",
           "ticks": "",
           "title": {
            "standoff": 15
           },
           "zerolinecolor": "white",
           "zerolinewidth": 2
          }
         }
        },
        "title": {
         "text": "TOP 20",
         "x": 0.5
        },
        "width": 600,
        "xaxis": {
         "anchor": "y",
         "domain": [
          0,
          0.94
         ]
        },
        "yaxis": {
         "anchor": "x",
         "domain": [
          0,
          1
         ],
         "side": "right"
        },
        "yaxis2": {
         "anchor": "x",
         "overlaying": "y",
         "side": "right"
        }
       }
      }
     },
     "metadata": {},
     "output_type": "display_data"
    },
    {
     "data": {
      "application/vnd.plotly.v1+json": {
       "config": {
        "plotlyServerURL": "https://plot.ly"
       },
       "data": [
        {
         "name": "THC: 26.89 %",
         "type": "scatter",
         "x": [
          "2024-07-17",
          "2024-07-18",
          "2024-07-19",
          "2024-07-22",
          "2024-07-23",
          "2024-07-24",
          "2024-07-25",
          "2024-07-26",
          "2024-07-29",
          "2024-07-30",
          "2024-07-31",
          "2024-08-01",
          "2024-08-02",
          "2024-08-05",
          "2024-08-06",
          "2024-08-07",
          "2024-08-08",
          "2024-08-09",
          "2024-08-12",
          "2024-08-13",
          "2024-08-14",
          "2024-08-15",
          "2024-08-16",
          "2024-08-19",
          "2024-08-20",
          "2024-08-21",
          "2024-08-22",
          "2024-08-23",
          "2024-08-26",
          "2024-08-27",
          "2024-08-28",
          "2024-08-29",
          "2024-08-30",
          "2024-09-03",
          "2024-09-04",
          "2024-09-05",
          "2024-09-06",
          "2024-09-09",
          "2024-09-10",
          "2024-09-11",
          "2024-09-12",
          "2024-09-13",
          "2024-09-16",
          "2024-09-17",
          "2024-09-18",
          "2024-09-19",
          "2024-09-20",
          "2024-09-23",
          "2024-09-24",
          "2024-09-25",
          "2024-09-26",
          "2024-09-27",
          "2024-09-30",
          "2024-10-01",
          "2024-10-02",
          "2024-10-03",
          "2024-10-04",
          "2024-10-07",
          "2024-10-08",
          "2024-10-09",
          "2024-10-10",
          "2024-10-11",
          "2024-10-14",
          "2024-10-15",
          "2024-10-16",
          "2024-10-17",
          "2024-10-18",
          "2024-10-21",
          "2024-10-22",
          "2024-10-23",
          "2024-10-24",
          "2024-10-25",
          "2024-10-28",
          "2024-10-29",
          "2024-10-30",
          "2024-10-31",
          "2024-11-01",
          "2024-11-04",
          "2024-11-05",
          "2024-11-06",
          "2024-11-07",
          "2024-11-08",
          "2024-11-11",
          "2024-11-12",
          "2024-11-13",
          "2024-11-14",
          "2024-11-15",
          "2024-11-18",
          "2024-11-19",
          "2024-11-20",
          "2024-11-21",
          "2024-11-22",
          "2024-11-25",
          "2024-11-26",
          "2024-11-27",
          "2024-11-29",
          "2024-12-02",
          "2024-12-03",
          "2024-12-04",
          "2024-12-05",
          "2024-12-06",
          "2024-12-09",
          "2024-12-10",
          "2024-12-11",
          "2024-12-12",
          "2024-12-13",
          "2024-12-16",
          "2024-12-17",
          "2024-12-18",
          "2024-12-19",
          "2024-12-20",
          "2024-12-23",
          "2024-12-24",
          "2024-12-26",
          "2024-12-27",
          "2024-12-30",
          "2024-12-31",
          "2025-01-02",
          "2025-01-03",
          "2025-01-06",
          "2025-01-07",
          "2025-01-08",
          "2025-01-10",
          "2025-01-13",
          "2025-01-14",
          "2025-01-15",
          "2025-01-16",
          "2025-01-17",
          "2025-01-21",
          "2025-01-22",
          "2025-01-23",
          "2025-01-24",
          "2025-01-27",
          "2025-01-28",
          "2025-01-29",
          "2025-01-30",
          "2025-01-31",
          "2025-02-03",
          "2025-02-04",
          "2025-02-05",
          "2025-02-06",
          "2025-02-07",
          "2025-02-10",
          "2025-02-11",
          "2025-02-12",
          "2025-02-13",
          "2025-02-14",
          "2025-02-18",
          "2025-02-19",
          "2025-02-20",
          "2025-02-21",
          "2025-02-24",
          "2025-02-25",
          "2025-02-26",
          "2025-02-27",
          "2025-02-28",
          "2025-03-03",
          "2025-03-04",
          "2025-03-05",
          "2025-03-06",
          "2025-03-07",
          "2025-03-10",
          "2025-03-11",
          "2025-03-12",
          "2025-03-13",
          "2025-03-14",
          "2025-03-17",
          "2025-03-18",
          "2025-03-19",
          "2025-03-20",
          "2025-03-21",
          "2025-03-24",
          "2025-03-25",
          "2025-03-26",
          "2025-03-27",
          "2025-03-28",
          "2025-03-31",
          "2025-04-01",
          "2025-04-02",
          "2025-04-03",
          "2025-04-04",
          "2025-04-07",
          "2025-04-08",
          "2025-04-09",
          "2025-04-10",
          "2025-04-11",
          "2025-04-14",
          "2025-04-15",
          "2025-04-16",
          "2025-04-17",
          "2025-04-21",
          "2025-04-22",
          "2025-04-23",
          "2025-04-24",
          "2025-04-25",
          "2025-04-28",
          "2025-04-29",
          "2025-04-30",
          "2025-05-01",
          "2025-05-02",
          "2025-05-05",
          "2025-05-06",
          "2025-05-07",
          "2025-05-08",
          "2025-05-09",
          "2025-05-12",
          "2025-05-13",
          "2025-05-14",
          "2025-05-15",
          "2025-05-16",
          "2025-05-19",
          "2025-05-20",
          "2025-05-21",
          "2025-05-22",
          "2025-05-23",
          "2025-05-27",
          "2025-05-28",
          "2025-05-29",
          "2025-05-30",
          "2025-06-02",
          "2025-06-03",
          "2025-06-04",
          "2025-06-05",
          "2025-06-06",
          "2025-06-09",
          "2025-06-10",
          "2025-06-11",
          "2025-06-12",
          "2025-06-13",
          "2025-06-16",
          "2025-06-17",
          "2025-06-18",
          "2025-06-20",
          "2025-06-23",
          "2025-06-24",
          "2025-06-25",
          "2025-06-26",
          "2025-06-27",
          "2025-06-30",
          "2025-07-01",
          "2025-07-02",
          "2025-07-03",
          "2025-07-07",
          "2025-07-08",
          "2025-07-09",
          "2025-07-10",
          "2025-07-11",
          "2025-07-14",
          "2025-07-15",
          "2025-07-16",
          "2025-07-17",
          "2025-07-18",
          "2025-07-21",
          "2025-07-22",
          "2025-07-23",
          "2025-07-24",
          "2025-07-25",
          "2025-07-28",
          "2025-07-29",
          "2025-07-30",
          "2025-07-31",
          "2025-08-01",
          "2025-08-04",
          "2025-08-05",
          "2025-08-06",
          "2025-08-07",
          "2025-08-08",
          "2025-08-11",
          "2025-08-12",
          "2025-08-13",
          "2025-08-14",
          "2025-08-15",
          "2025-08-18",
          "2025-08-19",
          "2025-08-20",
          "2025-08-21",
          "2025-08-22",
          "2025-08-25",
          "2025-08-26",
          "2025-08-27",
          "2025-08-28",
          "2025-08-29",
          "2025-09-02",
          "2025-09-03",
          "2025-09-04",
          "2025-09-05",
          "2025-09-08",
          "2025-09-09",
          "2025-09-10"
         ],
         "xaxis": "x",
         "y": {
          "bdata": "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",
          "dtype": "f8"
         },
         "yaxis": "y"
        },
        {
         "name": "SMA 50",
         "type": "scatter",
         "x": [
          "2024-07-17",
          "2024-07-18",
          "2024-07-19",
          "2024-07-22",
          "2024-07-23",
          "2024-07-24",
          "2024-07-25",
          "2024-07-26",
          "2024-07-29",
          "2024-07-30",
          "2024-07-31",
          "2024-08-01",
          "2024-08-02",
          "2024-08-05",
          "2024-08-06",
          "2024-08-07",
          "2024-08-08",
          "2024-08-09",
          "2024-08-12",
          "2024-08-13",
          "2024-08-14",
          "2024-08-15",
          "2024-08-16",
          "2024-08-19",
          "2024-08-20",
          "2024-08-21",
          "2024-08-22",
          "2024-08-23",
          "2024-08-26",
          "2024-08-27",
          "2024-08-28",
          "2024-08-29",
          "2024-08-30",
          "2024-09-03",
          "2024-09-04",
          "2024-09-05",
          "2024-09-06",
          "2024-09-09",
          "2024-09-10",
          "2024-09-11",
          "2024-09-12",
          "2024-09-13",
          "2024-09-16",
          "2024-09-17",
          "2024-09-18",
          "2024-09-19",
          "2024-09-20",
          "2024-09-23",
          "2024-09-24",
          "2024-09-25",
          "2024-09-26",
          "2024-09-27",
          "2024-09-30",
          "2024-10-01",
          "2024-10-02",
          "2024-10-03",
          "2024-10-04",
          "2024-10-07",
          "2024-10-08",
          "2024-10-09",
          "2024-10-10",
          "2024-10-11",
          "2024-10-14",
          "2024-10-15",
          "2024-10-16",
          "2024-10-17",
          "2024-10-18",
          "2024-10-21",
          "2024-10-22",
          "2024-10-23",
          "2024-10-24",
          "2024-10-25",
          "2024-10-28",
          "2024-10-29",
          "2024-10-30",
          "2024-10-31",
          "2024-11-01",
          "2024-11-04",
          "2024-11-05",
          "2024-11-06",
          "2024-11-07",
          "2024-11-08",
          "2024-11-11",
          "2024-11-12",
          "2024-11-13",
          "2024-11-14",
          "2024-11-15",
          "2024-11-18",
          "2024-11-19",
          "2024-11-20",
          "2024-11-21",
          "2024-11-22",
          "2024-11-25",
          "2024-11-26",
          "2024-11-27",
          "2024-11-29",
          "2024-12-02",
          "2024-12-03",
          "2024-12-04",
          "2024-12-05",
          "2024-12-06",
          "2024-12-09",
          "2024-12-10",
          "2024-12-11",
          "2024-12-12",
          "2024-12-13",
          "2024-12-16",
          "2024-12-17",
          "2024-12-18",
          "2024-12-19",
          "2024-12-20",
          "2024-12-23",
          "2024-12-24",
          "2024-12-26",
          "2024-12-27",
          "2024-12-30",
          "2024-12-31",
          "2025-01-02",
          "2025-01-03",
          "2025-01-06",
          "2025-01-07",
          "2025-01-08",
          "2025-01-10",
          "2025-01-13",
          "2025-01-14",
          "2025-01-15",
          "2025-01-16",
          "2025-01-17",
          "2025-01-21",
          "2025-01-22",
          "2025-01-23",
          "2025-01-24",
          "2025-01-27",
          "2025-01-28",
          "2025-01-29",
          "2025-01-30",
          "2025-01-31",
          "2025-02-03",
          "2025-02-04",
          "2025-02-05",
          "2025-02-06",
          "2025-02-07",
          "2025-02-10",
          "2025-02-11",
          "2025-02-12",
          "2025-02-13",
          "2025-02-14",
          "2025-02-18",
          "2025-02-19",
          "2025-02-20",
          "2025-02-21",
          "2025-02-24",
          "2025-02-25",
          "2025-02-26",
          "2025-02-27",
          "2025-02-28",
          "2025-03-03",
          "2025-03-04",
          "2025-03-05",
          "2025-03-06",
          "2025-03-07",
          "2025-03-10",
          "2025-03-11",
          "2025-03-12",
          "2025-03-13",
          "2025-03-14",
          "2025-03-17",
          "2025-03-18",
          "2025-03-19",
          "2025-03-20",
          "2025-03-21",
          "2025-03-24",
          "2025-03-25",
          "2025-03-26",
          "2025-03-27",
          "2025-03-28",
          "2025-03-31",
          "2025-04-01",
          "2025-04-02",
          "2025-04-03",
          "2025-04-04",
          "2025-04-07",
          "2025-04-08",
          "2025-04-09",
          "2025-04-10",
          "2025-04-11",
          "2025-04-14",
          "2025-04-15",
          "2025-04-16",
          "2025-04-17",
          "2025-04-21",
          "2025-04-22",
          "2025-04-23",
          "2025-04-24",
          "2025-04-25",
          "2025-04-28",
          "2025-04-29",
          "2025-04-30",
          "2025-05-01",
          "2025-05-02",
          "2025-05-05",
          "2025-05-06",
          "2025-05-07",
          "2025-05-08",
          "2025-05-09",
          "2025-05-12",
          "2025-05-13",
          "2025-05-14",
          "2025-05-15",
          "2025-05-16",
          "2025-05-19",
          "2025-05-20",
          "2025-05-21",
          "2025-05-22",
          "2025-05-23",
          "2025-05-27",
          "2025-05-28",
          "2025-05-29",
          "2025-05-30",
          "2025-06-02",
          "2025-06-03",
          "2025-06-04",
          "2025-06-05",
          "2025-06-06",
          "2025-06-09",
          "2025-06-10",
          "2025-06-11",
          "2025-06-12",
          "2025-06-13",
          "2025-06-16",
          "2025-06-17",
          "2025-06-18",
          "2025-06-20",
          "2025-06-23",
          "2025-06-24",
          "2025-06-25",
          "2025-06-26",
          "2025-06-27",
          "2025-06-30",
          "2025-07-01",
          "2025-07-02",
          "2025-07-03",
          "2025-07-07",
          "2025-07-08",
          "2025-07-09",
          "2025-07-10",
          "2025-07-11",
          "2025-07-14",
          "2025-07-15",
          "2025-07-16",
          "2025-07-17",
          "2025-07-18",
          "2025-07-21",
          "2025-07-22",
          "2025-07-23",
          "2025-07-24",
          "2025-07-25",
          "2025-07-28",
          "2025-07-29",
          "2025-07-30",
          "2025-07-31",
          "2025-08-01",
          "2025-08-04",
          "2025-08-05",
          "2025-08-06",
          "2025-08-07",
          "2025-08-08",
          "2025-08-11",
          "2025-08-12",
          "2025-08-13",
          "2025-08-14",
          "2025-08-15",
          "2025-08-18",
          "2025-08-19",
          "2025-08-20",
          "2025-08-21",
          "2025-08-22",
          "2025-08-25",
          "2025-08-26",
          "2025-08-27",
          "2025-08-28",
          "2025-08-29",
          "2025-09-02",
          "2025-09-03",
          "2025-09-04",
          "2025-09-05",
          "2025-09-08",
          "2025-09-09",
          "2025-09-10"
         ],
         "xaxis": "x",
         "y": {
          "bdata": "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",
          "dtype": "f8"
         },
         "yaxis": "y"
        }
       ],
       "layout": {
        "annotations": [
         {
          "font": {
           "size": 8
          },
          "showarrow": false,
          "text": "Date: 2025-09-10, Open:191.78, High:199.99, Low:187.67, Close: 198.08",
          "x": 0.01,
          "xref": "x domain",
          "y": 1,
          "yref": "y domain"
         }
        ],
        "height": 400,
        "legend": {
         "font": {
          "size": 8
         },
         "title": {
          "font": {
           "family": "Arial"
          }
         }
        },
        "template": {
         "data": {
          "bar": [
           {
            "error_x": {
             "color": "#2a3f5f"
            },
            "error_y": {
             "color": "#2a3f5f"
            },
            "marker": {
             "line": {
              "color": "#E5ECF6",
              "width": 0.5
             },
             "pattern": {
              "fillmode": "overlay",
              "size": 10,
              "solidity": 0.2
             }
            },
            "type": "bar"
           }
          ],
          "barpolar": [
           {
            "marker": {
             "line": {
              "color": "#E5ECF6",
              "width": 0.5
             },
             "pattern": {
              "fillmode": "overlay",
              "size": 10,
              "solidity": 0.2
             }
            },
            "type": "barpolar"
           }
          ],
          "carpet": [
           {
            "aaxis": {
             "endlinecolor": "#2a3f5f",
             "gridcolor": "white",
             "linecolor": "white",
             "minorgridcolor": "white",
             "startlinecolor": "#2a3f5f"
            },
            "baxis": {
             "endlinecolor": "#2a3f5f",
             "gridcolor": "white",
             "linecolor": "white",
             "minorgridcolor": "white",
             "startlinecolor": "#2a3f5f"
            },
            "type": "carpet"
           }
          ],
          "choropleth": [
           {
            "colorbar": {
             "outlinewidth": 0,
             "ticks": ""
            },
            "type": "choropleth"
           }
          ],
          "contour": [
           {
            "colorbar": {
             "outlinewidth": 0,
             "ticks": ""
            },
            "colorscale": [
             [
              0,
              "#0d0887"
             ],
             [
              0.1111111111111111,
              "#46039f"
             ],
             [
              0.2222222222222222,
              "#7201a8"
             ],
             [
              0.3333333333333333,
              "#9c179e"
             ],
             [
              0.4444444444444444,
              "#bd3786"
             ],
             [
              0.5555555555555556,
              "#d8576b"
             ],
             [
              0.6666666666666666,
              "#ed7953"
             ],
             [
              0.7777777777777778,
              "#fb9f3a"
             ],
             [
              0.8888888888888888,
              "#fdca26"
             ],
             [
              1,
              "#f0f921"
             ]
            ],
            "type": "contour"
           }
          ],
          "contourcarpet": [
           {
            "colorbar": {
             "outlinewidth": 0,
             "ticks": ""
            },
            "type": "contourcarpet"
           }
          ],
          "heatmap": [
           {
            "colorbar": {
             "outlinewidth": 0,
             "ticks": ""
            },
            "colorscale": [
             [
              0,
              "#0d0887"
             ],
             [
              0.1111111111111111,
              "#46039f"
             ],
             [
              0.2222222222222222,
              "#7201a8"
             ],
             [
              0.3333333333333333,
              "#9c179e"
             ],
             [
              0.4444444444444444,
              "#bd3786"
             ],
             [
              0.5555555555555556,
              "#d8576b"
             ],
             [
              0.6666666666666666,
              "#ed7953"
             ],
             [
              0.7777777777777778,
              "#fb9f3a"
             ],
             [
              0.8888888888888888,
              "#fdca26"
             ],
             [
              1,
              "#f0f921"
             ]
            ],
            "type": "heatmap"
           }
          ],
          "histogram": [
           {
            "marker": {
             "pattern": {
              "fillmode": "overlay",
              "size": 10,
              "solidity": 0.2
             }
            },
            "type": "histogram"
           }
          ],
          "histogram2d": [
           {
            "colorbar": {
             "outlinewidth": 0,
             "ticks": ""
            },
            "colorscale": [
             [
              0,
              "#0d0887"
             ],
             [
              0.1111111111111111,
              "#46039f"
             ],
             [
              0.2222222222222222,
              "#7201a8"
             ],
             [
              0.3333333333333333,
              "#9c179e"
             ],
             [
              0.4444444444444444,
              "#bd3786"
             ],
             [
              0.5555555555555556,
              "#d8576b"
             ],
             [
              0.6666666666666666,
              "#ed7953"
             ],
             [
              0.7777777777777778,
              "#fb9f3a"
             ],
             [
              0.8888888888888888,
              "#fdca26"
             ],
             [
              1,
              "#f0f921"
             ]
            ],
            "type": "histogram2d"
           }
          ],
          "histogram2dcontour": [
           {
            "colorbar": {
             "outlinewidth": 0,
             "ticks": ""
            },
            "colorscale": [
             [
              0,
              "#0d0887"
             ],
             [
              0.1111111111111111,
              "#46039f"
             ],
             [
              0.2222222222222222,
              "#7201a8"
             ],
             [
              0.3333333333333333,
              "#9c179e"
             ],
             [
              0.4444444444444444,
              "#bd3786"
             ],
             [
              0.5555555555555556,
              "#d8576b"
             ],
             [
              0.6666666666666666,
              "#ed7953"
             ],
             [
              0.7777777777777778,
              "#fb9f3a"
             ],
             [
              0.8888888888888888,
              "#fdca26"
             ],
             [
              1,
              "#f0f921"
             ]
            ],
            "type": "histogram2dcontour"
           }
          ],
          "mesh3d": [
           {
            "colorbar": {
             "outlinewidth": 0,
             "ticks": ""
            },
            "type": "mesh3d"
           }
          ],
          "parcoords": [
           {
            "line": {
             "colorbar": {
              "outlinewidth": 0,
              "ticks": ""
             }
            },
            "type": "parcoords"
           }
          ],
          "pie": [
           {
            "automargin": true,
            "type": "pie"
           }
          ],
          "scatter": [
           {
            "fillpattern": {
             "fillmode": "overlay",
             "size": 10,
             "solidity": 0.2
            },
            "type": "scatter"
           }
          ],
          "scatter3d": [
           {
            "line": {
             "colorbar": {
              "outlinewidth": 0,
              "ticks": ""
             }
            },
            "marker": {
             "colorbar": {
              "outlinewidth": 0,
              "ticks": ""
             }
            },
            "type": "scatter3d"
           }
          ],
          "scattercarpet": [
           {
            "marker": {
             "colorbar": {
              "outlinewidth": 0,
              "ticks": ""
             }
            },
            "type": "scattercarpet"
           }
          ],
          "scattergeo": [
           {
            "marker": {
             "colorbar": {
              "outlinewidth": 0,
              "ticks": ""
             }
            },
            "type": "scattergeo"
           }
          ],
          "scattergl": [
           {
            "marker": {
             "colorbar": {
              "outlinewidth": 0,
              "ticks": ""
             }
            },
            "type": "scattergl"
           }
          ],
          "scattermap": [
           {
            "marker": {
             "colorbar": {
              "outlinewidth": 0,
              "ticks": ""
             }
            },
            "type": "scattermap"
           }
          ],
          "scattermapbox": [
           {
            "marker": {
             "colorbar": {
              "outlinewidth": 0,
              "ticks": ""
             }
            },
            "type": "scattermapbox"
           }
          ],
          "scatterpolar": [
           {
            "marker": {
             "colorbar": {
              "outlinewidth": 0,
              "ticks": ""
             }
            },
            "type": "scatterpolar"
           }
          ],
          "scatterpolargl": [
           {
            "marker": {
             "colorbar": {
              "outlinewidth": 0,
              "ticks": ""
             }
            },
            "type": "scatterpolargl"
           }
          ],
          "scatterternary": [
           {
            "marker": {
             "colorbar": {
              "outlinewidth": 0,
              "ticks": ""
             }
            },
            "type": "scatterternary"
           }
          ],
          "surface": [
           {
            "colorbar": {
             "outlinewidth": 0,
             "ticks": ""
            },
            "colorscale": [
             [
              0,
              "#0d0887"
             ],
             [
              0.1111111111111111,
              "#46039f"
             ],
             [
              0.2222222222222222,
              "#7201a8"
             ],
             [
              0.3333333333333333,
              "#9c179e"
             ],
             [
              0.4444444444444444,
              "#bd3786"
             ],
             [
              0.5555555555555556,
              "#d8576b"
             ],
             [
              0.6666666666666666,
              "#ed7953"
             ],
             [
              0.7777777777777778,
              "#fb9f3a"
             ],
             [
              0.8888888888888888,
              "#fdca26"
             ],
             [
              1,
              "#f0f921"
             ]
            ],
            "type": "surface"
           }
          ],
          "table": [
           {
            "cells": {
             "fill": {
              "color": "#EBF0F8"
             },
             "line": {
              "color": "white"
             }
            },
            "header": {
             "fill": {
              "color": "#C8D4E3"
             },
             "line": {
              "color": "white"
             }
            },
            "type": "table"
           }
          ]
         },
         "layout": {
          "annotationdefaults": {
           "arrowcolor": "#2a3f5f",
           "arrowhead": 0,
           "arrowwidth": 1
          },
          "autotypenumbers": "strict",
          "coloraxis": {
           "colorbar": {
            "outlinewidth": 0,
            "ticks": ""
           }
          },
          "colorscale": {
           "diverging": [
            [
             0,
             "#8e0152"
            ],
            [
             0.1,
             "#c51b7d"
            ],
            [
             0.2,
             "#de77ae"
            ],
            [
             0.3,
             "#f1b6da"
            ],
            [
             0.4,
             "#fde0ef"
            ],
            [
             0.5,
             "#f7f7f7"
            ],
            [
             0.6,
             "#e6f5d0"
            ],
            [
             0.7,
             "#b8e186"
            ],
            [
             0.8,
             "#7fbc41"
            ],
            [
             0.9,
             "#4d9221"
            ],
            [
             1,
             "#276419"
            ]
           ],
           "sequential": [
            [
             0,
             "#0d0887"
            ],
            [
             0.1111111111111111,
             "#46039f"
            ],
            [
             0.2222222222222222,
             "#7201a8"
            ],
            [
             0.3333333333333333,
             "#9c179e"
            ],
            [
             0.4444444444444444,
             "#bd3786"
            ],
            [
             0.5555555555555556,
             "#d8576b"
            ],
            [
             0.6666666666666666,
             "#ed7953"
            ],
            [
             0.7777777777777778,
             "#fb9f3a"
            ],
            [
             0.8888888888888888,
             "#fdca26"
            ],
            [
             1,
             "#f0f921"
            ]
           ],
           "sequentialminus": [
            [
             0,
             "#0d0887"
            ],
            [
             0.1111111111111111,
             "#46039f"
            ],
            [
             0.2222222222222222,
             "#7201a8"
            ],
            [
             0.3333333333333333,
             "#9c179e"
            ],
            [
             0.4444444444444444,
             "#bd3786"
            ],
            [
             0.5555555555555556,
             "#d8576b"
            ],
            [
             0.6666666666666666,
             "#ed7953"
            ],
            [
             0.7777777777777778,
             "#fb9f3a"
            ],
            [
             0.8888888888888888,
             "#fdca26"
            ],
            [
             1,
             "#f0f921"
            ]
           ]
          },
          "colorway": [
           "#636efa",
           "#EF553B",
           "#00cc96",
           "#ab63fa",
           "#FFA15A",
           "#19d3f3",
           "#FF6692",
           "#B6E880",
           "#FF97FF",
           "#FECB52"
          ],
          "font": {
           "color": "#2a3f5f"
          },
          "geo": {
           "bgcolor": "white",
           "lakecolor": "white",
           "landcolor": "#E5ECF6",
           "showlakes": true,
           "showland": true,
           "subunitcolor": "white"
          },
          "hoverlabel": {
           "align": "left"
          },
          "hovermode": "closest",
          "mapbox": {
           "style": "light"
          },
          "paper_bgcolor": "white",
          "plot_bgcolor": "#E5ECF6",
          "polar": {
           "angularaxis": {
            "gridcolor": "white",
            "linecolor": "white",
            "ticks": ""
           },
           "bgcolor": "#E5ECF6",
           "radialaxis": {
            "gridcolor": "white",
            "linecolor": "white",
            "ticks": ""
           }
          },
          "scene": {
           "xaxis": {
            "backgroundcolor": "#E5ECF6",
            "gridcolor": "white",
            "gridwidth": 2,
            "linecolor": "white",
            "showbackground": true,
            "ticks": "",
            "zerolinecolor": "white"
           },
           "yaxis": {
            "backgroundcolor": "#E5ECF6",
            "gridcolor": "white",
            "gridwidth": 2,
            "linecolor": "white",
            "showbackground": true,
            "ticks": "",
            "zerolinecolor": "white"
           },
           "zaxis": {
            "backgroundcolor": "#E5ECF6",
            "gridcolor": "white",
            "gridwidth": 2,
            "linecolor": "white",
            "showbackground": true,
            "ticks": "",
            "zerolinecolor": "white"
           }
          },
          "shapedefaults": {
           "line": {
            "color": "#2a3f5f"
           }
          },
          "ternary": {
           "aaxis": {
            "gridcolor": "white",
            "linecolor": "white",
            "ticks": ""
           },
           "baxis": {
            "gridcolor": "white",
            "linecolor": "white",
            "ticks": ""
           },
           "bgcolor": "#E5ECF6",
           "caxis": {
            "gridcolor": "white",
            "linecolor": "white",
            "ticks": ""
           }
          },
          "title": {
           "x": 0.05
          },
          "xaxis": {
           "automargin": true,
           "gridcolor": "white",
           "linecolor": "white",
           "ticks": "",
           "title": {
            "standoff": 15
           },
           "zerolinecolor": "white",
           "zerolinewidth": 2
          },
          "yaxis": {
           "automargin": true,
           "gridcolor": "white",
           "linecolor": "white",
           "ticks": "",
           "title": {
            "standoff": 15
           },
           "zerolinecolor": "white",
           "zerolinewidth": 2
          }
         }
        },
        "title": {
         "text": "TOP 20",
         "x": 0.5
        },
        "width": 600,
        "xaxis": {
         "anchor": "y",
         "domain": [
          0,
          0.94
         ]
        },
        "yaxis": {
         "anchor": "x",
         "domain": [
          0,
          1
         ],
         "side": "right"
        },
        "yaxis2": {
         "anchor": "x",
         "overlaying": "y",
         "side": "right"
        }
       }
      }
     },
     "metadata": {},
     "output_type": "display_data"
    },
    {
     "data": {
      "application/vnd.plotly.v1+json": {
       "config": {
        "plotlyServerURL": "https://plot.ly"
       },
       "data": [
        {
         "name": "CHRW: 25.48 %",
         "type": "scatter",
         "x": [
          "2024-07-17",
          "2024-07-18",
          "2024-07-19",
          "2024-07-22",
          "2024-07-23",
          "2024-07-24",
          "2024-07-25",
          "2024-07-26",
          "2024-07-29",
          "2024-07-30",
          "2024-07-31",
          "2024-08-01",
          "2024-08-02",
          "2024-08-05",
          "2024-08-06",
          "2024-08-07",
          "2024-08-08",
          "2024-08-09",
          "2024-08-12",
          "2024-08-13",
          "2024-08-14",
          "2024-08-15",
          "2024-08-16",
          "2024-08-19",
          "2024-08-20",
          "2024-08-21",
          "2024-08-22",
          "2024-08-23",
          "2024-08-26",
          "2024-08-27",
          "2024-08-28",
          "2024-08-29",
          "2024-08-30",
          "2024-09-03",
          "2024-09-04",
          "2024-09-05",
          "2024-09-06",
          "2024-09-09",
          "2024-09-10",
          "2024-09-11",
          "2024-09-12",
          "2024-09-13",
          "2024-09-16",
          "2024-09-17",
          "2024-09-18",
          "2024-09-19",
          "2024-09-20",
          "2024-09-23",
          "2024-09-24",
          "2024-09-25",
          "2024-09-26",
          "2024-09-27",
          "2024-09-30",
          "2024-10-01",
          "2024-10-02",
          "2024-10-03",
          "2024-10-04",
          "2024-10-07",
          "2024-10-08",
          "2024-10-09",
          "2024-10-10",
          "2024-10-11",
          "2024-10-14",
          "2024-10-15",
          "2024-10-16",
          "2024-10-17",
          "2024-10-18",
          "2024-10-21",
          "2024-10-22",
          "2024-10-23",
          "2024-10-24",
          "2024-10-25",
          "2024-10-28",
          "2024-10-29",
          "2024-10-30",
          "2024-10-31",
          "2024-11-01",
          "2024-11-04",
          "2024-11-05",
          "2024-11-06",
          "2024-11-07",
          "2024-11-08",
          "2024-11-11",
          "2024-11-12",
          "2024-11-13",
          "2024-11-14",
          "2024-11-15",
          "2024-11-18",
          "2024-11-19",
          "2024-11-20",
          "2024-11-21",
          "2024-11-22",
          "2024-11-25",
          "2024-11-26",
          "2024-11-27",
          "2024-11-29",
          "2024-12-02",
          "2024-12-03",
          "2024-12-04",
          "2024-12-05",
          "2024-12-06",
          "2024-12-09",
          "2024-12-10",
          "2024-12-11",
          "2024-12-12",
          "2024-12-13",
          "2024-12-16",
          "2024-12-17",
          "2024-12-18",
          "2024-12-19",
          "2024-12-20",
          "2024-12-23",
          "2024-12-24",
          "2024-12-26",
          "2024-12-27",
          "2024-12-30",
          "2024-12-31",
          "2025-01-02",
          "2025-01-03",
          "2025-01-06",
          "2025-01-07",
          "2025-01-08",
          "2025-01-10",
          "2025-01-13",
          "2025-01-14",
          "2025-01-15",
          "2025-01-16",
          "2025-01-17",
          "2025-01-21",
          "2025-01-22",
          "2025-01-23",
          "2025-01-24",
          "2025-01-27",
          "2025-01-28",
          "2025-01-29",
          "2025-01-30",
          "2025-01-31",
          "2025-02-03",
          "2025-02-04",
          "2025-02-05",
          "2025-02-06",
          "2025-02-07",
          "2025-02-10",
          "2025-02-11",
          "2025-02-12",
          "2025-02-13",
          "2025-02-14",
          "2025-02-18",
          "2025-02-19",
          "2025-02-20",
          "2025-02-21",
          "2025-02-24",
          "2025-02-25",
          "2025-02-26",
          "2025-02-27",
          "2025-02-28",
          "2025-03-03",
          "2025-03-04",
          "2025-03-05",
          "2025-03-06",
          "2025-03-07",
          "2025-03-10",
          "2025-03-11",
          "2025-03-12",
          "2025-03-13",
          "2025-03-14",
          "2025-03-17",
          "2025-03-18",
          "2025-03-19",
          "2025-03-20",
          "2025-03-21",
          "2025-03-24",
          "2025-03-25",
          "2025-03-26",
          "2025-03-27",
          "2025-03-28",
          "2025-03-31",
          "2025-04-01",
          "2025-04-02",
          "2025-04-03",
          "2025-04-04",
          "2025-04-07",
          "2025-04-08",
          "2025-04-09",
          "2025-04-10",
          "2025-04-11",
          "2025-04-14",
          "2025-04-15",
          "2025-04-16",
          "2025-04-17",
          "2025-04-21",
          "2025-04-22",
          "2025-04-23",
          "2025-04-24",
          "2025-04-25",
          "2025-04-28",
          "2025-04-29",
          "2025-04-30",
          "2025-05-01",
          "2025-05-02",
          "2025-05-05",
          "2025-05-06",
          "2025-05-07",
          "2025-05-08",
          "2025-05-09",
          "2025-05-12",
          "2025-05-13",
          "2025-05-14",
          "2025-05-15",
          "2025-05-16",
          "2025-05-19",
          "2025-05-20",
          "2025-05-21",
          "2025-05-22",
          "2025-05-23",
          "2025-05-27",
          "2025-05-28",
          "2025-05-29",
          "2025-05-30",
          "2025-06-02",
          "2025-06-03",
          "2025-06-04",
          "2025-06-05",
          "2025-06-06",
          "2025-06-09",
          "2025-06-10",
          "2025-06-11",
          "2025-06-12",
          "2025-06-13",
          "2025-06-16",
          "2025-06-17",
          "2025-06-18",
          "2025-06-20",
          "2025-06-23",
          "2025-06-24",
          "2025-06-25",
          "2025-06-26",
          "2025-06-27",
          "2025-06-30",
          "2025-07-01",
          "2025-07-02",
          "2025-07-03",
          "2025-07-07",
          "2025-07-08",
          "2025-07-09",
          "2025-07-10",
          "2025-07-11",
          "2025-07-14",
          "2025-07-15",
          "2025-07-16",
          "2025-07-17",
          "2025-07-18",
          "2025-07-21",
          "2025-07-22",
          "2025-07-23",
          "2025-07-24",
          "2025-07-25",
          "2025-07-28",
          "2025-07-29",
          "2025-07-30",
          "2025-07-31",
          "2025-08-01",
          "2025-08-04",
          "2025-08-05",
          "2025-08-06",
          "2025-08-07",
          "2025-08-08",
          "2025-08-11",
          "2025-08-12",
          "2025-08-13",
          "2025-08-14",
          "2025-08-15",
          "2025-08-18",
          "2025-08-19",
          "2025-08-20",
          "2025-08-21",
          "2025-08-22",
          "2025-08-25",
          "2025-08-26",
          "2025-08-27",
          "2025-08-28",
          "2025-08-29",
          "2025-09-02",
          "2025-09-03",
          "2025-09-04",
          "2025-09-05",
          "2025-09-08",
          "2025-09-09",
          "2025-09-10"
         ],
         "xaxis": "x",
         "y": {
          "bdata": "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",
          "dtype": "f8"
         },
         "yaxis": "y"
        },
        {
         "name": "SMA 50",
         "type": "scatter",
         "x": [
          "2024-07-17",
          "2024-07-18",
          "2024-07-19",
          "2024-07-22",
          "2024-07-23",
          "2024-07-24",
          "2024-07-25",
          "2024-07-26",
          "2024-07-29",
          "2024-07-30",
          "2024-07-31",
          "2024-08-01",
          "2024-08-02",
          "2024-08-05",
          "2024-08-06",
          "2024-08-07",
          "2024-08-08",
          "2024-08-09",
          "2024-08-12",
          "2024-08-13",
          "2024-08-14",
          "2024-08-15",
          "2024-08-16",
          "2024-08-19",
          "2024-08-20",
          "2024-08-21",
          "2024-08-22",
          "2024-08-23",
          "2024-08-26",
          "2024-08-27",
          "2024-08-28",
          "2024-08-29",
          "2024-08-30",
          "2024-09-03",
          "2024-09-04",
          "2024-09-05",
          "2024-09-06",
          "2024-09-09",
          "2024-09-10",
          "2024-09-11",
          "2024-09-12",
          "2024-09-13",
          "2024-09-16",
          "2024-09-17",
          "2024-09-18",
          "2024-09-19",
          "2024-09-20",
          "2024-09-23",
          "2024-09-24",
          "2024-09-25",
          "2024-09-26",
          "2024-09-27",
          "2024-09-30",
          "2024-10-01",
          "2024-10-02",
          "2024-10-03",
          "2024-10-04",
          "2024-10-07",
          "2024-10-08",
          "2024-10-09",
          "2024-10-10",
          "2024-10-11",
          "2024-10-14",
          "2024-10-15",
          "2024-10-16",
          "2024-10-17",
          "2024-10-18",
          "2024-10-21",
          "2024-10-22",
          "2024-10-23",
          "2024-10-24",
          "2024-10-25",
          "2024-10-28",
          "2024-10-29",
          "2024-10-30",
          "2024-10-31",
          "2024-11-01",
          "2024-11-04",
          "2024-11-05",
          "2024-11-06",
          "2024-11-07",
          "2024-11-08",
          "2024-11-11",
          "2024-11-12",
          "2024-11-13",
          "2024-11-14",
          "2024-11-15",
          "2024-11-18",
          "2024-11-19",
          "2024-11-20",
          "2024-11-21",
          "2024-11-22",
          "2024-11-25",
          "2024-11-26",
          "2024-11-27",
          "2024-11-29",
          "2024-12-02",
          "2024-12-03",
          "2024-12-04",
          "2024-12-05",
          "2024-12-06",
          "2024-12-09",
          "2024-12-10",
          "2024-12-11",
          "2024-12-12",
          "2024-12-13",
          "2024-12-16",
          "2024-12-17",
          "2024-12-18",
          "2024-12-19",
          "2024-12-20",
          "2024-12-23",
          "2024-12-24",
          "2024-12-26",
          "2024-12-27",
          "2024-12-30",
          "2024-12-31",
          "2025-01-02",
          "2025-01-03",
          "2025-01-06",
          "2025-01-07",
          "2025-01-08",
          "2025-01-10",
          "2025-01-13",
          "2025-01-14",
          "2025-01-15",
          "2025-01-16",
          "2025-01-17",
          "2025-01-21",
          "2025-01-22",
          "2025-01-23",
          "2025-01-24",
          "2025-01-27",
          "2025-01-28",
          "2025-01-29",
          "2025-01-30",
          "2025-01-31",
          "2025-02-03",
          "2025-02-04",
          "2025-02-05",
          "2025-02-06",
          "2025-02-07",
          "2025-02-10",
          "2025-02-11",
          "2025-02-12",
          "2025-02-13",
          "2025-02-14",
          "2025-02-18",
          "2025-02-19",
          "2025-02-20",
          "2025-02-21",
          "2025-02-24",
          "2025-02-25",
          "2025-02-26",
          "2025-02-27",
          "2025-02-28",
          "2025-03-03",
          "2025-03-04",
          "2025-03-05",
          "2025-03-06",
          "2025-03-07",
          "2025-03-10",
          "2025-03-11",
          "2025-03-12",
          "2025-03-13",
          "2025-03-14",
          "2025-03-17",
          "2025-03-18",
          "2025-03-19",
          "2025-03-20",
          "2025-03-21",
          "2025-03-24",
          "2025-03-25",
          "2025-03-26",
          "2025-03-27",
          "2025-03-28",
          "2025-03-31",
          "2025-04-01",
          "2025-04-02",
          "2025-04-03",
          "2025-04-04",
          "2025-04-07",
          "2025-04-08",
          "2025-04-09",
          "2025-04-10",
          "2025-04-11",
          "2025-04-14",
          "2025-04-15",
          "2025-04-16",
          "2025-04-17",
          "2025-04-21",
          "2025-04-22",
          "2025-04-23",
          "2025-04-24",
          "2025-04-25",
          "2025-04-28",
          "2025-04-29",
          "2025-04-30",
          "2025-05-01",
          "2025-05-02",
          "2025-05-05",
          "2025-05-06",
          "2025-05-07",
          "2025-05-08",
          "2025-05-09",
          "2025-05-12",
          "2025-05-13",
          "2025-05-14",
          "2025-05-15",
          "2025-05-16",
          "2025-05-19",
          "2025-05-20",
          "2025-05-21",
          "2025-05-22",
          "2025-05-23",
          "2025-05-27",
          "2025-05-28",
          "2025-05-29",
          "2025-05-30",
          "2025-06-02",
          "2025-06-03",
          "2025-06-04",
          "2025-06-05",
          "2025-06-06",
          "2025-06-09",
          "2025-06-10",
          "2025-06-11",
          "2025-06-12",
          "2025-06-13",
          "2025-06-16",
          "2025-06-17",
          "2025-06-18",
          "2025-06-20",
          "2025-06-23",
          "2025-06-24",
          "2025-06-25",
          "2025-06-26",
          "2025-06-27",
          "2025-06-30",
          "2025-07-01",
          "2025-07-02",
          "2025-07-03",
          "2025-07-07",
          "2025-07-08",
          "2025-07-09",
          "2025-07-10",
          "2025-07-11",
          "2025-07-14",
          "2025-07-15",
          "2025-07-16",
          "2025-07-17",
          "2025-07-18",
          "2025-07-21",
          "2025-07-22",
          "2025-07-23",
          "2025-07-24",
          "2025-07-25",
          "2025-07-28",
          "2025-07-29",
          "2025-07-30",
          "2025-07-31",
          "2025-08-01",
          "2025-08-04",
          "2025-08-05",
          "2025-08-06",
          "2025-08-07",
          "2025-08-08",
          "2025-08-11",
          "2025-08-12",
          "2025-08-13",
          "2025-08-14",
          "2025-08-15",
          "2025-08-18",
          "2025-08-19",
          "2025-08-20",
          "2025-08-21",
          "2025-08-22",
          "2025-08-25",
          "2025-08-26",
          "2025-08-27",
          "2025-08-28",
          "2025-08-29",
          "2025-09-02",
          "2025-09-03",
          "2025-09-04",
          "2025-09-05",
          "2025-09-08",
          "2025-09-09",
          "2025-09-10"
         ],
         "xaxis": "x",
         "y": {
          "bdata": "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",
          "dtype": "f8"
         },
         "yaxis": "y"
        }
       ],
       "layout": {
        "annotations": [
         {
          "font": {
           "size": 8
          },
          "showarrow": false,
          "text": "Date: 2025-09-10, Open:127.64, High:127.83, Low:125.3, Close: 125.34",
          "x": 0.01,
          "xref": "x domain",
          "y": 1,
          "yref": "y domain"
         }
        ],
        "height": 400,
        "legend": {
         "font": {
          "size": 8
         },
         "title": {
          "font": {
           "family": "Arial"
          }
         }
        },
        "template": {
         "data": {
          "bar": [
           {
            "error_x": {
             "color": "#2a3f5f"
            },
            "error_y": {
             "color": "#2a3f5f"
            },
            "marker": {
             "line": {
              "color": "#E5ECF6",
              "width": 0.5
             },
             "pattern": {
              "fillmode": "overlay",
              "size": 10,
              "solidity": 0.2
             }
            },
            "type": "bar"
           }
          ],
          "barpolar": [
           {
            "marker": {
             "line": {
              "color": "#E5ECF6",
              "width": 0.5
             },
             "pattern": {
              "fillmode": "overlay",
              "size": 10,
              "solidity": 0.2
             }
            },
            "type": "barpolar"
           }
          ],
          "carpet": [
           {
            "aaxis": {
             "endlinecolor": "#2a3f5f",
             "gridcolor": "white",
             "linecolor": "white",
             "minorgridcolor": "white",
             "startlinecolor": "#2a3f5f"
            },
            "baxis": {
             "endlinecolor": "#2a3f5f",
             "gridcolor": "white",
             "linecolor": "white",
             "minorgridcolor": "white",
             "startlinecolor": "#2a3f5f"
            },
            "type": "carpet"
           }
          ],
          "choropleth": [
           {
            "colorbar": {
             "outlinewidth": 0,
             "ticks": ""
            },
            "type": "choropleth"
           }
          ],
          "contour": [
           {
            "colorbar": {
             "outlinewidth": 0,
             "ticks": ""
            },
            "colorscale": [
             [
              0,
              "#0d0887"
             ],
             [
              0.1111111111111111,
              "#46039f"
             ],
             [
              0.2222222222222222,
              "#7201a8"
             ],
             [
              0.3333333333333333,
              "#9c179e"
             ],
             [
              0.4444444444444444,
              "#bd3786"
             ],
             [
              0.5555555555555556,
              "#d8576b"
             ],
             [
              0.6666666666666666,
              "#ed7953"
             ],
             [
              0.7777777777777778,
              "#fb9f3a"
             ],
             [
              0.8888888888888888,
              "#fdca26"
             ],
             [
              1,
              "#f0f921"
             ]
            ],
            "type": "contour"
           }
          ],
          "contourcarpet": [
           {
            "colorbar": {
             "outlinewidth": 0,
             "ticks": ""
            },
            "type": "contourcarpet"
           }
          ],
          "heatmap": [
           {
            "colorbar": {
             "outlinewidth": 0,
             "ticks": ""
            },
            "colorscale": [
             [
              0,
              "#0d0887"
             ],
             [
              0.1111111111111111,
              "#46039f"
             ],
             [
              0.2222222222222222,
              "#7201a8"
             ],
             [
              0.3333333333333333,
              "#9c179e"
             ],
             [
              0.4444444444444444,
              "#bd3786"
             ],
             [
              0.5555555555555556,
              "#d8576b"
             ],
             [
              0.6666666666666666,
              "#ed7953"
             ],
             [
              0.7777777777777778,
              "#fb9f3a"
             ],
             [
              0.8888888888888888,
              "#fdca26"
             ],
             [
              1,
              "#f0f921"
             ]
            ],
            "type": "heatmap"
           }
          ],
          "histogram": [
           {
            "marker": {
             "pattern": {
              "fillmode": "overlay",
              "size": 10,
              "solidity": 0.2
             }
            },
            "type": "histogram"
           }
          ],
          "histogram2d": [
           {
            "colorbar": {
             "outlinewidth": 0,
             "ticks": ""
            },
            "colorscale": [
             [
              0,
              "#0d0887"
             ],
             [
              0.1111111111111111,
              "#46039f"
             ],
             [
              0.2222222222222222,
              "#7201a8"
             ],
             [
              0.3333333333333333,
              "#9c179e"
             ],
             [
              0.4444444444444444,
              "#bd3786"
             ],
             [
              0.5555555555555556,
              "#d8576b"
             ],
             [
              0.6666666666666666,
              "#ed7953"
             ],
             [
              0.7777777777777778,
              "#fb9f3a"
             ],
             [
              0.8888888888888888,
              "#fdca26"
             ],
             [
              1,
              "#f0f921"
             ]
            ],
            "type": "histogram2d"
           }
          ],
          "histogram2dcontour": [
           {
            "colorbar": {
             "outlinewidth": 0,
             "ticks": ""
            },
            "colorscale": [
             [
              0,
              "#0d0887"
             ],
             [
              0.1111111111111111,
              "#46039f"
             ],
             [
              0.2222222222222222,
              "#7201a8"
             ],
             [
              0.3333333333333333,
              "#9c179e"
             ],
             [
              0.4444444444444444,
              "#bd3786"
             ],
             [
              0.5555555555555556,
              "#d8576b"
             ],
             [
              0.6666666666666666,
              "#ed7953"
             ],
             [
              0.7777777777777778,
              "#fb9f3a"
             ],
             [
              0.8888888888888888,
              "#fdca26"
             ],
             [
              1,
              "#f0f921"
             ]
            ],
            "type": "histogram2dcontour"
           }
          ],
          "mesh3d": [
           {
            "colorbar": {
             "outlinewidth": 0,
             "ticks": ""
            },
            "type": "mesh3d"
           }
          ],
          "parcoords": [
           {
            "line": {
             "colorbar": {
              "outlinewidth": 0,
              "ticks": ""
             }
            },
            "type": "parcoords"
           }
          ],
          "pie": [
           {
            "automargin": true,
            "type": "pie"
           }
          ],
          "scatter": [
           {
            "fillpattern": {
             "fillmode": "overlay",
             "size": 10,
             "solidity": 0.2
            },
            "type": "scatter"
           }
          ],
          "scatter3d": [
           {
            "line": {
             "colorbar": {
              "outlinewidth": 0,
              "ticks": ""
             }
            },
            "marker": {
             "colorbar": {
              "outlinewidth": 0,
              "ticks": ""
             }
            },
            "type": "scatter3d"
           }
          ],
          "scattercarpet": [
           {
            "marker": {
             "colorbar": {
              "outlinewidth": 0,
              "ticks": ""
             }
            },
            "type": "scattercarpet"
           }
          ],
          "scattergeo": [
           {
            "marker": {
             "colorbar": {
              "outlinewidth": 0,
              "ticks": ""
             }
            },
            "type": "scattergeo"
           }
          ],
          "scattergl": [
           {
            "marker": {
             "colorbar": {
              "outlinewidth": 0,
              "ticks": ""
             }
            },
            "type": "scattergl"
           }
          ],
          "scattermap": [
           {
            "marker": {
             "colorbar": {
              "outlinewidth": 0,
              "ticks": ""
             }
            },
            "type": "scattermap"
           }
          ],
          "scattermapbox": [
           {
            "marker": {
             "colorbar": {
              "outlinewidth": 0,
              "ticks": ""
             }
            },
            "type": "scattermapbox"
           }
          ],
          "scatterpolar": [
           {
            "marker": {
             "colorbar": {
              "outlinewidth": 0,
              "ticks": ""
             }
            },
            "type": "scatterpolar"
           }
          ],
          "scatterpolargl": [
           {
            "marker": {
             "colorbar": {
              "outlinewidth": 0,
              "ticks": ""
             }
            },
            "type": "scatterpolargl"
           }
          ],
          "scatterternary": [
           {
            "marker": {
             "colorbar": {
              "outlinewidth": 0,
              "ticks": ""
             }
            },
            "type": "scatterternary"
           }
          ],
          "surface": [
           {
            "colorbar": {
             "outlinewidth": 0,
             "ticks": ""
            },
            "colorscale": [
             [
              0,
              "#0d0887"
             ],
             [
              0.1111111111111111,
              "#46039f"
             ],
             [
              0.2222222222222222,
              "#7201a8"
             ],
             [
              0.3333333333333333,
              "#9c179e"
             ],
             [
              0.4444444444444444,
              "#bd3786"
             ],
             [
              0.5555555555555556,
              "#d8576b"
             ],
             [
              0.6666666666666666,
              "#ed7953"
             ],
             [
              0.7777777777777778,
              "#fb9f3a"
             ],
             [
              0.8888888888888888,
              "#fdca26"
             ],
             [
              1,
              "#f0f921"
             ]
            ],
            "type": "surface"
           }
          ],
          "table": [
           {
            "cells": {
             "fill": {
              "color": "#EBF0F8"
             },
             "line": {
              "color": "white"
             }
            },
            "header": {
             "fill": {
              "color": "#C8D4E3"
             },
             "line": {
              "color": "white"
             }
            },
            "type": "table"
           }
          ]
         },
         "layout": {
          "annotationdefaults": {
           "arrowcolor": "#2a3f5f",
           "arrowhead": 0,
           "arrowwidth": 1
          },
          "autotypenumbers": "strict",
          "coloraxis": {
           "colorbar": {
            "outlinewidth": 0,
            "ticks": ""
           }
          },
          "colorscale": {
           "diverging": [
            [
             0,
             "#8e0152"
            ],
            [
             0.1,
             "#c51b7d"
            ],
            [
             0.2,
             "#de77ae"
            ],
            [
             0.3,
             "#f1b6da"
            ],
            [
             0.4,
             "#fde0ef"
            ],
            [
             0.5,
             "#f7f7f7"
            ],
            [
             0.6,
             "#e6f5d0"
            ],
            [
             0.7,
             "#b8e186"
            ],
            [
             0.8,
             "#7fbc41"
            ],
            [
             0.9,
             "#4d9221"
            ],
            [
             1,
             "#276419"
            ]
           ],
           "sequential": [
            [
             0,
             "#0d0887"
            ],
            [
             0.1111111111111111,
             "#46039f"
            ],
            [
             0.2222222222222222,
             "#7201a8"
            ],
            [
             0.3333333333333333,
             "#9c179e"
            ],
            [
             0.4444444444444444,
             "#bd3786"
            ],
            [
             0.5555555555555556,
             "#d8576b"
            ],
            [
             0.6666666666666666,
             "#ed7953"
            ],
            [
             0.7777777777777778,
             "#fb9f3a"
            ],
            [
             0.8888888888888888,
             "#fdca26"
            ],
            [
             1,
             "#f0f921"
            ]
           ],
           "sequentialminus": [
            [
             0,
             "#0d0887"
            ],
            [
             0.1111111111111111,
             "#46039f"
            ],
            [
             0.2222222222222222,
             "#7201a8"
            ],
            [
             0.3333333333333333,
             "#9c179e"
            ],
            [
             0.4444444444444444,
             "#bd3786"
            ],
            [
             0.5555555555555556,
             "#d8576b"
            ],
            [
             0.6666666666666666,
             "#ed7953"
            ],
            [
             0.7777777777777778,
             "#fb9f3a"
            ],
            [
             0.8888888888888888,
             "#fdca26"
            ],
            [
             1,
             "#f0f921"
            ]
           ]
          },
          "colorway": [
           "#636efa",
           "#EF553B",
           "#00cc96",
           "#ab63fa",
           "#FFA15A",
           "#19d3f3",
           "#FF6692",
           "#B6E880",
           "#FF97FF",
           "#FECB52"
          ],
          "font": {
           "color": "#2a3f5f"
          },
          "geo": {
           "bgcolor": "white",
           "lakecolor": "white",
           "landcolor": "#E5ECF6",
           "showlakes": true,
           "showland": true,
           "subunitcolor": "white"
          },
          "hoverlabel": {
           "align": "left"
          },
          "hovermode": "closest",
          "mapbox": {
           "style": "light"
          },
          "paper_bgcolor": "white",
          "plot_bgcolor": "#E5ECF6",
          "polar": {
           "angularaxis": {
            "gridcolor": "white",
            "linecolor": "white",
            "ticks": ""
           },
           "bgcolor": "#E5ECF6",
           "radialaxis": {
            "gridcolor": "white",
            "linecolor": "white",
            "ticks": ""
           }
          },
          "scene": {
           "xaxis": {
            "backgroundcolor": "#E5ECF6",
            "gridcolor": "white",
            "gridwidth": 2,
            "linecolor": "white",
            "showbackground": true,
            "ticks": "",
            "zerolinecolor": "white"
           },
           "yaxis": {
            "backgroundcolor": "#E5ECF6",
            "gridcolor": "white",
            "gridwidth": 2,
            "linecolor": "white",
            "showbackground": true,
            "ticks": "",
            "zerolinecolor": "white"
           },
           "zaxis": {
            "backgroundcolor": "#E5ECF6",
            "gridcolor": "white",
            "gridwidth": 2,
            "linecolor": "white",
            "showbackground": true,
            "ticks": "",
            "zerolinecolor": "white"
           }
          },
          "shapedefaults": {
           "line": {
            "color": "#2a3f5f"
           }
          },
          "ternary": {
           "aaxis": {
            "gridcolor": "white",
            "linecolor": "white",
            "ticks": ""
           },
           "baxis": {
            "gridcolor": "white",
            "linecolor": "white",
            "ticks": ""
           },
           "bgcolor": "#E5ECF6",
           "caxis": {
            "gridcolor": "white",
            "linecolor": "white",
            "ticks": ""
           }
          },
          "title": {
           "x": 0.05
          },
          "xaxis": {
           "automargin": true,
           "gridcolor": "white",
           "linecolor": "white",
           "ticks": "",
           "title": {
            "standoff": 15
           },
           "zerolinecolor": "white",
           "zerolinewidth": 2
          },
          "yaxis": {
           "automargin": true,
           "gridcolor": "white",
           "linecolor": "white",
           "ticks": "",
           "title": {
            "standoff": 15
           },
           "zerolinecolor": "white",
           "zerolinewidth": 2
          }
         }
        },
        "title": {
         "text": "TOP 20",
         "x": 0.5
        },
        "width": 600,
        "xaxis": {
         "anchor": "y",
         "domain": [
          0,
          0.94
         ]
        },
        "yaxis": {
         "anchor": "x",
         "domain": [
          0,
          1
         ],
         "side": "right"
        },
        "yaxis2": {
         "anchor": "x",
         "overlaying": "y",
         "side": "right"
        }
       }
      }
     },
     "metadata": {},
     "output_type": "display_data"
    },
    {
     "data": {
      "application/vnd.plotly.v1+json": {
       "config": {
        "plotlyServerURL": "https://plot.ly"
       },
       "data": [
        {
         "name": "MU: 24.35 %",
         "type": "scatter",
         "x": [
          "2024-07-17",
          "2024-07-18",
          "2024-07-19",
          "2024-07-22",
          "2024-07-23",
          "2024-07-24",
          "2024-07-25",
          "2024-07-26",
          "2024-07-29",
          "2024-07-30",
          "2024-07-31",
          "2024-08-01",
          "2024-08-02",
          "2024-08-05",
          "2024-08-06",
          "2024-08-07",
          "2024-08-08",
          "2024-08-09",
          "2024-08-12",
          "2024-08-13",
          "2024-08-14",
          "2024-08-15",
          "2024-08-16",
          "2024-08-19",
          "2024-08-20",
          "2024-08-21",
          "2024-08-22",
          "2024-08-23",
          "2024-08-26",
          "2024-08-27",
          "2024-08-28",
          "2024-08-29",
          "2024-08-30",
          "2024-09-03",
          "2024-09-04",
          "2024-09-05",
          "2024-09-06",
          "2024-09-09",
          "2024-09-10",
          "2024-09-11",
          "2024-09-12",
          "2024-09-13",
          "2024-09-16",
          "2024-09-17",
          "2024-09-18",
          "2024-09-19",
          "2024-09-20",
          "2024-09-23",
          "2024-09-24",
          "2024-09-25",
          "2024-09-26",
          "2024-09-27",
          "2024-09-30",
          "2024-10-01",
          "2024-10-02",
          "2024-10-03",
          "2024-10-04",
          "2024-10-07",
          "2024-10-08",
          "2024-10-09",
          "2024-10-10",
          "2024-10-11",
          "2024-10-14",
          "2024-10-15",
          "2024-10-16",
          "2024-10-17",
          "2024-10-18",
          "2024-10-21",
          "2024-10-22",
          "2024-10-23",
          "2024-10-24",
          "2024-10-25",
          "2024-10-28",
          "2024-10-29",
          "2024-10-30",
          "2024-10-31",
          "2024-11-01",
          "2024-11-04",
          "2024-11-05",
          "2024-11-06",
          "2024-11-07",
          "2024-11-08",
          "2024-11-11",
          "2024-11-12",
          "2024-11-13",
          "2024-11-14",
          "2024-11-15",
          "2024-11-18",
          "2024-11-19",
          "2024-11-20",
          "2024-11-21",
          "2024-11-22",
          "2024-11-25",
          "2024-11-26",
          "2024-11-27",
          "2024-11-29",
          "2024-12-02",
          "2024-12-03",
          "2024-12-04",
          "2024-12-05",
          "2024-12-06",
          "2024-12-09",
          "2024-12-10",
          "2024-12-11",
          "2024-12-12",
          "2024-12-13",
          "2024-12-16",
          "2024-12-17",
          "2024-12-18",
          "2024-12-19",
          "2024-12-20",
          "2024-12-23",
          "2024-12-24",
          "2024-12-26",
          "2024-12-27",
          "2024-12-30",
          "2024-12-31",
          "2025-01-02",
          "2025-01-03",
          "2025-01-06",
          "2025-01-07",
          "2025-01-08",
          "2025-01-10",
          "2025-01-13",
          "2025-01-14",
          "2025-01-15",
          "2025-01-16",
          "2025-01-17",
          "2025-01-21",
          "2025-01-22",
          "2025-01-23",
          "2025-01-24",
          "2025-01-27",
          "2025-01-28",
          "2025-01-29",
          "2025-01-30",
          "2025-01-31",
          "2025-02-03",
          "2025-02-04",
          "2025-02-05",
          "2025-02-06",
          "2025-02-07",
          "2025-02-10",
          "2025-02-11",
          "2025-02-12",
          "2025-02-13",
          "2025-02-14",
          "2025-02-18",
          "2025-02-19",
          "2025-02-20",
          "2025-02-21",
          "2025-02-24",
          "2025-02-25",
          "2025-02-26",
          "2025-02-27",
          "2025-02-28",
          "2025-03-03",
          "2025-03-04",
          "2025-03-05",
          "2025-03-06",
          "2025-03-07",
          "2025-03-10",
          "2025-03-11",
          "2025-03-12",
          "2025-03-13",
          "2025-03-14",
          "2025-03-17",
          "2025-03-18",
          "2025-03-19",
          "2025-03-20",
          "2025-03-21",
          "2025-03-24",
          "2025-03-25",
          "2025-03-26",
          "2025-03-27",
          "2025-03-28",
          "2025-03-31",
          "2025-04-01",
          "2025-04-02",
          "2025-04-03",
          "2025-04-04",
          "2025-04-07",
          "2025-04-08",
          "2025-04-09",
          "2025-04-10",
          "2025-04-11",
          "2025-04-14",
          "2025-04-15",
          "2025-04-16",
          "2025-04-17",
          "2025-04-21",
          "2025-04-22",
          "2025-04-23",
          "2025-04-24",
          "2025-04-25",
          "2025-04-28",
          "2025-04-29",
          "2025-04-30",
          "2025-05-01",
          "2025-05-02",
          "2025-05-05",
          "2025-05-06",
          "2025-05-07",
          "2025-05-08",
          "2025-05-09",
          "2025-05-12",
          "2025-05-13",
          "2025-05-14",
          "2025-05-15",
          "2025-05-16",
          "2025-05-19",
          "2025-05-20",
          "2025-05-21",
          "2025-05-22",
          "2025-05-23",
          "2025-05-27",
          "2025-05-28",
          "2025-05-29",
          "2025-05-30",
          "2025-06-02",
          "2025-06-03",
          "2025-06-04",
          "2025-06-05",
          "2025-06-06",
          "2025-06-09",
          "2025-06-10",
          "2025-06-11",
          "2025-06-12",
          "2025-06-13",
          "2025-06-16",
          "2025-06-17",
          "2025-06-18",
          "2025-06-20",
          "2025-06-23",
          "2025-06-24",
          "2025-06-25",
          "2025-06-26",
          "2025-06-27",
          "2025-06-30",
          "2025-07-01",
          "2025-07-02",
          "2025-07-03",
          "2025-07-07",
          "2025-07-08",
          "2025-07-09",
          "2025-07-10",
          "2025-07-11",
          "2025-07-14",
          "2025-07-15",
          "2025-07-16",
          "2025-07-17",
          "2025-07-18",
          "2025-07-21",
          "2025-07-22",
          "2025-07-23",
          "2025-07-24",
          "2025-07-25",
          "2025-07-28",
          "2025-07-29",
          "2025-07-30",
          "2025-07-31",
          "2025-08-01",
          "2025-08-04",
          "2025-08-05",
          "2025-08-06",
          "2025-08-07",
          "2025-08-08",
          "2025-08-11",
          "2025-08-12",
          "2025-08-13",
          "2025-08-14",
          "2025-08-15",
          "2025-08-18",
          "2025-08-19",
          "2025-08-20",
          "2025-08-21",
          "2025-08-22",
          "2025-08-25",
          "2025-08-26",
          "2025-08-27",
          "2025-08-28",
          "2025-08-29",
          "2025-09-02",
          "2025-09-03",
          "2025-09-04",
          "2025-09-05",
          "2025-09-08",
          "2025-09-09",
          "2025-09-10"
         ],
         "xaxis": "x",
         "y": {
          "bdata": "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",
          "dtype": "f8"
         },
         "yaxis": "y"
        },
        {
         "name": "SMA 50",
         "type": "scatter",
         "x": [
          "2024-07-17",
          "2024-07-18",
          "2024-07-19",
          "2024-07-22",
          "2024-07-23",
          "2024-07-24",
          "2024-07-25",
          "2024-07-26",
          "2024-07-29",
          "2024-07-30",
          "2024-07-31",
          "2024-08-01",
          "2024-08-02",
          "2024-08-05",
          "2024-08-06",
          "2024-08-07",
          "2024-08-08",
          "2024-08-09",
          "2024-08-12",
          "2024-08-13",
          "2024-08-14",
          "2024-08-15",
          "2024-08-16",
          "2024-08-19",
          "2024-08-20",
          "2024-08-21",
          "2024-08-22",
          "2024-08-23",
          "2024-08-26",
          "2024-08-27",
          "2024-08-28",
          "2024-08-29",
          "2024-08-30",
          "2024-09-03",
          "2024-09-04",
          "2024-09-05",
          "2024-09-06",
          "2024-09-09",
          "2024-09-10",
          "2024-09-11",
          "2024-09-12",
          "2024-09-13",
          "2024-09-16",
          "2024-09-17",
          "2024-09-18",
          "2024-09-19",
          "2024-09-20",
          "2024-09-23",
          "2024-09-24",
          "2024-09-25",
          "2024-09-26",
          "2024-09-27",
          "2024-09-30",
          "2024-10-01",
          "2024-10-02",
          "2024-10-03",
          "2024-10-04",
          "2024-10-07",
          "2024-10-08",
          "2024-10-09",
          "2024-10-10",
          "2024-10-11",
          "2024-10-14",
          "2024-10-15",
          "2024-10-16",
          "2024-10-17",
          "2024-10-18",
          "2024-10-21",
          "2024-10-22",
          "2024-10-23",
          "2024-10-24",
          "2024-10-25",
          "2024-10-28",
          "2024-10-29",
          "2024-10-30",
          "2024-10-31",
          "2024-11-01",
          "2024-11-04",
          "2024-11-05",
          "2024-11-06",
          "2024-11-07",
          "2024-11-08",
          "2024-11-11",
          "2024-11-12",
          "2024-11-13",
          "2024-11-14",
          "2024-11-15",
          "2024-11-18",
          "2024-11-19",
          "2024-11-20",
          "2024-11-21",
          "2024-11-22",
          "2024-11-25",
          "2024-11-26",
          "2024-11-27",
          "2024-11-29",
          "2024-12-02",
          "2024-12-03",
          "2024-12-04",
          "2024-12-05",
          "2024-12-06",
          "2024-12-09",
          "2024-12-10",
          "2024-12-11",
          "2024-12-12",
          "2024-12-13",
          "2024-12-16",
          "2024-12-17",
          "2024-12-18",
          "2024-12-19",
          "2024-12-20",
          "2024-12-23",
          "2024-12-24",
          "2024-12-26",
          "2024-12-27",
          "2024-12-30",
          "2024-12-31",
          "2025-01-02",
          "2025-01-03",
          "2025-01-06",
          "2025-01-07",
          "2025-01-08",
          "2025-01-10",
          "2025-01-13",
          "2025-01-14",
          "2025-01-15",
          "2025-01-16",
          "2025-01-17",
          "2025-01-21",
          "2025-01-22",
          "2025-01-23",
          "2025-01-24",
          "2025-01-27",
          "2025-01-28",
          "2025-01-29",
          "2025-01-30",
          "2025-01-31",
          "2025-02-03",
          "2025-02-04",
          "2025-02-05",
          "2025-02-06",
          "2025-02-07",
          "2025-02-10",
          "2025-02-11",
          "2025-02-12",
          "2025-02-13",
          "2025-02-14",
          "2025-02-18",
          "2025-02-19",
          "2025-02-20",
          "2025-02-21",
          "2025-02-24",
          "2025-02-25",
          "2025-02-26",
          "2025-02-27",
          "2025-02-28",
          "2025-03-03",
          "2025-03-04",
          "2025-03-05",
          "2025-03-06",
          "2025-03-07",
          "2025-03-10",
          "2025-03-11",
          "2025-03-12",
          "2025-03-13",
          "2025-03-14",
          "2025-03-17",
          "2025-03-18",
          "2025-03-19",
          "2025-03-20",
          "2025-03-21",
          "2025-03-24",
          "2025-03-25",
          "2025-03-26",
          "2025-03-27",
          "2025-03-28",
          "2025-03-31",
          "2025-04-01",
          "2025-04-02",
          "2025-04-03",
          "2025-04-04",
          "2025-04-07",
          "2025-04-08",
          "2025-04-09",
          "2025-04-10",
          "2025-04-11",
          "2025-04-14",
          "2025-04-15",
          "2025-04-16",
          "2025-04-17",
          "2025-04-21",
          "2025-04-22",
          "2025-04-23",
          "2025-04-24",
          "2025-04-25",
          "2025-04-28",
          "2025-04-29",
          "2025-04-30",
          "2025-05-01",
          "2025-05-02",
          "2025-05-05",
          "2025-05-06",
          "2025-05-07",
          "2025-05-08",
          "2025-05-09",
          "2025-05-12",
          "2025-05-13",
          "2025-05-14",
          "2025-05-15",
          "2025-05-16",
          "2025-05-19",
          "2025-05-20",
          "2025-05-21",
          "2025-05-22",
          "2025-05-23",
          "2025-05-27",
          "2025-05-28",
          "2025-05-29",
          "2025-05-30",
          "2025-06-02",
          "2025-06-03",
          "2025-06-04",
          "2025-06-05",
          "2025-06-06",
          "2025-06-09",
          "2025-06-10",
          "2025-06-11",
          "2025-06-12",
          "2025-06-13",
          "2025-06-16",
          "2025-06-17",
          "2025-06-18",
          "2025-06-20",
          "2025-06-23",
          "2025-06-24",
          "2025-06-25",
          "2025-06-26",
          "2025-06-27",
          "2025-06-30",
          "2025-07-01",
          "2025-07-02",
          "2025-07-03",
          "2025-07-07",
          "2025-07-08",
          "2025-07-09",
          "2025-07-10",
          "2025-07-11",
          "2025-07-14",
          "2025-07-15",
          "2025-07-16",
          "2025-07-17",
          "2025-07-18",
          "2025-07-21",
          "2025-07-22",
          "2025-07-23",
          "2025-07-24",
          "2025-07-25",
          "2025-07-28",
          "2025-07-29",
          "2025-07-30",
          "2025-07-31",
          "2025-08-01",
          "2025-08-04",
          "2025-08-05",
          "2025-08-06",
          "2025-08-07",
          "2025-08-08",
          "2025-08-11",
          "2025-08-12",
          "2025-08-13",
          "2025-08-14",
          "2025-08-15",
          "2025-08-18",
          "2025-08-19",
          "2025-08-20",
          "2025-08-21",
          "2025-08-22",
          "2025-08-25",
          "2025-08-26",
          "2025-08-27",
          "2025-08-28",
          "2025-08-29",
          "2025-09-02",
          "2025-09-03",
          "2025-09-04",
          "2025-09-05",
          "2025-09-08",
          "2025-09-09",
          "2025-09-10"
         ],
         "xaxis": "x",
         "y": {
          "bdata": "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",
          "dtype": "f8"
         },
         "yaxis": "y"
        }
       ],
       "layout": {
        "annotations": [
         {
          "font": {
           "size": 8
          },
          "showarrow": false,
          "text": "Date: 2025-09-10, Open:140.0, High:142.24, Low:138.34, Close: 140.02",
          "x": 0.01,
          "xref": "x domain",
          "y": 1,
          "yref": "y domain"
         }
        ],
        "height": 400,
        "legend": {
         "font": {
          "size": 8
         },
         "title": {
          "font": {
           "family": "Arial"
          }
         }
        },
        "template": {
         "data": {
          "bar": [
           {
            "error_x": {
             "color": "#2a3f5f"
            },
            "error_y": {
             "color": "#2a3f5f"
            },
            "marker": {
             "line": {
              "color": "#E5ECF6",
              "width": 0.5
             },
             "pattern": {
              "fillmode": "overlay",
              "size": 10,
              "solidity": 0.2
             }
            },
            "type": "bar"
           }
          ],
          "barpolar": [
           {
            "marker": {
             "line": {
              "color": "#E5ECF6",
              "width": 0.5
             },
             "pattern": {
              "fillmode": "overlay",
              "size": 10,
              "solidity": 0.2
             }
            },
            "type": "barpolar"
           }
          ],
          "carpet": [
           {
            "aaxis": {
             "endlinecolor": "#2a3f5f",
             "gridcolor": "white",
             "linecolor": "white",
             "minorgridcolor": "white",
             "startlinecolor": "#2a3f5f"
            },
            "baxis": {
             "endlinecolor": "#2a3f5f",
             "gridcolor": "white",
             "linecolor": "white",
             "minorgridcolor": "white",
             "startlinecolor": "#2a3f5f"
            },
            "type": "carpet"
           }
          ],
          "choropleth": [
           {
            "colorbar": {
             "outlinewidth": 0,
             "ticks": ""
            },
            "type": "choropleth"
           }
          ],
          "contour": [
           {
            "colorbar": {
             "outlinewidth": 0,
             "ticks": ""
            },
            "colorscale": [
             [
              0,
              "#0d0887"
             ],
             [
              0.1111111111111111,
              "#46039f"
             ],
             [
              0.2222222222222222,
              "#7201a8"
             ],
             [
              0.3333333333333333,
              "#9c179e"
             ],
             [
              0.4444444444444444,
              "#bd3786"
             ],
             [
              0.5555555555555556,
              "#d8576b"
             ],
             [
              0.6666666666666666,
              "#ed7953"
             ],
             [
              0.7777777777777778,
              "#fb9f3a"
             ],
             [
              0.8888888888888888,
              "#fdca26"
             ],
             [
              1,
              "#f0f921"
             ]
            ],
            "type": "contour"
           }
          ],
          "contourcarpet": [
           {
            "colorbar": {
             "outlinewidth": 0,
             "ticks": ""
            },
            "type": "contourcarpet"
           }
          ],
          "heatmap": [
           {
            "colorbar": {
             "outlinewidth": 0,
             "ticks": ""
            },
            "colorscale": [
             [
              0,
              "#0d0887"
             ],
             [
              0.1111111111111111,
              "#46039f"
             ],
             [
              0.2222222222222222,
              "#7201a8"
             ],
             [
              0.3333333333333333,
              "#9c179e"
             ],
             [
              0.4444444444444444,
              "#bd3786"
             ],
             [
              0.5555555555555556,
              "#d8576b"
             ],
             [
              0.6666666666666666,
              "#ed7953"
             ],
             [
              0.7777777777777778,
              "#fb9f3a"
             ],
             [
              0.8888888888888888,
              "#fdca26"
             ],
             [
              1,
              "#f0f921"
             ]
            ],
            "type": "heatmap"
           }
          ],
          "histogram": [
           {
            "marker": {
             "pattern": {
              "fillmode": "overlay",
              "size": 10,
              "solidity": 0.2
             }
            },
            "type": "histogram"
           }
          ],
          "histogram2d": [
           {
            "colorbar": {
             "outlinewidth": 0,
             "ticks": ""
            },
            "colorscale": [
             [
              0,
              "#0d0887"
             ],
             [
              0.1111111111111111,
              "#46039f"
             ],
             [
              0.2222222222222222,
              "#7201a8"
             ],
             [
              0.3333333333333333,
              "#9c179e"
             ],
             [
              0.4444444444444444,
              "#bd3786"
             ],
             [
              0.5555555555555556,
              "#d8576b"
             ],
             [
              0.6666666666666666,
              "#ed7953"
             ],
             [
              0.7777777777777778,
              "#fb9f3a"
             ],
             [
              0.8888888888888888,
              "#fdca26"
             ],
             [
              1,
              "#f0f921"
             ]
            ],
            "type": "histogram2d"
           }
          ],
          "histogram2dcontour": [
           {
            "colorbar": {
             "outlinewidth": 0,
             "ticks": ""
            },
            "colorscale": [
             [
              0,
              "#0d0887"
             ],
             [
              0.1111111111111111,
              "#46039f"
             ],
             [
              0.2222222222222222,
              "#7201a8"
             ],
             [
              0.3333333333333333,
              "#9c179e"
             ],
             [
              0.4444444444444444,
              "#bd3786"
             ],
             [
              0.5555555555555556,
              "#d8576b"
             ],
             [
              0.6666666666666666,
              "#ed7953"
             ],
             [
              0.7777777777777778,
              "#fb9f3a"
             ],
             [
              0.8888888888888888,
              "#fdca26"
             ],
             [
              1,
              "#f0f921"
             ]
            ],
            "type": "histogram2dcontour"
           }
          ],
          "mesh3d": [
           {
            "colorbar": {
             "outlinewidth": 0,
             "ticks": ""
            },
            "type": "mesh3d"
           }
          ],
          "parcoords": [
           {
            "line": {
             "colorbar": {
              "outlinewidth": 0,
              "ticks": ""
             }
            },
            "type": "parcoords"
           }
          ],
          "pie": [
           {
            "automargin": true,
            "type": "pie"
           }
          ],
          "scatter": [
           {
            "fillpattern": {
             "fillmode": "overlay",
             "size": 10,
             "solidity": 0.2
            },
            "type": "scatter"
           }
          ],
          "scatter3d": [
           {
            "line": {
             "colorbar": {
              "outlinewidth": 0,
              "ticks": ""
             }
            },
            "marker": {
             "colorbar": {
              "outlinewidth": 0,
              "ticks": ""
             }
            },
            "type": "scatter3d"
           }
          ],
          "scattercarpet": [
           {
            "marker": {
             "colorbar": {
              "outlinewidth": 0,
              "ticks": ""
             }
            },
            "type": "scattercarpet"
           }
          ],
          "scattergeo": [
           {
            "marker": {
             "colorbar": {
              "outlinewidth": 0,
              "ticks": ""
             }
            },
            "type": "scattergeo"
           }
          ],
          "scattergl": [
           {
            "marker": {
             "colorbar": {
              "outlinewidth": 0,
              "ticks": ""
             }
            },
            "type": "scattergl"
           }
          ],
          "scattermap": [
           {
            "marker": {
             "colorbar": {
              "outlinewidth": 0,
              "ticks": ""
             }
            },
            "type": "scattermap"
           }
          ],
          "scattermapbox": [
           {
            "marker": {
             "colorbar": {
              "outlinewidth": 0,
              "ticks": ""
             }
            },
            "type": "scattermapbox"
           }
          ],
          "scatterpolar": [
           {
            "marker": {
             "colorbar": {
              "outlinewidth": 0,
              "ticks": ""
             }
            },
            "type": "scatterpolar"
           }
          ],
          "scatterpolargl": [
           {
            "marker": {
             "colorbar": {
              "outlinewidth": 0,
              "ticks": ""
             }
            },
            "type": "scatterpolargl"
           }
          ],
          "scatterternary": [
           {
            "marker": {
             "colorbar": {
              "outlinewidth": 0,
              "ticks": ""
             }
            },
            "type": "scatterternary"
           }
          ],
          "surface": [
           {
            "colorbar": {
             "outlinewidth": 0,
             "ticks": ""
            },
            "colorscale": [
             [
              0,
              "#0d0887"
             ],
             [
              0.1111111111111111,
              "#46039f"
             ],
             [
              0.2222222222222222,
              "#7201a8"
             ],
             [
              0.3333333333333333,
              "#9c179e"
             ],
             [
              0.4444444444444444,
              "#bd3786"
             ],
             [
              0.5555555555555556,
              "#d8576b"
             ],
             [
              0.6666666666666666,
              "#ed7953"
             ],
             [
              0.7777777777777778,
              "#fb9f3a"
             ],
             [
              0.8888888888888888,
              "#fdca26"
             ],
             [
              1,
              "#f0f921"
             ]
            ],
            "type": "surface"
           }
          ],
          "table": [
           {
            "cells": {
             "fill": {
              "color": "#EBF0F8"
             },
             "line": {
              "color": "white"
             }
            },
            "header": {
             "fill": {
              "color": "#C8D4E3"
             },
             "line": {
              "color": "white"
             }
            },
            "type": "table"
           }
          ]
         },
         "layout": {
          "annotationdefaults": {
           "arrowcolor": "#2a3f5f",
           "arrowhead": 0,
           "arrowwidth": 1
          },
          "autotypenumbers": "strict",
          "coloraxis": {
           "colorbar": {
            "outlinewidth": 0,
            "ticks": ""
           }
          },
          "colorscale": {
           "diverging": [
            [
             0,
             "#8e0152"
            ],
            [
             0.1,
             "#c51b7d"
            ],
            [
             0.2,
             "#de77ae"
            ],
            [
             0.3,
             "#f1b6da"
            ],
            [
             0.4,
             "#fde0ef"
            ],
            [
             0.5,
             "#f7f7f7"
            ],
            [
             0.6,
             "#e6f5d0"
            ],
            [
             0.7,
             "#b8e186"
            ],
            [
             0.8,
             "#7fbc41"
            ],
            [
             0.9,
             "#4d9221"
            ],
            [
             1,
             "#276419"
            ]
           ],
           "sequential": [
            [
             0,
             "#0d0887"
            ],
            [
             0.1111111111111111,
             "#46039f"
            ],
            [
             0.2222222222222222,
             "#7201a8"
            ],
            [
             0.3333333333333333,
             "#9c179e"
            ],
            [
             0.4444444444444444,
             "#bd3786"
            ],
            [
             0.5555555555555556,
             "#d8576b"
            ],
            [
             0.6666666666666666,
             "#ed7953"
            ],
            [
             0.7777777777777778,
             "#fb9f3a"
            ],
            [
             0.8888888888888888,
             "#fdca26"
            ],
            [
             1,
             "#f0f921"
            ]
           ],
           "sequentialminus": [
            [
             0,
             "#0d0887"
            ],
            [
             0.1111111111111111,
             "#46039f"
            ],
            [
             0.2222222222222222,
             "#7201a8"
            ],
            [
             0.3333333333333333,
             "#9c179e"
            ],
            [
             0.4444444444444444,
             "#bd3786"
            ],
            [
             0.5555555555555556,
             "#d8576b"
            ],
            [
             0.6666666666666666,
             "#ed7953"
            ],
            [
             0.7777777777777778,
             "#fb9f3a"
            ],
            [
             0.8888888888888888,
             "#fdca26"
            ],
            [
             1,
             "#f0f921"
            ]
           ]
          },
          "colorway": [
           "#636efa",
           "#EF553B",
           "#00cc96",
           "#ab63fa",
           "#FFA15A",
           "#19d3f3",
           "#FF6692",
           "#B6E880",
           "#FF97FF",
           "#FECB52"
          ],
          "font": {
           "color": "#2a3f5f"
          },
          "geo": {
           "bgcolor": "white",
           "lakecolor": "white",
           "landcolor": "#E5ECF6",
           "showlakes": true,
           "showland": true,
           "subunitcolor": "white"
          },
          "hoverlabel": {
           "align": "left"
          },
          "hovermode": "closest",
          "mapbox": {
           "style": "light"
          },
          "paper_bgcolor": "white",
          "plot_bgcolor": "#E5ECF6",
          "polar": {
           "angularaxis": {
            "gridcolor": "white",
            "linecolor": "white",
            "ticks": ""
           },
           "bgcolor": "#E5ECF6",
           "radialaxis": {
            "gridcolor": "white",
            "linecolor": "white",
            "ticks": ""
           }
          },
          "scene": {
           "xaxis": {
            "backgroundcolor": "#E5ECF6",
            "gridcolor": "white",
            "gridwidth": 2,
            "linecolor": "white",
            "showbackground": true,
            "ticks": "",
            "zerolinecolor": "white"
           },
           "yaxis": {
            "backgroundcolor": "#E5ECF6",
            "gridcolor": "white",
            "gridwidth": 2,
            "linecolor": "white",
            "showbackground": true,
            "ticks": "",
            "zerolinecolor": "white"
           },
           "zaxis": {
            "backgroundcolor": "#E5ECF6",
            "gridcolor": "white",
            "gridwidth": 2,
            "linecolor": "white",
            "showbackground": true,
            "ticks": "",
            "zerolinecolor": "white"
           }
          },
          "shapedefaults": {
           "line": {
            "color": "#2a3f5f"
           }
          },
          "ternary": {
           "aaxis": {
            "gridcolor": "white",
            "linecolor": "white",
            "ticks": ""
           },
           "baxis": {
            "gridcolor": "white",
            "linecolor": "white",
            "ticks": ""
           },
           "bgcolor": "#E5ECF6",
           "caxis": {
            "gridcolor": "white",
            "linecolor": "white",
            "ticks": ""
           }
          },
          "title": {
           "x": 0.05
          },
          "xaxis": {
           "automargin": true,
           "gridcolor": "white",
           "linecolor": "white",
           "ticks": "",
           "title": {
            "standoff": 15
           },
           "zerolinecolor": "white",
           "zerolinewidth": 2
          },
          "yaxis": {
           "automargin": true,
           "gridcolor": "white",
           "linecolor": "white",
           "ticks": "",
           "title": {
            "standoff": 15
           },
           "zerolinecolor": "white",
           "zerolinewidth": 2
          }
         }
        },
        "title": {
         "text": "TOP 20",
         "x": 0.5
        },
        "width": 600,
        "xaxis": {
         "anchor": "y",
         "domain": [
          0,
          0.94
         ]
        },
        "yaxis": {
         "anchor": "x",
         "domain": [
          0,
          1
         ],
         "side": "right"
        },
        "yaxis2": {
         "anchor": "x",
         "overlaying": "y",
         "side": "right"
        }
       }
      }
     },
     "metadata": {},
     "output_type": "display_data"
    },
    {
     "data": {
      "application/vnd.plotly.v1+json": {
       "config": {
        "plotlyServerURL": "https://plot.ly"
       },
       "data": [
        {
         "name": "BWA: 22.45 %",
         "type": "scatter",
         "x": [
          "2024-07-17",
          "2024-07-18",
          "2024-07-19",
          "2024-07-22",
          "2024-07-23",
          "2024-07-24",
          "2024-07-25",
          "2024-07-26",
          "2024-07-29",
          "2024-07-30",
          "2024-07-31",
          "2024-08-01",
          "2024-08-02",
          "2024-08-05",
          "2024-08-06",
          "2024-08-07",
          "2024-08-08",
          "2024-08-09",
          "2024-08-12",
          "2024-08-13",
          "2024-08-14",
          "2024-08-15",
          "2024-08-16",
          "2024-08-19",
          "2024-08-20",
          "2024-08-21",
          "2024-08-22",
          "2024-08-23",
          "2024-08-26",
          "2024-08-27",
          "2024-08-28",
          "2024-08-29",
          "2024-08-30",
          "2024-09-03",
          "2024-09-04",
          "2024-09-05",
          "2024-09-06",
          "2024-09-09",
          "2024-09-10",
          "2024-09-11",
          "2024-09-12",
          "2024-09-13",
          "2024-09-16",
          "2024-09-17",
          "2024-09-18",
          "2024-09-19",
          "2024-09-20",
          "2024-09-23",
          "2024-09-24",
          "2024-09-25",
          "2024-09-26",
          "2024-09-27",
          "2024-09-30",
          "2024-10-01",
          "2024-10-02",
          "2024-10-03",
          "2024-10-04",
          "2024-10-07",
          "2024-10-08",
          "2024-10-09",
          "2024-10-10",
          "2024-10-11",
          "2024-10-14",
          "2024-10-15",
          "2024-10-16",
          "2024-10-17",
          "2024-10-18",
          "2024-10-21",
          "2024-10-22",
          "2024-10-23",
          "2024-10-24",
          "2024-10-25",
          "2024-10-28",
          "2024-10-29",
          "2024-10-30",
          "2024-10-31",
          "2024-11-01",
          "2024-11-04",
          "2024-11-05",
          "2024-11-06",
          "2024-11-07",
          "2024-11-08",
          "2024-11-11",
          "2024-11-12",
          "2024-11-13",
          "2024-11-14",
          "2024-11-15",
          "2024-11-18",
          "2024-11-19",
          "2024-11-20",
          "2024-11-21",
          "2024-11-22",
          "2024-11-25",
          "2024-11-26",
          "2024-11-27",
          "2024-11-29",
          "2024-12-02",
          "2024-12-03",
          "2024-12-04",
          "2024-12-05",
          "2024-12-06",
          "2024-12-09",
          "2024-12-10",
          "2024-12-11",
          "2024-12-12",
          "2024-12-13",
          "2024-12-16",
          "2024-12-17",
          "2024-12-18",
          "2024-12-19",
          "2024-12-20",
          "2024-12-23",
          "2024-12-24",
          "2024-12-26",
          "2024-12-27",
          "2024-12-30",
          "2024-12-31",
          "2025-01-02",
          "2025-01-03",
          "2025-01-06",
          "2025-01-07",
          "2025-01-08",
          "2025-01-10",
          "2025-01-13",
          "2025-01-14",
          "2025-01-15",
          "2025-01-16",
          "2025-01-17",
          "2025-01-21",
          "2025-01-22",
          "2025-01-23",
          "2025-01-24",
          "2025-01-27",
          "2025-01-28",
          "2025-01-29",
          "2025-01-30",
          "2025-01-31",
          "2025-02-03",
          "2025-02-04",
          "2025-02-05",
          "2025-02-06",
          "2025-02-07",
          "2025-02-10",
          "2025-02-11",
          "2025-02-12",
          "2025-02-13",
          "2025-02-14",
          "2025-02-18",
          "2025-02-19",
          "2025-02-20",
          "2025-02-21",
          "2025-02-24",
          "2025-02-25",
          "2025-02-26",
          "2025-02-27",
          "2025-02-28",
          "2025-03-03",
          "2025-03-04",
          "2025-03-05",
          "2025-03-06",
          "2025-03-07",
          "2025-03-10",
          "2025-03-11",
          "2025-03-12",
          "2025-03-13",
          "2025-03-14",
          "2025-03-17",
          "2025-03-18",
          "2025-03-19",
          "2025-03-20",
          "2025-03-21",
          "2025-03-24",
          "2025-03-25",
          "2025-03-26",
          "2025-03-27",
          "2025-03-28",
          "2025-03-31",
          "2025-04-01",
          "2025-04-02",
          "2025-04-03",
          "2025-04-04",
          "2025-04-07",
          "2025-04-08",
          "2025-04-09",
          "2025-04-10",
          "2025-04-11",
          "2025-04-14",
          "2025-04-15",
          "2025-04-16",
          "2025-04-17",
          "2025-04-21",
          "2025-04-22",
          "2025-04-23",
          "2025-04-24",
          "2025-04-25",
          "2025-04-28",
          "2025-04-29",
          "2025-04-30",
          "2025-05-01",
          "2025-05-02",
          "2025-05-05",
          "2025-05-06",
          "2025-05-07",
          "2025-05-08",
          "2025-05-09",
          "2025-05-12",
          "2025-05-13",
          "2025-05-14",
          "2025-05-15",
          "2025-05-16",
          "2025-05-19",
          "2025-05-20",
          "2025-05-21",
          "2025-05-22",
          "2025-05-23",
          "2025-05-27",
          "2025-05-28",
          "2025-05-29",
          "2025-05-30",
          "2025-06-02",
          "2025-06-03",
          "2025-06-04",
          "2025-06-05",
          "2025-06-06",
          "2025-06-09",
          "2025-06-10",
          "2025-06-11",
          "2025-06-12",
          "2025-06-13",
          "2025-06-16",
          "2025-06-17",
          "2025-06-18",
          "2025-06-20",
          "2025-06-23",
          "2025-06-24",
          "2025-06-25",
          "2025-06-26",
          "2025-06-27",
          "2025-06-30",
          "2025-07-01",
          "2025-07-02",
          "2025-07-03",
          "2025-07-07",
          "2025-07-08",
          "2025-07-09",
          "2025-07-10",
          "2025-07-11",
          "2025-07-14",
          "2025-07-15",
          "2025-07-16",
          "2025-07-17",
          "2025-07-18",
          "2025-07-21",
          "2025-07-22",
          "2025-07-23",
          "2025-07-24",
          "2025-07-25",
          "2025-07-28",
          "2025-07-29",
          "2025-07-30",
          "2025-07-31",
          "2025-08-01",
          "2025-08-04",
          "2025-08-05",
          "2025-08-06",
          "2025-08-07",
          "2025-08-08",
          "2025-08-11",
          "2025-08-12",
          "2025-08-13",
          "2025-08-14",
          "2025-08-15",
          "2025-08-18",
          "2025-08-19",
          "2025-08-20",
          "2025-08-21",
          "2025-08-22",
          "2025-08-25",
          "2025-08-26",
          "2025-08-27",
          "2025-08-28",
          "2025-08-29",
          "2025-09-02",
          "2025-09-03",
          "2025-09-04",
          "2025-09-05",
          "2025-09-08",
          "2025-09-09",
          "2025-09-10"
         ],
         "xaxis": "x",
         "y": {
          "bdata": "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",
          "dtype": "f8"
         },
         "yaxis": "y"
        },
        {
         "name": "SMA 50",
         "type": "scatter",
         "x": [
          "2024-07-17",
          "2024-07-18",
          "2024-07-19",
          "2024-07-22",
          "2024-07-23",
          "2024-07-24",
          "2024-07-25",
          "2024-07-26",
          "2024-07-29",
          "2024-07-30",
          "2024-07-31",
          "2024-08-01",
          "2024-08-02",
          "2024-08-05",
          "2024-08-06",
          "2024-08-07",
          "2024-08-08",
          "2024-08-09",
          "2024-08-12",
          "2024-08-13",
          "2024-08-14",
          "2024-08-15",
          "2024-08-16",
          "2024-08-19",
          "2024-08-20",
          "2024-08-21",
          "2024-08-22",
          "2024-08-23",
          "2024-08-26",
          "2024-08-27",
          "2024-08-28",
          "2024-08-29",
          "2024-08-30",
          "2024-09-03",
          "2024-09-04",
          "2024-09-05",
          "2024-09-06",
          "2024-09-09",
          "2024-09-10",
          "2024-09-11",
          "2024-09-12",
          "2024-09-13",
          "2024-09-16",
          "2024-09-17",
          "2024-09-18",
          "2024-09-19",
          "2024-09-20",
          "2024-09-23",
          "2024-09-24",
          "2024-09-25",
          "2024-09-26",
          "2024-09-27",
          "2024-09-30",
          "2024-10-01",
          "2024-10-02",
          "2024-10-03",
          "2024-10-04",
          "2024-10-07",
          "2024-10-08",
          "2024-10-09",
          "2024-10-10",
          "2024-10-11",
          "2024-10-14",
          "2024-10-15",
          "2024-10-16",
          "2024-10-17",
          "2024-10-18",
          "2024-10-21",
          "2024-10-22",
          "2024-10-23",
          "2024-10-24",
          "2024-10-25",
          "2024-10-28",
          "2024-10-29",
          "2024-10-30",
          "2024-10-31",
          "2024-11-01",
          "2024-11-04",
          "2024-11-05",
          "2024-11-06",
          "2024-11-07",
          "2024-11-08",
          "2024-11-11",
          "2024-11-12",
          "2024-11-13",
          "2024-11-14",
          "2024-11-15",
          "2024-11-18",
          "2024-11-19",
          "2024-11-20",
          "2024-11-21",
          "2024-11-22",
          "2024-11-25",
          "2024-11-26",
          "2024-11-27",
          "2024-11-29",
          "2024-12-02",
          "2024-12-03",
          "2024-12-04",
          "2024-12-05",
          "2024-12-06",
          "2024-12-09",
          "2024-12-10",
          "2024-12-11",
          "2024-12-12",
          "2024-12-13",
          "2024-12-16",
          "2024-12-17",
          "2024-12-18",
          "2024-12-19",
          "2024-12-20",
          "2024-12-23",
          "2024-12-24",
          "2024-12-26",
          "2024-12-27",
          "2024-12-30",
          "2024-12-31",
          "2025-01-02",
          "2025-01-03",
          "2025-01-06",
          "2025-01-07",
          "2025-01-08",
          "2025-01-10",
          "2025-01-13",
          "2025-01-14",
          "2025-01-15",
          "2025-01-16",
          "2025-01-17",
          "2025-01-21",
          "2025-01-22",
          "2025-01-23",
          "2025-01-24",
          "2025-01-27",
          "2025-01-28",
          "2025-01-29",
          "2025-01-30",
          "2025-01-31",
          "2025-02-03",
          "2025-02-04",
          "2025-02-05",
          "2025-02-06",
          "2025-02-07",
          "2025-02-10",
          "2025-02-11",
          "2025-02-12",
          "2025-02-13",
          "2025-02-14",
          "2025-02-18",
          "2025-02-19",
          "2025-02-20",
          "2025-02-21",
          "2025-02-24",
          "2025-02-25",
          "2025-02-26",
          "2025-02-27",
          "2025-02-28",
          "2025-03-03",
          "2025-03-04",
          "2025-03-05",
          "2025-03-06",
          "2025-03-07",
          "2025-03-10",
          "2025-03-11",
          "2025-03-12",
          "2025-03-13",
          "2025-03-14",
          "2025-03-17",
          "2025-03-18",
          "2025-03-19",
          "2025-03-20",
          "2025-03-21",
          "2025-03-24",
          "2025-03-25",
          "2025-03-26",
          "2025-03-27",
          "2025-03-28",
          "2025-03-31",
          "2025-04-01",
          "2025-04-02",
          "2025-04-03",
          "2025-04-04",
          "2025-04-07",
          "2025-04-08",
          "2025-04-09",
          "2025-04-10",
          "2025-04-11",
          "2025-04-14",
          "2025-04-15",
          "2025-04-16",
          "2025-04-17",
          "2025-04-21",
          "2025-04-22",
          "2025-04-23",
          "2025-04-24",
          "2025-04-25",
          "2025-04-28",
          "2025-04-29",
          "2025-04-30",
          "2025-05-01",
          "2025-05-02",
          "2025-05-05",
          "2025-05-06",
          "2025-05-07",
          "2025-05-08",
          "2025-05-09",
          "2025-05-12",
          "2025-05-13",
          "2025-05-14",
          "2025-05-15",
          "2025-05-16",
          "2025-05-19",
          "2025-05-20",
          "2025-05-21",
          "2025-05-22",
          "2025-05-23",
          "2025-05-27",
          "2025-05-28",
          "2025-05-29",
          "2025-05-30",
          "2025-06-02",
          "2025-06-03",
          "2025-06-04",
          "2025-06-05",
          "2025-06-06",
          "2025-06-09",
          "2025-06-10",
          "2025-06-11",
          "2025-06-12",
          "2025-06-13",
          "2025-06-16",
          "2025-06-17",
          "2025-06-18",
          "2025-06-20",
          "2025-06-23",
          "2025-06-24",
          "2025-06-25",
          "2025-06-26",
          "2025-06-27",
          "2025-06-30",
          "2025-07-01",
          "2025-07-02",
          "2025-07-03",
          "2025-07-07",
          "2025-07-08",
          "2025-07-09",
          "2025-07-10",
          "2025-07-11",
          "2025-07-14",
          "2025-07-15",
          "2025-07-16",
          "2025-07-17",
          "2025-07-18",
          "2025-07-21",
          "2025-07-22",
          "2025-07-23",
          "2025-07-24",
          "2025-07-25",
          "2025-07-28",
          "2025-07-29",
          "2025-07-30",
          "2025-07-31",
          "2025-08-01",
          "2025-08-04",
          "2025-08-05",
          "2025-08-06",
          "2025-08-07",
          "2025-08-08",
          "2025-08-11",
          "2025-08-12",
          "2025-08-13",
          "2025-08-14",
          "2025-08-15",
          "2025-08-18",
          "2025-08-19",
          "2025-08-20",
          "2025-08-21",
          "2025-08-22",
          "2025-08-25",
          "2025-08-26",
          "2025-08-27",
          "2025-08-28",
          "2025-08-29",
          "2025-09-02",
          "2025-09-03",
          "2025-09-04",
          "2025-09-05",
          "2025-09-08",
          "2025-09-09",
          "2025-09-10"
         ],
         "xaxis": "x",
         "y": {
          "bdata": "AAAAAAAA+H8AAAAAAAD4fwAAAAAAAPh/AAAAAAAA+H8AAAAAAAD4fwAAAAAAAPh/AAAAAAAA+H8AAAAAAAD4fwAAAAAAAPh/AAAAAAAA+H8AAAAAAAD4fwAAAAAAAPh/AAAAAAAA+H8AAAAAAAD4fwAAAAAAAPh/AAAAAAAA+H8AAAAAAAD4fwAAAAAAAPh/AAAAAAAA+H8AAAAAAAD4fwAAAAAAAPh/AAAAAAAA+H8AAAAAAAD4fwAAAAAAAPh/AAAAAAAA+H8AAAAAAAD4fwAAAAAAAPh/AAAAAAAA+H8AAAAAAAD4fwAAAAAAAPh/AAAAAAAA+H8AAAAAAAD4fwAAAAAAAPh/AAAAAAAA+H8AAAAAAAD4fwAAAAAAAPh/AAAAAAAA+H8AAAAAAAD4fwAAAAAAAPh/AAAAAAAA+H8AAAAAAAD4fwAAAAAAAPh/AAAAAAAA+H8AAAAAAAD4fwAAAAAAAPh/AAAAAAAA+H8AAAAAAAD4fwAAAAAAAPh/AAAAAAAA+H+SXP5D+n1AQP7UeOkmgUBALSEf9GyGQEACvAUSFI9AQNbFbTSAl0BAONbFbTSgQEAqGJXUCahAQKhXyjLEsUBAgEi/fR24QECTOgFNhL1AQFMnoImwwUBAyeU/pN++QECTy39Iv71AQBgmUwWjwkBAzojS3uDLQEDdk4eFWtNAQH0/NV662UBAFvvL7snjQEBBguLHmOtAQFK4HoXr8UBAm1Wfq634QEACK4cW2f5AQIqO5PIfAkFAE2HD0ysFQUCAt0CC4gdBQApGJXUCCkFAHcnlP6QPQUDhnBGlvRFBQPtcbcX+EkFAOPjCZKoQQUCGONbFbRRBQLivA+eMGEFAmEwVjEoaQUDtnjws1BpBQK8l5IOeHUFAFmpN844jQUC6awn5oCdBQHrHKTqSK0FAxSCwcmgxQUCh1jTvODVBQAwCK4cWOUFAPldbsb88QUCsPldbsT9BQNuK/WX3REFAfPKwUGtKQUDMEMe6uE1BQDojSnuDT0FArYvbaABPQUBvXwfOGVFBQK36XG3FTkFAHOviNhpQQUDKMsSxLk5BQA3gLZCgSEFAoUW28/1EQUDG/rJ78kBBQJEPejarPkFArWnecYo+QUCamZmZmTlBQE3zjlN0NEFAqoJRSZ0wQUDsL7snDytBQOGcEaW9IUFAYVRSJ6AZQUCoV8oyxBFBQAwkKH6MCUFAxY8xdy0BQUB+HThnRPlAQB+F61G47kBAvAUSFD/mQEB0JJf/kN5AQAtGJXUC2kBAMCqpE9DUQEBVMCqpE9BAQGDl0CLbyUBAGlHaG3zBQEAGgZVDi7xAQJ8aL90ktkBAp+hILv+xQEB1ApoIG65AQHgLJCh+rEBAhHzQs1mlQEA9eVioNZ1AQBB6Nqs+l0BAFmpN846TQEDmriXkg45AQIGVQ4tsh0BAih9j7lqCQEDLoUW2831AQPrt68A5c0BA6gQ0ETZsQEAOLbKd72dAQDGZKhiVZEBABoGVQ4tcQEAZc9cS8lFAQDJ3LSEfREBAnV4pyxA3QEBhVFInoClAQJFc/kP6HUBAo5I6AU0UQEDT3uALkwlAQGQ730+N9z9AF7fRAN7iP0DOiNLe4Ms/QPjCZKpgtD9ABTQRNjydP0DAWyBB8YM/QNOa5h2naD9An6ut2F9WP0Ct2F92Tz4/QNuK/WX3JD9AvTCZKhgVP0BhVFInoAk/QMgpOpLL/z5AhVrTvOP0PkASpb3BF+Y+QGwr9pfd0z5AU+Olm8TAPkAawFsgQbE+QOGcEaW9oT5Ag8DKoUWWPkAUP8bctYQ+QP/UeOkmcT5A/WX35GFhPkDUCWgibFg+QBvAWyBBUT5Anzws1JpGPkCmeccpOjI+QM/3U+OlGz5AYFRSJ6AJPkCI9NvXgfM9QDxwzojS3j1AbxKDwMrBPUAj2/l+apw9QH3Qs1n1eT1AqDXNO05RPUBuowG8BTI9QD2bVZ+rDT1A5T+k377uPEBGlPYGX9g8QKpgVFInwDxAvcEXJlOlPEB9HThnRIk8QBMUP8bcdTxAKTqSy39oPEByio7k8l88QCZ1ApoIWzxA2IFzRpRWPEA830+Nl048QE+vlGWIQzxAsVBrmnc8PEDTTWIQWDk8QPwYc9cSMjxAVg4tsp0vPECOBvAWSDA8QMAOnDOiNDxAI9v5fmo8PEB4CyQofkw8QO2ePCzUWjxAbAn5oGdzPECcxCCwcog8QCTb+X5qnDxA46WbxCCwPEDhWBe30cA8QDeJQWDl0DxApgpGJXXiPEDXgXNGlPY8QFYwKqkTED1Af/s6cM4oPUDGSzeJQUA9QIV80LNZVT1A7Q2+MJlqPUADeAskKH49QBgmUwWjkj1Aj1N0JJefPUABTYQNT689QK+UZYhjvT1AT0ATYcPTPUDb14FzRvQ9QM6qz9VWDD5Aarx0kxgkPkCutmJ/2T0+QKYKRiV1Yj5ACtejcD2KPkAf9GxWfa4+QPZKWYY41j5A18VtNID3PkCPMXctIR8/QP1l9+RhQT9Am8QgsHJoP0CU9gZfmIw/QIqw4emVsj9AdCSX/5DeP0DYX3ZPHgZAQGMQWDm0GEBAJCh+jLkrQECRD3o2qz5AQHBfB84ZUUBAFK5H4XpkQEAPejarPndAQGHl0CLbiUBAKH6MuWuZQEAMAiuHFqlAQLdif9k9uUBAg+LHmLvGQECL/WX35NFAQOlILv8h3UBAhA1Pr5TlQEA9vVKWIe5AQL7BFyZT9UBAA3gLJCj+QEBOQBNhwwNBQJZDi2znC0FAak3zjlMUQUCOdXEbDSBBQHNGlPYGL0FABFYOLbI9QUAmUwWjkkpBQPRsVn2uVkFA+g/pt69jQUDfvg6cM3JBQGkAb4EEhUFA0ETY8PSaQUDh6ZWyDLFBQAwCK4cWyUFAb18HzhnhQUDxhclUwfhBQOSDns2qD0JAv30dOGckQkAENBE2PD1CQA+cM6K0V0JAjSjtDb5wQkBBYOXQIotCQIR80LNZpUJAI0p7gy+8QkDV52or9tdCQFOWIY518UJAeekmMQgMQ0As1JrmHSdDQPw6cM6IQkNA7FG4HoVbQ0A=",
          "dtype": "f8"
         },
         "yaxis": "y"
        }
       ],
       "layout": {
        "annotations": [
         {
          "font": {
           "size": 8
          },
          "showarrow": false,
          "text": "Date: 2025-09-10, Open:43.17, High:43.35, Low:42.77, Close: 43.14",
          "x": 0.01,
          "xref": "x domain",
          "y": 1,
          "yref": "y domain"
         }
        ],
        "height": 400,
        "legend": {
         "font": {
          "size": 8
         },
         "title": {
          "font": {
           "family": "Arial"
          }
         }
        },
        "template": {
         "data": {
          "bar": [
           {
            "error_x": {
             "color": "#2a3f5f"
            },
            "error_y": {
             "color": "#2a3f5f"
            },
            "marker": {
             "line": {
              "color": "#E5ECF6",
              "width": 0.5
             },
             "pattern": {
              "fillmode": "overlay",
              "size": 10,
              "solidity": 0.2
             }
            },
            "type": "bar"
           }
          ],
          "barpolar": [
           {
            "marker": {
             "line": {
              "color": "#E5ECF6",
              "width": 0.5
             },
             "pattern": {
              "fillmode": "overlay",
              "size": 10,
              "solidity": 0.2
             }
            },
            "type": "barpolar"
           }
          ],
          "carpet": [
           {
            "aaxis": {
             "endlinecolor": "#2a3f5f",
             "gridcolor": "white",
             "linecolor": "white",
             "minorgridcolor": "white",
             "startlinecolor": "#2a3f5f"
            },
            "baxis": {
             "endlinecolor": "#2a3f5f",
             "gridcolor": "white",
             "linecolor": "white",
             "minorgridcolor": "white",
             "startlinecolor": "#2a3f5f"
            },
            "type": "carpet"
           }
          ],
          "choropleth": [
           {
            "colorbar": {
             "outlinewidth": 0,
             "ticks": ""
            },
            "type": "choropleth"
           }
          ],
          "contour": [
           {
            "colorbar": {
             "outlinewidth": 0,
             "ticks": ""
            },
            "colorscale": [
             [
              0,
              "#0d0887"
             ],
             [
              0.1111111111111111,
              "#46039f"
             ],
             [
              0.2222222222222222,
              "#7201a8"
             ],
             [
              0.3333333333333333,
              "#9c179e"
             ],
             [
              0.4444444444444444,
              "#bd3786"
             ],
             [
              0.5555555555555556,
              "#d8576b"
             ],
             [
              0.6666666666666666,
              "#ed7953"
             ],
             [
              0.7777777777777778,
              "#fb9f3a"
             ],
             [
              0.8888888888888888,
              "#fdca26"
             ],
             [
              1,
              "#f0f921"
             ]
            ],
            "type": "contour"
           }
          ],
          "contourcarpet": [
           {
            "colorbar": {
             "outlinewidth": 0,
             "ticks": ""
            },
            "type": "contourcarpet"
           }
          ],
          "heatmap": [
           {
            "colorbar": {
             "outlinewidth": 0,
             "ticks": ""
            },
            "colorscale": [
             [
              0,
              "#0d0887"
             ],
             [
              0.1111111111111111,
              "#46039f"
             ],
             [
              0.2222222222222222,
              "#7201a8"
             ],
             [
              0.3333333333333333,
              "#9c179e"
             ],
             [
              0.4444444444444444,
              "#bd3786"
             ],
             [
              0.5555555555555556,
              "#d8576b"
             ],
             [
              0.6666666666666666,
              "#ed7953"
             ],
             [
              0.7777777777777778,
              "#fb9f3a"
             ],
             [
              0.8888888888888888,
              "#fdca26"
             ],
             [
              1,
              "#f0f921"
             ]
            ],
            "type": "heatmap"
           }
          ],
          "histogram": [
           {
            "marker": {
             "pattern": {
              "fillmode": "overlay",
              "size": 10,
              "solidity": 0.2
             }
            },
            "type": "histogram"
           }
          ],
          "histogram2d": [
           {
            "colorbar": {
             "outlinewidth": 0,
             "ticks": ""
            },
            "colorscale": [
             [
              0,
              "#0d0887"
             ],
             [
              0.1111111111111111,
              "#46039f"
             ],
             [
              0.2222222222222222,
              "#7201a8"
             ],
             [
              0.3333333333333333,
              "#9c179e"
             ],
             [
              0.4444444444444444,
              "#bd3786"
             ],
             [
              0.5555555555555556,
              "#d8576b"
             ],
             [
              0.6666666666666666,
              "#ed7953"
             ],
             [
              0.7777777777777778,
              "#fb9f3a"
             ],
             [
              0.8888888888888888,
              "#fdca26"
             ],
             [
              1,
              "#f0f921"
             ]
            ],
            "type": "histogram2d"
           }
          ],
          "histogram2dcontour": [
           {
            "colorbar": {
             "outlinewidth": 0,
             "ticks": ""
            },
            "colorscale": [
             [
              0,
              "#0d0887"
             ],
             [
              0.1111111111111111,
              "#46039f"
             ],
             [
              0.2222222222222222,
              "#7201a8"
             ],
             [
              0.3333333333333333,
              "#9c179e"
             ],
             [
              0.4444444444444444,
              "#bd3786"
             ],
             [
              0.5555555555555556,
              "#d8576b"
             ],
             [
              0.6666666666666666,
              "#ed7953"
             ],
             [
              0.7777777777777778,
              "#fb9f3a"
             ],
             [
              0.8888888888888888,
              "#fdca26"
             ],
             [
              1,
              "#f0f921"
             ]
            ],
            "type": "histogram2dcontour"
           }
          ],
          "mesh3d": [
           {
            "colorbar": {
             "outlinewidth": 0,
             "ticks": ""
            },
            "type": "mesh3d"
           }
          ],
          "parcoords": [
           {
            "line": {
             "colorbar": {
              "outlinewidth": 0,
              "ticks": ""
             }
            },
            "type": "parcoords"
           }
          ],
          "pie": [
           {
            "automargin": true,
            "type": "pie"
           }
          ],
          "scatter": [
           {
            "fillpattern": {
             "fillmode": "overlay",
             "size": 10,
             "solidity": 0.2
            },
            "type": "scatter"
           }
          ],
          "scatter3d": [
           {
            "line": {
             "colorbar": {
              "outlinewidth": 0,
              "ticks": ""
             }
            },
            "marker": {
             "colorbar": {
              "outlinewidth": 0,
              "ticks": ""
             }
            },
            "type": "scatter3d"
           }
          ],
          "scattercarpet": [
           {
            "marker": {
             "colorbar": {
              "outlinewidth": 0,
              "ticks": ""
             }
            },
            "type": "scattercarpet"
           }
          ],
          "scattergeo": [
           {
            "marker": {
             "colorbar": {
              "outlinewidth": 0,
              "ticks": ""
             }
            },
            "type": "scattergeo"
           }
          ],
          "scattergl": [
           {
            "marker": {
             "colorbar": {
              "outlinewidth": 0,
              "ticks": ""
             }
            },
            "type": "scattergl"
           }
          ],
          "scattermap": [
           {
            "marker": {
             "colorbar": {
              "outlinewidth": 0,
              "ticks": ""
             }
            },
            "type": "scattermap"
           }
          ],
          "scattermapbox": [
           {
            "marker": {
             "colorbar": {
              "outlinewidth": 0,
              "ticks": ""
             }
            },
            "type": "scattermapbox"
           }
          ],
          "scatterpolar": [
           {
            "marker": {
             "colorbar": {
              "outlinewidth": 0,
              "ticks": ""
             }
            },
            "type": "scatterpolar"
           }
          ],
          "scatterpolargl": [
           {
            "marker": {
             "colorbar": {
              "outlinewidth": 0,
              "ticks": ""
             }
            },
            "type": "scatterpolargl"
           }
          ],
          "scatterternary": [
           {
            "marker": {
             "colorbar": {
              "outlinewidth": 0,
              "ticks": ""
             }
            },
            "type": "scatterternary"
           }
          ],
          "surface": [
           {
            "colorbar": {
             "outlinewidth": 0,
             "ticks": ""
            },
            "colorscale": [
             [
              0,
              "#0d0887"
             ],
             [
              0.1111111111111111,
              "#46039f"
             ],
             [
              0.2222222222222222,
              "#7201a8"
             ],
             [
              0.3333333333333333,
              "#9c179e"
             ],
             [
              0.4444444444444444,
              "#bd3786"
             ],
             [
              0.5555555555555556,
              "#d8576b"
             ],
             [
              0.6666666666666666,
              "#ed7953"
             ],
             [
              0.7777777777777778,
              "#fb9f3a"
             ],
             [
              0.8888888888888888,
              "#fdca26"
             ],
             [
              1,
              "#f0f921"
             ]
            ],
            "type": "surface"
           }
          ],
          "table": [
           {
            "cells": {
             "fill": {
              "color": "#EBF0F8"
             },
             "line": {
              "color": "white"
             }
            },
            "header": {
             "fill": {
              "color": "#C8D4E3"
             },
             "line": {
              "color": "white"
             }
            },
            "type": "table"
           }
          ]
         },
         "layout": {
          "annotationdefaults": {
           "arrowcolor": "#2a3f5f",
           "arrowhead": 0,
           "arrowwidth": 1
          },
          "autotypenumbers": "strict",
          "coloraxis": {
           "colorbar": {
            "outlinewidth": 0,
            "ticks": ""
           }
          },
          "colorscale": {
           "diverging": [
            [
             0,
             "#8e0152"
            ],
            [
             0.1,
             "#c51b7d"
            ],
            [
             0.2,
             "#de77ae"
            ],
            [
             0.3,
             "#f1b6da"
            ],
            [
             0.4,
             "#fde0ef"
            ],
            [
             0.5,
             "#f7f7f7"
            ],
            [
             0.6,
             "#e6f5d0"
            ],
            [
             0.7,
             "#b8e186"
            ],
            [
             0.8,
             "#7fbc41"
            ],
            [
             0.9,
             "#4d9221"
            ],
            [
             1,
             "#276419"
            ]
           ],
           "sequential": [
            [
             0,
             "#0d0887"
            ],
            [
             0.1111111111111111,
             "#46039f"
            ],
            [
             0.2222222222222222,
             "#7201a8"
            ],
            [
             0.3333333333333333,
             "#9c179e"
            ],
            [
             0.4444444444444444,
             "#bd3786"
            ],
            [
             0.5555555555555556,
             "#d8576b"
            ],
            [
             0.6666666666666666,
             "#ed7953"
            ],
            [
             0.7777777777777778,
             "#fb9f3a"
            ],
            [
             0.8888888888888888,
             "#fdca26"
            ],
            [
             1,
             "#f0f921"
            ]
           ],
           "sequentialminus": [
            [
             0,
             "#0d0887"
            ],
            [
             0.1111111111111111,
             "#46039f"
            ],
            [
             0.2222222222222222,
             "#7201a8"
            ],
            [
             0.3333333333333333,
             "#9c179e"
            ],
            [
             0.4444444444444444,
             "#bd3786"
            ],
            [
             0.5555555555555556,
             "#d8576b"
            ],
            [
             0.6666666666666666,
             "#ed7953"
            ],
            [
             0.7777777777777778,
             "#fb9f3a"
            ],
            [
             0.8888888888888888,
             "#fdca26"
            ],
            [
             1,
             "#f0f921"
            ]
           ]
          },
          "colorway": [
           "#636efa",
           "#EF553B",
           "#00cc96",
           "#ab63fa",
           "#FFA15A",
           "#19d3f3",
           "#FF6692",
           "#B6E880",
           "#FF97FF",
           "#FECB52"
          ],
          "font": {
           "color": "#2a3f5f"
          },
          "geo": {
           "bgcolor": "white",
           "lakecolor": "white",
           "landcolor": "#E5ECF6",
           "showlakes": true,
           "showland": true,
           "subunitcolor": "white"
          },
          "hoverlabel": {
           "align": "left"
          },
          "hovermode": "closest",
          "mapbox": {
           "style": "light"
          },
          "paper_bgcolor": "white",
          "plot_bgcolor": "#E5ECF6",
          "polar": {
           "angularaxis": {
            "gridcolor": "white",
            "linecolor": "white",
            "ticks": ""
           },
           "bgcolor": "#E5ECF6",
           "radialaxis": {
            "gridcolor": "white",
            "linecolor": "white",
            "ticks": ""
           }
          },
          "scene": {
           "xaxis": {
            "backgroundcolor": "#E5ECF6",
            "gridcolor": "white",
            "gridwidth": 2,
            "linecolor": "white",
            "showbackground": true,
            "ticks": "",
            "zerolinecolor": "white"
           },
           "yaxis": {
            "backgroundcolor": "#E5ECF6",
            "gridcolor": "white",
            "gridwidth": 2,
            "linecolor": "white",
            "showbackground": true,
            "ticks": "",
            "zerolinecolor": "white"
           },
           "zaxis": {
            "backgroundcolor": "#E5ECF6",
            "gridcolor": "white",
            "gridwidth": 2,
            "linecolor": "white",
            "showbackground": true,
            "ticks": "",
            "zerolinecolor": "white"
           }
          },
          "shapedefaults": {
           "line": {
            "color": "#2a3f5f"
           }
          },
          "ternary": {
           "aaxis": {
            "gridcolor": "white",
            "linecolor": "white",
            "ticks": ""
           },
           "baxis": {
            "gridcolor": "white",
            "linecolor": "white",
            "ticks": ""
           },
           "bgcolor": "#E5ECF6",
           "caxis": {
            "gridcolor": "white",
            "linecolor": "white",
            "ticks": ""
           }
          },
          "title": {
           "x": 0.05
          },
          "xaxis": {
           "automargin": true,
           "gridcolor": "white",
           "linecolor": "white",
           "ticks": "",
           "title": {
            "standoff": 15
           },
           "zerolinecolor": "white",
           "zerolinewidth": 2
          },
          "yaxis": {
           "automargin": true,
           "gridcolor": "white",
           "linecolor": "white",
           "ticks": "",
           "title": {
            "standoff": 15
           },
           "zerolinecolor": "white",
           "zerolinewidth": 2
          }
         }
        },
        "title": {
         "text": "TOP 20",
         "x": 0.5
        },
        "width": 600,
        "xaxis": {
         "anchor": "y",
         "domain": [
          0,
          0.94
         ]
        },
        "yaxis": {
         "anchor": "x",
         "domain": [
          0,
          1
         ],
         "side": "right"
        },
        "yaxis2": {
         "anchor": "x",
         "overlaying": "y",
         "side": "right"
        }
       }
      }
     },
     "metadata": {},
     "output_type": "display_data"
    },
    {
     "data": {
      "application/vnd.plotly.v1+json": {
       "config": {
        "plotlyServerURL": "https://plot.ly"
       },
       "data": [
        {
         "name": "NEM: 22.28 %",
         "type": "scatter",
         "x": [
          "2024-07-17",
          "2024-07-18",
          "2024-07-19",
          "2024-07-22",
          "2024-07-23",
          "2024-07-24",
          "2024-07-25",
          "2024-07-26",
          "2024-07-29",
          "2024-07-30",
          "2024-07-31",
          "2024-08-01",
          "2024-08-02",
          "2024-08-05",
          "2024-08-06",
          "2024-08-07",
          "2024-08-08",
          "2024-08-09",
          "2024-08-12",
          "2024-08-13",
          "2024-08-14",
          "2024-08-15",
          "2024-08-16",
          "2024-08-19",
          "2024-08-20",
          "2024-08-21",
          "2024-08-22",
          "2024-08-23",
          "2024-08-26",
          "2024-08-27",
          "2024-08-28",
          "2024-08-29",
          "2024-08-30",
          "2024-09-03",
          "2024-09-04",
          "2024-09-05",
          "2024-09-06",
          "2024-09-09",
          "2024-09-10",
          "2024-09-11",
          "2024-09-12",
          "2024-09-13",
          "2024-09-16",
          "2024-09-17",
          "2024-09-18",
          "2024-09-19",
          "2024-09-20",
          "2024-09-23",
          "2024-09-24",
          "2024-09-25",
          "2024-09-26",
          "2024-09-27",
          "2024-09-30",
          "2024-10-01",
          "2024-10-02",
          "2024-10-03",
          "2024-10-04",
          "2024-10-07",
          "2024-10-08",
          "2024-10-09",
          "2024-10-10",
          "2024-10-11",
          "2024-10-14",
          "2024-10-15",
          "2024-10-16",
          "2024-10-17",
          "2024-10-18",
          "2024-10-21",
          "2024-10-22",
          "2024-10-23",
          "2024-10-24",
          "2024-10-25",
          "2024-10-28",
          "2024-10-29",
          "2024-10-30",
          "2024-10-31",
          "2024-11-01",
          "2024-11-04",
          "2024-11-05",
          "2024-11-06",
          "2024-11-07",
          "2024-11-08",
          "2024-11-11",
          "2024-11-12",
          "2024-11-13",
          "2024-11-14",
          "2024-11-15",
          "2024-11-18",
          "2024-11-19",
          "2024-11-20",
          "2024-11-21",
          "2024-11-22",
          "2024-11-25",
          "2024-11-26",
          "2024-11-27",
          "2024-11-29",
          "2024-12-02",
          "2024-12-03",
          "2024-12-04",
          "2024-12-05",
          "2024-12-06",
          "2024-12-09",
          "2024-12-10",
          "2024-12-11",
          "2024-12-12",
          "2024-12-13",
          "2024-12-16",
          "2024-12-17",
          "2024-12-18",
          "2024-12-19",
          "2024-12-20",
          "2024-12-23",
          "2024-12-24",
          "2024-12-26",
          "2024-12-27",
          "2024-12-30",
          "2024-12-31",
          "2025-01-02",
          "2025-01-03",
          "2025-01-06",
          "2025-01-07",
          "2025-01-08",
          "2025-01-10",
          "2025-01-13",
          "2025-01-14",
          "2025-01-15",
          "2025-01-16",
          "2025-01-17",
          "2025-01-21",
          "2025-01-22",
          "2025-01-23",
          "2025-01-24",
          "2025-01-27",
          "2025-01-28",
          "2025-01-29",
          "2025-01-30",
          "2025-01-31",
          "2025-02-03",
          "2025-02-04",
          "2025-02-05",
          "2025-02-06",
          "2025-02-07",
          "2025-02-10",
          "2025-02-11",
          "2025-02-12",
          "2025-02-13",
          "2025-02-14",
          "2025-02-18",
          "2025-02-19",
          "2025-02-20",
          "2025-02-21",
          "2025-02-24",
          "2025-02-25",
          "2025-02-26",
          "2025-02-27",
          "2025-02-28",
          "2025-03-03",
          "2025-03-04",
          "2025-03-05",
          "2025-03-06",
          "2025-03-07",
          "2025-03-10",
          "2025-03-11",
          "2025-03-12",
          "2025-03-13",
          "2025-03-14",
          "2025-03-17",
          "2025-03-18",
          "2025-03-19",
          "2025-03-20",
          "2025-03-21",
          "2025-03-24",
          "2025-03-25",
          "2025-03-26",
          "2025-03-27",
          "2025-03-28",
          "2025-03-31",
          "2025-04-01",
          "2025-04-02",
          "2025-04-03",
          "2025-04-04",
          "2025-04-07",
          "2025-04-08",
          "2025-04-09",
          "2025-04-10",
          "2025-04-11",
          "2025-04-14",
          "2025-04-15",
          "2025-04-16",
          "2025-04-17",
          "2025-04-21",
          "2025-04-22",
          "2025-04-23",
          "2025-04-24",
          "2025-04-25",
          "2025-04-28",
          "2025-04-29",
          "2025-04-30",
          "2025-05-01",
          "2025-05-02",
          "2025-05-05",
          "2025-05-06",
          "2025-05-07",
          "2025-05-08",
          "2025-05-09",
          "2025-05-12",
          "2025-05-13",
          "2025-05-14",
          "2025-05-15",
          "2025-05-16",
          "2025-05-19",
          "2025-05-20",
          "2025-05-21",
          "2025-05-22",
          "2025-05-23",
          "2025-05-27",
          "2025-05-28",
          "2025-05-29",
          "2025-05-30",
          "2025-06-02",
          "2025-06-03",
          "2025-06-04",
          "2025-06-05",
          "2025-06-06",
          "2025-06-09",
          "2025-06-10",
          "2025-06-11",
          "2025-06-12",
          "2025-06-13",
          "2025-06-16",
          "2025-06-17",
          "2025-06-18",
          "2025-06-20",
          "2025-06-23",
          "2025-06-24",
          "2025-06-25",
          "2025-06-26",
          "2025-06-27",
          "2025-06-30",
          "2025-07-01",
          "2025-07-02",
          "2025-07-03",
          "2025-07-07",
          "2025-07-08",
          "2025-07-09",
          "2025-07-10",
          "2025-07-11",
          "2025-07-14",
          "2025-07-15",
          "2025-07-16",
          "2025-07-17",
          "2025-07-18",
          "2025-07-21",
          "2025-07-22",
          "2025-07-23",
          "2025-07-24",
          "2025-07-25",
          "2025-07-28",
          "2025-07-29",
          "2025-07-30",
          "2025-07-31",
          "2025-08-01",
          "2025-08-04",
          "2025-08-05",
          "2025-08-06",
          "2025-08-07",
          "2025-08-08",
          "2025-08-11",
          "2025-08-12",
          "2025-08-13",
          "2025-08-14",
          "2025-08-15",
          "2025-08-18",
          "2025-08-19",
          "2025-08-20",
          "2025-08-21",
          "2025-08-22",
          "2025-08-25",
          "2025-08-26",
          "2025-08-27",
          "2025-08-28",
          "2025-08-29",
          "2025-09-02",
          "2025-09-03",
          "2025-09-04",
          "2025-09-05",
          "2025-09-08",
          "2025-09-09",
          "2025-09-10"
         ],
         "xaxis": "x",
         "y": {
          "bdata": "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",
          "dtype": "f8"
         },
         "yaxis": "y"
        },
        {
         "name": "SMA 50",
         "type": "scatter",
         "x": [
          "2024-07-17",
          "2024-07-18",
          "2024-07-19",
          "2024-07-22",
          "2024-07-23",
          "2024-07-24",
          "2024-07-25",
          "2024-07-26",
          "2024-07-29",
          "2024-07-30",
          "2024-07-31",
          "2024-08-01",
          "2024-08-02",
          "2024-08-05",
          "2024-08-06",
          "2024-08-07",
          "2024-08-08",
          "2024-08-09",
          "2024-08-12",
          "2024-08-13",
          "2024-08-14",
          "2024-08-15",
          "2024-08-16",
          "2024-08-19",
          "2024-08-20",
          "2024-08-21",
          "2024-08-22",
          "2024-08-23",
          "2024-08-26",
          "2024-08-27",
          "2024-08-28",
          "2024-08-29",
          "2024-08-30",
          "2024-09-03",
          "2024-09-04",
          "2024-09-05",
          "2024-09-06",
          "2024-09-09",
          "2024-09-10",
          "2024-09-11",
          "2024-09-12",
          "2024-09-13",
          "2024-09-16",
          "2024-09-17",
          "2024-09-18",
          "2024-09-19",
          "2024-09-20",
          "2024-09-23",
          "2024-09-24",
          "2024-09-25",
          "2024-09-26",
          "2024-09-27",
          "2024-09-30",
          "2024-10-01",
          "2024-10-02",
          "2024-10-03",
          "2024-10-04",
          "2024-10-07",
          "2024-10-08",
          "2024-10-09",
          "2024-10-10",
          "2024-10-11",
          "2024-10-14",
          "2024-10-15",
          "2024-10-16",
          "2024-10-17",
          "2024-10-18",
          "2024-10-21",
          "2024-10-22",
          "2024-10-23",
          "2024-10-24",
          "2024-10-25",
          "2024-10-28",
          "2024-10-29",
          "2024-10-30",
          "2024-10-31",
          "2024-11-01",
          "2024-11-04",
          "2024-11-05",
          "2024-11-06",
          "2024-11-07",
          "2024-11-08",
          "2024-11-11",
          "2024-11-12",
          "2024-11-13",
          "2024-11-14",
          "2024-11-15",
          "2024-11-18",
          "2024-11-19",
          "2024-11-20",
          "2024-11-21",
          "2024-11-22",
          "2024-11-25",
          "2024-11-26",
          "2024-11-27",
          "2024-11-29",
          "2024-12-02",
          "2024-12-03",
          "2024-12-04",
          "2024-12-05",
          "2024-12-06",
          "2024-12-09",
          "2024-12-10",
          "2024-12-11",
          "2024-12-12",
          "2024-12-13",
          "2024-12-16",
          "2024-12-17",
          "2024-12-18",
          "2024-12-19",
          "2024-12-20",
          "2024-12-23",
          "2024-12-24",
          "2024-12-26",
          "2024-12-27",
          "2024-12-30",
          "2024-12-31",
          "2025-01-02",
          "2025-01-03",
          "2025-01-06",
          "2025-01-07",
          "2025-01-08",
          "2025-01-10",
          "2025-01-13",
          "2025-01-14",
          "2025-01-15",
          "2025-01-16",
          "2025-01-17",
          "2025-01-21",
          "2025-01-22",
          "2025-01-23",
          "2025-01-24",
          "2025-01-27",
          "2025-01-28",
          "2025-01-29",
          "2025-01-30",
          "2025-01-31",
          "2025-02-03",
          "2025-02-04",
          "2025-02-05",
          "2025-02-06",
          "2025-02-07",
          "2025-02-10",
          "2025-02-11",
          "2025-02-12",
          "2025-02-13",
          "2025-02-14",
          "2025-02-18",
          "2025-02-19",
          "2025-02-20",
          "2025-02-21",
          "2025-02-24",
          "2025-02-25",
          "2025-02-26",
          "2025-02-27",
          "2025-02-28",
          "2025-03-03",
          "2025-03-04",
          "2025-03-05",
          "2025-03-06",
          "2025-03-07",
          "2025-03-10",
          "2025-03-11",
          "2025-03-12",
          "2025-03-13",
          "2025-03-14",
          "2025-03-17",
          "2025-03-18",
          "2025-03-19",
          "2025-03-20",
          "2025-03-21",
          "2025-03-24",
          "2025-03-25",
          "2025-03-26",
          "2025-03-27",
          "2025-03-28",
          "2025-03-31",
          "2025-04-01",
          "2025-04-02",
          "2025-04-03",
          "2025-04-04",
          "2025-04-07",
          "2025-04-08",
          "2025-04-09",
          "2025-04-10",
          "2025-04-11",
          "2025-04-14",
          "2025-04-15",
          "2025-04-16",
          "2025-04-17",
          "2025-04-21",
          "2025-04-22",
          "2025-04-23",
          "2025-04-24",
          "2025-04-25",
          "2025-04-28",
          "2025-04-29",
          "2025-04-30",
          "2025-05-01",
          "2025-05-02",
          "2025-05-05",
          "2025-05-06",
          "2025-05-07",
          "2025-05-08",
          "2025-05-09",
          "2025-05-12",
          "2025-05-13",
          "2025-05-14",
          "2025-05-15",
          "2025-05-16",
          "2025-05-19",
          "2025-05-20",
          "2025-05-21",
          "2025-05-22",
          "2025-05-23",
          "2025-05-27",
          "2025-05-28",
          "2025-05-29",
          "2025-05-30",
          "2025-06-02",
          "2025-06-03",
          "2025-06-04",
          "2025-06-05",
          "2025-06-06",
          "2025-06-09",
          "2025-06-10",
          "2025-06-11",
          "2025-06-12",
          "2025-06-13",
          "2025-06-16",
          "2025-06-17",
          "2025-06-18",
          "2025-06-20",
          "2025-06-23",
          "2025-06-24",
          "2025-06-25",
          "2025-06-26",
          "2025-06-27",
          "2025-06-30",
          "2025-07-01",
          "2025-07-02",
          "2025-07-03",
          "2025-07-07",
          "2025-07-08",
          "2025-07-09",
          "2025-07-10",
          "2025-07-11",
          "2025-07-14",
          "2025-07-15",
          "2025-07-16",
          "2025-07-17",
          "2025-07-18",
          "2025-07-21",
          "2025-07-22",
          "2025-07-23",
          "2025-07-24",
          "2025-07-25",
          "2025-07-28",
          "2025-07-29",
          "2025-07-30",
          "2025-07-31",
          "2025-08-01",
          "2025-08-04",
          "2025-08-05",
          "2025-08-06",
          "2025-08-07",
          "2025-08-08",
          "2025-08-11",
          "2025-08-12",
          "2025-08-13",
          "2025-08-14",
          "2025-08-15",
          "2025-08-18",
          "2025-08-19",
          "2025-08-20",
          "2025-08-21",
          "2025-08-22",
          "2025-08-25",
          "2025-08-26",
          "2025-08-27",
          "2025-08-28",
          "2025-08-29",
          "2025-09-02",
          "2025-09-03",
          "2025-09-04",
          "2025-09-05",
          "2025-09-08",
          "2025-09-09",
          "2025-09-10"
         ],
         "xaxis": "x",
         "y": {
          "bdata": "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",
          "dtype": "f8"
         },
         "yaxis": "y"
        }
       ],
       "layout": {
        "annotations": [
         {
          "font": {
           "size": 8
          },
          "showarrow": false,
          "text": "Date: 2025-09-10, Open:78.43, High:78.78, Low:77.14, Close: 77.33",
          "x": 0.01,
          "xref": "x domain",
          "y": 1,
          "yref": "y domain"
         }
        ],
        "height": 400,
        "legend": {
         "font": {
          "size": 8
         },
         "title": {
          "font": {
           "family": "Arial"
          }
         }
        },
        "template": {
         "data": {
          "bar": [
           {
            "error_x": {
             "color": "#2a3f5f"
            },
            "error_y": {
             "color": "#2a3f5f"
            },
            "marker": {
             "line": {
              "color": "#E5ECF6",
              "width": 0.5
             },
             "pattern": {
              "fillmode": "overlay",
              "size": 10,
              "solidity": 0.2
             }
            },
            "type": "bar"
           }
          ],
          "barpolar": [
           {
            "marker": {
             "line": {
              "color": "#E5ECF6",
              "width": 0.5
             },
             "pattern": {
              "fillmode": "overlay",
              "size": 10,
              "solidity": 0.2
             }
            },
            "type": "barpolar"
           }
          ],
          "carpet": [
           {
            "aaxis": {
             "endlinecolor": "#2a3f5f",
             "gridcolor": "white",
             "linecolor": "white",
             "minorgridcolor": "white",
             "startlinecolor": "#2a3f5f"
            },
            "baxis": {
             "endlinecolor": "#2a3f5f",
             "gridcolor": "white",
             "linecolor": "white",
             "minorgridcolor": "white",
             "startlinecolor": "#2a3f5f"
            },
            "type": "carpet"
           }
          ],
          "choropleth": [
           {
            "colorbar": {
             "outlinewidth": 0,
             "ticks": ""
            },
            "type": "choropleth"
           }
          ],
          "contour": [
           {
            "colorbar": {
             "outlinewidth": 0,
             "ticks": ""
            },
            "colorscale": [
             [
              0,
              "#0d0887"
             ],
             [
              0.1111111111111111,
              "#46039f"
             ],
             [
              0.2222222222222222,
              "#7201a8"
             ],
             [
              0.3333333333333333,
              "#9c179e"
             ],
             [
              0.4444444444444444,
              "#bd3786"
             ],
             [
              0.5555555555555556,
              "#d8576b"
             ],
             [
              0.6666666666666666,
              "#ed7953"
             ],
             [
              0.7777777777777778,
              "#fb9f3a"
             ],
             [
              0.8888888888888888,
              "#fdca26"
             ],
             [
              1,
              "#f0f921"
             ]
            ],
            "type": "contour"
           }
          ],
          "contourcarpet": [
           {
            "colorbar": {
             "outlinewidth": 0,
             "ticks": ""
            },
            "type": "contourcarpet"
           }
          ],
          "heatmap": [
           {
            "colorbar": {
             "outlinewidth": 0,
             "ticks": ""
            },
            "colorscale": [
             [
              0,
              "#0d0887"
             ],
             [
              0.1111111111111111,
              "#46039f"
             ],
             [
              0.2222222222222222,
              "#7201a8"
             ],
             [
              0.3333333333333333,
              "#9c179e"
             ],
             [
              0.4444444444444444,
              "#bd3786"
             ],
             [
              0.5555555555555556,
              "#d8576b"
             ],
             [
              0.6666666666666666,
              "#ed7953"
             ],
             [
              0.7777777777777778,
              "#fb9f3a"
             ],
             [
              0.8888888888888888,
              "#fdca26"
             ],
             [
              1,
              "#f0f921"
             ]
            ],
            "type": "heatmap"
           }
          ],
          "histogram": [
           {
            "marker": {
             "pattern": {
              "fillmode": "overlay",
              "size": 10,
              "solidity": 0.2
             }
            },
            "type": "histogram"
           }
          ],
          "histogram2d": [
           {
            "colorbar": {
             "outlinewidth": 0,
             "ticks": ""
            },
            "colorscale": [
             [
              0,
              "#0d0887"
             ],
             [
              0.1111111111111111,
              "#46039f"
             ],
             [
              0.2222222222222222,
              "#7201a8"
             ],
             [
              0.3333333333333333,
              "#9c179e"
             ],
             [
              0.4444444444444444,
              "#bd3786"
             ],
             [
              0.5555555555555556,
              "#d8576b"
             ],
             [
              0.6666666666666666,
              "#ed7953"
             ],
             [
              0.7777777777777778,
              "#fb9f3a"
             ],
             [
              0.8888888888888888,
              "#fdca26"
             ],
             [
              1,
              "#f0f921"
             ]
            ],
            "type": "histogram2d"
           }
          ],
          "histogram2dcontour": [
           {
            "colorbar": {
             "outlinewidth": 0,
             "ticks": ""
            },
            "colorscale": [
             [
              0,
              "#0d0887"
             ],
             [
              0.1111111111111111,
              "#46039f"
             ],
             [
              0.2222222222222222,
              "#7201a8"
             ],
             [
              0.3333333333333333,
              "#9c179e"
             ],
             [
              0.4444444444444444,
              "#bd3786"
             ],
             [
              0.5555555555555556,
              "#d8576b"
             ],
             [
              0.6666666666666666,
              "#ed7953"
             ],
             [
              0.7777777777777778,
              "#fb9f3a"
             ],
             [
              0.8888888888888888,
              "#fdca26"
             ],
             [
              1,
              "#f0f921"
             ]
            ],
            "type": "histogram2dcontour"
           }
          ],
          "mesh3d": [
           {
            "colorbar": {
             "outlinewidth": 0,
             "ticks": ""
            },
            "type": "mesh3d"
           }
          ],
          "parcoords": [
           {
            "line": {
             "colorbar": {
              "outlinewidth": 0,
              "ticks": ""
             }
            },
            "type": "parcoords"
           }
          ],
          "pie": [
           {
            "automargin": true,
            "type": "pie"
           }
          ],
          "scatter": [
           {
            "fillpattern": {
             "fillmode": "overlay",
             "size": 10,
             "solidity": 0.2
            },
            "type": "scatter"
           }
          ],
          "scatter3d": [
           {
            "line": {
             "colorbar": {
              "outlinewidth": 0,
              "ticks": ""
             }
            },
            "marker": {
             "colorbar": {
              "outlinewidth": 0,
              "ticks": ""
             }
            },
            "type": "scatter3d"
           }
          ],
          "scattercarpet": [
           {
            "marker": {
             "colorbar": {
              "outlinewidth": 0,
              "ticks": ""
             }
            },
            "type": "scattercarpet"
           }
          ],
          "scattergeo": [
           {
            "marker": {
             "colorbar": {
              "outlinewidth": 0,
              "ticks": ""
             }
            },
            "type": "scattergeo"
           }
          ],
          "scattergl": [
           {
            "marker": {
             "colorbar": {
              "outlinewidth": 0,
              "ticks": ""
             }
            },
            "type": "scattergl"
           }
          ],
          "scattermap": [
           {
            "marker": {
             "colorbar": {
              "outlinewidth": 0,
              "ticks": ""
             }
            },
            "type": "scattermap"
           }
          ],
          "scattermapbox": [
           {
            "marker": {
             "colorbar": {
              "outlinewidth": 0,
              "ticks": ""
             }
            },
            "type": "scattermapbox"
           }
          ],
          "scatterpolar": [
           {
            "marker": {
             "colorbar": {
              "outlinewidth": 0,
              "ticks": ""
             }
            },
            "type": "scatterpolar"
           }
          ],
          "scatterpolargl": [
           {
            "marker": {
             "colorbar": {
              "outlinewidth": 0,
              "ticks": ""
             }
            },
            "type": "scatterpolargl"
           }
          ],
          "scatterternary": [
           {
            "marker": {
             "colorbar": {
              "outlinewidth": 0,
              "ticks": ""
             }
            },
            "type": "scatterternary"
           }
          ],
          "surface": [
           {
            "colorbar": {
             "outlinewidth": 0,
             "ticks": ""
            },
            "colorscale": [
             [
              0,
              "#0d0887"
             ],
             [
              0.1111111111111111,
              "#46039f"
             ],
             [
              0.2222222222222222,
              "#7201a8"
             ],
             [
              0.3333333333333333,
              "#9c179e"
             ],
             [
              0.4444444444444444,
              "#bd3786"
             ],
             [
              0.5555555555555556,
              "#d8576b"
             ],
             [
              0.6666666666666666,
              "#ed7953"
             ],
             [
              0.7777777777777778,
              "#fb9f3a"
             ],
             [
              0.8888888888888888,
              "#fdca26"
             ],
             [
              1,
              "#f0f921"
             ]
            ],
            "type": "surface"
           }
          ],
          "table": [
           {
            "cells": {
             "fill": {
              "color": "#EBF0F8"
             },
             "line": {
              "color": "white"
             }
            },
            "header": {
             "fill": {
              "color": "#C8D4E3"
             },
             "line": {
              "color": "white"
             }
            },
            "type": "table"
           }
          ]
         },
         "layout": {
          "annotationdefaults": {
           "arrowcolor": "#2a3f5f",
           "arrowhead": 0,
           "arrowwidth": 1
          },
          "autotypenumbers": "strict",
          "coloraxis": {
           "colorbar": {
            "outlinewidth": 0,
            "ticks": ""
           }
          },
          "colorscale": {
           "diverging": [
            [
             0,
             "#8e0152"
            ],
            [
             0.1,
             "#c51b7d"
            ],
            [
             0.2,
             "#de77ae"
            ],
            [
             0.3,
             "#f1b6da"
            ],
            [
             0.4,
             "#fde0ef"
            ],
            [
             0.5,
             "#f7f7f7"
            ],
            [
             0.6,
             "#e6f5d0"
            ],
            [
             0.7,
             "#b8e186"
            ],
            [
             0.8,
             "#7fbc41"
            ],
            [
             0.9,
             "#4d9221"
            ],
            [
             1,
             "#276419"
            ]
           ],
           "sequential": [
            [
             0,
             "#0d0887"
            ],
            [
             0.1111111111111111,
             "#46039f"
            ],
            [
             0.2222222222222222,
             "#7201a8"
            ],
            [
             0.3333333333333333,
             "#9c179e"
            ],
            [
             0.4444444444444444,
             "#bd3786"
            ],
            [
             0.5555555555555556,
             "#d8576b"
            ],
            [
             0.6666666666666666,
             "#ed7953"
            ],
            [
             0.7777777777777778,
             "#fb9f3a"
            ],
            [
             0.8888888888888888,
             "#fdca26"
            ],
            [
             1,
             "#f0f921"
            ]
           ],
           "sequentialminus": [
            [
             0,
             "#0d0887"
            ],
            [
             0.1111111111111111,
             "#46039f"
            ],
            [
             0.2222222222222222,
             "#7201a8"
            ],
            [
             0.3333333333333333,
             "#9c179e"
            ],
            [
             0.4444444444444444,
             "#bd3786"
            ],
            [
             0.5555555555555556,
             "#d8576b"
            ],
            [
             0.6666666666666666,
             "#ed7953"
            ],
            [
             0.7777777777777778,
             "#fb9f3a"
            ],
            [
             0.8888888888888888,
             "#fdca26"
            ],
            [
             1,
             "#f0f921"
            ]
           ]
          },
          "colorway": [
           "#636efa",
           "#EF553B",
           "#00cc96",
           "#ab63fa",
           "#FFA15A",
           "#19d3f3",
           "#FF6692",
           "#B6E880",
           "#FF97FF",
           "#FECB52"
          ],
          "font": {
           "color": "#2a3f5f"
          },
          "geo": {
           "bgcolor": "white",
           "lakecolor": "white",
           "landcolor": "#E5ECF6",
           "showlakes": true,
           "showland": true,
           "subunitcolor": "white"
          },
          "hoverlabel": {
           "align": "left"
          },
          "hovermode": "closest",
          "mapbox": {
           "style": "light"
          },
          "paper_bgcolor": "white",
          "plot_bgcolor": "#E5ECF6",
          "polar": {
           "angularaxis": {
            "gridcolor": "white",
            "linecolor": "white",
            "ticks": ""
           },
           "bgcolor": "#E5ECF6",
           "radialaxis": {
            "gridcolor": "white",
            "linecolor": "white",
            "ticks": ""
           }
          },
          "scene": {
           "xaxis": {
            "backgroundcolor": "#E5ECF6",
            "gridcolor": "white",
            "gridwidth": 2,
            "linecolor": "white",
            "showbackground": true,
            "ticks": "",
            "zerolinecolor": "white"
           },
           "yaxis": {
            "backgroundcolor": "#E5ECF6",
            "gridcolor": "white",
            "gridwidth": 2,
            "linecolor": "white",
            "showbackground": true,
            "ticks": "",
            "zerolinecolor": "white"
           },
           "zaxis": {
            "backgroundcolor": "#E5ECF6",
            "gridcolor": "white",
            "gridwidth": 2,
            "linecolor": "white",
            "showbackground": true,
            "ticks": "",
            "zerolinecolor": "white"
           }
          },
          "shapedefaults": {
           "line": {
            "color": "#2a3f5f"
           }
          },
          "ternary": {
           "aaxis": {
            "gridcolor": "white",
            "linecolor": "white",
            "ticks": ""
           },
           "baxis": {
            "gridcolor": "white",
            "linecolor": "white",
            "ticks": ""
           },
           "bgcolor": "#E5ECF6",
           "caxis": {
            "gridcolor": "white",
            "linecolor": "white",
            "ticks": ""
           }
          },
          "title": {
           "x": 0.05
          },
          "xaxis": {
           "automargin": true,
           "gridcolor": "white",
           "linecolor": "white",
           "ticks": "",
           "title": {
            "standoff": 15
           },
           "zerolinecolor": "white",
           "zerolinewidth": 2
          },
          "yaxis": {
           "automargin": true,
           "gridcolor": "white",
           "linecolor": "white",
           "ticks": "",
           "title": {
            "standoff": 15
           },
           "zerolinecolor": "white",
           "zerolinewidth": 2
          }
         }
        },
        "title": {
         "text": "TOP 20",
         "x": 0.5
        },
        "width": 600,
        "xaxis": {
         "anchor": "y",
         "domain": [
          0,
          0.94
         ]
        },
        "yaxis": {
         "anchor": "x",
         "domain": [
          0,
          1
         ],
         "side": "right"
        },
        "yaxis2": {
         "anchor": "x",
         "overlaying": "y",
         "side": "right"
        }
       }
      }
     },
     "metadata": {},
     "output_type": "display_data"
    },
    {
     "data": {
      "application/vnd.plotly.v1+json": {
       "config": {
        "plotlyServerURL": "https://plot.ly"
       },
       "data": [
        {
         "name": "GOOGL: 22.14 %",
         "type": "scatter",
         "x": [
          "2024-07-17",
          "2024-07-18",
          "2024-07-19",
          "2024-07-22",
          "2024-07-23",
          "2024-07-24",
          "2024-07-25",
          "2024-07-26",
          "2024-07-29",
          "2024-07-30",
          "2024-07-31",
          "2024-08-01",
          "2024-08-02",
          "2024-08-05",
          "2024-08-06",
          "2024-08-07",
          "2024-08-08",
          "2024-08-09",
          "2024-08-12",
          "2024-08-13",
          "2024-08-14",
          "2024-08-15",
          "2024-08-16",
          "2024-08-19",
          "2024-08-20",
          "2024-08-21",
          "2024-08-22",
          "2024-08-23",
          "2024-08-26",
          "2024-08-27",
          "2024-08-28",
          "2024-08-29",
          "2024-08-30",
          "2024-09-03",
          "2024-09-04",
          "2024-09-05",
          "2024-09-06",
          "2024-09-09",
          "2024-09-10",
          "2024-09-11",
          "2024-09-12",
          "2024-09-13",
          "2024-09-16",
          "2024-09-17",
          "2024-09-18",
          "2024-09-19",
          "2024-09-20",
          "2024-09-23",
          "2024-09-24",
          "2024-09-25",
          "2024-09-26",
          "2024-09-27",
          "2024-09-30",
          "2024-10-01",
          "2024-10-02",
          "2024-10-03",
          "2024-10-04",
          "2024-10-07",
          "2024-10-08",
          "2024-10-09",
          "2024-10-10",
          "2024-10-11",
          "2024-10-14",
          "2024-10-15",
          "2024-10-16",
          "2024-10-17",
          "2024-10-18",
          "2024-10-21",
          "2024-10-22",
          "2024-10-23",
          "2024-10-24",
          "2024-10-25",
          "2024-10-28",
          "2024-10-29",
          "2024-10-30",
          "2024-10-31",
          "2024-11-01",
          "2024-11-04",
          "2024-11-05",
          "2024-11-06",
          "2024-11-07",
          "2024-11-08",
          "2024-11-11",
          "2024-11-12",
          "2024-11-13",
          "2024-11-14",
          "2024-11-15",
          "2024-11-18",
          "2024-11-19",
          "2024-11-20",
          "2024-11-21",
          "2024-11-22",
          "2024-11-25",
          "2024-11-26",
          "2024-11-27",
          "2024-11-29",
          "2024-12-02",
          "2024-12-03",
          "2024-12-04",
          "2024-12-05",
          "2024-12-06",
          "2024-12-09",
          "2024-12-10",
          "2024-12-11",
          "2024-12-12",
          "2024-12-13",
          "2024-12-16",
          "2024-12-17",
          "2024-12-18",
          "2024-12-19",
          "2024-12-20",
          "2024-12-23",
          "2024-12-24",
          "2024-12-26",
          "2024-12-27",
          "2024-12-30",
          "2024-12-31",
          "2025-01-02",
          "2025-01-03",
          "2025-01-06",
          "2025-01-07",
          "2025-01-08",
          "2025-01-10",
          "2025-01-13",
          "2025-01-14",
          "2025-01-15",
          "2025-01-16",
          "2025-01-17",
          "2025-01-21",
          "2025-01-22",
          "2025-01-23",
          "2025-01-24",
          "2025-01-27",
          "2025-01-28",
          "2025-01-29",
          "2025-01-30",
          "2025-01-31",
          "2025-02-03",
          "2025-02-04",
          "2025-02-05",
          "2025-02-06",
          "2025-02-07",
          "2025-02-10",
          "2025-02-11",
          "2025-02-12",
          "2025-02-13",
          "2025-02-14",
          "2025-02-18",
          "2025-02-19",
          "2025-02-20",
          "2025-02-21",
          "2025-02-24",
          "2025-02-25",
          "2025-02-26",
          "2025-02-27",
          "2025-02-28",
          "2025-03-03",
          "2025-03-04",
          "2025-03-05",
          "2025-03-06",
          "2025-03-07",
          "2025-03-10",
          "2025-03-11",
          "2025-03-12",
          "2025-03-13",
          "2025-03-14",
          "2025-03-17",
          "2025-03-18",
          "2025-03-19",
          "2025-03-20",
          "2025-03-21",
          "2025-03-24",
          "2025-03-25",
          "2025-03-26",
          "2025-03-27",
          "2025-03-28",
          "2025-03-31",
          "2025-04-01",
          "2025-04-02",
          "2025-04-03",
          "2025-04-04",
          "2025-04-07",
          "2025-04-08",
          "2025-04-09",
          "2025-04-10",
          "2025-04-11",
          "2025-04-14",
          "2025-04-15",
          "2025-04-16",
          "2025-04-17",
          "2025-04-21",
          "2025-04-22",
          "2025-04-23",
          "2025-04-24",
          "2025-04-25",
          "2025-04-28",
          "2025-04-29",
          "2025-04-30",
          "2025-05-01",
          "2025-05-02",
          "2025-05-05",
          "2025-05-06",
          "2025-05-07",
          "2025-05-08",
          "2025-05-09",
          "2025-05-12",
          "2025-05-13",
          "2025-05-14",
          "2025-05-15",
          "2025-05-16",
          "2025-05-19",
          "2025-05-20",
          "2025-05-21",
          "2025-05-22",
          "2025-05-23",
          "2025-05-27",
          "2025-05-28",
          "2025-05-29",
          "2025-05-30",
          "2025-06-02",
          "2025-06-03",
          "2025-06-04",
          "2025-06-05",
          "2025-06-06",
          "2025-06-09",
          "2025-06-10",
          "2025-06-11",
          "2025-06-12",
          "2025-06-13",
          "2025-06-16",
          "2025-06-17",
          "2025-06-18",
          "2025-06-20",
          "2025-06-23",
          "2025-06-24",
          "2025-06-25",
          "2025-06-26",
          "2025-06-27",
          "2025-06-30",
          "2025-07-01",
          "2025-07-02",
          "2025-07-03",
          "2025-07-07",
          "2025-07-08",
          "2025-07-09",
          "2025-07-10",
          "2025-07-11",
          "2025-07-14",
          "2025-07-15",
          "2025-07-16",
          "2025-07-17",
          "2025-07-18",
          "2025-07-21",
          "2025-07-22",
          "2025-07-23",
          "2025-07-24",
          "2025-07-25",
          "2025-07-28",
          "2025-07-29",
          "2025-07-30",
          "2025-07-31",
          "2025-08-01",
          "2025-08-04",
          "2025-08-05",
          "2025-08-06",
          "2025-08-07",
          "2025-08-08",
          "2025-08-11",
          "2025-08-12",
          "2025-08-13",
          "2025-08-14",
          "2025-08-15",
          "2025-08-18",
          "2025-08-19",
          "2025-08-20",
          "2025-08-21",
          "2025-08-22",
          "2025-08-25",
          "2025-08-26",
          "2025-08-27",
          "2025-08-28",
          "2025-08-29",
          "2025-09-02",
          "2025-09-03",
          "2025-09-04",
          "2025-09-05",
          "2025-09-08",
          "2025-09-09",
          "2025-09-10"
         ],
         "xaxis": "x",
         "y": {
          "bdata": "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",
          "dtype": "f8"
         },
         "yaxis": "y"
        },
        {
         "name": "SMA 50",
         "type": "scatter",
         "x": [
          "2024-07-17",
          "2024-07-18",
          "2024-07-19",
          "2024-07-22",
          "2024-07-23",
          "2024-07-24",
          "2024-07-25",
          "2024-07-26",
          "2024-07-29",
          "2024-07-30",
          "2024-07-31",
          "2024-08-01",
          "2024-08-02",
          "2024-08-05",
          "2024-08-06",
          "2024-08-07",
          "2024-08-08",
          "2024-08-09",
          "2024-08-12",
          "2024-08-13",
          "2024-08-14",
          "2024-08-15",
          "2024-08-16",
          "2024-08-19",
          "2024-08-20",
          "2024-08-21",
          "2024-08-22",
          "2024-08-23",
          "2024-08-26",
          "2024-08-27",
          "2024-08-28",
          "2024-08-29",
          "2024-08-30",
          "2024-09-03",
          "2024-09-04",
          "2024-09-05",
          "2024-09-06",
          "2024-09-09",
          "2024-09-10",
          "2024-09-11",
          "2024-09-12",
          "2024-09-13",
          "2024-09-16",
          "2024-09-17",
          "2024-09-18",
          "2024-09-19",
          "2024-09-20",
          "2024-09-23",
          "2024-09-24",
          "2024-09-25",
          "2024-09-26",
          "2024-09-27",
          "2024-09-30",
          "2024-10-01",
          "2024-10-02",
          "2024-10-03",
          "2024-10-04",
          "2024-10-07",
          "2024-10-08",
          "2024-10-09",
          "2024-10-10",
          "2024-10-11",
          "2024-10-14",
          "2024-10-15",
          "2024-10-16",
          "2024-10-17",
          "2024-10-18",
          "2024-10-21",
          "2024-10-22",
          "2024-10-23",
          "2024-10-24",
          "2024-10-25",
          "2024-10-28",
          "2024-10-29",
          "2024-10-30",
          "2024-10-31",
          "2024-11-01",
          "2024-11-04",
          "2024-11-05",
          "2024-11-06",
          "2024-11-07",
          "2024-11-08",
          "2024-11-11",
          "2024-11-12",
          "2024-11-13",
          "2024-11-14",
          "2024-11-15",
          "2024-11-18",
          "2024-11-19",
          "2024-11-20",
          "2024-11-21",
          "2024-11-22",
          "2024-11-25",
          "2024-11-26",
          "2024-11-27",
          "2024-11-29",
          "2024-12-02",
          "2024-12-03",
          "2024-12-04",
          "2024-12-05",
          "2024-12-06",
          "2024-12-09",
          "2024-12-10",
          "2024-12-11",
          "2024-12-12",
          "2024-12-13",
          "2024-12-16",
          "2024-12-17",
          "2024-12-18",
          "2024-12-19",
          "2024-12-20",
          "2024-12-23",
          "2024-12-24",
          "2024-12-26",
          "2024-12-27",
          "2024-12-30",
          "2024-12-31",
          "2025-01-02",
          "2025-01-03",
          "2025-01-06",
          "2025-01-07",
          "2025-01-08",
          "2025-01-10",
          "2025-01-13",
          "2025-01-14",
          "2025-01-15",
          "2025-01-16",
          "2025-01-17",
          "2025-01-21",
          "2025-01-22",
          "2025-01-23",
          "2025-01-24",
          "2025-01-27",
          "2025-01-28",
          "2025-01-29",
          "2025-01-30",
          "2025-01-31",
          "2025-02-03",
          "2025-02-04",
          "2025-02-05",
          "2025-02-06",
          "2025-02-07",
          "2025-02-10",
          "2025-02-11",
          "2025-02-12",
          "2025-02-13",
          "2025-02-14",
          "2025-02-18",
          "2025-02-19",
          "2025-02-20",
          "2025-02-21",
          "2025-02-24",
          "2025-02-25",
          "2025-02-26",
          "2025-02-27",
          "2025-02-28",
          "2025-03-03",
          "2025-03-04",
          "2025-03-05",
          "2025-03-06",
          "2025-03-07",
          "2025-03-10",
          "2025-03-11",
          "2025-03-12",
          "2025-03-13",
          "2025-03-14",
          "2025-03-17",
          "2025-03-18",
          "2025-03-19",
          "2025-03-20",
          "2025-03-21",
          "2025-03-24",
          "2025-03-25",
          "2025-03-26",
          "2025-03-27",
          "2025-03-28",
          "2025-03-31",
          "2025-04-01",
          "2025-04-02",
          "2025-04-03",
          "2025-04-04",
          "2025-04-07",
          "2025-04-08",
          "2025-04-09",
          "2025-04-10",
          "2025-04-11",
          "2025-04-14",
          "2025-04-15",
          "2025-04-16",
          "2025-04-17",
          "2025-04-21",
          "2025-04-22",
          "2025-04-23",
          "2025-04-24",
          "2025-04-25",
          "2025-04-28",
          "2025-04-29",
          "2025-04-30",
          "2025-05-01",
          "2025-05-02",
          "2025-05-05",
          "2025-05-06",
          "2025-05-07",
          "2025-05-08",
          "2025-05-09",
          "2025-05-12",
          "2025-05-13",
          "2025-05-14",
          "2025-05-15",
          "2025-05-16",
          "2025-05-19",
          "2025-05-20",
          "2025-05-21",
          "2025-05-22",
          "2025-05-23",
          "2025-05-27",
          "2025-05-28",
          "2025-05-29",
          "2025-05-30",
          "2025-06-02",
          "2025-06-03",
          "2025-06-04",
          "2025-06-05",
          "2025-06-06",
          "2025-06-09",
          "2025-06-10",
          "2025-06-11",
          "2025-06-12",
          "2025-06-13",
          "2025-06-16",
          "2025-06-17",
          "2025-06-18",
          "2025-06-20",
          "2025-06-23",
          "2025-06-24",
          "2025-06-25",
          "2025-06-26",
          "2025-06-27",
          "2025-06-30",
          "2025-07-01",
          "2025-07-02",
          "2025-07-03",
          "2025-07-07",
          "2025-07-08",
          "2025-07-09",
          "2025-07-10",
          "2025-07-11",
          "2025-07-14",
          "2025-07-15",
          "2025-07-16",
          "2025-07-17",
          "2025-07-18",
          "2025-07-21",
          "2025-07-22",
          "2025-07-23",
          "2025-07-24",
          "2025-07-25",
          "2025-07-28",
          "2025-07-29",
          "2025-07-30",
          "2025-07-31",
          "2025-08-01",
          "2025-08-04",
          "2025-08-05",
          "2025-08-06",
          "2025-08-07",
          "2025-08-08",
          "2025-08-11",
          "2025-08-12",
          "2025-08-13",
          "2025-08-14",
          "2025-08-15",
          "2025-08-18",
          "2025-08-19",
          "2025-08-20",
          "2025-08-21",
          "2025-08-22",
          "2025-08-25",
          "2025-08-26",
          "2025-08-27",
          "2025-08-28",
          "2025-08-29",
          "2025-09-02",
          "2025-09-03",
          "2025-09-04",
          "2025-09-05",
          "2025-09-08",
          "2025-09-09",
          "2025-09-10"
         ],
         "xaxis": "x",
         "y": {
          "bdata": "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",
          "dtype": "f8"
         },
         "yaxis": "y"
        }
       ],
       "layout": {
        "annotations": [
         {
          "font": {
           "size": 8
          },
          "showarrow": false,
          "text": "Date: 2025-09-10, Open:239.17, High:241.66, Low:237.85, Close: 238.9",
          "x": 0.01,
          "xref": "x domain",
          "y": 1,
          "yref": "y domain"
         }
        ],
        "height": 400,
        "legend": {
         "font": {
          "size": 8
         },
         "title": {
          "font": {
           "family": "Arial"
          }
         }
        },
        "template": {
         "data": {
          "bar": [
           {
            "error_x": {
             "color": "#2a3f5f"
            },
            "error_y": {
             "color": "#2a3f5f"
            },
            "marker": {
             "line": {
              "color": "#E5ECF6",
              "width": 0.5
             },
             "pattern": {
              "fillmode": "overlay",
              "size": 10,
              "solidity": 0.2
             }
            },
            "type": "bar"
           }
          ],
          "barpolar": [
           {
            "marker": {
             "line": {
              "color": "#E5ECF6",
              "width": 0.5
             },
             "pattern": {
              "fillmode": "overlay",
              "size": 10,
              "solidity": 0.2
             }
            },
            "type": "barpolar"
           }
          ],
          "carpet": [
           {
            "aaxis": {
             "endlinecolor": "#2a3f5f",
             "gridcolor": "white",
             "linecolor": "white",
             "minorgridcolor": "white",
             "startlinecolor": "#2a3f5f"
            },
            "baxis": {
             "endlinecolor": "#2a3f5f",
             "gridcolor": "white",
             "linecolor": "white",
             "minorgridcolor": "white",
             "startlinecolor": "#2a3f5f"
            },
            "type": "carpet"
           }
          ],
          "choropleth": [
           {
            "colorbar": {
             "outlinewidth": 0,
             "ticks": ""
            },
            "type": "choropleth"
           }
          ],
          "contour": [
           {
            "colorbar": {
             "outlinewidth": 0,
             "ticks": ""
            },
            "colorscale": [
             [
              0,
              "#0d0887"
             ],
             [
              0.1111111111111111,
              "#46039f"
             ],
             [
              0.2222222222222222,
              "#7201a8"
             ],
             [
              0.3333333333333333,
              "#9c179e"
             ],
             [
              0.4444444444444444,
              "#bd3786"
             ],
             [
              0.5555555555555556,
              "#d8576b"
             ],
             [
              0.6666666666666666,
              "#ed7953"
             ],
             [
              0.7777777777777778,
              "#fb9f3a"
             ],
             [
              0.8888888888888888,
              "#fdca26"
             ],
             [
              1,
              "#f0f921"
             ]
            ],
            "type": "contour"
           }
          ],
          "contourcarpet": [
           {
            "colorbar": {
             "outlinewidth": 0,
             "ticks": ""
            },
            "type": "contourcarpet"
           }
          ],
          "heatmap": [
           {
            "colorbar": {
             "outlinewidth": 0,
             "ticks": ""
            },
            "colorscale": [
             [
              0,
              "#0d0887"
             ],
             [
              0.1111111111111111,
              "#46039f"
             ],
             [
              0.2222222222222222,
              "#7201a8"
             ],
             [
              0.3333333333333333,
              "#9c179e"
             ],
             [
              0.4444444444444444,
              "#bd3786"
             ],
             [
              0.5555555555555556,
              "#d8576b"
             ],
             [
              0.6666666666666666,
              "#ed7953"
             ],
             [
              0.7777777777777778,
              "#fb9f3a"
             ],
             [
              0.8888888888888888,
              "#fdca26"
             ],
             [
              1,
              "#f0f921"
             ]
            ],
            "type": "heatmap"
           }
          ],
          "histogram": [
           {
            "marker": {
             "pattern": {
              "fillmode": "overlay",
              "size": 10,
              "solidity": 0.2
             }
            },
            "type": "histogram"
           }
          ],
          "histogram2d": [
           {
            "colorbar": {
             "outlinewidth": 0,
             "ticks": ""
            },
            "colorscale": [
             [
              0,
              "#0d0887"
             ],
             [
              0.1111111111111111,
              "#46039f"
             ],
             [
              0.2222222222222222,
              "#7201a8"
             ],
             [
              0.3333333333333333,
              "#9c179e"
             ],
             [
              0.4444444444444444,
              "#bd3786"
             ],
             [
              0.5555555555555556,
              "#d8576b"
             ],
             [
              0.6666666666666666,
              "#ed7953"
             ],
             [
              0.7777777777777778,
              "#fb9f3a"
             ],
             [
              0.8888888888888888,
              "#fdca26"
             ],
             [
              1,
              "#f0f921"
             ]
            ],
            "type": "histogram2d"
           }
          ],
          "histogram2dcontour": [
           {
            "colorbar": {
             "outlinewidth": 0,
             "ticks": ""
            },
            "colorscale": [
             [
              0,
              "#0d0887"
             ],
             [
              0.1111111111111111,
              "#46039f"
             ],
             [
              0.2222222222222222,
              "#7201a8"
             ],
             [
              0.3333333333333333,
              "#9c179e"
             ],
             [
              0.4444444444444444,
              "#bd3786"
             ],
             [
              0.5555555555555556,
              "#d8576b"
             ],
             [
              0.6666666666666666,
              "#ed7953"
             ],
             [
              0.7777777777777778,
              "#fb9f3a"
             ],
             [
              0.8888888888888888,
              "#fdca26"
             ],
             [
              1,
              "#f0f921"
             ]
            ],
            "type": "histogram2dcontour"
           }
          ],
          "mesh3d": [
           {
            "colorbar": {
             "outlinewidth": 0,
             "ticks": ""
            },
            "type": "mesh3d"
           }
          ],
          "parcoords": [
           {
            "line": {
             "colorbar": {
              "outlinewidth": 0,
              "ticks": ""
             }
            },
            "type": "parcoords"
           }
          ],
          "pie": [
           {
            "automargin": true,
            "type": "pie"
           }
          ],
          "scatter": [
           {
            "fillpattern": {
             "fillmode": "overlay",
             "size": 10,
             "solidity": 0.2
            },
            "type": "scatter"
           }
          ],
          "scatter3d": [
           {
            "line": {
             "colorbar": {
              "outlinewidth": 0,
              "ticks": ""
             }
            },
            "marker": {
             "colorbar": {
              "outlinewidth": 0,
              "ticks": ""
             }
            },
            "type": "scatter3d"
           }
          ],
          "scattercarpet": [
           {
            "marker": {
             "colorbar": {
              "outlinewidth": 0,
              "ticks": ""
             }
            },
            "type": "scattercarpet"
           }
          ],
          "scattergeo": [
           {
            "marker": {
             "colorbar": {
              "outlinewidth": 0,
              "ticks": ""
             }
            },
            "type": "scattergeo"
           }
          ],
          "scattergl": [
           {
            "marker": {
             "colorbar": {
              "outlinewidth": 0,
              "ticks": ""
             }
            },
            "type": "scattergl"
           }
          ],
          "scattermap": [
           {
            "marker": {
             "colorbar": {
              "outlinewidth": 0,
              "ticks": ""
             }
            },
            "type": "scattermap"
           }
          ],
          "scattermapbox": [
           {
            "marker": {
             "colorbar": {
              "outlinewidth": 0,
              "ticks": ""
             }
            },
            "type": "scattermapbox"
           }
          ],
          "scatterpolar": [
           {
            "marker": {
             "colorbar": {
              "outlinewidth": 0,
              "ticks": ""
             }
            },
            "type": "scatterpolar"
           }
          ],
          "scatterpolargl": [
           {
            "marker": {
             "colorbar": {
              "outlinewidth": 0,
              "ticks": ""
             }
            },
            "type": "scatterpolargl"
           }
          ],
          "scatterternary": [
           {
            "marker": {
             "colorbar": {
              "outlinewidth": 0,
              "ticks": ""
             }
            },
            "type": "scatterternary"
           }
          ],
          "surface": [
           {
            "colorbar": {
             "outlinewidth": 0,
             "ticks": ""
            },
            "colorscale": [
             [
              0,
              "#0d0887"
             ],
             [
              0.1111111111111111,
              "#46039f"
             ],
             [
              0.2222222222222222,
              "#7201a8"
             ],
             [
              0.3333333333333333,
              "#9c179e"
             ],
             [
              0.4444444444444444,
              "#bd3786"
             ],
             [
              0.5555555555555556,
              "#d8576b"
             ],
             [
              0.6666666666666666,
              "#ed7953"
             ],
             [
              0.7777777777777778,
              "#fb9f3a"
             ],
             [
              0.8888888888888888,
              "#fdca26"
             ],
             [
              1,
              "#f0f921"
             ]
            ],
            "type": "surface"
           }
          ],
          "table": [
           {
            "cells": {
             "fill": {
              "color": "#EBF0F8"
             },
             "line": {
              "color": "white"
             }
            },
            "header": {
             "fill": {
              "color": "#C8D4E3"
             },
             "line": {
              "color": "white"
             }
            },
            "type": "table"
           }
          ]
         },
         "layout": {
          "annotationdefaults": {
           "arrowcolor": "#2a3f5f",
           "arrowhead": 0,
           "arrowwidth": 1
          },
          "autotypenumbers": "strict",
          "coloraxis": {
           "colorbar": {
            "outlinewidth": 0,
            "ticks": ""
           }
          },
          "colorscale": {
           "diverging": [
            [
             0,
             "#8e0152"
            ],
            [
             0.1,
             "#c51b7d"
            ],
            [
             0.2,
             "#de77ae"
            ],
            [
             0.3,
             "#f1b6da"
            ],
            [
             0.4,
             "#fde0ef"
            ],
            [
             0.5,
             "#f7f7f7"
            ],
            [
             0.6,
             "#e6f5d0"
            ],
            [
             0.7,
             "#b8e186"
            ],
            [
             0.8,
             "#7fbc41"
            ],
            [
             0.9,
             "#4d9221"
            ],
            [
             1,
             "#276419"
            ]
           ],
           "sequential": [
            [
             0,
             "#0d0887"
            ],
            [
             0.1111111111111111,
             "#46039f"
            ],
            [
             0.2222222222222222,
             "#7201a8"
            ],
            [
             0.3333333333333333,
             "#9c179e"
            ],
            [
             0.4444444444444444,
             "#bd3786"
            ],
            [
             0.5555555555555556,
             "#d8576b"
            ],
            [
             0.6666666666666666,
             "#ed7953"
            ],
            [
             0.7777777777777778,
             "#fb9f3a"
            ],
            [
             0.8888888888888888,
             "#fdca26"
            ],
            [
             1,
             "#f0f921"
            ]
           ],
           "sequentialminus": [
            [
             0,
             "#0d0887"
            ],
            [
             0.1111111111111111,
             "#46039f"
            ],
            [
             0.2222222222222222,
             "#7201a8"
            ],
            [
             0.3333333333333333,
             "#9c179e"
            ],
            [
             0.4444444444444444,
             "#bd3786"
            ],
            [
             0.5555555555555556,
             "#d8576b"
            ],
            [
             0.6666666666666666,
             "#ed7953"
            ],
            [
             0.7777777777777778,
             "#fb9f3a"
            ],
            [
             0.8888888888888888,
             "#fdca26"
            ],
            [
             1,
             "#f0f921"
            ]
           ]
          },
          "colorway": [
           "#636efa",
           "#EF553B",
           "#00cc96",
           "#ab63fa",
           "#FFA15A",
           "#19d3f3",
           "#FF6692",
           "#B6E880",
           "#FF97FF",
           "#FECB52"
          ],
          "font": {
           "color": "#2a3f5f"
          },
          "geo": {
           "bgcolor": "white",
           "lakecolor": "white",
           "landcolor": "#E5ECF6",
           "showlakes": true,
           "showland": true,
           "subunitcolor": "white"
          },
          "hoverlabel": {
           "align": "left"
          },
          "hovermode": "closest",
          "mapbox": {
           "style": "light"
          },
          "paper_bgcolor": "white",
          "plot_bgcolor": "#E5ECF6",
          "polar": {
           "angularaxis": {
            "gridcolor": "white",
            "linecolor": "white",
            "ticks": ""
           },
           "bgcolor": "#E5ECF6",
           "radialaxis": {
            "gridcolor": "white",
            "linecolor": "white",
            "ticks": ""
           }
          },
          "scene": {
           "xaxis": {
            "backgroundcolor": "#E5ECF6",
            "gridcolor": "white",
            "gridwidth": 2,
            "linecolor": "white",
            "showbackground": true,
            "ticks": "",
            "zerolinecolor": "white"
           },
           "yaxis": {
            "backgroundcolor": "#E5ECF6",
            "gridcolor": "white",
            "gridwidth": 2,
            "linecolor": "white",
            "showbackground": true,
            "ticks": "",
            "zerolinecolor": "white"
           },
           "zaxis": {
            "backgroundcolor": "#E5ECF6",
            "gridcolor": "white",
            "gridwidth": 2,
            "linecolor": "white",
            "showbackground": true,
            "ticks": "",
            "zerolinecolor": "white"
           }
          },
          "shapedefaults": {
           "line": {
            "color": "#2a3f5f"
           }
          },
          "ternary": {
           "aaxis": {
            "gridcolor": "white",
            "linecolor": "white",
            "ticks": ""
           },
           "baxis": {
            "gridcolor": "white",
            "linecolor": "white",
            "ticks": ""
           },
           "bgcolor": "#E5ECF6",
           "caxis": {
            "gridcolor": "white",
            "linecolor": "white",
            "ticks": ""
           }
          },
          "title": {
           "x": 0.05
          },
          "xaxis": {
           "automargin": true,
           "gridcolor": "white",
           "linecolor": "white",
           "ticks": "",
           "title": {
            "standoff": 15
           },
           "zerolinecolor": "white",
           "zerolinewidth": 2
          },
          "yaxis": {
           "automargin": true,
           "gridcolor": "white",
           "linecolor": "white",
           "ticks": "",
           "title": {
            "standoff": 15
           },
           "zerolinecolor": "white",
           "zerolinewidth": 2
          }
         }
        },
        "title": {
         "text": "TOP 20",
         "x": 0.5
        },
        "width": 600,
        "xaxis": {
         "anchor": "y",
         "domain": [
          0,
          0.94
         ]
        },
        "yaxis": {
         "anchor": "x",
         "domain": [
          0,
          1
         ],
         "side": "right"
        },
        "yaxis2": {
         "anchor": "x",
         "overlaying": "y",
         "side": "right"
        }
       }
      }
     },
     "metadata": {},
     "output_type": "display_data"
    },
    {
     "data": {
      "application/vnd.plotly.v1+json": {
       "config": {
        "plotlyServerURL": "https://plot.ly"
       },
       "data": [
        {
         "name": "DHI: 21.97 %",
         "type": "scatter",
         "x": [
          "2024-07-17",
          "2024-07-18",
          "2024-07-19",
          "2024-07-22",
          "2024-07-23",
          "2024-07-24",
          "2024-07-25",
          "2024-07-26",
          "2024-07-29",
          "2024-07-30",
          "2024-07-31",
          "2024-08-01",
          "2024-08-02",
          "2024-08-05",
          "2024-08-06",
          "2024-08-07",
          "2024-08-08",
          "2024-08-09",
          "2024-08-12",
          "2024-08-13",
          "2024-08-14",
          "2024-08-15",
          "2024-08-16",
          "2024-08-19",
          "2024-08-20",
          "2024-08-21",
          "2024-08-22",
          "2024-08-23",
          "2024-08-26",
          "2024-08-27",
          "2024-08-28",
          "2024-08-29",
          "2024-08-30",
          "2024-09-03",
          "2024-09-04",
          "2024-09-05",
          "2024-09-06",
          "2024-09-09",
          "2024-09-10",
          "2024-09-11",
          "2024-09-12",
          "2024-09-13",
          "2024-09-16",
          "2024-09-17",
          "2024-09-18",
          "2024-09-19",
          "2024-09-20",
          "2024-09-23",
          "2024-09-24",
          "2024-09-25",
          "2024-09-26",
          "2024-09-27",
          "2024-09-30",
          "2024-10-01",
          "2024-10-02",
          "2024-10-03",
          "2024-10-04",
          "2024-10-07",
          "2024-10-08",
          "2024-10-09",
          "2024-10-10",
          "2024-10-11",
          "2024-10-14",
          "2024-10-15",
          "2024-10-16",
          "2024-10-17",
          "2024-10-18",
          "2024-10-21",
          "2024-10-22",
          "2024-10-23",
          "2024-10-24",
          "2024-10-25",
          "2024-10-28",
          "2024-10-29",
          "2024-10-30",
          "2024-10-31",
          "2024-11-01",
          "2024-11-04",
          "2024-11-05",
          "2024-11-06",
          "2024-11-07",
          "2024-11-08",
          "2024-11-11",
          "2024-11-12",
          "2024-11-13",
          "2024-11-14",
          "2024-11-15",
          "2024-11-18",
          "2024-11-19",
          "2024-11-20",
          "2024-11-21",
          "2024-11-22",
          "2024-11-25",
          "2024-11-26",
          "2024-11-27",
          "2024-11-29",
          "2024-12-02",
          "2024-12-03",
          "2024-12-04",
          "2024-12-05",
          "2024-12-06",
          "2024-12-09",
          "2024-12-10",
          "2024-12-11",
          "2024-12-12",
          "2024-12-13",
          "2024-12-16",
          "2024-12-17",
          "2024-12-18",
          "2024-12-19",
          "2024-12-20",
          "2024-12-23",
          "2024-12-24",
          "2024-12-26",
          "2024-12-27",
          "2024-12-30",
          "2024-12-31",
          "2025-01-02",
          "2025-01-03",
          "2025-01-06",
          "2025-01-07",
          "2025-01-08",
          "2025-01-10",
          "2025-01-13",
          "2025-01-14",
          "2025-01-15",
          "2025-01-16",
          "2025-01-17",
          "2025-01-21",
          "2025-01-22",
          "2025-01-23",
          "2025-01-24",
          "2025-01-27",
          "2025-01-28",
          "2025-01-29",
          "2025-01-30",
          "2025-01-31",
          "2025-02-03",
          "2025-02-04",
          "2025-02-05",
          "2025-02-06",
          "2025-02-07",
          "2025-02-10",
          "2025-02-11",
          "2025-02-12",
          "2025-02-13",
          "2025-02-14",
          "2025-02-18",
          "2025-02-19",
          "2025-02-20",
          "2025-02-21",
          "2025-02-24",
          "2025-02-25",
          "2025-02-26",
          "2025-02-27",
          "2025-02-28",
          "2025-03-03",
          "2025-03-04",
          "2025-03-05",
          "2025-03-06",
          "2025-03-07",
          "2025-03-10",
          "2025-03-11",
          "2025-03-12",
          "2025-03-13",
          "2025-03-14",
          "2025-03-17",
          "2025-03-18",
          "2025-03-19",
          "2025-03-20",
          "2025-03-21",
          "2025-03-24",
          "2025-03-25",
          "2025-03-26",
          "2025-03-27",
          "2025-03-28",
          "2025-03-31",
          "2025-04-01",
          "2025-04-02",
          "2025-04-03",
          "2025-04-04",
          "2025-04-07",
          "2025-04-08",
          "2025-04-09",
          "2025-04-10",
          "2025-04-11",
          "2025-04-14",
          "2025-04-15",
          "2025-04-16",
          "2025-04-17",
          "2025-04-21",
          "2025-04-22",
          "2025-04-23",
          "2025-04-24",
          "2025-04-25",
          "2025-04-28",
          "2025-04-29",
          "2025-04-30",
          "2025-05-01",
          "2025-05-02",
          "2025-05-05",
          "2025-05-06",
          "2025-05-07",
          "2025-05-08",
          "2025-05-09",
          "2025-05-12",
          "2025-05-13",
          "2025-05-14",
          "2025-05-15",
          "2025-05-16",
          "2025-05-19",
          "2025-05-20",
          "2025-05-21",
          "2025-05-22",
          "2025-05-23",
          "2025-05-27",
          "2025-05-28",
          "2025-05-29",
          "2025-05-30",
          "2025-06-02",
          "2025-06-03",
          "2025-06-04",
          "2025-06-05",
          "2025-06-06",
          "2025-06-09",
          "2025-06-10",
          "2025-06-11",
          "2025-06-12",
          "2025-06-13",
          "2025-06-16",
          "2025-06-17",
          "2025-06-18",
          "2025-06-20",
          "2025-06-23",
          "2025-06-24",
          "2025-06-25",
          "2025-06-26",
          "2025-06-27",
          "2025-06-30",
          "2025-07-01",
          "2025-07-02",
          "2025-07-03",
          "2025-07-07",
          "2025-07-08",
          "2025-07-09",
          "2025-07-10",
          "2025-07-11",
          "2025-07-14",
          "2025-07-15",
          "2025-07-16",
          "2025-07-17",
          "2025-07-18",
          "2025-07-21",
          "2025-07-22",
          "2025-07-23",
          "2025-07-24",
          "2025-07-25",
          "2025-07-28",
          "2025-07-29",
          "2025-07-30",
          "2025-07-31",
          "2025-08-01",
          "2025-08-04",
          "2025-08-05",
          "2025-08-06",
          "2025-08-07",
          "2025-08-08",
          "2025-08-11",
          "2025-08-12",
          "2025-08-13",
          "2025-08-14",
          "2025-08-15",
          "2025-08-18",
          "2025-08-19",
          "2025-08-20",
          "2025-08-21",
          "2025-08-22",
          "2025-08-25",
          "2025-08-26",
          "2025-08-27",
          "2025-08-28",
          "2025-08-29",
          "2025-09-02",
          "2025-09-03",
          "2025-09-04",
          "2025-09-05",
          "2025-09-08",
          "2025-09-09",
          "2025-09-10"
         ],
         "xaxis": "x",
         "y": {
          "bdata": "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",
          "dtype": "f8"
         },
         "yaxis": "y"
        },
        {
         "name": "SMA 50",
         "type": "scatter",
         "x": [
          "2024-07-17",
          "2024-07-18",
          "2024-07-19",
          "2024-07-22",
          "2024-07-23",
          "2024-07-24",
          "2024-07-25",
          "2024-07-26",
          "2024-07-29",
          "2024-07-30",
          "2024-07-31",
          "2024-08-01",
          "2024-08-02",
          "2024-08-05",
          "2024-08-06",
          "2024-08-07",
          "2024-08-08",
          "2024-08-09",
          "2024-08-12",
          "2024-08-13",
          "2024-08-14",
          "2024-08-15",
          "2024-08-16",
          "2024-08-19",
          "2024-08-20",
          "2024-08-21",
          "2024-08-22",
          "2024-08-23",
          "2024-08-26",
          "2024-08-27",
          "2024-08-28",
          "2024-08-29",
          "2024-08-30",
          "2024-09-03",
          "2024-09-04",
          "2024-09-05",
          "2024-09-06",
          "2024-09-09",
          "2024-09-10",
          "2024-09-11",
          "2024-09-12",
          "2024-09-13",
          "2024-09-16",
          "2024-09-17",
          "2024-09-18",
          "2024-09-19",
          "2024-09-20",
          "2024-09-23",
          "2024-09-24",
          "2024-09-25",
          "2024-09-26",
          "2024-09-27",
          "2024-09-30",
          "2024-10-01",
          "2024-10-02",
          "2024-10-03",
          "2024-10-04",
          "2024-10-07",
          "2024-10-08",
          "2024-10-09",
          "2024-10-10",
          "2024-10-11",
          "2024-10-14",
          "2024-10-15",
          "2024-10-16",
          "2024-10-17",
          "2024-10-18",
          "2024-10-21",
          "2024-10-22",
          "2024-10-23",
          "2024-10-24",
          "2024-10-25",
          "2024-10-28",
          "2024-10-29",
          "2024-10-30",
          "2024-10-31",
          "2024-11-01",
          "2024-11-04",
          "2024-11-05",
          "2024-11-06",
          "2024-11-07",
          "2024-11-08",
          "2024-11-11",
          "2024-11-12",
          "2024-11-13",
          "2024-11-14",
          "2024-11-15",
          "2024-11-18",
          "2024-11-19",
          "2024-11-20",
          "2024-11-21",
          "2024-11-22",
          "2024-11-25",
          "2024-11-26",
          "2024-11-27",
          "2024-11-29",
          "2024-12-02",
          "2024-12-03",
          "2024-12-04",
          "2024-12-05",
          "2024-12-06",
          "2024-12-09",
          "2024-12-10",
          "2024-12-11",
          "2024-12-12",
          "2024-12-13",
          "2024-12-16",
          "2024-12-17",
          "2024-12-18",
          "2024-12-19",
          "2024-12-20",
          "2024-12-23",
          "2024-12-24",
          "2024-12-26",
          "2024-12-27",
          "2024-12-30",
          "2024-12-31",
          "2025-01-02",
          "2025-01-03",
          "2025-01-06",
          "2025-01-07",
          "2025-01-08",
          "2025-01-10",
          "2025-01-13",
          "2025-01-14",
          "2025-01-15",
          "2025-01-16",
          "2025-01-17",
          "2025-01-21",
          "2025-01-22",
          "2025-01-23",
          "2025-01-24",
          "2025-01-27",
          "2025-01-28",
          "2025-01-29",
          "2025-01-30",
          "2025-01-31",
          "2025-02-03",
          "2025-02-04",
          "2025-02-05",
          "2025-02-06",
          "2025-02-07",
          "2025-02-10",
          "2025-02-11",
          "2025-02-12",
          "2025-02-13",
          "2025-02-14",
          "2025-02-18",
          "2025-02-19",
          "2025-02-20",
          "2025-02-21",
          "2025-02-24",
          "2025-02-25",
          "2025-02-26",
          "2025-02-27",
          "2025-02-28",
          "2025-03-03",
          "2025-03-04",
          "2025-03-05",
          "2025-03-06",
          "2025-03-07",
          "2025-03-10",
          "2025-03-11",
          "2025-03-12",
          "2025-03-13",
          "2025-03-14",
          "2025-03-17",
          "2025-03-18",
          "2025-03-19",
          "2025-03-20",
          "2025-03-21",
          "2025-03-24",
          "2025-03-25",
          "2025-03-26",
          "2025-03-27",
          "2025-03-28",
          "2025-03-31",
          "2025-04-01",
          "2025-04-02",
          "2025-04-03",
          "2025-04-04",
          "2025-04-07",
          "2025-04-08",
          "2025-04-09",
          "2025-04-10",
          "2025-04-11",
          "2025-04-14",
          "2025-04-15",
          "2025-04-16",
          "2025-04-17",
          "2025-04-21",
          "2025-04-22",
          "2025-04-23",
          "2025-04-24",
          "2025-04-25",
          "2025-04-28",
          "2025-04-29",
          "2025-04-30",
          "2025-05-01",
          "2025-05-02",
          "2025-05-05",
          "2025-05-06",
          "2025-05-07",
          "2025-05-08",
          "2025-05-09",
          "2025-05-12",
          "2025-05-13",
          "2025-05-14",
          "2025-05-15",
          "2025-05-16",
          "2025-05-19",
          "2025-05-20",
          "2025-05-21",
          "2025-05-22",
          "2025-05-23",
          "2025-05-27",
          "2025-05-28",
          "2025-05-29",
          "2025-05-30",
          "2025-06-02",
          "2025-06-03",
          "2025-06-04",
          "2025-06-05",
          "2025-06-06",
          "2025-06-09",
          "2025-06-10",
          "2025-06-11",
          "2025-06-12",
          "2025-06-13",
          "2025-06-16",
          "2025-06-17",
          "2025-06-18",
          "2025-06-20",
          "2025-06-23",
          "2025-06-24",
          "2025-06-25",
          "2025-06-26",
          "2025-06-27",
          "2025-06-30",
          "2025-07-01",
          "2025-07-02",
          "2025-07-03",
          "2025-07-07",
          "2025-07-08",
          "2025-07-09",
          "2025-07-10",
          "2025-07-11",
          "2025-07-14",
          "2025-07-15",
          "2025-07-16",
          "2025-07-17",
          "2025-07-18",
          "2025-07-21",
          "2025-07-22",
          "2025-07-23",
          "2025-07-24",
          "2025-07-25",
          "2025-07-28",
          "2025-07-29",
          "2025-07-30",
          "2025-07-31",
          "2025-08-01",
          "2025-08-04",
          "2025-08-05",
          "2025-08-06",
          "2025-08-07",
          "2025-08-08",
          "2025-08-11",
          "2025-08-12",
          "2025-08-13",
          "2025-08-14",
          "2025-08-15",
          "2025-08-18",
          "2025-08-19",
          "2025-08-20",
          "2025-08-21",
          "2025-08-22",
          "2025-08-25",
          "2025-08-26",
          "2025-08-27",
          "2025-08-28",
          "2025-08-29",
          "2025-09-02",
          "2025-09-03",
          "2025-09-04",
          "2025-09-05",
          "2025-09-08",
          "2025-09-09",
          "2025-09-10"
         ],
         "xaxis": "x",
         "y": {
          "bdata": "AAAAAAAA+H8AAAAAAAD4fwAAAAAAAPh/AAAAAAAA+H8AAAAAAAD4fwAAAAAAAPh/AAAAAAAA+H8AAAAAAAD4fwAAAAAAAPh/AAAAAAAA+H8AAAAAAAD4fwAAAAAAAPh/AAAAAAAA+H8AAAAAAAD4fwAAAAAAAPh/AAAAAAAA+H8AAAAAAAD4fwAAAAAAAPh/AAAAAAAA+H8AAAAAAAD4fwAAAAAAAPh/AAAAAAAA+H8AAAAAAAD4fwAAAAAAAPh/AAAAAAAA+H8AAAAAAAD4fwAAAAAAAPh/AAAAAAAA+H8AAAAAAAD4fwAAAAAAAPh/AAAAAAAA+H8AAAAAAAD4fwAAAAAAAPh/AAAAAAAA+H8AAAAAAAD4fwAAAAAAAPh/AAAAAAAA+H8AAAAAAAD4fwAAAAAAAPh/AAAAAAAA+H8AAAAAAAD4fwAAAAAAAPh/AAAAAAAA+H8AAAAAAAD4fwAAAAAAAPh/AAAAAAAA+H8AAAAAAAD4fwAAAAAAAPh/AAAAAAAA+H/swDkjSsNmQHe+nxov1WZA3SQGgZXjZkAv3SQGge1mQJtVn6ut+GZAzH9Iv30BZ0CDwMqhRQpnQG4Sg8DKFWdAoImw4ekZZ0CJQWDl0B5nQNjw9EpZImdAutqK/WUjZ0D35GGh1iRnQIPAyqFFKmdAnBGlvcE3Z0DK5T+k30JnQNsbfGEyTWdA0bNZ9blaZ0DPZtXnamdnQDZeukkMbmdA2j15WKhxZ0BoImx4enVnQCBj7lpCemdAWKg1zTt+Z0BbZDvfT21nQGWIY13cYmdA7lpCPuhZZ0B4CyQoflBnQDEqqRPQRGdAo7Q3+MI0Z0Apfoy5ayVnQDhnRGlvGGdA3bWEfNALZ0A6RUdy+f9mQJvmHafo8GZAE9BE2PDkZkBDi2zn+9VmQNbFbTSAx2ZAA5oIG562ZkCvcmiR7aRmQB9j7lpClmZA8tJNYhCIZkAv3SQGgXVmQF8pyxDHYmZA0UTY8PRSZkAdp+hILkNmQBODwMqhMWZAmruWkA8iZkAKaCJseBJmQAG8BRIU/2VA/0P67evsZUCyLm6jAdxlQBPQRNjwyGVAOrTIdr6zZUBNpgpGJZ1lQLgehetRhGVAYAfOGVFqZUC/nxov3VBlQJLLf0i/OWVArwPnjCghZUAbwFsgQQFlQHKsi9to5GRAnKIjufzHZEAcWmQ736tkQI2XbhKDjGRAo5I6AU1sZEBfKcsQx0pkQBMUP8bcKWRATYQNT68IZECjtDf4wuxjQNXnaiv202NAFR3J5T+4Y0AfhetRuJpjQB3J5T+kf2NAxY8xdy11Y0AZc9cS8mVjQOf7qfHSWWNAE2HD0ytJY0DcRgN4CzxjQIQNT6+UMWNAzczMzMwkY0CcoiO5/BdjQPYGX5hMCWNAMuauJeT3YkD4MeauJexiQFdbsb/s3mJAVn2utmLTYkDxY8xdS8hiQBbZzvdTu2JAHOviNhqsYkBJLv8h/Z5iQLTqc7UVj2JAmggbnl59YkC9UpYhjmViQDqSy39IS2JAwaikTkAvYkBxrIvbaBRiQE1iEFg5/GFA3ZOHhVrjYUAtsp3vp8phQFyPwvUotGFAukkMAiufYUB9rrZif4lhQDqSy39Id2FAZvfkYaFmYUDWNO84RVdhQGIQWDm0SGFA2j15WKg5YUA7cM6I0iphQP32deCcHWFAu7iNBvAaYUC/fR04ZxhhQA1xrIvbFGFA/tR46SYRYUCUZYhjXQxhQL6fGi/dBGFAsVBrmnf8YEDctYR80PNgQBe30QDe6mBAnYAmwobjYEDxhclUwdxgQBNhw9Mr1WBAHOviNhrQYEBg5dAi28lgQJQYBFYOxWBAzTtO0ZG8YEBMpgpGJbFgQOm3rwPnpGBA5IOezaqXYEBRa5p3nIZgQKabxCCwemBANe84RUdqYEDMEMe6uF1gQC9uowG8UWBAXCBB8WM8YECqglFJnSxgQAAAAAAAHGBAxLEubqMNYEB+HThnRAFgQAkbnl4p619AGi/dJAbRX0B9HThnRLlfQLgehetRqF9AP8bctYSkX0DWxW00gJ9fQFr1udqKnV9AVg4tsp2XX0BkzF1LyI9fQB1aZDvfh19AKe0NvjCJX0AqqRPQRIhfQD9XW7G/hF9ApZvEILCCX0BNhA1Pr3xfQDLmriXkc19Au7iNBvBuX0APejarPm9fQACRfvs6cF9AqFfKMsRxX0AGgZVDi2xfQDSAt0CCYl9AzTtO0ZFUX0DvhclUwUhfQERpb/CFOV9AHFpkO98nX0C2FfvL7hlfQAwkKH6MEV9Afa62Yn8JX0BKe4MvTP5eQCgPC7Wm8V5AjSjtDb7gXkD67evAOdNeQHSTGARWxl5Arthfdk++XkC8dJMYBLZeQGkAb4EErV5AFK5H4XqkXkCAJsKGp6deQDMRNjy9ol5AGARWDi2iXkBEaW/whaFeQGgAb4EEpV5AyVTBqKSeXkCjkjoBTZxeQI6XbhKDqF5ACKwcWmSzXkDuycNCrcFeQMZtNIC3yF5A7snDQq3RXkCuR+F6FN5eQB+n6Egu515AxY8xdy35XkCI9NvXgQtfQLbz/dR4EV9AyXa+nxoXX0AOLbKd7x9fQGEyVTAqMV9AXynLEMdCX0AXJlMFo1JfQGMQWDm0YF9AysNCrWlmX0DpJjEIrGxfQI9TdCSXd19AMsSxLm6DX0ARpb3BF55fQKOSOgFNxF9A8x/Sb1/fX0BoImx4evVfQHS1FfvLBmBABOeMKO0VYEAGEhQ/xiRgQJzEILByMGBAl/+Qfvs+YEBhMlUwKlFgQB04Z0RpZ2BAe6UsQxx/YEDo2az6XJVgQMpUwaikqmBAMzMzMzPDYEDx0k1iENxgQHPXEvJB92BAyJi7lpATYUBc/kP67TNhQGTMXUvIT2FAgSbChqdrYUATYcPTK4lhQK+UZYhjoWFA+1xtxf62YUDVeOkmMdRhQKMjufyH8GFAhjjWxW0MYkCMSuoENCliQGq8dJMYSGJAfa62Yn9lYkDPZtXnaoNiQCP99nXgoGJAbjSAt0DCYkB/2T15WORiQEi/fR04B2NALdSa5h0nY0A=",
          "dtype": "f8"
         },
         "yaxis": "y"
        }
       ],
       "layout": {
        "annotations": [
         {
          "font": {
           "size": 8
          },
          "showarrow": false,
          "text": "Date: 2025-09-10, Open:176.13, High:178.93, Low:174.3, Close: 178.78",
          "x": 0.01,
          "xref": "x domain",
          "y": 1,
          "yref": "y domain"
         }
        ],
        "height": 400,
        "legend": {
         "font": {
          "size": 8
         },
         "title": {
          "font": {
           "family": "Arial"
          }
         }
        },
        "template": {
         "data": {
          "bar": [
           {
            "error_x": {
             "color": "#2a3f5f"
            },
            "error_y": {
             "color": "#2a3f5f"
            },
            "marker": {
             "line": {
              "color": "#E5ECF6",
              "width": 0.5
             },
             "pattern": {
              "fillmode": "overlay",
              "size": 10,
              "solidity": 0.2
             }
            },
            "type": "bar"
           }
          ],
          "barpolar": [
           {
            "marker": {
             "line": {
              "color": "#E5ECF6",
              "width": 0.5
             },
             "pattern": {
              "fillmode": "overlay",
              "size": 10,
              "solidity": 0.2
             }
            },
            "type": "barpolar"
           }
          ],
          "carpet": [
           {
            "aaxis": {
             "endlinecolor": "#2a3f5f",
             "gridcolor": "white",
             "linecolor": "white",
             "minorgridcolor": "white",
             "startlinecolor": "#2a3f5f"
            },
            "baxis": {
             "endlinecolor": "#2a3f5f",
             "gridcolor": "white",
             "linecolor": "white",
             "minorgridcolor": "white",
             "startlinecolor": "#2a3f5f"
            },
            "type": "carpet"
           }
          ],
          "choropleth": [
           {
            "colorbar": {
             "outlinewidth": 0,
             "ticks": ""
            },
            "type": "choropleth"
           }
          ],
          "contour": [
           {
            "colorbar": {
             "outlinewidth": 0,
             "ticks": ""
            },
            "colorscale": [
             [
              0,
              "#0d0887"
             ],
             [
              0.1111111111111111,
              "#46039f"
             ],
             [
              0.2222222222222222,
              "#7201a8"
             ],
             [
              0.3333333333333333,
              "#9c179e"
             ],
             [
              0.4444444444444444,
              "#bd3786"
             ],
             [
              0.5555555555555556,
              "#d8576b"
             ],
             [
              0.6666666666666666,
              "#ed7953"
             ],
             [
              0.7777777777777778,
              "#fb9f3a"
             ],
             [
              0.8888888888888888,
              "#fdca26"
             ],
             [
              1,
              "#f0f921"
             ]
            ],
            "type": "contour"
           }
          ],
          "contourcarpet": [
           {
            "colorbar": {
             "outlinewidth": 0,
             "ticks": ""
            },
            "type": "contourcarpet"
           }
          ],
          "heatmap": [
           {
            "colorbar": {
             "outlinewidth": 0,
             "ticks": ""
            },
            "colorscale": [
             [
              0,
              "#0d0887"
             ],
             [
              0.1111111111111111,
              "#46039f"
             ],
             [
              0.2222222222222222,
              "#7201a8"
             ],
             [
              0.3333333333333333,
              "#9c179e"
             ],
             [
              0.4444444444444444,
              "#bd3786"
             ],
             [
              0.5555555555555556,
              "#d8576b"
             ],
             [
              0.6666666666666666,
              "#ed7953"
             ],
             [
              0.7777777777777778,
              "#fb9f3a"
             ],
             [
              0.8888888888888888,
              "#fdca26"
             ],
             [
              1,
              "#f0f921"
             ]
            ],
            "type": "heatmap"
           }
          ],
          "histogram": [
           {
            "marker": {
             "pattern": {
              "fillmode": "overlay",
              "size": 10,
              "solidity": 0.2
             }
            },
            "type": "histogram"
           }
          ],
          "histogram2d": [
           {
            "colorbar": {
             "outlinewidth": 0,
             "ticks": ""
            },
            "colorscale": [
             [
              0,
              "#0d0887"
             ],
             [
              0.1111111111111111,
              "#46039f"
             ],
             [
              0.2222222222222222,
              "#7201a8"
             ],
             [
              0.3333333333333333,
              "#9c179e"
             ],
             [
              0.4444444444444444,
              "#bd3786"
             ],
             [
              0.5555555555555556,
              "#d8576b"
             ],
             [
              0.6666666666666666,
              "#ed7953"
             ],
             [
              0.7777777777777778,
              "#fb9f3a"
             ],
             [
              0.8888888888888888,
              "#fdca26"
             ],
             [
              1,
              "#f0f921"
             ]
            ],
            "type": "histogram2d"
           }
          ],
          "histogram2dcontour": [
           {
            "colorbar": {
             "outlinewidth": 0,
             "ticks": ""
            },
            "colorscale": [
             [
              0,
              "#0d0887"
             ],
             [
              0.1111111111111111,
              "#46039f"
             ],
             [
              0.2222222222222222,
              "#7201a8"
             ],
             [
              0.3333333333333333,
              "#9c179e"
             ],
             [
              0.4444444444444444,
              "#bd3786"
             ],
             [
              0.5555555555555556,
              "#d8576b"
             ],
             [
              0.6666666666666666,
              "#ed7953"
             ],
             [
              0.7777777777777778,
              "#fb9f3a"
             ],
             [
              0.8888888888888888,
              "#fdca26"
             ],
             [
              1,
              "#f0f921"
             ]
            ],
            "type": "histogram2dcontour"
           }
          ],
          "mesh3d": [
           {
            "colorbar": {
             "outlinewidth": 0,
             "ticks": ""
            },
            "type": "mesh3d"
           }
          ],
          "parcoords": [
           {
            "line": {
             "colorbar": {
              "outlinewidth": 0,
              "ticks": ""
             }
            },
            "type": "parcoords"
           }
          ],
          "pie": [
           {
            "automargin": true,
            "type": "pie"
           }
          ],
          "scatter": [
           {
            "fillpattern": {
             "fillmode": "overlay",
             "size": 10,
             "solidity": 0.2
            },
            "type": "scatter"
           }
          ],
          "scatter3d": [
           {
            "line": {
             "colorbar": {
              "outlinewidth": 0,
              "ticks": ""
             }
            },
            "marker": {
             "colorbar": {
              "outlinewidth": 0,
              "ticks": ""
             }
            },
            "type": "scatter3d"
           }
          ],
          "scattercarpet": [
           {
            "marker": {
             "colorbar": {
              "outlinewidth": 0,
              "ticks": ""
             }
            },
            "type": "scattercarpet"
           }
          ],
          "scattergeo": [
           {
            "marker": {
             "colorbar": {
              "outlinewidth": 0,
              "ticks": ""
             }
            },
            "type": "scattergeo"
           }
          ],
          "scattergl": [
           {
            "marker": {
             "colorbar": {
              "outlinewidth": 0,
              "ticks": ""
             }
            },
            "type": "scattergl"
           }
          ],
          "scattermap": [
           {
            "marker": {
             "colorbar": {
              "outlinewidth": 0,
              "ticks": ""
             }
            },
            "type": "scattermap"
           }
          ],
          "scattermapbox": [
           {
            "marker": {
             "colorbar": {
              "outlinewidth": 0,
              "ticks": ""
             }
            },
            "type": "scattermapbox"
           }
          ],
          "scatterpolar": [
           {
            "marker": {
             "colorbar": {
              "outlinewidth": 0,
              "ticks": ""
             }
            },
            "type": "scatterpolar"
           }
          ],
          "scatterpolargl": [
           {
            "marker": {
             "colorbar": {
              "outlinewidth": 0,
              "ticks": ""
             }
            },
            "type": "scatterpolargl"
           }
          ],
          "scatterternary": [
           {
            "marker": {
             "colorbar": {
              "outlinewidth": 0,
              "ticks": ""
             }
            },
            "type": "scatterternary"
           }
          ],
          "surface": [
           {
            "colorbar": {
             "outlinewidth": 0,
             "ticks": ""
            },
            "colorscale": [
             [
              0,
              "#0d0887"
             ],
             [
              0.1111111111111111,
              "#46039f"
             ],
             [
              0.2222222222222222,
              "#7201a8"
             ],
             [
              0.3333333333333333,
              "#9c179e"
             ],
             [
              0.4444444444444444,
              "#bd3786"
             ],
             [
              0.5555555555555556,
              "#d8576b"
             ],
             [
              0.6666666666666666,
              "#ed7953"
             ],
             [
              0.7777777777777778,
              "#fb9f3a"
             ],
             [
              0.8888888888888888,
              "#fdca26"
             ],
             [
              1,
              "#f0f921"
             ]
            ],
            "type": "surface"
           }
          ],
          "table": [
           {
            "cells": {
             "fill": {
              "color": "#EBF0F8"
             },
             "line": {
              "color": "white"
             }
            },
            "header": {
             "fill": {
              "color": "#C8D4E3"
             },
             "line": {
              "color": "white"
             }
            },
            "type": "table"
           }
          ]
         },
         "layout": {
          "annotationdefaults": {
           "arrowcolor": "#2a3f5f",
           "arrowhead": 0,
           "arrowwidth": 1
          },
          "autotypenumbers": "strict",
          "coloraxis": {
           "colorbar": {
            "outlinewidth": 0,
            "ticks": ""
           }
          },
          "colorscale": {
           "diverging": [
            [
             0,
             "#8e0152"
            ],
            [
             0.1,
             "#c51b7d"
            ],
            [
             0.2,
             "#de77ae"
            ],
            [
             0.3,
             "#f1b6da"
            ],
            [
             0.4,
             "#fde0ef"
            ],
            [
             0.5,
             "#f7f7f7"
            ],
            [
             0.6,
             "#e6f5d0"
            ],
            [
             0.7,
             "#b8e186"
            ],
            [
             0.8,
             "#7fbc41"
            ],
            [
             0.9,
             "#4d9221"
            ],
            [
             1,
             "#276419"
            ]
           ],
           "sequential": [
            [
             0,
             "#0d0887"
            ],
            [
             0.1111111111111111,
             "#46039f"
            ],
            [
             0.2222222222222222,
             "#7201a8"
            ],
            [
             0.3333333333333333,
             "#9c179e"
            ],
            [
             0.4444444444444444,
             "#bd3786"
            ],
            [
             0.5555555555555556,
             "#d8576b"
            ],
            [
             0.6666666666666666,
             "#ed7953"
            ],
            [
             0.7777777777777778,
             "#fb9f3a"
            ],
            [
             0.8888888888888888,
             "#fdca26"
            ],
            [
             1,
             "#f0f921"
            ]
           ],
           "sequentialminus": [
            [
             0,
             "#0d0887"
            ],
            [
             0.1111111111111111,
             "#46039f"
            ],
            [
             0.2222222222222222,
             "#7201a8"
            ],
            [
             0.3333333333333333,
             "#9c179e"
            ],
            [
             0.4444444444444444,
             "#bd3786"
            ],
            [
             0.5555555555555556,
             "#d8576b"
            ],
            [
             0.6666666666666666,
             "#ed7953"
            ],
            [
             0.7777777777777778,
             "#fb9f3a"
            ],
            [
             0.8888888888888888,
             "#fdca26"
            ],
            [
             1,
             "#f0f921"
            ]
           ]
          },
          "colorway": [
           "#636efa",
           "#EF553B",
           "#00cc96",
           "#ab63fa",
           "#FFA15A",
           "#19d3f3",
           "#FF6692",
           "#B6E880",
           "#FF97FF",
           "#FECB52"
          ],
          "font": {
           "color": "#2a3f5f"
          },
          "geo": {
           "bgcolor": "white",
           "lakecolor": "white",
           "landcolor": "#E5ECF6",
           "showlakes": true,
           "showland": true,
           "subunitcolor": "white"
          },
          "hoverlabel": {
           "align": "left"
          },
          "hovermode": "closest",
          "mapbox": {
           "style": "light"
          },
          "paper_bgcolor": "white",
          "plot_bgcolor": "#E5ECF6",
          "polar": {
           "angularaxis": {
            "gridcolor": "white",
            "linecolor": "white",
            "ticks": ""
           },
           "bgcolor": "#E5ECF6",
           "radialaxis": {
            "gridcolor": "white",
            "linecolor": "white",
            "ticks": ""
           }
          },
          "scene": {
           "xaxis": {
            "backgroundcolor": "#E5ECF6",
            "gridcolor": "white",
            "gridwidth": 2,
            "linecolor": "white",
            "showbackground": true,
            "ticks": "",
            "zerolinecolor": "white"
           },
           "yaxis": {
            "backgroundcolor": "#E5ECF6",
            "gridcolor": "white",
            "gridwidth": 2,
            "linecolor": "white",
            "showbackground": true,
            "ticks": "",
            "zerolinecolor": "white"
           },
           "zaxis": {
            "backgroundcolor": "#E5ECF6",
            "gridcolor": "white",
            "gridwidth": 2,
            "linecolor": "white",
            "showbackground": true,
            "ticks": "",
            "zerolinecolor": "white"
           }
          },
          "shapedefaults": {
           "line": {
            "color": "#2a3f5f"
           }
          },
          "ternary": {
           "aaxis": {
            "gridcolor": "white",
            "linecolor": "white",
            "ticks": ""
           },
           "baxis": {
            "gridcolor": "white",
            "linecolor": "white",
            "ticks": ""
           },
           "bgcolor": "#E5ECF6",
           "caxis": {
            "gridcolor": "white",
            "linecolor": "white",
            "ticks": ""
           }
          },
          "title": {
           "x": 0.05
          },
          "xaxis": {
           "automargin": true,
           "gridcolor": "white",
           "linecolor": "white",
           "ticks": "",
           "title": {
            "standoff": 15
           },
           "zerolinecolor": "white",
           "zerolinewidth": 2
          },
          "yaxis": {
           "automargin": true,
           "gridcolor": "white",
           "linecolor": "white",
           "ticks": "",
           "title": {
            "standoff": 15
           },
           "zerolinecolor": "white",
           "zerolinewidth": 2
          }
         }
        },
        "title": {
         "text": "TOP 20",
         "x": 0.5
        },
        "width": 600,
        "xaxis": {
         "anchor": "y",
         "domain": [
          0,
          0.94
         ]
        },
        "yaxis": {
         "anchor": "x",
         "domain": [
          0,
          1
         ],
         "side": "right"
        },
        "yaxis2": {
         "anchor": "x",
         "overlaying": "y",
         "side": "right"
        }
       }
      }
     },
     "metadata": {},
     "output_type": "display_data"
    }
   ],
   "source": [
    "\n",
    "\n",
    "import warnings\n",
    "warnings.filterwarnings('ignore')\n",
    "\n",
    "from yfinance_utils import list_utils, file_utils\n",
    "from plotly.subplots import make_subplots\n",
    "import plotly.graph_objects as go\n",
    "from finta import TA\n",
    "from yfinance_utils import list_utils\n",
    "import time\n",
    "from datetime import datetime\n",
    "\n",
    "today = datetime.today().strftime('%Y-%m-%d')\n",
    "NUMBER_OF_TOP_PERFORMERS = 20\n",
    "PERIOD = 50\n",
    "\n",
    "_list = list_utils.get_short_list()\n",
    "_top = list_utils.get_top_performers(_list, size=NUMBER_OF_TOP_PERFORMERS)\n",
    "_sym = dict(_top)\n",
    "for _s in _sym:\n",
    "    time.sleep(5)\n",
    "    data = file_utils.get_history(_s)\n",
    "    _f=make_subplots(specs=[[{\"secondary_y\": True}]])\n",
    "    _f.update_layout(title=f\"TOP {NUMBER_OF_TOP_PERFORMERS}\", title_x=0.5, width=600, height=400)\n",
    "\n",
    "    data.columns = COLUMNS\n",
    "    data['sma'] = TA.SMA(data, period=PERIOD)\n",
    "    data.reset_index(inplace=True)\n",
    "    _f.add_trace(\n",
    "        go.Scatter(y=data['Close'], x=data['Date'], name=f\"{_s}: {_sym[_s]} %\"),\n",
    "        secondary_y=False\n",
    "    )\n",
    "    _f.add_trace(\n",
    "        go.Scatter(y=data['sma'], x=data['Date'], name=f'SMA {PERIOD}'),\n",
    "        secondary_y=False\n",
    "    )\n",
    "    _f.update_yaxes(side='right')\n",
    "    price = f\"Date: {today}, Open:{round(data['Open'].iloc[-1],2)}, High:{round(data['High'].iloc[-1],2)}, Low:{round(data['Low'].iloc[-1],2)}, Close: {round(data['Close'].iloc[-1],2)}\"\n",
    "    _f.add_annotation(xref='x domain',\n",
    "                    yref='y domain',\n",
    "                    x=0.01,\n",
    "                    y=1,\n",
    "                    text=price, \n",
    "                    showarrow=False,\n",
    "                    font=dict(size=8),\n",
    "                    row=1, col=1)\n",
    "    _f.update_layout(legend={\"title_font_family\":\"Arial\", \"font\":{\"size\":8}})\n",
    "    _f.show()\n",
    "\n",
    "if save_to_mongo:\n",
    "    _sym['DATE'] = datetime.today().strftime('%Y-%m-%d')\n",
    "    file_utils.save_to_mongo(_sym, \"top_performers\")"
   ]
  },
  {
   "cell_type": "code",
   "execution_count": null,
   "metadata": {},
   "outputs": [
    {
     "name": "stdout",
     "output_type": "stream",
     "text": [
      "The END\n"
     ]
    }
   ],
   "source": [
    "print('The END')"
   ]
  }
 ],
 "metadata": {
  "kernelspec": {
   "display_name": ".venv",
   "language": "python",
   "name": "python3"
  },
  "language_info": {
   "codemirror_mode": {
    "name": "ipython",
    "version": 3
   },
   "file_extension": ".py",
   "mimetype": "text/x-python",
   "name": "python",
   "nbconvert_exporter": "python",
   "pygments_lexer": "ipython3",
   "version": "3.13.7"
  }
 },
 "nbformat": 4,
 "nbformat_minor": 2
}
