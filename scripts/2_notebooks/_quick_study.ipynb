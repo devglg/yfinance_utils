{
 "cells": [
  {
   "cell_type": "markdown",
   "metadata": {},
   "source": [
    "Copyright 2024 Lehi Gracia"
   ]
  },
  {
   "cell_type": "code",
   "execution_count": 1,
   "metadata": {},
   "outputs": [],
   "source": [
    "STOCK = 'TSLA'"
   ]
  },
  {
   "cell_type": "code",
   "execution_count": 2,
   "metadata": {},
   "outputs": [
    {
     "name": "stdout",
     "output_type": "stream",
     "text": [
      "2025-01-15  Is Tesla Stock a Buy Before Jan. 20?-Lehi\n",
      "2025-01-15  S&P 500 Gains and Losses Today: Bank Earnings, Soft Inflation Help Boost Index-Lehi\n",
      "2025-01-15  Incoming Transportation Secretary Commits to Continue Safety Probes Into Tesla Vehicles-Lehi\n",
      "2025-01-15  SEC Sues Elon Musk Over Twitter Purchase-Lehi\n",
      "2025-01-15  Tesla Stock Is Soaring. Inflation Trumps the SEC.-Lehi\n",
      "2025-01-15  Is Tesla Stock A Buy Or A Sell Amid Donald Trump's White House Return And Q4 Earnings?-Lehi\n",
      "2025-01-15  Magnificent Seven Stocks: Nvidia, Tesla, Apple Rally; Meta Retakes Buy Point-Lehi\n",
      "2025-01-15  Transportation secretary pick vows to buck any pressure to help Elon Musk in agency probes of Tesla-Lehi\n"
     ]
    }
   ],
   "source": [
    "\n",
    "import warnings\n",
    "warnings.filterwarnings('ignore')\n",
    "\n",
    "import yfinance\n",
    "from datetime import datetime\n",
    "\n",
    "t = yfinance.Ticker(STOCK)\n",
    "n = t.news\n",
    "for i in n:\n",
    "    print(f\"{datetime.fromtimestamp(i['providerPublishTime']).strftime('%Y-%m-%d')}  {i['title']}-Lehi\")"
   ]
  },
  {
   "cell_type": "markdown",
   "metadata": {},
   "source": [
    "### Ratings UP and DOWN"
   ]
  },
  {
   "cell_type": "code",
   "execution_count": 3,
   "metadata": {},
   "outputs": [
    {
     "name": "stdout",
     "output_type": "stream",
     "text": [
      "20  up\n",
      "13  down\n",
      "48  total\n",
      "15  hold\n"
     ]
    }
   ],
   "source": [
    "\n",
    "from yfinance_utils import financials_utils\n",
    "\n",
    "ratings = financials_utils.get_ratings(t)\n",
    "for i in ratings.keys():\n",
    "    print(f\"{ratings[i]}  {i}\")\n",
    "\n"
   ]
  },
  {
   "cell_type": "markdown",
   "metadata": {},
   "source": [
    "### Total Ratings"
   ]
  },
  {
   "cell_type": "code",
   "execution_count": 4,
   "metadata": {},
   "outputs": [
    {
     "data": {
      "application/vnd.plotly.v1+json": {
       "config": {
        "plotlyServerURL": "https://plot.ly"
       },
       "data": [
        {
         "domain": {
          "x": [
           0,
           1
          ],
          "y": [
           0,
           1
          ]
         },
         "hovertemplate": "label=%{label}<br>value=%{value}<extra></extra>",
         "labels": [
          "Equal-Weight",
          "Overweight",
          "Neutral",
          "Buy",
          "In-Line",
          "Hold",
          "Sell",
          "Outperform",
          "Underweight",
          "Reduce",
          "Perform",
          "Underperform",
          "Market Perform",
          "Strong Buy",
          "Peer Perform",
          "Sector Perform",
          "Market Outperform",
          "Underperformer",
          "Sector Weight",
          ""
         ],
         "legendgroup": "",
         "name": "",
         "showlegend": true,
         "type": "pie",
         "values": [
          51,
          100,
          178,
          180,
          12,
          83,
          66,
          149,
          55,
          4,
          9,
          45,
          15,
          12,
          3,
          11,
          8,
          1,
          1,
          3
         ]
        }
       ],
       "layout": {
        "height": 400,
        "legend": {
         "tracegroupgap": 0
        },
        "template": {
         "data": {
          "bar": [
           {
            "error_x": {
             "color": "#2a3f5f"
            },
            "error_y": {
             "color": "#2a3f5f"
            },
            "marker": {
             "line": {
              "color": "#E5ECF6",
              "width": 0.5
             },
             "pattern": {
              "fillmode": "overlay",
              "size": 10,
              "solidity": 0.2
             }
            },
            "type": "bar"
           }
          ],
          "barpolar": [
           {
            "marker": {
             "line": {
              "color": "#E5ECF6",
              "width": 0.5
             },
             "pattern": {
              "fillmode": "overlay",
              "size": 10,
              "solidity": 0.2
             }
            },
            "type": "barpolar"
           }
          ],
          "carpet": [
           {
            "aaxis": {
             "endlinecolor": "#2a3f5f",
             "gridcolor": "white",
             "linecolor": "white",
             "minorgridcolor": "white",
             "startlinecolor": "#2a3f5f"
            },
            "baxis": {
             "endlinecolor": "#2a3f5f",
             "gridcolor": "white",
             "linecolor": "white",
             "minorgridcolor": "white",
             "startlinecolor": "#2a3f5f"
            },
            "type": "carpet"
           }
          ],
          "choropleth": [
           {
            "colorbar": {
             "outlinewidth": 0,
             "ticks": ""
            },
            "type": "choropleth"
           }
          ],
          "contour": [
           {
            "colorbar": {
             "outlinewidth": 0,
             "ticks": ""
            },
            "colorscale": [
             [
              0,
              "#0d0887"
             ],
             [
              0.1111111111111111,
              "#46039f"
             ],
             [
              0.2222222222222222,
              "#7201a8"
             ],
             [
              0.3333333333333333,
              "#9c179e"
             ],
             [
              0.4444444444444444,
              "#bd3786"
             ],
             [
              0.5555555555555556,
              "#d8576b"
             ],
             [
              0.6666666666666666,
              "#ed7953"
             ],
             [
              0.7777777777777778,
              "#fb9f3a"
             ],
             [
              0.8888888888888888,
              "#fdca26"
             ],
             [
              1,
              "#f0f921"
             ]
            ],
            "type": "contour"
           }
          ],
          "contourcarpet": [
           {
            "colorbar": {
             "outlinewidth": 0,
             "ticks": ""
            },
            "type": "contourcarpet"
           }
          ],
          "heatmap": [
           {
            "colorbar": {
             "outlinewidth": 0,
             "ticks": ""
            },
            "colorscale": [
             [
              0,
              "#0d0887"
             ],
             [
              0.1111111111111111,
              "#46039f"
             ],
             [
              0.2222222222222222,
              "#7201a8"
             ],
             [
              0.3333333333333333,
              "#9c179e"
             ],
             [
              0.4444444444444444,
              "#bd3786"
             ],
             [
              0.5555555555555556,
              "#d8576b"
             ],
             [
              0.6666666666666666,
              "#ed7953"
             ],
             [
              0.7777777777777778,
              "#fb9f3a"
             ],
             [
              0.8888888888888888,
              "#fdca26"
             ],
             [
              1,
              "#f0f921"
             ]
            ],
            "type": "heatmap"
           }
          ],
          "heatmapgl": [
           {
            "colorbar": {
             "outlinewidth": 0,
             "ticks": ""
            },
            "colorscale": [
             [
              0,
              "#0d0887"
             ],
             [
              0.1111111111111111,
              "#46039f"
             ],
             [
              0.2222222222222222,
              "#7201a8"
             ],
             [
              0.3333333333333333,
              "#9c179e"
             ],
             [
              0.4444444444444444,
              "#bd3786"
             ],
             [
              0.5555555555555556,
              "#d8576b"
             ],
             [
              0.6666666666666666,
              "#ed7953"
             ],
             [
              0.7777777777777778,
              "#fb9f3a"
             ],
             [
              0.8888888888888888,
              "#fdca26"
             ],
             [
              1,
              "#f0f921"
             ]
            ],
            "type": "heatmapgl"
           }
          ],
          "histogram": [
           {
            "marker": {
             "pattern": {
              "fillmode": "overlay",
              "size": 10,
              "solidity": 0.2
             }
            },
            "type": "histogram"
           }
          ],
          "histogram2d": [
           {
            "colorbar": {
             "outlinewidth": 0,
             "ticks": ""
            },
            "colorscale": [
             [
              0,
              "#0d0887"
             ],
             [
              0.1111111111111111,
              "#46039f"
             ],
             [
              0.2222222222222222,
              "#7201a8"
             ],
             [
              0.3333333333333333,
              "#9c179e"
             ],
             [
              0.4444444444444444,
              "#bd3786"
             ],
             [
              0.5555555555555556,
              "#d8576b"
             ],
             [
              0.6666666666666666,
              "#ed7953"
             ],
             [
              0.7777777777777778,
              "#fb9f3a"
             ],
             [
              0.8888888888888888,
              "#fdca26"
             ],
             [
              1,
              "#f0f921"
             ]
            ],
            "type": "histogram2d"
           }
          ],
          "histogram2dcontour": [
           {
            "colorbar": {
             "outlinewidth": 0,
             "ticks": ""
            },
            "colorscale": [
             [
              0,
              "#0d0887"
             ],
             [
              0.1111111111111111,
              "#46039f"
             ],
             [
              0.2222222222222222,
              "#7201a8"
             ],
             [
              0.3333333333333333,
              "#9c179e"
             ],
             [
              0.4444444444444444,
              "#bd3786"
             ],
             [
              0.5555555555555556,
              "#d8576b"
             ],
             [
              0.6666666666666666,
              "#ed7953"
             ],
             [
              0.7777777777777778,
              "#fb9f3a"
             ],
             [
              0.8888888888888888,
              "#fdca26"
             ],
             [
              1,
              "#f0f921"
             ]
            ],
            "type": "histogram2dcontour"
           }
          ],
          "mesh3d": [
           {
            "colorbar": {
             "outlinewidth": 0,
             "ticks": ""
            },
            "type": "mesh3d"
           }
          ],
          "parcoords": [
           {
            "line": {
             "colorbar": {
              "outlinewidth": 0,
              "ticks": ""
             }
            },
            "type": "parcoords"
           }
          ],
          "pie": [
           {
            "automargin": true,
            "type": "pie"
           }
          ],
          "scatter": [
           {
            "fillpattern": {
             "fillmode": "overlay",
             "size": 10,
             "solidity": 0.2
            },
            "type": "scatter"
           }
          ],
          "scatter3d": [
           {
            "line": {
             "colorbar": {
              "outlinewidth": 0,
              "ticks": ""
             }
            },
            "marker": {
             "colorbar": {
              "outlinewidth": 0,
              "ticks": ""
             }
            },
            "type": "scatter3d"
           }
          ],
          "scattercarpet": [
           {
            "marker": {
             "colorbar": {
              "outlinewidth": 0,
              "ticks": ""
             }
            },
            "type": "scattercarpet"
           }
          ],
          "scattergeo": [
           {
            "marker": {
             "colorbar": {
              "outlinewidth": 0,
              "ticks": ""
             }
            },
            "type": "scattergeo"
           }
          ],
          "scattergl": [
           {
            "marker": {
             "colorbar": {
              "outlinewidth": 0,
              "ticks": ""
             }
            },
            "type": "scattergl"
           }
          ],
          "scattermapbox": [
           {
            "marker": {
             "colorbar": {
              "outlinewidth": 0,
              "ticks": ""
             }
            },
            "type": "scattermapbox"
           }
          ],
          "scatterpolar": [
           {
            "marker": {
             "colorbar": {
              "outlinewidth": 0,
              "ticks": ""
             }
            },
            "type": "scatterpolar"
           }
          ],
          "scatterpolargl": [
           {
            "marker": {
             "colorbar": {
              "outlinewidth": 0,
              "ticks": ""
             }
            },
            "type": "scatterpolargl"
           }
          ],
          "scatterternary": [
           {
            "marker": {
             "colorbar": {
              "outlinewidth": 0,
              "ticks": ""
             }
            },
            "type": "scatterternary"
           }
          ],
          "surface": [
           {
            "colorbar": {
             "outlinewidth": 0,
             "ticks": ""
            },
            "colorscale": [
             [
              0,
              "#0d0887"
             ],
             [
              0.1111111111111111,
              "#46039f"
             ],
             [
              0.2222222222222222,
              "#7201a8"
             ],
             [
              0.3333333333333333,
              "#9c179e"
             ],
             [
              0.4444444444444444,
              "#bd3786"
             ],
             [
              0.5555555555555556,
              "#d8576b"
             ],
             [
              0.6666666666666666,
              "#ed7953"
             ],
             [
              0.7777777777777778,
              "#fb9f3a"
             ],
             [
              0.8888888888888888,
              "#fdca26"
             ],
             [
              1,
              "#f0f921"
             ]
            ],
            "type": "surface"
           }
          ],
          "table": [
           {
            "cells": {
             "fill": {
              "color": "#EBF0F8"
             },
             "line": {
              "color": "white"
             }
            },
            "header": {
             "fill": {
              "color": "#C8D4E3"
             },
             "line": {
              "color": "white"
             }
            },
            "type": "table"
           }
          ]
         },
         "layout": {
          "annotationdefaults": {
           "arrowcolor": "#2a3f5f",
           "arrowhead": 0,
           "arrowwidth": 1
          },
          "autotypenumbers": "strict",
          "coloraxis": {
           "colorbar": {
            "outlinewidth": 0,
            "ticks": ""
           }
          },
          "colorscale": {
           "diverging": [
            [
             0,
             "#8e0152"
            ],
            [
             0.1,
             "#c51b7d"
            ],
            [
             0.2,
             "#de77ae"
            ],
            [
             0.3,
             "#f1b6da"
            ],
            [
             0.4,
             "#fde0ef"
            ],
            [
             0.5,
             "#f7f7f7"
            ],
            [
             0.6,
             "#e6f5d0"
            ],
            [
             0.7,
             "#b8e186"
            ],
            [
             0.8,
             "#7fbc41"
            ],
            [
             0.9,
             "#4d9221"
            ],
            [
             1,
             "#276419"
            ]
           ],
           "sequential": [
            [
             0,
             "#0d0887"
            ],
            [
             0.1111111111111111,
             "#46039f"
            ],
            [
             0.2222222222222222,
             "#7201a8"
            ],
            [
             0.3333333333333333,
             "#9c179e"
            ],
            [
             0.4444444444444444,
             "#bd3786"
            ],
            [
             0.5555555555555556,
             "#d8576b"
            ],
            [
             0.6666666666666666,
             "#ed7953"
            ],
            [
             0.7777777777777778,
             "#fb9f3a"
            ],
            [
             0.8888888888888888,
             "#fdca26"
            ],
            [
             1,
             "#f0f921"
            ]
           ],
           "sequentialminus": [
            [
             0,
             "#0d0887"
            ],
            [
             0.1111111111111111,
             "#46039f"
            ],
            [
             0.2222222222222222,
             "#7201a8"
            ],
            [
             0.3333333333333333,
             "#9c179e"
            ],
            [
             0.4444444444444444,
             "#bd3786"
            ],
            [
             0.5555555555555556,
             "#d8576b"
            ],
            [
             0.6666666666666666,
             "#ed7953"
            ],
            [
             0.7777777777777778,
             "#fb9f3a"
            ],
            [
             0.8888888888888888,
             "#fdca26"
            ],
            [
             1,
             "#f0f921"
            ]
           ]
          },
          "colorway": [
           "#636efa",
           "#EF553B",
           "#00cc96",
           "#ab63fa",
           "#FFA15A",
           "#19d3f3",
           "#FF6692",
           "#B6E880",
           "#FF97FF",
           "#FECB52"
          ],
          "font": {
           "color": "#2a3f5f"
          },
          "geo": {
           "bgcolor": "white",
           "lakecolor": "white",
           "landcolor": "#E5ECF6",
           "showlakes": true,
           "showland": true,
           "subunitcolor": "white"
          },
          "hoverlabel": {
           "align": "left"
          },
          "hovermode": "closest",
          "mapbox": {
           "style": "light"
          },
          "paper_bgcolor": "white",
          "plot_bgcolor": "#E5ECF6",
          "polar": {
           "angularaxis": {
            "gridcolor": "white",
            "linecolor": "white",
            "ticks": ""
           },
           "bgcolor": "#E5ECF6",
           "radialaxis": {
            "gridcolor": "white",
            "linecolor": "white",
            "ticks": ""
           }
          },
          "scene": {
           "xaxis": {
            "backgroundcolor": "#E5ECF6",
            "gridcolor": "white",
            "gridwidth": 2,
            "linecolor": "white",
            "showbackground": true,
            "ticks": "",
            "zerolinecolor": "white"
           },
           "yaxis": {
            "backgroundcolor": "#E5ECF6",
            "gridcolor": "white",
            "gridwidth": 2,
            "linecolor": "white",
            "showbackground": true,
            "ticks": "",
            "zerolinecolor": "white"
           },
           "zaxis": {
            "backgroundcolor": "#E5ECF6",
            "gridcolor": "white",
            "gridwidth": 2,
            "linecolor": "white",
            "showbackground": true,
            "ticks": "",
            "zerolinecolor": "white"
           }
          },
          "shapedefaults": {
           "line": {
            "color": "#2a3f5f"
           }
          },
          "ternary": {
           "aaxis": {
            "gridcolor": "white",
            "linecolor": "white",
            "ticks": ""
           },
           "baxis": {
            "gridcolor": "white",
            "linecolor": "white",
            "ticks": ""
           },
           "bgcolor": "#E5ECF6",
           "caxis": {
            "gridcolor": "white",
            "linecolor": "white",
            "ticks": ""
           }
          },
          "title": {
           "x": 0.05
          },
          "xaxis": {
           "automargin": true,
           "gridcolor": "white",
           "linecolor": "white",
           "ticks": "",
           "title": {
            "standoff": 15
           },
           "zerolinecolor": "white",
           "zerolinewidth": 2
          },
          "yaxis": {
           "automargin": true,
           "gridcolor": "white",
           "linecolor": "white",
           "ticks": "",
           "title": {
            "standoff": 15
           },
           "zerolinecolor": "white",
           "zerolinewidth": 2
          }
         }
        },
        "title": {
         "text": "Ratings for TSLA"
        },
        "width": 600
       }
      }
     },
     "metadata": {},
     "output_type": "display_data"
    }
   ],
   "source": [
    "\n",
    "import plotly.express as px\n",
    "from collections import Counter\n",
    "\n",
    "dupdown = t.get_upgrades_downgrades()\n",
    "grades = list(dupdown['ToGrade'])\n",
    "\n",
    "values = list(Counter(grades).values())\n",
    "keys = list(Counter(grades).keys())\n",
    "\n",
    "fig3 = px.pie(values=values, names=keys, title=f'Ratings for {STOCK}', width=600, height=400)\n",
    "fig3.update_layout()\n",
    "\n",
    "fig3.show()"
   ]
  },
  {
   "cell_type": "code",
   "execution_count": 5,
   "metadata": {},
   "outputs": [
    {
     "data": {
      "application/vnd.plotly.v1+json": {
       "config": {
        "plotlyServerURL": "https://plot.ly"
       },
       "data": [
        {
         "close": [
          219.91,
          215.55,
          211.88,
          212.19,
          208.8,
          209.14,
          207.83,
          182.63,
          183.25,
          190.93,
          191.59,
          187.29,
          188.86,
          187.91,
          181.06,
          185.1,
          187.58,
          189.56,
          193.57,
          188.13,
          184.02,
          188.71,
          200.45,
          199.95,
          193.76,
          194.77,
          197.41,
          191.97,
          199.4,
          199.73,
          202.04,
          201.88,
          202.64,
          188.14,
          180.74,
          176.54,
          178.65,
          175.34,
          177.77,
          177.54,
          169.48,
          162.5,
          163.57,
          173.8,
          171.32,
          175.66,
          172.82,
          170.83,
          172.63,
          177.67,
          179.83,
          175.79,
          175.22,
          166.63,
          168.38,
          171.11,
          164.9,
          172.98,
          176.88,
          171.76,
          174.6,
          171.05,
          161.48,
          157.11,
          155.45,
          149.93,
          147.05,
          142.05,
          144.68,
          162.13,
          170.18,
          168.29,
          194.05,
          183.28,
          179.99,
          180.01,
          181.19,
          184.76,
          177.81,
          174.72,
          171.97,
          168.47,
          171.89,
          177.55,
          173.99,
          174.84,
          177.46,
          174.95,
          186.6,
          180.11,
          173.74,
          179.24,
          176.75,
          176.19,
          178.79,
          178.08,
          176.29,
          174.77,
          175,
          177.94,
          177.48,
          173.79,
          170.66,
          177.29,
          182.47,
          178.01,
          187.44,
          184.86,
          181.57,
          183.01,
          182.58,
          187.35,
          196.37,
          197.42,
          197.88,
          209.86,
          231.26,
          246.39,
          251.52,
          252.94,
          262.33,
          263.26,
          241.03,
          248.23,
          252.64,
          256.56,
          248.5,
          249.23,
          239.2,
          251.51,
          246.38,
          215.99,
          220.25,
          219.8,
          232.1,
          222.62,
          232.07,
          216.86,
          207.67,
          198.88,
          200.64,
          191.76,
          198.84,
          200,
          197.49,
          207.83,
          201.38,
          214.14,
          216.12,
          222.72,
          221.1,
          223.27,
          210.66,
          220.32,
          213.21,
          209.21,
          205.75,
          206.28,
          214.11,
          210.6,
          219.41,
          230.17,
          210.73,
          216.27,
          226.17,
          228.13,
          229.81,
          230.29,
          226.78,
          227.87,
          227.2,
          243.92,
          238.25,
          250,
          254.27,
          257.02,
          254.22,
          260.46,
          261.63,
          258.02,
          249.02,
          240.66,
          250.08,
          240.83,
          244.5,
          241.05,
          238.77,
          217.8,
          219.16,
          219.57,
          221.33,
          220.89,
          220.7,
          218.85,
          217.97,
          213.65,
          260.48,
          269.19,
          262.51,
          259.52,
          257.55,
          249.85,
          248.98,
          242.84,
          251.44,
          288.53,
          296.91,
          321.22,
          350,
          328.49,
          330.24,
          311.18,
          320.72,
          338.74,
          346,
          342.03,
          339.64,
          352.56,
          338.59,
          338.23,
          332.89,
          345.16,
          357.09,
          351.42,
          357.93,
          369.49,
          389.22,
          389.79,
          400.99,
          424.77,
          418.1,
          436.23,
          463.02,
          479.86,
          440.13,
          436.17,
          421.06,
          430.6,
          462.28,
          454.13,
          431.66,
          417.41,
          403.84,
          379.28,
          410.44,
          411.05,
          394.36,
          394.94,
          394.74,
          403.31,
          396.36,
          428.22
         ],
         "high": [
          223.49,
          215.67,
          217.45,
          213.19,
          217.8,
          215.65,
          212.73,
          193,
          186.78,
          191.48,
          196.36,
          193.97,
          189.88,
          188.69,
          184.68,
          186.49,
          189.79,
          191.62,
          194.12,
          194.73,
          187.26,
          188.89,
          200.88,
          203.17,
          198.6,
          199.44,
          198.32,
          197.57,
          201.78,
          205.6,
          205.3,
          205.28,
          204.52,
          199.75,
          184.59,
          181.58,
          180.04,
          182.73,
          182.87,
          179.43,
          176.05,
          171.17,
          165.18,
          174.72,
          172.82,
          176.25,
          178.18,
          171.2,
          175.24,
          184.25,
          181.91,
          179.57,
          176.75,
          167.69,
          168.82,
          177.19,
          170.86,
          174.5,
          179.22,
          174.93,
          175.88,
          173.81,
          170.69,
          158.19,
          158.33,
          152.2,
          150.94,
          144.44,
          147.26,
          167.97,
          170.88,
          172.12,
          198.87,
          190.95,
          185.86,
          184.6,
          184.78,
          187.56,
          183.26,
          176.06,
          175.62,
          173.06,
          175.4,
          179.49,
          180,
          175.79,
          179.63,
          177.75,
          186.88,
          183.8,
          181.9,
          180.08,
          178.25,
          178.15,
          182.67,
          180.32,
          182.64,
          177.76,
          176.15,
          179.73,
          179.35,
          178.57,
          174.75,
          180.55,
          191.08,
          186,
          188.81,
          187.2,
          185.21,
          183.95,
          188.8,
          187.97,
          197.76,
          198.72,
          203.2,
          213.23,
          231.3,
          248.35,
          252.37,
          259.44,
          265.61,
          267.59,
          271,
          251.84,
          265.6,
          258.62,
          258.47,
          257.14,
          249.44,
          253.21,
          255.76,
          225.99,
          226,
          222.28,
          234.27,
          232.41,
          234.68,
          231.87,
          216.13,
          203.88,
          202.9,
          203.49,
          200.7,
          200.88,
          199.26,
          208.49,
          208.44,
          215.88,
          219.8,
          222.98,
          228.22,
          224.66,
          224.8,
          221.48,
          219.09,
          215.66,
          211.84,
          214.89,
          214.57,
          219.9,
          222.22,
          235,
          233.6,
          219.87,
          226.4,
          228.47,
          231.45,
          232.67,
          229.96,
          234.57,
          235.68,
          244.24,
          243.99,
          250,
          257.19,
          257.05,
          261.75,
          260.7,
          264.86,
          263.98,
          251.16,
          249.79,
          250.96,
          249.83,
          246.21,
          247.43,
          242.79,
          223.34,
          221.91,
          224.26,
          222.82,
          222.08,
          222.28,
          220.48,
          218.22,
          218.72,
          262.12,
          269.49,
          273.54,
          264.98,
          263.35,
          259.75,
          254,
          248.9,
          255.28,
          289.59,
          299.75,
          328.71,
          358.64,
          345.84,
          344.6,
          329.98,
          324.68,
          348.55,
          347.38,
          346.6,
          347.99,
          361.53,
          361.93,
          346.96,
          342.55,
          345.45,
          360,
          355.69,
          358.1,
          375.43,
          389.49,
          404.8,
          409.73,
          424.88,
          429.3,
          436.3,
          463.19,
          483.99,
          488.54,
          456.36,
          447.08,
          434.51,
          462.78,
          465.33,
          450,
          427,
          427.93,
          392.73,
          411.88,
          426.43,
          414.33,
          402.5,
          399.28,
          403.79,
          422.64,
          429.79
         ],
         "low": [
          212.18,
          212.01,
          208.74,
          207.56,
          206.27,
          207.75,
          206.77,
          180.06,
          182.1,
          183.67,
          190.61,
          185.85,
          184.28,
          182,
          175.01,
          177.11,
          182.68,
          185.58,
          189.48,
          187.28,
          182.11,
          183.35,
          188.86,
          197.4,
          189.13,
          191.95,
          191.36,
          191.5,
          192,
          198.26,
          198.44,
          198.45,
          198.5,
          186.72,
          177.57,
          173.7,
          173.7,
          174.7,
          174.8,
          172.41,
          169.15,
          160.51,
          160.76,
          165.9,
          167.42,
          170.82,
          171.8,
          166.3,
          168.73,
          177.38,
          176,
          175.3,
          170.21,
          163.43,
          163.28,
          168.01,
          160.51,
          167.79,
          171.92,
          170.01,
          168.51,
          170.36,
          161.38,
          153.75,
          153.78,
          148.7,
          146.22,
          138.8,
          141.11,
          157.51,
          158.36,
          166.37,
          184.54,
          182.84,
          179.01,
          176.02,
          178.42,
          182.2,
          177.4,
          170.15,
          171.37,
          167.75,
          169,
          174.07,
          173.11,
          171.43,
          172.75,
          173.52,
          174.71,
          178.12,
          173.26,
          173.73,
          173.16,
          173.93,
          175.38,
          173.82,
          174.49,
          174,
          172.13,
          172.73,
          175.58,
          173.17,
          167.41,
          169.8,
          181.23,
          176.92,
          177,
          182.37,
          179.66,
          180.69,
          182.55,
          182.01,
          186.36,
          194.05,
          195.26,
          200.85,
          218.06,
          234.25,
          242.46,
          244.57,
          250.3,
          257.86,
          239.65,
          233.09,
          251.73,
          245.8,
          246.18,
          247.2,
          236.83,
          243.75,
          245.63,
          214.71,
          216.23,
          215.33,
          224.7,
          220,
          226.79,
          214.33,
          205.78,
          182,
          192.67,
          191.48,
          192.04,
          195.11,
          194.67,
          197.06,
          198.75,
          204.82,
          210.8,
          214.09,
          219.56,
          218.86,
          210.32,
          214.21,
          211.01,
          206.94,
          202.59,
          205.97,
          207.03,
          209.64,
          210.57,
          222.25,
          210.51,
          213.67,
          218.64,
          216.8,
          223.83,
          226.32,
          223.53,
          226.55,
          226.88,
          232.13,
          235.92,
          241.92,
          249.05,
          252.28,
          251.53,
          254.12,
          255.77,
          248.53,
          241.5,
          237.81,
          244.58,
          240.7,
          240.56,
          239.51,
          232.34,
          214.38,
          213.74,
          217.12,
          218.93,
          217.9,
          219.23,
          215.73,
          215.26,
          212.11,
          242.65,
          255.32,
          262.24,
          255.51,
          255.82,
          249.25,
          246.63,
          238.88,
          246.21,
          275.62,
          285.52,
          297.66,
          336,
          323.31,
          322.5,
          310.37,
          309.22,
          330.01,
          332.75,
          334.3,
          335.28,
          337.7,
          338.2,
          335.66,
          326.59,
          334.65,
          351.15,
          348.2,
          348.6,
          359.5,
          370.8,
          378.01,
          390.85,
          402.38,
          415,
          415.71,
          436.15,
          457.51,
          427.01,
          420.02,
          417.64,
          415.41,
          435.14,
          451.02,
          426.5,
          415.75,
          402.54,
          373.04,
          379.45,
          401.7,
          390,
          387.4,
          377.29,
          380.07,
          394.54,
          405.66
         ],
         "name": "TSLA",
         "open": [
          215.1,
          214.86,
          216.88,
          209.99,
          212.26,
          211.3,
          211.88,
          189.7,
          185.5,
          185.63,
          195.33,
          187,
          188.5,
          185.04,
          184.26,
          177.21,
          188.18,
          189,
          190.18,
          192.11,
          183.99,
          185.3,
          189.16,
          202.06,
          196.13,
          193.36,
          194,
          195.31,
          192.29,
          204.04,
          200.42,
          204.18,
          200.52,
          198.73,
          183.05,
          179.99,
          174.35,
          181.5,
          175.45,
          177.77,
          173.05,
          167.77,
          163.16,
          170.02,
          172.36,
          173,
          176.39,
          166.69,
          168.76,
          178.58,
          181.41,
          177.45,
          176.17,
          164.75,
          164.02,
          170.07,
          169.08,
          169.34,
          172.91,
          173.04,
          172.55,
          172.34,
          170.24,
          156.74,
          157.64,
          151.25,
          148.97,
          140.56,
          143.33,
          162.84,
          158.96,
          168.85,
          188.42,
          186.98,
          182,
          182.86,
          182.1,
          183.8,
          182.4,
          171.59,
          175.01,
          173.05,
          170,
          174.5,
          179.9,
          174.1,
          173.55,
          177.56,
          175.51,
          182.85,
          181.8,
          174.84,
          176.4,
          174.19,
          178.58,
          178.5,
          178.13,
          174.78,
          175.35,
          174.6,
          176.13,
          176.06,
          173.92,
          171.12,
          188.39,
          185.8,
          177.92,
          186.56,
          184.68,
          182.3,
          184.97,
          184.4,
          186.54,
          195.17,
          199.55,
          201.02,
          218.89,
          234.56,
          249.81,
          247.71,
          251,
          262.8,
          263.3,
          235.8,
          255.97,
          255.31,
          252.73,
          251.09,
          247.79,
          244.21,
          253.6,
          225.42,
          216.8,
          221.19,
          224.9,
          232.25,
          227.9,
          227.69,
          214.88,
          185.22,
          200.75,
          200.77,
          195.7,
          197.05,
          199.02,
          198.47,
          207.39,
          205.02,
          211.15,
          217.07,
          224.88,
          222.67,
          223.82,
          214.46,
          218.75,
          213.25,
          209.72,
          209.8,
          208.63,
          215.26,
          210.59,
          223.49,
          232.6,
          216.2,
          220.07,
          224.55,
          224.66,
          228,
          229.3,
          229.45,
          230.09,
          234,
          241.52,
          242.61,
          254.08,
          252.54,
          260.6,
          257.38,
          259.04,
          262.67,
          247.55,
          244.48,
          246.69,
          249,
          243.56,
          243.82,
          241.81,
          220.13,
          220.13,
          220.01,
          221.4,
          221.59,
          220.71,
          218.9,
          217.31,
          217.13,
          244.68,
          256.01,
          270,
          264.51,
          258.04,
          257.99,
          252.04,
          244.56,
          247.34,
          284.67,
          288.89,
          299.14,
          346.3,
          342.74,
          335.85,
          327.69,
          310.57,
          340.73,
          335.76,
          345,
          343.81,
          341.09,
          360.14,
          341,
          341.8,
          336.08,
          352.38,
          351.8,
          353,
          359.87,
          377.42,
          397.61,
          392.68,
          409.7,
          424.84,
          420,
          441.09,
          475.9,
          466.5,
          451.88,
          425.51,
          431,
          435.9,
          465.16,
          449.52,
          419.4,
          423.79,
          390.1,
          381.48,
          423.2,
          405.83,
          392.95,
          391.4,
          383.21,
          414.34,
          409.86
         ],
         "type": "candlestick",
         "x": [
          "2024-01-16T00:00:00-05:00",
          "2024-01-17T00:00:00-05:00",
          "2024-01-18T00:00:00-05:00",
          "2024-01-19T00:00:00-05:00",
          "2024-01-22T00:00:00-05:00",
          "2024-01-23T00:00:00-05:00",
          "2024-01-24T00:00:00-05:00",
          "2024-01-25T00:00:00-05:00",
          "2024-01-26T00:00:00-05:00",
          "2024-01-29T00:00:00-05:00",
          "2024-01-30T00:00:00-05:00",
          "2024-01-31T00:00:00-05:00",
          "2024-02-01T00:00:00-05:00",
          "2024-02-02T00:00:00-05:00",
          "2024-02-05T00:00:00-05:00",
          "2024-02-06T00:00:00-05:00",
          "2024-02-07T00:00:00-05:00",
          "2024-02-08T00:00:00-05:00",
          "2024-02-09T00:00:00-05:00",
          "2024-02-12T00:00:00-05:00",
          "2024-02-13T00:00:00-05:00",
          "2024-02-14T00:00:00-05:00",
          "2024-02-15T00:00:00-05:00",
          "2024-02-16T00:00:00-05:00",
          "2024-02-20T00:00:00-05:00",
          "2024-02-21T00:00:00-05:00",
          "2024-02-22T00:00:00-05:00",
          "2024-02-23T00:00:00-05:00",
          "2024-02-26T00:00:00-05:00",
          "2024-02-27T00:00:00-05:00",
          "2024-02-28T00:00:00-05:00",
          "2024-02-29T00:00:00-05:00",
          "2024-03-01T00:00:00-05:00",
          "2024-03-04T00:00:00-05:00",
          "2024-03-05T00:00:00-05:00",
          "2024-03-06T00:00:00-05:00",
          "2024-03-07T00:00:00-05:00",
          "2024-03-08T00:00:00-05:00",
          "2024-03-11T00:00:00-04:00",
          "2024-03-12T00:00:00-04:00",
          "2024-03-13T00:00:00-04:00",
          "2024-03-14T00:00:00-04:00",
          "2024-03-15T00:00:00-04:00",
          "2024-03-18T00:00:00-04:00",
          "2024-03-19T00:00:00-04:00",
          "2024-03-20T00:00:00-04:00",
          "2024-03-21T00:00:00-04:00",
          "2024-03-22T00:00:00-04:00",
          "2024-03-25T00:00:00-04:00",
          "2024-03-26T00:00:00-04:00",
          "2024-03-27T00:00:00-04:00",
          "2024-03-28T00:00:00-04:00",
          "2024-04-01T00:00:00-04:00",
          "2024-04-02T00:00:00-04:00",
          "2024-04-03T00:00:00-04:00",
          "2024-04-04T00:00:00-04:00",
          "2024-04-05T00:00:00-04:00",
          "2024-04-08T00:00:00-04:00",
          "2024-04-09T00:00:00-04:00",
          "2024-04-10T00:00:00-04:00",
          "2024-04-11T00:00:00-04:00",
          "2024-04-12T00:00:00-04:00",
          "2024-04-15T00:00:00-04:00",
          "2024-04-16T00:00:00-04:00",
          "2024-04-17T00:00:00-04:00",
          "2024-04-18T00:00:00-04:00",
          "2024-04-19T00:00:00-04:00",
          "2024-04-22T00:00:00-04:00",
          "2024-04-23T00:00:00-04:00",
          "2024-04-24T00:00:00-04:00",
          "2024-04-25T00:00:00-04:00",
          "2024-04-26T00:00:00-04:00",
          "2024-04-29T00:00:00-04:00",
          "2024-04-30T00:00:00-04:00",
          "2024-05-01T00:00:00-04:00",
          "2024-05-02T00:00:00-04:00",
          "2024-05-03T00:00:00-04:00",
          "2024-05-06T00:00:00-04:00",
          "2024-05-07T00:00:00-04:00",
          "2024-05-08T00:00:00-04:00",
          "2024-05-09T00:00:00-04:00",
          "2024-05-10T00:00:00-04:00",
          "2024-05-13T00:00:00-04:00",
          "2024-05-14T00:00:00-04:00",
          "2024-05-15T00:00:00-04:00",
          "2024-05-16T00:00:00-04:00",
          "2024-05-17T00:00:00-04:00",
          "2024-05-20T00:00:00-04:00",
          "2024-05-21T00:00:00-04:00",
          "2024-05-22T00:00:00-04:00",
          "2024-05-23T00:00:00-04:00",
          "2024-05-24T00:00:00-04:00",
          "2024-05-28T00:00:00-04:00",
          "2024-05-29T00:00:00-04:00",
          "2024-05-30T00:00:00-04:00",
          "2024-05-31T00:00:00-04:00",
          "2024-06-03T00:00:00-04:00",
          "2024-06-04T00:00:00-04:00",
          "2024-06-05T00:00:00-04:00",
          "2024-06-06T00:00:00-04:00",
          "2024-06-07T00:00:00-04:00",
          "2024-06-10T00:00:00-04:00",
          "2024-06-11T00:00:00-04:00",
          "2024-06-12T00:00:00-04:00",
          "2024-06-13T00:00:00-04:00",
          "2024-06-14T00:00:00-04:00",
          "2024-06-17T00:00:00-04:00",
          "2024-06-18T00:00:00-04:00",
          "2024-06-20T00:00:00-04:00",
          "2024-06-21T00:00:00-04:00",
          "2024-06-24T00:00:00-04:00",
          "2024-06-25T00:00:00-04:00",
          "2024-06-26T00:00:00-04:00",
          "2024-06-27T00:00:00-04:00",
          "2024-06-28T00:00:00-04:00",
          "2024-07-01T00:00:00-04:00",
          "2024-07-02T00:00:00-04:00",
          "2024-07-03T00:00:00-04:00",
          "2024-07-05T00:00:00-04:00",
          "2024-07-08T00:00:00-04:00",
          "2024-07-09T00:00:00-04:00",
          "2024-07-10T00:00:00-04:00",
          "2024-07-11T00:00:00-04:00",
          "2024-07-12T00:00:00-04:00",
          "2024-07-15T00:00:00-04:00",
          "2024-07-16T00:00:00-04:00",
          "2024-07-17T00:00:00-04:00",
          "2024-07-18T00:00:00-04:00",
          "2024-07-19T00:00:00-04:00",
          "2024-07-22T00:00:00-04:00",
          "2024-07-23T00:00:00-04:00",
          "2024-07-24T00:00:00-04:00",
          "2024-07-25T00:00:00-04:00",
          "2024-07-26T00:00:00-04:00",
          "2024-07-29T00:00:00-04:00",
          "2024-07-30T00:00:00-04:00",
          "2024-07-31T00:00:00-04:00",
          "2024-08-01T00:00:00-04:00",
          "2024-08-02T00:00:00-04:00",
          "2024-08-05T00:00:00-04:00",
          "2024-08-06T00:00:00-04:00",
          "2024-08-07T00:00:00-04:00",
          "2024-08-08T00:00:00-04:00",
          "2024-08-09T00:00:00-04:00",
          "2024-08-12T00:00:00-04:00",
          "2024-08-13T00:00:00-04:00",
          "2024-08-14T00:00:00-04:00",
          "2024-08-15T00:00:00-04:00",
          "2024-08-16T00:00:00-04:00",
          "2024-08-19T00:00:00-04:00",
          "2024-08-20T00:00:00-04:00",
          "2024-08-21T00:00:00-04:00",
          "2024-08-22T00:00:00-04:00",
          "2024-08-23T00:00:00-04:00",
          "2024-08-26T00:00:00-04:00",
          "2024-08-27T00:00:00-04:00",
          "2024-08-28T00:00:00-04:00",
          "2024-08-29T00:00:00-04:00",
          "2024-08-30T00:00:00-04:00",
          "2024-09-03T00:00:00-04:00",
          "2024-09-04T00:00:00-04:00",
          "2024-09-05T00:00:00-04:00",
          "2024-09-06T00:00:00-04:00",
          "2024-09-09T00:00:00-04:00",
          "2024-09-10T00:00:00-04:00",
          "2024-09-11T00:00:00-04:00",
          "2024-09-12T00:00:00-04:00",
          "2024-09-13T00:00:00-04:00",
          "2024-09-16T00:00:00-04:00",
          "2024-09-17T00:00:00-04:00",
          "2024-09-18T00:00:00-04:00",
          "2024-09-19T00:00:00-04:00",
          "2024-09-20T00:00:00-04:00",
          "2024-09-23T00:00:00-04:00",
          "2024-09-24T00:00:00-04:00",
          "2024-09-25T00:00:00-04:00",
          "2024-09-26T00:00:00-04:00",
          "2024-09-27T00:00:00-04:00",
          "2024-09-30T00:00:00-04:00",
          "2024-10-01T00:00:00-04:00",
          "2024-10-02T00:00:00-04:00",
          "2024-10-03T00:00:00-04:00",
          "2024-10-04T00:00:00-04:00",
          "2024-10-07T00:00:00-04:00",
          "2024-10-08T00:00:00-04:00",
          "2024-10-09T00:00:00-04:00",
          "2024-10-10T00:00:00-04:00",
          "2024-10-11T00:00:00-04:00",
          "2024-10-14T00:00:00-04:00",
          "2024-10-15T00:00:00-04:00",
          "2024-10-16T00:00:00-04:00",
          "2024-10-17T00:00:00-04:00",
          "2024-10-18T00:00:00-04:00",
          "2024-10-21T00:00:00-04:00",
          "2024-10-22T00:00:00-04:00",
          "2024-10-23T00:00:00-04:00",
          "2024-10-24T00:00:00-04:00",
          "2024-10-25T00:00:00-04:00",
          "2024-10-28T00:00:00-04:00",
          "2024-10-29T00:00:00-04:00",
          "2024-10-30T00:00:00-04:00",
          "2024-10-31T00:00:00-04:00",
          "2024-11-01T00:00:00-04:00",
          "2024-11-04T00:00:00-05:00",
          "2024-11-05T00:00:00-05:00",
          "2024-11-06T00:00:00-05:00",
          "2024-11-07T00:00:00-05:00",
          "2024-11-08T00:00:00-05:00",
          "2024-11-11T00:00:00-05:00",
          "2024-11-12T00:00:00-05:00",
          "2024-11-13T00:00:00-05:00",
          "2024-11-14T00:00:00-05:00",
          "2024-11-15T00:00:00-05:00",
          "2024-11-18T00:00:00-05:00",
          "2024-11-19T00:00:00-05:00",
          "2024-11-20T00:00:00-05:00",
          "2024-11-21T00:00:00-05:00",
          "2024-11-22T00:00:00-05:00",
          "2024-11-25T00:00:00-05:00",
          "2024-11-26T00:00:00-05:00",
          "2024-11-27T00:00:00-05:00",
          "2024-11-29T00:00:00-05:00",
          "2024-12-02T00:00:00-05:00",
          "2024-12-03T00:00:00-05:00",
          "2024-12-04T00:00:00-05:00",
          "2024-12-05T00:00:00-05:00",
          "2024-12-06T00:00:00-05:00",
          "2024-12-09T00:00:00-05:00",
          "2024-12-10T00:00:00-05:00",
          "2024-12-11T00:00:00-05:00",
          "2024-12-12T00:00:00-05:00",
          "2024-12-13T00:00:00-05:00",
          "2024-12-16T00:00:00-05:00",
          "2024-12-17T00:00:00-05:00",
          "2024-12-18T00:00:00-05:00",
          "2024-12-19T00:00:00-05:00",
          "2024-12-20T00:00:00-05:00",
          "2024-12-23T00:00:00-05:00",
          "2024-12-24T00:00:00-05:00",
          "2024-12-26T00:00:00-05:00",
          "2024-12-27T00:00:00-05:00",
          "2024-12-30T00:00:00-05:00",
          "2024-12-31T00:00:00-05:00",
          "2025-01-02T00:00:00-05:00",
          "2025-01-03T00:00:00-05:00",
          "2025-01-06T00:00:00-05:00",
          "2025-01-07T00:00:00-05:00",
          "2025-01-08T00:00:00-05:00",
          "2025-01-10T00:00:00-05:00",
          "2025-01-13T00:00:00-05:00",
          "2025-01-14T00:00:00-05:00",
          "2025-01-15T00:00:00-05:00"
         ]
        },
        {
         "line": {
          "color": "blue",
          "shape": "spline",
          "width": 2
         },
         "name": "EMA 10",
         "type": "scatter",
         "x": [
          "2024-01-16T00:00:00-05:00",
          "2024-01-17T00:00:00-05:00",
          "2024-01-18T00:00:00-05:00",
          "2024-01-19T00:00:00-05:00",
          "2024-01-22T00:00:00-05:00",
          "2024-01-23T00:00:00-05:00",
          "2024-01-24T00:00:00-05:00",
          "2024-01-25T00:00:00-05:00",
          "2024-01-26T00:00:00-05:00",
          "2024-01-29T00:00:00-05:00",
          "2024-01-30T00:00:00-05:00",
          "2024-01-31T00:00:00-05:00",
          "2024-02-01T00:00:00-05:00",
          "2024-02-02T00:00:00-05:00",
          "2024-02-05T00:00:00-05:00",
          "2024-02-06T00:00:00-05:00",
          "2024-02-07T00:00:00-05:00",
          "2024-02-08T00:00:00-05:00",
          "2024-02-09T00:00:00-05:00",
          "2024-02-12T00:00:00-05:00",
          "2024-02-13T00:00:00-05:00",
          "2024-02-14T00:00:00-05:00",
          "2024-02-15T00:00:00-05:00",
          "2024-02-16T00:00:00-05:00",
          "2024-02-20T00:00:00-05:00",
          "2024-02-21T00:00:00-05:00",
          "2024-02-22T00:00:00-05:00",
          "2024-02-23T00:00:00-05:00",
          "2024-02-26T00:00:00-05:00",
          "2024-02-27T00:00:00-05:00",
          "2024-02-28T00:00:00-05:00",
          "2024-02-29T00:00:00-05:00",
          "2024-03-01T00:00:00-05:00",
          "2024-03-04T00:00:00-05:00",
          "2024-03-05T00:00:00-05:00",
          "2024-03-06T00:00:00-05:00",
          "2024-03-07T00:00:00-05:00",
          "2024-03-08T00:00:00-05:00",
          "2024-03-11T00:00:00-04:00",
          "2024-03-12T00:00:00-04:00",
          "2024-03-13T00:00:00-04:00",
          "2024-03-14T00:00:00-04:00",
          "2024-03-15T00:00:00-04:00",
          "2024-03-18T00:00:00-04:00",
          "2024-03-19T00:00:00-04:00",
          "2024-03-20T00:00:00-04:00",
          "2024-03-21T00:00:00-04:00",
          "2024-03-22T00:00:00-04:00",
          "2024-03-25T00:00:00-04:00",
          "2024-03-26T00:00:00-04:00",
          "2024-03-27T00:00:00-04:00",
          "2024-03-28T00:00:00-04:00",
          "2024-04-01T00:00:00-04:00",
          "2024-04-02T00:00:00-04:00",
          "2024-04-03T00:00:00-04:00",
          "2024-04-04T00:00:00-04:00",
          "2024-04-05T00:00:00-04:00",
          "2024-04-08T00:00:00-04:00",
          "2024-04-09T00:00:00-04:00",
          "2024-04-10T00:00:00-04:00",
          "2024-04-11T00:00:00-04:00",
          "2024-04-12T00:00:00-04:00",
          "2024-04-15T00:00:00-04:00",
          "2024-04-16T00:00:00-04:00",
          "2024-04-17T00:00:00-04:00",
          "2024-04-18T00:00:00-04:00",
          "2024-04-19T00:00:00-04:00",
          "2024-04-22T00:00:00-04:00",
          "2024-04-23T00:00:00-04:00",
          "2024-04-24T00:00:00-04:00",
          "2024-04-25T00:00:00-04:00",
          "2024-04-26T00:00:00-04:00",
          "2024-04-29T00:00:00-04:00",
          "2024-04-30T00:00:00-04:00",
          "2024-05-01T00:00:00-04:00",
          "2024-05-02T00:00:00-04:00",
          "2024-05-03T00:00:00-04:00",
          "2024-05-06T00:00:00-04:00",
          "2024-05-07T00:00:00-04:00",
          "2024-05-08T00:00:00-04:00",
          "2024-05-09T00:00:00-04:00",
          "2024-05-10T00:00:00-04:00",
          "2024-05-13T00:00:00-04:00",
          "2024-05-14T00:00:00-04:00",
          "2024-05-15T00:00:00-04:00",
          "2024-05-16T00:00:00-04:00",
          "2024-05-17T00:00:00-04:00",
          "2024-05-20T00:00:00-04:00",
          "2024-05-21T00:00:00-04:00",
          "2024-05-22T00:00:00-04:00",
          "2024-05-23T00:00:00-04:00",
          "2024-05-24T00:00:00-04:00",
          "2024-05-28T00:00:00-04:00",
          "2024-05-29T00:00:00-04:00",
          "2024-05-30T00:00:00-04:00",
          "2024-05-31T00:00:00-04:00",
          "2024-06-03T00:00:00-04:00",
          "2024-06-04T00:00:00-04:00",
          "2024-06-05T00:00:00-04:00",
          "2024-06-06T00:00:00-04:00",
          "2024-06-07T00:00:00-04:00",
          "2024-06-10T00:00:00-04:00",
          "2024-06-11T00:00:00-04:00",
          "2024-06-12T00:00:00-04:00",
          "2024-06-13T00:00:00-04:00",
          "2024-06-14T00:00:00-04:00",
          "2024-06-17T00:00:00-04:00",
          "2024-06-18T00:00:00-04:00",
          "2024-06-20T00:00:00-04:00",
          "2024-06-21T00:00:00-04:00",
          "2024-06-24T00:00:00-04:00",
          "2024-06-25T00:00:00-04:00",
          "2024-06-26T00:00:00-04:00",
          "2024-06-27T00:00:00-04:00",
          "2024-06-28T00:00:00-04:00",
          "2024-07-01T00:00:00-04:00",
          "2024-07-02T00:00:00-04:00",
          "2024-07-03T00:00:00-04:00",
          "2024-07-05T00:00:00-04:00",
          "2024-07-08T00:00:00-04:00",
          "2024-07-09T00:00:00-04:00",
          "2024-07-10T00:00:00-04:00",
          "2024-07-11T00:00:00-04:00",
          "2024-07-12T00:00:00-04:00",
          "2024-07-15T00:00:00-04:00",
          "2024-07-16T00:00:00-04:00",
          "2024-07-17T00:00:00-04:00",
          "2024-07-18T00:00:00-04:00",
          "2024-07-19T00:00:00-04:00",
          "2024-07-22T00:00:00-04:00",
          "2024-07-23T00:00:00-04:00",
          "2024-07-24T00:00:00-04:00",
          "2024-07-25T00:00:00-04:00",
          "2024-07-26T00:00:00-04:00",
          "2024-07-29T00:00:00-04:00",
          "2024-07-30T00:00:00-04:00",
          "2024-07-31T00:00:00-04:00",
          "2024-08-01T00:00:00-04:00",
          "2024-08-02T00:00:00-04:00",
          "2024-08-05T00:00:00-04:00",
          "2024-08-06T00:00:00-04:00",
          "2024-08-07T00:00:00-04:00",
          "2024-08-08T00:00:00-04:00",
          "2024-08-09T00:00:00-04:00",
          "2024-08-12T00:00:00-04:00",
          "2024-08-13T00:00:00-04:00",
          "2024-08-14T00:00:00-04:00",
          "2024-08-15T00:00:00-04:00",
          "2024-08-16T00:00:00-04:00",
          "2024-08-19T00:00:00-04:00",
          "2024-08-20T00:00:00-04:00",
          "2024-08-21T00:00:00-04:00",
          "2024-08-22T00:00:00-04:00",
          "2024-08-23T00:00:00-04:00",
          "2024-08-26T00:00:00-04:00",
          "2024-08-27T00:00:00-04:00",
          "2024-08-28T00:00:00-04:00",
          "2024-08-29T00:00:00-04:00",
          "2024-08-30T00:00:00-04:00",
          "2024-09-03T00:00:00-04:00",
          "2024-09-04T00:00:00-04:00",
          "2024-09-05T00:00:00-04:00",
          "2024-09-06T00:00:00-04:00",
          "2024-09-09T00:00:00-04:00",
          "2024-09-10T00:00:00-04:00",
          "2024-09-11T00:00:00-04:00",
          "2024-09-12T00:00:00-04:00",
          "2024-09-13T00:00:00-04:00",
          "2024-09-16T00:00:00-04:00",
          "2024-09-17T00:00:00-04:00",
          "2024-09-18T00:00:00-04:00",
          "2024-09-19T00:00:00-04:00",
          "2024-09-20T00:00:00-04:00",
          "2024-09-23T00:00:00-04:00",
          "2024-09-24T00:00:00-04:00",
          "2024-09-25T00:00:00-04:00",
          "2024-09-26T00:00:00-04:00",
          "2024-09-27T00:00:00-04:00",
          "2024-09-30T00:00:00-04:00",
          "2024-10-01T00:00:00-04:00",
          "2024-10-02T00:00:00-04:00",
          "2024-10-03T00:00:00-04:00",
          "2024-10-04T00:00:00-04:00",
          "2024-10-07T00:00:00-04:00",
          "2024-10-08T00:00:00-04:00",
          "2024-10-09T00:00:00-04:00",
          "2024-10-10T00:00:00-04:00",
          "2024-10-11T00:00:00-04:00",
          "2024-10-14T00:00:00-04:00",
          "2024-10-15T00:00:00-04:00",
          "2024-10-16T00:00:00-04:00",
          "2024-10-17T00:00:00-04:00",
          "2024-10-18T00:00:00-04:00",
          "2024-10-21T00:00:00-04:00",
          "2024-10-22T00:00:00-04:00",
          "2024-10-23T00:00:00-04:00",
          "2024-10-24T00:00:00-04:00",
          "2024-10-25T00:00:00-04:00",
          "2024-10-28T00:00:00-04:00",
          "2024-10-29T00:00:00-04:00",
          "2024-10-30T00:00:00-04:00",
          "2024-10-31T00:00:00-04:00",
          "2024-11-01T00:00:00-04:00",
          "2024-11-04T00:00:00-05:00",
          "2024-11-05T00:00:00-05:00",
          "2024-11-06T00:00:00-05:00",
          "2024-11-07T00:00:00-05:00",
          "2024-11-08T00:00:00-05:00",
          "2024-11-11T00:00:00-05:00",
          "2024-11-12T00:00:00-05:00",
          "2024-11-13T00:00:00-05:00",
          "2024-11-14T00:00:00-05:00",
          "2024-11-15T00:00:00-05:00",
          "2024-11-18T00:00:00-05:00",
          "2024-11-19T00:00:00-05:00",
          "2024-11-20T00:00:00-05:00",
          "2024-11-21T00:00:00-05:00",
          "2024-11-22T00:00:00-05:00",
          "2024-11-25T00:00:00-05:00",
          "2024-11-26T00:00:00-05:00",
          "2024-11-27T00:00:00-05:00",
          "2024-11-29T00:00:00-05:00",
          "2024-12-02T00:00:00-05:00",
          "2024-12-03T00:00:00-05:00",
          "2024-12-04T00:00:00-05:00",
          "2024-12-05T00:00:00-05:00",
          "2024-12-06T00:00:00-05:00",
          "2024-12-09T00:00:00-05:00",
          "2024-12-10T00:00:00-05:00",
          "2024-12-11T00:00:00-05:00",
          "2024-12-12T00:00:00-05:00",
          "2024-12-13T00:00:00-05:00",
          "2024-12-16T00:00:00-05:00",
          "2024-12-17T00:00:00-05:00",
          "2024-12-18T00:00:00-05:00",
          "2024-12-19T00:00:00-05:00",
          "2024-12-20T00:00:00-05:00",
          "2024-12-23T00:00:00-05:00",
          "2024-12-24T00:00:00-05:00",
          "2024-12-26T00:00:00-05:00",
          "2024-12-27T00:00:00-05:00",
          "2024-12-30T00:00:00-05:00",
          "2024-12-31T00:00:00-05:00",
          "2025-01-02T00:00:00-05:00",
          "2025-01-03T00:00:00-05:00",
          "2025-01-06T00:00:00-05:00",
          "2025-01-07T00:00:00-05:00",
          "2025-01-08T00:00:00-05:00",
          "2025-01-10T00:00:00-05:00",
          "2025-01-13T00:00:00-05:00",
          "2025-01-14T00:00:00-05:00",
          "2025-01-15T00:00:00-05:00"
         ],
         "y": [
          219.91,
          217.51200000000003,
          215.24797342192693,
          214.24050742574258,
          212.67868571204485,
          211.75956679998708,
          210.8126990556849,
          204.40099920040703,
          199.79928193811352,
          197.93623458797134,
          196.639778201904,
          194.77170962915667,
          193.61142280797716,
          192.50834941364985,
          190.31891706406233,
          189.33014888099382,
          189.00108247548923,
          189.1055233116293,
          189.9355802322855,
          189.60125105584402,
          188.57124867541683,
          188.59678511643065,
          190.773459746786,
          192.45554369169236,
          192.69429954097072,
          193.07375673779384,
          193.86567718841945,
          193.519753227204,
          194.592072975846,
          195.5285164990693,
          196.71478049296502,
          197.6554410866107,
          198.56293202362474,
          196.66578812082662,
          193.76760879866325,
          190.63303188743285,
          188.4529989271238,
          186.06765359449744,
          184.55838687104762,
          183.28189965241054,
          180.77179264158508,
          177.4489220744036,
          174.9250302435754,
          174.72044934981585,
          174.1021117914443,
          174.38539194588046,
          174.1007524125815,
          173.50603115211834,
          173.34674421366958,
          174.13282523135294,
          175.1687123987594,
          175.28167710076903,
          175.27046281278996,
          173.69943866592524,
          172.73225243076178,
          172.43729355870298,
          171.06686178085528,
          171.41470816016943,
          172.40840475351783,
          172.2905122843652,
          172.71042116940967,
          172.40852521859352,
          170.42151421037576,
          168.00123249829744,
          165.71918528774194,
          162.84841924373112,
          159.9759752203104,
          156.71670313557846,
          154.5282095341978,
          155.91035435183508,
          158.50483706295336,
          160.2839585418773,
          166.42324147480008,
          169.48810775087892,
          171.39754326071056,
          172.9634448587288,
          174.45918244840914,
          176.33205866527783,
          176.60077530662016,
          176.2588161234899,
          175.47903130571723,
          174.20466188641768,
          173.78381424612093,
          174.4685753250091,
          174.38156162615022,
          174.46491406042617,
          175.00947515460416,
          174.99866148989906,
          177.10799580142694,
          177.65381475444792,
          176.94221206347325,
          177.35999169230618,
          177.24908411101592,
          177.05652336232123,
          177.37170093446514,
          177.50048258329812,
          177.28039484010577,
          176.8239594133178,
          176.49233042829695,
          176.75554307820485,
          176.88726251873896,
          176.32412387824164,
          175.29428317201962,
          175.65714077742035,
          176.89584245512842,
          177.0984165543131,
          178.97870445441842,
          180.04803091766533,
          180.32475256908654,
          180.81297937483367,
          181.13425585220477,
          182.26439115199994,
          184.82904730654573,
          187.11831143289413,
          189.07498208164472,
          192.85407624891215,
          199.83697147682673,
          208.30115848148046,
          216.15912966700037,
          222.8465606368696,
          230.025367794007,
          236.06802819523756,
          236.97020488702975,
          239.01744036214723,
          241.49426938724295,
          244.2334931350456,
          245.009221655953,
          245.77663590033055,
          244.5808839184454,
          245.8407232060067,
          245.9387735321877,
          240.49354198086377,
          236.81289798433366,
          233.7196438053574,
          233.4251631134737,
          231.4605880019303,
          231.57139018339763,
          228.89659196823192,
          225.03721161036862,
          220.281354953935,
          216.71019950776315,
          212.17379959725886,
          209.7494723977564,
          207.97684105270926,
          206.07014267948892,
          206.39011673776375,
          205.47918642180656,
          207.05387979966014,
          208.70226529063123,
          211.25094432869847,
          213.04168172348068,
          214.90137595557522,
          214.13021669092515,
          215.2556318380297,
          214.88369877656973,
          213.85211718082974,
          212.3790049661334,
          211.27009497229096,
          211.78644134096533,
          211.57072473351707,
          212.99604750924127,
          216.1185843257429,
          215.13884172106233,
          215.34450686268738,
          217.31277834219875,
          219.27954591634446,
          221.19417393155456,
          222.84796048945373,
          223.56287676409852,
          224.34599007971698,
          224.86490097431388,
          228.32946443352955,
          230.13319817288783,
          233.7453439596355,
          237.47709960333816,
          241.03035422091307,
          243.4284716352925,
          246.52511315614842,
          249.27145621866688,
          250.86210054254562,
          250.52717317117367,
          248.73314168550573,
          248.97802501541375,
          247.49656592170214,
          246.95173575411994,
          245.8786928897345,
          244.58620327341916,
          239.71598449643383,
          235.9785327698095,
          232.9951631752987,
          230.87422441615348,
          229.05891088594373,
          227.53910890668124,
          225.9592709236483,
          224.50667621025767,
          222.5327350811199,
          229.43223779364357,
          236.66092183116294,
          241.36075422549695,
          244.66243527540658,
          247.0056288616963,
          247.52278725047876,
          247.78773502311898,
          246.88814683709734,
          247.71575650307963,
          255.13652804797422,
          262.7317047665244,
          273.36594026352,
          287.29940567015274,
          294.7886046392159,
          301.2343128866312,
          303.0426196345164,
          306.2566887918771,
          312.16274537517216,
          318.31497348877724,
          322.62679649081775,
          325.72010621976,
          330.6000869070764,
          332.052798378517,
          333.1759259460594,
          333.1239394104122,
          335.31231406306455,
          339.27189332432556,
          341.48063999263,
          344.47143272124276,
          349.0202631355623,
          356.32930620182367,
          362.413068710583,
          369.42705621774974,
          379.48940963270434,
          386.5095169722126,
          395.5496047954467,
          407.8169493780928,
          420.9156858548032,
          424.40919751756627,
          426.54752524164513,
          425.54979337952784,
          426.46801276506824,
          432.97928317141947,
          436.8248680493432,
          435.8858011312808,
          432.526564561957,
          427.31082555069213,
          418.577948177839,
          417.0983212364137,
          415.9986264661567,
          412.0643307450373,
          408.95081606412145,
          406.3670313251903,
          405.81120744788296,
          404.09280609372246,
          408.4795686221365
         ]
        },
        {
         "line": {
          "color": "purple",
          "shape": "spline",
          "width": 2
         },
         "name": "SMA 30",
         "type": "scatter",
         "x": [
          "2024-01-16T00:00:00-05:00",
          "2024-01-17T00:00:00-05:00",
          "2024-01-18T00:00:00-05:00",
          "2024-01-19T00:00:00-05:00",
          "2024-01-22T00:00:00-05:00",
          "2024-01-23T00:00:00-05:00",
          "2024-01-24T00:00:00-05:00",
          "2024-01-25T00:00:00-05:00",
          "2024-01-26T00:00:00-05:00",
          "2024-01-29T00:00:00-05:00",
          "2024-01-30T00:00:00-05:00",
          "2024-01-31T00:00:00-05:00",
          "2024-02-01T00:00:00-05:00",
          "2024-02-02T00:00:00-05:00",
          "2024-02-05T00:00:00-05:00",
          "2024-02-06T00:00:00-05:00",
          "2024-02-07T00:00:00-05:00",
          "2024-02-08T00:00:00-05:00",
          "2024-02-09T00:00:00-05:00",
          "2024-02-12T00:00:00-05:00",
          "2024-02-13T00:00:00-05:00",
          "2024-02-14T00:00:00-05:00",
          "2024-02-15T00:00:00-05:00",
          "2024-02-16T00:00:00-05:00",
          "2024-02-20T00:00:00-05:00",
          "2024-02-21T00:00:00-05:00",
          "2024-02-22T00:00:00-05:00",
          "2024-02-23T00:00:00-05:00",
          "2024-02-26T00:00:00-05:00",
          "2024-02-27T00:00:00-05:00",
          "2024-02-28T00:00:00-05:00",
          "2024-02-29T00:00:00-05:00",
          "2024-03-01T00:00:00-05:00",
          "2024-03-04T00:00:00-05:00",
          "2024-03-05T00:00:00-05:00",
          "2024-03-06T00:00:00-05:00",
          "2024-03-07T00:00:00-05:00",
          "2024-03-08T00:00:00-05:00",
          "2024-03-11T00:00:00-04:00",
          "2024-03-12T00:00:00-04:00",
          "2024-03-13T00:00:00-04:00",
          "2024-03-14T00:00:00-04:00",
          "2024-03-15T00:00:00-04:00",
          "2024-03-18T00:00:00-04:00",
          "2024-03-19T00:00:00-04:00",
          "2024-03-20T00:00:00-04:00",
          "2024-03-21T00:00:00-04:00",
          "2024-03-22T00:00:00-04:00",
          "2024-03-25T00:00:00-04:00",
          "2024-03-26T00:00:00-04:00",
          "2024-03-27T00:00:00-04:00",
          "2024-03-28T00:00:00-04:00",
          "2024-04-01T00:00:00-04:00",
          "2024-04-02T00:00:00-04:00",
          "2024-04-03T00:00:00-04:00",
          "2024-04-04T00:00:00-04:00",
          "2024-04-05T00:00:00-04:00",
          "2024-04-08T00:00:00-04:00",
          "2024-04-09T00:00:00-04:00",
          "2024-04-10T00:00:00-04:00",
          "2024-04-11T00:00:00-04:00",
          "2024-04-12T00:00:00-04:00",
          "2024-04-15T00:00:00-04:00",
          "2024-04-16T00:00:00-04:00",
          "2024-04-17T00:00:00-04:00",
          "2024-04-18T00:00:00-04:00",
          "2024-04-19T00:00:00-04:00",
          "2024-04-22T00:00:00-04:00",
          "2024-04-23T00:00:00-04:00",
          "2024-04-24T00:00:00-04:00",
          "2024-04-25T00:00:00-04:00",
          "2024-04-26T00:00:00-04:00",
          "2024-04-29T00:00:00-04:00",
          "2024-04-30T00:00:00-04:00",
          "2024-05-01T00:00:00-04:00",
          "2024-05-02T00:00:00-04:00",
          "2024-05-03T00:00:00-04:00",
          "2024-05-06T00:00:00-04:00",
          "2024-05-07T00:00:00-04:00",
          "2024-05-08T00:00:00-04:00",
          "2024-05-09T00:00:00-04:00",
          "2024-05-10T00:00:00-04:00",
          "2024-05-13T00:00:00-04:00",
          "2024-05-14T00:00:00-04:00",
          "2024-05-15T00:00:00-04:00",
          "2024-05-16T00:00:00-04:00",
          "2024-05-17T00:00:00-04:00",
          "2024-05-20T00:00:00-04:00",
          "2024-05-21T00:00:00-04:00",
          "2024-05-22T00:00:00-04:00",
          "2024-05-23T00:00:00-04:00",
          "2024-05-24T00:00:00-04:00",
          "2024-05-28T00:00:00-04:00",
          "2024-05-29T00:00:00-04:00",
          "2024-05-30T00:00:00-04:00",
          "2024-05-31T00:00:00-04:00",
          "2024-06-03T00:00:00-04:00",
          "2024-06-04T00:00:00-04:00",
          "2024-06-05T00:00:00-04:00",
          "2024-06-06T00:00:00-04:00",
          "2024-06-07T00:00:00-04:00",
          "2024-06-10T00:00:00-04:00",
          "2024-06-11T00:00:00-04:00",
          "2024-06-12T00:00:00-04:00",
          "2024-06-13T00:00:00-04:00",
          "2024-06-14T00:00:00-04:00",
          "2024-06-17T00:00:00-04:00",
          "2024-06-18T00:00:00-04:00",
          "2024-06-20T00:00:00-04:00",
          "2024-06-21T00:00:00-04:00",
          "2024-06-24T00:00:00-04:00",
          "2024-06-25T00:00:00-04:00",
          "2024-06-26T00:00:00-04:00",
          "2024-06-27T00:00:00-04:00",
          "2024-06-28T00:00:00-04:00",
          "2024-07-01T00:00:00-04:00",
          "2024-07-02T00:00:00-04:00",
          "2024-07-03T00:00:00-04:00",
          "2024-07-05T00:00:00-04:00",
          "2024-07-08T00:00:00-04:00",
          "2024-07-09T00:00:00-04:00",
          "2024-07-10T00:00:00-04:00",
          "2024-07-11T00:00:00-04:00",
          "2024-07-12T00:00:00-04:00",
          "2024-07-15T00:00:00-04:00",
          "2024-07-16T00:00:00-04:00",
          "2024-07-17T00:00:00-04:00",
          "2024-07-18T00:00:00-04:00",
          "2024-07-19T00:00:00-04:00",
          "2024-07-22T00:00:00-04:00",
          "2024-07-23T00:00:00-04:00",
          "2024-07-24T00:00:00-04:00",
          "2024-07-25T00:00:00-04:00",
          "2024-07-26T00:00:00-04:00",
          "2024-07-29T00:00:00-04:00",
          "2024-07-30T00:00:00-04:00",
          "2024-07-31T00:00:00-04:00",
          "2024-08-01T00:00:00-04:00",
          "2024-08-02T00:00:00-04:00",
          "2024-08-05T00:00:00-04:00",
          "2024-08-06T00:00:00-04:00",
          "2024-08-07T00:00:00-04:00",
          "2024-08-08T00:00:00-04:00",
          "2024-08-09T00:00:00-04:00",
          "2024-08-12T00:00:00-04:00",
          "2024-08-13T00:00:00-04:00",
          "2024-08-14T00:00:00-04:00",
          "2024-08-15T00:00:00-04:00",
          "2024-08-16T00:00:00-04:00",
          "2024-08-19T00:00:00-04:00",
          "2024-08-20T00:00:00-04:00",
          "2024-08-21T00:00:00-04:00",
          "2024-08-22T00:00:00-04:00",
          "2024-08-23T00:00:00-04:00",
          "2024-08-26T00:00:00-04:00",
          "2024-08-27T00:00:00-04:00",
          "2024-08-28T00:00:00-04:00",
          "2024-08-29T00:00:00-04:00",
          "2024-08-30T00:00:00-04:00",
          "2024-09-03T00:00:00-04:00",
          "2024-09-04T00:00:00-04:00",
          "2024-09-05T00:00:00-04:00",
          "2024-09-06T00:00:00-04:00",
          "2024-09-09T00:00:00-04:00",
          "2024-09-10T00:00:00-04:00",
          "2024-09-11T00:00:00-04:00",
          "2024-09-12T00:00:00-04:00",
          "2024-09-13T00:00:00-04:00",
          "2024-09-16T00:00:00-04:00",
          "2024-09-17T00:00:00-04:00",
          "2024-09-18T00:00:00-04:00",
          "2024-09-19T00:00:00-04:00",
          "2024-09-20T00:00:00-04:00",
          "2024-09-23T00:00:00-04:00",
          "2024-09-24T00:00:00-04:00",
          "2024-09-25T00:00:00-04:00",
          "2024-09-26T00:00:00-04:00",
          "2024-09-27T00:00:00-04:00",
          "2024-09-30T00:00:00-04:00",
          "2024-10-01T00:00:00-04:00",
          "2024-10-02T00:00:00-04:00",
          "2024-10-03T00:00:00-04:00",
          "2024-10-04T00:00:00-04:00",
          "2024-10-07T00:00:00-04:00",
          "2024-10-08T00:00:00-04:00",
          "2024-10-09T00:00:00-04:00",
          "2024-10-10T00:00:00-04:00",
          "2024-10-11T00:00:00-04:00",
          "2024-10-14T00:00:00-04:00",
          "2024-10-15T00:00:00-04:00",
          "2024-10-16T00:00:00-04:00",
          "2024-10-17T00:00:00-04:00",
          "2024-10-18T00:00:00-04:00",
          "2024-10-21T00:00:00-04:00",
          "2024-10-22T00:00:00-04:00",
          "2024-10-23T00:00:00-04:00",
          "2024-10-24T00:00:00-04:00",
          "2024-10-25T00:00:00-04:00",
          "2024-10-28T00:00:00-04:00",
          "2024-10-29T00:00:00-04:00",
          "2024-10-30T00:00:00-04:00",
          "2024-10-31T00:00:00-04:00",
          "2024-11-01T00:00:00-04:00",
          "2024-11-04T00:00:00-05:00",
          "2024-11-05T00:00:00-05:00",
          "2024-11-06T00:00:00-05:00",
          "2024-11-07T00:00:00-05:00",
          "2024-11-08T00:00:00-05:00",
          "2024-11-11T00:00:00-05:00",
          "2024-11-12T00:00:00-05:00",
          "2024-11-13T00:00:00-05:00",
          "2024-11-14T00:00:00-05:00",
          "2024-11-15T00:00:00-05:00",
          "2024-11-18T00:00:00-05:00",
          "2024-11-19T00:00:00-05:00",
          "2024-11-20T00:00:00-05:00",
          "2024-11-21T00:00:00-05:00",
          "2024-11-22T00:00:00-05:00",
          "2024-11-25T00:00:00-05:00",
          "2024-11-26T00:00:00-05:00",
          "2024-11-27T00:00:00-05:00",
          "2024-11-29T00:00:00-05:00",
          "2024-12-02T00:00:00-05:00",
          "2024-12-03T00:00:00-05:00",
          "2024-12-04T00:00:00-05:00",
          "2024-12-05T00:00:00-05:00",
          "2024-12-06T00:00:00-05:00",
          "2024-12-09T00:00:00-05:00",
          "2024-12-10T00:00:00-05:00",
          "2024-12-11T00:00:00-05:00",
          "2024-12-12T00:00:00-05:00",
          "2024-12-13T00:00:00-05:00",
          "2024-12-16T00:00:00-05:00",
          "2024-12-17T00:00:00-05:00",
          "2024-12-18T00:00:00-05:00",
          "2024-12-19T00:00:00-05:00",
          "2024-12-20T00:00:00-05:00",
          "2024-12-23T00:00:00-05:00",
          "2024-12-24T00:00:00-05:00",
          "2024-12-26T00:00:00-05:00",
          "2024-12-27T00:00:00-05:00",
          "2024-12-30T00:00:00-05:00",
          "2024-12-31T00:00:00-05:00",
          "2025-01-02T00:00:00-05:00",
          "2025-01-03T00:00:00-05:00",
          "2025-01-06T00:00:00-05:00",
          "2025-01-07T00:00:00-05:00",
          "2025-01-08T00:00:00-05:00",
          "2025-01-10T00:00:00-05:00",
          "2025-01-13T00:00:00-05:00",
          "2025-01-14T00:00:00-05:00",
          "2025-01-15T00:00:00-05:00"
         ],
         "y": [
          null,
          null,
          null,
          null,
          null,
          null,
          null,
          null,
          null,
          null,
          null,
          null,
          null,
          null,
          null,
          null,
          null,
          null,
          null,
          null,
          null,
          null,
          null,
          null,
          null,
          null,
          null,
          null,
          null,
          195.76433333333335,
          195.16866666666667,
          194.71300000000002,
          194.405,
          193.60333333333335,
          192.668,
          191.58133333333333,
          190.60866666666666,
          190.36566666666664,
          190.183,
          189.73666666666668,
          188.99966666666666,
          188.17333333333332,
          187.33033333333333,
          186.86,
          186.53533333333334,
          186.22066666666666,
          185.72866666666667,
          185.1043333333333,
          184.40633333333332,
          184.05766666666665,
          183.918,
          183.48733333333334,
          182.64633333333333,
          181.53566666666666,
          180.68966666666668,
          179.90099999999998,
          178.81733333333335,
          178.1843333333333,
          177.43366666666668,
          176.50133333333332,
          175.58666666666664,
          174.559,
          173.187,
          172.15266666666668,
          171.30966666666666,
          170.4226666666667,
          169.36933333333334,
          168.25966666666667,
          167.15666666666667,
          166.643,
          166.66633333333337,
          166.85933333333335,
          167.87533333333334,
          168.19133333333332,
          168.48033333333333,
          168.62533333333334,
          168.90433333333334,
          169.36866666666668,
          169.54133333333337,
          169.443,
          169.181,
          168.937,
          168.826,
          169.19,
          169.37699999999998,
          169.50133333333332,
          169.92,
          169.98566666666665,
          170.30966666666666,
          170.588,
          170.55933333333334,
          170.83233333333334,
          171.34133333333332,
          171.97733333333332,
          172.75533333333334,
          173.69366666666664,
          174.66833333333332,
          175.75900000000001,
          176.76966666666667,
          177.29666666666665,
          177.54,
          177.72333333333333,
          176.94366666666664,
          176.744,
          176.82666666666668,
          176.76000000000002,
          176.96833333333333,
          176.97166666666666,
          177.097,
          177.37333333333333,
          177.727,
          178.3563333333333,
          179.17233333333334,
          179.83466666666666,
          180.631,
          181.79833333333332,
          183.59166666666667,
          185.973,
          188.137,
          190.56466666666668,
          193.51766666666666,
          196.31833333333333,
          198.46099999999998,
          200.86233333333334,
          203.324,
          205.94000000000003,
          208.347,
          210.829,
          212.969,
          215.42133333333334,
          217.718,
          219.12466666666666,
          220.77766666666668,
          222.19466666666668,
          223.849,
          225.33599999999998,
          226.82366666666667,
          227.89033333333333,
          228.7603333333333,
          229.28933333333333,
          229.89133333333334,
          230.03833333333333,
          230.12066666666666,
          230.20666666666665,
          230.19366666666664,
          230.12600000000003,
          229.13,
          228.05499999999998,
          226.875,
          225.86766666666665,
          224.49333333333334,
          223.1603333333333,
          222.148,
          221.2176666666667,
          219.90333333333334,
          218.325,
          216.9,
          215.46833333333333,
          214.632,
          213.26833333333335,
          212.36933333333334,
          212.842,
          212.52466666666666,
          212.407,
          212.20933333333335,
          212.393,
          212.31766666666667,
          212.76533333333333,
          213.40233333333333,
          214.36866666666668,
          215.254,
          216.99266666666668,
          218.30633333333336,
          219.973,
          221.86566666666667,
          223.50533333333334,
          225.26666666666668,
          226.81066666666666,
          228.32766666666666,
          229.50433333333334,
          230.43499999999997,
          231.01466666666664,
          232.3286666666667,
          233.01233333333332,
          234.05533333333332,
          235.11666666666667,
          236.21733333333336,
          236.60133333333334,
          236.76966666666667,
          237.06866666666664,
          237.13266666666667,
          236.82333333333332,
          237.15566666666666,
          237.24166666666667,
          236.9683333333333,
          236.48566666666665,
          237.50799999999998,
          238.8046666666667,
          239.9956666666667,
          241.05066666666664,
          242.06233333333333,
          242.25999999999996,
          242.61766666666665,
          242.379,
          242.28466666666665,
          243.33499999999998,
          244.758,
          246.78333333333333,
          249.72899999999998,
          252.078,
          254.78533333333334,
          257.136,
          259.49066666666664,
          262.75433333333336,
          266.1376666666667,
          269.5036666666667,
          272.866,
          277.358,
          281.339,
          285.2943333333333,
          289.013,
          293.1553333333334,
          297.70166666666665,
          302.12066666666664,
          306.786,
          311.98066666666665,
          316.272,
          320.29200000000003,
          324.908,
          330.41633333333334,
          335.76800000000003,
          341.98066666666665,
          349.11533333333335,
          357.016,
          363.3056666666667,
          368.227,
          372.3653333333333,
          376.0113333333333,
          379.754,
          383.942,
          387.3226666666667,
          390.8636666666667,
          393.6343333333333,
          394.98566666666665,
          397.13366666666667,
          399.43433333333337,
          401.2583333333333,
          402.67100000000005,
          404.54266666666666,
          406.71200000000005,
          408.82766666666674,
          411.5963333333333
         ]
        }
       ],
       "layout": {
        "height": 400,
        "template": {
         "data": {
          "bar": [
           {
            "error_x": {
             "color": "#2a3f5f"
            },
            "error_y": {
             "color": "#2a3f5f"
            },
            "marker": {
             "line": {
              "color": "#E5ECF6",
              "width": 0.5
             },
             "pattern": {
              "fillmode": "overlay",
              "size": 10,
              "solidity": 0.2
             }
            },
            "type": "bar"
           }
          ],
          "barpolar": [
           {
            "marker": {
             "line": {
              "color": "#E5ECF6",
              "width": 0.5
             },
             "pattern": {
              "fillmode": "overlay",
              "size": 10,
              "solidity": 0.2
             }
            },
            "type": "barpolar"
           }
          ],
          "carpet": [
           {
            "aaxis": {
             "endlinecolor": "#2a3f5f",
             "gridcolor": "white",
             "linecolor": "white",
             "minorgridcolor": "white",
             "startlinecolor": "#2a3f5f"
            },
            "baxis": {
             "endlinecolor": "#2a3f5f",
             "gridcolor": "white",
             "linecolor": "white",
             "minorgridcolor": "white",
             "startlinecolor": "#2a3f5f"
            },
            "type": "carpet"
           }
          ],
          "choropleth": [
           {
            "colorbar": {
             "outlinewidth": 0,
             "ticks": ""
            },
            "type": "choropleth"
           }
          ],
          "contour": [
           {
            "colorbar": {
             "outlinewidth": 0,
             "ticks": ""
            },
            "colorscale": [
             [
              0,
              "#0d0887"
             ],
             [
              0.1111111111111111,
              "#46039f"
             ],
             [
              0.2222222222222222,
              "#7201a8"
             ],
             [
              0.3333333333333333,
              "#9c179e"
             ],
             [
              0.4444444444444444,
              "#bd3786"
             ],
             [
              0.5555555555555556,
              "#d8576b"
             ],
             [
              0.6666666666666666,
              "#ed7953"
             ],
             [
              0.7777777777777778,
              "#fb9f3a"
             ],
             [
              0.8888888888888888,
              "#fdca26"
             ],
             [
              1,
              "#f0f921"
             ]
            ],
            "type": "contour"
           }
          ],
          "contourcarpet": [
           {
            "colorbar": {
             "outlinewidth": 0,
             "ticks": ""
            },
            "type": "contourcarpet"
           }
          ],
          "heatmap": [
           {
            "colorbar": {
             "outlinewidth": 0,
             "ticks": ""
            },
            "colorscale": [
             [
              0,
              "#0d0887"
             ],
             [
              0.1111111111111111,
              "#46039f"
             ],
             [
              0.2222222222222222,
              "#7201a8"
             ],
             [
              0.3333333333333333,
              "#9c179e"
             ],
             [
              0.4444444444444444,
              "#bd3786"
             ],
             [
              0.5555555555555556,
              "#d8576b"
             ],
             [
              0.6666666666666666,
              "#ed7953"
             ],
             [
              0.7777777777777778,
              "#fb9f3a"
             ],
             [
              0.8888888888888888,
              "#fdca26"
             ],
             [
              1,
              "#f0f921"
             ]
            ],
            "type": "heatmap"
           }
          ],
          "heatmapgl": [
           {
            "colorbar": {
             "outlinewidth": 0,
             "ticks": ""
            },
            "colorscale": [
             [
              0,
              "#0d0887"
             ],
             [
              0.1111111111111111,
              "#46039f"
             ],
             [
              0.2222222222222222,
              "#7201a8"
             ],
             [
              0.3333333333333333,
              "#9c179e"
             ],
             [
              0.4444444444444444,
              "#bd3786"
             ],
             [
              0.5555555555555556,
              "#d8576b"
             ],
             [
              0.6666666666666666,
              "#ed7953"
             ],
             [
              0.7777777777777778,
              "#fb9f3a"
             ],
             [
              0.8888888888888888,
              "#fdca26"
             ],
             [
              1,
              "#f0f921"
             ]
            ],
            "type": "heatmapgl"
           }
          ],
          "histogram": [
           {
            "marker": {
             "pattern": {
              "fillmode": "overlay",
              "size": 10,
              "solidity": 0.2
             }
            },
            "type": "histogram"
           }
          ],
          "histogram2d": [
           {
            "colorbar": {
             "outlinewidth": 0,
             "ticks": ""
            },
            "colorscale": [
             [
              0,
              "#0d0887"
             ],
             [
              0.1111111111111111,
              "#46039f"
             ],
             [
              0.2222222222222222,
              "#7201a8"
             ],
             [
              0.3333333333333333,
              "#9c179e"
             ],
             [
              0.4444444444444444,
              "#bd3786"
             ],
             [
              0.5555555555555556,
              "#d8576b"
             ],
             [
              0.6666666666666666,
              "#ed7953"
             ],
             [
              0.7777777777777778,
              "#fb9f3a"
             ],
             [
              0.8888888888888888,
              "#fdca26"
             ],
             [
              1,
              "#f0f921"
             ]
            ],
            "type": "histogram2d"
           }
          ],
          "histogram2dcontour": [
           {
            "colorbar": {
             "outlinewidth": 0,
             "ticks": ""
            },
            "colorscale": [
             [
              0,
              "#0d0887"
             ],
             [
              0.1111111111111111,
              "#46039f"
             ],
             [
              0.2222222222222222,
              "#7201a8"
             ],
             [
              0.3333333333333333,
              "#9c179e"
             ],
             [
              0.4444444444444444,
              "#bd3786"
             ],
             [
              0.5555555555555556,
              "#d8576b"
             ],
             [
              0.6666666666666666,
              "#ed7953"
             ],
             [
              0.7777777777777778,
              "#fb9f3a"
             ],
             [
              0.8888888888888888,
              "#fdca26"
             ],
             [
              1,
              "#f0f921"
             ]
            ],
            "type": "histogram2dcontour"
           }
          ],
          "mesh3d": [
           {
            "colorbar": {
             "outlinewidth": 0,
             "ticks": ""
            },
            "type": "mesh3d"
           }
          ],
          "parcoords": [
           {
            "line": {
             "colorbar": {
              "outlinewidth": 0,
              "ticks": ""
             }
            },
            "type": "parcoords"
           }
          ],
          "pie": [
           {
            "automargin": true,
            "type": "pie"
           }
          ],
          "scatter": [
           {
            "fillpattern": {
             "fillmode": "overlay",
             "size": 10,
             "solidity": 0.2
            },
            "type": "scatter"
           }
          ],
          "scatter3d": [
           {
            "line": {
             "colorbar": {
              "outlinewidth": 0,
              "ticks": ""
             }
            },
            "marker": {
             "colorbar": {
              "outlinewidth": 0,
              "ticks": ""
             }
            },
            "type": "scatter3d"
           }
          ],
          "scattercarpet": [
           {
            "marker": {
             "colorbar": {
              "outlinewidth": 0,
              "ticks": ""
             }
            },
            "type": "scattercarpet"
           }
          ],
          "scattergeo": [
           {
            "marker": {
             "colorbar": {
              "outlinewidth": 0,
              "ticks": ""
             }
            },
            "type": "scattergeo"
           }
          ],
          "scattergl": [
           {
            "marker": {
             "colorbar": {
              "outlinewidth": 0,
              "ticks": ""
             }
            },
            "type": "scattergl"
           }
          ],
          "scattermapbox": [
           {
            "marker": {
             "colorbar": {
              "outlinewidth": 0,
              "ticks": ""
             }
            },
            "type": "scattermapbox"
           }
          ],
          "scatterpolar": [
           {
            "marker": {
             "colorbar": {
              "outlinewidth": 0,
              "ticks": ""
             }
            },
            "type": "scatterpolar"
           }
          ],
          "scatterpolargl": [
           {
            "marker": {
             "colorbar": {
              "outlinewidth": 0,
              "ticks": ""
             }
            },
            "type": "scatterpolargl"
           }
          ],
          "scatterternary": [
           {
            "marker": {
             "colorbar": {
              "outlinewidth": 0,
              "ticks": ""
             }
            },
            "type": "scatterternary"
           }
          ],
          "surface": [
           {
            "colorbar": {
             "outlinewidth": 0,
             "ticks": ""
            },
            "colorscale": [
             [
              0,
              "#0d0887"
             ],
             [
              0.1111111111111111,
              "#46039f"
             ],
             [
              0.2222222222222222,
              "#7201a8"
             ],
             [
              0.3333333333333333,
              "#9c179e"
             ],
             [
              0.4444444444444444,
              "#bd3786"
             ],
             [
              0.5555555555555556,
              "#d8576b"
             ],
             [
              0.6666666666666666,
              "#ed7953"
             ],
             [
              0.7777777777777778,
              "#fb9f3a"
             ],
             [
              0.8888888888888888,
              "#fdca26"
             ],
             [
              1,
              "#f0f921"
             ]
            ],
            "type": "surface"
           }
          ],
          "table": [
           {
            "cells": {
             "fill": {
              "color": "#EBF0F8"
             },
             "line": {
              "color": "white"
             }
            },
            "header": {
             "fill": {
              "color": "#C8D4E3"
             },
             "line": {
              "color": "white"
             }
            },
            "type": "table"
           }
          ]
         },
         "layout": {
          "annotationdefaults": {
           "arrowcolor": "#2a3f5f",
           "arrowhead": 0,
           "arrowwidth": 1
          },
          "autotypenumbers": "strict",
          "coloraxis": {
           "colorbar": {
            "outlinewidth": 0,
            "ticks": ""
           }
          },
          "colorscale": {
           "diverging": [
            [
             0,
             "#8e0152"
            ],
            [
             0.1,
             "#c51b7d"
            ],
            [
             0.2,
             "#de77ae"
            ],
            [
             0.3,
             "#f1b6da"
            ],
            [
             0.4,
             "#fde0ef"
            ],
            [
             0.5,
             "#f7f7f7"
            ],
            [
             0.6,
             "#e6f5d0"
            ],
            [
             0.7,
             "#b8e186"
            ],
            [
             0.8,
             "#7fbc41"
            ],
            [
             0.9,
             "#4d9221"
            ],
            [
             1,
             "#276419"
            ]
           ],
           "sequential": [
            [
             0,
             "#0d0887"
            ],
            [
             0.1111111111111111,
             "#46039f"
            ],
            [
             0.2222222222222222,
             "#7201a8"
            ],
            [
             0.3333333333333333,
             "#9c179e"
            ],
            [
             0.4444444444444444,
             "#bd3786"
            ],
            [
             0.5555555555555556,
             "#d8576b"
            ],
            [
             0.6666666666666666,
             "#ed7953"
            ],
            [
             0.7777777777777778,
             "#fb9f3a"
            ],
            [
             0.8888888888888888,
             "#fdca26"
            ],
            [
             1,
             "#f0f921"
            ]
           ],
           "sequentialminus": [
            [
             0,
             "#0d0887"
            ],
            [
             0.1111111111111111,
             "#46039f"
            ],
            [
             0.2222222222222222,
             "#7201a8"
            ],
            [
             0.3333333333333333,
             "#9c179e"
            ],
            [
             0.4444444444444444,
             "#bd3786"
            ],
            [
             0.5555555555555556,
             "#d8576b"
            ],
            [
             0.6666666666666666,
             "#ed7953"
            ],
            [
             0.7777777777777778,
             "#fb9f3a"
            ],
            [
             0.8888888888888888,
             "#fdca26"
            ],
            [
             1,
             "#f0f921"
            ]
           ]
          },
          "colorway": [
           "#636efa",
           "#EF553B",
           "#00cc96",
           "#ab63fa",
           "#FFA15A",
           "#19d3f3",
           "#FF6692",
           "#B6E880",
           "#FF97FF",
           "#FECB52"
          ],
          "font": {
           "color": "#2a3f5f"
          },
          "geo": {
           "bgcolor": "white",
           "lakecolor": "white",
           "landcolor": "#E5ECF6",
           "showlakes": true,
           "showland": true,
           "subunitcolor": "white"
          },
          "hoverlabel": {
           "align": "left"
          },
          "hovermode": "closest",
          "mapbox": {
           "style": "light"
          },
          "paper_bgcolor": "white",
          "plot_bgcolor": "#E5ECF6",
          "polar": {
           "angularaxis": {
            "gridcolor": "white",
            "linecolor": "white",
            "ticks": ""
           },
           "bgcolor": "#E5ECF6",
           "radialaxis": {
            "gridcolor": "white",
            "linecolor": "white",
            "ticks": ""
           }
          },
          "scene": {
           "xaxis": {
            "backgroundcolor": "#E5ECF6",
            "gridcolor": "white",
            "gridwidth": 2,
            "linecolor": "white",
            "showbackground": true,
            "ticks": "",
            "zerolinecolor": "white"
           },
           "yaxis": {
            "backgroundcolor": "#E5ECF6",
            "gridcolor": "white",
            "gridwidth": 2,
            "linecolor": "white",
            "showbackground": true,
            "ticks": "",
            "zerolinecolor": "white"
           },
           "zaxis": {
            "backgroundcolor": "#E5ECF6",
            "gridcolor": "white",
            "gridwidth": 2,
            "linecolor": "white",
            "showbackground": true,
            "ticks": "",
            "zerolinecolor": "white"
           }
          },
          "shapedefaults": {
           "line": {
            "color": "#2a3f5f"
           }
          },
          "ternary": {
           "aaxis": {
            "gridcolor": "white",
            "linecolor": "white",
            "ticks": ""
           },
           "baxis": {
            "gridcolor": "white",
            "linecolor": "white",
            "ticks": ""
           },
           "bgcolor": "#E5ECF6",
           "caxis": {
            "gridcolor": "white",
            "linecolor": "white",
            "ticks": ""
           }
          },
          "title": {
           "x": 0.05
          },
          "xaxis": {
           "automargin": true,
           "gridcolor": "white",
           "linecolor": "white",
           "ticks": "",
           "title": {
            "standoff": 15
           },
           "zerolinecolor": "white",
           "zerolinewidth": 2
          },
          "yaxis": {
           "automargin": true,
           "gridcolor": "white",
           "linecolor": "white",
           "ticks": "",
           "title": {
            "standoff": 15
           },
           "zerolinecolor": "white",
           "zerolinewidth": 2
          }
         }
        },
        "title": {
         "text": "TSLA"
        },
        "width": 600,
        "xaxis": {
         "rangeslider": {
          "visible": false
         }
        }
       }
      }
     },
     "metadata": {},
     "output_type": "display_data"
    },
    {
     "data": {
      "application/vnd.plotly.v1+json": {
       "config": {
        "plotlyServerURL": "https://plot.ly"
       },
       "data": [
        {
         "name": "Volume",
         "type": "bar",
         "x": [
          "2024-01-16T00:00:00-05:00",
          "2024-01-17T00:00:00-05:00",
          "2024-01-18T00:00:00-05:00",
          "2024-01-19T00:00:00-05:00",
          "2024-01-22T00:00:00-05:00",
          "2024-01-23T00:00:00-05:00",
          "2024-01-24T00:00:00-05:00",
          "2024-01-25T00:00:00-05:00",
          "2024-01-26T00:00:00-05:00",
          "2024-01-29T00:00:00-05:00",
          "2024-01-30T00:00:00-05:00",
          "2024-01-31T00:00:00-05:00",
          "2024-02-01T00:00:00-05:00",
          "2024-02-02T00:00:00-05:00",
          "2024-02-05T00:00:00-05:00",
          "2024-02-06T00:00:00-05:00",
          "2024-02-07T00:00:00-05:00",
          "2024-02-08T00:00:00-05:00",
          "2024-02-09T00:00:00-05:00",
          "2024-02-12T00:00:00-05:00",
          "2024-02-13T00:00:00-05:00",
          "2024-02-14T00:00:00-05:00",
          "2024-02-15T00:00:00-05:00",
          "2024-02-16T00:00:00-05:00",
          "2024-02-20T00:00:00-05:00",
          "2024-02-21T00:00:00-05:00",
          "2024-02-22T00:00:00-05:00",
          "2024-02-23T00:00:00-05:00",
          "2024-02-26T00:00:00-05:00",
          "2024-02-27T00:00:00-05:00",
          "2024-02-28T00:00:00-05:00",
          "2024-02-29T00:00:00-05:00",
          "2024-03-01T00:00:00-05:00",
          "2024-03-04T00:00:00-05:00",
          "2024-03-05T00:00:00-05:00",
          "2024-03-06T00:00:00-05:00",
          "2024-03-07T00:00:00-05:00",
          "2024-03-08T00:00:00-05:00",
          "2024-03-11T00:00:00-04:00",
          "2024-03-12T00:00:00-04:00",
          "2024-03-13T00:00:00-04:00",
          "2024-03-14T00:00:00-04:00",
          "2024-03-15T00:00:00-04:00",
          "2024-03-18T00:00:00-04:00",
          "2024-03-19T00:00:00-04:00",
          "2024-03-20T00:00:00-04:00",
          "2024-03-21T00:00:00-04:00",
          "2024-03-22T00:00:00-04:00",
          "2024-03-25T00:00:00-04:00",
          "2024-03-26T00:00:00-04:00",
          "2024-03-27T00:00:00-04:00",
          "2024-03-28T00:00:00-04:00",
          "2024-04-01T00:00:00-04:00",
          "2024-04-02T00:00:00-04:00",
          "2024-04-03T00:00:00-04:00",
          "2024-04-04T00:00:00-04:00",
          "2024-04-05T00:00:00-04:00",
          "2024-04-08T00:00:00-04:00",
          "2024-04-09T00:00:00-04:00",
          "2024-04-10T00:00:00-04:00",
          "2024-04-11T00:00:00-04:00",
          "2024-04-12T00:00:00-04:00",
          "2024-04-15T00:00:00-04:00",
          "2024-04-16T00:00:00-04:00",
          "2024-04-17T00:00:00-04:00",
          "2024-04-18T00:00:00-04:00",
          "2024-04-19T00:00:00-04:00",
          "2024-04-22T00:00:00-04:00",
          "2024-04-23T00:00:00-04:00",
          "2024-04-24T00:00:00-04:00",
          "2024-04-25T00:00:00-04:00",
          "2024-04-26T00:00:00-04:00",
          "2024-04-29T00:00:00-04:00",
          "2024-04-30T00:00:00-04:00",
          "2024-05-01T00:00:00-04:00",
          "2024-05-02T00:00:00-04:00",
          "2024-05-03T00:00:00-04:00",
          "2024-05-06T00:00:00-04:00",
          "2024-05-07T00:00:00-04:00",
          "2024-05-08T00:00:00-04:00",
          "2024-05-09T00:00:00-04:00",
          "2024-05-10T00:00:00-04:00",
          "2024-05-13T00:00:00-04:00",
          "2024-05-14T00:00:00-04:00",
          "2024-05-15T00:00:00-04:00",
          "2024-05-16T00:00:00-04:00",
          "2024-05-17T00:00:00-04:00",
          "2024-05-20T00:00:00-04:00",
          "2024-05-21T00:00:00-04:00",
          "2024-05-22T00:00:00-04:00",
          "2024-05-23T00:00:00-04:00",
          "2024-05-24T00:00:00-04:00",
          "2024-05-28T00:00:00-04:00",
          "2024-05-29T00:00:00-04:00",
          "2024-05-30T00:00:00-04:00",
          "2024-05-31T00:00:00-04:00",
          "2024-06-03T00:00:00-04:00",
          "2024-06-04T00:00:00-04:00",
          "2024-06-05T00:00:00-04:00",
          "2024-06-06T00:00:00-04:00",
          "2024-06-07T00:00:00-04:00",
          "2024-06-10T00:00:00-04:00",
          "2024-06-11T00:00:00-04:00",
          "2024-06-12T00:00:00-04:00",
          "2024-06-13T00:00:00-04:00",
          "2024-06-14T00:00:00-04:00",
          "2024-06-17T00:00:00-04:00",
          "2024-06-18T00:00:00-04:00",
          "2024-06-20T00:00:00-04:00",
          "2024-06-21T00:00:00-04:00",
          "2024-06-24T00:00:00-04:00",
          "2024-06-25T00:00:00-04:00",
          "2024-06-26T00:00:00-04:00",
          "2024-06-27T00:00:00-04:00",
          "2024-06-28T00:00:00-04:00",
          "2024-07-01T00:00:00-04:00",
          "2024-07-02T00:00:00-04:00",
          "2024-07-03T00:00:00-04:00",
          "2024-07-05T00:00:00-04:00",
          "2024-07-08T00:00:00-04:00",
          "2024-07-09T00:00:00-04:00",
          "2024-07-10T00:00:00-04:00",
          "2024-07-11T00:00:00-04:00",
          "2024-07-12T00:00:00-04:00",
          "2024-07-15T00:00:00-04:00",
          "2024-07-16T00:00:00-04:00",
          "2024-07-17T00:00:00-04:00",
          "2024-07-18T00:00:00-04:00",
          "2024-07-19T00:00:00-04:00",
          "2024-07-22T00:00:00-04:00",
          "2024-07-23T00:00:00-04:00",
          "2024-07-24T00:00:00-04:00",
          "2024-07-25T00:00:00-04:00",
          "2024-07-26T00:00:00-04:00",
          "2024-07-29T00:00:00-04:00",
          "2024-07-30T00:00:00-04:00",
          "2024-07-31T00:00:00-04:00",
          "2024-08-01T00:00:00-04:00",
          "2024-08-02T00:00:00-04:00",
          "2024-08-05T00:00:00-04:00",
          "2024-08-06T00:00:00-04:00",
          "2024-08-07T00:00:00-04:00",
          "2024-08-08T00:00:00-04:00",
          "2024-08-09T00:00:00-04:00",
          "2024-08-12T00:00:00-04:00",
          "2024-08-13T00:00:00-04:00",
          "2024-08-14T00:00:00-04:00",
          "2024-08-15T00:00:00-04:00",
          "2024-08-16T00:00:00-04:00",
          "2024-08-19T00:00:00-04:00",
          "2024-08-20T00:00:00-04:00",
          "2024-08-21T00:00:00-04:00",
          "2024-08-22T00:00:00-04:00",
          "2024-08-23T00:00:00-04:00",
          "2024-08-26T00:00:00-04:00",
          "2024-08-27T00:00:00-04:00",
          "2024-08-28T00:00:00-04:00",
          "2024-08-29T00:00:00-04:00",
          "2024-08-30T00:00:00-04:00",
          "2024-09-03T00:00:00-04:00",
          "2024-09-04T00:00:00-04:00",
          "2024-09-05T00:00:00-04:00",
          "2024-09-06T00:00:00-04:00",
          "2024-09-09T00:00:00-04:00",
          "2024-09-10T00:00:00-04:00",
          "2024-09-11T00:00:00-04:00",
          "2024-09-12T00:00:00-04:00",
          "2024-09-13T00:00:00-04:00",
          "2024-09-16T00:00:00-04:00",
          "2024-09-17T00:00:00-04:00",
          "2024-09-18T00:00:00-04:00",
          "2024-09-19T00:00:00-04:00",
          "2024-09-20T00:00:00-04:00",
          "2024-09-23T00:00:00-04:00",
          "2024-09-24T00:00:00-04:00",
          "2024-09-25T00:00:00-04:00",
          "2024-09-26T00:00:00-04:00",
          "2024-09-27T00:00:00-04:00",
          "2024-09-30T00:00:00-04:00",
          "2024-10-01T00:00:00-04:00",
          "2024-10-02T00:00:00-04:00",
          "2024-10-03T00:00:00-04:00",
          "2024-10-04T00:00:00-04:00",
          "2024-10-07T00:00:00-04:00",
          "2024-10-08T00:00:00-04:00",
          "2024-10-09T00:00:00-04:00",
          "2024-10-10T00:00:00-04:00",
          "2024-10-11T00:00:00-04:00",
          "2024-10-14T00:00:00-04:00",
          "2024-10-15T00:00:00-04:00",
          "2024-10-16T00:00:00-04:00",
          "2024-10-17T00:00:00-04:00",
          "2024-10-18T00:00:00-04:00",
          "2024-10-21T00:00:00-04:00",
          "2024-10-22T00:00:00-04:00",
          "2024-10-23T00:00:00-04:00",
          "2024-10-24T00:00:00-04:00",
          "2024-10-25T00:00:00-04:00",
          "2024-10-28T00:00:00-04:00",
          "2024-10-29T00:00:00-04:00",
          "2024-10-30T00:00:00-04:00",
          "2024-10-31T00:00:00-04:00",
          "2024-11-01T00:00:00-04:00",
          "2024-11-04T00:00:00-05:00",
          "2024-11-05T00:00:00-05:00",
          "2024-11-06T00:00:00-05:00",
          "2024-11-07T00:00:00-05:00",
          "2024-11-08T00:00:00-05:00",
          "2024-11-11T00:00:00-05:00",
          "2024-11-12T00:00:00-05:00",
          "2024-11-13T00:00:00-05:00",
          "2024-11-14T00:00:00-05:00",
          "2024-11-15T00:00:00-05:00",
          "2024-11-18T00:00:00-05:00",
          "2024-11-19T00:00:00-05:00",
          "2024-11-20T00:00:00-05:00",
          "2024-11-21T00:00:00-05:00",
          "2024-11-22T00:00:00-05:00",
          "2024-11-25T00:00:00-05:00",
          "2024-11-26T00:00:00-05:00",
          "2024-11-27T00:00:00-05:00",
          "2024-11-29T00:00:00-05:00",
          "2024-12-02T00:00:00-05:00",
          "2024-12-03T00:00:00-05:00",
          "2024-12-04T00:00:00-05:00",
          "2024-12-05T00:00:00-05:00",
          "2024-12-06T00:00:00-05:00",
          "2024-12-09T00:00:00-05:00",
          "2024-12-10T00:00:00-05:00",
          "2024-12-11T00:00:00-05:00",
          "2024-12-12T00:00:00-05:00",
          "2024-12-13T00:00:00-05:00",
          "2024-12-16T00:00:00-05:00",
          "2024-12-17T00:00:00-05:00",
          "2024-12-18T00:00:00-05:00",
          "2024-12-19T00:00:00-05:00",
          "2024-12-20T00:00:00-05:00",
          "2024-12-23T00:00:00-05:00",
          "2024-12-24T00:00:00-05:00",
          "2024-12-26T00:00:00-05:00",
          "2024-12-27T00:00:00-05:00",
          "2024-12-30T00:00:00-05:00",
          "2024-12-31T00:00:00-05:00",
          "2025-01-02T00:00:00-05:00",
          "2025-01-03T00:00:00-05:00",
          "2025-01-06T00:00:00-05:00",
          "2025-01-07T00:00:00-05:00",
          "2025-01-08T00:00:00-05:00",
          "2025-01-10T00:00:00-05:00",
          "2025-01-13T00:00:00-05:00",
          "2025-01-14T00:00:00-05:00",
          "2025-01-15T00:00:00-05:00"
         ],
         "y": [
          115355000,
          103164400,
          108595400,
          102095800,
          117952500,
          106605900,
          123369900,
          198076800,
          107343200,
          125013100,
          109982300,
          103221400,
          91843300,
          110505100,
          134294400,
          122676000,
          111535200,
          83034000,
          84476300,
          95498600,
          86759500,
          81203000,
          120831800,
          111173600,
          104545800,
          103844000,
          92739500,
          78841900,
          111747100,
          108645400,
          99806200,
          85907000,
          82099200,
          134334900,
          119660800,
          107920900,
          102129000,
          85315300,
          85391500,
          87391700,
          106524500,
          126325700,
          96971900,
          108214400,
          77271400,
          83846700,
          73178000,
          75454700,
          74228600,
          113186200,
          81804000,
          77654800,
          81562100,
          116650600,
          82950100,
          123162000,
          141250700,
          104423300,
          103232700,
          84532400,
          94516000,
          64506600,
          100245300,
          97000000,
          82439700,
          96098800,
          86005100,
          107097600,
          124545100,
          181178000,
          126427500,
          109815700,
          243869700,
          127031800,
          92829700,
          89148000,
          75491500,
          84390300,
          75045900,
          79969500,
          65950300,
          72627200,
          67018900,
          86407400,
          79663000,
          59812200,
          77445800,
          61727400,
          115266500,
          88313500,
          71975500,
          65479700,
          59736600,
          54782600,
          77784800,
          67314600,
          68568900,
          60056300,
          57953800,
          69887000,
          56244900,
          50869700,
          64761900,
          90389400,
          118984100,
          82038200,
          109786100,
          68982300,
          55893100,
          63029500,
          61992100,
          63678300,
          95737100,
          72746500,
          95438100,
          135691400,
          205047900,
          166561500,
          154501200,
          157219600,
          160210900,
          128519400,
          221707300,
          155955800,
          146912900,
          126332500,
          115584800,
          110869000,
          87403900,
          101225400,
          111928200,
          167942900,
          100636500,
          94604100,
          129201800,
          100560300,
          67497000,
          83861900,
          82880100,
          100308800,
          73783900,
          71159800,
          65033900,
          58648300,
          64044900,
          76247400,
          70250000,
          89848500,
          88765100,
          76435200,
          74001200,
          70146000,
          79514500,
          81525200,
          59301200,
          62821400,
          64116400,
          62308800,
          63370600,
          76714200,
          80651800,
          119355000,
          112177000,
          67443500,
          78891100,
          83548600,
          72020000,
          59515100,
          54323000,
          66761600,
          78010200,
          102694600,
          99879100,
          86927200,
          88491000,
          65034300,
          67142200,
          70988100,
          80705700,
          87397600,
          93983900,
          80729200,
          86573200,
          68113300,
          56303200,
          66289500,
          83087100,
          142628900,
          86291900,
          62988800,
          49632800,
          50791800,
          49611900,
          47329000,
          43268700,
          80938900,
          204491900,
          161611900,
          107653600,
          80521800,
          53993600,
          66575300,
          57544800,
          68802400,
          69282500,
          165228700,
          117309200,
          204782800,
          210521600,
          155726000,
          125405600,
          120726100,
          114440300,
          126547500,
          88852500,
          66340700,
          58011700,
          89140700,
          95890900,
          62295900,
          57896400,
          37167600,
          77986500,
          58267200,
          50810900,
          81403600,
          81455800,
          96359200,
          97563600,
          104287600,
          87752200,
          89000200,
          114083800,
          131223000,
          149340800,
          118566100,
          132216200,
          72698100,
          59551800,
          76366400,
          82666800,
          64941000,
          76825100,
          109710700,
          95423300,
          85516500,
          75699500,
          73038800,
          62287300,
          67580500,
          84084000,
          79438733
         ]
        },
        {
         "name": "Average",
         "type": "scatter",
         "x": [
          "2024-01-16T00:00:00-05:00",
          "2024-01-17T00:00:00-05:00",
          "2024-01-18T00:00:00-05:00",
          "2024-01-19T00:00:00-05:00",
          "2024-01-22T00:00:00-05:00",
          "2024-01-23T00:00:00-05:00",
          "2024-01-24T00:00:00-05:00",
          "2024-01-25T00:00:00-05:00",
          "2024-01-26T00:00:00-05:00",
          "2024-01-29T00:00:00-05:00",
          "2024-01-30T00:00:00-05:00",
          "2024-01-31T00:00:00-05:00",
          "2024-02-01T00:00:00-05:00",
          "2024-02-02T00:00:00-05:00",
          "2024-02-05T00:00:00-05:00",
          "2024-02-06T00:00:00-05:00",
          "2024-02-07T00:00:00-05:00",
          "2024-02-08T00:00:00-05:00",
          "2024-02-09T00:00:00-05:00",
          "2024-02-12T00:00:00-05:00",
          "2024-02-13T00:00:00-05:00",
          "2024-02-14T00:00:00-05:00",
          "2024-02-15T00:00:00-05:00",
          "2024-02-16T00:00:00-05:00",
          "2024-02-20T00:00:00-05:00",
          "2024-02-21T00:00:00-05:00",
          "2024-02-22T00:00:00-05:00",
          "2024-02-23T00:00:00-05:00",
          "2024-02-26T00:00:00-05:00",
          "2024-02-27T00:00:00-05:00",
          "2024-02-28T00:00:00-05:00",
          "2024-02-29T00:00:00-05:00",
          "2024-03-01T00:00:00-05:00",
          "2024-03-04T00:00:00-05:00",
          "2024-03-05T00:00:00-05:00",
          "2024-03-06T00:00:00-05:00",
          "2024-03-07T00:00:00-05:00",
          "2024-03-08T00:00:00-05:00",
          "2024-03-11T00:00:00-04:00",
          "2024-03-12T00:00:00-04:00",
          "2024-03-13T00:00:00-04:00",
          "2024-03-14T00:00:00-04:00",
          "2024-03-15T00:00:00-04:00",
          "2024-03-18T00:00:00-04:00",
          "2024-03-19T00:00:00-04:00",
          "2024-03-20T00:00:00-04:00",
          "2024-03-21T00:00:00-04:00",
          "2024-03-22T00:00:00-04:00",
          "2024-03-25T00:00:00-04:00",
          "2024-03-26T00:00:00-04:00",
          "2024-03-27T00:00:00-04:00",
          "2024-03-28T00:00:00-04:00",
          "2024-04-01T00:00:00-04:00",
          "2024-04-02T00:00:00-04:00",
          "2024-04-03T00:00:00-04:00",
          "2024-04-04T00:00:00-04:00",
          "2024-04-05T00:00:00-04:00",
          "2024-04-08T00:00:00-04:00",
          "2024-04-09T00:00:00-04:00",
          "2024-04-10T00:00:00-04:00",
          "2024-04-11T00:00:00-04:00",
          "2024-04-12T00:00:00-04:00",
          "2024-04-15T00:00:00-04:00",
          "2024-04-16T00:00:00-04:00",
          "2024-04-17T00:00:00-04:00",
          "2024-04-18T00:00:00-04:00",
          "2024-04-19T00:00:00-04:00",
          "2024-04-22T00:00:00-04:00",
          "2024-04-23T00:00:00-04:00",
          "2024-04-24T00:00:00-04:00",
          "2024-04-25T00:00:00-04:00",
          "2024-04-26T00:00:00-04:00",
          "2024-04-29T00:00:00-04:00",
          "2024-04-30T00:00:00-04:00",
          "2024-05-01T00:00:00-04:00",
          "2024-05-02T00:00:00-04:00",
          "2024-05-03T00:00:00-04:00",
          "2024-05-06T00:00:00-04:00",
          "2024-05-07T00:00:00-04:00",
          "2024-05-08T00:00:00-04:00",
          "2024-05-09T00:00:00-04:00",
          "2024-05-10T00:00:00-04:00",
          "2024-05-13T00:00:00-04:00",
          "2024-05-14T00:00:00-04:00",
          "2024-05-15T00:00:00-04:00",
          "2024-05-16T00:00:00-04:00",
          "2024-05-17T00:00:00-04:00",
          "2024-05-20T00:00:00-04:00",
          "2024-05-21T00:00:00-04:00",
          "2024-05-22T00:00:00-04:00",
          "2024-05-23T00:00:00-04:00",
          "2024-05-24T00:00:00-04:00",
          "2024-05-28T00:00:00-04:00",
          "2024-05-29T00:00:00-04:00",
          "2024-05-30T00:00:00-04:00",
          "2024-05-31T00:00:00-04:00",
          "2024-06-03T00:00:00-04:00",
          "2024-06-04T00:00:00-04:00",
          "2024-06-05T00:00:00-04:00",
          "2024-06-06T00:00:00-04:00",
          "2024-06-07T00:00:00-04:00",
          "2024-06-10T00:00:00-04:00",
          "2024-06-11T00:00:00-04:00",
          "2024-06-12T00:00:00-04:00",
          "2024-06-13T00:00:00-04:00",
          "2024-06-14T00:00:00-04:00",
          "2024-06-17T00:00:00-04:00",
          "2024-06-18T00:00:00-04:00",
          "2024-06-20T00:00:00-04:00",
          "2024-06-21T00:00:00-04:00",
          "2024-06-24T00:00:00-04:00",
          "2024-06-25T00:00:00-04:00",
          "2024-06-26T00:00:00-04:00",
          "2024-06-27T00:00:00-04:00",
          "2024-06-28T00:00:00-04:00",
          "2024-07-01T00:00:00-04:00",
          "2024-07-02T00:00:00-04:00",
          "2024-07-03T00:00:00-04:00",
          "2024-07-05T00:00:00-04:00",
          "2024-07-08T00:00:00-04:00",
          "2024-07-09T00:00:00-04:00",
          "2024-07-10T00:00:00-04:00",
          "2024-07-11T00:00:00-04:00",
          "2024-07-12T00:00:00-04:00",
          "2024-07-15T00:00:00-04:00",
          "2024-07-16T00:00:00-04:00",
          "2024-07-17T00:00:00-04:00",
          "2024-07-18T00:00:00-04:00",
          "2024-07-19T00:00:00-04:00",
          "2024-07-22T00:00:00-04:00",
          "2024-07-23T00:00:00-04:00",
          "2024-07-24T00:00:00-04:00",
          "2024-07-25T00:00:00-04:00",
          "2024-07-26T00:00:00-04:00",
          "2024-07-29T00:00:00-04:00",
          "2024-07-30T00:00:00-04:00",
          "2024-07-31T00:00:00-04:00",
          "2024-08-01T00:00:00-04:00",
          "2024-08-02T00:00:00-04:00",
          "2024-08-05T00:00:00-04:00",
          "2024-08-06T00:00:00-04:00",
          "2024-08-07T00:00:00-04:00",
          "2024-08-08T00:00:00-04:00",
          "2024-08-09T00:00:00-04:00",
          "2024-08-12T00:00:00-04:00",
          "2024-08-13T00:00:00-04:00",
          "2024-08-14T00:00:00-04:00",
          "2024-08-15T00:00:00-04:00",
          "2024-08-16T00:00:00-04:00",
          "2024-08-19T00:00:00-04:00",
          "2024-08-20T00:00:00-04:00",
          "2024-08-21T00:00:00-04:00",
          "2024-08-22T00:00:00-04:00",
          "2024-08-23T00:00:00-04:00",
          "2024-08-26T00:00:00-04:00",
          "2024-08-27T00:00:00-04:00",
          "2024-08-28T00:00:00-04:00",
          "2024-08-29T00:00:00-04:00",
          "2024-08-30T00:00:00-04:00",
          "2024-09-03T00:00:00-04:00",
          "2024-09-04T00:00:00-04:00",
          "2024-09-05T00:00:00-04:00",
          "2024-09-06T00:00:00-04:00",
          "2024-09-09T00:00:00-04:00",
          "2024-09-10T00:00:00-04:00",
          "2024-09-11T00:00:00-04:00",
          "2024-09-12T00:00:00-04:00",
          "2024-09-13T00:00:00-04:00",
          "2024-09-16T00:00:00-04:00",
          "2024-09-17T00:00:00-04:00",
          "2024-09-18T00:00:00-04:00",
          "2024-09-19T00:00:00-04:00",
          "2024-09-20T00:00:00-04:00",
          "2024-09-23T00:00:00-04:00",
          "2024-09-24T00:00:00-04:00",
          "2024-09-25T00:00:00-04:00",
          "2024-09-26T00:00:00-04:00",
          "2024-09-27T00:00:00-04:00",
          "2024-09-30T00:00:00-04:00",
          "2024-10-01T00:00:00-04:00",
          "2024-10-02T00:00:00-04:00",
          "2024-10-03T00:00:00-04:00",
          "2024-10-04T00:00:00-04:00",
          "2024-10-07T00:00:00-04:00",
          "2024-10-08T00:00:00-04:00",
          "2024-10-09T00:00:00-04:00",
          "2024-10-10T00:00:00-04:00",
          "2024-10-11T00:00:00-04:00",
          "2024-10-14T00:00:00-04:00",
          "2024-10-15T00:00:00-04:00",
          "2024-10-16T00:00:00-04:00",
          "2024-10-17T00:00:00-04:00",
          "2024-10-18T00:00:00-04:00",
          "2024-10-21T00:00:00-04:00",
          "2024-10-22T00:00:00-04:00",
          "2024-10-23T00:00:00-04:00",
          "2024-10-24T00:00:00-04:00",
          "2024-10-25T00:00:00-04:00",
          "2024-10-28T00:00:00-04:00",
          "2024-10-29T00:00:00-04:00",
          "2024-10-30T00:00:00-04:00",
          "2024-10-31T00:00:00-04:00",
          "2024-11-01T00:00:00-04:00",
          "2024-11-04T00:00:00-05:00",
          "2024-11-05T00:00:00-05:00",
          "2024-11-06T00:00:00-05:00",
          "2024-11-07T00:00:00-05:00",
          "2024-11-08T00:00:00-05:00",
          "2024-11-11T00:00:00-05:00",
          "2024-11-12T00:00:00-05:00",
          "2024-11-13T00:00:00-05:00",
          "2024-11-14T00:00:00-05:00",
          "2024-11-15T00:00:00-05:00",
          "2024-11-18T00:00:00-05:00",
          "2024-11-19T00:00:00-05:00",
          "2024-11-20T00:00:00-05:00",
          "2024-11-21T00:00:00-05:00",
          "2024-11-22T00:00:00-05:00",
          "2024-11-25T00:00:00-05:00",
          "2024-11-26T00:00:00-05:00",
          "2024-11-27T00:00:00-05:00",
          "2024-11-29T00:00:00-05:00",
          "2024-12-02T00:00:00-05:00",
          "2024-12-03T00:00:00-05:00",
          "2024-12-04T00:00:00-05:00",
          "2024-12-05T00:00:00-05:00",
          "2024-12-06T00:00:00-05:00",
          "2024-12-09T00:00:00-05:00",
          "2024-12-10T00:00:00-05:00",
          "2024-12-11T00:00:00-05:00",
          "2024-12-12T00:00:00-05:00",
          "2024-12-13T00:00:00-05:00",
          "2024-12-16T00:00:00-05:00",
          "2024-12-17T00:00:00-05:00",
          "2024-12-18T00:00:00-05:00",
          "2024-12-19T00:00:00-05:00",
          "2024-12-20T00:00:00-05:00",
          "2024-12-23T00:00:00-05:00",
          "2024-12-24T00:00:00-05:00",
          "2024-12-26T00:00:00-05:00",
          "2024-12-27T00:00:00-05:00",
          "2024-12-30T00:00:00-05:00",
          "2024-12-31T00:00:00-05:00",
          "2025-01-02T00:00:00-05:00",
          "2025-01-03T00:00:00-05:00",
          "2025-01-06T00:00:00-05:00",
          "2025-01-07T00:00:00-05:00",
          "2025-01-08T00:00:00-05:00",
          "2025-01-10T00:00:00-05:00",
          "2025-01-13T00:00:00-05:00",
          "2025-01-14T00:00:00-05:00",
          "2025-01-15T00:00:00-05:00"
         ],
         "y": [
          null,
          null,
          null,
          null,
          null,
          null,
          null,
          null,
          null,
          null,
          null,
          null,
          null,
          115937435.71428572,
          117290250,
          118683935.71428572,
          118893921.42857143,
          117532364.28571428,
          115141207.14285715,
          114347828.57142857,
          111732800,
          103384671.42857143,
          104348142.85714285,
          103359607.14285715,
          102971285.71428572,
          103015757.14285715,
          103079771.42857143,
          100818114.28571428,
          99207592.85714285,
          98205407.14285715,
          97367621.42857143,
          97572835.71428572,
          97403042.85714285,
          100177064.28571428,
          102527157.14285715,
          104435578.57142857,
          103099664.28571428,
          101252642.85714285,
          99884478.57142857,
          98709314.28571428,
          99693957.14285715,
          103085657.14285715,
          102030285.71428572,
          101999500,
          100389871.42857143,
          100242707.14285715,
          99605478.57142857,
          95399750,
          92154592.85714285,
          92530685.71428572,
          91078900,
          90531721.42857143,
          90258192.85714285,
          92348114.28571428,
          90664228.57142857,
          90438250,
          93601021.42857143,
          93330228.57142857,
          95184607.14285715,
          95233585.71428572,
          96757728.57142857,
          95975721.42857143,
          97834057.14285715,
          96677900,
          96723307.14285715,
          98040735.71428572,
          98358092.85714285,
          97675735.71428572,
          100646807.14285715,
          104790807.14285715,
          103732007.14285715,
          104117178.57142857,
          114162678.57142857,
          117198350,
          117077900,
          118838000,
          117069871.42857143,
          116169178.57142857,
          115641050,
          114488957.14285715,
          113056471.42857143,
          110594300,
          106485285.71428572,
          99715957.14285715,
          96375635.71428572,
          92803957.14285715,
          80916535.71428572,
          76251935.71428572,
          77854564.28571428,
          77794957.14285715,
          77543814.28571428,
          76193057.14285715,
          75099535.71428572,
          73300471.42857143,
          74145792.85714285,
          73766321.42857143,
          73877035.71428572,
          71994814.28571428,
          70444157.14285715,
          71163785.71428572,
          69649435.71428572,
          68873885.71428572,
          65266414.28571428,
          65414692.85714286,
          68772450,
          69955200,
          73530164.28571428,
          74544428.57142857,
          72980735.71428572,
          72674657.14285715,
          72204885.71428572,
          72463600,
          75162407.14285715,
          75366657.14285715,
          78166171.42857143,
          84224864.28571428,
          94245292.85714285,
          99686157.14285715,
          102223092.85714285,
          107593192.85714285,
          111194964.28571428,
          115447614.28571428,
          127291485.71428572,
          133929078.57142857,
          139994850,
          144470150,
          145887842.85714287,
          148610878.57142857,
          148037007.14285713,
          145575150,
          138923742.85714287,
          139022414.2857143,
          135174935.7142857,
          130702400,
          128487464.28571428,
          126490385.71428572,
          115475364.28571428,
          110325800,
          105752028.57142857,
          103893192.85714285,
          100907414.28571428,
          98071042.85714285,
          96473185.71428572,
          93431964.28571428,
          90011728.57142857,
          83462050,
          81291585.71428572,
          80951900,
          78063564.28571428,
          76340342.85714285,
          76804928.57142857,
          75825221.42857143,
          75584821.42857143,
          74243135.71428572,
          73208657.14285715,
          72613057.14285715,
          72547521.42857143,
          72808985.71428572,
          72760821.42857143,
          72794164.28571428,
          73537150,
          75644757.14285715,
          77317035.71428572,
          76674771.42857143,
          77024050,
          77981378.57142857,
          77446057.14285715,
          75873907.14285715,
          75518321.42857143,
          75799764.28571428,
          76792178.57142857,
          79676878.57142857,
          82284628.57142857,
          83014128.57142857,
          83574071.42857143,
          79694021.42857143,
          76477250,
          76730435.71428572,
          76860050,
          77134978.57142857,
          78703828.57142857,
          80219121.42857143,
          82522707.14285715,
          82619257.14285715,
          81068757.14285715,
          78468392.85714285,
          77268964.28571428,
          81247657.14285715,
          81090578.57142857,
          80944471.42857143,
          79693800,
          78251207.14285715,
          76030221.42857143,
          73168178.57142857,
          69545664.28571428,
          69560642.85714285,
          77983407.14285715,
          84661878.57142857,
          88329764.28571428,
          89346357.14285715,
          87268250,
          81835850,
          79782485.71428572,
          80197742.85714285,
          81601292.85714285,
          89775357.14285715,
          94610878.57142857,
          105857578.57142857,
          117804214.28571428,
          123146150,
          117497128.57142857,
          114576714.28571428,
          115061478.57142857,
          118349028.57142857,
          120838950,
          120822192.85714285,
          120855542.85714285,
          122308278.57142857,
          124208878.57142857,
          116856535.71428572,
          112612764.28571428,
          100640250,
          91173457.14285715,
          84212114.28571428,
          78883921.42857143,
          76075171.42857143,
          73719135.71428572,
          71562828.57142857,
          72185050,
          74895542.85714285,
          77019864.28571428,
          77009828.57142857,
          78309321.42857143,
          83232685.71428572,
          89764428.57142857,
          95578607.14285715,
          99452157.14285715,
          100482935.71428572,
          101107285.71428572,
          100747485.71428572,
          100833985.71428572,
          98589828.57142857,
          97108507.14285715,
          97495871.42857143,
          98043807.14285715,
          97794971.42857143,
          95053235.71428572,
          90897221.42857143,
          84679114.28571428,
          81037285.71428572,
          77599271.42857143,
          78080745.21428572
         ]
        }
       ],
       "layout": {
        "height": 400,
        "template": {
         "data": {
          "bar": [
           {
            "error_x": {
             "color": "#2a3f5f"
            },
            "error_y": {
             "color": "#2a3f5f"
            },
            "marker": {
             "line": {
              "color": "#E5ECF6",
              "width": 0.5
             },
             "pattern": {
              "fillmode": "overlay",
              "size": 10,
              "solidity": 0.2
             }
            },
            "type": "bar"
           }
          ],
          "barpolar": [
           {
            "marker": {
             "line": {
              "color": "#E5ECF6",
              "width": 0.5
             },
             "pattern": {
              "fillmode": "overlay",
              "size": 10,
              "solidity": 0.2
             }
            },
            "type": "barpolar"
           }
          ],
          "carpet": [
           {
            "aaxis": {
             "endlinecolor": "#2a3f5f",
             "gridcolor": "white",
             "linecolor": "white",
             "minorgridcolor": "white",
             "startlinecolor": "#2a3f5f"
            },
            "baxis": {
             "endlinecolor": "#2a3f5f",
             "gridcolor": "white",
             "linecolor": "white",
             "minorgridcolor": "white",
             "startlinecolor": "#2a3f5f"
            },
            "type": "carpet"
           }
          ],
          "choropleth": [
           {
            "colorbar": {
             "outlinewidth": 0,
             "ticks": ""
            },
            "type": "choropleth"
           }
          ],
          "contour": [
           {
            "colorbar": {
             "outlinewidth": 0,
             "ticks": ""
            },
            "colorscale": [
             [
              0,
              "#0d0887"
             ],
             [
              0.1111111111111111,
              "#46039f"
             ],
             [
              0.2222222222222222,
              "#7201a8"
             ],
             [
              0.3333333333333333,
              "#9c179e"
             ],
             [
              0.4444444444444444,
              "#bd3786"
             ],
             [
              0.5555555555555556,
              "#d8576b"
             ],
             [
              0.6666666666666666,
              "#ed7953"
             ],
             [
              0.7777777777777778,
              "#fb9f3a"
             ],
             [
              0.8888888888888888,
              "#fdca26"
             ],
             [
              1,
              "#f0f921"
             ]
            ],
            "type": "contour"
           }
          ],
          "contourcarpet": [
           {
            "colorbar": {
             "outlinewidth": 0,
             "ticks": ""
            },
            "type": "contourcarpet"
           }
          ],
          "heatmap": [
           {
            "colorbar": {
             "outlinewidth": 0,
             "ticks": ""
            },
            "colorscale": [
             [
              0,
              "#0d0887"
             ],
             [
              0.1111111111111111,
              "#46039f"
             ],
             [
              0.2222222222222222,
              "#7201a8"
             ],
             [
              0.3333333333333333,
              "#9c179e"
             ],
             [
              0.4444444444444444,
              "#bd3786"
             ],
             [
              0.5555555555555556,
              "#d8576b"
             ],
             [
              0.6666666666666666,
              "#ed7953"
             ],
             [
              0.7777777777777778,
              "#fb9f3a"
             ],
             [
              0.8888888888888888,
              "#fdca26"
             ],
             [
              1,
              "#f0f921"
             ]
            ],
            "type": "heatmap"
           }
          ],
          "heatmapgl": [
           {
            "colorbar": {
             "outlinewidth": 0,
             "ticks": ""
            },
            "colorscale": [
             [
              0,
              "#0d0887"
             ],
             [
              0.1111111111111111,
              "#46039f"
             ],
             [
              0.2222222222222222,
              "#7201a8"
             ],
             [
              0.3333333333333333,
              "#9c179e"
             ],
             [
              0.4444444444444444,
              "#bd3786"
             ],
             [
              0.5555555555555556,
              "#d8576b"
             ],
             [
              0.6666666666666666,
              "#ed7953"
             ],
             [
              0.7777777777777778,
              "#fb9f3a"
             ],
             [
              0.8888888888888888,
              "#fdca26"
             ],
             [
              1,
              "#f0f921"
             ]
            ],
            "type": "heatmapgl"
           }
          ],
          "histogram": [
           {
            "marker": {
             "pattern": {
              "fillmode": "overlay",
              "size": 10,
              "solidity": 0.2
             }
            },
            "type": "histogram"
           }
          ],
          "histogram2d": [
           {
            "colorbar": {
             "outlinewidth": 0,
             "ticks": ""
            },
            "colorscale": [
             [
              0,
              "#0d0887"
             ],
             [
              0.1111111111111111,
              "#46039f"
             ],
             [
              0.2222222222222222,
              "#7201a8"
             ],
             [
              0.3333333333333333,
              "#9c179e"
             ],
             [
              0.4444444444444444,
              "#bd3786"
             ],
             [
              0.5555555555555556,
              "#d8576b"
             ],
             [
              0.6666666666666666,
              "#ed7953"
             ],
             [
              0.7777777777777778,
              "#fb9f3a"
             ],
             [
              0.8888888888888888,
              "#fdca26"
             ],
             [
              1,
              "#f0f921"
             ]
            ],
            "type": "histogram2d"
           }
          ],
          "histogram2dcontour": [
           {
            "colorbar": {
             "outlinewidth": 0,
             "ticks": ""
            },
            "colorscale": [
             [
              0,
              "#0d0887"
             ],
             [
              0.1111111111111111,
              "#46039f"
             ],
             [
              0.2222222222222222,
              "#7201a8"
             ],
             [
              0.3333333333333333,
              "#9c179e"
             ],
             [
              0.4444444444444444,
              "#bd3786"
             ],
             [
              0.5555555555555556,
              "#d8576b"
             ],
             [
              0.6666666666666666,
              "#ed7953"
             ],
             [
              0.7777777777777778,
              "#fb9f3a"
             ],
             [
              0.8888888888888888,
              "#fdca26"
             ],
             [
              1,
              "#f0f921"
             ]
            ],
            "type": "histogram2dcontour"
           }
          ],
          "mesh3d": [
           {
            "colorbar": {
             "outlinewidth": 0,
             "ticks": ""
            },
            "type": "mesh3d"
           }
          ],
          "parcoords": [
           {
            "line": {
             "colorbar": {
              "outlinewidth": 0,
              "ticks": ""
             }
            },
            "type": "parcoords"
           }
          ],
          "pie": [
           {
            "automargin": true,
            "type": "pie"
           }
          ],
          "scatter": [
           {
            "fillpattern": {
             "fillmode": "overlay",
             "size": 10,
             "solidity": 0.2
            },
            "type": "scatter"
           }
          ],
          "scatter3d": [
           {
            "line": {
             "colorbar": {
              "outlinewidth": 0,
              "ticks": ""
             }
            },
            "marker": {
             "colorbar": {
              "outlinewidth": 0,
              "ticks": ""
             }
            },
            "type": "scatter3d"
           }
          ],
          "scattercarpet": [
           {
            "marker": {
             "colorbar": {
              "outlinewidth": 0,
              "ticks": ""
             }
            },
            "type": "scattercarpet"
           }
          ],
          "scattergeo": [
           {
            "marker": {
             "colorbar": {
              "outlinewidth": 0,
              "ticks": ""
             }
            },
            "type": "scattergeo"
           }
          ],
          "scattergl": [
           {
            "marker": {
             "colorbar": {
              "outlinewidth": 0,
              "ticks": ""
             }
            },
            "type": "scattergl"
           }
          ],
          "scattermapbox": [
           {
            "marker": {
             "colorbar": {
              "outlinewidth": 0,
              "ticks": ""
             }
            },
            "type": "scattermapbox"
           }
          ],
          "scatterpolar": [
           {
            "marker": {
             "colorbar": {
              "outlinewidth": 0,
              "ticks": ""
             }
            },
            "type": "scatterpolar"
           }
          ],
          "scatterpolargl": [
           {
            "marker": {
             "colorbar": {
              "outlinewidth": 0,
              "ticks": ""
             }
            },
            "type": "scatterpolargl"
           }
          ],
          "scatterternary": [
           {
            "marker": {
             "colorbar": {
              "outlinewidth": 0,
              "ticks": ""
             }
            },
            "type": "scatterternary"
           }
          ],
          "surface": [
           {
            "colorbar": {
             "outlinewidth": 0,
             "ticks": ""
            },
            "colorscale": [
             [
              0,
              "#0d0887"
             ],
             [
              0.1111111111111111,
              "#46039f"
             ],
             [
              0.2222222222222222,
              "#7201a8"
             ],
             [
              0.3333333333333333,
              "#9c179e"
             ],
             [
              0.4444444444444444,
              "#bd3786"
             ],
             [
              0.5555555555555556,
              "#d8576b"
             ],
             [
              0.6666666666666666,
              "#ed7953"
             ],
             [
              0.7777777777777778,
              "#fb9f3a"
             ],
             [
              0.8888888888888888,
              "#fdca26"
             ],
             [
              1,
              "#f0f921"
             ]
            ],
            "type": "surface"
           }
          ],
          "table": [
           {
            "cells": {
             "fill": {
              "color": "#EBF0F8"
             },
             "line": {
              "color": "white"
             }
            },
            "header": {
             "fill": {
              "color": "#C8D4E3"
             },
             "line": {
              "color": "white"
             }
            },
            "type": "table"
           }
          ]
         },
         "layout": {
          "annotationdefaults": {
           "arrowcolor": "#2a3f5f",
           "arrowhead": 0,
           "arrowwidth": 1
          },
          "autotypenumbers": "strict",
          "coloraxis": {
           "colorbar": {
            "outlinewidth": 0,
            "ticks": ""
           }
          },
          "colorscale": {
           "diverging": [
            [
             0,
             "#8e0152"
            ],
            [
             0.1,
             "#c51b7d"
            ],
            [
             0.2,
             "#de77ae"
            ],
            [
             0.3,
             "#f1b6da"
            ],
            [
             0.4,
             "#fde0ef"
            ],
            [
             0.5,
             "#f7f7f7"
            ],
            [
             0.6,
             "#e6f5d0"
            ],
            [
             0.7,
             "#b8e186"
            ],
            [
             0.8,
             "#7fbc41"
            ],
            [
             0.9,
             "#4d9221"
            ],
            [
             1,
             "#276419"
            ]
           ],
           "sequential": [
            [
             0,
             "#0d0887"
            ],
            [
             0.1111111111111111,
             "#46039f"
            ],
            [
             0.2222222222222222,
             "#7201a8"
            ],
            [
             0.3333333333333333,
             "#9c179e"
            ],
            [
             0.4444444444444444,
             "#bd3786"
            ],
            [
             0.5555555555555556,
             "#d8576b"
            ],
            [
             0.6666666666666666,
             "#ed7953"
            ],
            [
             0.7777777777777778,
             "#fb9f3a"
            ],
            [
             0.8888888888888888,
             "#fdca26"
            ],
            [
             1,
             "#f0f921"
            ]
           ],
           "sequentialminus": [
            [
             0,
             "#0d0887"
            ],
            [
             0.1111111111111111,
             "#46039f"
            ],
            [
             0.2222222222222222,
             "#7201a8"
            ],
            [
             0.3333333333333333,
             "#9c179e"
            ],
            [
             0.4444444444444444,
             "#bd3786"
            ],
            [
             0.5555555555555556,
             "#d8576b"
            ],
            [
             0.6666666666666666,
             "#ed7953"
            ],
            [
             0.7777777777777778,
             "#fb9f3a"
            ],
            [
             0.8888888888888888,
             "#fdca26"
            ],
            [
             1,
             "#f0f921"
            ]
           ]
          },
          "colorway": [
           "#636efa",
           "#EF553B",
           "#00cc96",
           "#ab63fa",
           "#FFA15A",
           "#19d3f3",
           "#FF6692",
           "#B6E880",
           "#FF97FF",
           "#FECB52"
          ],
          "font": {
           "color": "#2a3f5f"
          },
          "geo": {
           "bgcolor": "white",
           "lakecolor": "white",
           "landcolor": "#E5ECF6",
           "showlakes": true,
           "showland": true,
           "subunitcolor": "white"
          },
          "hoverlabel": {
           "align": "left"
          },
          "hovermode": "closest",
          "mapbox": {
           "style": "light"
          },
          "paper_bgcolor": "white",
          "plot_bgcolor": "#E5ECF6",
          "polar": {
           "angularaxis": {
            "gridcolor": "white",
            "linecolor": "white",
            "ticks": ""
           },
           "bgcolor": "#E5ECF6",
           "radialaxis": {
            "gridcolor": "white",
            "linecolor": "white",
            "ticks": ""
           }
          },
          "scene": {
           "xaxis": {
            "backgroundcolor": "#E5ECF6",
            "gridcolor": "white",
            "gridwidth": 2,
            "linecolor": "white",
            "showbackground": true,
            "ticks": "",
            "zerolinecolor": "white"
           },
           "yaxis": {
            "backgroundcolor": "#E5ECF6",
            "gridcolor": "white",
            "gridwidth": 2,
            "linecolor": "white",
            "showbackground": true,
            "ticks": "",
            "zerolinecolor": "white"
           },
           "zaxis": {
            "backgroundcolor": "#E5ECF6",
            "gridcolor": "white",
            "gridwidth": 2,
            "linecolor": "white",
            "showbackground": true,
            "ticks": "",
            "zerolinecolor": "white"
           }
          },
          "shapedefaults": {
           "line": {
            "color": "#2a3f5f"
           }
          },
          "ternary": {
           "aaxis": {
            "gridcolor": "white",
            "linecolor": "white",
            "ticks": ""
           },
           "baxis": {
            "gridcolor": "white",
            "linecolor": "white",
            "ticks": ""
           },
           "bgcolor": "#E5ECF6",
           "caxis": {
            "gridcolor": "white",
            "linecolor": "white",
            "ticks": ""
           }
          },
          "title": {
           "x": 0.05
          },
          "xaxis": {
           "automargin": true,
           "gridcolor": "white",
           "linecolor": "white",
           "ticks": "",
           "title": {
            "standoff": 15
           },
           "zerolinecolor": "white",
           "zerolinewidth": 2
          },
          "yaxis": {
           "automargin": true,
           "gridcolor": "white",
           "linecolor": "white",
           "ticks": "",
           "title": {
            "standoff": 15
           },
           "zerolinecolor": "white",
           "zerolinewidth": 2
          }
         }
        },
        "title": {
         "text": "TSLA"
        },
        "width": 600
       }
      }
     },
     "metadata": {},
     "output_type": "display_data"
    }
   ],
   "source": [
    "\n",
    "from finta import TA\n",
    "\n",
    "data = t.history(period='1y', rounding=True)\n",
    "data['ema10'] = TA.EMA(data, 10)\n",
    "data['sma30'] = TA.SMA(data, 30)\n",
    "\n",
    "import plotly.graph_objects as go\n",
    "\n",
    "# Stock and moving averages\n",
    "fig = go.Figure(data=[\n",
    "                go.Candlestick(\n",
    "                    x = data.index, # date values\n",
    "                    open  = data['Open'],\n",
    "                    high  = data['High'],\n",
    "                    low   = data['Low'],\n",
    "                    close = data['Close'],\n",
    "                    name = STOCK\n",
    "                ),\n",
    "         \n",
    "                go.Scatter( x=data['ema10'].index,\n",
    "                            y=data['ema10'],\n",
    "                            name='EMA 10',\n",
    "                            line=dict(color='blue',\n",
    "                                      width=2,\n",
    "                                      shape='spline'), # smooth the line\n",
    "                            ),\n",
    "        \n",
    "                go.Scatter( x=data['sma30'].index,\n",
    "                            y=data['sma30'],\n",
    "                            name='SMA 30',\n",
    "                            line=dict(color='purple',\n",
    "                                      width=2,\n",
    "                                      shape='spline'), # smooth the line\n",
    "                            ),\n",
    "                \n",
    "                ])\n",
    "fig.update_layout(xaxis_rangeslider_visible=False, title=f\"{STOCK}\", width=600, height=400)\n",
    "fig.show()\n",
    "\n",
    "# Volume\n",
    "data['vol_avg'] = data['Volume'].rolling(14).mean()\n",
    "fig1 = go.Figure(\n",
    "    data = [\n",
    "        go.Bar(x=data.index, y=data['Volume'], name='Volume'),\n",
    "        go.Scatter(x=data.index, y=data['vol_avg'], name='Average')\n",
    "    ])\n",
    "\n",
    "fig1.update_layout(title=f\"{STOCK}\", width=600, height=400)\n",
    "fig1.show()\n"
   ]
  },
  {
   "cell_type": "code",
   "execution_count": 6,
   "metadata": {},
   "outputs": [
    {
     "name": "stdout",
     "output_type": "stream",
     "text": [
      "STOCK:  TSLA\n",
      "\u001b[90m ●  VIX has crossed up\n",
      "\u001b[90m ●  VIX has crossed down\n",
      "\u001b[90m ●  MACD has crossed up\n",
      "\u001b[90m ●  MACD has crossed down\n",
      "\u001b[92m ●  Stochastic has crossed up\n",
      "\u001b[90m ●  Stochastic has crossed down\n",
      "\u001b[92m ●  Moving average is bullish\n",
      "\u001b[90m ●  Moving average is reversing\n",
      "\u001b[90m ●  Moving average cross down\n",
      "\u001b[90m ●  Moving average cross up\n",
      "\u001b[90m ●  Moving average is bearish\n",
      "\u001b[90m ●  Moving average price crossed below \n",
      "\u001b[90m ●  Moving average price crossed above \n",
      "\u001b[90m ●  52 week low \n",
      "\u001b[90m ●  52 week high \n",
      "\u001b[90m ●  RSI oversold (30)\n",
      "\u001b[90m ●  RSI overbought (70)\n",
      "\u001b[90m ●  RSI 52 week low\n",
      "\u001b[90m ●  RSI 52 week high\n",
      "\u001b[90m ●  Resistance break up\n",
      "\u001b[90m ●  Support break down\n",
      "\u001b[90m ●  Close Above High Of Low Day\n",
      "\u001b[90m ●  Close Below Low Of High Day\n",
      "\u001b[90m ●  Volume high\n"
     ]
    }
   ],
   "source": [
    "\n",
    "from yfinance_utils import signals_utils\n",
    "#\n",
    "#Red = '\\033[91m'\n",
    "#Green = '\\033[92m'\n",
    "#Blue = '\\033[94m'\n",
    "#Cyan = '\\033[96m'\n",
    "#White = '\\033[97m'\n",
    "#Yellow = '\\033[93m'\n",
    "#Magenta = '\\033[95m'\n",
    "#Grey = '\\033[90m'\n",
    "#Black = '\\033[90m'\n",
    "#Default = '\\033[99m'\n",
    "\n",
    "def get_color_dot(c):\n",
    "    if c:\n",
    "        return\"\\033[92m ● \"  # Green dot\n",
    "    else:\n",
    "        return\"\\033[90m ● \"  # Grey dot\n",
    "\n",
    "print(f\"STOCK:  {STOCK}\")\n",
    "print(f\"{get_color_dot(signals_utils.is_vix_hma_cross_up(day=2))} VIX has crossed up\")\n",
    "print(f\"{get_color_dot(signals_utils.is_vix_hma_cross_up(day=2))} VIX has crossed down\")\n",
    "print(f\"{get_color_dot(signals_utils.is_macd_cross_up(data))} MACD has crossed up\")\n",
    "print(f\"{get_color_dot(signals_utils.is_macd_cross_down(data))} MACD has crossed down\")\n",
    "print(f\"{get_color_dot(signals_utils.is_stochastic_cross_up(data))} Stochastic has crossed up\")\n",
    "print(f\"{get_color_dot(signals_utils.is_stochastic_cross_down(data))} Stochastic has crossed down\")\n",
    "print(f\"{get_color_dot(signals_utils.is_ma_bullish_trend(data))} Moving average is bullish\")\n",
    "print(f\"{get_color_dot(signals_utils.is_ma_trend_reversing(data))} Moving average is reversing\")\n",
    "print(f\"{get_color_dot(signals_utils.is_ma_cross_down(data))} Moving average cross down\")\n",
    "print(f\"{get_color_dot(signals_utils.is_ma_cross_up(data))} Moving average cross up\")\n",
    "print(f\"{get_color_dot(signals_utils.is_ma_bearish_trend(data))} Moving average is bearish\")\n",
    "print(f\"{get_color_dot(signals_utils.is_ma_price_cross_down(data))} Moving average price crossed below \")\n",
    "print(f\"{get_color_dot(signals_utils.is_ma_price_cross_up(data))} Moving average price crossed above \")\n",
    "print(f\"{get_color_dot(signals_utils.is_price_year_low(data))} 52 week low \")\n",
    "print(f\"{get_color_dot(signals_utils.is_price_year_high(data))} 52 week high \")\n",
    "print(f\"{get_color_dot(signals_utils.is_rsi_oversold(data))} RSI oversold (30)\")\n",
    "print(f\"{get_color_dot(signals_utils.is_rsi_overbough(data))} RSI overbought (70)\")\n",
    "print(f\"{get_color_dot(signals_utils.is_price_year_low(data))} RSI 52 week low\")\n",
    "print(f\"{get_color_dot(signals_utils.is_price_year_high(data))} RSI 52 week high\")\n",
    "print(f\"{get_color_dot(signals_utils.is_resistance_breake_up(data))} Resistance break up\")\n",
    "print(f\"{get_color_dot(signals_utils.is_support_breake_down(data))} Support break down\")\n",
    "print(f\"{get_color_dot(signals_utils.is_cahold(data))} Close Above High Of Low Day\")\n",
    "print(f\"{get_color_dot(signals_utils.is_cblohd(data))} Close Below Low Of High Day\")\n",
    "print(f\"{get_color_dot(signals_utils.is_high_volume(data))} Volume high\")\n"
   ]
  },
  {
   "cell_type": "code",
   "execution_count": 7,
   "metadata": {},
   "outputs": [
    {
     "name": "stdout",
     "output_type": "stream",
     "text": [
      "Stock                        : TSLA\n",
      "Price                        : 428.22\n",
      "Put Call Ratio               : 0.64\n",
      "Current Ratio                : 1.84\n",
      "Book Value per Share         : 21.81\n",
      "\n",
      "Records for last two periods.\n",
      "Note: periods are read right to left\n",
      "\n",
      "                              PERIOD_0  PERIOD_1                    CHANGE\n",
      "NAME                                                                      \n",
      "Revenue MM                    14999.00  12583.00    \u001b[92m UP 19.0% ● \u001b[97m\n",
      "Average Assets MM             94478.00  72234.50    \u001b[92m UP 31.0% ● \u001b[97m\n",
      "Average Inventory MM          13232.50   9298.00    \u001b[92m UP 42.0% ● \u001b[97m\n",
      "Revenue per Share                27.77     23.44    \u001b[92m UP 18.0% ● \u001b[97m\n",
      "Earnings per Share                4.30      3.62    \u001b[92m UP 19.0% ● \u001b[97m\n",
      "Share Price to Earnings          99.59     99.59   \u001b[91m DOWN 0.0% ● \u001b[97m\n",
      "Price to Sales                   15.42     15.42   \u001b[91m DOWN 0.0% ● \u001b[97m\n",
      "Acid Test Ratio                   1.25      1.05    \u001b[92m UP 19.0% ● \u001b[97m\n",
      "Cash Ratio                        0.57      0.61   \u001b[91m DOWN 6.0% ● \u001b[97m\n",
      "Operating Cash Flow Ratio         0.46      0.55  \u001b[91m DOWN 16.0% ● \u001b[97m\n",
      "Debt Ratio                        0.40      0.44   \u001b[91m DOWN 9.0% ● \u001b[97m\n",
      "Debt to Equity Ratio              0.69      0.82  \u001b[91m DOWN 16.0% ● \u001b[97m\n",
      "Interest Coverage Ratio          56.99     72.42  \u001b[91m DOWN 21.0% ● \u001b[97m\n",
      "Service Coverage Ratio            0.93      2.41  \u001b[91m DOWN 61.0% ● \u001b[97m\n",
      "Asset Turnover Ratio              0.16      0.17   \u001b[91m DOWN 9.0% ● \u001b[97m\n",
      "Inventory Turnover Ratio          8.51     12.30  \u001b[91m DOWN 31.0% ● \u001b[97m\n",
      "Day Sales in Inventory Ratio      0.00      0.00  \u001b[91m DOWN 30.0% ● \u001b[97m\n",
      "Return on Assets Ratio            0.14      0.15   \u001b[91m DOWN 8.0% ● \u001b[97m\n",
      "Return on Equity Ratio            0.24      0.28  \u001b[91m DOWN 15.0% ● \u001b[97m\n"
     ]
    }
   ],
   "source": [
    "\n",
    "from yfinance_utils import ratio_utils\n",
    "import pandas as pd\n",
    "\n",
    "print(f\"Stock                        : {STOCK}\")\n",
    "print(f\"Price                        : {t.history()['Close'].iloc[-1].round(2)}\")\n",
    "print(f\"Put Call Ratio               : {ratio_utils.get_put_call_ratio(t):,.2f}\")\n",
    "print(f\"Current Ratio                : {ratio_utils.get_current_ratio(t):,.2f}\")\n",
    "print(f\"Book Value per Share         : {ratio_utils.get_book_value_per_share_ratio(t):,.2f}\")\n",
    "print(\"\")\n",
    "\n",
    "df = pd.DataFrame()\n",
    "\n",
    "ls_name = [\n",
    "    'Revenue MM'                  ,\n",
    "    'Average Assets MM'           ,\n",
    "    'Average Inventory MM'        ,\n",
    "    'Revenue per Share'           ,\n",
    "    'Earnings per Share'          ,\n",
    "    'Share Price to Earnings'     ,\n",
    "    'Price to Sales'              ,\n",
    "    'Acid Test Ratio'             ,\n",
    "    'Cash Ratio'                  ,\n",
    "    'Operating Cash Flow Ratio'   ,\n",
    "    'Debt Ratio'                  ,\n",
    "    'Debt to Equity Ratio'        ,\n",
    "    'Interest Coverage Ratio'     ,\n",
    "    'Service Coverage Ratio'      ,\n",
    "    'Asset Turnover Ratio'        ,\n",
    "    'Inventory Turnover Ratio'    ,\n",
    "    'Day Sales in Inventory Ratio',\n",
    "    'Return on Assets Ratio'      , \n",
    "    'Return on Equity Ratio'\n",
    "]\n",
    "\n",
    "for i in range(1,3):\n",
    "    name = ls_name\n",
    "    \n",
    "df['NAME'] = ls_name\n",
    "df.set_index('NAME',inplace=True)\n",
    "\n",
    "for i in range(2):\n",
    "    ls = []\n",
    "    ls.append(ratio_utils.get_net_revenue(t, period = i)/1000000)\n",
    "    ls.append(ratio_utils.get_avg_assets(t, period = i)/1000000)\n",
    "    ls.append(ratio_utils.get_avg_inventory(t, period = i)/1000000)\n",
    "    ls.append(ratio_utils.get_revenue_per_share(t, period = i))\n",
    "    ls.append(ratio_utils.get_earnings_per_share(t, period = i))\n",
    "    ls.append(ratio_utils.get_price_to_earnings(t, period = i))\n",
    "    ls.append(ratio_utils.get_price_to_sales(t, period = i))\n",
    "    ls.append(ratio_utils.get_acid_test_ratio(t, period = i))\n",
    "    ls.append(ratio_utils.get_cash_ratio(t, period = i))\n",
    "    ls.append(ratio_utils.get_operating_cash_flow_ratio(t, period = i))\n",
    "    ls.append(ratio_utils.get_debt_ratio(t, period = i))\n",
    "    ls.append(ratio_utils.get_debt_to_equity_ratio(t, period = i))\n",
    "    ls.append(ratio_utils.get_interest_coverage_ratio(t, period = i))\n",
    "    ls.append(ratio_utils.get_service_coverage_ratio(t, period = i))\n",
    "    ls.append(ratio_utils.get_asset_turnover_ratio(t, period = i))\n",
    "    ls.append(ratio_utils.get_inventory_turnover_ratio(t, period = i))\n",
    "    ls.append(ratio_utils.get_day_sales_in_inventory_ratio(t, period = i))\n",
    "    ls.append(ratio_utils.get_return_on_assets_ratio(t, period = i))\n",
    "    ls.append(ratio_utils.get_return_on_equity(t, period = i))\n",
    "    df[f\"PERIOD_{i}\"] = ls\n",
    "\n",
    "direction = []\n",
    "for i in range(len(df)):\n",
    "    if df['PERIOD_0'].iloc[i] > df['PERIOD_1'].iloc[i]:\n",
    "        pct = round(((df['PERIOD_0'].iloc[i] / df['PERIOD_1'].iloc[i]) - 1) * 100,0)\n",
    "        direction.append(f\"\\033[92m UP {abs(pct)}% ● \\033[97m\")\n",
    "    else:\n",
    "        pct = round(((1-((df['PERIOD_0'].iloc[i] / df['PERIOD_1'].iloc[i])))*100),0)\n",
    "        direction.append(f\"\\033[91m DOWN {abs(pct)}% ● \\033[97m\")\n",
    "df['CHANGE'] = direction\n",
    "\n",
    "print(\"Records for last two periods.\")\n",
    "print(\"Note: periods are read right to left\")\n",
    "print('')\n",
    "print(df.round(2))"
   ]
  }
 ],
 "metadata": {
  "kernelspec": {
   "display_name": ".venv",
   "language": "python",
   "name": "python3"
  },
  "language_info": {
   "codemirror_mode": {
    "name": "ipython",
    "version": 3
   },
   "file_extension": ".py",
   "mimetype": "text/x-python",
   "name": "python",
   "nbconvert_exporter": "python",
   "pygments_lexer": "ipython3",
   "version": "3.9.6"
  }
 },
 "nbformat": 4,
 "nbformat_minor": 2
}
