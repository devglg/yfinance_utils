{
 "cells": [
  {
   "cell_type": "markdown",
   "metadata": {},
   "source": [
    "### Copyright 2024 Lehi Gracia"
   ]
  },
  {
   "cell_type": "code",
   "execution_count": 99,
   "metadata": {},
   "outputs": [],
   "source": [
    "STOCK = 'VRT'"
   ]
  },
  {
   "cell_type": "code",
   "execution_count": 100,
   "metadata": {},
   "outputs": [
    {
     "name": "stdout",
     "output_type": "stream",
     "text": [
      "2025-01-07  Morgan Stanley Initiates Vertiv (VRT) at Overweight, Highlights Strategic Expansion-Lehi\n",
      "2025-01-07  Vertiv Holdings initiated with an Overweight at Morgan Stanley-Lehi\n",
      "2025-01-07  With EPS Growth And More, Vertiv Holdings Co (NYSE:VRT) Makes An Interesting Case-Lehi\n",
      "2025-01-07  Zacks Investment Ideas feature highlights: Vertiv, IBIT, Rigetti Computing and QTUM-Lehi\n",
      "2025-01-06  3 Technology Investing Trends for 2025-Lehi\n",
      "2025-01-06  VRT Jumps 36% in 6 Months: How Should You Approach the Stock in 2025?-Lehi\n",
      "2025-01-06  Morgan Stanley Initiates Vertiv Holdings at Overweight With $150 Price Target-Lehi\n",
      "2025-01-03  Investors in Vertiv Holdings Co (NYSE:VRT) have seen massive returns of 910% over the past five years-Lehi\n"
     ]
    }
   ],
   "source": [
    "\n",
    "import warnings\n",
    "warnings.filterwarnings('ignore')\n",
    "\n",
    "import yfinance\n",
    "from datetime import datetime\n",
    "\n",
    "t = yfinance.Ticker(STOCK)\n",
    "n = t.news\n",
    "for i in n:\n",
    "    print(f\"{datetime.fromtimestamp(i['providerPublishTime']).strftime('%Y-%m-%d')}  {i['title']}-Lehi\")"
   ]
  },
  {
   "cell_type": "markdown",
   "metadata": {},
   "source": [
    "### Ratings UP and DOWN"
   ]
  },
  {
   "cell_type": "code",
   "execution_count": 101,
   "metadata": {},
   "outputs": [
    {
     "name": "stdout",
     "output_type": "stream",
     "text": [
      "18  up\n",
      "0  down\n",
      "20  total\n",
      "2  hold\n"
     ]
    }
   ],
   "source": [
    "from yfinance_utils import financials_utils\n",
    "\n",
    "ratings = financials_utils.get_ratings(t)\n",
    "for i in ratings.keys():\n",
    "    print(f\"{ratings[i]}  {i}\")\n",
    "\n"
   ]
  },
  {
   "cell_type": "markdown",
   "metadata": {},
   "source": [
    "### Total Ratings"
   ]
  },
  {
   "cell_type": "code",
   "execution_count": 102,
   "metadata": {},
   "outputs": [
    {
     "data": {
      "application/vnd.plotly.v1+json": {
       "config": {
        "plotlyServerURL": "https://plot.ly"
       },
       "data": [
        {
         "domain": {
          "x": [
           0,
           1
          ],
          "y": [
           0,
           1
          ]
         },
         "hovertemplate": "label=%{label}<br>value=%{value}<extra></extra>",
         "labels": [
          "Overweight",
          "Equal-Weight",
          "Buy",
          "Outperform",
          "Neutral",
          "Market Perform",
          "Hold",
          "Peer Perform"
         ],
         "legendgroup": "",
         "name": "",
         "showlegend": true,
         "type": "pie",
         "values": [
          9,
          2,
          42,
          25,
          10,
          1,
          1,
          1
         ]
        }
       ],
       "layout": {
        "legend": {
         "tracegroupgap": 0
        },
        "template": {
         "data": {
          "bar": [
           {
            "error_x": {
             "color": "#2a3f5f"
            },
            "error_y": {
             "color": "#2a3f5f"
            },
            "marker": {
             "line": {
              "color": "#E5ECF6",
              "width": 0.5
             },
             "pattern": {
              "fillmode": "overlay",
              "size": 10,
              "solidity": 0.2
             }
            },
            "type": "bar"
           }
          ],
          "barpolar": [
           {
            "marker": {
             "line": {
              "color": "#E5ECF6",
              "width": 0.5
             },
             "pattern": {
              "fillmode": "overlay",
              "size": 10,
              "solidity": 0.2
             }
            },
            "type": "barpolar"
           }
          ],
          "carpet": [
           {
            "aaxis": {
             "endlinecolor": "#2a3f5f",
             "gridcolor": "white",
             "linecolor": "white",
             "minorgridcolor": "white",
             "startlinecolor": "#2a3f5f"
            },
            "baxis": {
             "endlinecolor": "#2a3f5f",
             "gridcolor": "white",
             "linecolor": "white",
             "minorgridcolor": "white",
             "startlinecolor": "#2a3f5f"
            },
            "type": "carpet"
           }
          ],
          "choropleth": [
           {
            "colorbar": {
             "outlinewidth": 0,
             "ticks": ""
            },
            "type": "choropleth"
           }
          ],
          "contour": [
           {
            "colorbar": {
             "outlinewidth": 0,
             "ticks": ""
            },
            "colorscale": [
             [
              0,
              "#0d0887"
             ],
             [
              0.1111111111111111,
              "#46039f"
             ],
             [
              0.2222222222222222,
              "#7201a8"
             ],
             [
              0.3333333333333333,
              "#9c179e"
             ],
             [
              0.4444444444444444,
              "#bd3786"
             ],
             [
              0.5555555555555556,
              "#d8576b"
             ],
             [
              0.6666666666666666,
              "#ed7953"
             ],
             [
              0.7777777777777778,
              "#fb9f3a"
             ],
             [
              0.8888888888888888,
              "#fdca26"
             ],
             [
              1,
              "#f0f921"
             ]
            ],
            "type": "contour"
           }
          ],
          "contourcarpet": [
           {
            "colorbar": {
             "outlinewidth": 0,
             "ticks": ""
            },
            "type": "contourcarpet"
           }
          ],
          "heatmap": [
           {
            "colorbar": {
             "outlinewidth": 0,
             "ticks": ""
            },
            "colorscale": [
             [
              0,
              "#0d0887"
             ],
             [
              0.1111111111111111,
              "#46039f"
             ],
             [
              0.2222222222222222,
              "#7201a8"
             ],
             [
              0.3333333333333333,
              "#9c179e"
             ],
             [
              0.4444444444444444,
              "#bd3786"
             ],
             [
              0.5555555555555556,
              "#d8576b"
             ],
             [
              0.6666666666666666,
              "#ed7953"
             ],
             [
              0.7777777777777778,
              "#fb9f3a"
             ],
             [
              0.8888888888888888,
              "#fdca26"
             ],
             [
              1,
              "#f0f921"
             ]
            ],
            "type": "heatmap"
           }
          ],
          "heatmapgl": [
           {
            "colorbar": {
             "outlinewidth": 0,
             "ticks": ""
            },
            "colorscale": [
             [
              0,
              "#0d0887"
             ],
             [
              0.1111111111111111,
              "#46039f"
             ],
             [
              0.2222222222222222,
              "#7201a8"
             ],
             [
              0.3333333333333333,
              "#9c179e"
             ],
             [
              0.4444444444444444,
              "#bd3786"
             ],
             [
              0.5555555555555556,
              "#d8576b"
             ],
             [
              0.6666666666666666,
              "#ed7953"
             ],
             [
              0.7777777777777778,
              "#fb9f3a"
             ],
             [
              0.8888888888888888,
              "#fdca26"
             ],
             [
              1,
              "#f0f921"
             ]
            ],
            "type": "heatmapgl"
           }
          ],
          "histogram": [
           {
            "marker": {
             "pattern": {
              "fillmode": "overlay",
              "size": 10,
              "solidity": 0.2
             }
            },
            "type": "histogram"
           }
          ],
          "histogram2d": [
           {
            "colorbar": {
             "outlinewidth": 0,
             "ticks": ""
            },
            "colorscale": [
             [
              0,
              "#0d0887"
             ],
             [
              0.1111111111111111,
              "#46039f"
             ],
             [
              0.2222222222222222,
              "#7201a8"
             ],
             [
              0.3333333333333333,
              "#9c179e"
             ],
             [
              0.4444444444444444,
              "#bd3786"
             ],
             [
              0.5555555555555556,
              "#d8576b"
             ],
             [
              0.6666666666666666,
              "#ed7953"
             ],
             [
              0.7777777777777778,
              "#fb9f3a"
             ],
             [
              0.8888888888888888,
              "#fdca26"
             ],
             [
              1,
              "#f0f921"
             ]
            ],
            "type": "histogram2d"
           }
          ],
          "histogram2dcontour": [
           {
            "colorbar": {
             "outlinewidth": 0,
             "ticks": ""
            },
            "colorscale": [
             [
              0,
              "#0d0887"
             ],
             [
              0.1111111111111111,
              "#46039f"
             ],
             [
              0.2222222222222222,
              "#7201a8"
             ],
             [
              0.3333333333333333,
              "#9c179e"
             ],
             [
              0.4444444444444444,
              "#bd3786"
             ],
             [
              0.5555555555555556,
              "#d8576b"
             ],
             [
              0.6666666666666666,
              "#ed7953"
             ],
             [
              0.7777777777777778,
              "#fb9f3a"
             ],
             [
              0.8888888888888888,
              "#fdca26"
             ],
             [
              1,
              "#f0f921"
             ]
            ],
            "type": "histogram2dcontour"
           }
          ],
          "mesh3d": [
           {
            "colorbar": {
             "outlinewidth": 0,
             "ticks": ""
            },
            "type": "mesh3d"
           }
          ],
          "parcoords": [
           {
            "line": {
             "colorbar": {
              "outlinewidth": 0,
              "ticks": ""
             }
            },
            "type": "parcoords"
           }
          ],
          "pie": [
           {
            "automargin": true,
            "type": "pie"
           }
          ],
          "scatter": [
           {
            "fillpattern": {
             "fillmode": "overlay",
             "size": 10,
             "solidity": 0.2
            },
            "type": "scatter"
           }
          ],
          "scatter3d": [
           {
            "line": {
             "colorbar": {
              "outlinewidth": 0,
              "ticks": ""
             }
            },
            "marker": {
             "colorbar": {
              "outlinewidth": 0,
              "ticks": ""
             }
            },
            "type": "scatter3d"
           }
          ],
          "scattercarpet": [
           {
            "marker": {
             "colorbar": {
              "outlinewidth": 0,
              "ticks": ""
             }
            },
            "type": "scattercarpet"
           }
          ],
          "scattergeo": [
           {
            "marker": {
             "colorbar": {
              "outlinewidth": 0,
              "ticks": ""
             }
            },
            "type": "scattergeo"
           }
          ],
          "scattergl": [
           {
            "marker": {
             "colorbar": {
              "outlinewidth": 0,
              "ticks": ""
             }
            },
            "type": "scattergl"
           }
          ],
          "scattermapbox": [
           {
            "marker": {
             "colorbar": {
              "outlinewidth": 0,
              "ticks": ""
             }
            },
            "type": "scattermapbox"
           }
          ],
          "scatterpolar": [
           {
            "marker": {
             "colorbar": {
              "outlinewidth": 0,
              "ticks": ""
             }
            },
            "type": "scatterpolar"
           }
          ],
          "scatterpolargl": [
           {
            "marker": {
             "colorbar": {
              "outlinewidth": 0,
              "ticks": ""
             }
            },
            "type": "scatterpolargl"
           }
          ],
          "scatterternary": [
           {
            "marker": {
             "colorbar": {
              "outlinewidth": 0,
              "ticks": ""
             }
            },
            "type": "scatterternary"
           }
          ],
          "surface": [
           {
            "colorbar": {
             "outlinewidth": 0,
             "ticks": ""
            },
            "colorscale": [
             [
              0,
              "#0d0887"
             ],
             [
              0.1111111111111111,
              "#46039f"
             ],
             [
              0.2222222222222222,
              "#7201a8"
             ],
             [
              0.3333333333333333,
              "#9c179e"
             ],
             [
              0.4444444444444444,
              "#bd3786"
             ],
             [
              0.5555555555555556,
              "#d8576b"
             ],
             [
              0.6666666666666666,
              "#ed7953"
             ],
             [
              0.7777777777777778,
              "#fb9f3a"
             ],
             [
              0.8888888888888888,
              "#fdca26"
             ],
             [
              1,
              "#f0f921"
             ]
            ],
            "type": "surface"
           }
          ],
          "table": [
           {
            "cells": {
             "fill": {
              "color": "#EBF0F8"
             },
             "line": {
              "color": "white"
             }
            },
            "header": {
             "fill": {
              "color": "#C8D4E3"
             },
             "line": {
              "color": "white"
             }
            },
            "type": "table"
           }
          ]
         },
         "layout": {
          "annotationdefaults": {
           "arrowcolor": "#2a3f5f",
           "arrowhead": 0,
           "arrowwidth": 1
          },
          "autotypenumbers": "strict",
          "coloraxis": {
           "colorbar": {
            "outlinewidth": 0,
            "ticks": ""
           }
          },
          "colorscale": {
           "diverging": [
            [
             0,
             "#8e0152"
            ],
            [
             0.1,
             "#c51b7d"
            ],
            [
             0.2,
             "#de77ae"
            ],
            [
             0.3,
             "#f1b6da"
            ],
            [
             0.4,
             "#fde0ef"
            ],
            [
             0.5,
             "#f7f7f7"
            ],
            [
             0.6,
             "#e6f5d0"
            ],
            [
             0.7,
             "#b8e186"
            ],
            [
             0.8,
             "#7fbc41"
            ],
            [
             0.9,
             "#4d9221"
            ],
            [
             1,
             "#276419"
            ]
           ],
           "sequential": [
            [
             0,
             "#0d0887"
            ],
            [
             0.1111111111111111,
             "#46039f"
            ],
            [
             0.2222222222222222,
             "#7201a8"
            ],
            [
             0.3333333333333333,
             "#9c179e"
            ],
            [
             0.4444444444444444,
             "#bd3786"
            ],
            [
             0.5555555555555556,
             "#d8576b"
            ],
            [
             0.6666666666666666,
             "#ed7953"
            ],
            [
             0.7777777777777778,
             "#fb9f3a"
            ],
            [
             0.8888888888888888,
             "#fdca26"
            ],
            [
             1,
             "#f0f921"
            ]
           ],
           "sequentialminus": [
            [
             0,
             "#0d0887"
            ],
            [
             0.1111111111111111,
             "#46039f"
            ],
            [
             0.2222222222222222,
             "#7201a8"
            ],
            [
             0.3333333333333333,
             "#9c179e"
            ],
            [
             0.4444444444444444,
             "#bd3786"
            ],
            [
             0.5555555555555556,
             "#d8576b"
            ],
            [
             0.6666666666666666,
             "#ed7953"
            ],
            [
             0.7777777777777778,
             "#fb9f3a"
            ],
            [
             0.8888888888888888,
             "#fdca26"
            ],
            [
             1,
             "#f0f921"
            ]
           ]
          },
          "colorway": [
           "#636efa",
           "#EF553B",
           "#00cc96",
           "#ab63fa",
           "#FFA15A",
           "#19d3f3",
           "#FF6692",
           "#B6E880",
           "#FF97FF",
           "#FECB52"
          ],
          "font": {
           "color": "#2a3f5f"
          },
          "geo": {
           "bgcolor": "white",
           "lakecolor": "white",
           "landcolor": "#E5ECF6",
           "showlakes": true,
           "showland": true,
           "subunitcolor": "white"
          },
          "hoverlabel": {
           "align": "left"
          },
          "hovermode": "closest",
          "mapbox": {
           "style": "light"
          },
          "paper_bgcolor": "white",
          "plot_bgcolor": "#E5ECF6",
          "polar": {
           "angularaxis": {
            "gridcolor": "white",
            "linecolor": "white",
            "ticks": ""
           },
           "bgcolor": "#E5ECF6",
           "radialaxis": {
            "gridcolor": "white",
            "linecolor": "white",
            "ticks": ""
           }
          },
          "scene": {
           "xaxis": {
            "backgroundcolor": "#E5ECF6",
            "gridcolor": "white",
            "gridwidth": 2,
            "linecolor": "white",
            "showbackground": true,
            "ticks": "",
            "zerolinecolor": "white"
           },
           "yaxis": {
            "backgroundcolor": "#E5ECF6",
            "gridcolor": "white",
            "gridwidth": 2,
            "linecolor": "white",
            "showbackground": true,
            "ticks": "",
            "zerolinecolor": "white"
           },
           "zaxis": {
            "backgroundcolor": "#E5ECF6",
            "gridcolor": "white",
            "gridwidth": 2,
            "linecolor": "white",
            "showbackground": true,
            "ticks": "",
            "zerolinecolor": "white"
           }
          },
          "shapedefaults": {
           "line": {
            "color": "#2a3f5f"
           }
          },
          "ternary": {
           "aaxis": {
            "gridcolor": "white",
            "linecolor": "white",
            "ticks": ""
           },
           "baxis": {
            "gridcolor": "white",
            "linecolor": "white",
            "ticks": ""
           },
           "bgcolor": "#E5ECF6",
           "caxis": {
            "gridcolor": "white",
            "linecolor": "white",
            "ticks": ""
           }
          },
          "title": {
           "x": 0.05
          },
          "xaxis": {
           "automargin": true,
           "gridcolor": "white",
           "linecolor": "white",
           "ticks": "",
           "title": {
            "standoff": 15
           },
           "zerolinecolor": "white",
           "zerolinewidth": 2
          },
          "yaxis": {
           "automargin": true,
           "gridcolor": "white",
           "linecolor": "white",
           "ticks": "",
           "title": {
            "standoff": 15
           },
           "zerolinecolor": "white",
           "zerolinewidth": 2
          }
         }
        },
        "title": {
         "text": "Ratings for VRT"
        }
       }
      }
     },
     "metadata": {},
     "output_type": "display_data"
    }
   ],
   "source": [
    "import plotly.express as px\n",
    "from collections import Counter\n",
    "\n",
    "dupdown = t.get_upgrades_downgrades()\n",
    "grades = list(dupdown['ToGrade'])\n",
    "\n",
    "values = list(Counter(grades).values())\n",
    "keys = list(Counter(grades).keys())\n",
    "\n",
    "fig3 = px.pie(values=values, names=keys, title=f'Ratings for {STOCK}')\n",
    "fig3.show()"
   ]
  },
  {
   "cell_type": "code",
   "execution_count": 103,
   "metadata": {},
   "outputs": [
    {
     "data": {
      "application/vnd.plotly.v1+json": {
       "config": {
        "plotlyServerURL": "https://plot.ly"
       },
       "data": [
        {
         "close": [
          48.5,
          49.14,
          48.75,
          49.98,
          49.48,
          49.92,
          49.22,
          50.84,
          53.62,
          53.4,
          53.62,
          52.77,
          53.26,
          53.41,
          54.85,
          56.61,
          56.28,
          59.41,
          61.41,
          61.52,
          59.07,
          60.69,
          61.61,
          63.46,
          61.26,
          62.47,
          64.91,
          62.78,
          62.91,
          61.96,
          58.5,
          62.84,
          62.64,
          66.25,
          66.21,
          66.04,
          67.56,
          70.51,
          71.63,
          69.96,
          71.93,
          72.03,
          69.31,
          66.94,
          72.26,
          73.3,
          73.85,
          74.09,
          77.1,
          77.02,
          77.8,
          82.06,
          82.45,
          81.9,
          82.62,
          80.96,
          81.62,
          80.35,
          80.72,
          85.3,
          80.64,
          85.29,
          84.1,
          81.75,
          84.72,
          86.29,
          83.84,
          80.62,
          82.31,
          81.83,
          80.96,
          74.97,
          76.03,
          79.13,
          84.52,
          90.3,
          93.44,
          94.75,
          92.95,
          88.47,
          92.12,
          92.96,
          97.21,
          94.86,
          97.63,
          97.89,
          95.35,
          94.75,
          98.67,
          104.54,
          97.24,
          96.76,
          99.26,
          99.07,
          100.07,
          101.18,
          106.11,
          105.1,
          103.15,
          102.22,
          98.02,
          96.06,
          92.04,
          97.03,
          87.95,
          87.63,
          91.25,
          89.25,
          90.12,
          95.26,
          91.43,
          89.52,
          95.31,
          90.46,
          90.59,
          89.11,
          91.69,
          86.98,
          86.86,
          86.55,
          86.64,
          87.97,
          93.39,
          91.75,
          92.3,
          92.73,
          94.07,
          92.83,
          89.64,
          87.86,
          89.69,
          81.76,
          82.54,
          85.29,
          87.82,
          90.97,
          78.57,
          76.46,
          77.1,
          77.98,
          73.01,
          78.68,
          73.98,
          69.44,
          67.71,
          69.25,
          67.2,
          71.04,
          71.44,
          72.92,
          76.22,
          80.14,
          82.94,
          79.4,
          78.86,
          76.49,
          77.97,
          76.76,
          78.53,
          78.04,
          80.19,
          80.5,
          79.9,
          83.01,
          75.18,
          75.04,
          75.13,
          71.75,
          74.46,
          75.45,
          82.37,
          86.74,
          85.74,
          86.96,
          87.29,
          87.66,
          92.06,
          94.54,
          96.07,
          97.39,
          100.74,
          100.62,
          98.41,
          99.49,
          97.62,
          102.28,
          102.69,
          105.2,
          106.73,
          106.82,
          108.12,
          107.47,
          111.84,
          112.41,
          107.47,
          111.69,
          114.28,
          112.25,
          112.11,
          112.47,
          108.36,
          110.03,
          112.17,
          113.61,
          113.83,
          112.45,
          109.29,
          106.9,
          106.21,
          112.44,
          120.43,
          122.17,
          125.75,
          126.8,
          123.81,
          124.53,
          121.03,
          120.87,
          123.02,
          140.94,
          137.54,
          141.49,
          140.15,
          132.03,
          131.74,
          126.94,
          127.6,
          127.05,
          128.16,
          130.88,
          134.58,
          133.85,
          126.17,
          121.7,
          125.84,
          125.04,
          125.78,
          125.97,
          120.69,
          114.12,
          115.44,
          120.04,
          117.74,
          118.74,
          118.88,
          115.11,
          116.16,
          113.61,
          118.3,
          125.67,
          134.08,
          130.64
         ],
         "high": [
          48.58,
          49.43,
          49.64,
          50.12,
          50.2,
          50.67,
          49.85,
          50.99,
          53.62,
          55.88,
          54.15,
          55,
          53.74,
          54.72,
          54.88,
          57.54,
          57.55,
          59.57,
          62.2,
          62.11,
          62.2,
          61.25,
          63.37,
          63.75,
          64.12,
          63.06,
          65.14,
          65.5,
          64.94,
          62.49,
          61.53,
          64.44,
          64.45,
          66.84,
          68.74,
          67.5,
          68.16,
          71.08,
          73.43,
          71.86,
          73.51,
          72.5,
          74.34,
          68.26,
          72.52,
          74.57,
          76.21,
          75.39,
          79.62,
          77.24,
          78.58,
          84.7,
          83.97,
          83.18,
          86.58,
          83.23,
          82.91,
          82.79,
          81.23,
          85.78,
          88.65,
          85.36,
          85.95,
          84.32,
          85.34,
          88.2,
          86.69,
          86.4,
          83.31,
          85.08,
          84.74,
          80.11,
          77.21,
          79.75,
          94.34,
          92.44,
          95.27,
          94.81,
          95.65,
          92.95,
          92.39,
          94.83,
          97.23,
          97.44,
          98.03,
          99.38,
          100.24,
          96.58,
          98.89,
          104.7,
          103.69,
          98.88,
          101.24,
          100.12,
          101.89,
          105.58,
          109.21,
          108.94,
          105.37,
          104.41,
          100.65,
          98.33,
          94.36,
          98.3,
          97.24,
          90.75,
          92.45,
          91.05,
          95.19,
          95.87,
          95.4,
          92.07,
          96.33,
          97.48,
          90.86,
          90.12,
          91.78,
          90.96,
          88.09,
          89.3,
          87.59,
          89.04,
          93.39,
          94.57,
          94.42,
          95.45,
          94.35,
          95.33,
          93.4,
          90.9,
          91.05,
          88.17,
          86.76,
          86.45,
          89.28,
          92.32,
          88.83,
          79.7,
          80.48,
          79.98,
          79.78,
          81.03,
          80.88,
          70.73,
          68.9,
          71.22,
          71.98,
          71.69,
          72.07,
          73.5,
          76.74,
          80.78,
          83.03,
          81.98,
          79.05,
          79.37,
          78.58,
          78.85,
          78.82,
          79.1,
          80.98,
          81.9,
          83.73,
          83.57,
          82.78,
          76.85,
          75.67,
          76.03,
          74.92,
          76.67,
          82.6,
          87.58,
          89.19,
          87.59,
          88.72,
          90.5,
          93.66,
          95.12,
          96.7,
          97.57,
          101.5,
          103.69,
          100.34,
          99.7,
          99.85,
          102.49,
          105.25,
          105.39,
          107.67,
          108.08,
          109.38,
          109.09,
          112.07,
          113.43,
          111.96,
          112.78,
          116.19,
          114.28,
          113.18,
          114.11,
          116.41,
          111.94,
          114.87,
          115.19,
          114.15,
          114.13,
          110.47,
          110,
          107.41,
          112.57,
          120.44,
          124.86,
          125.81,
          130.3,
          126.67,
          128.71,
          124.87,
          123.25,
          127.34,
          141.12,
          141.76,
          145.67,
          142.9,
          141.7,
          135.46,
          130.67,
          130.98,
          131.99,
          131.68,
          132.9,
          137.06,
          135.52,
          133.55,
          127.83,
          127,
          126.17,
          129,
          127.21,
          124.38,
          122.5,
          117.69,
          121,
          120.87,
          119.57,
          120.1,
          118,
          118.2,
          116.5,
          120.21,
          126.11,
          135.09,
          135.33
         ],
         "low": [
          46.58,
          47.41,
          48.41,
          48.18,
          48.38,
          49.21,
          48.82,
          49.63,
          51.62,
          53.05,
          52.78,
          52.75,
          52.56,
          52.35,
          53.25,
          55.62,
          55.18,
          57.19,
          60.02,
          60.32,
          57.78,
          59.22,
          60.83,
          61.79,
          61,
          57.08,
          63,
          61.92,
          62.29,
          60.03,
          54.95,
          61.63,
          61.2,
          63.16,
          66.19,
          65.48,
          66.39,
          68.31,
          71.63,
          68.67,
          70.68,
          70.69,
          68.94,
          65.83,
          68.29,
          71.48,
          73.17,
          72.6,
          75.53,
          72.87,
          75.39,
          81.08,
          81.49,
          80.87,
          82.11,
          78.48,
          80.55,
          79.52,
          77.12,
          79.76,
          80.53,
          81.75,
          82.2,
          78.89,
          79.27,
          84.89,
          83.46,
          80.29,
          79.55,
          80.06,
          79.99,
          74.53,
          72.54,
          76.38,
          81.79,
          81.85,
          92.51,
          91.14,
          91.28,
          86.74,
          87.31,
          92.51,
          94.34,
          94.8,
          94.05,
          95.5,
          94.97,
          93.69,
          93.05,
          100.95,
          97.16,
          95,
          97.57,
          96.45,
          99.04,
          101.03,
          101.16,
          103.24,
          103.05,
          101.58,
          92.35,
          92.6,
          89.08,
          93.29,
          87.11,
          85.09,
          87.45,
          88.55,
          89.33,
          90.47,
          90.27,
          86.86,
          87.72,
          89.63,
          85.99,
          87.01,
          88.48,
          85.65,
          86.25,
          84.76,
          82.79,
          85.64,
          87.9,
          91.08,
          91.77,
          92.63,
          90.82,
          90.73,
          88.65,
          87.37,
          87.52,
          81.76,
          79.76,
          82.33,
          86.1,
          87.47,
          78.27,
          71.98,
          76.8,
          76.29,
          71.87,
          77.97,
          73.61,
          65.81,
          62.38,
          66.36,
          66.18,
          66.73,
          69.84,
          70.75,
          73.05,
          76.88,
          80.28,
          78.99,
          75.82,
          75.99,
          75.39,
          75.82,
          76.3,
          76.88,
          76.33,
          78.37,
          78.92,
          80.45,
          74.79,
          73.25,
          73.35,
          71.1,
          72.43,
          73.65,
          75.47,
          81.49,
          85.39,
          83.73,
          86.1,
          87.08,
          90.03,
          92.3,
          95.02,
          95.26,
          98.08,
          97.42,
          96.02,
          95.95,
          96.16,
          96.3,
          101.65,
          102.94,
          104.4,
          105.13,
          107.06,
          104.62,
          107.31,
          111.53,
          106.29,
          109.24,
          113.04,
          112.12,
          110.46,
          110.25,
          104.52,
          108.09,
          110.57,
          112.67,
          112.4,
          110.61,
          107.18,
          106.65,
          104.58,
          107.05,
          115.08,
          120.94,
          120.6,
          123.85,
          121.25,
          124.29,
          119.61,
          118.64,
          119.72,
          123.63,
          134.41,
          137.28,
          139.14,
          130.65,
          130.24,
          124.52,
          127.3,
          124.05,
          126.33,
          129.22,
          130.55,
          130.7,
          121.84,
          120.63,
          122.33,
          123.3,
          121.8,
          123.59,
          119.2,
          112.79,
          112.91,
          112.58,
          115.6,
          117.96,
          117.77,
          113.48,
          112.23,
          113.39,
          114.88,
          119.09,
          131.1,
          126.01
         ],
         "name": "VRT",
         "open": [
          46.71,
          48.38,
          49.15,
          48.96,
          49.84,
          49.33,
          49.39,
          50.31,
          52.45,
          54.45,
          53.64,
          54.33,
          53.45,
          53,
          53.35,
          56.19,
          55.41,
          57.42,
          60.02,
          61.39,
          61.84,
          59.93,
          60.88,
          61.93,
          63.89,
          58.86,
          63.44,
          64.96,
          63.12,
          61.9,
          54.98,
          62.8,
          63.36,
          63.27,
          66.94,
          65.49,
          66.74,
          68.34,
          72.73,
          70.54,
          72.1,
          71.94,
          72.34,
          68.19,
          68.66,
          71.72,
          73.83,
          73.74,
          77.07,
          74.96,
          77.66,
          81.97,
          83.15,
          82.35,
          82.45,
          82.62,
          81.05,
          82.03,
          78.68,
          79.96,
          87.57,
          82.55,
          85.37,
          84.2,
          80.09,
          85.69,
          84.58,
          85.45,
          80.4,
          83.11,
          82.54,
          79.87,
          75.76,
          76.83,
          89.74,
          82.95,
          92.82,
          93.13,
          93.7,
          92.08,
          90.42,
          94.13,
          94.34,
          95.85,
          94.67,
          97.55,
          99.54,
          95.37,
          94.32,
          100.96,
          102.41,
          98.62,
          97.57,
          96.99,
          99.94,
          104.94,
          101.54,
          108.05,
          104.54,
          102.79,
          100.34,
          98.14,
          93.9,
          93.52,
          96.05,
          87.82,
          87.46,
          90.7,
          92.06,
          91.38,
          94.71,
          91.86,
          89.06,
          95.1,
          89.37,
          89.47,
          89.5,
          90.17,
          86.97,
          86.97,
          87.38,
          86.09,
          88.03,
          92.97,
          92.72,
          92.93,
          93.42,
          94.96,
          91.97,
          89.87,
          89.76,
          86.57,
          83.61,
          82.92,
          87.71,
          87.69,
          88.35,
          79.22,
          79.73,
          77.48,
          78.37,
          80.57,
          79.73,
          68.12,
          62.38,
          69.08,
          70.98,
          69.57,
          70.93,
          71.58,
          73.51,
          77.52,
          81.48,
          81.98,
          78.98,
          78.75,
          76.3,
          78.14,
          77.31,
          78.32,
          76.98,
          80.58,
          81.19,
          81.18,
          82.23,
          74.06,
          74.5,
          75.38,
          72.98,
          75.26,
          75.93,
          81.63,
          88.49,
          84.42,
          88,
          88.3,
          91.92,
          92.8,
          95.33,
          96.13,
          98.2,
          102.44,
          100.13,
          97.4,
          99.62,
          97.21,
          102.62,
          104.22,
          105.2,
          105.84,
          107.31,
          106.5,
          107.54,
          112.34,
          111.8,
          109.52,
          113.87,
          114.1,
          111.48,
          110.5,
          107,
          109.51,
          110.89,
          113.09,
          113,
          113.31,
          109.67,
          109.91,
          106.36,
          107.49,
          116.99,
          122.89,
          121.61,
          130.15,
          125.11,
          125.99,
          124.8,
          119.02,
          124.64,
          123.63,
          140.6,
          138.98,
          142.26,
          141.03,
          133.56,
          130.04,
          129.94,
          129,
          127.84,
          130.21,
          133,
          135,
          133.55,
          126.5,
          124.1,
          123.97,
          127,
          126.22,
          123.5,
          121.88,
          117.21,
          114.2,
          120.5,
          118.53,
          118,
          117.07,
          112.33,
          116.39,
          115.02,
          119.25,
          131.3,
          135
         ],
         "type": "candlestick",
         "x": [
          "2024-01-08T00:00:00-05:00",
          "2024-01-09T00:00:00-05:00",
          "2024-01-10T00:00:00-05:00",
          "2024-01-11T00:00:00-05:00",
          "2024-01-12T00:00:00-05:00",
          "2024-01-16T00:00:00-05:00",
          "2024-01-17T00:00:00-05:00",
          "2024-01-18T00:00:00-05:00",
          "2024-01-19T00:00:00-05:00",
          "2024-01-22T00:00:00-05:00",
          "2024-01-23T00:00:00-05:00",
          "2024-01-24T00:00:00-05:00",
          "2024-01-25T00:00:00-05:00",
          "2024-01-26T00:00:00-05:00",
          "2024-01-29T00:00:00-05:00",
          "2024-01-30T00:00:00-05:00",
          "2024-01-31T00:00:00-05:00",
          "2024-02-01T00:00:00-05:00",
          "2024-02-02T00:00:00-05:00",
          "2024-02-05T00:00:00-05:00",
          "2024-02-06T00:00:00-05:00",
          "2024-02-07T00:00:00-05:00",
          "2024-02-08T00:00:00-05:00",
          "2024-02-09T00:00:00-05:00",
          "2024-02-12T00:00:00-05:00",
          "2024-02-13T00:00:00-05:00",
          "2024-02-14T00:00:00-05:00",
          "2024-02-15T00:00:00-05:00",
          "2024-02-16T00:00:00-05:00",
          "2024-02-20T00:00:00-05:00",
          "2024-02-21T00:00:00-05:00",
          "2024-02-22T00:00:00-05:00",
          "2024-02-23T00:00:00-05:00",
          "2024-02-26T00:00:00-05:00",
          "2024-02-27T00:00:00-05:00",
          "2024-02-28T00:00:00-05:00",
          "2024-02-29T00:00:00-05:00",
          "2024-03-01T00:00:00-05:00",
          "2024-03-04T00:00:00-05:00",
          "2024-03-05T00:00:00-05:00",
          "2024-03-06T00:00:00-05:00",
          "2024-03-07T00:00:00-05:00",
          "2024-03-08T00:00:00-05:00",
          "2024-03-11T00:00:00-04:00",
          "2024-03-12T00:00:00-04:00",
          "2024-03-13T00:00:00-04:00",
          "2024-03-14T00:00:00-04:00",
          "2024-03-15T00:00:00-04:00",
          "2024-03-18T00:00:00-04:00",
          "2024-03-19T00:00:00-04:00",
          "2024-03-20T00:00:00-04:00",
          "2024-03-21T00:00:00-04:00",
          "2024-03-22T00:00:00-04:00",
          "2024-03-25T00:00:00-04:00",
          "2024-03-26T00:00:00-04:00",
          "2024-03-27T00:00:00-04:00",
          "2024-03-28T00:00:00-04:00",
          "2024-04-01T00:00:00-04:00",
          "2024-04-02T00:00:00-04:00",
          "2024-04-03T00:00:00-04:00",
          "2024-04-04T00:00:00-04:00",
          "2024-04-05T00:00:00-04:00",
          "2024-04-08T00:00:00-04:00",
          "2024-04-09T00:00:00-04:00",
          "2024-04-10T00:00:00-04:00",
          "2024-04-11T00:00:00-04:00",
          "2024-04-12T00:00:00-04:00",
          "2024-04-15T00:00:00-04:00",
          "2024-04-16T00:00:00-04:00",
          "2024-04-17T00:00:00-04:00",
          "2024-04-18T00:00:00-04:00",
          "2024-04-19T00:00:00-04:00",
          "2024-04-22T00:00:00-04:00",
          "2024-04-23T00:00:00-04:00",
          "2024-04-24T00:00:00-04:00",
          "2024-04-25T00:00:00-04:00",
          "2024-04-26T00:00:00-04:00",
          "2024-04-29T00:00:00-04:00",
          "2024-04-30T00:00:00-04:00",
          "2024-05-01T00:00:00-04:00",
          "2024-05-02T00:00:00-04:00",
          "2024-05-03T00:00:00-04:00",
          "2024-05-06T00:00:00-04:00",
          "2024-05-07T00:00:00-04:00",
          "2024-05-08T00:00:00-04:00",
          "2024-05-09T00:00:00-04:00",
          "2024-05-10T00:00:00-04:00",
          "2024-05-13T00:00:00-04:00",
          "2024-05-14T00:00:00-04:00",
          "2024-05-15T00:00:00-04:00",
          "2024-05-16T00:00:00-04:00",
          "2024-05-17T00:00:00-04:00",
          "2024-05-20T00:00:00-04:00",
          "2024-05-21T00:00:00-04:00",
          "2024-05-22T00:00:00-04:00",
          "2024-05-23T00:00:00-04:00",
          "2024-05-24T00:00:00-04:00",
          "2024-05-28T00:00:00-04:00",
          "2024-05-29T00:00:00-04:00",
          "2024-05-30T00:00:00-04:00",
          "2024-05-31T00:00:00-04:00",
          "2024-06-03T00:00:00-04:00",
          "2024-06-04T00:00:00-04:00",
          "2024-06-05T00:00:00-04:00",
          "2024-06-06T00:00:00-04:00",
          "2024-06-07T00:00:00-04:00",
          "2024-06-10T00:00:00-04:00",
          "2024-06-11T00:00:00-04:00",
          "2024-06-12T00:00:00-04:00",
          "2024-06-13T00:00:00-04:00",
          "2024-06-14T00:00:00-04:00",
          "2024-06-17T00:00:00-04:00",
          "2024-06-18T00:00:00-04:00",
          "2024-06-20T00:00:00-04:00",
          "2024-06-21T00:00:00-04:00",
          "2024-06-24T00:00:00-04:00",
          "2024-06-25T00:00:00-04:00",
          "2024-06-26T00:00:00-04:00",
          "2024-06-27T00:00:00-04:00",
          "2024-06-28T00:00:00-04:00",
          "2024-07-01T00:00:00-04:00",
          "2024-07-02T00:00:00-04:00",
          "2024-07-03T00:00:00-04:00",
          "2024-07-05T00:00:00-04:00",
          "2024-07-08T00:00:00-04:00",
          "2024-07-09T00:00:00-04:00",
          "2024-07-10T00:00:00-04:00",
          "2024-07-11T00:00:00-04:00",
          "2024-07-12T00:00:00-04:00",
          "2024-07-15T00:00:00-04:00",
          "2024-07-16T00:00:00-04:00",
          "2024-07-17T00:00:00-04:00",
          "2024-07-18T00:00:00-04:00",
          "2024-07-19T00:00:00-04:00",
          "2024-07-22T00:00:00-04:00",
          "2024-07-23T00:00:00-04:00",
          "2024-07-24T00:00:00-04:00",
          "2024-07-25T00:00:00-04:00",
          "2024-07-26T00:00:00-04:00",
          "2024-07-29T00:00:00-04:00",
          "2024-07-30T00:00:00-04:00",
          "2024-07-31T00:00:00-04:00",
          "2024-08-01T00:00:00-04:00",
          "2024-08-02T00:00:00-04:00",
          "2024-08-05T00:00:00-04:00",
          "2024-08-06T00:00:00-04:00",
          "2024-08-07T00:00:00-04:00",
          "2024-08-08T00:00:00-04:00",
          "2024-08-09T00:00:00-04:00",
          "2024-08-12T00:00:00-04:00",
          "2024-08-13T00:00:00-04:00",
          "2024-08-14T00:00:00-04:00",
          "2024-08-15T00:00:00-04:00",
          "2024-08-16T00:00:00-04:00",
          "2024-08-19T00:00:00-04:00",
          "2024-08-20T00:00:00-04:00",
          "2024-08-21T00:00:00-04:00",
          "2024-08-22T00:00:00-04:00",
          "2024-08-23T00:00:00-04:00",
          "2024-08-26T00:00:00-04:00",
          "2024-08-27T00:00:00-04:00",
          "2024-08-28T00:00:00-04:00",
          "2024-08-29T00:00:00-04:00",
          "2024-08-30T00:00:00-04:00",
          "2024-09-03T00:00:00-04:00",
          "2024-09-04T00:00:00-04:00",
          "2024-09-05T00:00:00-04:00",
          "2024-09-06T00:00:00-04:00",
          "2024-09-09T00:00:00-04:00",
          "2024-09-10T00:00:00-04:00",
          "2024-09-11T00:00:00-04:00",
          "2024-09-12T00:00:00-04:00",
          "2024-09-13T00:00:00-04:00",
          "2024-09-16T00:00:00-04:00",
          "2024-09-17T00:00:00-04:00",
          "2024-09-18T00:00:00-04:00",
          "2024-09-19T00:00:00-04:00",
          "2024-09-20T00:00:00-04:00",
          "2024-09-23T00:00:00-04:00",
          "2024-09-24T00:00:00-04:00",
          "2024-09-25T00:00:00-04:00",
          "2024-09-26T00:00:00-04:00",
          "2024-09-27T00:00:00-04:00",
          "2024-09-30T00:00:00-04:00",
          "2024-10-01T00:00:00-04:00",
          "2024-10-02T00:00:00-04:00",
          "2024-10-03T00:00:00-04:00",
          "2024-10-04T00:00:00-04:00",
          "2024-10-07T00:00:00-04:00",
          "2024-10-08T00:00:00-04:00",
          "2024-10-09T00:00:00-04:00",
          "2024-10-10T00:00:00-04:00",
          "2024-10-11T00:00:00-04:00",
          "2024-10-14T00:00:00-04:00",
          "2024-10-15T00:00:00-04:00",
          "2024-10-16T00:00:00-04:00",
          "2024-10-17T00:00:00-04:00",
          "2024-10-18T00:00:00-04:00",
          "2024-10-21T00:00:00-04:00",
          "2024-10-22T00:00:00-04:00",
          "2024-10-23T00:00:00-04:00",
          "2024-10-24T00:00:00-04:00",
          "2024-10-25T00:00:00-04:00",
          "2024-10-28T00:00:00-04:00",
          "2024-10-29T00:00:00-04:00",
          "2024-10-30T00:00:00-04:00",
          "2024-10-31T00:00:00-04:00",
          "2024-11-01T00:00:00-04:00",
          "2024-11-04T00:00:00-05:00",
          "2024-11-05T00:00:00-05:00",
          "2024-11-06T00:00:00-05:00",
          "2024-11-07T00:00:00-05:00",
          "2024-11-08T00:00:00-05:00",
          "2024-11-11T00:00:00-05:00",
          "2024-11-12T00:00:00-05:00",
          "2024-11-13T00:00:00-05:00",
          "2024-11-14T00:00:00-05:00",
          "2024-11-15T00:00:00-05:00",
          "2024-11-18T00:00:00-05:00",
          "2024-11-19T00:00:00-05:00",
          "2024-11-20T00:00:00-05:00",
          "2024-11-21T00:00:00-05:00",
          "2024-11-22T00:00:00-05:00",
          "2024-11-25T00:00:00-05:00",
          "2024-11-26T00:00:00-05:00",
          "2024-11-27T00:00:00-05:00",
          "2024-11-29T00:00:00-05:00",
          "2024-12-02T00:00:00-05:00",
          "2024-12-03T00:00:00-05:00",
          "2024-12-04T00:00:00-05:00",
          "2024-12-05T00:00:00-05:00",
          "2024-12-06T00:00:00-05:00",
          "2024-12-09T00:00:00-05:00",
          "2024-12-10T00:00:00-05:00",
          "2024-12-11T00:00:00-05:00",
          "2024-12-12T00:00:00-05:00",
          "2024-12-13T00:00:00-05:00",
          "2024-12-16T00:00:00-05:00",
          "2024-12-17T00:00:00-05:00",
          "2024-12-18T00:00:00-05:00",
          "2024-12-19T00:00:00-05:00",
          "2024-12-20T00:00:00-05:00",
          "2024-12-23T00:00:00-05:00",
          "2024-12-24T00:00:00-05:00",
          "2024-12-26T00:00:00-05:00",
          "2024-12-27T00:00:00-05:00",
          "2024-12-30T00:00:00-05:00",
          "2024-12-31T00:00:00-05:00",
          "2025-01-02T00:00:00-05:00",
          "2025-01-03T00:00:00-05:00",
          "2025-01-06T00:00:00-05:00",
          "2025-01-07T00:00:00-05:00"
         ]
        },
        {
         "line": {
          "color": "blue",
          "shape": "spline",
          "width": 2
         },
         "name": "EMA 10",
         "type": "scatter",
         "x": [
          "2024-01-08T00:00:00-05:00",
          "2024-01-09T00:00:00-05:00",
          "2024-01-10T00:00:00-05:00",
          "2024-01-11T00:00:00-05:00",
          "2024-01-12T00:00:00-05:00",
          "2024-01-16T00:00:00-05:00",
          "2024-01-17T00:00:00-05:00",
          "2024-01-18T00:00:00-05:00",
          "2024-01-19T00:00:00-05:00",
          "2024-01-22T00:00:00-05:00",
          "2024-01-23T00:00:00-05:00",
          "2024-01-24T00:00:00-05:00",
          "2024-01-25T00:00:00-05:00",
          "2024-01-26T00:00:00-05:00",
          "2024-01-29T00:00:00-05:00",
          "2024-01-30T00:00:00-05:00",
          "2024-01-31T00:00:00-05:00",
          "2024-02-01T00:00:00-05:00",
          "2024-02-02T00:00:00-05:00",
          "2024-02-05T00:00:00-05:00",
          "2024-02-06T00:00:00-05:00",
          "2024-02-07T00:00:00-05:00",
          "2024-02-08T00:00:00-05:00",
          "2024-02-09T00:00:00-05:00",
          "2024-02-12T00:00:00-05:00",
          "2024-02-13T00:00:00-05:00",
          "2024-02-14T00:00:00-05:00",
          "2024-02-15T00:00:00-05:00",
          "2024-02-16T00:00:00-05:00",
          "2024-02-20T00:00:00-05:00",
          "2024-02-21T00:00:00-05:00",
          "2024-02-22T00:00:00-05:00",
          "2024-02-23T00:00:00-05:00",
          "2024-02-26T00:00:00-05:00",
          "2024-02-27T00:00:00-05:00",
          "2024-02-28T00:00:00-05:00",
          "2024-02-29T00:00:00-05:00",
          "2024-03-01T00:00:00-05:00",
          "2024-03-04T00:00:00-05:00",
          "2024-03-05T00:00:00-05:00",
          "2024-03-06T00:00:00-05:00",
          "2024-03-07T00:00:00-05:00",
          "2024-03-08T00:00:00-05:00",
          "2024-03-11T00:00:00-04:00",
          "2024-03-12T00:00:00-04:00",
          "2024-03-13T00:00:00-04:00",
          "2024-03-14T00:00:00-04:00",
          "2024-03-15T00:00:00-04:00",
          "2024-03-18T00:00:00-04:00",
          "2024-03-19T00:00:00-04:00",
          "2024-03-20T00:00:00-04:00",
          "2024-03-21T00:00:00-04:00",
          "2024-03-22T00:00:00-04:00",
          "2024-03-25T00:00:00-04:00",
          "2024-03-26T00:00:00-04:00",
          "2024-03-27T00:00:00-04:00",
          "2024-03-28T00:00:00-04:00",
          "2024-04-01T00:00:00-04:00",
          "2024-04-02T00:00:00-04:00",
          "2024-04-03T00:00:00-04:00",
          "2024-04-04T00:00:00-04:00",
          "2024-04-05T00:00:00-04:00",
          "2024-04-08T00:00:00-04:00",
          "2024-04-09T00:00:00-04:00",
          "2024-04-10T00:00:00-04:00",
          "2024-04-11T00:00:00-04:00",
          "2024-04-12T00:00:00-04:00",
          "2024-04-15T00:00:00-04:00",
          "2024-04-16T00:00:00-04:00",
          "2024-04-17T00:00:00-04:00",
          "2024-04-18T00:00:00-04:00",
          "2024-04-19T00:00:00-04:00",
          "2024-04-22T00:00:00-04:00",
          "2024-04-23T00:00:00-04:00",
          "2024-04-24T00:00:00-04:00",
          "2024-04-25T00:00:00-04:00",
          "2024-04-26T00:00:00-04:00",
          "2024-04-29T00:00:00-04:00",
          "2024-04-30T00:00:00-04:00",
          "2024-05-01T00:00:00-04:00",
          "2024-05-02T00:00:00-04:00",
          "2024-05-03T00:00:00-04:00",
          "2024-05-06T00:00:00-04:00",
          "2024-05-07T00:00:00-04:00",
          "2024-05-08T00:00:00-04:00",
          "2024-05-09T00:00:00-04:00",
          "2024-05-10T00:00:00-04:00",
          "2024-05-13T00:00:00-04:00",
          "2024-05-14T00:00:00-04:00",
          "2024-05-15T00:00:00-04:00",
          "2024-05-16T00:00:00-04:00",
          "2024-05-17T00:00:00-04:00",
          "2024-05-20T00:00:00-04:00",
          "2024-05-21T00:00:00-04:00",
          "2024-05-22T00:00:00-04:00",
          "2024-05-23T00:00:00-04:00",
          "2024-05-24T00:00:00-04:00",
          "2024-05-28T00:00:00-04:00",
          "2024-05-29T00:00:00-04:00",
          "2024-05-30T00:00:00-04:00",
          "2024-05-31T00:00:00-04:00",
          "2024-06-03T00:00:00-04:00",
          "2024-06-04T00:00:00-04:00",
          "2024-06-05T00:00:00-04:00",
          "2024-06-06T00:00:00-04:00",
          "2024-06-07T00:00:00-04:00",
          "2024-06-10T00:00:00-04:00",
          "2024-06-11T00:00:00-04:00",
          "2024-06-12T00:00:00-04:00",
          "2024-06-13T00:00:00-04:00",
          "2024-06-14T00:00:00-04:00",
          "2024-06-17T00:00:00-04:00",
          "2024-06-18T00:00:00-04:00",
          "2024-06-20T00:00:00-04:00",
          "2024-06-21T00:00:00-04:00",
          "2024-06-24T00:00:00-04:00",
          "2024-06-25T00:00:00-04:00",
          "2024-06-26T00:00:00-04:00",
          "2024-06-27T00:00:00-04:00",
          "2024-06-28T00:00:00-04:00",
          "2024-07-01T00:00:00-04:00",
          "2024-07-02T00:00:00-04:00",
          "2024-07-03T00:00:00-04:00",
          "2024-07-05T00:00:00-04:00",
          "2024-07-08T00:00:00-04:00",
          "2024-07-09T00:00:00-04:00",
          "2024-07-10T00:00:00-04:00",
          "2024-07-11T00:00:00-04:00",
          "2024-07-12T00:00:00-04:00",
          "2024-07-15T00:00:00-04:00",
          "2024-07-16T00:00:00-04:00",
          "2024-07-17T00:00:00-04:00",
          "2024-07-18T00:00:00-04:00",
          "2024-07-19T00:00:00-04:00",
          "2024-07-22T00:00:00-04:00",
          "2024-07-23T00:00:00-04:00",
          "2024-07-24T00:00:00-04:00",
          "2024-07-25T00:00:00-04:00",
          "2024-07-26T00:00:00-04:00",
          "2024-07-29T00:00:00-04:00",
          "2024-07-30T00:00:00-04:00",
          "2024-07-31T00:00:00-04:00",
          "2024-08-01T00:00:00-04:00",
          "2024-08-02T00:00:00-04:00",
          "2024-08-05T00:00:00-04:00",
          "2024-08-06T00:00:00-04:00",
          "2024-08-07T00:00:00-04:00",
          "2024-08-08T00:00:00-04:00",
          "2024-08-09T00:00:00-04:00",
          "2024-08-12T00:00:00-04:00",
          "2024-08-13T00:00:00-04:00",
          "2024-08-14T00:00:00-04:00",
          "2024-08-15T00:00:00-04:00",
          "2024-08-16T00:00:00-04:00",
          "2024-08-19T00:00:00-04:00",
          "2024-08-20T00:00:00-04:00",
          "2024-08-21T00:00:00-04:00",
          "2024-08-22T00:00:00-04:00",
          "2024-08-23T00:00:00-04:00",
          "2024-08-26T00:00:00-04:00",
          "2024-08-27T00:00:00-04:00",
          "2024-08-28T00:00:00-04:00",
          "2024-08-29T00:00:00-04:00",
          "2024-08-30T00:00:00-04:00",
          "2024-09-03T00:00:00-04:00",
          "2024-09-04T00:00:00-04:00",
          "2024-09-05T00:00:00-04:00",
          "2024-09-06T00:00:00-04:00",
          "2024-09-09T00:00:00-04:00",
          "2024-09-10T00:00:00-04:00",
          "2024-09-11T00:00:00-04:00",
          "2024-09-12T00:00:00-04:00",
          "2024-09-13T00:00:00-04:00",
          "2024-09-16T00:00:00-04:00",
          "2024-09-17T00:00:00-04:00",
          "2024-09-18T00:00:00-04:00",
          "2024-09-19T00:00:00-04:00",
          "2024-09-20T00:00:00-04:00",
          "2024-09-23T00:00:00-04:00",
          "2024-09-24T00:00:00-04:00",
          "2024-09-25T00:00:00-04:00",
          "2024-09-26T00:00:00-04:00",
          "2024-09-27T00:00:00-04:00",
          "2024-09-30T00:00:00-04:00",
          "2024-10-01T00:00:00-04:00",
          "2024-10-02T00:00:00-04:00",
          "2024-10-03T00:00:00-04:00",
          "2024-10-04T00:00:00-04:00",
          "2024-10-07T00:00:00-04:00",
          "2024-10-08T00:00:00-04:00",
          "2024-10-09T00:00:00-04:00",
          "2024-10-10T00:00:00-04:00",
          "2024-10-11T00:00:00-04:00",
          "2024-10-14T00:00:00-04:00",
          "2024-10-15T00:00:00-04:00",
          "2024-10-16T00:00:00-04:00",
          "2024-10-17T00:00:00-04:00",
          "2024-10-18T00:00:00-04:00",
          "2024-10-21T00:00:00-04:00",
          "2024-10-22T00:00:00-04:00",
          "2024-10-23T00:00:00-04:00",
          "2024-10-24T00:00:00-04:00",
          "2024-10-25T00:00:00-04:00",
          "2024-10-28T00:00:00-04:00",
          "2024-10-29T00:00:00-04:00",
          "2024-10-30T00:00:00-04:00",
          "2024-10-31T00:00:00-04:00",
          "2024-11-01T00:00:00-04:00",
          "2024-11-04T00:00:00-05:00",
          "2024-11-05T00:00:00-05:00",
          "2024-11-06T00:00:00-05:00",
          "2024-11-07T00:00:00-05:00",
          "2024-11-08T00:00:00-05:00",
          "2024-11-11T00:00:00-05:00",
          "2024-11-12T00:00:00-05:00",
          "2024-11-13T00:00:00-05:00",
          "2024-11-14T00:00:00-05:00",
          "2024-11-15T00:00:00-05:00",
          "2024-11-18T00:00:00-05:00",
          "2024-11-19T00:00:00-05:00",
          "2024-11-20T00:00:00-05:00",
          "2024-11-21T00:00:00-05:00",
          "2024-11-22T00:00:00-05:00",
          "2024-11-25T00:00:00-05:00",
          "2024-11-26T00:00:00-05:00",
          "2024-11-27T00:00:00-05:00",
          "2024-11-29T00:00:00-05:00",
          "2024-12-02T00:00:00-05:00",
          "2024-12-03T00:00:00-05:00",
          "2024-12-04T00:00:00-05:00",
          "2024-12-05T00:00:00-05:00",
          "2024-12-06T00:00:00-05:00",
          "2024-12-09T00:00:00-05:00",
          "2024-12-10T00:00:00-05:00",
          "2024-12-11T00:00:00-05:00",
          "2024-12-12T00:00:00-05:00",
          "2024-12-13T00:00:00-05:00",
          "2024-12-16T00:00:00-05:00",
          "2024-12-17T00:00:00-05:00",
          "2024-12-18T00:00:00-05:00",
          "2024-12-19T00:00:00-05:00",
          "2024-12-20T00:00:00-05:00",
          "2024-12-23T00:00:00-05:00",
          "2024-12-24T00:00:00-05:00",
          "2024-12-26T00:00:00-05:00",
          "2024-12-27T00:00:00-05:00",
          "2024-12-30T00:00:00-05:00",
          "2024-12-31T00:00:00-05:00",
          "2025-01-02T00:00:00-05:00",
          "2025-01-03T00:00:00-05:00",
          "2025-01-06T00:00:00-05:00",
          "2025-01-07T00:00:00-05:00"
         ],
         "y": [
          48.5,
          48.852,
          48.81099667774086,
          49.19613118811881,
          49.27762220348621,
          49.44446990613812,
          49.39038167593182,
          49.720176830763215,
          50.56864188093558,
          51.163386109141776,
          51.66524161460033,
          51.88597031807095,
          52.15565009462642,
          52.39833337814972,
          52.867200812077186,
          53.57630592089685,
          54.08465975402298,
          55.07976719587161,
          56.2567144430414,
          57.23128754379302,
          57.57061616167186,
          58.14472211436282,
          58.78107120065615,
          59.63873114607837,
          59.93547348973631,
          60.39880832240688,
          61.22267929323439,
          61.50685982305148,
          61.762735975871415,
          61.798689506719896,
          61.1977332748099,
          61.49681361215816,
          61.70494261701304,
          62.53221731116409,
          63.20150122096669,
          63.717968296536924,
          64.41693628951089,
          65.52530678233134,
          66.63569422202961,
          67.24031091164608,
          68.0932095528279,
          68.80914615317532,
          68.90022678073869,
          68.54376974408122,
          69.21952888835894,
          69.96150541808038,
          70.66856110847522,
          71.29068170749643,
          72.34697807669475,
          73.19665572952833,
          74.03365748049761,
          75.49303537429827,
          76.75796844994652,
          77.69290167101386,
          78.58875215118168,
          79.01989380188697,
          79.49264547752769,
          79.64852949230836,
          79.84334371716034,
          80.83546889670438,
          80.79992892568815,
          81.61630871003736,
          82.06789040431518,
          82.01009199612136,
          82.50280360846318,
          83.19138598967477,
          83.30931598056326,
          82.82034885912363,
          82.72755806748545,
          82.5643655621034,
          82.27266254327432,
          80.94490501203448,
          80.05128553061728,
          79.88377901094998,
          80.72672852689647,
          82.46732375445892,
          84.46235618759864,
          86.33283717877853,
          87.53595784856373,
          87.70578371239239,
          88.50836856199427,
          89.31775615396573,
          90.75270966434236,
          91.49948976106361,
          92.61412802991299,
          93.5733775097111,
          93.89639978912875,
          94.0515998307931,
          94.89130896718218,
          96.64561645284752,
          96.75368618996119,
          96.7548341554338,
          97.21031885802275,
          97.5484427041911,
          98.00690766947558,
          98.58383355023417,
          99.95222745500712,
          100.88818610224615,
          101.29942499371563,
          101.46680226790812,
          100.84011094548198,
          99.97099986336386,
          98.5289998866845,
          98.25645445250645,
          96.38255364163554,
          94.7911802513271,
          94.14732929623577,
          93.25690578748461,
          92.68655928048861,
          93.15445759324828,
          92.84091984895485,
          92.23711623994924,
          92.79582237821958,
          92.37112740031216,
          92.04728605477008,
          91.51323404477039,
          91.54537330935963,
          90.71530543488743,
          90.0143408103326,
          89.38446066297746,
          88.88546781514916,
          88.7190191214818,
          89.56828837213767,
          89.96496321357338,
          90.38951535656545,
          90.81505801901255,
          91.40686565192442,
          91.66561735157633,
          91.29732328765125,
          90.67235541716629,
          90.49374534131718,
          88.90579164289089,
          87.74837498054413,
          87.30139771135336,
          87.39568903656199,
          88.045563757188,
          86.32273398315183,
          84.5295096225771,
          83.1786896911984,
          82.23347338370719,
          80.55647822303229,
          80.21530036429901,
          79.08160938897153,
          77.32858950006712,
          75.57975504550906,
          74.42889049177992,
          73.11454676600155,
          72.73735644491032,
          72.5014734549266,
          72.5775691903945,
          73.23982933759555,
          74.49440582166916,
          76.02996839954757,
          76.64270141781168,
          77.04584661457321,
          76.94478359374172,
          77.13118657669777,
          77.06369810820726,
          77.33029845216959,
          77.45933509722967,
          77.9558196250061,
          78.418397875005,
          78.68778007954954,
          79.47363824690417,
          78.69297674746704,
          78.02879915701848,
          77.5017447648333,
          76.45597298940906,
          76.09306880951651,
          75.97614720778623,
          77.13866589727965,
          78.88436300686517,
          80.13084246016241,
          81.37250746740561,
          82.4484152006046,
          83.39597607322195,
          84.97125315081796,
          86.71102530521469,
          88.41265706790293,
          90.04490123737511,
          91.98946464876146,
          93.55865289444118,
          94.44071600454278,
          95.35876764008044,
          95.76990079642947,
          96.95355519707867,
          97.99654516124619,
          99.3062642228378,
          100.65603436414001,
          101.77675538884182,
          102.93007259087058,
          103.75551393798503,
          105.22542049471502,
          106.53170767749411,
          106.70230628158609,
          107.60915968493408,
          108.82203974221879,
          109.44530524363356,
          109.92979519933654,
          110.39165061763899,
          110.02225959625008,
          110.02366694238643,
          110.41390931649798,
          110.99501671349834,
          111.51046822013501,
          111.68129218011047,
          111.24651178372676,
          110.45623691395825,
          109.68419383869312,
          110.18524950438527,
          112.04793141267885,
          113.8883075194645,
          116.04497887956187,
          118.00043726509605,
          119.05672139871496,
          120.05186296258496,
          120.22970606029678,
          120.34612314024281,
          120.83228256928956,
          124.48823119305511,
          126.86128006704509,
          129.52104732758235,
          131.45358417711284,
          131.5583870540014,
          131.5914075896375,
          130.7456971187943,
          130.17375218810446,
          129.60579724481272,
          129.34292501848313,
          129.62239319694075,
          130.52377625204244,
          131.12854420621653,
          130.22699071417716,
          128.67662876614497,
          128.16087808139133,
          127.59344570295653,
          127.26372830241898,
          127.02850497470645,
          125.87604952475981,
          123.73858597480348,
          122.22975216120282,
          121.83161540462048,
          121.08768533105312,
          120.66083345267982,
          120.33704555219258,
          119.3866736336121,
          118.80000570022808,
          117.85636830018662,
          117.9370286092436,
          119.34302340756294,
          122.02247369709696,
          123.58929666126114
         ]
        },
        {
         "line": {
          "color": "purple",
          "shape": "spline",
          "width": 2
         },
         "name": "SMA 30",
         "type": "scatter",
         "x": [
          "2024-01-08T00:00:00-05:00",
          "2024-01-09T00:00:00-05:00",
          "2024-01-10T00:00:00-05:00",
          "2024-01-11T00:00:00-05:00",
          "2024-01-12T00:00:00-05:00",
          "2024-01-16T00:00:00-05:00",
          "2024-01-17T00:00:00-05:00",
          "2024-01-18T00:00:00-05:00",
          "2024-01-19T00:00:00-05:00",
          "2024-01-22T00:00:00-05:00",
          "2024-01-23T00:00:00-05:00",
          "2024-01-24T00:00:00-05:00",
          "2024-01-25T00:00:00-05:00",
          "2024-01-26T00:00:00-05:00",
          "2024-01-29T00:00:00-05:00",
          "2024-01-30T00:00:00-05:00",
          "2024-01-31T00:00:00-05:00",
          "2024-02-01T00:00:00-05:00",
          "2024-02-02T00:00:00-05:00",
          "2024-02-05T00:00:00-05:00",
          "2024-02-06T00:00:00-05:00",
          "2024-02-07T00:00:00-05:00",
          "2024-02-08T00:00:00-05:00",
          "2024-02-09T00:00:00-05:00",
          "2024-02-12T00:00:00-05:00",
          "2024-02-13T00:00:00-05:00",
          "2024-02-14T00:00:00-05:00",
          "2024-02-15T00:00:00-05:00",
          "2024-02-16T00:00:00-05:00",
          "2024-02-20T00:00:00-05:00",
          "2024-02-21T00:00:00-05:00",
          "2024-02-22T00:00:00-05:00",
          "2024-02-23T00:00:00-05:00",
          "2024-02-26T00:00:00-05:00",
          "2024-02-27T00:00:00-05:00",
          "2024-02-28T00:00:00-05:00",
          "2024-02-29T00:00:00-05:00",
          "2024-03-01T00:00:00-05:00",
          "2024-03-04T00:00:00-05:00",
          "2024-03-05T00:00:00-05:00",
          "2024-03-06T00:00:00-05:00",
          "2024-03-07T00:00:00-05:00",
          "2024-03-08T00:00:00-05:00",
          "2024-03-11T00:00:00-04:00",
          "2024-03-12T00:00:00-04:00",
          "2024-03-13T00:00:00-04:00",
          "2024-03-14T00:00:00-04:00",
          "2024-03-15T00:00:00-04:00",
          "2024-03-18T00:00:00-04:00",
          "2024-03-19T00:00:00-04:00",
          "2024-03-20T00:00:00-04:00",
          "2024-03-21T00:00:00-04:00",
          "2024-03-22T00:00:00-04:00",
          "2024-03-25T00:00:00-04:00",
          "2024-03-26T00:00:00-04:00",
          "2024-03-27T00:00:00-04:00",
          "2024-03-28T00:00:00-04:00",
          "2024-04-01T00:00:00-04:00",
          "2024-04-02T00:00:00-04:00",
          "2024-04-03T00:00:00-04:00",
          "2024-04-04T00:00:00-04:00",
          "2024-04-05T00:00:00-04:00",
          "2024-04-08T00:00:00-04:00",
          "2024-04-09T00:00:00-04:00",
          "2024-04-10T00:00:00-04:00",
          "2024-04-11T00:00:00-04:00",
          "2024-04-12T00:00:00-04:00",
          "2024-04-15T00:00:00-04:00",
          "2024-04-16T00:00:00-04:00",
          "2024-04-17T00:00:00-04:00",
          "2024-04-18T00:00:00-04:00",
          "2024-04-19T00:00:00-04:00",
          "2024-04-22T00:00:00-04:00",
          "2024-04-23T00:00:00-04:00",
          "2024-04-24T00:00:00-04:00",
          "2024-04-25T00:00:00-04:00",
          "2024-04-26T00:00:00-04:00",
          "2024-04-29T00:00:00-04:00",
          "2024-04-30T00:00:00-04:00",
          "2024-05-01T00:00:00-04:00",
          "2024-05-02T00:00:00-04:00",
          "2024-05-03T00:00:00-04:00",
          "2024-05-06T00:00:00-04:00",
          "2024-05-07T00:00:00-04:00",
          "2024-05-08T00:00:00-04:00",
          "2024-05-09T00:00:00-04:00",
          "2024-05-10T00:00:00-04:00",
          "2024-05-13T00:00:00-04:00",
          "2024-05-14T00:00:00-04:00",
          "2024-05-15T00:00:00-04:00",
          "2024-05-16T00:00:00-04:00",
          "2024-05-17T00:00:00-04:00",
          "2024-05-20T00:00:00-04:00",
          "2024-05-21T00:00:00-04:00",
          "2024-05-22T00:00:00-04:00",
          "2024-05-23T00:00:00-04:00",
          "2024-05-24T00:00:00-04:00",
          "2024-05-28T00:00:00-04:00",
          "2024-05-29T00:00:00-04:00",
          "2024-05-30T00:00:00-04:00",
          "2024-05-31T00:00:00-04:00",
          "2024-06-03T00:00:00-04:00",
          "2024-06-04T00:00:00-04:00",
          "2024-06-05T00:00:00-04:00",
          "2024-06-06T00:00:00-04:00",
          "2024-06-07T00:00:00-04:00",
          "2024-06-10T00:00:00-04:00",
          "2024-06-11T00:00:00-04:00",
          "2024-06-12T00:00:00-04:00",
          "2024-06-13T00:00:00-04:00",
          "2024-06-14T00:00:00-04:00",
          "2024-06-17T00:00:00-04:00",
          "2024-06-18T00:00:00-04:00",
          "2024-06-20T00:00:00-04:00",
          "2024-06-21T00:00:00-04:00",
          "2024-06-24T00:00:00-04:00",
          "2024-06-25T00:00:00-04:00",
          "2024-06-26T00:00:00-04:00",
          "2024-06-27T00:00:00-04:00",
          "2024-06-28T00:00:00-04:00",
          "2024-07-01T00:00:00-04:00",
          "2024-07-02T00:00:00-04:00",
          "2024-07-03T00:00:00-04:00",
          "2024-07-05T00:00:00-04:00",
          "2024-07-08T00:00:00-04:00",
          "2024-07-09T00:00:00-04:00",
          "2024-07-10T00:00:00-04:00",
          "2024-07-11T00:00:00-04:00",
          "2024-07-12T00:00:00-04:00",
          "2024-07-15T00:00:00-04:00",
          "2024-07-16T00:00:00-04:00",
          "2024-07-17T00:00:00-04:00",
          "2024-07-18T00:00:00-04:00",
          "2024-07-19T00:00:00-04:00",
          "2024-07-22T00:00:00-04:00",
          "2024-07-23T00:00:00-04:00",
          "2024-07-24T00:00:00-04:00",
          "2024-07-25T00:00:00-04:00",
          "2024-07-26T00:00:00-04:00",
          "2024-07-29T00:00:00-04:00",
          "2024-07-30T00:00:00-04:00",
          "2024-07-31T00:00:00-04:00",
          "2024-08-01T00:00:00-04:00",
          "2024-08-02T00:00:00-04:00",
          "2024-08-05T00:00:00-04:00",
          "2024-08-06T00:00:00-04:00",
          "2024-08-07T00:00:00-04:00",
          "2024-08-08T00:00:00-04:00",
          "2024-08-09T00:00:00-04:00",
          "2024-08-12T00:00:00-04:00",
          "2024-08-13T00:00:00-04:00",
          "2024-08-14T00:00:00-04:00",
          "2024-08-15T00:00:00-04:00",
          "2024-08-16T00:00:00-04:00",
          "2024-08-19T00:00:00-04:00",
          "2024-08-20T00:00:00-04:00",
          "2024-08-21T00:00:00-04:00",
          "2024-08-22T00:00:00-04:00",
          "2024-08-23T00:00:00-04:00",
          "2024-08-26T00:00:00-04:00",
          "2024-08-27T00:00:00-04:00",
          "2024-08-28T00:00:00-04:00",
          "2024-08-29T00:00:00-04:00",
          "2024-08-30T00:00:00-04:00",
          "2024-09-03T00:00:00-04:00",
          "2024-09-04T00:00:00-04:00",
          "2024-09-05T00:00:00-04:00",
          "2024-09-06T00:00:00-04:00",
          "2024-09-09T00:00:00-04:00",
          "2024-09-10T00:00:00-04:00",
          "2024-09-11T00:00:00-04:00",
          "2024-09-12T00:00:00-04:00",
          "2024-09-13T00:00:00-04:00",
          "2024-09-16T00:00:00-04:00",
          "2024-09-17T00:00:00-04:00",
          "2024-09-18T00:00:00-04:00",
          "2024-09-19T00:00:00-04:00",
          "2024-09-20T00:00:00-04:00",
          "2024-09-23T00:00:00-04:00",
          "2024-09-24T00:00:00-04:00",
          "2024-09-25T00:00:00-04:00",
          "2024-09-26T00:00:00-04:00",
          "2024-09-27T00:00:00-04:00",
          "2024-09-30T00:00:00-04:00",
          "2024-10-01T00:00:00-04:00",
          "2024-10-02T00:00:00-04:00",
          "2024-10-03T00:00:00-04:00",
          "2024-10-04T00:00:00-04:00",
          "2024-10-07T00:00:00-04:00",
          "2024-10-08T00:00:00-04:00",
          "2024-10-09T00:00:00-04:00",
          "2024-10-10T00:00:00-04:00",
          "2024-10-11T00:00:00-04:00",
          "2024-10-14T00:00:00-04:00",
          "2024-10-15T00:00:00-04:00",
          "2024-10-16T00:00:00-04:00",
          "2024-10-17T00:00:00-04:00",
          "2024-10-18T00:00:00-04:00",
          "2024-10-21T00:00:00-04:00",
          "2024-10-22T00:00:00-04:00",
          "2024-10-23T00:00:00-04:00",
          "2024-10-24T00:00:00-04:00",
          "2024-10-25T00:00:00-04:00",
          "2024-10-28T00:00:00-04:00",
          "2024-10-29T00:00:00-04:00",
          "2024-10-30T00:00:00-04:00",
          "2024-10-31T00:00:00-04:00",
          "2024-11-01T00:00:00-04:00",
          "2024-11-04T00:00:00-05:00",
          "2024-11-05T00:00:00-05:00",
          "2024-11-06T00:00:00-05:00",
          "2024-11-07T00:00:00-05:00",
          "2024-11-08T00:00:00-05:00",
          "2024-11-11T00:00:00-05:00",
          "2024-11-12T00:00:00-05:00",
          "2024-11-13T00:00:00-05:00",
          "2024-11-14T00:00:00-05:00",
          "2024-11-15T00:00:00-05:00",
          "2024-11-18T00:00:00-05:00",
          "2024-11-19T00:00:00-05:00",
          "2024-11-20T00:00:00-05:00",
          "2024-11-21T00:00:00-05:00",
          "2024-11-22T00:00:00-05:00",
          "2024-11-25T00:00:00-05:00",
          "2024-11-26T00:00:00-05:00",
          "2024-11-27T00:00:00-05:00",
          "2024-11-29T00:00:00-05:00",
          "2024-12-02T00:00:00-05:00",
          "2024-12-03T00:00:00-05:00",
          "2024-12-04T00:00:00-05:00",
          "2024-12-05T00:00:00-05:00",
          "2024-12-06T00:00:00-05:00",
          "2024-12-09T00:00:00-05:00",
          "2024-12-10T00:00:00-05:00",
          "2024-12-11T00:00:00-05:00",
          "2024-12-12T00:00:00-05:00",
          "2024-12-13T00:00:00-05:00",
          "2024-12-16T00:00:00-05:00",
          "2024-12-17T00:00:00-05:00",
          "2024-12-18T00:00:00-05:00",
          "2024-12-19T00:00:00-05:00",
          "2024-12-20T00:00:00-05:00",
          "2024-12-23T00:00:00-05:00",
          "2024-12-24T00:00:00-05:00",
          "2024-12-26T00:00:00-05:00",
          "2024-12-27T00:00:00-05:00",
          "2024-12-30T00:00:00-05:00",
          "2024-12-31T00:00:00-05:00",
          "2025-01-02T00:00:00-05:00",
          "2025-01-03T00:00:00-05:00",
          "2025-01-06T00:00:00-05:00",
          "2025-01-07T00:00:00-05:00"
         ],
         "y": [
          null,
          null,
          null,
          null,
          null,
          null,
          null,
          null,
          null,
          null,
          null,
          null,
          null,
          null,
          null,
          null,
          null,
          null,
          null,
          null,
          null,
          null,
          null,
          null,
          null,
          null,
          null,
          null,
          null,
          56.236999999999995,
          56.57033333333333,
          57.027,
          57.489999999999995,
          58.032333333333334,
          58.59,
          59.12733333333333,
          59.73866666666666,
          60.394333333333336,
          60.99466666666667,
          61.54666666666667,
          62.157000000000004,
          62.799,
          63.333999999999996,
          63.785,
          64.36533333333334,
          64.92166666666667,
          65.50733333333332,
          65.99666666666667,
          66.51966666666667,
          67.03633333333333,
          67.66066666666667,
          68.373,
          69.06766666666667,
          69.68233333333335,
          70.39433333333334,
          71.01066666666665,
          71.56766666666665,
          72.15333333333335,
          72.747,
          73.525,
          74.26299999999999,
          75.01133333333334,
          75.72666666666666,
          76.24333333333333,
          76.86033333333333,
          77.53533333333333,
          78.07799999999999,
          78.415,
          78.771,
          79.16666666666667,
          79.46766666666667,
          79.56566666666666,
          79.78966666666666,
          80.196,
          80.60466666666667,
          81.17133333333332,
          81.82433333333333,
          82.51299999999999,
          83.04133333333334,
          83.423,
          83.90033333333332,
          84.26366666666667,
          84.75566666666667,
          85.18766666666667,
          85.68800000000002,
          86.25233333333334,
          86.71000000000001,
          87.19,
          87.78833333333334,
          88.42966666666666,
          88.98299999999999,
          89.36533333333334,
          89.87066666666666,
          90.44800000000001,
          90.95966666666666,
          91.45599999999999,
          92.19833333333334,
          93.01433333333333,
          93.709,
          94.38866666666667,
          94.95733333333332,
          95.66033333333333,
          96.19399999999999,
          96.79066666666667,
          96.90499999999999,
          96.816,
          96.743,
          96.55966666666667,
          96.46533333333332,
          96.69166666666666,
          96.66866666666667,
          96.554,
          96.49066666666667,
          96.344,
          96.10933333333332,
          95.81666666666666,
          95.69466666666668,
          95.43566666666668,
          95.04199999999999,
          94.44233333333334,
          94.089,
          93.796,
          93.60033333333334,
          93.35633333333334,
          93.09733333333334,
          92.81566666666667,
          92.41433333333333,
          92.00533333333333,
          91.555,
          91.07633333333334,
          90.79866666666666,
          90.32200000000002,
          90.00533333333334,
          89.614,
          89.60966666666668,
          89.721,
          89.29833333333335,
          88.872,
          88.43800000000002,
          87.86200000000001,
          87.248,
          86.88666666666668,
          86.17566666666667,
          85.475,
          84.71233333333333,
          84.05033333333333,
          83.234,
          82.70266666666666,
          82.18866666666668,
          81.73433333333334,
          81.387,
          81.12599999999999,
          80.77766666666666,
          80.366,
          79.91799999999999,
          79.37666666666665,
          78.84,
          78.30433333333333,
          77.934,
          77.60666666666667,
          77.29,
          77.248,
          77.16,
          77.084,
          76.66266666666665,
          76.13166666666666,
          76.017,
          75.86,
          75.77199999999999,
          75.68766666666667,
          75.99966666666667,
          76.26833333333333,
          76.66033333333333,
          77.24433333333334,
          77.897,
          78.51066666666667,
          79.33933333333333,
          80.12266666666666,
          80.94366666666666,
          81.75933333333333,
          82.57666666666667,
          83.25933333333334,
          83.775,
          84.44466666666668,
          85.07,
          85.92966666666666,
          86.75366666666666,
          87.70166666666667,
          88.64166666666667,
          89.60099999999998,
          90.532,
          91.431,
          92.49566666666668,
          93.47566666666667,
          94.55199999999999,
          95.77366666666667,
          97.07866666666668,
          98.42866666666667,
          99.68366666666667,
          100.91766666666668,
          101.784,
          102.56033333333333,
          103.44133333333333,
          104.32966666666667,
          105.21433333333333,
          106.04066666666667,
          106.61500000000001,
          107.027,
          107.365,
          107.86666666666666,
          108.52299999999998,
          109.24133333333333,
          110.15266666666666,
          111.063,
          111.93599999999999,
          112.67766666666668,
          113.289,
          113.81133333333332,
          114.35433333333332,
          115.49166666666666,
          116.47233333333332,
          117.60633333333334,
          118.55,
          119.204,
          120.013,
          120.52133333333335,
          120.96533333333333,
          121.45866666666666,
          121.99366666666667,
          122.60733333333334,
          123.48133333333334,
          124.27533333333334,
          124.742,
          125.01166666666667,
          125.412,
          125.83166666666668,
          126.38133333333332,
          127.01700000000001,
          127.49966666666667,
          127.55566666666667,
          127.38933333333333,
          127.31833333333334,
          127.05133333333333,
          126.78266666666667,
          126.61833333333334,
          126.30433333333332,
          126.14200000000001,
          125.9,
          125.74266666666668,
          125.23366666666668,
          125.11833333333334,
          124.75666666666666
         ]
        }
       ],
       "layout": {
        "template": {
         "data": {
          "bar": [
           {
            "error_x": {
             "color": "#2a3f5f"
            },
            "error_y": {
             "color": "#2a3f5f"
            },
            "marker": {
             "line": {
              "color": "#E5ECF6",
              "width": 0.5
             },
             "pattern": {
              "fillmode": "overlay",
              "size": 10,
              "solidity": 0.2
             }
            },
            "type": "bar"
           }
          ],
          "barpolar": [
           {
            "marker": {
             "line": {
              "color": "#E5ECF6",
              "width": 0.5
             },
             "pattern": {
              "fillmode": "overlay",
              "size": 10,
              "solidity": 0.2
             }
            },
            "type": "barpolar"
           }
          ],
          "carpet": [
           {
            "aaxis": {
             "endlinecolor": "#2a3f5f",
             "gridcolor": "white",
             "linecolor": "white",
             "minorgridcolor": "white",
             "startlinecolor": "#2a3f5f"
            },
            "baxis": {
             "endlinecolor": "#2a3f5f",
             "gridcolor": "white",
             "linecolor": "white",
             "minorgridcolor": "white",
             "startlinecolor": "#2a3f5f"
            },
            "type": "carpet"
           }
          ],
          "choropleth": [
           {
            "colorbar": {
             "outlinewidth": 0,
             "ticks": ""
            },
            "type": "choropleth"
           }
          ],
          "contour": [
           {
            "colorbar": {
             "outlinewidth": 0,
             "ticks": ""
            },
            "colorscale": [
             [
              0,
              "#0d0887"
             ],
             [
              0.1111111111111111,
              "#46039f"
             ],
             [
              0.2222222222222222,
              "#7201a8"
             ],
             [
              0.3333333333333333,
              "#9c179e"
             ],
             [
              0.4444444444444444,
              "#bd3786"
             ],
             [
              0.5555555555555556,
              "#d8576b"
             ],
             [
              0.6666666666666666,
              "#ed7953"
             ],
             [
              0.7777777777777778,
              "#fb9f3a"
             ],
             [
              0.8888888888888888,
              "#fdca26"
             ],
             [
              1,
              "#f0f921"
             ]
            ],
            "type": "contour"
           }
          ],
          "contourcarpet": [
           {
            "colorbar": {
             "outlinewidth": 0,
             "ticks": ""
            },
            "type": "contourcarpet"
           }
          ],
          "heatmap": [
           {
            "colorbar": {
             "outlinewidth": 0,
             "ticks": ""
            },
            "colorscale": [
             [
              0,
              "#0d0887"
             ],
             [
              0.1111111111111111,
              "#46039f"
             ],
             [
              0.2222222222222222,
              "#7201a8"
             ],
             [
              0.3333333333333333,
              "#9c179e"
             ],
             [
              0.4444444444444444,
              "#bd3786"
             ],
             [
              0.5555555555555556,
              "#d8576b"
             ],
             [
              0.6666666666666666,
              "#ed7953"
             ],
             [
              0.7777777777777778,
              "#fb9f3a"
             ],
             [
              0.8888888888888888,
              "#fdca26"
             ],
             [
              1,
              "#f0f921"
             ]
            ],
            "type": "heatmap"
           }
          ],
          "heatmapgl": [
           {
            "colorbar": {
             "outlinewidth": 0,
             "ticks": ""
            },
            "colorscale": [
             [
              0,
              "#0d0887"
             ],
             [
              0.1111111111111111,
              "#46039f"
             ],
             [
              0.2222222222222222,
              "#7201a8"
             ],
             [
              0.3333333333333333,
              "#9c179e"
             ],
             [
              0.4444444444444444,
              "#bd3786"
             ],
             [
              0.5555555555555556,
              "#d8576b"
             ],
             [
              0.6666666666666666,
              "#ed7953"
             ],
             [
              0.7777777777777778,
              "#fb9f3a"
             ],
             [
              0.8888888888888888,
              "#fdca26"
             ],
             [
              1,
              "#f0f921"
             ]
            ],
            "type": "heatmapgl"
           }
          ],
          "histogram": [
           {
            "marker": {
             "pattern": {
              "fillmode": "overlay",
              "size": 10,
              "solidity": 0.2
             }
            },
            "type": "histogram"
           }
          ],
          "histogram2d": [
           {
            "colorbar": {
             "outlinewidth": 0,
             "ticks": ""
            },
            "colorscale": [
             [
              0,
              "#0d0887"
             ],
             [
              0.1111111111111111,
              "#46039f"
             ],
             [
              0.2222222222222222,
              "#7201a8"
             ],
             [
              0.3333333333333333,
              "#9c179e"
             ],
             [
              0.4444444444444444,
              "#bd3786"
             ],
             [
              0.5555555555555556,
              "#d8576b"
             ],
             [
              0.6666666666666666,
              "#ed7953"
             ],
             [
              0.7777777777777778,
              "#fb9f3a"
             ],
             [
              0.8888888888888888,
              "#fdca26"
             ],
             [
              1,
              "#f0f921"
             ]
            ],
            "type": "histogram2d"
           }
          ],
          "histogram2dcontour": [
           {
            "colorbar": {
             "outlinewidth": 0,
             "ticks": ""
            },
            "colorscale": [
             [
              0,
              "#0d0887"
             ],
             [
              0.1111111111111111,
              "#46039f"
             ],
             [
              0.2222222222222222,
              "#7201a8"
             ],
             [
              0.3333333333333333,
              "#9c179e"
             ],
             [
              0.4444444444444444,
              "#bd3786"
             ],
             [
              0.5555555555555556,
              "#d8576b"
             ],
             [
              0.6666666666666666,
              "#ed7953"
             ],
             [
              0.7777777777777778,
              "#fb9f3a"
             ],
             [
              0.8888888888888888,
              "#fdca26"
             ],
             [
              1,
              "#f0f921"
             ]
            ],
            "type": "histogram2dcontour"
           }
          ],
          "mesh3d": [
           {
            "colorbar": {
             "outlinewidth": 0,
             "ticks": ""
            },
            "type": "mesh3d"
           }
          ],
          "parcoords": [
           {
            "line": {
             "colorbar": {
              "outlinewidth": 0,
              "ticks": ""
             }
            },
            "type": "parcoords"
           }
          ],
          "pie": [
           {
            "automargin": true,
            "type": "pie"
           }
          ],
          "scatter": [
           {
            "fillpattern": {
             "fillmode": "overlay",
             "size": 10,
             "solidity": 0.2
            },
            "type": "scatter"
           }
          ],
          "scatter3d": [
           {
            "line": {
             "colorbar": {
              "outlinewidth": 0,
              "ticks": ""
             }
            },
            "marker": {
             "colorbar": {
              "outlinewidth": 0,
              "ticks": ""
             }
            },
            "type": "scatter3d"
           }
          ],
          "scattercarpet": [
           {
            "marker": {
             "colorbar": {
              "outlinewidth": 0,
              "ticks": ""
             }
            },
            "type": "scattercarpet"
           }
          ],
          "scattergeo": [
           {
            "marker": {
             "colorbar": {
              "outlinewidth": 0,
              "ticks": ""
             }
            },
            "type": "scattergeo"
           }
          ],
          "scattergl": [
           {
            "marker": {
             "colorbar": {
              "outlinewidth": 0,
              "ticks": ""
             }
            },
            "type": "scattergl"
           }
          ],
          "scattermapbox": [
           {
            "marker": {
             "colorbar": {
              "outlinewidth": 0,
              "ticks": ""
             }
            },
            "type": "scattermapbox"
           }
          ],
          "scatterpolar": [
           {
            "marker": {
             "colorbar": {
              "outlinewidth": 0,
              "ticks": ""
             }
            },
            "type": "scatterpolar"
           }
          ],
          "scatterpolargl": [
           {
            "marker": {
             "colorbar": {
              "outlinewidth": 0,
              "ticks": ""
             }
            },
            "type": "scatterpolargl"
           }
          ],
          "scatterternary": [
           {
            "marker": {
             "colorbar": {
              "outlinewidth": 0,
              "ticks": ""
             }
            },
            "type": "scatterternary"
           }
          ],
          "surface": [
           {
            "colorbar": {
             "outlinewidth": 0,
             "ticks": ""
            },
            "colorscale": [
             [
              0,
              "#0d0887"
             ],
             [
              0.1111111111111111,
              "#46039f"
             ],
             [
              0.2222222222222222,
              "#7201a8"
             ],
             [
              0.3333333333333333,
              "#9c179e"
             ],
             [
              0.4444444444444444,
              "#bd3786"
             ],
             [
              0.5555555555555556,
              "#d8576b"
             ],
             [
              0.6666666666666666,
              "#ed7953"
             ],
             [
              0.7777777777777778,
              "#fb9f3a"
             ],
             [
              0.8888888888888888,
              "#fdca26"
             ],
             [
              1,
              "#f0f921"
             ]
            ],
            "type": "surface"
           }
          ],
          "table": [
           {
            "cells": {
             "fill": {
              "color": "#EBF0F8"
             },
             "line": {
              "color": "white"
             }
            },
            "header": {
             "fill": {
              "color": "#C8D4E3"
             },
             "line": {
              "color": "white"
             }
            },
            "type": "table"
           }
          ]
         },
         "layout": {
          "annotationdefaults": {
           "arrowcolor": "#2a3f5f",
           "arrowhead": 0,
           "arrowwidth": 1
          },
          "autotypenumbers": "strict",
          "coloraxis": {
           "colorbar": {
            "outlinewidth": 0,
            "ticks": ""
           }
          },
          "colorscale": {
           "diverging": [
            [
             0,
             "#8e0152"
            ],
            [
             0.1,
             "#c51b7d"
            ],
            [
             0.2,
             "#de77ae"
            ],
            [
             0.3,
             "#f1b6da"
            ],
            [
             0.4,
             "#fde0ef"
            ],
            [
             0.5,
             "#f7f7f7"
            ],
            [
             0.6,
             "#e6f5d0"
            ],
            [
             0.7,
             "#b8e186"
            ],
            [
             0.8,
             "#7fbc41"
            ],
            [
             0.9,
             "#4d9221"
            ],
            [
             1,
             "#276419"
            ]
           ],
           "sequential": [
            [
             0,
             "#0d0887"
            ],
            [
             0.1111111111111111,
             "#46039f"
            ],
            [
             0.2222222222222222,
             "#7201a8"
            ],
            [
             0.3333333333333333,
             "#9c179e"
            ],
            [
             0.4444444444444444,
             "#bd3786"
            ],
            [
             0.5555555555555556,
             "#d8576b"
            ],
            [
             0.6666666666666666,
             "#ed7953"
            ],
            [
             0.7777777777777778,
             "#fb9f3a"
            ],
            [
             0.8888888888888888,
             "#fdca26"
            ],
            [
             1,
             "#f0f921"
            ]
           ],
           "sequentialminus": [
            [
             0,
             "#0d0887"
            ],
            [
             0.1111111111111111,
             "#46039f"
            ],
            [
             0.2222222222222222,
             "#7201a8"
            ],
            [
             0.3333333333333333,
             "#9c179e"
            ],
            [
             0.4444444444444444,
             "#bd3786"
            ],
            [
             0.5555555555555556,
             "#d8576b"
            ],
            [
             0.6666666666666666,
             "#ed7953"
            ],
            [
             0.7777777777777778,
             "#fb9f3a"
            ],
            [
             0.8888888888888888,
             "#fdca26"
            ],
            [
             1,
             "#f0f921"
            ]
           ]
          },
          "colorway": [
           "#636efa",
           "#EF553B",
           "#00cc96",
           "#ab63fa",
           "#FFA15A",
           "#19d3f3",
           "#FF6692",
           "#B6E880",
           "#FF97FF",
           "#FECB52"
          ],
          "font": {
           "color": "#2a3f5f"
          },
          "geo": {
           "bgcolor": "white",
           "lakecolor": "white",
           "landcolor": "#E5ECF6",
           "showlakes": true,
           "showland": true,
           "subunitcolor": "white"
          },
          "hoverlabel": {
           "align": "left"
          },
          "hovermode": "closest",
          "mapbox": {
           "style": "light"
          },
          "paper_bgcolor": "white",
          "plot_bgcolor": "#E5ECF6",
          "polar": {
           "angularaxis": {
            "gridcolor": "white",
            "linecolor": "white",
            "ticks": ""
           },
           "bgcolor": "#E5ECF6",
           "radialaxis": {
            "gridcolor": "white",
            "linecolor": "white",
            "ticks": ""
           }
          },
          "scene": {
           "xaxis": {
            "backgroundcolor": "#E5ECF6",
            "gridcolor": "white",
            "gridwidth": 2,
            "linecolor": "white",
            "showbackground": true,
            "ticks": "",
            "zerolinecolor": "white"
           },
           "yaxis": {
            "backgroundcolor": "#E5ECF6",
            "gridcolor": "white",
            "gridwidth": 2,
            "linecolor": "white",
            "showbackground": true,
            "ticks": "",
            "zerolinecolor": "white"
           },
           "zaxis": {
            "backgroundcolor": "#E5ECF6",
            "gridcolor": "white",
            "gridwidth": 2,
            "linecolor": "white",
            "showbackground": true,
            "ticks": "",
            "zerolinecolor": "white"
           }
          },
          "shapedefaults": {
           "line": {
            "color": "#2a3f5f"
           }
          },
          "ternary": {
           "aaxis": {
            "gridcolor": "white",
            "linecolor": "white",
            "ticks": ""
           },
           "baxis": {
            "gridcolor": "white",
            "linecolor": "white",
            "ticks": ""
           },
           "bgcolor": "#E5ECF6",
           "caxis": {
            "gridcolor": "white",
            "linecolor": "white",
            "ticks": ""
           }
          },
          "title": {
           "x": 0.05
          },
          "xaxis": {
           "automargin": true,
           "gridcolor": "white",
           "linecolor": "white",
           "ticks": "",
           "title": {
            "standoff": 15
           },
           "zerolinecolor": "white",
           "zerolinewidth": 2
          },
          "yaxis": {
           "automargin": true,
           "gridcolor": "white",
           "linecolor": "white",
           "ticks": "",
           "title": {
            "standoff": 15
           },
           "zerolinecolor": "white",
           "zerolinewidth": 2
          }
         }
        },
        "title": {
         "text": "VRT"
        },
        "xaxis": {
         "rangeslider": {
          "visible": false
         }
        }
       }
      }
     },
     "metadata": {},
     "output_type": "display_data"
    },
    {
     "data": {
      "application/vnd.plotly.v1+json": {
       "config": {
        "plotlyServerURL": "https://plot.ly"
       },
       "data": [
        {
         "name": "Volume",
         "type": "bar",
         "x": [
          "2024-01-08T00:00:00-05:00",
          "2024-01-09T00:00:00-05:00",
          "2024-01-10T00:00:00-05:00",
          "2024-01-11T00:00:00-05:00",
          "2024-01-12T00:00:00-05:00",
          "2024-01-16T00:00:00-05:00",
          "2024-01-17T00:00:00-05:00",
          "2024-01-18T00:00:00-05:00",
          "2024-01-19T00:00:00-05:00",
          "2024-01-22T00:00:00-05:00",
          "2024-01-23T00:00:00-05:00",
          "2024-01-24T00:00:00-05:00",
          "2024-01-25T00:00:00-05:00",
          "2024-01-26T00:00:00-05:00",
          "2024-01-29T00:00:00-05:00",
          "2024-01-30T00:00:00-05:00",
          "2024-01-31T00:00:00-05:00",
          "2024-02-01T00:00:00-05:00",
          "2024-02-02T00:00:00-05:00",
          "2024-02-05T00:00:00-05:00",
          "2024-02-06T00:00:00-05:00",
          "2024-02-07T00:00:00-05:00",
          "2024-02-08T00:00:00-05:00",
          "2024-02-09T00:00:00-05:00",
          "2024-02-12T00:00:00-05:00",
          "2024-02-13T00:00:00-05:00",
          "2024-02-14T00:00:00-05:00",
          "2024-02-15T00:00:00-05:00",
          "2024-02-16T00:00:00-05:00",
          "2024-02-20T00:00:00-05:00",
          "2024-02-21T00:00:00-05:00",
          "2024-02-22T00:00:00-05:00",
          "2024-02-23T00:00:00-05:00",
          "2024-02-26T00:00:00-05:00",
          "2024-02-27T00:00:00-05:00",
          "2024-02-28T00:00:00-05:00",
          "2024-02-29T00:00:00-05:00",
          "2024-03-01T00:00:00-05:00",
          "2024-03-04T00:00:00-05:00",
          "2024-03-05T00:00:00-05:00",
          "2024-03-06T00:00:00-05:00",
          "2024-03-07T00:00:00-05:00",
          "2024-03-08T00:00:00-05:00",
          "2024-03-11T00:00:00-04:00",
          "2024-03-12T00:00:00-04:00",
          "2024-03-13T00:00:00-04:00",
          "2024-03-14T00:00:00-04:00",
          "2024-03-15T00:00:00-04:00",
          "2024-03-18T00:00:00-04:00",
          "2024-03-19T00:00:00-04:00",
          "2024-03-20T00:00:00-04:00",
          "2024-03-21T00:00:00-04:00",
          "2024-03-22T00:00:00-04:00",
          "2024-03-25T00:00:00-04:00",
          "2024-03-26T00:00:00-04:00",
          "2024-03-27T00:00:00-04:00",
          "2024-03-28T00:00:00-04:00",
          "2024-04-01T00:00:00-04:00",
          "2024-04-02T00:00:00-04:00",
          "2024-04-03T00:00:00-04:00",
          "2024-04-04T00:00:00-04:00",
          "2024-04-05T00:00:00-04:00",
          "2024-04-08T00:00:00-04:00",
          "2024-04-09T00:00:00-04:00",
          "2024-04-10T00:00:00-04:00",
          "2024-04-11T00:00:00-04:00",
          "2024-04-12T00:00:00-04:00",
          "2024-04-15T00:00:00-04:00",
          "2024-04-16T00:00:00-04:00",
          "2024-04-17T00:00:00-04:00",
          "2024-04-18T00:00:00-04:00",
          "2024-04-19T00:00:00-04:00",
          "2024-04-22T00:00:00-04:00",
          "2024-04-23T00:00:00-04:00",
          "2024-04-24T00:00:00-04:00",
          "2024-04-25T00:00:00-04:00",
          "2024-04-26T00:00:00-04:00",
          "2024-04-29T00:00:00-04:00",
          "2024-04-30T00:00:00-04:00",
          "2024-05-01T00:00:00-04:00",
          "2024-05-02T00:00:00-04:00",
          "2024-05-03T00:00:00-04:00",
          "2024-05-06T00:00:00-04:00",
          "2024-05-07T00:00:00-04:00",
          "2024-05-08T00:00:00-04:00",
          "2024-05-09T00:00:00-04:00",
          "2024-05-10T00:00:00-04:00",
          "2024-05-13T00:00:00-04:00",
          "2024-05-14T00:00:00-04:00",
          "2024-05-15T00:00:00-04:00",
          "2024-05-16T00:00:00-04:00",
          "2024-05-17T00:00:00-04:00",
          "2024-05-20T00:00:00-04:00",
          "2024-05-21T00:00:00-04:00",
          "2024-05-22T00:00:00-04:00",
          "2024-05-23T00:00:00-04:00",
          "2024-05-24T00:00:00-04:00",
          "2024-05-28T00:00:00-04:00",
          "2024-05-29T00:00:00-04:00",
          "2024-05-30T00:00:00-04:00",
          "2024-05-31T00:00:00-04:00",
          "2024-06-03T00:00:00-04:00",
          "2024-06-04T00:00:00-04:00",
          "2024-06-05T00:00:00-04:00",
          "2024-06-06T00:00:00-04:00",
          "2024-06-07T00:00:00-04:00",
          "2024-06-10T00:00:00-04:00",
          "2024-06-11T00:00:00-04:00",
          "2024-06-12T00:00:00-04:00",
          "2024-06-13T00:00:00-04:00",
          "2024-06-14T00:00:00-04:00",
          "2024-06-17T00:00:00-04:00",
          "2024-06-18T00:00:00-04:00",
          "2024-06-20T00:00:00-04:00",
          "2024-06-21T00:00:00-04:00",
          "2024-06-24T00:00:00-04:00",
          "2024-06-25T00:00:00-04:00",
          "2024-06-26T00:00:00-04:00",
          "2024-06-27T00:00:00-04:00",
          "2024-06-28T00:00:00-04:00",
          "2024-07-01T00:00:00-04:00",
          "2024-07-02T00:00:00-04:00",
          "2024-07-03T00:00:00-04:00",
          "2024-07-05T00:00:00-04:00",
          "2024-07-08T00:00:00-04:00",
          "2024-07-09T00:00:00-04:00",
          "2024-07-10T00:00:00-04:00",
          "2024-07-11T00:00:00-04:00",
          "2024-07-12T00:00:00-04:00",
          "2024-07-15T00:00:00-04:00",
          "2024-07-16T00:00:00-04:00",
          "2024-07-17T00:00:00-04:00",
          "2024-07-18T00:00:00-04:00",
          "2024-07-19T00:00:00-04:00",
          "2024-07-22T00:00:00-04:00",
          "2024-07-23T00:00:00-04:00",
          "2024-07-24T00:00:00-04:00",
          "2024-07-25T00:00:00-04:00",
          "2024-07-26T00:00:00-04:00",
          "2024-07-29T00:00:00-04:00",
          "2024-07-30T00:00:00-04:00",
          "2024-07-31T00:00:00-04:00",
          "2024-08-01T00:00:00-04:00",
          "2024-08-02T00:00:00-04:00",
          "2024-08-05T00:00:00-04:00",
          "2024-08-06T00:00:00-04:00",
          "2024-08-07T00:00:00-04:00",
          "2024-08-08T00:00:00-04:00",
          "2024-08-09T00:00:00-04:00",
          "2024-08-12T00:00:00-04:00",
          "2024-08-13T00:00:00-04:00",
          "2024-08-14T00:00:00-04:00",
          "2024-08-15T00:00:00-04:00",
          "2024-08-16T00:00:00-04:00",
          "2024-08-19T00:00:00-04:00",
          "2024-08-20T00:00:00-04:00",
          "2024-08-21T00:00:00-04:00",
          "2024-08-22T00:00:00-04:00",
          "2024-08-23T00:00:00-04:00",
          "2024-08-26T00:00:00-04:00",
          "2024-08-27T00:00:00-04:00",
          "2024-08-28T00:00:00-04:00",
          "2024-08-29T00:00:00-04:00",
          "2024-08-30T00:00:00-04:00",
          "2024-09-03T00:00:00-04:00",
          "2024-09-04T00:00:00-04:00",
          "2024-09-05T00:00:00-04:00",
          "2024-09-06T00:00:00-04:00",
          "2024-09-09T00:00:00-04:00",
          "2024-09-10T00:00:00-04:00",
          "2024-09-11T00:00:00-04:00",
          "2024-09-12T00:00:00-04:00",
          "2024-09-13T00:00:00-04:00",
          "2024-09-16T00:00:00-04:00",
          "2024-09-17T00:00:00-04:00",
          "2024-09-18T00:00:00-04:00",
          "2024-09-19T00:00:00-04:00",
          "2024-09-20T00:00:00-04:00",
          "2024-09-23T00:00:00-04:00",
          "2024-09-24T00:00:00-04:00",
          "2024-09-25T00:00:00-04:00",
          "2024-09-26T00:00:00-04:00",
          "2024-09-27T00:00:00-04:00",
          "2024-09-30T00:00:00-04:00",
          "2024-10-01T00:00:00-04:00",
          "2024-10-02T00:00:00-04:00",
          "2024-10-03T00:00:00-04:00",
          "2024-10-04T00:00:00-04:00",
          "2024-10-07T00:00:00-04:00",
          "2024-10-08T00:00:00-04:00",
          "2024-10-09T00:00:00-04:00",
          "2024-10-10T00:00:00-04:00",
          "2024-10-11T00:00:00-04:00",
          "2024-10-14T00:00:00-04:00",
          "2024-10-15T00:00:00-04:00",
          "2024-10-16T00:00:00-04:00",
          "2024-10-17T00:00:00-04:00",
          "2024-10-18T00:00:00-04:00",
          "2024-10-21T00:00:00-04:00",
          "2024-10-22T00:00:00-04:00",
          "2024-10-23T00:00:00-04:00",
          "2024-10-24T00:00:00-04:00",
          "2024-10-25T00:00:00-04:00",
          "2024-10-28T00:00:00-04:00",
          "2024-10-29T00:00:00-04:00",
          "2024-10-30T00:00:00-04:00",
          "2024-10-31T00:00:00-04:00",
          "2024-11-01T00:00:00-04:00",
          "2024-11-04T00:00:00-05:00",
          "2024-11-05T00:00:00-05:00",
          "2024-11-06T00:00:00-05:00",
          "2024-11-07T00:00:00-05:00",
          "2024-11-08T00:00:00-05:00",
          "2024-11-11T00:00:00-05:00",
          "2024-11-12T00:00:00-05:00",
          "2024-11-13T00:00:00-05:00",
          "2024-11-14T00:00:00-05:00",
          "2024-11-15T00:00:00-05:00",
          "2024-11-18T00:00:00-05:00",
          "2024-11-19T00:00:00-05:00",
          "2024-11-20T00:00:00-05:00",
          "2024-11-21T00:00:00-05:00",
          "2024-11-22T00:00:00-05:00",
          "2024-11-25T00:00:00-05:00",
          "2024-11-26T00:00:00-05:00",
          "2024-11-27T00:00:00-05:00",
          "2024-11-29T00:00:00-05:00",
          "2024-12-02T00:00:00-05:00",
          "2024-12-03T00:00:00-05:00",
          "2024-12-04T00:00:00-05:00",
          "2024-12-05T00:00:00-05:00",
          "2024-12-06T00:00:00-05:00",
          "2024-12-09T00:00:00-05:00",
          "2024-12-10T00:00:00-05:00",
          "2024-12-11T00:00:00-05:00",
          "2024-12-12T00:00:00-05:00",
          "2024-12-13T00:00:00-05:00",
          "2024-12-16T00:00:00-05:00",
          "2024-12-17T00:00:00-05:00",
          "2024-12-18T00:00:00-05:00",
          "2024-12-19T00:00:00-05:00",
          "2024-12-20T00:00:00-05:00",
          "2024-12-23T00:00:00-05:00",
          "2024-12-24T00:00:00-05:00",
          "2024-12-26T00:00:00-05:00",
          "2024-12-27T00:00:00-05:00",
          "2024-12-30T00:00:00-05:00",
          "2024-12-31T00:00:00-05:00",
          "2025-01-02T00:00:00-05:00",
          "2025-01-03T00:00:00-05:00",
          "2025-01-06T00:00:00-05:00",
          "2025-01-07T00:00:00-05:00"
         ],
         "y": [
          4179200,
          3871400,
          2870600,
          3612700,
          3464600,
          3061700,
          3208600,
          4190200,
          7496600,
          7113800,
          3453600,
          8007700,
          7383900,
          5004700,
          5323500,
          9344800,
          7562300,
          10368900,
          9913600,
          6978700,
          10174800,
          6299400,
          7401100,
          6139500,
          7719100,
          10345100,
          7578000,
          9598700,
          8061600,
          9540300,
          21417500,
          11656200,
          5905900,
          7090900,
          8558900,
          5414400,
          6756200,
          7702000,
          9063800,
          6304000,
          5829700,
          5393700,
          7601400,
          11753400,
          7662700,
          8822900,
          9816100,
          8129200,
          12558000,
          12532800,
          6214900,
          11019800,
          6324400,
          7094700,
          8377100,
          7800500,
          5077400,
          6376400,
          6930200,
          8018000,
          11498400,
          7970700,
          6525000,
          10241900,
          8810800,
          8896300,
          5867300,
          7638000,
          6775600,
          6168700,
          6618400,
          15904000,
          10949600,
          7385700,
          28787700,
          20852400,
          15253900,
          11883700,
          11015300,
          10953700,
          6046500,
          4749000,
          5701300,
          5752100,
          6006400,
          6894400,
          8692800,
          4466600,
          4872000,
          8483800,
          8234300,
          8078400,
          6056000,
          4538400,
          5919700,
          10831100,
          10012000,
          9810400,
          7080700,
          4814500,
          17944400,
          9698100,
          13986400,
          9545800,
          20215600,
          13592800,
          7952600,
          6583900,
          9862600,
          9510700,
          8047200,
          9299200,
          11453500,
          10777000,
          12112600,
          8392000,
          6723300,
          8985200,
          6727000,
          23351600,
          8693900,
          7714400,
          7859600,
          5903000,
          4309200,
          6111900,
          4254900,
          6257800,
          10282400,
          7589600,
          6182000,
          13005800,
          13846400,
          7387300,
          7697000,
          10060900,
          22908000,
          17502800,
          7834600,
          8083800,
          12157600,
          16390300,
          10460800,
          16616300,
          15898300,
          11978600,
          11165100,
          9929400,
          6669300,
          6761500,
          8043000,
          11372200,
          7604900,
          6846400,
          6791700,
          5977800,
          5735300,
          4304800,
          4990700,
          4828700,
          5431800,
          6981700,
          7012300,
          7101000,
          9052500,
          5232300,
          3809900,
          8197900,
          5446600,
          4235500,
          10119200,
          11806300,
          7264500,
          6043800,
          4287300,
          8542000,
          9608800,
          13255800,
          6964900,
          5068300,
          8452500,
          9150700,
          7032700,
          4848300,
          4428600,
          6185500,
          6036300,
          5740300,
          6403600,
          4942600,
          5512600,
          4653900,
          6545000,
          5474300,
          9795900,
          6210100,
          7672800,
          4167800,
          5974800,
          9649700,
          18855300,
          8149800,
          6257400,
          4765800,
          4019800,
          3529500,
          5806500,
          5008300,
          4637700,
          4133600,
          7598500,
          7696700,
          4621500,
          6556500,
          6110700,
          4591000,
          5020200,
          6155000,
          7586700,
          14850300,
          10605600,
          10137200,
          4944000,
          10649700,
          7680900,
          7384600,
          3018300,
          5331900,
          7607800,
          5222800,
          11214600,
          4552300,
          8959200,
          6682900,
          4269500,
          3265000,
          11623200,
          4849100,
          5869200,
          6554000,
          6615500,
          8720800,
          4161500,
          1725800,
          2188900,
          3813100,
          3663200,
          3431600,
          4808000,
          7696700,
          9688500,
          6657584
         ]
        },
        {
         "name": "Average",
         "type": "scatter",
         "x": [
          "2024-01-08T00:00:00-05:00",
          "2024-01-09T00:00:00-05:00",
          "2024-01-10T00:00:00-05:00",
          "2024-01-11T00:00:00-05:00",
          "2024-01-12T00:00:00-05:00",
          "2024-01-16T00:00:00-05:00",
          "2024-01-17T00:00:00-05:00",
          "2024-01-18T00:00:00-05:00",
          "2024-01-19T00:00:00-05:00",
          "2024-01-22T00:00:00-05:00",
          "2024-01-23T00:00:00-05:00",
          "2024-01-24T00:00:00-05:00",
          "2024-01-25T00:00:00-05:00",
          "2024-01-26T00:00:00-05:00",
          "2024-01-29T00:00:00-05:00",
          "2024-01-30T00:00:00-05:00",
          "2024-01-31T00:00:00-05:00",
          "2024-02-01T00:00:00-05:00",
          "2024-02-02T00:00:00-05:00",
          "2024-02-05T00:00:00-05:00",
          "2024-02-06T00:00:00-05:00",
          "2024-02-07T00:00:00-05:00",
          "2024-02-08T00:00:00-05:00",
          "2024-02-09T00:00:00-05:00",
          "2024-02-12T00:00:00-05:00",
          "2024-02-13T00:00:00-05:00",
          "2024-02-14T00:00:00-05:00",
          "2024-02-15T00:00:00-05:00",
          "2024-02-16T00:00:00-05:00",
          "2024-02-20T00:00:00-05:00",
          "2024-02-21T00:00:00-05:00",
          "2024-02-22T00:00:00-05:00",
          "2024-02-23T00:00:00-05:00",
          "2024-02-26T00:00:00-05:00",
          "2024-02-27T00:00:00-05:00",
          "2024-02-28T00:00:00-05:00",
          "2024-02-29T00:00:00-05:00",
          "2024-03-01T00:00:00-05:00",
          "2024-03-04T00:00:00-05:00",
          "2024-03-05T00:00:00-05:00",
          "2024-03-06T00:00:00-05:00",
          "2024-03-07T00:00:00-05:00",
          "2024-03-08T00:00:00-05:00",
          "2024-03-11T00:00:00-04:00",
          "2024-03-12T00:00:00-04:00",
          "2024-03-13T00:00:00-04:00",
          "2024-03-14T00:00:00-04:00",
          "2024-03-15T00:00:00-04:00",
          "2024-03-18T00:00:00-04:00",
          "2024-03-19T00:00:00-04:00",
          "2024-03-20T00:00:00-04:00",
          "2024-03-21T00:00:00-04:00",
          "2024-03-22T00:00:00-04:00",
          "2024-03-25T00:00:00-04:00",
          "2024-03-26T00:00:00-04:00",
          "2024-03-27T00:00:00-04:00",
          "2024-03-28T00:00:00-04:00",
          "2024-04-01T00:00:00-04:00",
          "2024-04-02T00:00:00-04:00",
          "2024-04-03T00:00:00-04:00",
          "2024-04-04T00:00:00-04:00",
          "2024-04-05T00:00:00-04:00",
          "2024-04-08T00:00:00-04:00",
          "2024-04-09T00:00:00-04:00",
          "2024-04-10T00:00:00-04:00",
          "2024-04-11T00:00:00-04:00",
          "2024-04-12T00:00:00-04:00",
          "2024-04-15T00:00:00-04:00",
          "2024-04-16T00:00:00-04:00",
          "2024-04-17T00:00:00-04:00",
          "2024-04-18T00:00:00-04:00",
          "2024-04-19T00:00:00-04:00",
          "2024-04-22T00:00:00-04:00",
          "2024-04-23T00:00:00-04:00",
          "2024-04-24T00:00:00-04:00",
          "2024-04-25T00:00:00-04:00",
          "2024-04-26T00:00:00-04:00",
          "2024-04-29T00:00:00-04:00",
          "2024-04-30T00:00:00-04:00",
          "2024-05-01T00:00:00-04:00",
          "2024-05-02T00:00:00-04:00",
          "2024-05-03T00:00:00-04:00",
          "2024-05-06T00:00:00-04:00",
          "2024-05-07T00:00:00-04:00",
          "2024-05-08T00:00:00-04:00",
          "2024-05-09T00:00:00-04:00",
          "2024-05-10T00:00:00-04:00",
          "2024-05-13T00:00:00-04:00",
          "2024-05-14T00:00:00-04:00",
          "2024-05-15T00:00:00-04:00",
          "2024-05-16T00:00:00-04:00",
          "2024-05-17T00:00:00-04:00",
          "2024-05-20T00:00:00-04:00",
          "2024-05-21T00:00:00-04:00",
          "2024-05-22T00:00:00-04:00",
          "2024-05-23T00:00:00-04:00",
          "2024-05-24T00:00:00-04:00",
          "2024-05-28T00:00:00-04:00",
          "2024-05-29T00:00:00-04:00",
          "2024-05-30T00:00:00-04:00",
          "2024-05-31T00:00:00-04:00",
          "2024-06-03T00:00:00-04:00",
          "2024-06-04T00:00:00-04:00",
          "2024-06-05T00:00:00-04:00",
          "2024-06-06T00:00:00-04:00",
          "2024-06-07T00:00:00-04:00",
          "2024-06-10T00:00:00-04:00",
          "2024-06-11T00:00:00-04:00",
          "2024-06-12T00:00:00-04:00",
          "2024-06-13T00:00:00-04:00",
          "2024-06-14T00:00:00-04:00",
          "2024-06-17T00:00:00-04:00",
          "2024-06-18T00:00:00-04:00",
          "2024-06-20T00:00:00-04:00",
          "2024-06-21T00:00:00-04:00",
          "2024-06-24T00:00:00-04:00",
          "2024-06-25T00:00:00-04:00",
          "2024-06-26T00:00:00-04:00",
          "2024-06-27T00:00:00-04:00",
          "2024-06-28T00:00:00-04:00",
          "2024-07-01T00:00:00-04:00",
          "2024-07-02T00:00:00-04:00",
          "2024-07-03T00:00:00-04:00",
          "2024-07-05T00:00:00-04:00",
          "2024-07-08T00:00:00-04:00",
          "2024-07-09T00:00:00-04:00",
          "2024-07-10T00:00:00-04:00",
          "2024-07-11T00:00:00-04:00",
          "2024-07-12T00:00:00-04:00",
          "2024-07-15T00:00:00-04:00",
          "2024-07-16T00:00:00-04:00",
          "2024-07-17T00:00:00-04:00",
          "2024-07-18T00:00:00-04:00",
          "2024-07-19T00:00:00-04:00",
          "2024-07-22T00:00:00-04:00",
          "2024-07-23T00:00:00-04:00",
          "2024-07-24T00:00:00-04:00",
          "2024-07-25T00:00:00-04:00",
          "2024-07-26T00:00:00-04:00",
          "2024-07-29T00:00:00-04:00",
          "2024-07-30T00:00:00-04:00",
          "2024-07-31T00:00:00-04:00",
          "2024-08-01T00:00:00-04:00",
          "2024-08-02T00:00:00-04:00",
          "2024-08-05T00:00:00-04:00",
          "2024-08-06T00:00:00-04:00",
          "2024-08-07T00:00:00-04:00",
          "2024-08-08T00:00:00-04:00",
          "2024-08-09T00:00:00-04:00",
          "2024-08-12T00:00:00-04:00",
          "2024-08-13T00:00:00-04:00",
          "2024-08-14T00:00:00-04:00",
          "2024-08-15T00:00:00-04:00",
          "2024-08-16T00:00:00-04:00",
          "2024-08-19T00:00:00-04:00",
          "2024-08-20T00:00:00-04:00",
          "2024-08-21T00:00:00-04:00",
          "2024-08-22T00:00:00-04:00",
          "2024-08-23T00:00:00-04:00",
          "2024-08-26T00:00:00-04:00",
          "2024-08-27T00:00:00-04:00",
          "2024-08-28T00:00:00-04:00",
          "2024-08-29T00:00:00-04:00",
          "2024-08-30T00:00:00-04:00",
          "2024-09-03T00:00:00-04:00",
          "2024-09-04T00:00:00-04:00",
          "2024-09-05T00:00:00-04:00",
          "2024-09-06T00:00:00-04:00",
          "2024-09-09T00:00:00-04:00",
          "2024-09-10T00:00:00-04:00",
          "2024-09-11T00:00:00-04:00",
          "2024-09-12T00:00:00-04:00",
          "2024-09-13T00:00:00-04:00",
          "2024-09-16T00:00:00-04:00",
          "2024-09-17T00:00:00-04:00",
          "2024-09-18T00:00:00-04:00",
          "2024-09-19T00:00:00-04:00",
          "2024-09-20T00:00:00-04:00",
          "2024-09-23T00:00:00-04:00",
          "2024-09-24T00:00:00-04:00",
          "2024-09-25T00:00:00-04:00",
          "2024-09-26T00:00:00-04:00",
          "2024-09-27T00:00:00-04:00",
          "2024-09-30T00:00:00-04:00",
          "2024-10-01T00:00:00-04:00",
          "2024-10-02T00:00:00-04:00",
          "2024-10-03T00:00:00-04:00",
          "2024-10-04T00:00:00-04:00",
          "2024-10-07T00:00:00-04:00",
          "2024-10-08T00:00:00-04:00",
          "2024-10-09T00:00:00-04:00",
          "2024-10-10T00:00:00-04:00",
          "2024-10-11T00:00:00-04:00",
          "2024-10-14T00:00:00-04:00",
          "2024-10-15T00:00:00-04:00",
          "2024-10-16T00:00:00-04:00",
          "2024-10-17T00:00:00-04:00",
          "2024-10-18T00:00:00-04:00",
          "2024-10-21T00:00:00-04:00",
          "2024-10-22T00:00:00-04:00",
          "2024-10-23T00:00:00-04:00",
          "2024-10-24T00:00:00-04:00",
          "2024-10-25T00:00:00-04:00",
          "2024-10-28T00:00:00-04:00",
          "2024-10-29T00:00:00-04:00",
          "2024-10-30T00:00:00-04:00",
          "2024-10-31T00:00:00-04:00",
          "2024-11-01T00:00:00-04:00",
          "2024-11-04T00:00:00-05:00",
          "2024-11-05T00:00:00-05:00",
          "2024-11-06T00:00:00-05:00",
          "2024-11-07T00:00:00-05:00",
          "2024-11-08T00:00:00-05:00",
          "2024-11-11T00:00:00-05:00",
          "2024-11-12T00:00:00-05:00",
          "2024-11-13T00:00:00-05:00",
          "2024-11-14T00:00:00-05:00",
          "2024-11-15T00:00:00-05:00",
          "2024-11-18T00:00:00-05:00",
          "2024-11-19T00:00:00-05:00",
          "2024-11-20T00:00:00-05:00",
          "2024-11-21T00:00:00-05:00",
          "2024-11-22T00:00:00-05:00",
          "2024-11-25T00:00:00-05:00",
          "2024-11-26T00:00:00-05:00",
          "2024-11-27T00:00:00-05:00",
          "2024-11-29T00:00:00-05:00",
          "2024-12-02T00:00:00-05:00",
          "2024-12-03T00:00:00-05:00",
          "2024-12-04T00:00:00-05:00",
          "2024-12-05T00:00:00-05:00",
          "2024-12-06T00:00:00-05:00",
          "2024-12-09T00:00:00-05:00",
          "2024-12-10T00:00:00-05:00",
          "2024-12-11T00:00:00-05:00",
          "2024-12-12T00:00:00-05:00",
          "2024-12-13T00:00:00-05:00",
          "2024-12-16T00:00:00-05:00",
          "2024-12-17T00:00:00-05:00",
          "2024-12-18T00:00:00-05:00",
          "2024-12-19T00:00:00-05:00",
          "2024-12-20T00:00:00-05:00",
          "2024-12-23T00:00:00-05:00",
          "2024-12-24T00:00:00-05:00",
          "2024-12-26T00:00:00-05:00",
          "2024-12-27T00:00:00-05:00",
          "2024-12-30T00:00:00-05:00",
          "2024-12-31T00:00:00-05:00",
          "2025-01-02T00:00:00-05:00",
          "2025-01-03T00:00:00-05:00",
          "2025-01-06T00:00:00-05:00",
          "2025-01-07T00:00:00-05:00"
         ],
         "y": [
          null,
          null,
          null,
          null,
          null,
          null,
          null,
          null,
          null,
          null,
          null,
          null,
          null,
          4779950,
          4861685.714285715,
          5252642.857142857,
          5587764.285714285,
          6070350,
          6530992.857142857,
          6810778.571428572,
          7308364.285714285,
          7459021.428571428,
          7452200,
          7382607.142857143,
          7687285.714285715,
          7854242.857142857,
          7868107.142857143,
          8196250,
          8391828.57142857,
          8405792.857142856,
          9395450,
          9487400,
          9201135.714285715,
          9209150,
          9093728.57142857,
          9030514.285714285,
          8984450,
          9096057.142857144,
          9192107.142857144,
          8903457.142857144,
          8778578.57142857,
          8478221.42857143,
          8445350,
          8603428.57142857,
          7620942.857142857,
          7418564.285714285,
          7697864.285714285,
          7772028.571428572,
          8057678.571428572,
          8566135.714285715,
          8527471.42857143,
          8764457.142857144,
          8568785.714285715,
          8625264.285714285,
          8807221.42857143,
          8979135.714285715,
          8798850,
          8414778.57142857,
          8362457.142857143,
          8304964.285714285,
          8425128.57142857,
          8413807.142857144,
          7982878.571428572,
          7819242.857142857,
          8004664.285714285,
          7852985.714285715,
          7820335.714285715,
          7859142.857142857,
          7744750,
          7628192.857142857,
          7738264.285714285,
          8418807.142857144,
          8705907.142857144,
          8660742.857142856,
          9895692.857142856,
          10815814.285714285,
          11439307.142857144,
          11556578.57142857,
          11714042.857142856,
          11861000,
          11873800,
          11667442.857142856,
          11590707.142857144,
          11560950,
          11517235.714285715,
          10873692.857142856,
          10712492.857142856,
          10503985.714285715,
          8795721.42857143,
          7912250,
          7410850,
          7139042.857142857,
          6784807.142857143,
          6326571.428571428,
          6317514.285714285,
          6751950,
          7059857.142857143,
          7349735.714285715,
          7426471.428571428,
          7277907.142857143,
          7938735.714285715,
          8312414.285714285,
          8963442.857142856,
          9039300,
          9895107.142857144,
          10288992.857142856,
          10424464.285714285,
          10570571.42857143,
          10852207.142857144,
          10757892.857142856,
          10617550,
          10581035.714285715,
          10893378.57142857,
          11319271.42857143,
          10902714.285714285,
          10809421.42857143,
          10290628.57142857,
          10250585.714285715,
          9287114.285714285,
          9984171.42857143,
          10037121.42857143,
          10117871.42857143,
          9974800,
          9717107.142857144,
          9450107.142857144,
          9222442.857142856,
          8708257.142857144,
          8385457.142857143,
          8254728.571428572,
          8197414.285714285,
          8158750,
          8445935.714285715,
          8954464.285714285,
          7814157.142857143,
          7742950,
          7910557.142857143,
          8985442.857142856,
          9814000,
          10065814.285714285,
          10206664.285714285,
          10771142.857142856,
          11494892.857142856,
          11507635.714285715,
          12152400,
          12846421.42857143,
          12773050,
          12581528.57142857,
          12763107.142857144,
          12689700,
          12454028.57142857,
          11392242.857142856,
          10954342.857142856,
          10937935.714285715,
          10849550,
          10466271.42857143,
          9722521.42857143,
          9384985.714285715,
          8505592.857142856,
          7726478.571428572,
          7215771.428571428,
          6806250,
          6595700,
          6620200,
          6644450,
          6716557.142857143,
          6277992.857142857,
          6006921.428571428,
          6103457.142857143,
          6007378.571428572,
          5882928.571428572,
          6196064.285714285,
          6731885.714285715,
          6894300,
          6981092.857142857,
          6899342.857142857,
          7010792.857142857,
          7196257.142857143,
          7635885.714285715,
          7486771.428571428,
          7475057.142857143,
          7806671.428571428,
          7874728.571428572,
          7988021.428571428,
          8031792.857142857,
          7625321.428571428,
          7223835.714285715,
          7136107.142857143,
          7114428.571428572,
          7265592.857142857,
          7008492.857142857,
          6715907.142857143,
          6101485.714285715,
          6071492.857142857,
          6100492.857142857,
          6196450,
          5986407.142857143,
          6032128.571428572,
          5983521.428571428,
          6093964.285714285,
          6341407.142857143,
          7257050,
          7429157.142857143,
          7418714.285714285,
          7406085.714285715,
          7299457.142857143,
          7219142.857142857,
          7166392.857142857,
          7133107.142857143,
          6764664.285714285,
          6616342.857142857,
          6611035.714285715,
          6863100,
          6766435.714285715,
          6545492.857142857,
          5635164.285714285,
          5380964.285714285,
          5292592.857142857,
          5391821.428571428,
          5646600,
          6455228.571428572,
          6798021.428571428,
          7164371.428571428,
          7186250,
          7651685.714285715,
          7657571.428571428,
          7635278.571428572,
          7520764.285714285,
          7433292.857142857,
          7540228.571428572,
          7585357.142857143,
          8027814.285714285,
          7913335.714285715,
          8011371.428571428,
          7427985.714285715,
          6975407.142857143,
          6484535.714285715,
          6961621.428571428,
          6547292.857142857,
          6417885.714285715,
          6358557.142857143,
          6615500,
          6857564.285714285,
          6611400,
          6361614.285714285,
          5716921.428571428,
          5664121.428571428,
          5285835.714285715,
          5053600,
          5092064.285714285,
          5408614.285714285,
          5270421.428571428,
          5399598.857142857
         ]
        }
       ],
       "layout": {
        "template": {
         "data": {
          "bar": [
           {
            "error_x": {
             "color": "#2a3f5f"
            },
            "error_y": {
             "color": "#2a3f5f"
            },
            "marker": {
             "line": {
              "color": "#E5ECF6",
              "width": 0.5
             },
             "pattern": {
              "fillmode": "overlay",
              "size": 10,
              "solidity": 0.2
             }
            },
            "type": "bar"
           }
          ],
          "barpolar": [
           {
            "marker": {
             "line": {
              "color": "#E5ECF6",
              "width": 0.5
             },
             "pattern": {
              "fillmode": "overlay",
              "size": 10,
              "solidity": 0.2
             }
            },
            "type": "barpolar"
           }
          ],
          "carpet": [
           {
            "aaxis": {
             "endlinecolor": "#2a3f5f",
             "gridcolor": "white",
             "linecolor": "white",
             "minorgridcolor": "white",
             "startlinecolor": "#2a3f5f"
            },
            "baxis": {
             "endlinecolor": "#2a3f5f",
             "gridcolor": "white",
             "linecolor": "white",
             "minorgridcolor": "white",
             "startlinecolor": "#2a3f5f"
            },
            "type": "carpet"
           }
          ],
          "choropleth": [
           {
            "colorbar": {
             "outlinewidth": 0,
             "ticks": ""
            },
            "type": "choropleth"
           }
          ],
          "contour": [
           {
            "colorbar": {
             "outlinewidth": 0,
             "ticks": ""
            },
            "colorscale": [
             [
              0,
              "#0d0887"
             ],
             [
              0.1111111111111111,
              "#46039f"
             ],
             [
              0.2222222222222222,
              "#7201a8"
             ],
             [
              0.3333333333333333,
              "#9c179e"
             ],
             [
              0.4444444444444444,
              "#bd3786"
             ],
             [
              0.5555555555555556,
              "#d8576b"
             ],
             [
              0.6666666666666666,
              "#ed7953"
             ],
             [
              0.7777777777777778,
              "#fb9f3a"
             ],
             [
              0.8888888888888888,
              "#fdca26"
             ],
             [
              1,
              "#f0f921"
             ]
            ],
            "type": "contour"
           }
          ],
          "contourcarpet": [
           {
            "colorbar": {
             "outlinewidth": 0,
             "ticks": ""
            },
            "type": "contourcarpet"
           }
          ],
          "heatmap": [
           {
            "colorbar": {
             "outlinewidth": 0,
             "ticks": ""
            },
            "colorscale": [
             [
              0,
              "#0d0887"
             ],
             [
              0.1111111111111111,
              "#46039f"
             ],
             [
              0.2222222222222222,
              "#7201a8"
             ],
             [
              0.3333333333333333,
              "#9c179e"
             ],
             [
              0.4444444444444444,
              "#bd3786"
             ],
             [
              0.5555555555555556,
              "#d8576b"
             ],
             [
              0.6666666666666666,
              "#ed7953"
             ],
             [
              0.7777777777777778,
              "#fb9f3a"
             ],
             [
              0.8888888888888888,
              "#fdca26"
             ],
             [
              1,
              "#f0f921"
             ]
            ],
            "type": "heatmap"
           }
          ],
          "heatmapgl": [
           {
            "colorbar": {
             "outlinewidth": 0,
             "ticks": ""
            },
            "colorscale": [
             [
              0,
              "#0d0887"
             ],
             [
              0.1111111111111111,
              "#46039f"
             ],
             [
              0.2222222222222222,
              "#7201a8"
             ],
             [
              0.3333333333333333,
              "#9c179e"
             ],
             [
              0.4444444444444444,
              "#bd3786"
             ],
             [
              0.5555555555555556,
              "#d8576b"
             ],
             [
              0.6666666666666666,
              "#ed7953"
             ],
             [
              0.7777777777777778,
              "#fb9f3a"
             ],
             [
              0.8888888888888888,
              "#fdca26"
             ],
             [
              1,
              "#f0f921"
             ]
            ],
            "type": "heatmapgl"
           }
          ],
          "histogram": [
           {
            "marker": {
             "pattern": {
              "fillmode": "overlay",
              "size": 10,
              "solidity": 0.2
             }
            },
            "type": "histogram"
           }
          ],
          "histogram2d": [
           {
            "colorbar": {
             "outlinewidth": 0,
             "ticks": ""
            },
            "colorscale": [
             [
              0,
              "#0d0887"
             ],
             [
              0.1111111111111111,
              "#46039f"
             ],
             [
              0.2222222222222222,
              "#7201a8"
             ],
             [
              0.3333333333333333,
              "#9c179e"
             ],
             [
              0.4444444444444444,
              "#bd3786"
             ],
             [
              0.5555555555555556,
              "#d8576b"
             ],
             [
              0.6666666666666666,
              "#ed7953"
             ],
             [
              0.7777777777777778,
              "#fb9f3a"
             ],
             [
              0.8888888888888888,
              "#fdca26"
             ],
             [
              1,
              "#f0f921"
             ]
            ],
            "type": "histogram2d"
           }
          ],
          "histogram2dcontour": [
           {
            "colorbar": {
             "outlinewidth": 0,
             "ticks": ""
            },
            "colorscale": [
             [
              0,
              "#0d0887"
             ],
             [
              0.1111111111111111,
              "#46039f"
             ],
             [
              0.2222222222222222,
              "#7201a8"
             ],
             [
              0.3333333333333333,
              "#9c179e"
             ],
             [
              0.4444444444444444,
              "#bd3786"
             ],
             [
              0.5555555555555556,
              "#d8576b"
             ],
             [
              0.6666666666666666,
              "#ed7953"
             ],
             [
              0.7777777777777778,
              "#fb9f3a"
             ],
             [
              0.8888888888888888,
              "#fdca26"
             ],
             [
              1,
              "#f0f921"
             ]
            ],
            "type": "histogram2dcontour"
           }
          ],
          "mesh3d": [
           {
            "colorbar": {
             "outlinewidth": 0,
             "ticks": ""
            },
            "type": "mesh3d"
           }
          ],
          "parcoords": [
           {
            "line": {
             "colorbar": {
              "outlinewidth": 0,
              "ticks": ""
             }
            },
            "type": "parcoords"
           }
          ],
          "pie": [
           {
            "automargin": true,
            "type": "pie"
           }
          ],
          "scatter": [
           {
            "fillpattern": {
             "fillmode": "overlay",
             "size": 10,
             "solidity": 0.2
            },
            "type": "scatter"
           }
          ],
          "scatter3d": [
           {
            "line": {
             "colorbar": {
              "outlinewidth": 0,
              "ticks": ""
             }
            },
            "marker": {
             "colorbar": {
              "outlinewidth": 0,
              "ticks": ""
             }
            },
            "type": "scatter3d"
           }
          ],
          "scattercarpet": [
           {
            "marker": {
             "colorbar": {
              "outlinewidth": 0,
              "ticks": ""
             }
            },
            "type": "scattercarpet"
           }
          ],
          "scattergeo": [
           {
            "marker": {
             "colorbar": {
              "outlinewidth": 0,
              "ticks": ""
             }
            },
            "type": "scattergeo"
           }
          ],
          "scattergl": [
           {
            "marker": {
             "colorbar": {
              "outlinewidth": 0,
              "ticks": ""
             }
            },
            "type": "scattergl"
           }
          ],
          "scattermapbox": [
           {
            "marker": {
             "colorbar": {
              "outlinewidth": 0,
              "ticks": ""
             }
            },
            "type": "scattermapbox"
           }
          ],
          "scatterpolar": [
           {
            "marker": {
             "colorbar": {
              "outlinewidth": 0,
              "ticks": ""
             }
            },
            "type": "scatterpolar"
           }
          ],
          "scatterpolargl": [
           {
            "marker": {
             "colorbar": {
              "outlinewidth": 0,
              "ticks": ""
             }
            },
            "type": "scatterpolargl"
           }
          ],
          "scatterternary": [
           {
            "marker": {
             "colorbar": {
              "outlinewidth": 0,
              "ticks": ""
             }
            },
            "type": "scatterternary"
           }
          ],
          "surface": [
           {
            "colorbar": {
             "outlinewidth": 0,
             "ticks": ""
            },
            "colorscale": [
             [
              0,
              "#0d0887"
             ],
             [
              0.1111111111111111,
              "#46039f"
             ],
             [
              0.2222222222222222,
              "#7201a8"
             ],
             [
              0.3333333333333333,
              "#9c179e"
             ],
             [
              0.4444444444444444,
              "#bd3786"
             ],
             [
              0.5555555555555556,
              "#d8576b"
             ],
             [
              0.6666666666666666,
              "#ed7953"
             ],
             [
              0.7777777777777778,
              "#fb9f3a"
             ],
             [
              0.8888888888888888,
              "#fdca26"
             ],
             [
              1,
              "#f0f921"
             ]
            ],
            "type": "surface"
           }
          ],
          "table": [
           {
            "cells": {
             "fill": {
              "color": "#EBF0F8"
             },
             "line": {
              "color": "white"
             }
            },
            "header": {
             "fill": {
              "color": "#C8D4E3"
             },
             "line": {
              "color": "white"
             }
            },
            "type": "table"
           }
          ]
         },
         "layout": {
          "annotationdefaults": {
           "arrowcolor": "#2a3f5f",
           "arrowhead": 0,
           "arrowwidth": 1
          },
          "autotypenumbers": "strict",
          "coloraxis": {
           "colorbar": {
            "outlinewidth": 0,
            "ticks": ""
           }
          },
          "colorscale": {
           "diverging": [
            [
             0,
             "#8e0152"
            ],
            [
             0.1,
             "#c51b7d"
            ],
            [
             0.2,
             "#de77ae"
            ],
            [
             0.3,
             "#f1b6da"
            ],
            [
             0.4,
             "#fde0ef"
            ],
            [
             0.5,
             "#f7f7f7"
            ],
            [
             0.6,
             "#e6f5d0"
            ],
            [
             0.7,
             "#b8e186"
            ],
            [
             0.8,
             "#7fbc41"
            ],
            [
             0.9,
             "#4d9221"
            ],
            [
             1,
             "#276419"
            ]
           ],
           "sequential": [
            [
             0,
             "#0d0887"
            ],
            [
             0.1111111111111111,
             "#46039f"
            ],
            [
             0.2222222222222222,
             "#7201a8"
            ],
            [
             0.3333333333333333,
             "#9c179e"
            ],
            [
             0.4444444444444444,
             "#bd3786"
            ],
            [
             0.5555555555555556,
             "#d8576b"
            ],
            [
             0.6666666666666666,
             "#ed7953"
            ],
            [
             0.7777777777777778,
             "#fb9f3a"
            ],
            [
             0.8888888888888888,
             "#fdca26"
            ],
            [
             1,
             "#f0f921"
            ]
           ],
           "sequentialminus": [
            [
             0,
             "#0d0887"
            ],
            [
             0.1111111111111111,
             "#46039f"
            ],
            [
             0.2222222222222222,
             "#7201a8"
            ],
            [
             0.3333333333333333,
             "#9c179e"
            ],
            [
             0.4444444444444444,
             "#bd3786"
            ],
            [
             0.5555555555555556,
             "#d8576b"
            ],
            [
             0.6666666666666666,
             "#ed7953"
            ],
            [
             0.7777777777777778,
             "#fb9f3a"
            ],
            [
             0.8888888888888888,
             "#fdca26"
            ],
            [
             1,
             "#f0f921"
            ]
           ]
          },
          "colorway": [
           "#636efa",
           "#EF553B",
           "#00cc96",
           "#ab63fa",
           "#FFA15A",
           "#19d3f3",
           "#FF6692",
           "#B6E880",
           "#FF97FF",
           "#FECB52"
          ],
          "font": {
           "color": "#2a3f5f"
          },
          "geo": {
           "bgcolor": "white",
           "lakecolor": "white",
           "landcolor": "#E5ECF6",
           "showlakes": true,
           "showland": true,
           "subunitcolor": "white"
          },
          "hoverlabel": {
           "align": "left"
          },
          "hovermode": "closest",
          "mapbox": {
           "style": "light"
          },
          "paper_bgcolor": "white",
          "plot_bgcolor": "#E5ECF6",
          "polar": {
           "angularaxis": {
            "gridcolor": "white",
            "linecolor": "white",
            "ticks": ""
           },
           "bgcolor": "#E5ECF6",
           "radialaxis": {
            "gridcolor": "white",
            "linecolor": "white",
            "ticks": ""
           }
          },
          "scene": {
           "xaxis": {
            "backgroundcolor": "#E5ECF6",
            "gridcolor": "white",
            "gridwidth": 2,
            "linecolor": "white",
            "showbackground": true,
            "ticks": "",
            "zerolinecolor": "white"
           },
           "yaxis": {
            "backgroundcolor": "#E5ECF6",
            "gridcolor": "white",
            "gridwidth": 2,
            "linecolor": "white",
            "showbackground": true,
            "ticks": "",
            "zerolinecolor": "white"
           },
           "zaxis": {
            "backgroundcolor": "#E5ECF6",
            "gridcolor": "white",
            "gridwidth": 2,
            "linecolor": "white",
            "showbackground": true,
            "ticks": "",
            "zerolinecolor": "white"
           }
          },
          "shapedefaults": {
           "line": {
            "color": "#2a3f5f"
           }
          },
          "ternary": {
           "aaxis": {
            "gridcolor": "white",
            "linecolor": "white",
            "ticks": ""
           },
           "baxis": {
            "gridcolor": "white",
            "linecolor": "white",
            "ticks": ""
           },
           "bgcolor": "#E5ECF6",
           "caxis": {
            "gridcolor": "white",
            "linecolor": "white",
            "ticks": ""
           }
          },
          "title": {
           "x": 0.05
          },
          "xaxis": {
           "automargin": true,
           "gridcolor": "white",
           "linecolor": "white",
           "ticks": "",
           "title": {
            "standoff": 15
           },
           "zerolinecolor": "white",
           "zerolinewidth": 2
          },
          "yaxis": {
           "automargin": true,
           "gridcolor": "white",
           "linecolor": "white",
           "ticks": "",
           "title": {
            "standoff": 15
           },
           "zerolinecolor": "white",
           "zerolinewidth": 2
          }
         }
        },
        "title": {
         "text": "VRT"
        }
       }
      }
     },
     "metadata": {},
     "output_type": "display_data"
    }
   ],
   "source": [
    "from finta import TA\n",
    "\n",
    "data = t.history(period='1y', rounding=True)\n",
    "data['ema10'] = TA.EMA(data, 10)\n",
    "data['sma30'] = TA.SMA(data, 30)\n",
    "\n",
    "import plotly.graph_objects as go\n",
    "\n",
    "# Stock and moving averages\n",
    "fig = go.Figure(data=[\n",
    "                go.Candlestick(\n",
    "                    x = data.index, # date values\n",
    "                    open  = data['Open'],\n",
    "                    high  = data['High'],\n",
    "                    low   = data['Low'],\n",
    "                    close = data['Close'],\n",
    "                    name = STOCK\n",
    "                ),\n",
    "         \n",
    "                go.Scatter( x=data['ema10'].index,\n",
    "                            y=data['ema10'],\n",
    "                            name='EMA 10',\n",
    "                            line=dict(color='blue',\n",
    "                                      width=2,\n",
    "                                      shape='spline'), # smooth the line\n",
    "                            ),\n",
    "        \n",
    "                go.Scatter( x=data['sma30'].index,\n",
    "                            y=data['sma30'],\n",
    "                            name='SMA 30',\n",
    "                            line=dict(color='purple',\n",
    "                                      width=2,\n",
    "                                      shape='spline'), # smooth the line\n",
    "                            ),\n",
    "                \n",
    "                ])\n",
    "fig.update_layout(xaxis_rangeslider_visible=False, title=f\"{STOCK}\")\n",
    "fig.show()\n",
    "\n",
    "# Volume\n",
    "data['vol_avg'] = data['Volume'].rolling(14).mean()\n",
    "fig1 = go.Figure(\n",
    "    data = [\n",
    "        go.Bar(x=data.index, y=data['Volume'], name='Volume'),\n",
    "        go.Scatter(x=data.index, y=data['vol_avg'], name='Average')\n",
    "    ])\n",
    "\n",
    "fig1.update_layout(title=f\"{STOCK}\")\n",
    "fig1.show()\n"
   ]
  },
  {
   "cell_type": "code",
   "execution_count": 104,
   "metadata": {},
   "outputs": [
    {
     "name": "stdout",
     "output_type": "stream",
     "text": [
      "STOCK:  VRT\n",
      "\u001b[90m ●  VIX has crossed up\n",
      "\u001b[90m ●  VIX has crossed down\n",
      "\u001b[92m ●  MACD has crossed up\n",
      "\u001b[90m ●  MACD has crossed down\n",
      "\u001b[90m ●  Stochastic has crossed up\n",
      "\u001b[90m ●  Stochastic has crossed down\n",
      "\u001b[92m ●  Moving average is bullish\n",
      "\u001b[90m ●  Moving average is reversing\n",
      "\u001b[90m ●  Moving average cross down\n",
      "\u001b[90m ●  Moving average cross up\n",
      "\u001b[90m ●  Moving average is bearish\n",
      "\u001b[90m ●  Moving average price crossed below \n",
      "\u001b[90m ●  Moving average price crossed above \n",
      "\u001b[90m ●  52 week low \n",
      "\u001b[90m ●  52 week high \n",
      "\u001b[90m ●  RSI oversold (30)\n",
      "\u001b[90m ●  RSI overbought (70)\n",
      "\u001b[90m ●  RSI 52 week low\n",
      "\u001b[90m ●  RSI 52 week high\n",
      "\u001b[90m ●  Resistance break up\n",
      "\u001b[90m ●  Support break down\n",
      "\u001b[90m ●  Close Above High Of Low Day\n",
      "\u001b[92m ●  Close Below Low Of High Day\n",
      "\u001b[90m ●  Volume high\n"
     ]
    }
   ],
   "source": [
    "\n",
    "from yfinance_utils import signals_utils\n",
    "#\n",
    "#Red = '\\033[91m'\n",
    "#Green = '\\033[92m'\n",
    "#Blue = '\\033[94m'\n",
    "#Cyan = '\\033[96m'\n",
    "#White = '\\033[97m'\n",
    "#Yellow = '\\033[93m'\n",
    "#Magenta = '\\033[95m'\n",
    "#Grey = '\\033[90m'\n",
    "#Black = '\\033[90m'\n",
    "#Default = '\\033[99m'\n",
    "\n",
    "def get_color_dot(c):\n",
    "    if c:\n",
    "        return\"\\033[92m ● \"  # Green dot\n",
    "    else:\n",
    "        return\"\\033[90m ● \"  # Grey dot\n",
    "\n",
    "print(f\"STOCK:  {STOCK}\")\n",
    "print(f\"{get_color_dot(signals_utils.is_vix_hma_cross_up(day=2))} VIX has crossed up\")\n",
    "print(f\"{get_color_dot(signals_utils.is_vix_hma_cross_up(day=2))} VIX has crossed down\")\n",
    "print(f\"{get_color_dot(signals_utils.is_macd_cross_up(data))} MACD has crossed up\")\n",
    "print(f\"{get_color_dot(signals_utils.is_macd_cross_down(data))} MACD has crossed down\")\n",
    "print(f\"{get_color_dot(signals_utils.is_stochastic_cross_up(data))} Stochastic has crossed up\")\n",
    "print(f\"{get_color_dot(signals_utils.is_stochastic_cross_down(data))} Stochastic has crossed down\")\n",
    "print(f\"{get_color_dot(signals_utils.is_ma_bullish_trend(data))} Moving average is bullish\")\n",
    "print(f\"{get_color_dot(signals_utils.is_ma_trend_reversing(data))} Moving average is reversing\")\n",
    "print(f\"{get_color_dot(signals_utils.is_ma_cross_down(data))} Moving average cross down\")\n",
    "print(f\"{get_color_dot(signals_utils.is_ma_cross_up(data))} Moving average cross up\")\n",
    "print(f\"{get_color_dot(signals_utils.is_ma_bearish_trend(data))} Moving average is bearish\")\n",
    "print(f\"{get_color_dot(signals_utils.is_ma_price_cross_down(data))} Moving average price crossed below \")\n",
    "print(f\"{get_color_dot(signals_utils.is_ma_price_cross_up(data))} Moving average price crossed above \")\n",
    "print(f\"{get_color_dot(signals_utils.is_price_year_low(data))} 52 week low \")\n",
    "print(f\"{get_color_dot(signals_utils.is_price_year_high(data))} 52 week high \")\n",
    "print(f\"{get_color_dot(signals_utils.is_rsi_oversold(data))} RSI oversold (30)\")\n",
    "print(f\"{get_color_dot(signals_utils.is_rsi_overbough(data))} RSI overbought (70)\")\n",
    "print(f\"{get_color_dot(signals_utils.is_price_year_low(data))} RSI 52 week low\")\n",
    "print(f\"{get_color_dot(signals_utils.is_price_year_high(data))} RSI 52 week high\")\n",
    "print(f\"{get_color_dot(signals_utils.is_resistance_breake_up(data))} Resistance break up\")\n",
    "print(f\"{get_color_dot(signals_utils.is_support_breake_down(data))} Support break down\")\n",
    "print(f\"{get_color_dot(signals_utils.is_cahold(data))} Close Above High Of Low Day\")\n",
    "print(f\"{get_color_dot(signals_utils.is_cblohd(data))} Close Below Low Of High Day\")\n",
    "print(f\"{get_color_dot(signals_utils.is_high_volume(data))} Volume high\")\n"
   ]
  },
  {
   "cell_type": "code",
   "execution_count": 105,
   "metadata": {},
   "outputs": [
    {
     "name": "stdout",
     "output_type": "stream",
     "text": [
      "Stock                        : VRT\n",
      "Price                        : 130.64\n",
      "Put Call Ratio               : 1.04\n",
      "Current Ratio                : 1.38\n",
      "Book Value per Share         : 4.83\n",
      "\n",
      "REMEMBER PERIODS ARE READ RIGHT TO LEFT\n",
      "\n",
      "                              PERIOD_0  PERIOD_1                    CHANGE\n",
      "NAME                                                                      \n",
      "Revenue MM                      460.20     76.60   \u001b[92m UP 501.0% ● \u001b[97m\n",
      "Average Assets MM              7547.10   7017.65     \u001b[92m UP 8.0% ● \u001b[97m\n",
      "Average Inventory MM            853.15    719.15    \u001b[92m UP 19.0% ● \u001b[97m\n",
      "Revenue per Share                17.77     15.05    \u001b[92m UP 18.0% ● \u001b[97m\n",
      "Earnings per Share                1.19      0.04  \u001b[92m UP 2875.0% ● \u001b[97m\n",
      "Share Price to Earnings         109.78    109.78   \u001b[91m DOWN 0.0% ● \u001b[97m\n",
      "Price to Sales                    7.35      7.35   \u001b[91m DOWN 0.0% ● \u001b[97m\n",
      "Acid Test Ratio                   1.35      1.23    \u001b[92m UP 10.0% ● \u001b[97m\n",
      "Cash Ratio                        0.34      0.14   \u001b[92m UP 147.0% ● \u001b[97m\n",
      "Operating Cash Flow Ratio         0.39     -0.08   \u001b[92m UP 585.0% ● \u001b[97m\n",
      "Debt Ratio                        0.75      0.80   \u001b[91m DOWN 6.0% ● \u001b[97m\n",
      "Debt to Equity Ratio              2.97      3.92  \u001b[91m DOWN 24.0% ● \u001b[97m\n",
      "Interest Coverage Ratio           5.09      1.55   \u001b[92m UP 229.0% ● \u001b[97m\n",
      "Service Coverage Ratio            0.29      0.07   \u001b[92m UP 334.0% ● \u001b[97m\n",
      "Asset Turnover Ratio              0.06      0.01   \u001b[92m UP 459.0% ● \u001b[97m\n",
      "Inventory Turnover Ratio          6.21      7.67  \u001b[91m DOWN 19.0% ● \u001b[97m\n",
      "Day Sales in Inventory Ratio      0.00      0.00  \u001b[91m DOWN 16.0% ● \u001b[97m\n",
      "Return on Assets Ratio            0.06      0.01   \u001b[92m UP 433.0% ● \u001b[97m\n",
      "Return on Equity Ratio            0.23      0.05   \u001b[92m UP 330.0% ● \u001b[97m\n"
     ]
    }
   ],
   "source": [
    "from yfinance_utils import ratio_utils\n",
    "import pandas as pd\n",
    "\n",
    "print(f\"Stock                        : {STOCK}\")\n",
    "print(f\"Price                        : {t.history()['Close'].iloc[-1].round(2)}\")\n",
    "print(f\"Put Call Ratio               : {ratio_utils.get_put_call_ratio(t):,.2f}\")\n",
    "print(f\"Current Ratio                : {ratio_utils.get_current_ratio(t):,.2f}\")\n",
    "print(f\"Book Value per Share         : {ratio_utils.get_book_value_per_share_ratio(t):,.2f}\")\n",
    "print(\"\")\n",
    "\n",
    "df = pd.DataFrame()\n",
    "\n",
    "ls_name = [\n",
    "    'Revenue MM'                  ,\n",
    "    'Average Assets MM'           ,\n",
    "    'Average Inventory MM'        ,\n",
    "    'Revenue per Share'           ,\n",
    "    'Earnings per Share'          ,\n",
    "    'Share Price to Earnings'     ,\n",
    "    'Price to Sales'              ,\n",
    "    'Acid Test Ratio'             ,\n",
    "    'Cash Ratio'                  ,\n",
    "    'Operating Cash Flow Ratio'   ,\n",
    "    'Debt Ratio'                  ,\n",
    "    'Debt to Equity Ratio'        ,\n",
    "    'Interest Coverage Ratio'     ,\n",
    "    'Service Coverage Ratio'      ,\n",
    "    'Asset Turnover Ratio'        ,\n",
    "    'Inventory Turnover Ratio'    ,\n",
    "    'Day Sales in Inventory Ratio',\n",
    "    'Return on Assets Ratio'      , \n",
    "    'Return on Equity Ratio'\n",
    "]\n",
    "\n",
    "for i in range(1,3):\n",
    "    name = ls_name\n",
    "    \n",
    "df['NAME'] = ls_name\n",
    "df.set_index('NAME',inplace=True)\n",
    "\n",
    "for i in range(2):\n",
    "    ls = []\n",
    "    ls.append(ratio_utils.get_net_revenue(t, period = i)/1000000)\n",
    "    ls.append(ratio_utils.get_avg_assets(t, period = i)/1000000)\n",
    "    ls.append(ratio_utils.get_avg_inventory(t, period = i)/1000000)\n",
    "    ls.append(ratio_utils.get_revenue_per_share(t, period = i))\n",
    "    ls.append(ratio_utils.get_earnings_per_share(t, period = i))\n",
    "    ls.append(ratio_utils.get_price_to_earnings(t, period = i))\n",
    "    ls.append(ratio_utils.get_price_to_sales(t, period = i))\n",
    "    ls.append(ratio_utils.get_acid_test_ratio(t, period = i))\n",
    "    ls.append(ratio_utils.get_cash_ratio(t, period = i))\n",
    "    ls.append(ratio_utils.get_operating_cash_flow_ratio(t, period = i))\n",
    "    ls.append(ratio_utils.get_debt_ratio(t, period = i))\n",
    "    ls.append(ratio_utils.get_debt_to_equity_ratio(t, period = i))\n",
    "    ls.append(ratio_utils.get_interest_coverage_ratio(t, period = i))\n",
    "    ls.append(ratio_utils.get_service_coverage_ratio(t, period = i))\n",
    "    ls.append(ratio_utils.get_asset_turnover_ratio(t, period = i))\n",
    "    ls.append(ratio_utils.get_inventory_turnover_ratio(t, period = i))\n",
    "    ls.append(ratio_utils.get_day_sales_in_inventory_ratio(t, period = i))\n",
    "    ls.append(ratio_utils.get_return_on_assets_ratio(t, period = i))\n",
    "    ls.append(ratio_utils.get_return_on_equity(t, period = i))\n",
    "    df[f\"PERIOD_{i}\"] = ls\n",
    "\n",
    "direction = []\n",
    "for i in range(len(df)):\n",
    "    if df['PERIOD_0'].iloc[i] > df['PERIOD_1'].iloc[i]:\n",
    "        pct = round(((df['PERIOD_0'].iloc[i] / df['PERIOD_1'].iloc[i]) - 1) * 100,0)\n",
    "        direction.append(f\"\\033[92m UP {abs(pct)}% ● \\033[97m\")\n",
    "    else:\n",
    "        pct = round(((1-((df['PERIOD_0'].iloc[i] / df['PERIOD_1'].iloc[i])))*100),0)\n",
    "        direction.append(f\"\\033[91m DOWN {abs(pct)}% ● \\033[97m\")\n",
    "df['CHANGE'] = direction\n",
    "\n",
    "print(\"REMEMBER PERIODS ARE READ RIGHT TO LEFT\")\n",
    "print('')\n",
    "print(df.round(2))"
   ]
  }
 ],
 "metadata": {
  "kernelspec": {
   "display_name": ".venv",
   "language": "python",
   "name": "python3"
  },
  "language_info": {
   "codemirror_mode": {
    "name": "ipython",
    "version": 3
   },
   "file_extension": ".py",
   "mimetype": "text/x-python",
   "name": "python",
   "nbconvert_exporter": "python",
   "pygments_lexer": "ipython3",
   "version": "3.9.6"
  }
 },
 "nbformat": 4,
 "nbformat_minor": 2
}
